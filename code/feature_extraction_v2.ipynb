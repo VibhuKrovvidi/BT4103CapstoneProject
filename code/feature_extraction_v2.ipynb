{
 "cells": [
  {
   "cell_type": "code",
   "execution_count": 314,
   "id": "instructional-draft",
   "metadata": {},
   "outputs": [
    {
     "name": "stderr",
     "output_type": "stream",
     "text": [
      "Downloading https://raw.githubusercontent.com/stanfordnlp/stanza-resources/master/resources_1.2.0.json: 128kB [00:00, 18.4MB/s]\n",
      "2021-03-08 17:52:01 INFO: Downloading default packages for language: en (English)...\n",
      "2021-03-08 17:52:02 INFO: File exists: C:\\Users\\vibkr\\stanza_resources\\en\\default.zip.\n",
      "2021-03-08 17:52:05 INFO: Finished downloading models and saved to C:\\Users\\vibkr\\stanza_resources.\n",
      "[nltk_data] Downloading package stopwords to\n",
      "[nltk_data]     C:\\Users\\vibkr\\AppData\\Roaming\\nltk_data...\n",
      "[nltk_data]   Package stopwords is already up-to-date!\n",
      "[nltk_data] Downloading package punkt to\n",
      "[nltk_data]     C:\\Users\\vibkr\\AppData\\Roaming\\nltk_data...\n",
      "[nltk_data]   Package punkt is already up-to-date!\n",
      "[nltk_data] Downloading package averaged_perceptron_tagger to\n",
      "[nltk_data]     C:\\Users\\vibkr\\AppData\\Roaming\\nltk_data...\n",
      "[nltk_data]   Package averaged_perceptron_tagger is already up-to-\n",
      "[nltk_data]       date!\n"
     ]
    },
    {
     "data": {
      "text/plain": [
       "True"
      ]
     },
     "execution_count": 314,
     "metadata": {},
     "output_type": "execute_result"
    }
   ],
   "source": [
    "import pandas as pd\n",
    "import numpy as np\n",
    "import nltk\n",
    "import regex\n",
    "from tqdm import tqdm\n",
    "from nltk.corpus import stopwords\n",
    "from nltk.corpus import wordnet\n",
    "from nltk.tokenize import word_tokenize, sent_tokenize\n",
    "from nltk.stem.wordnet import WordNetLemmatizer \n",
    "from sklearn.feature_extraction.text import TfidfVectorizer\n",
    "import stanza\n",
    "stanza.download('en') # download English model\n",
    "nltk.download('stopwords')\n",
    "nltk.download('punkt')\n",
    "nltk.download('averaged_perceptron_tagger')"
   ]
  },
  {
   "cell_type": "code",
   "execution_count": 315,
   "id": "constant-remains",
   "metadata": {},
   "outputs": [],
   "source": [
    "def feature_extraction(txt, nlp):\n",
    "\n",
    "    sentList = nltk.sent_tokenize(txt)\n",
    "\n",
    "    retlist = [];\n",
    "    \n",
    "    for line in sentList:\n",
    "        \n",
    "        txt_list = nltk.word_tokenize(line)\n",
    "        taggedList = nltk.pos_tag(txt_list)\n",
    "        \n",
    "        newwordList = []\n",
    "        flag = 0\n",
    "        for i in range(0,len(taggedList)-1):\n",
    "            if(taggedList[i][1]==\"NN\" and taggedList[i+1][1]==\"NN\"):\n",
    "                newwordList.append(taggedList[i][0]+taggedList[i+1][0])\n",
    "                flag=1\n",
    "            else:\n",
    "                if(flag==1):\n",
    "                    flag=0\n",
    "                    continue\n",
    "                newwordList.append(taggedList[i][0])\n",
    "                if(i==len(taggedList)-2):\n",
    "                    newwordList.append(taggedList[i+1][0])\n",
    "        finaltxt = ' '.join(word for word in newwordList)\n",
    "    \n",
    "    \n",
    "        stop_words = set(stopwords.words('english'))\n",
    "        new_txt_list = nltk.word_tokenize(finaltxt)\n",
    "        wordsList = [w for w in new_txt_list if not w in stop_words]\n",
    "        taggedList = nltk.pos_tag(wordsList)\n",
    "        \n",
    "        doc = nlp(finaltxt)\n",
    "        dep_node = []\n",
    "        try:\n",
    "            for dep_edge in doc.sentences[0].dependencies:\n",
    "                dep_node.append([dep_edge[2].text, dep_edge[0].id, dep_edge[1]])\n",
    "            for i in range(0, len(dep_node)):\n",
    "                if (int(dep_node[i][1]) != 0):\n",
    "                    dep_node[i][1] = newwordList[(int(dep_node[i][1]) - 1)]\n",
    "        except:\n",
    "            pass;\n",
    "        \n",
    "        #print(dep_node)\n",
    "        \n",
    "        featureList = []\n",
    "        categories = []\n",
    "        for i in taggedList:\n",
    "            if(i[1]=='JJ' or i[1]=='NN' or i[1]=='JJR' or i[1]=='NNS' or i[1]=='RB'):\n",
    "                featureList.append(list(i))\n",
    "                categories.append(i[0])\n",
    "        #print(featureList)\n",
    "        #print(categories)\n",
    "        \n",
    "        \n",
    "        fcluster = []\n",
    "        for i in featureList:\n",
    "            filist = []\n",
    "            for j in dep_node:\n",
    "                if((j[0]==i[0] or j[1]==i[0]) and (j[2] in [\n",
    "                    # Different types of words that are identified as potential features\n",
    "                    \"nsubj\",\n",
    "                    \"acl:relcl\",\n",
    "                    \"obj\",\n",
    "                    \"dobj\",\n",
    "                    \"agent\",\n",
    "                    \"advmod\",\n",
    "                    \"amod\",\n",
    "                    \"neg\",\n",
    "                    \"prep_of\",\n",
    "                    \"acomp\",\n",
    "                    \"xcomp\",\n",
    "                    \"compound\"\n",
    "                ])):\n",
    "                    if(j[0]==i[0]):\n",
    "                        filist.append(j[1])\n",
    "                    else:\n",
    "                        filist.append(j[0])\n",
    "            fcluster.append([i[0], filist])\n",
    "        print(fcluster) \n",
    "        \n",
    "        # Remove all features with no sentiment word:\n",
    "        \n",
    "        retlist.append(fcluster)\n",
    "    return retlist;\n",
    "    "
   ]
  },
  {
   "cell_type": "code",
   "execution_count": 316,
   "id": "approved-burner",
   "metadata": {},
   "outputs": [],
   "source": [
    "def do_extraction(df, nlp, feat_count, feat_sent, content_str = \"Content\"):\n",
    "    idx = 0;\n",
    "    # Replace \"\" with nan's for removal\n",
    "    df[content_str].replace('', np.nan, inplace=True)\n",
    "    df.dropna(subset=[content_str], inplace=True)\n",
    "    \n",
    "    review_list = df[content_str].to_list()\n",
    "    #feat_count = dict()\n",
    "    #feat_sent = dict()\n",
    "    #nlp = stanza.Pipeline('en')\n",
    "    \n",
    "    \n",
    "    \n",
    "    \n",
    "    print(\" Processing : \" , df.shape[0], \"rows of data\")\n",
    "    for review in tqdm(review_list):\n",
    "        print(\"Review Number : \", idx);\n",
    "        \n",
    "        # Some data pre-processing\n",
    "        \n",
    "        review = review.lower()\n",
    "        \n",
    "        # Merge hyphenated words\n",
    "        separate = review.split('-')\n",
    "        review = ''.join(separate)\n",
    "        \n",
    "        # Remove non-alphabets\n",
    "        review = re.sub(r'[^a-z\\s\\t]', '', review)\n",
    "        \n",
    "        idx += 1;\n",
    "        if idx >= df.shape[0]:\n",
    "            break;\n",
    "        try:\n",
    "            output = feature_extraction(review, nlp);\n",
    "        except:\n",
    "            pass;\n",
    "        for sent in output:\n",
    "            for pair in sent:\n",
    "                print(pair)\n",
    "                if pair[0] in feat_sent:\n",
    "                    if pair[1] is not None:\n",
    "                        flist = feat_sent[pair[0]]\n",
    "                        if isinstance(pair[1], list):\n",
    "                            for i in pair[1]:\n",
    "                                flist.append(i)\n",
    "                        else:\n",
    "                            flist.append(pair[1])\n",
    "                        feat_sent[pair[0]] = flist;\n",
    "                else:\n",
    "                    if pair[1] is not None:\n",
    "                        flist = pair[1]\n",
    "                    else:\n",
    "                        flist = list()\n",
    "                    feat_sent[pair[0]] = flist;\n",
    "                \n",
    "                if pair[0] in feat_count:\n",
    "                    feat_count[pair[0]] = feat_count[pair[0]] + 1;\n",
    "                else:\n",
    "                    feat_count[pair[0]] = 1\n",
    "    \n",
    "    return feat_count, feat_sent;"
   ]
  },
  {
   "cell_type": "code",
   "execution_count": 317,
   "id": "final-peripheral",
   "metadata": {},
   "outputs": [],
   "source": [
    "def get_sentiment(feat_count, feat_sent, nlp):\n",
    "\n",
    "    sentiment_score = dict()\n",
    "\n",
    "    # Delete features with no descriptors\n",
    "    cob = feat_sent.copy()\n",
    "    for feat in cob.keys():\n",
    "        #print(cob[feat])\n",
    "        \n",
    "        if cob[feat] == []:\n",
    "            del feat_sent[feat]\n",
    "        else:\n",
    "            feat_sent[feat] = ' ,'.join(feat_sent[feat])\n",
    "\n",
    "    # Run pre-built sentiment score and take avg of all descriptors\n",
    "    for f in tqdm(feat_sent.keys()):\n",
    "        print(\"Calculating Sentiment for: \", f);\n",
    "        ssum = 0;\n",
    "        for g in feat_sent[f]:\n",
    "            try:\n",
    "                doc = nlp(g);\n",
    "\n",
    "                for i in doc.sentences:\n",
    "\n",
    "                        #print(i.sentiment)\n",
    "                        ssum += i.sentiment;\n",
    "            except:\n",
    "                pass;\n",
    "\n",
    "        sentiment_score[f] = ssum / len(b[f])\n",
    "\n",
    "    adf = pd.DataFrame.from_dict(feat_count, orient='index', columns=['Freq'])\n",
    "    adf.sort_values(by=\"Freq\", ascending=False, inplace = True)\n",
    "\n",
    "    \n",
    "\n",
    "    avg_sent = pd.DataFrame.from_dict(sentiment_score, orient='index', columns=[\"Avg_sent\"])\n",
    "    desc_words = pd.DataFrame.from_dict(feat_sent, orient=\"index\", columns=[\"Descriptors\"])\n",
    "    \n",
    "    avg_sent = avg_sent.merge(desc_words, left_index=True, right_index=True)\n",
    "    \n",
    "    \n",
    "    final_sent = avg_sent.merge(adf, left_index=True, right_index=True)\n",
    "    final_sent.sort_values(by=\"Freq\", ascending=False, inplace=True)\n",
    "    return final_sent;"
   ]
  },
  {
   "cell_type": "code",
   "execution_count": 318,
   "id": "horizontal-peter",
   "metadata": {
    "scrolled": true
   },
   "outputs": [
    {
     "name": "stderr",
     "output_type": "stream",
     "text": [
      "2021-03-08 17:52:05 INFO: Loading these models for language: en (English):\n",
      "=========================\n",
      "| Processor | Package   |\n",
      "-------------------------\n",
      "| tokenize  | combined  |\n",
      "| pos       | combined  |\n",
      "| lemma     | combined  |\n",
      "| depparse  | combined  |\n",
      "| sentiment | sstplus   |\n",
      "| ner       | ontonotes |\n",
      "=========================\n",
      "\n",
      "2021-03-08 17:52:05 INFO: Use device: cpu\n",
      "2021-03-08 17:52:05 INFO: Loading: tokenize\n",
      "2021-03-08 17:52:05 INFO: Loading: pos\n",
      "2021-03-08 17:52:06 INFO: Loading: lemma\n",
      "2021-03-08 17:52:06 INFO: Loading: depparse\n",
      "2021-03-08 17:52:06 INFO: Loading: sentiment\n",
      "2021-03-08 17:52:06 INFO: Loading: ner\n",
      "2021-03-08 17:52:07 INFO: Done loading processors!\n",
      "  0%|                                                                                           | 0/52 [00:00<?, ?it/s]"
     ]
    },
    {
     "name": "stdout",
     "output_type": "stream",
     "text": [
      " Processing :  52 rows of data\n",
      "Review Number :  0\n"
     ]
    },
    {
     "name": "stderr",
     "output_type": "stream",
     "text": [
      "\r",
      "  2%|█▌                                                                                 | 1/52 [00:00<00:14,  3.49it/s]"
     ]
    },
    {
     "name": "stdout",
     "output_type": "stream",
     "text": [
      "[['professional', ['very', 'people']], ['people', ['professional', 'recommended', 'there']], ['patient', ['very', 'kind']], ['kind', ['patient', 'recommended', 'respectful']], ['respectful', ['kind', 'smooth']], ['smooth', ['very', 'respectful']], ['medical', ['checkup']], ['checkup', ['medical']]]\n",
      "['professional', ['very', 'people']]\n",
      "['people', ['professional', 'recommended', 'there']]\n",
      "['patient', ['very', 'kind']]\n",
      "['kind', ['patient', 'recommended', 'respectful']]\n",
      "['respectful', ['kind', 'smooth']]\n",
      "['smooth', ['very', 'respectful']]\n",
      "['medical', ['checkup']]\n",
      "['checkup', ['medical']]\n",
      "Review Number :  1\n"
     ]
    },
    {
     "name": "stderr",
     "output_type": "stream",
     "text": [
      "\r",
      "  4%|███▏                                                                               | 2/52 [00:00<00:16,  3.01it/s]"
     ]
    },
    {
     "name": "stdout",
     "output_type": "stream",
     "text": [
      "[['reviews', ['other', 'suggest']], ['people', ['suggest', 'here']], ['adequately', ['friendlylike']], ['anywhere', ['friendlylike', 'else']], ['else', ['anywhere']], ['sg', []], ['place', ['clean']], ['really', ['clean']], ['clean', ['place', 'really']], ['efficient', []]]\n",
      "['reviews', ['other', 'suggest']]\n",
      "['people', ['suggest', 'here']]\n",
      "['adequately', ['friendlylike']]\n",
      "['anywhere', ['friendlylike', 'else']]\n",
      "['else', ['anywhere']]\n",
      "['sg', []]\n",
      "['place', ['clean']]\n",
      "['really', ['clean']]\n",
      "['clean', ['place', 'really']]\n",
      "['efficient', []]\n",
      "Review Number :  2\n"
     ]
    },
    {
     "name": "stderr",
     "output_type": "stream",
     "text": [
      "\r",
      "  6%|████▊                                                                              | 3/52 [00:01<00:17,  2.77it/s]"
     ]
    },
    {
     "name": "stdout",
     "output_type": "stream",
     "text": [
      "[['place', ['experience']], ['overall', ['experience']], ['fine', ['experience']], ['good', ['experience']], ['experience', ['place', 'overall', 'fine', 'good']], ['tip', ['just']], ['u', ['have']], ['medical', ['checkupdont']], ['checkupdont', ['medical']], ['late', ['go']], ['else', []], ['u', ['have']], ['back', ['come']], ['day', ['other']], ['complete', ['rest']], ['rest', ['complete']]]\n",
      "['place', ['experience']]\n",
      "['overall', ['experience']]\n",
      "['fine', ['experience']]\n",
      "['good', ['experience']]\n",
      "['experience', ['place', 'overall', 'fine', 'good']]\n",
      "['tip', ['just']]\n",
      "['u', ['have']]\n",
      "['medical', ['checkupdont']]\n",
      "['checkupdont', ['medical']]\n",
      "['late', ['go']]\n",
      "['else', []]\n",
      "['u', ['have']]\n",
      "['back', ['come']]\n",
      "['day', ['other']]\n",
      "['complete', ['rest']]\n",
      "['rest', ['complete']]\n",
      "Review Number :  3\n"
     ]
    },
    {
     "name": "stderr",
     "output_type": "stream",
     "text": [
      "\r",
      "  8%|██████▍                                                                            | 4/52 [00:01<00:21,  2.27it/s]"
     ]
    },
    {
     "name": "stdout",
     "output_type": "stream",
     "text": [
      "[['nscheckup', []], ['checkuptoday', []], ['gateentrance', ['checkcounter']], ['entrancesecurity', ['checkcounter']], ['checkcounter', ['gateentrance', 'entrancesecurity', 'securitycheck']], ['stickerpass', ['take']], ['walk', ['just']], ['gatedont', ['be']], ['mei', ['stood']], ['thinking', []], ['scan', ['i', 'the']]]\n",
      "['nscheckup', []]\n",
      "['checkuptoday', []]\n",
      "['gateentrance', ['checkcounter']]\n",
      "['entrancesecurity', ['checkcounter']]\n",
      "['checkcounter', ['gateentrance', 'entrancesecurity', 'securitycheck']]\n",
      "['stickerpass', ['take']]\n",
      "['walk', ['just']]\n",
      "['gatedont', ['be']]\n",
      "['mei', ['stood']]\n",
      "['thinking', []]\n",
      "['scan', ['i', 'the']]\n",
      "Review Number :  4\n"
     ]
    },
    {
     "name": "stderr",
     "output_type": "stream",
     "text": [
      " 12%|█████████▌                                                                         | 6/52 [00:02<00:17,  2.61it/s]"
     ]
    },
    {
     "name": "stdout",
     "output_type": "stream",
     "text": [
      "[['dontbother', ['end']], ['youll', []], ['end', ['dontbother', 'waiting']], ['hours', ['more']], ['realise', ['only', 'that', 'youre']], ['youre', ['realise']], ['last', ['person']], ['person', ['last', 'care']], ['line', ['doctors']], ['doctors', ['line']], ['really', ['care', 'have']], ['fair', ['which']], ['dont', []], ['really', ['care', 'have']], ['choice', ['have']], ['place', ['waste']], ['complete', ['waste']], ['waste', ['place', 'complete']], ['space', []], ['time', []]]\n",
      "['dontbother', ['end']]\n",
      "['youll', []]\n",
      "['end', ['dontbother', 'waiting']]\n",
      "['hours', ['more']]\n",
      "['realise', ['only', 'that', 'youre']]\n",
      "['youre', ['realise']]\n",
      "['last', ['person']]\n",
      "['person', ['last', 'care']]\n",
      "['line', ['doctors']]\n",
      "['doctors', ['line']]\n",
      "['really', ['care', 'have']]\n",
      "['fair', ['which']]\n",
      "['dont', []]\n",
      "['really', ['care', 'have']]\n",
      "['choice', ['have']]\n",
      "['place', ['waste']]\n",
      "['complete', ['waste']]\n",
      "['waste', ['place', 'complete']]\n",
      "['space', []]\n",
      "['time', []]\n",
      "Review Number :  5\n",
      "[['nsf', ['reviews']], ['reviews', ['nsf']], ['lol', []]]\n",
      "['nsf', ['reviews']]\n",
      "['reviews', ['nsf']]\n",
      "['lol', []]\n",
      "Review Number :  6\n"
     ]
    },
    {
     "name": "stderr",
     "output_type": "stream",
     "text": [
      "\r",
      " 13%|███████████▏                                                                       | 7/52 [00:02<00:14,  3.07it/s]"
     ]
    },
    {
     "name": "stdout",
     "output_type": "stream",
     "text": [
      "[['extremely', ['long']], ['long', ['extremely', 'time']], ['time', ['long', 'takes']], ['due', []], ['overall', ['waste']], ['complete', ['waste']], ['waste', ['overall', 'complete', 'waiting']], ['time', ['long', 'takes']]]\n",
      "['extremely', ['long']]\n",
      "['long', ['extremely', 'time']]\n",
      "['time', ['long', 'takes']]\n",
      "['due', []]\n",
      "['overall', ['waste']]\n",
      "['complete', ['waste']]\n",
      "['waste', ['overall', 'complete', 'waiting']]\n",
      "['time', ['long', 'takes']]\n",
      "Review Number :  7\n"
     ]
    },
    {
     "name": "stderr",
     "output_type": "stream",
     "text": [
      "\r",
      " 15%|████████████▊                                                                      | 8/52 [00:03<00:15,  2.79it/s]"
     ]
    },
    {
     "name": "stdout",
     "output_type": "stream",
     "text": [
      "[['staff', ['professional']], ['professional', ['staff']], ['idk', []], ['bad', ['reviews']], ['reviews', ['bad', 'what']], ['personal', ['experienceeveryone']], ['experienceeveryone', ['personal']], ['helpful', ['very', 'is']], ['initiative', ['take']], ['help', ['me']]]\n",
      "['staff', ['professional']]\n",
      "['professional', ['staff']]\n",
      "['idk', []]\n",
      "['bad', ['reviews']]\n",
      "['reviews', ['bad', 'what']]\n",
      "['personal', ['experienceeveryone']]\n",
      "['experienceeveryone', ['personal']]\n",
      "['helpful', ['very', 'is']]\n",
      "['initiative', ['take']]\n",
      "['help', ['me']]\n",
      "Review Number :  8\n"
     ]
    },
    {
     "name": "stderr",
     "output_type": "stream",
     "text": [
      "\r",
      " 17%|██████████████▎                                                                    | 9/52 [00:03<00:20,  2.12it/s]"
     ]
    },
    {
     "name": "stdout",
     "output_type": "stream",
     "text": [
      "[['unfriendly', ['staff']], ['staff', ['unfriendly', 'doing', 'keep']], ['guards', ['doing']], ['job', ['doing']], ['staff', ['unfriendly', 'doing', 'keep']], ['stuff', ['more', 'do', 'suppose']], ['suppose', ['which', 'they', 'not', 'stuff']], ['absolutely', ['atrocious']], ['atrocious', ['absolutely']], ['woman', ['is']], ['keeps', ['who', 'vac', 'changing']], ['tone', ['changing']], ['talks', ['she']], ['people', ['threatens']], ['people', ['threatens']], ['always', ['removes']], ['mask', ['removes']], ['talk', []], ['people', ['threatens']], ['expressions', ['show']]]\n",
      "['unfriendly', ['staff']]\n",
      "['staff', ['unfriendly', 'doing', 'keep']]\n",
      "['guards', ['doing']]\n",
      "['job', ['doing']]\n",
      "['staff', ['unfriendly', 'doing', 'keep']]\n",
      "['stuff', ['more', 'do', 'suppose']]\n",
      "['suppose', ['which', 'they', 'not', 'stuff']]\n",
      "['absolutely', ['atrocious']]\n",
      "['atrocious', ['absolutely']]\n",
      "['woman', ['is']]\n",
      "['keeps', ['who', 'vac', 'changing']]\n",
      "['tone', ['changing']]\n",
      "['talks', ['she']]\n",
      "['people', ['threatens']]\n",
      "['people', ['threatens']]\n",
      "['always', ['removes']]\n",
      "['mask', ['removes']]\n",
      "['talk', []]\n",
      "['people', ['threatens']]\n",
      "['expressions', ['show']]\n",
      "Review Number :  9\n"
     ]
    },
    {
     "name": "stderr",
     "output_type": "stream",
     "text": [
      "\r",
      " 19%|███████████████▊                                                                  | 10/52 [00:03<00:16,  2.52it/s]"
     ]
    },
    {
     "name": "stdout",
     "output_type": "stream",
     "text": [
      "[['staff', ['rude']], ['medical', ['screening']], ['screening', ['medical', 'station']], ['station', ['screening']], ['weight', []], ['extremely', ['rude']], ['rude', ['staff', 'extremely']], ['unfriendly', []]]\n",
      "['staff', ['rude']]\n",
      "['medical', ['screening']]\n",
      "['screening', ['medical', 'station']]\n",
      "['station', ['screening']]\n",
      "['weight', []]\n",
      "['extremely', ['rude']]\n",
      "['rude', ['staff', 'extremely']]\n",
      "['unfriendly', []]\n",
      "Review Number :  10\n"
     ]
    },
    {
     "name": "stderr",
     "output_type": "stream",
     "text": [
      "\r",
      " 21%|█████████████████▎                                                                | 11/52 [00:04<00:14,  2.80it/s]"
     ]
    },
    {
     "name": "stdout",
     "output_type": "stream",
     "text": [
      "[['staff', ['impatient']], ['serious', ['impatient']], ['impatient', ['staff', 'not', 'serious']], ['undesirably', ['long']], ['long', ['undesirably', 'times']], ['times', ['long', 'waiting', 'recommend']], ['cmpb', ['recommend']], ['friend', []]]\n",
      "['staff', ['impatient']]\n",
      "['serious', ['impatient']]\n",
      "['impatient', ['staff', 'not', 'serious']]\n",
      "['undesirably', ['long']]\n",
      "['long', ['undesirably', 'times']]\n",
      "['times', ['long', 'waiting', 'recommend']]\n",
      "['cmpb', ['recommend']]\n",
      "['friend', []]\n",
      "Review Number :  11\n"
     ]
    },
    {
     "name": "stderr",
     "output_type": "stream",
     "text": [
      "\r",
      " 23%|██████████████████▉                                                               | 12/52 [00:04<00:16,  2.46it/s]"
     ]
    },
    {
     "name": "stdout",
     "output_type": "stream",
     "text": [
      "[['sent', ['just', 'son']], ['son', ['sent', 'got']], ['preenlistment', ['enlistmentcheckup']], ['enlistmentcheckup', ['preenlistment']], ['morning', []], ['guard', ['give']], ['entrancecouldnt', []], ['clear', ['instructions']], ['instructions', ['clear', 'give']], ['son', ['sent', 'got']], ['alight', ['got']], ['couldnt', []], ['drive', ['we', 'further']], ['hello', []], ['please', []], ['train', ['army']], ['army', ['train']]]\n",
      "['sent', ['just', 'son']]\n",
      "['son', ['sent', 'got']]\n",
      "['preenlistment', ['enlistmentcheckup']]\n",
      "['enlistmentcheckup', ['preenlistment']]\n",
      "['morning', []]\n",
      "['guard', ['give']]\n",
      "['entrancecouldnt', []]\n",
      "['clear', ['instructions']]\n",
      "['instructions', ['clear', 'give']]\n",
      "['son', ['sent', 'got']]\n",
      "['alight', ['got']]\n",
      "['couldnt', []]\n",
      "['drive', ['we', 'further']]\n",
      "['hello', []]\n",
      "['please', []]\n",
      "['train', ['army']]\n",
      "['army', ['train']]\n",
      "Review Number :  12\n"
     ]
    },
    {
     "name": "stderr",
     "output_type": "stream",
     "text": [
      "\r",
      " 25%|████████████████████▌                                                             | 13/52 [00:05<00:15,  2.59it/s]"
     ]
    },
    {
     "name": "stdout",
     "output_type": "stream",
     "text": [
      "[['inconvenient', ['most', 'locations']], ['locations', ['inconvenient', 'seen']], ['ever', ['seen']], ['terrible', ['directions']], ['directions', ['terrible', 'seen']], ['staff', ['rude', 'expect']], ['whole', ['process']], ['process', ['whole', 'expect']], ['take', ['hours', 'recommended']], ['hours', ['take']]]\n",
      "['inconvenient', ['most', 'locations']]\n",
      "['locations', ['inconvenient', 'seen']]\n",
      "['ever', ['seen']]\n",
      "['terrible', ['directions']]\n",
      "['directions', ['terrible', 'seen']]\n",
      "['staff', ['rude', 'expect']]\n",
      "['whole', ['process']]\n",
      "['process', ['whole', 'expect']]\n",
      "['take', ['hours', 'recommended']]\n",
      "['hours', ['take']]\n",
      "Review Number :  13\n"
     ]
    },
    {
     "name": "stderr",
     "output_type": "stream",
     "text": [
      "\r",
      " 27%|██████████████████████                                                            | 14/52 [00:05<00:16,  2.31it/s]"
     ]
    },
    {
     "name": "stdout",
     "output_type": "stream",
     "text": [
      "[['ok', ['so', 'staff', 'typical']], ['lah', []], ['review', []], ['visitjanuary', []], ['maybe', ['sikit']], ['sikit', ['maybe', 'staff']], ['date', []], ['nsf', ['staff']], ['staff', ['sikit', 'nsf', 'ok']], ['ok', ['so', 'staff', 'typical']], ['typical', ['ok']], ['bochap', []], ['happy', []], ['bird', []], ['tio', ['vocationmo']], ['switch', ['vocationmo']], ['vocationmo', ['switch', 'tio']], ['hand', ['other']], ['si', []], ['pehbuay', []], ['buaysong', []], ['probably', ['this']]]\n",
      "['ok', ['so', 'staff', 'typical']]\n",
      "['lah', []]\n",
      "['review', []]\n",
      "['visitjanuary', []]\n",
      "['maybe', ['sikit']]\n",
      "['sikit', ['maybe', 'staff']]\n",
      "['date', []]\n",
      "['nsf', ['staff']]\n",
      "['staff', ['sikit', 'nsf', 'ok']]\n",
      "['ok', ['so', 'staff', 'typical']]\n",
      "['typical', ['ok']]\n",
      "['bochap', []]\n",
      "['happy', []]\n",
      "['bird', []]\n",
      "['tio', ['vocationmo']]\n",
      "['switch', ['vocationmo']]\n",
      "['vocationmo', ['switch', 'tio']]\n",
      "['hand', ['other']]\n",
      "['si', []]\n",
      "['pehbuay', []]\n",
      "['buaysong', []]\n",
      "['probably', ['this']]\n",
      "Review Number :  14\n"
     ]
    },
    {
     "name": "stderr",
     "output_type": "stream",
     "text": [
      "\r",
      " 29%|███████████████████████▋                                                          | 15/52 [00:05<00:13,  2.70it/s]"
     ]
    },
    {
     "name": "stdout",
     "output_type": "stream",
     "text": [
      "[['tbh', []], ['bad', ['its', 'not', 'that']], ['place', []], ['visit', ['contrary']], ['contrary', ['visit']], ['others', ['saying']]]\n",
      "['tbh', []]\n",
      "['bad', ['its', 'not', 'that']]\n",
      "['place', []]\n",
      "['visit', ['contrary']]\n",
      "['contrary', ['visit']]\n",
      "['others', ['saying']]\n",
      "Review Number :  15\n"
     ]
    },
    {
     "name": "stderr",
     "output_type": "stream",
     "text": [
      "\r",
      " 31%|█████████████████████████▏                                                        | 16/52 [00:06<00:15,  2.36it/s]"
     ]
    },
    {
     "name": "stdout",
     "output_type": "stream",
     "text": [
      "[['please', []], ['sure', ['make']], ['medical', ['conditions', 'officer', 'specialistletter']], ['conditions', ['medical', 'declare', 'severe']], ['severe', ['conditions']], ['minor', []], ['medical', ['conditions', 'officer', 'specialistletter']], ['officer', ['medical']], ['checkup', []], ['fare', ['you', 'well']], ['well', ['fare']], ['medical', ['conditions', 'officer', 'specialistletter']], ['specialistletter', ['medical', 'get']]]\n",
      "['please', []]\n",
      "['sure', ['make']]\n",
      "['medical', ['conditions', 'officer', 'specialistletter']]\n",
      "['conditions', ['medical', 'declare', 'severe']]\n",
      "['severe', ['conditions']]\n",
      "['minor', []]\n",
      "['medical', ['conditions', 'officer', 'specialistletter']]\n",
      "['officer', ['medical']]\n",
      "['checkup', []]\n",
      "['fare', ['you', 'well']]\n",
      "['well', ['fare']]\n",
      "['medical', ['conditions', 'officer', 'specialistletter']]\n",
      "['specialistletter', ['medical', 'get']]\n",
      "Review Number :  16\n"
     ]
    },
    {
     "name": "stderr",
     "output_type": "stream",
     "text": [
      " 35%|████████████████████████████▍                                                     | 18/52 [00:06<00:10,  3.11it/s]"
     ]
    },
    {
     "name": "stdout",
     "output_type": "stream",
     "text": [
      "[['guards', ['ask', 'rude']], ['rude', ['very', 'guards']], ['ask', ['guards', 'question']], ['question', ['ask', 'ignore']], ['ignore', ['they', 'question']], ['rest', ['nice']], ['staff', []], ['nice', ['rest', 'though']], ['friendly', []]]\n",
      "['guards', ['ask', 'rude']]\n",
      "['rude', ['very', 'guards']]\n",
      "['ask', ['guards', 'question']]\n",
      "['question', ['ask', 'ignore']]\n",
      "['ignore', ['they', 'question']]\n",
      "['rest', ['nice']]\n",
      "['staff', []]\n",
      "['nice', ['rest', 'though']]\n",
      "['friendly', []]\n",
      "Review Number :  17\n",
      "[['overall', ['experience']], ['great', ['experience']], ['experience', ['overall', 'great']], ['medic', ['professional']], ['professional', ['medic']], ['blooddraw', []]]\n",
      "['overall', ['experience']]\n",
      "['great', ['experience']]\n",
      "['experience', ['overall', 'great']]\n",
      "['medic', ['professional']]\n",
      "['professional', ['medic']]\n",
      "['blooddraw', []]\n",
      "Review Number :  18\n"
     ]
    },
    {
     "name": "stderr",
     "output_type": "stream",
     "text": [
      " 40%|█████████████████████████████████                                                 | 21/52 [00:07<00:06,  4.88it/s]"
     ]
    },
    {
     "name": "stdout",
     "output_type": "stream",
     "text": [
      "[['kind', ['very', 'people']], ['people', ['kind']], ['cmpd', []], ['medical', ['check']], ['check', ['medical', 'up']], ['constantly', ['greeted']], ['smile', []], ['patience', []]]\n",
      "['kind', ['very', 'people']]\n",
      "['people', ['kind']]\n",
      "['cmpd', []]\n",
      "['medical', ['check']]\n",
      "['check', ['medical', 'up']]\n",
      "['constantly', ['greeted']]\n",
      "['smile', []]\n",
      "['patience', []]\n",
      "Review Number :  19\n",
      "[['dont', []], ['bully', ['me']]]\n",
      "['dont', []]\n",
      "['bully', ['me']]\n",
      "Review Number :  20\n",
      "[['meh', ['staff']], ['staff', ['meh', 'nice']], ['pretty', ['nice']], ['nice', ['staff', 'pretty']]]\n",
      "['meh', ['staff']]\n",
      "['staff', ['meh', 'nice']]\n",
      "['pretty', ['nice']]\n",
      "['nice', ['staff', 'pretty']]\n",
      "Review Number :  21\n"
     ]
    },
    {
     "name": "stderr",
     "output_type": "stream",
     "text": [
      "\r",
      " 42%|██████████████████████████████████▋                                               | 22/52 [00:07<00:06,  4.70it/s]"
     ]
    },
    {
     "name": "stdout",
     "output_type": "stream",
     "text": [
      "[['lousy', ['service']], ['service', ['lousy', 'dk', 'ask']], ['dk', ['service']], ['help', ['ask']], ['people', ['ask']], ['question', ['ask']], ['also', ['say']], ['dont', []], ['ask', ['help', 'people', 'service', 'question', 'say', 'taiji']], ['taiji', ['not', 'ask']]]\n",
      "['lousy', ['service']]\n",
      "['service', ['lousy', 'dk', 'ask']]\n",
      "['dk', ['service']]\n",
      "['help', ['ask']]\n",
      "['people', ['ask']]\n",
      "['question', ['ask']]\n",
      "['also', ['say']]\n",
      "['dont', []]\n",
      "['ask', ['help', 'people', 'service', 'question', 'say', 'taiji']]\n",
      "['taiji', ['not', 'ask']]\n",
      "Review Number :  22\n"
     ]
    },
    {
     "name": "stderr",
     "output_type": "stream",
     "text": [
      " 46%|█████████████████████████████████████▊                                            | 24/52 [00:08<00:06,  4.11it/s]"
     ]
    },
    {
     "name": "stdout",
     "output_type": "stream",
     "text": [
      "[['tuesday', []], ['negative', ['reviews']], ['reviews', ['negative']], ['share', ['i', 'opinion']], ['quick', ['opinion']], ['personal', ['opinion']], ['opinion', ['quick', 'personal', 'share']], ['perhaps', ['varies']], ['varies', ['perhaps', 'it']], ['person', []], ['person', []], ['trip', ['great']], ['cmpb', []], ['ultimately', ['great']], ['great', ['trip', 'ultimately']], ['definitely', ['experience']], ['memorable', ['experience']], ['experience', ['definitely', 'memorable']], ['medical', []]]\n",
      "['tuesday', []]\n",
      "['negative', ['reviews']]\n",
      "['reviews', ['negative']]\n",
      "['share', ['i', 'opinion']]\n",
      "['quick', ['opinion']]\n",
      "['personal', ['opinion']]\n",
      "['opinion', ['quick', 'personal', 'share']]\n",
      "['perhaps', ['varies']]\n",
      "['varies', ['perhaps', 'it']]\n",
      "['person', []]\n",
      "['person', []]\n",
      "['trip', ['great']]\n",
      "['cmpb', []]\n",
      "['ultimately', ['great']]\n",
      "['great', ['trip', 'ultimately']]\n",
      "['definitely', ['experience']]\n",
      "['memorable', ['experience']]\n",
      "['experience', ['definitely', 'memorable']]\n",
      "['medical', []]\n",
      "Review Number :  23\n",
      "[['medical', ['check']], ['check', ['medical', 'place']], ['place', ['check']], ['saf', []]]\n",
      "['medical', ['check']]\n",
      "['check', ['medical', 'place']]\n",
      "['place', ['check']]\n",
      "['saf', []]\n",
      "Review Number :  24\n"
     ]
    },
    {
     "name": "stderr",
     "output_type": "stream",
     "text": [
      "\r",
      " 48%|███████████████████████████████████████▍                                          | 25/52 [00:08<00:05,  4.66it/s]"
     ]
    },
    {
     "name": "stdout",
     "output_type": "stream",
     "text": [
      "[['others', []], ['dirt', []]]\n",
      "['others', []]\n",
      "['dirt', []]\n",
      "Review Number :  25\n"
     ]
    },
    {
     "name": "stderr",
     "output_type": "stream",
     "text": [
      " 52%|██████████████████████████████████████████▌                                       | 27/52 [00:08<00:05,  4.57it/s]"
     ]
    },
    {
     "name": "stdout",
     "output_type": "stream",
     "text": [
      "[['preenlistment', []], ['sessions', ['few', 'counselling', 'screening']], ['chargeinconvenient', ['inconvenientlocation']], ['inconvenientlocation', ['chargeinconvenient', 'answer']]]\n",
      "['preenlistment', []]\n",
      "['sessions', ['few', 'counselling', 'screening']]\n",
      "['chargeinconvenient', ['inconvenientlocation']]\n",
      "['inconvenientlocation', ['chargeinconvenient', 'answer']]\n",
      "Review Number :  26\n",
      "[['cookhouse', ['nsf']], ['nsf', ['cookhouse', 'need']], ['meagre', ['pay']], ['pay', ['meagre']]]\n",
      "['cookhouse', ['nsf']]\n",
      "['nsf', ['cookhouse', 'need']]\n",
      "['meagre', ['pay']]\n",
      "['pay', ['meagre']]\n",
      "Review Number :  27\n"
     ]
    },
    {
     "name": "stderr",
     "output_type": "stream",
     "text": [
      "\r",
      " 54%|████████████████████████████████████████████▏                                     | 28/52 [00:09<00:06,  3.65it/s]"
     ]
    },
    {
     "name": "stdout",
     "output_type": "stream",
     "text": [
      "[['officerattitude', ['good']], ['good', ['officerattitude', 'not']], ['patience', ['understand']], ['servicei', []], ['dont', []], ['use', ['he', 'tone']], ['unfriendly', ['tone']], ['tone', ['unfriendly', 'use']], ['repeat', []], ['language', []]]\n",
      "['officerattitude', ['good']]\n",
      "['good', ['officerattitude', 'not']]\n",
      "['patience', ['understand']]\n",
      "['servicei', []]\n",
      "['dont', []]\n",
      "['use', ['he', 'tone']]\n",
      "['unfriendly', ['tone']]\n",
      "['tone', ['unfriendly', 'use']]\n",
      "['repeat', []]\n",
      "['language', []]\n",
      "Review Number :  28\n"
     ]
    },
    {
     "name": "stderr",
     "output_type": "stream",
     "text": [
      " 58%|███████████████████████████████████████████████▎                                  | 30/52 [00:09<00:05,  3.83it/s]"
     ]
    },
    {
     "name": "stdout",
     "output_type": "stream",
     "text": [
      "[['idk', []], ['many', ['so', 'people']], ['people', ['many', 'give']], ['negative', ['reviews']], ['reviews', ['negative', 'give']], ['medical', ['check']], ['check', ['medical', 'up']], ['staff', ['friendly']], ['friendly', ['staff']], ['nsf', ['cool']], ['cool', ['nsf']], ['overall', ['had']], ['good', ['experience']], ['experience', ['good', 'had']]]\n",
      "['idk', []]\n",
      "['many', ['so', 'people']]\n",
      "['people', ['many', 'give']]\n",
      "['negative', ['reviews']]\n",
      "['reviews', ['negative', 'give']]\n",
      "['medical', ['check']]\n",
      "['check', ['medical', 'up']]\n",
      "['staff', ['friendly']]\n",
      "['friendly', ['staff']]\n",
      "['nsf', ['cool']]\n",
      "['cool', ['nsf']]\n",
      "['overall', ['had']]\n",
      "['good', ['experience']]\n",
      "['experience', ['good', 'had']]\n",
      "Review Number :  29\n",
      "[['gold', ['star']], ['star', ['gold']], ['public', ['service']], ['service', ['public']]]\n",
      "['gold', ['star']]\n",
      "['star', ['gold']]\n",
      "['public', ['service']]\n",
      "['service', ['public']]\n",
      "Review Number :  30\n"
     ]
    },
    {
     "name": "stderr",
     "output_type": "stream",
     "text": [
      "\r",
      " 60%|████████████████████████████████████████████████▉                                 | 31/52 [00:10<00:05,  3.53it/s]"
     ]
    },
    {
     "name": "stdout",
     "output_type": "stream",
     "text": [
      "[['hrs', []], ['form', []], ['meeting', []], ['even', ['conditioning']], ['really', ['bored']], ['bored', ['really', 'conditioning']], ['cold', ['conditioning']], ['air', ['conditioning']], ['wifi', []]]\n",
      "['hrs', []]\n",
      "['form', []]\n",
      "['meeting', []]\n",
      "['even', ['conditioning']]\n",
      "['really', ['bored']]\n",
      "['bored', ['really', 'conditioning']]\n",
      "['cold', ['conditioning']]\n",
      "['air', ['conditioning']]\n",
      "['wifi', []]\n",
      "Review Number :  31\n",
      "[['accessible', ['not']]]\n",
      "['accessible', ['not']]\n",
      "Review Number :  32\n"
     ]
    },
    {
     "name": "stderr",
     "output_type": "stream",
     "text": [
      "\r",
      " 63%|████████████████████████████████████████████████████                              | 33/52 [00:10<00:04,  4.63it/s]"
     ]
    },
    {
     "name": "stdout",
     "output_type": "stream",
     "text": [
      "[['extremely', ['poor']], ['poor', ['extremely', 'customerservice']], ['rude', []], ['customerservice', ['poor']]]\n",
      "['extremely', ['poor']]\n",
      "['poor', ['extremely', 'customerservice']]\n",
      "['rude', []]\n",
      "['customerservice', ['poor']]\n",
      "Review Number :  33\n",
      "[['worst', ['day']], ['day', ['worst']], ['life', []]]\n",
      "['worst', ['day']]\n",
      "['day', ['worst']]\n",
      "['life', []]\n",
      "Review Number :  34\n"
     ]
    },
    {
     "name": "stderr",
     "output_type": "stream",
     "text": [
      "\r",
      " 67%|███████████████████████████████████████████████████████▏                          | 35/52 [00:10<00:03,  5.33it/s]"
     ]
    },
    {
     "name": "stdout",
     "output_type": "stream",
     "text": [
      "[['wooo', []], ['real', ['edgy']], ['edgy', ['real', 'ziyuan']], ['ziyuan', ['edgy', 'writer']], ['novel', ['writer']], ['writer', ['ziyuan', 'you', 'novel']]]\n",
      "['wooo', []]\n",
      "['real', ['edgy']]\n",
      "['edgy', ['real', 'ziyuan']]\n",
      "['ziyuan', ['edgy', 'writer']]\n",
      "['novel', ['writer']]\n",
      "['writer', ['ziyuan', 'you', 'novel']]\n",
      "Review Number :  35\n"
     ]
    },
    {
     "name": "stderr",
     "output_type": "stream",
     "text": [
      " 71%|██████████████████████████████████████████████████████████▎                       | 37/52 [00:10<00:02,  5.54it/s]"
     ]
    },
    {
     "name": "stdout",
     "output_type": "stream",
     "text": [
      "[['highly', ['inaccessible']], ['inaccessible', ['highly']], ['hard', ['so', 'get']], ['get', ['hard', 'there']], ['mrt', ['stations']], ['stations', ['not', 'mrt']]]\n",
      "['highly', ['inaccessible']]\n",
      "['inaccessible', ['highly']]\n",
      "['hard', ['so', 'get']]\n",
      "['get', ['hard', 'there']]\n",
      "['mrt', ['stations']]\n",
      "['stations', ['not', 'mrt']]\n",
      "Review Number :  36\n",
      "[['bane', []], ['existence', []]]\n",
      "['bane', []]\n",
      "['existence', []]\n",
      "Review Number :  37\n"
     ]
    },
    {
     "name": "stderr",
     "output_type": "stream",
     "text": [
      " 75%|█████████████████████████████████████████████████████████████▌                    | 39/52 [00:11<00:02,  4.58it/s]"
     ]
    },
    {
     "name": "stdout",
     "output_type": "stream",
     "text": [
      "[['cookhouse', []], ['book', ['get']], ['everyday', ['thing']], ['troublesome', ['most', 'thing']], ['thing', ['everyday', 'troublesome', 'discussing']], ['whats', ['discussing']], ['sidenotecanteen', ['lunchsidenote', 'canteenb']], ['canteenb', ['sidenotecanteen', 'bad']], ['bad', ['canteenb', 'real']], ['real', ['bad']], ['bad', ['canteenb', 'real']]]\n",
      "['cookhouse', []]\n",
      "['book', ['get']]\n",
      "['everyday', ['thing']]\n",
      "['troublesome', ['most', 'thing']]\n",
      "['thing', ['everyday', 'troublesome', 'discussing']]\n",
      "['whats', ['discussing']]\n",
      "['sidenotecanteen', ['lunchsidenote', 'canteenb']]\n",
      "['canteenb', ['sidenotecanteen', 'bad']]\n",
      "['bad', ['canteenb', 'real']]\n",
      "['real', ['bad']]\n",
      "['bad', ['canteenb', 'real']]\n",
      "Review Number :  38\n",
      "[['people', ['go']], ['even', ['go']], ['placemiddle', []], ['nowhere', []]]\n",
      "['people', ['go']]\n",
      "['even', ['go']]\n",
      "['placemiddle', []]\n",
      "['nowhere', []]\n",
      "Review Number :  39\n"
     ]
    },
    {
     "name": "stderr",
     "output_type": "stream",
     "text": [
      "\r",
      " 77%|███████████████████████████████████████████████████████████████                   | 40/52 [00:11<00:02,  4.04it/s]"
     ]
    },
    {
     "name": "stdout",
     "output_type": "stream",
     "text": [
      "[['officertalk', ['prepared']], ['money', ['own']], ['hard', ['very']], ['middle', []], ['village', []], ['something', []]]\n",
      "['officertalk', ['prepared']]\n",
      "['money', ['own']]\n",
      "['hard', ['very']]\n",
      "['middle', []]\n",
      "['village', []]\n",
      "['something', []]\n",
      "Review Number :  40\n",
      "[['rude', ['staff']], ['staff', ['rude']]]\n",
      "['rude', ['staff']]\n",
      "['staff', ['rude']]\n",
      "Review Number :  41\n"
     ]
    },
    {
     "name": "stderr",
     "output_type": "stream",
     "text": [
      " 83%|███████████████████████████████████████████████████████████████████▊              | 43/52 [00:12<00:01,  5.36it/s]"
     ]
    },
    {
     "name": "stdout",
     "output_type": "stream",
     "text": [
      "[['inaccessible', ['need']], ['need', ['inaccessible']], ['h', []], ['time', ['travel']], ['waste', ['more']], ['time', ['travel']]]\n",
      "['inaccessible', ['need']]\n",
      "['need', ['inaccessible']]\n",
      "['h', []]\n",
      "['time', ['travel']]\n",
      "['waste', ['more']]\n",
      "['time', ['travel']]\n",
      "Review Number :  42\n",
      "[['far', ['so', 'away']], ['away', ['far']], ['middle', []], ['nowhere', []]]\n",
      "['far', ['so', 'away']]\n",
      "['away', ['far']]\n",
      "['middle', []]\n",
      "['nowhere', []]\n",
      "Review Number :  43\n"
     ]
    },
    {
     "name": "stderr",
     "output_type": "stream",
     "text": [
      " 87%|██████████████████████████████████████████████████████████████████████▉           | 45/52 [00:12<00:01,  5.64it/s]"
     ]
    },
    {
     "name": "stdout",
     "output_type": "stream",
     "text": [
      "[['bad', ['very', 'troopers', 'very', 'attitude']], ['security', ['troopers']], ['troopers', ['bad', 'security', 'have']], ['bad', ['very', 'troopers', 'very', 'attitude']], ['attitude', ['bad', 'have']], ['towards', []], ['public', []]]\n",
      "['bad', ['very', 'troopers', 'very', 'attitude']]\n",
      "['security', ['troopers']]\n",
      "['troopers', ['bad', 'security', 'have']]\n",
      "['bad', ['very', 'troopers', 'very', 'attitude']]\n",
      "['attitude', ['bad', 'have']]\n",
      "['towards', []]\n",
      "['public', []]\n",
      "Review Number :  44\n",
      "[['middle', []], ['nowhere', []]]\n",
      "['middle', []]\n",
      "['nowhere', []]\n",
      "Review Number :  45\n"
     ]
    },
    {
     "name": "stderr",
     "output_type": "stream",
     "text": [
      "\r",
      " 88%|████████████████████████████████████████████████████████████████████████▌         | 46/52 [00:12<00:01,  5.33it/s]"
     ]
    },
    {
     "name": "stdout",
     "output_type": "stream",
     "text": [
      "[['place', []], ['well', ['kept']], ['people', ['kept']], ['unbelievably', ['rude']]]\n",
      "['place', []]\n",
      "['well', ['kept']]\n",
      "['people', ['kept']]\n",
      "['unbelievably', ['rude']]\n",
      "Review Number :  46\n",
      "[['bad', ['service']], ['service', ['bad']]]\n",
      "['bad', ['service']]\n",
      "['service', ['bad']]\n",
      "Review Number :  47\n"
     ]
    },
    {
     "name": "stderr",
     "output_type": "stream",
     "text": [
      "\r",
      " 92%|███████████████████████████████████████████████████████████████████████████▋      | 48/52 [00:13<00:00,  6.12it/s]"
     ]
    },
    {
     "name": "stdout",
     "output_type": "stream",
     "text": [
      "[['interestingly', ['enough']], ['enough', ['interestingly', 'removed']], ['negative', ['reviews']], ['reviews', ['negative']]]\n",
      "['interestingly', ['enough']]\n",
      "['enough', ['interestingly', 'removed']]\n",
      "['negative', ['reviews']]\n",
      "['reviews', ['negative']]\n",
      "Review Number :  48\n",
      "[['bad', ['service']], ['service', ['bad']]]\n",
      "['bad', ['service']]\n",
      "['service', ['bad']]\n",
      "Review Number :  49\n"
     ]
    },
    {
     "name": "stderr",
     "output_type": "stream",
     "text": [
      " 98%|████████████████████████████████████████████████████████████████████████████████▍ | 51/52 [00:13<00:00,  3.78it/s]"
     ]
    },
    {
     "name": "stdout",
     "output_type": "stream",
     "text": [
      "[['sheat', ['treated']], ['dirty', ['pigs']], ['pigs', ['dirty', 'training']], ['step', []], ['minefields', []]]\n",
      "['sheat', ['treated']]\n",
      "['dirty', ['pigs']]\n",
      "['pigs', ['dirty', 'training']]\n",
      "['step', []]\n",
      "['minefields', []]\n",
      "Review Number :  50\n",
      "[['gncpresent', []]]\n",
      "['gncpresent', []]\n",
      "Review Number :  51\n"
     ]
    },
    {
     "name": "stderr",
     "output_type": "stream",
     "text": [
      "\n"
     ]
    }
   ],
   "source": [
    "rdr = pd.read_csv('../ScrapedOutput/cmpb.csv')\n",
    "\n",
    "nlp = stanza.Pipeline('en')\n",
    "a = dict()\n",
    "b = dict()\n",
    "a, b = do_extraction(rdr, nlp, a, b)"
   ]
  },
  {
   "cell_type": "code",
   "execution_count": 319,
   "id": "successful-thesaurus",
   "metadata": {
    "scrolled": true
   },
   "outputs": [
    {
     "name": "stderr",
     "output_type": "stream",
     "text": [
      "\r",
      "  0%|                                                                                          | 0/199 [00:00<?, ?it/s]"
     ]
    },
    {
     "name": "stdout",
     "output_type": "stream",
     "text": [
      "Calculating Sentiment for:  professional\n"
     ]
    },
    {
     "name": "stderr",
     "output_type": "stream",
     "text": [
      "\r",
      "  1%|▍                                                                                 | 1/199 [00:01<03:34,  1.08s/it]"
     ]
    },
    {
     "name": "stdout",
     "output_type": "stream",
     "text": [
      "Calculating Sentiment for:  people\n"
     ]
    },
    {
     "name": "stderr",
     "output_type": "stream",
     "text": [
      "\r",
      "  1%|▊                                                                                 | 2/199 [00:05<10:14,  3.12s/it]"
     ]
    },
    {
     "name": "stdout",
     "output_type": "stream",
     "text": [
      "Calculating Sentiment for:  patient\n"
     ]
    },
    {
     "name": "stderr",
     "output_type": "stream",
     "text": [
      "\r",
      "  2%|█▏                                                                                | 3/199 [00:06<06:08,  1.88s/it]"
     ]
    },
    {
     "name": "stdout",
     "output_type": "stream",
     "text": [
      "Calculating Sentiment for:  kind\n"
     ]
    },
    {
     "name": "stderr",
     "output_type": "stream",
     "text": [
      "\r",
      "  2%|█▋                                                                                | 4/199 [00:07<06:03,  1.86s/it]"
     ]
    },
    {
     "name": "stdout",
     "output_type": "stream",
     "text": [
      "Calculating Sentiment for:  respectful\n"
     ]
    },
    {
     "name": "stderr",
     "output_type": "stream",
     "text": [
      "\r",
      "  3%|██                                                                                | 5/199 [00:08<04:27,  1.38s/it]"
     ]
    },
    {
     "name": "stdout",
     "output_type": "stream",
     "text": [
      "Calculating Sentiment for:  smooth\n"
     ]
    },
    {
     "name": "stderr",
     "output_type": "stream",
     "text": [
      "\r",
      "  3%|██▍                                                                               | 6/199 [00:09<03:40,  1.14s/it]"
     ]
    },
    {
     "name": "stdout",
     "output_type": "stream",
     "text": [
      "Calculating Sentiment for:  medical\n"
     ]
    },
    {
     "name": "stderr",
     "output_type": "stream",
     "text": [
      "\r",
      "  4%|██▉                                                                               | 7/199 [00:16<09:45,  3.05s/it]"
     ]
    },
    {
     "name": "stdout",
     "output_type": "stream",
     "text": [
      "Calculating Sentiment for:  checkup\n"
     ]
    },
    {
     "name": "stderr",
     "output_type": "stream",
     "text": [
      "\r",
      "  4%|███▎                                                                              | 8/199 [00:16<06:56,  2.18s/it]"
     ]
    },
    {
     "name": "stdout",
     "output_type": "stream",
     "text": [
      "Calculating Sentiment for:  reviews\n"
     ]
    },
    {
     "name": "stderr",
     "output_type": "stream",
     "text": [
      "\r",
      "  5%|███▋                                                                              | 9/199 [00:18<07:16,  2.30s/it]"
     ]
    },
    {
     "name": "stdout",
     "output_type": "stream",
     "text": [
      "Calculating Sentiment for:  adequately\n"
     ]
    },
    {
     "name": "stderr",
     "output_type": "stream",
     "text": [
      "\r",
      "  5%|████                                                                             | 10/199 [00:19<05:34,  1.77s/it]"
     ]
    },
    {
     "name": "stdout",
     "output_type": "stream",
     "text": [
      "Calculating Sentiment for:  anywhere\n"
     ]
    },
    {
     "name": "stderr",
     "output_type": "stream",
     "text": [
      "\r",
      "  6%|████▍                                                                            | 11/199 [00:20<04:36,  1.47s/it]"
     ]
    },
    {
     "name": "stdout",
     "output_type": "stream",
     "text": [
      "Calculating Sentiment for:  else\n"
     ]
    },
    {
     "name": "stderr",
     "output_type": "stream",
     "text": [
      "\r",
      "  6%|████▉                                                                            | 12/199 [00:20<03:32,  1.14s/it]"
     ]
    },
    {
     "name": "stdout",
     "output_type": "stream",
     "text": [
      "Calculating Sentiment for:  place\n"
     ]
    },
    {
     "name": "stderr",
     "output_type": "stream",
     "text": [
      "\r",
      "  7%|█████▎                                                                           | 13/199 [00:21<03:39,  1.18s/it]"
     ]
    },
    {
     "name": "stdout",
     "output_type": "stream",
     "text": [
      "Calculating Sentiment for:  really\n"
     ]
    },
    {
     "name": "stderr",
     "output_type": "stream",
     "text": [
      "\r",
      "  7%|█████▋                                                                           | 14/199 [00:23<03:51,  1.25s/it]"
     ]
    },
    {
     "name": "stdout",
     "output_type": "stream",
     "text": [
      "Calculating Sentiment for:  clean\n"
     ]
    },
    {
     "name": "stderr",
     "output_type": "stream",
     "text": [
      "\r",
      "  8%|██████                                                                           | 15/199 [00:23<03:12,  1.04s/it]"
     ]
    },
    {
     "name": "stdout",
     "output_type": "stream",
     "text": [
      "Calculating Sentiment for:  overall\n"
     ]
    },
    {
     "name": "stderr",
     "output_type": "stream",
     "text": [
      "\r",
      "  8%|██████▌                                                                          | 16/199 [00:25<03:31,  1.16s/it]"
     ]
    },
    {
     "name": "stdout",
     "output_type": "stream",
     "text": [
      "Calculating Sentiment for:  fine\n"
     ]
    },
    {
     "name": "stderr",
     "output_type": "stream",
     "text": [
      "\r",
      "  9%|██████▉                                                                          | 17/199 [00:25<02:52,  1.05it/s]"
     ]
    },
    {
     "name": "stdout",
     "output_type": "stream",
     "text": [
      "Calculating Sentiment for:  good\n"
     ]
    },
    {
     "name": "stderr",
     "output_type": "stream",
     "text": [
      "\r",
      "  9%|███████▎                                                                         | 18/199 [00:27<03:44,  1.24s/it]"
     ]
    },
    {
     "name": "stdout",
     "output_type": "stream",
     "text": [
      "Calculating Sentiment for:  experience\n"
     ]
    },
    {
     "name": "stderr",
     "output_type": "stream",
     "text": [
      " 10%|████████▏                                                                        | 20/199 [00:31<03:55,  1.32s/it]"
     ]
    },
    {
     "name": "stdout",
     "output_type": "stream",
     "text": [
      "Calculating Sentiment for:  tip\n"
     ]
    },
    {
     "name": "stderr",
     "output_type": "stream",
     "text": [
      "\r",
      " 11%|████████▌                                                                        | 21/199 [00:31<03:05,  1.04s/it]"
     ]
    },
    {
     "name": "stdout",
     "output_type": "stream",
     "text": [
      "Calculating Sentiment for:  u\n",
      "Calculating Sentiment for:  checkupdont\n"
     ]
    },
    {
     "name": "stderr",
     "output_type": "stream",
     "text": [
      "\r",
      " 11%|████████▉                                                                        | 22/199 [00:31<02:26,  1.21it/s]"
     ]
    },
    {
     "name": "stdout",
     "output_type": "stream",
     "text": [
      "Calculating Sentiment for:  late\n",
      "Calculating Sentiment for:  back\n"
     ]
    },
    {
     "name": "stderr",
     "output_type": "stream",
     "text": [
      "\r",
      " 12%|█████████▊                                                                       | 24/199 [00:32<01:29,  1.96it/s]"
     ]
    },
    {
     "name": "stdout",
     "output_type": "stream",
     "text": [
      "Calculating Sentiment for:  day\n"
     ]
    },
    {
     "name": "stderr",
     "output_type": "stream",
     "text": [
      "\r",
      " 13%|██████████▏                                                                      | 25/199 [00:32<01:28,  1.96it/s]"
     ]
    },
    {
     "name": "stdout",
     "output_type": "stream",
     "text": [
      "Calculating Sentiment for:  complete\n"
     ]
    },
    {
     "name": "stderr",
     "output_type": "stream",
     "text": [
      "\r",
      " 13%|██████████▌                                                                      | 26/199 [00:33<01:38,  1.75it/s]"
     ]
    },
    {
     "name": "stdout",
     "output_type": "stream",
     "text": [
      "Calculating Sentiment for:  rest\n"
     ]
    },
    {
     "name": "stderr",
     "output_type": "stream",
     "text": [
      "\r",
      " 14%|██████████▉                                                                      | 27/199 [00:33<01:38,  1.75it/s]"
     ]
    },
    {
     "name": "stdout",
     "output_type": "stream",
     "text": [
      "Calculating Sentiment for:  gateentrance\n"
     ]
    },
    {
     "name": "stderr",
     "output_type": "stream",
     "text": [
      "\r",
      " 14%|███████████▍                                                                     | 28/199 [00:34<01:36,  1.78it/s]"
     ]
    },
    {
     "name": "stdout",
     "output_type": "stream",
     "text": [
      "Calculating Sentiment for:  entrancesecurity\n"
     ]
    },
    {
     "name": "stderr",
     "output_type": "stream",
     "text": [
      "\r",
      " 15%|███████████▊                                                                     | 29/199 [00:34<01:35,  1.79it/s]"
     ]
    },
    {
     "name": "stdout",
     "output_type": "stream",
     "text": [
      "Calculating Sentiment for:  checkcounter\n"
     ]
    },
    {
     "name": "stderr",
     "output_type": "stream",
     "text": [
      " 16%|████████████▌                                                                    | 31/199 [00:37<02:01,  1.39it/s]"
     ]
    },
    {
     "name": "stdout",
     "output_type": "stream",
     "text": [
      "Calculating Sentiment for:  stickerpass\n",
      "Calculating Sentiment for:  walk\n"
     ]
    },
    {
     "name": "stderr",
     "output_type": "stream",
     "text": [
      "\r",
      " 16%|█████████████                                                                    | 32/199 [00:37<01:34,  1.78it/s]"
     ]
    },
    {
     "name": "stdout",
     "output_type": "stream",
     "text": [
      "Calculating Sentiment for:  gatedont\n",
      "Calculating Sentiment for:  mei\n"
     ]
    },
    {
     "name": "stderr",
     "output_type": "stream",
     "text": [
      "\r",
      " 17%|█████████████▊                                                                   | 34/199 [00:37<01:02,  2.66it/s]"
     ]
    },
    {
     "name": "stdout",
     "output_type": "stream",
     "text": [
      "Calculating Sentiment for:  scan\n"
     ]
    },
    {
     "name": "stderr",
     "output_type": "stream",
     "text": [
      " 18%|██████████████▋                                                                  | 36/199 [00:37<00:47,  3.46it/s]"
     ]
    },
    {
     "name": "stdout",
     "output_type": "stream",
     "text": [
      "Calculating Sentiment for:  dontbother\n",
      "Calculating Sentiment for:  end\n"
     ]
    },
    {
     "name": "stderr",
     "output_type": "stream",
     "text": [
      "\r",
      " 19%|███████████████                                                                  | 37/199 [00:38<01:10,  2.31it/s]"
     ]
    },
    {
     "name": "stdout",
     "output_type": "stream",
     "text": [
      "Calculating Sentiment for:  hours\n"
     ]
    },
    {
     "name": "stderr",
     "output_type": "stream",
     "text": [
      "\r",
      " 19%|███████████████▍                                                                 | 38/199 [00:39<01:08,  2.35it/s]"
     ]
    },
    {
     "name": "stdout",
     "output_type": "stream",
     "text": [
      "Calculating Sentiment for:  realise\n"
     ]
    },
    {
     "name": "stderr",
     "output_type": "stream",
     "text": [
      "\r",
      " 20%|███████████████▊                                                                 | 39/199 [00:39<01:19,  2.01it/s]"
     ]
    },
    {
     "name": "stdout",
     "output_type": "stream",
     "text": [
      "Calculating Sentiment for:  youre\n"
     ]
    },
    {
     "name": "stderr",
     "output_type": "stream",
     "text": [
      "\r",
      " 20%|████████████████▎                                                                | 40/199 [00:40<01:10,  2.25it/s]"
     ]
    },
    {
     "name": "stdout",
     "output_type": "stream",
     "text": [
      "Calculating Sentiment for:  last\n"
     ]
    },
    {
     "name": "stderr",
     "output_type": "stream",
     "text": [
      "\r",
      " 21%|████████████████▋                                                                | 41/199 [00:40<01:02,  2.54it/s]"
     ]
    },
    {
     "name": "stdout",
     "output_type": "stream",
     "text": [
      "Calculating Sentiment for:  person\n"
     ]
    },
    {
     "name": "stderr",
     "output_type": "stream",
     "text": [
      "\r",
      " 21%|█████████████████                                                                | 42/199 [00:40<01:03,  2.46it/s]"
     ]
    },
    {
     "name": "stdout",
     "output_type": "stream",
     "text": [
      "Calculating Sentiment for:  line\n"
     ]
    },
    {
     "name": "stderr",
     "output_type": "stream",
     "text": [
      " 22%|█████████████████▉                                                               | 44/199 [00:41<00:50,  3.07it/s]"
     ]
    },
    {
     "name": "stdout",
     "output_type": "stream",
     "text": [
      "Calculating Sentiment for:  doctors\n",
      "Calculating Sentiment for:  fair\n"
     ]
    },
    {
     "name": "stderr",
     "output_type": "stream",
     "text": [
      " 23%|██████████████████▋                                                              | 46/199 [00:41<00:40,  3.77it/s]"
     ]
    },
    {
     "name": "stdout",
     "output_type": "stream",
     "text": [
      "Calculating Sentiment for:  choice\n"
     ]
    },
    {
     "name": "stderr",
     "output_type": "stream",
     "text": [
      "\r",
      " 24%|███████████████████▏                                                             | 47/199 [00:43<01:57,  1.29it/s]"
     ]
    },
    {
     "name": "stdout",
     "output_type": "stream",
     "text": [
      "Calculating Sentiment for:  waste\n",
      "Calculating Sentiment for:  time\n"
     ]
    },
    {
     "name": "stderr",
     "output_type": "stream",
     "text": [
      "\r",
      " 24%|███████████████████▌                                                             | 48/199 [00:45<02:34,  1.02s/it]"
     ]
    },
    {
     "name": "stdout",
     "output_type": "stream",
     "text": [
      "Calculating Sentiment for:  nsf\n"
     ]
    },
    {
     "name": "stderr",
     "output_type": "stream",
     "text": [
      "\r",
      " 25%|███████████████████▉                                                             | 49/199 [00:46<02:53,  1.16s/it]"
     ]
    },
    {
     "name": "stdout",
     "output_type": "stream",
     "text": [
      "Calculating Sentiment for:  extremely\n"
     ]
    },
    {
     "name": "stderr",
     "output_type": "stream",
     "text": [
      "\r",
      " 25%|████████████████████▎                                                            | 50/199 [00:47<02:28,  1.01it/s]"
     ]
    },
    {
     "name": "stdout",
     "output_type": "stream",
     "text": [
      "Calculating Sentiment for:  long\n"
     ]
    },
    {
     "name": "stderr",
     "output_type": "stream",
     "text": [
      "\r",
      " 26%|████████████████████▊                                                            | 51/199 [00:48<02:46,  1.13s/it]"
     ]
    },
    {
     "name": "stdout",
     "output_type": "stream",
     "text": [
      "Calculating Sentiment for:  staff\n"
     ]
    },
    {
     "name": "stderr",
     "output_type": "stream",
     "text": [
      "\r",
      " 26%|█████████████████████▏                                                           | 52/199 [00:54<05:51,  2.39s/it]"
     ]
    },
    {
     "name": "stdout",
     "output_type": "stream",
     "text": [
      "Calculating Sentiment for:  bad\n"
     ]
    },
    {
     "name": "stderr",
     "output_type": "stream",
     "text": [
      "\r",
      " 27%|█████████████████████▌                                                           | 53/199 [00:59<07:58,  3.28s/it]"
     ]
    },
    {
     "name": "stdout",
     "output_type": "stream",
     "text": [
      "Calculating Sentiment for:  personal\n"
     ]
    },
    {
     "name": "stderr",
     "output_type": "stream",
     "text": [
      "\r",
      " 27%|█████████████████████▉                                                           | 54/199 [01:00<06:30,  2.70s/it]"
     ]
    },
    {
     "name": "stdout",
     "output_type": "stream",
     "text": [
      "Calculating Sentiment for:  experienceeveryone\n"
     ]
    },
    {
     "name": "stderr",
     "output_type": "stream",
     "text": [
      "\r",
      " 28%|██████████████████████▍                                                          | 55/199 [01:01<04:46,  1.99s/it]"
     ]
    },
    {
     "name": "stdout",
     "output_type": "stream",
     "text": [
      "Calculating Sentiment for:  helpful\n"
     ]
    },
    {
     "name": "stderr",
     "output_type": "stream",
     "text": [
      " 29%|███████████████████████▏                                                         | 57/199 [01:01<02:36,  1.10s/it]"
     ]
    },
    {
     "name": "stdout",
     "output_type": "stream",
     "text": [
      "Calculating Sentiment for:  initiative\n"
     ]
    },
    {
     "name": "stderr",
     "output_type": "stream",
     "text": [
      "\r",
      " 29%|███████████████████████▌                                                         | 58/199 [01:02<01:59,  1.18it/s]"
     ]
    },
    {
     "name": "stdout",
     "output_type": "stream",
     "text": [
      "Calculating Sentiment for:  help\n",
      "Calculating Sentiment for:  unfriendly\n"
     ]
    },
    {
     "name": "stderr",
     "output_type": "stream",
     "text": [
      "\r",
      " 30%|████████████████████████                                                         | 59/199 [01:02<01:43,  1.36it/s]"
     ]
    },
    {
     "name": "stdout",
     "output_type": "stream",
     "text": [
      "Calculating Sentiment for:  guards\n"
     ]
    },
    {
     "name": "stderr",
     "output_type": "stream",
     "text": [
      "\r",
      " 30%|████████████████████████▍                                                        | 60/199 [01:03<01:37,  1.43it/s]"
     ]
    },
    {
     "name": "stdout",
     "output_type": "stream",
     "text": [
      "Calculating Sentiment for:  job\n"
     ]
    },
    {
     "name": "stderr",
     "output_type": "stream",
     "text": [
      "\r",
      " 31%|████████████████████████▊                                                        | 61/199 [01:03<01:18,  1.76it/s]"
     ]
    },
    {
     "name": "stdout",
     "output_type": "stream",
     "text": [
      "Calculating Sentiment for:  stuff\n"
     ]
    },
    {
     "name": "stderr",
     "output_type": "stream",
     "text": [
      "\r",
      " 31%|█████████████████████████▏                                                       | 62/199 [01:04<01:23,  1.64it/s]"
     ]
    },
    {
     "name": "stdout",
     "output_type": "stream",
     "text": [
      "Calculating Sentiment for:  suppose\n"
     ]
    },
    {
     "name": "stderr",
     "output_type": "stream",
     "text": [
      "\r",
      " 32%|█████████████████████████▋                                                       | 63/199 [01:04<01:34,  1.44it/s]"
     ]
    },
    {
     "name": "stdout",
     "output_type": "stream",
     "text": [
      "Calculating Sentiment for:  absolutely\n"
     ]
    },
    {
     "name": "stderr",
     "output_type": "stream",
     "text": [
      "\r",
      " 32%|██████████████████████████                                                       | 64/199 [01:05<01:22,  1.64it/s]"
     ]
    },
    {
     "name": "stdout",
     "output_type": "stream",
     "text": [
      "Calculating Sentiment for:  atrocious\n"
     ]
    },
    {
     "name": "stderr",
     "output_type": "stream",
     "text": [
      "\r",
      " 33%|██████████████████████████▍                                                      | 65/199 [01:05<01:15,  1.77it/s]"
     ]
    },
    {
     "name": "stdout",
     "output_type": "stream",
     "text": [
      "Calculating Sentiment for:  woman\n",
      "Calculating Sentiment for:  keeps\n"
     ]
    },
    {
     "name": "stderr",
     "output_type": "stream",
     "text": [
      "\r",
      " 34%|███████████████████████████▎                                                     | 67/199 [01:06<01:06,  1.99it/s]"
     ]
    },
    {
     "name": "stdout",
     "output_type": "stream",
     "text": [
      "Calculating Sentiment for:  tone\n"
     ]
    },
    {
     "name": "stderr",
     "output_type": "stream",
     "text": [
      " 35%|████████████████████████████                                                     | 69/199 [01:07<01:06,  1.94it/s]"
     ]
    },
    {
     "name": "stdout",
     "output_type": "stream",
     "text": [
      "Calculating Sentiment for:  talks\n",
      "Calculating Sentiment for:  always\n"
     ]
    },
    {
     "name": "stderr",
     "output_type": "stream",
     "text": [
      "\r",
      " 35%|████████████████████████████▍                                                    | 70/199 [01:08<00:59,  2.16it/s]"
     ]
    },
    {
     "name": "stdout",
     "output_type": "stream",
     "text": [
      "Calculating Sentiment for:  mask\n"
     ]
    },
    {
     "name": "stderr",
     "output_type": "stream",
     "text": [
      " 36%|█████████████████████████████▎                                                   | 72/199 [01:08<00:44,  2.87it/s]"
     ]
    },
    {
     "name": "stdout",
     "output_type": "stream",
     "text": [
      "Calculating Sentiment for:  expressions\n",
      "Calculating Sentiment for:  screening\n"
     ]
    },
    {
     "name": "stderr",
     "output_type": "stream",
     "text": [
      "\r",
      " 37%|█████████████████████████████▋                                                   | 73/199 [01:09<00:55,  2.25it/s]"
     ]
    },
    {
     "name": "stdout",
     "output_type": "stream",
     "text": [
      "Calculating Sentiment for:  station\n"
     ]
    },
    {
     "name": "stderr",
     "output_type": "stream",
     "text": [
      "\r",
      " 37%|██████████████████████████████                                                   | 74/199 [01:09<00:53,  2.31it/s]"
     ]
    },
    {
     "name": "stdout",
     "output_type": "stream",
     "text": [
      "Calculating Sentiment for:  rude\n"
     ]
    },
    {
     "name": "stderr",
     "output_type": "stream",
     "text": [
      "\r",
      " 38%|██████████████████████████████▌                                                  | 75/199 [01:11<01:32,  1.34it/s]"
     ]
    },
    {
     "name": "stdout",
     "output_type": "stream",
     "text": [
      "Calculating Sentiment for:  serious\n"
     ]
    },
    {
     "name": "stderr",
     "output_type": "stream",
     "text": [
      "\r",
      " 38%|██████████████████████████████▉                                                  | 76/199 [01:11<01:19,  1.55it/s]"
     ]
    },
    {
     "name": "stdout",
     "output_type": "stream",
     "text": [
      "Calculating Sentiment for:  impatient\n"
     ]
    },
    {
     "name": "stderr",
     "output_type": "stream",
     "text": [
      " 39%|███████████████████████████████▋                                                 | 78/199 [01:12<01:03,  1.89it/s]"
     ]
    },
    {
     "name": "stdout",
     "output_type": "stream",
     "text": [
      "Calculating Sentiment for:  undesirably\n"
     ]
    },
    {
     "name": "stderr",
     "output_type": "stream",
     "text": [
      "\r",
      " 40%|████████████████████████████████▏                                                | 79/199 [01:13<01:21,  1.48it/s]"
     ]
    },
    {
     "name": "stdout",
     "output_type": "stream",
     "text": [
      "Calculating Sentiment for:  times\n",
      "Calculating Sentiment for:  cmpb\n"
     ]
    },
    {
     "name": "stderr",
     "output_type": "stream",
     "text": [
      "\r",
      " 40%|████████████████████████████████▌                                                | 80/199 [01:14<01:11,  1.67it/s]"
     ]
    },
    {
     "name": "stdout",
     "output_type": "stream",
     "text": [
      "Calculating Sentiment for:  sent\n"
     ]
    },
    {
     "name": "stderr",
     "output_type": "stream",
     "text": [
      "\r",
      " 41%|████████████████████████████████▉                                                | 81/199 [01:14<01:02,  1.87it/s]"
     ]
    },
    {
     "name": "stdout",
     "output_type": "stream",
     "text": [
      "Calculating Sentiment for:  son\n"
     ]
    },
    {
     "name": "stderr",
     "output_type": "stream",
     "text": [
      "\r",
      " 41%|█████████████████████████████████▍                                               | 82/199 [01:15<01:11,  1.64it/s]"
     ]
    },
    {
     "name": "stdout",
     "output_type": "stream",
     "text": [
      "Calculating Sentiment for:  preenlistment\n"
     ]
    },
    {
     "name": "stderr",
     "output_type": "stream",
     "text": [
      "\r",
      " 42%|█████████████████████████████████▊                                               | 83/199 [01:15<01:15,  1.53it/s]"
     ]
    },
    {
     "name": "stdout",
     "output_type": "stream",
     "text": [
      "Calculating Sentiment for:  enlistmentcheckup\n"
     ]
    },
    {
     "name": "stderr",
     "output_type": "stream",
     "text": [
      " 43%|██████████████████████████████████▌                                              | 85/199 [01:16<00:55,  2.04it/s]"
     ]
    },
    {
     "name": "stdout",
     "output_type": "stream",
     "text": [
      "Calculating Sentiment for:  guard\n",
      "Calculating Sentiment for:  clear\n"
     ]
    },
    {
     "name": "stderr",
     "output_type": "stream",
     "text": [
      "\r",
      " 43%|███████████████████████████████████                                              | 86/199 [01:17<00:57,  1.98it/s]"
     ]
    },
    {
     "name": "stdout",
     "output_type": "stream",
     "text": [
      "Calculating Sentiment for:  instructions\n"
     ]
    },
    {
     "name": "stderr",
     "output_type": "stream",
     "text": [
      " 44%|███████████████████████████████████▊                                             | 88/199 [01:17<00:42,  2.58it/s]"
     ]
    },
    {
     "name": "stdout",
     "output_type": "stream",
     "text": [
      "Calculating Sentiment for:  alight\n",
      "Calculating Sentiment for:  drive\n"
     ]
    },
    {
     "name": "stderr",
     "output_type": "stream",
     "text": [
      " 45%|████████████████████████████████████▋                                            | 90/199 [01:18<00:36,  2.98it/s]"
     ]
    },
    {
     "name": "stdout",
     "output_type": "stream",
     "text": [
      "Calculating Sentiment for:  train\n",
      "Calculating Sentiment for:  army\n"
     ]
    },
    {
     "name": "stderr",
     "output_type": "stream",
     "text": [
      "\r",
      " 46%|█████████████████████████████████████                                            | 91/199 [01:18<00:32,  3.30it/s]"
     ]
    },
    {
     "name": "stdout",
     "output_type": "stream",
     "text": [
      "Calculating Sentiment for:  inconvenient\n"
     ]
    },
    {
     "name": "stderr",
     "output_type": "stream",
     "text": [
      "\r",
      " 46%|█████████████████████████████████████▍                                           | 92/199 [01:19<00:43,  2.43it/s]"
     ]
    },
    {
     "name": "stdout",
     "output_type": "stream",
     "text": [
      "Calculating Sentiment for:  locations\n"
     ]
    },
    {
     "name": "stderr",
     "output_type": "stream",
     "text": [
      " 47%|██████████████████████████████████████▎                                          | 94/199 [01:20<00:44,  2.35it/s]"
     ]
    },
    {
     "name": "stdout",
     "output_type": "stream",
     "text": [
      "Calculating Sentiment for:  ever\n"
     ]
    },
    {
     "name": "stderr",
     "output_type": "stream",
     "text": [
      "\r",
      " 48%|██████████████████████████████████████▋                                          | 95/199 [01:20<00:45,  2.26it/s]"
     ]
    },
    {
     "name": "stdout",
     "output_type": "stream",
     "text": [
      "Calculating Sentiment for:  terrible\n",
      "Calculating Sentiment for:  directions\n"
     ]
    },
    {
     "name": "stderr",
     "output_type": "stream",
     "text": [
      "\r",
      " 48%|███████████████████████████████████████                                          | 96/199 [01:21<00:50,  2.02it/s]"
     ]
    },
    {
     "name": "stdout",
     "output_type": "stream",
     "text": [
      "Calculating Sentiment for:  whole\n"
     ]
    },
    {
     "name": "stderr",
     "output_type": "stream",
     "text": [
      "\r",
      " 49%|███████████████████████████████████████▍                                         | 97/199 [01:21<00:45,  2.24it/s]"
     ]
    },
    {
     "name": "stdout",
     "output_type": "stream",
     "text": [
      "Calculating Sentiment for:  process\n"
     ]
    },
    {
     "name": "stderr",
     "output_type": "stream",
     "text": [
      "\r",
      " 49%|███████████████████████████████████████▉                                         | 98/199 [01:22<00:48,  2.07it/s]"
     ]
    },
    {
     "name": "stdout",
     "output_type": "stream",
     "text": [
      "Calculating Sentiment for:  take\n"
     ]
    },
    {
     "name": "stderr",
     "output_type": "stream",
     "text": [
      "\r",
      " 50%|████████████████████████████████████████▎                                        | 99/199 [01:23<00:56,  1.76it/s]"
     ]
    },
    {
     "name": "stdout",
     "output_type": "stream",
     "text": [
      "Calculating Sentiment for:  ok\n"
     ]
    },
    {
     "name": "stderr",
     "output_type": "stream",
     "text": [
      "\r",
      " 50%|████████████████████████████████████████▏                                       | 100/199 [01:24<01:26,  1.15it/s]"
     ]
    },
    {
     "name": "stdout",
     "output_type": "stream",
     "text": [
      "Calculating Sentiment for:  maybe\n"
     ]
    },
    {
     "name": "stderr",
     "output_type": "stream",
     "text": [
      "\r",
      " 51%|████████████████████████████████████████▌                                       | 101/199 [01:24<01:07,  1.46it/s]"
     ]
    },
    {
     "name": "stdout",
     "output_type": "stream",
     "text": [
      "Calculating Sentiment for:  sikit\n"
     ]
    },
    {
     "name": "stderr",
     "output_type": "stream",
     "text": [
      " 52%|█████████████████████████████████████████▍                                      | 103/199 [01:25<00:45,  2.11it/s]"
     ]
    },
    {
     "name": "stdout",
     "output_type": "stream",
     "text": [
      "Calculating Sentiment for:  typical\n",
      "Calculating Sentiment for:  tio\n"
     ]
    },
    {
     "name": "stderr",
     "output_type": "stream",
     "text": [
      "\r",
      " 52%|█████████████████████████████████████████▊                                      | 104/199 [01:26<00:44,  2.11it/s]"
     ]
    },
    {
     "name": "stdout",
     "output_type": "stream",
     "text": [
      "Calculating Sentiment for:  switch\n"
     ]
    },
    {
     "name": "stderr",
     "output_type": "stream",
     "text": [
      "\r",
      " 53%|██████████████████████████████████████████▏                                     | 105/199 [01:26<00:44,  2.10it/s]"
     ]
    },
    {
     "name": "stdout",
     "output_type": "stream",
     "text": [
      "Calculating Sentiment for:  vocationmo\n"
     ]
    },
    {
     "name": "stderr",
     "output_type": "stream",
     "text": [
      "\r",
      " 53%|██████████████████████████████████████████▌                                     | 106/199 [01:26<00:44,  2.08it/s]"
     ]
    },
    {
     "name": "stdout",
     "output_type": "stream",
     "text": [
      "Calculating Sentiment for:  hand\n"
     ]
    },
    {
     "name": "stderr",
     "output_type": "stream",
     "text": [
      " 54%|███████████████████████████████████████████▍                                    | 108/199 [01:27<00:31,  2.91it/s]"
     ]
    },
    {
     "name": "stdout",
     "output_type": "stream",
     "text": [
      "Calculating Sentiment for:  probably\n"
     ]
    },
    {
     "name": "stderr",
     "output_type": "stream",
     "text": [
      "\r",
      " 55%|███████████████████████████████████████████▊                                    | 109/199 [01:27<00:31,  2.83it/s]"
     ]
    },
    {
     "name": "stdout",
     "output_type": "stream",
     "text": [
      "Calculating Sentiment for:  visit\n",
      "Calculating Sentiment for:  contrary\n"
     ]
    },
    {
     "name": "stderr",
     "output_type": "stream",
     "text": [
      "\r",
      " 55%|████████████████████████████████████████████▏                                   | 110/199 [01:28<00:28,  3.09it/s]"
     ]
    },
    {
     "name": "stdout",
     "output_type": "stream",
     "text": [
      "Calculating Sentiment for:  others\n"
     ]
    },
    {
     "name": "stderr",
     "output_type": "stream",
     "text": [
      " 56%|█████████████████████████████████████████████                                   | 112/199 [01:28<00:24,  3.62it/s]"
     ]
    },
    {
     "name": "stdout",
     "output_type": "stream",
     "text": [
      "Calculating Sentiment for:  sure\n"
     ]
    },
    {
     "name": "stderr",
     "output_type": "stream",
     "text": [
      "\r",
      " 57%|█████████████████████████████████████████████▍                                  | 113/199 [01:29<00:42,  2.01it/s]"
     ]
    },
    {
     "name": "stdout",
     "output_type": "stream",
     "text": [
      "Calculating Sentiment for:  conditions\n",
      "Calculating Sentiment for:  severe\n"
     ]
    },
    {
     "name": "stderr",
     "output_type": "stream",
     "text": [
      "\r",
      " 57%|█████████████████████████████████████████████▊                                  | 114/199 [01:30<00:40,  2.07it/s]"
     ]
    },
    {
     "name": "stdout",
     "output_type": "stream",
     "text": [
      "Calculating Sentiment for:  officer\n"
     ]
    },
    {
     "name": "stderr",
     "output_type": "stream",
     "text": [
      "\r",
      " 58%|██████████████████████████████████████████████▏                                 | 115/199 [01:30<00:36,  2.29it/s]"
     ]
    },
    {
     "name": "stdout",
     "output_type": "stream",
     "text": [
      "Calculating Sentiment for:  fare\n"
     ]
    },
    {
     "name": "stderr",
     "output_type": "stream",
     "text": [
      "\r",
      " 58%|██████████████████████████████████████████████▋                                 | 116/199 [01:30<00:35,  2.37it/s]"
     ]
    },
    {
     "name": "stdout",
     "output_type": "stream",
     "text": [
      "Calculating Sentiment for:  well\n"
     ]
    },
    {
     "name": "stderr",
     "output_type": "stream",
     "text": [
      "\r",
      " 59%|███████████████████████████████████████████████                                 | 117/199 [01:31<00:34,  2.37it/s]"
     ]
    },
    {
     "name": "stdout",
     "output_type": "stream",
     "text": [
      "Calculating Sentiment for:  specialistletter\n"
     ]
    },
    {
     "name": "stderr",
     "output_type": "stream",
     "text": [
      "\r",
      " 59%|███████████████████████████████████████████████▍                                | 118/199 [01:31<00:36,  2.22it/s]"
     ]
    },
    {
     "name": "stdout",
     "output_type": "stream",
     "text": [
      "Calculating Sentiment for:  ask\n"
     ]
    },
    {
     "name": "stderr",
     "output_type": "stream",
     "text": [
      "\r",
      " 60%|███████████████████████████████████████████████▊                                | 119/199 [01:34<01:27,  1.09s/it]"
     ]
    },
    {
     "name": "stdout",
     "output_type": "stream",
     "text": [
      "Calculating Sentiment for:  question\n"
     ]
    },
    {
     "name": "stderr",
     "output_type": "stream",
     "text": [
      "\r",
      " 60%|████████████████████████████████████████████████▏                               | 120/199 [01:34<01:17,  1.02it/s]"
     ]
    },
    {
     "name": "stdout",
     "output_type": "stream",
     "text": [
      "Calculating Sentiment for:  ignore\n"
     ]
    },
    {
     "name": "stderr",
     "output_type": "stream",
     "text": [
      "\r",
      " 61%|████████████████████████████████████████████████▋                               | 121/199 [01:35<01:08,  1.14it/s]"
     ]
    },
    {
     "name": "stdout",
     "output_type": "stream",
     "text": [
      "Calculating Sentiment for:  nice\n"
     ]
    },
    {
     "name": "stderr",
     "output_type": "stream",
     "text": [
      "\r",
      " 61%|█████████████████████████████████████████████████                               | 122/199 [01:36<01:13,  1.05it/s]"
     ]
    },
    {
     "name": "stdout",
     "output_type": "stream",
     "text": [
      "Calculating Sentiment for:  friendly\n"
     ]
    },
    {
     "name": "stderr",
     "output_type": "stream",
     "text": [
      "\r",
      " 62%|█████████████████████████████████████████████████▍                              | 123/199 [01:36<00:56,  1.35it/s]"
     ]
    },
    {
     "name": "stdout",
     "output_type": "stream",
     "text": [
      "Calculating Sentiment for:  great\n"
     ]
    },
    {
     "name": "stderr",
     "output_type": "stream",
     "text": [
      "\r",
      " 62%|█████████████████████████████████████████████████▊                              | 124/199 [01:38<01:05,  1.15it/s]"
     ]
    },
    {
     "name": "stdout",
     "output_type": "stream",
     "text": [
      "Calculating Sentiment for:  medic\n"
     ]
    },
    {
     "name": "stderr",
     "output_type": "stream",
     "text": [
      "\r",
      " 63%|██████████████████████████████████████████████████▎                             | 125/199 [01:38<00:57,  1.28it/s]"
     ]
    },
    {
     "name": "stdout",
     "output_type": "stream",
     "text": [
      "Calculating Sentiment for:  check\n"
     ]
    },
    {
     "name": "stderr",
     "output_type": "stream",
     "text": [
      "\r",
      " 63%|██████████████████████████████████████████████████▋                             | 126/199 [01:40<01:15,  1.03s/it]"
     ]
    },
    {
     "name": "stdout",
     "output_type": "stream",
     "text": [
      "Calculating Sentiment for:  constantly\n"
     ]
    },
    {
     "name": "stderr",
     "output_type": "stream",
     "text": [
      "\r",
      " 64%|███████████████████████████████████████████████████                             | 127/199 [01:40<00:59,  1.21it/s]"
     ]
    },
    {
     "name": "stdout",
     "output_type": "stream",
     "text": [
      "Calculating Sentiment for:  patience\n"
     ]
    },
    {
     "name": "stderr",
     "output_type": "stream",
     "text": [
      "\r",
      " 64%|███████████████████████████████████████████████████▍                            | 128/199 [01:41<00:51,  1.38it/s]"
     ]
    },
    {
     "name": "stdout",
     "output_type": "stream",
     "text": [
      "Calculating Sentiment for:  bully\n",
      "Calculating Sentiment for:  meh\n"
     ]
    },
    {
     "name": "stderr",
     "output_type": "stream",
     "text": [
      " 66%|████████████████████████████████████████████████████▋                           | 131/199 [01:41<00:27,  2.49it/s]"
     ]
    },
    {
     "name": "stdout",
     "output_type": "stream",
     "text": [
      "Calculating Sentiment for:  pretty\n"
     ]
    },
    {
     "name": "stderr",
     "output_type": "stream",
     "text": [
      "\r",
      " 66%|█████████████████████████████████████████████████████                           | 132/199 [01:42<00:25,  2.58it/s]"
     ]
    },
    {
     "name": "stdout",
     "output_type": "stream",
     "text": [
      "Calculating Sentiment for:  lousy\n",
      "Calculating Sentiment for:  service\n"
     ]
    },
    {
     "name": "stderr",
     "output_type": "stream",
     "text": [
      "\r",
      " 67%|█████████████████████████████████████████████████████▍                          | 133/199 [01:43<00:41,  1.60it/s]"
     ]
    },
    {
     "name": "stdout",
     "output_type": "stream",
     "text": [
      "Calculating Sentiment for:  dk\n"
     ]
    },
    {
     "name": "stderr",
     "output_type": "stream",
     "text": [
      " 68%|██████████████████████████████████████████████████████▎                         | 135/199 [01:43<00:27,  2.34it/s]"
     ]
    },
    {
     "name": "stdout",
     "output_type": "stream",
     "text": [
      "Calculating Sentiment for:  also\n",
      "Calculating Sentiment for:  taiji\n"
     ]
    },
    {
     "name": "stderr",
     "output_type": "stream",
     "text": [
      "\r",
      " 68%|██████████████████████████████████████████████████████▋                         | 136/199 [01:44<00:25,  2.50it/s]"
     ]
    },
    {
     "name": "stdout",
     "output_type": "stream",
     "text": [
      "Calculating Sentiment for:  negative\n"
     ]
    },
    {
     "name": "stderr",
     "output_type": "stream",
     "text": [
      "\r",
      " 69%|███████████████████████████████████████████████████████                         | 137/199 [01:45<00:36,  1.71it/s]"
     ]
    },
    {
     "name": "stdout",
     "output_type": "stream",
     "text": [
      "Calculating Sentiment for:  share\n"
     ]
    },
    {
     "name": "stderr",
     "output_type": "stream",
     "text": [
      "\r",
      " 69%|███████████████████████████████████████████████████████▍                        | 138/199 [01:45<00:32,  1.90it/s]"
     ]
    },
    {
     "name": "stdout",
     "output_type": "stream",
     "text": [
      "Calculating Sentiment for:  quick\n"
     ]
    },
    {
     "name": "stderr",
     "output_type": "stream",
     "text": [
      "\r",
      " 70%|███████████████████████████████████████████████████████▉                        | 139/199 [01:45<00:27,  2.16it/s]"
     ]
    },
    {
     "name": "stdout",
     "output_type": "stream",
     "text": [
      "Calculating Sentiment for:  opinion\n"
     ]
    },
    {
     "name": "stderr",
     "output_type": "stream",
     "text": [
      "\r",
      " 70%|████████████████████████████████████████████████████████▎                       | 140/199 [01:46<00:35,  1.67it/s]"
     ]
    },
    {
     "name": "stdout",
     "output_type": "stream",
     "text": [
      "Calculating Sentiment for:  perhaps\n"
     ]
    },
    {
     "name": "stderr",
     "output_type": "stream",
     "text": [
      "\r",
      " 71%|████████████████████████████████████████████████████████▋                       | 141/199 [01:47<00:29,  2.00it/s]"
     ]
    },
    {
     "name": "stdout",
     "output_type": "stream",
     "text": [
      "Calculating Sentiment for:  varies\n"
     ]
    },
    {
     "name": "stderr",
     "output_type": "stream",
     "text": [
      "\r",
      " 71%|█████████████████████████████████████████████████████████                       | 142/199 [01:47<00:27,  2.08it/s]"
     ]
    },
    {
     "name": "stdout",
     "output_type": "stream",
     "text": [
      "Calculating Sentiment for:  trip\n"
     ]
    },
    {
     "name": "stderr",
     "output_type": "stream",
     "text": [
      "\r",
      " 72%|█████████████████████████████████████████████████████████▍                      | 143/199 [01:47<00:22,  2.45it/s]"
     ]
    },
    {
     "name": "stdout",
     "output_type": "stream",
     "text": [
      "Calculating Sentiment for:  ultimately\n"
     ]
    },
    {
     "name": "stderr",
     "output_type": "stream",
     "text": [
      "\r",
      " 72%|█████████████████████████████████████████████████████████▉                      | 144/199 [01:47<00:19,  2.79it/s]"
     ]
    },
    {
     "name": "stdout",
     "output_type": "stream",
     "text": [
      "Calculating Sentiment for:  definitely\n"
     ]
    },
    {
     "name": "stderr",
     "output_type": "stream",
     "text": [
      "\r",
      " 73%|██████████████████████████████████████████████████████████▎                     | 145/199 [01:48<00:20,  2.60it/s]"
     ]
    },
    {
     "name": "stdout",
     "output_type": "stream",
     "text": [
      "Calculating Sentiment for:  memorable\n"
     ]
    },
    {
     "name": "stderr",
     "output_type": "stream",
     "text": [
      "\r",
      " 73%|██████████████████████████████████████████████████████████▋                     | 146/199 [01:48<00:21,  2.48it/s]"
     ]
    },
    {
     "name": "stdout",
     "output_type": "stream",
     "text": [
      "Calculating Sentiment for:  sessions\n"
     ]
    },
    {
     "name": "stderr",
     "output_type": "stream",
     "text": [
      "\r",
      " 74%|███████████████████████████████████████████████████████████                     | 147/199 [01:49<00:32,  1.61it/s]"
     ]
    },
    {
     "name": "stdout",
     "output_type": "stream",
     "text": [
      "Calculating Sentiment for:  chargeinconvenient\n"
     ]
    },
    {
     "name": "stderr",
     "output_type": "stream",
     "text": [
      "\r",
      " 74%|███████████████████████████████████████████████████████████▍                    | 148/199 [01:50<00:35,  1.42it/s]"
     ]
    },
    {
     "name": "stdout",
     "output_type": "stream",
     "text": [
      "Calculating Sentiment for:  inconvenientlocation\n"
     ]
    },
    {
     "name": "stderr",
     "output_type": "stream",
     "text": [
      " 75%|████████████████████████████████████████████████████████████▎                   | 150/199 [01:52<00:30,  1.62it/s]"
     ]
    },
    {
     "name": "stdout",
     "output_type": "stream",
     "text": [
      "Calculating Sentiment for:  cookhouse\n",
      "Calculating Sentiment for:  meagre\n"
     ]
    },
    {
     "name": "stderr",
     "output_type": "stream",
     "text": [
      "\r",
      " 76%|████████████████████████████████████████████████████████████▋                   | 151/199 [01:52<00:22,  2.10it/s]"
     ]
    },
    {
     "name": "stdout",
     "output_type": "stream",
     "text": [
      "Calculating Sentiment for:  pay\n"
     ]
    },
    {
     "name": "stderr",
     "output_type": "stream",
     "text": [
      " 77%|█████████████████████████████████████████████████████████████▌                  | 153/199 [01:52<00:16,  2.85it/s]"
     ]
    },
    {
     "name": "stdout",
     "output_type": "stream",
     "text": [
      "Calculating Sentiment for:  officerattitude\n"
     ]
    },
    {
     "name": "stderr",
     "output_type": "stream",
     "text": [
      "\r",
      " 77%|█████████████████████████████████████████████████████████████▉                  | 154/199 [01:53<00:15,  2.94it/s]"
     ]
    },
    {
     "name": "stdout",
     "output_type": "stream",
     "text": [
      "Calculating Sentiment for:  use\n",
      "Calculating Sentiment for:  many\n"
     ]
    },
    {
     "name": "stderr",
     "output_type": "stream",
     "text": [
      " 78%|██████████████████████████████████████████████████████████████▋                 | 156/199 [01:53<00:12,  3.36it/s]"
     ]
    },
    {
     "name": "stdout",
     "output_type": "stream",
     "text": [
      "Calculating Sentiment for:  cool\n",
      "Calculating Sentiment for:  gold\n"
     ]
    },
    {
     "name": "stderr",
     "output_type": "stream",
     "text": [
      " 79%|███████████████████████████████████████████████████████████████▌                | 158/199 [01:53<00:09,  4.16it/s]"
     ]
    },
    {
     "name": "stdout",
     "output_type": "stream",
     "text": [
      "Calculating Sentiment for:  star\n",
      "Calculating Sentiment for:  public\n"
     ]
    },
    {
     "name": "stderr",
     "output_type": "stream",
     "text": [
      "\r",
      " 80%|███████████████████████████████████████████████████████████████▉                | 159/199 [01:54<00:10,  3.72it/s]"
     ]
    },
    {
     "name": "stdout",
     "output_type": "stream",
     "text": [
      "Calculating Sentiment for:  even\n"
     ]
    },
    {
     "name": "stderr",
     "output_type": "stream",
     "text": [
      "\r",
      " 80%|████████████████████████████████████████████████████████████████▎               | 160/199 [01:55<00:15,  2.52it/s]"
     ]
    },
    {
     "name": "stdout",
     "output_type": "stream",
     "text": [
      "Calculating Sentiment for:  bored\n"
     ]
    },
    {
     "name": "stderr",
     "output_type": "stream",
     "text": [
      "\r",
      " 81%|████████████████████████████████████████████████████████████████▋               | 161/199 [01:55<00:20,  1.89it/s]"
     ]
    },
    {
     "name": "stdout",
     "output_type": "stream",
     "text": [
      "Calculating Sentiment for:  cold\n"
     ]
    },
    {
     "name": "stderr",
     "output_type": "stream",
     "text": [
      "\r",
      " 81%|█████████████████████████████████████████████████████████████████▏              | 162/199 [01:56<00:19,  1.89it/s]"
     ]
    },
    {
     "name": "stdout",
     "output_type": "stream",
     "text": [
      "Calculating Sentiment for:  air\n"
     ]
    },
    {
     "name": "stderr",
     "output_type": "stream",
     "text": [
      " 82%|█████████████████████████████████████████████████████████████████▉              | 164/199 [01:57<00:14,  2.44it/s]"
     ]
    },
    {
     "name": "stdout",
     "output_type": "stream",
     "text": [
      "Calculating Sentiment for:  accessible\n",
      "Calculating Sentiment for:  poor\n"
     ]
    },
    {
     "name": "stderr",
     "output_type": "stream",
     "text": [
      " 83%|██████████████████████████████████████████████████████████████████▋             | 166/199 [01:58<00:16,  2.04it/s]"
     ]
    },
    {
     "name": "stdout",
     "output_type": "stream",
     "text": [
      "Calculating Sentiment for:  customerservice\n",
      "Calculating Sentiment for:  worst\n"
     ]
    },
    {
     "name": "stderr",
     "output_type": "stream",
     "text": [
      "\r",
      " 84%|███████████████████████████████████████████████████████████████████▏            | 167/199 [01:58<00:12,  2.58it/s]"
     ]
    },
    {
     "name": "stdout",
     "output_type": "stream",
     "text": [
      "Calculating Sentiment for:  real\n"
     ]
    },
    {
     "name": "stderr",
     "output_type": "stream",
     "text": [
      "\r",
      " 84%|███████████████████████████████████████████████████████████████████▌            | 168/199 [01:58<00:11,  2.60it/s]"
     ]
    },
    {
     "name": "stdout",
     "output_type": "stream",
     "text": [
      "Calculating Sentiment for:  edgy\n"
     ]
    },
    {
     "name": "stderr",
     "output_type": "stream",
     "text": [
      "\r",
      " 85%|███████████████████████████████████████████████████████████████████▉            | 169/199 [01:59<00:12,  2.39it/s]"
     ]
    },
    {
     "name": "stdout",
     "output_type": "stream",
     "text": [
      "Calculating Sentiment for:  ziyuan\n"
     ]
    },
    {
     "name": "stderr",
     "output_type": "stream",
     "text": [
      "\r",
      " 85%|████████████████████████████████████████████████████████████████████▎           | 170/199 [01:59<00:12,  2.25it/s]"
     ]
    },
    {
     "name": "stdout",
     "output_type": "stream",
     "text": [
      "Calculating Sentiment for:  novel\n"
     ]
    },
    {
     "name": "stderr",
     "output_type": "stream",
     "text": [
      "\r",
      " 86%|████████████████████████████████████████████████████████████████████▋           | 171/199 [02:00<00:11,  2.53it/s]"
     ]
    },
    {
     "name": "stdout",
     "output_type": "stream",
     "text": [
      "Calculating Sentiment for:  writer\n"
     ]
    },
    {
     "name": "stderr",
     "output_type": "stream",
     "text": [
      "\r",
      " 86%|█████████████████████████████████████████████████████████████████████▏          | 172/199 [02:00<00:13,  2.00it/s]"
     ]
    },
    {
     "name": "stdout",
     "output_type": "stream",
     "text": [
      "Calculating Sentiment for:  highly\n"
     ]
    },
    {
     "name": "stderr",
     "output_type": "stream",
     "text": [
      "\r",
      " 87%|█████████████████████████████████████████████████████████████████████▌          | 173/199 [02:01<00:13,  1.94it/s]"
     ]
    },
    {
     "name": "stdout",
     "output_type": "stream",
     "text": [
      "Calculating Sentiment for:  inaccessible\n"
     ]
    },
    {
     "name": "stderr",
     "output_type": "stream",
     "text": [
      "\r",
      " 87%|█████████████████████████████████████████████████████████████████████▉          | 174/199 [02:02<00:13,  1.90it/s]"
     ]
    },
    {
     "name": "stdout",
     "output_type": "stream",
     "text": [
      "Calculating Sentiment for:  hard\n"
     ]
    },
    {
     "name": "stderr",
     "output_type": "stream",
     "text": [
      "\r",
      " 88%|██████████████████████████████████████████████████████████████████████▎         | 175/199 [02:02<00:12,  1.88it/s]"
     ]
    },
    {
     "name": "stdout",
     "output_type": "stream",
     "text": [
      "Calculating Sentiment for:  get\n"
     ]
    },
    {
     "name": "stderr",
     "output_type": "stream",
     "text": [
      "\r",
      " 88%|██████████████████████████████████████████████████████████████████████▊         | 176/199 [02:03<00:11,  1.96it/s]"
     ]
    },
    {
     "name": "stdout",
     "output_type": "stream",
     "text": [
      "Calculating Sentiment for:  mrt\n"
     ]
    },
    {
     "name": "stderr",
     "output_type": "stream",
     "text": [
      "\r",
      " 89%|███████████████████████████████████████████████████████████████████████▏        | 177/199 [02:03<00:10,  2.15it/s]"
     ]
    },
    {
     "name": "stdout",
     "output_type": "stream",
     "text": [
      "Calculating Sentiment for:  stations\n"
     ]
    },
    {
     "name": "stderr",
     "output_type": "stream",
     "text": [
      " 90%|███████████████████████████████████████████████████████████████████████▉        | 179/199 [02:03<00:06,  2.98it/s]"
     ]
    },
    {
     "name": "stdout",
     "output_type": "stream",
     "text": [
      "Calculating Sentiment for:  book\n",
      "Calculating Sentiment for:  everyday\n"
     ]
    },
    {
     "name": "stderr",
     "output_type": "stream",
     "text": [
      "\r",
      " 90%|████████████████████████████████████████████████████████████████████████▎       | 180/199 [02:04<00:05,  3.23it/s]"
     ]
    },
    {
     "name": "stdout",
     "output_type": "stream",
     "text": [
      "Calculating Sentiment for:  troublesome\n"
     ]
    },
    {
     "name": "stderr",
     "output_type": "stream",
     "text": [
      "\r",
      " 91%|████████████████████████████████████████████████████████████████████████▊       | 181/199 [02:04<00:06,  2.84it/s]"
     ]
    },
    {
     "name": "stdout",
     "output_type": "stream",
     "text": [
      "Calculating Sentiment for:  thing\n"
     ]
    },
    {
     "name": "stderr",
     "output_type": "stream",
     "text": [
      "\r",
      " 91%|█████████████████████████████████████████████████████████████████████████▏      | 182/199 [02:05<00:11,  1.54it/s]"
     ]
    },
    {
     "name": "stdout",
     "output_type": "stream",
     "text": [
      "Calculating Sentiment for:  whats\n"
     ]
    },
    {
     "name": "stderr",
     "output_type": "stream",
     "text": [
      "\r",
      " 92%|█████████████████████████████████████████████████████████████████████████▌      | 183/199 [02:06<00:09,  1.69it/s]"
     ]
    },
    {
     "name": "stdout",
     "output_type": "stream",
     "text": [
      "Calculating Sentiment for:  sidenotecanteen\n"
     ]
    },
    {
     "name": "stderr",
     "output_type": "stream",
     "text": [
      "\r",
      " 92%|█████████████████████████████████████████████████████████████████████████▉      | 184/199 [02:07<00:10,  1.43it/s]"
     ]
    },
    {
     "name": "stdout",
     "output_type": "stream",
     "text": [
      "Calculating Sentiment for:  canteenb\n"
     ]
    },
    {
     "name": "stderr",
     "output_type": "stream",
     "text": [
      "\r",
      " 93%|██████████████████████████████████████████████████████████████████████████▎     | 185/199 [02:08<00:10,  1.33it/s]"
     ]
    },
    {
     "name": "stdout",
     "output_type": "stream",
     "text": [
      "Calculating Sentiment for:  officertalk\n"
     ]
    },
    {
     "name": "stderr",
     "output_type": "stream",
     "text": [
      " 94%|███████████████████████████████████████████████████████████████████████████▏    | 187/199 [02:08<00:05,  2.04it/s]"
     ]
    },
    {
     "name": "stdout",
     "output_type": "stream",
     "text": [
      "Calculating Sentiment for:  money\n",
      "Calculating Sentiment for:  need\n"
     ]
    },
    {
     "name": "stderr",
     "output_type": "stream",
     "text": [
      "\r",
      " 94%|███████████████████████████████████████████████████████████████████████████▌    | 188/199 [02:09<00:05,  1.96it/s]"
     ]
    },
    {
     "name": "stdout",
     "output_type": "stream",
     "text": [
      "Calculating Sentiment for:  far\n"
     ]
    },
    {
     "name": "stderr",
     "output_type": "stream",
     "text": [
      " 95%|████████████████████████████████████████████████████████████████████████████▍   | 190/199 [02:09<00:03,  2.79it/s]"
     ]
    },
    {
     "name": "stdout",
     "output_type": "stream",
     "text": [
      "Calculating Sentiment for:  away\n",
      "Calculating Sentiment for:  security\n"
     ]
    },
    {
     "name": "stderr",
     "output_type": "stream",
     "text": [
      "\r",
      " 96%|████████████████████████████████████████████████████████████████████████████▊   | 191/199 [02:10<00:02,  2.78it/s]"
     ]
    },
    {
     "name": "stdout",
     "output_type": "stream",
     "text": [
      "Calculating Sentiment for:  troopers\n"
     ]
    },
    {
     "name": "stderr",
     "output_type": "stream",
     "text": [
      "\r",
      " 96%|█████████████████████████████████████████████████████████████████████████████▏  | 192/199 [02:10<00:03,  2.04it/s]"
     ]
    },
    {
     "name": "stdout",
     "output_type": "stream",
     "text": [
      "Calculating Sentiment for:  attitude\n"
     ]
    },
    {
     "name": "stderr",
     "output_type": "stream",
     "text": [
      " 97%|█████████████████████████████████████████████████████████████████████████████▉  | 194/199 [02:11<00:01,  2.65it/s]"
     ]
    },
    {
     "name": "stdout",
     "output_type": "stream",
     "text": [
      "Calculating Sentiment for:  unbelievably\n"
     ]
    },
    {
     "name": "stderr",
     "output_type": "stream",
     "text": [
      "\r",
      " 98%|██████████████████████████████████████████████████████████████████████████████▍ | 195/199 [02:11<00:01,  2.86it/s]"
     ]
    },
    {
     "name": "stdout",
     "output_type": "stream",
     "text": [
      "Calculating Sentiment for:  interestingly\n",
      "Calculating Sentiment for:  enough\n"
     ]
    },
    {
     "name": "stderr",
     "output_type": "stream",
     "text": [
      "\r",
      " 98%|██████████████████████████████████████████████████████████████████████████████▊ | 196/199 [02:12<00:01,  1.85it/s]"
     ]
    },
    {
     "name": "stdout",
     "output_type": "stream",
     "text": [
      "Calculating Sentiment for:  sheat\n"
     ]
    },
    {
     "name": "stderr",
     "output_type": "stream",
     "text": [
      " 99%|███████████████████████████████████████████████████████████████████████████████▌| 198/199 [02:13<00:00,  2.62it/s]"
     ]
    },
    {
     "name": "stdout",
     "output_type": "stream",
     "text": [
      "Calculating Sentiment for:  dirty\n",
      "Calculating Sentiment for:  pigs\n"
     ]
    },
    {
     "name": "stderr",
     "output_type": "stream",
     "text": [
      "100%|████████████████████████████████████████████████████████████████████████████████| 199/199 [02:13<00:00,  1.49it/s]\n"
     ]
    }
   ],
   "source": [
    "fin = get_sentiment(a, b, nlp)"
   ]
  },
  {
   "cell_type": "code",
   "execution_count": 328,
   "id": "comparable-wagon",
   "metadata": {
    "scrolled": true
   },
   "outputs": [
    {
     "data": {
      "text/html": [
       "<div>\n",
       "<style scoped>\n",
       "    .dataframe tbody tr th:only-of-type {\n",
       "        vertical-align: middle;\n",
       "    }\n",
       "\n",
       "    .dataframe tbody tr th {\n",
       "        vertical-align: top;\n",
       "    }\n",
       "\n",
       "    .dataframe thead th {\n",
       "        text-align: right;\n",
       "    }\n",
       "</style>\n",
       "<table border=\"1\" class=\"dataframe\">\n",
       "  <thead>\n",
       "    <tr style=\"text-align: right;\">\n",
       "      <th></th>\n",
       "      <th>Avg_sent</th>\n",
       "      <th>Descriptors</th>\n",
       "      <th>Freq</th>\n",
       "    </tr>\n",
       "  </thead>\n",
       "  <tbody>\n",
       "    <tr>\n",
       "      <th>staff</th>\n",
       "      <td>0.875000</td>\n",
       "      <td>professional ,unfriendly ,doing ,keep ,unfrien...</td>\n",
       "      <td>11</td>\n",
       "    </tr>\n",
       "    <tr>\n",
       "      <th>people</th>\n",
       "      <td>0.884956</td>\n",
       "      <td>professional ,recommended ,there ,suggest ,her...</td>\n",
       "      <td>10</td>\n",
       "    </tr>\n",
       "    <tr>\n",
       "      <th>medical</th>\n",
       "      <td>0.917160</td>\n",
       "      <td>checkup ,checkupdont ,screening ,conditions ,o...</td>\n",
       "      <td>10</td>\n",
       "    </tr>\n",
       "    <tr>\n",
       "      <th>bad</th>\n",
       "      <td>0.875912</td>\n",
       "      <td>reviews ,its ,not ,that ,canteenb ,real ,cante...</td>\n",
       "      <td>8</td>\n",
       "    </tr>\n",
       "    <tr>\n",
       "      <th>reviews</th>\n",
       "      <td>0.878788</td>\n",
       "      <td>other ,suggest ,nsf ,bad ,what ,negative ,nega...</td>\n",
       "      <td>6</td>\n",
       "    </tr>\n",
       "    <tr>\n",
       "      <th>...</th>\n",
       "      <td>...</td>\n",
       "      <td>...</td>\n",
       "      <td>...</td>\n",
       "    </tr>\n",
       "    <tr>\n",
       "      <th>process</th>\n",
       "      <td>0.923077</td>\n",
       "      <td>whole ,expect</td>\n",
       "      <td>1</td>\n",
       "    </tr>\n",
       "    <tr>\n",
       "      <th>take</th>\n",
       "      <td>0.944444</td>\n",
       "      <td>hours ,recommended</td>\n",
       "      <td>1</td>\n",
       "    </tr>\n",
       "    <tr>\n",
       "      <th>gateentrance</th>\n",
       "      <td>1.000000</td>\n",
       "      <td>checkcounter</td>\n",
       "      <td>1</td>\n",
       "    </tr>\n",
       "    <tr>\n",
       "      <th>maybe</th>\n",
       "      <td>1.000000</td>\n",
       "      <td>sikit</td>\n",
       "      <td>1</td>\n",
       "    </tr>\n",
       "    <tr>\n",
       "      <th>pigs</th>\n",
       "      <td>0.933333</td>\n",
       "      <td>dirty ,training</td>\n",
       "      <td>1</td>\n",
       "    </tr>\n",
       "  </tbody>\n",
       "</table>\n",
       "<p>199 rows × 3 columns</p>\n",
       "</div>"
      ],
      "text/plain": [
       "              Avg_sent                                        Descriptors  \\\n",
       "staff         0.875000  professional ,unfriendly ,doing ,keep ,unfrien...   \n",
       "people        0.884956  professional ,recommended ,there ,suggest ,her...   \n",
       "medical       0.917160  checkup ,checkupdont ,screening ,conditions ,o...   \n",
       "bad           0.875912  reviews ,its ,not ,that ,canteenb ,real ,cante...   \n",
       "reviews       0.878788  other ,suggest ,nsf ,bad ,what ,negative ,nega...   \n",
       "...                ...                                                ...   \n",
       "process       0.923077                                      whole ,expect   \n",
       "take          0.944444                                 hours ,recommended   \n",
       "gateentrance  1.000000                                       checkcounter   \n",
       "maybe         1.000000                                              sikit   \n",
       "pigs          0.933333                                    dirty ,training   \n",
       "\n",
       "              Freq  \n",
       "staff           11  \n",
       "people          10  \n",
       "medical         10  \n",
       "bad              8  \n",
       "reviews          6  \n",
       "...            ...  \n",
       "process          1  \n",
       "take             1  \n",
       "gateentrance     1  \n",
       "maybe            1  \n",
       "pigs             1  \n",
       "\n",
       "[199 rows x 3 columns]"
      ]
     },
     "execution_count": 328,
     "metadata": {},
     "output_type": "execute_result"
    }
   ],
   "source": [
    "fin"
   ]
  },
  {
   "cell_type": "code",
   "execution_count": 341,
   "id": "buried-perspective",
   "metadata": {},
   "outputs": [],
   "source": [
    "def get_tfidf_features(df, content_str = \"Content\", min_ = 2, max_ = 0.5, ngramrange = (1,2)):\n",
    "    \n",
    "    # Replace \"\" with nan's for removal\n",
    "    #df[content_str].replace('', np.nan, inplace=True)\n",
    "    #df.dropna(subset=[content_str], inplace=True)\n",
    "    #stop_words = set(stopwords.words('english'))\n",
    "    #df[content_str] = df[content_str].apply(lambda x: ''.join([word for word in x.split() if word not in (stop_words)]))\n",
    "    \n",
    "    review_list = df[content_str].to_list()\n",
    "    #feat_count = dict()\n",
    "    #feat_sent = dict()\n",
    "    #nlp = stanza.Pipeline('en')\n",
    "\n",
    "        \n",
    "    #print(review_list)\n",
    "    tfidf = TfidfVectorizer(min_df = min_, max_df = max_, ngramrange);\n",
    "    features = tfidf.fit_transform(review_list);\n",
    "    q = pd.DataFrame(features.todense(), columns=tfidf.get_feature_names())\n",
    "    \n",
    "    return list(q.columns)"
   ]
  },
  {
   "cell_type": "code",
   "execution_count": 342,
   "id": "global-vegetarian",
   "metadata": {},
   "outputs": [],
   "source": [
    "def refine_features(originaldf, sentimentdf):\n",
    "    tfidf_output = get_tfidf_features(originaldf)\n",
    "    sentimentdf = sentimentdf.reset_index()\n",
    "    ft_extract = set(sentimentdf['index']);\n",
    "    tfidf_extract = set(tfidf_output)\n",
    "    \n",
    "    intersecting_features = ft_extract.intersection(tfidf_extract)\n",
    "    \n",
    "    return_df = sentimentdf\n",
    "    return_df = return_df.loc[return_df['index'].isin(list(intersecting_features))]\n",
    "    print(\"Number of extracted features:\")\n",
    "    print(\"Initial = \", len(ft_extract), \" TFIDF = \", len(intersecting_features), \" Final after intersection = \", return_df.shape[0])\n",
    "    return return_df\n",
    "    \n",
    "    "
   ]
  },
  {
   "cell_type": "code",
   "execution_count": 343,
   "id": "pharmaceutical-elite",
   "metadata": {},
   "outputs": [
    {
     "name": "stdout",
     "output_type": "stream",
     "text": [
      "Number of extracted features:\n",
      "Initial =  199  TFIDF =  176  Final after intersection =  176\n"
     ]
    },
    {
     "name": "stderr",
     "output_type": "stream",
     "text": [
      "c:\\users\\vibkr\\appdata\\local\\programs\\python\\python39\\lib\\site-packages\\sklearn\\utils\\validation.py:70: FutureWarning: Pass input=2, encoding=0.5, decode_error=(1, 2) as keyword args. From version 1.0 (renaming of 0.25) passing these as positional arguments will result in an error\n",
      "  warnings.warn(f\"Pass {args_msg} as keyword args. From version \"\n"
     ]
    },
    {
     "data": {
      "text/html": [
       "<div>\n",
       "<style scoped>\n",
       "    .dataframe tbody tr th:only-of-type {\n",
       "        vertical-align: middle;\n",
       "    }\n",
       "\n",
       "    .dataframe tbody tr th {\n",
       "        vertical-align: top;\n",
       "    }\n",
       "\n",
       "    .dataframe thead th {\n",
       "        text-align: right;\n",
       "    }\n",
       "</style>\n",
       "<table border=\"1\" class=\"dataframe\">\n",
       "  <thead>\n",
       "    <tr style=\"text-align: right;\">\n",
       "      <th></th>\n",
       "      <th>index</th>\n",
       "      <th>Avg_sent</th>\n",
       "      <th>Descriptors</th>\n",
       "      <th>Freq</th>\n",
       "    </tr>\n",
       "  </thead>\n",
       "  <tbody>\n",
       "    <tr>\n",
       "      <th>0</th>\n",
       "      <td>staff</td>\n",
       "      <td>0.875000</td>\n",
       "      <td>professional ,unfriendly ,doing ,keep ,unfrien...</td>\n",
       "      <td>11</td>\n",
       "    </tr>\n",
       "    <tr>\n",
       "      <th>1</th>\n",
       "      <td>people</td>\n",
       "      <td>0.884956</td>\n",
       "      <td>professional ,recommended ,there ,suggest ,her...</td>\n",
       "      <td>10</td>\n",
       "    </tr>\n",
       "    <tr>\n",
       "      <th>2</th>\n",
       "      <td>medical</td>\n",
       "      <td>0.917160</td>\n",
       "      <td>checkup ,checkupdont ,screening ,conditions ,o...</td>\n",
       "      <td>10</td>\n",
       "    </tr>\n",
       "    <tr>\n",
       "      <th>3</th>\n",
       "      <td>bad</td>\n",
       "      <td>0.875912</td>\n",
       "      <td>reviews ,its ,not ,that ,canteenb ,real ,cante...</td>\n",
       "      <td>8</td>\n",
       "    </tr>\n",
       "    <tr>\n",
       "      <th>4</th>\n",
       "      <td>reviews</td>\n",
       "      <td>0.878788</td>\n",
       "      <td>other ,suggest ,nsf ,bad ,what ,negative ,nega...</td>\n",
       "      <td>6</td>\n",
       "    </tr>\n",
       "    <tr>\n",
       "      <th>...</th>\n",
       "      <td>...</td>\n",
       "      <td>...</td>\n",
       "      <td>...</td>\n",
       "      <td>...</td>\n",
       "    </tr>\n",
       "    <tr>\n",
       "      <th>193</th>\n",
       "      <td>whole</td>\n",
       "      <td>1.000000</td>\n",
       "      <td>process</td>\n",
       "      <td>1</td>\n",
       "    </tr>\n",
       "    <tr>\n",
       "      <th>194</th>\n",
       "      <td>process</td>\n",
       "      <td>0.923077</td>\n",
       "      <td>whole ,expect</td>\n",
       "      <td>1</td>\n",
       "    </tr>\n",
       "    <tr>\n",
       "      <th>195</th>\n",
       "      <td>take</td>\n",
       "      <td>0.944444</td>\n",
       "      <td>hours ,recommended</td>\n",
       "      <td>1</td>\n",
       "    </tr>\n",
       "    <tr>\n",
       "      <th>197</th>\n",
       "      <td>maybe</td>\n",
       "      <td>1.000000</td>\n",
       "      <td>sikit</td>\n",
       "      <td>1</td>\n",
       "    </tr>\n",
       "    <tr>\n",
       "      <th>198</th>\n",
       "      <td>pigs</td>\n",
       "      <td>0.933333</td>\n",
       "      <td>dirty ,training</td>\n",
       "      <td>1</td>\n",
       "    </tr>\n",
       "  </tbody>\n",
       "</table>\n",
       "<p>176 rows × 4 columns</p>\n",
       "</div>"
      ],
      "text/plain": [
       "       index  Avg_sent                                        Descriptors  \\\n",
       "0      staff  0.875000  professional ,unfriendly ,doing ,keep ,unfrien...   \n",
       "1     people  0.884956  professional ,recommended ,there ,suggest ,her...   \n",
       "2    medical  0.917160  checkup ,checkupdont ,screening ,conditions ,o...   \n",
       "3        bad  0.875912  reviews ,its ,not ,that ,canteenb ,real ,cante...   \n",
       "4    reviews  0.878788  other ,suggest ,nsf ,bad ,what ,negative ,nega...   \n",
       "..       ...       ...                                                ...   \n",
       "193    whole  1.000000                                            process   \n",
       "194  process  0.923077                                      whole ,expect   \n",
       "195     take  0.944444                                 hours ,recommended   \n",
       "197    maybe  1.000000                                              sikit   \n",
       "198     pigs  0.933333                                    dirty ,training   \n",
       "\n",
       "     Freq  \n",
       "0      11  \n",
       "1      10  \n",
       "2      10  \n",
       "3       8  \n",
       "4       6  \n",
       "..    ...  \n",
       "193     1  \n",
       "194     1  \n",
       "195     1  \n",
       "197     1  \n",
       "198     1  \n",
       "\n",
       "[176 rows x 4 columns]"
      ]
     },
     "execution_count": 343,
     "metadata": {},
     "output_type": "execute_result"
    }
   ],
   "source": [
    "refine_features(rdr, fin)"
   ]
  }
 ],
 "metadata": {
  "kernelspec": {
   "display_name": "Python 3",
   "language": "python",
   "name": "python3"
  },
  "language_info": {
   "codemirror_mode": {
    "name": "ipython",
    "version": 3
   },
   "file_extension": ".py",
   "mimetype": "text/x-python",
   "name": "python",
   "nbconvert_exporter": "python",
   "pygments_lexer": "ipython3",
   "version": "3.9.2"
  }
 },
 "nbformat": 4,
 "nbformat_minor": 5
}
