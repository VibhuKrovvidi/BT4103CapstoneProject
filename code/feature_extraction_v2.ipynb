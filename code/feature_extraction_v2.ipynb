{
 "cells": [
  {
   "cell_type": "code",
   "execution_count": 29,
   "id": "instructional-draft",
   "metadata": {},
   "outputs": [
    {
     "name": "stderr",
     "output_type": "stream",
     "text": [
      "Downloading https://raw.githubusercontent.com/stanfordnlp/stanza-resources/master/resources_1.2.0.json: 128kB [00:00, 16.0MB/s]\n",
      "2021-03-07 20:49:29 INFO: Downloading default packages for language: en (English)...\n",
      "2021-03-07 20:49:31 INFO: File exists: C:\\Users\\vibkr\\stanza_resources\\en\\default.zip.\n",
      "2021-03-07 20:49:34 INFO: Finished downloading models and saved to C:\\Users\\vibkr\\stanza_resources.\n",
      "[nltk_data] Downloading package stopwords to\n",
      "[nltk_data]     C:\\Users\\vibkr\\AppData\\Roaming\\nltk_data...\n",
      "[nltk_data]   Package stopwords is already up-to-date!\n",
      "[nltk_data] Downloading package punkt to\n",
      "[nltk_data]     C:\\Users\\vibkr\\AppData\\Roaming\\nltk_data...\n",
      "[nltk_data]   Package punkt is already up-to-date!\n",
      "[nltk_data] Downloading package averaged_perceptron_tagger to\n",
      "[nltk_data]     C:\\Users\\vibkr\\AppData\\Roaming\\nltk_data...\n",
      "[nltk_data]   Package averaged_perceptron_tagger is already up-to-\n",
      "[nltk_data]       date!\n"
     ]
    },
    {
     "data": {
      "text/plain": [
       "True"
      ]
     },
     "execution_count": 29,
     "metadata": {},
     "output_type": "execute_result"
    }
   ],
   "source": [
    "import pandas as pd\n",
    "import numpy as np\n",
    "import nltk\n",
    "from tqdm import tqdm\n",
    "from nltk.corpus import stopwords\n",
    "from nltk.corpus import wordnet\n",
    "from nltk.tokenize import word_tokenize, sent_tokenize\n",
    "from nltk.stem.wordnet import WordNetLemmatizer \n",
    "import stanza\n",
    "stanza.download('en') # download English model\n",
    "nltk.download('stopwords')\n",
    "nltk.download('punkt')\n",
    "nltk.download('averaged_perceptron_tagger')"
   ]
  },
  {
   "cell_type": "code",
   "execution_count": 30,
   "id": "constant-remains",
   "metadata": {},
   "outputs": [],
   "source": [
    "def feature_extraction(txt, nlp):\n",
    "    try:\n",
    "        txt = txt.lower()\n",
    "    except:\n",
    "        pass;\n",
    "\n",
    "    sentList = nltk.sent_tokenize(txt)\n",
    "\n",
    "    retlist = [];\n",
    "    \n",
    "    for line in sentList:\n",
    "        txt_list = nltk.word_tokenize(line)\n",
    "        taggedList = nltk.pos_tag(txt_list)\n",
    "        \n",
    "        newwordList = []\n",
    "        flag = 0\n",
    "        for i in range(0,len(taggedList)-1):\n",
    "            if(taggedList[i][1]==\"NN\" and taggedList[i+1][1]==\"NN\"):\n",
    "                newwordList.append(taggedList[i][0]+taggedList[i+1][0])\n",
    "                flag=1\n",
    "            else:\n",
    "                if(flag==1):\n",
    "                    flag=0\n",
    "                    continue\n",
    "                newwordList.append(taggedList[i][0])\n",
    "                if(i==len(taggedList)-2):\n",
    "                    newwordList.append(taggedList[i+1][0])\n",
    "        finaltxt = ' '.join(word for word in newwordList)\n",
    "    \n",
    "    \n",
    "        stop_words = set(stopwords.words('english'))\n",
    "        new_txt_list = nltk.word_tokenize(finaltxt)\n",
    "        wordsList = [w for w in new_txt_list if not w in stop_words]\n",
    "        taggedList = nltk.pos_tag(wordsList)\n",
    "        \n",
    "        doc = nlp(finaltxt)\n",
    "        dep_node = []\n",
    "        try:\n",
    "            for dep_edge in doc.sentences[0].dependencies:\n",
    "                dep_node.append([dep_edge[2].text, dep_edge[0].id, dep_edge[1]])\n",
    "            for i in range(0, len(dep_node)):\n",
    "                if (int(dep_node[i][1]) != 0):\n",
    "                    dep_node[i][1] = newwordList[(int(dep_node[i][1]) - 1)]\n",
    "        except:\n",
    "            pass;\n",
    "        \n",
    "        #print(dep_node)\n",
    "        \n",
    "        featureList = []\n",
    "        categories = []\n",
    "        for i in taggedList:\n",
    "            if(i[1]=='JJ' or i[1]=='NN' or i[1]=='JJR' or i[1]=='NNS' or i[1]=='RB'):\n",
    "                featureList.append(list(i))\n",
    "                categories.append(i[0])\n",
    "        #print(featureList)\n",
    "        #print(categories)\n",
    "        \n",
    "        \n",
    "        fcluster = []\n",
    "        for i in featureList:\n",
    "            filist = []\n",
    "            for j in dep_node:\n",
    "                if((j[0]==i[0] or j[1]==i[0]) and (j[2] in [\"nsubj\", \"acl:relcl\", \"obj\", \"dobj\", \"agent\", \"advmod\", \"amod\", \"neg\", \"prep_of\", \"acomp\", \"xcomp\", \"compound\"])):\n",
    "                    if(j[0]==i[0]):\n",
    "                        filist.append(j[1])\n",
    "                    else:\n",
    "                        filist.append(j[0])\n",
    "            fcluster.append([i[0], filist])\n",
    "        print(fcluster) \n",
    "        \n",
    "        # Remove all features with no sentiment word:\n",
    "        \n",
    "        retlist.append(fcluster)\n",
    "    return retlist;\n",
    "    "
   ]
  },
  {
   "cell_type": "code",
   "execution_count": 31,
   "id": "approved-burner",
   "metadata": {},
   "outputs": [],
   "source": [
    "def do_extraction(df, nlp, feat_count, feat_sent, content_str = \"Content\"):\n",
    "    idx = 0;\n",
    "    review_list = df[content_str].to_list()\n",
    "    #feat_count = dict()\n",
    "    #feat_sent = dict()\n",
    "    #nlp = stanza.Pipeline('en')\n",
    "    \n",
    "    # Replace \"\" with nan's for removal\n",
    "    df[content_str].replace('', np.nan, inplace=True)\n",
    "    df.dropna(subset=[content_str], inplace=True)\n",
    "    print(\" Processing : \" , df.shape[0], \"rows of data\")\n",
    "    for review in tqdm(review_list):\n",
    "        print(\"Review Number : \", idx);\n",
    "        idx += 1;\n",
    "        if idx >= df.shape[0]:\n",
    "            break;\n",
    "        try:\n",
    "            output = feature_extraction(review, nlp);\n",
    "        except:\n",
    "            pass;\n",
    "        for sent in output:\n",
    "            for pair in sent:\n",
    "                print(pair)\n",
    "                if pair[0] in feat_sent:\n",
    "                    if pair[1] is not None:\n",
    "                        flist = feat_sent[pair[0]]\n",
    "                        if isinstance(pair[1], list):\n",
    "                            for i in pair[1]:\n",
    "                                flist.append(i)\n",
    "                        else:\n",
    "                            flist.append(pair[1])\n",
    "                        feat_sent[pair[0]] = flist;\n",
    "                else:\n",
    "                    if pair[1] is not None:\n",
    "                        flist = pair[1]\n",
    "                    else:\n",
    "                        flist = list()\n",
    "                    feat_sent[pair[0]] = flist;\n",
    "                \n",
    "                if pair[0] in feat_count:\n",
    "                    feat_count[pair[0]] = feat_count[pair[0]] + 1;\n",
    "                else:\n",
    "                    feat_count[pair[0]] = 1\n",
    "\n",
    "    #print(feat_count);\n",
    "    return feat_count, feat_sent;"
   ]
  },
  {
   "cell_type": "code",
   "execution_count": 32,
   "id": "final-peripheral",
   "metadata": {},
   "outputs": [],
   "source": [
    "def get_sentiment(a, b, nlp):\n",
    "\n",
    "    sentiment_score = dict()\n",
    "\n",
    "    # Delete features with no descriptors\n",
    "    cob = b.copy()\n",
    "    for feat in cob.keys():\n",
    "        #print(cob[feat])\n",
    "        if cob[feat] == []:\n",
    "            del b[feat]\n",
    "\n",
    "    # Run pre-built sentiment score and take avg of all descriptors\n",
    "    for f in tqdm(b.keys()):\n",
    "        print(\"Calculating Sentiment for: \", f);\n",
    "        ssum = 0;\n",
    "        for g in b[f]:\n",
    "            try:\n",
    "                doc = nlp(g);\n",
    "\n",
    "                for i in doc.sentences:\n",
    "\n",
    "                        #print(i.sentiment)\n",
    "                        ssum += i.sentiment;\n",
    "            except:\n",
    "                pass;\n",
    "\n",
    "        sentiment_score[f] = ssum / len(b[f])\n",
    "\n",
    "        adf = pd.DataFrame.from_dict(a, orient='index', columns=['Freq'])\n",
    "    adf.sort_values(by=\"Freq\", ascending=False, inplace = True)\n",
    "\n",
    "\n",
    "\n",
    "    avg_sent = pd.DataFrame.from_dict(sentiment_score, orient='index', columns=[\"Avg_sent\"])\n",
    "\n",
    "    final_sent = avg_sent.merge(adf, left_index=True, right_index=True)\n",
    "    final_sent.sort_values(by=\"Freq\", ascending=False, inplace=True)\n",
    "    return final_sent;"
   ]
  },
  {
   "cell_type": "code",
   "execution_count": 33,
   "id": "horizontal-peter",
   "metadata": {},
   "outputs": [
    {
     "name": "stderr",
     "output_type": "stream",
     "text": [
      "2021-03-07 20:49:35 INFO: Loading these models for language: en (English):\n",
      "=========================\n",
      "| Processor | Package   |\n",
      "-------------------------\n",
      "| tokenize  | combined  |\n",
      "| pos       | combined  |\n",
      "| lemma     | combined  |\n",
      "| depparse  | combined  |\n",
      "| sentiment | sstplus   |\n",
      "| ner       | ontonotes |\n",
      "=========================\n",
      "\n",
      "2021-03-07 20:49:35 INFO: Use device: cpu\n",
      "2021-03-07 20:49:35 INFO: Loading: tokenize\n",
      "2021-03-07 20:49:35 INFO: Loading: pos\n",
      "2021-03-07 20:49:35 INFO: Loading: lemma\n",
      "2021-03-07 20:49:35 INFO: Loading: depparse\n",
      "2021-03-07 20:49:35 INFO: Loading: sentiment\n",
      "2021-03-07 20:49:36 INFO: Loading: ner\n",
      "2021-03-07 20:49:36 INFO: Done loading processors!\n",
      "  0%|                                                                                          | 0/115 [00:00<?, ?it/s]"
     ]
    },
    {
     "name": "stdout",
     "output_type": "stream",
     "text": [
      " Processing :  52 rows of data\n",
      "Review Number :  0\n",
      "[['professional', ['very', 'people']], ['people', ['professional', 'there']]]\n"
     ]
    },
    {
     "name": "stderr",
     "output_type": "stream",
     "text": [
      "\r",
      "  1%|▋                                                                                 | 1/115 [00:00<00:46,  2.43it/s]"
     ]
    },
    {
     "name": "stdout",
     "output_type": "stream",
     "text": [
      "[['recommended⭐⭐⭐⭐⭐', ['kind']], ['patient', ['very', 'kind']], ['kind', ['recommended⭐⭐⭐⭐⭐', 'patient', 'respectful']], ['respectful', ['kind']], ['..', []], ['smooth', ['very']], ['medical', [14]], ['check-up', []]]\n",
      "['professional', ['very', 'people']]\n",
      "['people', ['professional', 'there']]\n",
      "['recommended⭐⭐⭐⭐⭐', ['kind']]\n",
      "['patient', ['very', 'kind']]\n",
      "['kind', ['recommended⭐⭐⭐⭐⭐', 'patient', 'respectful']]\n",
      "['respectful', ['kind']]\n",
      "['..', []]\n",
      "['smooth', ['very']]\n",
      "['medical', [14]]\n",
      "['check-up', []]\n",
      "Review Number :  1\n"
     ]
    },
    {
     "name": "stderr",
     "output_type": "stream",
     "text": [
      "\r",
      "  2%|█▍                                                                                | 2/115 [00:00<00:46,  2.44it/s]"
     ]
    },
    {
     "name": "stdout",
     "output_type": "stream",
     "text": [
      "[['reviews', ['other', 'suggest']], ['people', ['friendly', 'here']], ['adequately', ['friendly']], ['friendly', ['people', 'adequately']], ['anywhere', ['else']], ['else', ['anywhere']], ['sg', []]]\n",
      "[['place', ['clean']], ['really', ['clean']], ['clean', ['place', 'really']], ['efficient', []]]\n",
      "['reviews', ['other', 'suggest']]\n",
      "['people', ['friendly', 'here']]\n",
      "['adequately', ['friendly']]\n",
      "['friendly', ['people', 'adequately']]\n",
      "['anywhere', ['else']]\n",
      "['else', ['anywhere']]\n",
      "['sg', []]\n",
      "['place', ['clean']]\n",
      "['really', ['clean']]\n",
      "['clean', ['place', 'really']]\n",
      "['efficient', []]\n",
      "Review Number :  2\n",
      "[['place', ['fine']], ['overall', ['fine']], ['fine', ['place', 'overall']]]\n",
      "[['good', ['experience']], ['experience', ['good']]]\n",
      "[['tip', ['just']], ['u', []], ['medical', ['checkup']], ['checkup', ['medical']]]\n",
      "[['dont', []], ['late', ['go']], ['else', []], ['u', ['have']], ['back', ['come']], ['day', ['other']], ['complete', ['rest']], ['rest', ['complete']]]\n",
      "['place', ['fine']]\n",
      "['overall', ['fine']]\n"
     ]
    },
    {
     "name": "stderr",
     "output_type": "stream",
     "text": [
      "\r",
      "  3%|██▏                                                                               | 3/115 [00:01<00:53,  2.09it/s]"
     ]
    },
    {
     "name": "stdout",
     "output_type": "stream",
     "text": [
      "['fine', ['place', 'overall']]\n",
      "['good', ['experience']]\n",
      "['experience', ['good']]\n",
      "['tip', ['just']]\n",
      "['u', []]\n",
      "['medical', ['checkup']]\n",
      "['checkup', ['medical']]\n",
      "['dont', []]\n",
      "['late', ['go']]\n",
      "['else', []]\n",
      "['u', ['have']]\n",
      "['back', ['come']]\n",
      "['day', ['other']]\n",
      "['complete', ['rest']]\n",
      "['rest', ['complete']]\n",
      "Review Number :  3\n"
     ]
    },
    {
     "name": "stderr",
     "output_type": "stream",
     "text": [
      "\r",
      "  3%|██▊                                                                               | 4/115 [00:01<00:56,  1.96it/s]"
     ]
    },
    {
     "name": "stdout",
     "output_type": "stream",
     "text": [
      "[['nscheckup', []], ['checkuptoday', []], ['august', ['...']], ['gate', [':']], ['entrance', []], ['securitycheck', []], ['counter', []], ['stickerpass', ['a']], ['walk', []], ['gate', [':']], [\"n't\", ['...']], ['thinking', []], ['scan', []], ['…', []]]\n",
      "['nscheckup', []]\n",
      "['checkuptoday', []]\n",
      "['august', ['...']]\n",
      "['gate', [':']]\n",
      "['entrance', []]\n",
      "['securitycheck', []]\n",
      "['counter', []]\n",
      "['stickerpass', ['a']]\n",
      "['walk', []]\n",
      "['gate', [':']]\n",
      "[\"n't\", ['...']]\n",
      "['thinking', []]\n",
      "['scan', []]\n",
      "['…', []]\n",
      "Review Number :  4\n",
      "[[\"n't\", ['bother']], ['bother', [\"n't\", 'showing']], ['timing', []], ['hours', []], ['last', ['person']], ['person', ['you', 'last']], ['line', []]]\n"
     ]
    },
    {
     "name": "stderr",
     "output_type": "stream",
     "text": [
      "\r",
      "  4%|███▌                                                                              | 5/115 [00:02<01:06,  1.64it/s]"
     ]
    },
    {
     "name": "stdout",
     "output_type": "stream",
     "text": [
      "[['doctors', ['care']], [\"n't\", ['care', 'have']], ['really', ['care', 'have']], ['fair', ['which']], [\"n't\", ['care', 'have']], ['really', ['care', 'have']], ['choice', ['have']]]\n",
      "[['place', ['waste']], ['complete', ['waste']], ['waste', ['place', 'complete']], ['space', []], ['time', []]]\n",
      "[\"n't\", ['bother']]\n",
      "['bother', [\"n't\", 'showing']]\n",
      "['timing', []]\n",
      "['hours', []]\n",
      "['last', ['person']]\n",
      "['person', ['you', 'last']]\n",
      "['line', []]\n",
      "['doctors', ['care']]\n",
      "[\"n't\", ['care', 'have']]\n",
      "['really', ['care', 'have']]\n",
      "['fair', ['which']]\n",
      "[\"n't\", ['care', 'have']]\n",
      "['really', ['care', 'have']]\n",
      "['choice', ['have']]\n",
      "['place', ['waste']]\n",
      "['complete', ['waste']]\n",
      "['waste', ['place', 'complete']]\n",
      "['space', []]\n",
      "['time', []]\n",
      "Review Number :  5\n"
     ]
    },
    {
     "name": "stderr",
     "output_type": "stream",
     "text": [
      "\r",
      "  5%|████▎                                                                             | 6/115 [00:02<00:49,  2.20it/s]"
     ]
    },
    {
     "name": "stdout",
     "output_type": "stream",
     "text": [
      "[['nsf', ['reviews']], ['reviews', ['nsf']], ['lol', []]]\n",
      "['nsf', ['reviews']]\n",
      "['reviews', ['nsf']]\n",
      "['lol', []]\n",
      "Review Number :  6\n",
      "[['extremely', ['long']], ['long', ['extremely', 'time']], ['time', ['long', 'takes']], ['due', []], ['waiting', []]]\n"
     ]
    },
    {
     "name": "stderr",
     "output_type": "stream",
     "text": [
      "\r",
      "  6%|████▉                                                                             | 7/115 [00:03<00:42,  2.54it/s]"
     ]
    },
    {
     "name": "stdout",
     "output_type": "stream",
     "text": [
      "[['overall', ['waste']], ['complete', ['waste']], ['waste', ['overall', 'complete']], ['time', []]]\n",
      "['extremely', ['long']]\n",
      "['long', ['extremely', 'time']]\n",
      "['time', ['long', 'takes']]\n",
      "['due', []]\n",
      "['waiting', []]\n",
      "['overall', ['waste']]\n",
      "['complete', ['waste']]\n",
      "['waste', ['overall', 'complete']]\n",
      "['time', []]\n",
      "Review Number :  7\n",
      "[['staff', ['professional']], ['professional', ['staff']], ['knows', []]]\n"
     ]
    },
    {
     "name": "stderr",
     "output_type": "stream",
     "text": [
      "\r",
      "  7%|█████▋                                                                            | 8/115 [00:03<00:45,  2.36it/s]"
     ]
    },
    {
     "name": "stdout",
     "output_type": "stream",
     "text": [
      "[['idk', []], ['bad', ['reviews']], ['personal', ['experience']], ['experience', ['personal']], ['everyone', ['is', 'there']], ['helpful', ['very', 'is']], ['initiative', ['take']], ['help', ['me']]]\n",
      "['staff', ['professional']]\n",
      "['professional', ['staff']]\n",
      "['knows', []]\n",
      "['idk', []]\n",
      "['bad', ['reviews']]\n",
      "['personal', ['experience']]\n",
      "['experience', ['personal']]\n",
      "['everyone', ['is', 'there']]\n",
      "['helpful', ['very', 'is']]\n",
      "['initiative', ['take']]\n",
      "['help', ['me']]\n",
      "Review Number :  8\n",
      "[['unfriendly', ['staff']], ['staff', ['unfriendly']]]\n",
      "[['guards', ['doing']], ['job', ['doing']], ['staff', ['keep']], ['stuff', ['more', 'do', 'suppose']], ['suppose', ['they', 'not', 'stuff']]]\n",
      "[['absolutely', ['atrocious']], ['atrocious', ['absolutely']]]\n",
      "[['woman', ['is']], ['keeps', ['who', 'vac', 'changing']], ['tone', ['changing']], ['talks', ['she']], ['people', ['threatens']], ['people', ['threatens']]]\n",
      "[['always', ['removes']], ['mask', ['removes']], ['talk', []], ['people', []], ['expressions', ['show']]]\n",
      "['unfriendly', ['staff']]\n",
      "['staff', ['unfriendly']]\n",
      "['guards', ['doing']]\n",
      "['job', ['doing']]\n",
      "['staff', ['keep']]\n",
      "['stuff', ['more', 'do', 'suppose']]\n",
      "['suppose', ['they', 'not', 'stuff']]\n",
      "['absolutely', ['atrocious']]\n",
      "['atrocious', ['absolutely']]\n",
      "['woman', ['is']]\n",
      "['keeps', ['who', 'vac', 'changing']]\n",
      "['tone', ['changing']]\n",
      "['talks', ['she']]\n"
     ]
    },
    {
     "name": "stderr",
     "output_type": "stream",
     "text": [
      "\r",
      "  8%|██████▍                                                                           | 9/115 [00:04<01:01,  1.73it/s]"
     ]
    },
    {
     "name": "stdout",
     "output_type": "stream",
     "text": [
      "['people', ['threatens']]\n",
      "['people', ['threatens']]\n",
      "['always', ['removes']]\n",
      "['mask', ['removes']]\n",
      "['talk', []]\n",
      "['people', []]\n",
      "['expressions', ['show']]\n",
      "Review Number :  9\n"
     ]
    },
    {
     "name": "stderr",
     "output_type": "stream",
     "text": [
      "\r",
      "  9%|███████                                                                          | 10/115 [00:04<00:49,  2.13it/s]"
     ]
    },
    {
     "name": "stdout",
     "output_type": "stream",
     "text": [
      "[['staff', ['rude']], ['medical', ['screening']], ['screening', ['medical', 'station']], ['station', ['screening']], ['height', []], ['weight', []], ['extremely', ['rude']], ['rude', ['staff', 'extremely']], ['unfriendly', []]]\n",
      "['staff', ['rude']]\n",
      "['medical', ['screening']]\n",
      "['screening', ['medical', 'station']]\n",
      "['station', ['screening']]\n",
      "['height', []]\n",
      "['weight', []]\n",
      "['extremely', ['rude']]\n",
      "['rude', ['staff', 'extremely']]\n",
      "['unfriendly', []]\n",
      "Review Number :  10\n",
      "[['staff', ['serious']], ['serious', ['staff', 'not']], ['impatient', []]]\n"
     ]
    },
    {
     "name": "stderr",
     "output_type": "stream",
     "text": [
      "\r",
      " 10%|███████▋                                                                         | 11/115 [00:05<00:45,  2.28it/s]"
     ]
    },
    {
     "name": "stdout",
     "output_type": "stream",
     "text": [
      "[['undesirably', ['long']], ['long', ['undesirably', 'times']], ['times', ['long', 'waiting']]]\n",
      "[['cmpb', ['recommend']], ['friend', []]]\n",
      "['staff', ['serious']]\n",
      "['serious', ['staff', 'not']]\n",
      "['impatient', []]\n",
      "['undesirably', ['long']]\n",
      "['long', ['undesirably', 'times']]\n",
      "['times', ['long', 'waiting']]\n",
      "['cmpb', ['recommend']]\n",
      "['friend', []]\n",
      "Review Number :  11\n",
      "[['sent', ['just', 'son']], ['son', ['sent']], ['preenlistment', ['enlistmentcheckup']], ['enlistmentcheckup', ['preenlistment']], ['morning', []]]\n",
      "[['guard', ['give']], ['entrance', []], [\"n't\", ['give']], ['clear', ['instructions']], ['instructions', ['clear', 'give']]]\n"
     ]
    },
    {
     "name": "stderr",
     "output_type": "stream",
     "text": [
      "\r",
      " 10%|████████▍                                                                        | 12/115 [00:05<00:54,  1.91it/s]"
     ]
    },
    {
     "name": "stdout",
     "output_type": "stream",
     "text": [
      "[['son', ['got']], ['alight', ['got']], [\"n't\", ['drive']]]\n",
      "[['helloplease', []], ['train', ['army']], ['army…', []]]\n",
      "['sent', ['just', 'son']]\n",
      "['son', ['sent']]\n",
      "['preenlistment', ['enlistmentcheckup']]\n",
      "['enlistmentcheckup', ['preenlistment']]\n",
      "['morning', []]\n",
      "['guard', ['give']]\n",
      "['entrance', []]\n",
      "[\"n't\", ['give']]\n",
      "['clear', ['instructions']]\n",
      "['instructions', ['clear', 'give']]\n",
      "['son', ['got']]\n",
      "['alight', ['got']]\n",
      "[\"n't\", ['drive']]\n",
      "['helloplease', []]\n",
      "['train', ['army']]\n",
      "['army…', []]\n",
      "Review Number :  12\n",
      "[['inconvenient', ['most', 'locations']], ['locations', ['inconvenient', 'seen']], ['ever', ['seen']]]\n",
      "[['terrible', ['directions']], ['directions', ['terrible']]]\n",
      "[['rude', ['staff']], ['staff', ['rude']]]\n"
     ]
    },
    {
     "name": "stderr",
     "output_type": "stream",
     "text": [
      "\r",
      " 11%|█████████▏                                                                       | 13/115 [00:06<00:54,  1.86it/s]"
     ]
    },
    {
     "name": "stdout",
     "output_type": "stream",
     "text": [
      "[['expect', ['process']], ['whole', ['process']], ['process', ['whole', 'expect']], ['take', ['hours']], ['hours', ['take']]]\n",
      "[['%', ['recommended']]]\n",
      "['inconvenient', ['most', 'locations']]\n",
      "['locations', ['inconvenient', 'seen']]\n",
      "['ever', ['seen']]\n",
      "['terrible', ['directions']]\n",
      "['directions', ['terrible']]\n",
      "['rude', ['staff']]\n",
      "['staff', ['rude']]\n",
      "['expect', ['process']]\n",
      "['whole', ['process']]\n",
      "['process', ['whole', 'expect']]\n",
      "['take', ['hours']]\n",
      "['hours', ['take']]\n",
      "['%', ['recommended']]\n",
      "Review Number :  13\n",
      "[['ok', []], ['lah', []], ['review', []], ['visit', []], ['january', []], ['maybe', ['sikit']], ['sikit', ['so', 'maybe']], ['date', []]]\n",
      "[['nsf', ['staff']], ['staff', ['nsf', 'ok']], ['ok', ['staff']], ['typical', ['bochap']], ['bochap', ['typical']], ['happy', []], ['bird', []], ['tio', ['switch', 'vocation']], ['switch', ['tio']], ['vocation', ['tio']]]\n",
      "[['mo', ['seemed']], ['hand', ['other']], ['si', []], ['pehbuay', ['buaysong']], ['buaysong', ['pehbuay', 'seemed']]]\n"
     ]
    },
    {
     "name": "stderr",
     "output_type": "stream",
     "text": [
      "\r",
      " 12%|█████████▊                                                                       | 14/115 [00:07<01:00,  1.67it/s]"
     ]
    },
    {
     "name": "stdout",
     "output_type": "stream",
     "text": [
      "[['probably', ['this']], ['…', []]]\n",
      "['ok', []]\n",
      "['lah', []]\n",
      "['review', []]\n",
      "['visit', []]\n",
      "['january', []]\n",
      "['maybe', ['sikit']]\n",
      "['sikit', ['so', 'maybe']]\n",
      "['date', []]\n",
      "['nsf', ['staff']]\n",
      "['staff', ['nsf', 'ok']]\n",
      "['ok', ['staff']]\n",
      "['typical', ['bochap']]\n",
      "['bochap', ['typical']]\n",
      "['happy', []]\n",
      "['bird', []]\n",
      "['tio', ['switch', 'vocation']]\n",
      "['switch', ['tio']]\n",
      "['vocation', ['tio']]\n",
      "['mo', ['seemed']]\n",
      "['hand', ['other']]\n",
      "['si', []]\n",
      "['pehbuay', ['buaysong']]\n",
      "['buaysong', ['pehbuay', 'seemed']]\n",
      "['probably', ['this']]\n",
      "['…', []]\n",
      "Review Number :  14\n"
     ]
    },
    {
     "name": "stderr",
     "output_type": "stream",
     "text": [
      "\r",
      " 13%|██████████▌                                                                      | 15/115 [00:07<00:48,  2.04it/s]"
     ]
    },
    {
     "name": "stdout",
     "output_type": "stream",
     "text": [
      "[['tbh', []], ['bad', ['not', 'that']], ['place', []], ['visit', []], ['contrary', []], ['others', ['saying']]]\n",
      "['tbh', []]\n",
      "['bad', ['not', 'that']]\n",
      "['place', []]\n",
      "['visit', []]\n",
      "['contrary', []]\n",
      "['others', ['saying']]\n",
      "Review Number :  15\n",
      "[['enlisting', ['here']], ['sure', ['make']], ['medical', ['conditions']], ['conditions', ['medical', 'declare']]]\n",
      "[['severe', []], ['minor', []], ['medical', ['officer']], ['officer', ['medical']], ['checkup', []]]\n"
     ]
    },
    {
     "name": "stderr",
     "output_type": "stream",
     "text": [
      "\r",
      " 14%|███████████▎                                                                     | 16/115 [00:08<00:53,  1.85it/s]"
     ]
    },
    {
     "name": "stdout",
     "output_type": "stream",
     "text": [
      "[['believe', ['you', 'not']], ['well', ['fare']], ['combat/pes-fit', []], ['bmt', []], ['medical', ['…', 'specialistletter']], ['specialistletter', ['medical']], ['…', ['medical']]]\n",
      "['enlisting', ['here']]\n",
      "['sure', ['make']]\n",
      "['medical', ['conditions']]\n",
      "['conditions', ['medical', 'declare']]\n",
      "['severe', []]\n",
      "['minor', []]\n",
      "['medical', ['officer']]\n",
      "['officer', ['medical']]\n",
      "['checkup', []]\n",
      "['believe', ['you', 'not']]\n",
      "['well', ['fare']]\n",
      "['combat/pes-fit', []]\n",
      "['bmt', []]\n",
      "['medical', ['…', 'specialistletter']]\n",
      "['specialistletter', ['medical']]\n",
      "['…', ['medical']]\n",
      "Review Number :  16\n",
      "[['guards', ['rude']], ['rude', ['guards', 'very']]]\n"
     ]
    },
    {
     "name": "stderr",
     "output_type": "stream",
     "text": [
      "\r",
      " 15%|███████████▉                                                                     | 17/115 [00:08<00:48,  2.02it/s]"
     ]
    },
    {
     "name": "stdout",
     "output_type": "stream",
     "text": [
      "[['ask', ['question']], ['question', ['ask', 'ignore']], ['ignore', ['they', 'question', 'you']]]\n",
      "[['rest', ['nice']], ['staff', []], ['nice', ['rest', 'though']], ['friendly', []]]\n",
      "['guards', ['rude']]\n",
      "['rude', ['guards', 'very']]\n",
      "['ask', ['question']]\n",
      "['question', ['ask', 'ignore']]\n",
      "['ignore', ['they', 'question', 'you']]\n",
      "['rest', ['nice']]\n",
      "['staff', []]\n",
      "['nice', ['rest', 'though']]\n",
      "['friendly', []]\n",
      "Review Number :  17\n"
     ]
    },
    {
     "name": "stderr",
     "output_type": "stream",
     "text": [
      "\r",
      " 16%|████████████▋                                                                    | 18/115 [00:08<00:39,  2.45it/s]"
     ]
    },
    {
     "name": "stdout",
     "output_type": "stream",
     "text": [
      "[['overall', ['experience']], ['great', ['experience']], ['experience', ['overall', 'great']], ['medic', ['professional']], ['professional', ['medic']], ['blooddraw', []]]\n",
      "['overall', ['experience']]\n",
      "['great', ['experience']]\n",
      "['experience', ['overall', 'great']]\n",
      "['medic', ['professional']]\n",
      "['professional', ['medic']]\n",
      "['blooddraw', []]\n",
      "Review Number :  18\n",
      "[['kind', ['very', 'people']], ['people', ['kind']], ['cmpd', []], ['medical', ['check']], ['check', ['medical', 'up']]]\n"
     ]
    },
    {
     "name": "stderr",
     "output_type": "stream",
     "text": [
      "\r",
      " 17%|█████████████▍                                                                   | 19/115 [00:08<00:36,  2.64it/s]"
     ]
    },
    {
     "name": "stdout",
     "output_type": "stream",
     "text": [
      "[['constantly', ['greeted']], ['smile', []], ['patience', []]]\n",
      "['kind', ['very', 'people']]\n",
      "['people', ['kind']]\n",
      "['cmpd', []]\n",
      "['medical', ['check']]\n",
      "['check', ['medical', 'up']]\n",
      "['constantly', ['greeted']]\n",
      "['smile', []]\n",
      "['patience', []]\n",
      "Review Number :  19\n",
      "[[\"n't\", ['bully']], ['bully', [\"n't\", 'me']]]\n",
      "[\"n't\", ['bully']]\n",
      "['bully', [\"n't\", 'me']]\n",
      "Review Number :  20\n",
      "[['meh', []]]\n"
     ]
    },
    {
     "name": "stderr",
     "output_type": "stream",
     "text": [
      "\r",
      " 18%|██████████████▊                                                                  | 21/115 [00:09<00:24,  3.80it/s]"
     ]
    },
    {
     "name": "stdout",
     "output_type": "stream",
     "text": [
      "[['staff', ['nice']], ['pretty', ['nice']], ['nice', ['staff', 'pretty']]]\n",
      "['meh', []]\n",
      "['staff', ['nice']]\n",
      "['pretty', ['nice']]\n",
      "['nice', ['staff', 'pretty']]\n",
      "Review Number :  21\n",
      "[['lousy', ['dk']], ['service', ['dk']], ['dk', ['lousy', 'service', 'help']], ['help', ['dk', 'people']], ['people', ['help']]]\n"
     ]
    },
    {
     "name": "stderr",
     "output_type": "stream",
     "text": [
      "\r",
      " 19%|███████████████▍                                                                 | 22/115 [00:09<00:25,  3.68it/s]"
     ]
    },
    {
     "name": "stdout",
     "output_type": "stream",
     "text": [
      "[['ask', ['question', 'taiji']], ['question', ['ask']], ['also', ['say']], ['dont', []], ['ask', ['question', 'taiji']], ['taiji', ['not', 'ask']]]\n",
      "['lousy', ['dk']]\n",
      "['service', ['dk']]\n",
      "['dk', ['lousy', 'service', 'help']]\n",
      "['help', ['dk', 'people']]\n",
      "['people', ['help']]\n",
      "['ask', ['question', 'taiji']]\n",
      "['question', ['ask']]\n",
      "['also', ['say']]\n",
      "['dont', []]\n",
      "['ask', ['question', 'taiji']]\n",
      "['taiji', ['not', 'ask']]\n",
      "Review Number :  22\n",
      "[['[', []], [']', []], ['tuesday', []], ['negative', ['reviews']], ['reviews', ['negative']], ['share', ['i', 'opinion']], ['quick', ['opinion']], ['personal', ['opinion']], ['opinion', ['quick', 'personal', 'share']]]\n"
     ]
    },
    {
     "name": "stderr",
     "output_type": "stream",
     "text": [
      " 21%|████████████████▉                                                                | 24/115 [00:10<00:27,  3.30it/s]"
     ]
    },
    {
     "name": "stdout",
     "output_type": "stream",
     "text": [
      "[['perhaps', ['varies']], ['varies', ['perhaps', 'it']], ['person', []], ['person', []], ['trip', ['great']], ['cmpb', []], ['ultimately', ['great']], ['great', ['trip', 'ultimately']], ['definitely', ['experience']], ['memorable', ['experience']], ['experience', ['definitely', 'memorable']]]\n",
      "[['medical', []], ['…', []]]\n",
      "['[', []]\n",
      "[']', []]\n",
      "['tuesday', []]\n",
      "['negative', ['reviews']]\n",
      "['reviews', ['negative']]\n",
      "['share', ['i', 'opinion']]\n",
      "['quick', ['opinion']]\n",
      "['personal', ['opinion']]\n",
      "['opinion', ['quick', 'personal', 'share']]\n",
      "['perhaps', ['varies']]\n",
      "['varies', ['perhaps', 'it']]\n",
      "['person', []]\n",
      "['person', []]\n",
      "['trip', ['great']]\n",
      "['cmpb', []]\n",
      "['ultimately', ['great']]\n",
      "['great', ['trip', 'ultimately']]\n",
      "['definitely', ['experience']]\n",
      "['memorable', ['experience']]\n",
      "['experience', ['definitely', 'memorable']]\n",
      "['medical', []]\n",
      "['…', []]\n",
      "Review Number :  23\n",
      "[['medical', ['check']], ['check', ['medical', 'place']], ['place', ['check']], ['saf', []]]\n",
      "['medical', ['check']]\n",
      "['check', ['medical', 'place']]\n",
      "['place', ['check']]\n",
      "['saf', []]\n"
     ]
    },
    {
     "name": "stderr",
     "output_type": "stream",
     "text": [
      "\r",
      " 22%|█████████████████▌                                                               | 25/115 [00:10<00:23,  3.88it/s]"
     ]
    },
    {
     "name": "stdout",
     "output_type": "stream",
     "text": [
      "Review Number :  24\n",
      "[['others', []], ['dirt', []]]\n",
      "['others', []]\n",
      "['dirt', []]\n",
      "Review Number :  25\n"
     ]
    },
    {
     "name": "stderr",
     "output_type": "stream",
     "text": [
      "\r",
      " 23%|██████████████████▎                                                              | 26/115 [00:10<00:24,  3.61it/s]"
     ]
    },
    {
     "name": "stdout",
     "output_type": "stream",
     "text": [
      "[['pre-enlistment', ['screening']], ['screening', ['pre-enlistment']], ['sessions', ['few', 'counselling']], ['answer', ['charge']], ['charge', ['answer']]]\n",
      "[['inconvenient', ['location']], ['location', ['inconvenient']]]\n",
      "['pre-enlistment', ['screening']]\n",
      "['screening', ['pre-enlistment']]\n",
      "['sessions', ['few', 'counselling']]\n",
      "['answer', ['charge']]\n",
      "['charge', ['answer']]\n",
      "['inconvenient', ['location']]\n",
      "['location', ['inconvenient']]\n",
      "Review Number :  26\n",
      "[['cookhouse', []]]\n"
     ]
    },
    {
     "name": "stderr",
     "output_type": "stream",
     "text": [
      "\r",
      " 23%|███████████████████                                                              | 27/115 [00:11<00:24,  3.62it/s]"
     ]
    },
    {
     "name": "stdout",
     "output_type": "stream",
     "text": [
      "[['nsf', ['need']], ['meagre', ['pay']], ['pay', ['meagre']]]\n",
      "['cookhouse', []]\n",
      "['nsf', ['need']]\n",
      "['meagre', ['pay']]\n",
      "['pay', ['meagre']]\n",
      "Review Number :  27\n",
      "[['officerattitude', ['good']], ['good', ['officerattitude', 'not']], ['patience', []], ['service', []]]\n"
     ]
    },
    {
     "name": "stderr",
     "output_type": "stream",
     "text": [
      "\r",
      " 24%|███████████████████▋                                                             | 28/115 [00:11<00:28,  3.04it/s]"
     ]
    },
    {
     "name": "stdout",
     "output_type": "stream",
     "text": [
      "[[\"n't\", ['understand']], ['use', ['he', 'tone']], ['unfriendly', ['tone']], ['tone', ['unfriendly', 'use']], ['repeat', []], ['language', []]]\n",
      "['officerattitude', ['good']]\n",
      "['good', ['officerattitude', 'not']]\n",
      "['patience', []]\n",
      "['service', []]\n",
      "[\"n't\", ['understand']]\n",
      "['use', ['he', 'tone']]\n",
      "['unfriendly', ['tone']]\n",
      "['tone', ['unfriendly', 'use']]\n",
      "['repeat', []]\n",
      "['language', []]\n",
      "Review Number :  28\n"
     ]
    },
    {
     "name": "stderr",
     "output_type": "stream",
     "text": [
      " 26%|█████████████████████▏                                                           | 30/115 [00:12<00:23,  3.55it/s]"
     ]
    },
    {
     "name": "stdout",
     "output_type": "stream",
     "text": [
      "[['idk', []], ['many', ['so', 'people']], ['people', ['many', 'give']], ['negative', ['reviews']], ['reviews', ['negative', 'give']], ['medical', ['check']], ['check', ['medical', 'up']], ['staff', ['friendly']], ['friendly', ['staff']], ['nsf', ['cool']], ['cool', ['nsf']], ['overall', ['had']], ['good', ['experience']], ['experience', ['good', 'had', 'there']]]\n",
      "['idk', []]\n",
      "['many', ['so', 'people']]\n",
      "['people', ['many', 'give']]\n",
      "['negative', ['reviews']]\n",
      "['reviews', ['negative', 'give']]\n",
      "['medical', ['check']]\n",
      "['check', ['medical', 'up']]\n",
      "['staff', ['friendly']]\n",
      "['friendly', ['staff']]\n",
      "['nsf', ['cool']]\n",
      "['cool', ['nsf']]\n",
      "['overall', ['had']]\n",
      "['good', ['experience']]\n",
      "['experience', ['good', 'had', 'there']]\n",
      "Review Number :  29\n",
      "[['gold', ['star']], ['star', ['gold']], ['public', ['service']], ['service', ['public']]]\n",
      "['gold', ['star']]\n",
      "['star', ['gold']]\n",
      "['public', ['service']]\n",
      "['service', ['public']]\n",
      "Review Number :  30\n",
      "[['form', []], ['meeting', []]]\n",
      "[['even', ['bored']], ['really', ['bored']]]\n"
     ]
    },
    {
     "name": "stderr",
     "output_type": "stream",
     "text": [
      "\r",
      " 27%|█████████████████████▊                                                           | 31/115 [00:12<00:27,  3.03it/s]"
     ]
    },
    {
     "name": "stdout",
     "output_type": "stream",
     "text": [
      "[['cold', ['conditioning']], ['air', ['conditioning']], ['wifi', []]]\n",
      "['form', []]\n",
      "['meeting', []]\n",
      "['even', ['bored']]\n",
      "['really', ['bored']]\n",
      "['cold', ['conditioning']]\n",
      "['air', ['conditioning']]\n",
      "['wifi', []]\n",
      "Review Number :  31\n",
      "[['accessible', ['not']]]\n",
      "['accessible', ['not']]\n",
      "Review Number :  32\n"
     ]
    },
    {
     "name": "stderr",
     "output_type": "stream",
     "text": [
      "\r",
      " 29%|███████████████████████▏                                                         | 33/115 [00:12<00:19,  4.27it/s]"
     ]
    },
    {
     "name": "stdout",
     "output_type": "stream",
     "text": [
      "[['extremely', ['poor']], ['poor', ['extremely', 'customerservice']], ['rude', []], ['customerservice', ['poor']]]\n",
      "['extremely', ['poor']]\n",
      "['poor', ['extremely', 'customerservice']]\n",
      "['rude', []]\n",
      "['customerservice', ['poor']]\n",
      "Review Number :  33\n",
      "[['worst', ['day']], ['day', ['worst']], ['life', []]]\n",
      "['worst', ['day']]\n",
      "['day', ['worst']]\n",
      "['life', []]\n",
      "Review Number :  34\n"
     ]
    },
    {
     "name": "stderr",
     "output_type": "stream",
     "text": [
      "\r",
      " 30%|████████████████████████▋                                                        | 35/115 [00:12<00:15,  5.11it/s]"
     ]
    },
    {
     "name": "stdout",
     "output_type": "stream",
     "text": [
      "[['wooo', []], ['real', ['edgy']], ['edgy', ['real']], ['ziyuan', []], ['novel', ['writer']], ['writer', ['you', 'novel']]]\n",
      "['wooo', []]\n",
      "['real', ['edgy']]\n",
      "['edgy', ['real']]\n",
      "['ziyuan', []]\n",
      "['novel', ['writer']]\n",
      "['writer', ['you', 'novel']]\n",
      "Review Number :  35\n",
      "[['highly', ['inaccessible']], ['inaccessible', ['highly']]]\n"
     ]
    },
    {
     "name": "stderr",
     "output_type": "stream",
     "text": [
      " 32%|██████████████████████████                                                       | 37/115 [00:13<00:14,  5.35it/s]"
     ]
    },
    {
     "name": "stdout",
     "output_type": "stream",
     "text": [
      "[['hard', ['so']], ['get', ['there']], ['mrt', ['stations']], ['stations', ['not', 'mrt']]]\n",
      "['highly', ['inaccessible']]\n",
      "['inaccessible', ['highly']]\n",
      "['hard', ['so']]\n",
      "['get', ['there']]\n",
      "['mrt', ['stations']]\n",
      "['stations', ['not', 'mrt']]\n",
      "Review Number :  36\n",
      "[['bane', []], ['existence', []]]\n",
      "['bane', []]\n",
      "['existence', []]\n",
      "Review Number :  37\n",
      "[['cookhouse', []], ['book', ['get', 'everyday']], ['everyday', ['book']]]\n",
      "[['troublesome', ['most', 'thing']], ['thing', ['troublesome', 'discussing']], ['discussing', ['thing', 'what']], ['lunch', []]]\n"
     ]
    },
    {
     "name": "stderr",
     "output_type": "stream",
     "text": [
      " 34%|███████████████████████████▍                                                     | 39/115 [00:13<00:17,  4.23it/s]"
     ]
    },
    {
     "name": "stdout",
     "output_type": "stream",
     "text": [
      "[['sidenote', []], ['菜贩', ['canteenb']], ['@', []], ['canteen', []], ['canteenb', ['菜贩', '@canteen', 'bad']], ['bad', ['canteenb', 'real']], ['real', ['bad']], ['bad', ['canteenb', 'real']]]\n",
      "['cookhouse', []]\n",
      "['book', ['get', 'everyday']]\n",
      "['everyday', ['book']]\n",
      "['troublesome', ['most', 'thing']]\n",
      "['thing', ['troublesome', 'discussing']]\n",
      "['discussing', ['thing', 'what']]\n",
      "['lunch', []]\n",
      "['sidenote', []]\n",
      "['菜贩', ['canteenb']]\n",
      "['@', []]\n",
      "['canteen', []]\n",
      "['canteenb', ['菜贩', '@canteen', 'bad']]\n",
      "['bad', ['canteenb', 'real']]\n",
      "['real', ['bad']]\n",
      "['bad', ['canteenb', 'real']]\n",
      "Review Number :  38\n",
      "[['people', ['go']], ['even', ['go']], ['place', []], ['middle', []], ['nowhere', []]]\n",
      "['people', ['go']]\n",
      "['even', ['go']]\n",
      "['place', []]\n",
      "['middle', []]\n",
      "['nowhere', []]\n",
      "Review Number :  39\n"
     ]
    },
    {
     "name": "stderr",
     "output_type": "stream",
     "text": [
      "\r",
      " 35%|████████████████████████████▏                                                    | 40/115 [00:14<00:19,  3.86it/s]"
     ]
    },
    {
     "name": "stdout",
     "output_type": "stream",
     "text": [
      "[['officertalk', ['prepared']], ['money', ['own']], ['hard', ['very']], ['middle', []], ['village', []], ['something', []]]\n",
      "['officertalk', ['prepared']]\n",
      "['money', ['own']]\n",
      "['hard', ['very']]\n",
      "['middle', []]\n",
      "['village', []]\n",
      "['something', []]\n",
      "Review Number :  40\n",
      "[['rude', ['staff']], ['staff', ['rude']]]\n",
      "['rude', ['staff']]\n",
      "['staff', ['rude']]\n",
      "Review Number :  41\n"
     ]
    },
    {
     "name": "stderr",
     "output_type": "stream",
     "text": [
      " 37%|██████████████████████████████▎                                                  | 43/115 [00:14<00:13,  5.38it/s]"
     ]
    },
    {
     "name": "stdout",
     "output_type": "stream",
     "text": [
      "[['inaccessible', ['need']], ['travel', ['time']], ['time', ['1h', 'travel']], ['waste', ['more']], ['time', ['1h', 'travel']]]\n",
      "['inaccessible', ['need']]\n",
      "['travel', ['time']]\n",
      "['time', ['1h', 'travel']]\n",
      "['waste', ['more']]\n",
      "['time', ['1h', 'travel']]\n",
      "Review Number :  42\n",
      "[['far', ['so', 'away']], ['away', ['far']], ['middle', []], ['nowhere', []]]\n",
      "['far', ['so', 'away']]\n",
      "['away', ['far']]\n",
      "['middle', []]\n",
      "['nowhere', []]\n",
      "Review Number :  43\n"
     ]
    },
    {
     "name": "stderr",
     "output_type": "stream",
     "text": [
      " 39%|███████████████████████████████▋                                                 | 45/115 [00:15<00:11,  5.89it/s]"
     ]
    },
    {
     "name": "stdout",
     "output_type": "stream",
     "text": [
      "[['bad', ['very', 'troopers', 'very', 'attitude']], ['security', ['troopers']], ['troopers', ['bad', 'security', 'have']], ['bad', ['very', 'troopers', 'very', 'attitude']], ['attitude', ['bad', 'have']], ['towards', []], ['public', []]]\n",
      "['bad', ['very', 'troopers', 'very', 'attitude']]\n",
      "['security', ['troopers']]\n",
      "['troopers', ['bad', 'security', 'have']]\n",
      "['bad', ['very', 'troopers', 'very', 'attitude']]\n",
      "['attitude', ['bad', 'have']]\n",
      "['towards', []]\n",
      "['public', []]\n",
      "Review Number :  44\n",
      "[['middle', []], ['nowhere', []]]\n",
      "['middle', []]\n",
      "['nowhere', []]\n",
      "Review Number :  45\n"
     ]
    },
    {
     "name": "stderr",
     "output_type": "stream",
     "text": [
      "\r",
      " 40%|████████████████████████████████▍                                                | 46/115 [00:15<00:12,  5.51it/s]"
     ]
    },
    {
     "name": "stdout",
     "output_type": "stream",
     "text": [
      "[['place', []], ['well', ['kept']], ['people', ['rude']], ['unbelievably', ['rude']], ['rude', ['people', 'unbelievably']]]\n",
      "['place', []]\n",
      "['well', ['kept']]\n",
      "['people', ['rude']]\n",
      "['unbelievably', ['rude']]\n",
      "['rude', ['people', 'unbelievably']]\n",
      "Review Number :  46\n",
      "[['bad', ['service']], ['service', ['bad']]]\n",
      "['bad', ['service']]\n",
      "['service', ['bad']]\n",
      "Review Number :  47\n"
     ]
    },
    {
     "name": "stderr",
     "output_type": "stream",
     "text": [
      "\r",
      " 42%|█████████████████████████████████▊                                               | 48/115 [00:15<00:10,  6.41it/s]"
     ]
    },
    {
     "name": "stdout",
     "output_type": "stream",
     "text": [
      "[['interestingly', ['enough']], ['enough', ['interestingly', 'removed']], ['negative', ['reviews']], ['reviews', ['negative']]]\n",
      "['interestingly', ['enough']]\n",
      "['enough', ['interestingly', 'removed']]\n",
      "['negative', ['reviews']]\n",
      "['reviews', ['negative']]\n",
      "Review Number :  48\n",
      "[['bad', ['service']], ['service', ['bad']]]\n",
      "['bad', ['service']]\n",
      "['service', ['bad']]\n",
      "Review Number :  49\n",
      "[['sheat', []]]\n"
     ]
    },
    {
     "name": "stderr",
     "output_type": "stream",
     "text": [
      " 44%|███████████████████████████████████▉                                             | 51/115 [00:15<00:19,  3.21it/s]\n",
      "  0%|                                                                                           | 0/15 [00:00<?, ?it/s]"
     ]
    },
    {
     "name": "stdout",
     "output_type": "stream",
     "text": [
      "[['dirty', ['pigs']], ['pigs', ['dirty', 'training']], ['step', []], ['minefields', []]]\n",
      "['sheat', []]\n",
      "['dirty', ['pigs']]\n",
      "['pigs', ['dirty', 'training']]\n",
      "['step', []]\n",
      "['minefields', []]\n",
      "Review Number :  50\n",
      "[['gncpresent', []]]\n",
      "['gncpresent', []]\n",
      "Review Number :  51\n",
      " Processing :  15 rows of data\n",
      "Review Number :  0\n",
      "[['hi', ['all']], ['medical', ['checkup']], ['checkup', ['medical', 'had']], ['feb', ['13th']], ['year', []]]\n",
      "[['however', ['suspected']], ['doctor', ['suspected', 'there']], ['palpitation', ['have']], ['proceed', ['i']], ['nuh', []], ['look', []], ['specialist', []]]\n",
      "[['nonetheless', ['went']], ['consultation', []], ['nuh', []], ['april', []], ['back', ['come']], ['diagnostic', ['more', 'dated']], ['october', []], ['unable', []], ['enlist', []]]\n",
      "[['nuh', ['called']], ['cmpb', ['request']], ['request', ['cmpb']], ['help', []], ['able', ['they', 'not', 'assist']], ['assist', ['able', 'me', 'anyway']], ['anyway', ['assist']]]\n",
      "[['cmpb', ['provided']], ['options', ['provided']], ['complain', []], ['nuh', []], ['feedback', ['line']], ['line', ['feedback']], ['request', []], ['help', ['they', 'you']]]\n",
      "[['unsuccessful', []], ['wait', []], ['hope', []], ['provide', []], ['date', []], ['appointment', []]]\n",
      "[['look', []], ['private', ['and']], ['doctor', []], ['pay', []], ['pocketmoney', [12]]]\n",
      "[['idea', ['have', 'suppose']], ['suppose', ['what', 'i', 'idea', 'do']]]\n"
     ]
    },
    {
     "name": "stderr",
     "output_type": "stream",
     "text": [
      "\r",
      "  7%|█████▌                                                                             | 1/15 [00:02<00:32,  2.31s/it]"
     ]
    },
    {
     "name": "stdout",
     "output_type": "stream",
     "text": [
      "[['hope', ['i']], ['advise', ['get']], ['walk', ['i']], ['situation', []]]\n",
      "[['thank', ['you']]]\n",
      "['hi', ['all']]\n",
      "['medical', ['checkup']]\n",
      "['checkup', ['medical', 'had']]\n",
      "['feb', ['13th']]\n",
      "['year', []]\n",
      "['however', ['suspected']]\n",
      "['doctor', ['suspected', 'there']]\n",
      "['palpitation', ['have']]\n",
      "['proceed', ['i']]\n",
      "['nuh', []]\n",
      "['look', []]\n",
      "['specialist', []]\n",
      "['nonetheless', ['went']]\n",
      "['consultation', []]\n",
      "['nuh', []]\n",
      "['april', []]\n",
      "['back', ['come']]\n",
      "['diagnostic', ['more', 'dated']]\n",
      "['october', []]\n",
      "['unable', []]\n",
      "['enlist', []]\n",
      "['nuh', ['called']]\n",
      "['cmpb', ['request']]\n",
      "['request', ['cmpb']]\n",
      "['help', []]\n",
      "['able', ['they', 'not', 'assist']]\n",
      "['assist', ['able', 'me', 'anyway']]\n",
      "['anyway', ['assist']]\n",
      "['cmpb', ['provided']]\n",
      "['options', ['provided']]\n",
      "['complain', []]\n",
      "['nuh', []]\n",
      "['feedback', ['line']]\n",
      "['line', ['feedback']]\n",
      "['request', []]\n",
      "['help', ['they', 'you']]\n",
      "['unsuccessful', []]\n",
      "['wait', []]\n",
      "['hope', []]\n",
      "['provide', []]\n",
      "['date', []]\n",
      "['appointment', []]\n",
      "['look', []]\n",
      "['private', ['and']]\n",
      "['doctor', []]\n",
      "['pay', []]\n",
      "['pocketmoney', [12]]\n",
      "['idea', ['have', 'suppose']]\n",
      "['suppose', ['what', 'i', 'idea', 'do']]\n",
      "['hope', ['i']]\n",
      "['advise', ['get']]\n",
      "['walk', ['i']]\n",
      "['situation', []]\n",
      "['thank', ['you']]\n",
      "Review Number :  1\n",
      "[['changehospital', []]]\n",
      "['changehospital', []]\n",
      "Review Number :  2\n"
     ]
    },
    {
     "name": "stderr",
     "output_type": "stream",
     "text": [
      "\r",
      " 20%|████████████████▌                                                                  | 3/15 [00:02<00:08,  1.35it/s]"
     ]
    },
    {
     "name": "stdout",
     "output_type": "stream",
     "text": [
      "[['cmpb', ['told']], [\"n't\", ['change']], ['different', ['hospital']], ['hospital', ['different']], ['first', ['consultation']], ['consultation', ['i', 'first']], ['nuh', []]]\n",
      "['cmpb', ['told']]\n",
      "[\"n't\", ['change']]\n",
      "['different', ['hospital']]\n",
      "['hospital', ['different']]\n",
      "['first', ['consultation']]\n",
      "['consultation', ['i', 'first']]\n",
      "['nuh', []]\n",
      "Review Number :  3\n",
      "[['neobody', ['wrote']], ['cmpb', ['told']], [\"n't\", ['change']], ['different', ['hospital']], ['hospital', ['different']], ['first', ['consultation']], ['consultation', ['i', 'first']], ['nuh', []]]\n",
      "[['complain', ['then', 'way']], ['way', ['complain']], ['top', []]]\n"
     ]
    },
    {
     "name": "stderr",
     "output_type": "stream",
     "text": [
      "\r",
      " 27%|██████████████████████▏                                                            | 4/15 [00:03<00:07,  1.48it/s]"
     ]
    },
    {
     "name": "stdout",
     "output_type": "stream",
     "text": [
      "[['walk', []], ['e', []]]\n",
      "['neobody', ['wrote']]\n",
      "['cmpb', ['told']]\n",
      "[\"n't\", ['change']]\n",
      "['different', ['hospital']]\n",
      "['hospital', ['different']]\n",
      "['first', ['consultation']]\n",
      "['consultation', ['i', 'first']]\n",
      "['nuh', []]\n",
      "['complain', ['then', 'way']]\n",
      "['way', ['complain']]\n",
      "['top', []]\n",
      "['walk', []]\n",
      "['e', []]\n",
      "Review Number :  4\n",
      "[['reddevil0728', ['wrote']], ['way', ['complain']], ['top', []]]\n",
      "[['walk', []], ['ecomplain', []]]\n",
      "[['ns', ['hotline']], ['hotline', ['ns', 'refer']], ['refer', ['hotline', 'only', 'me']], ['cmpb', ['clerks']], ['clerks', ['cmpb']]]\n"
     ]
    },
    {
     "name": "stderr",
     "output_type": "stream",
     "text": [
      "\r",
      " 33%|███████████████████████████▋                                                       | 5/15 [00:03<00:06,  1.46it/s]"
     ]
    },
    {
     "name": "stdout",
     "output_type": "stream",
     "text": [
      "[['e', []], ['able', ['they', 'write']], ['write', ['able', 'report']], ['medical', ['report']], ['report', ['medical', 'write']], ['cmpb', []]]\n",
      "['reddevil0728', ['wrote']]\n",
      "['way', ['complain']]\n",
      "['top', []]\n",
      "['walk', []]\n",
      "['ecomplain', []]\n",
      "['ns', ['hotline']]\n",
      "['hotline', ['ns', 'refer']]\n",
      "['refer', ['hotline', 'only', 'me']]\n",
      "['cmpb', ['clerks']]\n",
      "['clerks', ['cmpb']]\n",
      "['e', []]\n",
      "['able', ['they', 'write']]\n",
      "['write', ['able', 'report']]\n",
      "['medical', ['report']]\n",
      "['report', ['medical', 'write']]\n",
      "['cmpb', []]\n",
      "Review Number :  5\n",
      "[['reddevil0728', ['wrote']], ['way', ['complain']], ['top', []]]\n"
     ]
    },
    {
     "name": "stderr",
     "output_type": "stream",
     "text": [
      "\r",
      " 40%|█████████████████████████████████▏                                                 | 6/15 [00:04<00:05,  1.73it/s]"
     ]
    },
    {
     "name": "stdout",
     "output_type": "stream",
     "text": [
      "[['walk', []], ['e', []], ['suggestion', ['dumbest']], ['universe', []], ['..', []]]\n",
      "['reddevil0728', ['wrote']]\n",
      "['way', ['complain']]\n",
      "['top', []]\n",
      "['walk', []]\n",
      "['e', []]\n",
      "['suggestion', ['dumbest']]\n",
      "['universe', []]\n",
      "['..', []]\n",
      "Review Number :  6\n",
      "[['neobody', ['wrote']], ['complain', []]]\n",
      "[['ns', ['hotline']], ['hotline', ['ns', 'refer']], ['refer', ['hotline', 'only', 'me']], ['cmpb', ['clerks']], ['clerks', ['cmpb']]]\n",
      "[['e', []], ['able', ['they', 'write']], ['write', ['able', 'report']], ['medical', ['report']], ['report', ['medical', 'write']], ['cmpb', []]]\n",
      "[['report', ['investigation']], ['chronic', ['investigation']], ['investigation', ['chronic', 'report']], ['nowhere', ['emergency']], ['emergency', ['this', 'nowhere']]]\n",
      "[['still', ['refer']], ['soc', []], ['follow', ['up']]]\n",
      "[['request', ['you', 'letter']], ['letter', ['request', 'need']], ['cmpb', []], ['need', ['you', 'letter']], ['letter', ['request', 'need']], ['mcc', ['show']], ['medical', ['results']], ['results', ['medical']], ['asap', ['show']]]\n",
      "[['try', ['they', 'slot']], ['slot', ['try', 'you']]]\n",
      "[['nuh', ['give']], ['letter', ['give']], ['tell', ['cmpb']], ['cmpb', ['tell']], ['due', []], ['shortage', []], ['resources', []], ['unable', ['they', 'meet']], ['meet', ['unable', 'deadline']], ['deadline', ['meet']]]\n",
      "[['need', ['you', 'start']], ['appropriate', ['channel']], ['channel', ['appropriate', 'start']], ['nuh', []], ['cmpb', []], ['..', []]]\n",
      "['neobody', ['wrote']]\n",
      "['complain', []]\n",
      "['ns', ['hotline']]\n",
      "['hotline', ['ns', 'refer']]\n",
      "['refer', ['hotline', 'only', 'me']]\n",
      "['cmpb', ['clerks']]\n",
      "['clerks', ['cmpb']]\n",
      "['e', []]\n",
      "['able', ['they', 'write']]\n",
      "['write', ['able', 'report']]\n",
      "['medical', ['report']]\n",
      "['report', ['medical', 'write']]\n",
      "['cmpb', []]\n",
      "['report', ['investigation']]\n",
      "['chronic', ['investigation']]\n",
      "['investigation', ['chronic', 'report']]\n",
      "['nowhere', ['emergency']]\n",
      "['emergency', ['this', 'nowhere']]\n",
      "['still', ['refer']]\n",
      "['soc', []]\n",
      "['follow', ['up']]\n",
      "['request', ['you', 'letter']]\n",
      "['letter', ['request', 'need']]\n",
      "['cmpb', []]\n",
      "['need', ['you', 'letter']]\n",
      "['letter', ['request', 'need']]\n",
      "['mcc', ['show']]\n",
      "['medical', ['results']]\n",
      "['results', ['medical']]\n",
      "['asap', ['show']]\n",
      "['try', ['they', 'slot']]\n",
      "['slot', ['try', 'you']]\n",
      "['nuh', ['give']]\n",
      "['letter', ['give']]\n",
      "['tell', ['cmpb']]\n",
      "['cmpb', ['tell']]\n",
      "['due', []]\n",
      "['shortage', []]"
     ]
    },
    {
     "name": "stderr",
     "output_type": "stream",
     "text": [
      "\r",
      " 47%|██████████████████████████████████████▋                                            | 7/15 [00:06<00:07,  1.01it/s]"
     ]
    },
    {
     "name": "stdout",
     "output_type": "stream",
     "text": [
      "\n",
      "['resources', []]\n",
      "['unable', ['they', 'meet']]\n",
      "['meet', ['unable', 'deadline']]\n",
      "['deadline', ['meet']]\n",
      "['need', ['you', 'start']]\n",
      "['appropriate', ['channel']]\n",
      "['channel', ['appropriate', 'start']]\n",
      "['nuh', []]\n",
      "['cmpb', []]\n",
      "['..', []]\n",
      "Review Number :  7\n",
      "[['diagnose', ['them', 'properly']], ['properly', ['diagnose']], ['enlist', ['you', 'make', 'earlier']]]\n",
      "[['normal', []], ['appointments', []], ['several', ['months']], ['months', ['several', 'take']]]\n",
      "[['chose', ['some', 'why', 'take']], ['take', ['chose', 'private']], ['private', ['take']]]\n",
      "[['usually', ['give']], ['temporary', ['issues']], ['anxiety', ['issues']], ['issues', ['temporary', 'anxiety', 'suspect']], ['purposely', ['give']], ['long', ['time']], ['time', ['long', 'give']], ['next', ['apptdate', 'appt']], ['apptdate', ['next']], ['order', []], ['cool', ['you']], ['palpitation', ['goes']], ['away', ['goes']], ['next', ['apptdate', 'appt']], ['appt', ['next']]]\n",
      "[['palpitations', []], ['heartcondition', []], ['type', []], ['anxietydisorder', []]]\n",
      "[[\"n't\", ['find']], ['anything', ['find', 'wrong']], ['wrong', ['anything']], ['heart', []], ['still', ['result']], ['palpitation', ['result']], ['result', ['still', 'palpitation']], ['option', []]]\n",
      "[['approach', []], ['private/hospital', []], ['psychiatrist', [1]]]\n",
      "[['suspect', ['i']], ['condition', ['anxiety', 'having']]]\n",
      "[['overly', ['anxious']], ['anxious', ['you', 'overly', 'now']], ['post', ['you', 'made']], ['pes', ['d']], ['dillemma', ['d', 'here']]]\n",
      "[['many', ['people']], ['people', ['many', 'have']], ['issues', ['anxiety', 'have', 'undiagnosed']]]\n",
      "[['cardioexercise', ['dangerous']], ['palpitations', []], ['dangerous', ['cardioexercise']]]\n",
      "[['heartattack', []], ['heartcondition', []], ['panic', ['attack']], ['attack', ['panic']], ['anxietycondition', []]]\n",
      "[['better', []], ['safe', []]]\n",
      "[['late', ['it']]]\n",
      "['diagnose', ['them', 'properly']]\n",
      "['properly', ['diagnose']]\n",
      "['enlist', ['you', 'make', 'earlier']]\n",
      "['normal', []]\n",
      "['appointments', []]\n",
      "['several', ['months']]\n",
      "['months', ['several', 'take']]\n",
      "['chose', ['some', 'why', 'take']]\n",
      "['take', ['chose', 'private']]\n",
      "['private', ['take']]\n",
      "['usually', ['give']]\n",
      "['temporary', ['issues']]\n",
      "['anxiety', ['issues']]\n",
      "['issues', ['temporary', 'anxiety', 'suspect']]\n",
      "['purposely', ['give']]\n",
      "['long', ['time']]\n",
      "['time', ['long', 'give']]\n",
      "['next', ['apptdate', 'appt']]\n",
      "['apptdate', ['next']]\n",
      "['order', []]\n",
      "['cool', ['you']]\n",
      "['palpitation', ['goes']]\n",
      "['away', ['goes']]\n",
      "['next', ['apptdate', 'appt']]\n",
      "['appt', ['next']]\n",
      "['palpitations', []]\n",
      "['heartcondition', []]\n",
      "['type', []]\n",
      "['anxietydisorder', []]\n",
      "[\"n't\", ['find']]\n",
      "['anything', ['find', 'wrong']]\n",
      "['wrong', ['anything']]\n",
      "['heart', []]\n",
      "['still', ['result']]\n",
      "['palpitation', ['result']]\n",
      "['result', ['still', 'palpitation']]\n",
      "['option', []]\n",
      "['approach', []]\n",
      "['private/hospital', []]\n",
      "['psychiatrist', [1]]\n",
      "['suspect', ['i']]\n",
      "['condition', ['anxiety', 'having']]\n",
      "['overly', ['anxious']]\n",
      "['anxious', ['you', 'overly', 'now']]\n",
      "['post', ['you', 'made']]\n",
      "['pes', ['d']]\n",
      "['dillemma', ['d', 'here']]\n",
      "['many', ['people']]\n",
      "['people', ['many', 'have']]\n",
      "['issues', ['anxiety', 'have', 'undiagnosed']]\n",
      "['cardioexercise', ['dangerous']]\n",
      "['palpitations', []]\n",
      "['dangerous', ['cardioexercise']]\n",
      "['heartattack', []]\n",
      "['heartcondition', []]\n",
      "['panic', ['attack']]\n",
      "['attack', ['panic']]\n",
      "['anxietycondition', []]\n",
      "['better', []]\n",
      "['safe', []]\n",
      "['late', ['it']]\n"
     ]
    },
    {
     "name": "stderr",
     "output_type": "stream",
     "text": [
      "\r",
      " 53%|████████████████████████████████████████████▎                                      | 8/15 [00:08<00:10,  1.53s/it]"
     ]
    },
    {
     "name": "stdout",
     "output_type": "stream",
     "text": [
      "Review Number :  8\n",
      "[['renfred89', ['wrote']], ['report', ['investigation']], ['chronic', ['investigation']], ['investigation', ['chronic', 'report']], ['nowhere', ['emergency']], ['emergency', ['this', 'nowhere']]]\n",
      "[['still', ['refer']], ['soc', []], ['follow', ['up']]]\n",
      "[['request', ['you', 'letter']], ['letter', ['request', 'need']], ['cmpb', []], ['need', ['you', 'letter']], ['letter', ['request', 'need']], ['mcc', ['show']], ['medical', ['results']], ['results', ['medical']], ['asap', ['show']]]\n",
      "[['try', ['they', 'slot']], ['slot', ['try', 'you']]]\n",
      "[['nuh', ['give']], ['letter', ['give']], ['tell', ['cmpb']], ['cmpb', ['tell']], ['due', []], ['shortage', []], ['resources', []], ['unable', ['they', 'meet']], ['meet', ['unable', 'deadline']], ['deadline', ['meet']]]\n",
      "[['need', ['you', 'start']], ['appropriate', ['channel']], ['channel', ['appropriate', 'start']], ['nuh', []], ['cmpb', []], ['mcc', ['what']]]\n",
      "[['tried', ['i', 'establishing']], ['channel', ['establishing']], ['nuh', []], ['cmpb', []]]\n"
     ]
    },
    {
     "name": "stderr",
     "output_type": "stream",
     "text": [
      "\r",
      " 60%|█████████████████████████████████████████████████▊                                 | 9/15 [00:10<00:09,  1.64s/it]"
     ]
    },
    {
     "name": "stdout",
     "output_type": "stream",
     "text": [
      "[['unfortunately', ['effective']], ['channel', ['effective']], ['effective', ['unfortunately', 'channel', 'not']], ['receive', ['i', 'not', 'calls']], ['calls', ['receive']], ['weeks', []], ['establishment', []]]\n",
      "['renfred89', ['wrote']]\n",
      "['report', ['investigation']]\n",
      "['chronic', ['investigation']]\n",
      "['investigation', ['chronic', 'report']]\n",
      "['nowhere', ['emergency']]\n",
      "['emergency', ['this', 'nowhere']]\n",
      "['still', ['refer']]\n",
      "['soc', []]\n",
      "['follow', ['up']]\n",
      "['request', ['you', 'letter']]\n",
      "['letter', ['request', 'need']]\n",
      "['cmpb', []]\n",
      "['need', ['you', 'letter']]\n",
      "['letter', ['request', 'need']]\n",
      "['mcc', ['show']]\n",
      "['medical', ['results']]\n",
      "['results', ['medical']]\n",
      "['asap', ['show']]\n",
      "['try', ['they', 'slot']]\n",
      "['slot', ['try', 'you']]\n",
      "['nuh', ['give']]\n",
      "['letter', ['give']]\n",
      "['tell', ['cmpb']]\n",
      "['cmpb', ['tell']]\n",
      "['due', []]\n",
      "['shortage', []]\n",
      "['resources', []]\n",
      "['unable', ['they', 'meet']]\n",
      "['meet', ['unable', 'deadline']]\n",
      "['deadline', ['meet']]\n",
      "['need', ['you', 'start']]\n",
      "['appropriate', ['channel']]\n",
      "['channel', ['appropriate', 'start']]\n",
      "['nuh', []]\n",
      "['cmpb', []]\n",
      "['mcc', ['what']]\n",
      "['tried', ['i', 'establishing']]\n",
      "['channel', ['establishing']]\n",
      "['nuh', []]\n",
      "['cmpb', []]\n",
      "['unfortunately', ['effective']]\n",
      "['channel', ['effective']]\n",
      "['effective', ['unfortunately', 'channel', 'not']]\n",
      "['receive', ['i', 'not', 'calls']]\n",
      "['calls', ['receive']]\n",
      "['weeks', []]\n",
      "['establishment', []]\n",
      "Review Number :  9\n"
     ]
    },
    {
     "name": "stderr",
     "output_type": "stream",
     "text": [
      "\r",
      " 67%|██████████████████████████████████████████████████████▋                           | 10/15 [00:11<00:06,  1.24s/it]"
     ]
    },
    {
     "name": "stdout",
     "output_type": "stream",
     "text": [
      "[['ask', ['you', 'nuh', 'write']], ['write', ['ask', 'letter']], ['letter', ['write']], ['sickness', []], ['address', []], ['mo.dont', []], ['use.maybe', []], ['cash', []]]\n",
      "['ask', ['you', 'nuh', 'write']]\n",
      "['write', ['ask', 'letter']]\n",
      "['letter', ['write']]\n",
      "['sickness', []]\n",
      "['address', []]\n",
      "['mo.dont', []]\n",
      "['use.maybe', []]\n",
      "['cash', []]\n",
      "Review Number :  10\n",
      "[['indigoeyes', ['wrote']], ['diagnose', ['them', 'properly']], ['properly', ['diagnose']], ['enlist', ['you', 'make', 'earlier']]]\n",
      "[['normal', []], ['appointments', []], ['several', ['months']], ['months', ['several', 'take']]]\n",
      "[['chose', ['some', 'why', 'take']], ['take', ['chose', 'private']], ['private', ['take']]]\n",
      "[['usually', ['give']], ['temporary', ['issues']], ['anxiety', ['issues']], ['issues', ['temporary', 'anxiety', 'suspect']], ['purposely', ['give']], ['long', ['time']], ['time', ['long', 'give']], ['next', ['apptdate', 'appt']], ['apptdate', ['next']], ['order', []], ['cool', ['you']], ['palpitation', ['goes']], ['away', ['goes']], ['next', ['apptdate', 'appt']], ['appt', ['next']]]\n",
      "[['palpitations', []], ['heartcondition', []], ['type', []], ['anxietydisorder', []]]\n",
      "[[\"n't\", ['find']], ['anything', ['find', 'wrong']], ['wrong', ['anything']], ['heart', []], ['still', ['result']], ['palpitation', ['result']], ['result', ['still', 'palpitation']], ['option', []]]\n",
      "[['approach', []], ['private/hospital', []], ['psychiatrist', [1]]]\n",
      "[['suspect', ['i']], ['condition', ['anxiety', 'having']]]\n",
      "[['overly', ['anxious']], ['anxious', ['you', 'overly', 'now']], ['post', ['you', 'made']], ['pes', ['d']], ['dillemma', ['d', 'here']]]\n",
      "[['many', ['people']], ['people', ['many', 'have']], ['issues', ['anxiety', 'have', 'undiagnosed']]]\n",
      "[['cardioexercise', ['dangerous']], ['palpitations', []], ['dangerous', ['cardioexercise']]]\n",
      "[['heartattack', []], ['heartcondition', []], ['panic', ['attack']], ['attack', ['panic']], ['anxietycondition', []]]\n",
      "[['better', []], ['safe', []]]\n",
      "[['late', ['it']]]\n",
      "[['coursei', ['anxious']], ['anxious', ['coursei', 'overly', 'call']], [\"n't\", ['call']], ['overly', ['anxious']], ['anxious', ['coursei', 'overly', 'call']]]\n",
      "[['future', ['line']], ['line', ['future']], ['way', ['same', 'feel']]]\n",
      "[['proceed', ['were']], ['checkup', ['med']], ['october', []], ['next', ['year']], ['year', ['next']]]\n",
      "[['means', ['that']], ['year', ['wasted']], ['life', []]]\n",
      "[['anxious', ['how', 'one', 'not']], ['future', []]]\n",
      "[['addition', []], ['also', ['speculation']], ['speculation', ['it', 'also', 'have']], ['medical', ['problem']], ['problem', ['medical', 'have']], ['palpitation', ['called']]]\n",
      "[['healthy', ['i']]]\n"
     ]
    },
    {
     "name": "stderr",
     "output_type": "stream",
     "text": [
      "\r",
      " 73%|████████████████████████████████████████████████████████████▏                     | 11/15 [00:15<00:08,  2.19s/it]"
     ]
    },
    {
     "name": "stdout",
     "output_type": "stream",
     "text": [
      "[['healthy', ['i']], ['speculation', ['these', 'just']]]\n",
      "['indigoeyes', ['wrote']]\n",
      "['diagnose', ['them', 'properly']]\n",
      "['properly', ['diagnose']]\n",
      "['enlist', ['you', 'make', 'earlier']]\n",
      "['normal', []]\n",
      "['appointments', []]\n",
      "['several', ['months']]\n",
      "['months', ['several', 'take']]\n",
      "['chose', ['some', 'why', 'take']]\n",
      "['take', ['chose', 'private']]\n",
      "['private', ['take']]\n",
      "['usually', ['give']]\n",
      "['temporary', ['issues']]\n",
      "['anxiety', ['issues']]\n",
      "['issues', ['temporary', 'anxiety', 'suspect']]\n",
      "['purposely', ['give']]\n",
      "['long', ['time']]\n",
      "['time', ['long', 'give']]\n",
      "['next', ['apptdate', 'appt']]\n",
      "['apptdate', ['next']]\n",
      "['order', []]\n",
      "['cool', ['you']]\n",
      "['palpitation', ['goes']]\n",
      "['away', ['goes']]\n",
      "['next', ['apptdate', 'appt']]\n",
      "['appt', ['next']]\n",
      "['palpitations', []]\n",
      "['heartcondition', []]\n",
      "['type', []]\n",
      "['anxietydisorder', []]\n",
      "[\"n't\", ['find']]\n",
      "['anything', ['find', 'wrong']]\n",
      "['wrong', ['anything']]\n",
      "['heart', []]\n",
      "['still', ['result']]\n",
      "['palpitation', ['result']]\n",
      "['result', ['still', 'palpitation']]\n",
      "['option', []]\n",
      "['approach', []]\n",
      "['private/hospital', []]\n",
      "['psychiatrist', [1]]\n",
      "['suspect', ['i']]\n",
      "['condition', ['anxiety', 'having']]\n",
      "['overly', ['anxious']]\n",
      "['anxious', ['you', 'overly', 'now']]\n",
      "['post', ['you', 'made']]\n",
      "['pes', ['d']]\n",
      "['dillemma', ['d', 'here']]\n",
      "['many', ['people']]\n",
      "['people', ['many', 'have']]\n",
      "['issues', ['anxiety', 'have', 'undiagnosed']]\n",
      "['cardioexercise', ['dangerous']]\n",
      "['palpitations', []]\n",
      "['dangerous', ['cardioexercise']]\n",
      "['heartattack', []]\n",
      "['heartcondition', []]\n",
      "['panic', ['attack']]\n",
      "['attack', ['panic']]\n",
      "['anxietycondition', []]\n",
      "['better', []]\n",
      "['safe', []]\n",
      "['late', ['it']]\n",
      "['coursei', ['anxious']]\n",
      "['anxious', ['coursei', 'overly', 'call']]\n",
      "[\"n't\", ['call']]\n",
      "['overly', ['anxious']]\n",
      "['anxious', ['coursei', 'overly', 'call']]\n",
      "['future', ['line']]\n",
      "['line', ['future']]\n",
      "['way', ['same', 'feel']]\n",
      "['proceed', ['were']]\n",
      "['checkup', ['med']]\n",
      "['october', []]\n",
      "['next', ['year']]\n",
      "['year', ['next']]\n",
      "['means', ['that']]\n",
      "['year', ['wasted']]\n",
      "['life', []]\n",
      "['anxious', ['how', 'one', 'not']]\n",
      "['future', []]\n",
      "['addition', []]\n",
      "['also', ['speculation']]\n",
      "['speculation', ['it', 'also', 'have']]\n",
      "['medical', ['problem']]\n",
      "['problem', ['medical', 'have']]\n",
      "['palpitation', ['called']]\n",
      "['healthy', ['i']]\n",
      "['healthy', ['i']]\n",
      "['speculation', ['these', 'just']]\n",
      "Review Number :  11\n",
      "[['neobody', ['wrote']], ['mcc', []]]\n",
      "[['tried', ['i', 'establishing']], ['channel', ['establishing']], ['nuh', []], ['cmpb', []]]\n",
      "[['unfortunately', ['effective']], ['channel', ['effective']], ['effective', ['unfortunately', 'channel', 'not']], ['receive', ['i', 'not', 'calls']], ['calls', ['receive']], ['weeks', []], ['establishment', []]]\n",
      "[['medical', ['classificationcentre']], ['classificationcentre', ['medical']]]\n",
      "[['pre', ['enlistment']], ['enlistment', ['pre', 'up']], ['check', ['up']]]\n",
      "[['effective', ['it', 'not']], ['chosen', ['you', 'not', 'channel']], ['right', ['channel']], ['channel', ['right', 'chosen']]]\n",
      "[['official', ['letter']], ['letter', ['official', 'request']], ['cmpb', []], ['expedite', ['process']], ['process', ['expedite']]]\n",
      "[['ultimately', ['do']], [\"n't\", ['want']], ['cooperate', ['want']], ['anything', ['do']]]\n",
      "[['palpitation', []], ['wide', ['spectrum']], ['spectrum', ['wide']], ['conditions', []]]\n",
      "[['however', ['pathological']], ['largely', ['pathological']], ['pathological', ['however', 'it', 'largely']], ['psychological', []]]\n"
     ]
    },
    {
     "name": "stderr",
     "output_type": "stream",
     "text": [
      "\r",
      " 80%|█████████████████████████████████████████████████████████████████▌                | 12/15 [00:17<00:06,  2.17s/it]"
     ]
    },
    {
     "name": "stdout",
     "output_type": "stream",
     "text": [
      "[['rush', ['not', 'advise']], ['things', []], ['similar', ['deaths']], ['deaths', ['similar', 'avoid', 'happened']], ['early', ['year']], ['year', ['early']]]\n",
      "['neobody', ['wrote']]\n",
      "['mcc', []]\n",
      "['tried', ['i', 'establishing']]\n",
      "['channel', ['establishing']]\n",
      "['nuh', []]\n",
      "['cmpb', []]\n",
      "['unfortunately', ['effective']]\n",
      "['channel', ['effective']]\n",
      "['effective', ['unfortunately', 'channel', 'not']]\n",
      "['receive', ['i', 'not', 'calls']]\n",
      "['calls', ['receive']]\n",
      "['weeks', []]\n",
      "['establishment', []]\n",
      "['medical', ['classificationcentre']]\n",
      "['classificationcentre', ['medical']]\n",
      "['pre', ['enlistment']]\n",
      "['enlistment', ['pre', 'up']]\n",
      "['check', ['up']]\n",
      "['effective', ['it', 'not']]\n",
      "['chosen', ['you', 'not', 'channel']]\n",
      "['right', ['channel']]\n",
      "['channel', ['right', 'chosen']]\n",
      "['official', ['letter']]\n",
      "['letter', ['official', 'request']]\n",
      "['cmpb', []]\n",
      "['expedite', ['process']]\n",
      "['process', ['expedite']]\n",
      "['ultimately', ['do']]\n",
      "[\"n't\", ['want']]\n",
      "['cooperate', ['want']]\n",
      "['anything', ['do']]\n",
      "['palpitation', []]\n",
      "['wide', ['spectrum']]\n",
      "['spectrum', ['wide']]\n",
      "['conditions', []]\n",
      "['however', ['pathological']]\n",
      "['largely', ['pathological']]\n",
      "['pathological', ['however', 'it', 'largely']]\n",
      "['psychological', []]\n",
      "['rush', ['not', 'advise']]\n",
      "['things', []]\n",
      "['similar', ['deaths']]\n",
      "['deaths', ['similar', 'avoid', 'happened']]\n",
      "['early', ['year']]\n",
      "['year', ['early']]\n",
      "Review Number :  12\n",
      "[['renfred89', ['wrote']], ['medical', ['classificationcentre']], ['classificationcentre', ['medical', 'wrote']]]\n",
      "[['pre', ['enlistment']], ['enlistment', ['pre', 'up']], ['check', ['up']]]\n",
      "[['effective', ['it', 'not']], ['chosen', ['you', 'not', 'channel']], ['right', ['channel']], ['channel', ['right', 'chosen']]]\n",
      "[['official', ['letter']], ['letter', ['official', 'request']], ['cmpb', []], ['expedite', ['process']], ['process', ['expedite']]]\n",
      "[['ultimately', ['do']], [\"n't\", ['want']], ['cooperate', ['want']], ['anything', ['do']]]\n",
      "[['palpitation', []], ['wide', ['spectrum']], ['spectrum', ['wide']], ['conditions', []]]\n",
      "[['however', ['pathological']], ['largely', ['pathological']], ['pathological', ['however', 'it', 'largely']], ['psychological', []]]\n",
      "[['rush', ['not', 'advise']], ['things', []], ['similar', ['deaths']], ['deaths', ['similar', 'avoid', 'happened']], ['early', ['year']], ['year', ['early']]]\n",
      "[[\"n't\", ['is']], ['ways', ['other', 'is']], ['cmpb', ['ask']], ['help', []]]\n"
     ]
    },
    {
     "name": "stderr",
     "output_type": "stream",
     "text": [
      "\r",
      " 87%|███████████████████████████████████████████████████████████████████████           | 13/15 [00:19<00:04,  2.09s/it]"
     ]
    },
    {
     "name": "stdout",
     "output_type": "stream",
     "text": [
      "[['nuh', ['seem']], [\"n't\", ['seem']], ['interested', ['seem', 'help']], ['help', ['interested', 'me']]]\n",
      "['renfred89', ['wrote']]\n",
      "['medical', ['classificationcentre']]\n",
      "['classificationcentre', ['medical', 'wrote']]\n",
      "['pre', ['enlistment']]\n",
      "['enlistment', ['pre', 'up']]\n",
      "['check', ['up']]\n",
      "['effective', ['it', 'not']]\n",
      "['chosen', ['you', 'not', 'channel']]\n",
      "['right', ['channel']]\n",
      "['channel', ['right', 'chosen']]\n",
      "['official', ['letter']]\n",
      "['letter', ['official', 'request']]\n",
      "['cmpb', []]\n",
      "['expedite', ['process']]\n",
      "['process', ['expedite']]\n",
      "['ultimately', ['do']]\n",
      "[\"n't\", ['want']]\n",
      "['cooperate', ['want']]\n",
      "['anything', ['do']]\n",
      "['palpitation', []]\n",
      "['wide', ['spectrum']]\n",
      "['spectrum', ['wide']]\n",
      "['conditions', []]\n",
      "['however', ['pathological']]\n",
      "['largely', ['pathological']]\n",
      "['pathological', ['however', 'it', 'largely']]\n",
      "['psychological', []]\n",
      "['rush', ['not', 'advise']]\n",
      "['things', []]\n",
      "['similar', ['deaths']]\n",
      "['deaths', ['similar', 'avoid', 'happened']]\n",
      "['early', ['year']]\n",
      "['year', ['early']]\n",
      "[\"n't\", ['is']]\n",
      "['ways', ['other', 'is']]\n",
      "['cmpb', ['ask']]\n",
      "['help', []]\n",
      "['nuh', ['seem']]\n",
      "[\"n't\", ['seem']]\n",
      "['interested', ['seem', 'help']]\n",
      "['help', ['interested', 'me']]\n",
      "Review Number :  13\n",
      "[['neobody', ['wrote']], [\"n't\", ['is']], ['ways', ['other', 'is']], ['cmpb', ['ask']], ['help', []]]\n",
      "[['nuh', ['seem']], [\"n't\", ['seem']], ['interested', ['seem', 'help']], ['help', ['interested', 'me']]]\n",
      "[[\"n't\", ['think']]]\n",
      "[['appointmenthiatus', ['long']], ['way', ['long']], ['long', ['appointmenthiatus', 'way', 'too']]]\n",
      "[['appointment', ['process']], ['process', ['appointment', 'booking']]]\n"
     ]
    },
    {
     "name": "stderr",
     "output_type": "stream",
     "text": [
      " 93%|████████████████████████████████████████████████████████████████████████████▌     | 14/15 [00:20<00:01,  1.46s/it]"
     ]
    },
    {
     "name": "stdout",
     "output_type": "stream",
     "text": [
      "[['double', ['check']], ['check', ['double']]]\n",
      "['neobody', ['wrote']]\n",
      "[\"n't\", ['is']]\n",
      "['ways', ['other', 'is']]\n",
      "['cmpb', ['ask']]\n",
      "['help', []]\n",
      "['nuh', ['seem']]\n",
      "[\"n't\", ['seem']]\n",
      "['interested', ['seem', 'help']]\n",
      "['help', ['interested', 'me']]\n",
      "[\"n't\", ['think']]\n",
      "['appointmenthiatus', ['long']]\n",
      "['way', ['long']]\n",
      "['long', ['appointmenthiatus', 'way', 'too']]\n",
      "['appointment', ['process']]\n",
      "['process', ['appointment', 'booking']]\n",
      "['double', ['check']]\n",
      "['check', ['double']]\n",
      "Review Number :  14\n"
     ]
    },
    {
     "name": "stderr",
     "output_type": "stream",
     "text": [
      "\n"
     ]
    }
   ],
   "source": [
    "rdr = pd.read_csv('../ScrapedOutput/cmpb.csv')\n",
    "\n",
    "nlp = stanza.Pipeline('en')\n",
    "a = dict()\n",
    "b = dict()\n",
    "a, b = do_extraction(rdr, nlp, a, b)\n",
    "\n",
    "fdr = pd.read_excel(open(\"../ScrapedOutput/hardwarezone_outputs.xlsx\", \"rb\"))\n",
    "#df = pandas.read_excel(open('your_xls_xlsx_filename','rb'), sheetname=2)\n",
    "a, b = do_extraction(fdr, nlp, a, b, \"posts\")\n",
    "#final_sent = get_sentiment(a, b, nlp)"
   ]
  },
  {
   "cell_type": "code",
   "execution_count": 34,
   "id": "successful-thesaurus",
   "metadata": {
    "scrolled": true
   },
   "outputs": [
    {
     "name": "stderr",
     "output_type": "stream",
     "text": [
      "\r",
      "  0%|                                                                                          | 0/310 [00:00<?, ?it/s]"
     ]
    },
    {
     "name": "stdout",
     "output_type": "stream",
     "text": [
      "Calculating Sentiment for:  professional\n"
     ]
    },
    {
     "name": "stderr",
     "output_type": "stream",
     "text": [
      "\r",
      "  0%|▎                                                                                 | 1/310 [00:00<01:15,  4.08it/s]"
     ]
    },
    {
     "name": "stdout",
     "output_type": "stream",
     "text": [
      "Calculating Sentiment for:  people\n"
     ]
    },
    {
     "name": "stderr",
     "output_type": "stream",
     "text": [
      "  1%|█                                                                                 | 4/310 [00:01<01:26,  3.53it/s]"
     ]
    },
    {
     "name": "stdout",
     "output_type": "stream",
     "text": [
      "Calculating Sentiment for:  recommended⭐⭐⭐⭐⭐\n",
      "Calculating Sentiment for:  patient\n",
      "Calculating Sentiment for:  kind\n"
     ]
    },
    {
     "name": "stderr",
     "output_type": "stream",
     "text": [
      "  2%|█▊                                                                                | 7/310 [00:01<00:54,  5.52it/s]"
     ]
    },
    {
     "name": "stdout",
     "output_type": "stream",
     "text": [
      "Calculating Sentiment for:  respectful\n",
      "Calculating Sentiment for:  smooth\n",
      "Calculating Sentiment for:  medical\n",
      "Calculating Sentiment for:  reviews\n"
     ]
    },
    {
     "name": "stderr",
     "output_type": "stream",
     "text": [
      "\r",
      "  3%|██▍                                                                               | 9/310 [00:03<02:02,  2.46it/s]"
     ]
    },
    {
     "name": "stdout",
     "output_type": "stream",
     "text": [
      "Calculating Sentiment for:  adequately\n",
      "Calculating Sentiment for:  friendly\n"
     ]
    },
    {
     "name": "stderr",
     "output_type": "stream",
     "text": [
      "  4%|███▍                                                                             | 13/310 [00:03<01:05,  4.57it/s]"
     ]
    },
    {
     "name": "stdout",
     "output_type": "stream",
     "text": [
      "Calculating Sentiment for:  anywhere\n",
      "Calculating Sentiment for:  else\n",
      "Calculating Sentiment for:  place\n",
      "Calculating Sentiment for:  really\n"
     ]
    },
    {
     "name": "stderr",
     "output_type": "stream",
     "text": [
      "  5%|████▏                                                                            | 16/310 [00:04<01:03,  4.62it/s]"
     ]
    },
    {
     "name": "stdout",
     "output_type": "stream",
     "text": [
      "Calculating Sentiment for:  clean\n",
      "Calculating Sentiment for:  overall\n"
     ]
    },
    {
     "name": "stderr",
     "output_type": "stream",
     "text": [
      "  6%|████▋                                                                            | 18/310 [00:04<00:57,  5.06it/s]"
     ]
    },
    {
     "name": "stdout",
     "output_type": "stream",
     "text": [
      "Calculating Sentiment for:  fine\n",
      "Calculating Sentiment for:  good\n"
     ]
    },
    {
     "name": "stderr",
     "output_type": "stream",
     "text": [
      "\r",
      "  6%|████▉                                                                            | 19/310 [00:04<01:03,  4.60it/s]"
     ]
    },
    {
     "name": "stdout",
     "output_type": "stream",
     "text": [
      "Calculating Sentiment for:  experience\n"
     ]
    },
    {
     "name": "stderr",
     "output_type": "stream",
     "text": [
      "  7%|█████▋                                                                           | 22/310 [00:05<00:55,  5.17it/s]"
     ]
    },
    {
     "name": "stdout",
     "output_type": "stream",
     "text": [
      "Calculating Sentiment for:  tip\n",
      "Calculating Sentiment for:  u\n",
      "Calculating Sentiment for:  checkup\n"
     ]
    },
    {
     "name": "stderr",
     "output_type": "stream",
     "text": [
      "  8%|██████▎                                                                          | 24/310 [00:05<00:53,  5.36it/s]"
     ]
    },
    {
     "name": "stdout",
     "output_type": "stream",
     "text": [
      "Calculating Sentiment for:  late\n",
      "Calculating Sentiment for:  back\n"
     ]
    },
    {
     "name": "stderr",
     "output_type": "stream",
     "text": [
      "  8%|██████▊                                                                          | 26/310 [00:06<00:43,  6.48it/s]"
     ]
    },
    {
     "name": "stdout",
     "output_type": "stream",
     "text": [
      "Calculating Sentiment for:  day\n",
      "Calculating Sentiment for:  complete\n"
     ]
    },
    {
     "name": "stderr",
     "output_type": "stream",
     "text": [
      "  9%|███████▎                                                                         | 28/310 [00:06<00:41,  6.73it/s]"
     ]
    },
    {
     "name": "stdout",
     "output_type": "stream",
     "text": [
      "Calculating Sentiment for:  rest\n",
      "Calculating Sentiment for:  august\n",
      "Calculating Sentiment for:  gate\n"
     ]
    },
    {
     "name": "stderr",
     "output_type": "stream",
     "text": [
      "\r",
      " 10%|███████▊                                                                         | 30/310 [00:06<00:31,  8.82it/s]"
     ]
    },
    {
     "name": "stdout",
     "output_type": "stream",
     "text": [
      "Calculating Sentiment for:  stickerpass\n",
      "Calculating Sentiment for:  walk\n",
      "Calculating Sentiment for:  n't\n"
     ]
    },
    {
     "name": "stderr",
     "output_type": "stream",
     "text": [
      " 11%|█████████▏                                                                       | 35/310 [00:08<00:57,  4.78it/s]"
     ]
    },
    {
     "name": "stdout",
     "output_type": "stream",
     "text": [
      "Calculating Sentiment for:  …\n",
      "Calculating Sentiment for:  bother\n",
      "Calculating Sentiment for:  hours\n"
     ]
    },
    {
     "name": "stderr",
     "output_type": "stream",
     "text": [
      "\r",
      " 12%|█████████▋                                                                       | 37/310 [00:08<00:44,  6.20it/s]"
     ]
    },
    {
     "name": "stdout",
     "output_type": "stream",
     "text": [
      "Calculating Sentiment for:  last\n",
      "Calculating Sentiment for:  person\n",
      "Calculating Sentiment for:  line\n"
     ]
    },
    {
     "name": "stderr",
     "output_type": "stream",
     "text": [
      " 13%|██████████▋                                                                      | 41/310 [00:08<00:31,  8.43it/s]"
     ]
    },
    {
     "name": "stdout",
     "output_type": "stream",
     "text": [
      "Calculating Sentiment for:  doctors\n",
      "Calculating Sentiment for:  fair\n",
      "Calculating Sentiment for:  choice\n",
      "Calculating Sentiment for:  waste\n"
     ]
    },
    {
     "name": "stderr",
     "output_type": "stream",
     "text": [
      "\r",
      " 14%|███████████▏                                                                     | 43/310 [00:08<00:36,  7.35it/s]"
     ]
    },
    {
     "name": "stdout",
     "output_type": "stream",
     "text": [
      "Calculating Sentiment for:  time\n",
      "Calculating Sentiment for:  nsf\n"
     ]
    },
    {
     "name": "stderr",
     "output_type": "stream",
     "text": [
      " 15%|████████████                                                                     | 46/310 [00:09<00:52,  5.03it/s]"
     ]
    },
    {
     "name": "stdout",
     "output_type": "stream",
     "text": [
      "Calculating Sentiment for:  extremely\n",
      "Calculating Sentiment for:  long\n"
     ]
    },
    {
     "name": "stderr",
     "output_type": "stream",
     "text": [
      "\r",
      " 15%|████████████▎                                                                    | 47/310 [00:10<01:10,  3.73it/s]"
     ]
    },
    {
     "name": "stdout",
     "output_type": "stream",
     "text": [
      "Calculating Sentiment for:  staff\n"
     ]
    },
    {
     "name": "stderr",
     "output_type": "stream",
     "text": [
      "\r",
      " 15%|████████████▌                                                                    | 48/310 [00:10<01:29,  2.91it/s]"
     ]
    },
    {
     "name": "stdout",
     "output_type": "stream",
     "text": [
      "Calculating Sentiment for:  bad\n"
     ]
    },
    {
     "name": "stderr",
     "output_type": "stream",
     "text": [
      " 16%|█████████████                                                                    | 50/310 [00:11<01:45,  2.47it/s]"
     ]
    },
    {
     "name": "stdout",
     "output_type": "stream",
     "text": [
      "Calculating Sentiment for:  personal\n",
      "Calculating Sentiment for:  everyone\n"
     ]
    },
    {
     "name": "stderr",
     "output_type": "stream",
     "text": [
      "\r",
      " 17%|█████████████▌                                                                   | 52/310 [00:12<01:10,  3.65it/s]"
     ]
    },
    {
     "name": "stdout",
     "output_type": "stream",
     "text": [
      "Calculating Sentiment for:  helpful\n",
      "Calculating Sentiment for:  initiative\n",
      "Calculating Sentiment for:  help\n"
     ]
    },
    {
     "name": "stderr",
     "output_type": "stream",
     "text": [
      " 18%|██████████████▎                                                                  | 55/310 [00:12<01:01,  4.16it/s]"
     ]
    },
    {
     "name": "stdout",
     "output_type": "stream",
     "text": [
      "Calculating Sentiment for:  unfriendly\n",
      "Calculating Sentiment for:  guards\n"
     ]
    },
    {
     "name": "stderr",
     "output_type": "stream",
     "text": [
      "\r",
      " 18%|██████████████▋                                                                  | 56/310 [00:12<00:53,  4.72it/s]"
     ]
    },
    {
     "name": "stdout",
     "output_type": "stream",
     "text": [
      "Calculating Sentiment for:  job\n",
      "Calculating Sentiment for:  stuff\n"
     ]
    },
    {
     "name": "stderr",
     "output_type": "stream",
     "text": [
      "\r",
      " 19%|███████████████▏                                                                 | 58/310 [00:13<00:43,  5.85it/s]"
     ]
    },
    {
     "name": "stdout",
     "output_type": "stream",
     "text": [
      "Calculating Sentiment for:  suppose\n"
     ]
    },
    {
     "name": "stderr",
     "output_type": "stream",
     "text": [
      " 20%|███████████████▉                                                                 | 61/310 [00:13<00:38,  6.52it/s]"
     ]
    },
    {
     "name": "stdout",
     "output_type": "stream",
     "text": [
      "Calculating Sentiment for:  absolutely\n",
      "Calculating Sentiment for:  atrocious\n",
      "Calculating Sentiment for:  woman\n",
      "Calculating Sentiment for:  keeps\n"
     ]
    },
    {
     "name": "stderr",
     "output_type": "stream",
     "text": [
      " 21%|████████████████▋                                                                | 64/310 [00:14<00:36,  6.78it/s]"
     ]
    },
    {
     "name": "stdout",
     "output_type": "stream",
     "text": [
      "Calculating Sentiment for:  tone\n",
      "Calculating Sentiment for:  talks\n"
     ]
    },
    {
     "name": "stderr",
     "output_type": "stream",
     "text": [
      " 22%|█████████████████▊                                                               | 68/310 [00:14<00:23, 10.35it/s]"
     ]
    },
    {
     "name": "stdout",
     "output_type": "stream",
     "text": [
      "Calculating Sentiment for:  always\n",
      "Calculating Sentiment for:  mask\n",
      "Calculating Sentiment for:  expressions\n",
      "Calculating Sentiment for:  screening\n",
      "Calculating Sentiment for:  station\n"
     ]
    },
    {
     "name": "stderr",
     "output_type": "stream",
     "text": [
      "\r",
      " 23%|██████████████████▎                                                              | 70/310 [00:14<00:26,  9.18it/s]"
     ]
    },
    {
     "name": "stdout",
     "output_type": "stream",
     "text": [
      "Calculating Sentiment for:  rude\n"
     ]
    },
    {
     "name": "stderr",
     "output_type": "stream",
     "text": [
      "\r",
      " 23%|██████████████████▊                                                              | 72/310 [00:15<00:38,  6.12it/s]"
     ]
    },
    {
     "name": "stdout",
     "output_type": "stream",
     "text": [
      "Calculating Sentiment for:  serious\n",
      "Calculating Sentiment for:  undesirably\n",
      "Calculating Sentiment for:  times\n"
     ]
    },
    {
     "name": "stderr",
     "output_type": "stream",
     "text": [
      "\r",
      " 24%|███████████████████▎                                                             | 74/310 [00:15<00:33,  7.13it/s]"
     ]
    },
    {
     "name": "stdout",
     "output_type": "stream",
     "text": [
      "Calculating Sentiment for:  cmpb\n"
     ]
    },
    {
     "name": "stderr",
     "output_type": "stream",
     "text": [
      " 25%|████████████████████                                                             | 77/310 [00:16<00:42,  5.49it/s]"
     ]
    },
    {
     "name": "stdout",
     "output_type": "stream",
     "text": [
      "Calculating Sentiment for:  sent\n",
      "Calculating Sentiment for:  son\n"
     ]
    },
    {
     "name": "stderr",
     "output_type": "stream",
     "text": [
      " 26%|█████████████████████▏                                                           | 81/310 [00:16<00:28,  8.15it/s]"
     ]
    },
    {
     "name": "stdout",
     "output_type": "stream",
     "text": [
      "Calculating Sentiment for:  preenlistment\n",
      "Calculating Sentiment for:  enlistmentcheckup\n",
      "Calculating Sentiment for:  guard\n",
      "Calculating Sentiment for:  clear\n"
     ]
    },
    {
     "name": "stderr",
     "output_type": "stream",
     "text": [
      "\r",
      " 27%|█████████████████████▋                                                           | 83/310 [00:16<00:24,  9.13it/s]"
     ]
    },
    {
     "name": "stdout",
     "output_type": "stream",
     "text": [
      "Calculating Sentiment for:  instructions\n",
      "Calculating Sentiment for:  alight\n",
      "Calculating Sentiment for:  train\n",
      "Calculating Sentiment for:  inconvenient\n"
     ]
    },
    {
     "name": "stderr",
     "output_type": "stream",
     "text": [
      " 28%|██████████████████████▋                                                          | 87/310 [00:16<00:22,  9.80it/s]"
     ]
    },
    {
     "name": "stdout",
     "output_type": "stream",
     "text": [
      "Calculating Sentiment for:  locations\n",
      "Calculating Sentiment for:  ever\n",
      "Calculating Sentiment for:  terrible\n"
     ]
    },
    {
     "name": "stderr",
     "output_type": "stream",
     "text": [
      " 29%|███████████████████████▊                                                         | 91/310 [00:17<00:17, 12.44it/s]"
     ]
    },
    {
     "name": "stdout",
     "output_type": "stream",
     "text": [
      "Calculating Sentiment for:  directions\n",
      "Calculating Sentiment for:  expect\n",
      "Calculating Sentiment for:  whole\n",
      "Calculating Sentiment for:  process\n",
      "Calculating Sentiment for:  take\n"
     ]
    },
    {
     "name": "stderr",
     "output_type": "stream",
     "text": [
      " 31%|████████████████████████▊                                                        | 95/310 [00:17<00:26,  8.00it/s]"
     ]
    },
    {
     "name": "stdout",
     "output_type": "stream",
     "text": [
      "Calculating Sentiment for:  %\n",
      "Calculating Sentiment for:  ok\n",
      "Calculating Sentiment for:  maybe\n",
      "Calculating Sentiment for:  sikit\n"
     ]
    },
    {
     "name": "stderr",
     "output_type": "stream",
     "text": [
      " 32%|█████████████████████████▊                                                       | 99/310 [00:18<00:21, 10.03it/s]"
     ]
    },
    {
     "name": "stdout",
     "output_type": "stream",
     "text": [
      "Calculating Sentiment for:  typical\n",
      "Calculating Sentiment for:  bochap\n",
      "Calculating Sentiment for:  tio\n"
     ]
    },
    {
     "name": "stderr",
     "output_type": "stream",
     "text": [
      " 33%|██████████████████████████▌                                                     | 103/310 [00:18<00:17, 11.54it/s]"
     ]
    },
    {
     "name": "stdout",
     "output_type": "stream",
     "text": [
      "Calculating Sentiment for:  switch\n",
      "Calculating Sentiment for:  vocation\n",
      "Calculating Sentiment for:  mo\n",
      "Calculating Sentiment for:  hand\n"
     ]
    },
    {
     "name": "stderr",
     "output_type": "stream",
     "text": [
      "\r",
      " 34%|███████████████████████████                                                     | 105/310 [00:18<00:16, 12.49it/s]"
     ]
    },
    {
     "name": "stdout",
     "output_type": "stream",
     "text": [
      "Calculating Sentiment for:  pehbuay\n",
      "Calculating Sentiment for:  buaysong\n",
      "Calculating Sentiment for:  probably\n"
     ]
    },
    {
     "name": "stderr",
     "output_type": "stream",
     "text": [
      " 35%|████████████████████████████▏                                                   | 109/310 [00:19<00:15, 13.38it/s]"
     ]
    },
    {
     "name": "stdout",
     "output_type": "stream",
     "text": [
      "Calculating Sentiment for:  others\n",
      "Calculating Sentiment for:  enlisting\n",
      "Calculating Sentiment for:  sure\n",
      "Calculating Sentiment for:  conditions\n"
     ]
    },
    {
     "name": "stderr",
     "output_type": "stream",
     "text": [
      " 36%|█████████████████████████████▏                                                  | 113/310 [00:19<00:15, 12.41it/s]"
     ]
    },
    {
     "name": "stdout",
     "output_type": "stream",
     "text": [
      "Calculating Sentiment for:  officer\n",
      "Calculating Sentiment for:  believe\n",
      "Calculating Sentiment for:  well\n"
     ]
    },
    {
     "name": "stderr",
     "output_type": "stream",
     "text": [
      "\r",
      " 37%|█████████████████████████████▋                                                  | 115/310 [00:19<00:15, 12.31it/s]"
     ]
    },
    {
     "name": "stdout",
     "output_type": "stream",
     "text": [
      "Calculating Sentiment for:  specialistletter\n",
      "Calculating Sentiment for:  ask\n"
     ]
    },
    {
     "name": "stderr",
     "output_type": "stream",
     "text": [
      "\r",
      " 38%|██████████████████████████████▏                                                 | 117/310 [00:20<00:28,  6.78it/s]"
     ]
    },
    {
     "name": "stdout",
     "output_type": "stream",
     "text": [
      "Calculating Sentiment for:  question\n",
      "Calculating Sentiment for:  ignore\n"
     ]
    },
    {
     "name": "stderr",
     "output_type": "stream",
     "text": [
      "\r",
      " 38%|██████████████████████████████▍                                                 | 118/310 [00:20<00:28,  6.70it/s]"
     ]
    },
    {
     "name": "stdout",
     "output_type": "stream",
     "text": [
      "Calculating Sentiment for:  nice\n"
     ]
    },
    {
     "name": "stderr",
     "output_type": "stream",
     "text": [
      " 39%|██████████████████████████████▉                                                 | 120/310 [00:20<00:32,  5.80it/s]"
     ]
    },
    {
     "name": "stdout",
     "output_type": "stream",
     "text": [
      "Calculating Sentiment for:  great\n",
      "Calculating Sentiment for:  medic\n",
      "Calculating Sentiment for:  check\n"
     ]
    },
    {
     "name": "stderr",
     "output_type": "stream",
     "text": [
      " 40%|████████████████████████████████                                                | 124/310 [00:21<00:29,  6.29it/s]"
     ]
    },
    {
     "name": "stdout",
     "output_type": "stream",
     "text": [
      "Calculating Sentiment for:  constantly\n",
      "Calculating Sentiment for:  bully\n",
      "Calculating Sentiment for:  pretty\n",
      "Calculating Sentiment for:  lousy\n"
     ]
    },
    {
     "name": "stderr",
     "output_type": "stream",
     "text": [
      "\r",
      " 41%|████████████████████████████████▌                                               | 126/310 [00:21<00:22,  8.05it/s]"
     ]
    },
    {
     "name": "stdout",
     "output_type": "stream",
     "text": [
      "Calculating Sentiment for:  service\n",
      "Calculating Sentiment for:  dk\n"
     ]
    },
    {
     "name": "stderr",
     "output_type": "stream",
     "text": [
      " 42%|█████████████████████████████████▌                                              | 130/310 [00:22<00:23,  7.68it/s]"
     ]
    },
    {
     "name": "stdout",
     "output_type": "stream",
     "text": [
      "Calculating Sentiment for:  also\n",
      "Calculating Sentiment for:  taiji\n"
     ]
    },
    {
     "name": "stderr",
     "output_type": "stream",
     "text": [
      " 43%|██████████████████████████████████                                              | 132/310 [00:22<00:23,  7.69it/s]"
     ]
    },
    {
     "name": "stdout",
     "output_type": "stream",
     "text": [
      "Calculating Sentiment for:  negative\n",
      "Calculating Sentiment for:  share\n",
      "Calculating Sentiment for:  quick\n",
      "Calculating Sentiment for:  opinion\n"
     ]
    },
    {
     "name": "stderr",
     "output_type": "stream",
     "text": [
      " 44%|███████████████████████████████████                                             | 136/310 [00:22<00:19,  8.99it/s]"
     ]
    },
    {
     "name": "stdout",
     "output_type": "stream",
     "text": [
      "Calculating Sentiment for:  perhaps\n",
      "Calculating Sentiment for:  varies\n",
      "Calculating Sentiment for:  trip\n"
     ]
    },
    {
     "name": "stderr",
     "output_type": "stream",
     "text": [
      "\r",
      " 45%|███████████████████████████████████▌                                            | 138/310 [00:22<00:18,  9.36it/s]"
     ]
    },
    {
     "name": "stdout",
     "output_type": "stream",
     "text": [
      "Calculating Sentiment for:  ultimately\n",
      "Calculating Sentiment for:  definitely\n",
      "Calculating Sentiment for:  memorable\n"
     ]
    },
    {
     "name": "stderr",
     "output_type": "stream",
     "text": [
      " 46%|████████████████████████████████████▋                                           | 142/310 [00:23<00:15, 10.90it/s]"
     ]
    },
    {
     "name": "stdout",
     "output_type": "stream",
     "text": [
      "Calculating Sentiment for:  pre-enlistment\n",
      "Calculating Sentiment for:  sessions\n"
     ]
    },
    {
     "name": "stderr",
     "output_type": "stream",
     "text": [
      "\r",
      " 46%|█████████████████████████████████████▏                                          | 144/310 [00:23<00:13, 12.33it/s]"
     ]
    },
    {
     "name": "stdout",
     "output_type": "stream",
     "text": [
      "Calculating Sentiment for:  answer\n",
      "Calculating Sentiment for:  charge\n",
      "Calculating Sentiment for:  location\n",
      "Calculating Sentiment for:  meagre\n"
     ]
    },
    {
     "name": "stderr",
     "output_type": "stream",
     "text": [
      " 48%|██████████████████████████████████████▏                                         | 148/310 [00:23<00:11, 14.45it/s]"
     ]
    },
    {
     "name": "stdout",
     "output_type": "stream",
     "text": [
      "Calculating Sentiment for:  pay\n",
      "Calculating Sentiment for:  officerattitude\n",
      "Calculating Sentiment for:  use\n",
      "Calculating Sentiment for:  many\n"
     ]
    },
    {
     "name": "stderr",
     "output_type": "stream",
     "text": [
      " 49%|███████████████████████████████████████▏                                        | 152/310 [00:24<00:15, 10.18it/s]"
     ]
    },
    {
     "name": "stdout",
     "output_type": "stream",
     "text": [
      "Calculating Sentiment for:  cool\n",
      "Calculating Sentiment for:  gold\n"
     ]
    },
    {
     "name": "stderr",
     "output_type": "stream",
     "text": [
      "\r",
      " 50%|███████████████████████████████████████▋                                        | 154/310 [00:24<00:13, 11.65it/s]"
     ]
    },
    {
     "name": "stdout",
     "output_type": "stream",
     "text": [
      "Calculating Sentiment for:  star\n",
      "Calculating Sentiment for:  public\n",
      "Calculating Sentiment for:  even\n"
     ]
    },
    {
     "name": "stderr",
     "output_type": "stream",
     "text": [
      " 51%|████████████████████████████████████████▊                                       | 158/310 [00:24<00:11, 12.87it/s]"
     ]
    },
    {
     "name": "stdout",
     "output_type": "stream",
     "text": [
      "Calculating Sentiment for:  cold\n",
      "Calculating Sentiment for:  air\n",
      "Calculating Sentiment for:  accessible\n"
     ]
    },
    {
     "name": "stderr",
     "output_type": "stream",
     "text": [
      " 52%|█████████████████████████████████████████▊                                      | 162/310 [00:24<00:12, 12.31it/s]"
     ]
    },
    {
     "name": "stdout",
     "output_type": "stream",
     "text": [
      "Calculating Sentiment for:  poor\n",
      "Calculating Sentiment for:  customerservice\n",
      "Calculating Sentiment for:  worst\n",
      "Calculating Sentiment for:  real\n"
     ]
    },
    {
     "name": "stderr",
     "output_type": "stream",
     "text": [
      "\r",
      " 53%|██████████████████████████████████████████▎                                     | 164/310 [00:24<00:10, 13.87it/s]"
     ]
    },
    {
     "name": "stdout",
     "output_type": "stream",
     "text": [
      "Calculating Sentiment for:  edgy\n",
      "Calculating Sentiment for:  novel\n",
      "Calculating Sentiment for:  writer\n",
      "Calculating Sentiment for:  highly\n"
     ]
    },
    {
     "name": "stderr",
     "output_type": "stream",
     "text": [
      "\r",
      " 54%|██████████████████████████████████████████▊                                     | 166/310 [00:25<00:11, 12.99it/s]"
     ]
    },
    {
     "name": "stdout",
     "output_type": "stream",
     "text": [
      "Calculating Sentiment for:  inaccessible\n",
      "Calculating Sentiment for:  hard\n"
     ]
    },
    {
     "name": "stderr",
     "output_type": "stream",
     "text": [
      " 55%|███████████████████████████████████████████▊                                    | 170/310 [00:25<00:11, 12.56it/s]"
     ]
    },
    {
     "name": "stdout",
     "output_type": "stream",
     "text": [
      "Calculating Sentiment for:  get\n",
      "Calculating Sentiment for:  mrt\n",
      "Calculating Sentiment for:  stations\n"
     ]
    },
    {
     "name": "stderr",
     "output_type": "stream",
     "text": [
      "\r",
      " 55%|████████████████████████████████████████████▍                                   | 172/310 [00:25<00:12, 11.02it/s]"
     ]
    },
    {
     "name": "stdout",
     "output_type": "stream",
     "text": [
      "Calculating Sentiment for:  book\n",
      "Calculating Sentiment for:  everyday\n",
      "Calculating Sentiment for:  troublesome\n"
     ]
    },
    {
     "name": "stderr",
     "output_type": "stream",
     "text": [
      "\r",
      " 56%|████████████████████████████████████████████▉                                   | 174/310 [00:25<00:12, 11.23it/s]"
     ]
    },
    {
     "name": "stdout",
     "output_type": "stream",
     "text": [
      "Calculating Sentiment for:  thing\n",
      "Calculating Sentiment for:  discussing\n"
     ]
    },
    {
     "name": "stderr",
     "output_type": "stream",
     "text": [
      "\r",
      " 57%|█████████████████████████████████████████████▍                                  | 176/310 [00:26<00:12, 10.33it/s]"
     ]
    },
    {
     "name": "stdout",
     "output_type": "stream",
     "text": [
      "Calculating Sentiment for:  菜贩\n",
      "Calculating Sentiment for:  canteenb\n"
     ]
    },
    {
     "name": "stderr",
     "output_type": "stream",
     "text": [
      " 58%|██████████████████████████████████████████████▍                                 | 180/310 [00:26<00:12, 10.09it/s]"
     ]
    },
    {
     "name": "stdout",
     "output_type": "stream",
     "text": [
      "Calculating Sentiment for:  nowhere\n",
      "Calculating Sentiment for:  officertalk\n"
     ]
    },
    {
     "name": "stderr",
     "output_type": "stream",
     "text": [
      "\r",
      " 59%|██████████████████████████████████████████████▉                                 | 182/310 [00:26<00:11, 11.45it/s]"
     ]
    },
    {
     "name": "stdout",
     "output_type": "stream",
     "text": [
      "Calculating Sentiment for:  money\n",
      "Calculating Sentiment for:  travel\n",
      "Calculating Sentiment for:  far\n"
     ]
    },
    {
     "name": "stderr",
     "output_type": "stream",
     "text": [
      "\r",
      " 59%|███████████████████████████████████████████████▍                                | 184/310 [00:26<00:12, 10.20it/s]"
     ]
    },
    {
     "name": "stdout",
     "output_type": "stream",
     "text": [
      "Calculating Sentiment for:  away\n",
      "Calculating Sentiment for:  security\n",
      "Calculating Sentiment for:  troopers\n"
     ]
    },
    {
     "name": "stderr",
     "output_type": "stream",
     "text": [
      " 61%|████████████████████████████████████████████████▌                               | 188/310 [00:27<00:11, 10.39it/s]"
     ]
    },
    {
     "name": "stdout",
     "output_type": "stream",
     "text": [
      "Calculating Sentiment for:  attitude\n",
      "Calculating Sentiment for:  unbelievably\n",
      "Calculating Sentiment for:  interestingly\n"
     ]
    },
    {
     "name": "stderr",
     "output_type": "stream",
     "text": [
      "\r",
      " 61%|█████████████████████████████████████████████████                               | 190/310 [00:27<00:11, 10.30it/s]"
     ]
    },
    {
     "name": "stdout",
     "output_type": "stream",
     "text": [
      "Calculating Sentiment for:  enough\n",
      "Calculating Sentiment for:  dirty\n"
     ]
    },
    {
     "name": "stderr",
     "output_type": "stream",
     "text": [
      "\r",
      " 62%|█████████████████████████████████████████████████▌                              | 192/310 [00:27<00:11, 10.49it/s]"
     ]
    },
    {
     "name": "stdout",
     "output_type": "stream",
     "text": [
      "Calculating Sentiment for:  pigs\n",
      "Calculating Sentiment for:  hi\n",
      "Calculating Sentiment for:  feb\n"
     ]
    },
    {
     "name": "stderr",
     "output_type": "stream",
     "text": [
      "\r",
      " 63%|██████████████████████████████████████████████████                              | 194/310 [00:27<00:09, 12.17it/s]"
     ]
    },
    {
     "name": "stdout",
     "output_type": "stream",
     "text": [
      "Calculating Sentiment for:  year\n",
      "Calculating Sentiment for:  however\n"
     ]
    },
    {
     "name": "stderr",
     "output_type": "stream",
     "text": [
      "\r",
      " 63%|██████████████████████████████████████████████████▌                             | 196/310 [00:28<00:14,  8.10it/s]"
     ]
    },
    {
     "name": "stdout",
     "output_type": "stream",
     "text": [
      "Calculating Sentiment for:  doctor\n",
      "Calculating Sentiment for:  palpitation\n"
     ]
    },
    {
     "name": "stderr",
     "output_type": "stream",
     "text": [
      " 64%|███████████████████████████████████████████████████▎                            | 199/310 [00:28<00:15,  7.01it/s]"
     ]
    },
    {
     "name": "stdout",
     "output_type": "stream",
     "text": [
      "Calculating Sentiment for:  proceed\n",
      "Calculating Sentiment for:  nuh\n"
     ]
    },
    {
     "name": "stderr",
     "output_type": "stream",
     "text": [
      "\r",
      " 65%|███████████████████████████████████████████████████▌                            | 200/310 [00:29<00:18,  5.93it/s]"
     ]
    },
    {
     "name": "stdout",
     "output_type": "stream",
     "text": [
      "Calculating Sentiment for:  nonetheless\n",
      "Calculating Sentiment for:  consultation\n"
     ]
    },
    {
     "name": "stderr",
     "output_type": "stream",
     "text": [
      " 65%|████████████████████████████████████████████████████▍                           | 203/310 [00:29<00:15,  6.78it/s]"
     ]
    },
    {
     "name": "stdout",
     "output_type": "stream",
     "text": [
      "Calculating Sentiment for:  diagnostic\n",
      "Calculating Sentiment for:  unable\n"
     ]
    },
    {
     "name": "stderr",
     "output_type": "stream",
     "text": [
      "\r",
      " 66%|████████████████████████████████████████████████████▋                           | 204/310 [00:29<00:17,  6.07it/s]"
     ]
    },
    {
     "name": "stdout",
     "output_type": "stream",
     "text": [
      "Calculating Sentiment for:  enlist\n"
     ]
    },
    {
     "name": "stderr",
     "output_type": "stream",
     "text": [
      "\r",
      " 66%|████████████████████████████████████████████████████▉                           | 205/310 [00:29<00:21,  4.86it/s]"
     ]
    },
    {
     "name": "stdout",
     "output_type": "stream",
     "text": [
      "Calculating Sentiment for:  request\n"
     ]
    },
    {
     "name": "stderr",
     "output_type": "stream",
     "text": [
      "\r",
      " 66%|█████████████████████████████████████████████████████▏                          | 206/310 [00:30<00:23,  4.40it/s]"
     ]
    },
    {
     "name": "stdout",
     "output_type": "stream",
     "text": [
      "Calculating Sentiment for:  able\n"
     ]
    },
    {
     "name": "stderr",
     "output_type": "stream",
     "text": [
      " 67%|█████████████████████████████████████████████████████▋                          | 208/310 [00:30<00:24,  4.17it/s]"
     ]
    },
    {
     "name": "stdout",
     "output_type": "stream",
     "text": [
      "Calculating Sentiment for:  assist\n",
      "Calculating Sentiment for:  anyway\n"
     ]
    },
    {
     "name": "stderr",
     "output_type": "stream",
     "text": [
      "\r",
      " 68%|██████████████████████████████████████████████████████▏                         | 210/310 [00:30<00:16,  6.21it/s]"
     ]
    },
    {
     "name": "stdout",
     "output_type": "stream",
     "text": [
      "Calculating Sentiment for:  options\n",
      "Calculating Sentiment for:  complain\n",
      "Calculating Sentiment for:  feedback\n"
     ]
    },
    {
     "name": "stderr",
     "output_type": "stream",
     "text": [
      " 69%|███████████████████████████████████████████████████████▏                        | 214/310 [00:31<00:09,  9.71it/s]"
     ]
    },
    {
     "name": "stdout",
     "output_type": "stream",
     "text": [
      "Calculating Sentiment for:  hope\n",
      "Calculating Sentiment for:  appointment\n",
      "Calculating Sentiment for:  private\n"
     ]
    },
    {
     "name": "stderr",
     "output_type": "stream",
     "text": [
      " 70%|████████████████████████████████████████████████████████▎                       | 218/310 [00:31<00:08, 11.01it/s]"
     ]
    },
    {
     "name": "stdout",
     "output_type": "stream",
     "text": [
      "Calculating Sentiment for:  pocketmoney\n",
      "Calculating Sentiment for:  idea\n",
      "Calculating Sentiment for:  advise\n",
      "Calculating Sentiment for:  thank\n"
     ]
    },
    {
     "name": "stderr",
     "output_type": "stream",
     "text": [
      "\r",
      " 71%|████████████████████████████████████████████████████████▊                       | 220/310 [00:31<00:08, 11.11it/s]"
     ]
    },
    {
     "name": "stdout",
     "output_type": "stream",
     "text": [
      "Calculating Sentiment for:  different\n",
      "Calculating Sentiment for:  hospital\n"
     ]
    },
    {
     "name": "stderr",
     "output_type": "stream",
     "text": [
      "\r",
      " 72%|█████████████████████████████████████████████████████████▎                      | 222/310 [00:31<00:09,  9.58it/s]"
     ]
    },
    {
     "name": "stdout",
     "output_type": "stream",
     "text": [
      "Calculating Sentiment for:  first\n",
      "Calculating Sentiment for:  neobody\n",
      "Calculating Sentiment for:  way\n"
     ]
    },
    {
     "name": "stderr",
     "output_type": "stream",
     "text": [
      " 73%|██████████████████████████████████████████████████████████                      | 225/310 [00:32<00:12,  6.76it/s]"
     ]
    },
    {
     "name": "stdout",
     "output_type": "stream",
     "text": [
      "Calculating Sentiment for:  reddevil0728\n",
      "Calculating Sentiment for:  ns\n"
     ]
    },
    {
     "name": "stderr",
     "output_type": "stream",
     "text": [
      " 73%|██████████████████████████████████████████████████████████▌                     | 227/310 [00:32<00:13,  6.22it/s]"
     ]
    },
    {
     "name": "stdout",
     "output_type": "stream",
     "text": [
      "Calculating Sentiment for:  hotline\n"
     ]
    },
    {
     "name": "stderr",
     "output_type": "stream",
     "text": [
      " 74%|███████████████████████████████████████████████████████████                     | 229/310 [00:33<00:14,  5.62it/s]"
     ]
    },
    {
     "name": "stdout",
     "output_type": "stream",
     "text": [
      "Calculating Sentiment for:  refer\n",
      "Calculating Sentiment for:  clerks\n",
      "Calculating Sentiment for:  write\n"
     ]
    },
    {
     "name": "stderr",
     "output_type": "stream",
     "text": [
      "\r",
      " 74%|███████████████████████████████████████████████████████████▎                    | 230/310 [00:33<00:17,  4.49it/s]"
     ]
    },
    {
     "name": "stdout",
     "output_type": "stream",
     "text": [
      "Calculating Sentiment for:  report\n"
     ]
    },
    {
     "name": "stderr",
     "output_type": "stream",
     "text": [
      "\r",
      " 75%|███████████████████████████████████████████████████████████▌                    | 231/310 [00:34<00:20,  3.87it/s]"
     ]
    },
    {
     "name": "stdout",
     "output_type": "stream",
     "text": [
      "Calculating Sentiment for:  suggestion\n",
      "Calculating Sentiment for:  chronic\n"
     ]
    },
    {
     "name": "stderr",
     "output_type": "stream",
     "text": [
      "\r",
      " 75%|████████████████████████████████████████████████████████████▏                   | 233/310 [00:34<00:14,  5.25it/s]"
     ]
    },
    {
     "name": "stdout",
     "output_type": "stream",
     "text": [
      "Calculating Sentiment for:  investigation\n"
     ]
    },
    {
     "name": "stderr",
     "output_type": "stream",
     "text": [
      "\r",
      " 75%|████████████████████████████████████████████████████████████▍                   | 234/310 [00:34<00:15,  5.02it/s]"
     ]
    },
    {
     "name": "stdout",
     "output_type": "stream",
     "text": [
      "Calculating Sentiment for:  emergency\n"
     ]
    },
    {
     "name": "stderr",
     "output_type": "stream",
     "text": [
      "\r",
      " 76%|████████████████████████████████████████████████████████████▋                   | 235/310 [00:34<00:15,  4.73it/s]"
     ]
    },
    {
     "name": "stdout",
     "output_type": "stream",
     "text": [
      "Calculating Sentiment for:  still\n"
     ]
    },
    {
     "name": "stderr",
     "output_type": "stream",
     "text": [
      "\r",
      " 76%|████████████████████████████████████████████████████████████▉                   | 236/310 [00:35<00:16,  4.60it/s]"
     ]
    },
    {
     "name": "stdout",
     "output_type": "stream",
     "text": [
      "Calculating Sentiment for:  follow\n",
      "Calculating Sentiment for:  letter\n"
     ]
    },
    {
     "name": "stderr",
     "output_type": "stream",
     "text": [
      "\r",
      " 77%|█████████████████████████████████████████████████████████████▍                  | 238/310 [00:35<00:23,  3.01it/s]"
     ]
    },
    {
     "name": "stdout",
     "output_type": "stream",
     "text": [
      "Calculating Sentiment for:  need\n"
     ]
    },
    {
     "name": "stderr",
     "output_type": "stream",
     "text": [
      " 77%|█████████████████████████████████████████████████████████████▉                  | 240/310 [00:36<00:21,  3.26it/s]"
     ]
    },
    {
     "name": "stdout",
     "output_type": "stream",
     "text": [
      "Calculating Sentiment for:  mcc\n",
      "Calculating Sentiment for:  results\n"
     ]
    },
    {
     "name": "stderr",
     "output_type": "stream",
     "text": [
      " 78%|██████████████████████████████████████████████████████████████▍                 | 242/310 [00:36<00:14,  4.67it/s]"
     ]
    },
    {
     "name": "stdout",
     "output_type": "stream",
     "text": [
      "Calculating Sentiment for:  asap\n",
      "Calculating Sentiment for:  try\n"
     ]
    },
    {
     "name": "stderr",
     "output_type": "stream",
     "text": [
      " 79%|██████████████████████████████████████████████████████████████▉                 | 244/310 [00:37<00:13,  4.72it/s]"
     ]
    },
    {
     "name": "stdout",
     "output_type": "stream",
     "text": [
      "Calculating Sentiment for:  slot\n"
     ]
    },
    {
     "name": "stderr",
     "output_type": "stream",
     "text": [
      "\r",
      " 79%|███████████████████████████████████████████████████████████████▏                | 245/310 [00:37<00:12,  5.30it/s]"
     ]
    },
    {
     "name": "stdout",
     "output_type": "stream",
     "text": [
      "Calculating Sentiment for:  tell\n",
      "Calculating Sentiment for:  meet\n"
     ]
    },
    {
     "name": "stderr",
     "output_type": "stream",
     "text": [
      " 80%|███████████████████████████████████████████████████████████████▋                | 247/310 [00:37<00:10,  5.84it/s]"
     ]
    },
    {
     "name": "stdout",
     "output_type": "stream",
     "text": [
      "Calculating Sentiment for:  deadline\n",
      "Calculating Sentiment for:  appropriate\n"
     ]
    },
    {
     "name": "stderr",
     "output_type": "stream",
     "text": [
      "\r",
      " 80%|████████████████████████████████████████████████████████████████                | 248/310 [00:37<00:09,  6.43it/s]"
     ]
    },
    {
     "name": "stdout",
     "output_type": "stream",
     "text": [
      "Calculating Sentiment for:  channel\n"
     ]
    },
    {
     "name": "stderr",
     "output_type": "stream",
     "text": [
      "\r",
      " 80%|████████████████████████████████████████████████████████████████▎               | 249/310 [00:38<00:19,  3.07it/s]"
     ]
    },
    {
     "name": "stdout",
     "output_type": "stream",
     "text": [
      "Calculating Sentiment for:  diagnose\n"
     ]
    },
    {
     "name": "stderr",
     "output_type": "stream",
     "text": [
      " 81%|████████████████████████████████████████████████████████████████▊               | 251/310 [00:38<00:14,  4.04it/s]"
     ]
    },
    {
     "name": "stdout",
     "output_type": "stream",
     "text": [
      "Calculating Sentiment for:  properly\n",
      "Calculating Sentiment for:  several\n"
     ]
    },
    {
     "name": "stderr",
     "output_type": "stream",
     "text": [
      " 82%|█████████████████████████████████████████████████████████████████▎              | 253/310 [00:39<00:11,  4.79it/s]"
     ]
    },
    {
     "name": "stdout",
     "output_type": "stream",
     "text": [
      "Calculating Sentiment for:  months\n",
      "Calculating Sentiment for:  chose\n"
     ]
    },
    {
     "name": "stderr",
     "output_type": "stream",
     "text": [
      " 82%|█████████████████████████████████████████████████████████████████▊              | 255/310 [00:39<00:11,  4.98it/s]"
     ]
    },
    {
     "name": "stdout",
     "output_type": "stream",
     "text": [
      "Calculating Sentiment for:  usually\n",
      "Calculating Sentiment for:  temporary\n"
     ]
    },
    {
     "name": "stderr",
     "output_type": "stream",
     "text": [
      " 83%|██████████████████████████████████████████████████████████████████▎             | 257/310 [00:39<00:08,  6.24it/s]"
     ]
    },
    {
     "name": "stdout",
     "output_type": "stream",
     "text": [
      "Calculating Sentiment for:  anxiety\n",
      "Calculating Sentiment for:  issues\n"
     ]
    },
    {
     "name": "stderr",
     "output_type": "stream",
     "text": [
      " 84%|██████████████████████████████████████████████████████████████████▊             | 259/310 [00:40<00:13,  3.70it/s]"
     ]
    },
    {
     "name": "stdout",
     "output_type": "stream",
     "text": [
      "Calculating Sentiment for:  purposely\n",
      "Calculating Sentiment for:  next\n"
     ]
    },
    {
     "name": "stderr",
     "output_type": "stream",
     "text": [
      " 85%|███████████████████████████████████████████████████████████████████▌            | 262/310 [00:41<00:10,  4.40it/s]"
     ]
    },
    {
     "name": "stdout",
     "output_type": "stream",
     "text": [
      "Calculating Sentiment for:  apptdate\n",
      "Calculating Sentiment for:  appt\n"
     ]
    },
    {
     "name": "stderr",
     "output_type": "stream",
     "text": [
      " 85%|████████████████████████████████████████████████████████████████████▏           | 264/310 [00:41<00:09,  4.67it/s]"
     ]
    },
    {
     "name": "stdout",
     "output_type": "stream",
     "text": [
      "Calculating Sentiment for:  anything\n",
      "Calculating Sentiment for:  wrong\n",
      "Calculating Sentiment for:  result\n"
     ]
    },
    {
     "name": "stderr",
     "output_type": "stream",
     "text": [
      "\r",
      " 85%|████████████████████████████████████████████████████████████████████▍           | 265/310 [00:42<00:10,  4.45it/s]"
     ]
    },
    {
     "name": "stdout",
     "output_type": "stream",
     "text": [
      "Calculating Sentiment for:  psychiatrist\n",
      "Calculating Sentiment for:  suspect\n",
      "Calculating Sentiment for:  condition\n"
     ]
    },
    {
     "name": "stderr",
     "output_type": "stream",
     "text": [
      " 87%|█████████████████████████████████████████████████████████████████████▍          | 269/310 [00:42<00:06,  6.07it/s]"
     ]
    },
    {
     "name": "stdout",
     "output_type": "stream",
     "text": [
      "Calculating Sentiment for:  overly\n",
      "Calculating Sentiment for:  anxious\n"
     ]
    },
    {
     "name": "stderr",
     "output_type": "stream",
     "text": [
      " 87%|█████████████████████████████████████████████████████████████████████▉          | 271/310 [00:43<00:11,  3.47it/s]"
     ]
    },
    {
     "name": "stdout",
     "output_type": "stream",
     "text": [
      "Calculating Sentiment for:  post\n",
      "Calculating Sentiment for:  pes\n",
      "Calculating Sentiment for:  dillemma\n"
     ]
    },
    {
     "name": "stderr",
     "output_type": "stream",
     "text": [
      " 88%|██████████████████████████████████████████████████████████████████████▋         | 274/310 [00:44<00:07,  4.79it/s]"
     ]
    },
    {
     "name": "stdout",
     "output_type": "stream",
     "text": [
      "Calculating Sentiment for:  cardioexercise\n",
      "Calculating Sentiment for:  dangerous\n"
     ]
    },
    {
     "name": "stderr",
     "output_type": "stream",
     "text": [
      " 89%|███████████████████████████████████████████████████████████████████████▍        | 277/310 [00:44<00:05,  6.42it/s]"
     ]
    },
    {
     "name": "stdout",
     "output_type": "stream",
     "text": [
      "Calculating Sentiment for:  panic\n",
      "Calculating Sentiment for:  attack\n"
     ]
    },
    {
     "name": "stderr",
     "output_type": "stream",
     "text": [
      "\r",
      " 90%|███████████████████████████████████████████████████████████████████████▋        | 278/310 [00:44<00:04,  6.91it/s]"
     ]
    },
    {
     "name": "stdout",
     "output_type": "stream",
     "text": [
      "Calculating Sentiment for:  renfred89\n",
      "Calculating Sentiment for:  tried\n"
     ]
    },
    {
     "name": "stderr",
     "output_type": "stream",
     "text": [
      " 90%|████████████████████████████████████████████████████████████████████████▎       | 280/310 [00:45<00:04,  6.59it/s]"
     ]
    },
    {
     "name": "stdout",
     "output_type": "stream",
     "text": [
      "Calculating Sentiment for:  unfortunately\n",
      "Calculating Sentiment for:  effective\n"
     ]
    },
    {
     "name": "stderr",
     "output_type": "stream",
     "text": [
      "\r",
      " 91%|████████████████████████████████████████████████████████████████████████▌       | 281/310 [00:45<00:07,  3.72it/s]"
     ]
    },
    {
     "name": "stdout",
     "output_type": "stream",
     "text": [
      "Calculating Sentiment for:  receive\n"
     ]
    },
    {
     "name": "stderr",
     "output_type": "stream",
     "text": [
      " 91%|█████████████████████████████████████████████████████████████████████████       | 283/310 [00:45<00:06,  4.30it/s]"
     ]
    },
    {
     "name": "stdout",
     "output_type": "stream",
     "text": [
      "Calculating Sentiment for:  calls\n",
      "Calculating Sentiment for:  indigoeyes\n",
      "Calculating Sentiment for:  coursei\n"
     ]
    },
    {
     "name": "stderr",
     "output_type": "stream",
     "text": [
      " 93%|██████████████████████████████████████████████████████████████████████████      | 287/310 [00:46<00:02,  8.62it/s]"
     ]
    },
    {
     "name": "stdout",
     "output_type": "stream",
     "text": [
      "Calculating Sentiment for:  future\n",
      "Calculating Sentiment for:  means\n",
      "Calculating Sentiment for:  speculation\n"
     ]
    },
    {
     "name": "stderr",
     "output_type": "stream",
     "text": [
      "\r",
      " 93%|██████████████████████████████████████████████████████████████████████████▌     | 289/310 [00:46<00:03,  6.76it/s]"
     ]
    },
    {
     "name": "stdout",
     "output_type": "stream",
     "text": [
      "Calculating Sentiment for:  problem\n",
      "Calculating Sentiment for:  healthy\n"
     ]
    },
    {
     "name": "stderr",
     "output_type": "stream",
     "text": [
      "\r",
      " 94%|███████████████████████████████████████████████████████████████████████████     | 291/310 [00:46<00:02,  6.93it/s]"
     ]
    },
    {
     "name": "stdout",
     "output_type": "stream",
     "text": [
      "Calculating Sentiment for:  classificationcentre\n"
     ]
    },
    {
     "name": "stderr",
     "output_type": "stream",
     "text": [
      " 95%|███████████████████████████████████████████████████████████████████████████▌    | 293/310 [00:47<00:02,  6.31it/s]"
     ]
    },
    {
     "name": "stdout",
     "output_type": "stream",
     "text": [
      "Calculating Sentiment for:  pre\n",
      "Calculating Sentiment for:  enlistment\n",
      "Calculating Sentiment for:  chosen\n"
     ]
    },
    {
     "name": "stderr",
     "output_type": "stream",
     "text": [
      " 95%|████████████████████████████████████████████████████████████████████████████▏   | 295/310 [00:47<00:02,  5.57it/s]"
     ]
    },
    {
     "name": "stdout",
     "output_type": "stream",
     "text": [
      "Calculating Sentiment for:  right\n",
      "Calculating Sentiment for:  official\n"
     ]
    },
    {
     "name": "stderr",
     "output_type": "stream",
     "text": [
      " 96%|████████████████████████████████████████████████████████████████████████████▋   | 297/310 [00:47<00:02,  6.47it/s]"
     ]
    },
    {
     "name": "stdout",
     "output_type": "stream",
     "text": [
      "Calculating Sentiment for:  expedite\n",
      "Calculating Sentiment for:  cooperate\n"
     ]
    },
    {
     "name": "stderr",
     "output_type": "stream",
     "text": [
      " 96%|█████████████████████████████████████████████████████████████████████████████▏  | 299/310 [00:48<00:01,  6.97it/s]"
     ]
    },
    {
     "name": "stdout",
     "output_type": "stream",
     "text": [
      "Calculating Sentiment for:  wide\n",
      "Calculating Sentiment for:  spectrum\n"
     ]
    },
    {
     "name": "stderr",
     "output_type": "stream",
     "text": [
      " 97%|█████████████████████████████████████████████████████████████████████████████▋  | 301/310 [00:48<00:01,  7.12it/s]"
     ]
    },
    {
     "name": "stdout",
     "output_type": "stream",
     "text": [
      "Calculating Sentiment for:  largely\n",
      "Calculating Sentiment for:  pathological\n"
     ]
    },
    {
     "name": "stderr",
     "output_type": "stream",
     "text": [
      "\r",
      " 97%|█████████████████████████████████████████████████████████████████████████████▉  | 302/310 [00:48<00:01,  5.09it/s]"
     ]
    },
    {
     "name": "stdout",
     "output_type": "stream",
     "text": [
      "Calculating Sentiment for:  rush\n"
     ]
    },
    {
     "name": "stderr",
     "output_type": "stream",
     "text": [
      " 98%|██████████████████████████████████████████████████████████████████████████████▍ | 304/310 [00:49<00:01,  5.62it/s]"
     ]
    },
    {
     "name": "stdout",
     "output_type": "stream",
     "text": [
      "Calculating Sentiment for:  similar\n",
      "Calculating Sentiment for:  deaths\n"
     ]
    },
    {
     "name": "stderr",
     "output_type": "stream",
     "text": [
      " 99%|██████████████████████████████████████████████████████████████████████████████▉ | 306/310 [00:49<00:00,  5.10it/s]"
     ]
    },
    {
     "name": "stdout",
     "output_type": "stream",
     "text": [
      "Calculating Sentiment for:  early\n",
      "Calculating Sentiment for:  ways\n"
     ]
    },
    {
     "name": "stderr",
     "output_type": "stream",
     "text": [
      " 99%|███████████████████████████████████████████████████████████████████████████████▍| 308/310 [00:50<00:00,  5.00it/s]"
     ]
    },
    {
     "name": "stdout",
     "output_type": "stream",
     "text": [
      "Calculating Sentiment for:  interested\n"
     ]
    },
    {
     "name": "stderr",
     "output_type": "stream",
     "text": [
      "100%|████████████████████████████████████████████████████████████████████████████████| 310/310 [00:50<00:00,  6.18it/s]"
     ]
    },
    {
     "name": "stdout",
     "output_type": "stream",
     "text": [
      "Calculating Sentiment for:  appointmenthiatus\n",
      "Calculating Sentiment for:  double\n"
     ]
    },
    {
     "name": "stderr",
     "output_type": "stream",
     "text": [
      "\n"
     ]
    }
   ],
   "source": [
    "fin = get_sentiment(a, b, nlp)"
   ]
  },
  {
   "cell_type": "code",
   "execution_count": 35,
   "id": "comparable-wagon",
   "metadata": {},
   "outputs": [
    {
     "data": {
      "text/html": [
       "<div>\n",
       "<style scoped>\n",
       "    .dataframe tbody tr th:only-of-type {\n",
       "        vertical-align: middle;\n",
       "    }\n",
       "\n",
       "    .dataframe tbody tr th {\n",
       "        vertical-align: top;\n",
       "    }\n",
       "\n",
       "    .dataframe thead th {\n",
       "        text-align: right;\n",
       "    }\n",
       "</style>\n",
       "<table border=\"1\" class=\"dataframe\">\n",
       "  <thead>\n",
       "    <tr style=\"text-align: right;\">\n",
       "      <th></th>\n",
       "      <th>Avg_sent</th>\n",
       "      <th>Freq</th>\n",
       "    </tr>\n",
       "  </thead>\n",
       "  <tbody>\n",
       "    <tr>\n",
       "      <th>cmpb</th>\n",
       "      <td>1.090909</td>\n",
       "      <td>22</td>\n",
       "    </tr>\n",
       "    <tr>\n",
       "      <th>n't</th>\n",
       "      <td>1.136364</td>\n",
       "      <td>20</td>\n",
       "    </tr>\n",
       "    <tr>\n",
       "      <th>medical</th>\n",
       "      <td>1.055556</td>\n",
       "      <td>18</td>\n",
       "    </tr>\n",
       "    <tr>\n",
       "      <th>nuh</th>\n",
       "      <td>1.400000</td>\n",
       "      <td>14</td>\n",
       "    </tr>\n",
       "    <tr>\n",
       "      <th>people</th>\n",
       "      <td>1.187500</td>\n",
       "      <td>12</td>\n",
       "    </tr>\n",
       "    <tr>\n",
       "      <th>...</th>\n",
       "      <td>...</td>\n",
       "      <td>...</td>\n",
       "    </tr>\n",
       "    <tr>\n",
       "      <th>answer</th>\n",
       "      <td>1.000000</td>\n",
       "      <td>1</td>\n",
       "    </tr>\n",
       "    <tr>\n",
       "      <th>charge</th>\n",
       "      <td>1.000000</td>\n",
       "      <td>1</td>\n",
       "    </tr>\n",
       "    <tr>\n",
       "      <th>location</th>\n",
       "      <td>0.000000</td>\n",
       "      <td>1</td>\n",
       "    </tr>\n",
       "    <tr>\n",
       "      <th>meagre</th>\n",
       "      <td>1.000000</td>\n",
       "      <td>1</td>\n",
       "    </tr>\n",
       "    <tr>\n",
       "      <th>double</th>\n",
       "      <td>2.000000</td>\n",
       "      <td>1</td>\n",
       "    </tr>\n",
       "  </tbody>\n",
       "</table>\n",
       "<p>310 rows × 2 columns</p>\n",
       "</div>"
      ],
      "text/plain": [
       "          Avg_sent  Freq\n",
       "cmpb      1.090909    22\n",
       "n't       1.136364    20\n",
       "medical   1.055556    18\n",
       "nuh       1.400000    14\n",
       "people    1.187500    12\n",
       "...            ...   ...\n",
       "answer    1.000000     1\n",
       "charge    1.000000     1\n",
       "location  0.000000     1\n",
       "meagre    1.000000     1\n",
       "double    2.000000     1\n",
       "\n",
       "[310 rows x 2 columns]"
      ]
     },
     "execution_count": 35,
     "metadata": {},
     "output_type": "execute_result"
    }
   ],
   "source": [
    "fin"
   ]
  }
 ],
 "metadata": {
  "kernelspec": {
   "display_name": "Python 3",
   "language": "python",
   "name": "python3"
  },
  "language_info": {
   "codemirror_mode": {
    "name": "ipython",
    "version": 3
   },
   "file_extension": ".py",
   "mimetype": "text/x-python",
   "name": "python",
   "nbconvert_exporter": "python",
   "pygments_lexer": "ipython3",
   "version": "3.9.2"
  }
 },
 "nbformat": 4,
 "nbformat_minor": 5
}
