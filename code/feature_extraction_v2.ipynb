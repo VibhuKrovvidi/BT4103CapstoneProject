{
 "cells": [
  {
   "cell_type": "code",
   "execution_count": 357,
   "id": "instructional-draft",
   "metadata": {},
   "outputs": [
    {
     "name": "stderr",
     "output_type": "stream",
     "text": [
      "Downloading https://raw.githubusercontent.com/stanfordnlp/stanza-resources/master/resources_1.2.0.json: 128kB [00:00, 125MB/s]\n",
      "2021-03-08 18:47:21 INFO: Downloading default packages for language: en (English)...\n",
      "2021-03-08 18:47:22 INFO: File exists: C:\\Users\\vibkr\\stanza_resources\\en\\default.zip.\n",
      "2021-03-08 18:47:25 INFO: Finished downloading models and saved to C:\\Users\\vibkr\\stanza_resources.\n",
      "[nltk_data] Downloading package stopwords to\n",
      "[nltk_data]     C:\\Users\\vibkr\\AppData\\Roaming\\nltk_data...\n",
      "[nltk_data]   Package stopwords is already up-to-date!\n",
      "[nltk_data] Downloading package punkt to\n",
      "[nltk_data]     C:\\Users\\vibkr\\AppData\\Roaming\\nltk_data...\n",
      "[nltk_data]   Package punkt is already up-to-date!\n",
      "[nltk_data] Downloading package averaged_perceptron_tagger to\n",
      "[nltk_data]     C:\\Users\\vibkr\\AppData\\Roaming\\nltk_data...\n",
      "[nltk_data]   Package averaged_perceptron_tagger is already up-to-\n",
      "[nltk_data]       date!\n"
     ]
    },
    {
     "data": {
      "text/plain": [
       "True"
      ]
     },
     "execution_count": 357,
     "metadata": {},
     "output_type": "execute_result"
    }
   ],
   "source": [
    "import pandas as pd\n",
    "import numpy as np\n",
    "import nltk\n",
    "import regex\n",
    "from tqdm import tqdm\n",
    "from nltk.corpus import stopwords\n",
    "from nltk.corpus import wordnet\n",
    "from nltk.tokenize import word_tokenize, sent_tokenize\n",
    "from nltk.stem.wordnet import WordNetLemmatizer \n",
    "from sklearn.feature_extraction.text import TfidfVectorizer\n",
    "import stanza\n",
    "stanza.download('en') # download English model\n",
    "nltk.download('stopwords')\n",
    "nltk.download('punkt')\n",
    "nltk.download('averaged_perceptron_tagger')"
   ]
  },
  {
   "cell_type": "code",
   "execution_count": 358,
   "id": "constant-remains",
   "metadata": {},
   "outputs": [],
   "source": [
    "def feature_extraction(txt, nlp):\n",
    "\n",
    "    sentList = nltk.sent_tokenize(txt)\n",
    "\n",
    "    retlist = [];\n",
    "    \n",
    "    for line in sentList:\n",
    "        \n",
    "        txt_list = nltk.word_tokenize(line)\n",
    "        taggedList = nltk.pos_tag(txt_list)\n",
    "        \n",
    "        newwordList = []\n",
    "        flag = 0\n",
    "        for i in range(0,len(taggedList)-1):\n",
    "            if(taggedList[i][1]==\"NN\" and taggedList[i+1][1]==\"NN\"):\n",
    "                newwordList.append(taggedList[i][0]+taggedList[i+1][0])\n",
    "                flag=1\n",
    "            else:\n",
    "                if(flag==1):\n",
    "                    flag=0\n",
    "                    continue\n",
    "                newwordList.append(taggedList[i][0])\n",
    "                if(i==len(taggedList)-2):\n",
    "                    newwordList.append(taggedList[i+1][0])\n",
    "        finaltxt = ' '.join(word for word in newwordList)\n",
    "    \n",
    "    \n",
    "        stop_words = set(stopwords.words('english'))\n",
    "        new_txt_list = nltk.word_tokenize(finaltxt)\n",
    "        wordsList = [w for w in new_txt_list if not w in stop_words]\n",
    "        taggedList = nltk.pos_tag(wordsList)\n",
    "        \n",
    "        doc = nlp(finaltxt)\n",
    "        dep_node = []\n",
    "        try:\n",
    "            for dep_edge in doc.sentences[0].dependencies:\n",
    "                dep_node.append([dep_edge[2].text, dep_edge[0].id, dep_edge[1]])\n",
    "            for i in range(0, len(dep_node)):\n",
    "                if (int(dep_node[i][1]) != 0):\n",
    "                    dep_node[i][1] = newwordList[(int(dep_node[i][1]) - 1)]\n",
    "        except:\n",
    "            pass;\n",
    "        \n",
    "        #print(dep_node)\n",
    "        \n",
    "        featureList = []\n",
    "        categories = []\n",
    "        for i in taggedList:\n",
    "            if(i[1]=='JJ' or i[1]=='NN' or i[1]=='JJR' or i[1]=='NNS' or i[1]=='RB'):\n",
    "                featureList.append(list(i))\n",
    "                categories.append(i[0])\n",
    "        #print(featureList)\n",
    "        #print(categories)\n",
    "        \n",
    "        \n",
    "        fcluster = []\n",
    "        for i in featureList:\n",
    "            filist = []\n",
    "            for j in dep_node:\n",
    "                if((j[0]==i[0] or j[1]==i[0]) and (j[2] in [\n",
    "                    # Different types of words that are identified as potential features\n",
    "                    \"nsubj\",\n",
    "                    \"acl:relcl\",\n",
    "                    \"obj\",\n",
    "                    \"dobj\",\n",
    "                    \"agent\",\n",
    "                    \"advmod\",\n",
    "                    \"amod\",\n",
    "                    \"neg\",\n",
    "                    \"prep_of\",\n",
    "                    \"acomp\",\n",
    "                    \"xcomp\",\n",
    "                    \"compound\"\n",
    "                ])):\n",
    "                    if(j[0]==i[0]):\n",
    "                        filist.append(j[1])\n",
    "                    else:\n",
    "                        filist.append(j[0])\n",
    "            fcluster.append([i[0], filist])\n",
    "        print(fcluster) \n",
    "        \n",
    "        # Remove all features with no sentiment word:\n",
    "        \n",
    "        retlist.append(fcluster)\n",
    "    return retlist;\n",
    "    "
   ]
  },
  {
   "cell_type": "code",
   "execution_count": 359,
   "id": "approved-burner",
   "metadata": {},
   "outputs": [],
   "source": [
    "def do_extraction(df, nlp, feat_count, feat_sent, content_str = \"Content\"):\n",
    "    idx = 0;\n",
    "    # Replace \"\" with nan's for removal\n",
    "    df[content_str].replace('', np.nan, inplace=True)\n",
    "    df.dropna(subset=[content_str], inplace=True)\n",
    "    review_list = df[content_str].to_list()\n",
    "    #feat_count = dict()\n",
    "    #feat_sent = dict()\n",
    "    #nlp = stanza.Pipeline('en')\n",
    "    \n",
    "    \n",
    "    \n",
    "    \n",
    "    print(\" Processing : \" , df.shape[0], \"rows of data\")\n",
    "    for review in tqdm(review_list):\n",
    "        print(\"Review Number : \", idx);\n",
    "        \n",
    "        # Some data pre-processing\n",
    "        \n",
    "        review = review.lower()\n",
    "        \n",
    "        # Merge hyphenated words\n",
    "        separate = review.split('-')\n",
    "        review = ''.join(separate)\n",
    "        \n",
    "        # Remove non-alphabets\n",
    "        review = re.sub(r'[^a-z\\s\\t.!?]', '', review)\n",
    "        \n",
    "        idx += 1;\n",
    "        if idx >= df.shape[0]:\n",
    "            break;\n",
    "        try:\n",
    "            output = feature_extraction(review, nlp);\n",
    "        except:\n",
    "            pass;\n",
    "        for sent in output:\n",
    "            for pair in sent:\n",
    "                print(pair)\n",
    "                if pair[0] in feat_sent:\n",
    "                    if pair[1] is not None:\n",
    "                        flist = feat_sent[pair[0]]\n",
    "                        if isinstance(pair[1], list):\n",
    "                            for i in pair[1]:\n",
    "                                flist.append(i)\n",
    "                        else:\n",
    "                            flist.append(pair[1])\n",
    "                        feat_sent[pair[0]] = flist;\n",
    "                else:\n",
    "                    if pair[1] is not None:\n",
    "                        flist = pair[1]\n",
    "                    else:\n",
    "                        flist = list()\n",
    "                    feat_sent[pair[0]] = flist;\n",
    "                \n",
    "                if pair[0] in feat_count:\n",
    "                    feat_count[pair[0]] = feat_count[pair[0]] + 1;\n",
    "                else:\n",
    "                    feat_count[pair[0]] = 1\n",
    "    \n",
    "    return feat_count, feat_sent;"
   ]
  },
  {
   "cell_type": "code",
   "execution_count": 360,
   "id": "final-peripheral",
   "metadata": {},
   "outputs": [],
   "source": [
    "def get_sentiment(feat_count, feat_sent, nlp):\n",
    "\n",
    "    sentiment_score = dict()\n",
    "\n",
    "    # Delete features with no descriptors\n",
    "    cob = feat_sent.copy()\n",
    "    for feat in cob.keys():\n",
    "        #print(cob[feat])\n",
    "        \n",
    "        if cob[feat] == []:\n",
    "            del feat_sent[feat]\n",
    "        else:\n",
    "            feat_sent[feat] = ' ,'.join(feat_sent[feat])\n",
    "\n",
    "    # Run pre-built sentiment score and take avg of all descriptors\n",
    "    for f in tqdm(feat_sent.keys()):\n",
    "        print(\"Calculating Sentiment for: \", f);\n",
    "        ssum = 0;\n",
    "        for g in feat_sent[f]:\n",
    "            try:\n",
    "                doc = nlp(g);\n",
    "\n",
    "                for i in doc.sentences:\n",
    "\n",
    "                        #print(i.sentiment)\n",
    "                        ssum += i.sentiment;\n",
    "            except:\n",
    "                pass;\n",
    "\n",
    "        sentiment_score[f] = ssum / len(b[f])\n",
    "\n",
    "    adf = pd.DataFrame.from_dict(feat_count, orient='index', columns=['Freq'])\n",
    "    adf.sort_values(by=\"Freq\", ascending=False, inplace = True)\n",
    "\n",
    "    \n",
    "\n",
    "    avg_sent = pd.DataFrame.from_dict(sentiment_score, orient='index', columns=[\"Avg_sent\"])\n",
    "    desc_words = pd.DataFrame.from_dict(feat_sent, orient=\"index\", columns=[\"Descriptors\"])\n",
    "    \n",
    "    avg_sent = avg_sent.merge(desc_words, left_index=True, right_index=True)\n",
    "    \n",
    "    \n",
    "    final_sent = avg_sent.merge(adf, left_index=True, right_index=True)\n",
    "    final_sent.sort_values(by=\"Freq\", ascending=False, inplace=True)\n",
    "    return final_sent;"
   ]
  },
  {
   "cell_type": "code",
   "execution_count": 361,
   "id": "horizontal-peter",
   "metadata": {
    "scrolled": true
   },
   "outputs": [
    {
     "name": "stderr",
     "output_type": "stream",
     "text": [
      "2021-03-08 18:47:25 INFO: Loading these models for language: en (English):\n",
      "=========================\n",
      "| Processor | Package   |\n",
      "-------------------------\n",
      "| tokenize  | combined  |\n",
      "| pos       | combined  |\n",
      "| lemma     | combined  |\n",
      "| depparse  | combined  |\n",
      "| sentiment | sstplus   |\n",
      "| ner       | ontonotes |\n",
      "=========================\n",
      "\n",
      "2021-03-08 18:47:25 INFO: Use device: cpu\n",
      "2021-03-08 18:47:25 INFO: Loading: tokenize\n",
      "2021-03-08 18:47:25 INFO: Loading: pos\n",
      "2021-03-08 18:47:25 INFO: Loading: lemma\n",
      "2021-03-08 18:47:25 INFO: Loading: depparse\n",
      "2021-03-08 18:47:25 INFO: Loading: sentiment\n",
      "2021-03-08 18:47:26 INFO: Loading: ner\n",
      "2021-03-08 18:47:26 INFO: Done loading processors!\n",
      "  0%|                                                                                           | 0/52 [00:00<?, ?it/s]"
     ]
    },
    {
     "name": "stdout",
     "output_type": "stream",
     "text": [
      " Processing :  52 rows of data\n",
      "Review Number :  0\n",
      "[['professional', ['very', 'people']], ['people', ['professional', 'there']]]\n"
     ]
    },
    {
     "name": "stderr",
     "output_type": "stream",
     "text": [
      "\r",
      "  2%|█▌                                                                                 | 1/52 [00:00<00:19,  2.60it/s]"
     ]
    },
    {
     "name": "stdout",
     "output_type": "stream",
     "text": [
      "[['patient', ['very', 'recommended']], ['kind', ['respectful']], ['respectful', ['kind']], ['..', []], ['smooth', ['very']], ['medical', ['checkup']], ['checkup', ['medical']]]\n",
      "['professional', ['very', 'people']]\n",
      "['people', ['professional', 'there']]\n",
      "['patient', ['very', 'recommended']]\n",
      "['kind', ['respectful']]\n",
      "['respectful', ['kind']]\n",
      "['..', []]\n",
      "['smooth', ['very']]\n",
      "['medical', ['checkup']]\n",
      "['checkup', ['medical']]\n",
      "Review Number :  1\n"
     ]
    },
    {
     "name": "stderr",
     "output_type": "stream",
     "text": [
      "\r",
      "  4%|███▏                                                                               | 2/52 [00:00<00:20,  2.43it/s]"
     ]
    },
    {
     "name": "stdout",
     "output_type": "stream",
     "text": [
      "[['reviews', ['other', 'suggest']], ['people', ['suggest', 'here']], ['adequately', ['friendlylike']], ['anywhere', ['friendlylike', 'else']], ['else', ['anywhere']], ['sg', []]]\n",
      "[['place', ['clean']], ['really', ['clean']], ['clean', ['place', 'really']], ['efficient', []]]\n",
      "['reviews', ['other', 'suggest']]\n",
      "['people', ['suggest', 'here']]\n",
      "['adequately', ['friendlylike']]\n",
      "['anywhere', ['friendlylike', 'else']]\n",
      "['else', ['anywhere']]\n",
      "['sg', []]\n",
      "['place', ['clean']]\n",
      "['really', ['clean']]\n",
      "['clean', ['place', 'really']]\n",
      "['efficient', []]\n",
      "Review Number :  2\n",
      "[['place', ['fine']], ['overall', ['fine']], ['fine', ['place', 'overall']]]\n",
      "[['good', ['experience']], ['experience', ['good']]]\n",
      "[['tip', ['just']], ['u', []], ['medical', ['checkup']], ['checkup', ['medical']]]\n",
      "[['dont', []], ['late', ['go']], ['else', []], ['u', ['have']], ['back', ['come']], ['day', ['other']], ['complete', ['rest']], ['rest', ['complete']]]\n",
      "['place', ['fine']]\n",
      "['overall', ['fine']]\n",
      "['fine', ['place', 'overall']]\n",
      "['good', ['experience']]\n",
      "['experience', ['good']]\n",
      "['tip', ['just']]\n",
      "['u', []]\n",
      "['medical', ['checkup']]\n",
      "['checkup', ['medical']]\n",
      "['dont', []]\n",
      "['late', ['go']]\n",
      "['else', []]\n",
      "['u', ['have']]\n",
      "['back', ['come']]\n",
      "['day', ['other']]\n",
      "['complete', ['rest']]\n"
     ]
    },
    {
     "name": "stderr",
     "output_type": "stream",
     "text": [
      "\r",
      "  6%|████▊                                                                              | 3/52 [00:01<00:24,  2.02it/s]"
     ]
    },
    {
     "name": "stdout",
     "output_type": "stream",
     "text": [
      "['rest', ['complete']]\n",
      "Review Number :  3\n"
     ]
    },
    {
     "name": "stderr",
     "output_type": "stream",
     "text": [
      "\r",
      "  8%|██████▍                                                                            | 4/52 [00:01<00:25,  1.91it/s]"
     ]
    },
    {
     "name": "stdout",
     "output_type": "stream",
     "text": [
      "[['nscheckup', []], ['checkuptoday', []], ['august', ['am']], ['gateentrance', ['checkcounter']], ['entrancesecurity', ['checkcounter']], ['checkcounter', ['gateentrance', 'entrancesecurity', 'securitycheck']], ['stickerpass', ['take']], ['walk', ['just']], ['gate', []], ['dont', []], ['thinking', []], ['scan', ['i', 'the']]]\n",
      "['nscheckup', []]\n",
      "['checkuptoday', []]\n",
      "['august', ['am']]\n",
      "['gateentrance', ['checkcounter']]\n",
      "['entrancesecurity', ['checkcounter']]\n",
      "['checkcounter', ['gateentrance', 'entrancesecurity', 'securitycheck']]\n",
      "['stickerpass', ['take']]\n",
      "['walk', ['just']]\n",
      "['gate', []]\n",
      "['dont', []]\n",
      "['thinking', []]\n",
      "['scan', ['i', 'the']]\n",
      "Review Number :  4\n",
      "[['dontbother', ['end']], ['youll', []], ['end', ['dontbother', 'waiting']], ['hours', ['more']], ['realise', ['only', 'that', 'youre', 'person']], ['youre', ['realise']], ['last', ['person']], ['person', ['last', 'realise']], ['line', []]]\n"
     ]
    },
    {
     "name": "stderr",
     "output_type": "stream",
     "text": [
      "\r",
      " 10%|███████▉                                                                           | 5/52 [00:02<00:28,  1.63it/s]"
     ]
    },
    {
     "name": "stdout",
     "output_type": "stream",
     "text": [
      "[['doctors', ['care']], ['really', ['care', 'have']], ['fair', ['which']], ['dont', []], ['really', ['care', 'have']], ['choice', ['have']]]\n",
      "[['place', ['waste']], ['complete', ['waste']], ['waste', ['place', 'complete']], ['space', []], ['time', []]]\n",
      "['dontbother', ['end']]\n",
      "['youll', []]\n",
      "['end', ['dontbother', 'waiting']]\n",
      "['hours', ['more']]\n",
      "['realise', ['only', 'that', 'youre', 'person']]\n",
      "['youre', ['realise']]\n",
      "['last', ['person']]\n",
      "['person', ['last', 'realise']]\n",
      "['line', []]\n",
      "['doctors', ['care']]\n",
      "['really', ['care', 'have']]\n",
      "['fair', ['which']]\n",
      "['dont', []]\n",
      "['really', ['care', 'have']]\n",
      "['choice', ['have']]\n",
      "['place', ['waste']]\n",
      "['complete', ['waste']]\n",
      "['waste', ['place', 'complete']]\n",
      "['space', []]\n",
      "['time', []]\n",
      "Review Number :  5\n"
     ]
    },
    {
     "name": "stderr",
     "output_type": "stream",
     "text": [
      "\r",
      " 12%|█████████▌                                                                         | 6/52 [00:02<00:20,  2.20it/s]"
     ]
    },
    {
     "name": "stdout",
     "output_type": "stream",
     "text": [
      "[['nsf', ['reviews']], ['reviews', ['nsf']], ['lol', []]]\n",
      "['nsf', ['reviews']]\n",
      "['reviews', ['nsf']]\n",
      "['lol', []]\n",
      "Review Number :  6\n",
      "[['extremely', ['long']], ['long', ['extremely', 'time']], ['time', ['long', 'takes']], ['due', []], ['waiting', []]]\n"
     ]
    },
    {
     "name": "stderr",
     "output_type": "stream",
     "text": [
      "\r",
      " 13%|███████████▏                                                                       | 7/52 [00:03<00:17,  2.53it/s]"
     ]
    },
    {
     "name": "stdout",
     "output_type": "stream",
     "text": [
      "[['overall', ['waste']], ['complete', ['waste']], ['waste', ['overall', 'complete']], ['time', []]]\n",
      "['extremely', ['long']]\n",
      "['long', ['extremely', 'time']]\n",
      "['time', ['long', 'takes']]\n",
      "['due', []]\n",
      "['waiting', []]\n",
      "['overall', ['waste']]\n",
      "['complete', ['waste']]\n",
      "['waste', ['overall', 'complete']]\n",
      "['time', []]\n",
      "Review Number :  7\n",
      "[['staff', ['professional']], ['professional', ['staff']], ['knows', []]]\n"
     ]
    },
    {
     "name": "stderr",
     "output_type": "stream",
     "text": [
      "\r",
      " 15%|████████████▊                                                                      | 8/52 [00:03<00:19,  2.31it/s]"
     ]
    },
    {
     "name": "stdout",
     "output_type": "stream",
     "text": [
      "[['idk', []], ['bad', ['reviews']], ['personal', ['experienceeveryone']], ['experienceeveryone', ['personal']], ['helpful', ['very', 'is']], ['initiative', ['take']], ['help', ['me']]]\n",
      "['staff', ['professional']]\n",
      "['professional', ['staff']]\n",
      "['knows', []]\n",
      "['idk', []]\n",
      "['bad', ['reviews']]\n",
      "['personal', ['experienceeveryone']]\n",
      "['experienceeveryone', ['personal']]\n",
      "['helpful', ['very', 'is']]\n",
      "['initiative', ['take']]\n",
      "['help', ['me']]\n",
      "Review Number :  8\n",
      "[['unfriendly', ['staff']], ['staff', ['unfriendly']]]\n",
      "[['guards', ['doing']], ['job', ['doing']], ['staff', ['keep']], ['stuff', ['more', 'do', 'suppose']], ['suppose', ['they', 'not', 'stuff']]]\n",
      "[['absolutely', ['atrocious']], ['atrocious', ['absolutely']]]\n"
     ]
    },
    {
     "name": "stderr",
     "output_type": "stream",
     "text": [
      "\r",
      " 17%|██████████████▎                                                                    | 9/52 [00:04<00:26,  1.61it/s]"
     ]
    },
    {
     "name": "stdout",
     "output_type": "stream",
     "text": [
      "[['woman', ['is']], ['keeps', ['who', 'vac', 'changing']], ['tone', ['changing']], ['talks', ['she']], ['people', ['threatens']], ['people', ['threatens']]]\n",
      "[['always', ['removes']], ['mask', ['removes']], ['talk', []], ['people', []], ['expressions', ['show']]]\n",
      "['unfriendly', ['staff']]\n",
      "['staff', ['unfriendly']]\n",
      "['guards', ['doing']]\n",
      "['job', ['doing']]\n",
      "['staff', ['keep']]\n",
      "['stuff', ['more', 'do', 'suppose']]\n",
      "['suppose', ['they', 'not', 'stuff']]\n",
      "['absolutely', ['atrocious']]\n",
      "['atrocious', ['absolutely']]\n",
      "['woman', ['is']]\n",
      "['keeps', ['who', 'vac', 'changing']]\n",
      "['tone', ['changing']]\n",
      "['talks', ['she']]\n",
      "['people', ['threatens']]\n",
      "['people', ['threatens']]\n",
      "['always', ['removes']]\n",
      "['mask', ['removes']]\n",
      "['talk', []]\n",
      "['people', []]\n",
      "['expressions', ['show']]\n",
      "Review Number :  9\n"
     ]
    },
    {
     "name": "stderr",
     "output_type": "stream",
     "text": [
      "\r",
      " 19%|███████████████▊                                                                  | 10/52 [00:04<00:20,  2.01it/s]"
     ]
    },
    {
     "name": "stdout",
     "output_type": "stream",
     "text": [
      "[['staff', ['rude']], ['medical', ['screening']], ['screening', ['medical', 'station']], ['station', ['screening']], ['weight', []], ['extremely', ['rude']], ['rude', ['staff', 'extremely']], ['unfriendly', []]]\n",
      "['staff', ['rude']]\n",
      "['medical', ['screening']]\n",
      "['screening', ['medical', 'station']]\n",
      "['station', ['screening']]\n",
      "['weight', []]\n",
      "['extremely', ['rude']]\n",
      "['rude', ['staff', 'extremely']]\n",
      "['unfriendly', []]\n",
      "Review Number :  10\n",
      "[['staff', ['impatient']], ['serious', ['impatient']], ['impatient', ['staff', 'not', 'serious']]]\n"
     ]
    },
    {
     "name": "stderr",
     "output_type": "stream",
     "text": [
      "\r",
      " 21%|█████████████████▎                                                                | 11/52 [00:05<00:19,  2.15it/s]"
     ]
    },
    {
     "name": "stdout",
     "output_type": "stream",
     "text": [
      "[['undesirably', ['long']], ['long', ['undesirably', 'times']], ['times', ['long', 'waiting']]]\n",
      "[['cmpb', ['recommend']], ['friend', []]]\n",
      "['staff', ['impatient']]\n",
      "['serious', ['impatient']]\n",
      "['impatient', ['staff', 'not', 'serious']]\n",
      "['undesirably', ['long']]\n",
      "['long', ['undesirably', 'times']]\n",
      "['times', ['long', 'waiting']]\n",
      "['cmpb', ['recommend']]\n",
      "['friend', []]\n",
      "Review Number :  11\n",
      "[['sent', ['just', 'son']], ['son', ['sent']], ['preenlistment', ['enlistmentcheckup']], ['enlistmentcheckup', ['preenlistment']], ['morning', []]]\n",
      "[['guard', ['give']], ['give', ['guard', 'instructions']], ['clear', ['instructions']], ['instructions', ['clear', 'give']]]\n"
     ]
    },
    {
     "name": "stderr",
     "output_type": "stream",
     "text": [
      "\r",
      " 23%|██████████████████▉                                                               | 12/52 [00:06<00:21,  1.83it/s]"
     ]
    },
    {
     "name": "stdout",
     "output_type": "stream",
     "text": [
      "[['son', ['got']], ['alight', ['got']], ['couldnt', []], ['drive', ['we', 'in']]]\n",
      "[['helloplease', []], ['train', ['army']], ['army', ['train']]]\n",
      "['sent', ['just', 'son']]\n",
      "['son', ['sent']]\n",
      "['preenlistment', ['enlistmentcheckup']]\n",
      "['enlistmentcheckup', ['preenlistment']]\n",
      "['morning', []]\n",
      "['guard', ['give']]\n",
      "['give', ['guard', 'instructions']]\n",
      "['clear', ['instructions']]\n",
      "['instructions', ['clear', 'give']]\n",
      "['son', ['got']]\n",
      "['alight', ['got']]\n",
      "['couldnt', []]\n",
      "['drive', ['we', 'in']]\n",
      "['helloplease', []]\n",
      "['train', ['army']]\n",
      "['army', ['train']]\n",
      "Review Number :  12\n",
      "[['inconvenient', ['most', 'locations']], ['locations', ['inconvenient', 'seen']], ['ever', ['seen']]]\n",
      "[['terrible', ['directions']], ['directions', ['terrible']]]\n",
      "[['rude', ['staff']], ['staff', ['rude']]]\n"
     ]
    },
    {
     "name": "stderr",
     "output_type": "stream",
     "text": [
      "\r",
      " 25%|████████████████████▌                                                             | 13/52 [00:06<00:21,  1.79it/s]"
     ]
    },
    {
     "name": "stdout",
     "output_type": "stream",
     "text": [
      "[['expect', ['process']], ['whole', ['process']], ['process', ['whole', 'expect']], ['take', ['hours']], ['hours', ['take']]]\n",
      "[]\n",
      "['inconvenient', ['most', 'locations']]\n",
      "['locations', ['inconvenient', 'seen']]\n",
      "['ever', ['seen']]\n",
      "['terrible', ['directions']]\n",
      "['directions', ['terrible']]\n",
      "['rude', ['staff']]\n",
      "['staff', ['rude']]\n",
      "['expect', ['process']]\n",
      "['whole', ['process']]\n",
      "['process', ['whole', 'expect']]\n",
      "['take', ['hours']]\n",
      "['hours', ['take']]\n",
      "Review Number :  13\n",
      "[['ok', []], ['lah', []], ['review', []], ['visitjanuary', []], ['maybe', ['sikit']], ['sikit', ['so', 'maybe']], ['date', []]]\n",
      "[['nsf', ['staff']], ['staff', ['nsf', 'ok']], ['ok', ['staff', 'typical']], ['typical', ['ok']], ['bochap', []], ['happy', []], ['bird', []], ['tio', ['switch', 'vocation']], ['switch', ['tio']], ['vocation', ['tio']]]\n",
      "[['mo', ['seemed']], ['hand', ['other']], ['si', []], ['pehbuay', ['buaysong']], ['buaysong', ['pehbuay', 'seemed']]]\n"
     ]
    },
    {
     "name": "stderr",
     "output_type": "stream",
     "text": [
      " 29%|███████████████████████▋                                                          | 15/52 [00:07<00:17,  2.06it/s]"
     ]
    },
    {
     "name": "stdout",
     "output_type": "stream",
     "text": [
      "[['probably', ['this']]]\n",
      "['ok', []]\n",
      "['lah', []]\n",
      "['review', []]\n",
      "['visitjanuary', []]\n",
      "['maybe', ['sikit']]\n",
      "['sikit', ['so', 'maybe']]\n",
      "['date', []]\n",
      "['nsf', ['staff']]\n",
      "['staff', ['nsf', 'ok']]\n",
      "['ok', ['staff', 'typical']]\n",
      "['typical', ['ok']]\n",
      "['bochap', []]\n",
      "['happy', []]\n",
      "['bird', []]\n",
      "['tio', ['switch', 'vocation']]\n",
      "['switch', ['tio']]\n",
      "['vocation', ['tio']]\n",
      "['mo', ['seemed']]\n",
      "['hand', ['other']]\n",
      "['si', []]\n",
      "['pehbuay', ['buaysong']]\n",
      "['buaysong', ['pehbuay', 'seemed']]\n",
      "['probably', ['this']]\n",
      "Review Number :  14\n",
      "[['tbh', []], ['bad', ['not', 'that']], ['place', []], ['visit', ['contrary']], ['contrary', ['visit']], ['others', ['saying']]]\n",
      "['tbh', []]\n",
      "['bad', ['not', 'that']]\n",
      "['place', []]\n",
      "['visit', ['contrary']]\n",
      "['contrary', ['visit']]\n",
      "['others', ['saying']]\n",
      "Review Number :  15\n",
      "[['please', []], ['sure', ['make']], ['medical', ['conditions']], ['conditions', ['medical', 'declare']]]\n",
      "[['severe', []], ['minor', []], ['medical', ['officer']], ['officer', ['medical']], ['checkup', []]]\n"
     ]
    },
    {
     "name": "stderr",
     "output_type": "stream",
     "text": [
      "\r",
      " 31%|█████████████████████████▏                                                        | 16/52 [00:08<00:19,  1.87it/s]"
     ]
    },
    {
     "name": "stdout",
     "output_type": "stream",
     "text": [
      "[['believe', ['you', 'not']], ['well', ['fare']], ['combatpesfitbmt', []], ['medical', ['specialistletter']], ['specialistletter', ['medical', 'get']]]\n",
      "['please', []]\n",
      "['sure', ['make']]\n",
      "['medical', ['conditions']]\n",
      "['conditions', ['medical', 'declare']]\n",
      "['severe', []]\n",
      "['minor', []]\n",
      "['medical', ['officer']]\n",
      "['officer', ['medical']]\n",
      "['checkup', []]\n",
      "['believe', ['you', 'not']]\n",
      "['well', ['fare']]\n",
      "['combatpesfitbmt', []]\n",
      "['medical', ['specialistletter']]\n",
      "['specialistletter', ['medical', 'get']]\n",
      "Review Number :  16\n",
      "[['guards', ['rude']], ['rude', ['guards', 'very']]]\n",
      "[['ask', ['question']], ['question', ['ask', 'ignore']], ['ignore', ['they', 'question', 'you']]]\n"
     ]
    },
    {
     "name": "stderr",
     "output_type": "stream",
     "text": [
      " 35%|████████████████████████████▍                                                     | 18/52 [00:08<00:13,  2.54it/s]"
     ]
    },
    {
     "name": "stdout",
     "output_type": "stream",
     "text": [
      "[['rest', ['nice']], ['staff', []], ['nice', ['rest', 'though']], ['friendly', []]]\n",
      "['guards', ['rude']]\n",
      "['rude', ['guards', 'very']]\n",
      "['ask', ['question']]\n",
      "['question', ['ask', 'ignore']]\n",
      "['ignore', ['they', 'question', 'you']]\n",
      "['rest', ['nice']]\n",
      "['staff', []]\n",
      "['nice', ['rest', 'though']]\n",
      "['friendly', []]\n",
      "Review Number :  17\n",
      "[['overall', ['experience']], ['great', ['experience']], ['experience', ['overall', 'great']], ['medic', ['professional']], ['professional', ['medic']], ['blooddraw', []]]\n",
      "['overall', ['experience']]\n",
      "['great', ['experience']]\n",
      "['experience', ['overall', 'great']]\n",
      "['medic', ['professional']]\n",
      "['professional', ['medic']]\n",
      "['blooddraw', []]\n",
      "Review Number :  18\n",
      "[['kind', ['very', 'people']], ['people', ['kind']], ['cmpd', []], ['medical', ['check']], ['check', ['medical', 'up']]]\n"
     ]
    },
    {
     "name": "stderr",
     "output_type": "stream",
     "text": [
      "\r",
      " 37%|█████████████████████████████▉                                                    | 19/52 [00:09<00:12,  2.74it/s]"
     ]
    },
    {
     "name": "stdout",
     "output_type": "stream",
     "text": [
      "[['constantly', ['greeted']], ['smile', []], ['patience', []]]\n",
      "['kind', ['very', 'people']]\n",
      "['people', ['kind']]\n",
      "['cmpd', []]\n",
      "['medical', ['check']]\n",
      "['check', ['medical', 'up']]\n",
      "['constantly', ['greeted']]\n",
      "['smile', []]\n",
      "['patience', []]\n",
      "Review Number :  19\n",
      "[['dont', []], ['bully', ['me']]]\n",
      "['dont', []]\n",
      "['bully', ['me']]\n",
      "Review Number :  20\n",
      "[['meh', []]]\n"
     ]
    },
    {
     "name": "stderr",
     "output_type": "stream",
     "text": [
      "\r",
      " 40%|█████████████████████████████████                                                 | 21/52 [00:09<00:07,  3.95it/s]"
     ]
    },
    {
     "name": "stdout",
     "output_type": "stream",
     "text": [
      "[['staff', ['nice']], ['pretty', ['nice']], ['nice', ['staff', 'pretty']]]\n",
      "['meh', []]\n",
      "['staff', ['nice']]\n",
      "['pretty', ['nice']]\n",
      "['nice', ['staff', 'pretty']]\n",
      "Review Number :  21\n",
      "[['lousy', ['dk']], ['service', ['dk']], ['dk', ['lousy', 'service', 'help']], ['help', ['dk', 'people']], ['people', ['help']]]\n"
     ]
    },
    {
     "name": "stderr",
     "output_type": "stream",
     "text": [
      "\r",
      " 42%|██████████████████████████████████▋                                               | 22/52 [00:09<00:07,  3.81it/s]"
     ]
    },
    {
     "name": "stdout",
     "output_type": "stream",
     "text": [
      "[['ask', ['question', 'taiji']], ['question', ['ask']], ['also', ['say']], ['dont', []], ['ask', ['question', 'taiji']], ['taiji', ['not', 'ask']]]\n",
      "['lousy', ['dk']]\n",
      "['service', ['dk']]\n",
      "['dk', ['lousy', 'service', 'help']]\n",
      "['help', ['dk', 'people']]\n",
      "['people', ['help']]\n",
      "['ask', ['question', 'taiji']]\n",
      "['question', ['ask']]\n",
      "['also', ['say']]\n",
      "['dont', []]\n",
      "['ask', ['question', 'taiji']]\n",
      "['taiji', ['not', 'ask']]\n",
      "Review Number :  22\n",
      "[['tuesday', []], ['negative', ['reviews']], ['reviews', ['negative']], ['share', ['i', 'opinion']], ['quick', ['opinion']], ['personal', ['opinion']], ['opinion', ['quick', 'personal', 'share']]]\n"
     ]
    },
    {
     "name": "stderr",
     "output_type": "stream",
     "text": [
      "\r",
      " 44%|████████████████████████████████████▎                                             | 23/52 [00:10<00:10,  2.85it/s]"
     ]
    },
    {
     "name": "stdout",
     "output_type": "stream",
     "text": [
      "[['perhaps', ['varies']], ['varies', ['perhaps', 'it']], ['person', []], ['person', []], ['trip', ['great']], ['cmpb', []], ['ultimately', ['great']], ['great', ['trip', 'ultimately']], ['definitely', ['experience']], ['memorable', ['experience']], ['experience', ['definitely', 'memorable']]]\n",
      "[['medical', []]]\n",
      "['tuesday', []]\n",
      "['negative', ['reviews']]\n",
      "['reviews', ['negative']]\n",
      "['share', ['i', 'opinion']]\n",
      "['quick', ['opinion']]\n",
      "['personal', ['opinion']]\n",
      "['opinion', ['quick', 'personal', 'share']]\n",
      "['perhaps', ['varies']]\n",
      "['varies', ['perhaps', 'it']]\n",
      "['person', []]\n",
      "['person', []]\n",
      "['trip', ['great']]\n",
      "['cmpb', []]\n",
      "['ultimately', ['great']]\n",
      "['great', ['trip', 'ultimately']]\n",
      "['definitely', ['experience']]\n",
      "['memorable', ['experience']]\n",
      "['experience', ['definitely', 'memorable']]\n",
      "['medical', []]\n",
      "Review Number :  23\n",
      "[['medical', ['check']], ['check', ['medical', 'place']], ['place', ['check']], ['saf', []]]\n",
      "['medical', ['check']]\n"
     ]
    },
    {
     "name": "stderr",
     "output_type": "stream",
     "text": [
      " 48%|███████████████████████████████████████▍                                          | 25/52 [00:10<00:06,  4.04it/s]"
     ]
    },
    {
     "name": "stdout",
     "output_type": "stream",
     "text": [
      "['check', ['medical', 'place']]\n",
      "['place', ['check']]\n",
      "['saf', []]\n",
      "Review Number :  24\n",
      "[['others', []], ['dirt', []]]\n",
      "['others', []]\n",
      "['dirt', []]\n",
      "Review Number :  25\n"
     ]
    },
    {
     "name": "stderr",
     "output_type": "stream",
     "text": [
      "\r",
      " 50%|█████████████████████████████████████████                                         | 26/52 [00:10<00:07,  3.61it/s]"
     ]
    },
    {
     "name": "stdout",
     "output_type": "stream",
     "text": [
      "[['preenlistment', ['screening']], ['sessions', ['few', 'counselling', 'screening']], ['charge', ['answer']]]\n",
      "[['inconvenient', ['location']], ['location', ['inconvenient']]]\n",
      "['preenlistment', ['screening']]\n",
      "['sessions', ['few', 'counselling', 'screening']]\n",
      "['charge', ['answer']]\n",
      "['inconvenient', ['location']]\n",
      "['location', ['inconvenient']]\n",
      "Review Number :  26\n",
      "[['cookhouse', []]]\n"
     ]
    },
    {
     "name": "stderr",
     "output_type": "stream",
     "text": [
      "\r",
      " 52%|██████████████████████████████████████████▌                                       | 27/52 [00:11<00:06,  3.69it/s]"
     ]
    },
    {
     "name": "stdout",
     "output_type": "stream",
     "text": [
      "[['nsf', ['need']], ['meagre', ['pay']], ['pay', ['meagre']]]\n",
      "['cookhouse', []]\n",
      "['nsf', ['need']]\n",
      "['meagre', ['pay']]\n",
      "['pay', ['meagre']]\n",
      "Review Number :  27\n",
      "[['officerattitude', ['good']], ['good', ['officerattitude', 'not']], ['patience', []], ['service', []]]\n"
     ]
    },
    {
     "name": "stderr",
     "output_type": "stream",
     "text": [
      "\r",
      " 54%|████████████████████████████████████████████▏                                     | 28/52 [00:11<00:07,  3.01it/s]"
     ]
    },
    {
     "name": "stdout",
     "output_type": "stream",
     "text": [
      "[['dont', []], ['understand', ['i', 'just', 'what']], ['use', ['he', 'tone']], ['unfriendly', ['tone']], ['tone', ['unfriendly', 'use']], ['repeat', []], ['language', []]]\n",
      "['officerattitude', ['good']]\n",
      "['good', ['officerattitude', 'not']]\n",
      "['patience', []]\n",
      "['service', []]\n",
      "['dont', []]\n",
      "['understand', ['i', 'just', 'what']]\n",
      "['use', ['he', 'tone']]\n",
      "['unfriendly', ['tone']]\n",
      "['tone', ['unfriendly', 'use']]\n",
      "['repeat', []]\n",
      "['language', []]\n",
      "Review Number :  28\n"
     ]
    },
    {
     "name": "stderr",
     "output_type": "stream",
     "text": [
      " 58%|███████████████████████████████████████████████▎                                  | 30/52 [00:12<00:06,  3.50it/s]"
     ]
    },
    {
     "name": "stdout",
     "output_type": "stream",
     "text": [
      "[['idk', []], ['many', ['so', 'people']], ['people', ['many', 'give']], ['negative', ['reviews']], ['reviews', ['negative', 'give']], ['medical', ['check']], ['check', ['medical', 'up']], ['staff', ['friendly']], ['friendly', ['staff']], ['nsf', ['cool']], ['cool', ['nsf']], ['overall', ['had']], ['good', ['experience']], ['experience', ['good', 'had', 'there']]]\n",
      "['idk', []]\n",
      "['many', ['so', 'people']]\n",
      "['people', ['many', 'give']]\n",
      "['negative', ['reviews']]\n",
      "['reviews', ['negative', 'give']]\n",
      "['medical', ['check']]\n",
      "['check', ['medical', 'up']]\n",
      "['staff', ['friendly']]\n",
      "['friendly', ['staff']]\n",
      "['nsf', ['cool']]\n",
      "['cool', ['nsf']]\n",
      "['overall', ['had']]\n",
      "['good', ['experience']]\n",
      "['experience', ['good', 'had', 'there']]\n",
      "Review Number :  29\n",
      "[['gold', ['star']], ['star', ['gold']], ['public', ['service']], ['service', ['public']]]\n",
      "['gold', ['star']]\n",
      "['star', ['gold']]\n",
      "['public', ['service']]\n",
      "['service', ['public']]\n",
      "Review Number :  30\n",
      "[['hrs', ['here']], ['form', []], ['meeting', []]]\n",
      "[['even', ['bored']], ['really', ['bored']]]\n",
      "[['cold', ['conditioning']], ['air', ['conditioning']], ['wifi', []]]\n",
      "['hrs', ['here']]\n",
      "['form', []]\n",
      "['meeting', []]\n",
      "['even', ['bored']]\n",
      "['really', ['bored']]\n"
     ]
    },
    {
     "name": "stderr",
     "output_type": "stream",
     "text": [
      " 62%|██████████████████████████████████████████████████▍                               | 32/52 [00:12<00:05,  3.80it/s]"
     ]
    },
    {
     "name": "stdout",
     "output_type": "stream",
     "text": [
      "['cold', ['conditioning']]\n",
      "['air', ['conditioning']]\n",
      "['wifi', []]\n",
      "Review Number :  31\n",
      "[['accessible', ['not']]]\n",
      "['accessible', ['not']]\n",
      "Review Number :  32\n"
     ]
    },
    {
     "name": "stderr",
     "output_type": "stream",
     "text": [
      "\r",
      " 63%|████████████████████████████████████████████████████                              | 33/52 [00:12<00:04,  4.38it/s]"
     ]
    },
    {
     "name": "stdout",
     "output_type": "stream",
     "text": [
      "[['extremely', ['poor']], ['poor', ['extremely', 'customerservice']], ['rude', []], ['customerservice', ['poor']]]\n",
      "['extremely', ['poor']]\n",
      "['poor', ['extremely', 'customerservice']]\n",
      "['rude', []]\n",
      "['customerservice', ['poor']]\n",
      "Review Number :  33\n",
      "[['worst', ['day']], ['day', ['worst']], ['life', []]]\n",
      "['worst', ['day']]\n",
      "['day', ['worst']]\n",
      "['life', []]\n",
      "Review Number :  34\n"
     ]
    },
    {
     "name": "stderr",
     "output_type": "stream",
     "text": [
      "\r",
      " 67%|███████████████████████████████████████████████████████▏                          | 35/52 [00:13<00:03,  5.54it/s]"
     ]
    },
    {
     "name": "stdout",
     "output_type": "stream",
     "text": [
      "[['wooo', []], ['real', ['edgy']], ['edgy', ['real', 'ziyuan']], ['ziyuan', ['edgy', 'writer']], ['novel', ['writer']], ['writer', ['ziyuan', 'you', 'novel']]]\n",
      "['wooo', []]\n",
      "['real', ['edgy']]\n",
      "['edgy', ['real', 'ziyuan']]\n",
      "['ziyuan', ['edgy', 'writer']]\n",
      "['novel', ['writer']]\n",
      "['writer', ['ziyuan', 'you', 'novel']]\n",
      "Review Number :  35\n",
      "[['highly', ['inaccessible']], ['inaccessible', ['highly']]]\n"
     ]
    },
    {
     "name": "stderr",
     "output_type": "stream",
     "text": [
      " 71%|██████████████████████████████████████████████████████████▎                       | 37/52 [00:13<00:02,  5.67it/s]"
     ]
    },
    {
     "name": "stdout",
     "output_type": "stream",
     "text": [
      "[['hard', ['so']], ['get', ['there']], ['mrt', ['stations']], ['stations', ['not', 'mrt']]]\n",
      "['highly', ['inaccessible']]\n",
      "['inaccessible', ['highly']]\n",
      "['hard', ['so']]\n",
      "['get', ['there']]\n",
      "['mrt', ['stations']]\n",
      "['stations', ['not', 'mrt']]\n",
      "Review Number :  36\n",
      "[['bane', []], ['existence', []]]\n",
      "['bane', []]\n",
      "['existence', []]\n",
      "Review Number :  37\n",
      "[['cookhouse', []], ['book', ['get', 'everyday']], ['everyday', ['book']]]\n",
      "[['troublesome', ['most', 'thing']], ['thing', ['troublesome', 'discussing']], ['whats', ['discussing']], ['lunch', []]]\n"
     ]
    },
    {
     "name": "stderr",
     "output_type": "stream",
     "text": [
      " 75%|█████████████████████████████████████████████████████████████▌                    | 39/52 [00:14<00:03,  4.29it/s]"
     ]
    },
    {
     "name": "stdout",
     "output_type": "stream",
     "text": [
      "[['sidenotecanteen', ['canteenb']], ['canteenb', ['sidenotecanteen', 'bad']], ['bad', ['canteenb', 'real']], ['real', ['bad']], ['bad', ['canteenb', 'real']]]\n",
      "['cookhouse', []]\n",
      "['book', ['get', 'everyday']]\n",
      "['everyday', ['book']]\n",
      "['troublesome', ['most', 'thing']]\n",
      "['thing', ['troublesome', 'discussing']]\n",
      "['whats', ['discussing']]\n",
      "['lunch', []]\n",
      "['sidenotecanteen', ['canteenb']]\n",
      "['canteenb', ['sidenotecanteen', 'bad']]\n",
      "['bad', ['canteenb', 'real']]\n",
      "['real', ['bad']]\n",
      "['bad', ['canteenb', 'real']]\n",
      "Review Number :  38\n",
      "[['people', ['go']], ['even', ['go']], ['place', []], ['middle', []], ['nowhere', []]]\n",
      "['people', ['go']]\n",
      "['even', ['go']]\n",
      "['place', []]\n",
      "['middle', []]\n",
      "['nowhere', []]\n",
      "Review Number :  39\n"
     ]
    },
    {
     "name": "stderr",
     "output_type": "stream",
     "text": [
      "\r",
      " 77%|███████████████████████████████████████████████████████████████                   | 40/52 [00:14<00:03,  3.86it/s]"
     ]
    },
    {
     "name": "stdout",
     "output_type": "stream",
     "text": [
      "[['officertalk', ['prepared']], ['money', ['own']], ['hard', ['very']], ['middle', []], ['village', []], ['something', []]]\n",
      "['officertalk', ['prepared']]\n",
      "['money', ['own']]\n",
      "['hard', ['very']]\n",
      "['middle', []]\n",
      "['village', []]\n",
      "['something', []]\n",
      "Review Number :  40\n",
      "[['rude', ['staff']], ['staff', ['rude']]]\n",
      "['rude', ['staff']]\n",
      "['staff', ['rude']]\n",
      "Review Number :  41\n"
     ]
    },
    {
     "name": "stderr",
     "output_type": "stream",
     "text": [
      " 83%|███████████████████████████████████████████████████████████████████▊              | 43/52 [00:14<00:01,  5.28it/s]"
     ]
    },
    {
     "name": "stdout",
     "output_type": "stream",
     "text": [
      "[['inaccessible', ['need']], ['need', ['inaccessible']], ['h', []], ['time', ['travel']], ['waste', ['more']], ['time', ['travel']]]\n",
      "['inaccessible', ['need']]\n",
      "['need', ['inaccessible']]\n",
      "['h', []]\n",
      "['time', ['travel']]\n",
      "['waste', ['more']]\n",
      "['time', ['travel']]\n",
      "Review Number :  42\n",
      "[['far', ['so', 'away']], ['away', ['far']], ['middle', []], ['nowhere', []]]\n",
      "['far', ['so', 'away']]\n",
      "['away', ['far']]\n",
      "['middle', []]\n",
      "['nowhere', []]\n",
      "Review Number :  43\n"
     ]
    },
    {
     "name": "stderr",
     "output_type": "stream",
     "text": [
      " 87%|██████████████████████████████████████████████████████████████████████▉           | 45/52 [00:15<00:01,  5.77it/s]"
     ]
    },
    {
     "name": "stdout",
     "output_type": "stream",
     "text": [
      "[['bad', ['very', 'troopers', 'very', 'attitude']], ['security', ['troopers']], ['troopers', ['bad', 'security', 'have']], ['bad', ['very', 'troopers', 'very', 'attitude']], ['attitude', ['bad', 'have']], ['towards', []], ['public', []]]\n",
      "['bad', ['very', 'troopers', 'very', 'attitude']]\n",
      "['security', ['troopers']]\n",
      "['troopers', ['bad', 'security', 'have']]\n",
      "['bad', ['very', 'troopers', 'very', 'attitude']]\n",
      "['attitude', ['bad', 'have']]\n",
      "['towards', []]\n",
      "['public', []]\n",
      "Review Number :  44\n",
      "[['middle', []], ['nowhere', []]]\n",
      "['middle', []]\n",
      "['nowhere', []]\n",
      "Review Number :  45\n"
     ]
    },
    {
     "name": "stderr",
     "output_type": "stream",
     "text": [
      "\r",
      " 88%|████████████████████████████████████████████████████████████████████████▌         | 46/52 [00:15<00:01,  5.40it/s]"
     ]
    },
    {
     "name": "stdout",
     "output_type": "stream",
     "text": [
      "[['place', []], ['well', ['kept']], ['people', ['kept']], ['unbelievably', ['rude']], ['rude', ['unbelievably']]]\n",
      "['place', []]\n",
      "['well', ['kept']]\n",
      "['people', ['kept']]\n",
      "['unbelievably', ['rude']]\n",
      "['rude', ['unbelievably']]\n",
      "Review Number :  46\n",
      "[['bad', ['service']], ['service', ['bad']]]\n",
      "['bad', ['service']]\n",
      "['service', ['bad']]\n",
      "Review Number :  47\n"
     ]
    },
    {
     "name": "stderr",
     "output_type": "stream",
     "text": [
      "\r",
      " 92%|███████████████████████████████████████████████████████████████████████████▋      | 48/52 [00:15<00:00,  6.17it/s]"
     ]
    },
    {
     "name": "stdout",
     "output_type": "stream",
     "text": [
      "[['interestingly', ['enough']], ['enough', ['interestingly', 'removed']], ['negative', ['reviews']], ['reviews', ['negative']]]\n",
      "['interestingly', ['enough']]\n",
      "['enough', ['interestingly', 'removed']]\n",
      "['negative', ['reviews']]\n",
      "['reviews', ['negative']]\n",
      "Review Number :  48\n",
      "[['bad', ['service']], ['service', ['bad']]]\n",
      "['bad', ['service']]\n",
      "['service', ['bad']]\n",
      "Review Number :  49\n",
      "[['sheat', []]]\n"
     ]
    },
    {
     "name": "stderr",
     "output_type": "stream",
     "text": [
      " 98%|████████████████████████████████████████████████████████████████████████████████▍ | 51/52 [00:15<00:00,  3.19it/s]"
     ]
    },
    {
     "name": "stdout",
     "output_type": "stream",
     "text": [
      "[['dirty', ['pigs']], ['pigs', ['dirty', 'training']], ['step', []], ['minefields', []]]\n",
      "['sheat', []]\n",
      "['dirty', ['pigs']]\n",
      "['pigs', ['dirty', 'training']]\n",
      "['step', []]\n",
      "['minefields', []]\n",
      "Review Number :  50\n",
      "[['gncpresent', []]]\n",
      "['gncpresent', []]\n",
      "Review Number :  51\n"
     ]
    },
    {
     "name": "stderr",
     "output_type": "stream",
     "text": [
      "\n"
     ]
    }
   ],
   "source": [
    "rdr = pd.read_csv('../ScrapedOutput/cmpb.csv')\n",
    "\n",
    "nlp = stanza.Pipeline('en')\n",
    "a = dict()\n",
    "b = dict()\n",
    "a, b = do_extraction(rdr, nlp, a, b)"
   ]
  },
  {
   "cell_type": "code",
   "execution_count": 362,
   "id": "successful-thesaurus",
   "metadata": {
    "scrolled": true
   },
   "outputs": [
    {
     "name": "stderr",
     "output_type": "stream",
     "text": [
      "\r",
      "  0%|                                                                                          | 0/197 [00:00<?, ?it/s]"
     ]
    },
    {
     "name": "stdout",
     "output_type": "stream",
     "text": [
      "Calculating Sentiment for:  professional\n"
     ]
    },
    {
     "name": "stderr",
     "output_type": "stream",
     "text": [
      "\r",
      "  1%|▍                                                                                 | 1/197 [00:01<03:36,  1.10s/it]"
     ]
    },
    {
     "name": "stdout",
     "output_type": "stream",
     "text": [
      "Calculating Sentiment for:  people\n"
     ]
    },
    {
     "name": "stderr",
     "output_type": "stream",
     "text": [
      "\r",
      "  1%|▊                                                                                 | 2/197 [00:04<08:30,  2.62s/it]"
     ]
    },
    {
     "name": "stdout",
     "output_type": "stream",
     "text": [
      "Calculating Sentiment for:  patient\n"
     ]
    },
    {
     "name": "stderr",
     "output_type": "stream",
     "text": [
      "\r",
      "  2%|█▏                                                                                | 3/197 [00:05<05:42,  1.77s/it]"
     ]
    },
    {
     "name": "stdout",
     "output_type": "stream",
     "text": [
      "Calculating Sentiment for:  kind\n"
     ]
    },
    {
     "name": "stderr",
     "output_type": "stream",
     "text": [
      "  3%|██                                                                                | 5/197 [00:06<03:14,  1.01s/it]"
     ]
    },
    {
     "name": "stdout",
     "output_type": "stream",
     "text": [
      "Calculating Sentiment for:  respectful\n"
     ]
    },
    {
     "name": "stderr",
     "output_type": "stream",
     "text": [
      "\r",
      "  3%|██▍                                                                               | 6/197 [00:06<02:19,  1.37it/s]"
     ]
    },
    {
     "name": "stdout",
     "output_type": "stream",
     "text": [
      "Calculating Sentiment for:  smooth\n",
      "Calculating Sentiment for:  medical\n"
     ]
    },
    {
     "name": "stderr",
     "output_type": "stream",
     "text": [
      "\r",
      "  4%|██▉                                                                               | 7/197 [00:10<05:23,  1.70s/it]"
     ]
    },
    {
     "name": "stdout",
     "output_type": "stream",
     "text": [
      "Calculating Sentiment for:  checkup\n"
     ]
    },
    {
     "name": "stderr",
     "output_type": "stream",
     "text": [
      "\r",
      "  4%|███▎                                                                              | 8/197 [00:11<04:25,  1.40s/it]"
     ]
    },
    {
     "name": "stdout",
     "output_type": "stream",
     "text": [
      "Calculating Sentiment for:  reviews\n"
     ]
    },
    {
     "name": "stderr",
     "output_type": "stream",
     "text": [
      "\r",
      "  5%|███▋                                                                              | 9/197 [00:13<05:14,  1.67s/it]"
     ]
    },
    {
     "name": "stdout",
     "output_type": "stream",
     "text": [
      "Calculating Sentiment for:  adequately\n"
     ]
    },
    {
     "name": "stderr",
     "output_type": "stream",
     "text": [
      "\r",
      "  5%|████                                                                             | 10/197 [00:14<04:07,  1.33s/it]"
     ]
    },
    {
     "name": "stdout",
     "output_type": "stream",
     "text": [
      "Calculating Sentiment for:  anywhere\n"
     ]
    },
    {
     "name": "stderr",
     "output_type": "stream",
     "text": [
      "\r",
      "  6%|████▌                                                                            | 11/197 [00:14<03:35,  1.16s/it]"
     ]
    },
    {
     "name": "stdout",
     "output_type": "stream",
     "text": [
      "Calculating Sentiment for:  else\n"
     ]
    },
    {
     "name": "stderr",
     "output_type": "stream",
     "text": [
      "\r",
      "  6%|████▉                                                                            | 12/197 [00:15<02:48,  1.09it/s]"
     ]
    },
    {
     "name": "stdout",
     "output_type": "stream",
     "text": [
      "Calculating Sentiment for:  place\n"
     ]
    },
    {
     "name": "stderr",
     "output_type": "stream",
     "text": [
      "\r",
      "  7%|█████▎                                                                           | 13/197 [00:16<02:52,  1.07it/s]"
     ]
    },
    {
     "name": "stdout",
     "output_type": "stream",
     "text": [
      "Calculating Sentiment for:  really\n"
     ]
    },
    {
     "name": "stderr",
     "output_type": "stream",
     "text": [
      "\r",
      "  7%|█████▊                                                                           | 14/197 [00:17<03:22,  1.11s/it]"
     ]
    },
    {
     "name": "stdout",
     "output_type": "stream",
     "text": [
      "Calculating Sentiment for:  clean\n"
     ]
    },
    {
     "name": "stderr",
     "output_type": "stream",
     "text": [
      "\r",
      "  8%|██████▏                                                                          | 15/197 [00:18<02:52,  1.06it/s]"
     ]
    },
    {
     "name": "stdout",
     "output_type": "stream",
     "text": [
      "Calculating Sentiment for:  overall\n"
     ]
    },
    {
     "name": "stderr",
     "output_type": "stream",
     "text": [
      "\r",
      "  8%|██████▌                                                                          | 16/197 [00:19<03:02,  1.01s/it]"
     ]
    },
    {
     "name": "stdout",
     "output_type": "stream",
     "text": [
      "Calculating Sentiment for:  fine\n"
     ]
    },
    {
     "name": "stderr",
     "output_type": "stream",
     "text": [
      "\r",
      "  9%|██████▉                                                                          | 17/197 [00:20<02:42,  1.11it/s]"
     ]
    },
    {
     "name": "stdout",
     "output_type": "stream",
     "text": [
      "Calculating Sentiment for:  good\n"
     ]
    },
    {
     "name": "stderr",
     "output_type": "stream",
     "text": [
      "\r",
      "  9%|███████▍                                                                         | 18/197 [00:22<03:37,  1.22s/it]"
     ]
    },
    {
     "name": "stdout",
     "output_type": "stream",
     "text": [
      "Calculating Sentiment for:  experience\n"
     ]
    },
    {
     "name": "stderr",
     "output_type": "stream",
     "text": [
      "\r",
      " 10%|███████▊                                                                         | 19/197 [00:24<04:47,  1.62s/it]"
     ]
    },
    {
     "name": "stdout",
     "output_type": "stream",
     "text": [
      "Calculating Sentiment for:  tip\n"
     ]
    },
    {
     "name": "stderr",
     "output_type": "stream",
     "text": [
      " 11%|████████▋                                                                        | 21/197 [00:25<02:36,  1.13it/s]"
     ]
    },
    {
     "name": "stdout",
     "output_type": "stream",
     "text": [
      "Calculating Sentiment for:  u\n"
     ]
    },
    {
     "name": "stderr",
     "output_type": "stream",
     "text": [
      "\r",
      " 12%|█████████▍                                                                       | 23/197 [00:25<01:34,  1.83it/s]"
     ]
    },
    {
     "name": "stdout",
     "output_type": "stream",
     "text": [
      "Calculating Sentiment for:  late\n",
      "Calculating Sentiment for:  back\n",
      "Calculating Sentiment for:  day\n"
     ]
    },
    {
     "name": "stderr",
     "output_type": "stream",
     "text": [
      "\r",
      " 12%|█████████▊                                                                       | 24/197 [00:25<01:32,  1.87it/s]"
     ]
    },
    {
     "name": "stdout",
     "output_type": "stream",
     "text": [
      "Calculating Sentiment for:  complete\n"
     ]
    },
    {
     "name": "stderr",
     "output_type": "stream",
     "text": [
      "\r",
      " 13%|██████████▎                                                                      | 25/197 [00:26<01:41,  1.70it/s]"
     ]
    },
    {
     "name": "stdout",
     "output_type": "stream",
     "text": [
      "Calculating Sentiment for:  rest\n"
     ]
    },
    {
     "name": "stderr",
     "output_type": "stream",
     "text": [
      " 14%|███████████                                                                      | 27/197 [00:27<01:17,  2.19it/s]"
     ]
    },
    {
     "name": "stdout",
     "output_type": "stream",
     "text": [
      "Calculating Sentiment for:  august\n",
      "Calculating Sentiment for:  gateentrance\n"
     ]
    },
    {
     "name": "stderr",
     "output_type": "stream",
     "text": [
      "\r",
      " 14%|███████████▌                                                                     | 28/197 [00:27<01:22,  2.05it/s]"
     ]
    },
    {
     "name": "stdout",
     "output_type": "stream",
     "text": [
      "Calculating Sentiment for:  entrancesecurity\n"
     ]
    },
    {
     "name": "stderr",
     "output_type": "stream",
     "text": [
      "\r",
      " 15%|███████████▉                                                                     | 29/197 [00:28<01:24,  1.98it/s]"
     ]
    },
    {
     "name": "stdout",
     "output_type": "stream",
     "text": [
      "Calculating Sentiment for:  checkcounter\n"
     ]
    },
    {
     "name": "stderr",
     "output_type": "stream",
     "text": [
      " 16%|████████████▋                                                                    | 31/197 [00:30<02:01,  1.37it/s]"
     ]
    },
    {
     "name": "stdout",
     "output_type": "stream",
     "text": [
      "Calculating Sentiment for:  stickerpass\n",
      "Calculating Sentiment for:  walk\n"
     ]
    },
    {
     "name": "stderr",
     "output_type": "stream",
     "text": [
      "\r",
      " 16%|█████████████▏                                                                   | 32/197 [00:30<01:34,  1.75it/s]"
     ]
    },
    {
     "name": "stdout",
     "output_type": "stream",
     "text": [
      "Calculating Sentiment for:  scan\n"
     ]
    },
    {
     "name": "stderr",
     "output_type": "stream",
     "text": [
      " 17%|█████████████▉                                                                   | 34/197 [00:31<01:01,  2.67it/s]"
     ]
    },
    {
     "name": "stdout",
     "output_type": "stream",
     "text": [
      "Calculating Sentiment for:  dontbother\n",
      "Calculating Sentiment for:  end\n"
     ]
    },
    {
     "name": "stderr",
     "output_type": "stream",
     "text": [
      "\r",
      " 18%|██████████████▍                                                                  | 35/197 [00:32<01:23,  1.94it/s]"
     ]
    },
    {
     "name": "stdout",
     "output_type": "stream",
     "text": [
      "Calculating Sentiment for:  hours\n"
     ]
    },
    {
     "name": "stderr",
     "output_type": "stream",
     "text": [
      "\r",
      " 18%|██████████████▊                                                                  | 36/197 [00:32<01:18,  2.05it/s]"
     ]
    },
    {
     "name": "stdout",
     "output_type": "stream",
     "text": [
      "Calculating Sentiment for:  realise\n"
     ]
    },
    {
     "name": "stderr",
     "output_type": "stream",
     "text": [
      "\r",
      " 19%|███████████████▏                                                                 | 37/197 [00:33<01:46,  1.50it/s]"
     ]
    },
    {
     "name": "stdout",
     "output_type": "stream",
     "text": [
      "Calculating Sentiment for:  youre\n"
     ]
    },
    {
     "name": "stderr",
     "output_type": "stream",
     "text": [
      "\r",
      " 19%|███████████████▌                                                                 | 38/197 [00:33<01:31,  1.74it/s]"
     ]
    },
    {
     "name": "stdout",
     "output_type": "stream",
     "text": [
      "Calculating Sentiment for:  last\n"
     ]
    },
    {
     "name": "stderr",
     "output_type": "stream",
     "text": [
      "\r",
      " 20%|████████████████                                                                 | 39/197 [00:34<01:19,  1.99it/s]"
     ]
    },
    {
     "name": "stdout",
     "output_type": "stream",
     "text": [
      "Calculating Sentiment for:  person\n"
     ]
    },
    {
     "name": "stderr",
     "output_type": "stream",
     "text": [
      " 21%|████████████████▊                                                                | 41/197 [00:35<01:09,  2.23it/s]"
     ]
    },
    {
     "name": "stdout",
     "output_type": "stream",
     "text": [
      "Calculating Sentiment for:  doctors\n",
      "Calculating Sentiment for:  fair\n"
     ]
    },
    {
     "name": "stderr",
     "output_type": "stream",
     "text": [
      " 22%|█████████████████▋                                                               | 43/197 [00:35<00:50,  3.03it/s]"
     ]
    },
    {
     "name": "stdout",
     "output_type": "stream",
     "text": [
      "Calculating Sentiment for:  choice\n"
     ]
    },
    {
     "name": "stderr",
     "output_type": "stream",
     "text": [
      "\r",
      " 22%|██████████████████                                                               | 44/197 [00:37<01:53,  1.35it/s]"
     ]
    },
    {
     "name": "stdout",
     "output_type": "stream",
     "text": [
      "Calculating Sentiment for:  waste\n",
      "Calculating Sentiment for:  time\n"
     ]
    },
    {
     "name": "stderr",
     "output_type": "stream",
     "text": [
      "\r",
      " 23%|██████████████████▌                                                              | 45/197 [00:38<02:11,  1.15it/s]"
     ]
    },
    {
     "name": "stdout",
     "output_type": "stream",
     "text": [
      "Calculating Sentiment for:  nsf\n"
     ]
    },
    {
     "name": "stderr",
     "output_type": "stream",
     "text": [
      "\r",
      " 23%|██████████████████▉                                                              | 46/197 [00:39<02:23,  1.05it/s]"
     ]
    },
    {
     "name": "stdout",
     "output_type": "stream",
     "text": [
      "Calculating Sentiment for:  extremely\n"
     ]
    },
    {
     "name": "stderr",
     "output_type": "stream",
     "text": [
      "\r",
      " 24%|███████████████████▎                                                             | 47/197 [00:40<02:10,  1.15it/s]"
     ]
    },
    {
     "name": "stdout",
     "output_type": "stream",
     "text": [
      "Calculating Sentiment for:  long\n"
     ]
    },
    {
     "name": "stderr",
     "output_type": "stream",
     "text": [
      "\r",
      " 24%|███████████████████▋                                                             | 48/197 [00:41<02:43,  1.10s/it]"
     ]
    },
    {
     "name": "stdout",
     "output_type": "stream",
     "text": [
      "Calculating Sentiment for:  staff\n"
     ]
    },
    {
     "name": "stderr",
     "output_type": "stream",
     "text": [
      "\r",
      " 25%|████████████████████▏                                                            | 49/197 [00:45<04:32,  1.84s/it]"
     ]
    },
    {
     "name": "stdout",
     "output_type": "stream",
     "text": [
      "Calculating Sentiment for:  bad\n"
     ]
    },
    {
     "name": "stderr",
     "output_type": "stream",
     "text": [
      "\r",
      " 25%|████████████████████▌                                                            | 50/197 [00:51<07:13,  2.95s/it]"
     ]
    },
    {
     "name": "stdout",
     "output_type": "stream",
     "text": [
      "Calculating Sentiment for:  personal\n"
     ]
    },
    {
     "name": "stderr",
     "output_type": "stream",
     "text": [
      "\r",
      " 26%|████████████████████▉                                                            | 51/197 [00:52<05:58,  2.46s/it]"
     ]
    },
    {
     "name": "stdout",
     "output_type": "stream",
     "text": [
      "Calculating Sentiment for:  experienceeveryone\n"
     ]
    },
    {
     "name": "stderr",
     "output_type": "stream",
     "text": [
      "\r",
      " 26%|█████████████████████▍                                                           | 52/197 [00:52<04:26,  1.84s/it]"
     ]
    },
    {
     "name": "stdout",
     "output_type": "stream",
     "text": [
      "Calculating Sentiment for:  helpful\n"
     ]
    },
    {
     "name": "stderr",
     "output_type": "stream",
     "text": [
      " 27%|██████████████████████▏                                                          | 54/197 [00:53<02:26,  1.02s/it]"
     ]
    },
    {
     "name": "stdout",
     "output_type": "stream",
     "text": [
      "Calculating Sentiment for:  initiative\n"
     ]
    },
    {
     "name": "stderr",
     "output_type": "stream",
     "text": [
      "\r",
      " 28%|██████████████████████▌                                                          | 55/197 [00:53<02:07,  1.12it/s]"
     ]
    },
    {
     "name": "stdout",
     "output_type": "stream",
     "text": [
      "Calculating Sentiment for:  help\n",
      "Calculating Sentiment for:  unfriendly\n"
     ]
    },
    {
     "name": "stderr",
     "output_type": "stream",
     "text": [
      "\r",
      " 28%|███████████████████████                                                          | 56/197 [00:54<01:48,  1.30it/s]"
     ]
    },
    {
     "name": "stdout",
     "output_type": "stream",
     "text": [
      "Calculating Sentiment for:  guards\n"
     ]
    },
    {
     "name": "stderr",
     "output_type": "stream",
     "text": [
      "\r",
      " 29%|███████████████████████▍                                                         | 57/197 [00:54<01:34,  1.49it/s]"
     ]
    },
    {
     "name": "stdout",
     "output_type": "stream",
     "text": [
      "Calculating Sentiment for:  job\n"
     ]
    },
    {
     "name": "stderr",
     "output_type": "stream",
     "text": [
      "\r",
      " 29%|███████████████████████▊                                                         | 58/197 [00:55<01:15,  1.84it/s]"
     ]
    },
    {
     "name": "stdout",
     "output_type": "stream",
     "text": [
      "Calculating Sentiment for:  stuff\n"
     ]
    },
    {
     "name": "stderr",
     "output_type": "stream",
     "text": [
      "\r",
      " 30%|████████████████████████▎                                                        | 59/197 [00:55<01:22,  1.66it/s]"
     ]
    },
    {
     "name": "stdout",
     "output_type": "stream",
     "text": [
      "Calculating Sentiment for:  suppose\n"
     ]
    },
    {
     "name": "stderr",
     "output_type": "stream",
     "text": [
      "\r",
      " 30%|████████████████████████▋                                                        | 60/197 [00:56<01:25,  1.60it/s]"
     ]
    },
    {
     "name": "stdout",
     "output_type": "stream",
     "text": [
      "Calculating Sentiment for:  absolutely\n"
     ]
    },
    {
     "name": "stderr",
     "output_type": "stream",
     "text": [
      "\r",
      " 31%|█████████████████████████                                                        | 61/197 [00:56<01:15,  1.79it/s]"
     ]
    },
    {
     "name": "stdout",
     "output_type": "stream",
     "text": [
      "Calculating Sentiment for:  atrocious\n"
     ]
    },
    {
     "name": "stderr",
     "output_type": "stream",
     "text": [
      " 32%|█████████████████████████▉                                                       | 63/197 [00:57<00:54,  2.47it/s]"
     ]
    },
    {
     "name": "stdout",
     "output_type": "stream",
     "text": [
      "Calculating Sentiment for:  woman\n",
      "Calculating Sentiment for:  keeps\n"
     ]
    },
    {
     "name": "stderr",
     "output_type": "stream",
     "text": [
      "\r",
      " 32%|██████████████████████████▎                                                      | 64/197 [00:58<01:08,  1.94it/s]"
     ]
    },
    {
     "name": "stdout",
     "output_type": "stream",
     "text": [
      "Calculating Sentiment for:  tone\n"
     ]
    },
    {
     "name": "stderr",
     "output_type": "stream",
     "text": [
      " 34%|███████████████████████████▏                                                     | 66/197 [00:59<01:10,  1.85it/s]"
     ]
    },
    {
     "name": "stdout",
     "output_type": "stream",
     "text": [
      "Calculating Sentiment for:  talks\n",
      "Calculating Sentiment for:  always\n"
     ]
    },
    {
     "name": "stderr",
     "output_type": "stream",
     "text": [
      "\r",
      " 34%|███████████████████████████▌                                                     | 67/197 [00:59<01:02,  2.09it/s]"
     ]
    },
    {
     "name": "stdout",
     "output_type": "stream",
     "text": [
      "Calculating Sentiment for:  mask\n"
     ]
    },
    {
     "name": "stderr",
     "output_type": "stream",
     "text": [
      "\r",
      " 35%|███████████████████████████▉                                                     | 68/197 [01:00<00:56,  2.27it/s]"
     ]
    },
    {
     "name": "stdout",
     "output_type": "stream",
     "text": [
      "Calculating Sentiment for:  expressions\n"
     ]
    },
    {
     "name": "stderr",
     "output_type": "stream",
     "text": [
      "\r",
      " 35%|████████████████████████████▎                                                    | 69/197 [01:00<00:47,  2.69it/s]"
     ]
    },
    {
     "name": "stdout",
     "output_type": "stream",
     "text": [
      "Calculating Sentiment for:  screening\n"
     ]
    },
    {
     "name": "stderr",
     "output_type": "stream",
     "text": [
      "\r",
      " 36%|████████████████████████████▊                                                    | 70/197 [01:01<01:01,  2.08it/s]"
     ]
    },
    {
     "name": "stdout",
     "output_type": "stream",
     "text": [
      "Calculating Sentiment for:  station\n"
     ]
    },
    {
     "name": "stderr",
     "output_type": "stream",
     "text": [
      "\r",
      " 36%|█████████████████████████████▏                                                   | 71/197 [01:01<00:58,  2.14it/s]"
     ]
    },
    {
     "name": "stdout",
     "output_type": "stream",
     "text": [
      "Calculating Sentiment for:  rude\n"
     ]
    },
    {
     "name": "stderr",
     "output_type": "stream",
     "text": [
      "\r",
      " 37%|█████████████████████████████▌                                                   | 72/197 [01:04<02:18,  1.11s/it]"
     ]
    },
    {
     "name": "stdout",
     "output_type": "stream",
     "text": [
      "Calculating Sentiment for:  serious\n"
     ]
    },
    {
     "name": "stderr",
     "output_type": "stream",
     "text": [
      "\r",
      " 37%|██████████████████████████████                                                   | 73/197 [01:04<01:53,  1.09it/s]"
     ]
    },
    {
     "name": "stdout",
     "output_type": "stream",
     "text": [
      "Calculating Sentiment for:  impatient\n"
     ]
    },
    {
     "name": "stderr",
     "output_type": "stream",
     "text": [
      "\r",
      " 38%|██████████████████████████████▍                                                  | 74/197 [01:05<01:47,  1.14it/s]"
     ]
    },
    {
     "name": "stdout",
     "output_type": "stream",
     "text": [
      "Calculating Sentiment for:  undesirably\n"
     ]
    },
    {
     "name": "stderr",
     "output_type": "stream",
     "text": [
      "\r",
      " 38%|██████████████████████████████▊                                                  | 75/197 [01:05<01:21,  1.49it/s]"
     ]
    },
    {
     "name": "stdout",
     "output_type": "stream",
     "text": [
      "Calculating Sentiment for:  times\n"
     ]
    },
    {
     "name": "stderr",
     "output_type": "stream",
     "text": [
      "\r",
      " 39%|███████████████████████████████▏                                                 | 76/197 [01:06<01:19,  1.53it/s]"
     ]
    },
    {
     "name": "stdout",
     "output_type": "stream",
     "text": [
      "Calculating Sentiment for:  cmpb\n"
     ]
    },
    {
     "name": "stderr",
     "output_type": "stream",
     "text": [
      "\r",
      " 39%|███████████████████████████████▋                                                 | 77/197 [01:06<01:11,  1.69it/s]"
     ]
    },
    {
     "name": "stdout",
     "output_type": "stream",
     "text": [
      "Calculating Sentiment for:  sent\n"
     ]
    },
    {
     "name": "stderr",
     "output_type": "stream",
     "text": [
      "\r",
      " 40%|████████████████████████████████                                                 | 78/197 [01:07<01:03,  1.87it/s]"
     ]
    },
    {
     "name": "stdout",
     "output_type": "stream",
     "text": [
      "Calculating Sentiment for:  son\n"
     ]
    },
    {
     "name": "stderr",
     "output_type": "stream",
     "text": [
      "\r",
      " 40%|████████████████████████████████▍                                                | 79/197 [01:07<00:57,  2.06it/s]"
     ]
    },
    {
     "name": "stdout",
     "output_type": "stream",
     "text": [
      "Calculating Sentiment for:  preenlistment\n"
     ]
    },
    {
     "name": "stderr",
     "output_type": "stream",
     "text": [
      "\r",
      " 41%|████████████████████████████████▉                                                | 80/197 [01:08<01:24,  1.38it/s]"
     ]
    },
    {
     "name": "stdout",
     "output_type": "stream",
     "text": [
      "Calculating Sentiment for:  enlistmentcheckup\n"
     ]
    },
    {
     "name": "stderr",
     "output_type": "stream",
     "text": [
      "\r",
      " 41%|█████████████████████████████████▎                                               | 81/197 [01:09<01:20,  1.45it/s]"
     ]
    },
    {
     "name": "stdout",
     "output_type": "stream",
     "text": [
      "Calculating Sentiment for:  guard\n"
     ]
    },
    {
     "name": "stderr",
     "output_type": "stream",
     "text": [
      "\r",
      " 42%|█████████████████████████████████▋                                               | 82/197 [01:09<01:02,  1.83it/s]"
     ]
    },
    {
     "name": "stdout",
     "output_type": "stream",
     "text": [
      "Calculating Sentiment for:  give\n"
     ]
    },
    {
     "name": "stderr",
     "output_type": "stream",
     "text": [
      "\r",
      " 42%|██████████████████████████████████▏                                              | 83/197 [01:10<01:12,  1.57it/s]"
     ]
    },
    {
     "name": "stdout",
     "output_type": "stream",
     "text": [
      "Calculating Sentiment for:  clear\n"
     ]
    },
    {
     "name": "stderr",
     "output_type": "stream",
     "text": [
      "\r",
      " 43%|██████████████████████████████████▌                                              | 84/197 [01:10<01:09,  1.62it/s]"
     ]
    },
    {
     "name": "stdout",
     "output_type": "stream",
     "text": [
      "Calculating Sentiment for:  instructions\n"
     ]
    },
    {
     "name": "stderr",
     "output_type": "stream",
     "text": [
      " 44%|███████████████████████████████████▎                                             | 86/197 [01:11<00:49,  2.25it/s]"
     ]
    },
    {
     "name": "stdout",
     "output_type": "stream",
     "text": [
      "Calculating Sentiment for:  alight\n",
      "Calculating Sentiment for:  drive\n"
     ]
    },
    {
     "name": "stderr",
     "output_type": "stream",
     "text": [
      " 45%|████████████████████████████████████▏                                            | 88/197 [01:12<00:35,  3.06it/s]"
     ]
    },
    {
     "name": "stdout",
     "output_type": "stream",
     "text": [
      "Calculating Sentiment for:  train\n",
      "Calculating Sentiment for:  army\n"
     ]
    },
    {
     "name": "stderr",
     "output_type": "stream",
     "text": [
      "\r",
      " 45%|████████████████████████████████████▌                                            | 89/197 [01:12<00:32,  3.35it/s]"
     ]
    },
    {
     "name": "stdout",
     "output_type": "stream",
     "text": [
      "Calculating Sentiment for:  inconvenient\n"
     ]
    },
    {
     "name": "stderr",
     "output_type": "stream",
     "text": [
      "\r",
      " 46%|█████████████████████████████████████                                            | 90/197 [01:13<00:55,  1.94it/s]"
     ]
    },
    {
     "name": "stdout",
     "output_type": "stream",
     "text": [
      "Calculating Sentiment for:  locations\n"
     ]
    },
    {
     "name": "stderr",
     "output_type": "stream",
     "text": [
      " 47%|█████████████████████████████████████▊                                           | 92/197 [01:14<00:49,  2.14it/s]"
     ]
    },
    {
     "name": "stdout",
     "output_type": "stream",
     "text": [
      "Calculating Sentiment for:  ever\n"
     ]
    },
    {
     "name": "stderr",
     "output_type": "stream",
     "text": [
      "\r",
      " 47%|██████████████████████████████████████▏                                          | 93/197 [01:14<00:49,  2.10it/s]"
     ]
    },
    {
     "name": "stdout",
     "output_type": "stream",
     "text": [
      "Calculating Sentiment for:  terrible\n",
      "Calculating Sentiment for:  directions\n"
     ]
    },
    {
     "name": "stderr",
     "output_type": "stream",
     "text": [
      "\r",
      " 48%|██████████████████████████████████████▋                                          | 94/197 [01:15<00:47,  2.18it/s]"
     ]
    },
    {
     "name": "stdout",
     "output_type": "stream",
     "text": [
      "Calculating Sentiment for:  expect\n"
     ]
    },
    {
     "name": "stderr",
     "output_type": "stream",
     "text": [
      "\r",
      " 48%|███████████████████████████████████████                                          | 95/197 [01:15<00:43,  2.37it/s]"
     ]
    },
    {
     "name": "stdout",
     "output_type": "stream",
     "text": [
      "Calculating Sentiment for:  whole\n"
     ]
    },
    {
     "name": "stderr",
     "output_type": "stream",
     "text": [
      "\r",
      " 49%|███████████████████████████████████████▍                                         | 96/197 [01:15<00:40,  2.51it/s]"
     ]
    },
    {
     "name": "stdout",
     "output_type": "stream",
     "text": [
      "Calculating Sentiment for:  process\n"
     ]
    },
    {
     "name": "stderr",
     "output_type": "stream",
     "text": [
      "\r",
      " 49%|███████████████████████████████████████▉                                         | 97/197 [01:16<00:44,  2.26it/s]"
     ]
    },
    {
     "name": "stdout",
     "output_type": "stream",
     "text": [
      "Calculating Sentiment for:  take\n"
     ]
    },
    {
     "name": "stderr",
     "output_type": "stream",
     "text": [
      "\r",
      " 50%|████████████████████████████████████████▎                                        | 98/197 [01:16<00:38,  2.57it/s]"
     ]
    },
    {
     "name": "stdout",
     "output_type": "stream",
     "text": [
      "Calculating Sentiment for:  ok\n"
     ]
    },
    {
     "name": "stderr",
     "output_type": "stream",
     "text": [
      "\r",
      " 50%|████████████████████████████████████████▋                                        | 99/197 [01:17<00:45,  2.14it/s]"
     ]
    },
    {
     "name": "stdout",
     "output_type": "stream",
     "text": [
      "Calculating Sentiment for:  maybe\n"
     ]
    },
    {
     "name": "stderr",
     "output_type": "stream",
     "text": [
      "\r",
      " 51%|████████████████████████████████████████▌                                       | 100/197 [01:17<00:38,  2.51it/s]"
     ]
    },
    {
     "name": "stdout",
     "output_type": "stream",
     "text": [
      "Calculating Sentiment for:  sikit\n"
     ]
    },
    {
     "name": "stderr",
     "output_type": "stream",
     "text": [
      "\r",
      " 51%|█████████████████████████████████████████                                       | 101/197 [01:17<00:36,  2.60it/s]"
     ]
    },
    {
     "name": "stdout",
     "output_type": "stream",
     "text": [
      "Calculating Sentiment for:  typical\n",
      "Calculating Sentiment for:  tio\n"
     ]
    },
    {
     "name": "stderr",
     "output_type": "stream",
     "text": [
      " 53%|██████████████████████████████████████████▏                                     | 104/197 [01:18<00:30,  3.02it/s]"
     ]
    },
    {
     "name": "stdout",
     "output_type": "stream",
     "text": [
      "Calculating Sentiment for:  switch\n",
      "Calculating Sentiment for:  vocation\n"
     ]
    },
    {
     "name": "stderr",
     "output_type": "stream",
     "text": [
      "\r",
      " 53%|██████████████████████████████████████████▋                                     | 105/197 [01:18<00:25,  3.55it/s]"
     ]
    },
    {
     "name": "stdout",
     "output_type": "stream",
     "text": [
      "Calculating Sentiment for:  mo\n"
     ]
    },
    {
     "name": "stderr",
     "output_type": "stream",
     "text": [
      "\r",
      " 54%|███████████████████████████████████████████                                     | 106/197 [01:19<00:26,  3.46it/s]"
     ]
    },
    {
     "name": "stdout",
     "output_type": "stream",
     "text": [
      "Calculating Sentiment for:  hand\n"
     ]
    },
    {
     "name": "stderr",
     "output_type": "stream",
     "text": [
      "\r",
      " 54%|███████████████████████████████████████████▍                                    | 107/197 [01:19<00:24,  3.62it/s]"
     ]
    },
    {
     "name": "stdout",
     "output_type": "stream",
     "text": [
      "Calculating Sentiment for:  pehbuay\n"
     ]
    },
    {
     "name": "stderr",
     "output_type": "stream",
     "text": [
      "\r",
      " 55%|███████████████████████████████████████████▊                                    | 108/197 [01:19<00:26,  3.30it/s]"
     ]
    },
    {
     "name": "stdout",
     "output_type": "stream",
     "text": [
      "Calculating Sentiment for:  buaysong\n"
     ]
    },
    {
     "name": "stderr",
     "output_type": "stream",
     "text": [
      " 56%|████████████████████████████████████████████▋                                   | 110/197 [01:20<00:29,  2.98it/s]"
     ]
    },
    {
     "name": "stdout",
     "output_type": "stream",
     "text": [
      "Calculating Sentiment for:  probably\n",
      "Calculating Sentiment for:  visit\n"
     ]
    },
    {
     "name": "stderr",
     "output_type": "stream",
     "text": [
      "\r",
      " 56%|█████████████████████████████████████████████                                   | 111/197 [01:21<00:30,  2.84it/s]"
     ]
    },
    {
     "name": "stdout",
     "output_type": "stream",
     "text": [
      "Calculating Sentiment for:  contrary\n"
     ]
    },
    {
     "name": "stderr",
     "output_type": "stream",
     "text": [
      "\r",
      " 57%|█████████████████████████████████████████████▍                                  | 112/197 [01:21<00:27,  3.09it/s]"
     ]
    },
    {
     "name": "stdout",
     "output_type": "stream",
     "text": [
      "Calculating Sentiment for:  others\n"
     ]
    },
    {
     "name": "stderr",
     "output_type": "stream",
     "text": [
      " 58%|██████████████████████████████████████████████▎                                 | 114/197 [01:21<00:22,  3.67it/s]"
     ]
    },
    {
     "name": "stdout",
     "output_type": "stream",
     "text": [
      "Calculating Sentiment for:  sure\n",
      "Calculating Sentiment for:  conditions\n"
     ]
    },
    {
     "name": "stderr",
     "output_type": "stream",
     "text": [
      "\r",
      " 58%|██████████████████████████████████████████████▋                                 | 115/197 [01:22<00:33,  2.47it/s]"
     ]
    },
    {
     "name": "stdout",
     "output_type": "stream",
     "text": [
      "Calculating Sentiment for:  officer\n"
     ]
    },
    {
     "name": "stderr",
     "output_type": "stream",
     "text": [
      "\r",
      " 59%|███████████████████████████████████████████████                                 | 116/197 [01:22<00:31,  2.59it/s]"
     ]
    },
    {
     "name": "stdout",
     "output_type": "stream",
     "text": [
      "Calculating Sentiment for:  believe\n"
     ]
    },
    {
     "name": "stderr",
     "output_type": "stream",
     "text": [
      "\r",
      " 59%|███████████████████████████████████████████████▌                                | 117/197 [01:23<00:29,  2.74it/s]"
     ]
    },
    {
     "name": "stdout",
     "output_type": "stream",
     "text": [
      "Calculating Sentiment for:  well\n"
     ]
    },
    {
     "name": "stderr",
     "output_type": "stream",
     "text": [
      "\r",
      " 60%|███████████████████████████████████████████████▉                                | 118/197 [01:23<00:30,  2.57it/s]"
     ]
    },
    {
     "name": "stdout",
     "output_type": "stream",
     "text": [
      "Calculating Sentiment for:  specialistletter\n"
     ]
    },
    {
     "name": "stderr",
     "output_type": "stream",
     "text": [
      "\r",
      " 60%|████████████████████████████████████████████████▎                               | 119/197 [01:24<00:35,  2.21it/s]"
     ]
    },
    {
     "name": "stdout",
     "output_type": "stream",
     "text": [
      "Calculating Sentiment for:  ask\n"
     ]
    },
    {
     "name": "stderr",
     "output_type": "stream",
     "text": [
      "\r",
      " 61%|████████████████████████████████████████████████▋                               | 120/197 [01:26<01:07,  1.14it/s]"
     ]
    },
    {
     "name": "stdout",
     "output_type": "stream",
     "text": [
      "Calculating Sentiment for:  question\n"
     ]
    },
    {
     "name": "stderr",
     "output_type": "stream",
     "text": [
      "\r",
      " 61%|█████████████████████████████████████████████████▏                              | 121/197 [01:26<01:01,  1.23it/s]"
     ]
    },
    {
     "name": "stdout",
     "output_type": "stream",
     "text": [
      "Calculating Sentiment for:  ignore\n"
     ]
    },
    {
     "name": "stderr",
     "output_type": "stream",
     "text": [
      "\r",
      " 62%|█████████████████████████████████████████████████▌                              | 122/197 [01:27<01:01,  1.21it/s]"
     ]
    },
    {
     "name": "stdout",
     "output_type": "stream",
     "text": [
      "Calculating Sentiment for:  nice\n"
     ]
    },
    {
     "name": "stderr",
     "output_type": "stream",
     "text": [
      "\r",
      " 62%|█████████████████████████████████████████████████▉                              | 123/197 [01:28<01:09,  1.07it/s]"
     ]
    },
    {
     "name": "stdout",
     "output_type": "stream",
     "text": [
      "Calculating Sentiment for:  friendly\n"
     ]
    },
    {
     "name": "stderr",
     "output_type": "stream",
     "text": [
      "\r",
      " 63%|██████████████████████████████████████████████████▎                             | 124/197 [01:29<00:53,  1.37it/s]"
     ]
    },
    {
     "name": "stdout",
     "output_type": "stream",
     "text": [
      "Calculating Sentiment for:  great\n"
     ]
    },
    {
     "name": "stderr",
     "output_type": "stream",
     "text": [
      "\r",
      " 63%|██████████████████████████████████████████████████▊                             | 125/197 [01:30<01:04,  1.12it/s]"
     ]
    },
    {
     "name": "stdout",
     "output_type": "stream",
     "text": [
      "Calculating Sentiment for:  medic\n"
     ]
    },
    {
     "name": "stderr",
     "output_type": "stream",
     "text": [
      "\r",
      " 64%|███████████████████████████████████████████████████▏                            | 126/197 [01:30<00:57,  1.23it/s]"
     ]
    },
    {
     "name": "stdout",
     "output_type": "stream",
     "text": [
      "Calculating Sentiment for:  check\n"
     ]
    },
    {
     "name": "stderr",
     "output_type": "stream",
     "text": [
      "\r",
      " 64%|███████████████████████████████████████████████████▌                            | 127/197 [01:32<01:16,  1.09s/it]"
     ]
    },
    {
     "name": "stdout",
     "output_type": "stream",
     "text": [
      "Calculating Sentiment for:  constantly\n"
     ]
    },
    {
     "name": "stderr",
     "output_type": "stream",
     "text": [
      "\r",
      " 65%|███████████████████████████████████████████████████▉                            | 128/197 [01:33<00:59,  1.15it/s]"
     ]
    },
    {
     "name": "stdout",
     "output_type": "stream",
     "text": [
      "Calculating Sentiment for:  bully\n",
      "Calculating Sentiment for:  pretty\n"
     ]
    },
    {
     "name": "stderr",
     "output_type": "stream",
     "text": [
      "\r",
      " 66%|████████████████████████████████████████████████████▊                           | 130/197 [01:33<00:36,  1.86it/s]"
     ]
    },
    {
     "name": "stdout",
     "output_type": "stream",
     "text": [
      "Calculating Sentiment for:  lousy\n",
      "Calculating Sentiment for:  service\n"
     ]
    },
    {
     "name": "stderr",
     "output_type": "stream",
     "text": [
      "\r",
      " 67%|█████████████████████████████████████████████████████▌                          | 132/197 [01:34<00:33,  1.94it/s]"
     ]
    },
    {
     "name": "stdout",
     "output_type": "stream",
     "text": [
      "Calculating Sentiment for:  dk\n"
     ]
    },
    {
     "name": "stderr",
     "output_type": "stream",
     "text": [
      " 68%|██████████████████████████████████████████████████████▍                         | 134/197 [01:35<00:30,  2.05it/s]"
     ]
    },
    {
     "name": "stdout",
     "output_type": "stream",
     "text": [
      "Calculating Sentiment for:  also\n",
      "Calculating Sentiment for:  taiji\n"
     ]
    },
    {
     "name": "stderr",
     "output_type": "stream",
     "text": [
      "\r",
      " 69%|██████████████████████████████████████████████████████▊                         | 135/197 [01:35<00:28,  2.21it/s]"
     ]
    },
    {
     "name": "stdout",
     "output_type": "stream",
     "text": [
      "Calculating Sentiment for:  negative\n"
     ]
    },
    {
     "name": "stderr",
     "output_type": "stream",
     "text": [
      "\r",
      " 69%|███████████████████████████████████████████████████████▏                        | 136/197 [01:36<00:38,  1.59it/s]"
     ]
    },
    {
     "name": "stdout",
     "output_type": "stream",
     "text": [
      "Calculating Sentiment for:  share\n"
     ]
    },
    {
     "name": "stderr",
     "output_type": "stream",
     "text": [
      "\r",
      " 70%|███████████████████████████████████████████████████████▋                        | 137/197 [01:37<00:34,  1.73it/s]"
     ]
    },
    {
     "name": "stdout",
     "output_type": "stream",
     "text": [
      "Calculating Sentiment for:  quick\n"
     ]
    },
    {
     "name": "stderr",
     "output_type": "stream",
     "text": [
      "\r",
      " 70%|████████████████████████████████████████████████████████                        | 138/197 [01:37<00:29,  1.97it/s]"
     ]
    },
    {
     "name": "stdout",
     "output_type": "stream",
     "text": [
      "Calculating Sentiment for:  opinion\n"
     ]
    },
    {
     "name": "stderr",
     "output_type": "stream",
     "text": [
      "\r",
      " 71%|████████████████████████████████████████████████████████▍                       | 139/197 [01:38<00:36,  1.59it/s]"
     ]
    },
    {
     "name": "stdout",
     "output_type": "stream",
     "text": [
      "Calculating Sentiment for:  perhaps\n"
     ]
    },
    {
     "name": "stderr",
     "output_type": "stream",
     "text": [
      "\r",
      " 71%|████████████████████████████████████████████████████████▊                       | 140/197 [01:38<00:29,  1.90it/s]"
     ]
    },
    {
     "name": "stdout",
     "output_type": "stream",
     "text": [
      "Calculating Sentiment for:  varies\n"
     ]
    },
    {
     "name": "stderr",
     "output_type": "stream",
     "text": [
      "\r",
      " 72%|█████████████████████████████████████████████████████████▎                      | 141/197 [01:39<00:28,  1.97it/s]"
     ]
    },
    {
     "name": "stdout",
     "output_type": "stream",
     "text": [
      "Calculating Sentiment for:  trip\n"
     ]
    },
    {
     "name": "stderr",
     "output_type": "stream",
     "text": [
      "\r",
      " 72%|█████████████████████████████████████████████████████████▋                      | 142/197 [01:39<00:23,  2.30it/s]"
     ]
    },
    {
     "name": "stdout",
     "output_type": "stream",
     "text": [
      "Calculating Sentiment for:  ultimately\n"
     ]
    },
    {
     "name": "stderr",
     "output_type": "stream",
     "text": [
      "\r",
      " 73%|██████████████████████████████████████████████████████████                      | 143/197 [01:39<00:20,  2.67it/s]"
     ]
    },
    {
     "name": "stdout",
     "output_type": "stream",
     "text": [
      "Calculating Sentiment for:  definitely\n"
     ]
    },
    {
     "name": "stderr",
     "output_type": "stream",
     "text": [
      "\r",
      " 73%|██████████████████████████████████████████████████████████▍                     | 144/197 [01:40<00:21,  2.46it/s]"
     ]
    },
    {
     "name": "stdout",
     "output_type": "stream",
     "text": [
      "Calculating Sentiment for:  memorable\n"
     ]
    },
    {
     "name": "stderr",
     "output_type": "stream",
     "text": [
      "\r",
      " 74%|██████████████████████████████████████████████████████████▉                     | 145/197 [01:40<00:21,  2.40it/s]"
     ]
    },
    {
     "name": "stdout",
     "output_type": "stream",
     "text": [
      "Calculating Sentiment for:  sessions\n"
     ]
    },
    {
     "name": "stderr",
     "output_type": "stream",
     "text": [
      "\r",
      " 74%|███████████████████████████████████████████████████████████▎                    | 146/197 [01:41<00:32,  1.57it/s]"
     ]
    },
    {
     "name": "stdout",
     "output_type": "stream",
     "text": [
      "Calculating Sentiment for:  charge\n"
     ]
    },
    {
     "name": "stderr",
     "output_type": "stream",
     "text": [
      "\r",
      " 75%|███████████████████████████████████████████████████████████▋                    | 147/197 [01:42<00:26,  1.87it/s]"
     ]
    },
    {
     "name": "stdout",
     "output_type": "stream",
     "text": [
      "Calculating Sentiment for:  location\n"
     ]
    },
    {
     "name": "stderr",
     "output_type": "stream",
     "text": [
      " 76%|████████████████████████████████████████████████████████████▌                   | 149/197 [01:42<00:20,  2.38it/s]"
     ]
    },
    {
     "name": "stdout",
     "output_type": "stream",
     "text": [
      "Calculating Sentiment for:  meagre\n",
      "Calculating Sentiment for:  pay\n"
     ]
    },
    {
     "name": "stderr",
     "output_type": "stream",
     "text": [
      " 77%|█████████████████████████████████████████████████████████████▎                  | 151/197 [01:43<00:15,  3.06it/s]"
     ]
    },
    {
     "name": "stdout",
     "output_type": "stream",
     "text": [
      "Calculating Sentiment for:  officerattitude\n",
      "Calculating Sentiment for:  understand\n"
     ]
    },
    {
     "name": "stderr",
     "output_type": "stream",
     "text": [
      "\r",
      " 77%|█████████████████████████████████████████████████████████████▋                  | 152/197 [01:43<00:17,  2.58it/s]"
     ]
    },
    {
     "name": "stdout",
     "output_type": "stream",
     "text": [
      "Calculating Sentiment for:  use\n"
     ]
    },
    {
     "name": "stderr",
     "output_type": "stream",
     "text": [
      "\r",
      " 78%|██████████████████████████████████████████████████████████████▏                 | 153/197 [01:44<00:16,  2.69it/s]"
     ]
    },
    {
     "name": "stdout",
     "output_type": "stream",
     "text": [
      "Calculating Sentiment for:  many\n"
     ]
    },
    {
     "name": "stderr",
     "output_type": "stream",
     "text": [
      " 79%|██████████████████████████████████████████████████████████████▉                 | 155/197 [01:44<00:13,  3.15it/s]"
     ]
    },
    {
     "name": "stdout",
     "output_type": "stream",
     "text": [
      "Calculating Sentiment for:  cool\n",
      "Calculating Sentiment for:  gold\n"
     ]
    },
    {
     "name": "stderr",
     "output_type": "stream",
     "text": [
      "\r",
      " 79%|███████████████████████████████████████████████████████████████▎                | 156/197 [01:44<00:11,  3.53it/s]"
     ]
    },
    {
     "name": "stdout",
     "output_type": "stream",
     "text": [
      "Calculating Sentiment for:  star\n"
     ]
    },
    {
     "name": "stderr",
     "output_type": "stream",
     "text": [
      "\r",
      " 80%|███████████████████████████████████████████████████████████████▊                | 157/197 [01:45<00:10,  3.70it/s]"
     ]
    },
    {
     "name": "stdout",
     "output_type": "stream",
     "text": [
      "Calculating Sentiment for:  public\n"
     ]
    },
    {
     "name": "stderr",
     "output_type": "stream",
     "text": [
      " 81%|████████████████████████████████████████████████████████████████▌               | 159/197 [01:45<00:10,  3.79it/s]"
     ]
    },
    {
     "name": "stdout",
     "output_type": "stream",
     "text": [
      "Calculating Sentiment for:  hrs\n"
     ]
    },
    {
     "name": "stderr",
     "output_type": "stream",
     "text": [
      "\r",
      " 81%|████████████████████████████████████████████████████████████████▉               | 160/197 [01:46<00:11,  3.30it/s]"
     ]
    },
    {
     "name": "stdout",
     "output_type": "stream",
     "text": [
      "Calculating Sentiment for:  even\n",
      "Calculating Sentiment for:  cold\n"
     ]
    },
    {
     "name": "stderr",
     "output_type": "stream",
     "text": [
      "\r",
      " 82%|█████████████████████████████████████████████████████████████████▍              | 161/197 [01:46<00:13,  2.61it/s]"
     ]
    },
    {
     "name": "stdout",
     "output_type": "stream",
     "text": [
      "Calculating Sentiment for:  air\n"
     ]
    },
    {
     "name": "stderr",
     "output_type": "stream",
     "text": [
      " 83%|██████████████████████████████████████████████████████████████████▏             | 163/197 [01:47<00:11,  2.85it/s]"
     ]
    },
    {
     "name": "stdout",
     "output_type": "stream",
     "text": [
      "Calculating Sentiment for:  accessible\n",
      "Calculating Sentiment for:  poor\n"
     ]
    },
    {
     "name": "stderr",
     "output_type": "stream",
     "text": [
      " 84%|███████████████████████████████████████████████████████████████████             | 165/197 [01:48<00:15,  2.10it/s]"
     ]
    },
    {
     "name": "stdout",
     "output_type": "stream",
     "text": [
      "Calculating Sentiment for:  customerservice\n"
     ]
    },
    {
     "name": "stderr",
     "output_type": "stream",
     "text": [
      "\r",
      " 84%|███████████████████████████████████████████████████████████████████▍            | 166/197 [01:48<00:11,  2.66it/s]"
     ]
    },
    {
     "name": "stdout",
     "output_type": "stream",
     "text": [
      "Calculating Sentiment for:  worst\n",
      "Calculating Sentiment for:  real\n"
     ]
    },
    {
     "name": "stderr",
     "output_type": "stream",
     "text": [
      "\r",
      " 85%|███████████████████████████████████████████████████████████████████▊            | 167/197 [01:49<00:11,  2.67it/s]"
     ]
    },
    {
     "name": "stdout",
     "output_type": "stream",
     "text": [
      "Calculating Sentiment for:  edgy\n"
     ]
    },
    {
     "name": "stderr",
     "output_type": "stream",
     "text": [
      "\r",
      " 85%|████████████████████████████████████████████████████████████████████▏           | 168/197 [01:49<00:12,  2.37it/s]"
     ]
    },
    {
     "name": "stdout",
     "output_type": "stream",
     "text": [
      "Calculating Sentiment for:  ziyuan\n"
     ]
    },
    {
     "name": "stderr",
     "output_type": "stream",
     "text": [
      "\r",
      " 86%|████████████████████████████████████████████████████████████████████▋           | 169/197 [01:50<00:12,  2.20it/s]"
     ]
    },
    {
     "name": "stdout",
     "output_type": "stream",
     "text": [
      "Calculating Sentiment for:  novel\n"
     ]
    },
    {
     "name": "stderr",
     "output_type": "stream",
     "text": [
      "\r",
      " 86%|█████████████████████████████████████████████████████████████████████           | 170/197 [01:50<00:10,  2.49it/s]"
     ]
    },
    {
     "name": "stdout",
     "output_type": "stream",
     "text": [
      "Calculating Sentiment for:  writer\n"
     ]
    },
    {
     "name": "stderr",
     "output_type": "stream",
     "text": [
      "\r",
      " 87%|█████████████████████████████████████████████████████████████████████▍          | 171/197 [01:51<00:13,  1.96it/s]"
     ]
    },
    {
     "name": "stdout",
     "output_type": "stream",
     "text": [
      "Calculating Sentiment for:  highly\n"
     ]
    },
    {
     "name": "stderr",
     "output_type": "stream",
     "text": [
      "\r",
      " 87%|█████████████████████████████████████████████████████████████████████▊          | 172/197 [01:51<00:13,  1.91it/s]"
     ]
    },
    {
     "name": "stdout",
     "output_type": "stream",
     "text": [
      "Calculating Sentiment for:  inaccessible\n"
     ]
    },
    {
     "name": "stderr",
     "output_type": "stream",
     "text": [
      "\r",
      " 88%|██████████████████████████████████████████████████████████████████████▎         | 173/197 [01:52<00:12,  1.92it/s]"
     ]
    },
    {
     "name": "stdout",
     "output_type": "stream",
     "text": [
      "Calculating Sentiment for:  hard\n"
     ]
    },
    {
     "name": "stderr",
     "output_type": "stream",
     "text": [
      "\r",
      " 88%|██████████████████████████████████████████████████████████████████████▋         | 174/197 [01:52<00:10,  2.21it/s]"
     ]
    },
    {
     "name": "stdout",
     "output_type": "stream",
     "text": [
      "Calculating Sentiment for:  get\n"
     ]
    },
    {
     "name": "stderr",
     "output_type": "stream",
     "text": [
      "\r",
      " 89%|███████████████████████████████████████████████████████████████████████         | 175/197 [01:52<00:08,  2.61it/s]"
     ]
    },
    {
     "name": "stdout",
     "output_type": "stream",
     "text": [
      "Calculating Sentiment for:  mrt\n"
     ]
    },
    {
     "name": "stderr",
     "output_type": "stream",
     "text": [
      "\r",
      " 89%|███████████████████████████████████████████████████████████████████████▍        | 176/197 [01:53<00:07,  2.63it/s]"
     ]
    },
    {
     "name": "stdout",
     "output_type": "stream",
     "text": [
      "Calculating Sentiment for:  stations\n"
     ]
    },
    {
     "name": "stderr",
     "output_type": "stream",
     "text": [
      "\r",
      " 90%|███████████████████████████████████████████████████████████████████████▉        | 177/197 [01:53<00:07,  2.70it/s]"
     ]
    },
    {
     "name": "stdout",
     "output_type": "stream",
     "text": [
      "Calculating Sentiment for:  book\n"
     ]
    },
    {
     "name": "stderr",
     "output_type": "stream",
     "text": [
      " 91%|████████████████████████████████████████████████████████████████████████▋       | 179/197 [01:54<00:06,  2.78it/s]"
     ]
    },
    {
     "name": "stdout",
     "output_type": "stream",
     "text": [
      "Calculating Sentiment for:  everyday\n"
     ]
    },
    {
     "name": "stderr",
     "output_type": "stream",
     "text": [
      "\r",
      " 91%|█████████████████████████████████████████████████████████████████████████       | 180/197 [01:54<00:06,  2.52it/s]"
     ]
    },
    {
     "name": "stdout",
     "output_type": "stream",
     "text": [
      "Calculating Sentiment for:  troublesome\n",
      "Calculating Sentiment for:  thing\n"
     ]
    },
    {
     "name": "stderr",
     "output_type": "stream",
     "text": [
      "\r",
      " 92%|█████████████████████████████████████████████████████████████████████████▌      | 181/197 [01:56<00:09,  1.68it/s]"
     ]
    },
    {
     "name": "stdout",
     "output_type": "stream",
     "text": [
      "Calculating Sentiment for:  whats\n"
     ]
    },
    {
     "name": "stderr",
     "output_type": "stream",
     "text": [
      "\r",
      " 92%|█████████████████████████████████████████████████████████████████████████▉      | 182/197 [01:56<00:08,  1.80it/s]"
     ]
    },
    {
     "name": "stdout",
     "output_type": "stream",
     "text": [
      "Calculating Sentiment for:  sidenotecanteen\n"
     ]
    },
    {
     "name": "stderr",
     "output_type": "stream",
     "text": [
      "\r",
      " 93%|██████████████████████████████████████████████████████████████████████████▎     | 183/197 [01:56<00:07,  2.00it/s]"
     ]
    },
    {
     "name": "stdout",
     "output_type": "stream",
     "text": [
      "Calculating Sentiment for:  canteenb\n"
     ]
    },
    {
     "name": "stderr",
     "output_type": "stream",
     "text": [
      "\r",
      " 93%|██████████████████████████████████████████████████████████████████████████▋     | 184/197 [01:57<00:08,  1.57it/s]"
     ]
    },
    {
     "name": "stdout",
     "output_type": "stream",
     "text": [
      "Calculating Sentiment for:  officertalk\n"
     ]
    },
    {
     "name": "stderr",
     "output_type": "stream",
     "text": [
      " 94%|███████████████████████████████████████████████████████████████████████████▌    | 186/197 [01:58<00:04,  2.31it/s]"
     ]
    },
    {
     "name": "stdout",
     "output_type": "stream",
     "text": [
      "Calculating Sentiment for:  money\n",
      "Calculating Sentiment for:  need\n"
     ]
    },
    {
     "name": "stderr",
     "output_type": "stream",
     "text": [
      "\r",
      " 95%|███████████████████████████████████████████████████████████████████████████▉    | 187/197 [01:58<00:04,  2.12it/s]"
     ]
    },
    {
     "name": "stdout",
     "output_type": "stream",
     "text": [
      "Calculating Sentiment for:  far\n"
     ]
    },
    {
     "name": "stderr",
     "output_type": "stream",
     "text": [
      " 96%|████████████████████████████████████████████████████████████████████████████▊   | 189/197 [01:59<00:02,  2.90it/s]"
     ]
    },
    {
     "name": "stdout",
     "output_type": "stream",
     "text": [
      "Calculating Sentiment for:  away\n",
      "Calculating Sentiment for:  security\n"
     ]
    },
    {
     "name": "stderr",
     "output_type": "stream",
     "text": [
      "\r",
      " 96%|█████████████████████████████████████████████████████████████████████████████▏  | 190/197 [01:59<00:02,  2.84it/s]"
     ]
    },
    {
     "name": "stdout",
     "output_type": "stream",
     "text": [
      "Calculating Sentiment for:  troopers\n"
     ]
    },
    {
     "name": "stderr",
     "output_type": "stream",
     "text": [
      "\r",
      " 97%|█████████████████████████████████████████████████████████████████████████████▌  | 191/197 [02:00<00:02,  2.01it/s]"
     ]
    },
    {
     "name": "stdout",
     "output_type": "stream",
     "text": [
      "Calculating Sentiment for:  attitude\n"
     ]
    },
    {
     "name": "stderr",
     "output_type": "stream",
     "text": [
      " 98%|██████████████████████████████████████████████████████████████████████████████▍ | 193/197 [02:01<00:01,  2.62it/s]"
     ]
    },
    {
     "name": "stdout",
     "output_type": "stream",
     "text": [
      "Calculating Sentiment for:  unbelievably\n"
     ]
    },
    {
     "name": "stderr",
     "output_type": "stream",
     "text": [
      "\r",
      " 98%|██████████████████████████████████████████████████████████████████████████████▊ | 194/197 [02:01<00:01,  2.83it/s]"
     ]
    },
    {
     "name": "stdout",
     "output_type": "stream",
     "text": [
      "Calculating Sentiment for:  interestingly\n",
      "Calculating Sentiment for:  enough\n"
     ]
    },
    {
     "name": "stderr",
     "output_type": "stream",
     "text": [
      " 99%|███████████████████████████████████████████████████████████████████████████████▌| 196/197 [02:02<00:00,  2.30it/s]"
     ]
    },
    {
     "name": "stdout",
     "output_type": "stream",
     "text": [
      "Calculating Sentiment for:  dirty\n"
     ]
    },
    {
     "name": "stderr",
     "output_type": "stream",
     "text": [
      "100%|████████████████████████████████████████████████████████████████████████████████| 197/197 [02:03<00:00,  1.60it/s]"
     ]
    },
    {
     "name": "stdout",
     "output_type": "stream",
     "text": [
      "Calculating Sentiment for:  pigs\n"
     ]
    },
    {
     "name": "stderr",
     "output_type": "stream",
     "text": [
      "\n"
     ]
    }
   ],
   "source": [
    "fin = get_sentiment(a, b, nlp)"
   ]
  },
  {
   "cell_type": "code",
   "execution_count": 363,
   "id": "comparable-wagon",
   "metadata": {
    "scrolled": false
   },
   "outputs": [
    {
     "data": {
      "text/html": [
       "<div>\n",
       "<style scoped>\n",
       "    .dataframe tbody tr th:only-of-type {\n",
       "        vertical-align: middle;\n",
       "    }\n",
       "\n",
       "    .dataframe tbody tr th {\n",
       "        vertical-align: top;\n",
       "    }\n",
       "\n",
       "    .dataframe thead th {\n",
       "        text-align: right;\n",
       "    }\n",
       "</style>\n",
       "<table border=\"1\" class=\"dataframe\">\n",
       "  <thead>\n",
       "    <tr style=\"text-align: right;\">\n",
       "      <th></th>\n",
       "      <th>Avg_sent</th>\n",
       "      <th>Descriptors</th>\n",
       "      <th>Freq</th>\n",
       "    </tr>\n",
       "  </thead>\n",
       "  <tbody>\n",
       "    <tr>\n",
       "      <th>staff</th>\n",
       "      <td>0.880952</td>\n",
       "      <td>professional ,unfriendly ,keep ,rude ,impatien...</td>\n",
       "      <td>11</td>\n",
       "    </tr>\n",
       "    <tr>\n",
       "      <th>people</th>\n",
       "      <td>0.877778</td>\n",
       "      <td>professional ,there ,suggest ,here ,threatens ...</td>\n",
       "      <td>10</td>\n",
       "    </tr>\n",
       "    <tr>\n",
       "      <th>medical</th>\n",
       "      <td>0.908046</td>\n",
       "      <td>checkup ,checkup ,screening ,conditions ,offic...</td>\n",
       "      <td>10</td>\n",
       "    </tr>\n",
       "    <tr>\n",
       "      <th>bad</th>\n",
       "      <td>0.878788</td>\n",
       "      <td>reviews ,not ,that ,canteenb ,real ,canteenb ,...</td>\n",
       "      <td>8</td>\n",
       "    </tr>\n",
       "    <tr>\n",
       "      <th>place</th>\n",
       "      <td>0.880000</td>\n",
       "      <td>clean ,fine ,waste ,check</td>\n",
       "      <td>7</td>\n",
       "    </tr>\n",
       "    <tr>\n",
       "      <th>...</th>\n",
       "      <td>...</td>\n",
       "      <td>...</td>\n",
       "      <td>...</td>\n",
       "    </tr>\n",
       "    <tr>\n",
       "      <th>whole</th>\n",
       "      <td>1.000000</td>\n",
       "      <td>process</td>\n",
       "      <td>1</td>\n",
       "    </tr>\n",
       "    <tr>\n",
       "      <th>process</th>\n",
       "      <td>0.923077</td>\n",
       "      <td>whole ,expect</td>\n",
       "      <td>1</td>\n",
       "    </tr>\n",
       "    <tr>\n",
       "      <th>take</th>\n",
       "      <td>1.000000</td>\n",
       "      <td>hours</td>\n",
       "      <td>1</td>\n",
       "    </tr>\n",
       "    <tr>\n",
       "      <th>august</th>\n",
       "      <td>1.000000</td>\n",
       "      <td>am</td>\n",
       "      <td>1</td>\n",
       "    </tr>\n",
       "    <tr>\n",
       "      <th>pigs</th>\n",
       "      <td>0.933333</td>\n",
       "      <td>dirty ,training</td>\n",
       "      <td>1</td>\n",
       "    </tr>\n",
       "  </tbody>\n",
       "</table>\n",
       "<p>197 rows × 3 columns</p>\n",
       "</div>"
      ],
      "text/plain": [
       "         Avg_sent                                        Descriptors  Freq\n",
       "staff    0.880952  professional ,unfriendly ,keep ,rude ,impatien...    11\n",
       "people   0.877778  professional ,there ,suggest ,here ,threatens ...    10\n",
       "medical  0.908046  checkup ,checkup ,screening ,conditions ,offic...    10\n",
       "bad      0.878788  reviews ,not ,that ,canteenb ,real ,canteenb ,...     8\n",
       "place    0.880000                          clean ,fine ,waste ,check     7\n",
       "...           ...                                                ...   ...\n",
       "whole    1.000000                                            process     1\n",
       "process  0.923077                                      whole ,expect     1\n",
       "take     1.000000                                              hours     1\n",
       "august   1.000000                                                 am     1\n",
       "pigs     0.933333                                    dirty ,training     1\n",
       "\n",
       "[197 rows x 3 columns]"
      ]
     },
     "execution_count": 363,
     "metadata": {},
     "output_type": "execute_result"
    }
   ],
   "source": [
    "fin"
   ]
  },
  {
   "cell_type": "code",
   "execution_count": 365,
   "id": "paperback-flexibility",
   "metadata": {},
   "outputs": [],
   "source": [
    "def get_tfidf_features(df, content_str = \"Content\", min_ = 2, max_ = 0.5, ngramrange = (1,2)):\n",
    "    \n",
    "    # Replace \"\" with nan's for removal\n",
    "    #df[content_str].replace('', np.nan, inplace=True)\n",
    "    #df.dropna(subset=[content_str], inplace=True)\n",
    "    #stop_words = set(stopwords.words('english'))\n",
    "    #df[content_str] = df[content_str].apply(lambda x: ''.join([word for word in x.split() if word not in (stop_words)]))\n",
    "    \n",
    "    review_list = df[content_str].to_list()\n",
    "    #feat_count = dict()\n",
    "    #feat_sent = dict()\n",
    "    #nlp = stanza.Pipeline('en')\n",
    "\n",
    "        \n",
    "    #print(review_list)\n",
    "    tfidf = TfidfVectorizer(min_df = min_, max_df = max_, ngram_range = ngramrange);\n",
    "    features = tfidf.fit_transform(review_list);\n",
    "    q = pd.DataFrame(features.todense(), columns=tfidf.get_feature_names())\n",
    "    \n",
    "    return list(q.columns)"
   ]
  },
  {
   "cell_type": "code",
   "execution_count": 366,
   "id": "deadly-edinburgh",
   "metadata": {},
   "outputs": [],
   "source": [
    "def refine_features(originaldf, sentimentdf):\n",
    "    tfidf_output = get_tfidf_features(originaldf)\n",
    "    sentimentdf = sentimentdf.reset_index()\n",
    "    ft_extract = set(sentimentdf['index']);\n",
    "    tfidf_extract = set(tfidf_output)\n",
    "    \n",
    "    intersecting_features = ft_extract.intersection(tfidf_extract)\n",
    "    \n",
    "    return_df = sentimentdf\n",
    "    return_df = return_df.loc[return_df['index'].isin(list(intersecting_features))]\n",
    "    print(\"Number of extracted features:\")\n",
    "    print(\"Initial = \", len(ft_extract), \" TFIDF = \", len(intersecting_features), \" Final after intersection = \", return_df.shape[0])\n",
    "    return return_df\n",
    "    \n",
    "    "
   ]
  },
  {
   "cell_type": "code",
   "execution_count": 369,
   "id": "hybrid-authorization",
   "metadata": {},
   "outputs": [
    {
     "name": "stdout",
     "output_type": "stream",
     "text": [
      "Number of extracted features:\n",
      "Initial =  197  TFIDF =  57  Final after intersection =  57\n"
     ]
    },
    {
     "data": {
      "text/html": [
       "<div>\n",
       "<style scoped>\n",
       "    .dataframe tbody tr th:only-of-type {\n",
       "        vertical-align: middle;\n",
       "    }\n",
       "\n",
       "    .dataframe tbody tr th {\n",
       "        vertical-align: top;\n",
       "    }\n",
       "\n",
       "    .dataframe thead th {\n",
       "        text-align: right;\n",
       "    }\n",
       "</style>\n",
       "<table border=\"1\" class=\"dataframe\">\n",
       "  <thead>\n",
       "    <tr style=\"text-align: right;\">\n",
       "      <th></th>\n",
       "      <th>index</th>\n",
       "      <th>Avg_sent</th>\n",
       "      <th>Descriptors</th>\n",
       "      <th>Freq</th>\n",
       "    </tr>\n",
       "  </thead>\n",
       "  <tbody>\n",
       "    <tr>\n",
       "      <th>0</th>\n",
       "      <td>staff</td>\n",
       "      <td>0.880952</td>\n",
       "      <td>professional ,unfriendly ,keep ,rude ,impatien...</td>\n",
       "      <td>11</td>\n",
       "    </tr>\n",
       "    <tr>\n",
       "      <th>1</th>\n",
       "      <td>people</td>\n",
       "      <td>0.877778</td>\n",
       "      <td>professional ,there ,suggest ,here ,threatens ...</td>\n",
       "      <td>10</td>\n",
       "    </tr>\n",
       "    <tr>\n",
       "      <th>2</th>\n",
       "      <td>medical</td>\n",
       "      <td>0.908046</td>\n",
       "      <td>checkup ,checkup ,screening ,conditions ,offic...</td>\n",
       "      <td>10</td>\n",
       "    </tr>\n",
       "    <tr>\n",
       "      <th>3</th>\n",
       "      <td>bad</td>\n",
       "      <td>0.878788</td>\n",
       "      <td>reviews ,not ,that ,canteenb ,real ,canteenb ,...</td>\n",
       "      <td>8</td>\n",
       "    </tr>\n",
       "    <tr>\n",
       "      <th>4</th>\n",
       "      <td>place</td>\n",
       "      <td>0.880000</td>\n",
       "      <td>clean ,fine ,waste ,check</td>\n",
       "      <td>7</td>\n",
       "    </tr>\n",
       "    <tr>\n",
       "      <th>5</th>\n",
       "      <td>rude</td>\n",
       "      <td>0.896552</td>\n",
       "      <td>staff ,extremely ,staff ,guards ,very ,staff ,...</td>\n",
       "      <td>6</td>\n",
       "    </tr>\n",
       "    <tr>\n",
       "      <th>6</th>\n",
       "      <td>time</td>\n",
       "      <td>0.888889</td>\n",
       "      <td>long ,takes ,travel ,travel</td>\n",
       "      <td>5</td>\n",
       "    </tr>\n",
       "    <tr>\n",
       "      <th>7</th>\n",
       "      <td>reviews</td>\n",
       "      <td>0.890909</td>\n",
       "      <td>other ,suggest ,nsf ,negative ,negative ,give ...</td>\n",
       "      <td>5</td>\n",
       "    </tr>\n",
       "    <tr>\n",
       "      <th>8</th>\n",
       "      <td>service</td>\n",
       "      <td>0.850000</td>\n",
       "      <td>dk ,public ,bad ,bad</td>\n",
       "      <td>5</td>\n",
       "    </tr>\n",
       "    <tr>\n",
       "      <th>9</th>\n",
       "      <td>nsf</td>\n",
       "      <td>0.884615</td>\n",
       "      <td>reviews ,staff ,need ,cool</td>\n",
       "      <td>4</td>\n",
       "    </tr>\n",
       "    <tr>\n",
       "      <th>10</th>\n",
       "      <td>overall</td>\n",
       "      <td>0.892857</td>\n",
       "      <td>fine ,waste ,experience ,had</td>\n",
       "      <td>4</td>\n",
       "    </tr>\n",
       "    <tr>\n",
       "      <th>11</th>\n",
       "      <td>experience</td>\n",
       "      <td>0.885246</td>\n",
       "      <td>good ,overall ,great ,definitely ,memorable ,g...</td>\n",
       "      <td>4</td>\n",
       "    </tr>\n",
       "    <tr>\n",
       "      <th>12</th>\n",
       "      <td>really</td>\n",
       "      <td>0.861111</td>\n",
       "      <td>clean ,care ,have ,care ,have ,bored</td>\n",
       "      <td>4</td>\n",
       "    </tr>\n",
       "    <tr>\n",
       "      <th>13</th>\n",
       "      <td>complete</td>\n",
       "      <td>0.888889</td>\n",
       "      <td>rest ,waste ,waste</td>\n",
       "      <td>3</td>\n",
       "    </tr>\n",
       "    <tr>\n",
       "      <th>14</th>\n",
       "      <td>professional</td>\n",
       "      <td>0.884615</td>\n",
       "      <td>very ,people ,staff ,medic</td>\n",
       "      <td>3</td>\n",
       "    </tr>\n",
       "    <tr>\n",
       "      <th>15</th>\n",
       "      <td>person</td>\n",
       "      <td>0.923077</td>\n",
       "      <td>last ,realise</td>\n",
       "      <td>3</td>\n",
       "    </tr>\n",
       "    <tr>\n",
       "      <th>16</th>\n",
       "      <td>extremely</td>\n",
       "      <td>0.875000</td>\n",
       "      <td>long ,rude ,poor</td>\n",
       "      <td>3</td>\n",
       "    </tr>\n",
       "    <tr>\n",
       "      <th>17</th>\n",
       "      <td>unfriendly</td>\n",
       "      <td>0.909091</td>\n",
       "      <td>staff ,tone</td>\n",
       "      <td>3</td>\n",
       "    </tr>\n",
       "    <tr>\n",
       "      <th>18</th>\n",
       "      <td>ask</td>\n",
       "      <td>0.904762</td>\n",
       "      <td>question ,question ,taiji ,question ,taiji</td>\n",
       "      <td>3</td>\n",
       "    </tr>\n",
       "    <tr>\n",
       "      <th>19</th>\n",
       "      <td>negative</td>\n",
       "      <td>0.920000</td>\n",
       "      <td>reviews ,reviews ,reviews</td>\n",
       "      <td>3</td>\n",
       "    </tr>\n",
       "    <tr>\n",
       "      <th>20</th>\n",
       "      <td>check</td>\n",
       "      <td>0.875000</td>\n",
       "      <td>medical ,up ,medical ,place ,medical ,up</td>\n",
       "      <td>3</td>\n",
       "    </tr>\n",
       "    <tr>\n",
       "      <th>21</th>\n",
       "      <td>checkup</td>\n",
       "      <td>0.937500</td>\n",
       "      <td>medical ,medical</td>\n",
       "      <td>3</td>\n",
       "    </tr>\n",
       "    <tr>\n",
       "      <th>22</th>\n",
       "      <td>waste</td>\n",
       "      <td>0.900000</td>\n",
       "      <td>place ,complete ,overall ,complete ,more</td>\n",
       "      <td>3</td>\n",
       "    </tr>\n",
       "    <tr>\n",
       "      <th>23</th>\n",
       "      <td>good</td>\n",
       "      <td>0.931818</td>\n",
       "      <td>experience ,officerattitude ,not ,experience</td>\n",
       "      <td>3</td>\n",
       "    </tr>\n",
       "    <tr>\n",
       "      <th>24</th>\n",
       "      <td>well</td>\n",
       "      <td>0.900000</td>\n",
       "      <td>fare ,kept</td>\n",
       "      <td>2</td>\n",
       "    </tr>\n",
       "    <tr>\n",
       "      <th>25</th>\n",
       "      <td>public</td>\n",
       "      <td>1.000000</td>\n",
       "      <td>service</td>\n",
       "      <td>2</td>\n",
       "    </tr>\n",
       "    <tr>\n",
       "      <th>26</th>\n",
       "      <td>hard</td>\n",
       "      <td>0.875000</td>\n",
       "      <td>so ,very</td>\n",
       "      <td>2</td>\n",
       "    </tr>\n",
       "    <tr>\n",
       "      <th>27</th>\n",
       "      <td>inaccessible</td>\n",
       "      <td>0.916667</td>\n",
       "      <td>highly ,need</td>\n",
       "      <td>2</td>\n",
       "    </tr>\n",
       "    <tr>\n",
       "      <th>28</th>\n",
       "      <td>long</td>\n",
       "      <td>0.914286</td>\n",
       "      <td>extremely ,time ,undesirably ,times</td>\n",
       "      <td>2</td>\n",
       "    </tr>\n",
       "    <tr>\n",
       "      <th>29</th>\n",
       "      <td>real</td>\n",
       "      <td>0.888889</td>\n",
       "      <td>edgy ,bad</td>\n",
       "      <td>2</td>\n",
       "    </tr>\n",
       "    <tr>\n",
       "      <th>30</th>\n",
       "      <td>even</td>\n",
       "      <td>0.888889</td>\n",
       "      <td>bored ,go</td>\n",
       "      <td>2</td>\n",
       "    </tr>\n",
       "    <tr>\n",
       "      <th>31</th>\n",
       "      <td>question</td>\n",
       "      <td>0.875000</td>\n",
       "      <td>ask ,ignore ,ask</td>\n",
       "      <td>2</td>\n",
       "    </tr>\n",
       "    <tr>\n",
       "      <th>32</th>\n",
       "      <td>personal</td>\n",
       "      <td>0.962963</td>\n",
       "      <td>experienceeveryone ,opinion</td>\n",
       "      <td>2</td>\n",
       "    </tr>\n",
       "    <tr>\n",
       "      <th>33</th>\n",
       "      <td>help</td>\n",
       "      <td>0.857143</td>\n",
       "      <td>me ,dk ,people</td>\n",
       "      <td>2</td>\n",
       "    </tr>\n",
       "    <tr>\n",
       "      <th>34</th>\n",
       "      <td>guards</td>\n",
       "      <td>0.909091</td>\n",
       "      <td>doing ,rude</td>\n",
       "      <td>2</td>\n",
       "    </tr>\n",
       "    <tr>\n",
       "      <th>35</th>\n",
       "      <td>great</td>\n",
       "      <td>0.928571</td>\n",
       "      <td>experience ,trip ,ultimately</td>\n",
       "      <td>2</td>\n",
       "    </tr>\n",
       "    <tr>\n",
       "      <th>36</th>\n",
       "      <td>tone</td>\n",
       "      <td>0.920000</td>\n",
       "      <td>changing ,unfriendly ,use</td>\n",
       "      <td>2</td>\n",
       "    </tr>\n",
       "    <tr>\n",
       "      <th>37</th>\n",
       "      <td>nice</td>\n",
       "      <td>0.888889</td>\n",
       "      <td>rest ,though ,staff ,pretty</td>\n",
       "      <td>2</td>\n",
       "    </tr>\n",
       "    <tr>\n",
       "      <th>38</th>\n",
       "      <td>cmpb</td>\n",
       "      <td>1.000000</td>\n",
       "      <td>recommend</td>\n",
       "      <td>2</td>\n",
       "    </tr>\n",
       "    <tr>\n",
       "      <th>41</th>\n",
       "      <td>inconvenient</td>\n",
       "      <td>0.920000</td>\n",
       "      <td>most ,locations ,location</td>\n",
       "      <td>2</td>\n",
       "    </tr>\n",
       "    <tr>\n",
       "      <th>42</th>\n",
       "      <td>others</td>\n",
       "      <td>1.000000</td>\n",
       "      <td>saying</td>\n",
       "      <td>2</td>\n",
       "    </tr>\n",
       "    <tr>\n",
       "      <th>43</th>\n",
       "      <td>friendly</td>\n",
       "      <td>1.000000</td>\n",
       "      <td>staff</td>\n",
       "      <td>2</td>\n",
       "    </tr>\n",
       "    <tr>\n",
       "      <th>46</th>\n",
       "      <td>day</td>\n",
       "      <td>0.916667</td>\n",
       "      <td>other ,worst</td>\n",
       "      <td>2</td>\n",
       "    </tr>\n",
       "    <tr>\n",
       "      <th>47</th>\n",
       "      <td>kind</td>\n",
       "      <td>0.916667</td>\n",
       "      <td>respectful ,very ,people</td>\n",
       "      <td>2</td>\n",
       "    </tr>\n",
       "    <tr>\n",
       "      <th>48</th>\n",
       "      <td>rest</td>\n",
       "      <td>0.928571</td>\n",
       "      <td>complete ,nice</td>\n",
       "      <td>2</td>\n",
       "    </tr>\n",
       "    <tr>\n",
       "      <th>49</th>\n",
       "      <td>hours</td>\n",
       "      <td>0.900000</td>\n",
       "      <td>more ,take</td>\n",
       "      <td>2</td>\n",
       "    </tr>\n",
       "    <tr>\n",
       "      <th>50</th>\n",
       "      <td>else</td>\n",
       "      <td>1.000000</td>\n",
       "      <td>anywhere</td>\n",
       "      <td>2</td>\n",
       "    </tr>\n",
       "    <tr>\n",
       "      <th>93</th>\n",
       "      <td>need</td>\n",
       "      <td>1.000000</td>\n",
       "      <td>inaccessible</td>\n",
       "      <td>1</td>\n",
       "    </tr>\n",
       "    <tr>\n",
       "      <th>96</th>\n",
       "      <td>security</td>\n",
       "      <td>1.000000</td>\n",
       "      <td>troopers</td>\n",
       "      <td>1</td>\n",
       "    </tr>\n",
       "    <tr>\n",
       "      <th>98</th>\n",
       "      <td>attitude</td>\n",
       "      <td>0.888889</td>\n",
       "      <td>bad ,have</td>\n",
       "      <td>1</td>\n",
       "    </tr>\n",
       "    <tr>\n",
       "      <th>119</th>\n",
       "      <td>get</td>\n",
       "      <td>1.000000</td>\n",
       "      <td>there</td>\n",
       "      <td>1</td>\n",
       "    </tr>\n",
       "    <tr>\n",
       "      <th>125</th>\n",
       "      <td>give</td>\n",
       "      <td>0.947368</td>\n",
       "      <td>guard ,instructions</td>\n",
       "      <td>1</td>\n",
       "    </tr>\n",
       "    <tr>\n",
       "      <th>129</th>\n",
       "      <td>screening</td>\n",
       "      <td>0.937500</td>\n",
       "      <td>medical ,station</td>\n",
       "      <td>1</td>\n",
       "    </tr>\n",
       "    <tr>\n",
       "      <th>170</th>\n",
       "      <td>visit</td>\n",
       "      <td>1.000000</td>\n",
       "      <td>contrary</td>\n",
       "      <td>1</td>\n",
       "    </tr>\n",
       "    <tr>\n",
       "      <th>174</th>\n",
       "      <td>officer</td>\n",
       "      <td>1.000000</td>\n",
       "      <td>medical</td>\n",
       "      <td>1</td>\n",
       "    </tr>\n",
       "    <tr>\n",
       "      <th>191</th>\n",
       "      <td>expect</td>\n",
       "      <td>1.000000</td>\n",
       "      <td>process</td>\n",
       "      <td>1</td>\n",
       "    </tr>\n",
       "    <tr>\n",
       "      <th>194</th>\n",
       "      <td>take</td>\n",
       "      <td>1.000000</td>\n",
       "      <td>hours</td>\n",
       "      <td>1</td>\n",
       "    </tr>\n",
       "  </tbody>\n",
       "</table>\n",
       "</div>"
      ],
      "text/plain": [
       "            index  Avg_sent  \\\n",
       "0           staff  0.880952   \n",
       "1          people  0.877778   \n",
       "2         medical  0.908046   \n",
       "3             bad  0.878788   \n",
       "4           place  0.880000   \n",
       "5            rude  0.896552   \n",
       "6            time  0.888889   \n",
       "7         reviews  0.890909   \n",
       "8         service  0.850000   \n",
       "9             nsf  0.884615   \n",
       "10        overall  0.892857   \n",
       "11     experience  0.885246   \n",
       "12         really  0.861111   \n",
       "13       complete  0.888889   \n",
       "14   professional  0.884615   \n",
       "15         person  0.923077   \n",
       "16      extremely  0.875000   \n",
       "17     unfriendly  0.909091   \n",
       "18            ask  0.904762   \n",
       "19       negative  0.920000   \n",
       "20          check  0.875000   \n",
       "21        checkup  0.937500   \n",
       "22          waste  0.900000   \n",
       "23           good  0.931818   \n",
       "24           well  0.900000   \n",
       "25         public  1.000000   \n",
       "26           hard  0.875000   \n",
       "27   inaccessible  0.916667   \n",
       "28           long  0.914286   \n",
       "29           real  0.888889   \n",
       "30           even  0.888889   \n",
       "31       question  0.875000   \n",
       "32       personal  0.962963   \n",
       "33           help  0.857143   \n",
       "34         guards  0.909091   \n",
       "35          great  0.928571   \n",
       "36           tone  0.920000   \n",
       "37           nice  0.888889   \n",
       "38           cmpb  1.000000   \n",
       "41   inconvenient  0.920000   \n",
       "42         others  1.000000   \n",
       "43       friendly  1.000000   \n",
       "46            day  0.916667   \n",
       "47           kind  0.916667   \n",
       "48           rest  0.928571   \n",
       "49          hours  0.900000   \n",
       "50           else  1.000000   \n",
       "93           need  1.000000   \n",
       "96       security  1.000000   \n",
       "98       attitude  0.888889   \n",
       "119           get  1.000000   \n",
       "125          give  0.947368   \n",
       "129     screening  0.937500   \n",
       "170         visit  1.000000   \n",
       "174       officer  1.000000   \n",
       "191        expect  1.000000   \n",
       "194          take  1.000000   \n",
       "\n",
       "                                           Descriptors  Freq  \n",
       "0    professional ,unfriendly ,keep ,rude ,impatien...    11  \n",
       "1    professional ,there ,suggest ,here ,threatens ...    10  \n",
       "2    checkup ,checkup ,screening ,conditions ,offic...    10  \n",
       "3    reviews ,not ,that ,canteenb ,real ,canteenb ,...     8  \n",
       "4                            clean ,fine ,waste ,check     7  \n",
       "5    staff ,extremely ,staff ,guards ,very ,staff ,...     6  \n",
       "6                          long ,takes ,travel ,travel     5  \n",
       "7    other ,suggest ,nsf ,negative ,negative ,give ...     5  \n",
       "8                                 dk ,public ,bad ,bad     5  \n",
       "9                           reviews ,staff ,need ,cool     4  \n",
       "10                        fine ,waste ,experience ,had     4  \n",
       "11   good ,overall ,great ,definitely ,memorable ,g...     4  \n",
       "12                clean ,care ,have ,care ,have ,bored     4  \n",
       "13                                  rest ,waste ,waste     3  \n",
       "14                          very ,people ,staff ,medic     3  \n",
       "15                                       last ,realise     3  \n",
       "16                                    long ,rude ,poor     3  \n",
       "17                                         staff ,tone     3  \n",
       "18          question ,question ,taiji ,question ,taiji     3  \n",
       "19                           reviews ,reviews ,reviews     3  \n",
       "20            medical ,up ,medical ,place ,medical ,up     3  \n",
       "21                                    medical ,medical     3  \n",
       "22            place ,complete ,overall ,complete ,more     3  \n",
       "23        experience ,officerattitude ,not ,experience     3  \n",
       "24                                          fare ,kept     2  \n",
       "25                                             service     2  \n",
       "26                                            so ,very     2  \n",
       "27                                        highly ,need     2  \n",
       "28                 extremely ,time ,undesirably ,times     2  \n",
       "29                                           edgy ,bad     2  \n",
       "30                                           bored ,go     2  \n",
       "31                                    ask ,ignore ,ask     2  \n",
       "32                         experienceeveryone ,opinion     2  \n",
       "33                                      me ,dk ,people     2  \n",
       "34                                         doing ,rude     2  \n",
       "35                        experience ,trip ,ultimately     2  \n",
       "36                           changing ,unfriendly ,use     2  \n",
       "37                         rest ,though ,staff ,pretty     2  \n",
       "38                                           recommend     2  \n",
       "41                           most ,locations ,location     2  \n",
       "42                                              saying     2  \n",
       "43                                               staff     2  \n",
       "46                                        other ,worst     2  \n",
       "47                            respectful ,very ,people     2  \n",
       "48                                      complete ,nice     2  \n",
       "49                                          more ,take     2  \n",
       "50                                            anywhere     2  \n",
       "93                                        inaccessible     1  \n",
       "96                                            troopers     1  \n",
       "98                                           bad ,have     1  \n",
       "119                                              there     1  \n",
       "125                                guard ,instructions     1  \n",
       "129                                   medical ,station     1  \n",
       "170                                           contrary     1  \n",
       "174                                            medical     1  \n",
       "191                                            process     1  \n",
       "194                                              hours     1  "
      ]
     },
     "execution_count": 369,
     "metadata": {},
     "output_type": "execute_result"
    }
   ],
   "source": [
    "rt = refine_features(rdr, fin)\n",
    "rt"
   ]
  },
  {
   "cell_type": "code",
   "execution_count": 368,
   "id": "piano-fifty",
   "metadata": {},
   "outputs": [],
   "source": [
    "#rt.to_csv(\"finalFeatures.csv\")"
   ]
  }
 ],
 "metadata": {
  "kernelspec": {
   "display_name": "Python 3",
   "language": "python",
   "name": "python3"
  },
  "language_info": {
   "codemirror_mode": {
    "name": "ipython",
    "version": 3
   },
   "file_extension": ".py",
   "mimetype": "text/x-python",
   "name": "python",
   "nbconvert_exporter": "python",
   "pygments_lexer": "ipython3",
   "version": "3.9.2"
  }
 },
 "nbformat": 4,
 "nbformat_minor": 5
}
