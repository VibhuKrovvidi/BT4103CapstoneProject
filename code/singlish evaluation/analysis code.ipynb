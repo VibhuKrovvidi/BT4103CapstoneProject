{
 "cells": [
  {
   "cell_type": "code",
   "execution_count": 2,
   "id": "extreme-roads",
   "metadata": {
    "scrolled": true
   },
   "outputs": [
    {
     "name": "stderr",
     "output_type": "stream",
     "text": [
      "Downloading https://raw.githubusercontent.com/stanfordnlp/stanza-resources/master/resources_1.2.0.json: 128kB [00:00, 18.3MB/s]\n",
      "2021-04-13 02:25:13 INFO: Downloading default packages for language: en (English)...\n",
      "2021-04-13 02:25:16 INFO: File exists: C:\\Users\\zexuan\\stanza_resources\\en\\default.zip.\n",
      "2021-04-13 02:25:21 INFO: Finished downloading models and saved to C:\\Users\\zexuan\\stanza_resources.\n",
      "[nltk_data] Downloading package stopwords to\n",
      "[nltk_data]     C:\\Users\\zexuan\\AppData\\Roaming\\nltk_data...\n",
      "[nltk_data]   Package stopwords is already up-to-date!\n",
      "[nltk_data] Downloading package punkt to\n",
      "[nltk_data]     C:\\Users\\zexuan\\AppData\\Roaming\\nltk_data...\n",
      "[nltk_data]   Package punkt is already up-to-date!\n",
      "[nltk_data] Downloading package averaged_perceptron_tagger to\n",
      "[nltk_data]     C:\\Users\\zexuan\\AppData\\Roaming\\nltk_data...\n",
      "[nltk_data]   Package averaged_perceptron_tagger is already up-to-\n",
      "[nltk_data]       date!\n"
     ]
    },
    {
     "data": {
      "text/plain": [
       "True"
      ]
     },
     "execution_count": 2,
     "metadata": {},
     "output_type": "execute_result"
    }
   ],
   "source": [
    "import pandas as pd\n",
    "import numpy as np\n",
    "import nltk\n",
    "import regex\n",
    "import re\n",
    "from tqdm import tqdm\n",
    "from nltk.corpus import stopwords\n",
    "from nltk.corpus import wordnet\n",
    "from nltk.tokenize import word_tokenize, sent_tokenize\n",
    "from nltk.stem.wordnet import WordNetLemmatizer \n",
    "from sklearn.feature_extraction.text import TfidfVectorizer\n",
    "import stanza\n",
    "import string\n",
    "import copy\n",
    "stanza.download('en') # download English model\n",
    "nltk.download('stopwords')\n",
    "nltk.download('punkt')\n",
    "nltk.download('averaged_perceptron_tagger')"
   ]
  },
  {
   "cell_type": "code",
   "execution_count": 3,
   "id": "competent-twist",
   "metadata": {},
   "outputs": [],
   "source": [
    "replacements ={'/':'_', '-':'_','u':'you', 'im': \"i'm\", 'tbh':'to be honest', 'dk': \"dont' know\", 'dont': \"don't\", 'Ã°Ã¿â„¢ÂÃ°Ã¿ÂÂ»':'', 'imo': 'in my opinion', 'n\"t':'not',\"'s\":'is'}"
   ]
  },
  {
   "cell_type": "code",
   "execution_count": 4,
   "id": "inclusive-weapon",
   "metadata": {},
   "outputs": [],
   "source": [
    "def feature_extraction(txt, replacements = replacements):\n",
    "\n",
    "    # Do replacements for short forms and abbreviations\n",
    "    txt = txt.split()\n",
    "    replaced = []\n",
    "    for words in txt:\n",
    "        if words in replacements:\n",
    "            replaced.append(replacements[words])\n",
    "        if '/' in words:\n",
    "            words = words.replace('/','_')\n",
    "            replaced.append(words)\n",
    "        if '\\\\' in words:\n",
    "            words = words.replace('/','_')\n",
    "            replaced.append(words)\n",
    "        if '-' in words:\n",
    "            words = words.replace('-','_')\n",
    "            replaced.append(words)\n",
    "        else:\n",
    "            replaced.append(words)\n",
    "    txt = ' '.join(replaced)\n",
    "\n",
    "    # Add fullstop to the end of the review and paragraph\n",
    "    txt += '.'\n",
    "    txt = txt.replace(\"\\n\", \".\")\n",
    "\n",
    "    # Tokenise para into sentences\n",
    "    sentList = nltk.sent_tokenize(txt)\n",
    "\n",
    "    #final list to be returned\n",
    "    retlist = []\n",
    "\n",
    "    # For each sentence\n",
    "    for line in sentList:\n",
    "        line = line.replace('.','')\n",
    "        # Tag and word tokenize\n",
    "        txt_list = nltk.word_tokenize(line)\n",
    "        taggedList = nltk.pos_tag(txt_list)\n",
    "\n",
    "        newwordList = []\n",
    "        # Merge possible consecutive features (\"Phone\" \"Battery\" ==> \"PhoneBattery\")\n",
    "        # Condition for merge: consecutive nouns \n",
    "        flag = 0\n",
    "        for i in range(0,len(taggedList)-1):\n",
    "            if(taggedList[i][1]==\"NN\" and taggedList[i+1][1]==\"NN\"):\n",
    "                newwordList.append(taggedList[i][0] + taggedList[i+1][0])\n",
    "                flag=1\n",
    "            else:\n",
    "                if(flag==1):\n",
    "                    flag=0\n",
    "                    continue\n",
    "                newwordList.append(taggedList[i][0])\n",
    "                if(i==len(taggedList)-2):\n",
    "                    newwordList.append(taggedList[i+1][0])\n",
    "        finaltxt = ' '.join(newwordList)\n",
    "\n",
    "        # Re-tag the words list to identify the newly combined words together\n",
    "        taggedList = nltk.pos_tag(newwordList)\n",
    "\n",
    "        # Use dependancy analysis to parse and extract features + descriptors\n",
    "        doc = nlp(finaltxt)\n",
    "        dep_node = []\n",
    "        try:\n",
    "            for dep_edge in doc.sentences[0].dependencies:\n",
    "                dep_node.append([dep_edge[2].text, dep_edge[0].id, dep_edge[1]])\n",
    "            for i in range(0, len(dep_node)):\n",
    "                if (int(dep_node[i][1]) != 0):\n",
    "                    dep_node[i][1] = newwordList[(int(dep_node[i][1]) - 1)]\n",
    "        except:\n",
    "            pass\n",
    "\n",
    "        # Selection of final features + descriptors\n",
    "        featureList = []\n",
    "        categories = []\n",
    "        for i in taggedList:\n",
    "            if(i[1]=='JJ' or i[1]=='NN' or i[1]=='JJR' or i[1]=='NNS' or i[1]=='RB'):\n",
    "                featureList.append(list(i))\n",
    "                categories.append(i[0])\n",
    "        fcluster = []\n",
    "        for feat in featureList:\n",
    "            descriptors = []\n",
    "            for j in dep_node:\n",
    "                #if the feature or the id matches\n",
    "                #j[0] --> feature, j[1] --> id, j[2] --> type of word\n",
    "                if((j[0]==feat[0] or j[1]==feat[0]) and (j[2] in [\n",
    "                    # Different types of words that are identified as potential features\n",
    "                    \"nsubj\",\n",
    "                    \"acl:relcl\",\n",
    "                    \"obj\",\n",
    "                    \"dobj\",\n",
    "                    \"agent\",\n",
    "                    \"advmod\",\n",
    "                    \"amod\",\n",
    "                    \"neg\",\n",
    "                    \"prep_of\",\n",
    "                    \"acomp\",\n",
    "                    \"xcomp\",\n",
    "                    \"compound\"\n",
    "                ])):\n",
    "                    if(j[0]==feat[0]):\n",
    "                        descriptors.append(j[1])\n",
    "                    else:\n",
    "                        descriptors.append(j[0])\n",
    "            fcluster.append([feat[0], descriptors])\n",
    "        print(fcluster) \n",
    "\n",
    "        retlist.append(fcluster)\n",
    "    return retlist"
   ]
  },
  {
   "cell_type": "code",
   "execution_count": 5,
   "id": "exposed-validation",
   "metadata": {},
   "outputs": [],
   "source": [
    " def do_extraction(df, nlp, feat_count, feat_sent, content_str = \"content\"):\n",
    "        idx = 0\n",
    "        # Replace empty reviews with nan's for removal\n",
    "        df[content_str].replace('', np.nan, inplace=True)\n",
    "        df.dropna(subset=[content_str], inplace=True)\n",
    "\n",
    "        review_list = df[content_str].to_list()\n",
    "\n",
    "        print(\" Processing : \" , df.shape[0], \"rows of data\")\n",
    "\n",
    "        #Feature Extraction for each review\n",
    "        for review in tqdm(review_list):\n",
    "            print(\"\\nReview Number : \", idx)\n",
    "\n",
    "            # Convert review to all lowercase\n",
    "            review = review.lower()\n",
    "\n",
    "            # Merge hyphenated words\n",
    "            separate = review.split('-')\n",
    "            review = ''.join(separate)\n",
    "\n",
    "            idx += 1\n",
    "            # Perform Feature Extraction\n",
    "            if idx >= df.shape[0]:\n",
    "                break\n",
    "            #try:\n",
    "            #    output = self.feature_extraction(review)\n",
    "            #except:\n",
    "            #    pass\n",
    "            output = feature_extraction(review)\n",
    "            # Combine the features extracted to the overall collection in feat_sent\n",
    "            print('Combining Features and Descriptors')\n",
    "            counter = 1 #counter to make sure loop is running\n",
    "            for sent in output:\n",
    "                print('Features for Review ' + str(counter))\n",
    "                for pair in sent:\n",
    "                    print(pair)\n",
    "                    # If feature already exists in feat_sent, append the descriptors \n",
    "                    if pair[0] in feat_sent:\n",
    "                        if pair[1] is not None:\n",
    "                            flist = feat_sent[pair[0]]\n",
    "                            if isinstance(pair[1], list):\n",
    "                                for i in pair[1]:\n",
    "                                    flist.append(i)\n",
    "                            else:\n",
    "                                flist.append(pair[1])\n",
    "                            feat_sent[pair[0]] = flist\n",
    "                    # If feature does not exist, add feature as a new key and its descriptors as the respective value\n",
    "                    else:\n",
    "                        if pair[1] is not None:\n",
    "                            flist = pair[1]\n",
    "                        else:\n",
    "                            flist = list()\n",
    "                        feat_sent[pair[0]] = flist\n",
    "\n",
    "                    #Update occurrence count of feature in feat_count\n",
    "                    print('Updating Count')\n",
    "                    if pair[0] in feat_count:\n",
    "                        feat_count[pair[0]] = feat_count[pair[0]] + 1\n",
    "                    else:\n",
    "                        feat_count[pair[0]] = 1\n",
    "                counter += 1\n",
    "       \n",
    "        #remove punctuation features for sentiment analysis\n",
    "        print('Removing Punctuation')\n",
    "        for a in feat_count.copy():\n",
    "            if a in string.punctuation:\n",
    "                del feat_count[a]\n",
    "        for a in feat_sent.copy():\n",
    "            if a in string.punctuation:\n",
    "                del feat_sent[a]\n",
    "        return feat_count, feat_sent"
   ]
  },
  {
   "cell_type": "code",
   "execution_count": 6,
   "id": "altered-helmet",
   "metadata": {},
   "outputs": [],
   "source": [
    "#DONE no singlish\n",
    "def get_sentiment(feat_count, feat_sent, nlp):\n",
    "    stop_words = stopwords.words('english')\n",
    "    stop_words.append('Ã°Ã¿â„¢ÂÃ°Ã¿ÂÂ»') #emoji\n",
    "    sentiment_score = dict()\n",
    "    \n",
    "    # Delete features with no descriptors\n",
    "    cob = feat_sent.copy()\n",
    "    for feat in cob.keys():\n",
    "        #print(cob[feat])\n",
    "        if cob[feat] == []:\n",
    "            del feat_sent[feat]\n",
    "        else:\n",
    "            feat_sent[feat] = [str(x) for x in feat_sent[feat]]\n",
    "            feat_sent[feat] = ' ,'.join(feat_sent[feat])\n",
    "    \n",
    "    # Define a new df to track at descriptor level\n",
    "    dcolumns = [\"Feature\", \"Descriptor\", \"Sentiment\", \"Freq of Feature\"]\n",
    "    desc_df = pd.DataFrame(columns=dcolumns)\n",
    "        \n",
    "    # Run pre-built sentiment score and take avg of all descriptors\n",
    "    for f in tqdm(feat_sent.keys()):\n",
    "        print(\"Calculating Sentiment for: \", f);\n",
    "        ssum = 0;\n",
    "        length = 0\n",
    "        des_list = []\n",
    "        for g in feat_sent[f].split(','):\n",
    "            try:\n",
    "                doc = nlp(g);\n",
    "                for i in doc.sentences:\n",
    "                    if i.text in stop_words:\n",
    "                        continue\n",
    "                    else:\n",
    "                        des_list.append(i.text)\n",
    "                        ssum += i.sentiment;\n",
    "                        length += 1\n",
    "                        new_row = [[f, g, i.sentiment, feat_count[f]]]\n",
    "                        desc_df = desc_df.append(pd.DataFrame(new_row, columns=dcolumns))\n",
    "            except:\n",
    "                pass;\n",
    "        feat_sent[f] = ' ,'.join(des_list)\n",
    "        if length != 0:\n",
    "            sentiment_score[f] = ssum / length\n",
    "\n",
    "    adf = pd.DataFrame.from_dict(feat_count, orient='index', columns=['Freq'])\n",
    "    adf.sort_values(by=\"Freq\", ascending=False, inplace = True)\n",
    "\n",
    "    avg_sent = pd.DataFrame.from_dict(sentiment_score, orient='index', columns=[\"Avg_sent\"])\n",
    "\n",
    "    desc_words = pd.DataFrame.from_dict(feat_sent, orient=\"index\", columns=[\"Descriptors\"])\n",
    "\n",
    "    avg_sent = avg_sent.merge(desc_words, left_index=True, right_index=True)\n",
    "    \n",
    "    \n",
    "    final_sent = avg_sent.merge(adf, left_index=True, right_index=True)\n",
    "    final_sent.sort_values(by=\"Freq\", ascending=False, inplace=True)\n",
    "    return final_sent,desc_df;"
   ]
  },
  {
   "cell_type": "code",
   "execution_count": 7,
   "id": "catholic-dimension",
   "metadata": {},
   "outputs": [],
   "source": [
    "#with singlish \n",
    "def get_sentiment_singlish(feat_count, feat_sent, nlp):\n",
    "    #get stopwords from stanza\n",
    "    stop_words = stopwords.words('english')\n",
    "    stop_words.append('Ã°Ã¿â„¢ÂÃ°Ã¿ÂÂ»') #emoji\n",
    "    \n",
    "    #initialise the Singlish Dictionary\n",
    "    sentiment_score = dict()\n",
    "    singlish = pd.read_csv(\"singlish_sent2.csv\")\n",
    "    singlish.columns = [\"word\", \"sent\"]\n",
    "    singlish = dict(zip(singlish.word,singlish.sent))\n",
    "    print(\"Singlish dict initialised\")\n",
    "    \n",
    "    # Delete features with no descriptors\n",
    "    cob = feat_sent.copy()\n",
    "    for feat in cob.keys():\n",
    "        if cob[feat] == []:\n",
    "            del feat_sent[feat]\n",
    "        else:\n",
    "            feat_sent[feat] = [str(x) for x in feat_sent[feat]]\n",
    "            feat_sent[feat] = ' ,'.join(feat_sent[feat])\n",
    "    \n",
    "    # Define a new df to track at descriptor level\n",
    "    dcolumns = [\"Feature\", \"Descriptor\", \"Sentiment\", \"Freq of Feature\"]\n",
    "    desc_df = pd.DataFrame(columns=dcolumns)\n",
    "    \n",
    "    # Run pre-built sentiment score and take avg of all descriptors\n",
    "    for f in tqdm(feat_sent.keys()):\n",
    "        print(\"Calculating Sentiment for: \", f);\n",
    "        ssum = 0;\n",
    "        length = 0;\n",
    "        des_list = []\n",
    "        for g in feat_sent[f].split(\" ,\"):\n",
    "            #removal of stop words\n",
    "            if g in stop_words:\n",
    "                continue\n",
    "            else:\n",
    "                length += 1\n",
    "                if g in singlish.keys():\n",
    "                    ssum += singlish[g]\n",
    "                    des_list.append(g)\n",
    "                    new_row = [[f, g, singlish[g], feat_count[f]]]\n",
    "                    desc_df = desc_df.append(pd.DataFrame(new_row, columns=dcolumns))\n",
    "                else:\n",
    "                    try:\n",
    "                        doc = nlp(g)\n",
    "                        for i in doc.sentences:\n",
    "                            #print(i.text)\n",
    "                            #print(i.sentiment)\n",
    "                            des_list.append(i.text)\n",
    "                            ssum += i.sentiment;\n",
    "                            new_row = [[f, g, i.sentiment, feat_count[f]]]\n",
    "                            desc_df = desc_df.append(pd.DataFrame(new_row, columns=dcolumns))\n",
    "                    except:\n",
    "                        pass\n",
    "        feat_sent[f] = ' ,'.join(des_list)\n",
    "        if length != 0:\n",
    "            sentiment_score[f] = ssum / length;\n",
    "\n",
    "    adf = pd.DataFrame.from_dict(feat_count, orient='index', columns=['Freq'])\n",
    "    adf.sort_values(by=\"Freq\", ascending=False, inplace = True)\n",
    "\n",
    "    \n",
    "    avg_sent = pd.DataFrame.from_dict(sentiment_score, orient='index', columns=[\"Avg_sent\"])\n",
    "    desc_words = pd.DataFrame.from_dict(feat_sent, orient=\"index\", columns=[\"Descriptors\"])\n",
    "    \n",
    "    avg_sent = avg_sent.merge(desc_words, left_index=True, right_index=True)\n",
    "    \n",
    "    \n",
    "    final_sent = avg_sent.merge(adf, left_index=True, right_index=True)\n",
    "    final_sent.sort_values(by=\"Freq\", ascending=False, inplace=True)\n",
    "    return final_sent, desc_df;"
   ]
  },
  {
   "cell_type": "code",
   "execution_count": 8,
   "id": "featured-huntington",
   "metadata": {
    "scrolled": false
   },
   "outputs": [],
   "source": [
    "data = pd.read_csv('evaluation corpus.csv')"
   ]
  },
  {
   "cell_type": "code",
   "execution_count": 9,
   "id": "universal-contributor",
   "metadata": {},
   "outputs": [
    {
     "name": "stderr",
     "output_type": "stream",
     "text": [
      "2021-04-13 02:25:21 INFO: Loading these models for language: en (English):\n",
      "=========================\n",
      "| Processor | Package   |\n",
      "-------------------------\n",
      "| tokenize  | combined  |\n",
      "| pos       | combined  |\n",
      "| lemma     | combined  |\n",
      "| depparse  | combined  |\n",
      "| sentiment | sstplus   |\n",
      "| ner       | ontonotes |\n",
      "=========================\n",
      "\n",
      "2021-04-13 02:25:21 INFO: Use device: cpu\n",
      "2021-04-13 02:25:21 INFO: Loading: tokenize\n",
      "2021-04-13 02:25:22 INFO: Loading: pos\n",
      "2021-04-13 02:25:22 INFO: Loading: lemma\n",
      "2021-04-13 02:25:23 INFO: Loading: depparse\n",
      "2021-04-13 02:25:24 INFO: Loading: sentiment\n",
      "2021-04-13 02:25:25 INFO: Loading: ner\n",
      "2021-04-13 02:25:27 INFO: Done loading processors!\n"
     ]
    }
   ],
   "source": [
    "nlp = stanza.Pipeline('en')"
   ]
  },
  {
   "cell_type": "code",
   "execution_count": 10,
   "id": "guilty-access",
   "metadata": {},
   "outputs": [
    {
     "data": {
      "text/html": [
       "<div>\n",
       "<style scoped>\n",
       "    .dataframe tbody tr th:only-of-type {\n",
       "        vertical-align: middle;\n",
       "    }\n",
       "\n",
       "    .dataframe tbody tr th {\n",
       "        vertical-align: top;\n",
       "    }\n",
       "\n",
       "    .dataframe thead th {\n",
       "        text-align: right;\n",
       "    }\n",
       "</style>\n",
       "<table border=\"1\" class=\"dataframe\">\n",
       "  <thead>\n",
       "    <tr style=\"text-align: right;\">\n",
       "      <th></th>\n",
       "      <th>Unnamed: 0</th>\n",
       "      <th>content</th>\n",
       "    </tr>\n",
       "  </thead>\n",
       "  <tbody>\n",
       "    <tr>\n",
       "      <th>0</th>\n",
       "      <td>0</td>\n",
       "      <td>Outstanding medics sian\\nAs for reviews about ...</td>\n",
       "    </tr>\n",
       "    <tr>\n",
       "      <th>1</th>\n",
       "      <td>1</td>\n",
       "      <td>whete you get rewarded for exercising</td>\n",
       "    </tr>\n",
       "    <tr>\n",
       "      <th>2</th>\n",
       "      <td>2</td>\n",
       "      <td>dun understand sian</td>\n",
       "    </tr>\n",
       "    <tr>\n",
       "      <th>3</th>\n",
       "      <td>3</td>\n",
       "      <td>why not book 20 IPPT instead then?</td>\n",
       "    </tr>\n",
       "    <tr>\n",
       "      <th>4</th>\n",
       "      <td>4</td>\n",
       "      <td>Should be subject to RT if you did not meet th...</td>\n",
       "    </tr>\n",
       "  </tbody>\n",
       "</table>\n",
       "</div>"
      ],
      "text/plain": [
       "   Unnamed: 0                                            content\n",
       "0           0  Outstanding medics sian\\nAs for reviews about ...\n",
       "1           1              whete you get rewarded for exercising\n",
       "2           2                                dun understand sian\n",
       "3           3                 why not book 20 IPPT instead then?\n",
       "4           4  Should be subject to RT if you did not meet th..."
      ]
     },
     "execution_count": 10,
     "metadata": {},
     "output_type": "execute_result"
    }
   ],
   "source": [
    "data.head()"
   ]
  },
  {
   "cell_type": "code",
   "execution_count": 11,
   "id": "necessary-adjustment",
   "metadata": {
    "scrolled": true
   },
   "outputs": [
    {
     "name": "stderr",
     "output_type": "stream",
     "text": [
      "\r",
      "  0%|                                                                                          | 0/200 [00:00<?, ?it/s]"
     ]
    },
    {
     "name": "stdout",
     "output_type": "stream",
     "text": [
      " Processing :  200 rows of data\n",
      "\n",
      "Review Number :  0\n"
     ]
    },
    {
     "name": "stderr",
     "output_type": "stream",
     "text": [
      "\r",
      "  0%|▍                                                                                 | 1/200 [00:01<05:46,  1.74s/it]"
     ]
    },
    {
     "name": "stdout",
     "output_type": "stream",
     "text": [
      "[['outstanding', ['medics']], ['medics', ['outstanding']], ['sian', []], ['reviews', []], ['mos', []], ['figure', ['it', 'yourself']]]\n",
      "Combining Features and Descriptors\n",
      "Features for Review 1\n",
      "['outstanding', ['medics']]\n",
      "Updating Count\n",
      "['medics', ['outstanding']]\n",
      "Updating Count\n",
      "['sian', []]\n",
      "Updating Count\n",
      "['reviews', []]\n",
      "Updating Count\n",
      "['mos', []]\n",
      "Updating Count\n",
      "['figure', ['it', 'yourself']]\n",
      "Updating Count\n",
      "\n",
      "Review Number :  1\n"
     ]
    },
    {
     "name": "stderr",
     "output_type": "stream",
     "text": [
      "\r",
      "  1%|▊                                                                                 | 2/200 [00:02<03:05,  1.06it/s]"
     ]
    },
    {
     "name": "stdout",
     "output_type": "stream",
     "text": [
      "[['whete', []]]\n",
      "Combining Features and Descriptors\n",
      "Features for Review 1\n",
      "['whete', []]\n",
      "Updating Count\n",
      "\n",
      "Review Number :  2\n"
     ]
    },
    {
     "name": "stderr",
     "output_type": "stream",
     "text": [
      "\r",
      "  2%|█▏                                                                                | 3/200 [00:02<02:03,  1.60it/s]"
     ]
    },
    {
     "name": "stdout",
     "output_type": "stream",
     "text": [
      "[['dununderstand', ['understandsian']], ['understandsian', ['dununderstand']]]\n",
      "Combining Features and Descriptors\n",
      "Features for Review 1\n",
      "['dununderstand', ['understandsian']]\n",
      "Updating Count\n",
      "['understandsian', ['dununderstand']]\n",
      "Updating Count\n",
      "\n",
      "Review Number :  3\n"
     ]
    },
    {
     "name": "stderr",
     "output_type": "stream",
     "text": [
      "\r",
      "  2%|█▋                                                                                | 4/200 [00:02<01:37,  2.01it/s]"
     ]
    },
    {
     "name": "stdout",
     "output_type": "stream",
     "text": [
      "[['not', ['book']], ['book', ['why', 'not', 'ippt']], ['ippt', ['book']], ['instead', ['then']], ['then', ['instead']]]\n",
      "Combining Features and Descriptors\n",
      "Features for Review 1\n",
      "['not', ['book']]\n",
      "Updating Count\n",
      "['book', ['why', 'not', 'ippt']]\n",
      "Updating Count\n",
      "['ippt', ['book']]\n",
      "Updating Count\n",
      "['instead', ['then']]\n",
      "Updating Count\n",
      "['then', ['instead']]\n",
      "Updating Count\n",
      "\n",
      "Review Number :  4\n"
     ]
    },
    {
     "name": "stderr",
     "output_type": "stream",
     "text": [
      "\r",
      "  2%|██                                                                                | 5/200 [00:04<03:01,  1.07it/s]"
     ]
    },
    {
     "name": "stdout",
     "output_type": "stream",
     "text": [
      "[['subject', []], ['not', ['meet']], ['requirements', ['meet']], ['even', ['turning']], ['s', []], ['still', ['ipptwindow']], ['ur', []], ['ipptwindow', ['you', 'still']], ['windowtho', []]]\n",
      "Combining Features and Descriptors\n",
      "Features for Review 1\n",
      "['subject', []]\n",
      "Updating Count\n",
      "['not', ['meet']]\n",
      "Updating Count\n",
      "['requirements', ['meet']]\n",
      "Updating Count\n",
      "['even', ['turning']]\n",
      "Updating Count\n",
      "['s', []]\n",
      "Updating Count\n",
      "['still', ['ipptwindow']]\n",
      "Updating Count\n",
      "['ur', []]\n",
      "Updating Count\n",
      "['ipptwindow', ['you', 'still']]\n",
      "Updating Count\n",
      "['windowtho', []]\n",
      "Updating Count\n",
      "\n",
      "Review Number :  5\n",
      "[['only', ['know']], ['day', []], ['unit', ['commanders']], ['commanders', ['unit', 'are', 'here']], ['here', ['commanders']], ['forum', []]]\n",
      "[['however', ['allowed']], ['not', ['allowed']], ['such', ['information']], ['information', ['such', 'reveal']]]\n",
      "[['osa', ['what']], ['otherwise', ['charged']], ['such', ['offences']], ['related', ['offences']], ['offences', ['such', 'related']]]\n",
      "[['recently', ['is']], ['paramedic', ['is']], ['got', []], ['act', []], ['info', []]]\n",
      "[['nevertheless', ['matter']], ['company', ['matter', 'get']]]\n",
      "[['furthermore', ['ipptrelated']], ['thread', []]]\n",
      "[['sure', ['make']], ['topic', ['know']], ['channels', []], ['feedback', []], ['otherwise', ['get']], ['never', ['get']], ['answers', ['get']], ['promptly', ['get']]]\n"
     ]
    },
    {
     "name": "stderr",
     "output_type": "stream",
     "text": [
      "\r",
      "  3%|██▍                                                                               | 6/200 [00:13<12:20,  3.82s/it]"
     ]
    },
    {
     "name": "stdout",
     "output_type": "stream",
     "text": [
      "[['also', ['applies']], ['upcoming', ['stint']], ['stint', ['upcoming']], ['nsf', []], ['saf', []]]\n",
      "Combining Features and Descriptors\n",
      "Features for Review 1\n",
      "['only', ['know']]\n",
      "Updating Count\n",
      "['day', []]\n",
      "Updating Count\n",
      "['unit', ['commanders']]\n",
      "Updating Count\n",
      "['commanders', ['unit', 'are', 'here']]\n",
      "Updating Count\n",
      "['here', ['commanders']]\n",
      "Updating Count\n",
      "['forum', []]\n",
      "Updating Count\n",
      "Features for Review 2\n",
      "['however', ['allowed']]\n",
      "Updating Count\n",
      "['not', ['allowed']]\n",
      "Updating Count\n",
      "['such', ['information']]\n",
      "Updating Count\n",
      "['information', ['such', 'reveal']]\n",
      "Updating Count\n",
      "Features for Review 3\n",
      "['osa', ['what']]\n",
      "Updating Count\n",
      "['otherwise', ['charged']]\n",
      "Updating Count\n",
      "['such', ['offences']]\n",
      "Updating Count\n",
      "['related', ['offences']]\n",
      "Updating Count\n",
      "['offences', ['such', 'related']]\n",
      "Updating Count\n",
      "Features for Review 4\n",
      "['recently', ['is']]\n",
      "Updating Count\n",
      "['paramedic', ['is']]\n",
      "Updating Count\n",
      "['got', []]\n",
      "Updating Count\n",
      "['act', []]\n",
      "Updating Count\n",
      "['info', []]\n",
      "Updating Count\n",
      "Features for Review 5\n",
      "['nevertheless', ['matter']]\n",
      "Updating Count\n",
      "['company', ['matter', 'get']]\n",
      "Updating Count\n",
      "Features for Review 6\n",
      "['furthermore', ['ipptrelated']]\n",
      "Updating Count\n",
      "['thread', []]\n",
      "Updating Count\n",
      "Features for Review 7\n",
      "['sure', ['make']]\n",
      "Updating Count\n",
      "['topic', ['know']]\n",
      "Updating Count\n",
      "['channels', []]\n",
      "Updating Count\n",
      "['feedback', []]\n",
      "Updating Count\n",
      "['otherwise', ['get']]\n",
      "Updating Count\n",
      "['never', ['get']]\n",
      "Updating Count\n",
      "['answers', ['get']]\n",
      "Updating Count\n",
      "['promptly', ['get']]\n",
      "Updating Count\n",
      "Features for Review 8\n",
      "['also', ['applies']]\n",
      "Updating Count\n",
      "['upcoming', ['stint']]\n",
      "Updating Count\n",
      "['stint', ['upcoming']]\n",
      "Updating Count\n",
      "['nsf', []]\n",
      "Updating Count\n",
      "['saf', []]\n",
      "Updating Count\n",
      "\n",
      "Review Number :  6\n"
     ]
    },
    {
     "name": "stderr",
     "output_type": "stream",
     "text": [
      "\r",
      "  4%|██▊                                                                               | 7/200 [00:14<08:39,  2.69s/it]"
     ]
    },
    {
     "name": "stdout",
     "output_type": "stream",
     "text": [
      "[['mr', ['throw']], ['already', ['throw']], ['everything', ['throw']]]\n",
      "[]\n",
      "Combining Features and Descriptors\n",
      "Features for Review 1\n",
      "['mr', ['throw']]\n",
      "Updating Count\n",
      "['already', ['throw']]\n",
      "Updating Count\n",
      "['everything', ['throw']]\n",
      "Updating Count\n",
      "Features for Review 2\n",
      "\n",
      "Review Number :  7\n",
      "[['questions', ['wear']], ['attire', []], ['guideline', ['comprehensive']], ['not', ['comprehensive']], ['really', ['comprehensive']], ['comprehensive', ['guideline', 'not', 'really']], ['i', ['wear', 'wear']], ['short', ['tights']], ['compression', ['tights']], ['tights', ['short', 'compression', 'wear']], ['knee', []], ['wear', ['questions', 'i', 'tights', 'i', 'pants']], ['pants', ['running', 'wear']], ['groin', ['cover']], ['due', []], ['female', ['instructors']], ['instructors', ['female', 'present']], ['present', ['instructors']]]\n",
      "[['just', ['wear']], ['long', ['singlet']], ['singlet', ['long', 'wear', 'enough']], ['enough', ['which', 'singlet', 'cover']], ['groin', ['cover']]]\n",
      "[['calf', ['sleeves']], ['sleeves', ['calf', 'wearing']], ['test', []]]\n",
      "[['ippt', ['take']], ['bedokcamp', []]]\n"
     ]
    },
    {
     "name": "stderr",
     "output_type": "stream",
     "text": [
      "\r",
      "  4%|███▎                                                                              | 8/200 [00:19<11:45,  3.67s/it]"
     ]
    },
    {
     "name": "stdout",
     "output_type": "stream",
     "text": [
      "[['only', ['bring']], ['minimum', ['items']], ['items', ['minimum', 'bring']], ['phone', []], ['waterbottle', []], ['test', []], ['homerun', []]]\n",
      "Combining Features and Descriptors\n",
      "Features for Review 1\n",
      "['questions', ['wear']]\n",
      "Updating Count\n",
      "['attire', []]\n",
      "Updating Count\n",
      "['guideline', ['comprehensive']]\n",
      "Updating Count\n",
      "['not', ['comprehensive']]\n",
      "Updating Count\n",
      "['really', ['comprehensive']]\n",
      "Updating Count\n",
      "['comprehensive', ['guideline', 'not', 'really']]\n",
      "Updating Count\n",
      "['i', ['wear', 'wear']]\n",
      "Updating Count\n",
      "['short', ['tights']]\n",
      "Updating Count\n",
      "['compression', ['tights']]\n",
      "Updating Count\n",
      "['tights', ['short', 'compression', 'wear']]\n",
      "Updating Count\n",
      "['knee', []]\n",
      "Updating Count\n",
      "['wear', ['questions', 'i', 'tights', 'i', 'pants']]\n",
      "Updating Count\n",
      "['pants', ['running', 'wear']]\n",
      "Updating Count\n",
      "['groin', ['cover']]\n",
      "Updating Count\n",
      "['due', []]\n",
      "Updating Count\n",
      "['female', ['instructors']]\n",
      "Updating Count\n",
      "['instructors', ['female', 'present']]\n",
      "Updating Count\n",
      "['present', ['instructors']]\n",
      "Updating Count\n",
      "Features for Review 2\n",
      "['just', ['wear']]\n",
      "Updating Count\n",
      "['long', ['singlet']]\n",
      "Updating Count\n",
      "['singlet', ['long', 'wear', 'enough']]\n",
      "Updating Count\n",
      "['enough', ['which', 'singlet', 'cover']]\n",
      "Updating Count\n",
      "['groin', ['cover']]\n",
      "Updating Count\n",
      "Features for Review 3\n",
      "['calf', ['sleeves']]\n",
      "Updating Count\n",
      "['sleeves', ['calf', 'wearing']]\n",
      "Updating Count\n",
      "['test', []]\n",
      "Updating Count\n",
      "Features for Review 4\n",
      "['ippt', ['take']]\n",
      "Updating Count\n",
      "['bedokcamp', []]\n",
      "Updating Count\n",
      "Features for Review 5\n",
      "['only', ['bring']]\n",
      "Updating Count\n",
      "['minimum', ['items']]\n",
      "Updating Count\n",
      "['items', ['minimum', 'bring']]\n",
      "Updating Count\n",
      "['phone', []]\n",
      "Updating Count\n",
      "['waterbottle', []]\n",
      "Updating Count\n",
      "['test', []]\n",
      "Updating Count\n",
      "['homerun', []]\n",
      "Updating Count\n",
      "\n",
      "Review Number :  8\n",
      "[['funky_banana', ['wrote']], ['hi', []], ['guys', []], ['idea', []], ['still', ['giving']], ['colour', ['tags']], ['tags', ['colour', 'giving']], ['ipt', []], ['bedokfcc', []]]\n",
      "[['yellow', ['applies']], ['blue', []], ['red', []], ['green', []], ['orange', []], ['still', ['applies']]]\n",
      "[['yellow', []], ['strength', ['blue']], ['conditioning', []], ['upper', ['body']], ['body', ['upper', 'mostly']], ['core', []], ['mostly', ['body']], ['pushups', []], ['situps', []], ['=', []], ['fitnesschallenge', []], ['bells', ['kettle']], ['bars', ['weighted']]]\n",
      "[['stuff', []], ['imo', ['version']], ['intensive', ['more', 'version']], ['version', ['imo', 'intensive']], ['yellow', []], ['=', []], ['cardio', []], ['aerobic', ['fitness']], ['fitness', ['aerobic']], ['trainers', ['include']], ['usually', ['include']], ['bit', ['include']], ['other', ['exercises']], ['exercises', ['other']], ['pushups', ['improve']], ['situps', []], ['just', ['mix']], ['things', ['mix']], ['green', ['managementprogramme']], ['=', []], ['weightmanagement', ['managementprogramme']], ['managementprogramme', ['green', 'weightmanagement']], ['obese', ['personnel']], ['personnel', ['obese']]]\n",
      "[['orange', []], ['sports', []]]\n",
      "[['purple', ['tag']], ['tag', ['purple', \"'s\"]], ['as', [\"'s\"]], ['well', []], ['i', ['hear']], ['classes', ['evening', 'does']], ['weekdays', []], ['kpop', ['aerobics']], ['aerobics', ['kpop']]]\n",
      "[['stuff', []]]\n"
     ]
    },
    {
     "name": "stderr",
     "output_type": "stream",
     "text": [
      "\r",
      "  4%|███▋                                                                              | 9/200 [00:26<14:39,  4.60s/it]"
     ]
    },
    {
     "name": "stdout",
     "output_type": "stream",
     "text": [
      "[['i', ['done']], ['never', ['done']], ['anyone', ['elaborate']], ['fullerpicture', []]]\n",
      "Combining Features and Descriptors\n",
      "Features for Review 1\n",
      "['funky_banana', ['wrote']]\n",
      "Updating Count\n",
      "['hi', []]\n",
      "Updating Count\n",
      "['guys', []]\n",
      "Updating Count\n",
      "['idea', []]\n",
      "Updating Count\n",
      "['still', ['giving']]\n",
      "Updating Count\n",
      "['colour', ['tags']]\n",
      "Updating Count\n",
      "['tags', ['colour', 'giving']]\n",
      "Updating Count\n",
      "['ipt', []]\n",
      "Updating Count\n",
      "['bedokfcc', []]\n",
      "Updating Count\n",
      "Features for Review 2\n",
      "['yellow', ['applies']]\n",
      "Updating Count\n",
      "['blue', []]\n",
      "Updating Count\n",
      "['red', []]\n",
      "Updating Count\n",
      "['green', []]\n",
      "Updating Count\n",
      "['orange', []]\n",
      "Updating Count\n",
      "['still', ['applies']]\n",
      "Updating Count\n",
      "Features for Review 3\n",
      "['yellow', []]\n",
      "Updating Count\n",
      "['strength', ['blue']]\n",
      "Updating Count\n",
      "['conditioning', []]\n",
      "Updating Count\n",
      "['upper', ['body']]\n",
      "Updating Count\n",
      "['body', ['upper', 'mostly']]\n",
      "Updating Count\n",
      "['core', []]\n",
      "Updating Count\n",
      "['mostly', ['body']]\n",
      "Updating Count\n",
      "['pushups', []]\n",
      "Updating Count\n",
      "['situps', []]\n",
      "Updating Count\n",
      "['=', []]\n",
      "Updating Count\n",
      "['fitnesschallenge', []]\n",
      "Updating Count\n",
      "['bells', ['kettle']]\n",
      "Updating Count\n",
      "['bars', ['weighted']]\n",
      "Updating Count\n",
      "Features for Review 4\n",
      "['stuff', []]\n",
      "Updating Count\n",
      "['imo', ['version']]\n",
      "Updating Count\n",
      "['intensive', ['more', 'version']]\n",
      "Updating Count\n",
      "['version', ['imo', 'intensive']]\n",
      "Updating Count\n",
      "['yellow', []]\n",
      "Updating Count\n",
      "['=', []]\n",
      "Updating Count\n",
      "['cardio', []]\n",
      "Updating Count\n",
      "['aerobic', ['fitness']]\n",
      "Updating Count\n",
      "['fitness', ['aerobic']]\n",
      "Updating Count\n",
      "['trainers', ['include']]\n",
      "Updating Count\n",
      "['usually', ['include']]\n",
      "Updating Count\n",
      "['bit', ['include']]\n",
      "Updating Count\n",
      "['other', ['exercises']]\n",
      "Updating Count\n",
      "['exercises', ['other']]\n",
      "Updating Count\n",
      "['pushups', ['improve']]\n",
      "Updating Count\n",
      "['situps', []]\n",
      "Updating Count\n",
      "['just', ['mix']]\n",
      "Updating Count\n",
      "['things', ['mix']]\n",
      "Updating Count\n",
      "['green', ['managementprogramme']]\n",
      "Updating Count\n",
      "['=', []]\n",
      "Updating Count\n",
      "['weightmanagement', ['managementprogramme']]\n",
      "Updating Count\n",
      "['managementprogramme', ['green', 'weightmanagement']]\n",
      "Updating Count\n",
      "['obese', ['personnel']]\n",
      "Updating Count\n",
      "['personnel', ['obese']]\n",
      "Updating Count\n",
      "Features for Review 5\n",
      "['orange', []]\n",
      "Updating Count\n",
      "['sports', []]\n",
      "Updating Count\n",
      "Features for Review 6\n",
      "['purple', ['tag']]\n",
      "Updating Count\n",
      "['tag', ['purple', \"'s\"]]\n",
      "Updating Count\n",
      "['as', [\"'s\"]]\n",
      "Updating Count\n",
      "['well', []]\n",
      "Updating Count\n",
      "['i', ['hear']]\n",
      "Updating Count\n",
      "['classes', ['evening', 'does']]\n",
      "Updating Count\n",
      "['weekdays', []]\n",
      "Updating Count\n",
      "['kpop', ['aerobics']]\n",
      "Updating Count\n",
      "['aerobics', ['kpop']]\n",
      "Updating Count\n",
      "Features for Review 7\n",
      "['stuff', []]\n",
      "Updating Count\n",
      "Features for Review 8\n",
      "['i', ['done']]\n",
      "Updating Count\n",
      "['never', ['done']]\n",
      "Updating Count\n",
      "['anyone', ['elaborate']]\n",
      "Updating Count\n",
      "['fullerpicture', []]\n",
      "Updating Count\n",
      "\n",
      "Review Number :  9\n"
     ]
    },
    {
     "name": "stderr",
     "output_type": "stream",
     "text": [
      "\r",
      "  5%|████                                                                             | 10/200 [00:26<10:16,  3.25s/it]"
     ]
    },
    {
     "name": "stdout",
     "output_type": "stream",
     "text": [
      "[['same', ['too']], ['too', ['same']]]\n",
      "Combining Features and Descriptors\n",
      "Features for Review 1\n",
      "['same', ['too']]\n",
      "Updating Count\n",
      "['too', ['same']]\n",
      "Updating Count\n",
      "\n",
      "Review Number :  10\n"
     ]
    },
    {
     "name": "stderr",
     "output_type": "stream",
     "text": [
      "\r",
      "  6%|████▍                                                                            | 11/200 [00:27<08:10,  2.60s/it]"
     ]
    },
    {
     "name": "stdout",
     "output_type": "stream",
     "text": [
      "[['just', ['counting']], ['recorded', ['attendance']], ['attendance', ['recorded', 'counting']], ['ns', ['booklet']], ['booklet', ['ns', 'try']], ['portal', []]]\n",
      "Combining Features and Descriptors\n",
      "Features for Review 1\n",
      "['just', ['counting']]\n",
      "Updating Count\n",
      "['recorded', ['attendance']]\n",
      "Updating Count\n",
      "['attendance', ['recorded', 'counting']]\n",
      "Updating Count\n",
      "['ns', ['booklet']]\n",
      "Updating Count\n",
      "['booklet', ['ns', 'try']]\n",
      "Updating Count\n",
      "['portal', []]\n",
      "Updating Count\n",
      "\n",
      "Review Number :  11\n",
      "[['just', ['rmb']], ['rmb', ['just']], ['only', ['take']], ['rtippt', ['take']]]\n",
      "[['so', ['need']], ['clear', ['loh']], ['rt', ['loh']], ['first', ['loh']]]\n"
     ]
    },
    {
     "name": "stderr",
     "output_type": "stream",
     "text": [
      "\r",
      "  6%|████▊                                                                            | 12/200 [00:30<07:56,  2.54s/it]"
     ]
    },
    {
     "name": "stdout",
     "output_type": "stream",
     "text": [
      "[['only', ['have']], ['rtippt', ['have']], ['rest', []], ['rt', []]]\n",
      "Combining Features and Descriptors\n",
      "Features for Review 1\n",
      "['just', ['rmb']]\n",
      "Updating Count\n",
      "['rmb', ['just']]\n",
      "Updating Count\n",
      "['only', ['take']]\n",
      "Updating Count\n",
      "['rtippt', ['take']]\n",
      "Updating Count\n",
      "Features for Review 2\n",
      "['so', ['need']]\n",
      "Updating Count\n",
      "['clear', ['loh']]\n",
      "Updating Count\n",
      "['rt', ['loh']]\n",
      "Updating Count\n",
      "['first', ['loh']]\n",
      "Updating Count\n",
      "Features for Review 3\n",
      "['only', ['have']]\n",
      "Updating Count\n",
      "['rtippt', ['have']]\n",
      "Updating Count\n",
      "['rest', []]\n",
      "Updating Count\n",
      "['rt', []]\n",
      "Updating Count\n",
      "\n",
      "Review Number :  12\n",
      "[['window', ['closes']], ['closes', ['window']], ['feb', []], ['t', ['clear', 'have']], ['clear', ['t', 'it', 'have']], ['’', []], ['t', ['clear', 'have']], ['lor', []]]\n"
     ]
    },
    {
     "name": "stderr",
     "output_type": "stream",
     "text": [
      "\r",
      "  6%|█████▎                                                                           | 13/200 [00:31<06:41,  2.15s/it]"
     ]
    },
    {
     "name": "stdout",
     "output_type": "stream",
     "text": [
      "[['already', ['cleared']], ['wouldn', []], ['t', ['affect']], ['affect', ['them', 'this', 't', 'you']]]\n",
      "Combining Features and Descriptors\n",
      "Features for Review 1\n",
      "['window', ['closes']]\n",
      "Updating Count\n",
      "['closes', ['window']]\n",
      "Updating Count\n",
      "['feb', []]\n",
      "Updating Count\n",
      "['t', ['clear', 'have']]\n",
      "Updating Count\n",
      "['clear', ['t', 'it', 'have']]\n",
      "Updating Count\n",
      "['’', []]\n",
      "Updating Count\n",
      "['t', ['clear', 'have']]\n",
      "Updating Count\n",
      "['lor', []]\n",
      "Updating Count\n",
      "Features for Review 2\n",
      "['already', ['cleared']]\n",
      "Updating Count\n",
      "['wouldn', []]\n",
      "Updating Count\n",
      "['t', ['affect']]\n",
      "Updating Count\n",
      "['affect', ['them', 'this', 't', 'you']]\n",
      "Updating Count\n",
      "\n",
      "Review Number :  13\n",
      "[['same', ['thing']], ['thing', ['same']]]\n"
     ]
    },
    {
     "name": "stderr",
     "output_type": "stream",
     "text": [
      "  8%|██████                                                                           | 15/200 [00:32<03:50,  1.25s/it]"
     ]
    },
    {
     "name": "stdout",
     "output_type": "stream",
     "text": [
      "[['meaning', ['understand']], ['inpro', []], ['outpro', []]]\n",
      "Combining Features and Descriptors\n",
      "Features for Review 1\n",
      "['same', ['thing']]\n",
      "Updating Count\n",
      "['thing', ['same']]\n",
      "Updating Count\n",
      "Features for Review 2\n",
      "['meaning', ['understand']]\n",
      "Updating Count\n",
      "['inpro', []]\n",
      "Updating Count\n",
      "['outpro', []]\n",
      "Updating Count\n",
      "\n",
      "Review Number :  14\n",
      "[['correct', []]]\n",
      "Combining Features and Descriptors\n",
      "Features for Review 1\n",
      "['correct', []]\n",
      "Updating Count\n"
     ]
    },
    {
     "name": "stderr",
     "output_type": "stream",
     "text": [
      "  8%|██████▉                                                                          | 17/200 [00:32<02:14,  1.36it/s]"
     ]
    },
    {
     "name": "stdout",
     "output_type": "stream",
     "text": [
      "\n",
      "Review Number :  15\n",
      "[['just', ['discharge']], ['attendance', []]]\n",
      "Combining Features and Descriptors\n",
      "Features for Review 1\n",
      "['just', ['discharge']]\n",
      "Updating Count\n",
      "['attendance', []]\n",
      "Updating Count\n",
      "\n",
      "Review Number :  16\n",
      "[['ok', []], ['thank', ['you']]]\n",
      "Combining Features and Descriptors\n",
      "Features for Review 1\n",
      "['ok', []]\n",
      "Updating Count\n",
      "['thank', ['you']]\n",
      "Updating Count\n",
      "\n",
      "Review Number :  17\n",
      "[['tomorrowresume', ['ipt_rt']], ['ipt_rt', ['tomorrowresume']], ['ipt_rtliao', []]]\n"
     ]
    },
    {
     "name": "stderr",
     "output_type": "stream",
     "text": [
      "\r",
      "  9%|███████▎                                                                         | 18/200 [00:33<02:07,  1.43it/s]"
     ]
    },
    {
     "name": "stdout",
     "output_type": "stream",
     "text": [
      "[['hopeeveryone', ['clear']], ['as', ['much']], ['much', ['as', 'clear']], ['possible', []]]\n",
      "Combining Features and Descriptors\n",
      "Features for Review 1\n",
      "['tomorrowresume', ['ipt_rt']]\n",
      "Updating Count\n",
      "['ipt_rt', ['tomorrowresume']]\n",
      "Updating Count\n",
      "['ipt_rtliao', []]\n",
      "Updating Count\n",
      "Features for Review 2\n",
      "['hopeeveryone', ['clear']]\n",
      "Updating Count\n",
      "['as', ['much']]\n",
      "Updating Count\n",
      "['much', ['as', 'clear']]\n",
      "Updating Count\n",
      "['possible', []]\n",
      "Updating Count\n",
      "\n",
      "Review Number :  18\n"
     ]
    },
    {
     "name": "stderr",
     "output_type": "stream",
     "text": [
      "\r",
      " 10%|███████▋                                                                         | 19/200 [00:33<01:46,  1.70it/s]"
     ]
    },
    {
     "name": "stdout",
     "output_type": "stream",
     "text": [
      "[['unit', []], ['division', []]]\n",
      "Combining Features and Descriptors\n",
      "Features for Review 1\n",
      "['unit', []]\n",
      "Updating Count\n",
      "['division', []]\n",
      "Updating Count\n",
      "\n",
      "Review Number :  19\n",
      "[[\"n't\", ['make']], ['sense', ['make']]]\n",
      "[['i', ['sure']], ['sure', ['i']], ['only', ['applies']], ['defaulters', []]]\n"
     ]
    },
    {
     "name": "stderr",
     "output_type": "stream",
     "text": [
      "\r",
      " 10%|████████                                                                         | 20/200 [00:34<02:07,  1.41it/s]"
     ]
    },
    {
     "name": "stdout",
     "output_type": "stream",
     "text": [
      "[['not', []], ['many', ['how', 'ppl']]]\n",
      "Combining Features and Descriptors\n",
      "Features for Review 1\n",
      "[\"n't\", ['make']]\n",
      "Updating Count\n",
      "['sense', ['make']]\n",
      "Updating Count\n",
      "Features for Review 2\n",
      "['i', ['sure']]\n",
      "Updating Count\n",
      "['sure', ['i']]\n",
      "Updating Count\n",
      "['only', ['applies']]\n",
      "Updating Count\n",
      "['defaulters', []]\n",
      "Updating Count\n",
      "Features for Review 3\n",
      "['not', []]\n",
      "Updating Count\n",
      "['many', ['how', 'ppl']]\n",
      "Updating Count\n",
      "\n",
      "Review Number :  20\n"
     ]
    },
    {
     "name": "stderr",
     "output_type": "stream",
     "text": [
      "\r",
      " 10%|████████▌                                                                        | 21/200 [00:35<02:02,  1.47it/s]"
     ]
    },
    {
     "name": "stdout",
     "output_type": "stream",
     "text": [
      "[['unit', ['suppose']], ['suppose', ['unit', 'arrange']], ['hspffi', []], ['not', ['you']], ['u', ['saf100']], ['saf100', ['u']]]\n",
      "Combining Features and Descriptors\n",
      "Features for Review 1\n",
      "['unit', ['suppose']]\n",
      "Updating Count\n",
      "['suppose', ['unit', 'arrange']]\n",
      "Updating Count\n",
      "['hspffi', []]\n",
      "Updating Count\n",
      "['not', ['you']]\n",
      "Updating Count\n",
      "['u', ['saf100']]\n",
      "Updating Count\n",
      "['saf100', ['u']]\n",
      "Updating Count\n",
      "\n",
      "Review Number :  21\n"
     ]
    },
    {
     "name": "stderr",
     "output_type": "stream",
     "text": [
      "\r",
      " 11%|████████▉                                                                        | 22/200 [00:35<01:41,  1.75it/s]"
     ]
    },
    {
     "name": "stdout",
     "output_type": "stream",
     "text": [
      "[['ippt', ['rewards']], ['monetary', ['rewards']], ['rewards', ['ippt', 'monetary', 'save']], ['too', ['save']]]\n",
      "Combining Features and Descriptors\n",
      "Features for Review 1\n",
      "['ippt', ['rewards']]\n",
      "Updating Count\n",
      "['monetary', ['rewards']]\n",
      "Updating Count\n",
      "['rewards', ['ippt', 'monetary', 'save']]\n",
      "Updating Count\n",
      "['too', ['save']]\n",
      "Updating Count\n",
      "\n",
      "Review Number :  22\n"
     ]
    },
    {
     "name": "stderr",
     "output_type": "stream",
     "text": [
      "\r",
      " 12%|█████████▎                                                                       | 23/200 [00:36<01:37,  1.81it/s]"
     ]
    },
    {
     "name": "stdout",
     "output_type": "stream",
     "text": [
      "[['i', ['able']], ['able', ['i', 'extend']], ['rtwindow', ['extend']], ['month', []]]\n",
      "Combining Features and Descriptors\n",
      "Features for Review 1\n",
      "['i', ['able']]\n",
      "Updating Count\n",
      "['able', ['i', 'extend']]\n",
      "Updating Count\n",
      "['rtwindow', ['extend']]\n",
      "Updating Count\n",
      "['month', []]\n",
      "Updating Count\n",
      "\n",
      "Review Number :  23\n"
     ]
    },
    {
     "name": "stderr",
     "output_type": "stream",
     "text": [
      "\r",
      " 12%|█████████▋                                                                       | 24/200 [00:36<01:25,  2.06it/s]"
     ]
    },
    {
     "name": "stdout",
     "output_type": "stream",
     "text": [
      "[['kena', ['called']], ['ippt', []], ['next', ['month']], ['month', ['next']], ['shag', []]]\n",
      "Combining Features and Descriptors\n",
      "Features for Review 1\n",
      "['kena', ['called']]\n",
      "Updating Count\n",
      "['ippt', []]\n",
      "Updating Count\n",
      "['next', ['month']]\n",
      "Updating Count\n",
      "['month', ['next']]\n",
      "Updating Count\n",
      "['shag', []]\n",
      "Updating Count\n",
      "\n",
      "Review Number :  24\n",
      "[['really', ['close']], ['close', ['really']], ['march', []]]\n",
      "[['i', ['got']], [\"n't\", ['got']], ['sms', ['got']], ['yet', ['got']]]\n"
     ]
    },
    {
     "name": "stderr",
     "output_type": "stream",
     "text": [
      " 13%|██████████▌                                                                      | 26/200 [00:37<01:21,  2.13it/s]"
     ]
    },
    {
     "name": "stdout",
     "output_type": "stream",
     "text": [
      "[['i', ['got']], ['still', ['got']], ['rt', ['got']], ['leh', []]]\n",
      "Combining Features and Descriptors\n",
      "Features for Review 1\n",
      "['really', ['close']]\n",
      "Updating Count\n",
      "['close', ['really']]\n",
      "Updating Count\n",
      "['march', []]\n",
      "Updating Count\n",
      "Features for Review 2\n",
      "['i', ['got']]\n",
      "Updating Count\n",
      "[\"n't\", ['got']]\n",
      "Updating Count\n",
      "['sms', ['got']]\n",
      "Updating Count\n",
      "['yet', ['got']]\n",
      "Updating Count\n",
      "Features for Review 3\n",
      "['i', ['got']]\n",
      "Updating Count\n",
      "['still', ['got']]\n",
      "Updating Count\n",
      "['rt', ['got']]\n",
      "Updating Count\n",
      "['leh', []]\n",
      "Updating Count\n",
      "\n",
      "Review Number :  25\n",
      "[['ok', []], ['thanks', []]]\n",
      "Combining Features and Descriptors\n",
      "Features for Review 1\n",
      "['ok', []]\n",
      "Updating Count\n",
      "['thanks', []]\n",
      "Updating Count\n",
      "\n",
      "Review Number :  26\n"
     ]
    },
    {
     "name": "stderr",
     "output_type": "stream",
     "text": [
      " 14%|███████████▎                                                                     | 28/200 [00:38<01:22,  2.08it/s]"
     ]
    },
    {
     "name": "stdout",
     "output_type": "stream",
     "text": [
      "[['still', ['have']], ['whole', ['ippt']], ['ippt', ['whole', 'finish']], ['rounds', []], ['everything', ['they', 'everything']], ['trainingprogramme', []], ['day', []]]\n",
      "Combining Features and Descriptors\n",
      "Features for Review 1\n",
      "['still', ['have']]\n",
      "Updating Count\n",
      "['whole', ['ippt']]\n",
      "Updating Count\n",
      "['ippt', ['whole', 'finish']]\n",
      "Updating Count\n",
      "['rounds', []]\n",
      "Updating Count\n",
      "['everything', ['they', 'everything']]\n",
      "Updating Count\n",
      "['trainingprogramme', []]\n",
      "Updating Count\n",
      "['day', []]\n",
      "Updating Count\n",
      "\n",
      "Review Number :  27\n",
      "[['book', []], ['fcc', []]]\n",
      "Combining Features and Descriptors\n",
      "Features for Review 1\n",
      "['book', []]\n",
      "Updating Count\n",
      "['fcc', []]\n",
      "Updating Count\n",
      "\n",
      "Review Number :  28\n"
     ]
    },
    {
     "name": "stderr",
     "output_type": "stream",
     "text": [
      "\r",
      " 14%|███████████▋                                                                     | 29/200 [00:39<01:46,  1.61it/s]"
     ]
    },
    {
     "name": "stdout",
     "output_type": "stream",
     "text": [
      "[['just', ['go']], ['time', ['go']], ['better', ['go']], ['nothingcause', ['do']], ['octtill', []], ['window', []], ['till', []], ['week', []], ['feb', []], ['more', ['which']], ['enough', []], ['once', ['attend']]]\n",
      "Combining Features and Descriptors\n",
      "Features for Review 1\n",
      "['just', ['go']]\n",
      "Updating Count\n",
      "['time', ['go']]\n",
      "Updating Count\n",
      "['better', ['go']]\n",
      "Updating Count\n",
      "['nothingcause', ['do']]\n",
      "Updating Count\n",
      "['octtill', []]\n",
      "Updating Count\n",
      "['window', []]\n",
      "Updating Count\n",
      "['till', []]\n",
      "Updating Count\n",
      "['week', []]\n",
      "Updating Count\n",
      "['feb', []]\n",
      "Updating Count\n",
      "['more', ['which']]\n",
      "Updating Count\n",
      "['enough', []]\n",
      "Updating Count\n",
      "['once', ['attend']]\n",
      "Updating Count\n",
      "\n",
      "Review Number :  29\n"
     ]
    },
    {
     "name": "stderr",
     "output_type": "stream",
     "text": [
      "\r",
      " 15%|████████████▏                                                                    | 30/200 [00:40<01:35,  1.78it/s]"
     ]
    },
    {
     "name": "stdout",
     "output_type": "stream",
     "text": [
      "[['still', ['have']], ['rt', ['complete']], ['next', ['cycle']], ['cycle', ['next', 'complete']]]\n",
      "[]\n",
      "Combining Features and Descriptors\n",
      "Features for Review 1\n",
      "['still', ['have']]\n",
      "Updating Count\n",
      "['rt', ['complete']]\n",
      "Updating Count\n",
      "['next', ['cycle']]\n",
      "Updating Count\n",
      "['cycle', ['next', 'complete']]\n",
      "Updating Count\n",
      "Features for Review 2\n",
      "\n",
      "Review Number :  30\n",
      "[['anyone', ['know']], ['service', ['pay']], ['pay', ['service']]]\n",
      "[]\n"
     ]
    },
    {
     "name": "stderr",
     "output_type": "stream",
     "text": [
      "\r",
      " 16%|████████████▌                                                                    | 31/200 [00:41<01:50,  1.53it/s]"
     ]
    },
    {
     "name": "stdout",
     "output_type": "stream",
     "text": [
      "[['ipt', ['attend']], ['days', []]]\n",
      "Combining Features and Descriptors\n",
      "Features for Review 1\n",
      "['anyone', ['know']]\n",
      "Updating Count\n",
      "['service', ['pay']]\n",
      "Updating Count\n",
      "['pay', ['service']]\n",
      "Updating Count\n",
      "Features for Review 2\n",
      "Features for Review 3\n",
      "['ipt', ['attend']]\n",
      "Updating Count\n",
      "['days', []]\n",
      "Updating Count\n",
      "\n",
      "Review Number :  31\n",
      "[['i', ['received']], ['long', ['medals']], ['service', ['medals']], ['medals', ['long', 'service', 'received']]]\n"
     ]
    },
    {
     "name": "stderr",
     "output_type": "stream",
     "text": [
      "\r",
      " 16%|████████████▉                                                                    | 32/200 [00:41<01:44,  1.60it/s]"
     ]
    },
    {
     "name": "stdout",
     "output_type": "stream",
     "text": [
      "[]\n",
      "Combining Features and Descriptors\n",
      "Features for Review 1\n",
      "['i', ['received']]\n",
      "Updating Count\n",
      "['long', ['medals']]\n",
      "Updating Count\n",
      "['service', ['medals']]\n",
      "Updating Count\n",
      "['medals', ['long', 'service', 'received']]\n",
      "Updating Count\n",
      "Features for Review 2\n",
      "\n",
      "Review Number :  32\n"
     ]
    },
    {
     "name": "stderr",
     "output_type": "stream",
     "text": [
      "\r",
      " 16%|█████████████▎                                                                   | 33/200 [00:42<02:04,  1.34it/s]"
     ]
    },
    {
     "name": "stdout",
     "output_type": "stream",
     "text": [
      "[['btw', []], ['safragym', []], ['members', []], ['non', []], ['members', []], ['https', ['pay']], ['__wwwnssg_web_portal_nsmen_hbhiitsafragym', []], ['https', ['pay']], ['__wwwnssg_web_portal_nsmen_hbhiitsafragym', []]]\n",
      "Combining Features and Descriptors\n",
      "Features for Review 1\n",
      "['btw', []]\n",
      "Updating Count\n",
      "['safragym', []]\n",
      "Updating Count\n",
      "['members', []]\n",
      "Updating Count\n",
      "['non', []]\n",
      "Updating Count\n",
      "['members', []]\n",
      "Updating Count\n",
      "['https', ['pay']]\n",
      "Updating Count\n",
      "['__wwwnssg_web_portal_nsmen_hbhiitsafragym', []]\n",
      "Updating Count\n",
      "['https', ['pay']]\n",
      "Updating Count\n",
      "['__wwwnssg_web_portal_nsmen_hbhiitsafragym', []]\n",
      "Updating Count\n",
      "\n",
      "Review Number :  33\n",
      "[['marina', ['citygallery']], ['citygallery', ['marina', 'bayhttps']], ['marina', ['citygallery']], ['bayhttps', ['citygallery', '__wwwnssg_web_wcm_connect_nsycitygalleryhttps']], ['__wwwnssg_web_wcm_connect_nsycitygalleryhttps', ['bayhttps']], ['__wwwnssg_web_wcm_connect_nsycitygallery', []], ['honestly', ['speaking']], [\"n't\", ['is']], ['easily', ['is']], ['info', ['avail', 'is']], ['location', []], ['iptinthepark', []]]\n"
     ]
    },
    {
     "name": "stderr",
     "output_type": "stream",
     "text": [
      "\r",
      " 17%|█████████████▊                                                                   | 34/200 [00:44<02:46,  1.00s/it]"
     ]
    },
    {
     "name": "stdout",
     "output_type": "stream",
     "text": [
      "[['feedback', ['necessary']], ['portal', ['ns']], ['necessary', ['feedback']]]\n",
      "Combining Features and Descriptors\n",
      "Features for Review 1\n",
      "['marina', ['citygallery']]\n",
      "Updating Count\n",
      "['citygallery', ['marina', 'bayhttps']]\n",
      "Updating Count\n",
      "['marina', ['citygallery']]\n",
      "Updating Count\n",
      "['bayhttps', ['citygallery', '__wwwnssg_web_wcm_connect_nsycitygalleryhttps']]\n",
      "Updating Count\n",
      "['__wwwnssg_web_wcm_connect_nsycitygalleryhttps', ['bayhttps']]\n",
      "Updating Count\n",
      "['__wwwnssg_web_wcm_connect_nsycitygallery', []]\n",
      "Updating Count\n",
      "['honestly', ['speaking']]\n",
      "Updating Count\n",
      "[\"n't\", ['is']]\n",
      "Updating Count\n",
      "['easily', ['is']]\n",
      "Updating Count\n",
      "['info', ['avail', 'is']]\n",
      "Updating Count\n",
      "['location', []]\n",
      "Updating Count\n",
      "['iptinthepark', []]\n",
      "Updating Count\n",
      "Features for Review 2\n",
      "['feedback', ['necessary']]\n",
      "Updating Count\n",
      "['portal', ['ns']]\n",
      "Updating Count\n",
      "['necessary', ['feedback']]\n",
      "Updating Count\n",
      "\n",
      "Review Number :  34\n",
      "[['rt', ['cleared']]]\n",
      "[['needwait', ['start']], ['bday', []], ['feb', []], ['then', ['start']], ['ipt', ['booking']]]\n"
     ]
    },
    {
     "name": "stderr",
     "output_type": "stream",
     "text": [
      "\r",
      " 18%|██████████████▏                                                                  | 35/200 [00:45<02:46,  1.01s/it]"
     ]
    },
    {
     "name": "stdout",
     "output_type": "stream",
     "text": [
      "[['cozonline', ['seems']], ['book', ['le']]]\n",
      "Combining Features and Descriptors\n",
      "Features for Review 1\n",
      "['rt', ['cleared']]\n",
      "Updating Count\n",
      "Features for Review 2\n",
      "['needwait', ['start']]\n",
      "Updating Count\n",
      "['bday', []]\n",
      "Updating Count\n",
      "['feb', []]\n",
      "Updating Count\n",
      "['then', ['start']]\n",
      "Updating Count\n",
      "['ipt', ['booking']]\n",
      "Updating Count\n",
      "Features for Review 3\n",
      "['cozonline', ['seems']]\n",
      "Updating Count\n",
      "['book', ['le']]\n",
      "Updating Count\n",
      "\n",
      "Review Number :  35\n",
      "[['i', ['got']], ['qn', ['got']], ['ippt', []]]\n",
      "[['i', ['old']], ['years', []], ['old', ['i']]]\n",
      "[['i', ['did', 'get']], ['bloodtest', ['did']], ['already', ['did']], ['however', ['get']], ['i', ['did', 'get']], ['not', ['get']], ['medical', ['review']], ['review', ['medical']], ['hspcert', ['get']]]\n",
      "[['still', ['go']], ['ippt', ['take']]]\n",
      "[['cert', ['present']]]\n",
      "[['please', []]]\n"
     ]
    },
    {
     "name": "stderr",
     "output_type": "stream",
     "text": [
      "\r",
      " 18%|██████████████▌                                                                  | 36/200 [00:47<03:44,  1.37s/it]"
     ]
    },
    {
     "name": "stdout",
     "output_type": "stream",
     "text": [
      "[['thank', ['you']]]\n",
      "Combining Features and Descriptors\n",
      "Features for Review 1\n",
      "['i', ['got']]\n",
      "Updating Count\n",
      "['qn', ['got']]\n",
      "Updating Count\n",
      "['ippt', []]\n",
      "Updating Count\n",
      "Features for Review 2\n",
      "['i', ['old']]\n",
      "Updating Count\n",
      "['years', []]\n",
      "Updating Count\n",
      "['old', ['i']]\n",
      "Updating Count\n",
      "Features for Review 3\n",
      "['i', ['did', 'get']]\n",
      "Updating Count\n",
      "['bloodtest', ['did']]\n",
      "Updating Count\n",
      "['already', ['did']]\n",
      "Updating Count\n",
      "['however', ['get']]\n",
      "Updating Count\n",
      "['i', ['did', 'get']]\n",
      "Updating Count\n",
      "['not', ['get']]\n",
      "Updating Count\n",
      "['medical', ['review']]\n",
      "Updating Count\n",
      "['review', ['medical']]\n",
      "Updating Count\n",
      "['hspcert', ['get']]\n",
      "Updating Count\n",
      "Features for Review 4\n",
      "['still', ['go']]\n",
      "Updating Count\n",
      "['ippt', ['take']]\n",
      "Updating Count\n",
      "Features for Review 5\n",
      "['cert', ['present']]\n",
      "Updating Count\n",
      "Features for Review 6\n",
      "['please', []]\n",
      "Updating Count\n",
      "Features for Review 7\n",
      "['thank', ['you']]\n",
      "Updating Count\n",
      "\n",
      "Review Number :  36\n",
      "[['aiya', []], ['till', []], ['now', ['unable']], ['still', ['unable']], ['unable', ['now', 'still', 'select']], ['slot', ['select']], ['ipt', []], ['so', ['forget']]]\n",
      "[['ah', ['sir']], ['sir', ['ah', 'say']], ['time', ['attend']], ['first', ['attend']], ['rest', ['see']], ['wat', ['said']], ['s8', ['said']]]\n",
      "[['gdla', ['pass']]]\n"
     ]
    },
    {
     "name": "stderr",
     "output_type": "stream",
     "text": [
      "\r",
      " 18%|██████████████▉                                                                  | 37/200 [00:49<03:57,  1.45s/it]"
     ]
    },
    {
     "name": "stdout",
     "output_type": "stream",
     "text": [
      "[['fail', ['bo']], ['bo', ['fail']], ['bian', []], ['lor', []]]\n",
      "Combining Features and Descriptors\n",
      "Features for Review 1\n",
      "['aiya', []]\n",
      "Updating Count\n",
      "['till', []]\n",
      "Updating Count\n",
      "['now', ['unable']]\n",
      "Updating Count\n",
      "['still', ['unable']]\n",
      "Updating Count\n",
      "['unable', ['now', 'still', 'select']]\n",
      "Updating Count\n",
      "['slot', ['select']]\n",
      "Updating Count\n",
      "['ipt', []]\n",
      "Updating Count\n",
      "['so', ['forget']]\n",
      "Updating Count\n",
      "Features for Review 2\n",
      "['ah', ['sir']]\n",
      "Updating Count\n",
      "['sir', ['ah', 'say']]\n",
      "Updating Count\n",
      "['time', ['attend']]\n",
      "Updating Count\n",
      "['first', ['attend']]\n",
      "Updating Count\n",
      "['rest', ['see']]\n",
      "Updating Count\n",
      "['wat', ['said']]\n",
      "Updating Count\n",
      "['s8', ['said']]\n",
      "Updating Count\n",
      "Features for Review 3\n",
      "['gdla', ['pass']]\n",
      "Updating Count\n",
      "Features for Review 4\n",
      "['fail', ['bo']]\n",
      "Updating Count\n",
      "['bo', ['fail']]\n",
      "Updating Count\n",
      "['bian', []]\n",
      "Updating Count\n",
      "['lor', []]\n",
      "Updating Count\n",
      "\n",
      "Review Number :  37\n",
      "[['ipt', ['complete']], ['jog', []]]\n"
     ]
    },
    {
     "name": "stderr",
     "output_type": "stream",
     "text": [
      "\r",
      " 19%|███████████████▍                                                                 | 38/200 [00:50<03:34,  1.32s/it]"
     ]
    },
    {
     "name": "stdout",
     "output_type": "stream",
     "text": [
      "[['non', ['ictippt']], ['ictippt', ['non']], ['run', []]]\n",
      "Combining Features and Descriptors\n",
      "Features for Review 1\n",
      "['ipt', ['complete']]\n",
      "Updating Count\n",
      "['jog', []]\n",
      "Updating Count\n",
      "Features for Review 2\n",
      "['non', ['ictippt']]\n",
      "Updating Count\n",
      "['ictippt', ['non']]\n",
      "Updating Count\n",
      "['run', []]\n",
      "Updating Count\n",
      "\n",
      "Review Number :  38\n",
      "[['kind', ['count']], ['activities', []], ['orns', []]]\n"
     ]
    },
    {
     "name": "stderr",
     "output_type": "stream",
     "text": [
      "\r",
      " 20%|███████████████▊                                                                 | 39/200 [00:50<03:08,  1.17s/it]"
     ]
    },
    {
     "name": "stdout",
     "output_type": "stream",
     "text": [
      "[['i', ['haven', 'completed']], ['’', []], ['t', ['haven']], ['single', ['ict']], ['ict', ['single', 'done']], ['i', ['haven', 'completed']], ['orns', ['year']], ['year', ['orns']]]\n",
      "Combining Features and Descriptors\n",
      "Features for Review 1\n",
      "['kind', ['count']]\n",
      "Updating Count\n",
      "['activities', []]\n",
      "Updating Count\n",
      "['orns', []]\n",
      "Updating Count\n",
      "Features for Review 2\n",
      "['i', ['haven', 'completed']]\n",
      "Updating Count\n",
      "['’', []]\n",
      "Updating Count\n",
      "['t', ['haven']]\n",
      "Updating Count\n",
      "['single', ['ict']]\n",
      "Updating Count\n",
      "['ict', ['single', 'done']]\n",
      "Updating Count\n",
      "['i', ['haven', 'completed']]\n",
      "Updating Count\n",
      "['orns', ['year']]\n",
      "Updating Count\n",
      "['year', ['orns']]\n",
      "Updating Count\n",
      "\n",
      "Review Number :  39\n",
      "[['oc', ['told']], ['tues', []], ['rt', ['more']]]\n"
     ]
    },
    {
     "name": "stderr",
     "output_type": "stream",
     "text": [
      "\r",
      " 20%|████████████████▏                                                                | 40/200 [00:51<02:46,  1.04s/it]"
     ]
    },
    {
     "name": "stdout",
     "output_type": "stream",
     "text": [
      "[['minister', []], ['new', ['programme']], ['programme', ['new', 'announce']]]\n",
      "Combining Features and Descriptors\n",
      "Features for Review 1\n",
      "['oc', ['told']]\n",
      "Updating Count\n",
      "['tues', []]\n",
      "Updating Count\n",
      "['rt', ['more']]\n",
      "Updating Count\n",
      "Features for Review 2\n",
      "['minister', []]\n",
      "Updating Count\n",
      "['new', ['programme']]\n",
      "Updating Count\n",
      "['programme', ['new', 'announce']]\n",
      "Updating Count\n",
      "\n",
      "Review Number :  40\n"
     ]
    },
    {
     "name": "stderr",
     "output_type": "stream",
     "text": [
      "\r",
      " 20%|████████████████▌                                                                | 41/200 [00:52<02:35,  1.02it/s]"
     ]
    },
    {
     "name": "stdout",
     "output_type": "stream",
     "text": [
      "[['once', []], ['sessions', ['finish']], ['ipt', []], ['iptippt', []], ['requirements', ['fulfilled']], ['window', []]]\n",
      "Combining Features and Descriptors\n",
      "Features for Review 1\n",
      "['once', []]\n",
      "Updating Count\n",
      "['sessions', ['finish']]\n",
      "Updating Count\n",
      "['ipt', []]\n",
      "Updating Count\n",
      "['iptippt', []]\n",
      "Updating Count\n",
      "['requirements', ['fulfilled']]\n",
      "Updating Count\n",
      "['window', []]\n",
      "Updating Count\n",
      "\n",
      "Review Number :  41\n",
      "[['guess', ['falls']], ['birthday', ['falls']], ['aug', ['year']], ['year', ['10th', 'aug', 'required']], ['aug', ['year']], ['aug', ['year']], ['ippt', []], ['year', ['10th', 'aug', 'required']], ['aug', ['year']], ['aug', ['year']], ['ippt', []], ['so', ['based']], ['ipptwindow', []], ['birthday', ['falls']]]\n",
      "[['n', []], ['post', ['refers']], ['refers', ['post']], ['year', ['ipptwindow', 'next', 'ipptwindow']], ['ipptwindow', ['year', 'is', 'year']], ['next', ['year']], ['year', ['ipptwindow', 'next', 'ipptwindow']]]\n",
      "[['more', ['365']], ['days', ['slight', 'have']], ['window', ['complete']]]\n"
     ]
    },
    {
     "name": "stderr",
     "output_type": "stream",
     "text": [
      "\r",
      " 21%|█████████████████                                                                | 42/200 [00:55<03:51,  1.47s/it]"
     ]
    },
    {
     "name": "stdout",
     "output_type": "stream",
     "text": [
      "[['there', []]]\n",
      "Combining Features and Descriptors\n",
      "Features for Review 1\n",
      "['guess', ['falls']]\n",
      "Updating Count\n",
      "['birthday', ['falls']]\n",
      "Updating Count\n",
      "['aug', ['year']]\n",
      "Updating Count\n",
      "['year', ['10th', 'aug', 'required']]\n",
      "Updating Count\n",
      "['aug', ['year']]\n",
      "Updating Count\n",
      "['aug', ['year']]\n",
      "Updating Count\n",
      "['ippt', []]\n",
      "Updating Count\n",
      "['year', ['10th', 'aug', 'required']]\n",
      "Updating Count\n",
      "['aug', ['year']]\n",
      "Updating Count\n",
      "['aug', ['year']]\n",
      "Updating Count\n",
      "['ippt', []]\n",
      "Updating Count\n",
      "['so', ['based']]\n",
      "Updating Count\n",
      "['ipptwindow', []]\n",
      "Updating Count\n",
      "['birthday', ['falls']]\n",
      "Updating Count\n",
      "Features for Review 2\n",
      "['n', []]\n",
      "Updating Count\n",
      "['post', ['refers']]\n",
      "Updating Count\n",
      "['refers', ['post']]\n",
      "Updating Count\n",
      "['year', ['ipptwindow', 'next', 'ipptwindow']]\n",
      "Updating Count\n",
      "['ipptwindow', ['year', 'is', 'year']]\n",
      "Updating Count\n",
      "['next', ['year']]\n",
      "Updating Count\n",
      "['year', ['ipptwindow', 'next', 'ipptwindow']]\n",
      "Updating Count\n",
      "Features for Review 3\n",
      "['more', ['365']]\n",
      "Updating Count\n",
      "['days', ['slight', 'have']]\n",
      "Updating Count\n",
      "['window', ['complete']]\n",
      "Updating Count\n",
      "Features for Review 4\n",
      "['there', []]\n",
      "Updating Count\n",
      "\n",
      "Review Number :  42\n"
     ]
    },
    {
     "name": "stderr",
     "output_type": "stream",
     "text": [
      "\r",
      " 22%|█████████████████▍                                                               | 43/200 [00:55<02:59,  1.14s/it]"
     ]
    },
    {
     "name": "stdout",
     "output_type": "stream",
     "text": [
      "[['ok', ['thanks']], ['thanks', ['ok']], ['nightmare', []], ['gagt', ['using']]]\n",
      "Combining Features and Descriptors\n",
      "Features for Review 1\n",
      "['ok', ['thanks']]\n",
      "Updating Count\n",
      "['thanks', ['ok']]\n",
      "Updating Count\n",
      "['nightmare', []]\n",
      "Updating Count\n",
      "['gagt', ['using']]\n",
      "Updating Count\n",
      "\n",
      "Review Number :  43\n",
      "[['really', ['missed']], ['day', ['missed']], ['nsf', []], ['early', ['do']], ['bx', ['wake']], ['arbo', ['jog']], ['jog', ['arbo']], ['exercise', []], ['wooden', ['log']], ['log', ['wooden']]]\n"
     ]
    },
    {
     "name": "stderr",
     "output_type": "stream",
     "text": [
      "\r",
      " 22%|█████████████████▊                                                               | 44/200 [00:57<03:47,  1.46s/it]"
     ]
    },
    {
     "name": "stdout",
     "output_type": "stream",
     "text": [
      "[['else', ['go']], ['lumber', []], ['selarang', ['pools']], ['pools', ['selarang']], ['lap', []], ['day', []], ['self', ['script']], ['script', ['self', 'digging']], ['trenches', []], ['sitassault', ['assaultboat']], ['assaultboat', ['sitassault']], ['seafollow', []], ['formation', []], ['once', ['finish']], ['finish', ['once', 'next', 'carry']], ['next', ['finish']], ['carry', ['finish', 'boat', 'back']], ['boat', ['carry']], ['back', ['carry', 'returning']], ['back', ['carry', 'returning']], ['boatman', []]]\n",
      "Combining Features and Descriptors\n",
      "Features for Review 1\n",
      "['really', ['missed']]\n",
      "Updating Count\n",
      "['day', ['missed']]\n",
      "Updating Count\n",
      "['nsf', []]\n",
      "Updating Count\n",
      "['early', ['do']]\n",
      "Updating Count\n",
      "['bx', ['wake']]\n",
      "Updating Count\n",
      "['arbo', ['jog']]\n",
      "Updating Count\n",
      "['jog', ['arbo']]\n",
      "Updating Count\n",
      "['exercise', []]\n",
      "Updating Count\n",
      "['wooden', ['log']]\n",
      "Updating Count\n",
      "['log', ['wooden']]\n",
      "Updating Count\n",
      "Features for Review 2\n",
      "['else', ['go']]\n",
      "Updating Count\n",
      "['lumber', []]\n",
      "Updating Count\n",
      "['selarang', ['pools']]\n",
      "Updating Count\n",
      "['pools', ['selarang']]\n",
      "Updating Count\n",
      "['lap', []]\n",
      "Updating Count\n",
      "['day', []]\n",
      "Updating Count\n",
      "['self', ['script']]\n",
      "Updating Count\n",
      "['script', ['self', 'digging']]\n",
      "Updating Count\n",
      "['trenches', []]\n",
      "Updating Count\n",
      "['sitassault', ['assaultboat']]\n",
      "Updating Count\n",
      "['assaultboat', ['sitassault']]\n",
      "Updating Count\n",
      "['seafollow', []]\n",
      "Updating Count\n",
      "['formation', []]\n",
      "Updating Count\n",
      "['once', ['finish']]\n",
      "Updating Count\n",
      "['finish', ['once', 'next', 'carry']]\n",
      "Updating Count\n",
      "['next', ['finish']]\n",
      "Updating Count\n",
      "['carry', ['finish', 'boat', 'back']]\n",
      "Updating Count\n",
      "['boat', ['carry']]\n",
      "Updating Count\n",
      "['back', ['carry', 'returning']]\n",
      "Updating Count\n",
      "['back', ['carry', 'returning']]\n",
      "Updating Count\n",
      "['boatman', []]\n",
      "Updating Count\n",
      "\n",
      "Review Number :  44\n"
     ]
    },
    {
     "name": "stderr",
     "output_type": "stream",
     "text": [
      "\r",
      " 22%|██████████████████▏                                                              | 45/200 [00:58<02:54,  1.12s/it]"
     ]
    },
    {
     "name": "stdout",
     "output_type": "stream",
     "text": [
      "[['credit', ['when', 'they']], ['bankaccount', []]]\n",
      "Combining Features and Descriptors\n",
      "Features for Review 1\n",
      "['credit', ['when', 'they']]\n",
      "Updating Count\n",
      "['bankaccount', []]\n",
      "Updating Count\n",
      "\n",
      "Review Number :  45\n"
     ]
    },
    {
     "name": "stderr",
     "output_type": "stream",
     "text": [
      "\r",
      " 23%|██████████████████▋                                                              | 46/200 [00:58<02:17,  1.12it/s]"
     ]
    },
    {
     "name": "stdout",
     "output_type": "stream",
     "text": [
      "[['oic', ['better']], ['much', ['better']], ['better', ['oic', 'that', 'much']], ['last', ['timeliao']], ['timeliao', ['last']]]\n",
      "Combining Features and Descriptors\n",
      "Features for Review 1\n",
      "['oic', ['better']]\n",
      "Updating Count\n",
      "['much', ['better']]\n",
      "Updating Count\n",
      "['better', ['oic', 'that', 'much']]\n",
      "Updating Count\n",
      "['last', ['timeliao']]\n",
      "Updating Count\n",
      "['timeliao', ['last']]\n",
      "Updating Count\n",
      "\n",
      "Review Number :  46\n",
      "[['iptsession', []], ['sessiontoday', []], ['just', ['received']], ['sms', ['received']]]\n",
      "[['bday', ['may']]]\n",
      "[['i', ['planned', 'unable']], ['feb', []], ['due', []], ['unable', ['i', 'book']], ['book', ['unable', 'sessions']], ['sessions', ['book']]]\n",
      "[['just', ['want']], ['i', ['clear', 'managed']], [\"n't\", ['clear']], ['clear', ['i', \"n't\", 'ipt']], ['ipt', ['clear']], ['window', ['next', 'n', 'closes']], ['next', ['window']], ['window', ['next', 'n', 'closes']], ['n', ['window']], ['sessions', ['attend']], ['window', ['next', 'n', 'closes']], ['closes', ['window']], ['=', ['20', '3']]]\n",
      "[['ibook', []], ['rt', []], ['week', []]]\n",
      "[['ippt', []]]\n",
      "[['i', ['clear']], ['window', ['clear']], ['rt', ['attending']]]\n",
      "[['once', []], ['i', ['booked', 'have', 'absent']], ['rt', ['booked']], ['i', ['booked', 'have', 'absent']], ['still', ['have']], ['flexibility', ['have']], ['ipt', ['absent']], ['i', ['booked', 'have', 'absent']], ['session', []], ['due', []]]\n",
      "[['thank', ['you']]]\n",
      "Combining Features and Descriptors\n",
      "Features for Review 1\n",
      "['iptsession', []]\n",
      "Updating Count\n",
      "['sessiontoday', []]\n",
      "Updating Count\n",
      "['just', ['received']]\n",
      "Updating Count\n",
      "['sms', ['received']]\n",
      "Updating Count\n",
      "Features for Review 2\n",
      "['bday', ['may']]\n",
      "Updating Count\n",
      "Features for Review 3\n",
      "['i', ['planned', 'unable']]\n",
      "Updating Count\n",
      "['feb', []]\n",
      "Updating Count\n",
      "['due', []]\n",
      "Updating Count\n",
      "['unable', ['i', 'book']]\n",
      "Updating Count\n",
      "['book', ['unable', 'sessions']]\n",
      "Updating Count\n",
      "['sessions', ['book']]\n",
      "Updating Count\n",
      "Features for Review 4\n",
      "['just', ['want']]\n",
      "Updating Count\n",
      "['i', ['clear', 'managed']]\n",
      "Updating Count\n",
      "[\"n't\", ['clear']]\n",
      "Updating Count\n",
      "['clear', ['i', \"n't\", 'ipt']]\n",
      "Updating Count\n",
      "['ipt', ['clear']]\n",
      "Updating Count\n",
      "['window', ['next', 'n', 'closes']]\n",
      "Updating Count\n",
      "['next', ['window']]\n",
      "Updating Count\n",
      "['window', ['next', 'n', 'closes']]\n",
      "Updating Count\n",
      "['n', ['window']]\n",
      "Updating Count\n",
      "['sessions', ['attend']]\n",
      "Updating Count\n",
      "['window', ['next', 'n', 'closes']]\n",
      "Updating Count\n",
      "['closes', ['window']]\n",
      "Updating Count\n",
      "['=', ['20', '3']]\n",
      "Updating Count\n",
      "Features for Review 5\n",
      "['ibook', []]\n",
      "Updating Count\n",
      "['rt', []]\n",
      "Updating Count\n",
      "['week', []]\n",
      "Updating Count\n",
      "Features for Review 6\n",
      "['ippt', []]\n",
      "Updating Count\n"
     ]
    },
    {
     "name": "stderr",
     "output_type": "stream",
     "text": [
      "\r",
      " 24%|███████████████████                                                              | 47/200 [01:02<04:56,  1.94s/it]"
     ]
    },
    {
     "name": "stdout",
     "output_type": "stream",
     "text": [
      "Features for Review 7\n",
      "['i', ['clear']]\n",
      "Updating Count\n",
      "['window', ['clear']]\n",
      "Updating Count\n",
      "['rt', ['attending']]\n",
      "Updating Count\n",
      "Features for Review 8\n",
      "['once', []]\n",
      "Updating Count\n",
      "['i', ['booked', 'have', 'absent']]\n",
      "Updating Count\n",
      "['rt', ['booked']]\n",
      "Updating Count\n",
      "['i', ['booked', 'have', 'absent']]\n",
      "Updating Count\n",
      "['still', ['have']]\n",
      "Updating Count\n",
      "['flexibility', ['have']]\n",
      "Updating Count\n",
      "['ipt', ['absent']]\n",
      "Updating Count\n",
      "['i', ['booked', 'have', 'absent']]\n",
      "Updating Count\n",
      "['session', []]\n",
      "Updating Count\n",
      "['due', []]\n",
      "Updating Count\n",
      "Features for Review 9\n",
      "['thank', ['you']]\n",
      "Updating Count\n",
      "\n",
      "Review Number :  47\n"
     ]
    },
    {
     "name": "stderr",
     "output_type": "stream",
     "text": [
      "\r",
      " 24%|███████████████████▍                                                             | 48/200 [01:03<04:06,  1.62s/it]"
     ]
    },
    {
     "name": "stdout",
     "output_type": "stream",
     "text": [
      "[['even', ['have']], ['still', ['liability']], ['liability', ['we', 'still']], ['age', []], ['wose', []], ['officer', ['year']], ['year', ['officer', 'old']], ['old', ['year']]]\n",
      "Combining Features and Descriptors\n",
      "Features for Review 1\n",
      "['even', ['have']]\n",
      "Updating Count\n",
      "['still', ['liability']]\n",
      "Updating Count\n",
      "['liability', ['we', 'still']]\n",
      "Updating Count\n",
      "['age', []]\n",
      "Updating Count\n",
      "['wose', []]\n",
      "Updating Count\n",
      "['officer', ['year']]\n",
      "Updating Count\n",
      "['year', ['officer', 'old']]\n",
      "Updating Count\n",
      "['old', ['year']]\n",
      "Updating Count\n",
      "\n",
      "Review Number :  48\n",
      "[['ya', []], ['i', ['booked']], ['ipt', []], ['sessions', ['booked']], ['now', []]]\n"
     ]
    },
    {
     "name": "stderr",
     "output_type": "stream",
     "text": [
      "\r",
      " 24%|███████████████████▊                                                             | 49/200 [01:04<03:30,  1.39s/it]"
     ]
    },
    {
     "name": "stdout",
     "output_type": "stream",
     "text": [
      "[['lot', []], ['slots', []], ['cos', ['opened']], ['new', ['fit']], ['fit', ['new', 'thing']], ['thing', ['fit']], ['ur', []], ['luck', ['try']]]\n",
      "Combining Features and Descriptors\n",
      "Features for Review 1\n",
      "['ya', []]\n",
      "Updating Count\n",
      "['i', ['booked']]\n",
      "Updating Count\n",
      "['ipt', []]\n",
      "Updating Count\n",
      "['sessions', ['booked']]\n",
      "Updating Count\n",
      "['now', []]\n",
      "Updating Count\n",
      "Features for Review 2\n",
      "['lot', []]\n",
      "Updating Count\n",
      "['slots', []]\n",
      "Updating Count\n",
      "['cos', ['opened']]\n",
      "Updating Count\n",
      "['new', ['fit']]\n",
      "Updating Count\n",
      "['fit', ['new', 'thing']]\n",
      "Updating Count\n",
      "['thing', ['fit']]\n",
      "Updating Count\n",
      "['ur', []]\n",
      "Updating Count\n",
      "['luck', ['try']]\n",
      "Updating Count\n",
      "\n",
      "Review Number :  49\n",
      "[['yea', []]]\n"
     ]
    },
    {
     "name": "stderr",
     "output_type": "stream",
     "text": [
      "\r",
      " 25%|████████████████████▎                                                            | 50/200 [01:05<02:49,  1.13s/it]"
     ]
    },
    {
     "name": "stdout",
     "output_type": "stream",
     "text": [
      "[['i', ['do']], ['always', ['do']], ['previously', ['do']]]\n",
      "Combining Features and Descriptors\n",
      "Features for Review 1\n",
      "['yea', []]\n",
      "Updating Count\n",
      "Features for Review 2\n",
      "['i', ['do']]\n",
      "Updating Count\n",
      "['always', ['do']]\n",
      "Updating Count\n",
      "['previously', ['do']]\n",
      "Updating Count\n",
      "\n",
      "Review Number :  50\n",
      "[['long', ['time']], ['time', ['long']], ['big', ['rounds']], ['rounds', ['ago', 'it', 'big']], ['part', []], ['camp', []], ['then', ['changed']], ['indoorcarpark', ['ground']], ['track', ['ground']], ['hard', ['ground']], ['ground', ['indoorcarpark', 'track', 'hard']], ['rubbertrack', []], ['cushion', []], [\"n't\", ['think']]]\n"
     ]
    },
    {
     "name": "stderr",
     "output_type": "stream",
     "text": [
      "\r",
      " 26%|████████████████████▋                                                            | 51/200 [01:06<03:14,  1.30s/it]"
     ]
    },
    {
     "name": "stdout",
     "output_type": "stream",
     "text": [
      "[['so', ['breathing']], ['yea', []], ['probably', ['breathing']], ['dust', []], ['staleair', []], ['rounds', []]]\n",
      "Combining Features and Descriptors\n",
      "Features for Review 1\n",
      "['long', ['time']]\n",
      "Updating Count\n",
      "['time', ['long']]\n",
      "Updating Count\n",
      "['big', ['rounds']]\n",
      "Updating Count\n",
      "['rounds', ['ago', 'it', 'big']]\n",
      "Updating Count\n",
      "['part', []]\n",
      "Updating Count\n",
      "['camp', []]\n",
      "Updating Count\n",
      "['then', ['changed']]\n",
      "Updating Count\n",
      "['indoorcarpark', ['ground']]\n",
      "Updating Count\n",
      "['track', ['ground']]\n",
      "Updating Count\n",
      "['hard', ['ground']]\n",
      "Updating Count\n",
      "['ground', ['indoorcarpark', 'track', 'hard']]\n",
      "Updating Count\n",
      "['rubbertrack', []]\n",
      "Updating Count\n",
      "['cushion', []]\n",
      "Updating Count\n",
      "[\"n't\", ['think']]\n",
      "Updating Count\n",
      "Features for Review 2\n",
      "['so', ['breathing']]\n",
      "Updating Count\n",
      "['yea', []]\n",
      "Updating Count\n",
      "['probably', ['breathing']]\n",
      "Updating Count\n",
      "['dust', []]\n",
      "Updating Count\n",
      "['staleair', []]\n",
      "Updating Count\n",
      "['rounds', []]\n",
      "Updating Count\n",
      "\n",
      "Review Number :  51\n"
     ]
    },
    {
     "name": "stderr",
     "output_type": "stream",
     "text": [
      "\r",
      " 26%|█████████████████████                                                            | 52/200 [01:07<02:33,  1.04s/it]"
     ]
    },
    {
     "name": "stdout",
     "output_type": "stream",
     "text": [
      "[['means', []], ['again', ['follow']], ['just', ['follow']], ['lor', []]]\n",
      "Combining Features and Descriptors\n",
      "Features for Review 1\n",
      "['means', []]\n",
      "Updating Count\n",
      "['again', ['follow']]\n",
      "Updating Count\n",
      "['just', ['follow']]\n",
      "Updating Count\n",
      "['lor', []]\n",
      "Updating Count\n",
      "\n",
      "Review Number :  52\n",
      "[['yes', []], ['just', ['went']], ['there', ['went']], ['weeks', []], ['ago', ['went']], ['ippt', []]]\n"
     ]
    },
    {
     "name": "stderr",
     "output_type": "stream",
     "text": [
      "\r",
      " 26%|█████████████████████▍                                                           | 53/200 [01:07<02:18,  1.06it/s]"
     ]
    },
    {
     "name": "stdout",
     "output_type": "stream",
     "text": [
      "[['usemachine', ['push']]]\n",
      "Combining Features and Descriptors\n",
      "Features for Review 1\n",
      "['yes', []]\n",
      "Updating Count\n",
      "['just', ['went']]\n",
      "Updating Count\n",
      "['there', ['went']]\n",
      "Updating Count\n",
      "['weeks', []]\n",
      "Updating Count\n",
      "['ago', ['went']]\n",
      "Updating Count\n",
      "['ippt', []]\n",
      "Updating Count\n",
      "Features for Review 2\n",
      "['usemachine', ['push']]\n",
      "Updating Count\n",
      "\n",
      "Review Number :  53\n"
     ]
    },
    {
     "name": "stderr",
     "output_type": "stream",
     "text": [
      "\r",
      " 27%|█████████████████████▊                                                           | 54/200 [01:08<01:53,  1.29it/s]"
     ]
    },
    {
     "name": "stdout",
     "output_type": "stream",
     "text": [
      "[]\n",
      "Combining Features and Descriptors\n",
      "Features for Review 1\n",
      "\n",
      "Review Number :  54\n"
     ]
    },
    {
     "name": "stderr",
     "output_type": "stream",
     "text": [
      "\r",
      " 28%|██████████████████████▎                                                          | 55/200 [01:08<01:48,  1.33it/s]"
     ]
    },
    {
     "name": "stdout",
     "output_type": "stream",
     "text": [
      "[['just', ['some']], ['last', ['week']], ['week', ['last']], ['ipt', []], ['sat_sunsat_sun', []], ['iptippt', ['become']], ['stunt', []]]\n",
      "Combining Features and Descriptors\n",
      "Features for Review 1\n",
      "['just', ['some']]\n",
      "Updating Count\n",
      "['last', ['week']]\n",
      "Updating Count\n",
      "['week', ['last']]\n",
      "Updating Count\n",
      "['ipt', []]\n",
      "Updating Count\n",
      "['sat_sunsat_sun', []]\n",
      "Updating Count\n",
      "['iptippt', ['become']]\n",
      "Updating Count\n",
      "['stunt', []]\n",
      "Updating Count\n",
      "\n",
      "Review Number :  55\n",
      "[['many', ['how', 'attempt']], ['ippt', ['attempt']], ['attempt', ['many', 'ippt', 'made']]]\n"
     ]
    },
    {
     "name": "stderr",
     "output_type": "stream",
     "text": [
      "\r",
      " 28%|██████████████████████▋                                                          | 56/200 [01:09<01:56,  1.23it/s]"
     ]
    },
    {
     "name": "stdout",
     "output_type": "stream",
     "text": [
      "[['i', ['point']], ['just', ['point']], ['point', ['i', 'just', 'away']], ['away', ['point']], ['pass', []], ['pcwx', []], ['waify', ['ganyumobile']], ['ganyumobile', ['waify', 'using']]]\n",
      "Combining Features and Descriptors\n",
      "Features for Review 1\n",
      "['many', ['how', 'attempt']]\n",
      "Updating Count\n",
      "['ippt', ['attempt']]\n",
      "Updating Count\n",
      "['attempt', ['many', 'ippt', 'made']]\n",
      "Updating Count\n",
      "Features for Review 2\n",
      "['i', ['point']]\n",
      "Updating Count\n",
      "['just', ['point']]\n",
      "Updating Count\n",
      "['point', ['i', 'just', 'away']]\n",
      "Updating Count\n",
      "['away', ['point']]\n",
      "Updating Count\n",
      "['pass', []]\n",
      "Updating Count\n",
      "['pcwx', []]\n",
      "Updating Count\n",
      "['waify', ['ganyumobile']]\n",
      "Updating Count\n",
      "['ganyumobile', ['waify', 'using']]\n",
      "Updating Count\n",
      "\n",
      "Review Number :  56\n"
     ]
    },
    {
     "name": "stderr",
     "output_type": "stream",
     "text": [
      "\r",
      " 28%|███████████████████████                                                          | 57/200 [01:10<01:47,  1.33it/s]"
     ]
    },
    {
     "name": "stdout",
     "output_type": "stream",
     "text": [
      "[['i', ['checked', 'ipt']], ['last', ['night']], ['night', ['last']], ['slots', []], ['i', ['checked', 'ipt']], ['ipt', ['i']], ['context', []]]\n",
      "Combining Features and Descriptors\n",
      "Features for Review 1\n",
      "['i', ['checked', 'ipt']]\n",
      "Updating Count\n",
      "['last', ['night']]\n",
      "Updating Count\n",
      "['night', ['last']]\n",
      "Updating Count\n",
      "['slots', []]\n",
      "Updating Count\n",
      "['i', ['checked', 'ipt']]\n",
      "Updating Count\n",
      "['ipt', ['i']]\n",
      "Updating Count\n",
      "['context', []]\n",
      "Updating Count\n",
      "\n",
      "Review Number :  57\n"
     ]
    },
    {
     "name": "stderr",
     "output_type": "stream",
     "text": [
      "\r",
      " 29%|███████████████████████▍                                                         | 58/200 [01:11<01:36,  1.48it/s]"
     ]
    },
    {
     "name": "stdout",
     "output_type": "stream",
     "text": [
      "[['fair', []], ['back', ['going']], ['reservists', []], ['pros', ['got']], ['cons', []]]\n",
      "Combining Features and Descriptors\n",
      "Features for Review 1\n",
      "['fair', []]\n",
      "Updating Count\n",
      "['back', ['going']]\n",
      "Updating Count\n",
      "['reservists', []]\n",
      "Updating Count\n",
      "['pros', ['got']]\n",
      "Updating Count\n",
      "['cons', []]\n",
      "Updating Count\n",
      "\n",
      "Review Number :  58\n",
      "[['fail', []], ['i', ['need']], ['clear', ['rts']], ['rts', ['clear', 'need']]]\n"
     ]
    },
    {
     "name": "stderr",
     "output_type": "stream",
     "text": [
      "\r",
      " 30%|███████████████████████▉                                                         | 59/200 [01:11<01:35,  1.47it/s]"
     ]
    },
    {
     "name": "stdout",
     "output_type": "stream",
     "text": [
      "[['so', ['need']], ['next', ['window']], ['window', ['next', 'need']], ['still', ['need']], ['ippt', ['need']]]\n",
      "Combining Features and Descriptors\n",
      "Features for Review 1\n",
      "['fail', []]\n",
      "Updating Count\n",
      "['i', ['need']]\n",
      "Updating Count\n",
      "['clear', ['rts']]\n",
      "Updating Count\n",
      "['rts', ['clear', 'need']]\n",
      "Updating Count\n",
      "Features for Review 2\n",
      "['so', ['need']]\n",
      "Updating Count\n",
      "['next', ['window']]\n",
      "Updating Count\n",
      "['window', ['next', 'need']]\n",
      "Updating Count\n",
      "['still', ['need']]\n",
      "Updating Count\n",
      "['ippt', ['need']]\n",
      "Updating Count\n",
      "\n",
      "Review Number :  59\n"
     ]
    },
    {
     "name": "stderr",
     "output_type": "stream",
     "text": [
      "\r",
      " 30%|████████████████████████▎                                                        | 60/200 [01:11<01:16,  1.82it/s]"
     ]
    },
    {
     "name": "stdout",
     "output_type": "stream",
     "text": [
      "[['rest', ['then']], ['peace', []], ['then', ['rest']]]\n",
      "Combining Features and Descriptors\n",
      "Features for Review 1\n",
      "['rest', ['then']]\n",
      "Updating Count\n",
      "['peace', []]\n",
      "Updating Count\n",
      "['then', ['rest']]\n",
      "Updating Count\n",
      "\n",
      "Review Number :  60\n"
     ]
    },
    {
     "name": "stderr",
     "output_type": "stream",
     "text": [
      "\r",
      " 30%|████████████████████████▋                                                        | 61/200 [01:12<01:18,  1.77it/s]"
     ]
    },
    {
     "name": "stdout",
     "output_type": "stream",
     "text": [
      "[['instead', []], ['not', ['taken']], ['yet', ['taken']], ['confusion', ['avoid']]]\n",
      "Combining Features and Descriptors\n",
      "Features for Review 1\n",
      "['instead', []]\n",
      "Updating Count\n",
      "['not', ['taken']]\n",
      "Updating Count\n",
      "['yet', ['taken']]\n",
      "Updating Count\n",
      "['confusion', ['avoid']]\n",
      "Updating Count\n",
      "\n",
      "Review Number :  61\n"
     ]
    },
    {
     "name": "stderr",
     "output_type": "stream",
     "text": [
      "\r",
      " 31%|█████████████████████████                                                        | 62/200 [01:13<01:25,  1.61it/s]"
     ]
    },
    {
     "name": "stdout",
     "output_type": "stream",
     "text": [
      "[['long', ['as', 'charged']], ['attempted', ['you', 'u', 'ippt_ictipptippt_ictippt']], ['ippt_ictipptippt_ictippt', ['attempted']], ['whole', ['workcycle']], ['workcycle', ['whole']], ['not', ['charged']]]\n",
      "Combining Features and Descriptors\n",
      "Features for Review 1\n",
      "['long', ['as', 'charged']]\n",
      "Updating Count\n",
      "['attempted', ['you', 'u', 'ippt_ictipptippt_ictippt']]\n",
      "Updating Count\n",
      "['ippt_ictipptippt_ictippt', ['attempted']]\n",
      "Updating Count\n",
      "['whole', ['workcycle']]\n",
      "Updating Count\n",
      "['workcycle', ['whole']]\n",
      "Updating Count\n",
      "['not', ['charged']]\n",
      "Updating Count\n",
      "\n",
      "Review Number :  62\n",
      "[['mr', ['means']], ['already', ['means']], ['need', ['ippt']], ['right', ['means']]]\n"
     ]
    },
    {
     "name": "stderr",
     "output_type": "stream",
     "text": [
      "\r",
      " 32%|█████████████████████████▌                                                       | 63/200 [01:14<01:32,  1.47it/s]"
     ]
    },
    {
     "name": "stdout",
     "output_type": "stream",
     "text": [
      "[['then', ['need']], ['also', []], ['years', ['old']], ['old', ['years']], ['still', ['need']]]\n",
      "Combining Features and Descriptors\n",
      "Features for Review 1\n",
      "['mr', ['means']]\n",
      "Updating Count\n",
      "['already', ['means']]\n",
      "Updating Count\n",
      "['need', ['ippt']]\n",
      "Updating Count\n",
      "['right', ['means']]\n",
      "Updating Count\n",
      "Features for Review 2\n",
      "['then', ['need']]\n",
      "Updating Count\n",
      "['also', []]\n",
      "Updating Count\n",
      "['years', ['old']]\n",
      "Updating Count\n",
      "['old', ['years']]\n",
      "Updating Count\n",
      "['still', ['need']]\n",
      "Updating Count\n",
      "\n",
      "Review Number :  63\n",
      "[['sryi', ['got']], ['noob', ['got']], ['qns', ['got']], [\"n't\", ['seem']], ['ans', ['find']], ['i', ['failed', 'book']], ['ippt', ['failed', 'pass']], ['intensely', ['training']], ['own', []], ['window', ['over', 'next', 'pass']], ['directly', ['book']], ['book', ['i', 'directly']], ['ippt', ['failed', 'pass']], ['window', ['over', 'next', 'pass']], ['instead', []], ['rts', []]]\n",
      "[['i', ['have']], ['really', ['have']], ['rts', []]]\n"
     ]
    },
    {
     "name": "stderr",
     "output_type": "stream",
     "text": [
      "\r",
      " 32%|█████████████████████████▉                                                       | 64/200 [01:16<02:55,  1.29s/it]"
     ]
    },
    {
     "name": "stdout",
     "output_type": "stream",
     "text": [
      "[['psi', []], ['also', ['affected']], ['ipptshutdown', []], ['window', ['end']], ['i', ['ready']], ['ready', ['i', 'book']], ['book', ['ready']], ['attempt', []]]\n",
      "Combining Features and Descriptors\n",
      "Features for Review 1\n",
      "['sryi', ['got']]\n",
      "Updating Count\n",
      "['noob', ['got']]\n",
      "Updating Count\n",
      "['qns', ['got']]\n",
      "Updating Count\n",
      "[\"n't\", ['seem']]\n",
      "Updating Count\n",
      "['ans', ['find']]\n",
      "Updating Count\n",
      "['i', ['failed', 'book']]\n",
      "Updating Count\n",
      "['ippt', ['failed', 'pass']]\n",
      "Updating Count\n",
      "['intensely', ['training']]\n",
      "Updating Count\n",
      "['own', []]\n",
      "Updating Count\n",
      "['window', ['over', 'next', 'pass']]\n",
      "Updating Count\n",
      "['directly', ['book']]\n",
      "Updating Count\n",
      "['book', ['i', 'directly']]\n",
      "Updating Count\n",
      "['ippt', ['failed', 'pass']]\n",
      "Updating Count\n",
      "['window', ['over', 'next', 'pass']]\n",
      "Updating Count\n",
      "['instead', []]\n",
      "Updating Count\n",
      "['rts', []]\n",
      "Updating Count\n",
      "Features for Review 2\n",
      "['i', ['have']]\n",
      "Updating Count\n",
      "['really', ['have']]\n",
      "Updating Count\n",
      "['rts', []]\n",
      "Updating Count\n",
      "Features for Review 3\n",
      "['psi', []]\n",
      "Updating Count\n",
      "['also', ['affected']]\n",
      "Updating Count\n",
      "['ipptshutdown', []]\n",
      "Updating Count\n",
      "['window', ['end']]\n",
      "Updating Count\n",
      "['i', ['ready']]\n",
      "Updating Count\n",
      "['ready', ['i', 'book']]\n",
      "Updating Count\n",
      "['book', ['ready']]\n",
      "Updating Count\n",
      "['attempt', []]\n",
      "Updating Count\n",
      "\n",
      "Review Number :  64\n"
     ]
    },
    {
     "name": "stderr",
     "output_type": "stream",
     "text": [
      "\r",
      " 32%|██████████████████████████▎                                                      | 65/200 [01:17<02:23,  1.06s/it]"
     ]
    },
    {
     "name": "stdout",
     "output_type": "stream",
     "text": [
      "[['mai', ['lah']], ['lah', ['mai', 'volunteer', 'finish']], ['finish', ['lah', 'cycle']], ['cycle', ['finish']], ['siewgang', []]]\n",
      "Combining Features and Descriptors\n",
      "Features for Review 1\n",
      "['mai', ['lah']]\n",
      "Updating Count\n",
      "['lah', ['mai', 'volunteer', 'finish']]\n",
      "Updating Count\n",
      "['finish', ['lah', 'cycle']]\n",
      "Updating Count\n",
      "['cycle', ['finish']]\n",
      "Updating Count\n",
      "['siewgang', []]\n",
      "Updating Count\n",
      "\n",
      "Review Number :  65\n",
      "[['timing', ['strict']], ['very', ['strict']], ['strict', ['timing', 'very']], ['ippt', []], ['khatibcamp', []]]\n",
      "[['i', ['booked']], ['slot', ['booked']], ['need', []], ['there', ['to']], ['beforehand', [15]]]\n",
      "[['i', ['reach']], ['only', ['reach']]]\n"
     ]
    },
    {
     "name": "stderr",
     "output_type": "stream",
     "text": [
      "\r",
      " 33%|██████████████████████████▋                                                      | 66/200 [01:19<02:52,  1.29s/it]"
     ]
    },
    {
     "name": "stdout",
     "output_type": "stream",
     "text": [
      "[]\n",
      "Combining Features and Descriptors\n",
      "Features for Review 1\n",
      "['timing', ['strict']]\n",
      "Updating Count\n",
      "['very', ['strict']]\n",
      "Updating Count\n",
      "['strict', ['timing', 'very']]\n",
      "Updating Count\n",
      "['ippt', []]\n",
      "Updating Count\n",
      "['khatibcamp', []]\n",
      "Updating Count\n",
      "Features for Review 2\n",
      "['i', ['booked']]\n",
      "Updating Count\n",
      "['slot', ['booked']]\n",
      "Updating Count\n",
      "['need', []]\n",
      "Updating Count\n",
      "['there', ['to']]\n",
      "Updating Count\n",
      "['beforehand', [15]]\n",
      "Updating Count\n",
      "Features for Review 3\n",
      "['i', ['reach']]\n",
      "Updating Count\n",
      "['only', ['reach']]\n",
      "Updating Count\n",
      "Features for Review 4\n",
      "\n",
      "Review Number :  66\n",
      "[['push', []], ['up', []], ['machine', []]]\n",
      "[['run', []], ['sheltered', ['carpark']], ['carpark', ['sheltered']]]\n"
     ]
    },
    {
     "name": "stderr",
     "output_type": "stream",
     "text": [
      "\r",
      " 34%|███████████████████████████▏                                                     | 67/200 [01:20<02:39,  1.20s/it]"
     ]
    },
    {
     "name": "stdout",
     "output_type": "stream",
     "text": [
      "[['sent', []], ['samsungsmg975f', []], ['gagt', ['gagt']]]\n",
      "Combining Features and Descriptors\n",
      "Features for Review 1\n",
      "['push', []]\n",
      "Updating Count\n",
      "['up', []]\n",
      "Updating Count\n",
      "['machine', []]\n",
      "Updating Count\n",
      "Features for Review 2\n",
      "['run', []]\n",
      "Updating Count\n",
      "['sheltered', ['carpark']]\n",
      "Updating Count\n",
      "['carpark', ['sheltered']]\n",
      "Updating Count\n",
      "Features for Review 3\n",
      "['sent', []]\n",
      "Updating Count\n",
      "['samsungsmg975f', []]\n",
      "Updating Count\n",
      "['gagt', ['gagt']]\n",
      "Updating Count\n",
      "\n",
      "Review Number :  67\n",
      "[['still', ['have']], ['indoor', ['activities']], ['activities', ['indoor', 'have']]]\n"
     ]
    },
    {
     "name": "stderr",
     "output_type": "stream",
     "text": [
      "\r",
      " 34%|███████████████████████████▌                                                     | 68/200 [01:21<02:23,  1.09s/it]"
     ]
    },
    {
     "name": "stdout",
     "output_type": "stream",
     "text": [
      "[['mindef', ['send']], ['sms', ['send']], ['session', []]]\n",
      "Combining Features and Descriptors\n",
      "Features for Review 1\n",
      "['still', ['have']]\n",
      "Updating Count\n",
      "['indoor', ['activities']]\n",
      "Updating Count\n",
      "['activities', ['indoor', 'have']]\n",
      "Updating Count\n",
      "Features for Review 2\n",
      "['mindef', ['send']]\n",
      "Updating Count\n",
      "['sms', ['send']]\n",
      "Updating Count\n",
      "['session', []]\n",
      "Updating Count\n",
      "\n",
      "Review Number :  68\n"
     ]
    },
    {
     "name": "stderr",
     "output_type": "stream",
     "text": [
      "\r",
      " 34%|███████████████████████████▉                                                     | 69/200 [01:21<02:15,  1.03s/it]"
     ]
    },
    {
     "name": "stdout",
     "output_type": "stream",
     "text": [
      "[['last', ['year']], ['year', ['last']], ['ippt_rt', ['ippt_rt']], ['months', []], ['aloysiuspang', []], ['death', ['know']], [\"n't\", ['know']], ['not', []]]\n",
      "Combining Features and Descriptors\n",
      "Features for Review 1\n",
      "['last', ['year']]\n",
      "Updating Count\n",
      "['year', ['last']]\n",
      "Updating Count\n",
      "['ippt_rt', ['ippt_rt']]\n",
      "Updating Count\n",
      "['months', []]\n",
      "Updating Count\n",
      "['aloysiuspang', []]\n",
      "Updating Count\n",
      "['death', ['know']]\n",
      "Updating Count\n",
      "[\"n't\", ['know']]\n",
      "Updating Count\n",
      "['not', []]\n",
      "Updating Count\n",
      "\n",
      "Review Number :  69\n"
     ]
    },
    {
     "name": "stderr",
     "output_type": "stream",
     "text": [
      "\r",
      " 35%|████████████████████████████▎                                                    | 70/200 [01:22<01:46,  1.22it/s]"
     ]
    },
    {
     "name": "stdout",
     "output_type": "stream",
     "text": [
      "[['quote', ['why']], ['so', ['strange']], ['strange', ['why', 'so']]]\n",
      "Combining Features and Descriptors\n",
      "Features for Review 1\n",
      "['quote', ['why']]\n",
      "Updating Count\n",
      "['so', ['strange']]\n",
      "Updating Count\n",
      "['strange', ['why', 'so']]\n",
      "Updating Count\n",
      "\n",
      "Review Number :  70\n",
      "[['just', ['need']], ['book', ['need', 'ippt']], ['ippt', ['book']], ['ipt', ['be']], ['only', ['first']], ['first', ['only', 'session']], ['last', []], ['session', ['first', 'be']], ['ippt', ['book']]]\n",
      "[['really', ['want']], ['more', ['ippt']], ['ippt', ['more', 'sessions']], ['first', ['sessions']], ['ippt', ['more', 'sessions']], ['sessions', ['first', 'ippt', 'payable']], ['payable', ['sessions']], ['attendance', []]]\n"
     ]
    },
    {
     "name": "stderr",
     "output_type": "stream",
     "text": [
      "\r",
      " 36%|████████████████████████████▊                                                    | 71/200 [01:24<02:39,  1.24s/it]"
     ]
    },
    {
     "name": "stdout",
     "output_type": "stream",
     "text": [
      "[['ippts', ['attending']], ['desired', ['wincentive']], ['gold_silver_passgold_silver_pass', ['wincentive']], ['gold_silver_passw', ['wincentive']], ['wincentive', ['desired', 'gold_silver_passgold_silver_pass', 'gold_silver_passw', 'get']]]\n",
      "Combining Features and Descriptors\n",
      "Features for Review 1\n",
      "['just', ['need']]\n",
      "Updating Count\n",
      "['book', ['need', 'ippt']]\n",
      "Updating Count\n",
      "['ippt', ['book']]\n",
      "Updating Count\n",
      "['ipt', ['be']]\n",
      "Updating Count\n",
      "['only', ['first']]\n",
      "Updating Count\n",
      "['first', ['only', 'session']]\n",
      "Updating Count\n",
      "['last', []]\n",
      "Updating Count\n",
      "['session', ['first', 'be']]\n",
      "Updating Count\n",
      "['ippt', ['book']]\n",
      "Updating Count\n",
      "Features for Review 2\n",
      "['really', ['want']]\n",
      "Updating Count\n",
      "['more', ['ippt']]\n",
      "Updating Count\n",
      "['ippt', ['more', 'sessions']]\n",
      "Updating Count\n",
      "['first', ['sessions']]\n",
      "Updating Count\n",
      "['ippt', ['more', 'sessions']]\n",
      "Updating Count\n",
      "['sessions', ['first', 'ippt', 'payable']]\n",
      "Updating Count\n",
      "['payable', ['sessions']]\n",
      "Updating Count\n",
      "['attendance', []]\n",
      "Updating Count\n",
      "Features for Review 3\n",
      "['ippts', ['attending']]\n",
      "Updating Count\n",
      "['desired', ['wincentive']]\n",
      "Updating Count\n",
      "['gold_silver_passgold_silver_pass', ['wincentive']]\n",
      "Updating Count\n",
      "['gold_silver_passw', ['wincentive']]\n",
      "Updating Count\n",
      "['wincentive', ['desired', 'gold_silver_passgold_silver_pass', 'gold_silver_passw', 'get']]\n",
      "Updating Count\n",
      "\n",
      "Review Number :  71\n",
      "[['welcome', ['you']]]\n",
      "[['information', ['helps']], ['issue', ['facing']], ['now', ['facing']]]\n"
     ]
    },
    {
     "name": "stderr",
     "output_type": "stream",
     "text": [
      "\r",
      " 36%|█████████████████████████████▏                                                   | 72/200 [01:26<02:59,  1.40s/it]"
     ]
    },
    {
     "name": "stdout",
     "output_type": "stream",
     "text": [
      "[['i', ['sure', 'heard']], ['not', ['sure']], ['sure', ['i', 'not']], ['there', []], ['anymore', ['changes']], ['changes', ['anymore', 'be']], ['mindefmarch', ['year']], ['financial', ['year']], ['year', ['mindefmarch', 'financial']], ['i', ['sure', 'heard']], ['rumors', ['heard']], ['cny', []], ['ipt', ['session']], ['session', ['ipt']], ['now', ['clear']], ['clear', ['now', 'asap', 'first']], ['first', ['clear']]]\n",
      "Combining Features and Descriptors\n",
      "Features for Review 1\n",
      "['welcome', ['you']]\n",
      "Updating Count\n",
      "Features for Review 2\n",
      "['information', ['helps']]\n",
      "Updating Count\n",
      "['issue', ['facing']]\n",
      "Updating Count\n",
      "['now', ['facing']]\n",
      "Updating Count\n",
      "Features for Review 3\n",
      "['i', ['sure', 'heard']]\n",
      "Updating Count\n",
      "['not', ['sure']]\n",
      "Updating Count\n",
      "['sure', ['i', 'not']]\n",
      "Updating Count\n",
      "['there', []]\n",
      "Updating Count\n",
      "['anymore', ['changes']]\n",
      "Updating Count\n",
      "['changes', ['anymore', 'be']]\n",
      "Updating Count\n",
      "['mindefmarch', ['year']]\n",
      "Updating Count\n",
      "['financial', ['year']]\n",
      "Updating Count\n",
      "['year', ['mindefmarch', 'financial']]\n",
      "Updating Count\n",
      "['i', ['sure', 'heard']]\n",
      "Updating Count\n",
      "['rumors', ['heard']]\n",
      "Updating Count\n",
      "['cny', []]\n",
      "Updating Count\n",
      "['ipt', ['session']]\n",
      "Updating Count\n",
      "['session', ['ipt']]\n",
      "Updating Count\n",
      "['now', ['clear']]\n",
      "Updating Count\n",
      "['clear', ['now', 'asap', 'first']]\n",
      "Updating Count\n",
      "['first', ['clear']]\n",
      "Updating Count\n",
      "\n",
      "Review Number :  72\n"
     ]
    },
    {
     "name": "stderr",
     "output_type": "stream",
     "text": [
      "\r",
      " 36%|█████████████████████████████▌                                                   | 73/200 [01:26<02:26,  1.16s/it]"
     ]
    },
    {
     "name": "stdout",
     "output_type": "stream",
     "text": [
      "[['https', []], ['__wwwnssg_web_portal_nsmen_heasures_in_fcc', []], ['https', []], ['__wwwnssg_web_portal_nsmen_heasures_in_fcc', []]]\n",
      "Combining Features and Descriptors\n",
      "Features for Review 1\n",
      "['https', []]\n",
      "Updating Count\n",
      "['__wwwnssg_web_portal_nsmen_heasures_in_fcc', []]\n",
      "Updating Count\n",
      "['https', []]\n",
      "Updating Count\n",
      "['__wwwnssg_web_portal_nsmen_heasures_in_fcc', []]\n",
      "Updating Count\n",
      "\n",
      "Review Number :  73\n",
      "[['ah', []]]\n",
      "[['yesterday', []], ['ipt', ['go']]]\n"
     ]
    },
    {
     "name": "stderr",
     "output_type": "stream",
     "text": [
      "\r",
      " 37%|█████████████████████████████▉                                                   | 74/200 [01:27<02:14,  1.07s/it]"
     ]
    },
    {
     "name": "stdout",
     "output_type": "stream",
     "text": [
      "[['blue', ['band']], ['band', ['blue', 'take']], ['sadly', ['took']], ['i', ['took']], ['red', ['one']], ['one', ['red', 'took']]]\n",
      "Combining Features and Descriptors\n",
      "Features for Review 1\n",
      "['ah', []]\n",
      "Updating Count\n",
      "Features for Review 2\n",
      "['yesterday', []]\n",
      "Updating Count\n",
      "['ipt', ['go']]\n",
      "Updating Count\n",
      "Features for Review 3\n",
      "['blue', ['band']]\n",
      "Updating Count\n",
      "['band', ['blue', 'take']]\n",
      "Updating Count\n",
      "['sadly', ['took']]\n",
      "Updating Count\n",
      "['i', ['took']]\n",
      "Updating Count\n",
      "['red', ['one']]\n",
      "Updating Count\n",
      "['one', ['red', 'took']]\n",
      "Updating Count\n",
      "\n",
      "Review Number :  74\n"
     ]
    },
    {
     "name": "stderr",
     "output_type": "stream",
     "text": [
      "\r",
      " 38%|██████████████████████████████▍                                                  | 75/200 [01:28<01:55,  1.08it/s]"
     ]
    },
    {
     "name": "stdout",
     "output_type": "stream",
     "text": [
      "[['hi', []], ['please', []], ['previous', ['post']], ['post', ['previous', 'see']], ['matter', []]]\n",
      "Combining Features and Descriptors\n",
      "Features for Review 1\n",
      "['hi', []]\n",
      "Updating Count\n",
      "['please', []]\n",
      "Updating Count\n",
      "['previous', ['post']]\n",
      "Updating Count\n",
      "['post', ['previous', 'see']]\n",
      "Updating Count\n",
      "['matter', []]\n",
      "Updating Count\n",
      "\n",
      "Review Number :  75\n"
     ]
    },
    {
     "name": "stderr",
     "output_type": "stream",
     "text": [
      "\r",
      " 38%|██████████████████████████████▊                                                  | 76/200 [01:28<01:45,  1.17it/s]"
     ]
    },
    {
     "name": "stdout",
     "output_type": "stream",
     "text": [
      "[['ippt', ['one']], ['first', ['ipt']], ['ipt', ['first']], ['only', ['one']], ['separated', ['booked']], ['ippt', ['one']]]\n",
      "Combining Features and Descriptors\n",
      "Features for Review 1\n",
      "['ippt', ['one']]\n",
      "Updating Count\n",
      "['first', ['ipt']]\n",
      "Updating Count\n",
      "['ipt', ['first']]\n",
      "Updating Count\n",
      "['only', ['one']]\n",
      "Updating Count\n",
      "['separated', ['booked']]\n",
      "Updating Count\n",
      "['ippt', ['one']]\n",
      "Updating Count\n",
      "\n",
      "Review Number :  76\n",
      "[['diff', []], ['la', []]]\n"
     ]
    },
    {
     "name": "stderr",
     "output_type": "stream",
     "text": [
      "\r",
      " 38%|███████████████████████████████▏                                                 | 77/200 [01:29<01:47,  1.14it/s]"
     ]
    },
    {
     "name": "stdout",
     "output_type": "stream",
     "text": [
      "[['just', ['do']], ['normal', ['do']], ['means', ['do']], ['sent', ['haha']], ['samsungsmg975f', []], ['gagt', ['f']]]\n",
      "Combining Features and Descriptors\n",
      "Features for Review 1\n",
      "['diff', []]\n",
      "Updating Count\n",
      "['la', []]\n",
      "Updating Count\n",
      "Features for Review 2\n",
      "['just', ['do']]\n",
      "Updating Count\n",
      "['normal', ['do']]\n",
      "Updating Count\n",
      "['means', ['do']]\n",
      "Updating Count\n",
      "['sent', ['haha']]\n",
      "Updating Count\n",
      "['samsungsmg975f', []]\n",
      "Updating Count\n",
      "['gagt', ['f']]\n",
      "Updating Count\n",
      "\n",
      "Review Number :  77\n"
     ]
    },
    {
     "name": "stderr",
     "output_type": "stream",
     "text": [
      "\r",
      " 39%|███████████████████████████████▌                                                 | 78/200 [01:30<01:22,  1.47it/s]"
     ]
    },
    {
     "name": "stdout",
     "output_type": "stream",
     "text": [
      "[['not', ['exactly']], ['exactly', ['not']]]\n",
      "Combining Features and Descriptors\n",
      "Features for Review 1\n",
      "['not', ['exactly']]\n",
      "Updating Count\n",
      "['exactly', ['not']]\n",
      "Updating Count\n",
      "\n",
      "Review Number :  78\n"
     ]
    },
    {
     "name": "stderr",
     "output_type": "stream",
     "text": [
      "\r",
      " 40%|███████████████████████████████▉                                                 | 79/200 [01:30<01:11,  1.69it/s]"
     ]
    },
    {
     "name": "stdout",
     "output_type": "stream",
     "text": [
      "[['windowclose', []], ['feb', []], ['year', ['next']]]\n",
      "Combining Features and Descriptors\n",
      "Features for Review 1\n",
      "['windowclose', []]\n",
      "Updating Count\n",
      "['feb', []]\n",
      "Updating Count\n",
      "['year', ['next']]\n",
      "Updating Count\n",
      "\n",
      "Review Number :  79\n",
      "[['i', ['have']], ['window', ['closes']], ['day', []]]\n",
      "[['march', []]]\n",
      "[['so', ['advisable']], ['advisable', ['so']], ['first', ['do']], ['then', ['sessions']], ['ipt', ['sessions']], ['sessions', ['then', 'remaining', 'ipt']]]\n"
     ]
    },
    {
     "name": "stderr",
     "output_type": "stream",
     "text": [
      "\r",
      " 40%|████████████████████████████████▍                                                | 80/200 [01:32<02:08,  1.07s/it]"
     ]
    },
    {
     "name": "stdout",
     "output_type": "stream",
     "text": [
      "[['way', []], ['default', ['cover']]]\n",
      "Combining Features and Descriptors\n",
      "Features for Review 1\n",
      "['i', ['have']]\n",
      "Updating Count\n",
      "['window', ['closes']]\n",
      "Updating Count\n",
      "['day', []]\n",
      "Updating Count\n",
      "Features for Review 2\n",
      "['march', []]\n",
      "Updating Count\n",
      "Features for Review 3\n",
      "['so', ['advisable']]\n",
      "Updating Count\n",
      "['advisable', ['so']]\n",
      "Updating Count\n",
      "['first', ['do']]\n",
      "Updating Count\n",
      "['then', ['sessions']]\n",
      "Updating Count\n",
      "['ipt', ['sessions']]\n",
      "Updating Count\n",
      "['sessions', ['then', 'remaining', 'ipt']]\n",
      "Updating Count\n",
      "Features for Review 4\n",
      "['way', []]\n",
      "Updating Count\n",
      "['default', ['cover']]\n",
      "Updating Count\n",
      "\n",
      "Review Number :  80\n",
      "[['book', ['you']], ['iptoption', []], ['shld', []], ['only', ['6']]]\n"
     ]
    },
    {
     "name": "stderr",
     "output_type": "stream",
     "text": [
      "\r",
      " 40%|████████████████████████████████▊                                                | 81/200 [01:33<02:07,  1.07s/it]"
     ]
    },
    {
     "name": "stdout",
     "output_type": "stream",
     "text": [
      "[['automatically', ['change']], ['sent', []], ['abcdefg', []], ['gagt', []]]\n",
      "Combining Features and Descriptors\n",
      "Features for Review 1\n",
      "['book', ['you']]\n",
      "Updating Count\n",
      "['iptoption', []]\n",
      "Updating Count\n",
      "['shld', []]\n",
      "Updating Count\n",
      "['only', ['6']]\n",
      "Updating Count\n",
      "Features for Review 2\n",
      "['automatically', ['change']]\n",
      "Updating Count\n",
      "['sent', []]\n",
      "Updating Count\n",
      "['abcdefg', []]\n",
      "Updating Count\n",
      "['gagt', []]\n",
      "Updating Count\n",
      "\n",
      "Review Number :  81\n"
     ]
    },
    {
     "name": "stderr",
     "output_type": "stream",
     "text": [
      "\r",
      " 41%|█████████████████████████████████▏                                               | 82/200 [01:34<01:47,  1.09it/s]"
     ]
    },
    {
     "name": "stdout",
     "output_type": "stream",
     "text": [
      "[['already', ['served']], ['lk', ['served']], ['hk', ['icts', 'icts']], ['icts', ['hk', 'hk']], ['hk', ['icts', 'icts']], ['icts', ['hk', 'hk']]]\n",
      "Combining Features and Descriptors\n",
      "Features for Review 1\n",
      "['already', ['served']]\n",
      "Updating Count\n",
      "['lk', ['served']]\n",
      "Updating Count\n",
      "['hk', ['icts', 'icts']]\n",
      "Updating Count\n",
      "['icts', ['hk', 'hk']]\n",
      "Updating Count\n",
      "['hk', ['icts', 'icts']]\n",
      "Updating Count\n",
      "['icts', ['hk', 'hk']]\n",
      "Updating Count\n",
      "\n",
      "Review Number :  82\n",
      "[['mcdonalds', []], ['bridge', ['cross']], ['then', ['turn']]]\n",
      "[['iptsession', ['begins']], ['first', ['shelter']], ['shelter', ['first', 'come']]]\n"
     ]
    },
    {
     "name": "stderr",
     "output_type": "stream",
     "text": [
      "\r",
      " 42%|█████████████████████████████████▌                                               | 83/200 [01:35<02:10,  1.11s/it]"
     ]
    },
    {
     "name": "stdout",
     "output_type": "stream",
     "text": [
      "[['roughly', ['from']], ['walk', []], ['mcdonald', []]]\n",
      "Combining Features and Descriptors\n",
      "Features for Review 1\n",
      "['mcdonalds', []]\n",
      "Updating Count\n",
      "['bridge', ['cross']]\n",
      "Updating Count\n",
      "['then', ['turn']]\n",
      "Updating Count\n",
      "Features for Review 2\n",
      "['iptsession', ['begins']]\n",
      "Updating Count\n",
      "['first', ['shelter']]\n",
      "Updating Count\n",
      "['shelter', ['first', 'come']]\n",
      "Updating Count\n",
      "Features for Review 3\n",
      "['roughly', ['from']]\n",
      "Updating Count\n",
      "['walk', []]\n",
      "Updating Count\n",
      "['mcdonald', []]\n",
      "Updating Count\n",
      "\n",
      "Review Number :  83\n",
      "[['first', ['time']], ['time', ['first']], ['ipt', ['doing']], ['experiences', []]]\n"
     ]
    },
    {
     "name": "stderr",
     "output_type": "stream",
     "text": [
      "\r",
      " 42%|██████████████████████████████████                                               | 84/200 [01:37<02:10,  1.12s/it]"
     ]
    },
    {
     "name": "stdout",
     "output_type": "stream",
     "text": [
      "[['session', ['do']], ['10th', ['ippt']], ['ippt', ['10th', 'failed']]]\n",
      "Combining Features and Descriptors\n",
      "Features for Review 1\n",
      "['first', ['time']]\n",
      "Updating Count\n",
      "['time', ['first']]\n",
      "Updating Count\n",
      "['ipt', ['doing']]\n",
      "Updating Count\n",
      "['experiences', []]\n",
      "Updating Count\n",
      "Features for Review 2\n",
      "['session', ['do']]\n",
      "Updating Count\n",
      "['10th', ['ippt']]\n",
      "Updating Count\n",
      "['ippt', ['10th', 'failed']]\n",
      "Updating Count\n",
      "\n",
      "Review Number :  84\n"
     ]
    },
    {
     "name": "stderr",
     "output_type": "stream",
     "text": [
      "\r",
      " 42%|██████████████████████████████████▍                                              | 85/200 [01:37<01:58,  1.03s/it]"
     ]
    },
    {
     "name": "stdout",
     "output_type": "stream",
     "text": [
      "[['always', ['get']], ['spoon', ['feed']], ['feed', ['spoon', 'get']], ['u', []], ['letter', ['send']], ['advance', []], ['then', ['follow']], ['just', ['follow']], ['instructions', ['follow']]]\n",
      "Combining Features and Descriptors\n",
      "Features for Review 1\n",
      "['always', ['get']]\n",
      "Updating Count\n",
      "['spoon', ['feed']]\n",
      "Updating Count\n",
      "['feed', ['spoon', 'get']]\n",
      "Updating Count\n",
      "['u', []]\n",
      "Updating Count\n",
      "['letter', ['send']]\n",
      "Updating Count\n",
      "['advance', []]\n",
      "Updating Count\n",
      "['then', ['follow']]\n",
      "Updating Count\n",
      "['just', ['follow']]\n",
      "Updating Count\n",
      "['instructions', ['follow']]\n",
      "Updating Count\n",
      "\n",
      "Review Number :  85\n"
     ]
    },
    {
     "name": "stderr",
     "output_type": "stream",
     "text": [
      "\r",
      " 43%|██████████████████████████████████▊                                              | 86/200 [01:38<01:37,  1.17it/s]"
     ]
    },
    {
     "name": "stdout",
     "output_type": "stream",
     "text": [
      "[['fit', ['do']], ['same', ['windows']], ['windows', ['same']]]\n",
      "Combining Features and Descriptors\n",
      "Features for Review 1\n",
      "['fit', ['do']]\n",
      "Updating Count\n",
      "['same', ['windows']]\n",
      "Updating Count\n",
      "['windows', ['same']]\n",
      "Updating Count\n",
      "\n",
      "Review Number :  86\n",
      "[['just', ['went']], ['rtsession', ['1st']], ['there', []], ['way', ['is']], ['session', ['8th']]]\n"
     ]
    },
    {
     "name": "stderr",
     "output_type": "stream",
     "text": [
      "\r",
      " 44%|███████████████████████████████████▏                                             | 87/200 [01:39<01:40,  1.13it/s]"
     ]
    },
    {
     "name": "stdout",
     "output_type": "stream",
     "text": [
      "[['just', ['bookrt']], ['bookrt', ['just', 'normally']], ['normally', ['bookrt']]]\n",
      "Combining Features and Descriptors\n",
      "Features for Review 1\n",
      "['just', ['went']]\n",
      "Updating Count\n",
      "['rtsession', ['1st']]\n",
      "Updating Count\n",
      "['there', []]\n",
      "Updating Count\n",
      "['way', ['is']]\n",
      "Updating Count\n",
      "['session', ['8th']]\n",
      "Updating Count\n",
      "Features for Review 2\n",
      "['just', ['bookrt']]\n",
      "Updating Count\n",
      "['bookrt', ['just', 'normally']]\n",
      "Updating Count\n",
      "['normally', ['bookrt']]\n",
      "Updating Count\n",
      "\n",
      "Review Number :  87\n"
     ]
    },
    {
     "name": "stderr",
     "output_type": "stream",
     "text": [
      "\r",
      " 44%|███████████████████████████████████▋                                             | 88/200 [01:39<01:30,  1.24it/s]"
     ]
    },
    {
     "name": "stdout",
     "output_type": "stream",
     "text": [
      "[['i', ['see']], ['mondays', ['most']], ['also', ['slot']], ['slot', ['also']]]\n",
      "[['gagt', ['using']]]\n",
      "Combining Features and Descriptors\n",
      "Features for Review 1\n",
      "['i', ['see']]\n",
      "Updating Count\n",
      "['mondays', ['most']]\n",
      "Updating Count\n",
      "['also', ['slot']]\n",
      "Updating Count\n",
      "['slot', ['also']]\n",
      "Updating Count\n",
      "Features for Review 2\n",
      "['gagt', ['using']]\n",
      "Updating Count\n",
      "\n",
      "Review Number :  88\n"
     ]
    },
    {
     "name": "stderr",
     "output_type": "stream",
     "text": [
      "\r",
      " 44%|████████████████████████████████████                                             | 89/200 [01:40<01:12,  1.53it/s]"
     ]
    },
    {
     "name": "stdout",
     "output_type": "stream",
     "text": [
      "[['sian', ['mean']], ['mean', ['sian', 'that', 'fccliao']], ['fccliao', ['mean']]]\n",
      "Combining Features and Descriptors\n",
      "Features for Review 1\n",
      "['sian', ['mean']]\n",
      "Updating Count\n",
      "['mean', ['sian', 'that', 'fccliao']]\n",
      "Updating Count\n",
      "['fccliao', ['mean']]\n",
      "Updating Count\n",
      "\n",
      "Review Number :  89\n",
      "[['iptsession', ['10th', 'iptippt']], ['iptippt', ['which', 'iptsession']], ['pass', []], ['fail', ['matter']], [\"n't\", ['matter']]]\n"
     ]
    },
    {
     "name": "stderr",
     "output_type": "stream",
     "text": [
      "\r",
      " 45%|████████████████████████████████████▍                                            | 90/200 [01:41<01:41,  1.09it/s]"
     ]
    },
    {
     "name": "stdout",
     "output_type": "stream",
     "text": [
      "[['however', ['iptsession']], ['iptsession', ['however', '1st', 'iptippt']], ['also', ['iptippt']], ['iptippt', ['which', 'also', 'iptsession']], ['not', ['need']], ['ipt', ['sessions']], ['sessions', ['remaining', 'ipt', 'attend']]]\n",
      "Combining Features and Descriptors\n",
      "Features for Review 1\n",
      "['iptsession', ['10th', 'iptippt']]\n",
      "Updating Count\n",
      "['iptippt', ['which', 'iptsession']]\n",
      "Updating Count\n",
      "['pass', []]\n",
      "Updating Count\n",
      "['fail', ['matter']]\n",
      "Updating Count\n",
      "[\"n't\", ['matter']]\n",
      "Updating Count\n",
      "Features for Review 2\n",
      "['however', ['iptsession']]\n",
      "Updating Count\n",
      "['iptsession', ['however', '1st', 'iptippt']]\n",
      "Updating Count\n",
      "['also', ['iptippt']]\n",
      "Updating Count\n",
      "['iptippt', ['which', 'also', 'iptsession']]\n",
      "Updating Count\n",
      "['not', ['need']]\n",
      "Updating Count\n",
      "['ipt', ['sessions']]\n",
      "Updating Count\n",
      "['sessions', ['remaining', 'ipt', 'attend']]\n",
      "Updating Count\n",
      "\n",
      "Review Number :  90\n",
      "[['thankman', ['manrocketbunny']], ['rocketbunnyi', ['manrocketbunny', 'ask']], ['just', ['ask']], ['friend', ['ask']], ['redo', ['manage']], ['away', []], ['bedok', ['iptslot']], ['iptslot', ['bedok', 'throw', 'see']], ['book', ['faster', 'slot']], ['empty', ['slot']], ['slot', ['empty', 'book']]]\n"
     ]
    },
    {
     "name": "stderr",
     "output_type": "stream",
     "text": [
      "\r",
      " 46%|████████████████████████████████████▊                                            | 91/200 [01:43<01:57,  1.08s/it]"
     ]
    },
    {
     "name": "stdout",
     "output_type": "stream",
     "text": [
      "[['more', ['session']], ['session', ['more']]]\n",
      "Combining Features and Descriptors\n",
      "Features for Review 1\n",
      "['thankman', ['manrocketbunny']]\n",
      "Updating Count\n",
      "['rocketbunnyi', ['manrocketbunny', 'ask']]\n",
      "Updating Count\n",
      "['just', ['ask']]\n",
      "Updating Count\n",
      "['friend', ['ask']]\n",
      "Updating Count\n",
      "['redo', ['manage']]\n",
      "Updating Count\n",
      "['away', []]\n",
      "Updating Count\n",
      "['bedok', ['iptslot']]\n",
      "Updating Count\n",
      "['iptslot', ['bedok', 'throw', 'see']]\n",
      "Updating Count\n",
      "['book', ['faster', 'slot']]\n",
      "Updating Count\n",
      "['empty', ['slot']]\n",
      "Updating Count\n",
      "['slot', ['empty', 'book']]\n",
      "Updating Count\n",
      "Features for Review 2\n",
      "['more', ['session']]\n",
      "Updating Count\n",
      "['session', ['more']]\n",
      "Updating Count\n",
      "\n",
      "Review Number :  91\n"
     ]
    },
    {
     "name": "stderr",
     "output_type": "stream",
     "text": [
      "\r",
      " 46%|█████████████████████████████████████▎                                           | 92/200 [01:43<01:35,  1.13it/s]"
     ]
    },
    {
     "name": "stdout",
     "output_type": "stream",
     "text": [
      "[['roger', []], ['thanks', []], ['nightmare', []], ['gagt', ['using']]]\n",
      "Combining Features and Descriptors\n",
      "Features for Review 1\n",
      "['roger', []]\n",
      "Updating Count\n",
      "['thanks', []]\n",
      "Updating Count\n",
      "['nightmare', []]\n",
      "Updating Count\n",
      "['gagt', ['using']]\n",
      "Updating Count\n",
      "\n",
      "Review Number :  92\n"
     ]
    },
    {
     "name": "stderr",
     "output_type": "stream",
     "text": [
      "\r",
      " 46%|█████████████████████████████████████▋                                           | 93/200 [01:44<01:30,  1.19it/s]"
     ]
    },
    {
     "name": "stdout",
     "output_type": "stream",
     "text": [
      "[['last', ['time']], ['time', ['last']], ['fren', ['bookrt']], ['advthen', []], ['pro', []], ['rt', ['kenna']], ['kenna', ['rt', 'rejectsay']], ['not', ['systemliao']], ['systemliao', ['not']]]\n",
      "Combining Features and Descriptors\n",
      "Features for Review 1\n",
      "['last', ['time']]\n",
      "Updating Count\n",
      "['time', ['last']]\n",
      "Updating Count\n",
      "['fren', ['bookrt']]\n",
      "Updating Count\n",
      "['advthen', []]\n",
      "Updating Count\n",
      "['pro', []]\n",
      "Updating Count\n",
      "['rt', ['kenna']]\n",
      "Updating Count\n",
      "['kenna', ['rt', 'rejectsay']]\n",
      "Updating Count\n",
      "['not', ['systemliao']]\n",
      "Updating Count\n",
      "['systemliao', ['not']]\n",
      "Updating Count\n",
      "\n",
      "Review Number :  93\n"
     ]
    },
    {
     "name": "stderr",
     "output_type": "stream",
     "text": [
      "\r",
      " 47%|██████████████████████████████████████                                           | 94/200 [01:45<01:39,  1.07it/s]"
     ]
    },
    {
     "name": "stdout",
     "output_type": "stream",
     "text": [
      "[['agree', []], ['khatibcamp', ['campi']], ['campi', ['khatibcamp']], ['usually', ['show']], ['just', ['show']], ['sms', ['show']], [\"n't\", ['need']], ['even', ['need']], ['nominal', ['roll']], ['roll', ['nominal', 'check', 'sent']], ['lot', []], ['sent', ['faster', 'roll']], ['abcdefg', []], ['gagt', []]]\n",
      "Combining Features and Descriptors\n",
      "Features for Review 1\n",
      "['agree', []]\n",
      "Updating Count\n",
      "['khatibcamp', ['campi']]\n",
      "Updating Count\n",
      "['campi', ['khatibcamp']]\n",
      "Updating Count\n",
      "['usually', ['show']]\n",
      "Updating Count\n",
      "['just', ['show']]\n",
      "Updating Count\n",
      "['sms', ['show']]\n",
      "Updating Count\n",
      "[\"n't\", ['need']]\n",
      "Updating Count\n",
      "['even', ['need']]\n",
      "Updating Count\n",
      "['nominal', ['roll']]\n",
      "Updating Count\n",
      "['roll', ['nominal', 'check', 'sent']]\n",
      "Updating Count\n",
      "['lot', []]\n",
      "Updating Count\n",
      "['sent', ['faster', 'roll']]\n",
      "Updating Count\n",
      "['abcdefg', []]\n",
      "Updating Count\n",
      "['gagt', []]\n",
      "Updating Count\n",
      "\n",
      "Review Number :  94\n"
     ]
    },
    {
     "name": "stderr",
     "output_type": "stream",
     "text": [
      "\r",
      " 48%|██████████████████████████████████████▍                                          | 95/200 [01:46<01:31,  1.15it/s]"
     ]
    },
    {
     "name": "stdout",
     "output_type": "stream",
     "text": [
      "[['i', ['bookippt']], ['never', ['attend']], ['booking', ['cancel']]]\n",
      "Combining Features and Descriptors\n",
      "Features for Review 1\n",
      "['i', ['bookippt']]\n",
      "Updating Count\n",
      "['never', ['attend']]\n",
      "Updating Count\n",
      "['booking', ['cancel']]\n",
      "Updating Count\n",
      "\n",
      "Review Number :  95\n",
      "[['fail', ['you']], ['ippt', []], ['fit', ['sessions']], ['sessions', ['fit', 'finish']], ['window', ['considered']]]\n"
     ]
    },
    {
     "name": "stderr",
     "output_type": "stream",
     "text": [
      "\r",
      " 48%|██████████████████████████████████████▉                                          | 96/200 [01:47<01:47,  1.03s/it]"
     ]
    },
    {
     "name": "stdout",
     "output_type": "stream",
     "text": [
      "[['fail', ['you']], ['ippt', []], ['never', ['finish']], ['finish', ['never', 'fit']], ['fit', ['finish']], ['passippt', []], ['attempt', ['charged']], ['lo', ['simple']], ['simple', ['lo', 'charged']]]\n",
      "Combining Features and Descriptors\n",
      "Features for Review 1\n",
      "['fail', ['you']]\n",
      "Updating Count\n",
      "['ippt', []]\n",
      "Updating Count\n",
      "['fit', ['sessions']]\n",
      "Updating Count\n",
      "['sessions', ['fit', 'finish']]\n",
      "Updating Count\n",
      "['window', ['considered']]\n",
      "Updating Count\n",
      "Features for Review 2\n",
      "['fail', ['you']]\n",
      "Updating Count\n",
      "['ippt', []]\n",
      "Updating Count\n",
      "['never', ['finish']]\n",
      "Updating Count\n",
      "['finish', ['never', 'fit']]\n",
      "Updating Count\n",
      "['fit', ['finish']]\n",
      "Updating Count\n",
      "['passippt', []]\n",
      "Updating Count\n",
      "['attempt', ['charged']]\n",
      "Updating Count\n",
      "['lo', ['simple']]\n",
      "Updating Count\n",
      "['simple', ['lo', 'charged']]\n",
      "Updating Count\n",
      "\n",
      "Review Number :  96\n",
      "[['hi', []], ['guys', []], ['i', ['going']], ['first', ['rtsession']], ['rtsession', ['first']], ['week', []], ['maju', []]]\n",
      "[['i', ['rushing']], ['work', []], ['so', [12]], ['eta', [12]], ['exactly', [12]]]\n",
      "[['i', ['afraid', 'late']], ['afraid', ['i']], ['i', ['afraid', 'late']], ['slightly', ['late']], ['late', ['i', 'slightly']], ['jam', [\"'s\"]]]\n"
     ]
    },
    {
     "name": "stderr",
     "output_type": "stream",
     "text": [
      "\r",
      " 48%|███████████████████████████████████████▎                                         | 97/200 [01:49<02:16,  1.33s/it]"
     ]
    },
    {
     "name": "stdout",
     "output_type": "stream",
     "text": [
      "[['idea', ['what']], ['cutofftime', ['what']], ['inpro', []]]\n",
      "Combining Features and Descriptors\n",
      "Features for Review 1\n",
      "['hi', []]\n",
      "Updating Count\n",
      "['guys', []]\n",
      "Updating Count\n",
      "['i', ['going']]\n",
      "Updating Count\n",
      "['first', ['rtsession']]\n",
      "Updating Count\n",
      "['rtsession', ['first']]\n",
      "Updating Count\n",
      "['week', []]\n",
      "Updating Count\n",
      "['maju', []]\n",
      "Updating Count\n",
      "Features for Review 2\n",
      "['i', ['rushing']]\n",
      "Updating Count\n",
      "['work', []]\n",
      "Updating Count\n",
      "['so', [12]]\n",
      "Updating Count\n",
      "['eta', [12]]\n",
      "Updating Count\n",
      "['exactly', [12]]\n",
      "Updating Count\n",
      "Features for Review 3\n",
      "['i', ['afraid', 'late']]\n",
      "Updating Count\n",
      "['afraid', ['i']]\n",
      "Updating Count\n",
      "['i', ['afraid', 'late']]\n",
      "Updating Count\n",
      "['slightly', ['late']]\n",
      "Updating Count\n",
      "['late', ['i', 'slightly']]\n",
      "Updating Count\n",
      "['jam', [\"'s\"]]\n",
      "Updating Count\n",
      "Features for Review 4\n",
      "['idea', ['what']]\n",
      "Updating Count\n",
      "['cutofftime', ['what']]\n",
      "Updating Count\n",
      "['inpro', []]\n",
      "Updating Count\n",
      "\n",
      "Review Number :  97\n",
      "[['up', []], ['lor', ['decide']], ['guess', ['is']], ['cny', []]]\n",
      "[['need', ['wait']], ['confirmation', ['justme']], ['justme', ['confirmation', 'wrote']], ['wahswee', ['do']]]\n",
      "[['i', ['think']], ['ippt', []]]\n"
     ]
    },
    {
     "name": "stderr",
     "output_type": "stream",
     "text": [
      "\r",
      " 49%|███████████████████████████████████████▋                                         | 98/200 [01:51<02:40,  1.57s/it]"
     ]
    },
    {
     "name": "stdout",
     "output_type": "stream",
     "text": [
      "[['cham', []], ['pro', []], ['chat', []], ['then', [17]], ['pro', []]]\n",
      "Combining Features and Descriptors\n",
      "Features for Review 1\n",
      "['up', []]\n",
      "Updating Count\n",
      "['lor', ['decide']]\n",
      "Updating Count\n",
      "['guess', ['is']]\n",
      "Updating Count\n",
      "['cny', []]\n",
      "Updating Count\n",
      "Features for Review 2\n",
      "['need', ['wait']]\n",
      "Updating Count\n",
      "['confirmation', ['justme']]\n",
      "Updating Count\n",
      "['justme', ['confirmation', 'wrote']]\n",
      "Updating Count\n",
      "['wahswee', ['do']]\n",
      "Updating Count\n",
      "Features for Review 3\n",
      "['i', ['think']]\n",
      "Updating Count\n",
      "['ippt', []]\n",
      "Updating Count\n",
      "Features for Review 4\n",
      "['cham', []]\n",
      "Updating Count\n",
      "['pro', []]\n",
      "Updating Count\n",
      "['chat', []]\n",
      "Updating Count\n",
      "['then', [17]]\n",
      "Updating Count\n",
      "['pro', []]\n",
      "Updating Count\n",
      "\n",
      "Review Number :  98\n",
      "[['apparently', ['got']], ['green', ['tag']], ['tag', ['green', 'got']], ['bmi', ['requirement']], ['requirement', ['bmi', 'got']]]\n"
     ]
    },
    {
     "name": "stderr",
     "output_type": "stream",
     "text": [
      "\r",
      " 50%|████████████████████████████████████████                                         | 99/200 [01:52<02:23,  1.42s/it]"
     ]
    },
    {
     "name": "stdout",
     "output_type": "stream",
     "text": [
      "[['i', ['tried']], ['previous', ['session']], ['session', ['previous']], ['not', ['allowed']], ['bmi', []], ['only', ['27']], ['haha', []]]\n",
      "Combining Features and Descriptors\n",
      "Features for Review 1\n",
      "['apparently', ['got']]\n",
      "Updating Count\n",
      "['green', ['tag']]\n",
      "Updating Count\n",
      "['tag', ['green', 'got']]\n",
      "Updating Count\n",
      "['bmi', ['requirement']]\n",
      "Updating Count\n",
      "['requirement', ['bmi', 'got']]\n",
      "Updating Count\n",
      "Features for Review 2\n",
      "['i', ['tried']]\n",
      "Updating Count\n",
      "['previous', ['session']]\n",
      "Updating Count\n",
      "['session', ['previous']]\n",
      "Updating Count\n",
      "['not', ['allowed']]\n",
      "Updating Count\n",
      "['bmi', []]\n",
      "Updating Count\n",
      "['only', ['27']]\n",
      "Updating Count\n",
      "['haha', []]\n",
      "Updating Count\n",
      "\n",
      "Review Number :  99\n"
     ]
    },
    {
     "name": "stderr",
     "output_type": "stream",
     "text": [
      "\r",
      " 50%|████████████████████████████████████████                                        | 100/200 [01:53<01:56,  1.16s/it]"
     ]
    },
    {
     "name": "stdout",
     "output_type": "stream",
     "text": [
      "[['bestsinceday1', []], ['junior', []], ['memberjoin', []], ['joindate', []], ['sep', []], ['posts', []]]\n",
      "Combining Features and Descriptors\n",
      "Features for Review 1\n",
      "['bestsinceday1', []]\n",
      "Updating Count\n",
      "['junior', []]\n",
      "Updating Count\n",
      "['memberjoin', []]\n",
      "Updating Count\n",
      "['joindate', []]\n",
      "Updating Count\n",
      "['sep', []]\n",
      "Updating Count\n",
      "['posts', []]\n",
      "Updating Count\n",
      "\n",
      "Review Number :  100\n"
     ]
    },
    {
     "name": "stderr",
     "output_type": "stream",
     "text": [
      "\r",
      " 50%|████████████████████████████████████████▍                                       | 101/200 [01:53<01:28,  1.12it/s]"
     ]
    },
    {
     "name": "stdout",
     "output_type": "stream",
     "text": [
      "[['depends', []], ['unit', []]]\n",
      "Combining Features and Descriptors\n",
      "Features for Review 1\n",
      "['depends', []]\n",
      "Updating Count\n",
      "['unit', []]\n",
      "Updating Count\n",
      "\n",
      "Review Number :  101\n",
      "[['hi', []], ['there', []], ['such', []], ['systemchange', ['is']]]\n"
     ]
    },
    {
     "name": "stderr",
     "output_type": "stream",
     "text": [
      "\r",
      " 51%|████████████████████████████████████████▊                                       | 102/200 [01:54<01:39,  1.01s/it]"
     ]
    },
    {
     "name": "stdout",
     "output_type": "stream",
     "text": [
      "[['i', ['forgot']], ['ippt', ['take']], ['september', []], ['now', ['thought']], ['letter', ['thought']], ['just', ['continue']], ['rt', []], ['next', ['yearseptember']], ['yearseptember', ['next']]]\n",
      "Combining Features and Descriptors\n",
      "Features for Review 1\n",
      "['hi', []]\n",
      "Updating Count\n",
      "['there', []]\n",
      "Updating Count\n",
      "['such', []]\n",
      "Updating Count\n",
      "['systemchange', ['is']]\n",
      "Updating Count\n",
      "Features for Review 2\n",
      "['i', ['forgot']]\n",
      "Updating Count\n",
      "['ippt', ['take']]\n",
      "Updating Count\n",
      "['september', []]\n",
      "Updating Count\n",
      "['now', ['thought']]\n",
      "Updating Count\n",
      "['letter', ['thought']]\n",
      "Updating Count\n",
      "['just', ['continue']]\n",
      "Updating Count\n",
      "['rt', []]\n",
      "Updating Count\n",
      "['next', ['yearseptember']]\n",
      "Updating Count\n",
      "['yearseptember', ['next']]\n",
      "Updating Count\n",
      "\n",
      "Review Number :  102\n"
     ]
    },
    {
     "name": "stderr",
     "output_type": "stream",
     "text": [
      "\r",
      " 52%|█████████████████████████████████████████▏                                      | 103/200 [01:55<01:38,  1.01s/it]"
     ]
    },
    {
     "name": "stdout",
     "output_type": "stream",
     "text": [
      "[[\"n't\", ['go', 'do']], ['just', ['go']], ['mo', ['see']], ['still', ['seeking']], ['specialist', ['consultation']], ['consultation', ['specialist', 'seeking']], ['hence', ['do']], [\"n't\", ['go', 'do']]]\n",
      "Combining Features and Descriptors\n",
      "Features for Review 1\n",
      "[\"n't\", ['go', 'do']]\n",
      "Updating Count\n",
      "['just', ['go']]\n",
      "Updating Count\n",
      "['mo', ['see']]\n",
      "Updating Count\n",
      "['still', ['seeking']]\n",
      "Updating Count\n",
      "['specialist', ['consultation']]\n",
      "Updating Count\n",
      "['consultation', ['specialist', 'seeking']]\n",
      "Updating Count\n",
      "['hence', ['do']]\n",
      "Updating Count\n",
      "[\"n't\", ['go', 'do']]\n",
      "Updating Count\n",
      "\n",
      "Review Number :  103\n",
      "[]\n",
      "[]\n",
      "[['serve', ['you', 'reservist']], ['reservist', ['serve']], ['not', []]]\n",
      "[['ish', ['you']], ['xdd', []], ['ft', []]]\n",
      "[['simi', ['one', 'unfair']], ['unfair', ['simi']], ['other', ['reservist']], ['reservist', ['other', 'complete']], ['usually', ['complete']], ['didnt', []], ['complete', ['who', 'reservist', 'usually', 'those', 'cycles']], ['cycles', ['complete', 'one']], ['actually', ['one']], ['suffering', ['most', 'one']], ['unit', ['man']], ['call', ['man']], ['back', ['man']], ['ippttill', ['40']], ['year', ['man']], ['nightmare', ['man']], ['man', ['unit', 'call', 'back', 'year', 'nightmare']]]\n"
     ]
    },
    {
     "name": "stderr",
     "output_type": "stream",
     "text": [
      "\r",
      " 52%|█████████████████████████████████████████▌                                      | 104/200 [01:58<02:24,  1.50s/it]"
     ]
    },
    {
     "name": "stdout",
     "output_type": "stream",
     "text": [
      "[['everyone', ['wan']], ['just', ['wan']], ['na', []], ['clear', ['wan', 'cycles']], ['cycles', ['clear']], ['holan', ['bo']], ['really', ['feel']], ['feel', ['tiocall', 'really', 'sad']], ['sad', ['feel']]]\n",
      "Combining Features and Descriptors\n",
      "Features for Review 1\n",
      "Features for Review 2\n",
      "Features for Review 3\n",
      "['serve', ['you', 'reservist']]\n",
      "Updating Count\n",
      "['reservist', ['serve']]\n",
      "Updating Count\n",
      "['not', []]\n",
      "Updating Count\n",
      "Features for Review 4\n",
      "['ish', ['you']]\n",
      "Updating Count\n",
      "['xdd', []]\n",
      "Updating Count\n",
      "['ft', []]\n",
      "Updating Count\n",
      "Features for Review 5\n",
      "['simi', ['one', 'unfair']]\n",
      "Updating Count\n",
      "['unfair', ['simi']]\n",
      "Updating Count\n",
      "['other', ['reservist']]\n",
      "Updating Count\n",
      "['reservist', ['other', 'complete']]\n",
      "Updating Count\n",
      "['usually', ['complete']]\n",
      "Updating Count\n",
      "['didnt', []]\n",
      "Updating Count\n",
      "['complete', ['who', 'reservist', 'usually', 'those', 'cycles']]\n",
      "Updating Count\n",
      "['cycles', ['complete', 'one']]\n",
      "Updating Count\n",
      "['actually', ['one']]\n",
      "Updating Count\n",
      "['suffering', ['most', 'one']]\n",
      "Updating Count\n",
      "['unit', ['man']]\n",
      "Updating Count\n",
      "['call', ['man']]\n",
      "Updating Count\n",
      "['back', ['man']]\n",
      "Updating Count\n",
      "['ippttill', ['40']]\n",
      "Updating Count\n",
      "['year', ['man']]\n",
      "Updating Count\n",
      "['nightmare', ['man']]\n",
      "Updating Count\n",
      "['man', ['unit', 'call', 'back', 'year', 'nightmare']]\n",
      "Updating Count\n",
      "Features for Review 6\n",
      "['everyone', ['wan']]\n",
      "Updating Count\n",
      "['just', ['wan']]\n",
      "Updating Count\n",
      "['na', []]\n",
      "Updating Count\n",
      "['clear', ['wan', 'cycles']]\n",
      "Updating Count\n",
      "['cycles', ['clear']]\n",
      "Updating Count\n",
      "['holan', ['bo']]\n",
      "Updating Count\n",
      "['really', ['feel']]\n",
      "Updating Count\n",
      "['feel', ['tiocall', 'really', 'sad']]\n",
      "Updating Count\n",
      "['sad', ['feel']]\n",
      "Updating Count\n",
      "\n",
      "Review Number :  104\n",
      "[['thanks', []], ['information', []]]\n",
      "[['i', ['think']], ['case', []], ['now', ['do']], ['book', ['ipptsession']], ['ipptsession', ['book']], ['few', ['sessions']], ['ipt', ['sessions']], ['sessions', ['few', 'ipt']], ['same', ['time']], ['time', ['same']], ['help', ['seek']], ['unit', []], ['oc_s8', []]]\n",
      "[]\n"
     ]
    },
    {
     "name": "stderr",
     "output_type": "stream",
     "text": [
      "\r",
      " 52%|██████████████████████████████████████████                                      | 105/200 [02:00<02:42,  1.71s/it]"
     ]
    },
    {
     "name": "stdout",
     "output_type": "stream",
     "text": [
      "[['i', ['agree']], ['also', ['agree']], ['few', ['ippt_ipts']], ['ippt_ipts', ['few', 'attended']], ['ippt_ipts', ['few', 'attended']], ['much', ['easier']], ['easier', ['it', 'much']]]\n",
      "Combining Features and Descriptors\n",
      "Features for Review 1\n",
      "['thanks', []]\n",
      "Updating Count\n",
      "['information', []]\n",
      "Updating Count\n",
      "Features for Review 2\n",
      "['i', ['think']]\n",
      "Updating Count\n",
      "['case', []]\n",
      "Updating Count\n",
      "['now', ['do']]\n",
      "Updating Count\n",
      "['book', ['ipptsession']]\n",
      "Updating Count\n",
      "['ipptsession', ['book']]\n",
      "Updating Count\n",
      "['few', ['sessions']]\n",
      "Updating Count\n",
      "['ipt', ['sessions']]\n",
      "Updating Count\n",
      "['sessions', ['few', 'ipt']]\n",
      "Updating Count\n",
      "['same', ['time']]\n",
      "Updating Count\n",
      "['time', ['same']]\n",
      "Updating Count\n",
      "['help', ['seek']]\n",
      "Updating Count\n",
      "['unit', []]\n",
      "Updating Count\n",
      "['oc_s8', []]\n",
      "Updating Count\n",
      "Features for Review 3\n",
      "Features for Review 4\n",
      "['i', ['agree']]\n",
      "Updating Count\n",
      "['also', ['agree']]\n",
      "Updating Count\n",
      "['few', ['ippt_ipts']]\n",
      "Updating Count\n",
      "['ippt_ipts', ['few', 'attended']]\n",
      "Updating Count\n",
      "['ippt_ipts', ['few', 'attended']]\n",
      "Updating Count\n",
      "['much', ['easier']]\n",
      "Updating Count\n",
      "['easier', ['it', 'much']]\n",
      "Updating Count\n",
      "\n",
      "Review Number :  105\n",
      "[['i', ['ask']], ['earlier', ['post']], ['post', ['earlier']], ['greent', ['wrote']], ['greent', ['wrote']], ['just', ['came']], ['back', ['came']], ['bedokfcc', []], ['i', ['ask']], ['question', ['ask']], ['instructor', ['explain']], ['sat_sunsat_sun', []], ['ipptetc', []]]\n",
      "[['hopefully', ['help']], ['following', ['answers']], ['answers', ['following', 'help']], ['here', ['help']], ['still', ['good']], ['good', ['still']], ['doubtcause', ['causei']], ['causei', ['doubtcause', 'heard']], ['wrongly', ['heard']]]\n",
      "[['q', []], ['sat_sun', ['sat_sun', 'iptippt']], ['iptippt', ['why', 'sat_sun']]]\n",
      "[['reason', ['realize']], ['hq', ['realize']], ['realize', ['reason', 'hq']], ['sessionstart', ['about']], ['so', ['about']], ['then', []], ['weather', ['warm']], ['warm', ['weather', 'warm']], ['test', []]]\n",
      "[['q', []], ['apply', ['this']], ['fcc', []], ['iptippt', ['a']], ['yes', []]]\n",
      "[['fcc', ['conduct']], ['not', ['conduct']], ['iptippt', ['conduct']], ['sat_sunsat_sun', ['sat_sunq']], ['sat_sunq', ['sat_sunsat_sun']], ['today', []], ['trainingsession', ['attend']], ['right', ['attend']]]\n",
      "[['yes', []]]\n",
      "[['today', ['consider']], ['ipt', ['1']], ['sessionq', ['attend']], ['so', ['going']], ['windows', ['clear']]]\n",
      "[['oc', ['going']], ['tuesday', []], ['solution', ['what', 'those']], ['impact', []], ['unable', ['those', 'book']], ['book', ['unable', 'session']], ['session', ['book']], ['so', ['check']], ['please', []], ['ns', ['portal']], ['portal', ['ns', 'check']], ['tuesday', []], ['more', ['find']]]\n",
      "[['q', []], ['mean', ['that', 'need']], ['i', ['need']], ['still', ['need']], ['ipt', ['attend']], ['sessionla', []]]\n",
      "[['right', ['now']], ['now', ['right', 'is']], ['current', ['planning', 'windows']], ['planning', ['current', 'is']], ['session', ['have']], ['ipt', []], ['ippt', []], ['current', ['planning', 'windows']], ['windows', ['current', 'clear']]]\n",
      "[['q', []], ['unable', ['those', 'book']], ['book', ['unable', 'ipptsession', 'ipt']], ['single', ['ipptsession']], ['ipptsession', ['single', 'book']], ['book', ['unable', 'ipptsession', 'ipt']], ['ipt', ['book']]]\n",
      "[['still', ['consider']], ['clear', ['you', 'windows']], ['windows', ['clear']]]\n",
      "[['q', []], ['not', ['book']], ['book', ['those', 'not', 'ipt']], ['ipt', ['book']]]\n",
      "[['book', ['need', 'session']], ['ippt', ['session']], ['session', ['ippt', 'book']], ['defaulter', []]]\n",
      "[['unknown', ['part']], ['part', ['unknown']], [\"n't\", ['answer']], ['question', ['answer']], ['book', ['what', 'you', 'ipt']], ['ipt+1', []], ['+1ippt', []], ['ippt', ['and']], ['windows', []], ['close', ['and']], ['next', [31]], ['weeki', []]]\n",
      "[['*', []], ['also', ['mention']], ['rt', []], ['resume', ['mention']], ['april', []]]\n",
      "[['anyone', ['confirm']]]\n",
      "[['hope', []]]\n",
      "[['now', []], ['book', ['ippt']], ['ippt', ['book']], ['defaulter', ['avoid']]]\n",
      "[['good', ['luck']], ['luck', ['good', 'also']], ['also', ['luck']], ['not', ['forgetting']], ['currently', ['conducted']], ['none', []], ['ipt', ['slots']], ['slots', ['ipt']]]\n"
     ]
    },
    {
     "name": "stderr",
     "output_type": "stream",
     "text": [
      "\r",
      " 53%|██████████████████████████████████████████▍                                     | 106/200 [02:14<08:32,  5.45s/it]"
     ]
    },
    {
     "name": "stdout",
     "output_type": "stream",
     "text": [
      "[['windows', ['closed']], ['feb_marchfeb_march', []], ['not', ['able']], ['able', ['not', 'ended', 'take']], ['iptippt', ['take']]]\n",
      "Combining Features and Descriptors\n",
      "Features for Review 1\n",
      "['i', ['ask']]\n",
      "Updating Count\n",
      "['earlier', ['post']]\n",
      "Updating Count\n",
      "['post', ['earlier']]\n",
      "Updating Count\n",
      "['greent', ['wrote']]\n",
      "Updating Count\n",
      "['greent', ['wrote']]\n",
      "Updating Count\n",
      "['just', ['came']]\n",
      "Updating Count\n",
      "['back', ['came']]\n",
      "Updating Count\n",
      "['bedokfcc', []]\n",
      "Updating Count\n",
      "['i', ['ask']]\n",
      "Updating Count\n",
      "['question', ['ask']]\n",
      "Updating Count\n",
      "['instructor', ['explain']]\n",
      "Updating Count\n",
      "['sat_sunsat_sun', []]\n",
      "Updating Count\n",
      "['ipptetc', []]\n",
      "Updating Count\n",
      "Features for Review 2\n",
      "['hopefully', ['help']]\n",
      "Updating Count\n",
      "['following', ['answers']]\n",
      "Updating Count\n",
      "['answers', ['following', 'help']]\n",
      "Updating Count\n",
      "['here', ['help']]\n",
      "Updating Count\n",
      "['still', ['good']]\n",
      "Updating Count\n",
      "['good', ['still']]\n",
      "Updating Count\n",
      "['doubtcause', ['causei']]\n",
      "Updating Count\n",
      "['causei', ['doubtcause', 'heard']]\n",
      "Updating Count\n",
      "['wrongly', ['heard']]\n",
      "Updating Count\n",
      "Features for Review 3\n",
      "['q', []]\n",
      "Updating Count\n",
      "['sat_sun', ['sat_sun', 'iptippt']]\n",
      "Updating Count\n",
      "['iptippt', ['why', 'sat_sun']]\n",
      "Updating Count\n",
      "Features for Review 4\n",
      "['reason', ['realize']]\n",
      "Updating Count\n",
      "['hq', ['realize']]\n",
      "Updating Count\n",
      "['realize', ['reason', 'hq']]\n",
      "Updating Count\n",
      "['sessionstart', ['about']]\n",
      "Updating Count\n",
      "['so', ['about']]\n",
      "Updating Count\n",
      "['then', []]\n",
      "Updating Count\n",
      "['weather', ['warm']]\n",
      "Updating Count\n",
      "['warm', ['weather', 'warm']]\n",
      "Updating Count\n",
      "['test', []]\n",
      "Updating Count\n",
      "Features for Review 5\n",
      "['q', []]\n",
      "Updating Count\n",
      "['apply', ['this']]\n",
      "Updating Count\n",
      "['fcc', []]\n",
      "Updating Count\n",
      "['iptippt', ['a']]\n",
      "Updating Count\n",
      "['yes', []]\n",
      "Updating Count\n",
      "Features for Review 6\n",
      "['fcc', ['conduct']]\n",
      "Updating Count\n",
      "['not', ['conduct']]\n",
      "Updating Count\n",
      "['iptippt', ['conduct']]\n",
      "Updating Count\n",
      "['sat_sunsat_sun', ['sat_sunq']]\n",
      "Updating Count\n",
      "['sat_sunq', ['sat_sunsat_sun']]\n",
      "Updating Count\n",
      "['today', []]\n",
      "Updating Count\n",
      "['trainingsession', ['attend']]\n",
      "Updating Count\n",
      "['right', ['attend']]\n",
      "Updating Count\n",
      "Features for Review 7\n",
      "['yes', []]\n",
      "Updating Count\n",
      "Features for Review 8\n",
      "['today', ['consider']]\n",
      "Updating Count\n",
      "['ipt', ['1']]\n",
      "Updating Count\n",
      "['sessionq', ['attend']]\n",
      "Updating Count\n",
      "['so', ['going']]\n",
      "Updating Count\n",
      "['windows', ['clear']]\n",
      "Updating Count\n",
      "Features for Review 9\n",
      "['oc', ['going']]\n",
      "Updating Count\n",
      "['tuesday', []]\n",
      "Updating Count\n",
      "['solution', ['what', 'those']]\n",
      "Updating Count\n",
      "['impact', []]\n",
      "Updating Count\n",
      "['unable', ['those', 'book']]\n",
      "Updating Count\n",
      "['book', ['unable', 'session']]\n",
      "Updating Count\n",
      "['session', ['book']]\n",
      "Updating Count\n",
      "['so', ['check']]\n",
      "Updating Count\n",
      "['please', []]\n",
      "Updating Count\n",
      "['ns', ['portal']]\n",
      "Updating Count\n",
      "['portal', ['ns', 'check']]\n",
      "Updating Count\n",
      "['tuesday', []]\n",
      "Updating Count\n",
      "['more', ['find']]\n",
      "Updating Count\n",
      "Features for Review 10\n",
      "['q', []]\n",
      "Updating Count\n",
      "['mean', ['that', 'need']]\n",
      "Updating Count\n",
      "['i', ['need']]\n",
      "Updating Count\n",
      "['still', ['need']]\n",
      "Updating Count\n",
      "['ipt', ['attend']]\n",
      "Updating Count\n",
      "['sessionla', []]\n",
      "Updating Count\n",
      "Features for Review 11\n",
      "['right', ['now']]\n",
      "Updating Count\n",
      "['now', ['right', 'is']]\n",
      "Updating Count\n",
      "['current', ['planning', 'windows']]\n",
      "Updating Count\n",
      "['planning', ['current', 'is']]\n",
      "Updating Count\n",
      "['session', ['have']]\n",
      "Updating Count\n",
      "['ipt', []]\n",
      "Updating Count\n",
      "['ippt', []]\n",
      "Updating Count\n",
      "['current', ['planning', 'windows']]\n",
      "Updating Count\n",
      "['windows', ['current', 'clear']]\n",
      "Updating Count\n",
      "Features for Review 12\n",
      "['q', []]\n",
      "Updating Count\n",
      "['unable', ['those', 'book']]\n",
      "Updating Count\n",
      "['book', ['unable', 'ipptsession', 'ipt']]\n",
      "Updating Count\n",
      "['single', ['ipptsession']]\n",
      "Updating Count\n",
      "['ipptsession', ['single', 'book']]\n",
      "Updating Count\n",
      "['book', ['unable', 'ipptsession', 'ipt']]\n",
      "Updating Count\n",
      "['ipt', ['book']]\n",
      "Updating Count\n",
      "Features for Review 13\n",
      "['still', ['consider']]\n",
      "Updating Count\n",
      "['clear', ['you', 'windows']]\n",
      "Updating Count\n",
      "['windows', ['clear']]\n",
      "Updating Count\n",
      "Features for Review 14\n",
      "['q', []]\n",
      "Updating Count\n",
      "['not', ['book']]\n",
      "Updating Count\n",
      "['book', ['those', 'not', 'ipt']]\n",
      "Updating Count\n",
      "['ipt', ['book']]\n",
      "Updating Count\n",
      "Features for Review 15\n",
      "['book', ['need', 'session']]\n",
      "Updating Count\n",
      "['ippt', ['session']]\n",
      "Updating Count\n",
      "['session', ['ippt', 'book']]\n",
      "Updating Count\n",
      "['defaulter', []]\n",
      "Updating Count\n",
      "Features for Review 16\n",
      "['unknown', ['part']]\n",
      "Updating Count\n",
      "['part', ['unknown']]\n",
      "Updating Count\n",
      "[\"n't\", ['answer']]\n",
      "Updating Count\n",
      "['question', ['answer']]\n",
      "Updating Count\n",
      "['book', ['what', 'you', 'ipt']]\n",
      "Updating Count\n",
      "['ipt+1', []]\n",
      "Updating Count\n",
      "['+1ippt', []]\n",
      "Updating Count\n",
      "['ippt', ['and']]\n",
      "Updating Count\n",
      "['windows', []]\n",
      "Updating Count\n",
      "['close', ['and']]\n",
      "Updating Count\n",
      "['next', [31]]\n",
      "Updating Count\n",
      "['weeki', []]\n",
      "Updating Count\n",
      "Features for Review 17\n",
      "['*', []]\n",
      "Updating Count\n",
      "['also', ['mention']]\n",
      "Updating Count\n",
      "['rt', []]\n",
      "Updating Count\n",
      "['resume', ['mention']]\n",
      "Updating Count\n",
      "['april', []]\n",
      "Updating Count\n",
      "Features for Review 18\n",
      "['anyone', ['confirm']]\n",
      "Updating Count\n",
      "Features for Review 19\n",
      "['hope', []]\n",
      "Updating Count\n",
      "Features for Review 20\n",
      "['now', []]\n",
      "Updating Count\n",
      "['book', ['ippt']]\n",
      "Updating Count\n",
      "['ippt', ['book']]\n",
      "Updating Count\n",
      "['defaulter', ['avoid']]\n",
      "Updating Count\n",
      "Features for Review 21\n",
      "['good', ['luck']]\n",
      "Updating Count\n",
      "['luck', ['good', 'also']]\n",
      "Updating Count\n",
      "['also', ['luck']]\n",
      "Updating Count\n",
      "['not', ['forgetting']]\n",
      "Updating Count\n",
      "['currently', ['conducted']]\n",
      "Updating Count\n",
      "['none', []]\n",
      "Updating Count\n",
      "['ipt', ['slots']]\n",
      "Updating Count\n",
      "['slots', ['ipt']]\n",
      "Updating Count\n",
      "Features for Review 22\n",
      "['windows', ['closed']]\n",
      "Updating Count\n",
      "['feb_marchfeb_march', []]\n",
      "Updating Count\n",
      "['not', ['able']]\n",
      "Updating Count\n",
      "['able', ['not', 'ended', 'take']]\n",
      "Updating Count\n",
      "['iptippt', ['take']]\n",
      "Updating Count\n",
      "\n",
      "Review Number :  106\n",
      "[['clear', ['why', '10']], ['different', ['locations']], ['locations', ['different']]]\n",
      "[['normal', ['person']], ['person', ['normal', 'clock']], ['just', ['clock']], ['sessions', ['clock']], ['safra', ['gym']], ['gym', ['safra', 'nearest']], ['house', ['nearest']]]\n",
      "[['then', ['go']], ['just', ['go']], ['motion', []]]\n"
     ]
    },
    {
     "name": "stderr",
     "output_type": "stream",
     "text": [
      "\r",
      " 54%|██████████████████████████████████████████▊                                     | 107/200 [02:17<06:51,  4.42s/it]"
     ]
    },
    {
     "name": "stdout",
     "output_type": "stream",
     "text": [
      "[['pressure', []], ['pcwx', []], ['simple', ['life', 'ðÿ™\\x8fðÿ\\x8f»']], ['life', ['simple', 'using']], ['not', ['ðÿ™\\x8fðÿ\\x8f»']], ['simple', ['life', 'ðÿ™\\x8fðÿ\\x8f»']], ['thingðÿ™\\x8fðÿ\\x8f', ['ðÿ™\\x8fðÿ\\x8f»']], ['ðÿ™\\x8fðÿ\\x8f»', ['not', 'simple', 'thingðÿ™\\x8fðÿ\\x8f']]]\n",
      "Combining Features and Descriptors\n",
      "Features for Review 1\n",
      "['clear', ['why', '10']]\n",
      "Updating Count\n",
      "['different', ['locations']]\n",
      "Updating Count\n",
      "['locations', ['different']]\n",
      "Updating Count\n",
      "Features for Review 2\n",
      "['normal', ['person']]\n",
      "Updating Count\n",
      "['person', ['normal', 'clock']]\n",
      "Updating Count\n",
      "['just', ['clock']]\n",
      "Updating Count\n",
      "['sessions', ['clock']]\n",
      "Updating Count\n",
      "['safra', ['gym']]\n",
      "Updating Count\n",
      "['gym', ['safra', 'nearest']]\n",
      "Updating Count\n",
      "['house', ['nearest']]\n",
      "Updating Count\n",
      "Features for Review 3\n",
      "['then', ['go']]\n",
      "Updating Count\n",
      "['just', ['go']]\n",
      "Updating Count\n",
      "['motion', []]\n",
      "Updating Count\n",
      "Features for Review 4\n",
      "['pressure', []]\n",
      "Updating Count\n",
      "['pcwx', []]\n",
      "Updating Count\n",
      "['simple', ['life', 'ðÿ™\\x8fðÿ\\x8f»']]\n",
      "Updating Count\n",
      "['life', ['simple', 'using']]\n",
      "Updating Count\n",
      "['not', ['ðÿ™\\x8fðÿ\\x8f»']]\n",
      "Updating Count\n",
      "['simple', ['life', 'ðÿ™\\x8fðÿ\\x8f»']]\n",
      "Updating Count\n",
      "['thingðÿ™\\x8fðÿ\\x8f', ['ðÿ™\\x8fðÿ\\x8f»']]\n",
      "Updating Count\n",
      "['ðÿ™\\x8fðÿ\\x8f»', ['not', 'simple', 'thingðÿ™\\x8fðÿ\\x8f']]\n",
      "Updating Count\n",
      "\n",
      "Review Number :  107\n"
     ]
    },
    {
     "name": "stderr",
     "output_type": "stream",
     "text": [
      "\r",
      " 54%|███████████████████████████████████████████▏                                    | 108/200 [02:17<04:56,  3.23s/it]"
     ]
    },
    {
     "name": "stdout",
     "output_type": "stream",
     "text": [
      "[['oic', ['better']], ['much', ['better']], ['better', ['oic', 'that', 'much']], ['last', ['timeliao']], ['timeliao', ['last']]]\n",
      "Combining Features and Descriptors\n",
      "Features for Review 1\n",
      "['oic', ['better']]\n",
      "Updating Count\n",
      "['much', ['better']]\n",
      "Updating Count\n",
      "['better', ['oic', 'that', 'much']]\n",
      "Updating Count\n",
      "['last', ['timeliao']]\n",
      "Updating Count\n",
      "['timeliao', ['last']]\n",
      "Updating Count\n",
      "\n",
      "Review Number :  108\n",
      "[['many', ['how', 'sessions']], ['sessions', ['many', 'rt', 'check', 'need']]]\n",
      "[['i', ['thought', 'checked', 'need', 'done']], ['always', ['thought']], ['total', ['sessions']], ['sessions', ['total', 'complete']], ['i', ['thought', 'checked', 'need', 'done']], ['system', ['says']], ['ns', ['portal']], ['portal', ['ns']], ['i', ['thought', 'checked', 'need', 'done']], ['sessions', ['total', 'complete']], ['i', ['thought', 'checked', 'need', 'done']], ['sessions', ['total', 'complete']]]\n"
     ]
    },
    {
     "name": "stderr",
     "output_type": "stream",
     "text": [
      "\r",
      " 55%|███████████████████████████████████████████▌                                    | 109/200 [02:20<04:50,  3.19s/it]"
     ]
    },
    {
     "name": "stdout",
     "output_type": "stream",
     "text": [
      "[['first', []], ['i', ['thought', 'taken', 'counted']], ['rtippt', ['sessions', 'were']], ['sessions', ['it', 'rtippt', 'taken', 'already']], ['not', ['counted']], ['sessions', ['it', 'rtippt', 'taken', 'already']], ['i', ['thought', 'taken', 'counted']], [\"'currentwindow\", []], ['windowattendance', ['and']], ['record', ['counted']], ['rtippt', ['sessions', 'were']], ['sessions', ['it', 'rtippt', 'taken', 'already']], ['indeed', ['already']], ['sessions', ['it', 'rtippt', 'taken', 'already']], ['already', ['sessions', 'indeed', 46]]]\n",
      "Combining Features and Descriptors\n",
      "Features for Review 1\n",
      "['many', ['how', 'sessions']]\n",
      "Updating Count\n",
      "['sessions', ['many', 'rt', 'check', 'need']]\n",
      "Updating Count\n",
      "Features for Review 2\n",
      "['i', ['thought', 'checked', 'need', 'done']]\n",
      "Updating Count\n",
      "['always', ['thought']]\n",
      "Updating Count\n",
      "['total', ['sessions']]\n",
      "Updating Count\n",
      "['sessions', ['total', 'complete']]\n",
      "Updating Count\n",
      "['i', ['thought', 'checked', 'need', 'done']]\n",
      "Updating Count\n",
      "['system', ['says']]\n",
      "Updating Count\n",
      "['ns', ['portal']]\n",
      "Updating Count\n",
      "['portal', ['ns']]\n",
      "Updating Count\n",
      "['i', ['thought', 'checked', 'need', 'done']]\n",
      "Updating Count\n",
      "['sessions', ['total', 'complete']]\n",
      "Updating Count\n",
      "['i', ['thought', 'checked', 'need', 'done']]\n",
      "Updating Count\n",
      "['sessions', ['total', 'complete']]\n",
      "Updating Count\n",
      "Features for Review 3\n",
      "['first', []]\n",
      "Updating Count\n",
      "['i', ['thought', 'taken', 'counted']]\n",
      "Updating Count\n",
      "['rtippt', ['sessions', 'were']]\n",
      "Updating Count\n",
      "['sessions', ['it', 'rtippt', 'taken', 'already']]\n",
      "Updating Count\n",
      "['not', ['counted']]\n",
      "Updating Count\n",
      "['sessions', ['it', 'rtippt', 'taken', 'already']]\n",
      "Updating Count\n",
      "['i', ['thought', 'taken', 'counted']]\n",
      "Updating Count\n",
      "[\"'currentwindow\", []]\n",
      "Updating Count\n",
      "['windowattendance', ['and']]\n",
      "Updating Count\n",
      "['record', ['counted']]\n",
      "Updating Count\n",
      "['rtippt', ['sessions', 'were']]\n",
      "Updating Count\n",
      "['sessions', ['it', 'rtippt', 'taken', 'already']]\n",
      "Updating Count\n",
      "['indeed', ['already']]\n",
      "Updating Count\n",
      "['sessions', ['it', 'rtippt', 'taken', 'already']]\n",
      "Updating Count\n",
      "['already', ['sessions', 'indeed', 46]]\n",
      "Updating Count\n",
      "\n",
      "Review Number :  109\n",
      "[]\n"
     ]
    },
    {
     "name": "stderr",
     "output_type": "stream",
     "text": [
      "\r",
      " 55%|████████████████████████████████████████████                                    | 110/200 [02:20<03:28,  2.31s/it]"
     ]
    },
    {
     "name": "stdout",
     "output_type": "stream",
     "text": [
      "[['mustdo', []]]\n",
      "Combining Features and Descriptors\n",
      "Features for Review 1\n",
      "Features for Review 2\n",
      "['mustdo', []]\n",
      "Updating Count\n",
      "\n",
      "Review Number :  110\n"
     ]
    },
    {
     "name": "stderr",
     "output_type": "stream",
     "text": [
      "\r",
      " 56%|████████████████████████████████████████████▍                                   | 111/200 [02:21<02:37,  1.77s/it]"
     ]
    },
    {
     "name": "stdout",
     "output_type": "stream",
     "text": [
      "[[\"n't\", ['relate']], ['eastsider', ['relate']], ['here', ['relate']], ['damn', ['packed']], ['tampines', []]]\n",
      "Combining Features and Descriptors\n",
      "Features for Review 1\n",
      "[\"n't\", ['relate']]\n",
      "Updating Count\n",
      "['eastsider', ['relate']]\n",
      "Updating Count\n",
      "['here', ['relate']]\n",
      "Updating Count\n",
      "['damn', ['packed']]\n",
      "Updating Count\n",
      "['tampines', []]\n",
      "Updating Count\n",
      "\n",
      "Review Number :  111\n",
      "[['window', ['start']], ['start', ['window', 'sent']], ['last', ['july']], ['july', ['last']]]\n",
      "[['gagt', ['using']]]\n",
      "Combining Features and Descriptors\n",
      "Features for Review 1\n",
      "['window', ['start']]\n",
      "Updating Count\n",
      "['start', ['window', 'sent']]\n",
      "Updating Count\n",
      "['last', ['july']]"
     ]
    },
    {
     "name": "stderr",
     "output_type": "stream",
     "text": [
      "\r",
      " 56%|████████████████████████████████████████████▊                                   | 112/200 [02:21<02:03,  1.41s/it]"
     ]
    },
    {
     "name": "stdout",
     "output_type": "stream",
     "text": [
      "\n",
      "Updating Count\n",
      "['july', ['last']]\n",
      "Updating Count\n",
      "Features for Review 2\n",
      "['gagt', ['using']]\n",
      "Updating Count\n",
      "\n",
      "Review Number :  112\n",
      "[['recuit', ['seen']], ['back', ['seen']], ['reservice', ['one']]]\n"
     ]
    },
    {
     "name": "stderr",
     "output_type": "stream",
     "text": [
      "\r",
      " 56%|█████████████████████████████████████████████▏                                  | 113/200 [02:22<01:46,  1.23s/it]"
     ]
    },
    {
     "name": "stdout",
     "output_type": "stream",
     "text": [
      "[['idun', []], ['dunwan', ['go']], ['back', ['go']]]\n",
      "Combining Features and Descriptors\n",
      "Features for Review 1\n",
      "['recuit', ['seen']]\n",
      "Updating Count\n",
      "['back', ['seen']]\n",
      "Updating Count\n",
      "['reservice', ['one']]\n",
      "Updating Count\n",
      "Features for Review 2\n",
      "['idun', []]\n",
      "Updating Count\n",
      "['dunwan', ['go']]\n",
      "Updating Count\n",
      "['back', ['go']]\n",
      "Updating Count\n",
      "\n",
      "Review Number :  113\n",
      "[['fcc', ['khatib', 'closed']]]\n"
     ]
    },
    {
     "name": "stderr",
     "output_type": "stream",
     "text": [
      "\r",
      " 57%|█████████████████████████████████████████████▌                                  | 114/200 [02:23<01:34,  1.10s/it]"
     ]
    },
    {
     "name": "stdout",
     "output_type": "stream",
     "text": [
      "[[\"n't\", ['book']], ['book', [\"n't\", 'ippt', 'there']], ['there', ['book']], ['anyone', ['know']]]\n",
      "Combining Features and Descriptors\n",
      "Features for Review 1\n",
      "['fcc', ['khatib', 'closed']]\n",
      "Updating Count\n",
      "Features for Review 2\n",
      "[\"n't\", ['book']]\n",
      "Updating Count\n",
      "['book', [\"n't\", 'ippt', 'there']]\n",
      "Updating Count\n",
      "['there', ['book']]\n",
      "Updating Count\n",
      "['anyone', ['know']]\n",
      "Updating Count\n",
      "\n",
      "Review Number :  114\n",
      "[['anyone', ['went']], ['camp', ['bedok']], ['recently', ['went']]]\n",
      "[['still', ['anal']], ['dresscode', []], ['camp', ['entering']], ['ipt_ippt', []]]\n"
     ]
    },
    {
     "name": "stderr",
     "output_type": "stream",
     "text": [
      "\r",
      " 57%|██████████████████████████████████████████████                                  | 115/200 [02:24<01:33,  1.10s/it]"
     ]
    },
    {
     "name": "stdout",
     "output_type": "stream",
     "text": [
      "[['ipt_ippt', []]]\n",
      "Combining Features and Descriptors\n",
      "Features for Review 1\n",
      "['anyone', ['went']]\n",
      "Updating Count\n",
      "['camp', ['bedok']]\n",
      "Updating Count\n",
      "['recently', ['went']]\n",
      "Updating Count\n",
      "Features for Review 2\n",
      "['still', ['anal']]\n",
      "Updating Count\n",
      "['dresscode', []]\n",
      "Updating Count\n",
      "['camp', ['entering']]\n",
      "Updating Count\n",
      "['ipt_ippt', []]\n",
      "Updating Count\n",
      "Features for Review 3\n",
      "['ipt_ippt', []]\n",
      "Updating Count\n",
      "\n",
      "Review Number :  115\n",
      "[['hey', []], ['guys', []], ['i', ['attended']], ['recently', ['attended']], ['first', ['session']], ['iptippt', ['session']], ['session', ['first', 'iptippt', 'attended']], ['ipt', []], ['parkprogramme', []]]\n",
      "[['i', ['tried']], ['cisco', ['instructors']], ['instructors', ['cisco', 'ask']], ['program', []], [\"n't\", ['know']], ['other', ['company']], ['company', ['other']]]\n",
      "[['ns', ['portal']], ['portal', ['ns', 'seem']], ['also', ['seem']], ['maintenance', ['seem']]]\n",
      "[['just', ['want']], ['anyone', ['has']], ['experience', ['has']], ['such', ['programme']], ['programme', ['such', 'attending']]]\n",
      "[['example', []], ['bay', ['marina']]]\n",
      "[['also', ['issue']], ['bands', ['colored', 'issue']], ['training', []]]\n",
      "[['slip', ['generate']], ['attendance', []]]\n"
     ]
    },
    {
     "name": "stderr",
     "output_type": "stream",
     "text": [
      "\r",
      " 58%|██████████████████████████████████████████████▍                                 | 116/200 [02:28<02:50,  2.03s/it]"
     ]
    },
    {
     "name": "stdout",
     "output_type": "stream",
     "text": [
      "[['many', ['thanks']], ['thanks', ['many']]]\n",
      "Combining Features and Descriptors\n",
      "Features for Review 1\n",
      "['hey', []]\n",
      "Updating Count\n",
      "['guys', []]\n",
      "Updating Count\n",
      "['i', ['attended']]\n",
      "Updating Count\n",
      "['recently', ['attended']]\n",
      "Updating Count\n",
      "['first', ['session']]\n",
      "Updating Count\n",
      "['iptippt', ['session']]\n",
      "Updating Count\n",
      "['session', ['first', 'iptippt', 'attended']]\n",
      "Updating Count\n",
      "['ipt', []]\n",
      "Updating Count\n",
      "['parkprogramme', []]\n",
      "Updating Count\n",
      "Features for Review 2\n",
      "['i', ['tried']]\n",
      "Updating Count\n",
      "['cisco', ['instructors']]\n",
      "Updating Count\n",
      "['instructors', ['cisco', 'ask']]\n",
      "Updating Count\n",
      "['program', []]\n",
      "Updating Count\n",
      "[\"n't\", ['know']]\n",
      "Updating Count\n",
      "['other', ['company']]\n",
      "Updating Count\n",
      "['company', ['other']]\n",
      "Updating Count\n",
      "Features for Review 3\n",
      "['ns', ['portal']]\n",
      "Updating Count\n",
      "['portal', ['ns', 'seem']]\n",
      "Updating Count\n",
      "['also', ['seem']]\n",
      "Updating Count\n",
      "['maintenance', ['seem']]\n",
      "Updating Count\n",
      "Features for Review 4\n",
      "['just', ['want']]\n",
      "Updating Count\n",
      "['anyone', ['has']]\n",
      "Updating Count\n",
      "['experience', ['has']]\n",
      "Updating Count\n",
      "['such', ['programme']]\n",
      "Updating Count\n",
      "['programme', ['such', 'attending']]\n",
      "Updating Count\n",
      "Features for Review 5\n",
      "['example', []]\n",
      "Updating Count\n",
      "['bay', ['marina']]\n",
      "Updating Count\n",
      "Features for Review 6\n",
      "['also', ['issue']]\n",
      "Updating Count\n",
      "['bands', ['colored', 'issue']]\n",
      "Updating Count\n",
      "['training', []]\n",
      "Updating Count\n",
      "Features for Review 7\n",
      "['slip', ['generate']]\n",
      "Updating Count\n",
      "['attendance', []]\n",
      "Updating Count\n",
      "Features for Review 8\n",
      "['many', ['thanks']]\n",
      "Updating Count\n",
      "['thanks', ['many']]\n",
      "Updating Count\n",
      "\n",
      "Review Number :  116\n",
      "[['ran', ['rounds']], ['rounds', ['ran']], ['mine', []], ['then', ['dropped']]]\n",
      "[['fi', ['say']], ['loh', ['say']]]\n"
     ]
    },
    {
     "name": "stderr",
     "output_type": "stream",
     "text": [
      "\r",
      " 58%|██████████████████████████████████████████████▊                                 | 117/200 [02:29<02:23,  1.72s/it]"
     ]
    },
    {
     "name": "stdout",
     "output_type": "stream",
     "text": [
      "[['rounds', ['run']]]\n",
      "Combining Features and Descriptors\n",
      "Features for Review 1\n",
      "['ran', ['rounds']]\n",
      "Updating Count\n",
      "['rounds', ['ran']]\n",
      "Updating Count\n",
      "['mine', []]\n",
      "Updating Count\n",
      "['then', ['dropped']]\n",
      "Updating Count\n",
      "Features for Review 2\n",
      "['fi', ['say']]\n",
      "Updating Count\n",
      "['loh', ['say']]\n",
      "Updating Count\n",
      "Features for Review 3\n",
      "['rounds', ['run']]\n",
      "Updating Count\n",
      "\n",
      "Review Number :  117\n",
      "[['uniform', ['keep']]]\n",
      "[['always', ['is']], ['chance', ['is', 'call']], ['again', ['call']]]\n",
      "[['long', ['as', '40']], ['<', []]]\n"
     ]
    },
    {
     "name": "stderr",
     "output_type": "stream",
     "text": [
      "\r",
      " 59%|███████████████████████████████████████████████▏                                | 118/200 [02:31<02:13,  1.63s/it]"
     ]
    },
    {
     "name": "stdout",
     "output_type": "stream",
     "text": [
      "[['returnuniform', ['f']], ['only', ['f']], ['pes', ['f']], ['f', ['returnuniform', 'only', 'pes']]]\n",
      "Combining Features and Descriptors\n",
      "Features for Review 1\n",
      "['uniform', ['keep']]\n",
      "Updating Count\n",
      "Features for Review 2\n",
      "['always', ['is']]\n",
      "Updating Count\n",
      "['chance', ['is', 'call']]\n",
      "Updating Count\n",
      "['again', ['call']]\n",
      "Updating Count\n",
      "Features for Review 3\n",
      "['long', ['as', '40']]\n",
      "Updating Count\n",
      "['<', []]\n",
      "Updating Count\n",
      "Features for Review 4\n",
      "['returnuniform', ['f']]\n",
      "Updating Count\n",
      "['only', ['f']]\n",
      "Updating Count\n",
      "['pes', ['f']]\n",
      "Updating Count\n",
      "['f', ['returnuniform', 'only', 'pes']]\n",
      "Updating Count\n",
      "\n",
      "Review Number :  118\n"
     ]
    },
    {
     "name": "stderr",
     "output_type": "stream",
     "text": [
      "\r",
      " 60%|███████████████████████████████████████████████▌                                | 119/200 [02:32<01:53,  1.40s/it]"
     ]
    },
    {
     "name": "stdout",
     "output_type": "stream",
     "text": [
      "[['i', ['knowthats']], ['safety', ['informed']], ['officers', ['conducting']], ['session', ['khatib']], ['startsonly', ['khatib']], ['camp', ['khatib']], ['ippt', ['training']], ['only', ['training']]]\n",
      "Combining Features and Descriptors\n",
      "Features for Review 1\n",
      "['i', ['knowthats']]\n",
      "Updating Count\n",
      "['safety', ['informed']]\n",
      "Updating Count\n",
      "['officers', ['conducting']]\n",
      "Updating Count\n",
      "['session', ['khatib']]\n",
      "Updating Count\n",
      "['startsonly', ['khatib']]\n",
      "Updating Count\n",
      "['camp', ['khatib']]\n",
      "Updating Count\n",
      "['ippt', ['training']]\n",
      "Updating Count\n",
      "['only', ['training']]\n",
      "Updating Count\n",
      "\n",
      "Review Number :  119\n",
      "[['anyone', ['knows']], ['examplei', ['enlisting']], ['aug', []], ['ippt', ['pass']], ['protocol', []], ['stuff', []], ['so', ['issue']], ['no', []], ['issue', ['so']]]\n",
      "[['i', ['get']], ['i', ['get']], ['enlistmentdate', ['get']]]\n",
      "[['so', ['date']], ['aug', ['date']], ['weeks', []], ['later', ['date']], ['enlistment', ['date']], ['date', ['so', 'aug', 'later', 'enlistment']]]\n"
     ]
    },
    {
     "name": "stderr",
     "output_type": "stream",
     "text": [
      "\r",
      " 60%|████████████████████████████████████████████████                                | 120/200 [02:34<02:13,  1.67s/it]"
     ]
    },
    {
     "name": "stdout",
     "output_type": "stream",
     "text": [
      "[['anyone', ['knows']], ['same', ['thing']], ['thing', ['same', 'experienced']]]\n",
      "Combining Features and Descriptors\n",
      "Features for Review 1\n",
      "['anyone', ['knows']]\n",
      "Updating Count\n",
      "['examplei', ['enlisting']]\n",
      "Updating Count\n",
      "['aug', []]\n",
      "Updating Count\n",
      "['ippt', ['pass']]\n",
      "Updating Count\n",
      "['protocol', []]\n",
      "Updating Count\n",
      "['stuff', []]\n",
      "Updating Count\n",
      "['so', ['issue']]\n",
      "Updating Count\n",
      "['no', []]\n",
      "Updating Count\n",
      "['issue', ['so']]\n",
      "Updating Count\n",
      "Features for Review 2\n",
      "['i', ['get']]\n",
      "Updating Count\n",
      "['i', ['get']]\n",
      "Updating Count\n",
      "['enlistmentdate', ['get']]\n",
      "Updating Count\n",
      "Features for Review 3\n",
      "['so', ['date']]\n",
      "Updating Count\n",
      "['aug', ['date']]\n",
      "Updating Count\n",
      "['weeks', []]\n",
      "Updating Count\n",
      "['later', ['date']]\n",
      "Updating Count\n",
      "['enlistment', ['date']]\n",
      "Updating Count\n",
      "['date', ['so', 'aug', 'later', 'enlistment']]\n",
      "Updating Count\n",
      "Features for Review 4\n",
      "['anyone', ['knows']]\n",
      "Updating Count\n",
      "['same', ['thing']]\n",
      "Updating Count\n",
      "['thing', ['same', 'experienced']]\n",
      "Updating Count\n",
      "\n",
      "Review Number :  120\n",
      "[['so', ['why']]]\n"
     ]
    },
    {
     "name": "stderr",
     "output_type": "stream",
     "text": [
      "\r",
      " 60%|████████████████████████████████████████████████▍                               | 121/200 [02:34<01:45,  1.33s/it]"
     ]
    },
    {
     "name": "stdout",
     "output_type": "stream",
     "text": [
      "[['others', ['are', 'skip']], ['year', []], ['also', ['skip']]]\n",
      "Combining Features and Descriptors\n",
      "Features for Review 1\n",
      "['so', ['why']]\n",
      "Updating Count\n",
      "Features for Review 2\n",
      "['others', ['are', 'skip']]\n",
      "Updating Count\n",
      "['year', []]\n",
      "Updating Count\n",
      "['also', ['skip']]\n",
      "Updating Count\n",
      "\n",
      "Review Number :  121\n",
      "[['next', ['yearrt']], ['yearrt', ['next', 'bad']], ['bad', ['yearrt']]]\n",
      "[['many', ['have', 'clear']], [\"n't\", ['clear']], ['clear', ['who', \"n't\", 'many']], ['ipt', ['have']], ['rt', ['go']], ['slots', []], ['too', ['limited']]]\n"
     ]
    },
    {
     "name": "stderr",
     "output_type": "stream",
     "text": [
      "\r",
      " 61%|████████████████████████████████████████████████▊                               | 122/200 [02:36<01:42,  1.32s/it]"
     ]
    },
    {
     "name": "stdout",
     "output_type": "stream",
     "text": [
      "[['i', ['see']], ['many', ['defaulters']], ['defaulters', ['many', 'see']]]\n",
      "Combining Features and Descriptors\n",
      "Features for Review 1\n",
      "['next', ['yearrt']]\n",
      "Updating Count\n",
      "['yearrt', ['next', 'bad']]\n",
      "Updating Count\n",
      "['bad', ['yearrt']]\n",
      "Updating Count\n",
      "Features for Review 2\n",
      "['many', ['have', 'clear']]\n",
      "Updating Count\n",
      "[\"n't\", ['clear']]\n",
      "Updating Count\n",
      "['clear', ['who', \"n't\", 'many']]\n",
      "Updating Count\n",
      "['ipt', ['have']]\n",
      "Updating Count\n",
      "['rt', ['go']]\n",
      "Updating Count\n",
      "['slots', []]\n",
      "Updating Count\n",
      "['too', ['limited']]\n",
      "Updating Count\n",
      "Features for Review 3\n",
      "['i', ['see']]\n",
      "Updating Count\n",
      "['many', ['defaulters']]\n",
      "Updating Count\n",
      "['defaulters', ['many', 'see']]\n",
      "Updating Count\n",
      "\n",
      "Review Number :  122\n"
     ]
    },
    {
     "name": "stderr",
     "output_type": "stream",
     "text": [
      "\r",
      " 62%|█████████████████████████████████████████████████▏                              | 123/200 [02:36<01:20,  1.05s/it]"
     ]
    },
    {
     "name": "stdout",
     "output_type": "stream",
     "text": [
      "[['now', ['have']], ['years', ['have']], ['rt', ['complete']]]\n",
      "Combining Features and Descriptors\n",
      "Features for Review 1\n",
      "['now', ['have']]\n",
      "Updating Count\n",
      "['years', ['have']]\n",
      "Updating Count\n",
      "['rt', ['complete']]\n",
      "Updating Count\n",
      "\n",
      "Review Number :  123\n",
      "[['incentives', ['get']], ['year', ['ippt']], ['ippt', ['year']]]\n"
     ]
    },
    {
     "name": "stderr",
     "output_type": "stream",
     "text": [
      "\r",
      " 62%|█████████████████████████████████████████████████▌                              | 124/200 [02:37<01:12,  1.04it/s]"
     ]
    },
    {
     "name": "stdout",
     "output_type": "stream",
     "text": [
      "[['not', []], ['i', ['bother']], [\"n't\", ['bother']]]\n",
      "Combining Features and Descriptors\n",
      "Features for Review 1\n",
      "['incentives', ['get']]\n",
      "Updating Count\n",
      "['year', ['ippt']]\n",
      "Updating Count\n",
      "['ippt', ['year']]\n",
      "Updating Count\n",
      "Features for Review 2\n",
      "['not', []]\n",
      "Updating Count\n",
      "['i', ['bother']]\n",
      "Updating Count\n",
      "[\"n't\", ['bother']]\n",
      "Updating Count\n",
      "\n",
      "Review Number :  124\n",
      "[]\n",
      "Combining Features and Descriptors\n",
      "Features for Review 1\n",
      "\n",
      "Review Number :  125\n"
     ]
    },
    {
     "name": "stderr",
     "output_type": "stream",
     "text": [
      "\r",
      " 63%|██████████████████████████████████████████████████▍                             | 126/200 [02:37<00:46,  1.58it/s]"
     ]
    },
    {
     "name": "stdout",
     "output_type": "stream",
     "text": [
      "[['different', ['thread']], ['thread', ['different', 'create']], ['question_', []], ['_', []], ['joke', []]]\n",
      "Combining Features and Descriptors\n",
      "Features for Review 1\n",
      "['different', ['thread']]\n",
      "Updating Count\n",
      "['thread', ['different', 'create']]\n",
      "Updating Count\n",
      "['question_', []]\n",
      "Updating Count\n",
      "['_', []]\n",
      "Updating Count\n",
      "['joke', []]\n",
      "Updating Count\n",
      "\n",
      "Review Number :  126\n"
     ]
    },
    {
     "name": "stderr",
     "output_type": "stream",
     "text": [
      "\r",
      " 64%|██████████████████████████████████████████████████▊                             | 127/200 [02:38<00:42,  1.73it/s]"
     ]
    },
    {
     "name": "stdout",
     "output_type": "stream",
     "text": [
      "[['i', ['think']], ['%standard', []], ['standardpush', []]]\n",
      "Combining Features and Descriptors\n",
      "Features for Review 1\n",
      "['i', ['think']]\n",
      "Updating Count\n",
      "['%standard', []]\n",
      "Updating Count\n",
      "['standardpush', []]\n",
      "Updating Count\n",
      "\n",
      "Review Number :  127\n",
      "[['looks', []], ['start', ['now']], ['new', ['yeartill']], ['yeartill', ['new']], ['now', ['start']], ['hence', ['postponed']], ['attempts', []], ['ippt', []], ['further', ['notice']], ['notice', ['further']]]\n"
     ]
    },
    {
     "name": "stderr",
     "output_type": "stream",
     "text": [
      "\r",
      " 64%|███████████████████████████████████████████████████▏                            | 128/200 [02:39<01:02,  1.16it/s]"
     ]
    },
    {
     "name": "stdout",
     "output_type": "stream",
     "text": [
      "[['good', ['time']], ['time', ['good']], ['ippt', ['attempt']]]\n",
      "Combining Features and Descriptors\n",
      "Features for Review 1\n",
      "['looks', []]\n",
      "Updating Count\n",
      "['start', ['now']]\n",
      "Updating Count\n",
      "['new', ['yeartill']]\n",
      "Updating Count\n",
      "['yeartill', ['new']]\n",
      "Updating Count\n",
      "['now', ['start']]\n",
      "Updating Count\n",
      "['hence', ['postponed']]\n",
      "Updating Count\n",
      "['attempts', []]\n",
      "Updating Count\n",
      "['ippt', []]\n",
      "Updating Count\n",
      "['further', ['notice']]\n",
      "Updating Count\n",
      "['notice', ['further']]\n",
      "Updating Count\n",
      "Features for Review 2\n",
      "['good', ['time']]\n",
      "Updating Count\n",
      "['time', ['good']]\n",
      "Updating Count\n",
      "['ippt', ['attempt']]\n",
      "Updating Count\n",
      "\n",
      "Review Number :  128\n"
     ]
    },
    {
     "name": "stderr",
     "output_type": "stream",
     "text": [
      "\r",
      " 64%|███████████████████████████████████████████████████▌                            | 129/200 [02:40<00:55,  1.28it/s]"
     ]
    },
    {
     "name": "stdout",
     "output_type": "stream",
     "text": [
      "[['wait', []], ['days', []], ['birthday', []], ['waiversms', ['receive']]]\n",
      "Combining Features and Descriptors\n",
      "Features for Review 1\n",
      "['wait', []]\n",
      "Updating Count\n",
      "['days', []]\n",
      "Updating Count\n",
      "['birthday', []]\n",
      "Updating Count\n",
      "['waiversms', ['receive']]\n",
      "Updating Count\n",
      "\n",
      "Review Number :  129\n",
      "[['maybe', ['call']], ['ns', ['hotline']], ['hotline', ['ns', 'call']], ['again', ['call']], ['s8', []], ['dys8', []], ['contact', ['details', 'you', 'him', 'directly']], ['details', ['contact', 'request']], ['email', []], ['so', []], ['directly', ['contact']]]\n"
     ]
    },
    {
     "name": "stderr",
     "output_type": "stream",
     "text": [
      "\r",
      " 65%|████████████████████████████████████████████████████                            | 130/200 [02:43<01:39,  1.42s/it]"
     ]
    },
    {
     "name": "stdout",
     "output_type": "stream",
     "text": [
      "[['many', ['years']], ['years', ['many']], ['i', ['defaulted', 'called']], ['unknowingly', ['defaulted']], ['ippt', ['defaulted']], ['due', []], ['list', ['me', 'holding']], ['long', ['time']], ['time', ['long']], ['prior', []], ['i', ['defaulted', 'called']], ['also', ['called']], ['nshotline', ['called']], ['message', ['conveyed']], ['unit', []], ['dys8', ['contacted']], ['few', ['days']], ['days', ['few']], ['later', ['contacted']], ['dys8', ['contacted']], ['chance', ['gave']], ['i', ['defaulted', 'called']], ['not', ['charged']], ['end', []]]\n",
      "Combining Features and Descriptors\n",
      "Features for Review 1\n",
      "['maybe', ['call']]\n",
      "Updating Count\n",
      "['ns', ['hotline']]\n",
      "Updating Count\n",
      "['hotline', ['ns', 'call']]\n",
      "Updating Count\n",
      "['again', ['call']]\n",
      "Updating Count\n",
      "['s8', []]\n",
      "Updating Count\n",
      "['dys8', []]\n",
      "Updating Count\n",
      "['contact', ['details', 'you', 'him', 'directly']]\n",
      "Updating Count\n",
      "['details', ['contact', 'request']]\n",
      "Updating Count\n",
      "['email', []]\n",
      "Updating Count\n",
      "['so', []]\n",
      "Updating Count\n",
      "['directly', ['contact']]\n",
      "Updating Count\n",
      "Features for Review 2\n",
      "['many', ['years']]\n",
      "Updating Count\n",
      "['years', ['many']]\n",
      "Updating Count\n",
      "['i', ['defaulted', 'called']]\n",
      "Updating Count\n",
      "['unknowingly', ['defaulted']]\n",
      "Updating Count\n",
      "['ippt', ['defaulted']]\n",
      "Updating Count\n",
      "['due', []]\n",
      "Updating Count\n",
      "['list', ['me', 'holding']]\n",
      "Updating Count\n",
      "['long', ['time']]\n",
      "Updating Count\n",
      "['time', ['long']]\n",
      "Updating Count\n",
      "['prior', []]\n",
      "Updating Count\n",
      "['i', ['defaulted', 'called']]\n",
      "Updating Count\n",
      "['also', ['called']]\n",
      "Updating Count\n",
      "['nshotline', ['called']]\n",
      "Updating Count\n",
      "['message', ['conveyed']]\n",
      "Updating Count\n",
      "['unit', []]\n",
      "Updating Count\n",
      "['dys8', ['contacted']]\n",
      "Updating Count\n",
      "['few', ['days']]\n",
      "Updating Count\n",
      "['days', ['few']]\n",
      "Updating Count\n",
      "['later', ['contacted']]\n",
      "Updating Count\n",
      "['dys8', ['contacted']]\n",
      "Updating Count\n",
      "['chance', ['gave']]\n",
      "Updating Count\n",
      "['i', ['defaulted', 'called']]\n",
      "Updating Count\n",
      "['not', ['charged']]\n",
      "Updating Count\n",
      "['end', []]\n",
      "Updating Count\n",
      "\n",
      "Review Number :  130\n",
      "[]\n"
     ]
    },
    {
     "name": "stderr",
     "output_type": "stream",
     "text": [
      "\r",
      " 66%|████████████████████████████████████████████████████▍                           | 131/200 [02:44<01:23,  1.22s/it]"
     ]
    },
    {
     "name": "stdout",
     "output_type": "stream",
     "text": [
      "[['army', ['men']], ['men', ['army', 'deployed']], ['probably', ['deployed']], ['things', ['do']]]\n",
      "Combining Features and Descriptors\n",
      "Features for Review 1\n",
      "Features for Review 2\n",
      "['army', ['men']]\n",
      "Updating Count\n",
      "['men', ['army', 'deployed']]\n",
      "Updating Count\n",
      "['probably', ['deployed']]\n",
      "Updating Count\n",
      "['things', ['do']]\n",
      "Updating Count\n",
      "\n",
      "Review Number :  131\n"
     ]
    },
    {
     "name": "stderr",
     "output_type": "stream",
     "text": [
      "\r",
      " 66%|████████████████████████████████████████████████████▊                           | 132/200 [02:44<01:08,  1.00s/it]"
     ]
    },
    {
     "name": "stdout",
     "output_type": "stream",
     "text": [
      "[['only', ['count']], ['orns', ['activity']], ['activity', ['orns']], ['same', ['workyear']], ['workyear', ['same']]]\n",
      "Combining Features and Descriptors\n",
      "Features for Review 1\n",
      "['only', ['count']]\n",
      "Updating Count\n",
      "['orns', ['activity']]\n",
      "Updating Count\n",
      "['activity', ['orns']]\n",
      "Updating Count\n",
      "['same', ['workyear']]\n",
      "Updating Count\n",
      "['workyear', ['same']]\n",
      "Updating Count\n",
      "\n",
      "Review Number :  132\n",
      "[['hii', ['new']], ['new', ['hii']], ['forum', []]]\n",
      "[['i', ['completed']], ['only', ['9_10']], ['ipt', ['completed', 'completed']], ['ns', ['portal']], ['portal', ['ns']], ['status', []], ['below', []], ['ipt', ['completed', 'completed']], ['current', ['window']], ['window', ['current']]]\n",
      "[['book', ['continue', 'sessions']], ['sessions', ['book']], ['results', ['improve']]]\n",
      "[['next', ['ipptwindow']], ['ipptwindow', ['next', 'open']], ['jul', []]]\n",
      "[['i', ['attempt', 'have']], ['nonictippt', ['attempt']], ['same', ['window']], ['window', ['same', 'current']], ['ipt', ['program']], ['program', ['ipt', 'starting']], ['case', []], ['i', ['attempt', 'have']], ['still', ['have']], ['nonict', ['ippt']], ['ippt', ['nonict', 'attempt', 'clear']], ['ippt', ['nonict', 'attempt', 'clear']], ['current', ['window']], ['window', ['same', 'current']]]\n",
      "[['i', ['scared']], ['cos', []], ['ipt', ['completed']], ['current', ['window', 'window']], ['window', ['current', 'current']], ['not', ['completed']], ['ippt', ['completed']], ['current', ['window', 'window']], ['window', ['current', 'current']], ['instructions', ['says']], ['10th', ['iptsession']], ['iptsession', ['10th', 'remain']], ['last', []], ['ipptattempt', []]]\n",
      "[['book', ['session']], ['ippt', ['session']], ['session', ['ippt', 'book', 'last']], ['not', ['ipt']], ['last', ['session']], ['session', ['ippt', 'book', 'last']]]\n",
      "[['right', ['now']], ['now', ['right', 'thinking']], ['still', ['thinking']], ['i', ['thinking', 'attempt', 'booked']], ['nonict', ['ipptsession']], ['ipptsession', ['nonict', 'attempt', 'booked']], ['i', ['thinking', 'attempt', 'booked']], ['tomorrownight', []]]\n",
      "[['first', ['ipptwindow']], ['ipptwindow', ['it', 'first']], ['i', ['new']], ['new', ['so', 'i']], ['unsure', []], ['message', []], ['ipt', ['completed']], ['current', ['window']], ['window', ['current']]]\n",
      "[['means', []], ['ippt', []], ['requirement', []], ['current', ['window']], ['window', ['current']]]\n",
      "[['i', ['seek']], ['already', ['seek']], ['help', ['seek']], ['ns', ['portal']], ['portal', ['ns']], ['live', ['chatservice']], ['chatservice', ['live']], ['operator', ['replied']], ['unit', []], ['further', ['advise']], ['back', ['get']], ['working', ['days']], ['days', ['working']]]\n"
     ]
    },
    {
     "name": "stderr",
     "output_type": "stream",
     "text": [
      "\r",
      " 66%|█████████████████████████████████████████████████████▏                          | 133/200 [02:54<03:48,  3.41s/it]"
     ]
    },
    {
     "name": "stdout",
     "output_type": "stream",
     "text": [
      "[['helpful', ['replies']], ['replies', ['helpful', 'good']], ['good', ['replies']], ['thanks', []], ['advance', []]]\n",
      "Combining Features and Descriptors\n",
      "Features for Review 1\n",
      "['hii', ['new']]\n",
      "Updating Count\n",
      "['new', ['hii']]\n",
      "Updating Count\n",
      "['forum', []]\n",
      "Updating Count\n",
      "Features for Review 2\n",
      "['i', ['completed']]\n",
      "Updating Count\n",
      "['only', ['9_10']]\n",
      "Updating Count\n",
      "['ipt', ['completed', 'completed']]\n",
      "Updating Count\n",
      "['ns', ['portal']]\n",
      "Updating Count\n",
      "['portal', ['ns']]\n",
      "Updating Count\n",
      "['status', []]\n",
      "Updating Count\n",
      "['below', []]\n",
      "Updating Count\n",
      "['ipt', ['completed', 'completed']]\n",
      "Updating Count\n",
      "['current', ['window']]\n",
      "Updating Count\n",
      "['window', ['current']]\n",
      "Updating Count\n",
      "Features for Review 3\n",
      "['book', ['continue', 'sessions']]\n",
      "Updating Count\n",
      "['sessions', ['book']]\n",
      "Updating Count\n",
      "['results', ['improve']]\n",
      "Updating Count\n",
      "Features for Review 4\n",
      "['next', ['ipptwindow']]\n",
      "Updating Count\n",
      "['ipptwindow', ['next', 'open']]\n",
      "Updating Count\n",
      "['jul', []]\n",
      "Updating Count\n",
      "Features for Review 5\n",
      "['i', ['attempt', 'have']]\n",
      "Updating Count\n",
      "['nonictippt', ['attempt']]\n",
      "Updating Count\n",
      "['same', ['window']]\n",
      "Updating Count\n",
      "['window', ['same', 'current']]\n",
      "Updating Count\n",
      "['ipt', ['program']]\n",
      "Updating Count\n",
      "['program', ['ipt', 'starting']]\n",
      "Updating Count\n",
      "['case', []]\n",
      "Updating Count\n",
      "['i', ['attempt', 'have']]\n",
      "Updating Count\n",
      "['still', ['have']]\n",
      "Updating Count\n",
      "['nonict', ['ippt']]\n",
      "Updating Count\n",
      "['ippt', ['nonict', 'attempt', 'clear']]\n",
      "Updating Count\n",
      "['ippt', ['nonict', 'attempt', 'clear']]\n",
      "Updating Count\n",
      "['current', ['window']]\n",
      "Updating Count\n",
      "['window', ['same', 'current']]\n",
      "Updating Count\n",
      "Features for Review 6\n",
      "['i', ['scared']]\n",
      "Updating Count\n",
      "['cos', []]\n",
      "Updating Count\n",
      "['ipt', ['completed']]\n",
      "Updating Count\n",
      "['current', ['window', 'window']]\n",
      "Updating Count\n",
      "['window', ['current', 'current']]\n",
      "Updating Count\n",
      "['not', ['completed']]\n",
      "Updating Count\n",
      "['ippt', ['completed']]\n",
      "Updating Count\n",
      "['current', ['window', 'window']]\n",
      "Updating Count\n",
      "['window', ['current', 'current']]\n",
      "Updating Count\n",
      "['instructions', ['says']]\n",
      "Updating Count\n",
      "['10th', ['iptsession']]\n",
      "Updating Count\n",
      "['iptsession', ['10th', 'remain']]\n",
      "Updating Count\n",
      "['last', []]\n",
      "Updating Count\n",
      "['ipptattempt', []]\n",
      "Updating Count\n",
      "Features for Review 7\n",
      "['book', ['session']]\n",
      "Updating Count\n",
      "['ippt', ['session']]\n",
      "Updating Count\n",
      "['session', ['ippt', 'book', 'last']]\n",
      "Updating Count\n",
      "['not', ['ipt']]\n",
      "Updating Count\n",
      "['last', ['session']]\n",
      "Updating Count\n",
      "['session', ['ippt', 'book', 'last']]\n",
      "Updating Count\n",
      "Features for Review 8\n",
      "['right', ['now']]\n",
      "Updating Count\n",
      "['now', ['right', 'thinking']]\n",
      "Updating Count\n",
      "['still', ['thinking']]\n",
      "Updating Count\n",
      "['i', ['thinking', 'attempt', 'booked']]\n",
      "Updating Count\n",
      "['nonict', ['ipptsession']]\n",
      "Updating Count\n",
      "['ipptsession', ['nonict', 'attempt', 'booked']]\n",
      "Updating Count\n",
      "['i', ['thinking', 'attempt', 'booked']]\n",
      "Updating Count\n",
      "['tomorrownight', []]\n",
      "Updating Count\n",
      "Features for Review 9\n",
      "['first', ['ipptwindow']]\n",
      "Updating Count\n",
      "['ipptwindow', ['it', 'first']]\n",
      "Updating Count\n",
      "['i', ['new']]\n",
      "Updating Count\n",
      "['new', ['so', 'i']]\n",
      "Updating Count\n",
      "['unsure', []]\n",
      "Updating Count\n",
      "['message', []]\n",
      "Updating Count\n",
      "['ipt', ['completed']]\n",
      "Updating Count\n",
      "['current', ['window']]\n",
      "Updating Count\n",
      "['window', ['current']]\n",
      "Updating Count\n",
      "Features for Review 10\n",
      "['means', []]\n",
      "Updating Count\n",
      "['ippt', []]\n",
      "Updating Count\n",
      "['requirement', []]\n",
      "Updating Count\n",
      "['current', ['window']]\n",
      "Updating Count\n",
      "['window', ['current']]\n",
      "Updating Count\n",
      "Features for Review 11\n",
      "['i', ['seek']]\n",
      "Updating Count\n",
      "['already', ['seek']]\n",
      "Updating Count\n",
      "['help', ['seek']]\n",
      "Updating Count\n",
      "['ns', ['portal']]\n",
      "Updating Count\n",
      "['portal', ['ns']]\n",
      "Updating Count\n",
      "['live', ['chatservice']]\n",
      "Updating Count\n",
      "['chatservice', ['live']]\n",
      "Updating Count\n",
      "['operator', ['replied']]\n",
      "Updating Count\n",
      "['unit', []]\n",
      "Updating Count\n",
      "['further', ['advise']]\n",
      "Updating Count\n",
      "['back', ['get']]\n",
      "Updating Count\n",
      "['working', ['days']]\n",
      "Updating Count\n",
      "['days', ['working']]\n",
      "Updating Count\n",
      "Features for Review 12\n",
      "['helpful', ['replies']]\n",
      "Updating Count\n",
      "['replies', ['helpful', 'good']]\n",
      "Updating Count\n",
      "['good', ['replies']]\n",
      "Updating Count\n",
      "['thanks', []]\n",
      "Updating Count\n",
      "['advance', []]\n",
      "Updating Count\n",
      "\n",
      "Review Number :  133\n"
     ]
    },
    {
     "name": "stderr",
     "output_type": "stream",
     "text": [
      "\r",
      " 67%|█████████████████████████████████████████████████████▌                          | 134/200 [02:54<02:45,  2.50s/it]"
     ]
    },
    {
     "name": "stdout",
     "output_type": "stream",
     "text": [
      "[['keen', []], ['as', ['know']], ['well', []]]\n",
      "Combining Features and Descriptors\n",
      "Features for Review 1\n",
      "['keen', []]\n",
      "Updating Count\n",
      "['as', ['know']]\n",
      "Updating Count\n",
      "['well', []]\n",
      "Updating Count\n",
      "\n",
      "Review Number :  134\n",
      "[['not', ['allowed']]]\n"
     ]
    },
    {
     "name": "stderr",
     "output_type": "stream",
     "text": [
      "\r",
      " 68%|██████████████████████████████████████████████████████                          | 135/200 [02:54<02:04,  1.91s/it]"
     ]
    },
    {
     "name": "stdout",
     "output_type": "stream",
     "text": [
      "[['sent', []], ['abcdefg', []], ['gagt', ['using']]]\n",
      "Combining Features and Descriptors\n",
      "Features for Review 1\n",
      "['not', ['allowed']]\n",
      "Updating Count\n",
      "Features for Review 2\n",
      "['sent', []]\n",
      "Updating Count\n",
      "['abcdefg', []]\n",
      "Updating Count\n",
      "['gagt', ['using']]\n",
      "Updating Count\n",
      "\n",
      "Review Number :  135\n"
     ]
    },
    {
     "name": "stderr",
     "output_type": "stream",
     "text": [
      "\r",
      " 68%|██████████████████████████████████████████████████████▍                         | 136/200 [02:55<01:38,  1.54s/it]"
     ]
    },
    {
     "name": "stdout",
     "output_type": "stream",
     "text": [
      "[['https', []], ['__wwwnssg_web_portal_nsmen_hfaultingnsfit', []], ['https', []], ['__wwwnssg_web_portal_nsmen_hfaultingnsfit', []]]\n",
      "Combining Features and Descriptors\n",
      "Features for Review 1\n",
      "['https', []]\n",
      "Updating Count\n",
      "['__wwwnssg_web_portal_nsmen_hfaultingnsfit', []]\n",
      "Updating Count\n",
      "['https', []]\n",
      "Updating Count\n",
      "['__wwwnssg_web_portal_nsmen_hfaultingnsfit', []]\n",
      "Updating Count\n",
      "\n",
      "Review Number :  136\n",
      "[['down', []], ['weeks', []]]\n"
     ]
    },
    {
     "name": "stderr",
     "output_type": "stream",
     "text": [
      "\r",
      " 68%|██████████████████████████████████████████████████████▊                         | 137/200 [02:56<01:20,  1.27s/it]"
     ]
    },
    {
     "name": "stdout",
     "output_type": "stream",
     "text": [
      "[['not', ['ah']], ['ah', ['not']], ['only', ['try']], ['weekends', []]]\n",
      "Combining Features and Descriptors\n",
      "Features for Review 1\n",
      "['down', []]\n",
      "Updating Count\n",
      "['weeks', []]\n",
      "Updating Count\n",
      "Features for Review 2\n",
      "['not', ['ah']]\n",
      "Updating Count\n",
      "['ah', ['not']]\n",
      "Updating Count\n",
      "['only', ['try']]\n",
      "Updating Count\n",
      "['weekends', []]\n",
      "Updating Count\n",
      "\n",
      "Review Number :  137\n",
      "[['thanks', []]]\n",
      "[['i', ['booked']], ['rt', ['supposed']], ['just', [18]], ['now', [16]]]\n",
      "[['need', ['is']]]\n"
     ]
    },
    {
     "name": "stderr",
     "output_type": "stream",
     "text": [
      "\r",
      " 69%|███████████████████████████████████████████████████████▏                        | 138/200 [02:57<01:23,  1.34s/it]"
     ]
    },
    {
     "name": "stdout",
     "output_type": "stream",
     "text": [
      "[['i', ['seen']], ['people', ['take']], ['ippt', ['take']], ['really', ['early']], ['early', ['really', 'take']]]\n",
      "Combining Features and Descriptors\n",
      "Features for Review 1\n",
      "['thanks', []]\n",
      "Updating Count\n",
      "Features for Review 2\n",
      "['i', ['booked']]\n",
      "Updating Count\n",
      "['rt', ['supposed']]\n",
      "Updating Count\n",
      "['just', [18]]\n",
      "Updating Count\n",
      "['now', [16]]\n",
      "Updating Count\n",
      "Features for Review 3\n",
      "['need', ['is']]\n",
      "Updating Count\n",
      "Features for Review 4\n",
      "['i', ['seen']]\n",
      "Updating Count\n",
      "['people', ['take']]\n",
      "Updating Count\n",
      "['ippt', ['take']]\n",
      "Updating Count\n",
      "['really', ['early']]\n",
      "Updating Count\n",
      "['early', ['really', 'take']]\n",
      "Updating Count\n",
      "\n",
      "Review Number :  138\n",
      "[[\"n't\", ['stress']]]\n"
     ]
    },
    {
     "name": "stderr",
     "output_type": "stream",
     "text": [
      "\r",
      " 70%|███████████████████████████████████████████████████████▌                        | 139/200 [02:59<01:30,  1.48s/it]"
     ]
    },
    {
     "name": "stdout",
     "output_type": "stream",
     "text": [
      "[['point', []], ['really', ['rollercoaster']], ['rollercoaster', ['really']], ['everyone', []], ['jobless', ['ll']], ['ll', ['jobless']], ['ippt', ['do']], ['income', ['scarified']], ['previous', ['question']], ['question', ['previous']], ['s8_oc', ['contact', 'contact']], ['s8_oc', ['contact', 'contact']], ['now', ['contact']], ['later', []], ['time', ['give']], ['caseetc', ['review']]]\n",
      "Combining Features and Descriptors\n",
      "Features for Review 1\n",
      "[\"n't\", ['stress']]\n",
      "Updating Count\n",
      "Features for Review 2\n",
      "['point', []]\n",
      "Updating Count\n",
      "['really', ['rollercoaster']]\n",
      "Updating Count\n",
      "['rollercoaster', ['really']]\n",
      "Updating Count\n",
      "['everyone', []]\n",
      "Updating Count\n",
      "['jobless', ['ll']]\n",
      "Updating Count\n",
      "['ll', ['jobless']]\n",
      "Updating Count\n",
      "['ippt', ['do']]\n",
      "Updating Count\n",
      "['income', ['scarified']]\n",
      "Updating Count\n",
      "['previous', ['question']]\n",
      "Updating Count\n",
      "['question', ['previous']]\n",
      "Updating Count\n",
      "['s8_oc', ['contact', 'contact']]\n",
      "Updating Count\n",
      "['s8_oc', ['contact', 'contact']]\n",
      "Updating Count\n",
      "['now', ['contact']]\n",
      "Updating Count\n",
      "['later', []]\n",
      "Updating Count\n",
      "['time', ['give']]\n",
      "Updating Count\n",
      "['caseetc', ['review']]\n",
      "Updating Count\n",
      "\n",
      "Review Number :  139\n",
      "[['ya', []], ['same', ['here']], ['here', ['same']]]\n"
     ]
    },
    {
     "name": "stderr",
     "output_type": "stream",
     "text": [
      "\r",
      " 70%|████████████████████████████████████████████████████████                        | 140/200 [03:00<01:17,  1.28s/it]"
     ]
    },
    {
     "name": "stdout",
     "output_type": "stream",
     "text": [
      "[['call', ['received']], ['khatibfcc', []], ['saturday', []], ['ippt', []]]\n",
      "Combining Features and Descriptors\n",
      "Features for Review 1\n",
      "['ya', []]\n",
      "Updating Count\n",
      "['same', ['here']]\n",
      "Updating Count\n",
      "['here', ['same']]\n",
      "Updating Count\n",
      "Features for Review 2\n",
      "['call', ['received']]\n",
      "Updating Count\n",
      "['khatibfcc', []]\n",
      "Updating Count\n",
      "['saturday', []]\n",
      "Updating Count\n",
      "['ippt', []]\n",
      "Updating Count\n",
      "\n",
      "Review Number :  140\n"
     ]
    },
    {
     "name": "stderr",
     "output_type": "stream",
     "text": [
      "\r",
      " 70%|████████████████████████████████████████████████████████▍                       | 141/200 [03:00<01:01,  1.04s/it]"
     ]
    },
    {
     "name": "stdout",
     "output_type": "stream",
     "text": [
      "[['carpark', ['park']], ['big', ['vehicles']], ['vehicles', ['big', 'park']]]\n",
      "Combining Features and Descriptors\n",
      "Features for Review 1\n",
      "['carpark', ['park']]\n",
      "Updating Count\n",
      "['big', ['vehicles']]\n",
      "Updating Count\n",
      "['vehicles', ['big', 'park']]\n",
      "Updating Count\n",
      "\n",
      "Review Number :  141\n",
      "[['idea', []]]\n",
      "[['i', ['checked']], ['website', ['checked']]]\n"
     ]
    },
    {
     "name": "stderr",
     "output_type": "stream",
     "text": [
      "\r",
      " 71%|████████████████████████████████████████████████████████▊                       | 142/200 [03:01<00:59,  1.02s/it]"
     ]
    },
    {
     "name": "stdout",
     "output_type": "stream",
     "text": [
      "[['ippt', ['open']], ['open', ['ippt', 'say']], ['lol', []]]\n",
      "Combining Features and Descriptors\n",
      "Features for Review 1\n",
      "['idea', []]\n",
      "Updating Count\n",
      "Features for Review 2\n",
      "['i', ['checked']]\n",
      "Updating Count\n",
      "['website', ['checked']]\n",
      "Updating Count\n",
      "Features for Review 3\n",
      "['ippt', ['open']]\n",
      "Updating Count\n",
      "['open', ['ippt', 'say']]\n",
      "Updating Count\n",
      "['lol', []]\n",
      "Updating Count\n",
      "\n",
      "Review Number :  142\n"
     ]
    },
    {
     "name": "stderr",
     "output_type": "stream",
     "text": [
      "\r",
      " 72%|█████████████████████████████████████████████████████████▏                      | 143/200 [03:01<00:44,  1.28it/s]"
     ]
    },
    {
     "name": "stdout",
     "output_type": "stream",
     "text": [
      "[['normal', ['rt']], ['rt', ['normal']]]\n",
      "Combining Features and Descriptors\n",
      "Features for Review 1\n",
      "['normal', ['rt']]\n",
      "Updating Count\n",
      "['rt', ['normal']]\n",
      "Updating Count\n",
      "\n",
      "Review Number :  143\n"
     ]
    },
    {
     "name": "stderr",
     "output_type": "stream",
     "text": [
      "\r",
      " 72%|█████████████████████████████████████████████████████████▌                      | 144/200 [03:02<00:37,  1.48it/s]"
     ]
    },
    {
     "name": "stdout",
     "output_type": "stream",
     "text": [
      "[['ffi', ['arrange']]]\n",
      "[['unit', []]]\n",
      "Combining Features and Descriptors\n",
      "Features for Review 1\n",
      "['ffi', ['arrange']]\n",
      "Updating Count\n",
      "Features for Review 2\n",
      "['unit', []]\n",
      "Updating Count\n",
      "\n",
      "Review Number :  144\n",
      "[['last', ['time']], ['time', ['last', 'dundeclare']], ['i', ['dundeclare', 'lie']], ['dundeclare', ['i', 'time']], ['times', ['got']], ['i', ['dundeclare', 'lie']], ['just', ['lie']], ['sleep', []], ['waterbreak', []]]\n"
     ]
    },
    {
     "name": "stderr",
     "output_type": "stream",
     "text": [
      "\r",
      " 72%|██████████████████████████████████████████████████████████                      | 145/200 [03:04<00:54,  1.00it/s]"
     ]
    },
    {
     "name": "stdout",
     "output_type": "stream",
     "text": [
      "[['now', ['liao']], ['old', ['liao']], ['liao', ['now', 'old']], ['many', ['loans']], ['loans', ['many', 'got']], ['rtla', []], ['i', []], ['fully', ['covered', 'pay']], ['insurance', ['pay']], ['fully', ['covered', 'pay']]]\n",
      "Combining Features and Descriptors\n",
      "Features for Review 1\n",
      "['last', ['time']]\n",
      "Updating Count\n",
      "['time', ['last', 'dundeclare']]\n",
      "Updating Count\n",
      "['i', ['dundeclare', 'lie']]\n",
      "Updating Count\n",
      "['dundeclare', ['i', 'time']]\n",
      "Updating Count\n",
      "['times', ['got']]\n",
      "Updating Count\n",
      "['i', ['dundeclare', 'lie']]\n",
      "Updating Count\n",
      "['just', ['lie']]\n",
      "Updating Count\n",
      "['sleep', []]\n",
      "Updating Count\n",
      "['waterbreak', []]\n",
      "Updating Count\n",
      "Features for Review 2\n",
      "['now', ['liao']]\n",
      "Updating Count\n",
      "['old', ['liao']]\n",
      "Updating Count\n",
      "['liao', ['now', 'old']]\n",
      "Updating Count\n",
      "['many', ['loans']]\n",
      "Updating Count\n",
      "['loans', ['many', 'got']]\n",
      "Updating Count\n",
      "['rtla', []]\n",
      "Updating Count\n",
      "['i', []]\n",
      "Updating Count\n",
      "['fully', ['covered', 'pay']]\n",
      "Updating Count\n",
      "['insurance', ['pay']]\n",
      "Updating Count\n",
      "['fully', ['covered', 'pay']]\n",
      "Updating Count\n",
      "\n",
      "Review Number :  145\n",
      "[]\n",
      "[['only', ['session']], ['session', ['only', '8th']]]\n",
      "[['so', ['rtdefaulter']], ['likely', ['rtdefaulter']], ['rtdefaulter', ['so', 'likely']], [\"n't\", ['complete']], ['sessions', ['complete']], ['rt', []]]\n"
     ]
    },
    {
     "name": "stderr",
     "output_type": "stream",
     "text": [
      "\r",
      " 73%|██████████████████████████████████████████████████████████▍                     | 146/200 [03:05<00:58,  1.08s/it]"
     ]
    },
    {
     "name": "stdout",
     "output_type": "stream",
     "text": [
      "[['sent', []], ['little', ['world']], ['piano', ['world']], ['world', ['little', 'piano']], ['gagt', ['using']]]\n",
      "Combining Features and Descriptors\n",
      "Features for Review 1\n",
      "Features for Review 2\n",
      "['only', ['session']]\n",
      "Updating Count\n",
      "['session', ['only', '8th']]\n",
      "Updating Count\n",
      "Features for Review 3\n",
      "['so', ['rtdefaulter']]\n",
      "Updating Count\n",
      "['likely', ['rtdefaulter']]\n",
      "Updating Count\n",
      "['rtdefaulter', ['so', 'likely']]\n",
      "Updating Count\n",
      "[\"n't\", ['complete']]\n",
      "Updating Count\n",
      "['sessions', ['complete']]\n",
      "Updating Count\n",
      "['rt', []]\n",
      "Updating Count\n",
      "Features for Review 4\n",
      "['sent', []]\n",
      "Updating Count\n",
      "['little', ['world']]\n",
      "Updating Count\n",
      "['piano', ['world']]\n",
      "Updating Count\n",
      "['world', ['little', 'piano']]\n",
      "Updating Count\n",
      "['gagt', ['using']]\n",
      "Updating Count\n",
      "\n",
      "Review Number :  146\n",
      "[['as', ['long', 'safe']], ['long', ['as', 'deems']], ['not', ['cancelled']], ['government', ['deems']], ['safe', ['as', 'deems']]]\n"
     ]
    },
    {
     "name": "stderr",
     "output_type": "stream",
     "text": [
      "\r",
      " 74%|██████████████████████████████████████████████████████████▊                     | 147/200 [03:06<00:54,  1.04s/it]"
     ]
    },
    {
     "name": "stdout",
     "output_type": "stream",
     "text": [
      "[['so', ['got']], ['ta', []], ['own', ['call']], ['call', ['own', 'make']]]\n",
      "Combining Features and Descriptors\n",
      "Features for Review 1\n",
      "['as', ['long', 'safe']]\n",
      "Updating Count\n",
      "['long', ['as', 'deems']]\n",
      "Updating Count\n",
      "['not', ['cancelled']]\n",
      "Updating Count\n",
      "['government', ['deems']]\n",
      "Updating Count\n",
      "['safe', ['as', 'deems']]\n",
      "Updating Count\n",
      "Features for Review 2\n",
      "['so', ['got']]\n",
      "Updating Count\n",
      "['ta', []]\n",
      "Updating Count\n",
      "['own', ['call']]\n",
      "Updating Count\n",
      "['call', ['own', 'make']]\n",
      "Updating Count\n",
      "\n",
      "Review Number :  147\n",
      "[['iptippt', ['timing']], ['timing', ['iptippt', 'reporting', 'timing', 'booked']], ['timing', ['iptippt', 'reporting', 'timing', 'booked']], ['i', ['booked']]]\n",
      "[['eg', []]]\n",
      "[]\n"
     ]
    },
    {
     "name": "stderr",
     "output_type": "stream",
     "text": [
      "\r",
      " 74%|███████████████████████████████████████████████████████████▏                    | 148/200 [03:08<01:06,  1.28s/it]"
     ]
    },
    {
     "name": "stdout",
     "output_type": "stream",
     "text": [
      "[['so', ['are']], ['sense', []], ['many', ['slots']], ['different', ['slots']], ['ippt', ['slots']], ['time', ['slots']], ['slots', ['many', 'different', 'ippt', 'time', 'are', 'few', 'iptippt', 'are']], ['evening', []], ['quite', []], ['few', ['slots']], ['iptippt', ['slots']], ['slots', ['many', 'different', 'ippt', 'time', 'are', 'few', 'iptippt', 'are']], ['right', ['are']]]\n",
      "Combining Features and Descriptors\n",
      "Features for Review 1\n",
      "['iptippt', ['timing']]\n",
      "Updating Count\n",
      "['timing', ['iptippt', 'reporting', 'timing', 'booked']]\n",
      "Updating Count\n",
      "['timing', ['iptippt', 'reporting', 'timing', 'booked']]\n",
      "Updating Count\n",
      "['i', ['booked']]\n",
      "Updating Count\n",
      "Features for Review 2\n",
      "['eg', []]\n",
      "Updating Count\n",
      "Features for Review 3\n",
      "Features for Review 4\n",
      "['so', ['are']]\n",
      "Updating Count\n",
      "['sense', []]\n",
      "Updating Count\n",
      "['many', ['slots']]\n",
      "Updating Count\n",
      "['different', ['slots']]\n",
      "Updating Count\n",
      "['ippt', ['slots']]\n",
      "Updating Count\n",
      "['time', ['slots']]\n",
      "Updating Count\n",
      "['slots', ['many', 'different', 'ippt', 'time', 'are', 'few', 'iptippt', 'are']]\n",
      "Updating Count\n",
      "['evening', []]\n",
      "Updating Count\n",
      "['quite', []]\n",
      "Updating Count\n",
      "['few', ['slots']]\n",
      "Updating Count\n",
      "['iptippt', ['slots']]\n",
      "Updating Count\n",
      "['slots', ['many', 'different', 'ippt', 'time', 'are', 'few', 'iptippt', 'are']]\n",
      "Updating Count\n",
      "['right', ['are']]\n",
      "Updating Count\n",
      "\n",
      "Review Number :  148\n",
      "[['hi', []]]\n",
      "[['last', ['yeari']], ['yeari', ['last', 'took']], ['ippt', ['took']], ['khatibfcc', []]]\n",
      "[['quite', ['jialat']], ['jialat', ['24', 'quite']], ['sun', []], ['big', ['wind']], ['wind', ['big']]]\n",
      "[['stadiumtrack', []], ['rounds', []], ['kind', []]]\n",
      "[['alr', ['running', 'good']], ['not', ['good']], ['v', ['good']], ['good', ['not', 'v', 'alr']], ['heng', ['passed']], ['i', ['passed']]]\n",
      "[['yeari', []], ['try', ['want', 'fcc']], ['fcc', ['kranji', 'try']]]\n",
      "[['ippt', ['route']], ['route', ['ippt', 'easier']], ['easier', ['route', 'it']]]\n",
      "[['maybe', ['shelter']], ['shelter', ['maybe']]]\n",
      "[['quite', ['concerned']]]\n"
     ]
    },
    {
     "name": "stderr",
     "output_type": "stream",
     "text": [
      "\r",
      " 74%|███████████████████████████████████████████████████████████▌                    | 149/200 [03:12<01:45,  2.07s/it]"
     ]
    },
    {
     "name": "stdout",
     "output_type": "stream",
     "text": [
      "[['static', ['stations']], ['stations', ['static']], ['camp', ['use']], ['also', ['use']], ['machine', ['alr']], ['alr', ['machine', 'use']], ['so', ['same']], ['pretty', ['much']], ['much', ['pretty', 'same']], ['same', ['so', 'much']]]\n",
      "Combining Features and Descriptors\n",
      "Features for Review 1\n",
      "['hi', []]\n",
      "Updating Count\n",
      "Features for Review 2\n",
      "['last', ['yeari']]\n",
      "Updating Count\n",
      "['yeari', ['last', 'took']]\n",
      "Updating Count\n",
      "['ippt', ['took']]\n",
      "Updating Count\n",
      "['khatibfcc', []]\n",
      "Updating Count\n",
      "Features for Review 3\n",
      "['quite', ['jialat']]\n",
      "Updating Count\n",
      "['jialat', ['24', 'quite']]\n",
      "Updating Count\n",
      "['sun', []]\n",
      "Updating Count\n",
      "['big', ['wind']]\n",
      "Updating Count\n",
      "['wind', ['big']]\n",
      "Updating Count\n",
      "Features for Review 4\n",
      "['stadiumtrack', []]\n",
      "Updating Count\n",
      "['rounds', []]\n",
      "Updating Count\n",
      "['kind', []]\n",
      "Updating Count\n",
      "Features for Review 5\n",
      "['alr', ['running', 'good']]\n",
      "Updating Count\n",
      "['not', ['good']]\n",
      "Updating Count\n",
      "['v', ['good']]\n",
      "Updating Count\n",
      "['good', ['not', 'v', 'alr']]\n",
      "Updating Count\n",
      "['heng', ['passed']]\n",
      "Updating Count\n",
      "['i', ['passed']]\n",
      "Updating Count\n",
      "Features for Review 6\n",
      "['yeari', []]\n",
      "Updating Count\n",
      "['try', ['want', 'fcc']]\n",
      "Updating Count\n",
      "['fcc', ['kranji', 'try']]\n",
      "Updating Count\n",
      "Features for Review 7\n",
      "['ippt', ['route']]\n",
      "Updating Count\n",
      "['route', ['ippt', 'easier']]\n",
      "Updating Count\n",
      "['easier', ['route', 'it']]\n",
      "Updating Count\n",
      "Features for Review 8\n",
      "['maybe', ['shelter']]\n",
      "Updating Count\n",
      "['shelter', ['maybe']]\n",
      "Updating Count\n",
      "Features for Review 9\n",
      "['quite', ['concerned']]\n",
      "Updating Count\n",
      "Features for Review 10\n",
      "['static', ['stations']]\n",
      "Updating Count\n",
      "['stations', ['static']]\n",
      "Updating Count\n",
      "['camp', ['use']]\n",
      "Updating Count\n",
      "['also', ['use']]\n",
      "Updating Count\n",
      "['machine', ['alr']]\n",
      "Updating Count\n",
      "['alr', ['machine', 'use']]\n",
      "Updating Count\n",
      "['so', ['same']]\n",
      "Updating Count\n",
      "['pretty', ['much']]\n",
      "Updating Count\n",
      "['much', ['pretty', 'same']]\n",
      "Updating Count\n",
      "['same', ['so', 'much']]\n",
      "Updating Count\n",
      "\n",
      "Review Number :  149\n",
      "[['look', ['take']], ['mindeffb', ['posts']], ['posts', ['mindeffb']], ['many', ['people']], ['people', ['many', 'have']], ['unable', ['they', 'book']], ['book', ['unable', 'sessions']], ['iptippt', ['sessions']], ['sessions', ['iptippt', 'book']], ['not', ['much']], ['much', ['not', 'slots']], ['slots', ['much', 'available']], ['available', ['slots']], ['mondays', []]]\n"
     ]
    },
    {
     "name": "stderr",
     "output_type": "stream",
     "text": [
      "\r",
      " 75%|████████████████████████████████████████████████████████████                    | 150/200 [03:14<01:41,  2.02s/it]"
     ]
    },
    {
     "name": "stdout",
     "output_type": "stream",
     "text": [
      "[['i', ['able', 'plan']], ['still', ['able']], ['able', ['at', 'i', 'still', 'book']], ['book', ['able', 'session']], ['iptippt', ['session', 'take']], ['session', ['iptippt', 'book']], ['i', ['able', 'plan']], ['also', ['plan']], ['plan', ['i', 'also', 'take']], ['iptippt', ['session', 'take']], ['triggeript', []]]\n",
      "Combining Features and Descriptors\n",
      "Features for Review 1\n",
      "['look', ['take']]\n",
      "Updating Count\n",
      "['mindeffb', ['posts']]\n",
      "Updating Count\n",
      "['posts', ['mindeffb']]\n",
      "Updating Count\n",
      "['many', ['people']]\n",
      "Updating Count\n",
      "['people', ['many', 'have']]\n",
      "Updating Count\n",
      "['unable', ['they', 'book']]\n",
      "Updating Count\n",
      "['book', ['unable', 'sessions']]\n",
      "Updating Count\n",
      "['iptippt', ['sessions']]\n",
      "Updating Count\n",
      "['sessions', ['iptippt', 'book']]\n",
      "Updating Count\n",
      "['not', ['much']]\n",
      "Updating Count\n",
      "['much', ['not', 'slots']]\n",
      "Updating Count\n",
      "['slots', ['much', 'available']]\n",
      "Updating Count\n",
      "['available', ['slots']]\n",
      "Updating Count\n",
      "['mondays', []]\n",
      "Updating Count\n",
      "Features for Review 2\n",
      "['i', ['able', 'plan']]\n",
      "Updating Count\n",
      "['still', ['able']]\n",
      "Updating Count\n",
      "['able', ['at', 'i', 'still', 'book']]\n",
      "Updating Count\n",
      "['book', ['able', 'session']]\n",
      "Updating Count\n",
      "['iptippt', ['session', 'take']]\n",
      "Updating Count\n",
      "['session', ['iptippt', 'book']]\n",
      "Updating Count\n",
      "['i', ['able', 'plan']]\n",
      "Updating Count\n",
      "['also', ['plan']]\n",
      "Updating Count\n",
      "['plan', ['i', 'also', 'take']]\n",
      "Updating Count\n",
      "['iptippt', ['session', 'take']]\n",
      "Updating Count\n",
      "['triggeript', []]\n",
      "Updating Count\n",
      "\n",
      "Review Number :  150\n",
      "[['i', ['confused']], ['quite', ['confused']], ['confused', ['i', 'quite', 'think']], ['think', ['confused']], ['clear', ['make']], ['ippt', ['fail']]]\n"
     ]
    },
    {
     "name": "stderr",
     "output_type": "stream",
     "text": [
      "\r",
      " 76%|████████████████████████████████████████████████████████████▍                   | 151/200 [03:15<01:29,  1.83s/it]"
     ]
    },
    {
     "name": "stdout",
     "output_type": "stream",
     "text": [
      "[[\"n't\", ['think']], ['mindef_saf', ['mindef_saf', 'stupid']], ['mindef_saf', ['mindef_saf', 'stupid']], ['stupid', ['mindef_saf', 'that']], ['system', ['abuse']], ['anyway', ['abuse']]]\n",
      "Combining Features and Descriptors\n",
      "Features for Review 1\n",
      "['i', ['confused']]\n",
      "Updating Count\n",
      "['quite', ['confused']]\n",
      "Updating Count\n",
      "['confused', ['i', 'quite', 'think']]\n",
      "Updating Count\n",
      "['think', ['confused']]\n",
      "Updating Count\n",
      "['clear', ['make']]\n",
      "Updating Count\n",
      "['ippt', ['fail']]\n",
      "Updating Count\n",
      "Features for Review 2\n",
      "[\"n't\", ['think']]\n",
      "Updating Count\n",
      "['mindef_saf', ['mindef_saf', 'stupid']]\n",
      "Updating Count\n",
      "['mindef_saf', ['mindef_saf', 'stupid']]\n",
      "Updating Count\n",
      "['stupid', ['mindef_saf', 'that']]\n",
      "Updating Count\n",
      "['system', ['abuse']]\n",
      "Updating Count\n",
      "['anyway', ['abuse']]\n",
      "Updating Count\n",
      "\n",
      "Review Number :  151\n",
      "[['i', ['see']], ['till', []], ['feb', ['only']], ['only', ['feb']]]\n"
     ]
    },
    {
     "name": "stderr",
     "output_type": "stream",
     "text": [
      "\r",
      " 76%|████████████████████████████████████████████████████████████▊                   | 152/200 [03:15<01:09,  1.45s/it]"
     ]
    },
    {
     "name": "stdout",
     "output_type": "stream",
     "text": [
      "[['slot', []]]\n",
      "Combining Features and Descriptors\n",
      "Features for Review 1\n",
      "['i', ['see']]\n",
      "Updating Count\n",
      "['till', []]\n",
      "Updating Count\n",
      "['feb', ['only']]\n",
      "Updating Count\n",
      "['only', ['feb']]\n",
      "Updating Count\n",
      "Features for Review 2\n",
      "['slot', []]\n",
      "Updating Count\n",
      "\n",
      "Review Number :  152\n",
      "[['ipt', []]]\n",
      "[['then', ['sure']], ['not', ['sure']], ['sure', ['then', 'i', 'not', 'liao']], ['liao', ['sure']]]\n"
     ]
    },
    {
     "name": "stderr",
     "output_type": "stream",
     "text": [
      "\r",
      " 76%|█████████████████████████████████████████████████████████████▏                  | 153/200 [03:16<00:59,  1.26s/it]"
     ]
    },
    {
     "name": "stdout",
     "output_type": "stream",
     "text": [
      "[['i', ['posted']], ['pcwx', []], ['smg973f', []]]\n",
      "Combining Features and Descriptors\n",
      "Features for Review 1\n",
      "['ipt', []]\n",
      "Updating Count\n",
      "Features for Review 2\n",
      "['then', ['sure']]\n",
      "Updating Count\n",
      "['not', ['sure']]\n",
      "Updating Count\n",
      "['sure', ['then', 'i', 'not', 'liao']]\n",
      "Updating Count\n",
      "['liao', ['sure']]\n",
      "Updating Count\n",
      "Features for Review 3\n",
      "['i', ['posted']]\n",
      "Updating Count\n",
      "['pcwx', []]\n",
      "Updating Count\n",
      "['smg973f', []]\n",
      "Updating Count\n",
      "\n",
      "Review Number :  153\n"
     ]
    },
    {
     "name": "stderr",
     "output_type": "stream",
     "text": [
      "\r",
      " 77%|█████████████████████████████████████████████████████████████▌                  | 154/200 [03:17<00:53,  1.16s/it]"
     ]
    },
    {
     "name": "stdout",
     "output_type": "stream",
     "text": [
      "[['oct', ['this']], ['mid', ['https']], ['https', ['mid']], ['__wwwstraitstimescom_singapopttopscorers', []], ['__wwwstraitstimescom_singapopttopscorers', []]]\n",
      "Combining Features and Descriptors\n",
      "Features for Review 1\n",
      "['oct', ['this']]\n",
      "Updating Count\n",
      "['mid', ['https']]\n",
      "Updating Count\n",
      "['https', ['mid']]\n",
      "Updating Count\n",
      "['__wwwstraitstimescom_singapopttopscorers', []]\n",
      "Updating Count\n",
      "['__wwwstraitstimescom_singapopttopscorers', []]\n",
      "Updating Count\n",
      "\n",
      "Review Number :  154\n"
     ]
    },
    {
     "name": "stderr",
     "output_type": "stream",
     "text": [
      "\r",
      " 78%|██████████████████████████████████████████████████████████████                  | 155/200 [03:18<00:44,  1.01it/s]"
     ]
    },
    {
     "name": "stdout",
     "output_type": "stream",
     "text": [
      "[['actually', ['have']], ['fccs', ['have']], ['enough', ['lockers']], ['lockers', ['enough', 'have']], ['majority', []], ['not', ['locked']]]\n",
      "Combining Features and Descriptors\n",
      "Features for Review 1\n",
      "['actually', ['have']]\n",
      "Updating Count\n",
      "['fccs', ['have']]\n",
      "Updating Count\n",
      "['enough', ['lockers']]\n",
      "Updating Count\n",
      "['lockers', ['enough', 'have']]\n",
      "Updating Count\n",
      "['majority', []]\n",
      "Updating Count\n",
      "['not', ['locked']]\n",
      "Updating Count\n",
      "\n",
      "Review Number :  155\n",
      "[['still', ['distance']], ['distance', ['still', 'walking', 'though']]]\n"
     ]
    },
    {
     "name": "stderr",
     "output_type": "stream",
     "text": [
      "\r",
      " 78%|██████████████████████████████████████████████████████████████▍                 | 156/200 [03:19<00:41,  1.06it/s]"
     ]
    },
    {
     "name": "stdout",
     "output_type": "stream",
     "text": [
      "[['just', ['need']], ['someone', ['need']], ['exact', ['location']], ['location', ['exact']]]\n",
      "Combining Features and Descriptors\n",
      "Features for Review 1\n",
      "['still', ['distance']]\n",
      "Updating Count\n",
      "['distance', ['still', 'walking', 'though']]\n",
      "Updating Count\n",
      "Features for Review 2\n",
      "['just', ['need']]\n",
      "Updating Count\n",
      "['someone', ['need']]\n",
      "Updating Count\n",
      "['exact', ['location']]\n",
      "Updating Count\n",
      "['location', ['exact']]\n",
      "Updating Count\n",
      "\n",
      "Review Number :  156\n",
      "[['i', ['complete', 'push']], [\"n't\", ['complete', 'push']], ['ipt', ['complete']], ['i', ['complete', 'push']], [\"n't\", ['complete', 'push']]]\n"
     ]
    },
    {
     "name": "stderr",
     "output_type": "stream",
     "text": [
      "\r",
      " 78%|██████████████████████████████████████████████████████████████▊                 | 157/200 [03:20<00:42,  1.00it/s]"
     ]
    },
    {
     "name": "stdout",
     "output_type": "stream",
     "text": [
      "[['i', ['go']], ['rt', []], ['clear', ['years']], ['years', ['clear', 'working', 'mean']], ['year', ['next']], ['next', ['year']], ['year', ['next']]]\n",
      "Combining Features and Descriptors\n",
      "Features for Review 1\n",
      "['i', ['complete', 'push']]\n",
      "Updating Count\n",
      "[\"n't\", ['complete', 'push']]\n",
      "Updating Count\n",
      "['ipt', ['complete']]\n",
      "Updating Count\n",
      "['i', ['complete', 'push']]\n",
      "Updating Count\n",
      "[\"n't\", ['complete', 'push']]\n",
      "Updating Count\n",
      "Features for Review 2\n",
      "['i', ['go']]\n",
      "Updating Count\n",
      "['rt', []]\n",
      "Updating Count\n",
      "['clear', ['years']]\n",
      "Updating Count\n",
      "['years', ['clear', 'working', 'mean']]\n",
      "Updating Count\n",
      "['year', ['next']]\n",
      "Updating Count\n",
      "['next', ['year']]\n",
      "Updating Count\n",
      "['year', ['next']]\n",
      "Updating Count\n",
      "\n",
      "Review Number :  157\n",
      "[['rt', []], ['not', ['resumed']], ['yet', ['resumed']]]\n"
     ]
    },
    {
     "name": "stderr",
     "output_type": "stream",
     "text": [
      "\r",
      " 79%|███████████████████████████████████████████████████████████████▏                | 158/200 [03:20<00:36,  1.15it/s]"
     ]
    },
    {
     "name": "stdout",
     "output_type": "stream",
     "text": [
      "[['only', ['ipt']], ['ipt', ['only', 'resumed']]]\n",
      "Combining Features and Descriptors\n",
      "Features for Review 1\n",
      "['rt', []]\n",
      "Updating Count\n",
      "['not', ['resumed']]\n",
      "Updating Count\n",
      "['yet', ['resumed']]\n",
      "Updating Count\n",
      "Features for Review 2\n",
      "['only', ['ipt']]\n",
      "Updating Count\n",
      "['ipt', ['only', 'resumed']]\n",
      "Updating Count\n",
      "\n",
      "Review Number :  158\n",
      "[]\n",
      "Combining Features and Descriptors\n",
      "Features for Review 1\n",
      "\n",
      "Review Number :  159\n"
     ]
    },
    {
     "name": "stderr",
     "output_type": "stream",
     "text": [
      "\r",
      " 80%|████████████████████████████████████████████████████████████████                | 160/200 [03:21<00:21,  1.83it/s]"
     ]
    },
    {
     "name": "stdout",
     "output_type": "stream",
     "text": [
      "[['guards', ['can']], ['not', ['can']]]\n",
      "Combining Features and Descriptors\n",
      "Features for Review 1\n",
      "['guards', ['can']]\n",
      "Updating Count\n",
      "['not', ['can']]\n",
      "Updating Count\n",
      "\n",
      "Review Number :  160\n"
     ]
    },
    {
     "name": "stderr",
     "output_type": "stream",
     "text": [
      "\r",
      " 80%|████████████████████████████████████████████████████████████████▍               | 161/200 [03:21<00:20,  1.93it/s]"
     ]
    },
    {
     "name": "stdout",
     "output_type": "stream",
     "text": [
      "[['scsft', []]]\n",
      "[]\n",
      "Combining Features and Descriptors\n",
      "Features for Review 1\n",
      "['scsft', []]\n",
      "Updating Count\n",
      "Features for Review 2\n",
      "\n",
      "Review Number :  161\n",
      "[['true', ['this']], ['i', ['am']], ['currently', ['serving']], ['still', ['serving']], ['helldoncamp', []], ['poly', ['batch']], ['batch', ['poly', 'have']], ['few', ['have']], ['ite', []]]\n"
     ]
    },
    {
     "name": "stderr",
     "output_type": "stream",
     "text": [
      "\r",
      " 81%|████████████████████████████████████████████████████████████████▊               | 162/200 [03:22<00:25,  1.51it/s]"
     ]
    },
    {
     "name": "stdout",
     "output_type": "stream",
     "text": [
      "[['i', ['think']], ['jcbatch', ['13']], ['maybe', ['13']]]\n",
      "Combining Features and Descriptors\n",
      "Features for Review 1\n",
      "['true', ['this']]\n",
      "Updating Count\n",
      "['i', ['am']]\n",
      "Updating Count\n",
      "['currently', ['serving']]\n",
      "Updating Count\n",
      "['still', ['serving']]\n",
      "Updating Count\n",
      "['helldoncamp', []]\n",
      "Updating Count\n",
      "['poly', ['batch']]\n",
      "Updating Count\n",
      "['batch', ['poly', 'have']]\n",
      "Updating Count\n",
      "['few', ['have']]\n",
      "Updating Count\n",
      "['ite', []]\n",
      "Updating Count\n",
      "Features for Review 2\n",
      "['i', ['think']]\n",
      "Updating Count\n",
      "['jcbatch', ['13']]\n",
      "Updating Count\n",
      "['maybe', ['13']]\n",
      "Updating Count\n",
      "\n",
      "Review Number :  162\n"
     ]
    },
    {
     "name": "stderr",
     "output_type": "stream",
     "text": [
      "\r",
      " 82%|█████████████████████████████████████████████████████████████████▏              | 163/200 [03:22<00:19,  1.86it/s]"
     ]
    },
    {
     "name": "stdout",
     "output_type": "stream",
     "text": [
      "[]\n",
      "Combining Features and Descriptors\n",
      "Features for Review 1\n",
      "\n",
      "Review Number :  163\n"
     ]
    },
    {
     "name": "stderr",
     "output_type": "stream",
     "text": [
      "\r",
      " 82%|█████████████████████████████████████████████████████████████████▌              | 164/200 [03:23<00:24,  1.46it/s]"
     ]
    },
    {
     "name": "stdout",
     "output_type": "stream",
     "text": [
      "[['mob', ['manning']], ['unfortunately', ['applies']], ['applies', ['manning', 'unfortunately']], ['everyone', []], ['even', ['nsfs']], ['once', ['nsfs']], ['unit', []], ['however', ['won']], ['re', []], ['lucky', []], ['tget', ['won']], ['d', ['activated']]]\n",
      "Combining Features and Descriptors\n",
      "Features for Review 1\n",
      "['mob', ['manning']]\n",
      "Updating Count\n",
      "['unfortunately', ['applies']]\n",
      "Updating Count\n",
      "['applies', ['manning', 'unfortunately']]\n",
      "Updating Count\n",
      "['everyone', []]\n",
      "Updating Count\n",
      "['even', ['nsfs']]\n",
      "Updating Count\n",
      "['once', ['nsfs']]\n",
      "Updating Count\n",
      "['unit', []]\n",
      "Updating Count\n",
      "['however', ['won']]\n",
      "Updating Count\n",
      "['re', []]\n",
      "Updating Count\n",
      "['lucky', []]\n",
      "Updating Count\n",
      "['tget', ['won']]\n",
      "Updating Count\n",
      "['d', ['activated']]\n",
      "Updating Count\n",
      "\n",
      "Review Number :  164\n",
      "[['pes', ['down']]]\n"
     ]
    },
    {
     "name": "stderr",
     "output_type": "stream",
     "text": [
      "\r",
      " 82%|██████████████████████████████████████████████████████████████████              | 165/200 [03:24<00:23,  1.48it/s]"
     ]
    },
    {
     "name": "stdout",
     "output_type": "stream",
     "text": [
      "[['pes', ['down']], ['pls', []]]\n",
      "Combining Features and Descriptors\n",
      "Features for Review 1\n",
      "['pes', ['down']]\n",
      "Updating Count\n",
      "Features for Review 2\n",
      "['pes', ['down']]\n",
      "Updating Count\n",
      "['pls', []]\n",
      "Updating Count\n",
      "\n",
      "Review Number :  165\n"
     ]
    },
    {
     "name": "stderr",
     "output_type": "stream",
     "text": [
      "\r",
      " 83%|██████████████████████████████████████████████████████████████████▍             | 166/200 [03:24<00:19,  1.78it/s]"
     ]
    },
    {
     "name": "stdout",
     "output_type": "stream",
     "text": [
      "[['oot', ['posting']], ['bmthelp', []]]\n",
      "Combining Features and Descriptors\n",
      "Features for Review 1\n",
      "['oot', ['posting']]\n",
      "Updating Count\n",
      "['bmthelp', []]\n",
      "Updating Count\n",
      "\n",
      "Review Number :  166\n"
     ]
    },
    {
     "name": "stderr",
     "output_type": "stream",
     "text": [
      "\r",
      " 84%|██████████████████████████████████████████████████████████████████▊             | 167/200 [03:27<00:39,  1.18s/it]"
     ]
    },
    {
     "name": "stdout",
     "output_type": "stream",
     "text": [
      "[['boyhahaha', []], ['i', ['remember', 'have', 'doubt', 'hope']], ['sia', ['remember']], ['parents', ['was']], ['nsf', ['incoming', 'went']], ['up', []], ['volunteers', []], ['hahaha', []], ['also', ['jokingly']], ['jokingly', ['also', 'tekan']], ['‘', []], ['tekan', ['he', 'jokingly', 'guy']], ['guy', ['tekan']], ['ripsia', ['siayeah']], ['siayeah', ['ripsia']], ['i', ['remember', 'have', 'doubt', 'hope']], ['chronic', ['skincondition']], ['skincondition', ['chronic', 'have']], ['portal', []], ['only', ['status']], ['pes', ['status']], ['status', ['it', 'only', 'pes']], ['excuses', []], ['stayin', []], ['i', ['remember', 'have', 'doubt', 'hope']], ['doubt', ['i']], ['condition', ['serious']], ['serious', ['condition', 'enough']], ['enough', ['serious']], ['out', []], ['suck', ['so', 'it']], ['studying', ['some']], ['reading', []], ['ns', []], ['maybe', ['think']], ['uni', []], ['smt', []]]\n",
      "Combining Features and Descriptors\n",
      "Features for Review 1\n",
      "['boyhahaha', []]\n",
      "Updating Count\n",
      "['i', ['remember', 'have', 'doubt', 'hope']]\n",
      "Updating Count\n",
      "['sia', ['remember']]\n",
      "Updating Count\n",
      "['parents', ['was']]\n",
      "Updating Count\n",
      "['nsf', ['incoming', 'went']]\n",
      "Updating Count\n",
      "['up', []]\n",
      "Updating Count\n",
      "['volunteers', []]\n",
      "Updating Count\n",
      "['hahaha', []]\n",
      "Updating Count\n",
      "['also', ['jokingly']]\n",
      "Updating Count\n",
      "['jokingly', ['also', 'tekan']]\n",
      "Updating Count\n",
      "['‘', []]\n",
      "Updating Count\n",
      "['tekan', ['he', 'jokingly', 'guy']]\n",
      "Updating Count\n",
      "['guy', ['tekan']]\n",
      "Updating Count\n",
      "['ripsia', ['siayeah']]\n",
      "Updating Count\n",
      "['siayeah', ['ripsia']]\n",
      "Updating Count\n",
      "['i', ['remember', 'have', 'doubt', 'hope']]\n",
      "Updating Count\n",
      "['chronic', ['skincondition']]\n",
      "Updating Count\n",
      "['skincondition', ['chronic', 'have']]\n",
      "Updating Count\n",
      "['portal', []]\n",
      "Updating Count\n",
      "['only', ['status']]\n",
      "Updating Count\n",
      "['pes', ['status']]\n",
      "Updating Count\n",
      "['status', ['it', 'only', 'pes']]\n",
      "Updating Count\n",
      "['excuses', []]\n",
      "Updating Count\n",
      "['stayin', []]\n",
      "Updating Count\n",
      "['i', ['remember', 'have', 'doubt', 'hope']]\n",
      "Updating Count\n",
      "['doubt', ['i']]\n",
      "Updating Count\n",
      "['condition', ['serious']]\n",
      "Updating Count\n",
      "['serious', ['condition', 'enough']]\n",
      "Updating Count\n",
      "['enough', ['serious']]\n",
      "Updating Count\n",
      "['out', []]\n",
      "Updating Count\n",
      "['suck', ['so', 'it']]\n",
      "Updating Count\n",
      "['studying', ['some']]\n",
      "Updating Count\n",
      "['reading', []]\n",
      "Updating Count\n",
      "['ns', []]\n",
      "Updating Count\n",
      "['maybe', ['think']]\n",
      "Updating Count\n",
      "['uni', []]\n",
      "Updating Count\n",
      "['smt', []]\n",
      "Updating Count\n",
      "\n",
      "Review Number :  167\n",
      "[['i', ['see', 'saw']], ['saf', []], ['hospitaldoc', ['govt']], ['months', ['e1', 'took', 'took']], ['pes', ['e1', 'officially']], ['time', []], ['months', ['e1', 'took', 'took']], ['govtdoctor', []], ['mo', ['ask']], ['review', ['med']], ['board', ['med', 'medical']], ['months', ['e1', 'took', 'took']], ['i', ['see', 'saw']], ['mmidoctor', ['see']], ['review', ['med']], ['i', ['see', 'saw']], ['room', []], ['not', ['sure']], ['sure', ['not', 'saw']], ['docs', ['they']], ['clear', ['one']], ['other', ['doc']], ['doc', ['other']], ['months', ['e1', 'took', 'took']], ['officially', ['pes']], ['pes', ['e1', 'officially']], ['f', []], ['medical', ['board']], ['board', ['med', 'medical']]]\n",
      "[['governmentbureaucracy', []], ['doctors', ['need']], ['ball', ['need']], ['hope', []], ['there', []], ['big', ['queue']], ['queue', ['big', 'isnt']]]\n"
     ]
    },
    {
     "name": "stderr",
     "output_type": "stream",
     "text": [
      "\r",
      " 84%|███████████████████████████████████████████████████████████████████▏            | 168/200 [03:31<01:07,  2.10s/it]"
     ]
    },
    {
     "name": "stdout",
     "output_type": "stream",
     "text": [
      "[['generally', ['fine']], ['govt', ['fine']], ['fine', ['generally', 'govt']], ['i', ['spent', 'recruit']], ['never', ['spent']], ['penny', ['spent']], ['private', []], ['i', ['spent', 'recruit']], ['poor', ['recruit']], ['recruit', ['i', 'poor']]]\n",
      "Combining Features and Descriptors\n",
      "Features for Review 1\n",
      "['i', ['see', 'saw']]\n",
      "Updating Count\n",
      "['saf', []]\n",
      "Updating Count\n",
      "['hospitaldoc', ['govt']]\n",
      "Updating Count\n",
      "['months', ['e1', 'took', 'took']]\n",
      "Updating Count\n",
      "['pes', ['e1', 'officially']]\n",
      "Updating Count\n",
      "['time', []]\n",
      "Updating Count\n",
      "['months', ['e1', 'took', 'took']]\n",
      "Updating Count\n",
      "['govtdoctor', []]\n",
      "Updating Count\n",
      "['mo', ['ask']]\n",
      "Updating Count\n",
      "['review', ['med']]\n",
      "Updating Count\n",
      "['board', ['med', 'medical']]\n",
      "Updating Count\n",
      "['months', ['e1', 'took', 'took']]\n",
      "Updating Count\n",
      "['i', ['see', 'saw']]\n",
      "Updating Count\n",
      "['mmidoctor', ['see']]\n",
      "Updating Count\n",
      "['review', ['med']]\n",
      "Updating Count\n",
      "['i', ['see', 'saw']]\n",
      "Updating Count\n",
      "['room', []]\n",
      "Updating Count\n",
      "['not', ['sure']]\n",
      "Updating Count\n",
      "['sure', ['not', 'saw']]\n",
      "Updating Count\n",
      "['docs', ['they']]\n",
      "Updating Count\n",
      "['clear', ['one']]\n",
      "Updating Count\n",
      "['other', ['doc']]\n",
      "Updating Count\n",
      "['doc', ['other']]\n",
      "Updating Count\n",
      "['months', ['e1', 'took', 'took']]\n",
      "Updating Count\n",
      "['officially', ['pes']]\n",
      "Updating Count\n",
      "['pes', ['e1', 'officially']]\n",
      "Updating Count\n",
      "['f', []]\n",
      "Updating Count\n",
      "['medical', ['board']]\n",
      "Updating Count\n",
      "['board', ['med', 'medical']]\n",
      "Updating Count\n",
      "Features for Review 2\n",
      "['governmentbureaucracy', []]\n",
      "Updating Count\n",
      "['doctors', ['need']]\n",
      "Updating Count\n",
      "['ball', ['need']]\n",
      "Updating Count\n",
      "['hope', []]\n",
      "Updating Count\n",
      "['there', []]\n",
      "Updating Count\n",
      "['big', ['queue']]\n",
      "Updating Count\n",
      "['queue', ['big', 'isnt']]\n",
      "Updating Count\n",
      "Features for Review 3\n",
      "['generally', ['fine']]\n",
      "Updating Count\n",
      "['govt', ['fine']]\n",
      "Updating Count\n",
      "['fine', ['generally', 'govt']]\n",
      "Updating Count\n",
      "['i', ['spent', 'recruit']]\n",
      "Updating Count\n",
      "['never', ['spent']]\n",
      "Updating Count\n",
      "['penny', ['spent']]\n",
      "Updating Count\n",
      "['private', []]\n",
      "Updating Count\n",
      "['i', ['spent', 'recruit']]\n",
      "Updating Count\n",
      "['poor', ['recruit']]\n",
      "Updating Count\n",
      "['recruit', ['i', 'poor']]\n",
      "Updating Count\n",
      "\n",
      "Review Number :  168\n",
      "[['mpvocation', []]]\n",
      "[['heard', []], ['new', ['mpcommander']], ['mpcommander', ['new', 'is']], ['sth', []], ['mp', ['become']], ['now', ['become']], ['stay', ['become', 'in']], ['more', ['xiong']], ['xiong', ['more', 'etc']], ['etc', ['xiong']]]\n"
     ]
    },
    {
     "name": "stderr",
     "output_type": "stream",
     "text": [
      "\r",
      " 84%|███████████████████████████████████████████████████████████████████▌            | 169/200 [03:33<00:57,  1.85s/it]"
     ]
    },
    {
     "name": "stdout",
     "output_type": "stream",
     "text": [
      "[['anyone', ['got']], ['info', ['got']]]\n",
      "Combining Features and Descriptors\n",
      "Features for Review 1\n",
      "['mpvocation', []]\n",
      "Updating Count\n",
      "Features for Review 2\n",
      "['heard', []]\n",
      "Updating Count\n",
      "['new', ['mpcommander']]\n",
      "Updating Count\n",
      "['mpcommander', ['new', 'is']]\n",
      "Updating Count\n",
      "['sth', []]\n",
      "Updating Count\n",
      "['mp', ['become']]\n",
      "Updating Count\n",
      "['now', ['become']]\n",
      "Updating Count\n",
      "['stay', ['become', 'in']]\n",
      "Updating Count\n",
      "['more', ['xiong']]\n",
      "Updating Count\n",
      "['xiong', ['more', 'etc']]\n",
      "Updating Count\n",
      "['etc', ['xiong']]\n",
      "Updating Count\n",
      "Features for Review 3\n",
      "['anyone', ['got']]\n",
      "Updating Count\n",
      "['info', ['got']]\n",
      "Updating Count\n",
      "\n",
      "Review Number :  169\n",
      "[['i', ['understand']]]\n"
     ]
    },
    {
     "name": "stderr",
     "output_type": "stream",
     "text": [
      "\r",
      " 85%|████████████████████████████████████████████████████████████████████            | 170/200 [03:33<00:43,  1.47s/it]"
     ]
    },
    {
     "name": "stdout",
     "output_type": "stream",
     "text": [
      "[['i', ['call', 'guess']], ['navy', ['call']], ['directly', ['call']], ['guess', ['i']]]\n",
      "[]\n",
      "Combining Features and Descriptors\n",
      "Features for Review 1\n",
      "['i', ['understand']]\n",
      "Updating Count\n",
      "Features for Review 2\n",
      "['i', ['call', 'guess']]\n",
      "Updating Count\n",
      "['navy', ['call']]\n",
      "Updating Count\n",
      "['directly', ['call']]\n",
      "Updating Count\n",
      "['guess', ['i']]\n",
      "Updating Count\n",
      "Features for Review 3\n",
      "\n",
      "Review Number :  170\n",
      "[['i', ['rmb']], ['correctly', ['rmb']], ['usually', ['ask']], ['sweaty', ['palms']], ['palms', ['sweaty']], ['aside', []], ['still', ['do']], ['gloves', ['wear']]]\n"
     ]
    },
    {
     "name": "stderr",
     "output_type": "stream",
     "text": [
      "\r",
      " 86%|████████████████████████████████████████████████████████████████████▍           | 171/200 [03:34<00:40,  1.41s/it]"
     ]
    },
    {
     "name": "stdout",
     "output_type": "stream",
     "text": [
      "[['vocations', ['put']], ['not', ['put']], ['explosives', []]]\n",
      "Combining Features and Descriptors\n",
      "Features for Review 1\n",
      "['i', ['rmb']]\n",
      "Updating Count\n",
      "['correctly', ['rmb']]\n",
      "Updating Count\n",
      "['usually', ['ask']]\n",
      "Updating Count\n",
      "['sweaty', ['palms']]\n",
      "Updating Count\n",
      "['palms', ['sweaty']]\n",
      "Updating Count\n",
      "['aside', []]\n",
      "Updating Count\n",
      "['still', ['do']]\n",
      "Updating Count\n",
      "['gloves', ['wear']]\n",
      "Updating Count\n",
      "Features for Review 2\n",
      "['vocations', ['put']]\n",
      "Updating Count\n",
      "['not', ['put']]\n",
      "Updating Count\n",
      "['explosives', []]\n",
      "Updating Count\n",
      "\n",
      "Review Number :  171\n",
      "[['leh', []]]\n"
     ]
    },
    {
     "name": "stderr",
     "output_type": "stream",
     "text": [
      "\r",
      " 86%|████████████████████████████████████████████████████████████████████▊           | 172/200 [03:35<00:34,  1.25s/it]"
     ]
    },
    {
     "name": "stdout",
     "output_type": "stream",
     "text": [
      "[['someone', []], ['human', ['we']], ['leh', ['why', 'ask']]]\n",
      "[]\n",
      "Combining Features and Descriptors\n",
      "Features for Review 1\n",
      "['leh', []]\n",
      "Updating Count\n",
      "Features for Review 2\n",
      "['someone', []]\n",
      "Updating Count\n",
      "['human', ['we']]\n",
      "Updating Count\n",
      "['leh', ['why', 'ask']]\n",
      "Updating Count\n",
      "Features for Review 3\n",
      "\n",
      "Review Number :  172\n"
     ]
    },
    {
     "name": "stderr",
     "output_type": "stream",
     "text": [
      "\r",
      " 86%|█████████████████████████████████████████████████████████████████████▏          | 173/200 [03:36<00:28,  1.06s/it]"
     ]
    },
    {
     "name": "stdout",
     "output_type": "stream",
     "text": [
      "[['i', ['enlisting', 'guess']], ['m', []], ['same', ['day']], ['day', ['same']], ['time', []], ['so', ['see']], ['i', ['enlisting', 'guess']], ['guess', ['i']]]\n",
      "Combining Features and Descriptors\n",
      "Features for Review 1\n",
      "['i', ['enlisting', 'guess']]\n",
      "Updating Count\n",
      "['m', []]\n",
      "Updating Count\n",
      "['same', ['day']]\n",
      "Updating Count\n",
      "['day', ['same']]\n",
      "Updating Count\n",
      "['time', []]\n",
      "Updating Count\n",
      "['so', ['see']]\n",
      "Updating Count\n",
      "['i', ['enlisting', 'guess']]\n",
      "Updating Count\n",
      "['guess', ['i']]\n",
      "Updating Count\n",
      "\n",
      "Review Number :  173\n",
      "[['depends', []], ['next', ['intake']], ['intake', ['next', 'when']], ['cmpbwebsite', []]]\n"
     ]
    },
    {
     "name": "stderr",
     "output_type": "stream",
     "text": [
      "\r",
      " 87%|█████████████████████████████████████████████████████████████████████▌          | 174/200 [03:37<00:26,  1.01s/it]"
     ]
    },
    {
     "name": "stdout",
     "output_type": "stream",
     "text": [
      "[['week', []], ['few', ['months']], ['months', ['few']]]\n",
      "Combining Features and Descriptors\n",
      "Features for Review 1\n",
      "['depends', []]\n",
      "Updating Count\n",
      "['next', ['intake']]\n",
      "Updating Count\n",
      "['intake', ['next', 'when']]\n",
      "Updating Count\n",
      "['cmpbwebsite', []]\n",
      "Updating Count\n",
      "Features for Review 2\n",
      "['week', []]\n",
      "Updating Count\n",
      "['few', ['months']]\n",
      "Updating Count\n",
      "['months', ['few']]\n",
      "Updating Count\n",
      "\n",
      "Review Number :  174\n",
      "[['i', ['came']], ['back', ['came']], ['hospilization', ['leave']], ['months', []], ['coy', ['pop']], ['already', ['pop']], ['pop', ['coy', 'already', 'ago']], ['month', []], ['ago', ['pop']]]\n",
      "[['really', ['me']], ['just', ['me']], ['more', ['guy']], ['guy', ['more']], ['bunk', []], ['coyline', []], ['post', ['out']]]\n",
      "[['i', ['think', 'waited']], ['only', ['waited']], ['half', ['weeks']], ['weeks', ['half']], ['i', ['think', 'waited']]]\n",
      "[['hope', []], ['helps', ['this']]]\n",
      "[['guy', ['waiting']], ['already', ['waiting']], ['month', []], ['still', ['news']], ['news', ['still']]]\n"
     ]
    },
    {
     "name": "stderr",
     "output_type": "stream",
     "text": [
      "\r",
      " 88%|██████████████████████████████████████████████████████████████████████          | 175/200 [03:40<00:42,  1.71s/it]"
     ]
    },
    {
     "name": "stdout",
     "output_type": "stream",
     "text": [
      "[['so', ['comes']], ['end', []], ['pes', ['status']], ['status', ['pes']]]\n",
      "Combining Features and Descriptors\n",
      "Features for Review 1\n",
      "['i', ['came']]\n",
      "Updating Count\n",
      "['back', ['came']]\n",
      "Updating Count\n",
      "['hospilization', ['leave']]\n",
      "Updating Count\n",
      "['months', []]\n",
      "Updating Count\n",
      "['coy', ['pop']]\n",
      "Updating Count\n",
      "['already', ['pop']]\n",
      "Updating Count\n",
      "['pop', ['coy', 'already', 'ago']]\n",
      "Updating Count\n",
      "['month', []]\n",
      "Updating Count\n",
      "['ago', ['pop']]\n",
      "Updating Count\n",
      "Features for Review 2\n",
      "['really', ['me']]\n",
      "Updating Count\n",
      "['just', ['me']]\n",
      "Updating Count\n",
      "['more', ['guy']]\n",
      "Updating Count\n",
      "['guy', ['more']]\n",
      "Updating Count\n",
      "['bunk', []]\n",
      "Updating Count\n",
      "['coyline', []]\n",
      "Updating Count\n",
      "['post', ['out']]\n",
      "Updating Count\n",
      "Features for Review 3\n",
      "['i', ['think', 'waited']]\n",
      "Updating Count\n",
      "['only', ['waited']]\n",
      "Updating Count\n",
      "['half', ['weeks']]\n",
      "Updating Count\n",
      "['weeks', ['half']]\n",
      "Updating Count\n",
      "['i', ['think', 'waited']]\n",
      "Updating Count\n",
      "Features for Review 4\n",
      "['hope', []]\n",
      "Updating Count\n",
      "['helps', ['this']]\n",
      "Updating Count\n",
      "Features for Review 5\n",
      "['guy', ['waiting']]\n",
      "Updating Count\n",
      "['already', ['waiting']]\n",
      "Updating Count\n",
      "['month', []]\n",
      "Updating Count\n",
      "['still', ['news']]\n",
      "Updating Count\n",
      "['news', ['still']]\n",
      "Updating Count\n",
      "Features for Review 6\n",
      "['so', ['comes']]\n",
      "Updating Count\n",
      "['end', []]\n",
      "Updating Count\n",
      "['pes', ['status']]\n",
      "Updating Count\n",
      "['status', ['pes']]\n",
      "Updating Count\n",
      "\n",
      "Review Number :  175\n"
     ]
    },
    {
     "name": "stderr",
     "output_type": "stream",
     "text": [
      "\r",
      " 88%|██████████████████████████████████████████████████████████████████████▍         | 176/200 [03:40<00:30,  1.28s/it]"
     ]
    },
    {
     "name": "stdout",
     "output_type": "stream",
     "text": [
      "[['ptp', []], ['confinement', []]]\n",
      "Combining Features and Descriptors\n",
      "Features for Review 1\n",
      "['ptp', []]\n",
      "Updating Count\n",
      "['confinement', []]\n",
      "Updating Count\n",
      "\n",
      "Review Number :  176\n",
      "[['jcgrade', ['grades']], ['grades', ['jcgrade']]]\n",
      "[['jc', ['grades']], ['grades', ['jc', 'cdec']], ['cdec', ['grades']], ['lol', []]]\n",
      "[['s', []], ['pretty', ['fked']]]\n"
     ]
    },
    {
     "name": "stderr",
     "output_type": "stream",
     "text": [
      "\r",
      " 88%|██████████████████████████████████████████████████████████████████████▊         | 177/200 [03:42<00:31,  1.39s/it]"
     ]
    },
    {
     "name": "stdout",
     "output_type": "stream",
     "text": [
      "[['decently', ['schtho']], ['well', ['schtho']], ['secsch', ['schtho']], ['schtho', ['decently', 'well', 'secsch']], ['i', ['teach']], ['levellah', []]]\n",
      "Combining Features and Descriptors\n",
      "Features for Review 1\n",
      "['jcgrade', ['grades']]\n",
      "Updating Count\n",
      "['grades', ['jcgrade']]\n",
      "Updating Count\n",
      "Features for Review 2\n",
      "['jc', ['grades']]\n",
      "Updating Count\n",
      "['grades', ['jc', 'cdec']]\n",
      "Updating Count\n",
      "['cdec', ['grades']]\n",
      "Updating Count\n",
      "['lol', []]\n",
      "Updating Count\n",
      "Features for Review 3\n",
      "['s', []]\n",
      "Updating Count\n",
      "['pretty', ['fked']]\n",
      "Updating Count\n",
      "Features for Review 4\n",
      "['decently', ['schtho']]\n",
      "Updating Count\n",
      "['well', ['schtho']]\n",
      "Updating Count\n",
      "['secsch', ['schtho']]\n",
      "Updating Count\n",
      "['schtho', ['decently', 'well', 'secsch']]\n",
      "Updating Count\n",
      "['i', ['teach']]\n",
      "Updating Count\n",
      "['levellah', []]\n",
      "Updating Count\n",
      "\n",
      "Review Number :  177\n"
     ]
    },
    {
     "name": "stderr",
     "output_type": "stream",
     "text": [
      "\r",
      " 89%|███████████████████████████████████████████████████████████████████████▏        | 178/200 [03:43<00:24,  1.13s/it]"
     ]
    },
    {
     "name": "stdout",
     "output_type": "stream",
     "text": [
      "[['not', ['really']], ['really', ['not']], ['just', ['wanted']], ['anyone', ['knows', 'here']], ['here', ['anyone']]]\n",
      "Combining Features and Descriptors\n",
      "Features for Review 1\n",
      "['not', ['really']]\n",
      "Updating Count\n",
      "['really', ['not']]\n",
      "Updating Count\n",
      "['just', ['wanted']]\n",
      "Updating Count\n",
      "['anyone', ['knows', 'here']]\n",
      "Updating Count\n",
      "['here', ['anyone']]\n",
      "Updating Count\n",
      "\n",
      "Review Number :  178\n"
     ]
    },
    {
     "name": "stderr",
     "output_type": "stream",
     "text": [
      "\r",
      " 90%|███████████████████████████████████████████████████████████████████████▌        | 179/200 [03:43<00:21,  1.04s/it]"
     ]
    },
    {
     "name": "stdout",
     "output_type": "stream",
     "text": [
      "[['friend', ['deferred']], ['ite', []], ['cdo', ['postpoly', 'still']], ['postpoly', ['cdo']], ['still', ['cdo']], ['so', ['random']], ['very', ['random']], ['random', ['so', 'very']]]\n",
      "Combining Features and Descriptors\n",
      "Features for Review 1\n",
      "['friend', ['deferred']]\n",
      "Updating Count\n",
      "['ite', []]\n",
      "Updating Count\n",
      "['cdo', ['postpoly', 'still']]\n",
      "Updating Count\n",
      "['postpoly', ['cdo']]\n",
      "Updating Count\n",
      "['still', ['cdo']]\n",
      "Updating Count\n",
      "['so', ['random']]\n",
      "Updating Count\n",
      "['very', ['random']]\n",
      "Updating Count\n",
      "['random', ['so', 'very']]\n",
      "Updating Count\n",
      "\n",
      "Review Number :  179\n"
     ]
    },
    {
     "name": "stderr",
     "output_type": "stream",
     "text": [
      "\r",
      " 90%|████████████████████████████████████████████████████████████████████████        | 180/200 [03:44<00:17,  1.12it/s]"
     ]
    },
    {
     "name": "stdout",
     "output_type": "stream",
     "text": [
      "[['b2', ['everything']], ['everything', ['b2']], ['xiong', ['commando']], ['commando', ['most', 'xiong']], ['guards', []]]\n",
      "Combining Features and Descriptors\n",
      "Features for Review 1\n",
      "['b2', ['everything']]\n",
      "Updating Count\n",
      "['everything', ['b2']]\n",
      "Updating Count\n",
      "['xiong', ['commando']]\n",
      "Updating Count\n",
      "['commando', ['most', 'xiong']]\n",
      "Updating Count\n",
      "['guards', []]\n",
      "Updating Count\n",
      "\n",
      "Review Number :  180\n",
      "[['pes', ['choose']]]\n"
     ]
    },
    {
     "name": "stderr",
     "output_type": "stream",
     "text": [
      "\r",
      " 90%|████████████████████████████████████████████████████████████████████████▍       | 181/200 [03:45<00:19,  1.04s/it]"
     ]
    },
    {
     "name": "stdout",
     "output_type": "stream",
     "text": [
      "[['interest', ['declare']], ['reason', ['mild']], ['pes', ['c']], ['c', ['pes']], ['quite', ['mild']], ['mild', ['reason', 'quite']], ['saf', ['try']], ['oes', []]]\n",
      "Combining Features and Descriptors\n",
      "Features for Review 1\n",
      "['pes', ['choose']]\n",
      "Updating Count\n",
      "Features for Review 2\n",
      "['interest', ['declare']]\n",
      "Updating Count\n",
      "['reason', ['mild']]\n",
      "Updating Count\n",
      "['pes', ['c']]\n",
      "Updating Count\n",
      "['c', ['pes']]\n",
      "Updating Count\n",
      "['quite', ['mild']]\n",
      "Updating Count\n",
      "['mild', ['reason', 'quite']]\n",
      "Updating Count\n",
      "['saf', ['try']]\n",
      "Updating Count\n",
      "['oes', []]\n",
      "Updating Count\n",
      "\n",
      "Review Number :  181\n",
      "[['ah', []], ['fair', []], ['forgot', ['the', 'apply']], ['cos', []], ['i', ['enter']], [\"n't\", ['enter']], ['bmt', ['enter']], ['yet', ['enter']]]\n"
     ]
    },
    {
     "name": "stderr",
     "output_type": "stream",
     "text": [
      "\r",
      " 91%|████████████████████████████████████████████████████████████████████████▊       | 182/200 [03:46<00:18,  1.05s/it]"
     ]
    },
    {
     "name": "stdout",
     "output_type": "stream",
     "text": [
      "[['thanks', []], ['ah', []], [\"n't\", ['realize']], ['interview', ['saturday']], ['saturday', ['interview']]]\n",
      "Combining Features and Descriptors\n",
      "Features for Review 1\n",
      "['ah', []]\n",
      "Updating Count\n",
      "['fair', []]\n",
      "Updating Count\n",
      "['forgot', ['the', 'apply']]\n",
      "Updating Count\n",
      "['cos', []]\n",
      "Updating Count\n",
      "['i', ['enter']]\n",
      "Updating Count\n",
      "[\"n't\", ['enter']]\n",
      "Updating Count\n",
      "['bmt', ['enter']]\n",
      "Updating Count\n",
      "['yet', ['enter']]\n",
      "Updating Count\n",
      "Features for Review 2\n",
      "['thanks', []]\n",
      "Updating Count\n",
      "['ah', []]\n",
      "Updating Count\n",
      "[\"n't\", ['realize']]\n",
      "Updating Count\n",
      "['interview', ['saturday']]\n",
      "Updating Count\n",
      "['saturday', ['interview']]\n",
      "Updating Count\n",
      "\n",
      "Review Number :  182\n",
      "[['leap', ['year']], ['year', ['leap']]]\n"
     ]
    },
    {
     "name": "stderr",
     "output_type": "stream",
     "text": [
      "\r",
      " 92%|█████████████████████████████████████████████████████████████████████████▏      | 183/200 [03:47<00:17,  1.04s/it]"
     ]
    },
    {
     "name": "stdout",
     "output_type": "stream",
     "text": [
      "[['next', ['year']], ['year', ['next', 'leap']], ['leap', ['year']], ['year', ['next', 'leap']], ['iord', []], ['extra', ['oil']], ['oil', ['extra', 'get']], ['i', ['get', 'serving']], ['additional', ['day']], ['day', ['additional']]]\n",
      "Combining Features and Descriptors\n",
      "Features for Review 1\n",
      "['leap', ['year']]\n",
      "Updating Count\n",
      "['year', ['leap']]\n",
      "Updating Count\n",
      "Features for Review 2\n",
      "['next', ['year']]\n",
      "Updating Count\n",
      "['year', ['next', 'leap']]\n",
      "Updating Count\n",
      "['leap', ['year']]\n",
      "Updating Count\n",
      "['year', ['next', 'leap']]\n",
      "Updating Count\n",
      "['iord', []]\n",
      "Updating Count\n",
      "['extra', ['oil']]\n",
      "Updating Count\n",
      "['oil', ['extra', 'get']]\n",
      "Updating Count\n",
      "['i', ['get', 'serving']]\n",
      "Updating Count\n",
      "['additional', ['day']]\n",
      "Updating Count\n",
      "['day', ['additional']]\n",
      "Updating Count\n",
      "\n",
      "Review Number :  183\n",
      "[['weeks', ['training']], ['bmt', []], ['weeks', ['training']], ['vocational', ['training']], ['training', ['weeks', 'vocational']]]\n",
      "[['just', ['relax']]]\n"
     ]
    },
    {
     "name": "stderr",
     "output_type": "stream",
     "text": [
      "\r",
      " 92%|█████████████████████████████████████████████████████████████████████████▌      | 184/200 [03:49<00:20,  1.26s/it]"
     ]
    },
    {
     "name": "stdout",
     "output_type": "stream",
     "text": [
      "[['bmt', ['part']], ['probably', ['part']], ['part', ['bmt', 'probably', 'best']], ['ns', ['journey']], ['journey', ['ns']], ['pes', ['c']], ['unit', ['you']], ['camp', ['kranji', 'miss']], ['hours', []], ['day', []], ['bed', ['ironing', 'spend']], ['cock', ['talking']]]\n",
      "Combining Features and Descriptors\n",
      "Features for Review 1\n",
      "['weeks', ['training']]\n",
      "Updating Count\n",
      "['bmt', []]\n",
      "Updating Count\n",
      "['weeks', ['training']]\n",
      "Updating Count\n",
      "['vocational', ['training']]\n",
      "Updating Count\n",
      "['training', ['weeks', 'vocational']]\n",
      "Updating Count\n",
      "Features for Review 2\n",
      "['just', ['relax']]\n",
      "Updating Count\n",
      "Features for Review 3\n",
      "['bmt', ['part']]\n",
      "Updating Count\n",
      "['probably', ['part']]\n",
      "Updating Count\n",
      "['part', ['bmt', 'probably', 'best']]\n",
      "Updating Count\n",
      "['ns', ['journey']]\n",
      "Updating Count\n",
      "['journey', ['ns']]\n",
      "Updating Count\n",
      "['pes', ['c']]\n",
      "Updating Count\n",
      "['unit', ['you']]\n",
      "Updating Count\n",
      "['camp', ['kranji', 'miss']]\n",
      "Updating Count\n",
      "['hours', []]\n",
      "Updating Count\n",
      "['day', []]\n",
      "Updating Count\n",
      "['bed', ['ironing', 'spend']]\n",
      "Updating Count\n",
      "['cock', ['talking']]\n",
      "Updating Count\n",
      "\n",
      "Review Number :  184\n",
      "[['well', []], ['logically', ['speaking']], ['just', ['go']], ['excuse', ['get']], ['everything', ['get']], ['months', ['complete']]]\n"
     ]
    },
    {
     "name": "stderr",
     "output_type": "stream",
     "text": [
      "\r",
      " 92%|██████████████████████████████████████████████████████████████████████████      | 185/200 [03:51<00:19,  1.29s/it]"
     ]
    },
    {
     "name": "stdout",
     "output_type": "stream",
     "text": [
      "[['then', ['stay']], ['just', ['stay']], ['clerk', []], ['lifeeveryday', []], ['gloves', ['wear']], ['keyboard', ['using']]]\n",
      "Combining Features and Descriptors\n",
      "Features for Review 1\n",
      "['well', []]\n",
      "Updating Count\n",
      "['logically', ['speaking']]\n",
      "Updating Count\n",
      "['just', ['go']]\n",
      "Updating Count\n",
      "['excuse', ['get']]\n",
      "Updating Count\n",
      "['everything', ['get']]\n",
      "Updating Count\n",
      "['months', ['complete']]\n",
      "Updating Count\n",
      "Features for Review 2\n",
      "['then', ['stay']]\n",
      "Updating Count\n",
      "['just', ['stay']]\n",
      "Updating Count\n",
      "['clerk', []]\n",
      "Updating Count\n",
      "['lifeeveryday', []]\n",
      "Updating Count\n",
      "['gloves', ['wear']]\n",
      "Updating Count\n",
      "['keyboard', ['using']]\n",
      "Updating Count\n",
      "\n",
      "Review Number :  185\n",
      "[['bit', ['late']], ['late', ['bit', 'better']], ['better', ['late']], ['late', ['bit', 'better']], ['never', []]]\n",
      "[['favor', ['do']], ['e', []], ['imh', []]]\n",
      "[['point', [\"'s\"]], ['chain', []], ['command', []], ['officer', ['commanding']], ['really', ['wants']], ['technically', ['pretend']], ['just', ['pretend']], ['never', ['did']], ['anything', ['did']], ['request', ['ignore', 's']], ['s', ['request']]]\n"
     ]
    },
    {
     "name": "stderr",
     "output_type": "stream",
     "text": [
      "\r",
      " 93%|██████████████████████████████████████████████████████████████████████████▍     | 186/200 [03:53<00:24,  1.74s/it]"
     ]
    },
    {
     "name": "stdout",
     "output_type": "stream",
     "text": [
      "[['point', []], ['no', ['longer']], ['military', ['regimentation']], ['regimentation', ['military', 'respecting']], ['wellbeing', ['it']]]\n",
      "Combining Features and Descriptors\n",
      "Features for Review 1\n",
      "['bit', ['late']]\n",
      "Updating Count\n",
      "['late', ['bit', 'better']]\n",
      "Updating Count\n",
      "['better', ['late']]\n",
      "Updating Count\n",
      "['late', ['bit', 'better']]\n",
      "Updating Count\n",
      "['never', []]\n",
      "Updating Count\n",
      "Features for Review 2\n",
      "['favor', ['do']]\n",
      "Updating Count\n",
      "['e', []]\n",
      "Updating Count\n",
      "['imh', []]\n",
      "Updating Count\n",
      "Features for Review 3\n",
      "['point', [\"'s\"]]\n",
      "Updating Count\n",
      "['chain', []]\n",
      "Updating Count\n",
      "['command', []]\n",
      "Updating Count\n",
      "['officer', ['commanding']]\n",
      "Updating Count\n",
      "['really', ['wants']]\n",
      "Updating Count\n",
      "['technically', ['pretend']]\n",
      "Updating Count\n",
      "['just', ['pretend']]\n",
      "Updating Count\n",
      "['never', ['did']]\n",
      "Updating Count\n",
      "['anything', ['did']]\n",
      "Updating Count\n",
      "['request', ['ignore', 's']]\n",
      "Updating Count\n",
      "['s', ['request']]\n",
      "Updating Count\n",
      "Features for Review 4\n",
      "['point', []]\n",
      "Updating Count\n",
      "['no', ['longer']]\n",
      "Updating Count\n",
      "['military', ['regimentation']]\n",
      "Updating Count\n",
      "['regimentation', ['military', 'respecting']]\n",
      "Updating Count\n",
      "['wellbeing', ['it']]\n",
      "Updating Count\n",
      "\n",
      "Review Number :  186\n"
     ]
    },
    {
     "name": "stderr",
     "output_type": "stream",
     "text": [
      "\r",
      " 94%|██████████████████████████████████████████████████████████████████████████▊     | 187/200 [03:54<00:17,  1.34s/it]"
     ]
    },
    {
     "name": "stdout",
     "output_type": "stream",
     "text": [
      "[['as', []], ['much', ['earn']]]\n",
      "Combining Features and Descriptors\n",
      "Features for Review 1\n",
      "['as', []]\n",
      "Updating Count\n",
      "['much', ['earn']]\n",
      "Updating Count\n",
      "\n",
      "Review Number :  187\n"
     ]
    },
    {
     "name": "stderr",
     "output_type": "stream",
     "text": [
      "\r",
      " 94%|███████████████████████████████████████████████████████████████████████████▏    | 188/200 [03:54<00:12,  1.02s/it]"
     ]
    },
    {
     "name": "stdout",
     "output_type": "stream",
     "text": [
      "[['later', ['kena']], ['guards', ['kena']]]\n",
      "[]\n",
      "Combining Features and Descriptors\n",
      "Features for Review 1\n",
      "['later', ['kena']]\n",
      "Updating Count\n",
      "['guards', ['kena']]\n",
      "Updating Count\n",
      "Features for Review 2\n",
      "\n",
      "Review Number :  188\n"
     ]
    },
    {
     "name": "stderr",
     "output_type": "stream",
     "text": [
      "\r",
      " 94%|███████████████████████████████████████████████████████████████████████████▌    | 189/200 [03:54<00:08,  1.23it/s]"
     ]
    },
    {
     "name": "stdout",
     "output_type": "stream",
     "text": [
      "[['batch', []], ['charlie', []]]\n",
      "Combining Features and Descriptors\n",
      "Features for Review 1\n",
      "['batch', []]\n",
      "Updating Count\n",
      "['charlie', []]\n",
      "Updating Count\n",
      "\n",
      "Review Number :  189\n",
      "[['i', ['think']], ['end', []], ['f', ['pes', 'decision']], ['big', ['decision']], ['decision', ['f', 'big']], ['likely', ['require']], ['medical', ['board']], ['board', ['medical', 'require']], ['present', []], ['saf', ['specialist']], ['specialist', ['saf']]]\n"
     ]
    },
    {
     "name": "stderr",
     "output_type": "stream",
     "text": [
      "\r",
      " 95%|████████████████████████████████████████████████████████████████████████████    | 190/200 [03:56<00:10,  1.02s/it]"
     ]
    },
    {
     "name": "stdout",
     "output_type": "stream",
     "text": [
      "[['don', []], ['t', ['think']], ['ultimately', ['matters']], ['public', ['specialistmemo']], ['private', []], ['specialistmemo', ['public', 'matters']]]\n",
      "Combining Features and Descriptors\n",
      "Features for Review 1\n",
      "['i', ['think']]\n",
      "Updating Count\n",
      "['end', []]\n",
      "Updating Count\n",
      "['f', ['pes', 'decision']]\n",
      "Updating Count\n",
      "['big', ['decision']]\n",
      "Updating Count\n",
      "['decision', ['f', 'big']]\n",
      "Updating Count\n",
      "['likely', ['require']]\n",
      "Updating Count\n",
      "['medical', ['board']]\n",
      "Updating Count\n",
      "['board', ['medical', 'require']]\n",
      "Updating Count\n",
      "['present', []]\n",
      "Updating Count\n",
      "['saf', ['specialist']]\n",
      "Updating Count\n",
      "['specialist', ['saf']]\n",
      "Updating Count\n",
      "Features for Review 2\n",
      "['don', []]\n",
      "Updating Count\n",
      "['t', ['think']]\n",
      "Updating Count\n",
      "['ultimately', ['matters']]\n",
      "Updating Count\n",
      "['public', ['specialistmemo']]\n",
      "Updating Count\n",
      "['private', []]\n",
      "Updating Count\n",
      "['specialistmemo', ['public', 'matters']]\n",
      "Updating Count\n",
      "\n",
      "Review Number :  190\n"
     ]
    },
    {
     "name": "stderr",
     "output_type": "stream",
     "text": [
      "\r",
      " 96%|████████████████████████████████████████████████████████████████████████████▍   | 191/200 [03:56<00:07,  1.22it/s]"
     ]
    },
    {
     "name": "stdout",
     "output_type": "stream",
     "text": [
      "[['navy', ['centerbro']], ['recruitmentcenter', ['centerbro']], ['centerbro', ['navy', 'recruitmentcenter', 'call']]]\n",
      "Combining Features and Descriptors\n",
      "Features for Review 1\n",
      "['navy', ['centerbro']]\n",
      "Updating Count\n",
      "['recruitmentcenter', ['centerbro']]\n",
      "Updating Count\n",
      "['centerbro', ['navy', 'recruitmentcenter', 'call']]\n",
      "Updating Count\n",
      "\n",
      "Review Number :  191\n",
      "[['peng', []]]\n"
     ]
    },
    {
     "name": "stderr",
     "output_type": "stream",
     "text": [
      "\r",
      " 96%|████████████████████████████████████████████████████████████████████████████▊   | 192/200 [03:57<00:05,  1.38it/s]"
     ]
    },
    {
     "name": "stdout",
     "output_type": "stream",
     "text": [
      "[['idea', []], ['guys', []]]\n",
      "Combining Features and Descriptors\n",
      "Features for Review 1\n",
      "['peng', []]\n",
      "Updating Count\n",
      "Features for Review 2\n",
      "['idea', []]\n",
      "Updating Count\n",
      "['guys', []]\n",
      "Updating Count\n",
      "\n",
      "Review Number :  192\n",
      "[['assault', ['packs']], ['packs', ['assault', 'issue']], ['pes', ['c']], ['now', ['issue']]]\n"
     ]
    },
    {
     "name": "stderr",
     "output_type": "stream",
     "text": [
      "\r",
      " 96%|█████████████████████████████████████████████████████████████████████████████▏  | 193/200 [03:57<00:05,  1.40it/s]"
     ]
    },
    {
     "name": "stdout",
     "output_type": "stream",
     "text": [
      "[['i', ['rmb']], ['bags', ['it', 'sling']]]\n",
      "Combining Features and Descriptors\n",
      "Features for Review 1\n",
      "['assault', ['packs']]\n",
      "Updating Count\n",
      "['packs', ['assault', 'issue']]\n",
      "Updating Count\n",
      "['pes', ['c']]\n",
      "Updating Count\n",
      "['now', ['issue']]\n",
      "Updating Count\n",
      "Features for Review 2\n",
      "['i', ['rmb']]\n",
      "Updating Count\n",
      "['bags', ['it', 'sling']]\n",
      "Updating Count\n",
      "\n",
      "Review Number :  193\n",
      "[['plsdon', []], ['’', []], ['tspew', ['spewnonsense']], ['spewnonsense', ['tspew', 'got']], ['ncc', ['hq']], ['hq', ['ncc']], ['infantry', ['term']], ['pro', ['term']], ['term', ['infantry', 'pro']]]\n"
     ]
    },
    {
     "name": "stderr",
     "output_type": "stream",
     "text": [
      "\r",
      " 97%|█████████████████████████████████████████████████████████████████████████████▌  | 194/200 [03:59<00:05,  1.04it/s]"
     ]
    },
    {
     "name": "stdout",
     "output_type": "stream",
     "text": [
      "[['even', ['then']], ['then', ['even', 'shotts']], ['long', ['shotts']], ['shotts', ['then', 'it', 'long']], ['more', ['source']], ['info', ['source']], ['source', ['more', 'info', 'want']], ['exscs', []], ['scscadet', []]]\n",
      "Combining Features and Descriptors\n",
      "Features for Review 1\n",
      "['plsdon', []]\n",
      "Updating Count\n",
      "['’', []]\n",
      "Updating Count\n",
      "['tspew', ['spewnonsense']]\n",
      "Updating Count\n",
      "['spewnonsense', ['tspew', 'got']]\n",
      "Updating Count\n",
      "['ncc', ['hq']]\n",
      "Updating Count\n",
      "['hq', ['ncc']]\n",
      "Updating Count\n",
      "['infantry', ['term']]\n",
      "Updating Count\n",
      "['pro', ['term']]\n",
      "Updating Count\n",
      "['term', ['infantry', 'pro']]\n",
      "Updating Count\n",
      "Features for Review 2\n",
      "['even', ['then']]\n",
      "Updating Count\n",
      "['then', ['even', 'shotts']]\n",
      "Updating Count\n",
      "['long', ['shotts']]\n",
      "Updating Count\n",
      "['shotts', ['then', 'it', 'long']]\n",
      "Updating Count\n",
      "['more', ['source']]\n",
      "Updating Count\n",
      "['info', ['source']]\n",
      "Updating Count\n",
      "['source', ['more', 'info', 'want']]\n",
      "Updating Count\n",
      "['exscs', []]\n",
      "Updating Count\n",
      "['scscadet', []]\n",
      "Updating Count\n",
      "\n",
      "Review Number :  194\n",
      "[['yes', []], ['transporthr', ['have']], ['hraccount', []]]\n"
     ]
    },
    {
     "name": "stderr",
     "output_type": "stream",
     "text": [
      "\r",
      " 98%|██████████████████████████████████████████████████████████████████████████████  | 195/200 [04:00<00:04,  1.10it/s]"
     ]
    },
    {
     "name": "stdout",
     "output_type": "stream",
     "text": [
      "[['units1', []]]\n",
      "Combining Features and Descriptors\n",
      "Features for Review 1\n",
      "['yes', []]\n",
      "Updating Count\n",
      "['transporthr', ['have']]\n",
      "Updating Count\n",
      "['hraccount', []]\n",
      "Updating Count\n",
      "Features for Review 2\n",
      "['units1', []]\n",
      "Updating Count\n",
      "\n",
      "Review Number :  195\n",
      "[['lmao', []], ['typical', ['kengloser']], ['chaokeng', ['kengloser']], ['kengloser', ['typical', 'chaokeng']]]\n",
      "[['profile', ['says']], ['otherwise', ['says']]]\n"
     ]
    },
    {
     "name": "stderr",
     "output_type": "stream",
     "text": [
      "\r",
      " 98%|██████████████████████████████████████████████████████████████████████████████▍ | 196/200 [04:01<00:04,  1.06s/it]"
     ]
    },
    {
     "name": "stdout",
     "output_type": "stream",
     "text": [
      "[['fun', ['have']], ['bottom', ['bitch']], ['bitch', ['bottom', 'have']], ['here', []], ['green', ['warmachine']], ['warmachine', ['green', 'mean']]]\n",
      "Combining Features and Descriptors\n",
      "Features for Review 1\n",
      "['lmao', []]\n",
      "Updating Count\n",
      "['typical', ['kengloser']]\n",
      "Updating Count\n",
      "['chaokeng', ['kengloser']]\n",
      "Updating Count\n",
      "['kengloser', ['typical', 'chaokeng']]\n",
      "Updating Count\n",
      "Features for Review 2\n",
      "['profile', ['says']]\n",
      "Updating Count\n",
      "['otherwise', ['says']]\n",
      "Updating Count\n",
      "Features for Review 3\n",
      "['fun', ['have']]\n",
      "Updating Count\n",
      "['bottom', ['bitch']]\n",
      "Updating Count\n",
      "['bitch', ['bottom', 'have']]\n",
      "Updating Count\n",
      "['here', []]\n",
      "Updating Count\n",
      "['green', ['warmachine']]\n",
      "Updating Count\n",
      "['warmachine', ['green', 'mean']]\n",
      "Updating Count\n",
      "\n",
      "Review Number :  196\n"
     ]
    },
    {
     "name": "stderr",
     "output_type": "stream",
     "text": [
      "\r",
      " 98%|██████████████████████████████████████████████████████████████████████████████▊ | 197/200 [04:02<00:02,  1.11it/s]"
     ]
    },
    {
     "name": "stdout",
     "output_type": "stream",
     "text": [
      "[['ooo', []], ['whats', ['special']], ['special', ['whats']], ['bunks', []], ['o', []], ['toilets', ['nice']], ['nice', ['toilets']]]\n",
      "Combining Features and Descriptors\n",
      "Features for Review 1\n",
      "['ooo', []]\n",
      "Updating Count\n",
      "['whats', ['special']]\n",
      "Updating Count\n",
      "['special', ['whats']]\n",
      "Updating Count\n",
      "['bunks', []]\n",
      "Updating Count\n",
      "['o', []]\n",
      "Updating Count\n",
      "['toilets', ['nice']]\n",
      "Updating Count\n",
      "['nice', ['toilets']]\n",
      "Updating Count\n",
      "\n",
      "Review Number :  197\n"
     ]
    },
    {
     "name": "stderr",
     "output_type": "stream",
     "text": [
      "\r",
      " 99%|███████████████████████████████████████████████████████████████████████████████▏| 198/200 [04:02<00:01,  1.41it/s]"
     ]
    },
    {
     "name": "stdout",
     "output_type": "stream",
     "text": [
      "[['ahi', ['see']], ['thanks', ['see']]]\n",
      "Combining Features and Descriptors\n",
      "Features for Review 1\n",
      "['ahi', ['see']]\n",
      "Updating Count\n",
      "['thanks', ['see']]\n",
      "Updating Count\n",
      "\n",
      "Review Number :  198\n",
      "[['bmt', ['companies']], ['companies', ['bmt', 'have']], ['recruits', ['female', 'have']]]\n",
      "[['i', ['know']], ['dumb', ['sound']], ['one', ['knows']], ['really', ['knows']], ['recruits', ['male', 'female']], ['company', []], ['anyone', ['know']], ['criteria', []], ['recruits', ['male', 'female']], ['companies', ['bmt']], ['female', ['recruits']], ['recruits', ['male', 'female']]]\n"
     ]
    },
    {
     "name": "stderr",
     "output_type": "stream",
     "text": [
      "100%|███████████████████████████████████████████████████████████████████████████████▌| 199/200 [04:04<00:01,  1.23s/it]"
     ]
    },
    {
     "name": "stdout",
     "output_type": "stream",
     "text": [
      "[['rumours', []], ['theories', []]]\n",
      "Combining Features and Descriptors\n",
      "Features for Review 1\n",
      "['bmt', ['companies']]\n",
      "Updating Count\n",
      "['companies', ['bmt', 'have']]\n",
      "Updating Count\n",
      "['recruits', ['female', 'have']]\n",
      "Updating Count\n",
      "Features for Review 2\n",
      "['i', ['know']]\n",
      "Updating Count\n",
      "['dumb', ['sound']]\n",
      "Updating Count\n",
      "['one', ['knows']]\n",
      "Updating Count\n",
      "['really', ['knows']]\n",
      "Updating Count\n",
      "['recruits', ['male', 'female']]\n",
      "Updating Count\n",
      "['company', []]\n",
      "Updating Count\n",
      "['anyone', ['know']]\n",
      "Updating Count\n",
      "['criteria', []]\n",
      "Updating Count\n",
      "['recruits', ['male', 'female']]\n",
      "Updating Count\n",
      "['companies', ['bmt']]\n",
      "Updating Count\n",
      "['female', ['recruits']]\n",
      "Updating Count\n",
      "['recruits', ['male', 'female']]\n",
      "Updating Count\n",
      "Features for Review 3\n",
      "['rumours', []]\n",
      "Updating Count\n",
      "['theories', []]\n",
      "Updating Count\n",
      "\n",
      "Review Number :  199\n",
      "Removing Punctuation\n"
     ]
    },
    {
     "name": "stderr",
     "output_type": "stream",
     "text": [
      "\n"
     ]
    }
   ],
   "source": [
    "a = dict()\n",
    "b = dict()\n",
    "a, b = do_extraction(data, nlp, a, b)\n",
    "#feature extraction will be the same for both singlish and non-singlish"
   ]
  },
  {
   "cell_type": "code",
   "execution_count": 12,
   "id": "ahead-princess",
   "metadata": {
    "scrolled": true
   },
   "outputs": [
    {
     "name": "stderr",
     "output_type": "stream",
     "text": [
      "\r",
      "  0%|                                                                                          | 0/696 [00:00<?, ?it/s]"
     ]
    },
    {
     "name": "stdout",
     "output_type": "stream",
     "text": [
      "Calculating Sentiment for:  outstanding\n"
     ]
    },
    {
     "name": "stderr",
     "output_type": "stream",
     "text": [
      "\r",
      "  0%|                                                                                  | 1/696 [00:00<02:04,  5.59it/s]"
     ]
    },
    {
     "name": "stdout",
     "output_type": "stream",
     "text": [
      "Calculating Sentiment for:  medics\n"
     ]
    },
    {
     "name": "stderr",
     "output_type": "stream",
     "text": [
      "  0%|▎                                                                                 | 3/696 [00:00<02:01,  5.70it/s]"
     ]
    },
    {
     "name": "stdout",
     "output_type": "stream",
     "text": [
      "Calculating Sentiment for:  sian\n",
      "Calculating Sentiment for:  figure\n"
     ]
    },
    {
     "name": "stderr",
     "output_type": "stream",
     "text": [
      "\r",
      "  1%|▍                                                                                 | 4/696 [00:00<02:49,  4.09it/s]"
     ]
    },
    {
     "name": "stdout",
     "output_type": "stream",
     "text": [
      "Calculating Sentiment for:  dununderstand\n"
     ]
    },
    {
     "name": "stderr",
     "output_type": "stream",
     "text": [
      "\r",
      "  1%|▌                                                                                 | 5/696 [00:01<02:53,  3.98it/s]"
     ]
    },
    {
     "name": "stdout",
     "output_type": "stream",
     "text": [
      "Calculating Sentiment for:  understandsian\n"
     ]
    },
    {
     "name": "stderr",
     "output_type": "stream",
     "text": [
      "\r",
      "  1%|▋                                                                                 | 6/696 [00:01<03:03,  3.76it/s]"
     ]
    },
    {
     "name": "stdout",
     "output_type": "stream",
     "text": [
      "Calculating Sentiment for:  not\n"
     ]
    },
    {
     "name": "stderr",
     "output_type": "stream",
     "text": [
      "\r",
      "  1%|▊                                                                                 | 7/696 [00:06<19:47,  1.72s/it]"
     ]
    },
    {
     "name": "stdout",
     "output_type": "stream",
     "text": [
      "Calculating Sentiment for:  book\n"
     ]
    },
    {
     "name": "stderr",
     "output_type": "stream",
     "text": [
      "\r",
      "  1%|▉                                                                                 | 8/696 [00:12<34:55,  3.05s/it]"
     ]
    },
    {
     "name": "stdout",
     "output_type": "stream",
     "text": [
      "Calculating Sentiment for:  ippt\n"
     ]
    },
    {
     "name": "stderr",
     "output_type": "stream",
     "text": [
      "  1%|█▏                                                                               | 10/696 [00:18<32:27,  2.84s/it]"
     ]
    },
    {
     "name": "stdout",
     "output_type": "stream",
     "text": [
      "Calculating Sentiment for:  instead\n",
      "Calculating Sentiment for:  then\n"
     ]
    },
    {
     "name": "stderr",
     "output_type": "stream",
     "text": [
      "\r",
      "  2%|█▎                                                                               | 11/696 [00:20<29:30,  2.58s/it]"
     ]
    },
    {
     "name": "stdout",
     "output_type": "stream",
     "text": [
      "Calculating Sentiment for:  requirements\n"
     ]
    },
    {
     "name": "stderr",
     "output_type": "stream",
     "text": [
      "\r",
      "  2%|█▍                                                                               | 12/696 [00:20<21:29,  1.89s/it]"
     ]
    },
    {
     "name": "stdout",
     "output_type": "stream",
     "text": [
      "Calculating Sentiment for:  even\n"
     ]
    },
    {
     "name": "stderr",
     "output_type": "stream",
     "text": [
      "  2%|█▋                                                                               | 14/696 [00:21<12:32,  1.10s/it]"
     ]
    },
    {
     "name": "stdout",
     "output_type": "stream",
     "text": [
      "Calculating Sentiment for:  s\n",
      "Calculating Sentiment for:  still\n"
     ]
    },
    {
     "name": "stderr",
     "output_type": "stream",
     "text": [
      "\r",
      "  2%|█▋                                                                               | 15/696 [00:24<20:28,  1.80s/it]"
     ]
    },
    {
     "name": "stdout",
     "output_type": "stream",
     "text": [
      "Calculating Sentiment for:  ipptwindow\n"
     ]
    },
    {
     "name": "stderr",
     "output_type": "stream",
     "text": [
      "\r",
      "  2%|█▊                                                                               | 16/696 [00:26<18:07,  1.60s/it]"
     ]
    },
    {
     "name": "stdout",
     "output_type": "stream",
     "text": [
      "Calculating Sentiment for:  only\n"
     ]
    },
    {
     "name": "stderr",
     "output_type": "stream",
     "text": [
      "\r",
      "  2%|█▉                                                                               | 17/696 [00:28<21:17,  1.88s/it]"
     ]
    },
    {
     "name": "stdout",
     "output_type": "stream",
     "text": [
      "Calculating Sentiment for:  day\n"
     ]
    },
    {
     "name": "stderr",
     "output_type": "stream",
     "text": [
      "\r",
      "  3%|██                                                                               | 18/696 [00:29<16:16,  1.44s/it]"
     ]
    },
    {
     "name": "stdout",
     "output_type": "stream",
     "text": [
      "Calculating Sentiment for:  unit\n"
     ]
    },
    {
     "name": "stderr",
     "output_type": "stream",
     "text": [
      "\r",
      "  3%|██▏                                                                              | 19/696 [00:29<13:14,  1.17s/it]"
     ]
    },
    {
     "name": "stdout",
     "output_type": "stream",
     "text": [
      "Calculating Sentiment for:  commanders\n"
     ]
    },
    {
     "name": "stderr",
     "output_type": "stream",
     "text": [
      "\r",
      "  3%|██▎                                                                              | 20/696 [00:29<10:30,  1.07it/s]"
     ]
    },
    {
     "name": "stdout",
     "output_type": "stream",
     "text": [
      "Calculating Sentiment for:  here\n"
     ]
    },
    {
     "name": "stderr",
     "output_type": "stream",
     "text": [
      "\r",
      "  3%|██▍                                                                              | 21/696 [00:30<09:42,  1.16it/s]"
     ]
    },
    {
     "name": "stdout",
     "output_type": "stream",
     "text": [
      "Calculating Sentiment for:  however\n"
     ]
    },
    {
     "name": "stderr",
     "output_type": "stream",
     "text": [
      "\r",
      "  3%|██▌                                                                              | 22/696 [00:31<08:42,  1.29it/s]"
     ]
    },
    {
     "name": "stdout",
     "output_type": "stream",
     "text": [
      "Calculating Sentiment for:  such\n"
     ]
    },
    {
     "name": "stderr",
     "output_type": "stream",
     "text": [
      "\r",
      "  3%|██▋                                                                              | 23/696 [00:31<07:40,  1.46it/s]"
     ]
    },
    {
     "name": "stdout",
     "output_type": "stream",
     "text": [
      "Calculating Sentiment for:  information\n"
     ]
    },
    {
     "name": "stderr",
     "output_type": "stream",
     "text": [
      "  4%|██▉                                                                              | 25/696 [00:32<05:08,  2.18it/s]"
     ]
    },
    {
     "name": "stdout",
     "output_type": "stream",
     "text": [
      "Calculating Sentiment for:  osa\n",
      "Calculating Sentiment for:  otherwise\n"
     ]
    },
    {
     "name": "stderr",
     "output_type": "stream",
     "text": [
      "  4%|███▏                                                                             | 27/696 [00:32<03:58,  2.81it/s]"
     ]
    },
    {
     "name": "stdout",
     "output_type": "stream",
     "text": [
      "Calculating Sentiment for:  related\n",
      "Calculating Sentiment for:  offences\n"
     ]
    },
    {
     "name": "stderr",
     "output_type": "stream",
     "text": [
      "\r",
      "  4%|███▎                                                                             | 28/696 [00:33<03:38,  3.06it/s]"
     ]
    },
    {
     "name": "stdout",
     "output_type": "stream",
     "text": [
      "Calculating Sentiment for:  recently\n"
     ]
    },
    {
     "name": "stderr",
     "output_type": "stream",
     "text": [
      "  4%|███▍                                                                             | 30/696 [00:33<03:05,  3.60it/s]"
     ]
    },
    {
     "name": "stdout",
     "output_type": "stream",
     "text": [
      "Calculating Sentiment for:  paramedic\n",
      "Calculating Sentiment for:  info\n"
     ]
    },
    {
     "name": "stderr",
     "output_type": "stream",
     "text": [
      "  5%|███▋                                                                             | 32/696 [00:34<03:09,  3.51it/s]"
     ]
    },
    {
     "name": "stdout",
     "output_type": "stream",
     "text": [
      "Calculating Sentiment for:  nevertheless\n",
      "Calculating Sentiment for:  company\n"
     ]
    },
    {
     "name": "stderr",
     "output_type": "stream",
     "text": [
      "\r",
      "  5%|███▊                                                                             | 33/696 [00:34<03:31,  3.13it/s]"
     ]
    },
    {
     "name": "stdout",
     "output_type": "stream",
     "text": [
      "Calculating Sentiment for:  furthermore\n"
     ]
    },
    {
     "name": "stderr",
     "output_type": "stream",
     "text": [
      "\r",
      "  5%|███▉                                                                             | 34/696 [00:34<03:08,  3.52it/s]"
     ]
    },
    {
     "name": "stdout",
     "output_type": "stream",
     "text": [
      "Calculating Sentiment for:  thread\n"
     ]
    },
    {
     "name": "stderr",
     "output_type": "stream",
     "text": [
      "\r",
      "  5%|████                                                                             | 35/696 [00:35<03:16,  3.36it/s]"
     ]
    },
    {
     "name": "stdout",
     "output_type": "stream",
     "text": [
      "Calculating Sentiment for:  sure\n"
     ]
    },
    {
     "name": "stderr",
     "output_type": "stream",
     "text": [
      "  5%|████▎                                                                            | 37/696 [00:36<04:57,  2.21it/s]"
     ]
    },
    {
     "name": "stdout",
     "output_type": "stream",
     "text": [
      "Calculating Sentiment for:  topic\n",
      "Calculating Sentiment for:  feedback\n"
     ]
    },
    {
     "name": "stderr",
     "output_type": "stream",
     "text": [
      "\r",
      "  5%|████▍                                                                            | 38/696 [00:36<04:01,  2.73it/s]"
     ]
    },
    {
     "name": "stdout",
     "output_type": "stream",
     "text": [
      "Calculating Sentiment for:  never\n"
     ]
    },
    {
     "name": "stderr",
     "output_type": "stream",
     "text": [
      "\r",
      "  6%|████▌                                                                            | 39/696 [00:37<05:27,  2.00it/s]"
     ]
    },
    {
     "name": "stdout",
     "output_type": "stream",
     "text": [
      "Calculating Sentiment for:  answers\n"
     ]
    },
    {
     "name": "stderr",
     "output_type": "stream",
     "text": [
      "  6%|████▊                                                                            | 41/696 [00:38<04:03,  2.69it/s]"
     ]
    },
    {
     "name": "stdout",
     "output_type": "stream",
     "text": [
      "Calculating Sentiment for:  promptly\n",
      "Calculating Sentiment for:  also\n"
     ]
    },
    {
     "name": "stderr",
     "output_type": "stream",
     "text": [
      "  6%|█████                                                                            | 43/696 [00:40<06:56,  1.57it/s]"
     ]
    },
    {
     "name": "stdout",
     "output_type": "stream",
     "text": [
      "Calculating Sentiment for:  upcoming\n",
      "Calculating Sentiment for:  stint\n"
     ]
    },
    {
     "name": "stderr",
     "output_type": "stream",
     "text": [
      "\r",
      "  6%|█████                                                                            | 44/696 [00:40<05:20,  2.04it/s]"
     ]
    },
    {
     "name": "stdout",
     "output_type": "stream",
     "text": [
      "Calculating Sentiment for:  nsf\n"
     ]
    },
    {
     "name": "stderr",
     "output_type": "stream",
     "text": [
      "\r",
      "  6%|█████▏                                                                           | 45/696 [00:40<04:40,  2.32it/s]"
     ]
    },
    {
     "name": "stdout",
     "output_type": "stream",
     "text": [
      "Calculating Sentiment for:  saf\n"
     ]
    },
    {
     "name": "stderr",
     "output_type": "stream",
     "text": [
      "\r",
      "  7%|█████▎                                                                           | 46/696 [00:40<04:15,  2.55it/s]"
     ]
    },
    {
     "name": "stdout",
     "output_type": "stream",
     "text": [
      "Calculating Sentiment for:  mr\n"
     ]
    },
    {
     "name": "stderr",
     "output_type": "stream",
     "text": [
      "\r",
      "  7%|█████▍                                                                           | 47/696 [00:41<03:52,  2.79it/s]"
     ]
    },
    {
     "name": "stdout",
     "output_type": "stream",
     "text": [
      "Calculating Sentiment for:  already\n"
     ]
    },
    {
     "name": "stderr",
     "output_type": "stream",
     "text": [
      "\r",
      "  7%|█████▌                                                                           | 48/696 [00:42<07:30,  1.44it/s]"
     ]
    },
    {
     "name": "stdout",
     "output_type": "stream",
     "text": [
      "Calculating Sentiment for:  everything\n"
     ]
    },
    {
     "name": "stderr",
     "output_type": "stream",
     "text": [
      "  7%|█████▊                                                                           | 50/696 [00:43<05:43,  1.88it/s]"
     ]
    },
    {
     "name": "stdout",
     "output_type": "stream",
     "text": [
      "Calculating Sentiment for:  questions\n",
      "Calculating Sentiment for:  guideline\n"
     ]
    },
    {
     "name": "stderr",
     "output_type": "stream",
     "text": [
      "\r",
      "  7%|█████▉                                                                           | 51/696 [00:43<04:39,  2.31it/s]"
     ]
    },
    {
     "name": "stdout",
     "output_type": "stream",
     "text": [
      "Calculating Sentiment for:  really\n"
     ]
    },
    {
     "name": "stderr",
     "output_type": "stream",
     "text": [
      "\r",
      "  7%|██████                                                                           | 52/696 [00:45<08:47,  1.22it/s]"
     ]
    },
    {
     "name": "stdout",
     "output_type": "stream",
     "text": [
      "Calculating Sentiment for:  comprehensive\n"
     ]
    },
    {
     "name": "stderr",
     "output_type": "stream",
     "text": [
      "\r",
      "  8%|██████▏                                                                          | 53/696 [00:45<07:36,  1.41it/s]"
     ]
    },
    {
     "name": "stdout",
     "output_type": "stream",
     "text": [
      "Calculating Sentiment for:  i\n"
     ]
    },
    {
     "name": "stderr",
     "output_type": "stream",
     "text": [
      "  8%|██████▏                                                                        | 55/696 [01:11<1:02:02,  5.81s/it]"
     ]
    },
    {
     "name": "stdout",
     "output_type": "stream",
     "text": [
      "Calculating Sentiment for:  short\n",
      "Calculating Sentiment for:  compression\n"
     ]
    },
    {
     "name": "stderr",
     "output_type": "stream",
     "text": [
      "\r",
      "  8%|██████▌                                                                          | 56/696 [01:11<43:50,  4.11s/it]"
     ]
    },
    {
     "name": "stdout",
     "output_type": "stream",
     "text": [
      "Calculating Sentiment for:  tights\n"
     ]
    },
    {
     "name": "stderr",
     "output_type": "stream",
     "text": [
      "\r",
      "  8%|██████▋                                                                          | 57/696 [01:12<31:58,  3.00s/it]"
     ]
    },
    {
     "name": "stdout",
     "output_type": "stream",
     "text": [
      "Calculating Sentiment for:  wear\n"
     ]
    },
    {
     "name": "stderr",
     "output_type": "stream",
     "text": [
      "\r",
      "  8%|██████▊                                                                          | 58/696 [01:13<24:32,  2.31s/it]"
     ]
    },
    {
     "name": "stdout",
     "output_type": "stream",
     "text": [
      "Calculating Sentiment for:  pants\n"
     ]
    },
    {
     "name": "stderr",
     "output_type": "stream",
     "text": [
      "\r",
      "  8%|██████▊                                                                          | 59/696 [01:13<17:59,  1.69s/it]"
     ]
    },
    {
     "name": "stdout",
     "output_type": "stream",
     "text": [
      "Calculating Sentiment for:  groin\n"
     ]
    },
    {
     "name": "stderr",
     "output_type": "stream",
     "text": [
      "\r",
      "  9%|██████▉                                                                          | 60/696 [01:13<13:28,  1.27s/it]"
     ]
    },
    {
     "name": "stdout",
     "output_type": "stream",
     "text": [
      "Calculating Sentiment for:  female\n"
     ]
    },
    {
     "name": "stderr",
     "output_type": "stream",
     "text": [
      "\r",
      "  9%|███████                                                                          | 61/696 [01:13<10:26,  1.01it/s]"
     ]
    },
    {
     "name": "stdout",
     "output_type": "stream",
     "text": [
      "Calculating Sentiment for:  instructors\n"
     ]
    },
    {
     "name": "stderr",
     "output_type": "stream",
     "text": [
      "  9%|███████▎                                                                         | 63/696 [01:14<07:00,  1.50it/s]"
     ]
    },
    {
     "name": "stdout",
     "output_type": "stream",
     "text": [
      "Calculating Sentiment for:  present\n"
     ]
    },
    {
     "name": "stderr",
     "output_type": "stream",
     "text": [
      "\r",
      "  9%|███████▍                                                                         | 64/696 [01:19<19:43,  1.87s/it]"
     ]
    },
    {
     "name": "stdout",
     "output_type": "stream",
     "text": [
      "Calculating Sentiment for:  just\n",
      "Calculating Sentiment for:  long\n"
     ]
    },
    {
     "name": "stderr",
     "output_type": "stream",
     "text": [
      "\r",
      "  9%|███████▌                                                                         | 65/696 [01:21<18:48,  1.79s/it]"
     ]
    },
    {
     "name": "stdout",
     "output_type": "stream",
     "text": [
      "Calculating Sentiment for:  singlet\n"
     ]
    },
    {
     "name": "stderr",
     "output_type": "stream",
     "text": [
      "\r",
      "  9%|███████▋                                                                         | 66/696 [01:21<14:23,  1.37s/it]"
     ]
    },
    {
     "name": "stdout",
     "output_type": "stream",
     "text": [
      "Calculating Sentiment for:  enough\n"
     ]
    },
    {
     "name": "stderr",
     "output_type": "stream",
     "text": [
      " 10%|███████▉                                                                         | 68/696 [01:22<09:09,  1.14it/s]"
     ]
    },
    {
     "name": "stdout",
     "output_type": "stream",
     "text": [
      "Calculating Sentiment for:  calf\n",
      "Calculating Sentiment for:  sleeves\n"
     ]
    },
    {
     "name": "stderr",
     "output_type": "stream",
     "text": [
      " 10%|████████▏                                                                        | 70/696 [01:22<05:32,  1.88it/s]"
     ]
    },
    {
     "name": "stdout",
     "output_type": "stream",
     "text": [
      "Calculating Sentiment for:  minimum\n",
      "Calculating Sentiment for:  items\n"
     ]
    },
    {
     "name": "stderr",
     "output_type": "stream",
     "text": [
      " 10%|████████▍                                                                        | 72/696 [01:23<03:48,  2.73it/s]"
     ]
    },
    {
     "name": "stdout",
     "output_type": "stream",
     "text": [
      "Calculating Sentiment for:  funky_banana\n",
      "Calculating Sentiment for:  idea\n"
     ]
    },
    {
     "name": "stderr",
     "output_type": "stream",
     "text": [
      " 11%|████████▌                                                                        | 74/696 [01:23<02:34,  4.03it/s]"
     ]
    },
    {
     "name": "stdout",
     "output_type": "stream",
     "text": [
      "Calculating Sentiment for:  colour\n",
      "Calculating Sentiment for:  tags\n"
     ]
    },
    {
     "name": "stderr",
     "output_type": "stream",
     "text": [
      "\r",
      " 11%|████████▋                                                                        | 75/696 [01:23<02:40,  3.88it/s]"
     ]
    },
    {
     "name": "stdout",
     "output_type": "stream",
     "text": [
      "Calculating Sentiment for:  ipt\n"
     ]
    },
    {
     "name": "stderr",
     "output_type": "stream",
     "text": [
      " 11%|████████▉                                                                        | 77/696 [01:28<10:55,  1.06s/it]"
     ]
    },
    {
     "name": "stdout",
     "output_type": "stream",
     "text": [
      "Calculating Sentiment for:  yellow\n",
      "Calculating Sentiment for:  blue\n"
     ]
    },
    {
     "name": "stderr",
     "output_type": "stream",
     "text": [
      " 11%|█████████▏                                                                       | 79/696 [01:28<06:02,  1.70it/s]"
     ]
    },
    {
     "name": "stdout",
     "output_type": "stream",
     "text": [
      "Calculating Sentiment for:  red\n",
      "Calculating Sentiment for:  green\n"
     ]
    },
    {
     "name": "stderr",
     "output_type": "stream",
     "text": [
      " 12%|█████████▍                                                                       | 81/696 [01:29<04:38,  2.21it/s]"
     ]
    },
    {
     "name": "stdout",
     "output_type": "stream",
     "text": [
      "Calculating Sentiment for:  strength\n",
      "Calculating Sentiment for:  upper\n"
     ]
    },
    {
     "name": "stderr",
     "output_type": "stream",
     "text": [
      "\r",
      " 12%|█████████▌                                                                       | 82/696 [01:29<03:39,  2.80it/s]"
     ]
    },
    {
     "name": "stdout",
     "output_type": "stream",
     "text": [
      "Calculating Sentiment for:  body\n"
     ]
    },
    {
     "name": "stderr",
     "output_type": "stream",
     "text": [
      " 12%|█████████▊                                                                       | 84/696 [01:29<02:47,  3.66it/s]"
     ]
    },
    {
     "name": "stdout",
     "output_type": "stream",
     "text": [
      "Calculating Sentiment for:  mostly\n",
      "Calculating Sentiment for:  pushups\n"
     ]
    },
    {
     "name": "stderr",
     "output_type": "stream",
     "text": [
      " 12%|██████████                                                                       | 86/696 [01:29<02:10,  4.67it/s]"
     ]
    },
    {
     "name": "stdout",
     "output_type": "stream",
     "text": [
      "Calculating Sentiment for:  bells\n",
      "Calculating Sentiment for:  bars\n"
     ]
    },
    {
     "name": "stderr",
     "output_type": "stream",
     "text": [
      " 13%|██████████▏                                                                      | 88/696 [01:30<01:56,  5.22it/s]"
     ]
    },
    {
     "name": "stdout",
     "output_type": "stream",
     "text": [
      "Calculating Sentiment for:  imo\n",
      "Calculating Sentiment for:  intensive\n"
     ]
    },
    {
     "name": "stderr",
     "output_type": "stream",
     "text": [
      "\r",
      " 13%|██████████▎                                                                      | 89/696 [01:30<02:16,  4.44it/s]"
     ]
    },
    {
     "name": "stdout",
     "output_type": "stream",
     "text": [
      "Calculating Sentiment for:  version\n"
     ]
    },
    {
     "name": "stderr",
     "output_type": "stream",
     "text": [
      " 13%|██████████▌                                                                      | 91/696 [01:31<02:12,  4.56it/s]"
     ]
    },
    {
     "name": "stdout",
     "output_type": "stream",
     "text": [
      "Calculating Sentiment for:  aerobic\n",
      "Calculating Sentiment for:  fitness\n"
     ]
    },
    {
     "name": "stderr",
     "output_type": "stream",
     "text": [
      " 13%|██████████▊                                                                      | 93/696 [01:31<01:52,  5.38it/s]"
     ]
    },
    {
     "name": "stdout",
     "output_type": "stream",
     "text": [
      "Calculating Sentiment for:  trainers\n",
      "Calculating Sentiment for:  usually\n"
     ]
    },
    {
     "name": "stderr",
     "output_type": "stream",
     "text": [
      "\r",
      " 14%|██████████▉                                                                      | 94/696 [01:31<02:56,  3.42it/s]"
     ]
    },
    {
     "name": "stdout",
     "output_type": "stream",
     "text": [
      "Calculating Sentiment for:  bit\n"
     ]
    },
    {
     "name": "stderr",
     "output_type": "stream",
     "text": [
      "\r",
      " 14%|███████████                                                                      | 95/696 [01:32<02:53,  3.46it/s]"
     ]
    },
    {
     "name": "stdout",
     "output_type": "stream",
     "text": [
      "Calculating Sentiment for:  other\n"
     ]
    },
    {
     "name": "stderr",
     "output_type": "stream",
     "text": [
      " 14%|███████████▎                                                                     | 97/696 [01:32<03:07,  3.19it/s]"
     ]
    },
    {
     "name": "stdout",
     "output_type": "stream",
     "text": [
      "Calculating Sentiment for:  exercises\n",
      "Calculating Sentiment for:  things\n"
     ]
    },
    {
     "name": "stderr",
     "output_type": "stream",
     "text": [
      "\r",
      " 14%|███████████▍                                                                     | 98/696 [01:33<02:53,  3.44it/s]"
     ]
    },
    {
     "name": "stdout",
     "output_type": "stream",
     "text": [
      "Calculating Sentiment for:  weightmanagement\n"
     ]
    },
    {
     "name": "stderr",
     "output_type": "stream",
     "text": [
      "\r",
      " 14%|███████████▌                                                                     | 99/696 [01:33<02:51,  3.48it/s]"
     ]
    },
    {
     "name": "stdout",
     "output_type": "stream",
     "text": [
      "Calculating Sentiment for:  managementprogramme\n"
     ]
    },
    {
     "name": "stderr",
     "output_type": "stream",
     "text": [
      " 15%|███████████▌                                                                    | 101/696 [01:34<02:42,  3.66it/s]"
     ]
    },
    {
     "name": "stdout",
     "output_type": "stream",
     "text": [
      "Calculating Sentiment for:  obese\n",
      "Calculating Sentiment for:  personnel\n"
     ]
    },
    {
     "name": "stderr",
     "output_type": "stream",
     "text": [
      " 15%|███████████▊                                                                    | 103/696 [01:34<01:59,  4.95it/s]"
     ]
    },
    {
     "name": "stdout",
     "output_type": "stream",
     "text": [
      "Calculating Sentiment for:  purple\n",
      "Calculating Sentiment for:  tag\n"
     ]
    },
    {
     "name": "stderr",
     "output_type": "stream",
     "text": [
      "\r",
      " 15%|███████████▉                                                                    | 104/696 [01:34<03:01,  3.27it/s]"
     ]
    },
    {
     "name": "stdout",
     "output_type": "stream",
     "text": [
      "Calculating Sentiment for:  as\n"
     ]
    },
    {
     "name": "stderr",
     "output_type": "stream",
     "text": [
      " 15%|████████████▏                                                                   | 106/696 [01:35<03:22,  2.91it/s]"
     ]
    },
    {
     "name": "stdout",
     "output_type": "stream",
     "text": [
      "Calculating Sentiment for:  well\n",
      "Calculating Sentiment for:  classes\n"
     ]
    },
    {
     "name": "stderr",
     "output_type": "stream",
     "text": [
      " 16%|████████████▍                                                                   | 108/696 [01:36<02:47,  3.51it/s]"
     ]
    },
    {
     "name": "stdout",
     "output_type": "stream",
     "text": [
      "Calculating Sentiment for:  kpop\n"
     ]
    },
    {
     "name": "stderr",
     "output_type": "stream",
     "text": [
      "\r",
      " 16%|████████████▌                                                                   | 109/696 [01:36<02:21,  4.14it/s]"
     ]
    },
    {
     "name": "stdout",
     "output_type": "stream",
     "text": [
      "Calculating Sentiment for:  aerobics\n",
      "Calculating Sentiment for:  anyone\n"
     ]
    },
    {
     "name": "stderr",
     "output_type": "stream",
     "text": [
      "\r",
      " 16%|████████████▋                                                                   | 110/696 [01:37<06:24,  1.52it/s]"
     ]
    },
    {
     "name": "stdout",
     "output_type": "stream",
     "text": [
      "Calculating Sentiment for:  same\n"
     ]
    },
    {
     "name": "stderr",
     "output_type": "stream",
     "text": [
      "\r",
      " 16%|████████████▊                                                                   | 111/696 [01:39<08:41,  1.12it/s]"
     ]
    },
    {
     "name": "stdout",
     "output_type": "stream",
     "text": [
      "Calculating Sentiment for:  too\n"
     ]
    },
    {
     "name": "stderr",
     "output_type": "stream",
     "text": [
      " 16%|████████████▉                                                                   | 113/696 [01:39<05:32,  1.75it/s]"
     ]
    },
    {
     "name": "stdout",
     "output_type": "stream",
     "text": [
      "Calculating Sentiment for:  recorded\n",
      "Calculating Sentiment for:  attendance\n"
     ]
    },
    {
     "name": "stderr",
     "output_type": "stream",
     "text": [
      "\r",
      " 16%|█████████████                                                                   | 114/696 [01:40<04:44,  2.05it/s]"
     ]
    },
    {
     "name": "stdout",
     "output_type": "stream",
     "text": [
      "Calculating Sentiment for:  ns\n"
     ]
    },
    {
     "name": "stderr",
     "output_type": "stream",
     "text": [
      "\r",
      " 17%|█████████████▏                                                                  | 115/696 [01:41<07:02,  1.37it/s]"
     ]
    },
    {
     "name": "stdout",
     "output_type": "stream",
     "text": [
      "Calculating Sentiment for:  booklet\n"
     ]
    },
    {
     "name": "stderr",
     "output_type": "stream",
     "text": [
      "\r",
      " 17%|█████████████▎                                                                  | 116/696 [01:41<05:39,  1.71it/s]"
     ]
    },
    {
     "name": "stdout",
     "output_type": "stream",
     "text": [
      "Calculating Sentiment for:  portal\n"
     ]
    },
    {
     "name": "stderr",
     "output_type": "stream",
     "text": [
      " 17%|█████████████▌                                                                  | 118/696 [01:43<05:19,  1.81it/s]"
     ]
    },
    {
     "name": "stdout",
     "output_type": "stream",
     "text": [
      "Calculating Sentiment for:  rmb\n",
      "Calculating Sentiment for:  rtippt\n"
     ]
    },
    {
     "name": "stderr",
     "output_type": "stream",
     "text": [
      "\r",
      " 17%|█████████████▋                                                                  | 119/696 [01:43<06:03,  1.59it/s]"
     ]
    },
    {
     "name": "stdout",
     "output_type": "stream",
     "text": [
      "Calculating Sentiment for:  so\n"
     ]
    },
    {
     "name": "stderr",
     "output_type": "stream",
     "text": [
      "\r",
      " 17%|█████████████▊                                                                  | 120/696 [01:46<12:32,  1.31s/it]"
     ]
    },
    {
     "name": "stdout",
     "output_type": "stream",
     "text": [
      "Calculating Sentiment for:  clear\n"
     ]
    },
    {
     "name": "stderr",
     "output_type": "stream",
     "text": [
      "\r",
      " 17%|█████████████▉                                                                  | 121/696 [01:49<17:08,  1.79s/it]"
     ]
    },
    {
     "name": "stdout",
     "output_type": "stream",
     "text": [
      "Calculating Sentiment for:  rt\n"
     ]
    },
    {
     "name": "stderr",
     "output_type": "stream",
     "text": [
      "\r",
      " 18%|██████████████                                                                  | 122/696 [01:51<17:14,  1.80s/it]"
     ]
    },
    {
     "name": "stdout",
     "output_type": "stream",
     "text": [
      "Calculating Sentiment for:  first\n"
     ]
    },
    {
     "name": "stderr",
     "output_type": "stream",
     "text": [
      "\r",
      " 18%|██████████████▏                                                                 | 123/696 [01:53<17:42,  1.85s/it]"
     ]
    },
    {
     "name": "stdout",
     "output_type": "stream",
     "text": [
      "Calculating Sentiment for:  rest\n"
     ]
    },
    {
     "name": "stderr",
     "output_type": "stream",
     "text": [
      "\r",
      " 18%|██████████████▎                                                                 | 124/696 [01:53<13:05,  1.37s/it]"
     ]
    },
    {
     "name": "stdout",
     "output_type": "stream",
     "text": [
      "Calculating Sentiment for:  window\n"
     ]
    },
    {
     "name": "stderr",
     "output_type": "stream",
     "text": [
      "\r",
      " 18%|██████████████▎                                                                 | 125/696 [01:58<23:04,  2.42s/it]"
     ]
    },
    {
     "name": "stdout",
     "output_type": "stream",
     "text": [
      "Calculating Sentiment for:  closes\n"
     ]
    },
    {
     "name": "stderr",
     "output_type": "stream",
     "text": [
      " 18%|██████████████▌                                                                 | 127/696 [01:58<12:10,  1.28s/it]"
     ]
    },
    {
     "name": "stdout",
     "output_type": "stream",
     "text": [
      "Calculating Sentiment for:  feb\n",
      "Calculating Sentiment for:  t\n"
     ]
    },
    {
     "name": "stderr",
     "output_type": "stream",
     "text": [
      " 19%|██████████████▊                                                                 | 129/696 [02:00<08:13,  1.15it/s]"
     ]
    },
    {
     "name": "stdout",
     "output_type": "stream",
     "text": [
      "Calculating Sentiment for:  lor\n",
      "Calculating Sentiment for:  affect\n"
     ]
    },
    {
     "name": "stderr",
     "output_type": "stream",
     "text": [
      "\r",
      " 19%|██████████████▉                                                                 | 130/696 [02:00<07:04,  1.33it/s]"
     ]
    },
    {
     "name": "stdout",
     "output_type": "stream",
     "text": [
      "Calculating Sentiment for:  thing\n"
     ]
    },
    {
     "name": "stderr",
     "output_type": "stream",
     "text": [
      " 19%|███████████████▏                                                                | 132/696 [02:01<04:59,  1.88it/s]"
     ]
    },
    {
     "name": "stdout",
     "output_type": "stream",
     "text": [
      "Calculating Sentiment for:  meaning\n",
      "Calculating Sentiment for:  ok\n"
     ]
    },
    {
     "name": "stderr",
     "output_type": "stream",
     "text": [
      "\r",
      " 19%|███████████████▎                                                                | 133/696 [02:01<03:52,  2.42it/s]"
     ]
    },
    {
     "name": "stdout",
     "output_type": "stream",
     "text": [
      "Calculating Sentiment for:  thank\n"
     ]
    },
    {
     "name": "stderr",
     "output_type": "stream",
     "text": [
      " 19%|███████████████▌                                                                | 135/696 [02:01<03:06,  3.01it/s]"
     ]
    },
    {
     "name": "stdout",
     "output_type": "stream",
     "text": [
      "Calculating Sentiment for:  tomorrowresume\n",
      "Calculating Sentiment for:  ipt_rt\n"
     ]
    },
    {
     "name": "stderr",
     "output_type": "stream",
     "text": [
      " 20%|███████████████▋                                                                | 137/696 [02:02<02:19,  4.00it/s]"
     ]
    },
    {
     "name": "stdout",
     "output_type": "stream",
     "text": [
      "Calculating Sentiment for:  hopeeveryone\n",
      "Calculating Sentiment for:  much\n"
     ]
    },
    {
     "name": "stderr",
     "output_type": "stream",
     "text": [
      "\r",
      " 20%|███████████████▊                                                                | 138/696 [02:03<05:24,  1.72it/s]"
     ]
    },
    {
     "name": "stdout",
     "output_type": "stream",
     "text": [
      "Calculating Sentiment for:  n't\n"
     ]
    },
    {
     "name": "stderr",
     "output_type": "stream",
     "text": [
      " 20%|████████████████                                                                | 140/696 [02:07<10:24,  1.12s/it]"
     ]
    },
    {
     "name": "stdout",
     "output_type": "stream",
     "text": [
      "Calculating Sentiment for:  sense\n",
      "Calculating Sentiment for:  defaulters\n"
     ]
    },
    {
     "name": "stderr",
     "output_type": "stream",
     "text": [
      "\r",
      " 20%|████████████████▏                                                               | 141/696 [02:07<07:59,  1.16it/s]"
     ]
    },
    {
     "name": "stdout",
     "output_type": "stream",
     "text": [
      "Calculating Sentiment for:  many\n"
     ]
    },
    {
     "name": "stderr",
     "output_type": "stream",
     "text": [
      "\r",
      " 20%|████████████████▎                                                               | 142/696 [02:09<11:01,  1.19s/it]"
     ]
    },
    {
     "name": "stdout",
     "output_type": "stream",
     "text": [
      "Calculating Sentiment for:  suppose\n"
     ]
    },
    {
     "name": "stderr",
     "output_type": "stream",
     "text": [
      " 21%|████████████████▌                                                               | 144/696 [02:10<06:24,  1.43it/s]"
     ]
    },
    {
     "name": "stdout",
     "output_type": "stream",
     "text": [
      "Calculating Sentiment for:  u\n",
      "Calculating Sentiment for:  saf100\n"
     ]
    },
    {
     "name": "stderr",
     "output_type": "stream",
     "text": [
      " 21%|████████████████▊                                                               | 146/696 [02:10<03:48,  2.41it/s]"
     ]
    },
    {
     "name": "stdout",
     "output_type": "stream",
     "text": [
      "Calculating Sentiment for:  monetary\n",
      "Calculating Sentiment for:  rewards\n"
     ]
    },
    {
     "name": "stderr",
     "output_type": "stream",
     "text": [
      "\r",
      " 21%|████████████████▉                                                               | 147/696 [02:10<03:54,  2.34it/s]"
     ]
    },
    {
     "name": "stdout",
     "output_type": "stream",
     "text": [
      "Calculating Sentiment for:  able\n"
     ]
    },
    {
     "name": "stderr",
     "output_type": "stream",
     "text": [
      " 21%|█████████████████▏                                                              | 149/696 [02:12<04:34,  1.99it/s]"
     ]
    },
    {
     "name": "stdout",
     "output_type": "stream",
     "text": [
      "Calculating Sentiment for:  rtwindow\n",
      "Calculating Sentiment for:  month\n"
     ]
    },
    {
     "name": "stderr",
     "output_type": "stream",
     "text": [
      " 22%|█████████████████▎                                                              | 151/696 [02:12<02:51,  3.17it/s]"
     ]
    },
    {
     "name": "stdout",
     "output_type": "stream",
     "text": [
      "Calculating Sentiment for:  kena\n",
      "Calculating Sentiment for:  next\n"
     ]
    },
    {
     "name": "stderr",
     "output_type": "stream",
     "text": [
      "\r",
      " 22%|█████████████████▍                                                              | 152/696 [02:14<07:21,  1.23it/s]"
     ]
    },
    {
     "name": "stdout",
     "output_type": "stream",
     "text": [
      "Calculating Sentiment for:  close\n"
     ]
    },
    {
     "name": "stderr",
     "output_type": "stream",
     "text": [
      "\r",
      " 22%|█████████████████▌                                                              | 153/696 [02:14<05:54,  1.53it/s]"
     ]
    },
    {
     "name": "stdout",
     "output_type": "stream",
     "text": [
      "Calculating Sentiment for:  sms\n"
     ]
    },
    {
     "name": "stderr",
     "output_type": "stream",
     "text": [
      "\r",
      " 22%|█████████████████▋                                                              | 154/696 [02:15<05:34,  1.62it/s]"
     ]
    },
    {
     "name": "stdout",
     "output_type": "stream",
     "text": [
      "Calculating Sentiment for:  yet\n"
     ]
    },
    {
     "name": "stderr",
     "output_type": "stream",
     "text": [
      "\r",
      " 22%|█████████████████▊                                                              | 155/696 [02:15<05:29,  1.64it/s]"
     ]
    },
    {
     "name": "stdout",
     "output_type": "stream",
     "text": [
      "Calculating Sentiment for:  leh\n"
     ]
    },
    {
     "name": "stderr",
     "output_type": "stream",
     "text": [
      "\r",
      " 22%|█████████████████▉                                                              | 156/696 [02:16<04:31,  1.99it/s]"
     ]
    },
    {
     "name": "stdout",
     "output_type": "stream",
     "text": [
      "Calculating Sentiment for:  thanks\n"
     ]
    },
    {
     "name": "stderr",
     "output_type": "stream",
     "text": [
      "\r",
      " 23%|██████████████████                                                              | 157/696 [02:16<04:14,  2.12it/s]"
     ]
    },
    {
     "name": "stdout",
     "output_type": "stream",
     "text": [
      "Calculating Sentiment for:  whole\n"
     ]
    },
    {
     "name": "stderr",
     "output_type": "stream",
     "text": [
      "\r",
      " 23%|██████████████████▏                                                             | 158/696 [02:16<03:53,  2.30it/s]"
     ]
    },
    {
     "name": "stdout",
     "output_type": "stream",
     "text": [
      "Calculating Sentiment for:  rounds\n"
     ]
    },
    {
     "name": "stderr",
     "output_type": "stream",
     "text": [
      "\r",
      " 23%|██████████████████▎                                                             | 159/696 [02:17<04:24,  2.03it/s]"
     ]
    },
    {
     "name": "stdout",
     "output_type": "stream",
     "text": [
      "Calculating Sentiment for:  fcc\n"
     ]
    },
    {
     "name": "stderr",
     "output_type": "stream",
     "text": [
      "\r",
      " 23%|██████████████████▍                                                             | 160/696 [02:18<05:03,  1.76it/s]"
     ]
    },
    {
     "name": "stdout",
     "output_type": "stream",
     "text": [
      "Calculating Sentiment for:  time\n"
     ]
    },
    {
     "name": "stderr",
     "output_type": "stream",
     "text": [
      "\r",
      " 23%|██████████████████▌                                                             | 161/696 [02:19<07:57,  1.12it/s]"
     ]
    },
    {
     "name": "stdout",
     "output_type": "stream",
     "text": [
      "Calculating Sentiment for:  better\n"
     ]
    },
    {
     "name": "stderr",
     "output_type": "stream",
     "text": [
      " 23%|██████████████████▋                                                             | 163/696 [02:21<06:11,  1.43it/s]"
     ]
    },
    {
     "name": "stdout",
     "output_type": "stream",
     "text": [
      "Calculating Sentiment for:  nothingcause\n",
      "Calculating Sentiment for:  week\n"
     ]
    },
    {
     "name": "stderr",
     "output_type": "stream",
     "text": [
      "\r",
      " 24%|██████████████████▊                                                             | 164/696 [02:21<04:42,  1.88it/s]"
     ]
    },
    {
     "name": "stdout",
     "output_type": "stream",
     "text": [
      "Calculating Sentiment for:  more\n"
     ]
    },
    {
     "name": "stderr",
     "output_type": "stream",
     "text": [
      "\r",
      " 24%|██████████████████▉                                                             | 165/696 [02:22<06:27,  1.37it/s]"
     ]
    },
    {
     "name": "stdout",
     "output_type": "stream",
     "text": [
      "Calculating Sentiment for:  once\n"
     ]
    },
    {
     "name": "stderr",
     "output_type": "stream",
     "text": [
      "\r",
      " 24%|███████████████████                                                             | 166/696 [02:22<05:38,  1.57it/s]"
     ]
    },
    {
     "name": "stdout",
     "output_type": "stream",
     "text": [
      "Calculating Sentiment for:  cycle\n"
     ]
    },
    {
     "name": "stderr",
     "output_type": "stream",
     "text": [
      "\r",
      " 24%|███████████████████▏                                                            | 167/696 [02:23<05:12,  1.69it/s]"
     ]
    },
    {
     "name": "stdout",
     "output_type": "stream",
     "text": [
      "Calculating Sentiment for:  service\n"
     ]
    },
    {
     "name": "stderr",
     "output_type": "stream",
     "text": [
      " 24%|███████████████████▍                                                            | 169/696 [02:23<03:27,  2.54it/s]"
     ]
    },
    {
     "name": "stdout",
     "output_type": "stream",
     "text": [
      "Calculating Sentiment for:  pay\n",
      "Calculating Sentiment for:  days\n"
     ]
    },
    {
     "name": "stderr",
     "output_type": "stream",
     "text": [
      "\r",
      " 24%|███████████████████▌                                                            | 170/696 [02:24<03:51,  2.27it/s]"
     ]
    },
    {
     "name": "stdout",
     "output_type": "stream",
     "text": [
      "Calculating Sentiment for:  medals\n"
     ]
    },
    {
     "name": "stderr",
     "output_type": "stream",
     "text": [
      " 25%|███████████████████▊                                                            | 172/696 [02:24<03:07,  2.79it/s]"
     ]
    },
    {
     "name": "stdout",
     "output_type": "stream",
     "text": [
      "Calculating Sentiment for:  non\n",
      "Calculating Sentiment for:  https\n"
     ]
    },
    {
     "name": "stderr",
     "output_type": "stream",
     "text": [
      "\r",
      " 25%|███████████████████▉                                                            | 173/696 [02:25<03:13,  2.71it/s]"
     ]
    },
    {
     "name": "stdout",
     "output_type": "stream",
     "text": [
      "Calculating Sentiment for:  marina\n"
     ]
    },
    {
     "name": "stderr",
     "output_type": "stream",
     "text": [
      "\r",
      " 25%|████████████████████                                                            | 174/696 [02:25<03:17,  2.64it/s]"
     ]
    },
    {
     "name": "stdout",
     "output_type": "stream",
     "text": [
      "Calculating Sentiment for:  citygallery\n"
     ]
    },
    {
     "name": "stderr",
     "output_type": "stream",
     "text": [
      "\r",
      " 25%|████████████████████                                                            | 175/696 [02:26<03:12,  2.71it/s]"
     ]
    },
    {
     "name": "stdout",
     "output_type": "stream",
     "text": [
      "Calculating Sentiment for:  bayhttps\n"
     ]
    },
    {
     "name": "stderr",
     "output_type": "stream",
     "text": [
      " 25%|████████████████████▎                                                           | 177/696 [02:26<03:10,  2.73it/s]"
     ]
    },
    {
     "name": "stdout",
     "output_type": "stream",
     "text": [
      "Calculating Sentiment for:  __wwwnssg_web_wcm_connect_nsycitygalleryhttps\n"
     ]
    },
    {
     "name": "stderr",
     "output_type": "stream",
     "text": [
      "\r",
      " 26%|████████████████████▍                                                           | 178/696 [02:27<02:37,  3.29it/s]"
     ]
    },
    {
     "name": "stdout",
     "output_type": "stream",
     "text": [
      "Calculating Sentiment for:  honestly\n",
      "Calculating Sentiment for:  easily\n"
     ]
    },
    {
     "name": "stderr",
     "output_type": "stream",
     "text": [
      " 26%|████████████████████▋                                                           | 180/696 [02:27<01:51,  4.62it/s]"
     ]
    },
    {
     "name": "stdout",
     "output_type": "stream",
     "text": [
      "Calculating Sentiment for:  location\n",
      "Calculating Sentiment for:  necessary\n"
     ]
    },
    {
     "name": "stderr",
     "output_type": "stream",
     "text": [
      " 26%|████████████████████▉                                                           | 182/696 [02:27<01:33,  5.51it/s]"
     ]
    },
    {
     "name": "stdout",
     "output_type": "stream",
     "text": [
      "Calculating Sentiment for:  needwait\n",
      "Calculating Sentiment for:  bday\n"
     ]
    },
    {
     "name": "stderr",
     "output_type": "stream",
     "text": [
      " 26%|█████████████████████▏                                                          | 184/696 [02:27<01:18,  6.50it/s]"
     ]
    },
    {
     "name": "stdout",
     "output_type": "stream",
     "text": [
      "Calculating Sentiment for:  cozonline\n",
      "Calculating Sentiment for:  qn\n"
     ]
    },
    {
     "name": "stderr",
     "output_type": "stream",
     "text": [
      "\r",
      " 27%|█████████████████████▎                                                          | 185/696 [02:28<01:14,  6.86it/s]"
     ]
    },
    {
     "name": "stdout",
     "output_type": "stream",
     "text": [
      "Calculating Sentiment for:  years\n"
     ]
    },
    {
     "name": "stderr",
     "output_type": "stream",
     "text": [
      "\r",
      " 27%|█████████████████████▍                                                          | 186/696 [02:28<03:01,  2.81it/s]"
     ]
    },
    {
     "name": "stdout",
     "output_type": "stream",
     "text": [
      "Calculating Sentiment for:  old\n"
     ]
    },
    {
     "name": "stderr",
     "output_type": "stream",
     "text": [
      " 27%|█████████████████████▌                                                          | 188/696 [02:29<02:48,  3.02it/s]"
     ]
    },
    {
     "name": "stdout",
     "output_type": "stream",
     "text": [
      "Calculating Sentiment for:  bloodtest\n",
      "Calculating Sentiment for:  medical\n"
     ]
    },
    {
     "name": "stderr",
     "output_type": "stream",
     "text": [
      "\r",
      " 27%|█████████████████████▋                                                          | 189/696 [02:30<03:04,  2.74it/s]"
     ]
    },
    {
     "name": "stdout",
     "output_type": "stream",
     "text": [
      "Calculating Sentiment for:  review\n"
     ]
    },
    {
     "name": "stderr",
     "output_type": "stream",
     "text": [
      " 27%|█████████████████████▉                                                          | 191/696 [02:30<02:34,  3.27it/s]"
     ]
    },
    {
     "name": "stdout",
     "output_type": "stream",
     "text": [
      "Calculating Sentiment for:  hspcert\n",
      "Calculating Sentiment for:  cert\n"
     ]
    },
    {
     "name": "stderr",
     "output_type": "stream",
     "text": [
      "\r",
      " 28%|██████████████████████                                                          | 192/696 [02:30<02:10,  3.86it/s]"
     ]
    },
    {
     "name": "stdout",
     "output_type": "stream",
     "text": [
      "Calculating Sentiment for:  now\n"
     ]
    },
    {
     "name": "stderr",
     "output_type": "stream",
     "text": [
      "\r",
      " 28%|██████████████████████▏                                                         | 193/696 [02:32<06:57,  1.21it/s]"
     ]
    },
    {
     "name": "stdout",
     "output_type": "stream",
     "text": [
      "Calculating Sentiment for:  unable\n"
     ]
    },
    {
     "name": "stderr",
     "output_type": "stream",
     "text": [
      "\r",
      " 28%|██████████████████████▎                                                         | 194/696 [02:34<08:31,  1.02s/it]"
     ]
    },
    {
     "name": "stdout",
     "output_type": "stream",
     "text": [
      "Calculating Sentiment for:  slot\n"
     ]
    },
    {
     "name": "stderr",
     "output_type": "stream",
     "text": [
      "\r",
      " 28%|██████████████████████▍                                                         | 195/696 [02:35<07:43,  1.08it/s]"
     ]
    },
    {
     "name": "stdout",
     "output_type": "stream",
     "text": [
      "Calculating Sentiment for:  ah\n"
     ]
    },
    {
     "name": "stderr",
     "output_type": "stream",
     "text": [
      "\r",
      " 28%|██████████████████████▌                                                         | 196/696 [02:35<06:04,  1.37it/s]"
     ]
    },
    {
     "name": "stdout",
     "output_type": "stream",
     "text": [
      "Calculating Sentiment for:  sir\n"
     ]
    },
    {
     "name": "stderr",
     "output_type": "stream",
     "text": [
      " 28%|██████████████████████▊                                                         | 198/696 [02:35<03:47,  2.19it/s]"
     ]
    },
    {
     "name": "stdout",
     "output_type": "stream",
     "text": [
      "Calculating Sentiment for:  wat\n",
      "Calculating Sentiment for:  s8\n"
     ]
    },
    {
     "name": "stderr",
     "output_type": "stream",
     "text": [
      " 29%|██████████████████████▉                                                         | 200/696 [02:36<02:26,  3.38it/s]"
     ]
    },
    {
     "name": "stdout",
     "output_type": "stream",
     "text": [
      "Calculating Sentiment for:  gdla\n",
      "Calculating Sentiment for:  fail\n"
     ]
    },
    {
     "name": "stderr",
     "output_type": "stream",
     "text": [
      " 29%|███████████████████████▏                                                        | 202/696 [02:36<02:27,  3.35it/s]"
     ]
    },
    {
     "name": "stdout",
     "output_type": "stream",
     "text": [
      "Calculating Sentiment for:  bo\n",
      "Calculating Sentiment for:  jog\n"
     ]
    },
    {
     "name": "stderr",
     "output_type": "stream",
     "text": [
      " 29%|███████████████████████▍                                                        | 204/696 [02:36<01:49,  4.50it/s]"
     ]
    },
    {
     "name": "stdout",
     "output_type": "stream",
     "text": [
      "Calculating Sentiment for:  ictippt\n",
      "Calculating Sentiment for:  kind\n"
     ]
    },
    {
     "name": "stderr",
     "output_type": "stream",
     "text": [
      "\r",
      " 29%|███████████████████████▌                                                        | 205/696 [02:37<01:37,  5.02it/s]"
     ]
    },
    {
     "name": "stdout",
     "output_type": "stream",
     "text": [
      "Calculating Sentiment for:  activities\n"
     ]
    },
    {
     "name": "stderr",
     "output_type": "stream",
     "text": [
      "\r",
      " 30%|███████████████████████▋                                                        | 206/696 [02:37<01:51,  4.39it/s]"
     ]
    },
    {
     "name": "stdout",
     "output_type": "stream",
     "text": [
      "Calculating Sentiment for:  orns\n"
     ]
    },
    {
     "name": "stderr",
     "output_type": "stream",
     "text": [
      "\r",
      " 30%|███████████████████████▊                                                        | 207/696 [02:37<02:00,  4.06it/s]"
     ]
    },
    {
     "name": "stdout",
     "output_type": "stream",
     "text": [
      "Calculating Sentiment for:  single\n"
     ]
    },
    {
     "name": "stderr",
     "output_type": "stream",
     "text": [
      "\r",
      " 30%|███████████████████████▉                                                        | 208/696 [02:38<02:14,  3.64it/s]"
     ]
    },
    {
     "name": "stdout",
     "output_type": "stream",
     "text": [
      "Calculating Sentiment for:  ict\n"
     ]
    },
    {
     "name": "stderr",
     "output_type": "stream",
     "text": [
      "\r",
      " 30%|████████████████████████                                                        | 209/696 [02:38<02:12,  3.68it/s]"
     ]
    },
    {
     "name": "stdout",
     "output_type": "stream",
     "text": [
      "Calculating Sentiment for:  year\n"
     ]
    },
    {
     "name": "stderr",
     "output_type": "stream",
     "text": [
      "\r",
      " 30%|████████████████████████▏                                                       | 210/696 [02:42<11:18,  1.40s/it]"
     ]
    },
    {
     "name": "stdout",
     "output_type": "stream",
     "text": [
      "Calculating Sentiment for:  oc\n"
     ]
    },
    {
     "name": "stderr",
     "output_type": "stream",
     "text": [
      "\r",
      " 30%|████████████████████████▎                                                       | 211/696 [02:42<08:33,  1.06s/it]"
     ]
    },
    {
     "name": "stdout",
     "output_type": "stream",
     "text": [
      "Calculating Sentiment for:  new\n"
     ]
    },
    {
     "name": "stderr",
     "output_type": "stream",
     "text": [
      "\r",
      " 30%|████████████████████████▎                                                       | 212/696 [02:43<08:44,  1.08s/it]"
     ]
    },
    {
     "name": "stdout",
     "output_type": "stream",
     "text": [
      "Calculating Sentiment for:  programme\n"
     ]
    },
    {
     "name": "stderr",
     "output_type": "stream",
     "text": [
      "\r",
      " 31%|████████████████████████▍                                                       | 213/696 [02:44<07:39,  1.05it/s]"
     ]
    },
    {
     "name": "stdout",
     "output_type": "stream",
     "text": [
      "Calculating Sentiment for:  sessions\n"
     ]
    },
    {
     "name": "stderr",
     "output_type": "stream",
     "text": [
      "\r",
      " 31%|████████████████████████▌                                                       | 214/696 [02:51<21:51,  2.72s/it]"
     ]
    },
    {
     "name": "stdout",
     "output_type": "stream",
     "text": [
      "Calculating Sentiment for:  iptippt\n"
     ]
    },
    {
     "name": "stderr",
     "output_type": "stream",
     "text": [
      "\r",
      " 31%|████████████████████████▋                                                       | 215/696 [02:54<21:56,  2.74s/it]"
     ]
    },
    {
     "name": "stdout",
     "output_type": "stream",
     "text": [
      "Calculating Sentiment for:  guess\n"
     ]
    },
    {
     "name": "stderr",
     "output_type": "stream",
     "text": [
      "\r",
      " 31%|████████████████████████▊                                                       | 216/696 [02:54<16:28,  2.06s/it]"
     ]
    },
    {
     "name": "stdout",
     "output_type": "stream",
     "text": [
      "Calculating Sentiment for:  birthday\n"
     ]
    },
    {
     "name": "stderr",
     "output_type": "stream",
     "text": [
      "\r",
      " 31%|████████████████████████▉                                                       | 217/696 [02:54<12:10,  1.53s/it]"
     ]
    },
    {
     "name": "stdout",
     "output_type": "stream",
     "text": [
      "Calculating Sentiment for:  aug\n"
     ]
    },
    {
     "name": "stderr",
     "output_type": "stream",
     "text": [
      " 31%|█████████████████████████▏                                                      | 219/696 [02:55<07:42,  1.03it/s]"
     ]
    },
    {
     "name": "stdout",
     "output_type": "stream",
     "text": [
      "Calculating Sentiment for:  n\n",
      "Calculating Sentiment for:  post\n"
     ]
    },
    {
     "name": "stderr",
     "output_type": "stream",
     "text": [
      " 32%|█████████████████████████▍                                                      | 221/696 [02:56<05:13,  1.51it/s]"
     ]
    },
    {
     "name": "stdout",
     "output_type": "stream",
     "text": [
      "Calculating Sentiment for:  refers\n",
      "Calculating Sentiment for:  there\n"
     ]
    },
    {
     "name": "stderr",
     "output_type": "stream",
     "text": [
      " 32%|█████████████████████████▋                                                      | 223/696 [02:57<03:28,  2.27it/s]"
     ]
    },
    {
     "name": "stdout",
     "output_type": "stream",
     "text": [
      "Calculating Sentiment for:  nightmare\n",
      "Calculating Sentiment for:  gagt\n"
     ]
    },
    {
     "name": "stderr",
     "output_type": "stream",
     "text": [
      "\r",
      " 32%|█████████████████████████▋                                                      | 224/696 [02:58<05:04,  1.55it/s]"
     ]
    },
    {
     "name": "stdout",
     "output_type": "stream",
     "text": [
      "Calculating Sentiment for:  early\n"
     ]
    },
    {
     "name": "stderr",
     "output_type": "stream",
     "text": [
      " 32%|█████████████████████████▉                                                      | 226/696 [02:58<03:28,  2.26it/s]"
     ]
    },
    {
     "name": "stdout",
     "output_type": "stream",
     "text": [
      "Calculating Sentiment for:  bx\n",
      "Calculating Sentiment for:  arbo\n"
     ]
    },
    {
     "name": "stderr",
     "output_type": "stream",
     "text": [
      " 33%|██████████████████████████▏                                                     | 228/696 [02:59<02:12,  3.53it/s]"
     ]
    },
    {
     "name": "stdout",
     "output_type": "stream",
     "text": [
      "Calculating Sentiment for:  wooden\n",
      "Calculating Sentiment for:  log\n"
     ]
    },
    {
     "name": "stderr",
     "output_type": "stream",
     "text": [
      " 33%|██████████████████████████▍                                                     | 230/696 [02:59<01:34,  4.93it/s]"
     ]
    },
    {
     "name": "stdout",
     "output_type": "stream",
     "text": [
      "Calculating Sentiment for:  else\n",
      "Calculating Sentiment for:  selarang\n"
     ]
    },
    {
     "name": "stderr",
     "output_type": "stream",
     "text": [
      " 33%|██████████████████████████▋                                                     | 232/696 [02:59<01:25,  5.44it/s]"
     ]
    },
    {
     "name": "stdout",
     "output_type": "stream",
     "text": [
      "Calculating Sentiment for:  pools\n",
      "Calculating Sentiment for:  self\n"
     ]
    },
    {
     "name": "stderr",
     "output_type": "stream",
     "text": [
      "\r",
      " 33%|██████████████████████████▊                                                     | 233/696 [02:59<01:23,  5.55it/s]"
     ]
    },
    {
     "name": "stdout",
     "output_type": "stream",
     "text": [
      "Calculating Sentiment for:  script\n"
     ]
    },
    {
     "name": "stderr",
     "output_type": "stream",
     "text": [
      "\r",
      " 34%|██████████████████████████▉                                                     | 234/696 [03:00<01:43,  4.47it/s]"
     ]
    },
    {
     "name": "stdout",
     "output_type": "stream",
     "text": [
      "Calculating Sentiment for:  sitassault\n"
     ]
    },
    {
     "name": "stderr",
     "output_type": "stream",
     "text": [
      " 34%|███████████████████████████▏                                                    | 236/696 [03:00<01:37,  4.71it/s]"
     ]
    },
    {
     "name": "stdout",
     "output_type": "stream",
     "text": [
      "Calculating Sentiment for:  assaultboat\n",
      "Calculating Sentiment for:  finish\n"
     ]
    },
    {
     "name": "stderr",
     "output_type": "stream",
     "text": [
      "\r",
      " 34%|███████████████████████████▏                                                    | 237/696 [03:01<03:18,  2.31it/s]"
     ]
    },
    {
     "name": "stdout",
     "output_type": "stream",
     "text": [
      "Calculating Sentiment for:  carry\n"
     ]
    },
    {
     "name": "stderr",
     "output_type": "stream",
     "text": [
      " 34%|███████████████████████████▍                                                    | 239/696 [03:02<02:39,  2.86it/s]"
     ]
    },
    {
     "name": "stdout",
     "output_type": "stream",
     "text": [
      "Calculating Sentiment for:  boat\n",
      "Calculating Sentiment for:  back\n"
     ]
    },
    {
     "name": "stderr",
     "output_type": "stream",
     "text": [
      "\r",
      " 34%|███████████████████████████▌                                                    | 240/696 [03:03<05:22,  1.41it/s]"
     ]
    },
    {
     "name": "stdout",
     "output_type": "stream",
     "text": [
      "Calculating Sentiment for:  credit\n"
     ]
    },
    {
     "name": "stderr",
     "output_type": "stream",
     "text": [
      "\r",
      " 35%|███████████████████████████▋                                                    | 241/696 [03:03<04:19,  1.75it/s]"
     ]
    },
    {
     "name": "stdout",
     "output_type": "stream",
     "text": [
      "Calculating Sentiment for:  oic\n"
     ]
    },
    {
     "name": "stderr",
     "output_type": "stream",
     "text": [
      "\r",
      " 35%|███████████████████████████▊                                                    | 242/696 [03:04<03:39,  2.07it/s]"
     ]
    },
    {
     "name": "stdout",
     "output_type": "stream",
     "text": [
      "Calculating Sentiment for:  last\n"
     ]
    },
    {
     "name": "stderr",
     "output_type": "stream",
     "text": [
      "\r",
      " 35%|███████████████████████████▉                                                    | 243/696 [03:05<05:55,  1.27it/s]"
     ]
    },
    {
     "name": "stdout",
     "output_type": "stream",
     "text": [
      "Calculating Sentiment for:  timeliao\n"
     ]
    },
    {
     "name": "stderr",
     "output_type": "stream",
     "text": [
      "\r",
      " 35%|████████████████████████████                                                    | 244/696 [03:05<04:44,  1.59it/s]"
     ]
    },
    {
     "name": "stdout",
     "output_type": "stream",
     "text": [
      "Calculating Sentiment for:  iptsession\n"
     ]
    },
    {
     "name": "stderr",
     "output_type": "stream",
     "text": [
      " 35%|████████████████████████████▎                                                   | 246/696 [03:07<04:25,  1.69it/s]"
     ]
    },
    {
     "name": "stdout",
     "output_type": "stream",
     "text": [
      "Calculating Sentiment for:  flexibility\n",
      "Calculating Sentiment for:  session\n"
     ]
    },
    {
     "name": "stderr",
     "output_type": "stream",
     "text": [
      "\r",
      " 35%|████████████████████████████▍                                                   | 247/696 [03:10<10:54,  1.46s/it]"
     ]
    },
    {
     "name": "stdout",
     "output_type": "stream",
     "text": [
      "Calculating Sentiment for:  liability\n"
     ]
    },
    {
     "name": "stderr",
     "output_type": "stream",
     "text": [
      "\r",
      " 36%|████████████████████████████▌                                                   | 248/696 [03:10<08:11,  1.10s/it]"
     ]
    },
    {
     "name": "stdout",
     "output_type": "stream",
     "text": [
      "Calculating Sentiment for:  officer\n"
     ]
    },
    {
     "name": "stderr",
     "output_type": "stream",
     "text": [
      "\r",
      " 36%|████████████████████████████▌                                                   | 249/696 [03:11<06:25,  1.16it/s]"
     ]
    },
    {
     "name": "stdout",
     "output_type": "stream",
     "text": [
      "Calculating Sentiment for:  slots\n"
     ]
    },
    {
     "name": "stderr",
     "output_type": "stream",
     "text": [
      " 36%|████████████████████████████▊                                                   | 251/696 [03:14<07:36,  1.03s/it]"
     ]
    },
    {
     "name": "stdout",
     "output_type": "stream",
     "text": [
      "Calculating Sentiment for:  cos\n",
      "Calculating Sentiment for:  fit\n"
     ]
    },
    {
     "name": "stderr",
     "output_type": "stream",
     "text": [
      "\r",
      " 36%|████████████████████████████▉                                                   | 252/696 [03:14<06:55,  1.07it/s]"
     ]
    },
    {
     "name": "stdout",
     "output_type": "stream",
     "text": [
      "Calculating Sentiment for:  luck\n"
     ]
    },
    {
     "name": "stderr",
     "output_type": "stream",
     "text": [
      "\r",
      " 36%|█████████████████████████████                                                   | 253/696 [03:15<05:40,  1.30it/s]"
     ]
    },
    {
     "name": "stdout",
     "output_type": "stream",
     "text": [
      "Calculating Sentiment for:  always\n"
     ]
    },
    {
     "name": "stderr",
     "output_type": "stream",
     "text": [
      " 37%|█████████████████████████████▎                                                  | 255/696 [03:15<03:50,  1.92it/s]"
     ]
    },
    {
     "name": "stdout",
     "output_type": "stream",
     "text": [
      "Calculating Sentiment for:  previously\n",
      "Calculating Sentiment for:  big\n"
     ]
    },
    {
     "name": "stderr",
     "output_type": "stream",
     "text": [
      "\r",
      " 37%|█████████████████████████████▍                                                  | 256/696 [03:16<04:20,  1.69it/s]"
     ]
    },
    {
     "name": "stdout",
     "output_type": "stream",
     "text": [
      "Calculating Sentiment for:  part\n"
     ]
    },
    {
     "name": "stderr",
     "output_type": "stream",
     "text": [
      "\r",
      " 37%|█████████████████████████████▌                                                  | 257/696 [03:17<04:19,  1.69it/s]"
     ]
    },
    {
     "name": "stdout",
     "output_type": "stream",
     "text": [
      "Calculating Sentiment for:  camp\n"
     ]
    },
    {
     "name": "stderr",
     "output_type": "stream",
     "text": [
      " 37%|█████████████████████████████▊                                                  | 259/696 [03:18<03:52,  1.88it/s]"
     ]
    },
    {
     "name": "stdout",
     "output_type": "stream",
     "text": [
      "Calculating Sentiment for:  indoorcarpark\n",
      "Calculating Sentiment for:  track\n"
     ]
    },
    {
     "name": "stderr",
     "output_type": "stream",
     "text": [
      " 38%|██████████████████████████████                                                  | 261/696 [03:18<02:27,  2.94it/s]"
     ]
    },
    {
     "name": "stdout",
     "output_type": "stream",
     "text": [
      "Calculating Sentiment for:  hard\n",
      "Calculating Sentiment for:  ground\n"
     ]
    },
    {
     "name": "stderr",
     "output_type": "stream",
     "text": [
      "\r",
      " 38%|██████████████████████████████                                                  | 262/696 [03:18<02:43,  2.66it/s]"
     ]
    },
    {
     "name": "stdout",
     "output_type": "stream",
     "text": [
      "Calculating Sentiment for:  probably\n"
     ]
    },
    {
     "name": "stderr",
     "output_type": "stream",
     "text": [
      " 38%|██████████████████████████████▎                                                 | 264/696 [03:19<02:17,  3.15it/s]"
     ]
    },
    {
     "name": "stdout",
     "output_type": "stream",
     "text": [
      "Calculating Sentiment for:  means\n",
      "Calculating Sentiment for:  again\n"
     ]
    },
    {
     "name": "stderr",
     "output_type": "stream",
     "text": [
      "\r",
      " 38%|██████████████████████████████▍                                                 | 265/696 [03:19<02:30,  2.87it/s]"
     ]
    },
    {
     "name": "stdout",
     "output_type": "stream",
     "text": [
      "Calculating Sentiment for:  weeks\n"
     ]
    },
    {
     "name": "stderr",
     "output_type": "stream",
     "text": [
      "\r",
      " 38%|██████████████████████████████▌                                                 | 266/696 [03:20<02:43,  2.64it/s]"
     ]
    },
    {
     "name": "stdout",
     "output_type": "stream",
     "text": [
      "Calculating Sentiment for:  ago\n"
     ]
    },
    {
     "name": "stderr",
     "output_type": "stream",
     "text": [
      " 39%|██████████████████████████████▊                                                 | 268/696 [03:20<02:01,  3.51it/s]"
     ]
    },
    {
     "name": "stdout",
     "output_type": "stream",
     "text": [
      "Calculating Sentiment for:  usemachine\n",
      "Calculating Sentiment for:  sat_sunsat_sun\n"
     ]
    },
    {
     "name": "stderr",
     "output_type": "stream",
     "text": [
      "\r",
      " 39%|██████████████████████████████▉                                                 | 269/696 [03:21<01:49,  3.89it/s]"
     ]
    },
    {
     "name": "stdout",
     "output_type": "stream",
     "text": [
      "Calculating Sentiment for:  attempt\n"
     ]
    },
    {
     "name": "stderr",
     "output_type": "stream",
     "text": [
      "\r",
      " 39%|███████████████████████████████                                                 | 270/696 [03:21<02:32,  2.79it/s]"
     ]
    },
    {
     "name": "stdout",
     "output_type": "stream",
     "text": [
      "Calculating Sentiment for:  point\n"
     ]
    },
    {
     "name": "stderr",
     "output_type": "stream",
     "text": [
      " 39%|███████████████████████████████▎                                                | 272/696 [03:22<02:14,  3.14it/s]"
     ]
    },
    {
     "name": "stdout",
     "output_type": "stream",
     "text": [
      "Calculating Sentiment for:  away\n",
      "Calculating Sentiment for:  waify\n"
     ]
    },
    {
     "name": "stderr",
     "output_type": "stream",
     "text": [
      "\r",
      " 39%|███████████████████████████████▍                                                | 273/696 [03:22<02:01,  3.48it/s]"
     ]
    },
    {
     "name": "stdout",
     "output_type": "stream",
     "text": [
      "Calculating Sentiment for:  ganyumobile\n"
     ]
    },
    {
     "name": "stderr",
     "output_type": "stream",
     "text": [
      " 40%|███████████████████████████████▌                                                | 275/696 [03:22<01:44,  4.05it/s]"
     ]
    },
    {
     "name": "stdout",
     "output_type": "stream",
     "text": [
      "Calculating Sentiment for:  night\n",
      "Calculating Sentiment for:  pros\n"
     ]
    },
    {
     "name": "stderr",
     "output_type": "stream",
     "text": [
      "\r",
      " 40%|███████████████████████████████▋                                                | 276/696 [03:23<01:28,  4.75it/s]"
     ]
    },
    {
     "name": "stdout",
     "output_type": "stream",
     "text": [
      "Calculating Sentiment for:  rts\n"
     ]
    },
    {
     "name": "stderr",
     "output_type": "stream",
     "text": [
      " 40%|███████████████████████████████▉                                                | 278/696 [03:23<01:24,  4.97it/s]"
     ]
    },
    {
     "name": "stdout",
     "output_type": "stream",
     "text": [
      "Calculating Sentiment for:  confusion\n",
      "Calculating Sentiment for:  attempted\n"
     ]
    },
    {
     "name": "stderr",
     "output_type": "stream",
     "text": [
      " 40%|████████████████████████████████▏                                               | 280/696 [03:24<01:49,  3.81it/s]"
     ]
    },
    {
     "name": "stdout",
     "output_type": "stream",
     "text": [
      "Calculating Sentiment for:  ippt_ictipptippt_ictippt\n",
      "Calculating Sentiment for:  workcycle\n"
     ]
    },
    {
     "name": "stderr",
     "output_type": "stream",
     "text": [
      "\r",
      " 40%|████████████████████████████████▎                                               | 281/696 [03:24<01:32,  4.47it/s]"
     ]
    },
    {
     "name": "stdout",
     "output_type": "stream",
     "text": [
      "Calculating Sentiment for:  need\n"
     ]
    },
    {
     "name": "stderr",
     "output_type": "stream",
     "text": [
      "\r",
      " 41%|████████████████████████████████▍                                               | 282/696 [03:24<01:54,  3.61it/s]"
     ]
    },
    {
     "name": "stdout",
     "output_type": "stream",
     "text": [
      "Calculating Sentiment for:  right\n"
     ]
    },
    {
     "name": "stderr",
     "output_type": "stream",
     "text": [
      " 41%|████████████████████████████████▋                                               | 284/696 [03:25<02:10,  3.15it/s]"
     ]
    },
    {
     "name": "stdout",
     "output_type": "stream",
     "text": [
      "Calculating Sentiment for:  sryi\n",
      "Calculating Sentiment for:  noob\n"
     ]
    },
    {
     "name": "stderr",
     "output_type": "stream",
     "text": [
      " 41%|████████████████████████████████▊                                               | 286/696 [03:25<01:31,  4.48it/s]"
     ]
    },
    {
     "name": "stdout",
     "output_type": "stream",
     "text": [
      "Calculating Sentiment for:  qns\n",
      "Calculating Sentiment for:  ans\n"
     ]
    },
    {
     "name": "stderr",
     "output_type": "stream",
     "text": [
      " 41%|█████████████████████████████████                                               | 288/696 [03:26<01:16,  5.36it/s]"
     ]
    },
    {
     "name": "stdout",
     "output_type": "stream",
     "text": [
      "Calculating Sentiment for:  intensely\n",
      "Calculating Sentiment for:  own\n"
     ]
    },
    {
     "name": "stderr",
     "output_type": "stream",
     "text": [
      "\r",
      " 42%|█████████████████████████████████▏                                              | 289/696 [03:26<01:10,  5.75it/s]"
     ]
    },
    {
     "name": "stdout",
     "output_type": "stream",
     "text": [
      "Calculating Sentiment for:  directly\n"
     ]
    },
    {
     "name": "stderr",
     "output_type": "stream",
     "text": [
      "\r",
      " 42%|█████████████████████████████████▎                                              | 290/696 [03:26<01:42,  3.96it/s]"
     ]
    },
    {
     "name": "stdout",
     "output_type": "stream",
     "text": [
      "Calculating Sentiment for:  ready\n"
     ]
    },
    {
     "name": "stderr",
     "output_type": "stream",
     "text": [
      " 42%|█████████████████████████████████▌                                              | 292/696 [03:27<01:28,  4.54it/s]"
     ]
    },
    {
     "name": "stdout",
     "output_type": "stream",
     "text": [
      "Calculating Sentiment for:  mai\n",
      "Calculating Sentiment for:  lah\n"
     ]
    },
    {
     "name": "stderr",
     "output_type": "stream",
     "text": [
      "\r",
      " 42%|█████████████████████████████████▋                                              | 293/696 [03:27<01:56,  3.46it/s]"
     ]
    },
    {
     "name": "stdout",
     "output_type": "stream",
     "text": [
      "Calculating Sentiment for:  timing\n"
     ]
    },
    {
     "name": "stderr",
     "output_type": "stream",
     "text": [
      "\r",
      " 42%|█████████████████████████████████▊                                              | 294/696 [03:28<04:06,  1.63it/s]"
     ]
    },
    {
     "name": "stdout",
     "output_type": "stream",
     "text": [
      "Calculating Sentiment for:  very\n"
     ]
    },
    {
     "name": "stderr",
     "output_type": "stream",
     "text": [
      "\r",
      " 42%|█████████████████████████████████▉                                              | 295/696 [03:29<03:27,  1.93it/s]"
     ]
    },
    {
     "name": "stdout",
     "output_type": "stream",
     "text": [
      "Calculating Sentiment for:  strict\n"
     ]
    },
    {
     "name": "stderr",
     "output_type": "stream",
     "text": [
      " 43%|██████████████████████████████████▏                                             | 297/696 [03:29<02:21,  2.82it/s]"
     ]
    },
    {
     "name": "stdout",
     "output_type": "stream",
     "text": [
      "Calculating Sentiment for:  khatibcamp\n",
      "Calculating Sentiment for:  beforehand\n"
     ]
    },
    {
     "name": "stderr",
     "output_type": "stream",
     "text": [
      " 43%|██████████████████████████████████▎                                             | 299/696 [03:29<01:34,  4.21it/s]"
     ]
    },
    {
     "name": "stdout",
     "output_type": "stream",
     "text": [
      "Calculating Sentiment for:  machine\n",
      "Calculating Sentiment for:  sheltered\n"
     ]
    },
    {
     "name": "stderr",
     "output_type": "stream",
     "text": [
      "\r",
      " 43%|██████████████████████████████████▍                                             | 300/696 [03:29<01:25,  4.61it/s]"
     ]
    },
    {
     "name": "stdout",
     "output_type": "stream",
     "text": [
      "Calculating Sentiment for:  carpark\n"
     ]
    },
    {
     "name": "stderr",
     "output_type": "stream",
     "text": [
      "\r",
      " 43%|██████████████████████████████████▌                                             | 301/696 [03:30<01:37,  4.03it/s]"
     ]
    },
    {
     "name": "stdout",
     "output_type": "stream",
     "text": [
      "Calculating Sentiment for:  sent\n"
     ]
    },
    {
     "name": "stderr",
     "output_type": "stream",
     "text": [
      " 44%|██████████████████████████████████▊                                             | 303/696 [03:30<01:50,  3.57it/s]"
     ]
    },
    {
     "name": "stdout",
     "output_type": "stream",
     "text": [
      "Calculating Sentiment for:  indoor\n"
     ]
    },
    {
     "name": "stderr",
     "output_type": "stream",
     "text": [
      " 44%|███████████████████████████████████                                             | 305/696 [03:31<01:29,  4.38it/s]"
     ]
    },
    {
     "name": "stdout",
     "output_type": "stream",
     "text": [
      "Calculating Sentiment for:  mindef\n",
      "Calculating Sentiment for:  ippt_rt\n",
      "Calculating Sentiment for:  months\n"
     ]
    },
    {
     "name": "stderr",
     "output_type": "stream",
     "text": [
      " 44%|███████████████████████████████████▎                                            | 307/696 [03:33<03:30,  1.84it/s]"
     ]
    },
    {
     "name": "stdout",
     "output_type": "stream",
     "text": [
      "Calculating Sentiment for:  death\n",
      "Calculating Sentiment for:  quote\n"
     ]
    },
    {
     "name": "stderr",
     "output_type": "stream",
     "text": [
      "\r",
      " 44%|███████████████████████████████████▍                                            | 308/696 [03:33<02:41,  2.41it/s]"
     ]
    },
    {
     "name": "stdout",
     "output_type": "stream",
     "text": [
      "Calculating Sentiment for:  strange\n"
     ]
    },
    {
     "name": "stderr",
     "output_type": "stream",
     "text": [
      " 45%|███████████████████████████████████▋                                            | 310/696 [03:33<01:54,  3.37it/s]"
     ]
    },
    {
     "name": "stdout",
     "output_type": "stream",
     "text": [
      "Calculating Sentiment for:  payable\n",
      "Calculating Sentiment for:  ippts\n"
     ]
    },
    {
     "name": "stderr",
     "output_type": "stream",
     "text": [
      " 45%|███████████████████████████████████▊                                            | 312/696 [03:34<01:29,  4.29it/s]"
     ]
    },
    {
     "name": "stdout",
     "output_type": "stream",
     "text": [
      "Calculating Sentiment for:  desired\n"
     ]
    },
    {
     "name": "stderr",
     "output_type": "stream",
     "text": [
      " 45%|████████████████████████████████████                                            | 314/696 [03:34<01:19,  4.81it/s]"
     ]
    },
    {
     "name": "stdout",
     "output_type": "stream",
     "text": [
      "Calculating Sentiment for:  gold_silver_passgold_silver_pass\n",
      "Calculating Sentiment for:  gold_silver_passw\n",
      "Calculating Sentiment for:  wincentive\n"
     ]
    },
    {
     "name": "stderr",
     "output_type": "stream",
     "text": [
      " 45%|████████████████████████████████████▎                                           | 316/696 [03:35<02:02,  3.11it/s]"
     ]
    },
    {
     "name": "stdout",
     "output_type": "stream",
     "text": [
      "Calculating Sentiment for:  welcome\n",
      "Calculating Sentiment for:  issue\n"
     ]
    },
    {
     "name": "stderr",
     "output_type": "stream",
     "text": [
      " 46%|████████████████████████████████████▌                                           | 318/696 [03:35<01:36,  3.91it/s]"
     ]
    },
    {
     "name": "stdout",
     "output_type": "stream",
     "text": [
      "Calculating Sentiment for:  anymore\n",
      "Calculating Sentiment for:  changes\n"
     ]
    },
    {
     "name": "stderr",
     "output_type": "stream",
     "text": [
      " 46%|████████████████████████████████████▊                                           | 320/696 [03:36<01:21,  4.60it/s]"
     ]
    },
    {
     "name": "stdout",
     "output_type": "stream",
     "text": [
      "Calculating Sentiment for:  mindefmarch\n",
      "Calculating Sentiment for:  financial\n"
     ]
    },
    {
     "name": "stderr",
     "output_type": "stream",
     "text": [
      " 46%|█████████████████████████████████████                                           | 322/696 [03:36<01:07,  5.58it/s]"
     ]
    },
    {
     "name": "stdout",
     "output_type": "stream",
     "text": [
      "Calculating Sentiment for:  rumors\n",
      "Calculating Sentiment for:  band\n"
     ]
    },
    {
     "name": "stderr",
     "output_type": "stream",
     "text": [
      " 47%|█████████████████████████████████████▏                                          | 324/696 [03:37<01:10,  5.31it/s]"
     ]
    },
    {
     "name": "stdout",
     "output_type": "stream",
     "text": [
      "Calculating Sentiment for:  sadly\n",
      "Calculating Sentiment for:  one\n"
     ]
    },
    {
     "name": "stderr",
     "output_type": "stream",
     "text": [
      "\r",
      " 47%|█████████████████████████████████████▎                                          | 325/696 [03:37<01:36,  3.86it/s]"
     ]
    },
    {
     "name": "stdout",
     "output_type": "stream",
     "text": [
      "Calculating Sentiment for:  previous\n"
     ]
    },
    {
     "name": "stderr",
     "output_type": "stream",
     "text": [
      " 47%|█████████████████████████████████████▌                                          | 327/696 [03:38<01:37,  3.79it/s]"
     ]
    },
    {
     "name": "stdout",
     "output_type": "stream",
     "text": [
      "Calculating Sentiment for:  separated\n",
      "Calculating Sentiment for:  normal\n"
     ]
    },
    {
     "name": "stderr",
     "output_type": "stream",
     "text": [
      "\r",
      " 47%|█████████████████████████████████████▋                                          | 328/696 [03:38<01:51,  3.31it/s]"
     ]
    },
    {
     "name": "stdout",
     "output_type": "stream",
     "text": [
      "Calculating Sentiment for:  exactly\n"
     ]
    },
    {
     "name": "stderr",
     "output_type": "stream",
     "text": [
      " 47%|█████████████████████████████████████▉                                          | 330/696 [03:38<01:26,  4.21it/s]"
     ]
    },
    {
     "name": "stdout",
     "output_type": "stream",
     "text": [
      "Calculating Sentiment for:  advisable\n",
      "Calculating Sentiment for:  way\n"
     ]
    },
    {
     "name": "stderr",
     "output_type": "stream",
     "text": [
      " 48%|██████████████████████████████████████▏                                         | 332/696 [03:39<01:05,  5.57it/s]"
     ]
    },
    {
     "name": "stdout",
     "output_type": "stream",
     "text": [
      "Calculating Sentiment for:  default\n",
      "Calculating Sentiment for:  automatically\n"
     ]
    },
    {
     "name": "stderr",
     "output_type": "stream",
     "text": [
      " 48%|██████████████████████████████████████▍                                         | 334/696 [03:39<00:58,  6.15it/s]"
     ]
    },
    {
     "name": "stdout",
     "output_type": "stream",
     "text": [
      "Calculating Sentiment for:  lk\n",
      "Calculating Sentiment for:  hk\n"
     ]
    },
    {
     "name": "stderr",
     "output_type": "stream",
     "text": [
      "\r",
      " 48%|██████████████████████████████████████▌                                         | 335/696 [03:39<01:47,  3.36it/s]"
     ]
    },
    {
     "name": "stdout",
     "output_type": "stream",
     "text": [
      "Calculating Sentiment for:  icts\n"
     ]
    },
    {
     "name": "stderr",
     "output_type": "stream",
     "text": [
      " 48%|██████████████████████████████████████▋                                         | 337/696 [03:40<01:48,  3.32it/s]"
     ]
    },
    {
     "name": "stdout",
     "output_type": "stream",
     "text": [
      "Calculating Sentiment for:  bridge\n",
      "Calculating Sentiment for:  shelter\n"
     ]
    },
    {
     "name": "stderr",
     "output_type": "stream",
     "text": [
      " 49%|██████████████████████████████████████▉                                         | 339/696 [03:41<01:40,  3.54it/s]"
     ]
    },
    {
     "name": "stdout",
     "output_type": "stream",
     "text": [
      "Calculating Sentiment for:  roughly\n",
      "Calculating Sentiment for:  10th\n"
     ]
    },
    {
     "name": "stderr",
     "output_type": "stream",
     "text": [
      " 49%|███████████████████████████████████████▏                                        | 341/696 [03:41<01:31,  3.86it/s]"
     ]
    },
    {
     "name": "stdout",
     "output_type": "stream",
     "text": [
      "Calculating Sentiment for:  spoon\n",
      "Calculating Sentiment for:  feed\n"
     ]
    },
    {
     "name": "stderr",
     "output_type": "stream",
     "text": [
      "\r",
      " 49%|███████████████████████████████████████▎                                        | 342/696 [03:41<01:32,  3.81it/s]"
     ]
    },
    {
     "name": "stdout",
     "output_type": "stream",
     "text": [
      "Calculating Sentiment for:  letter\n"
     ]
    },
    {
     "name": "stderr",
     "output_type": "stream",
     "text": [
      "\r",
      " 49%|███████████████████████████████████████▍                                        | 343/696 [03:42<01:34,  3.74it/s]"
     ]
    },
    {
     "name": "stdout",
     "output_type": "stream",
     "text": [
      "Calculating Sentiment for:  instructions\n"
     ]
    },
    {
     "name": "stderr",
     "output_type": "stream",
     "text": [
      "\r",
      " 49%|███████████████████████████████████████▌                                        | 344/696 [03:42<01:37,  3.62it/s]"
     ]
    },
    {
     "name": "stdout",
     "output_type": "stream",
     "text": [
      "Calculating Sentiment for:  windows\n"
     ]
    },
    {
     "name": "stderr",
     "output_type": "stream",
     "text": [
      "\r",
      " 50%|███████████████████████████████████████▋                                        | 345/696 [03:43<02:35,  2.25it/s]"
     ]
    },
    {
     "name": "stdout",
     "output_type": "stream",
     "text": [
      "Calculating Sentiment for:  rtsession\n"
     ]
    },
    {
     "name": "stderr",
     "output_type": "stream",
     "text": [
      "\r",
      " 50%|███████████████████████████████████████▊                                        | 346/696 [03:43<02:16,  2.56it/s]"
     ]
    },
    {
     "name": "stdout",
     "output_type": "stream",
     "text": [
      "Calculating Sentiment for:  bookrt\n"
     ]
    },
    {
     "name": "stderr",
     "output_type": "stream",
     "text": [
      " 50%|████████████████████████████████████████                                        | 348/696 [03:44<01:46,  3.25it/s]"
     ]
    },
    {
     "name": "stdout",
     "output_type": "stream",
     "text": [
      "Calculating Sentiment for:  normally\n"
     ]
    },
    {
     "name": "stderr",
     "output_type": "stream",
     "text": [
      "\r",
      " 50%|████████████████████████████████████████                                        | 349/696 [03:44<01:28,  3.93it/s]"
     ]
    },
    {
     "name": "stdout",
     "output_type": "stream",
     "text": [
      "Calculating Sentiment for:  mondays\n",
      "Calculating Sentiment for:  mean\n"
     ]
    },
    {
     "name": "stderr",
     "output_type": "stream",
     "text": [
      " 50%|████████████████████████████████████████▎                                       | 351/696 [03:45<01:51,  3.09it/s]"
     ]
    },
    {
     "name": "stdout",
     "output_type": "stream",
     "text": [
      "Calculating Sentiment for:  fccliao\n",
      "Calculating Sentiment for:  thankman\n"
     ]
    },
    {
     "name": "stderr",
     "output_type": "stream",
     "text": [
      "\r",
      " 51%|████████████████████████████████████████▍                                       | 352/696 [03:45<01:41,  3.40it/s]"
     ]
    },
    {
     "name": "stdout",
     "output_type": "stream",
     "text": [
      "Calculating Sentiment for:  rocketbunnyi\n"
     ]
    },
    {
     "name": "stderr",
     "output_type": "stream",
     "text": [
      "\r",
      " 51%|████████████████████████████████████████▌                                       | 353/696 [03:45<01:44,  3.27it/s]"
     ]
    },
    {
     "name": "stdout",
     "output_type": "stream",
     "text": [
      "Calculating Sentiment for:  friend\n"
     ]
    },
    {
     "name": "stderr",
     "output_type": "stream",
     "text": [
      " 51%|████████████████████████████████████████▊                                       | 355/696 [03:46<01:27,  3.92it/s]"
     ]
    },
    {
     "name": "stdout",
     "output_type": "stream",
     "text": [
      "Calculating Sentiment for:  redo\n",
      "Calculating Sentiment for:  bedok\n"
     ]
    },
    {
     "name": "stderr",
     "output_type": "stream",
     "text": [
      "\r",
      " 51%|████████████████████████████████████████▉                                       | 356/696 [03:46<01:19,  4.29it/s]"
     ]
    },
    {
     "name": "stdout",
     "output_type": "stream",
     "text": [
      "Calculating Sentiment for:  iptslot\n"
     ]
    },
    {
     "name": "stderr",
     "output_type": "stream",
     "text": [
      " 51%|█████████████████████████████████████████▏                                      | 358/696 [03:46<01:23,  4.04it/s]"
     ]
    },
    {
     "name": "stdout",
     "output_type": "stream",
     "text": [
      "Calculating Sentiment for:  empty\n",
      "Calculating Sentiment for:  fren\n"
     ]
    },
    {
     "name": "stderr",
     "output_type": "stream",
     "text": [
      " 52%|█████████████████████████████████████████▍                                      | 360/696 [03:47<01:07,  4.95it/s]"
     ]
    },
    {
     "name": "stdout",
     "output_type": "stream",
     "text": [
      "Calculating Sentiment for:  pro\n",
      "Calculating Sentiment for:  kenna\n"
     ]
    },
    {
     "name": "stderr",
     "output_type": "stream",
     "text": [
      " 52%|█████████████████████████████████████████▌                                      | 362/696 [03:47<01:09,  4.84it/s]"
     ]
    },
    {
     "name": "stdout",
     "output_type": "stream",
     "text": [
      "Calculating Sentiment for:  systemliao\n",
      "Calculating Sentiment for:  campi\n"
     ]
    },
    {
     "name": "stderr",
     "output_type": "stream",
     "text": [
      " 52%|█████████████████████████████████████████▊                                      | 364/696 [03:48<01:02,  5.28it/s]"
     ]
    },
    {
     "name": "stdout",
     "output_type": "stream",
     "text": [
      "Calculating Sentiment for:  nominal\n",
      "Calculating Sentiment for:  roll\n"
     ]
    },
    {
     "name": "stderr",
     "output_type": "stream",
     "text": [
      " 53%|██████████████████████████████████████████                                      | 366/696 [03:48<01:18,  4.22it/s]"
     ]
    },
    {
     "name": "stdout",
     "output_type": "stream",
     "text": [
      "Calculating Sentiment for:  booking\n",
      "Calculating Sentiment for:  lo\n"
     ]
    },
    {
     "name": "stderr",
     "output_type": "stream",
     "text": [
      "\r",
      " 53%|██████████████████████████████████████████▏                                     | 367/696 [03:48<01:09,  4.74it/s]"
     ]
    },
    {
     "name": "stdout",
     "output_type": "stream",
     "text": [
      "Calculating Sentiment for:  simple\n"
     ]
    },
    {
     "name": "stderr",
     "output_type": "stream",
     "text": [
      " 53%|██████████████████████████████████████████▍                                     | 369/696 [03:49<01:50,  2.95it/s]"
     ]
    },
    {
     "name": "stdout",
     "output_type": "stream",
     "text": [
      "Calculating Sentiment for:  eta\n",
      "Calculating Sentiment for:  afraid\n"
     ]
    },
    {
     "name": "stderr",
     "output_type": "stream",
     "text": [
      " 53%|██████████████████████████████████████████▋                                     | 371/696 [03:50<01:14,  4.37it/s]"
     ]
    },
    {
     "name": "stdout",
     "output_type": "stream",
     "text": [
      "Calculating Sentiment for:  slightly\n",
      "Calculating Sentiment for:  late\n"
     ]
    },
    {
     "name": "stderr",
     "output_type": "stream",
     "text": [
      " 54%|██████████████████████████████████████████▊                                     | 373/696 [03:51<01:42,  3.15it/s]"
     ]
    },
    {
     "name": "stdout",
     "output_type": "stream",
     "text": [
      "Calculating Sentiment for:  jam\n",
      "Calculating Sentiment for:  cutofftime\n"
     ]
    },
    {
     "name": "stderr",
     "output_type": "stream",
     "text": [
      " 54%|███████████████████████████████████████████                                     | 375/696 [03:51<01:15,  4.23it/s]"
     ]
    },
    {
     "name": "stdout",
     "output_type": "stream",
     "text": [
      "Calculating Sentiment for:  confirmation\n",
      "Calculating Sentiment for:  justme\n"
     ]
    },
    {
     "name": "stderr",
     "output_type": "stream",
     "text": [
      " 54%|███████████████████████████████████████████▎                                    | 377/696 [03:51<01:11,  4.46it/s]"
     ]
    },
    {
     "name": "stdout",
     "output_type": "stream",
     "text": [
      "Calculating Sentiment for:  wahswee\n",
      "Calculating Sentiment for:  apparently\n"
     ]
    },
    {
     "name": "stderr",
     "output_type": "stream",
     "text": [
      " 54%|███████████████████████████████████████████▌                                    | 379/696 [03:52<01:00,  5.22it/s]"
     ]
    },
    {
     "name": "stdout",
     "output_type": "stream",
     "text": [
      "Calculating Sentiment for:  bmi\n",
      "Calculating Sentiment for:  requirement\n"
     ]
    },
    {
     "name": "stderr",
     "output_type": "stream",
     "text": [
      " 55%|███████████████████████████████████████████▊                                    | 381/696 [03:52<01:04,  4.89it/s]"
     ]
    },
    {
     "name": "stdout",
     "output_type": "stream",
     "text": [
      "Calculating Sentiment for:  posts\n"
     ]
    },
    {
     "name": "stderr",
     "output_type": "stream",
     "text": [
      "\r",
      " 55%|███████████████████████████████████████████▉                                    | 382/696 [03:52<00:56,  5.53it/s]"
     ]
    },
    {
     "name": "stdout",
     "output_type": "stream",
     "text": [
      "Calculating Sentiment for:  systemchange\n",
      "Calculating Sentiment for:  yearseptember\n"
     ]
    },
    {
     "name": "stderr",
     "output_type": "stream",
     "text": [
      "\r",
      " 55%|████████████████████████████████████████████                                    | 383/696 [03:52<00:52,  5.97it/s]"
     ]
    },
    {
     "name": "stdout",
     "output_type": "stream",
     "text": [
      "Calculating Sentiment for:  mo\n"
     ]
    },
    {
     "name": "stderr",
     "output_type": "stream",
     "text": [
      "\r",
      " 55%|████████████████████████████████████████████▏                                   | 384/696 [03:53<01:00,  5.17it/s]"
     ]
    },
    {
     "name": "stdout",
     "output_type": "stream",
     "text": [
      "Calculating Sentiment for:  specialist\n"
     ]
    },
    {
     "name": "stderr",
     "output_type": "stream",
     "text": [
      "\r",
      " 55%|████████████████████████████████████████████▎                                   | 385/696 [03:53<01:13,  4.24it/s]"
     ]
    },
    {
     "name": "stdout",
     "output_type": "stream",
     "text": [
      "Calculating Sentiment for:  consultation\n"
     ]
    },
    {
     "name": "stderr",
     "output_type": "stream",
     "text": [
      "\r",
      " 55%|████████████████████████████████████████████▎                                   | 386/696 [03:53<01:21,  3.81it/s]"
     ]
    },
    {
     "name": "stdout",
     "output_type": "stream",
     "text": [
      "Calculating Sentiment for:  hence\n"
     ]
    },
    {
     "name": "stderr",
     "output_type": "stream",
     "text": [
      "\r",
      " 56%|████████████████████████████████████████████▍                                   | 387/696 [03:54<01:22,  3.75it/s]"
     ]
    },
    {
     "name": "stdout",
     "output_type": "stream",
     "text": [
      "Calculating Sentiment for:  serve\n"
     ]
    },
    {
     "name": "stderr",
     "output_type": "stream",
     "text": [
      "\r",
      " 56%|████████████████████████████████████████████▌                                   | 388/696 [03:54<01:28,  3.47it/s]"
     ]
    },
    {
     "name": "stdout",
     "output_type": "stream",
     "text": [
      "Calculating Sentiment for:  reservist\n"
     ]
    },
    {
     "name": "stderr",
     "output_type": "stream",
     "text": [
      " 56%|████████████████████████████████████████████▊                                   | 390/696 [03:54<01:23,  3.66it/s]"
     ]
    },
    {
     "name": "stdout",
     "output_type": "stream",
     "text": [
      "Calculating Sentiment for:  ish\n",
      "Calculating Sentiment for:  simi\n"
     ]
    },
    {
     "name": "stderr",
     "output_type": "stream",
     "text": [
      " 56%|█████████████████████████████████████████████                                   | 392/696 [03:55<01:12,  4.19it/s]"
     ]
    },
    {
     "name": "stdout",
     "output_type": "stream",
     "text": [
      "Calculating Sentiment for:  unfair\n",
      "Calculating Sentiment for:  complete\n"
     ]
    },
    {
     "name": "stderr",
     "output_type": "stream",
     "text": [
      "\r",
      " 56%|█████████████████████████████████████████████▏                                  | 393/696 [03:56<02:03,  2.46it/s]"
     ]
    },
    {
     "name": "stdout",
     "output_type": "stream",
     "text": [
      "Calculating Sentiment for:  cycles\n"
     ]
    },
    {
     "name": "stderr",
     "output_type": "stream",
     "text": [
      "\r",
      " 57%|█████████████████████████████████████████████▎                                  | 394/696 [03:56<02:03,  2.45it/s]"
     ]
    },
    {
     "name": "stdout",
     "output_type": "stream",
     "text": [
      "Calculating Sentiment for:  actually\n"
     ]
    },
    {
     "name": "stderr",
     "output_type": "stream",
     "text": [
      "\r",
      " 57%|█████████████████████████████████████████████▍                                  | 395/696 [03:56<01:50,  2.74it/s]"
     ]
    },
    {
     "name": "stdout",
     "output_type": "stream",
     "text": [
      "Calculating Sentiment for:  suffering\n"
     ]
    },
    {
     "name": "stderr",
     "output_type": "stream",
     "text": [
      "\r",
      " 57%|█████████████████████████████████████████████▌                                  | 396/696 [03:57<01:37,  3.07it/s]"
     ]
    },
    {
     "name": "stdout",
     "output_type": "stream",
     "text": [
      "Calculating Sentiment for:  call\n"
     ]
    },
    {
     "name": "stderr",
     "output_type": "stream",
     "text": [
      " 57%|█████████████████████████████████████████████▋                                  | 398/696 [03:57<01:32,  3.24it/s]"
     ]
    },
    {
     "name": "stdout",
     "output_type": "stream",
     "text": [
      "Calculating Sentiment for:  ippttill\n",
      "Calculating Sentiment for:  man\n"
     ]
    },
    {
     "name": "stderr",
     "output_type": "stream",
     "text": [
      " 57%|█████████████████████████████████████████████▉                                  | 400/696 [03:58<01:41,  2.93it/s]"
     ]
    },
    {
     "name": "stdout",
     "output_type": "stream",
     "text": [
      "Calculating Sentiment for:  everyone\n",
      "Calculating Sentiment for:  holan\n"
     ]
    },
    {
     "name": "stderr",
     "output_type": "stream",
     "text": [
      "\r",
      " 58%|██████████████████████████████████████████████                                  | 401/696 [03:58<01:23,  3.54it/s]"
     ]
    },
    {
     "name": "stdout",
     "output_type": "stream",
     "text": [
      "Calculating Sentiment for:  feel\n"
     ]
    },
    {
     "name": "stderr",
     "output_type": "stream",
     "text": [
      " 58%|██████████████████████████████████████████████▎                                 | 403/696 [03:59<01:21,  3.60it/s]"
     ]
    },
    {
     "name": "stdout",
     "output_type": "stream",
     "text": [
      "Calculating Sentiment for:  sad\n",
      "Calculating Sentiment for:  ipptsession\n"
     ]
    },
    {
     "name": "stderr",
     "output_type": "stream",
     "text": [
      "\r",
      " 58%|██████████████████████████████████████████████▍                                 | 404/696 [04:00<02:15,  2.15it/s]"
     ]
    },
    {
     "name": "stdout",
     "output_type": "stream",
     "text": [
      "Calculating Sentiment for:  few\n"
     ]
    },
    {
     "name": "stderr",
     "output_type": "stream",
     "text": [
      "\r",
      " 58%|██████████████████████████████████████████████▌                                 | 405/696 [04:01<02:53,  1.68it/s]"
     ]
    },
    {
     "name": "stdout",
     "output_type": "stream",
     "text": [
      "Calculating Sentiment for:  help\n"
     ]
    },
    {
     "name": "stderr",
     "output_type": "stream",
     "text": [
      "\r",
      " 58%|██████████████████████████████████████████████▋                                 | 406/696 [04:01<02:23,  2.02it/s]"
     ]
    },
    {
     "name": "stdout",
     "output_type": "stream",
     "text": [
      "Calculating Sentiment for:  ippt_ipts\n"
     ]
    },
    {
     "name": "stderr",
     "output_type": "stream",
     "text": [
      "\r",
      " 58%|██████████████████████████████████████████████▊                                 | 407/696 [04:01<02:27,  1.96it/s]"
     ]
    },
    {
     "name": "stdout",
     "output_type": "stream",
     "text": [
      "Calculating Sentiment for:  easier\n"
     ]
    },
    {
     "name": "stderr",
     "output_type": "stream",
     "text": [
      " 59%|███████████████████████████████████████████████                                 | 409/696 [04:02<01:53,  2.52it/s]"
     ]
    },
    {
     "name": "stdout",
     "output_type": "stream",
     "text": [
      "Calculating Sentiment for:  earlier\n",
      "Calculating Sentiment for:  greent\n"
     ]
    },
    {
     "name": "stderr",
     "output_type": "stream",
     "text": [
      "\r",
      " 59%|███████████████████████████████████████████████▏                                | 410/696 [04:02<01:44,  2.73it/s]"
     ]
    },
    {
     "name": "stdout",
     "output_type": "stream",
     "text": [
      "Calculating Sentiment for:  question\n"
     ]
    },
    {
     "name": "stderr",
     "output_type": "stream",
     "text": [
      " 59%|███████████████████████████████████████████████▎                                | 412/696 [04:03<01:30,  3.14it/s]"
     ]
    },
    {
     "name": "stdout",
     "output_type": "stream",
     "text": [
      "Calculating Sentiment for:  instructor\n",
      "Calculating Sentiment for:  hopefully\n"
     ]
    },
    {
     "name": "stderr",
     "output_type": "stream",
     "text": [
      " 59%|███████████████████████████████████████████████▌                                | 414/696 [04:03<01:06,  4.25it/s]"
     ]
    },
    {
     "name": "stdout",
     "output_type": "stream",
     "text": [
      "Calculating Sentiment for:  following\n",
      "Calculating Sentiment for:  good\n"
     ]
    },
    {
     "name": "stderr",
     "output_type": "stream",
     "text": [
      " 60%|███████████████████████████████████████████████▊                                | 416/696 [04:04<01:43,  2.71it/s]"
     ]
    },
    {
     "name": "stdout",
     "output_type": "stream",
     "text": [
      "Calculating Sentiment for:  doubtcause\n",
      "Calculating Sentiment for:  causei\n"
     ]
    },
    {
     "name": "stderr",
     "output_type": "stream",
     "text": [
      " 60%|████████████████████████████████████████████████                                | 418/696 [04:05<01:22,  3.38it/s]"
     ]
    },
    {
     "name": "stdout",
     "output_type": "stream",
     "text": [
      "Calculating Sentiment for:  wrongly\n",
      "Calculating Sentiment for:  sat_sun\n"
     ]
    },
    {
     "name": "stderr",
     "output_type": "stream",
     "text": [
      "\r",
      " 60%|████████████████████████████████████████████████▏                               | 419/696 [04:05<01:27,  3.17it/s]"
     ]
    },
    {
     "name": "stdout",
     "output_type": "stream",
     "text": [
      "Calculating Sentiment for:  reason\n"
     ]
    },
    {
     "name": "stderr",
     "output_type": "stream",
     "text": [
      "\r",
      " 60%|████████████████████████████████████████████████▎                               | 420/696 [04:06<01:25,  3.24it/s]"
     ]
    },
    {
     "name": "stdout",
     "output_type": "stream",
     "text": [
      "Calculating Sentiment for:  hq\n"
     ]
    },
    {
     "name": "stderr",
     "output_type": "stream",
     "text": [
      "\r",
      " 60%|████████████████████████████████████████████████▍                               | 421/696 [04:06<01:24,  3.26it/s]"
     ]
    },
    {
     "name": "stdout",
     "output_type": "stream",
     "text": [
      "Calculating Sentiment for:  realize\n"
     ]
    },
    {
     "name": "stderr",
     "output_type": "stream",
     "text": [
      " 61%|████████████████████████████████████████████████▌                               | 423/696 [04:06<01:08,  3.96it/s]"
     ]
    },
    {
     "name": "stdout",
     "output_type": "stream",
     "text": [
      "Calculating Sentiment for:  sessionstart\n",
      "Calculating Sentiment for:  weather\n"
     ]
    },
    {
     "name": "stderr",
     "output_type": "stream",
     "text": [
      "\r",
      " 61%|████████████████████████████████████████████████▋                               | 424/696 [04:06<00:59,  4.56it/s]"
     ]
    },
    {
     "name": "stdout",
     "output_type": "stream",
     "text": [
      "Calculating Sentiment for:  warm\n"
     ]
    },
    {
     "name": "stderr",
     "output_type": "stream",
     "text": [
      " 61%|████████████████████████████████████████████████▉                               | 426/696 [04:07<00:55,  4.83it/s]"
     ]
    },
    {
     "name": "stdout",
     "output_type": "stream",
     "text": [
      "Calculating Sentiment for:  apply\n",
      "Calculating Sentiment for:  sat_sunq\n"
     ]
    },
    {
     "name": "stderr",
     "output_type": "stream",
     "text": [
      " 61%|█████████████████████████████████████████████████▏                              | 428/696 [04:07<00:52,  5.06it/s]"
     ]
    },
    {
     "name": "stdout",
     "output_type": "stream",
     "text": [
      "Calculating Sentiment for:  today\n",
      "Calculating Sentiment for:  trainingsession\n"
     ]
    },
    {
     "name": "stderr",
     "output_type": "stream",
     "text": [
      " 62%|█████████████████████████████████████████████████▍                              | 430/696 [04:08<00:44,  5.99it/s]"
     ]
    },
    {
     "name": "stdout",
     "output_type": "stream",
     "text": [
      "Calculating Sentiment for:  sessionq\n",
      "Calculating Sentiment for:  solution\n"
     ]
    },
    {
     "name": "stderr",
     "output_type": "stream",
     "text": [
      "\r",
      " 62%|█████████████████████████████████████████████████▌                              | 431/696 [04:08<00:53,  4.93it/s]"
     ]
    },
    {
     "name": "stdout",
     "output_type": "stream",
     "text": [
      "Calculating Sentiment for:  current\n"
     ]
    },
    {
     "name": "stderr",
     "output_type": "stream",
     "text": [
      "\r",
      " 62%|█████████████████████████████████████████████████▋                              | 432/696 [04:10<03:02,  1.44it/s]"
     ]
    },
    {
     "name": "stdout",
     "output_type": "stream",
     "text": [
      "Calculating Sentiment for:  planning\n"
     ]
    },
    {
     "name": "stderr",
     "output_type": "stream",
     "text": [
      " 62%|█████████████████████████████████████████████████▉                              | 434/696 [04:10<01:55,  2.27it/s]"
     ]
    },
    {
     "name": "stdout",
     "output_type": "stream",
     "text": [
      "Calculating Sentiment for:  defaulter\n",
      "Calculating Sentiment for:  unknown\n"
     ]
    },
    {
     "name": "stderr",
     "output_type": "stream",
     "text": [
      " 63%|██████████████████████████████████████████████████                              | 436/696 [04:10<01:15,  3.45it/s]"
     ]
    },
    {
     "name": "stdout",
     "output_type": "stream",
     "text": [
      "Calculating Sentiment for:  resume\n",
      "Calculating Sentiment for:  currently\n"
     ]
    },
    {
     "name": "stderr",
     "output_type": "stream",
     "text": [
      "\r",
      " 63%|██████████████████████████████████████████████████▏                             | 437/696 [04:11<01:15,  3.42it/s]"
     ]
    },
    {
     "name": "stdout",
     "output_type": "stream",
     "text": [
      "Calculating Sentiment for:  different\n"
     ]
    },
    {
     "name": "stderr",
     "output_type": "stream",
     "text": [
      " 63%|██████████████████████████████████████████████████▍                             | 439/696 [04:11<01:14,  3.45it/s]"
     ]
    },
    {
     "name": "stdout",
     "output_type": "stream",
     "text": [
      "Calculating Sentiment for:  locations\n",
      "Calculating Sentiment for:  person\n"
     ]
    },
    {
     "name": "stderr",
     "output_type": "stream",
     "text": [
      " 63%|██████████████████████████████████████████████████▋                             | 441/696 [04:12<01:02,  4.11it/s]"
     ]
    },
    {
     "name": "stdout",
     "output_type": "stream",
     "text": [
      "Calculating Sentiment for:  safra\n",
      "Calculating Sentiment for:  gym\n"
     ]
    },
    {
     "name": "stderr",
     "output_type": "stream",
     "text": [
      " 64%|██████████████████████████████████████████████████▉                             | 443/696 [04:12<00:59,  4.28it/s]"
     ]
    },
    {
     "name": "stdout",
     "output_type": "stream",
     "text": [
      "Calculating Sentiment for:  house\n",
      "Calculating Sentiment for:  life\n"
     ]
    },
    {
     "name": "stderr",
     "output_type": "stream",
     "text": [
      " 64%|███████████████████████████████████████████████████▏                            | 445/696 [04:13<00:58,  4.31it/s]"
     ]
    },
    {
     "name": "stdout",
     "output_type": "stream",
     "text": [
      "Calculating Sentiment for:  thingðÿ™ðÿ\n",
      "Calculating Sentiment for:  ðÿ™ðÿ»\n"
     ]
    },
    {
     "name": "stderr",
     "output_type": "stream",
     "text": [
      " 64%|███████████████████████████████████████████████████▍                            | 447/696 [04:13<01:06,  3.74it/s]"
     ]
    },
    {
     "name": "stdout",
     "output_type": "stream",
     "text": [
      "Calculating Sentiment for:  total\n",
      "Calculating Sentiment for:  system\n"
     ]
    },
    {
     "name": "stderr",
     "output_type": "stream",
     "text": [
      " 65%|███████████████████████████████████████████████████▌                            | 449/696 [04:14<00:57,  4.26it/s]"
     ]
    },
    {
     "name": "stdout",
     "output_type": "stream",
     "text": [
      "Calculating Sentiment for:  windowattendance\n",
      "Calculating Sentiment for:  record\n"
     ]
    },
    {
     "name": "stderr",
     "output_type": "stream",
     "text": [
      " 65%|███████████████████████████████████████████████████▊                            | 451/696 [04:14<00:48,  5.07it/s]"
     ]
    },
    {
     "name": "stdout",
     "output_type": "stream",
     "text": [
      "Calculating Sentiment for:  indeed\n",
      "Calculating Sentiment for:  eastsider\n"
     ]
    },
    {
     "name": "stderr",
     "output_type": "stream",
     "text": [
      " 65%|████████████████████████████████████████████████████                            | 453/696 [04:14<00:41,  5.92it/s]"
     ]
    },
    {
     "name": "stdout",
     "output_type": "stream",
     "text": [
      "Calculating Sentiment for:  damn\n",
      "Calculating Sentiment for:  start\n"
     ]
    },
    {
     "name": "stderr",
     "output_type": "stream",
     "text": [
      " 65%|████████████████████████████████████████████████████▎                           | 455/696 [04:15<00:48,  4.93it/s]"
     ]
    },
    {
     "name": "stdout",
     "output_type": "stream",
     "text": [
      "Calculating Sentiment for:  july\n",
      "Calculating Sentiment for:  recuit\n"
     ]
    },
    {
     "name": "stderr",
     "output_type": "stream",
     "text": [
      " 66%|████████████████████████████████████████████████████▌                           | 457/696 [04:15<00:39,  6.00it/s]"
     ]
    },
    {
     "name": "stdout",
     "output_type": "stream",
     "text": [
      "Calculating Sentiment for:  reservice\n",
      "Calculating Sentiment for:  dunwan\n"
     ]
    },
    {
     "name": "stderr",
     "output_type": "stream",
     "text": [
      " 66%|████████████████████████████████████████████████████▊                           | 459/696 [04:15<00:37,  6.24it/s]"
     ]
    },
    {
     "name": "stdout",
     "output_type": "stream",
     "text": [
      "Calculating Sentiment for:  cisco\n",
      "Calculating Sentiment for:  program\n"
     ]
    },
    {
     "name": "stderr",
     "output_type": "stream",
     "text": [
      " 66%|████████████████████████████████████████████████████▉                           | 461/696 [04:16<00:44,  5.32it/s]"
     ]
    },
    {
     "name": "stdout",
     "output_type": "stream",
     "text": [
      "Calculating Sentiment for:  maintenance\n",
      "Calculating Sentiment for:  experience\n"
     ]
    },
    {
     "name": "stderr",
     "output_type": "stream",
     "text": [
      " 67%|█████████████████████████████████████████████████████▏                          | 463/696 [04:16<00:38,  6.00it/s]"
     ]
    },
    {
     "name": "stdout",
     "output_type": "stream",
     "text": [
      "Calculating Sentiment for:  bay\n",
      "Calculating Sentiment for:  bands\n"
     ]
    },
    {
     "name": "stderr",
     "output_type": "stream",
     "text": [
      "\r",
      " 67%|█████████████████████████████████████████████████████▎                          | 464/696 [04:16<00:45,  5.09it/s]"
     ]
    },
    {
     "name": "stdout",
     "output_type": "stream",
     "text": [
      "Calculating Sentiment for:  training\n"
     ]
    },
    {
     "name": "stderr",
     "output_type": "stream",
     "text": [
      " 67%|█████████████████████████████████████████████████████▌                          | 466/696 [04:17<00:49,  4.64it/s]"
     ]
    },
    {
     "name": "stdout",
     "output_type": "stream",
     "text": [
      "Calculating Sentiment for:  slip\n",
      "Calculating Sentiment for:  ran\n"
     ]
    },
    {
     "name": "stderr",
     "output_type": "stream",
     "text": [
      " 67%|█████████████████████████████████████████████████████▊                          | 468/696 [04:17<00:40,  5.65it/s]"
     ]
    },
    {
     "name": "stdout",
     "output_type": "stream",
     "text": [
      "Calculating Sentiment for:  fi\n",
      "Calculating Sentiment for:  loh\n"
     ]
    },
    {
     "name": "stderr",
     "output_type": "stream",
     "text": [
      " 68%|██████████████████████████████████████████████████████                          | 470/696 [04:18<00:35,  6.38it/s]"
     ]
    },
    {
     "name": "stdout",
     "output_type": "stream",
     "text": [
      "Calculating Sentiment for:  uniform\n",
      "Calculating Sentiment for:  chance\n"
     ]
    },
    {
     "name": "stderr",
     "output_type": "stream",
     "text": [
      " 68%|██████████████████████████████████████████████████████▎                         | 472/696 [04:18<00:43,  5.17it/s]"
     ]
    },
    {
     "name": "stdout",
     "output_type": "stream",
     "text": [
      "Calculating Sentiment for:  returnuniform\n",
      "Calculating Sentiment for:  pes\n"
     ]
    },
    {
     "name": "stderr",
     "output_type": "stream",
     "text": [
      "\r",
      " 68%|██████████████████████████████████████████████████████▎                         | 473/696 [04:20<02:27,  1.52it/s]"
     ]
    },
    {
     "name": "stdout",
     "output_type": "stream",
     "text": [
      "Calculating Sentiment for:  f\n"
     ]
    },
    {
     "name": "stderr",
     "output_type": "stream",
     "text": [
      " 68%|██████████████████████████████████████████████████████▌                         | 475/696 [04:21<01:58,  1.86it/s]"
     ]
    },
    {
     "name": "stdout",
     "output_type": "stream",
     "text": [
      "Calculating Sentiment for:  safety\n",
      "Calculating Sentiment for:  officers\n"
     ]
    },
    {
     "name": "stderr",
     "output_type": "stream",
     "text": [
      " 69%|██████████████████████████████████████████████████████▊                         | 477/696 [04:21<01:16,  2.87it/s]"
     ]
    },
    {
     "name": "stdout",
     "output_type": "stream",
     "text": [
      "Calculating Sentiment for:  startsonly\n",
      "Calculating Sentiment for:  examplei\n"
     ]
    },
    {
     "name": "stderr",
     "output_type": "stream",
     "text": [
      " 69%|███████████████████████████████████████████████████████                         | 479/696 [04:21<00:56,  3.86it/s]"
     ]
    },
    {
     "name": "stdout",
     "output_type": "stream",
     "text": [
      "Calculating Sentiment for:  no\n",
      "Calculating Sentiment for:  enlistmentdate\n"
     ]
    },
    {
     "name": "stderr",
     "output_type": "stream",
     "text": [
      "\r",
      " 69%|███████████████████████████████████████████████████████▏                        | 480/696 [04:22<00:46,  4.62it/s]"
     ]
    },
    {
     "name": "stdout",
     "output_type": "stream",
     "text": [
      "Calculating Sentiment for:  later\n"
     ]
    },
    {
     "name": "stderr",
     "output_type": "stream",
     "text": [
      " 69%|███████████████████████████████████████████████████████▍                        | 482/696 [04:22<00:52,  4.11it/s]"
     ]
    },
    {
     "name": "stdout",
     "output_type": "stream",
     "text": [
      "Calculating Sentiment for:  enlistment\n",
      "Calculating Sentiment for:  date\n"
     ]
    },
    {
     "name": "stderr",
     "output_type": "stream",
     "text": [
      "\r",
      " 69%|███████████████████████████████████████████████████████▌                        | 483/696 [04:23<01:13,  2.90it/s]"
     ]
    },
    {
     "name": "stdout",
     "output_type": "stream",
     "text": [
      "Calculating Sentiment for:  others\n"
     ]
    },
    {
     "name": "stderr",
     "output_type": "stream",
     "text": [
      "\r",
      " 70%|███████████████████████████████████████████████████████▋                        | 484/696 [04:23<01:07,  3.13it/s]"
     ]
    },
    {
     "name": "stdout",
     "output_type": "stream",
     "text": [
      "Calculating Sentiment for:  yearrt\n"
     ]
    },
    {
     "name": "stderr",
     "output_type": "stream",
     "text": [
      " 70%|███████████████████████████████████████████████████████▊                        | 486/696 [04:23<00:56,  3.73it/s]"
     ]
    },
    {
     "name": "stdout",
     "output_type": "stream",
     "text": [
      "Calculating Sentiment for:  bad\n",
      "Calculating Sentiment for:  incentives\n"
     ]
    },
    {
     "name": "stderr",
     "output_type": "stream",
     "text": [
      " 70%|████████████████████████████████████████████████████████                        | 488/696 [04:24<00:42,  4.91it/s]"
     ]
    },
    {
     "name": "stdout",
     "output_type": "stream",
     "text": [
      "Calculating Sentiment for:  yeartill\n",
      "Calculating Sentiment for:  further\n"
     ]
    },
    {
     "name": "stderr",
     "output_type": "stream",
     "text": [
      " 70%|████████████████████████████████████████████████████████▎                       | 490/696 [04:24<00:43,  4.74it/s]"
     ]
    },
    {
     "name": "stdout",
     "output_type": "stream",
     "text": [
      "Calculating Sentiment for:  notice\n",
      "Calculating Sentiment for:  waiversms\n"
     ]
    },
    {
     "name": "stderr",
     "output_type": "stream",
     "text": [
      "\r",
      " 71%|████████████████████████████████████████████████████████▍                       | 491/696 [04:24<00:39,  5.23it/s]"
     ]
    },
    {
     "name": "stdout",
     "output_type": "stream",
     "text": [
      "Calculating Sentiment for:  maybe\n"
     ]
    },
    {
     "name": "stderr",
     "output_type": "stream",
     "text": [
      "\r",
      " 71%|████████████████████████████████████████████████████████▌                       | 492/696 [04:25<00:59,  3.41it/s]"
     ]
    },
    {
     "name": "stdout",
     "output_type": "stream",
     "text": [
      "Calculating Sentiment for:  hotline\n"
     ]
    },
    {
     "name": "stderr",
     "output_type": "stream",
     "text": [
      "\r",
      " 71%|████████████████████████████████████████████████████████▋                       | 493/696 [04:25<00:58,  3.49it/s]"
     ]
    },
    {
     "name": "stdout",
     "output_type": "stream",
     "text": [
      "Calculating Sentiment for:  dys8\n"
     ]
    },
    {
     "name": "stderr",
     "output_type": "stream",
     "text": [
      "\r",
      " 71%|████████████████████████████████████████████████████████▊                       | 494/696 [04:25<01:00,  3.34it/s]"
     ]
    },
    {
     "name": "stdout",
     "output_type": "stream",
     "text": [
      "Calculating Sentiment for:  contact\n"
     ]
    },
    {
     "name": "stderr",
     "output_type": "stream",
     "text": [
      "\r",
      " 71%|████████████████████████████████████████████████████████▉                       | 495/696 [04:26<01:14,  2.70it/s]"
     ]
    },
    {
     "name": "stdout",
     "output_type": "stream",
     "text": [
      "Calculating Sentiment for:  details\n"
     ]
    },
    {
     "name": "stderr",
     "output_type": "stream",
     "text": [
      " 71%|█████████████████████████████████████████████████████████▏                      | 497/696 [04:26<00:57,  3.45it/s]"
     ]
    },
    {
     "name": "stdout",
     "output_type": "stream",
     "text": [
      "Calculating Sentiment for:  unknowingly\n",
      "Calculating Sentiment for:  list\n"
     ]
    },
    {
     "name": "stderr",
     "output_type": "stream",
     "text": [
      " 72%|█████████████████████████████████████████████████████████▎                      | 499/696 [04:27<00:47,  4.18it/s]"
     ]
    },
    {
     "name": "stdout",
     "output_type": "stream",
     "text": [
      "Calculating Sentiment for:  nshotline\n",
      "Calculating Sentiment for:  message\n"
     ]
    },
    {
     "name": "stderr",
     "output_type": "stream",
     "text": [
      " 72%|█████████████████████████████████████████████████████████▌                      | 501/696 [04:27<00:38,  5.01it/s]"
     ]
    },
    {
     "name": "stdout",
     "output_type": "stream",
     "text": [
      "Calculating Sentiment for:  army\n",
      "Calculating Sentiment for:  men\n"
     ]
    },
    {
     "name": "stderr",
     "output_type": "stream",
     "text": [
      " 72%|█████████████████████████████████████████████████████████▊                      | 503/696 [04:28<00:40,  4.80it/s]"
     ]
    },
    {
     "name": "stdout",
     "output_type": "stream",
     "text": [
      "Calculating Sentiment for:  activity\n",
      "Calculating Sentiment for:  workyear\n"
     ]
    },
    {
     "name": "stderr",
     "output_type": "stream",
     "text": [
      " 73%|██████████████████████████████████████████████████████████                      | 505/696 [04:28<00:33,  5.74it/s]"
     ]
    },
    {
     "name": "stdout",
     "output_type": "stream",
     "text": [
      "Calculating Sentiment for:  hii\n",
      "Calculating Sentiment for:  status\n"
     ]
    },
    {
     "name": "stderr",
     "output_type": "stream",
     "text": [
      " 73%|██████████████████████████████████████████████████████████▎                     | 507/696 [04:29<00:45,  4.11it/s]"
     ]
    },
    {
     "name": "stdout",
     "output_type": "stream",
     "text": [
      "Calculating Sentiment for:  results\n",
      "Calculating Sentiment for:  nonictippt\n"
     ]
    },
    {
     "name": "stderr",
     "output_type": "stream",
     "text": [
      "\r",
      " 73%|██████████████████████████████████████████████████████████▍                     | 508/696 [04:29<00:42,  4.47it/s]"
     ]
    },
    {
     "name": "stdout",
     "output_type": "stream",
     "text": [
      "Calculating Sentiment for:  nonict\n"
     ]
    },
    {
     "name": "stderr",
     "output_type": "stream",
     "text": [
      " 73%|██████████████████████████████████████████████████████████▌                     | 510/696 [04:29<00:45,  4.09it/s]"
     ]
    },
    {
     "name": "stdout",
     "output_type": "stream",
     "text": [
      "Calculating Sentiment for:  live\n"
     ]
    },
    {
     "name": "stderr",
     "output_type": "stream",
     "text": [
      " 74%|██████████████████████████████████████████████████████████▊                     | 512/696 [04:30<00:35,  5.17it/s]"
     ]
    },
    {
     "name": "stdout",
     "output_type": "stream",
     "text": [
      "Calculating Sentiment for:  chatservice\n",
      "Calculating Sentiment for:  operator\n",
      "Calculating Sentiment for:  working\n"
     ]
    },
    {
     "name": "stderr",
     "output_type": "stream",
     "text": [
      " 74%|███████████████████████████████████████████████████████████                     | 514/696 [04:30<00:30,  6.02it/s]"
     ]
    },
    {
     "name": "stdout",
     "output_type": "stream",
     "text": [
      "Calculating Sentiment for:  helpful\n",
      "Calculating Sentiment for:  replies\n"
     ]
    },
    {
     "name": "stderr",
     "output_type": "stream",
     "text": [
      "\r",
      " 74%|███████████████████████████████████████████████████████████▏                    | 515/696 [04:30<00:36,  4.96it/s]"
     ]
    },
    {
     "name": "stdout",
     "output_type": "stream",
     "text": [
      "Calculating Sentiment for:  people\n"
     ]
    },
    {
     "name": "stderr",
     "output_type": "stream",
     "text": [
      " 74%|███████████████████████████████████████████████████████████▍                    | 517/696 [04:31<00:40,  4.47it/s]"
     ]
    },
    {
     "name": "stdout",
     "output_type": "stream",
     "text": [
      "Calculating Sentiment for:  rollercoaster\n",
      "Calculating Sentiment for:  jobless\n"
     ]
    },
    {
     "name": "stderr",
     "output_type": "stream",
     "text": [
      " 75%|███████████████████████████████████████████████████████████▋                    | 519/696 [04:31<00:32,  5.44it/s]"
     ]
    },
    {
     "name": "stdout",
     "output_type": "stream",
     "text": [
      "Calculating Sentiment for:  ll\n",
      "Calculating Sentiment for:  income\n"
     ]
    },
    {
     "name": "stderr",
     "output_type": "stream",
     "text": [
      "\r",
      " 75%|███████████████████████████████████████████████████████████▊                    | 520/696 [04:31<00:31,  5.52it/s]"
     ]
    },
    {
     "name": "stdout",
     "output_type": "stream",
     "text": [
      "Calculating Sentiment for:  s8_oc\n"
     ]
    },
    {
     "name": "stderr",
     "output_type": "stream",
     "text": [
      " 75%|████████████████████████████████████████████████████████████                    | 522/696 [04:32<00:43,  3.98it/s]"
     ]
    },
    {
     "name": "stdout",
     "output_type": "stream",
     "text": [
      "Calculating Sentiment for:  caseetc\n",
      "Calculating Sentiment for:  saturday\n"
     ]
    },
    {
     "name": "stderr",
     "output_type": "stream",
     "text": [
      "\r",
      " 75%|████████████████████████████████████████████████████████████                    | 523/696 [04:32<00:39,  4.42it/s]"
     ]
    },
    {
     "name": "stdout",
     "output_type": "stream",
     "text": [
      "Calculating Sentiment for:  vehicles\n"
     ]
    },
    {
     "name": "stderr",
     "output_type": "stream",
     "text": [
      " 75%|████████████████████████████████████████████████████████████▎                   | 525/696 [04:32<00:38,  4.45it/s]"
     ]
    },
    {
     "name": "stdout",
     "output_type": "stream",
     "text": [
      "Calculating Sentiment for:  website\n",
      "Calculating Sentiment for:  open\n"
     ]
    },
    {
     "name": "stderr",
     "output_type": "stream",
     "text": [
      " 76%|████████████████████████████████████████████████████████████▌                   | 527/696 [04:33<00:35,  4.71it/s]"
     ]
    },
    {
     "name": "stdout",
     "output_type": "stream",
     "text": [
      "Calculating Sentiment for:  ffi\n",
      "Calculating Sentiment for:  dundeclare\n"
     ]
    },
    {
     "name": "stderr",
     "output_type": "stream",
     "text": [
      " 76%|████████████████████████████████████████████████████████████▊                   | 529/696 [04:33<00:31,  5.24it/s]"
     ]
    },
    {
     "name": "stdout",
     "output_type": "stream",
     "text": [
      "Calculating Sentiment for:  times\n",
      "Calculating Sentiment for:  liao\n"
     ]
    },
    {
     "name": "stderr",
     "output_type": "stream",
     "text": [
      "\r",
      " 76%|████████████████████████████████████████████████████████████▉                   | 530/696 [04:34<00:40,  4.06it/s]"
     ]
    },
    {
     "name": "stdout",
     "output_type": "stream",
     "text": [
      "Calculating Sentiment for:  loans\n"
     ]
    },
    {
     "name": "stderr",
     "output_type": "stream",
     "text": [
      "\r",
      " 76%|█████████████████████████████████████████████████████████████                   | 531/696 [04:34<00:41,  3.96it/s]"
     ]
    },
    {
     "name": "stdout",
     "output_type": "stream",
     "text": [
      "Calculating Sentiment for:  fully\n"
     ]
    },
    {
     "name": "stderr",
     "output_type": "stream",
     "text": [
      " 77%|█████████████████████████████████████████████████████████████▎                  | 533/696 [04:35<00:47,  3.41it/s]"
     ]
    },
    {
     "name": "stdout",
     "output_type": "stream",
     "text": [
      "Calculating Sentiment for:  insurance\n",
      "Calculating Sentiment for:  likely\n"
     ]
    },
    {
     "name": "stderr",
     "output_type": "stream",
     "text": [
      "\r",
      " 77%|█████████████████████████████████████████████████████████████▍                  | 534/696 [04:35<00:51,  3.17it/s]"
     ]
    },
    {
     "name": "stdout",
     "output_type": "stream",
     "text": [
      "Calculating Sentiment for:  rtdefaulter\n"
     ]
    },
    {
     "name": "stderr",
     "output_type": "stream",
     "text": [
      " 77%|█████████████████████████████████████████████████████████████▌                  | 536/696 [04:35<00:41,  3.86it/s]"
     ]
    },
    {
     "name": "stdout",
     "output_type": "stream",
     "text": [
      "Calculating Sentiment for:  little\n",
      "Calculating Sentiment for:  piano\n"
     ]
    },
    {
     "name": "stderr",
     "output_type": "stream",
     "text": [
      "\r",
      " 77%|█████████████████████████████████████████████████████████████▋                  | 537/696 [04:36<00:35,  4.47it/s]"
     ]
    },
    {
     "name": "stdout",
     "output_type": "stream",
     "text": [
      "Calculating Sentiment for:  world\n"
     ]
    },
    {
     "name": "stderr",
     "output_type": "stream",
     "text": [
      " 77%|█████████████████████████████████████████████████████████████▉                  | 539/696 [04:36<00:35,  4.39it/s]"
     ]
    },
    {
     "name": "stdout",
     "output_type": "stream",
     "text": [
      "Calculating Sentiment for:  government\n",
      "Calculating Sentiment for:  safe\n"
     ]
    },
    {
     "name": "stderr",
     "output_type": "stream",
     "text": [
      "\r",
      " 78%|██████████████████████████████████████████████████████████████                  | 540/696 [04:36<00:37,  4.11it/s]"
     ]
    },
    {
     "name": "stdout",
     "output_type": "stream",
     "text": [
      "Calculating Sentiment for:  quite\n"
     ]
    },
    {
     "name": "stderr",
     "output_type": "stream",
     "text": [
      "\r",
      " 78%|██████████████████████████████████████████████████████████████▏                 | 541/696 [04:37<00:55,  2.77it/s]"
     ]
    },
    {
     "name": "stdout",
     "output_type": "stream",
     "text": [
      "Calculating Sentiment for:  yeari\n"
     ]
    },
    {
     "name": "stderr",
     "output_type": "stream",
     "text": [
      "\r",
      " 78%|██████████████████████████████████████████████████████████████▎                 | 542/696 [04:37<00:50,  3.04it/s]"
     ]
    },
    {
     "name": "stdout",
     "output_type": "stream",
     "text": [
      "Calculating Sentiment for:  jialat\n"
     ]
    },
    {
     "name": "stderr",
     "output_type": "stream",
     "text": [
      " 78%|██████████████████████████████████████████████████████████████▌                 | 544/696 [04:38<00:39,  3.86it/s]"
     ]
    },
    {
     "name": "stdout",
     "output_type": "stream",
     "text": [
      "Calculating Sentiment for:  wind\n",
      "Calculating Sentiment for:  alr\n"
     ]
    },
    {
     "name": "stderr",
     "output_type": "stream",
     "text": [
      " 78%|██████████████████████████████████████████████████████████████▊                 | 546/696 [04:38<00:43,  3.47it/s]"
     ]
    },
    {
     "name": "stdout",
     "output_type": "stream",
     "text": [
      "Calculating Sentiment for:  v\n",
      "Calculating Sentiment for:  heng\n"
     ]
    },
    {
     "name": "stderr",
     "output_type": "stream",
     "text": [
      "\r",
      " 79%|██████████████████████████████████████████████████████████████▊                 | 547/696 [04:39<00:36,  4.05it/s]"
     ]
    },
    {
     "name": "stdout",
     "output_type": "stream",
     "text": [
      "Calculating Sentiment for:  try\n"
     ]
    },
    {
     "name": "stderr",
     "output_type": "stream",
     "text": [
      "\r",
      " 79%|██████████████████████████████████████████████████████████████▉                 | 548/696 [04:39<00:37,  3.94it/s]"
     ]
    },
    {
     "name": "stdout",
     "output_type": "stream",
     "text": [
      "Calculating Sentiment for:  route\n"
     ]
    },
    {
     "name": "stderr",
     "output_type": "stream",
     "text": [
      " 79%|███████████████████████████████████████████████████████████████▏                | 550/696 [04:39<00:34,  4.27it/s]"
     ]
    },
    {
     "name": "stdout",
     "output_type": "stream",
     "text": [
      "Calculating Sentiment for:  static\n",
      "Calculating Sentiment for:  stations\n"
     ]
    },
    {
     "name": "stderr",
     "output_type": "stream",
     "text": [
      "\r",
      " 79%|███████████████████████████████████████████████████████████████▎                | 551/696 [04:39<00:29,  4.84it/s]"
     ]
    },
    {
     "name": "stdout",
     "output_type": "stream",
     "text": [
      "Calculating Sentiment for:  pretty\n"
     ]
    },
    {
     "name": "stderr",
     "output_type": "stream",
     "text": [
      " 79%|███████████████████████████████████████████████████████████████▌                | 553/696 [04:40<00:28,  5.07it/s]"
     ]
    },
    {
     "name": "stdout",
     "output_type": "stream",
     "text": [
      "Calculating Sentiment for:  look\n",
      "Calculating Sentiment for:  mindeffb\n"
     ]
    },
    {
     "name": "stderr",
     "output_type": "stream",
     "text": [
      " 80%|███████████████████████████████████████████████████████████████▊                | 555/696 [04:40<00:22,  6.16it/s]"
     ]
    },
    {
     "name": "stdout",
     "output_type": "stream",
     "text": [
      "Calculating Sentiment for:  available\n",
      "Calculating Sentiment for:  plan\n"
     ]
    },
    {
     "name": "stderr",
     "output_type": "stream",
     "text": [
      "\r",
      " 80%|███████████████████████████████████████████████████████████████▉                | 556/696 [04:40<00:31,  4.38it/s]"
     ]
    },
    {
     "name": "stdout",
     "output_type": "stream",
     "text": [
      "Calculating Sentiment for:  confused\n"
     ]
    },
    {
     "name": "stderr",
     "output_type": "stream",
     "text": [
      " 80%|████████████████████████████████████████████████████████████████▏               | 558/696 [04:41<00:33,  4.14it/s]"
     ]
    },
    {
     "name": "stdout",
     "output_type": "stream",
     "text": [
      "Calculating Sentiment for:  think\n",
      "Calculating Sentiment for:  mindef_saf\n"
     ]
    },
    {
     "name": "stderr",
     "output_type": "stream",
     "text": [
      "\r",
      " 80%|████████████████████████████████████████████████████████████████▎               | 559/696 [04:42<00:50,  2.73it/s]"
     ]
    },
    {
     "name": "stdout",
     "output_type": "stream",
     "text": [
      "Calculating Sentiment for:  stupid\n"
     ]
    },
    {
     "name": "stderr",
     "output_type": "stream",
     "text": [
      " 81%|████████████████████████████████████████████████████████████████▍               | 561/696 [04:42<00:38,  3.50it/s]"
     ]
    },
    {
     "name": "stdout",
     "output_type": "stream",
     "text": [
      "Calculating Sentiment for:  anyway\n",
      "Calculating Sentiment for:  oct\n"
     ]
    },
    {
     "name": "stderr",
     "output_type": "stream",
     "text": [
      " 81%|████████████████████████████████████████████████████████████████▋               | 563/696 [04:42<00:28,  4.66it/s]"
     ]
    },
    {
     "name": "stdout",
     "output_type": "stream",
     "text": [
      "Calculating Sentiment for:  mid\n",
      "Calculating Sentiment for:  fccs\n"
     ]
    },
    {
     "name": "stderr",
     "output_type": "stream",
     "text": [
      "\r",
      " 81%|████████████████████████████████████████████████████████████████▊               | 564/696 [04:43<00:25,  5.26it/s]"
     ]
    },
    {
     "name": "stdout",
     "output_type": "stream",
     "text": [
      "Calculating Sentiment for:  lockers\n"
     ]
    },
    {
     "name": "stderr",
     "output_type": "stream",
     "text": [
      "\r",
      " 81%|████████████████████████████████████████████████████████████████▉               | 565/696 [04:43<00:27,  4.69it/s]"
     ]
    },
    {
     "name": "stdout",
     "output_type": "stream",
     "text": [
      "Calculating Sentiment for:  distance\n"
     ]
    },
    {
     "name": "stderr",
     "output_type": "stream",
     "text": [
      " 81%|█████████████████████████████████████████████████████████████████▏              | 567/696 [04:43<00:30,  4.21it/s]"
     ]
    },
    {
     "name": "stdout",
     "output_type": "stream",
     "text": [
      "Calculating Sentiment for:  someone\n",
      "Calculating Sentiment for:  exact\n"
     ]
    },
    {
     "name": "stderr",
     "output_type": "stream",
     "text": [
      "\r",
      " 82%|█████████████████████████████████████████████████████████████████▎              | 568/696 [04:44<00:27,  4.66it/s]"
     ]
    },
    {
     "name": "stdout",
     "output_type": "stream",
     "text": [
      "Calculating Sentiment for:  guards\n"
     ]
    },
    {
     "name": "stderr",
     "output_type": "stream",
     "text": [
      " 82%|█████████████████████████████████████████████████████████████████▌              | 570/696 [04:44<00:26,  4.74it/s]"
     ]
    },
    {
     "name": "stdout",
     "output_type": "stream",
     "text": [
      "Calculating Sentiment for:  true\n",
      "Calculating Sentiment for:  poly\n"
     ]
    },
    {
     "name": "stderr",
     "output_type": "stream",
     "text": [
      "\r",
      " 82%|█████████████████████████████████████████████████████████████████▋              | 571/696 [04:44<00:24,  5.14it/s]"
     ]
    },
    {
     "name": "stdout",
     "output_type": "stream",
     "text": [
      "Calculating Sentiment for:  batch\n"
     ]
    },
    {
     "name": "stderr",
     "output_type": "stream",
     "text": [
      " 82%|█████████████████████████████████████████████████████████████████▊              | 573/696 [04:44<00:23,  5.30it/s]"
     ]
    },
    {
     "name": "stdout",
     "output_type": "stream",
     "text": [
      "Calculating Sentiment for:  jcbatch\n",
      "Calculating Sentiment for:  mob\n"
     ]
    },
    {
     "name": "stderr",
     "output_type": "stream",
     "text": [
      " 83%|██████████████████████████████████████████████████████████████████              | 575/696 [04:45<00:20,  5.95it/s]"
     ]
    },
    {
     "name": "stdout",
     "output_type": "stream",
     "text": [
      "Calculating Sentiment for:  unfortunately\n",
      "Calculating Sentiment for:  applies\n"
     ]
    },
    {
     "name": "stderr",
     "output_type": "stream",
     "text": [
      " 83%|██████████████████████████████████████████████████████████████████▎             | 577/696 [04:45<00:22,  5.23it/s]"
     ]
    },
    {
     "name": "stdout",
     "output_type": "stream",
     "text": [
      "Calculating Sentiment for:  tget\n",
      "Calculating Sentiment for:  d\n"
     ]
    },
    {
     "name": "stderr",
     "output_type": "stream",
     "text": [
      " 83%|██████████████████████████████████████████████████████████████████▌             | 579/696 [04:46<00:20,  5.75it/s]"
     ]
    },
    {
     "name": "stdout",
     "output_type": "stream",
     "text": [
      "Calculating Sentiment for:  oot\n",
      "Calculating Sentiment for:  sia\n"
     ]
    },
    {
     "name": "stderr",
     "output_type": "stream",
     "text": [
      " 83%|██████████████████████████████████████████████████████████████████▊             | 581/696 [04:46<00:18,  6.18it/s]"
     ]
    },
    {
     "name": "stdout",
     "output_type": "stream",
     "text": [
      "Calculating Sentiment for:  parents\n",
      "Calculating Sentiment for:  jokingly\n"
     ]
    },
    {
     "name": "stderr",
     "output_type": "stream",
     "text": [
      "\r",
      " 84%|██████████████████████████████████████████████████████████████████▉             | 582/696 [04:46<00:22,  5.14it/s]"
     ]
    },
    {
     "name": "stdout",
     "output_type": "stream",
     "text": [
      "Calculating Sentiment for:  tekan\n"
     ]
    },
    {
     "name": "stderr",
     "output_type": "stream",
     "text": [
      "\r",
      " 84%|███████████████████████████████████████████████████████████████████             | 583/696 [04:47<00:28,  3.91it/s]"
     ]
    },
    {
     "name": "stdout",
     "output_type": "stream",
     "text": [
      "Calculating Sentiment for:  guy\n"
     ]
    },
    {
     "name": "stderr",
     "output_type": "stream",
     "text": [
      " 84%|███████████████████████████████████████████████████████████████████▏            | 585/696 [04:47<00:28,  3.85it/s]"
     ]
    },
    {
     "name": "stdout",
     "output_type": "stream",
     "text": [
      "Calculating Sentiment for:  ripsia\n",
      "Calculating Sentiment for:  siayeah\n"
     ]
    },
    {
     "name": "stderr",
     "output_type": "stream",
     "text": [
      "\r",
      " 84%|███████████████████████████████████████████████████████████████████▎            | 586/696 [04:47<00:25,  4.26it/s]"
     ]
    },
    {
     "name": "stdout",
     "output_type": "stream",
     "text": [
      "Calculating Sentiment for:  chronic\n"
     ]
    },
    {
     "name": "stderr",
     "output_type": "stream",
     "text": [
      "\r",
      " 84%|███████████████████████████████████████████████████████████████████▍            | 587/696 [04:48<00:25,  4.29it/s]"
     ]
    },
    {
     "name": "stdout",
     "output_type": "stream",
     "text": [
      "Calculating Sentiment for:  skincondition\n"
     ]
    },
    {
     "name": "stderr",
     "output_type": "stream",
     "text": [
      " 85%|███████████████████████████████████████████████████████████████████▋            | 589/696 [04:48<00:21,  4.91it/s]"
     ]
    },
    {
     "name": "stdout",
     "output_type": "stream",
     "text": [
      "Calculating Sentiment for:  doubt\n",
      "Calculating Sentiment for:  condition\n"
     ]
    },
    {
     "name": "stderr",
     "output_type": "stream",
     "text": [
      "\r",
      " 85%|███████████████████████████████████████████████████████████████████▊            | 590/696 [04:48<00:20,  5.16it/s]"
     ]
    },
    {
     "name": "stdout",
     "output_type": "stream",
     "text": [
      "Calculating Sentiment for:  serious\n"
     ]
    },
    {
     "name": "stderr",
     "output_type": "stream",
     "text": [
      "\r",
      " 85%|███████████████████████████████████████████████████████████████████▉            | 591/696 [04:48<00:24,  4.27it/s]"
     ]
    },
    {
     "name": "stdout",
     "output_type": "stream",
     "text": [
      "Calculating Sentiment for:  suck\n"
     ]
    },
    {
     "name": "stderr",
     "output_type": "stream",
     "text": [
      " 85%|████████████████████████████████████████████████████████████████████▏           | 593/696 [04:49<00:20,  5.01it/s]"
     ]
    },
    {
     "name": "stdout",
     "output_type": "stream",
     "text": [
      "Calculating Sentiment for:  studying\n",
      "Calculating Sentiment for:  hospitaldoc\n"
     ]
    },
    {
     "name": "stderr",
     "output_type": "stream",
     "text": [
      "\r",
      " 85%|████████████████████████████████████████████████████████████████████▎           | 594/696 [04:49<00:19,  5.33it/s]"
     ]
    },
    {
     "name": "stdout",
     "output_type": "stream",
     "text": [
      "Calculating Sentiment for:  board\n"
     ]
    },
    {
     "name": "stderr",
     "output_type": "stream",
     "text": [
      " 86%|████████████████████████████████████████████████████████████████████▌           | 596/696 [04:50<00:32,  3.08it/s]"
     ]
    },
    {
     "name": "stdout",
     "output_type": "stream",
     "text": [
      "Calculating Sentiment for:  mmidoctor\n",
      "Calculating Sentiment for:  docs\n"
     ]
    },
    {
     "name": "stderr",
     "output_type": "stream",
     "text": [
      " 86%|████████████████████████████████████████████████████████████████████▋           | 598/696 [04:50<00:22,  4.36it/s]"
     ]
    },
    {
     "name": "stdout",
     "output_type": "stream",
     "text": [
      "Calculating Sentiment for:  doc\n",
      "Calculating Sentiment for:  officially\n"
     ]
    },
    {
     "name": "stderr",
     "output_type": "stream",
     "text": [
      " 86%|████████████████████████████████████████████████████████████████████▉           | 600/696 [04:51<00:17,  5.42it/s]"
     ]
    },
    {
     "name": "stdout",
     "output_type": "stream",
     "text": [
      "Calculating Sentiment for:  doctors\n",
      "Calculating Sentiment for:  ball\n"
     ]
    },
    {
     "name": "stderr",
     "output_type": "stream",
     "text": [
      "\r",
      " 86%|█████████████████████████████████████████████████████████████████████           | 601/696 [04:51<00:15,  6.02it/s]"
     ]
    },
    {
     "name": "stdout",
     "output_type": "stream",
     "text": [
      "Calculating Sentiment for:  queue\n"
     ]
    },
    {
     "name": "stderr",
     "output_type": "stream",
     "text": [
      " 87%|█████████████████████████████████████████████████████████████████████▎          | 603/696 [04:51<00:16,  5.67it/s]"
     ]
    },
    {
     "name": "stdout",
     "output_type": "stream",
     "text": [
      "Calculating Sentiment for:  generally\n",
      "Calculating Sentiment for:  govt\n"
     ]
    },
    {
     "name": "stderr",
     "output_type": "stream",
     "text": [
      "\r",
      " 87%|█████████████████████████████████████████████████████████████████████▍          | 604/696 [04:51<00:15,  5.98it/s]"
     ]
    },
    {
     "name": "stdout",
     "output_type": "stream",
     "text": [
      "Calculating Sentiment for:  fine\n"
     ]
    },
    {
     "name": "stderr",
     "output_type": "stream",
     "text": [
      " 87%|█████████████████████████████████████████████████████████████████████▋          | 606/696 [04:52<00:17,  5.07it/s]"
     ]
    },
    {
     "name": "stdout",
     "output_type": "stream",
     "text": [
      "Calculating Sentiment for:  penny\n",
      "Calculating Sentiment for:  poor\n"
     ]
    },
    {
     "name": "stderr",
     "output_type": "stream",
     "text": [
      "\r",
      " 87%|█████████████████████████████████████████████████████████████████████▊          | 607/696 [04:52<00:16,  5.46it/s]"
     ]
    },
    {
     "name": "stdout",
     "output_type": "stream",
     "text": [
      "Calculating Sentiment for:  recruit\n"
     ]
    },
    {
     "name": "stderr",
     "output_type": "stream",
     "text": [
      "\r",
      " 87%|█████████████████████████████████████████████████████████████████████▉          | 608/696 [04:52<00:17,  5.09it/s]"
     ]
    },
    {
     "name": "stdout",
     "output_type": "stream",
     "text": [
      "Calculating Sentiment for:  mpcommander\n"
     ]
    },
    {
     "name": "stderr",
     "output_type": "stream",
     "text": [
      " 88%|██████████████████████████████████████████████████████████████████████          | 610/696 [04:52<00:16,  5.17it/s]"
     ]
    },
    {
     "name": "stdout",
     "output_type": "stream",
     "text": [
      "Calculating Sentiment for:  mp\n",
      "Calculating Sentiment for:  stay\n"
     ]
    },
    {
     "name": "stderr",
     "output_type": "stream",
     "text": [
      "\r",
      " 88%|██████████████████████████████████████████████████████████████████████▏         | 611/696 [04:53<00:18,  4.55it/s]"
     ]
    },
    {
     "name": "stdout",
     "output_type": "stream",
     "text": [
      "Calculating Sentiment for:  xiong\n"
     ]
    },
    {
     "name": "stderr",
     "output_type": "stream",
     "text": [
      " 88%|██████████████████████████████████████████████████████████████████████▍         | 613/696 [04:53<00:20,  4.12it/s]"
     ]
    },
    {
     "name": "stdout",
     "output_type": "stream",
     "text": [
      "Calculating Sentiment for:  etc\n",
      "Calculating Sentiment for:  navy\n"
     ]
    },
    {
     "name": "stderr",
     "output_type": "stream",
     "text": [
      " 88%|██████████████████████████████████████████████████████████████████████▋         | 615/696 [04:54<00:18,  4.36it/s]"
     ]
    },
    {
     "name": "stdout",
     "output_type": "stream",
     "text": [
      "Calculating Sentiment for:  correctly\n",
      "Calculating Sentiment for:  sweaty\n"
     ]
    },
    {
     "name": "stderr",
     "output_type": "stream",
     "text": [
      " 89%|██████████████████████████████████████████████████████████████████████▉         | 617/696 [04:54<00:15,  4.95it/s]"
     ]
    },
    {
     "name": "stdout",
     "output_type": "stream",
     "text": [
      "Calculating Sentiment for:  palms\n"
     ]
    },
    {
     "name": "stderr",
     "output_type": "stream",
     "text": [
      " 89%|███████████████████████████████████████████████████████████████████████▏        | 619/696 [04:55<00:14,  5.22it/s]"
     ]
    },
    {
     "name": "stdout",
     "output_type": "stream",
     "text": [
      "Calculating Sentiment for:  gloves\n",
      "Calculating Sentiment for:  vocations\n",
      "Calculating Sentiment for:  human\n"
     ]
    },
    {
     "name": "stderr",
     "output_type": "stream",
     "text": [
      "\r",
      " 89%|███████████████████████████████████████████████████████████████████████▎        | 620/696 [04:55<00:12,  5.93it/s]"
     ]
    },
    {
     "name": "stdout",
     "output_type": "stream",
     "text": [
      "Calculating Sentiment for:  intake\n"
     ]
    },
    {
     "name": "stderr",
     "output_type": "stream",
     "text": [
      " 89%|███████████████████████████████████████████████████████████████████████▍        | 622/696 [04:55<00:12,  5.83it/s]"
     ]
    },
    {
     "name": "stdout",
     "output_type": "stream",
     "text": [
      "Calculating Sentiment for:  hospilization\n",
      "Calculating Sentiment for:  coy\n"
     ]
    },
    {
     "name": "stderr",
     "output_type": "stream",
     "text": [
      "\r",
      " 90%|███████████████████████████████████████████████████████████████████████▌        | 623/696 [04:55<00:11,  6.33it/s]"
     ]
    },
    {
     "name": "stdout",
     "output_type": "stream",
     "text": [
      "Calculating Sentiment for:  pop\n"
     ]
    },
    {
     "name": "stderr",
     "output_type": "stream",
     "text": [
      " 90%|███████████████████████████████████████████████████████████████████████▊        | 625/696 [04:56<00:15,  4.53it/s]"
     ]
    },
    {
     "name": "stdout",
     "output_type": "stream",
     "text": [
      "Calculating Sentiment for:  half\n",
      "Calculating Sentiment for:  helps\n"
     ]
    },
    {
     "name": "stderr",
     "output_type": "stream",
     "text": [
      " 90%|████████████████████████████████████████████████████████████████████████        | 627/696 [04:56<00:12,  5.60it/s]"
     ]
    },
    {
     "name": "stdout",
     "output_type": "stream",
     "text": [
      "Calculating Sentiment for:  news\n",
      "Calculating Sentiment for:  jcgrade\n"
     ]
    },
    {
     "name": "stderr",
     "output_type": "stream",
     "text": [
      "\r",
      " 90%|████████████████████████████████████████████████████████████████████████▏       | 628/696 [04:56<00:11,  5.91it/s]"
     ]
    },
    {
     "name": "stdout",
     "output_type": "stream",
     "text": [
      "Calculating Sentiment for:  grades\n"
     ]
    },
    {
     "name": "stderr",
     "output_type": "stream",
     "text": [
      " 91%|████████████████████████████████████████████████████████████████████████▍       | 630/696 [04:57<00:15,  4.37it/s]"
     ]
    },
    {
     "name": "stdout",
     "output_type": "stream",
     "text": [
      "Calculating Sentiment for:  jc\n",
      "Calculating Sentiment for:  cdec\n"
     ]
    },
    {
     "name": "stderr",
     "output_type": "stream",
     "text": [
      " 91%|████████████████████████████████████████████████████████████████████████▋       | 632/696 [04:57<00:12,  5.25it/s]"
     ]
    },
    {
     "name": "stdout",
     "output_type": "stream",
     "text": [
      "Calculating Sentiment for:  decently\n",
      "Calculating Sentiment for:  secsch\n"
     ]
    },
    {
     "name": "stderr",
     "output_type": "stream",
     "text": [
      "\r",
      " 91%|████████████████████████████████████████████████████████████████████████▊       | 633/696 [04:57<00:11,  5.55it/s]"
     ]
    },
    {
     "name": "stdout",
     "output_type": "stream",
     "text": [
      "Calculating Sentiment for:  schtho\n"
     ]
    },
    {
     "name": "stderr",
     "output_type": "stream",
     "text": [
      "\r",
      " 91%|████████████████████████████████████████████████████████████████████████▊       | 634/696 [04:58<00:16,  3.73it/s]"
     ]
    },
    {
     "name": "stdout",
     "output_type": "stream",
     "text": [
      "Calculating Sentiment for:  cdo\n"
     ]
    },
    {
     "name": "stderr",
     "output_type": "stream",
     "text": [
      " 91%|█████████████████████████████████████████████████████████████████████████       | 636/696 [04:58<00:14,  4.12it/s]"
     ]
    },
    {
     "name": "stdout",
     "output_type": "stream",
     "text": [
      "Calculating Sentiment for:  postpoly\n",
      "Calculating Sentiment for:  random\n"
     ]
    },
    {
     "name": "stderr",
     "output_type": "stream",
     "text": [
      " 92%|█████████████████████████████████████████████████████████████████████████▎      | 638/696 [04:59<00:13,  4.45it/s]"
     ]
    },
    {
     "name": "stdout",
     "output_type": "stream",
     "text": [
      "Calculating Sentiment for:  b2\n",
      "Calculating Sentiment for:  commando\n"
     ]
    },
    {
     "name": "stderr",
     "output_type": "stream",
     "text": [
      " 92%|█████████████████████████████████████████████████████████████████████████▌      | 640/696 [04:59<00:13,  4.30it/s]"
     ]
    },
    {
     "name": "stdout",
     "output_type": "stream",
     "text": [
      "Calculating Sentiment for:  interest\n",
      "Calculating Sentiment for:  c\n"
     ]
    },
    {
     "name": "stderr",
     "output_type": "stream",
     "text": [
      "\r",
      " 92%|█████████████████████████████████████████████████████████████████████████▋      | 641/696 [04:59<00:11,  4.77it/s]"
     ]
    },
    {
     "name": "stdout",
     "output_type": "stream",
     "text": [
      "Calculating Sentiment for:  mild\n"
     ]
    },
    {
     "name": "stderr",
     "output_type": "stream",
     "text": [
      "\r",
      " 92%|█████████████████████████████████████████████████████████████████████████▊      | 642/696 [05:00<00:12,  4.21it/s]"
     ]
    },
    {
     "name": "stdout",
     "output_type": "stream",
     "text": [
      "Calculating Sentiment for:  forgot\n"
     ]
    },
    {
     "name": "stderr",
     "output_type": "stream",
     "text": [
      "\r",
      " 92%|█████████████████████████████████████████████████████████████████████████▉      | 643/696 [05:00<00:12,  4.12it/s]"
     ]
    },
    {
     "name": "stdout",
     "output_type": "stream",
     "text": [
      "Calculating Sentiment for:  bmt\n"
     ]
    },
    {
     "name": "stderr",
     "output_type": "stream",
     "text": [
      " 93%|██████████████████████████████████████████████████████████████████████████▏     | 645/696 [05:00<00:13,  3.76it/s]"
     ]
    },
    {
     "name": "stdout",
     "output_type": "stream",
     "text": [
      "Calculating Sentiment for:  interview\n",
      "Calculating Sentiment for:  leap\n"
     ]
    },
    {
     "name": "stderr",
     "output_type": "stream",
     "text": [
      " 93%|██████████████████████████████████████████████████████████████████████████▎     | 647/696 [05:01<00:11,  4.34it/s]"
     ]
    },
    {
     "name": "stdout",
     "output_type": "stream",
     "text": [
      "Calculating Sentiment for:  extra\n",
      "Calculating Sentiment for:  oil\n"
     ]
    },
    {
     "name": "stderr",
     "output_type": "stream",
     "text": [
      " 93%|██████████████████████████████████████████████████████████████████████████▌     | 649/696 [05:01<00:09,  4.78it/s]"
     ]
    },
    {
     "name": "stdout",
     "output_type": "stream",
     "text": [
      "Calculating Sentiment for:  additional\n",
      "Calculating Sentiment for:  vocational\n"
     ]
    },
    {
     "name": "stderr",
     "output_type": "stream",
     "text": [
      " 94%|██████████████████████████████████████████████████████████████████████████▊     | 651/696 [05:02<00:07,  5.71it/s]"
     ]
    },
    {
     "name": "stdout",
     "output_type": "stream",
     "text": [
      "Calculating Sentiment for:  journey\n",
      "Calculating Sentiment for:  bed\n"
     ]
    },
    {
     "name": "stderr",
     "output_type": "stream",
     "text": [
      " 94%|███████████████████████████████████████████████████████████████████████████     | 653/696 [05:02<00:08,  4.91it/s]"
     ]
    },
    {
     "name": "stdout",
     "output_type": "stream",
     "text": [
      "Calculating Sentiment for:  cock\n",
      "Calculating Sentiment for:  logically\n"
     ]
    },
    {
     "name": "stderr",
     "output_type": "stream",
     "text": [
      " 94%|███████████████████████████████████████████████████████████████████████████▎    | 655/696 [05:02<00:07,  5.65it/s]"
     ]
    },
    {
     "name": "stdout",
     "output_type": "stream",
     "text": [
      "Calculating Sentiment for:  excuse\n",
      "Calculating Sentiment for:  keyboard\n"
     ]
    },
    {
     "name": "stderr",
     "output_type": "stream",
     "text": [
      " 94%|███████████████████████████████████████████████████████████████████████████▌    | 657/696 [05:03<00:05,  6.58it/s]"
     ]
    },
    {
     "name": "stdout",
     "output_type": "stream",
     "text": [
      "Calculating Sentiment for:  favor\n",
      "Calculating Sentiment for:  technically\n"
     ]
    },
    {
     "name": "stderr",
     "output_type": "stream",
     "text": [
      " 95%|███████████████████████████████████████████████████████████████████████████▋    | 659/696 [05:03<00:05,  7.18it/s]"
     ]
    },
    {
     "name": "stdout",
     "output_type": "stream",
     "text": [
      "Calculating Sentiment for:  anything\n",
      "Calculating Sentiment for:  request\n"
     ]
    },
    {
     "name": "stderr",
     "output_type": "stream",
     "text": [
      "\r",
      " 95%|███████████████████████████████████████████████████████████████████████████▊    | 660/696 [05:03<00:06,  5.86it/s]"
     ]
    },
    {
     "name": "stdout",
     "output_type": "stream",
     "text": [
      "Calculating Sentiment for:  military\n"
     ]
    },
    {
     "name": "stderr",
     "output_type": "stream",
     "text": [
      "\r",
      " 95%|███████████████████████████████████████████████████████████████████████████▉    | 661/696 [05:03<00:06,  5.33it/s]"
     ]
    },
    {
     "name": "stdout",
     "output_type": "stream",
     "text": [
      "Calculating Sentiment for:  regimentation\n"
     ]
    },
    {
     "name": "stderr",
     "output_type": "stream",
     "text": [
      " 95%|████████████████████████████████████████████████████████████████████████████▏   | 663/696 [05:04<00:06,  5.02it/s]"
     ]
    },
    {
     "name": "stdout",
     "output_type": "stream",
     "text": [
      "Calculating Sentiment for:  wellbeing\n",
      "Calculating Sentiment for:  decision\n"
     ]
    },
    {
     "name": "stderr",
     "output_type": "stream",
     "text": [
      " 96%|████████████████████████████████████████████████████████████████████████████▍   | 665/696 [05:04<00:06,  4.98it/s]"
     ]
    },
    {
     "name": "stdout",
     "output_type": "stream",
     "text": [
      "Calculating Sentiment for:  ultimately\n",
      "Calculating Sentiment for:  public\n"
     ]
    },
    {
     "name": "stderr",
     "output_type": "stream",
     "text": [
      "\r",
      " 96%|████████████████████████████████████████████████████████████████████████████▌   | 666/696 [05:05<00:06,  4.66it/s]"
     ]
    },
    {
     "name": "stdout",
     "output_type": "stream",
     "text": [
      "Calculating Sentiment for:  specialistmemo\n"
     ]
    },
    {
     "name": "stderr",
     "output_type": "stream",
     "text": [
      " 96%|████████████████████████████████████████████████████████████████████████████▊   | 668/696 [05:05<00:06,  4.22it/s]"
     ]
    },
    {
     "name": "stdout",
     "output_type": "stream",
     "text": [
      "Calculating Sentiment for:  recruitmentcenter\n"
     ]
    },
    {
     "name": "stderr",
     "output_type": "stream",
     "text": [
      " 96%|█████████████████████████████████████████████████████████████████████████████   | 670/696 [05:06<00:06,  3.77it/s]"
     ]
    },
    {
     "name": "stdout",
     "output_type": "stream",
     "text": [
      "Calculating Sentiment for:  centerbro\n",
      "Calculating Sentiment for:  assault\n",
      "Calculating Sentiment for:  packs\n"
     ]
    },
    {
     "name": "stderr",
     "output_type": "stream",
     "text": [
      "\r",
      " 96%|█████████████████████████████████████████████████████████████████████████████▏  | 671/696 [05:06<00:06,  3.62it/s]"
     ]
    },
    {
     "name": "stdout",
     "output_type": "stream",
     "text": [
      "Calculating Sentiment for:  bags\n"
     ]
    },
    {
     "name": "stderr",
     "output_type": "stream",
     "text": [
      "\r",
      " 97%|█████████████████████████████████████████████████████████████████████████████▏  | 672/696 [05:06<00:06,  3.60it/s]"
     ]
    },
    {
     "name": "stdout",
     "output_type": "stream",
     "text": [
      "Calculating Sentiment for:  tspew\n"
     ]
    },
    {
     "name": "stderr",
     "output_type": "stream",
     "text": [
      "\r",
      " 97%|█████████████████████████████████████████████████████████████████████████████▎  | 673/696 [05:07<00:06,  3.79it/s]"
     ]
    },
    {
     "name": "stdout",
     "output_type": "stream",
     "text": [
      "Calculating Sentiment for:  spewnonsense\n"
     ]
    },
    {
     "name": "stderr",
     "output_type": "stream",
     "text": [
      " 97%|█████████████████████████████████████████████████████████████████████████████▌  | 675/696 [05:07<00:04,  4.45it/s]"
     ]
    },
    {
     "name": "stdout",
     "output_type": "stream",
     "text": [
      "Calculating Sentiment for:  ncc\n",
      "Calculating Sentiment for:  infantry\n"
     ]
    },
    {
     "name": "stderr",
     "output_type": "stream",
     "text": [
      "\r",
      " 97%|█████████████████████████████████████████████████████████████████████████████▋  | 676/696 [05:07<00:03,  5.01it/s]"
     ]
    },
    {
     "name": "stdout",
     "output_type": "stream",
     "text": [
      "Calculating Sentiment for:  term\n"
     ]
    },
    {
     "name": "stderr",
     "output_type": "stream",
     "text": [
      "\r",
      " 97%|█████████████████████████████████████████████████████████████████████████████▊  | 677/696 [05:07<00:04,  4.49it/s]"
     ]
    },
    {
     "name": "stdout",
     "output_type": "stream",
     "text": [
      "Calculating Sentiment for:  shotts\n"
     ]
    },
    {
     "name": "stderr",
     "output_type": "stream",
     "text": [
      "\r",
      " 97%|█████████████████████████████████████████████████████████████████████████████▉  | 678/696 [05:08<00:04,  3.67it/s]"
     ]
    },
    {
     "name": "stdout",
     "output_type": "stream",
     "text": [
      "Calculating Sentiment for:  source\n"
     ]
    },
    {
     "name": "stderr",
     "output_type": "stream",
     "text": [
      " 98%|██████████████████████████████████████████████████████████████████████████████▏ | 680/696 [05:08<00:04,  3.80it/s]"
     ]
    },
    {
     "name": "stdout",
     "output_type": "stream",
     "text": [
      "Calculating Sentiment for:  transporthr\n",
      "Calculating Sentiment for:  typical\n"
     ]
    },
    {
     "name": "stderr",
     "output_type": "stream",
     "text": [
      " 98%|██████████████████████████████████████████████████████████████████████████████▍ | 682/696 [05:09<00:03,  4.30it/s]"
     ]
    },
    {
     "name": "stdout",
     "output_type": "stream",
     "text": [
      "Calculating Sentiment for:  chaokeng\n",
      "Calculating Sentiment for:  kengloser\n"
     ]
    },
    {
     "name": "stderr",
     "output_type": "stream",
     "text": [
      " 98%|██████████████████████████████████████████████████████████████████████████████▌ | 684/696 [05:09<00:02,  4.59it/s]"
     ]
    },
    {
     "name": "stdout",
     "output_type": "stream",
     "text": [
      "Calculating Sentiment for:  profile\n",
      "Calculating Sentiment for:  fun\n"
     ]
    },
    {
     "name": "stderr",
     "output_type": "stream",
     "text": [
      " 99%|██████████████████████████████████████████████████████████████████████████████▊ | 686/696 [05:09<00:01,  5.46it/s]"
     ]
    },
    {
     "name": "stdout",
     "output_type": "stream",
     "text": [
      "Calculating Sentiment for:  bottom\n",
      "Calculating Sentiment for:  bitch\n"
     ]
    },
    {
     "name": "stderr",
     "output_type": "stream",
     "text": [
      "\r",
      " 99%|██████████████████████████████████████████████████████████████████████████████▉ | 687/696 [05:10<00:01,  4.91it/s]"
     ]
    },
    {
     "name": "stdout",
     "output_type": "stream",
     "text": [
      "Calculating Sentiment for:  warmachine\n"
     ]
    },
    {
     "name": "stderr",
     "output_type": "stream",
     "text": [
      " 99%|███████████████████████████████████████████████████████████████████████████████▏| 689/696 [05:10<00:01,  4.86it/s]"
     ]
    },
    {
     "name": "stdout",
     "output_type": "stream",
     "text": [
      "Calculating Sentiment for:  whats\n",
      "Calculating Sentiment for:  special\n"
     ]
    },
    {
     "name": "stderr",
     "output_type": "stream",
     "text": [
      " 99%|███████████████████████████████████████████████████████████████████████████████▍| 691/696 [05:10<00:00,  5.55it/s]"
     ]
    },
    {
     "name": "stdout",
     "output_type": "stream",
     "text": [
      "Calculating Sentiment for:  toilets\n",
      "Calculating Sentiment for:  nice\n"
     ]
    },
    {
     "name": "stderr",
     "output_type": "stream",
     "text": [
      "100%|███████████████████████████████████████████████████████████████████████████████▋| 693/696 [05:11<00:00,  6.26it/s]"
     ]
    },
    {
     "name": "stdout",
     "output_type": "stream",
     "text": [
      "Calculating Sentiment for:  ahi\n",
      "Calculating Sentiment for:  companies\n"
     ]
    },
    {
     "name": "stderr",
     "output_type": "stream",
     "text": [
      "\r",
      "100%|███████████████████████████████████████████████████████████████████████████████▊| 694/696 [05:11<00:00,  4.36it/s]"
     ]
    },
    {
     "name": "stdout",
     "output_type": "stream",
     "text": [
      "Calculating Sentiment for:  recruits\n"
     ]
    },
    {
     "name": "stderr",
     "output_type": "stream",
     "text": [
      "100%|████████████████████████████████████████████████████████████████████████████████| 696/696 [05:12<00:00,  2.22it/s]"
     ]
    },
    {
     "name": "stdout",
     "output_type": "stream",
     "text": [
      "Calculating Sentiment for:  dumb\n"
     ]
    },
    {
     "name": "stderr",
     "output_type": "stream",
     "text": [
      "\n"
     ]
    }
   ],
   "source": [
    "a1 = copy.deepcopy(a)\n",
    "b1 = copy.deepcopy(b)\n",
    "no_singlish, no_singlish_desc = get_sentiment(a1, b1, nlp)"
   ]
  },
  {
   "cell_type": "code",
   "execution_count": 13,
   "id": "broken-norman",
   "metadata": {
    "scrolled": true
   },
   "outputs": [
    {
     "name": "stderr",
     "output_type": "stream",
     "text": [
      "  0%|                                                                                  | 1/696 [00:00<01:52,  6.17it/s]"
     ]
    },
    {
     "name": "stdout",
     "output_type": "stream",
     "text": [
      "Singlish dict initialised\n",
      "Calculating Sentiment for:  outstanding\n",
      "Calculating Sentiment for:  medics\n"
     ]
    },
    {
     "name": "stderr",
     "output_type": "stream",
     "text": [
      "  0%|▎                                                                                 | 3/696 [00:00<01:39,  6.94it/s]"
     ]
    },
    {
     "name": "stdout",
     "output_type": "stream",
     "text": [
      "Calculating Sentiment for:  sian\n",
      "Calculating Sentiment for:  figure\n",
      "Calculating Sentiment for:  dununderstand\n"
     ]
    },
    {
     "name": "stderr",
     "output_type": "stream",
     "text": [
      "\r",
      "  1%|▌                                                                                 | 5/696 [00:00<01:29,  7.73it/s]"
     ]
    },
    {
     "name": "stdout",
     "output_type": "stream",
     "text": [
      "Calculating Sentiment for:  understandsian\n"
     ]
    },
    {
     "name": "stderr",
     "output_type": "stream",
     "text": [
      "\r",
      "  1%|▋                                                                                 | 6/696 [00:00<01:48,  6.34it/s]"
     ]
    },
    {
     "name": "stdout",
     "output_type": "stream",
     "text": [
      "Calculating Sentiment for:  not\n"
     ]
    },
    {
     "name": "stderr",
     "output_type": "stream",
     "text": [
      "\r",
      "  1%|▊                                                                                 | 7/696 [00:05<15:51,  1.38s/it]"
     ]
    },
    {
     "name": "stdout",
     "output_type": "stream",
     "text": [
      "Calculating Sentiment for:  book\n"
     ]
    },
    {
     "name": "stderr",
     "output_type": "stream",
     "text": [
      "\r",
      "  1%|▉                                                                                 | 8/696 [00:10<27:30,  2.40s/it]"
     ]
    },
    {
     "name": "stdout",
     "output_type": "stream",
     "text": [
      "Calculating Sentiment for:  ippt\n"
     ]
    },
    {
     "name": "stderr",
     "output_type": "stream",
     "text": [
      "\r",
      "  1%|█                                                                                 | 9/696 [00:15<36:39,  3.20s/it]"
     ]
    },
    {
     "name": "stdout",
     "output_type": "stream",
     "text": [
      "Calculating Sentiment for:  instead\n",
      "Calculating Sentiment for:  then\n"
     ]
    },
    {
     "name": "stderr",
     "output_type": "stream",
     "text": [
      "\r",
      "  2%|█▎                                                                               | 11/696 [00:17<25:00,  2.19s/it]"
     ]
    },
    {
     "name": "stdout",
     "output_type": "stream",
     "text": [
      "Calculating Sentiment for:  requirements\n"
     ]
    },
    {
     "name": "stderr",
     "output_type": "stream",
     "text": [
      "\r",
      "  2%|█▍                                                                               | 12/696 [00:17<19:39,  1.72s/it]"
     ]
    },
    {
     "name": "stdout",
     "output_type": "stream",
     "text": [
      "Calculating Sentiment for:  even\n"
     ]
    },
    {
     "name": "stderr",
     "output_type": "stream",
     "text": [
      "  2%|█▋                                                                               | 14/696 [00:18<11:55,  1.05s/it]"
     ]
    },
    {
     "name": "stdout",
     "output_type": "stream",
     "text": [
      "Calculating Sentiment for:  s\n",
      "Calculating Sentiment for:  still\n"
     ]
    },
    {
     "name": "stderr",
     "output_type": "stream",
     "text": [
      "\r",
      "  2%|█▋                                                                               | 15/696 [00:20<16:57,  1.49s/it]"
     ]
    },
    {
     "name": "stdout",
     "output_type": "stream",
     "text": [
      "Calculating Sentiment for:  ipptwindow\n"
     ]
    },
    {
     "name": "stderr",
     "output_type": "stream",
     "text": [
      "\r",
      "  2%|█▊                                                                               | 16/696 [00:21<14:40,  1.29s/it]"
     ]
    },
    {
     "name": "stdout",
     "output_type": "stream",
     "text": [
      "Calculating Sentiment for:  only\n"
     ]
    },
    {
     "name": "stderr",
     "output_type": "stream",
     "text": [
      "\r",
      "  2%|█▉                                                                               | 17/696 [00:23<18:00,  1.59s/it]"
     ]
    },
    {
     "name": "stdout",
     "output_type": "stream",
     "text": [
      "Calculating Sentiment for:  day\n"
     ]
    },
    {
     "name": "stderr",
     "output_type": "stream",
     "text": [
      "\r",
      "  3%|██                                                                               | 18/696 [00:24<13:43,  1.21s/it]"
     ]
    },
    {
     "name": "stdout",
     "output_type": "stream",
     "text": [
      "Calculating Sentiment for:  unit\n"
     ]
    },
    {
     "name": "stderr",
     "output_type": "stream",
     "text": [
      "  3%|██▎                                                                              | 20/696 [00:24<08:22,  1.35it/s]"
     ]
    },
    {
     "name": "stdout",
     "output_type": "stream",
     "text": [
      "Calculating Sentiment for:  commanders\n",
      "Calculating Sentiment for:  here\n"
     ]
    },
    {
     "name": "stderr",
     "output_type": "stream",
     "text": [
      "\r",
      "  3%|██▍                                                                              | 21/696 [00:25<07:53,  1.42it/s]"
     ]
    },
    {
     "name": "stdout",
     "output_type": "stream",
     "text": [
      "Calculating Sentiment for:  however\n"
     ]
    },
    {
     "name": "stderr",
     "output_type": "stream",
     "text": [
      "\r",
      "  3%|██▌                                                                              | 22/696 [00:25<07:06,  1.58it/s]"
     ]
    },
    {
     "name": "stdout",
     "output_type": "stream",
     "text": [
      "Calculating Sentiment for:  such\n"
     ]
    },
    {
     "name": "stderr",
     "output_type": "stream",
     "text": [
      "\r",
      "  3%|██▋                                                                              | 23/696 [00:26<06:41,  1.67it/s]"
     ]
    },
    {
     "name": "stdout",
     "output_type": "stream",
     "text": [
      "Calculating Sentiment for:  information\n"
     ]
    },
    {
     "name": "stderr",
     "output_type": "stream",
     "text": [
      "\r",
      "  3%|██▊                                                                              | 24/696 [00:26<05:33,  2.01it/s]"
     ]
    },
    {
     "name": "stdout",
     "output_type": "stream",
     "text": [
      "Calculating Sentiment for:  osa\n",
      "Calculating Sentiment for:  otherwise\n"
     ]
    },
    {
     "name": "stderr",
     "output_type": "stream",
     "text": [
      "  4%|███▏                                                                             | 27/696 [00:27<03:36,  3.09it/s]"
     ]
    },
    {
     "name": "stdout",
     "output_type": "stream",
     "text": [
      "Calculating Sentiment for:  related\n"
     ]
    },
    {
     "name": "stderr",
     "output_type": "stream",
     "text": [
      "\r",
      "  4%|███▎                                                                             | 28/696 [00:27<03:07,  3.55it/s]"
     ]
    },
    {
     "name": "stdout",
     "output_type": "stream",
     "text": [
      "Calculating Sentiment for:  offences\n",
      "Calculating Sentiment for:  recently\n"
     ]
    },
    {
     "name": "stderr",
     "output_type": "stream",
     "text": [
      "\r",
      "  4%|███▍                                                                             | 29/696 [00:27<03:11,  3.49it/s]"
     ]
    },
    {
     "name": "stdout",
     "output_type": "stream",
     "text": [
      "Calculating Sentiment for:  paramedic\n",
      "Calculating Sentiment for:  info\n"
     ]
    },
    {
     "name": "stderr",
     "output_type": "stream",
     "text": [
      "  5%|███▋                                                                             | 32/696 [00:28<02:32,  4.36it/s]"
     ]
    },
    {
     "name": "stdout",
     "output_type": "stream",
     "text": [
      "Calculating Sentiment for:  nevertheless\n",
      "Calculating Sentiment for:  company\n"
     ]
    },
    {
     "name": "stderr",
     "output_type": "stream",
     "text": [
      "  5%|███▉                                                                             | 34/696 [00:28<02:34,  4.28it/s]"
     ]
    },
    {
     "name": "stdout",
     "output_type": "stream",
     "text": [
      "Calculating Sentiment for:  furthermore\n",
      "Calculating Sentiment for:  thread\n"
     ]
    },
    {
     "name": "stderr",
     "output_type": "stream",
     "text": [
      "\r",
      "  5%|████                                                                             | 35/696 [00:29<02:50,  3.88it/s]"
     ]
    },
    {
     "name": "stdout",
     "output_type": "stream",
     "text": [
      "Calculating Sentiment for:  sure\n"
     ]
    },
    {
     "name": "stderr",
     "output_type": "stream",
     "text": [
      "  5%|████▎                                                                            | 37/696 [00:29<02:46,  3.96it/s]"
     ]
    },
    {
     "name": "stdout",
     "output_type": "stream",
     "text": [
      "Calculating Sentiment for:  topic\n",
      "Calculating Sentiment for:  feedback\n"
     ]
    },
    {
     "name": "stderr",
     "output_type": "stream",
     "text": [
      "\r",
      "  5%|████▍                                                                            | 38/696 [00:29<02:27,  4.45it/s]"
     ]
    },
    {
     "name": "stdout",
     "output_type": "stream",
     "text": [
      "Calculating Sentiment for:  never\n"
     ]
    },
    {
     "name": "stderr",
     "output_type": "stream",
     "text": [
      "\r",
      "  6%|████▌                                                                            | 39/696 [00:30<03:28,  3.14it/s]"
     ]
    },
    {
     "name": "stdout",
     "output_type": "stream",
     "text": [
      "Calculating Sentiment for:  answers\n"
     ]
    },
    {
     "name": "stderr",
     "output_type": "stream",
     "text": [
      "  6%|████▊                                                                            | 41/696 [00:30<03:08,  3.48it/s]"
     ]
    },
    {
     "name": "stdout",
     "output_type": "stream",
     "text": [
      "Calculating Sentiment for:  promptly\n",
      "Calculating Sentiment for:  also\n"
     ]
    },
    {
     "name": "stderr",
     "output_type": "stream",
     "text": [
      "  6%|█████                                                                            | 43/696 [00:33<06:33,  1.66it/s]"
     ]
    },
    {
     "name": "stdout",
     "output_type": "stream",
     "text": [
      "Calculating Sentiment for:  upcoming\n",
      "Calculating Sentiment for:  stint\n"
     ]
    },
    {
     "name": "stderr",
     "output_type": "stream",
     "text": [
      "\r",
      "  6%|█████                                                                            | 44/696 [00:33<05:03,  2.15it/s]"
     ]
    },
    {
     "name": "stdout",
     "output_type": "stream",
     "text": [
      "Calculating Sentiment for:  nsf\n"
     ]
    },
    {
     "name": "stderr",
     "output_type": "stream",
     "text": [
      "\r",
      "  6%|█████▏                                                                           | 45/696 [00:33<04:33,  2.38it/s]"
     ]
    },
    {
     "name": "stdout",
     "output_type": "stream",
     "text": [
      "Calculating Sentiment for:  saf\n"
     ]
    },
    {
     "name": "stderr",
     "output_type": "stream",
     "text": [
      "\r",
      "  7%|█████▎                                                                           | 46/696 [00:33<04:08,  2.62it/s]"
     ]
    },
    {
     "name": "stdout",
     "output_type": "stream",
     "text": [
      "Calculating Sentiment for:  mr\n"
     ]
    },
    {
     "name": "stderr",
     "output_type": "stream",
     "text": [
      "\r",
      "  7%|█████▍                                                                           | 47/696 [00:34<03:44,  2.89it/s]"
     ]
    },
    {
     "name": "stdout",
     "output_type": "stream",
     "text": [
      "Calculating Sentiment for:  already\n"
     ]
    },
    {
     "name": "stderr",
     "output_type": "stream",
     "text": [
      "\r",
      "  7%|█████▌                                                                           | 48/696 [00:35<07:20,  1.47it/s]"
     ]
    },
    {
     "name": "stdout",
     "output_type": "stream",
     "text": [
      "Calculating Sentiment for:  everything\n"
     ]
    },
    {
     "name": "stderr",
     "output_type": "stream",
     "text": [
      "  7%|█████▊                                                                           | 50/696 [00:36<05:15,  2.05it/s]"
     ]
    },
    {
     "name": "stdout",
     "output_type": "stream",
     "text": [
      "Calculating Sentiment for:  questions\n",
      "Calculating Sentiment for:  guideline\n"
     ]
    },
    {
     "name": "stderr",
     "output_type": "stream",
     "text": [
      "\r",
      "  7%|█████▉                                                                           | 51/696 [00:36<04:16,  2.51it/s]"
     ]
    },
    {
     "name": "stdout",
     "output_type": "stream",
     "text": [
      "Calculating Sentiment for:  really\n"
     ]
    },
    {
     "name": "stderr",
     "output_type": "stream",
     "text": [
      "\r",
      "  7%|██████                                                                           | 52/696 [00:37<07:21,  1.46it/s]"
     ]
    },
    {
     "name": "stdout",
     "output_type": "stream",
     "text": [
      "Calculating Sentiment for:  comprehensive\n"
     ]
    },
    {
     "name": "stderr",
     "output_type": "stream",
     "text": [
      "\r",
      "  8%|██████▏                                                                          | 53/696 [00:38<06:17,  1.71it/s]"
     ]
    },
    {
     "name": "stdout",
     "output_type": "stream",
     "text": [
      "Calculating Sentiment for:  i\n"
     ]
    },
    {
     "name": "stderr",
     "output_type": "stream",
     "text": [
      "  8%|██████▍                                                                          | 55/696 [01:00<54:08,  5.07s/it]"
     ]
    },
    {
     "name": "stdout",
     "output_type": "stream",
     "text": [
      "Calculating Sentiment for:  short\n",
      "Calculating Sentiment for:  compression\n"
     ]
    },
    {
     "name": "stderr",
     "output_type": "stream",
     "text": [
      "\r",
      "  8%|██████▌                                                                          | 56/696 [01:00<38:18,  3.59s/it]"
     ]
    },
    {
     "name": "stdout",
     "output_type": "stream",
     "text": [
      "Calculating Sentiment for:  tights\n"
     ]
    },
    {
     "name": "stderr",
     "output_type": "stream",
     "text": [
      "\r",
      "  8%|██████▋                                                                          | 57/696 [01:01<28:12,  2.65s/it]"
     ]
    },
    {
     "name": "stdout",
     "output_type": "stream",
     "text": [
      "Calculating Sentiment for:  wear\n"
     ]
    },
    {
     "name": "stderr",
     "output_type": "stream",
     "text": [
      "\r",
      "  8%|██████▊                                                                          | 58/696 [01:01<21:08,  1.99s/it]"
     ]
    },
    {
     "name": "stdout",
     "output_type": "stream",
     "text": [
      "Calculating Sentiment for:  pants\n"
     ]
    },
    {
     "name": "stderr",
     "output_type": "stream",
     "text": [
      "\r",
      "  8%|██████▊                                                                          | 59/696 [01:02<15:40,  1.48s/it]"
     ]
    },
    {
     "name": "stdout",
     "output_type": "stream",
     "text": [
      "Calculating Sentiment for:  groin\n"
     ]
    },
    {
     "name": "stderr",
     "output_type": "stream",
     "text": [
      "\r",
      "  9%|██████▉                                                                          | 60/696 [01:02<11:49,  1.12s/it]"
     ]
    },
    {
     "name": "stdout",
     "output_type": "stream",
     "text": [
      "Calculating Sentiment for:  female\n"
     ]
    },
    {
     "name": "stderr",
     "output_type": "stream",
     "text": [
      "\r",
      "  9%|███████                                                                          | 61/696 [01:02<09:16,  1.14it/s]"
     ]
    },
    {
     "name": "stdout",
     "output_type": "stream",
     "text": [
      "Calculating Sentiment for:  instructors\n"
     ]
    },
    {
     "name": "stderr",
     "output_type": "stream",
     "text": [
      "  9%|███████▎                                                                         | 63/696 [01:03<06:25,  1.64it/s]"
     ]
    },
    {
     "name": "stdout",
     "output_type": "stream",
     "text": [
      "Calculating Sentiment for:  present\n",
      "Calculating Sentiment for:  just\n"
     ]
    },
    {
     "name": "stderr",
     "output_type": "stream",
     "text": [
      "\r",
      "  9%|███████▍                                                                         | 64/696 [01:07<16:40,  1.58s/it]"
     ]
    },
    {
     "name": "stdout",
     "output_type": "stream",
     "text": [
      "Calculating Sentiment for:  long\n"
     ]
    },
    {
     "name": "stderr",
     "output_type": "stream",
     "text": [
      "\r",
      "  9%|███████▌                                                                         | 65/696 [01:08<15:24,  1.46s/it]"
     ]
    },
    {
     "name": "stdout",
     "output_type": "stream",
     "text": [
      "Calculating Sentiment for:  singlet\n"
     ]
    },
    {
     "name": "stderr",
     "output_type": "stream",
     "text": [
      "\r",
      "  9%|███████▋                                                                         | 66/696 [01:08<11:44,  1.12s/it]"
     ]
    },
    {
     "name": "stdout",
     "output_type": "stream",
     "text": [
      "Calculating Sentiment for:  enough\n"
     ]
    },
    {
     "name": "stderr",
     "output_type": "stream",
     "text": [
      " 10%|███████▉                                                                         | 68/696 [01:09<07:41,  1.36it/s]"
     ]
    },
    {
     "name": "stdout",
     "output_type": "stream",
     "text": [
      "Calculating Sentiment for:  calf\n",
      "Calculating Sentiment for:  sleeves\n"
     ]
    },
    {
     "name": "stderr",
     "output_type": "stream",
     "text": [
      " 10%|████████▏                                                                        | 70/696 [01:10<04:49,  2.16it/s]"
     ]
    },
    {
     "name": "stdout",
     "output_type": "stream",
     "text": [
      "Calculating Sentiment for:  minimum\n",
      "Calculating Sentiment for:  items\n"
     ]
    },
    {
     "name": "stderr",
     "output_type": "stream",
     "text": [
      " 10%|████████▍                                                                        | 72/696 [01:10<03:26,  3.03it/s]"
     ]
    },
    {
     "name": "stdout",
     "output_type": "stream",
     "text": [
      "Calculating Sentiment for:  funky_banana\n",
      "Calculating Sentiment for:  idea\n",
      "Calculating Sentiment for:  colour\n"
     ]
    },
    {
     "name": "stderr",
     "output_type": "stream",
     "text": [
      "\r",
      " 11%|████████▌                                                                        | 74/696 [01:10<02:11,  4.74it/s]"
     ]
    },
    {
     "name": "stdout",
     "output_type": "stream",
     "text": [
      "Calculating Sentiment for:  tags\n"
     ]
    },
    {
     "name": "stderr",
     "output_type": "stream",
     "text": [
      "\r",
      " 11%|████████▋                                                                        | 75/696 [01:10<02:26,  4.25it/s]"
     ]
    },
    {
     "name": "stdout",
     "output_type": "stream",
     "text": [
      "Calculating Sentiment for:  ipt\n"
     ]
    },
    {
     "name": "stderr",
     "output_type": "stream",
     "text": [
      " 11%|████████▉                                                                        | 77/696 [01:14<07:59,  1.29it/s]"
     ]
    },
    {
     "name": "stdout",
     "output_type": "stream",
     "text": [
      "Calculating Sentiment for:  yellow\n",
      "Calculating Sentiment for:  blue\n"
     ]
    },
    {
     "name": "stderr",
     "output_type": "stream",
     "text": [
      "\r",
      " 11%|█████████                                                                        | 78/696 [01:14<06:09,  1.67it/s]"
     ]
    },
    {
     "name": "stdout",
     "output_type": "stream",
     "text": [
      "Calculating Sentiment for:  red\n",
      "Calculating Sentiment for:  green\n"
     ]
    },
    {
     "name": "stderr",
     "output_type": "stream",
     "text": [
      " 12%|█████████▍                                                                       | 81/696 [01:15<03:54,  2.63it/s]"
     ]
    },
    {
     "name": "stdout",
     "output_type": "stream",
     "text": [
      "Calculating Sentiment for:  strength\n",
      "Calculating Sentiment for:  upper\n"
     ]
    },
    {
     "name": "stderr",
     "output_type": "stream",
     "text": [
      "\r",
      " 12%|█████████▌                                                                       | 82/696 [01:15<03:16,  3.13it/s]"
     ]
    },
    {
     "name": "stdout",
     "output_type": "stream",
     "text": [
      "Calculating Sentiment for:  body\n"
     ]
    },
    {
     "name": "stderr",
     "output_type": "stream",
     "text": [
      " 12%|█████████▊                                                                       | 84/696 [01:15<02:36,  3.92it/s]"
     ]
    },
    {
     "name": "stdout",
     "output_type": "stream",
     "text": [
      "Calculating Sentiment for:  mostly\n",
      "Calculating Sentiment for:  pushups\n"
     ]
    },
    {
     "name": "stderr",
     "output_type": "stream",
     "text": [
      " 12%|██████████                                                                       | 86/696 [01:15<02:06,  4.82it/s]"
     ]
    },
    {
     "name": "stdout",
     "output_type": "stream",
     "text": [
      "Calculating Sentiment for:  bells\n",
      "Calculating Sentiment for:  bars\n"
     ]
    },
    {
     "name": "stderr",
     "output_type": "stream",
     "text": [
      " 13%|██████████▏                                                                      | 88/696 [01:16<01:49,  5.57it/s]"
     ]
    },
    {
     "name": "stdout",
     "output_type": "stream",
     "text": [
      "Calculating Sentiment for:  imo\n",
      "Calculating Sentiment for:  intensive\n"
     ]
    },
    {
     "name": "stderr",
     "output_type": "stream",
     "text": [
      "\r",
      " 13%|██████████▎                                                                      | 89/696 [01:16<01:41,  5.97it/s]"
     ]
    },
    {
     "name": "stdout",
     "output_type": "stream",
     "text": [
      "Calculating Sentiment for:  version\n"
     ]
    },
    {
     "name": "stderr",
     "output_type": "stream",
     "text": [
      " 13%|██████████▌                                                                      | 91/696 [01:16<01:54,  5.28it/s]"
     ]
    },
    {
     "name": "stdout",
     "output_type": "stream",
     "text": [
      "Calculating Sentiment for:  aerobic\n",
      "Calculating Sentiment for:  fitness\n"
     ]
    },
    {
     "name": "stderr",
     "output_type": "stream",
     "text": [
      " 13%|██████████▊                                                                      | 93/696 [01:17<01:47,  5.59it/s]"
     ]
    },
    {
     "name": "stdout",
     "output_type": "stream",
     "text": [
      "Calculating Sentiment for:  trainers\n",
      "Calculating Sentiment for:  usually\n"
     ]
    },
    {
     "name": "stderr",
     "output_type": "stream",
     "text": [
      "\r",
      " 14%|██████████▉                                                                      | 94/696 [01:17<02:58,  3.37it/s]"
     ]
    },
    {
     "name": "stdout",
     "output_type": "stream",
     "text": [
      "Calculating Sentiment for:  bit\n"
     ]
    },
    {
     "name": "stderr",
     "output_type": "stream",
     "text": [
      "\r",
      " 14%|███████████                                                                      | 95/696 [01:18<02:56,  3.41it/s]"
     ]
    },
    {
     "name": "stdout",
     "output_type": "stream",
     "text": [
      "Calculating Sentiment for:  other\n"
     ]
    },
    {
     "name": "stderr",
     "output_type": "stream",
     "text": [
      " 14%|███████████▍                                                                     | 98/696 [01:18<02:04,  4.81it/s]"
     ]
    },
    {
     "name": "stdout",
     "output_type": "stream",
     "text": [
      "Calculating Sentiment for:  exercises\n",
      "Calculating Sentiment for:  things\n",
      "Calculating Sentiment for:  weightmanagement\n"
     ]
    },
    {
     "name": "stderr",
     "output_type": "stream",
     "text": [
      "\r",
      " 14%|███████████▌                                                                     | 99/696 [01:18<02:12,  4.51it/s]"
     ]
    },
    {
     "name": "stdout",
     "output_type": "stream",
     "text": [
      "Calculating Sentiment for:  managementprogramme\n"
     ]
    },
    {
     "name": "stderr",
     "output_type": "stream",
     "text": [
      " 15%|███████████▌                                                                    | 101/696 [01:19<02:03,  4.81it/s]"
     ]
    },
    {
     "name": "stdout",
     "output_type": "stream",
     "text": [
      "Calculating Sentiment for:  obese\n",
      "Calculating Sentiment for:  personnel\n"
     ]
    },
    {
     "name": "stderr",
     "output_type": "stream",
     "text": [
      " 15%|███████████▊                                                                    | 103/696 [01:19<01:41,  5.84it/s]"
     ]
    },
    {
     "name": "stdout",
     "output_type": "stream",
     "text": [
      "Calculating Sentiment for:  purple\n",
      "Calculating Sentiment for:  tag\n"
     ]
    },
    {
     "name": "stderr",
     "output_type": "stream",
     "text": [
      "\r",
      " 15%|███████████▉                                                                    | 104/696 [01:19<02:18,  4.27it/s]"
     ]
    },
    {
     "name": "stdout",
     "output_type": "stream",
     "text": [
      "Calculating Sentiment for:  as\n"
     ]
    },
    {
     "name": "stderr",
     "output_type": "stream",
     "text": [
      " 15%|████████████▏                                                                   | 106/696 [01:20<02:44,  3.59it/s]"
     ]
    },
    {
     "name": "stdout",
     "output_type": "stream",
     "text": [
      "Calculating Sentiment for:  well\n"
     ]
    },
    {
     "name": "stderr",
     "output_type": "stream",
     "text": [
      " 16%|████████████▍                                                                   | 108/696 [01:21<02:15,  4.35it/s]"
     ]
    },
    {
     "name": "stdout",
     "output_type": "stream",
     "text": [
      "Calculating Sentiment for:  classes\n",
      "Calculating Sentiment for:  kpop\n"
     ]
    },
    {
     "name": "stderr",
     "output_type": "stream",
     "text": [
      "\r",
      " 16%|████████████▌                                                                   | 109/696 [01:21<02:01,  4.84it/s]"
     ]
    },
    {
     "name": "stdout",
     "output_type": "stream",
     "text": [
      "Calculating Sentiment for:  aerobics\n",
      "Calculating Sentiment for:  anyone\n"
     ]
    },
    {
     "name": "stderr",
     "output_type": "stream",
     "text": [
      "\r",
      " 16%|████████████▋                                                                   | 110/696 [01:22<05:17,  1.85it/s]"
     ]
    },
    {
     "name": "stdout",
     "output_type": "stream",
     "text": [
      "Calculating Sentiment for:  same\n"
     ]
    },
    {
     "name": "stderr",
     "output_type": "stream",
     "text": [
      " 16%|████████████▊                                                                   | 112/696 [01:23<05:22,  1.81it/s]"
     ]
    },
    {
     "name": "stdout",
     "output_type": "stream",
     "text": [
      "Calculating Sentiment for:  too\n",
      "Calculating Sentiment for:  recorded\n"
     ]
    },
    {
     "name": "stderr",
     "output_type": "stream",
     "text": [
      "\r",
      " 16%|████████████▉                                                                   | 113/696 [01:23<04:15,  2.28it/s]"
     ]
    },
    {
     "name": "stdout",
     "output_type": "stream",
     "text": [
      "Calculating Sentiment for:  attendance\n"
     ]
    },
    {
     "name": "stderr",
     "output_type": "stream",
     "text": [
      "\r",
      " 16%|█████████████                                                                   | 114/696 [01:24<03:56,  2.46it/s]"
     ]
    },
    {
     "name": "stdout",
     "output_type": "stream",
     "text": [
      "Calculating Sentiment for:  ns\n"
     ]
    },
    {
     "name": "stderr",
     "output_type": "stream",
     "text": [
      "\r",
      " 17%|█████████████▏                                                                  | 115/696 [01:25<06:35,  1.47it/s]"
     ]
    },
    {
     "name": "stdout",
     "output_type": "stream",
     "text": [
      "Calculating Sentiment for:  booklet\n"
     ]
    },
    {
     "name": "stderr",
     "output_type": "stream",
     "text": [
      "\r",
      " 17%|█████████████▎                                                                  | 116/696 [01:25<05:23,  1.79it/s]"
     ]
    },
    {
     "name": "stdout",
     "output_type": "stream",
     "text": [
      "Calculating Sentiment for:  portal\n"
     ]
    },
    {
     "name": "stderr",
     "output_type": "stream",
     "text": [
      "\r",
      " 17%|█████████████▍                                                                  | 117/696 [01:26<06:46,  1.42it/s]"
     ]
    },
    {
     "name": "stdout",
     "output_type": "stream",
     "text": [
      "Calculating Sentiment for:  rmb\n",
      "Calculating Sentiment for:  rtippt\n"
     ]
    },
    {
     "name": "stderr",
     "output_type": "stream",
     "text": [
      "\r",
      " 17%|█████████████▋                                                                  | 119/696 [01:27<04:19,  2.22it/s]"
     ]
    },
    {
     "name": "stdout",
     "output_type": "stream",
     "text": [
      "Calculating Sentiment for:  so\n"
     ]
    },
    {
     "name": "stderr",
     "output_type": "stream",
     "text": [
      "\r",
      " 17%|█████████████▊                                                                  | 120/696 [01:29<08:38,  1.11it/s]"
     ]
    },
    {
     "name": "stdout",
     "output_type": "stream",
     "text": [
      "Calculating Sentiment for:  clear\n"
     ]
    },
    {
     "name": "stderr",
     "output_type": "stream",
     "text": [
      "\r",
      " 17%|█████████████▉                                                                  | 121/696 [01:31<11:02,  1.15s/it]"
     ]
    },
    {
     "name": "stdout",
     "output_type": "stream",
     "text": [
      "Calculating Sentiment for:  rt\n"
     ]
    },
    {
     "name": "stderr",
     "output_type": "stream",
     "text": [
      "\r",
      " 18%|██████████████                                                                  | 122/696 [01:32<11:50,  1.24s/it]"
     ]
    },
    {
     "name": "stdout",
     "output_type": "stream",
     "text": [
      "Calculating Sentiment for:  first\n"
     ]
    },
    {
     "name": "stderr",
     "output_type": "stream",
     "text": [
      "\r",
      " 18%|██████████████▏                                                                 | 123/696 [01:34<12:56,  1.36s/it]"
     ]
    },
    {
     "name": "stdout",
     "output_type": "stream",
     "text": [
      "Calculating Sentiment for:  rest\n",
      "Calculating Sentiment for:  window\n"
     ]
    },
    {
     "name": "stderr",
     "output_type": "stream",
     "text": [
      "\r",
      " 18%|██████████████▎                                                                 | 125/696 [01:38<16:29,  1.73s/it]"
     ]
    },
    {
     "name": "stdout",
     "output_type": "stream",
     "text": [
      "Calculating Sentiment for:  closes\n"
     ]
    },
    {
     "name": "stderr",
     "output_type": "stream",
     "text": [
      "\r",
      " 18%|██████████████▍                                                                 | 126/696 [01:39<13:13,  1.39s/it]"
     ]
    },
    {
     "name": "stdout",
     "output_type": "stream",
     "text": [
      "Calculating Sentiment for:  feb\n",
      "Calculating Sentiment for:  t\n"
     ]
    },
    {
     "name": "stderr",
     "output_type": "stream",
     "text": [
      " 19%|██████████████▊                                                                 | 129/696 [01:39<07:11,  1.32it/s]"
     ]
    },
    {
     "name": "stdout",
     "output_type": "stream",
     "text": [
      "Calculating Sentiment for:  lor\n",
      "Calculating Sentiment for:  affect\n",
      "Calculating Sentiment for:  thing\n"
     ]
    },
    {
     "name": "stderr",
     "output_type": "stream",
     "text": [
      " 19%|███████████████▏                                                                | 132/696 [01:40<04:10,  2.25it/s]"
     ]
    },
    {
     "name": "stdout",
     "output_type": "stream",
     "text": [
      "Calculating Sentiment for:  meaning\n",
      "Calculating Sentiment for:  ok\n"
     ]
    },
    {
     "name": "stderr",
     "output_type": "stream",
     "text": [
      " 19%|███████████████▌                                                                | 135/696 [01:40<02:27,  3.80it/s]"
     ]
    },
    {
     "name": "stdout",
     "output_type": "stream",
     "text": [
      "Calculating Sentiment for:  thank\n",
      "Calculating Sentiment for:  tomorrowresume\n",
      "Calculating Sentiment for:  ipt_rt\n"
     ]
    },
    {
     "name": "stderr",
     "output_type": "stream",
     "text": [
      " 20%|███████████████▋                                                                | 137/696 [01:41<02:08,  4.37it/s]"
     ]
    },
    {
     "name": "stdout",
     "output_type": "stream",
     "text": [
      "Calculating Sentiment for:  hopeeveryone\n",
      "Calculating Sentiment for:  much\n"
     ]
    },
    {
     "name": "stderr",
     "output_type": "stream",
     "text": [
      "\r",
      " 20%|███████████████▊                                                                | 138/696 [01:42<03:57,  2.35it/s]"
     ]
    },
    {
     "name": "stdout",
     "output_type": "stream",
     "text": [
      "Calculating Sentiment for:  n't\n"
     ]
    },
    {
     "name": "stderr",
     "output_type": "stream",
     "text": [
      " 20%|████████████████                                                                | 140/696 [01:45<08:14,  1.13it/s]"
     ]
    },
    {
     "name": "stdout",
     "output_type": "stream",
     "text": [
      "Calculating Sentiment for:  sense\n",
      "Calculating Sentiment for:  defaulters\n"
     ]
    },
    {
     "name": "stderr",
     "output_type": "stream",
     "text": [
      "\r",
      " 20%|████████████████▏                                                               | 141/696 [01:45<06:16,  1.47it/s]"
     ]
    },
    {
     "name": "stdout",
     "output_type": "stream",
     "text": [
      "Calculating Sentiment for:  many\n"
     ]
    },
    {
     "name": "stderr",
     "output_type": "stream",
     "text": [
      "\r",
      " 20%|████████████████▎                                                               | 142/696 [01:47<08:22,  1.10it/s]"
     ]
    },
    {
     "name": "stdout",
     "output_type": "stream",
     "text": [
      "Calculating Sentiment for:  suppose\n"
     ]
    },
    {
     "name": "stderr",
     "output_type": "stream",
     "text": [
      " 21%|████████████████▌                                                               | 144/696 [01:47<05:12,  1.77it/s]"
     ]
    },
    {
     "name": "stdout",
     "output_type": "stream",
     "text": [
      "Calculating Sentiment for:  u\n",
      "Calculating Sentiment for:  saf100\n"
     ]
    },
    {
     "name": "stderr",
     "output_type": "stream",
     "text": [
      " 21%|████████████████▊                                                               | 146/696 [01:47<03:15,  2.82it/s]"
     ]
    },
    {
     "name": "stdout",
     "output_type": "stream",
     "text": [
      "Calculating Sentiment for:  monetary\n",
      "Calculating Sentiment for:  rewards\n"
     ]
    },
    {
     "name": "stderr",
     "output_type": "stream",
     "text": [
      "\r",
      " 21%|████████████████▉                                                               | 147/696 [01:48<03:13,  2.84it/s]"
     ]
    },
    {
     "name": "stdout",
     "output_type": "stream",
     "text": [
      "Calculating Sentiment for:  able\n"
     ]
    },
    {
     "name": "stderr",
     "output_type": "stream",
     "text": [
      " 21%|█████████████████▏                                                              | 149/696 [01:48<03:04,  2.96it/s]"
     ]
    },
    {
     "name": "stdout",
     "output_type": "stream",
     "text": [
      "Calculating Sentiment for:  rtwindow\n",
      "Calculating Sentiment for:  month\n"
     ]
    },
    {
     "name": "stderr",
     "output_type": "stream",
     "text": [
      " 22%|█████████████████▎                                                              | 151/696 [01:49<02:09,  4.19it/s]"
     ]
    },
    {
     "name": "stdout",
     "output_type": "stream",
     "text": [
      "Calculating Sentiment for:  kena\n",
      "Calculating Sentiment for:  next\n"
     ]
    },
    {
     "name": "stderr",
     "output_type": "stream",
     "text": [
      " 22%|█████████████████▌                                                              | 153/696 [01:51<05:07,  1.76it/s]"
     ]
    },
    {
     "name": "stdout",
     "output_type": "stream",
     "text": [
      "Calculating Sentiment for:  close\n",
      "Calculating Sentiment for:  sms\n"
     ]
    },
    {
     "name": "stderr",
     "output_type": "stream",
     "text": [
      "\r",
      " 22%|█████████████████▋                                                              | 154/696 [01:51<05:05,  1.77it/s]"
     ]
    },
    {
     "name": "stdout",
     "output_type": "stream",
     "text": [
      "Calculating Sentiment for:  yet\n"
     ]
    },
    {
     "name": "stderr",
     "output_type": "stream",
     "text": [
      " 22%|█████████████████▉                                                              | 156/696 [01:52<04:01,  2.24it/s]"
     ]
    },
    {
     "name": "stdout",
     "output_type": "stream",
     "text": [
      "Calculating Sentiment for:  leh\n",
      "Calculating Sentiment for:  thanks\n"
     ]
    },
    {
     "name": "stderr",
     "output_type": "stream",
     "text": [
      "\r",
      " 23%|██████████████████                                                              | 157/696 [01:52<03:33,  2.52it/s]"
     ]
    },
    {
     "name": "stdout",
     "output_type": "stream",
     "text": [
      "Calculating Sentiment for:  whole\n"
     ]
    },
    {
     "name": "stderr",
     "output_type": "stream",
     "text": [
      "\r",
      " 23%|██████████████████▏                                                             | 158/696 [01:53<03:29,  2.56it/s]"
     ]
    },
    {
     "name": "stdout",
     "output_type": "stream",
     "text": [
      "Calculating Sentiment for:  rounds\n"
     ]
    },
    {
     "name": "stderr",
     "output_type": "stream",
     "text": [
      "\r",
      " 23%|██████████████████▎                                                             | 159/696 [01:53<03:52,  2.31it/s]"
     ]
    },
    {
     "name": "stdout",
     "output_type": "stream",
     "text": [
      "Calculating Sentiment for:  fcc\n"
     ]
    },
    {
     "name": "stderr",
     "output_type": "stream",
     "text": [
      "\r",
      " 23%|██████████████████▍                                                             | 160/696 [01:54<04:41,  1.90it/s]"
     ]
    },
    {
     "name": "stdout",
     "output_type": "stream",
     "text": [
      "Calculating Sentiment for:  time\n"
     ]
    },
    {
     "name": "stderr",
     "output_type": "stream",
     "text": [
      "\r",
      " 23%|██████████████████▌                                                             | 161/696 [01:55<05:35,  1.59it/s]"
     ]
    },
    {
     "name": "stdout",
     "output_type": "stream",
     "text": [
      "Calculating Sentiment for:  better\n"
     ]
    },
    {
     "name": "stderr",
     "output_type": "stream",
     "text": [
      " 24%|██████████████████▊                                                             | 164/696 [01:56<03:24,  2.60it/s]"
     ]
    },
    {
     "name": "stdout",
     "output_type": "stream",
     "text": [
      "Calculating Sentiment for:  nothingcause\n",
      "Calculating Sentiment for:  week\n",
      "Calculating Sentiment for:  more\n"
     ]
    },
    {
     "name": "stderr",
     "output_type": "stream",
     "text": [
      "\r",
      " 24%|██████████████████▉                                                             | 165/696 [01:57<04:50,  1.83it/s]"
     ]
    },
    {
     "name": "stdout",
     "output_type": "stream",
     "text": [
      "Calculating Sentiment for:  once\n"
     ]
    },
    {
     "name": "stderr",
     "output_type": "stream",
     "text": [
      "\r",
      " 24%|███████████████████                                                             | 166/696 [01:57<04:17,  2.06it/s]"
     ]
    },
    {
     "name": "stdout",
     "output_type": "stream",
     "text": [
      "Calculating Sentiment for:  cycle\n"
     ]
    },
    {
     "name": "stderr",
     "output_type": "stream",
     "text": [
      "\r",
      " 24%|███████████████████▏                                                            | 167/696 [01:58<04:10,  2.11it/s]"
     ]
    },
    {
     "name": "stdout",
     "output_type": "stream",
     "text": [
      "Calculating Sentiment for:  service\n"
     ]
    },
    {
     "name": "stderr",
     "output_type": "stream",
     "text": [
      " 24%|███████████████████▍                                                            | 169/696 [01:58<02:57,  2.97it/s]"
     ]
    },
    {
     "name": "stdout",
     "output_type": "stream",
     "text": [
      "Calculating Sentiment for:  pay\n",
      "Calculating Sentiment for:  days\n"
     ]
    },
    {
     "name": "stderr",
     "output_type": "stream",
     "text": [
      "\r",
      " 24%|███████████████████▌                                                            | 170/696 [01:58<02:50,  3.09it/s]"
     ]
    },
    {
     "name": "stdout",
     "output_type": "stream",
     "text": [
      "Calculating Sentiment for:  medals\n"
     ]
    },
    {
     "name": "stderr",
     "output_type": "stream",
     "text": [
      " 25%|███████████████████▊                                                            | 172/696 [01:59<02:28,  3.53it/s]"
     ]
    },
    {
     "name": "stdout",
     "output_type": "stream",
     "text": [
      "Calculating Sentiment for:  non\n"
     ]
    },
    {
     "name": "stderr",
     "output_type": "stream",
     "text": [
      "\r",
      " 25%|███████████████████▉                                                            | 173/696 [01:59<02:43,  3.20it/s]"
     ]
    },
    {
     "name": "stdout",
     "output_type": "stream",
     "text": [
      "Calculating Sentiment for:  https\n",
      "Calculating Sentiment for:  marina\n"
     ]
    },
    {
     "name": "stderr",
     "output_type": "stream",
     "text": [
      "\r",
      " 25%|████████████████████                                                            | 174/696 [02:00<03:02,  2.87it/s]"
     ]
    },
    {
     "name": "stdout",
     "output_type": "stream",
     "text": [
      "Calculating Sentiment for:  citygallery\n"
     ]
    },
    {
     "name": "stderr",
     "output_type": "stream",
     "text": [
      "\r",
      " 25%|████████████████████                                                            | 175/696 [02:00<03:04,  2.82it/s]"
     ]
    },
    {
     "name": "stdout",
     "output_type": "stream",
     "text": [
      "Calculating Sentiment for:  bayhttps\n"
     ]
    },
    {
     "name": "stderr",
     "output_type": "stream",
     "text": [
      " 25%|████████████████████▎                                                           | 177/696 [02:01<03:10,  2.73it/s]"
     ]
    },
    {
     "name": "stdout",
     "output_type": "stream",
     "text": [
      "Calculating Sentiment for:  __wwwnssg_web_wcm_connect_nsycitygalleryhttps\n"
     ]
    },
    {
     "name": "stderr",
     "output_type": "stream",
     "text": [
      " 26%|████████████████████▋                                                           | 180/696 [02:01<01:41,  5.06it/s]"
     ]
    },
    {
     "name": "stdout",
     "output_type": "stream",
     "text": [
      "Calculating Sentiment for:  honestly\n",
      "Calculating Sentiment for:  easily\n",
      "Calculating Sentiment for:  location\n",
      "Calculating Sentiment for:  necessary\n"
     ]
    },
    {
     "name": "stderr",
     "output_type": "stream",
     "text": [
      " 26%|████████████████████▉                                                           | 182/696 [02:01<01:31,  5.64it/s]"
     ]
    },
    {
     "name": "stdout",
     "output_type": "stream",
     "text": [
      "Calculating Sentiment for:  needwait\n",
      "Calculating Sentiment for:  bday\n"
     ]
    },
    {
     "name": "stderr",
     "output_type": "stream",
     "text": [
      " 26%|█████████████████████▏                                                          | 184/696 [02:02<01:22,  6.22it/s]"
     ]
    },
    {
     "name": "stdout",
     "output_type": "stream",
     "text": [
      "Calculating Sentiment for:  cozonline\n",
      "Calculating Sentiment for:  qn\n"
     ]
    },
    {
     "name": "stderr",
     "output_type": "stream",
     "text": [
      "\r",
      " 27%|█████████████████████▎                                                          | 185/696 [02:02<01:18,  6.53it/s]"
     ]
    },
    {
     "name": "stdout",
     "output_type": "stream",
     "text": [
      "Calculating Sentiment for:  years\n"
     ]
    },
    {
     "name": "stderr",
     "output_type": "stream",
     "text": [
      "\r",
      " 27%|█████████████████████▍                                                          | 186/696 [02:02<02:22,  3.58it/s]"
     ]
    },
    {
     "name": "stdout",
     "output_type": "stream",
     "text": [
      "Calculating Sentiment for:  old\n"
     ]
    },
    {
     "name": "stderr",
     "output_type": "stream",
     "text": [
      "\r",
      " 27%|█████████████████████▍                                                          | 187/696 [02:03<02:43,  3.11it/s]"
     ]
    },
    {
     "name": "stdout",
     "output_type": "stream",
     "text": [
      "Calculating Sentiment for:  bloodtest\n",
      "Calculating Sentiment for:  medical\n"
     ]
    },
    {
     "name": "stderr",
     "output_type": "stream",
     "text": [
      "\r",
      " 27%|█████████████████████▋                                                          | 189/696 [02:03<02:19,  3.62it/s]"
     ]
    },
    {
     "name": "stdout",
     "output_type": "stream",
     "text": [
      "Calculating Sentiment for:  review\n"
     ]
    },
    {
     "name": "stderr",
     "output_type": "stream",
     "text": [
      " 27%|█████████████████████▉                                                          | 191/696 [02:04<02:15,  3.74it/s]"
     ]
    },
    {
     "name": "stdout",
     "output_type": "stream",
     "text": [
      "Calculating Sentiment for:  hspcert\n",
      "Calculating Sentiment for:  cert\n"
     ]
    },
    {
     "name": "stderr",
     "output_type": "stream",
     "text": [
      "\r",
      " 28%|██████████████████████                                                          | 192/696 [02:04<02:00,  4.18it/s]"
     ]
    },
    {
     "name": "stdout",
     "output_type": "stream",
     "text": [
      "Calculating Sentiment for:  now\n"
     ]
    },
    {
     "name": "stderr",
     "output_type": "stream",
     "text": [
      "\r",
      " 28%|██████████████████████▏                                                         | 193/696 [02:06<05:53,  1.42it/s]"
     ]
    },
    {
     "name": "stdout",
     "output_type": "stream",
     "text": [
      "Calculating Sentiment for:  unable\n"
     ]
    },
    {
     "name": "stderr",
     "output_type": "stream",
     "text": [
      "\r",
      " 28%|██████████████████████▎                                                         | 194/696 [02:07<06:12,  1.35it/s]"
     ]
    },
    {
     "name": "stdout",
     "output_type": "stream",
     "text": [
      "Calculating Sentiment for:  slot\n"
     ]
    },
    {
     "name": "stderr",
     "output_type": "stream",
     "text": [
      " 28%|██████████████████████▌                                                         | 196/696 [02:08<04:46,  1.75it/s]"
     ]
    },
    {
     "name": "stdout",
     "output_type": "stream",
     "text": [
      "Calculating Sentiment for:  ah\n",
      "Calculating Sentiment for:  sir\n"
     ]
    },
    {
     "name": "stderr",
     "output_type": "stream",
     "text": [
      " 28%|██████████████████████▊                                                         | 198/696 [02:08<02:57,  2.80it/s]"
     ]
    },
    {
     "name": "stdout",
     "output_type": "stream",
     "text": [
      "Calculating Sentiment for:  wat\n",
      "Calculating Sentiment for:  s8\n"
     ]
    },
    {
     "name": "stderr",
     "output_type": "stream",
     "text": [
      " 29%|██████████████████████▉                                                         | 200/696 [02:08<02:02,  4.05it/s]"
     ]
    },
    {
     "name": "stdout",
     "output_type": "stream",
     "text": [
      "Calculating Sentiment for:  gdla\n",
      "Calculating Sentiment for:  fail\n"
     ]
    },
    {
     "name": "stderr",
     "output_type": "stream",
     "text": [
      " 29%|███████████████████████▏                                                        | 202/696 [02:09<01:49,  4.53it/s]"
     ]
    },
    {
     "name": "stdout",
     "output_type": "stream",
     "text": [
      "Calculating Sentiment for:  bo\n",
      "Calculating Sentiment for:  jog\n"
     ]
    },
    {
     "name": "stderr",
     "output_type": "stream",
     "text": [
      " 29%|███████████████████████▍                                                        | 204/696 [02:09<01:29,  5.49it/s]"
     ]
    },
    {
     "name": "stdout",
     "output_type": "stream",
     "text": [
      "Calculating Sentiment for:  ictippt\n",
      "Calculating Sentiment for:  kind\n"
     ]
    },
    {
     "name": "stderr",
     "output_type": "stream",
     "text": [
      " 30%|███████████████████████▋                                                        | 206/696 [02:09<01:20,  6.05it/s]"
     ]
    },
    {
     "name": "stdout",
     "output_type": "stream",
     "text": [
      "Calculating Sentiment for:  activities\n",
      "Calculating Sentiment for:  orns\n"
     ]
    },
    {
     "name": "stderr",
     "output_type": "stream",
     "text": [
      "\r",
      " 30%|███████████████████████▊                                                        | 207/696 [02:10<01:41,  4.84it/s]"
     ]
    },
    {
     "name": "stdout",
     "output_type": "stream",
     "text": [
      "Calculating Sentiment for:  single\n"
     ]
    },
    {
     "name": "stderr",
     "output_type": "stream",
     "text": [
      "\r",
      " 30%|███████████████████████▉                                                        | 208/696 [02:10<02:00,  4.06it/s]"
     ]
    },
    {
     "name": "stdout",
     "output_type": "stream",
     "text": [
      "Calculating Sentiment for:  ict\n"
     ]
    },
    {
     "name": "stderr",
     "output_type": "stream",
     "text": [
      "\r",
      " 30%|████████████████████████                                                        | 209/696 [02:10<02:02,  3.96it/s]"
     ]
    },
    {
     "name": "stdout",
     "output_type": "stream",
     "text": [
      "Calculating Sentiment for:  year\n"
     ]
    },
    {
     "name": "stderr",
     "output_type": "stream",
     "text": [
      "\r",
      " 30%|████████████████████████▏                                                       | 210/696 [02:14<11:28,  1.42s/it]"
     ]
    },
    {
     "name": "stdout",
     "output_type": "stream",
     "text": [
      "Calculating Sentiment for:  oc\n"
     ]
    },
    {
     "name": "stderr",
     "output_type": "stream",
     "text": [
      "\r",
      " 30%|████████████████████████▎                                                       | 211/696 [02:15<08:42,  1.08s/it]"
     ]
    },
    {
     "name": "stdout",
     "output_type": "stream",
     "text": [
      "Calculating Sentiment for:  new\n"
     ]
    },
    {
     "name": "stderr",
     "output_type": "stream",
     "text": [
      "\r",
      " 30%|████████████████████████▎                                                       | 212/696 [02:15<08:05,  1.00s/it]"
     ]
    },
    {
     "name": "stdout",
     "output_type": "stream",
     "text": [
      "Calculating Sentiment for:  programme\n"
     ]
    },
    {
     "name": "stderr",
     "output_type": "stream",
     "text": [
      "\r",
      " 31%|████████████████████████▍                                                       | 213/696 [02:16<06:25,  1.25it/s]"
     ]
    },
    {
     "name": "stdout",
     "output_type": "stream",
     "text": [
      "Calculating Sentiment for:  sessions\n"
     ]
    },
    {
     "name": "stderr",
     "output_type": "stream",
     "text": [
      "\r",
      " 31%|████████████████████████▌                                                       | 214/696 [02:22<18:46,  2.34s/it]"
     ]
    },
    {
     "name": "stdout",
     "output_type": "stream",
     "text": [
      "Calculating Sentiment for:  iptippt\n"
     ]
    },
    {
     "name": "stderr",
     "output_type": "stream",
     "text": [
      " 31%|████████████████████████▊                                                       | 216/696 [02:24<12:42,  1.59s/it]"
     ]
    },
    {
     "name": "stdout",
     "output_type": "stream",
     "text": [
      "Calculating Sentiment for:  guess\n",
      "Calculating Sentiment for:  birthday\n"
     ]
    },
    {
     "name": "stderr",
     "output_type": "stream",
     "text": [
      "\r",
      " 31%|████████████████████████▉                                                       | 217/696 [02:24<09:34,  1.20s/it]"
     ]
    },
    {
     "name": "stdout",
     "output_type": "stream",
     "text": [
      "Calculating Sentiment for:  aug\n"
     ]
    },
    {
     "name": "stderr",
     "output_type": "stream",
     "text": [
      " 31%|█████████████████████████▏                                                      | 219/696 [02:25<06:20,  1.25it/s]"
     ]
    },
    {
     "name": "stdout",
     "output_type": "stream",
     "text": [
      "Calculating Sentiment for:  n\n",
      "Calculating Sentiment for:  post\n"
     ]
    },
    {
     "name": "stderr",
     "output_type": "stream",
     "text": [
      " 32%|█████████████████████████▍                                                      | 221/696 [02:25<04:11,  1.89it/s]"
     ]
    },
    {
     "name": "stdout",
     "output_type": "stream",
     "text": [
      "Calculating Sentiment for:  refers\n",
      "Calculating Sentiment for:  there\n"
     ]
    },
    {
     "name": "stderr",
     "output_type": "stream",
     "text": [
      " 32%|█████████████████████████▋                                                      | 223/696 [02:26<02:47,  2.82it/s]"
     ]
    },
    {
     "name": "stdout",
     "output_type": "stream",
     "text": [
      "Calculating Sentiment for:  nightmare\n",
      "Calculating Sentiment for:  gagt\n"
     ]
    },
    {
     "name": "stderr",
     "output_type": "stream",
     "text": [
      " 32%|█████████████████████████▊                                                      | 225/696 [02:27<03:21,  2.34it/s]"
     ]
    },
    {
     "name": "stdout",
     "output_type": "stream",
     "text": [
      "Calculating Sentiment for:  early\n",
      "Calculating Sentiment for:  bx\n",
      "Calculating Sentiment for:  arbo\n"
     ]
    },
    {
     "name": "stderr",
     "output_type": "stream",
     "text": [
      " 33%|██████████████████████████▏                                                     | 228/696 [02:27<01:47,  4.35it/s]"
     ]
    },
    {
     "name": "stdout",
     "output_type": "stream",
     "text": [
      "Calculating Sentiment for:  wooden\n",
      "Calculating Sentiment for:  log\n"
     ]
    },
    {
     "name": "stderr",
     "output_type": "stream",
     "text": [
      " 33%|██████████████████████████▌                                                     | 231/696 [02:28<01:09,  6.70it/s]"
     ]
    },
    {
     "name": "stdout",
     "output_type": "stream",
     "text": [
      "Calculating Sentiment for:  else\n",
      "Calculating Sentiment for:  selarang\n",
      "Calculating Sentiment for:  pools\n"
     ]
    },
    {
     "name": "stderr",
     "output_type": "stream",
     "text": [
      " 33%|██████████████████████████▊                                                     | 233/696 [02:28<01:14,  6.23it/s]"
     ]
    },
    {
     "name": "stdout",
     "output_type": "stream",
     "text": [
      "Calculating Sentiment for:  self\n",
      "Calculating Sentiment for:  script\n"
     ]
    },
    {
     "name": "stderr",
     "output_type": "stream",
     "text": [
      "\r",
      " 34%|██████████████████████████▉                                                     | 234/696 [02:28<01:32,  5.00it/s]"
     ]
    },
    {
     "name": "stdout",
     "output_type": "stream",
     "text": [
      "Calculating Sentiment for:  sitassault\n"
     ]
    },
    {
     "name": "stderr",
     "output_type": "stream",
     "text": [
      " 34%|███████████████████████████▏                                                    | 236/696 [02:29<01:32,  5.00it/s]"
     ]
    },
    {
     "name": "stdout",
     "output_type": "stream",
     "text": [
      "Calculating Sentiment for:  assaultboat\n"
     ]
    },
    {
     "name": "stderr",
     "output_type": "stream",
     "text": [
      "\r",
      " 34%|███████████████████████████▏                                                    | 237/696 [02:29<02:48,  2.72it/s]"
     ]
    },
    {
     "name": "stdout",
     "output_type": "stream",
     "text": [
      "Calculating Sentiment for:  finish\n",
      "Calculating Sentiment for:  carry\n"
     ]
    },
    {
     "name": "stderr",
     "output_type": "stream",
     "text": [
      " 34%|███████████████████████████▍                                                    | 239/696 [02:30<02:19,  3.28it/s]"
     ]
    },
    {
     "name": "stdout",
     "output_type": "stream",
     "text": [
      "Calculating Sentiment for:  boat\n",
      "Calculating Sentiment for:  back\n"
     ]
    },
    {
     "name": "stderr",
     "output_type": "stream",
     "text": [
      "\r",
      " 34%|███████████████████████████▌                                                    | 240/696 [02:31<04:40,  1.62it/s]"
     ]
    },
    {
     "name": "stdout",
     "output_type": "stream",
     "text": [
      "Calculating Sentiment for:  credit\n",
      "Calculating Sentiment for:  oic\n"
     ]
    },
    {
     "name": "stderr",
     "output_type": "stream",
     "text": [
      "\r",
      " 35%|███████████████████████████▊                                                    | 242/696 [02:32<03:03,  2.47it/s]"
     ]
    },
    {
     "name": "stdout",
     "output_type": "stream",
     "text": [
      "Calculating Sentiment for:  last\n"
     ]
    },
    {
     "name": "stderr",
     "output_type": "stream",
     "text": [
      "\r",
      " 35%|███████████████████████████▉                                                    | 243/696 [02:33<05:04,  1.49it/s]"
     ]
    },
    {
     "name": "stdout",
     "output_type": "stream",
     "text": [
      "Calculating Sentiment for:  timeliao\n"
     ]
    },
    {
     "name": "stderr",
     "output_type": "stream",
     "text": [
      "\r",
      " 35%|████████████████████████████                                                    | 244/696 [02:33<04:18,  1.75it/s]"
     ]
    },
    {
     "name": "stdout",
     "output_type": "stream",
     "text": [
      "Calculating Sentiment for:  iptsession\n"
     ]
    },
    {
     "name": "stderr",
     "output_type": "stream",
     "text": [
      "\r",
      " 35%|████████████████████████████▏                                                   | 245/696 [02:35<05:35,  1.34it/s]"
     ]
    },
    {
     "name": "stdout",
     "output_type": "stream",
     "text": [
      "Calculating Sentiment for:  flexibility\n",
      "Calculating Sentiment for:  session\n"
     ]
    },
    {
     "name": "stderr",
     "output_type": "stream",
     "text": [
      " 36%|████████████████████████████▌                                                   | 248/696 [02:38<06:14,  1.20it/s]"
     ]
    },
    {
     "name": "stdout",
     "output_type": "stream",
     "text": [
      "Calculating Sentiment for:  liability\n",
      "Calculating Sentiment for:  officer\n"
     ]
    },
    {
     "name": "stderr",
     "output_type": "stream",
     "text": [
      "\r",
      " 36%|████████████████████████████▌                                                   | 249/696 [02:38<05:16,  1.41it/s]"
     ]
    },
    {
     "name": "stdout",
     "output_type": "stream",
     "text": [
      "Calculating Sentiment for:  slots\n"
     ]
    },
    {
     "name": "stderr",
     "output_type": "stream",
     "text": [
      " 36%|████████████████████████████▊                                                   | 251/696 [02:40<05:50,  1.27it/s]"
     ]
    },
    {
     "name": "stdout",
     "output_type": "stream",
     "text": [
      "Calculating Sentiment for:  cos\n",
      "Calculating Sentiment for:  fit\n"
     ]
    },
    {
     "name": "stderr",
     "output_type": "stream",
     "text": [
      "\r",
      " 36%|████████████████████████████▉                                                   | 252/696 [02:40<05:05,  1.46it/s]"
     ]
    },
    {
     "name": "stdout",
     "output_type": "stream",
     "text": [
      "Calculating Sentiment for:  luck\n"
     ]
    },
    {
     "name": "stderr",
     "output_type": "stream",
     "text": [
      "\r",
      " 36%|█████████████████████████████                                                   | 253/696 [02:41<04:28,  1.65it/s]"
     ]
    },
    {
     "name": "stdout",
     "output_type": "stream",
     "text": [
      "Calculating Sentiment for:  always\n"
     ]
    },
    {
     "name": "stderr",
     "output_type": "stream",
     "text": [
      "\r",
      " 36%|█████████████████████████████▏                                                  | 254/696 [02:41<03:49,  1.93it/s]"
     ]
    },
    {
     "name": "stdout",
     "output_type": "stream",
     "text": [
      "Calculating Sentiment for:  previously\n",
      "Calculating Sentiment for:  big\n"
     ]
    },
    {
     "name": "stderr",
     "output_type": "stream",
     "text": [
      "\r",
      " 37%|█████████████████████████████▍                                                  | 256/696 [02:42<03:17,  2.23it/s]"
     ]
    },
    {
     "name": "stdout",
     "output_type": "stream",
     "text": [
      "Calculating Sentiment for:  part\n"
     ]
    },
    {
     "name": "stderr",
     "output_type": "stream",
     "text": [
      "\r",
      " 37%|█████████████████████████████▌                                                  | 257/696 [02:42<03:30,  2.09it/s]"
     ]
    },
    {
     "name": "stdout",
     "output_type": "stream",
     "text": [
      "Calculating Sentiment for:  camp\n"
     ]
    },
    {
     "name": "stderr",
     "output_type": "stream",
     "text": [
      " 37%|█████████████████████████████▊                                                  | 259/696 [02:44<03:27,  2.11it/s]"
     ]
    },
    {
     "name": "stdout",
     "output_type": "stream",
     "text": [
      "Calculating Sentiment for:  indoorcarpark\n",
      "Calculating Sentiment for:  track\n"
     ]
    },
    {
     "name": "stderr",
     "output_type": "stream",
     "text": [
      " 38%|██████████████████████████████                                                  | 261/696 [02:44<02:18,  3.14it/s]"
     ]
    },
    {
     "name": "stdout",
     "output_type": "stream",
     "text": [
      "Calculating Sentiment for:  hard\n",
      "Calculating Sentiment for:  ground\n"
     ]
    },
    {
     "name": "stderr",
     "output_type": "stream",
     "text": [
      "\r",
      " 38%|██████████████████████████████                                                  | 262/696 [02:44<02:38,  2.73it/s]"
     ]
    },
    {
     "name": "stdout",
     "output_type": "stream",
     "text": [
      "Calculating Sentiment for:  probably\n"
     ]
    },
    {
     "name": "stderr",
     "output_type": "stream",
     "text": [
      "\r",
      " 38%|██████████████████████████████▏                                                 | 263/696 [02:45<02:51,  2.52it/s]"
     ]
    },
    {
     "name": "stdout",
     "output_type": "stream",
     "text": [
      "Calculating Sentiment for:  means\n",
      "Calculating Sentiment for:  again\n"
     ]
    },
    {
     "name": "stderr",
     "output_type": "stream",
     "text": [
      "\r",
      " 38%|██████████████████████████████▍                                                 | 265/696 [02:45<02:15,  3.17it/s]"
     ]
    },
    {
     "name": "stdout",
     "output_type": "stream",
     "text": [
      "Calculating Sentiment for:  weeks\n"
     ]
    },
    {
     "name": "stderr",
     "output_type": "stream",
     "text": [
      "\r",
      " 38%|██████████████████████████████▌                                                 | 266/696 [02:46<02:17,  3.12it/s]"
     ]
    },
    {
     "name": "stdout",
     "output_type": "stream",
     "text": [
      "Calculating Sentiment for:  ago\n"
     ]
    },
    {
     "name": "stderr",
     "output_type": "stream",
     "text": [
      " 39%|██████████████████████████████▊                                                 | 268/696 [02:46<01:53,  3.77it/s]"
     ]
    },
    {
     "name": "stdout",
     "output_type": "stream",
     "text": [
      "Calculating Sentiment for:  usemachine\n",
      "Calculating Sentiment for:  sat_sunsat_sun\n"
     ]
    },
    {
     "name": "stderr",
     "output_type": "stream",
     "text": [
      "\r",
      " 39%|██████████████████████████████▉                                                 | 269/696 [02:46<01:42,  4.16it/s]"
     ]
    },
    {
     "name": "stdout",
     "output_type": "stream",
     "text": [
      "Calculating Sentiment for:  attempt\n"
     ]
    },
    {
     "name": "stderr",
     "output_type": "stream",
     "text": [
      "\r",
      " 39%|███████████████████████████████                                                 | 270/696 [02:47<02:23,  2.97it/s]"
     ]
    },
    {
     "name": "stdout",
     "output_type": "stream",
     "text": [
      "Calculating Sentiment for:  point\n"
     ]
    },
    {
     "name": "stderr",
     "output_type": "stream",
     "text": [
      " 39%|███████████████████████████████▎                                                | 272/696 [02:47<01:52,  3.77it/s]"
     ]
    },
    {
     "name": "stdout",
     "output_type": "stream",
     "text": [
      "Calculating Sentiment for:  away\n",
      "Calculating Sentiment for:  waify\n"
     ]
    },
    {
     "name": "stderr",
     "output_type": "stream",
     "text": [
      "\r",
      " 39%|███████████████████████████████▍                                                | 273/696 [02:47<01:45,  4.01it/s]"
     ]
    },
    {
     "name": "stdout",
     "output_type": "stream",
     "text": [
      "Calculating Sentiment for:  ganyumobile\n"
     ]
    },
    {
     "name": "stderr",
     "output_type": "stream",
     "text": [
      " 40%|███████████████████████████████▌                                                | 275/696 [02:48<01:38,  4.28it/s]"
     ]
    },
    {
     "name": "stdout",
     "output_type": "stream",
     "text": [
      "Calculating Sentiment for:  night\n",
      "Calculating Sentiment for:  pros\n"
     ]
    },
    {
     "name": "stderr",
     "output_type": "stream",
     "text": [
      "\r",
      " 40%|███████████████████████████████▋                                                | 276/696 [02:48<01:26,  4.88it/s]"
     ]
    },
    {
     "name": "stdout",
     "output_type": "stream",
     "text": [
      "Calculating Sentiment for:  rts\n"
     ]
    },
    {
     "name": "stderr",
     "output_type": "stream",
     "text": [
      " 40%|███████████████████████████████▉                                                | 278/696 [02:48<01:25,  4.88it/s]"
     ]
    },
    {
     "name": "stdout",
     "output_type": "stream",
     "text": [
      "Calculating Sentiment for:  confusion\n",
      "Calculating Sentiment for:  attempted\n"
     ]
    },
    {
     "name": "stderr",
     "output_type": "stream",
     "text": [
      " 40%|████████████████████████████████▏                                               | 280/696 [02:49<01:40,  4.16it/s]"
     ]
    },
    {
     "name": "stdout",
     "output_type": "stream",
     "text": [
      "Calculating Sentiment for:  ippt_ictipptippt_ictippt\n",
      "Calculating Sentiment for:  workcycle\n",
      "Calculating Sentiment for:  need\n"
     ]
    },
    {
     "name": "stderr",
     "output_type": "stream",
     "text": [
      " 41%|████████████████████████████████▌                                               | 283/696 [02:49<01:13,  5.60it/s]"
     ]
    },
    {
     "name": "stdout",
     "output_type": "stream",
     "text": [
      "Calculating Sentiment for:  right\n",
      "Calculating Sentiment for:  sryi\n"
     ]
    },
    {
     "name": "stderr",
     "output_type": "stream",
     "text": [
      " 41%|████████████████████████████████▊                                               | 285/696 [02:50<01:05,  6.30it/s]"
     ]
    },
    {
     "name": "stdout",
     "output_type": "stream",
     "text": [
      "Calculating Sentiment for:  noob\n",
      "Calculating Sentiment for:  qns\n"
     ]
    },
    {
     "name": "stderr",
     "output_type": "stream",
     "text": [
      " 41%|████████████████████████████████▉                                               | 287/696 [02:50<01:01,  6.70it/s]"
     ]
    },
    {
     "name": "stdout",
     "output_type": "stream",
     "text": [
      "Calculating Sentiment for:  ans\n",
      "Calculating Sentiment for:  intensely\n"
     ]
    },
    {
     "name": "stderr",
     "output_type": "stream",
     "text": [
      " 42%|█████████████████████████████████▏                                              | 289/696 [02:50<01:00,  6.78it/s]"
     ]
    },
    {
     "name": "stdout",
     "output_type": "stream",
     "text": [
      "Calculating Sentiment for:  own\n",
      "Calculating Sentiment for:  directly\n"
     ]
    },
    {
     "name": "stderr",
     "output_type": "stream",
     "text": [
      " 42%|█████████████████████████████████▍                                              | 291/696 [02:51<01:19,  5.12it/s]"
     ]
    },
    {
     "name": "stdout",
     "output_type": "stream",
     "text": [
      "Calculating Sentiment for:  ready\n",
      "Calculating Sentiment for:  mai\n"
     ]
    },
    {
     "name": "stderr",
     "output_type": "stream",
     "text": [
      "\r",
      " 42%|█████████████████████████████████▌                                              | 292/696 [02:51<01:11,  5.62it/s]"
     ]
    },
    {
     "name": "stdout",
     "output_type": "stream",
     "text": [
      "Calculating Sentiment for:  lah\n"
     ]
    },
    {
     "name": "stderr",
     "output_type": "stream",
     "text": [
      "\r",
      " 42%|█████████████████████████████████▋                                              | 293/696 [02:51<01:43,  3.89it/s]"
     ]
    },
    {
     "name": "stdout",
     "output_type": "stream",
     "text": [
      "Calculating Sentiment for:  timing\n"
     ]
    },
    {
     "name": "stderr",
     "output_type": "stream",
     "text": [
      "\r",
      " 42%|█████████████████████████████████▊                                              | 294/696 [02:53<03:56,  1.70it/s]"
     ]
    },
    {
     "name": "stdout",
     "output_type": "stream",
     "text": [
      "Calculating Sentiment for:  very\n"
     ]
    },
    {
     "name": "stderr",
     "output_type": "stream",
     "text": [
      " 43%|██████████████████████████████████                                              | 296/696 [02:53<02:38,  2.52it/s]"
     ]
    },
    {
     "name": "stdout",
     "output_type": "stream",
     "text": [
      "Calculating Sentiment for:  strict\n",
      "Calculating Sentiment for:  khatibcamp\n"
     ]
    },
    {
     "name": "stderr",
     "output_type": "stream",
     "text": [
      " 43%|██████████████████████████████████▎                                             | 298/696 [02:53<01:46,  3.73it/s]"
     ]
    },
    {
     "name": "stdout",
     "output_type": "stream",
     "text": [
      "Calculating Sentiment for:  beforehand\n",
      "Calculating Sentiment for:  machine\n"
     ]
    },
    {
     "name": "stderr",
     "output_type": "stream",
     "text": [
      " 43%|██████████████████████████████████▍                                             | 300/696 [02:54<01:27,  4.53it/s]"
     ]
    },
    {
     "name": "stdout",
     "output_type": "stream",
     "text": [
      "Calculating Sentiment for:  sheltered\n"
     ]
    },
    {
     "name": "stderr",
     "output_type": "stream",
     "text": [
      "\r",
      " 43%|██████████████████████████████████▌                                             | 301/696 [02:54<01:36,  4.08it/s]"
     ]
    },
    {
     "name": "stdout",
     "output_type": "stream",
     "text": [
      "Calculating Sentiment for:  carpark\n",
      "Calculating Sentiment for:  sent\n"
     ]
    },
    {
     "name": "stderr",
     "output_type": "stream",
     "text": [
      " 44%|██████████████████████████████████▊                                             | 303/696 [02:55<01:41,  3.86it/s]"
     ]
    },
    {
     "name": "stdout",
     "output_type": "stream",
     "text": [
      "Calculating Sentiment for:  indoor\n",
      "Calculating Sentiment for:  mindef\n"
     ]
    },
    {
     "name": "stderr",
     "output_type": "stream",
     "text": [
      " 44%|███████████████████████████████████                                             | 305/696 [02:55<01:23,  4.69it/s]"
     ]
    },
    {
     "name": "stdout",
     "output_type": "stream",
     "text": [
      "Calculating Sentiment for:  ippt_rt\n",
      "Calculating Sentiment for:  months\n"
     ]
    },
    {
     "name": "stderr",
     "output_type": "stream",
     "text": [
      " 44%|███████████████████████████████████▎                                            | 307/696 [02:57<03:27,  1.87it/s]"
     ]
    },
    {
     "name": "stdout",
     "output_type": "stream",
     "text": [
      "Calculating Sentiment for:  death\n",
      "Calculating Sentiment for:  quote\n",
      "Calculating Sentiment for:  strange\n",
      "Calculating Sentiment for:  payable\n"
     ]
    },
    {
     "name": "stderr",
     "output_type": "stream",
     "text": [
      " 45%|███████████████████████████████████▋                                            | 311/696 [02:57<01:35,  4.02it/s]"
     ]
    },
    {
     "name": "stdout",
     "output_type": "stream",
     "text": [
      "Calculating Sentiment for:  ippts\n"
     ]
    },
    {
     "name": "stderr",
     "output_type": "stream",
     "text": [
      "\r",
      " 45%|███████████████████████████████████▊                                            | 312/696 [02:58<01:31,  4.21it/s]"
     ]
    },
    {
     "name": "stdout",
     "output_type": "stream",
     "text": [
      "Calculating Sentiment for:  desired\n"
     ]
    },
    {
     "name": "stderr",
     "output_type": "stream",
     "text": [
      "\r",
      " 45%|███████████████████████████████████▉                                            | 313/696 [02:58<01:27,  4.40it/s]"
     ]
    },
    {
     "name": "stdout",
     "output_type": "stream",
     "text": [
      "Calculating Sentiment for:  gold_silver_passgold_silver_pass\n",
      "Calculating Sentiment for:  gold_silver_passw\n"
     ]
    },
    {
     "name": "stderr",
     "output_type": "stream",
     "text": [
      "\r",
      " 45%|████████████████████████████████████                                            | 314/696 [02:58<01:26,  4.44it/s]"
     ]
    },
    {
     "name": "stdout",
     "output_type": "stream",
     "text": [
      "Calculating Sentiment for:  wincentive\n"
     ]
    },
    {
     "name": "stderr",
     "output_type": "stream",
     "text": [
      " 46%|████████████████████████████████████▍                                           | 317/696 [02:59<01:38,  3.86it/s]"
     ]
    },
    {
     "name": "stdout",
     "output_type": "stream",
     "text": [
      "Calculating Sentiment for:  welcome\n",
      "Calculating Sentiment for:  issue\n",
      "Calculating Sentiment for:  anymore\n"
     ]
    },
    {
     "name": "stderr",
     "output_type": "stream",
     "text": [
      " 46%|████████████████████████████████████▋                                           | 319/696 [02:59<01:21,  4.64it/s]"
     ]
    },
    {
     "name": "stdout",
     "output_type": "stream",
     "text": [
      "Calculating Sentiment for:  changes\n",
      "Calculating Sentiment for:  mindefmarch\n"
     ]
    },
    {
     "name": "stderr",
     "output_type": "stream",
     "text": [
      " 46%|████████████████████████████████████▉                                           | 321/696 [03:00<01:05,  5.74it/s]"
     ]
    },
    {
     "name": "stdout",
     "output_type": "stream",
     "text": [
      "Calculating Sentiment for:  financial\n",
      "Calculating Sentiment for:  rumors\n"
     ]
    },
    {
     "name": "stderr",
     "output_type": "stream",
     "text": [
      " 46%|█████████████████████████████████████▏                                          | 323/696 [03:00<00:59,  6.24it/s]"
     ]
    },
    {
     "name": "stdout",
     "output_type": "stream",
     "text": [
      "Calculating Sentiment for:  band\n",
      "Calculating Sentiment for:  sadly\n"
     ]
    },
    {
     "name": "stderr",
     "output_type": "stream",
     "text": [
      "\r",
      " 47%|█████████████████████████████████████▏                                          | 324/696 [03:00<00:56,  6.61it/s]"
     ]
    },
    {
     "name": "stdout",
     "output_type": "stream",
     "text": [
      "Calculating Sentiment for:  one\n"
     ]
    },
    {
     "name": "stderr",
     "output_type": "stream",
     "text": [
      "\r",
      " 47%|█████████████████████████████████████▎                                          | 325/696 [03:00<01:10,  5.26it/s]"
     ]
    },
    {
     "name": "stdout",
     "output_type": "stream",
     "text": [
      "Calculating Sentiment for:  previous\n"
     ]
    },
    {
     "name": "stderr",
     "output_type": "stream",
     "text": [
      " 47%|█████████████████████████████████████▌                                          | 327/696 [03:01<01:25,  4.31it/s]"
     ]
    },
    {
     "name": "stdout",
     "output_type": "stream",
     "text": [
      "Calculating Sentiment for:  separated\n",
      "Calculating Sentiment for:  normal\n"
     ]
    },
    {
     "name": "stderr",
     "output_type": "stream",
     "text": [
      " 47%|█████████████████████████████████████▊                                          | 329/696 [03:01<01:20,  4.57it/s]"
     ]
    },
    {
     "name": "stdout",
     "output_type": "stream",
     "text": [
      "Calculating Sentiment for:  exactly\n",
      "Calculating Sentiment for:  advisable\n",
      "Calculating Sentiment for:  way\n",
      "Calculating Sentiment for:  default\n"
     ]
    },
    {
     "name": "stderr",
     "output_type": "stream",
     "text": [
      " 48%|██████████████████████████████████████▍                                         | 334/696 [03:02<00:39,  9.26it/s]"
     ]
    },
    {
     "name": "stdout",
     "output_type": "stream",
     "text": [
      "Calculating Sentiment for:  automatically\n",
      "Calculating Sentiment for:  lk\n",
      "Calculating Sentiment for:  hk\n",
      "Calculating Sentiment for:  icts\n"
     ]
    },
    {
     "name": "stderr",
     "output_type": "stream",
     "text": [
      " 48%|██████████████████████████████████████▋                                         | 337/696 [03:03<01:26,  4.16it/s]"
     ]
    },
    {
     "name": "stdout",
     "output_type": "stream",
     "text": [
      "Calculating Sentiment for:  bridge\n",
      "Calculating Sentiment for:  shelter\n"
     ]
    },
    {
     "name": "stderr",
     "output_type": "stream",
     "text": [
      "\r",
      " 49%|██████████████████████████████████████▊                                         | 338/696 [03:03<01:41,  3.53it/s]"
     ]
    },
    {
     "name": "stdout",
     "output_type": "stream",
     "text": [
      "Calculating Sentiment for:  roughly\n",
      "Calculating Sentiment for:  10th\n"
     ]
    },
    {
     "name": "stderr",
     "output_type": "stream",
     "text": [
      " 49%|███████████████████████████████████████▏                                        | 341/696 [03:04<01:18,  4.55it/s]"
     ]
    },
    {
     "name": "stdout",
     "output_type": "stream",
     "text": [
      "Calculating Sentiment for:  spoon\n",
      "Calculating Sentiment for:  feed\n"
     ]
    },
    {
     "name": "stderr",
     "output_type": "stream",
     "text": [
      "\r",
      " 49%|███████████████████████████████████████▎                                        | 342/696 [03:04<01:23,  4.25it/s]"
     ]
    },
    {
     "name": "stdout",
     "output_type": "stream",
     "text": [
      "Calculating Sentiment for:  letter\n"
     ]
    },
    {
     "name": "stderr",
     "output_type": "stream",
     "text": [
      "\r",
      " 49%|███████████████████████████████████████▍                                        | 343/696 [03:04<01:29,  3.94it/s]"
     ]
    },
    {
     "name": "stdout",
     "output_type": "stream",
     "text": [
      "Calculating Sentiment for:  instructions\n"
     ]
    },
    {
     "name": "stderr",
     "output_type": "stream",
     "text": [
      "\r",
      " 49%|███████████████████████████████████████▌                                        | 344/696 [03:05<01:32,  3.79it/s]"
     ]
    },
    {
     "name": "stdout",
     "output_type": "stream",
     "text": [
      "Calculating Sentiment for:  windows\n"
     ]
    },
    {
     "name": "stderr",
     "output_type": "stream",
     "text": [
      "\r",
      " 50%|███████████████████████████████████████▋                                        | 345/696 [03:06<02:21,  2.48it/s]"
     ]
    },
    {
     "name": "stdout",
     "output_type": "stream",
     "text": [
      "Calculating Sentiment for:  rtsession\n"
     ]
    },
    {
     "name": "stderr",
     "output_type": "stream",
     "text": [
      " 50%|███████████████████████████████████████▉                                        | 347/696 [03:06<01:49,  3.18it/s]"
     ]
    },
    {
     "name": "stdout",
     "output_type": "stream",
     "text": [
      "Calculating Sentiment for:  bookrt\n",
      "Calculating Sentiment for:  normally\n"
     ]
    },
    {
     "name": "stderr",
     "output_type": "stream",
     "text": [
      "\r",
      " 50%|████████████████████████████████████████                                        | 348/696 [03:06<01:36,  3.62it/s]"
     ]
    },
    {
     "name": "stdout",
     "output_type": "stream",
     "text": [
      "Calculating Sentiment for:  mondays\n",
      "Calculating Sentiment for:  mean\n"
     ]
    },
    {
     "name": "stderr",
     "output_type": "stream",
     "text": [
      " 50%|████████████████████████████████████████▎                                       | 351/696 [03:07<01:09,  4.97it/s]"
     ]
    },
    {
     "name": "stdout",
     "output_type": "stream",
     "text": [
      "Calculating Sentiment for:  fccliao\n",
      "Calculating Sentiment for:  thankman\n"
     ]
    },
    {
     "name": "stderr",
     "output_type": "stream",
     "text": [
      "\r",
      " 51%|████████████████████████████████████████▍                                       | 352/696 [03:07<01:12,  4.75it/s]"
     ]
    },
    {
     "name": "stdout",
     "output_type": "stream",
     "text": [
      "Calculating Sentiment for:  rocketbunnyi\n"
     ]
    },
    {
     "name": "stderr",
     "output_type": "stream",
     "text": [
      "\r",
      " 51%|████████████████████████████████████████▌                                       | 353/696 [03:07<01:24,  4.06it/s]"
     ]
    },
    {
     "name": "stdout",
     "output_type": "stream",
     "text": [
      "Calculating Sentiment for:  friend\n"
     ]
    },
    {
     "name": "stderr",
     "output_type": "stream",
     "text": [
      " 51%|████████████████████████████████████████▊                                       | 355/696 [03:08<01:19,  4.28it/s]"
     ]
    },
    {
     "name": "stdout",
     "output_type": "stream",
     "text": [
      "Calculating Sentiment for:  redo\n",
      "Calculating Sentiment for:  bedok\n"
     ]
    },
    {
     "name": "stderr",
     "output_type": "stream",
     "text": [
      "\r",
      " 51%|████████████████████████████████████████▉                                       | 356/696 [03:08<01:15,  4.48it/s]"
     ]
    },
    {
     "name": "stdout",
     "output_type": "stream",
     "text": [
      "Calculating Sentiment for:  iptslot\n"
     ]
    },
    {
     "name": "stderr",
     "output_type": "stream",
     "text": [
      " 51%|█████████████████████████████████████████▏                                      | 358/696 [03:08<01:13,  4.59it/s]"
     ]
    },
    {
     "name": "stdout",
     "output_type": "stream",
     "text": [
      "Calculating Sentiment for:  empty\n",
      "Calculating Sentiment for:  fren\n"
     ]
    },
    {
     "name": "stderr",
     "output_type": "stream",
     "text": [
      " 52%|█████████████████████████████████████████▍                                      | 360/696 [03:09<01:02,  5.36it/s]"
     ]
    },
    {
     "name": "stdout",
     "output_type": "stream",
     "text": [
      "Calculating Sentiment for:  pro\n",
      "Calculating Sentiment for:  kenna\n"
     ]
    },
    {
     "name": "stderr",
     "output_type": "stream",
     "text": [
      " 52%|█████████████████████████████████████████▋                                      | 363/696 [03:09<00:56,  5.86it/s]"
     ]
    },
    {
     "name": "stdout",
     "output_type": "stream",
     "text": [
      "Calculating Sentiment for:  systemliao\n",
      "Calculating Sentiment for:  campi\n"
     ]
    },
    {
     "name": "stderr",
     "output_type": "stream",
     "text": [
      "\r",
      " 52%|█████████████████████████████████████████▊                                      | 364/696 [03:09<00:54,  6.14it/s]"
     ]
    },
    {
     "name": "stdout",
     "output_type": "stream",
     "text": [
      "Calculating Sentiment for:  nominal\n",
      "Calculating Sentiment for:  roll\n"
     ]
    },
    {
     "name": "stderr",
     "output_type": "stream",
     "text": [
      " 53%|██████████████████████████████████████████                                      | 366/696 [03:10<01:11,  4.64it/s]"
     ]
    },
    {
     "name": "stdout",
     "output_type": "stream",
     "text": [
      "Calculating Sentiment for:  booking\n",
      "Calculating Sentiment for:  lo\n"
     ]
    },
    {
     "name": "stderr",
     "output_type": "stream",
     "text": [
      "\r",
      " 53%|██████████████████████████████████████████▏                                     | 367/696 [03:10<01:04,  5.08it/s]"
     ]
    },
    {
     "name": "stdout",
     "output_type": "stream",
     "text": [
      "Calculating Sentiment for:  simple\n"
     ]
    },
    {
     "name": "stderr",
     "output_type": "stream",
     "text": [
      " 53%|██████████████████████████████████████████▍                                     | 369/696 [03:11<01:42,  3.18it/s]"
     ]
    },
    {
     "name": "stdout",
     "output_type": "stream",
     "text": [
      "Calculating Sentiment for:  eta\n",
      "Calculating Sentiment for:  afraid\n",
      "Calculating Sentiment for:  slightly\n"
     ]
    },
    {
     "name": "stderr",
     "output_type": "stream",
     "text": [
      "\r",
      " 53%|██████████████████████████████████████████▋                                     | 371/696 [03:11<01:07,  4.84it/s]"
     ]
    },
    {
     "name": "stdout",
     "output_type": "stream",
     "text": [
      "Calculating Sentiment for:  late\n"
     ]
    },
    {
     "name": "stderr",
     "output_type": "stream",
     "text": [
      " 54%|██████████████████████████████████████████▊                                     | 373/696 [03:12<01:34,  3.42it/s]"
     ]
    },
    {
     "name": "stdout",
     "output_type": "stream",
     "text": [
      "Calculating Sentiment for:  jam\n",
      "Calculating Sentiment for:  cutofftime\n",
      "Calculating Sentiment for:  confirmation\n"
     ]
    },
    {
     "name": "stderr",
     "output_type": "stream",
     "text": [
      "\r",
      " 54%|███████████████████████████████████████████                                     | 375/696 [03:12<01:05,  4.87it/s]"
     ]
    },
    {
     "name": "stdout",
     "output_type": "stream",
     "text": [
      "Calculating Sentiment for:  justme\n"
     ]
    },
    {
     "name": "stderr",
     "output_type": "stream",
     "text": [
      " 54%|███████████████████████████████████████████▍                                    | 378/696 [03:13<00:52,  6.02it/s]"
     ]
    },
    {
     "name": "stdout",
     "output_type": "stream",
     "text": [
      "Calculating Sentiment for:  wahswee\n",
      "Calculating Sentiment for:  apparently\n",
      "Calculating Sentiment for:  bmi\n"
     ]
    },
    {
     "name": "stderr",
     "output_type": "stream",
     "text": [
      "\r",
      " 54%|███████████████████████████████████████████▌                                    | 379/696 [03:13<00:53,  5.88it/s]"
     ]
    },
    {
     "name": "stdout",
     "output_type": "stream",
     "text": [
      "Calculating Sentiment for:  requirement\n"
     ]
    },
    {
     "name": "stderr",
     "output_type": "stream",
     "text": [
      " 55%|███████████████████████████████████████████▊                                    | 381/696 [03:13<00:58,  5.35it/s]"
     ]
    },
    {
     "name": "stdout",
     "output_type": "stream",
     "text": [
      "Calculating Sentiment for:  posts\n",
      "Calculating Sentiment for:  systemchange\n",
      "Calculating Sentiment for:  yearseptember\n"
     ]
    },
    {
     "name": "stderr",
     "output_type": "stream",
     "text": [
      " 55%|████████████████████████████████████████████▏                                   | 384/696 [03:14<00:44,  7.06it/s]"
     ]
    },
    {
     "name": "stdout",
     "output_type": "stream",
     "text": [
      "Calculating Sentiment for:  mo\n",
      "Calculating Sentiment for:  specialist\n"
     ]
    },
    {
     "name": "stderr",
     "output_type": "stream",
     "text": [
      "\r",
      " 55%|████████████████████████████████████████████▎                                   | 385/696 [03:14<00:59,  5.25it/s]"
     ]
    },
    {
     "name": "stdout",
     "output_type": "stream",
     "text": [
      "Calculating Sentiment for:  consultation\n"
     ]
    },
    {
     "name": "stderr",
     "output_type": "stream",
     "text": [
      " 56%|████████████████████████████████████████████▍                                   | 387/696 [03:14<01:03,  4.85it/s]"
     ]
    },
    {
     "name": "stdout",
     "output_type": "stream",
     "text": [
      "Calculating Sentiment for:  hence\n",
      "Calculating Sentiment for:  serve\n",
      "Calculating Sentiment for:  reservist\n"
     ]
    },
    {
     "name": "stderr",
     "output_type": "stream",
     "text": [
      " 56%|████████████████████████████████████████████▉                                   | 391/696 [03:15<00:45,  6.66it/s]"
     ]
    },
    {
     "name": "stdout",
     "output_type": "stream",
     "text": [
      "Calculating Sentiment for:  ish\n",
      "Calculating Sentiment for:  simi\n"
     ]
    },
    {
     "name": "stderr",
     "output_type": "stream",
     "text": [
      "\r",
      " 56%|█████████████████████████████████████████████                                   | 392/696 [03:15<00:46,  6.54it/s]"
     ]
    },
    {
     "name": "stdout",
     "output_type": "stream",
     "text": [
      "Calculating Sentiment for:  unfair\n",
      "Calculating Sentiment for:  complete\n"
     ]
    },
    {
     "name": "stderr",
     "output_type": "stream",
     "text": [
      "\r",
      " 56%|█████████████████████████████████████████████▏                                  | 393/696 [03:15<00:57,  5.23it/s]"
     ]
    },
    {
     "name": "stdout",
     "output_type": "stream",
     "text": [
      "Calculating Sentiment for:  cycles\n"
     ]
    },
    {
     "name": "stderr",
     "output_type": "stream",
     "text": [
      "\r",
      " 57%|█████████████████████████████████████████████▎                                  | 394/696 [03:16<01:04,  4.66it/s]"
     ]
    },
    {
     "name": "stdout",
     "output_type": "stream",
     "text": [
      "Calculating Sentiment for:  actually\n",
      "Calculating Sentiment for:  suffering\n",
      "Calculating Sentiment for:  call\n"
     ]
    },
    {
     "name": "stderr",
     "output_type": "stream",
     "text": [
      " 57%|█████████████████████████████████████████████▋                                  | 398/696 [03:16<00:49,  6.02it/s]"
     ]
    },
    {
     "name": "stdout",
     "output_type": "stream",
     "text": [
      "Calculating Sentiment for:  ippttill\n",
      "Calculating Sentiment for:  man\n"
     ]
    },
    {
     "name": "stderr",
     "output_type": "stream",
     "text": [
      " 57%|█████████████████████████████████████████████▉                                  | 400/696 [03:17<01:13,  4.05it/s]"
     ]
    },
    {
     "name": "stdout",
     "output_type": "stream",
     "text": [
      "Calculating Sentiment for:  everyone\n",
      "Calculating Sentiment for:  holan\n"
     ]
    },
    {
     "name": "stderr",
     "output_type": "stream",
     "text": [
      "\r",
      " 58%|██████████████████████████████████████████████                                  | 401/696 [03:17<01:04,  4.57it/s]"
     ]
    },
    {
     "name": "stdout",
     "output_type": "stream",
     "text": [
      "Calculating Sentiment for:  feel\n"
     ]
    },
    {
     "name": "stderr",
     "output_type": "stream",
     "text": [
      " 58%|██████████████████████████████████████████████▎                                 | 403/696 [03:18<01:13,  4.00it/s]"
     ]
    },
    {
     "name": "stdout",
     "output_type": "stream",
     "text": [
      "Calculating Sentiment for:  sad\n",
      "Calculating Sentiment for:  ipptsession\n"
     ]
    },
    {
     "name": "stderr",
     "output_type": "stream",
     "text": [
      "\r",
      " 58%|██████████████████████████████████████████████▍                                 | 404/696 [03:19<02:07,  2.30it/s]"
     ]
    },
    {
     "name": "stdout",
     "output_type": "stream",
     "text": [
      "Calculating Sentiment for:  few\n"
     ]
    },
    {
     "name": "stderr",
     "output_type": "stream",
     "text": [
      "\r",
      " 58%|██████████████████████████████████████████████▌                                 | 405/696 [03:20<02:32,  1.91it/s]"
     ]
    },
    {
     "name": "stdout",
     "output_type": "stream",
     "text": [
      "Calculating Sentiment for:  help\n"
     ]
    },
    {
     "name": "stderr",
     "output_type": "stream",
     "text": [
      "\r",
      " 58%|██████████████████████████████████████████████▋                                 | 406/696 [03:20<02:10,  2.22it/s]"
     ]
    },
    {
     "name": "stdout",
     "output_type": "stream",
     "text": [
      "Calculating Sentiment for:  ippt_ipts\n"
     ]
    },
    {
     "name": "stderr",
     "output_type": "stream",
     "text": [
      "\r",
      " 58%|██████████████████████████████████████████████▊                                 | 407/696 [03:20<01:58,  2.43it/s]"
     ]
    },
    {
     "name": "stdout",
     "output_type": "stream",
     "text": [
      "Calculating Sentiment for:  easier\n"
     ]
    },
    {
     "name": "stderr",
     "output_type": "stream",
     "text": [
      " 59%|███████████████████████████████████████████████                                 | 409/696 [03:21<01:26,  3.31it/s]"
     ]
    },
    {
     "name": "stdout",
     "output_type": "stream",
     "text": [
      "Calculating Sentiment for:  earlier\n",
      "Calculating Sentiment for:  greent\n"
     ]
    },
    {
     "name": "stderr",
     "output_type": "stream",
     "text": [
      "\r",
      " 59%|███████████████████████████████████████████████▏                                | 410/696 [03:21<01:25,  3.34it/s]"
     ]
    },
    {
     "name": "stdout",
     "output_type": "stream",
     "text": [
      "Calculating Sentiment for:  question\n"
     ]
    },
    {
     "name": "stderr",
     "output_type": "stream",
     "text": [
      " 59%|███████████████████████████████████████████████▎                                | 412/696 [03:21<01:20,  3.53it/s]"
     ]
    },
    {
     "name": "stdout",
     "output_type": "stream",
     "text": [
      "Calculating Sentiment for:  instructor\n",
      "Calculating Sentiment for:  hopefully\n"
     ]
    },
    {
     "name": "stderr",
     "output_type": "stream",
     "text": [
      " 59%|███████████████████████████████████████████████▌                                | 414/696 [03:22<01:01,  4.58it/s]"
     ]
    },
    {
     "name": "stdout",
     "output_type": "stream",
     "text": [
      "Calculating Sentiment for:  following\n",
      "Calculating Sentiment for:  good\n"
     ]
    },
    {
     "name": "stderr",
     "output_type": "stream",
     "text": [
      " 60%|███████████████████████████████████████████████▊                                | 416/696 [03:23<01:32,  3.04it/s]"
     ]
    },
    {
     "name": "stdout",
     "output_type": "stream",
     "text": [
      "Calculating Sentiment for:  doubtcause\n",
      "Calculating Sentiment for:  causei\n"
     ]
    },
    {
     "name": "stderr",
     "output_type": "stream",
     "text": [
      " 60%|████████████████████████████████████████████████                                | 418/696 [03:23<01:17,  3.57it/s]"
     ]
    },
    {
     "name": "stdout",
     "output_type": "stream",
     "text": [
      "Calculating Sentiment for:  wrongly\n",
      "Calculating Sentiment for:  sat_sun\n"
     ]
    },
    {
     "name": "stderr",
     "output_type": "stream",
     "text": [
      "\r",
      " 60%|████████████████████████████████████████████████▏                               | 419/696 [03:24<01:23,  3.30it/s]"
     ]
    },
    {
     "name": "stdout",
     "output_type": "stream",
     "text": [
      "Calculating Sentiment for:  reason\n"
     ]
    },
    {
     "name": "stderr",
     "output_type": "stream",
     "text": [
      "\r",
      " 60%|████████████████████████████████████████████████▎                               | 420/696 [03:24<01:22,  3.34it/s]"
     ]
    },
    {
     "name": "stdout",
     "output_type": "stream",
     "text": [
      "Calculating Sentiment for:  hq\n"
     ]
    },
    {
     "name": "stderr",
     "output_type": "stream",
     "text": [
      "\r",
      " 60%|████████████████████████████████████████████████▍                               | 421/696 [03:24<01:22,  3.35it/s]"
     ]
    },
    {
     "name": "stdout",
     "output_type": "stream",
     "text": [
      "Calculating Sentiment for:  realize\n"
     ]
    },
    {
     "name": "stderr",
     "output_type": "stream",
     "text": [
      " 61%|████████████████████████████████████████████████▋                               | 424/696 [03:25<00:50,  5.41it/s]"
     ]
    },
    {
     "name": "stdout",
     "output_type": "stream",
     "text": [
      "Calculating Sentiment for:  sessionstart\n",
      "Calculating Sentiment for:  weather\n",
      "Calculating Sentiment for:  warm\n"
     ]
    },
    {
     "name": "stderr",
     "output_type": "stream",
     "text": [
      "\r",
      " 61%|████████████████████████████████████████████████▊                               | 425/696 [03:25<00:57,  4.72it/s]"
     ]
    },
    {
     "name": "stdout",
     "output_type": "stream",
     "text": [
      "Calculating Sentiment for:  apply\n",
      "Calculating Sentiment for:  sat_sunq\n"
     ]
    },
    {
     "name": "stderr",
     "output_type": "stream",
     "text": [
      " 61%|█████████████████████████████████████████████████▏                              | 428/696 [03:25<00:46,  5.81it/s]"
     ]
    },
    {
     "name": "stdout",
     "output_type": "stream",
     "text": [
      "Calculating Sentiment for:  today\n",
      "Calculating Sentiment for:  trainingsession\n",
      "Calculating Sentiment for:  sessionq\n",
      "Calculating Sentiment for:  solution\n",
      "Calculating Sentiment for:  current\n"
     ]
    },
    {
     "name": "stderr",
     "output_type": "stream",
     "text": [
      " 62%|█████████████████████████████████████████████████▊                              | 433/696 [03:27<01:16,  3.45it/s]"
     ]
    },
    {
     "name": "stdout",
     "output_type": "stream",
     "text": [
      "Calculating Sentiment for:  planning\n",
      "Calculating Sentiment for:  defaulter\n"
     ]
    },
    {
     "name": "stderr",
     "output_type": "stream",
     "text": [
      " 62%|██████████████████████████████████████████████████                              | 435/696 [03:27<01:00,  4.30it/s]"
     ]
    },
    {
     "name": "stdout",
     "output_type": "stream",
     "text": [
      "Calculating Sentiment for:  unknown\n",
      "Calculating Sentiment for:  resume\n"
     ]
    },
    {
     "name": "stderr",
     "output_type": "stream",
     "text": [
      "\r",
      " 63%|██████████████████████████████████████████████████                              | 436/696 [03:28<00:55,  4.72it/s]"
     ]
    },
    {
     "name": "stdout",
     "output_type": "stream",
     "text": [
      "Calculating Sentiment for:  currently\n"
     ]
    },
    {
     "name": "stderr",
     "output_type": "stream",
     "text": [
      "\r",
      " 63%|██████████████████████████████████████████████████▏                             | 437/696 [03:28<01:01,  4.19it/s]"
     ]
    },
    {
     "name": "stdout",
     "output_type": "stream",
     "text": [
      "Calculating Sentiment for:  different\n"
     ]
    },
    {
     "name": "stderr",
     "output_type": "stream",
     "text": [
      " 63%|██████████████████████████████████████████████████▍                             | 439/696 [03:28<01:06,  3.86it/s]"
     ]
    },
    {
     "name": "stdout",
     "output_type": "stream",
     "text": [
      "Calculating Sentiment for:  locations\n",
      "Calculating Sentiment for:  person\n"
     ]
    },
    {
     "name": "stderr",
     "output_type": "stream",
     "text": [
      " 63%|██████████████████████████████████████████████████▋                             | 441/696 [03:29<00:57,  4.43it/s]"
     ]
    },
    {
     "name": "stdout",
     "output_type": "stream",
     "text": [
      "Calculating Sentiment for:  safra\n",
      "Calculating Sentiment for:  gym\n"
     ]
    },
    {
     "name": "stderr",
     "output_type": "stream",
     "text": [
      " 64%|██████████████████████████████████████████████████▉                             | 443/696 [03:29<00:56,  4.49it/s]"
     ]
    },
    {
     "name": "stdout",
     "output_type": "stream",
     "text": [
      "Calculating Sentiment for:  house\n",
      "Calculating Sentiment for:  life\n"
     ]
    },
    {
     "name": "stderr",
     "output_type": "stream",
     "text": [
      " 64%|███████████████████████████████████████████████████▏                            | 445/696 [03:30<00:56,  4.43it/s]"
     ]
    },
    {
     "name": "stdout",
     "output_type": "stream",
     "text": [
      "Calculating Sentiment for:  thingðÿ™ðÿ\n",
      "Calculating Sentiment for:  ðÿ™ðÿ»\n"
     ]
    },
    {
     "name": "stderr",
     "output_type": "stream",
     "text": [
      " 64%|███████████████████████████████████████████████████▍                            | 447/696 [03:30<00:58,  4.29it/s]"
     ]
    },
    {
     "name": "stdout",
     "output_type": "stream",
     "text": [
      "Calculating Sentiment for:  total\n",
      "Calculating Sentiment for:  system\n"
     ]
    },
    {
     "name": "stderr",
     "output_type": "stream",
     "text": [
      " 65%|███████████████████████████████████████████████████▋                            | 450/696 [03:31<00:41,  5.91it/s]"
     ]
    },
    {
     "name": "stdout",
     "output_type": "stream",
     "text": [
      "Calculating Sentiment for:  windowattendance\n",
      "Calculating Sentiment for:  record\n",
      "Calculating Sentiment for:  indeed\n"
     ]
    },
    {
     "name": "stderr",
     "output_type": "stream",
     "text": [
      " 65%|███████████████████████████████████████████████████▉                            | 452/696 [03:31<00:39,  6.11it/s]"
     ]
    },
    {
     "name": "stdout",
     "output_type": "stream",
     "text": [
      "Calculating Sentiment for:  eastsider\n",
      "Calculating Sentiment for:  damn\n"
     ]
    },
    {
     "name": "stderr",
     "output_type": "stream",
     "text": [
      "\r",
      " 65%|████████████████████████████████████████████████████                            | 453/696 [03:31<00:38,  6.24it/s]"
     ]
    },
    {
     "name": "stdout",
     "output_type": "stream",
     "text": [
      "Calculating Sentiment for:  start\n"
     ]
    },
    {
     "name": "stderr",
     "output_type": "stream",
     "text": [
      " 65%|████████████████████████████████████████████████████▎                           | 455/696 [03:32<00:43,  5.54it/s]"
     ]
    },
    {
     "name": "stdout",
     "output_type": "stream",
     "text": [
      "Calculating Sentiment for:  july\n",
      "Calculating Sentiment for:  recuit\n"
     ]
    },
    {
     "name": "stderr",
     "output_type": "stream",
     "text": [
      " 66%|████████████████████████████████████████████████████▊                           | 459/696 [03:32<00:26,  9.09it/s]"
     ]
    },
    {
     "name": "stdout",
     "output_type": "stream",
     "text": [
      "Calculating Sentiment for:  reservice\n",
      "Calculating Sentiment for:  dunwan\n",
      "Calculating Sentiment for:  cisco\n"
     ]
    },
    {
     "name": "stderr",
     "output_type": "stream",
     "text": [
      " 66%|████████████████████████████████████████████████████▉                           | 461/696 [03:32<00:35,  6.57it/s]"
     ]
    },
    {
     "name": "stdout",
     "output_type": "stream",
     "text": [
      "Calculating Sentiment for:  program\n",
      "Calculating Sentiment for:  maintenance\n",
      "Calculating Sentiment for:  experience\n",
      "Calculating Sentiment for:  bay\n"
     ]
    },
    {
     "name": "stderr",
     "output_type": "stream",
     "text": [
      "\r",
      " 67%|█████████████████████████████████████████████████████▏                          | 463/696 [03:33<00:30,  7.63it/s]"
     ]
    },
    {
     "name": "stdout",
     "output_type": "stream",
     "text": [
      "Calculating Sentiment for:  bands\n"
     ]
    },
    {
     "name": "stderr",
     "output_type": "stream",
     "text": [
      "\r",
      " 67%|█████████████████████████████████████████████████████▎                          | 464/696 [03:33<00:37,  6.14it/s]"
     ]
    },
    {
     "name": "stdout",
     "output_type": "stream",
     "text": [
      "Calculating Sentiment for:  training\n"
     ]
    },
    {
     "name": "stderr",
     "output_type": "stream",
     "text": [
      " 67%|█████████████████████████████████████████████████████▌                          | 466/696 [03:33<00:44,  5.19it/s]"
     ]
    },
    {
     "name": "stdout",
     "output_type": "stream",
     "text": [
      "Calculating Sentiment for:  slip\n",
      "Calculating Sentiment for:  ran\n"
     ]
    },
    {
     "name": "stderr",
     "output_type": "stream",
     "text": [
      " 67%|█████████████████████████████████████████████████████▊                          | 468/696 [03:34<00:38,  5.99it/s]"
     ]
    },
    {
     "name": "stdout",
     "output_type": "stream",
     "text": [
      "Calculating Sentiment for:  fi\n",
      "Calculating Sentiment for:  loh\n"
     ]
    },
    {
     "name": "stderr",
     "output_type": "stream",
     "text": [
      " 68%|██████████████████████████████████████████████████████                          | 470/696 [03:34<00:34,  6.48it/s]"
     ]
    },
    {
     "name": "stdout",
     "output_type": "stream",
     "text": [
      "Calculating Sentiment for:  uniform\n",
      "Calculating Sentiment for:  chance\n"
     ]
    },
    {
     "name": "stderr",
     "output_type": "stream",
     "text": [
      " 68%|██████████████████████████████████████████████████████▎                         | 472/696 [03:34<00:37,  6.02it/s]"
     ]
    },
    {
     "name": "stdout",
     "output_type": "stream",
     "text": [
      "Calculating Sentiment for:  returnuniform\n",
      "Calculating Sentiment for:  pes\n"
     ]
    },
    {
     "name": "stderr",
     "output_type": "stream",
     "text": [
      "\r",
      " 68%|██████████████████████████████████████████████████████▎                         | 473/696 [03:36<02:04,  1.79it/s]"
     ]
    },
    {
     "name": "stdout",
     "output_type": "stream",
     "text": [
      "Calculating Sentiment for:  f\n"
     ]
    },
    {
     "name": "stderr",
     "output_type": "stream",
     "text": [
      " 68%|██████████████████████████████████████████████████████▌                         | 475/696 [03:37<01:43,  2.14it/s]"
     ]
    },
    {
     "name": "stdout",
     "output_type": "stream",
     "text": [
      "Calculating Sentiment for:  safety\n",
      "Calculating Sentiment for:  officers\n"
     ]
    },
    {
     "name": "stderr",
     "output_type": "stream",
     "text": [
      " 69%|██████████████████████████████████████████████████████▊                         | 477/696 [03:37<01:09,  3.16it/s]"
     ]
    },
    {
     "name": "stdout",
     "output_type": "stream",
     "text": [
      "Calculating Sentiment for:  startsonly\n",
      "Calculating Sentiment for:  examplei\n"
     ]
    },
    {
     "name": "stderr",
     "output_type": "stream",
     "text": [
      " 69%|███████████████████████████████████████████████████████                         | 479/696 [03:37<00:51,  4.19it/s]"
     ]
    },
    {
     "name": "stdout",
     "output_type": "stream",
     "text": [
      "Calculating Sentiment for:  no\n",
      "Calculating Sentiment for:  enlistmentdate\n"
     ]
    },
    {
     "name": "stderr",
     "output_type": "stream",
     "text": [
      "\r",
      " 69%|███████████████████████████████████████████████████████▏                        | 480/696 [03:38<00:45,  4.76it/s]"
     ]
    },
    {
     "name": "stdout",
     "output_type": "stream",
     "text": [
      "Calculating Sentiment for:  later\n"
     ]
    },
    {
     "name": "stderr",
     "output_type": "stream",
     "text": [
      " 69%|███████████████████████████████████████████████████████▍                        | 482/696 [03:38<00:45,  4.71it/s]"
     ]
    },
    {
     "name": "stdout",
     "output_type": "stream",
     "text": [
      "Calculating Sentiment for:  enlistment\n",
      "Calculating Sentiment for:  date\n"
     ]
    },
    {
     "name": "stderr",
     "output_type": "stream",
     "text": [
      " 70%|███████████████████████████████████████████████████████▋                        | 484/696 [03:39<00:52,  4.06it/s]"
     ]
    },
    {
     "name": "stdout",
     "output_type": "stream",
     "text": [
      "Calculating Sentiment for:  others\n",
      "Calculating Sentiment for:  yearrt\n"
     ]
    },
    {
     "name": "stderr",
     "output_type": "stream",
     "text": [
      " 70%|███████████████████████████████████████████████████████▊                        | 486/696 [03:39<00:47,  4.43it/s]"
     ]
    },
    {
     "name": "stdout",
     "output_type": "stream",
     "text": [
      "Calculating Sentiment for:  bad\n",
      "Calculating Sentiment for:  incentives\n"
     ]
    },
    {
     "name": "stderr",
     "output_type": "stream",
     "text": [
      "\r",
      " 70%|███████████████████████████████████████████████████████▉                        | 487/696 [03:39<00:41,  5.01it/s]"
     ]
    },
    {
     "name": "stdout",
     "output_type": "stream",
     "text": [
      "Calculating Sentiment for:  yeartill\n",
      "Calculating Sentiment for:  further\n"
     ]
    },
    {
     "name": "stderr",
     "output_type": "stream",
     "text": [
      " 71%|████████████████████████████████████████████████████████▍                       | 491/696 [03:40<00:27,  7.43it/s]"
     ]
    },
    {
     "name": "stdout",
     "output_type": "stream",
     "text": [
      "Calculating Sentiment for:  notice\n",
      "Calculating Sentiment for:  waiversms\n",
      "Calculating Sentiment for:  maybe\n"
     ]
    },
    {
     "name": "stderr",
     "output_type": "stream",
     "text": [
      "\r",
      " 71%|████████████████████████████████████████████████████████▌                       | 492/696 [03:40<00:48,  4.21it/s]"
     ]
    },
    {
     "name": "stdout",
     "output_type": "stream",
     "text": [
      "Calculating Sentiment for:  hotline\n"
     ]
    },
    {
     "name": "stderr",
     "output_type": "stream",
     "text": [
      "\r",
      " 71%|████████████████████████████████████████████████████████▋                       | 493/696 [03:41<00:49,  4.07it/s]"
     ]
    },
    {
     "name": "stdout",
     "output_type": "stream",
     "text": [
      "Calculating Sentiment for:  dys8\n"
     ]
    },
    {
     "name": "stderr",
     "output_type": "stream",
     "text": [
      "\r",
      " 71%|████████████████████████████████████████████████████████▊                       | 494/696 [03:41<00:54,  3.70it/s]"
     ]
    },
    {
     "name": "stdout",
     "output_type": "stream",
     "text": [
      "Calculating Sentiment for:  contact\n"
     ]
    },
    {
     "name": "stderr",
     "output_type": "stream",
     "text": [
      "\r",
      " 71%|████████████████████████████████████████████████████████▉                       | 495/696 [03:41<00:55,  3.61it/s]"
     ]
    },
    {
     "name": "stdout",
     "output_type": "stream",
     "text": [
      "Calculating Sentiment for:  details\n"
     ]
    },
    {
     "name": "stderr",
     "output_type": "stream",
     "text": [
      " 71%|█████████████████████████████████████████████████████████▏                      | 497/696 [03:42<00:51,  3.89it/s]"
     ]
    },
    {
     "name": "stdout",
     "output_type": "stream",
     "text": [
      "Calculating Sentiment for:  unknowingly\n"
     ]
    },
    {
     "name": "stderr",
     "output_type": "stream",
     "text": [
      " 72%|█████████████████████████████████████████████████████████▎                      | 499/696 [03:42<00:39,  4.99it/s]"
     ]
    },
    {
     "name": "stdout",
     "output_type": "stream",
     "text": [
      "Calculating Sentiment for:  list\n",
      "Calculating Sentiment for:  nshotline\n",
      "Calculating Sentiment for:  message\n"
     ]
    },
    {
     "name": "stderr",
     "output_type": "stream",
     "text": [
      " 72%|█████████████████████████████████████████████████████████▌                      | 501/696 [03:42<00:34,  5.64it/s]"
     ]
    },
    {
     "name": "stdout",
     "output_type": "stream",
     "text": [
      "Calculating Sentiment for:  army\n",
      "Calculating Sentiment for:  men\n"
     ]
    },
    {
     "name": "stderr",
     "output_type": "stream",
     "text": [
      " 72%|█████████████████████████████████████████████████████████▊                      | 503/696 [03:43<00:37,  5.16it/s]"
     ]
    },
    {
     "name": "stdout",
     "output_type": "stream",
     "text": [
      "Calculating Sentiment for:  activity\n",
      "Calculating Sentiment for:  workyear\n",
      "Calculating Sentiment for:  hii\n",
      "Calculating Sentiment for:  status\n"
     ]
    },
    {
     "name": "stderr",
     "output_type": "stream",
     "text": [
      " 73%|██████████████████████████████████████████████████████████▎                     | 507/696 [03:43<00:27,  6.87it/s]"
     ]
    },
    {
     "name": "stdout",
     "output_type": "stream",
     "text": [
      "Calculating Sentiment for:  results\n",
      "Calculating Sentiment for:  nonictippt\n"
     ]
    },
    {
     "name": "stderr",
     "output_type": "stream",
     "text": [
      "\r",
      " 73%|██████████████████████████████████████████████████████████▍                     | 508/696 [03:43<00:28,  6.71it/s]"
     ]
    },
    {
     "name": "stdout",
     "output_type": "stream",
     "text": [
      "Calculating Sentiment for:  nonict\n"
     ]
    },
    {
     "name": "stderr",
     "output_type": "stream",
     "text": [
      "\r",
      " 73%|██████████████████████████████████████████████████████████▌                     | 509/696 [03:44<00:38,  4.81it/s]"
     ]
    },
    {
     "name": "stdout",
     "output_type": "stream",
     "text": [
      "Calculating Sentiment for:  live\n"
     ]
    },
    {
     "name": "stderr",
     "output_type": "stream",
     "text": [
      " 73%|██████████████████████████████████████████████████████████▋                     | 511/696 [03:44<00:35,  5.17it/s]"
     ]
    },
    {
     "name": "stdout",
     "output_type": "stream",
     "text": [
      "Calculating Sentiment for:  chatservice\n",
      "Calculating Sentiment for:  operator\n"
     ]
    },
    {
     "name": "stderr",
     "output_type": "stream",
     "text": [
      " 74%|██████████████████████████████████████████████████████████▉                     | 513/696 [03:44<00:31,  5.87it/s]"
     ]
    },
    {
     "name": "stdout",
     "output_type": "stream",
     "text": [
      "Calculating Sentiment for:  working\n",
      "Calculating Sentiment for:  helpful\n"
     ]
    },
    {
     "name": "stderr",
     "output_type": "stream",
     "text": [
      "\r",
      " 74%|███████████████████████████████████████████████████████████                     | 514/696 [03:45<00:30,  5.88it/s]"
     ]
    },
    {
     "name": "stdout",
     "output_type": "stream",
     "text": [
      "Calculating Sentiment for:  replies\n"
     ]
    },
    {
     "name": "stderr",
     "output_type": "stream",
     "text": [
      " 74%|███████████████████████████████████████████████████████████▎                    | 516/696 [03:45<00:33,  5.36it/s]"
     ]
    },
    {
     "name": "stdout",
     "output_type": "stream",
     "text": [
      "Calculating Sentiment for:  people\n",
      "Calculating Sentiment for:  rollercoaster\n"
     ]
    },
    {
     "name": "stderr",
     "output_type": "stream",
     "text": [
      " 75%|███████████████████████████████████████████████████████████▋                    | 519/696 [03:45<00:23,  7.41it/s]"
     ]
    },
    {
     "name": "stdout",
     "output_type": "stream",
     "text": [
      "Calculating Sentiment for:  jobless\n",
      "Calculating Sentiment for:  ll\n"
     ]
    },
    {
     "name": "stderr",
     "output_type": "stream",
     "text": [
      "\r",
      " 75%|███████████████████████████████████████████████████████████▊                    | 520/696 [03:46<00:26,  6.67it/s]"
     ]
    },
    {
     "name": "stdout",
     "output_type": "stream",
     "text": [
      "Calculating Sentiment for:  income\n",
      "Calculating Sentiment for:  s8_oc\n"
     ]
    },
    {
     "name": "stderr",
     "output_type": "stream",
     "text": [
      " 75%|████████████████████████████████████████████████████████████                    | 522/696 [03:46<00:40,  4.29it/s]"
     ]
    },
    {
     "name": "stdout",
     "output_type": "stream",
     "text": [
      "Calculating Sentiment for:  caseetc\n",
      "Calculating Sentiment for:  saturday\n"
     ]
    },
    {
     "name": "stderr",
     "output_type": "stream",
     "text": [
      "\r",
      " 75%|████████████████████████████████████████████████████████████                    | 523/696 [03:46<00:37,  4.56it/s]"
     ]
    },
    {
     "name": "stdout",
     "output_type": "stream",
     "text": [
      "Calculating Sentiment for:  vehicles\n"
     ]
    },
    {
     "name": "stderr",
     "output_type": "stream",
     "text": [
      " 75%|████████████████████████████████████████████████████████████▎                   | 525/696 [03:47<00:35,  4.78it/s]"
     ]
    },
    {
     "name": "stdout",
     "output_type": "stream",
     "text": [
      "Calculating Sentiment for:  website\n",
      "Calculating Sentiment for:  open\n"
     ]
    },
    {
     "name": "stderr",
     "output_type": "stream",
     "text": [
      " 76%|████████████████████████████████████████████████████████████▌                   | 527/696 [03:47<00:35,  4.70it/s]"
     ]
    },
    {
     "name": "stdout",
     "output_type": "stream",
     "text": [
      "Calculating Sentiment for:  ffi\n",
      "Calculating Sentiment for:  dundeclare\n"
     ]
    },
    {
     "name": "stderr",
     "output_type": "stream",
     "text": [
      " 76%|████████████████████████████████████████████████████████████▊                   | 529/696 [03:48<00:29,  5.71it/s]"
     ]
    },
    {
     "name": "stdout",
     "output_type": "stream",
     "text": [
      "Calculating Sentiment for:  times\n",
      "Calculating Sentiment for:  liao\n"
     ]
    },
    {
     "name": "stderr",
     "output_type": "stream",
     "text": [
      "\r",
      " 76%|████████████████████████████████████████████████████████████▉                   | 530/696 [03:48<00:28,  5.87it/s]"
     ]
    },
    {
     "name": "stdout",
     "output_type": "stream",
     "text": [
      "Calculating Sentiment for:  loans\n"
     ]
    },
    {
     "name": "stderr",
     "output_type": "stream",
     "text": [
      "\r",
      " 76%|█████████████████████████████████████████████████████████████                   | 531/696 [03:48<00:33,  4.91it/s]"
     ]
    },
    {
     "name": "stdout",
     "output_type": "stream",
     "text": [
      "Calculating Sentiment for:  fully\n"
     ]
    },
    {
     "name": "stderr",
     "output_type": "stream",
     "text": [
      " 77%|█████████████████████████████████████████████████████████████▎                  | 533/696 [03:49<00:41,  3.92it/s]"
     ]
    },
    {
     "name": "stdout",
     "output_type": "stream",
     "text": [
      "Calculating Sentiment for:  insurance\n",
      "Calculating Sentiment for:  likely\n"
     ]
    },
    {
     "name": "stderr",
     "output_type": "stream",
     "text": [
      " 77%|█████████████████████████████████████████████████████████████▍                  | 535/696 [03:49<00:38,  4.16it/s]"
     ]
    },
    {
     "name": "stdout",
     "output_type": "stream",
     "text": [
      "Calculating Sentiment for:  rtdefaulter\n",
      "Calculating Sentiment for:  little\n"
     ]
    },
    {
     "name": "stderr",
     "output_type": "stream",
     "text": [
      " 77%|█████████████████████████████████████████████████████████████▋                  | 537/696 [03:49<00:29,  5.31it/s]"
     ]
    },
    {
     "name": "stdout",
     "output_type": "stream",
     "text": [
      "Calculating Sentiment for:  piano\n",
      "Calculating Sentiment for:  world\n"
     ]
    },
    {
     "name": "stderr",
     "output_type": "stream",
     "text": [
      " 77%|█████████████████████████████████████████████████████████████▉                  | 539/696 [03:50<00:27,  5.69it/s]"
     ]
    },
    {
     "name": "stdout",
     "output_type": "stream",
     "text": [
      "Calculating Sentiment for:  government\n",
      "Calculating Sentiment for:  safe\n"
     ]
    },
    {
     "name": "stderr",
     "output_type": "stream",
     "text": [
      "\r",
      " 78%|██████████████████████████████████████████████████████████████                  | 540/696 [03:50<00:27,  5.76it/s]"
     ]
    },
    {
     "name": "stdout",
     "output_type": "stream",
     "text": [
      "Calculating Sentiment for:  quite\n"
     ]
    },
    {
     "name": "stderr",
     "output_type": "stream",
     "text": [
      "\r",
      " 78%|██████████████████████████████████████████████████████████████▏                 | 541/696 [03:51<00:48,  3.17it/s]"
     ]
    },
    {
     "name": "stdout",
     "output_type": "stream",
     "text": [
      "Calculating Sentiment for:  yeari\n"
     ]
    },
    {
     "name": "stderr",
     "output_type": "stream",
     "text": [
      "\r",
      " 78%|██████████████████████████████████████████████████████████████▎                 | 542/696 [03:51<00:47,  3.27it/s]"
     ]
    },
    {
     "name": "stdout",
     "output_type": "stream",
     "text": [
      "Calculating Sentiment for:  jialat\n"
     ]
    },
    {
     "name": "stderr",
     "output_type": "stream",
     "text": [
      " 78%|██████████████████████████████████████████████████████████████▌                 | 544/696 [03:51<00:36,  4.12it/s]"
     ]
    },
    {
     "name": "stdout",
     "output_type": "stream",
     "text": [
      "Calculating Sentiment for:  wind\n",
      "Calculating Sentiment for:  alr\n"
     ]
    },
    {
     "name": "stderr",
     "output_type": "stream",
     "text": [
      " 78%|██████████████████████████████████████████████████████████████▊                 | 546/696 [03:52<00:41,  3.61it/s]"
     ]
    },
    {
     "name": "stdout",
     "output_type": "stream",
     "text": [
      "Calculating Sentiment for:  v\n",
      "Calculating Sentiment for:  heng\n"
     ]
    },
    {
     "name": "stderr",
     "output_type": "stream",
     "text": [
      "\r",
      " 79%|██████████████████████████████████████████████████████████████▊                 | 547/696 [03:52<00:35,  4.16it/s]"
     ]
    },
    {
     "name": "stdout",
     "output_type": "stream",
     "text": [
      "Calculating Sentiment for:  try\n"
     ]
    },
    {
     "name": "stderr",
     "output_type": "stream",
     "text": [
      "\r",
      " 79%|██████████████████████████████████████████████████████████████▉                 | 548/696 [03:52<00:37,  3.93it/s]"
     ]
    },
    {
     "name": "stdout",
     "output_type": "stream",
     "text": [
      "Calculating Sentiment for:  route\n"
     ]
    },
    {
     "name": "stderr",
     "output_type": "stream",
     "text": [
      " 79%|███████████████████████████████████████████████████████████████▏                | 550/696 [03:53<00:35,  4.10it/s]"
     ]
    },
    {
     "name": "stdout",
     "output_type": "stream",
     "text": [
      "Calculating Sentiment for:  static\n",
      "Calculating Sentiment for:  stations\n"
     ]
    },
    {
     "name": "stderr",
     "output_type": "stream",
     "text": [
      "\r",
      " 79%|███████████████████████████████████████████████████████████████▎                | 551/696 [03:53<00:32,  4.52it/s]"
     ]
    },
    {
     "name": "stdout",
     "output_type": "stream",
     "text": [
      "Calculating Sentiment for:  pretty\n"
     ]
    },
    {
     "name": "stderr",
     "output_type": "stream",
     "text": [
      " 80%|███████████████████████████████████████████████████████████████▋                | 554/696 [03:54<00:23,  5.98it/s]"
     ]
    },
    {
     "name": "stdout",
     "output_type": "stream",
     "text": [
      "Calculating Sentiment for:  look\n",
      "Calculating Sentiment for:  mindeffb\n",
      "Calculating Sentiment for:  available\n"
     ]
    },
    {
     "name": "stderr",
     "output_type": "stream",
     "text": [
      " 80%|███████████████████████████████████████████████████████████████▉                | 556/696 [03:54<00:22,  6.34it/s]"
     ]
    },
    {
     "name": "stdout",
     "output_type": "stream",
     "text": [
      "Calculating Sentiment for:  plan\n",
      "Calculating Sentiment for:  confused\n"
     ]
    },
    {
     "name": "stderr",
     "output_type": "stream",
     "text": [
      " 80%|████████████████████████████████████████████████████████████████▏               | 558/696 [03:54<00:26,  5.29it/s]"
     ]
    },
    {
     "name": "stdout",
     "output_type": "stream",
     "text": [
      "Calculating Sentiment for:  think\n",
      "Calculating Sentiment for:  mindef_saf\n"
     ]
    },
    {
     "name": "stderr",
     "output_type": "stream",
     "text": [
      " 80%|████████████████████████████████████████████████████████████████▎               | 560/696 [03:55<00:39,  3.46it/s]"
     ]
    },
    {
     "name": "stdout",
     "output_type": "stream",
     "text": [
      "Calculating Sentiment for:  stupid\n"
     ]
    },
    {
     "name": "stderr",
     "output_type": "stream",
     "text": [
      " 81%|████████████████████████████████████████████████████████████████▋               | 563/696 [03:55<00:22,  5.79it/s]"
     ]
    },
    {
     "name": "stdout",
     "output_type": "stream",
     "text": [
      "Calculating Sentiment for:  anyway\n",
      "Calculating Sentiment for:  oct\n",
      "Calculating Sentiment for:  mid\n",
      "Calculating Sentiment for:  fccs\n",
      "Calculating Sentiment for:  lockers\n"
     ]
    },
    {
     "name": "stderr",
     "output_type": "stream",
     "text": [
      "\r",
      " 81%|████████████████████████████████████████████████████████████████▉               | 565/696 [03:56<00:18,  7.25it/s]"
     ]
    },
    {
     "name": "stdout",
     "output_type": "stream",
     "text": [
      "Calculating Sentiment for:  distance\n"
     ]
    },
    {
     "name": "stderr",
     "output_type": "stream",
     "text": [
      " 81%|█████████████████████████████████████████████████████████████████▏              | 567/696 [03:56<00:24,  5.23it/s]"
     ]
    },
    {
     "name": "stdout",
     "output_type": "stream",
     "text": [
      "Calculating Sentiment for:  someone\n",
      "Calculating Sentiment for:  exact\n"
     ]
    },
    {
     "name": "stderr",
     "output_type": "stream",
     "text": [
      " 82%|█████████████████████████████████████████████████████████████████▋              | 571/696 [03:57<00:14,  8.44it/s]"
     ]
    },
    {
     "name": "stdout",
     "output_type": "stream",
     "text": [
      "Calculating Sentiment for:  guards\n",
      "Calculating Sentiment for:  true\n",
      "Calculating Sentiment for:  poly\n",
      "Calculating Sentiment for:  batch\n"
     ]
    },
    {
     "name": "stderr",
     "output_type": "stream",
     "text": [
      " 82%|█████████████████████████████████████████████████████████████████▊              | 573/696 [03:57<00:15,  8.00it/s]"
     ]
    },
    {
     "name": "stdout",
     "output_type": "stream",
     "text": [
      "Calculating Sentiment for:  jcbatch\n",
      "Calculating Sentiment for:  mob\n"
     ]
    },
    {
     "name": "stderr",
     "output_type": "stream",
     "text": [
      " 83%|██████████████████████████████████████████████████████████████████              | 575/696 [03:57<00:17,  7.09it/s]"
     ]
    },
    {
     "name": "stdout",
     "output_type": "stream",
     "text": [
      "Calculating Sentiment for:  unfortunately\n",
      "Calculating Sentiment for:  applies\n"
     ]
    },
    {
     "name": "stderr",
     "output_type": "stream",
     "text": [
      " 83%|██████████████████████████████████████████████████████████████████▍             | 578/696 [03:58<00:17,  6.84it/s]"
     ]
    },
    {
     "name": "stdout",
     "output_type": "stream",
     "text": [
      "Calculating Sentiment for:  tget\n",
      "Calculating Sentiment for:  d\n",
      "Calculating Sentiment for:  oot\n"
     ]
    },
    {
     "name": "stderr",
     "output_type": "stream",
     "text": [
      " 83%|██████████████████████████████████████████████████████████████████▋             | 580/696 [03:58<00:17,  6.49it/s]"
     ]
    },
    {
     "name": "stdout",
     "output_type": "stream",
     "text": [
      "Calculating Sentiment for:  sia\n",
      "Calculating Sentiment for:  parents\n",
      "Calculating Sentiment for:  jokingly\n"
     ]
    },
    {
     "name": "stderr",
     "output_type": "stream",
     "text": [
      "\r",
      " 84%|██████████████████████████████████████████████████████████████████▉             | 582/696 [03:58<00:13,  8.17it/s]"
     ]
    },
    {
     "name": "stdout",
     "output_type": "stream",
     "text": [
      "Calculating Sentiment for:  tekan\n"
     ]
    },
    {
     "name": "stderr",
     "output_type": "stream",
     "text": [
      " 84%|███████████████████████████████████████████████████████████████████▏            | 584/696 [03:59<00:18,  6.12it/s]"
     ]
    },
    {
     "name": "stdout",
     "output_type": "stream",
     "text": [
      "Calculating Sentiment for:  guy\n",
      "Calculating Sentiment for:  ripsia\n"
     ]
    },
    {
     "name": "stderr",
     "output_type": "stream",
     "text": [
      " 84%|███████████████████████████████████████████████████████████████████▎            | 586/696 [03:59<00:18,  5.96it/s]"
     ]
    },
    {
     "name": "stdout",
     "output_type": "stream",
     "text": [
      "Calculating Sentiment for:  siayeah\n",
      "Calculating Sentiment for:  chronic\n"
     ]
    },
    {
     "name": "stderr",
     "output_type": "stream",
     "text": [
      " 84%|███████████████████████████████████████████████████████████████████▌            | 588/696 [03:59<00:19,  5.54it/s]"
     ]
    },
    {
     "name": "stdout",
     "output_type": "stream",
     "text": [
      "Calculating Sentiment for:  skincondition\n",
      "Calculating Sentiment for:  doubt\n",
      "Calculating Sentiment for:  condition\n"
     ]
    },
    {
     "name": "stderr",
     "output_type": "stream",
     "text": [
      "\r",
      " 85%|███████████████████████████████████████████████████████████████████▊            | 590/696 [04:00<00:14,  7.37it/s]"
     ]
    },
    {
     "name": "stdout",
     "output_type": "stream",
     "text": [
      "Calculating Sentiment for:  serious\n"
     ]
    },
    {
     "name": "stderr",
     "output_type": "stream",
     "text": [
      " 85%|████████████████████████████████████████████████████████████████████▎           | 594/696 [04:00<00:11,  8.79it/s]"
     ]
    },
    {
     "name": "stdout",
     "output_type": "stream",
     "text": [
      "Calculating Sentiment for:  suck\n",
      "Calculating Sentiment for:  studying\n",
      "Calculating Sentiment for:  hospitaldoc\n",
      "Calculating Sentiment for:  board\n"
     ]
    },
    {
     "name": "stderr",
     "output_type": "stream",
     "text": [
      " 86%|████████████████████████████████████████████████████████████████████▊           | 599/696 [04:01<00:14,  6.69it/s]"
     ]
    },
    {
     "name": "stdout",
     "output_type": "stream",
     "text": [
      "Calculating Sentiment for:  mmidoctor\n",
      "Calculating Sentiment for:  docs\n",
      "Calculating Sentiment for:  doc\n",
      "Calculating Sentiment for:  officially\n",
      "Calculating Sentiment for:  doctors\n"
     ]
    },
    {
     "name": "stderr",
     "output_type": "stream",
     "text": [
      "\r",
      " 86%|█████████████████████████████████████████████████████████████████████           | 601/696 [04:01<00:13,  6.79it/s]"
     ]
    },
    {
     "name": "stdout",
     "output_type": "stream",
     "text": [
      "Calculating Sentiment for:  ball\n",
      "Calculating Sentiment for:  queue\n"
     ]
    },
    {
     "name": "stderr",
     "output_type": "stream",
     "text": [
      "\r",
      " 87%|█████████████████████████████████████████████████████████████████████▎          | 603/696 [04:02<00:15,  5.99it/s]"
     ]
    },
    {
     "name": "stdout",
     "output_type": "stream",
     "text": [
      "Calculating Sentiment for:  generally\n",
      "Calculating Sentiment for:  govt\n"
     ]
    },
    {
     "name": "stderr",
     "output_type": "stream",
     "text": [
      "\r",
      " 87%|█████████████████████████████████████████████████████████████████████▍          | 604/696 [04:02<00:14,  6.17it/s]"
     ]
    },
    {
     "name": "stdout",
     "output_type": "stream",
     "text": [
      "Calculating Sentiment for:  fine\n"
     ]
    },
    {
     "name": "stderr",
     "output_type": "stream",
     "text": [
      " 87%|█████████████████████████████████████████████████████████████████████▋          | 606/696 [04:02<00:16,  5.57it/s]"
     ]
    },
    {
     "name": "stdout",
     "output_type": "stream",
     "text": [
      "Calculating Sentiment for:  penny\n",
      "Calculating Sentiment for:  poor\n"
     ]
    },
    {
     "name": "stderr",
     "output_type": "stream",
     "text": [
      " 87%|█████████████████████████████████████████████████████████████████████▉          | 608/696 [04:03<00:14,  6.09it/s]"
     ]
    },
    {
     "name": "stdout",
     "output_type": "stream",
     "text": [
      "Calculating Sentiment for:  recruit\n",
      "Calculating Sentiment for:  mpcommander\n",
      "Calculating Sentiment for:  mp\n"
     ]
    },
    {
     "name": "stderr",
     "output_type": "stream",
     "text": [
      " 88%|██████████████████████████████████████████████████████████████████████▏         | 611/696 [04:03<00:11,  7.37it/s]"
     ]
    },
    {
     "name": "stdout",
     "output_type": "stream",
     "text": [
      "Calculating Sentiment for:  stay\n",
      "Calculating Sentiment for:  xiong\n"
     ]
    },
    {
     "name": "stderr",
     "output_type": "stream",
     "text": [
      " 88%|██████████████████████████████████████████████████████████████████████▍         | 613/696 [04:03<00:11,  6.94it/s]"
     ]
    },
    {
     "name": "stdout",
     "output_type": "stream",
     "text": [
      "Calculating Sentiment for:  etc\n",
      "Calculating Sentiment for:  navy\n"
     ]
    },
    {
     "name": "stderr",
     "output_type": "stream",
     "text": [
      " 88%|██████████████████████████████████████████████████████████████████████▋         | 615/696 [04:04<00:14,  5.58it/s]"
     ]
    },
    {
     "name": "stdout",
     "output_type": "stream",
     "text": [
      "Calculating Sentiment for:  correctly\n",
      "Calculating Sentiment for:  sweaty\n"
     ]
    },
    {
     "name": "stderr",
     "output_type": "stream",
     "text": [
      " 89%|██████████████████████████████████████████████████████████████████████▉         | 617/696 [04:04<00:13,  5.77it/s]"
     ]
    },
    {
     "name": "stdout",
     "output_type": "stream",
     "text": [
      "Calculating Sentiment for:  palms\n",
      "Calculating Sentiment for:  gloves\n"
     ]
    },
    {
     "name": "stderr",
     "output_type": "stream",
     "text": [
      " 89%|███████████████████████████████████████████████████████████████████████▍        | 621/696 [04:04<00:08,  8.42it/s]"
     ]
    },
    {
     "name": "stdout",
     "output_type": "stream",
     "text": [
      "Calculating Sentiment for:  vocations\n",
      "Calculating Sentiment for:  human\n",
      "Calculating Sentiment for:  intake\n",
      "Calculating Sentiment for:  hospilization\n"
     ]
    },
    {
     "name": "stderr",
     "output_type": "stream",
     "text": [
      " 90%|███████████████████████████████████████████████████████████████████████▌        | 623/696 [04:05<00:09,  7.73it/s]"
     ]
    },
    {
     "name": "stdout",
     "output_type": "stream",
     "text": [
      "Calculating Sentiment for:  coy\n",
      "Calculating Sentiment for:  pop\n"
     ]
    },
    {
     "name": "stderr",
     "output_type": "stream",
     "text": [
      " 90%|███████████████████████████████████████████████████████████████████████▊        | 625/696 [04:05<00:13,  5.30it/s]"
     ]
    },
    {
     "name": "stdout",
     "output_type": "stream",
     "text": [
      "Calculating Sentiment for:  half\n",
      "Calculating Sentiment for:  helps\n",
      "Calculating Sentiment for:  news\n"
     ]
    },
    {
     "name": "stderr",
     "output_type": "stream",
     "text": [
      " 90%|████████████████████████████████████████████████████████████████████████▏       | 628/696 [04:06<00:09,  7.04it/s]"
     ]
    },
    {
     "name": "stdout",
     "output_type": "stream",
     "text": [
      "Calculating Sentiment for:  jcgrade\n",
      "Calculating Sentiment for:  grades\n"
     ]
    },
    {
     "name": "stderr",
     "output_type": "stream",
     "text": [
      " 91%|████████████████████████████████████████████████████████████████████████▍       | 630/696 [04:06<00:13,  4.82it/s]"
     ]
    },
    {
     "name": "stdout",
     "output_type": "stream",
     "text": [
      "Calculating Sentiment for:  jc\n",
      "Calculating Sentiment for:  cdec\n"
     ]
    },
    {
     "name": "stderr",
     "output_type": "stream",
     "text": [
      " 91%|████████████████████████████████████████████████████████████████████████▋       | 632/696 [04:07<00:11,  5.36it/s]"
     ]
    },
    {
     "name": "stdout",
     "output_type": "stream",
     "text": [
      "Calculating Sentiment for:  decently\n"
     ]
    },
    {
     "name": "stderr",
     "output_type": "stream",
     "text": [
      "\r",
      " 91%|████████████████████████████████████████████████████████████████████████▊       | 633/696 [04:07<00:11,  5.41it/s]"
     ]
    },
    {
     "name": "stdout",
     "output_type": "stream",
     "text": [
      "Calculating Sentiment for:  secsch\n",
      "Calculating Sentiment for:  schtho\n"
     ]
    },
    {
     "name": "stderr",
     "output_type": "stream",
     "text": [
      "\r",
      " 91%|████████████████████████████████████████████████████████████████████████▊       | 634/696 [04:07<00:17,  3.60it/s]"
     ]
    },
    {
     "name": "stdout",
     "output_type": "stream",
     "text": [
      "Calculating Sentiment for:  cdo\n"
     ]
    },
    {
     "name": "stderr",
     "output_type": "stream",
     "text": [
      " 91%|█████████████████████████████████████████████████████████████████████████       | 636/696 [04:08<00:15,  3.99it/s]"
     ]
    },
    {
     "name": "stdout",
     "output_type": "stream",
     "text": [
      "Calculating Sentiment for:  postpoly\n",
      "Calculating Sentiment for:  random\n",
      "Calculating Sentiment for:  b2\n"
     ]
    },
    {
     "name": "stderr",
     "output_type": "stream",
     "text": [
      " 92%|█████████████████████████████████████████████████████████████████████████▍      | 639/696 [04:08<00:10,  5.60it/s]"
     ]
    },
    {
     "name": "stdout",
     "output_type": "stream",
     "text": [
      "Calculating Sentiment for:  commando\n"
     ]
    },
    {
     "name": "stderr",
     "output_type": "stream",
     "text": [
      "\r",
      " 92%|█████████████████████████████████████████████████████████████████████████▌      | 640/696 [04:08<00:10,  5.54it/s]"
     ]
    },
    {
     "name": "stdout",
     "output_type": "stream",
     "text": [
      "Calculating Sentiment for:  interest\n"
     ]
    },
    {
     "name": "stderr",
     "output_type": "stream",
     "text": [
      "\r",
      " 92%|█████████████████████████████████████████████████████████████████████████▋      | 641/696 [04:08<00:09,  5.83it/s]"
     ]
    },
    {
     "name": "stdout",
     "output_type": "stream",
     "text": [
      "Calculating Sentiment for:  c\n",
      "Calculating Sentiment for:  mild\n"
     ]
    },
    {
     "name": "stderr",
     "output_type": "stream",
     "text": [
      " 92%|█████████████████████████████████████████████████████████████████████████▉      | 643/696 [04:09<00:10,  5.22it/s]"
     ]
    },
    {
     "name": "stdout",
     "output_type": "stream",
     "text": [
      "Calculating Sentiment for:  forgot\n",
      "Calculating Sentiment for:  bmt\n"
     ]
    },
    {
     "name": "stderr",
     "output_type": "stream",
     "text": [
      " 93%|██████████████████████████████████████████████████████████████████████████▏     | 645/696 [04:09<00:11,  4.30it/s]"
     ]
    },
    {
     "name": "stdout",
     "output_type": "stream",
     "text": [
      "Calculating Sentiment for:  interview\n",
      "Calculating Sentiment for:  leap\n"
     ]
    },
    {
     "name": "stderr",
     "output_type": "stream",
     "text": [
      " 93%|██████████████████████████████████████████████████████████████████████████▎     | 647/696 [04:10<00:10,  4.78it/s]"
     ]
    },
    {
     "name": "stdout",
     "output_type": "stream",
     "text": [
      "Calculating Sentiment for:  extra\n",
      "Calculating Sentiment for:  oil\n"
     ]
    },
    {
     "name": "stderr",
     "output_type": "stream",
     "text": [
      " 93%|██████████████████████████████████████████████████████████████████████████▌     | 649/696 [04:10<00:09,  4.98it/s]"
     ]
    },
    {
     "name": "stdout",
     "output_type": "stream",
     "text": [
      "Calculating Sentiment for:  additional\n",
      "Calculating Sentiment for:  vocational\n"
     ]
    },
    {
     "name": "stderr",
     "output_type": "stream",
     "text": [
      " 94%|██████████████████████████████████████████████████████████████████████████▊     | 651/696 [04:11<00:07,  5.83it/s]"
     ]
    },
    {
     "name": "stdout",
     "output_type": "stream",
     "text": [
      "Calculating Sentiment for:  journey\n",
      "Calculating Sentiment for:  bed\n"
     ]
    },
    {
     "name": "stderr",
     "output_type": "stream",
     "text": [
      " 94%|███████████████████████████████████████████████████████████████████████████     | 653/696 [04:11<00:08,  5.04it/s]"
     ]
    },
    {
     "name": "stdout",
     "output_type": "stream",
     "text": [
      "Calculating Sentiment for:  cock\n",
      "Calculating Sentiment for:  logically\n"
     ]
    },
    {
     "name": "stderr",
     "output_type": "stream",
     "text": [
      " 94%|███████████████████████████████████████████████████████████████████████████▎    | 655/696 [04:11<00:06,  6.17it/s]"
     ]
    },
    {
     "name": "stdout",
     "output_type": "stream",
     "text": [
      "Calculating Sentiment for:  excuse\n",
      "Calculating Sentiment for:  keyboard\n"
     ]
    },
    {
     "name": "stderr",
     "output_type": "stream",
     "text": [
      " 95%|███████████████████████████████████████████████████████████████████████████▋    | 658/696 [04:12<00:04,  8.05it/s]"
     ]
    },
    {
     "name": "stdout",
     "output_type": "stream",
     "text": [
      "Calculating Sentiment for:  favor\n",
      "Calculating Sentiment for:  technically\n",
      "Calculating Sentiment for:  anything\n",
      "Calculating Sentiment for:  request\n"
     ]
    },
    {
     "name": "stderr",
     "output_type": "stream",
     "text": [
      "\r",
      " 95%|███████████████████████████████████████████████████████████████████████████▊    | 660/696 [04:12<00:03,  9.65it/s]"
     ]
    },
    {
     "name": "stdout",
     "output_type": "stream",
     "text": [
      "Calculating Sentiment for:  military\n",
      "Calculating Sentiment for:  regimentation\n"
     ]
    },
    {
     "name": "stderr",
     "output_type": "stream",
     "text": [
      "\r",
      " 95%|████████████████████████████████████████████████████████████████████████████    | 662/696 [04:12<00:05,  5.68it/s]"
     ]
    },
    {
     "name": "stdout",
     "output_type": "stream",
     "text": [
      "Calculating Sentiment for:  wellbeing\n",
      "Calculating Sentiment for:  decision\n"
     ]
    },
    {
     "name": "stderr",
     "output_type": "stream",
     "text": [
      " 96%|████████████████████████████████████████████████████████████████████████████▍   | 665/696 [04:13<00:05,  5.94it/s]"
     ]
    },
    {
     "name": "stdout",
     "output_type": "stream",
     "text": [
      "Calculating Sentiment for:  ultimately\n",
      "Calculating Sentiment for:  public\n"
     ]
    },
    {
     "name": "stderr",
     "output_type": "stream",
     "text": [
      "\r",
      " 96%|████████████████████████████████████████████████████████████████████████████▌   | 666/696 [04:13<00:05,  5.43it/s]"
     ]
    },
    {
     "name": "stdout",
     "output_type": "stream",
     "text": [
      "Calculating Sentiment for:  specialistmemo\n"
     ]
    },
    {
     "name": "stderr",
     "output_type": "stream",
     "text": [
      " 96%|████████████████████████████████████████████████████████████████████████████▊   | 668/696 [04:14<00:05,  4.72it/s]"
     ]
    },
    {
     "name": "stdout",
     "output_type": "stream",
     "text": [
      "Calculating Sentiment for:  recruitmentcenter\n",
      "Calculating Sentiment for:  centerbro\n"
     ]
    },
    {
     "name": "stderr",
     "output_type": "stream",
     "text": [
      " 96%|█████████████████████████████████████████████████████████████████████████████   | 670/696 [04:14<00:06,  4.06it/s]"
     ]
    },
    {
     "name": "stdout",
     "output_type": "stream",
     "text": [
      "Calculating Sentiment for:  assault\n",
      "Calculating Sentiment for:  packs\n"
     ]
    },
    {
     "name": "stderr",
     "output_type": "stream",
     "text": [
      " 97%|█████████████████████████████████████████████████████████████████████████████▏  | 672/696 [04:15<00:05,  4.38it/s]"
     ]
    },
    {
     "name": "stdout",
     "output_type": "stream",
     "text": [
      "Calculating Sentiment for:  bags\n",
      "Calculating Sentiment for:  tspew\n"
     ]
    },
    {
     "name": "stderr",
     "output_type": "stream",
     "text": [
      "\r",
      " 97%|█████████████████████████████████████████████████████████████████████████████▎  | 673/696 [04:15<00:05,  4.45it/s]"
     ]
    },
    {
     "name": "stdout",
     "output_type": "stream",
     "text": [
      "Calculating Sentiment for:  spewnonsense\n"
     ]
    },
    {
     "name": "stderr",
     "output_type": "stream",
     "text": [
      " 97%|█████████████████████████████████████████████████████████████████████████████▌  | 675/696 [04:15<00:04,  4.75it/s]"
     ]
    },
    {
     "name": "stdout",
     "output_type": "stream",
     "text": [
      "Calculating Sentiment for:  ncc\n",
      "Calculating Sentiment for:  infantry\n"
     ]
    },
    {
     "name": "stderr",
     "output_type": "stream",
     "text": [
      "\r",
      " 97%|█████████████████████████████████████████████████████████████████████████████▋  | 676/696 [04:15<00:03,  5.26it/s]"
     ]
    },
    {
     "name": "stdout",
     "output_type": "stream",
     "text": [
      "Calculating Sentiment for:  term\n"
     ]
    },
    {
     "name": "stderr",
     "output_type": "stream",
     "text": [
      "\r",
      " 97%|█████████████████████████████████████████████████████████████████████████████▊  | 677/696 [04:16<00:04,  4.48it/s]"
     ]
    },
    {
     "name": "stdout",
     "output_type": "stream",
     "text": [
      "Calculating Sentiment for:  shotts\n",
      "Calculating Sentiment for:  source\n"
     ]
    },
    {
     "name": "stderr",
     "output_type": "stream",
     "text": [
      "\r",
      " 98%|██████████████████████████████████████████████████████████████████████████████  | 679/696 [04:16<00:03,  5.32it/s]"
     ]
    },
    {
     "name": "stdout",
     "output_type": "stream",
     "text": [
      "Calculating Sentiment for:  transporthr\n",
      "Calculating Sentiment for:  typical\n"
     ]
    },
    {
     "name": "stderr",
     "output_type": "stream",
     "text": [
      " 98%|██████████████████████████████████████████████████████████████████████████████▍ | 682/696 [04:16<00:02,  6.14it/s]"
     ]
    },
    {
     "name": "stdout",
     "output_type": "stream",
     "text": [
      "Calculating Sentiment for:  chaokeng\n"
     ]
    },
    {
     "name": "stderr",
     "output_type": "stream",
     "text": [
      "\r",
      " 98%|██████████████████████████████████████████████████████████████████████████████▌ | 683/696 [04:17<00:02,  6.17it/s]"
     ]
    },
    {
     "name": "stdout",
     "output_type": "stream",
     "text": [
      "Calculating Sentiment for:  kengloser\n",
      "Calculating Sentiment for:  profile\n"
     ]
    },
    {
     "name": "stderr",
     "output_type": "stream",
     "text": [
      " 99%|██████████████████████████████████████████████████████████████████████████████▊ | 686/696 [04:17<00:01,  8.04it/s]"
     ]
    },
    {
     "name": "stdout",
     "output_type": "stream",
     "text": [
      "Calculating Sentiment for:  fun\n",
      "Calculating Sentiment for:  bottom\n",
      "Calculating Sentiment for:  bitch\n"
     ]
    },
    {
     "name": "stderr",
     "output_type": "stream",
     "text": [
      " 99%|███████████████████████████████████████████████████████████████████████████████ | 688/696 [04:17<00:01,  7.57it/s]"
     ]
    },
    {
     "name": "stdout",
     "output_type": "stream",
     "text": [
      "Calculating Sentiment for:  warmachine\n",
      "Calculating Sentiment for:  whats\n"
     ]
    },
    {
     "name": "stderr",
     "output_type": "stream",
     "text": [
      " 99%|███████████████████████████████████████████████████████████████████████████████▎| 690/696 [04:18<00:00,  6.82it/s]"
     ]
    },
    {
     "name": "stdout",
     "output_type": "stream",
     "text": [
      "Calculating Sentiment for:  special\n",
      "Calculating Sentiment for:  toilets\n"
     ]
    },
    {
     "name": "stderr",
     "output_type": "stream",
     "text": [
      " 99%|███████████████████████████████████████████████████████████████████████████████▌| 692/696 [04:18<00:00,  6.76it/s]"
     ]
    },
    {
     "name": "stdout",
     "output_type": "stream",
     "text": [
      "Calculating Sentiment for:  nice\n",
      "Calculating Sentiment for:  ahi\n",
      "Calculating Sentiment for:  companies\n"
     ]
    },
    {
     "name": "stderr",
     "output_type": "stream",
     "text": [
      "\r",
      "100%|███████████████████████████████████████████████████████████████████████████████▊| 694/696 [04:18<00:00,  6.70it/s]"
     ]
    },
    {
     "name": "stdout",
     "output_type": "stream",
     "text": [
      "Calculating Sentiment for:  recruits\n"
     ]
    },
    {
     "name": "stderr",
     "output_type": "stream",
     "text": [
      "100%|████████████████████████████████████████████████████████████████████████████████| 696/696 [04:19<00:00,  2.68it/s]"
     ]
    },
    {
     "name": "stdout",
     "output_type": "stream",
     "text": [
      "Calculating Sentiment for:  dumb\n"
     ]
    },
    {
     "name": "stderr",
     "output_type": "stream",
     "text": [
      "\n"
     ]
    }
   ],
   "source": [
    "a2 = copy.deepcopy(a)\n",
    "b2 = copy.deepcopy(b)\n",
    "singlish,singlish_desc = get_sentiment_singlish(a2, b2, nlp)"
   ]
  },
  {
   "cell_type": "code",
   "execution_count": 14,
   "id": "northern-xerox",
   "metadata": {},
   "outputs": [],
   "source": [
    "singlish.to_csv(\"features score comparison (with singlish).csv\")\n",
    "no_singlish.to_csv(\"features score comparison (no singlish).csv\")\n",
    "#refined_singlish.to_csv(\"eval corpus-refined-features (with singlish).csv\")\n",
    "#refined_no_singlish.to_csv(\"eval corpus-refined-features (no singlish).csv\")"
   ]
  },
  {
   "cell_type": "code",
   "execution_count": 15,
   "id": "individual-beijing",
   "metadata": {},
   "outputs": [],
   "source": [
    "df_compare = pd.merge(singlish, no_singlish, left_index = True, right_index=True, how='inner', suffixes=('_singlish', '_no singlish')) \n",
    "df_compare.drop(columns=['Descriptors_no singlish', 'Freq_no singlish'])\n",
    "#df_compare = df_compare[[\"index\", \"Descriptors_singlish\", \"Freq_singlish\",'Avg_sent_singlish','Avg_sent_no singlish']]\n",
    "df_compare = df_compare[[\"Descriptors_singlish\", \"Freq_singlish\",'Avg_sent_singlish','Avg_sent_no singlish']]\n",
    "df_compare.index.name = 'index'\n",
    "df_compare = df_compare.reset_index(level='index')\n",
    "df_compare.to_csv(\"features score comparison (all).csv\")"
   ]
  },
  {
   "cell_type": "code",
   "execution_count": 16,
   "id": "proprietary-missile",
   "metadata": {
    "scrolled": true
   },
   "outputs": [
    {
     "data": {
      "text/html": [
       "<div>\n",
       "<style scoped>\n",
       "    .dataframe tbody tr th:only-of-type {\n",
       "        vertical-align: middle;\n",
       "    }\n",
       "\n",
       "    .dataframe tbody tr th {\n",
       "        vertical-align: top;\n",
       "    }\n",
       "\n",
       "    .dataframe thead th {\n",
       "        text-align: right;\n",
       "    }\n",
       "</style>\n",
       "<table border=\"1\" class=\"dataframe\">\n",
       "  <thead>\n",
       "    <tr style=\"text-align: right;\">\n",
       "      <th></th>\n",
       "      <th>Avg_sent</th>\n",
       "      <th>Descriptors</th>\n",
       "      <th>Freq</th>\n",
       "    </tr>\n",
       "    <tr>\n",
       "      <th>index</th>\n",
       "      <th></th>\n",
       "      <th></th>\n",
       "      <th></th>\n",
       "    </tr>\n",
       "  </thead>\n",
       "  <tbody>\n",
       "    <tr>\n",
       "      <th>i</th>\n",
       "      <td>0.998016</td>\n",
       "      <td>wear ,wear ,hear ,done ,sure ,able ,got ,got ,...</td>\n",
       "      <td>114</td>\n",
       "    </tr>\n",
       "    <tr>\n",
       "      <th>ippt</th>\n",
       "      <td>0.900794</td>\n",
       "      <td>book ,take ,rewards ,whole ,finish ,take ,atte...</td>\n",
       "      <td>50</td>\n",
       "    </tr>\n",
       "    <tr>\n",
       "      <th>not</th>\n",
       "      <td>0.987500</td>\n",
       "      <td>book ,meet ,allowed ,comprehensive ,get ,taken...</td>\n",
       "      <td>38</td>\n",
       "    </tr>\n",
       "    <tr>\n",
       "      <th>just</th>\n",
       "      <td>1.000000</td>\n",
       "      <td>wear ,mix ,counting ,rmb ,discharge ,go ,recei...</td>\n",
       "      <td>35</td>\n",
       "    </tr>\n",
       "    <tr>\n",
       "      <th>ipt</th>\n",
       "      <td>1.053333</td>\n",
       "      <td>attend ,booking ,complete ,clear ,absent ,sess...</td>\n",
       "      <td>35</td>\n",
       "    </tr>\n",
       "  </tbody>\n",
       "</table>\n",
       "</div>"
      ],
      "text/plain": [
       "       Avg_sent                                        Descriptors  Freq\n",
       "index                                                                   \n",
       "i      0.998016  wear ,wear ,hear ,done ,sure ,able ,got ,got ,...   114\n",
       "ippt   0.900794  book ,take ,rewards ,whole ,finish ,take ,atte...    50\n",
       "not    0.987500  book ,meet ,allowed ,comprehensive ,get ,taken...    38\n",
       "just   1.000000  wear ,mix ,counting ,rmb ,discharge ,go ,recei...    35\n",
       "ipt    1.053333  attend ,booking ,complete ,clear ,absent ,sess...    35"
      ]
     },
     "execution_count": 16,
     "metadata": {},
     "output_type": "execute_result"
    }
   ],
   "source": [
    "singlish.head()"
   ]
  },
  {
   "cell_type": "code",
   "execution_count": 17,
   "id": "ahead-coordinator",
   "metadata": {},
   "outputs": [
    {
     "data": {
      "text/html": [
       "<div>\n",
       "<style scoped>\n",
       "    .dataframe tbody tr th:only-of-type {\n",
       "        vertical-align: middle;\n",
       "    }\n",
       "\n",
       "    .dataframe tbody tr th {\n",
       "        vertical-align: top;\n",
       "    }\n",
       "\n",
       "    .dataframe thead th {\n",
       "        text-align: right;\n",
       "    }\n",
       "</style>\n",
       "<table border=\"1\" class=\"dataframe\">\n",
       "  <thead>\n",
       "    <tr style=\"text-align: right;\">\n",
       "      <th></th>\n",
       "      <th>Avg_sent</th>\n",
       "      <th>Descriptors</th>\n",
       "      <th>Freq</th>\n",
       "    </tr>\n",
       "  </thead>\n",
       "  <tbody>\n",
       "    <tr>\n",
       "      <th>i</th>\n",
       "      <td>1.041667</td>\n",
       "      <td>wear ,wear ,hear ,done ,sure ,able ,got ,got ,...</td>\n",
       "      <td>114</td>\n",
       "    </tr>\n",
       "    <tr>\n",
       "      <th>ippt</th>\n",
       "      <td>0.928571</td>\n",
       "      <td>book ,take ,rewards ,whole ,finish ,take ,atte...</td>\n",
       "      <td>50</td>\n",
       "    </tr>\n",
       "    <tr>\n",
       "      <th>not</th>\n",
       "      <td>1.031250</td>\n",
       "      <td>book ,meet ,allowed ,comprehensive ,get ,taken...</td>\n",
       "      <td>38</td>\n",
       "    </tr>\n",
       "    <tr>\n",
       "      <th>just</th>\n",
       "      <td>1.000000</td>\n",
       "      <td>wear ,mix ,counting ,rmb ,discharge ,go ,recei...</td>\n",
       "      <td>35</td>\n",
       "    </tr>\n",
       "    <tr>\n",
       "      <th>ipt</th>\n",
       "      <td>1.080000</td>\n",
       "      <td>attend ,booking ,complete ,clear ,absent ,sess...</td>\n",
       "      <td>35</td>\n",
       "    </tr>\n",
       "  </tbody>\n",
       "</table>\n",
       "</div>"
      ],
      "text/plain": [
       "      Avg_sent                                        Descriptors  Freq\n",
       "i     1.041667  wear ,wear ,hear ,done ,sure ,able ,got ,got ,...   114\n",
       "ippt  0.928571  book ,take ,rewards ,whole ,finish ,take ,atte...    50\n",
       "not   1.031250  book ,meet ,allowed ,comprehensive ,get ,taken...    38\n",
       "just  1.000000  wear ,mix ,counting ,rmb ,discharge ,go ,recei...    35\n",
       "ipt   1.080000  attend ,booking ,complete ,clear ,absent ,sess...    35"
      ]
     },
     "execution_count": 17,
     "metadata": {},
     "output_type": "execute_result"
    }
   ],
   "source": [
    "no_singlish.head()"
   ]
  },
  {
   "cell_type": "code",
   "execution_count": 18,
   "id": "urban-geography",
   "metadata": {
    "scrolled": false
   },
   "outputs": [
    {
     "data": {
      "text/html": [
       "<div>\n",
       "<style scoped>\n",
       "    .dataframe tbody tr th:only-of-type {\n",
       "        vertical-align: middle;\n",
       "    }\n",
       "\n",
       "    .dataframe tbody tr th {\n",
       "        vertical-align: top;\n",
       "    }\n",
       "\n",
       "    .dataframe thead th {\n",
       "        text-align: right;\n",
       "    }\n",
       "</style>\n",
       "<table border=\"1\" class=\"dataframe\">\n",
       "  <thead>\n",
       "    <tr style=\"text-align: right;\">\n",
       "      <th></th>\n",
       "      <th>index</th>\n",
       "      <th>Descriptors_singlish</th>\n",
       "      <th>Freq_singlish</th>\n",
       "      <th>Avg_sent_singlish</th>\n",
       "      <th>Avg_sent_no singlish</th>\n",
       "    </tr>\n",
       "  </thead>\n",
       "  <tbody>\n",
       "    <tr>\n",
       "      <th>0</th>\n",
       "      <td>i</td>\n",
       "      <td>wear ,wear ,hear ,done ,sure ,able ,got ,got ,...</td>\n",
       "      <td>114</td>\n",
       "      <td>0.998016</td>\n",
       "      <td>1.041667</td>\n",
       "    </tr>\n",
       "    <tr>\n",
       "      <th>1</th>\n",
       "      <td>ippt</td>\n",
       "      <td>book ,take ,rewards ,whole ,finish ,take ,atte...</td>\n",
       "      <td>50</td>\n",
       "      <td>0.900794</td>\n",
       "      <td>0.928571</td>\n",
       "    </tr>\n",
       "    <tr>\n",
       "      <th>2</th>\n",
       "      <td>not</td>\n",
       "      <td>book ,meet ,allowed ,comprehensive ,get ,taken...</td>\n",
       "      <td>38</td>\n",
       "      <td>0.987500</td>\n",
       "      <td>1.031250</td>\n",
       "    </tr>\n",
       "    <tr>\n",
       "      <th>3</th>\n",
       "      <td>just</td>\n",
       "      <td>wear ,mix ,counting ,rmb ,discharge ,go ,recei...</td>\n",
       "      <td>35</td>\n",
       "      <td>1.000000</td>\n",
       "      <td>1.000000</td>\n",
       "    </tr>\n",
       "    <tr>\n",
       "      <th>4</th>\n",
       "      <td>ipt</td>\n",
       "      <td>attend ,booking ,complete ,clear ,absent ,sess...</td>\n",
       "      <td>35</td>\n",
       "      <td>1.053333</td>\n",
       "      <td>1.080000</td>\n",
       "    </tr>\n",
       "  </tbody>\n",
       "</table>\n",
       "</div>"
      ],
      "text/plain": [
       "  index                               Descriptors_singlish  Freq_singlish  \\\n",
       "0     i  wear ,wear ,hear ,done ,sure ,able ,got ,got ,...            114   \n",
       "1  ippt  book ,take ,rewards ,whole ,finish ,take ,atte...             50   \n",
       "2   not  book ,meet ,allowed ,comprehensive ,get ,taken...             38   \n",
       "3  just  wear ,mix ,counting ,rmb ,discharge ,go ,recei...             35   \n",
       "4   ipt  attend ,booking ,complete ,clear ,absent ,sess...             35   \n",
       "\n",
       "   Avg_sent_singlish  Avg_sent_no singlish  \n",
       "0           0.998016              1.041667  \n",
       "1           0.900794              0.928571  \n",
       "2           0.987500              1.031250  \n",
       "3           1.000000              1.000000  \n",
       "4           1.053333              1.080000  "
      ]
     },
     "execution_count": 18,
     "metadata": {},
     "output_type": "execute_result"
    }
   ],
   "source": [
    "df_compare.head()"
   ]
  },
  {
   "cell_type": "code",
   "execution_count": 19,
   "id": "cooperative-boutique",
   "metadata": {},
   "outputs": [
    {
     "data": {
      "image/png": "[encoded data removed]",
      "text/plain": [
       "<Figure size 432x288 with 1 Axes>"
      ]
     },
     "metadata": {
      "needs_background": "light"
     },
     "output_type": "display_data"
    },
    {
     "data": {
      "text/plain": [
       "<Figure size 1440x720 with 0 Axes>"
      ]
     },
     "metadata": {},
     "output_type": "display_data"
    }
   ],
   "source": [
    "#visualise differences in score\n",
    "import matplotlib\n",
    "import matplotlib.pyplot as plt\n",
    "\n",
    "labels = df_compare['index'].tolist()\n",
    "s = df_compare['Avg_sent_singlish']\n",
    "no_s = df_compare['Avg_sent_no singlish']\n",
    "\n",
    "x = np.arange(len(labels))  # the label locations\n",
    "width = 0.35  # the width of the bars\n",
    "\n",
    "fig, ax = plt.subplots()\n",
    "fig = plt.figure(figsize=(20, 10))\n",
    "rects1 = ax.bar(x - width/2, s, width, label='Singlish')\n",
    "rects2 = ax.bar(x + width/2, no_s, width, label='No Singlish')\n",
    "plt.gcf().set_size_inches(20, 10)"
   ]
  },
  {
   "cell_type": "code",
   "execution_count": 20,
   "id": "boring-difference",
   "metadata": {
    "scrolled": true
   },
   "outputs": [
    {
     "data": {
      "text/plain": [
       "<matplotlib.collections.PathCollection at 0x1a9d3150b20>"
      ]
     },
     "execution_count": 20,
     "metadata": {},
     "output_type": "execute_result"
    },
    {
     "data": {
      "image/png": "[encoded data removed]",
      "text/plain": [
       "<Figure size 432x288 with 1 Axes>"
      ]
     },
     "metadata": {
      "needs_background": "light"
     },
     "output_type": "display_data"
    }
   ],
   "source": [
    "plt.scatter(s,no_s)"
   ]
  },
  {
   "cell_type": "code",
   "execution_count": 22,
   "id": "introductory-collar",
   "metadata": {},
   "outputs": [],
   "source": [
    "entity = pd.read_csv('feature-entity-table.csv')\n",
    "entity['index'] = entity['index'].str.lower()\n",
    "entity.drop_duplicates(inplace = True)"
   ]
  },
  {
   "cell_type": "code",
   "execution_count": 23,
   "id": "local-undergraduate",
   "metadata": {},
   "outputs": [],
   "source": [
    "df_entity_level = pd.merge(df_compare, entity, on ='index', how='left') \n",
    "df_entity_level.dropna(inplace = True)"
   ]
  },
  {
   "cell_type": "code",
   "execution_count": 24,
   "id": "graduate-bolivia",
   "metadata": {},
   "outputs": [],
   "source": [
    "df_entity_level.to_csv('features-entity-score.csv')"
   ]
  },
  {
   "cell_type": "code",
   "execution_count": 25,
   "id": "electoral-prospect",
   "metadata": {},
   "outputs": [
    {
     "data": {
      "text/html": [
       "<div>\n",
       "<style scoped>\n",
       "    .dataframe tbody tr th:only-of-type {\n",
       "        vertical-align: middle;\n",
       "    }\n",
       "\n",
       "    .dataframe tbody tr th {\n",
       "        vertical-align: top;\n",
       "    }\n",
       "\n",
       "    .dataframe thead th {\n",
       "        text-align: right;\n",
       "    }\n",
       "</style>\n",
       "<table border=\"1\" class=\"dataframe\">\n",
       "  <thead>\n",
       "    <tr style=\"text-align: right;\">\n",
       "      <th></th>\n",
       "      <th>index</th>\n",
       "      <th>Descriptors_singlish</th>\n",
       "      <th>Freq_singlish</th>\n",
       "      <th>Avg_sent_singlish</th>\n",
       "      <th>Avg_sent_no singlish</th>\n",
       "      <th>entity</th>\n",
       "    </tr>\n",
       "  </thead>\n",
       "  <tbody>\n",
       "    <tr>\n",
       "      <th>1</th>\n",
       "      <td>ippt</td>\n",
       "      <td>book ,take ,rewards ,whole ,finish ,take ,atte...</td>\n",
       "      <td>50</td>\n",
       "      <td>0.900794</td>\n",
       "      <td>0.928571</td>\n",
       "      <td>IPPT</td>\n",
       "    </tr>\n",
       "    <tr>\n",
       "      <th>12</th>\n",
       "      <td>rt</td>\n",
       "      <td>loh ,got ,complete ,cleared ,attending ,booked...</td>\n",
       "      <td>19</td>\n",
       "      <td>1.181818</td>\n",
       "      <td>1.181818</td>\n",
       "      <td>RT/IPT</td>\n",
       "    </tr>\n",
       "    <tr>\n",
       "      <th>13</th>\n",
       "      <td>session</td>\n",
       "      <td>first ,ipt ,8th ,previous ,book ,ippt ,book ,f...</td>\n",
       "      <td>17</td>\n",
       "      <td>1.000000</td>\n",
       "      <td>1.000000</td>\n",
       "      <td>TRAINING</td>\n",
       "    </tr>\n",
       "    <tr>\n",
       "      <th>21</th>\n",
       "      <td>first</td>\n",
       "      <td>loh ,attend ,session ,sessions ,clear ,ipt ,sh...</td>\n",
       "      <td>13</td>\n",
       "      <td>0.969697</td>\n",
       "      <td>1.000000</td>\n",
       "      <td>ORDINAL</td>\n",
       "    </tr>\n",
       "    <tr>\n",
       "      <th>27</th>\n",
       "      <td>pes</td>\n",
       "      <td>f ,status ,e1 ,officially ,e1 ,officially ,sta...</td>\n",
       "      <td>11</td>\n",
       "      <td>1.000000</td>\n",
       "      <td>1.000000</td>\n",
       "      <td>ORG</td>\n",
       "    </tr>\n",
       "    <tr>\n",
       "      <th>28</th>\n",
       "      <td>pes</td>\n",
       "      <td>f ,status ,e1 ,officially ,e1 ,officially ,sta...</td>\n",
       "      <td>11</td>\n",
       "      <td>1.000000</td>\n",
       "      <td>1.000000</td>\n",
       "      <td>PERSON</td>\n",
       "    </tr>\n",
       "    <tr>\n",
       "      <th>35</th>\n",
       "      <td>ns</td>\n",
       "      <td>booklet ,portal ,portal ,portal ,hotline ,port...</td>\n",
       "      <td>9</td>\n",
       "      <td>1.000000</td>\n",
       "      <td>1.000000</td>\n",
       "      <td>ORG</td>\n",
       "    </tr>\n",
       "    <tr>\n",
       "      <th>36</th>\n",
       "      <td>ns</td>\n",
       "      <td>booklet ,portal ,portal ,portal ,hotline ,port...</td>\n",
       "      <td>9</td>\n",
       "      <td>1.000000</td>\n",
       "      <td>1.000000</td>\n",
       "      <td>GPE</td>\n",
       "    </tr>\n",
       "    <tr>\n",
       "      <th>39</th>\n",
       "      <td>portal</td>\n",
       "      <td>ns ,ns ,check ,ns ,ns ,seem ,ns ,ns</td>\n",
       "      <td>8</td>\n",
       "      <td>1.000000</td>\n",
       "      <td>1.000000</td>\n",
       "      <td>PORTAL</td>\n",
       "    </tr>\n",
       "    <tr>\n",
       "      <th>43</th>\n",
       "      <td>months</td>\n",
       "      <td>e1 ,took ,took ,e1 ,took ,took ,e1 ,took ,took...</td>\n",
       "      <td>8</td>\n",
       "      <td>1.076923</td>\n",
       "      <td>1.076923</td>\n",
       "      <td>DATE</td>\n",
       "    </tr>\n",
       "    <tr>\n",
       "      <th>50</th>\n",
       "      <td>weeks</td>\n",
       "      <td>half ,training ,training</td>\n",
       "      <td>6</td>\n",
       "      <td>0.666667</td>\n",
       "      <td>1.000000</td>\n",
       "      <td>DATE</td>\n",
       "    </tr>\n",
       "    <tr>\n",
       "      <th>51</th>\n",
       "      <td>camp</td>\n",
       "      <td>bedok ,entering ,khatib ,use ,kranji ,miss</td>\n",
       "      <td>6</td>\n",
       "      <td>1.000000</td>\n",
       "      <td>1.000000</td>\n",
       "      <td>CAMP</td>\n",
       "    </tr>\n",
       "    <tr>\n",
       "      <th>70</th>\n",
       "      <td>fcc</td>\n",
       "      <td>conduct ,khatib ,closed ,kranji ,try</td>\n",
       "      <td>5</td>\n",
       "      <td>1.000000</td>\n",
       "      <td>1.000000</td>\n",
       "      <td>FCC</td>\n",
       "    </tr>\n",
       "    <tr>\n",
       "      <th>72</th>\n",
       "      <td>years</td>\n",
       "      <td>old ,many ,clear ,working ,mean</td>\n",
       "      <td>5</td>\n",
       "      <td>0.733333</td>\n",
       "      <td>0.800000</td>\n",
       "      <td>DATE</td>\n",
       "    </tr>\n",
       "    <tr>\n",
       "      <th>73</th>\n",
       "      <td>days</td>\n",
       "      <td>slight ,working</td>\n",
       "      <td>5</td>\n",
       "      <td>1.000000</td>\n",
       "      <td>1.000000</td>\n",
       "      <td>DATE</td>\n",
       "    </tr>\n",
       "    <tr>\n",
       "      <th>84</th>\n",
       "      <td>bmt</td>\n",
       "      <td>enter ,part ,companies</td>\n",
       "      <td>4</td>\n",
       "      <td>1.000000</td>\n",
       "      <td>1.000000</td>\n",
       "      <td>BMT</td>\n",
       "    </tr>\n",
       "    <tr>\n",
       "      <th>94</th>\n",
       "      <td>saf</td>\n",
       "      <td>try ,specialist</td>\n",
       "      <td>4</td>\n",
       "      <td>1.000000</td>\n",
       "      <td>1.000000</td>\n",
       "      <td>ORG</td>\n",
       "    </tr>\n",
       "    <tr>\n",
       "      <th>95</th>\n",
       "      <td>saf</td>\n",
       "      <td>try ,specialist</td>\n",
       "      <td>4</td>\n",
       "      <td>1.000000</td>\n",
       "      <td>1.000000</td>\n",
       "      <td>PERSON</td>\n",
       "    </tr>\n",
       "    <tr>\n",
       "      <th>106</th>\n",
       "      <td>finish</td>\n",
       "      <td>next ,carry ,lah ,cycle ,never ,fit</td>\n",
       "      <td>3</td>\n",
       "      <td>1.166667</td>\n",
       "      <td>1.166667</td>\n",
       "      <td>NORP</td>\n",
       "    </tr>\n",
       "    <tr>\n",
       "      <th>107</th>\n",
       "      <td>medical</td>\n",
       "      <td>review ,board ,board</td>\n",
       "      <td>3</td>\n",
       "      <td>1.000000</td>\n",
       "      <td>1.000000</td>\n",
       "      <td>MEDICAL</td>\n",
       "    </tr>\n",
       "    <tr>\n",
       "      <th>129</th>\n",
       "      <td>guards</td>\n",
       "      <td>kena</td>\n",
       "      <td>3</td>\n",
       "      <td>0.142857</td>\n",
       "      <td>1.000000</td>\n",
       "      <td>ORG</td>\n",
       "    </tr>\n",
       "    <tr>\n",
       "      <th>132</th>\n",
       "      <td>nsf</td>\n",
       "      <td>incoming ,went</td>\n",
       "      <td>3</td>\n",
       "      <td>1.000000</td>\n",
       "      <td>1.000000</td>\n",
       "      <td>ORG</td>\n",
       "    </tr>\n",
       "    <tr>\n",
       "      <th>165</th>\n",
       "      <td>oc</td>\n",
       "      <td>told ,going</td>\n",
       "      <td>2</td>\n",
       "      <td>1.000000</td>\n",
       "      <td>1.000000</td>\n",
       "      <td>ORG</td>\n",
       "    </tr>\n",
       "    <tr>\n",
       "      <th>166</th>\n",
       "      <td>one</td>\n",
       "      <td>red ,took ,knows</td>\n",
       "      <td>2</td>\n",
       "      <td>1.166667</td>\n",
       "      <td>1.000000</td>\n",
       "      <td>CARDINAL</td>\n",
       "    </tr>\n",
       "    <tr>\n",
       "      <th>185</th>\n",
       "      <td>saturday</td>\n",
       "      <td>interview</td>\n",
       "      <td>2</td>\n",
       "      <td>1.000000</td>\n",
       "      <td>1.000000</td>\n",
       "      <td>DATE</td>\n",
       "    </tr>\n",
       "    <tr>\n",
       "      <th>186</th>\n",
       "      <td>mo</td>\n",
       "      <td>see ,ask</td>\n",
       "      <td>2</td>\n",
       "      <td>0.500000</td>\n",
       "      <td>1.000000</td>\n",
       "      <td>MEDICAL</td>\n",
       "    </tr>\n",
       "    <tr>\n",
       "      <th>188</th>\n",
       "      <td>specialist</td>\n",
       "      <td>consultation ,saf</td>\n",
       "      <td>2</td>\n",
       "      <td>1.000000</td>\n",
       "      <td>1.000000</td>\n",
       "      <td>MEDICAL</td>\n",
       "    </tr>\n",
       "    <tr>\n",
       "      <th>234</th>\n",
       "      <td>service</td>\n",
       "      <td>pay ,medals</td>\n",
       "      <td>2</td>\n",
       "      <td>1.000000</td>\n",
       "      <td>1.000000</td>\n",
       "      <td>SERVICE</td>\n",
       "    </tr>\n",
       "    <tr>\n",
       "      <th>246</th>\n",
       "      <td>navy</td>\n",
       "      <td>call ,centerbro</td>\n",
       "      <td>2</td>\n",
       "      <td>1.000000</td>\n",
       "      <td>1.000000</td>\n",
       "      <td>ORG</td>\n",
       "    </tr>\n",
       "    <tr>\n",
       "      <th>260</th>\n",
       "      <td>army</td>\n",
       "      <td>men</td>\n",
       "      <td>1</td>\n",
       "      <td>1.000000</td>\n",
       "      <td>1.000000</td>\n",
       "      <td>ORG</td>\n",
       "    </tr>\n",
       "    <tr>\n",
       "      <th>310</th>\n",
       "      <td>recruit</td>\n",
       "      <td>poor</td>\n",
       "      <td>1</td>\n",
       "      <td>0.000000</td>\n",
       "      <td>0.000000</td>\n",
       "      <td>ORG</td>\n",
       "    </tr>\n",
       "    <tr>\n",
       "      <th>330</th>\n",
       "      <td>commando</td>\n",
       "      <td>xiong</td>\n",
       "      <td>1</td>\n",
       "      <td>1.000000</td>\n",
       "      <td>1.000000</td>\n",
       "      <td>ORG</td>\n",
       "    </tr>\n",
       "    <tr>\n",
       "      <th>337</th>\n",
       "      <td>cdec</td>\n",
       "      <td>grades</td>\n",
       "      <td>1</td>\n",
       "      <td>1.000000</td>\n",
       "      <td>1.000000</td>\n",
       "      <td>ORG</td>\n",
       "    </tr>\n",
       "    <tr>\n",
       "      <th>351</th>\n",
       "      <td>profile</td>\n",
       "      <td>says</td>\n",
       "      <td>1</td>\n",
       "      <td>1.000000</td>\n",
       "      <td>1.000000</td>\n",
       "      <td>PERSON</td>\n",
       "    </tr>\n",
       "    <tr>\n",
       "      <th>401</th>\n",
       "      <td>pop</td>\n",
       "      <td>coy ,already ,ago</td>\n",
       "      <td>1</td>\n",
       "      <td>1.000000</td>\n",
       "      <td>1.000000</td>\n",
       "      <td>ORG</td>\n",
       "    </tr>\n",
       "    <tr>\n",
       "      <th>418</th>\n",
       "      <td>govt</td>\n",
       "      <td>fine</td>\n",
       "      <td>1</td>\n",
       "      <td>2.000000</td>\n",
       "      <td>2.000000</td>\n",
       "      <td>ORG</td>\n",
       "    </tr>\n",
       "    <tr>\n",
       "      <th>456</th>\n",
       "      <td>ict</td>\n",
       "      <td>single ,done</td>\n",
       "      <td>1</td>\n",
       "      <td>1.000000</td>\n",
       "      <td>1.000000</td>\n",
       "      <td>ICT</td>\n",
       "    </tr>\n",
       "    <tr>\n",
       "      <th>463</th>\n",
       "      <td>night</td>\n",
       "      <td>last</td>\n",
       "      <td>1</td>\n",
       "      <td>1.000000</td>\n",
       "      <td>1.000000</td>\n",
       "      <td>TIME</td>\n",
       "    </tr>\n",
       "    <tr>\n",
       "      <th>521</th>\n",
       "      <td>obese</td>\n",
       "      <td>personnel</td>\n",
       "      <td>1</td>\n",
       "      <td>1.000000</td>\n",
       "      <td>1.000000</td>\n",
       "      <td>NORP</td>\n",
       "    </tr>\n",
       "    <tr>\n",
       "      <th>570</th>\n",
       "      <td>july</td>\n",
       "      <td>last</td>\n",
       "      <td>1</td>\n",
       "      <td>1.000000</td>\n",
       "      <td>1.000000</td>\n",
       "      <td>DATE</td>\n",
       "    </tr>\n",
       "    <tr>\n",
       "      <th>620</th>\n",
       "      <td>booking</td>\n",
       "      <td>cancel</td>\n",
       "      <td>1</td>\n",
       "      <td>1.000000</td>\n",
       "      <td>1.000000</td>\n",
       "      <td>PORTAL</td>\n",
       "    </tr>\n",
       "  </tbody>\n",
       "</table>\n",
       "</div>"
      ],
      "text/plain": [
       "          index                               Descriptors_singlish  \\\n",
       "1          ippt  book ,take ,rewards ,whole ,finish ,take ,atte...   \n",
       "12           rt  loh ,got ,complete ,cleared ,attending ,booked...   \n",
       "13      session  first ,ipt ,8th ,previous ,book ,ippt ,book ,f...   \n",
       "21        first  loh ,attend ,session ,sessions ,clear ,ipt ,sh...   \n",
       "27          pes  f ,status ,e1 ,officially ,e1 ,officially ,sta...   \n",
       "28          pes  f ,status ,e1 ,officially ,e1 ,officially ,sta...   \n",
       "35           ns  booklet ,portal ,portal ,portal ,hotline ,port...   \n",
       "36           ns  booklet ,portal ,portal ,portal ,hotline ,port...   \n",
       "39       portal                ns ,ns ,check ,ns ,ns ,seem ,ns ,ns   \n",
       "43       months  e1 ,took ,took ,e1 ,took ,took ,e1 ,took ,took...   \n",
       "50        weeks                           half ,training ,training   \n",
       "51         camp         bedok ,entering ,khatib ,use ,kranji ,miss   \n",
       "70          fcc               conduct ,khatib ,closed ,kranji ,try   \n",
       "72        years                    old ,many ,clear ,working ,mean   \n",
       "73         days                                    slight ,working   \n",
       "84          bmt                             enter ,part ,companies   \n",
       "94          saf                                    try ,specialist   \n",
       "95          saf                                    try ,specialist   \n",
       "106      finish                next ,carry ,lah ,cycle ,never ,fit   \n",
       "107     medical                               review ,board ,board   \n",
       "129      guards                                               kena   \n",
       "132         nsf                                     incoming ,went   \n",
       "165          oc                                        told ,going   \n",
       "166         one                                   red ,took ,knows   \n",
       "185    saturday                                          interview   \n",
       "186          mo                                           see ,ask   \n",
       "188  specialist                                  consultation ,saf   \n",
       "234     service                                        pay ,medals   \n",
       "246        navy                                    call ,centerbro   \n",
       "260        army                                                men   \n",
       "310     recruit                                               poor   \n",
       "330    commando                                              xiong   \n",
       "337        cdec                                             grades   \n",
       "351     profile                                               says   \n",
       "401         pop                                  coy ,already ,ago   \n",
       "418        govt                                               fine   \n",
       "456         ict                                       single ,done   \n",
       "463       night                                               last   \n",
       "521       obese                                          personnel   \n",
       "570        july                                               last   \n",
       "620     booking                                             cancel   \n",
       "\n",
       "     Freq_singlish  Avg_sent_singlish  Avg_sent_no singlish    entity  \n",
       "1               50           0.900794              0.928571      IPPT  \n",
       "12              19           1.181818              1.181818    RT/IPT  \n",
       "13              17           1.000000              1.000000  TRAINING  \n",
       "21              13           0.969697              1.000000   ORDINAL  \n",
       "27              11           1.000000              1.000000       ORG  \n",
       "28              11           1.000000              1.000000    PERSON  \n",
       "35               9           1.000000              1.000000       ORG  \n",
       "36               9           1.000000              1.000000       GPE  \n",
       "39               8           1.000000              1.000000    PORTAL  \n",
       "43               8           1.076923              1.076923      DATE  \n",
       "50               6           0.666667              1.000000      DATE  \n",
       "51               6           1.000000              1.000000      CAMP  \n",
       "70               5           1.000000              1.000000       FCC  \n",
       "72               5           0.733333              0.800000      DATE  \n",
       "73               5           1.000000              1.000000      DATE  \n",
       "84               4           1.000000              1.000000       BMT  \n",
       "94               4           1.000000              1.000000       ORG  \n",
       "95               4           1.000000              1.000000    PERSON  \n",
       "106              3           1.166667              1.166667      NORP  \n",
       "107              3           1.000000              1.000000   MEDICAL  \n",
       "129              3           0.142857              1.000000       ORG  \n",
       "132              3           1.000000              1.000000       ORG  \n",
       "165              2           1.000000              1.000000       ORG  \n",
       "166              2           1.166667              1.000000  CARDINAL  \n",
       "185              2           1.000000              1.000000      DATE  \n",
       "186              2           0.500000              1.000000   MEDICAL  \n",
       "188              2           1.000000              1.000000   MEDICAL  \n",
       "234              2           1.000000              1.000000   SERVICE  \n",
       "246              2           1.000000              1.000000       ORG  \n",
       "260              1           1.000000              1.000000       ORG  \n",
       "310              1           0.000000              0.000000       ORG  \n",
       "330              1           1.000000              1.000000       ORG  \n",
       "337              1           1.000000              1.000000       ORG  \n",
       "351              1           1.000000              1.000000    PERSON  \n",
       "401              1           1.000000              1.000000       ORG  \n",
       "418              1           2.000000              2.000000       ORG  \n",
       "456              1           1.000000              1.000000       ICT  \n",
       "463              1           1.000000              1.000000      TIME  \n",
       "521              1           1.000000              1.000000      NORP  \n",
       "570              1           1.000000              1.000000      DATE  \n",
       "620              1           1.000000              1.000000    PORTAL  "
      ]
     },
     "execution_count": 25,
     "metadata": {},
     "output_type": "execute_result"
    }
   ],
   "source": [
    "df_entity_level"
   ]
  },
  {
   "cell_type": "code",
   "execution_count": 26,
   "id": "failing-belly",
   "metadata": {},
   "outputs": [],
   "source": [
    "groupby_entity = df_entity_level.groupby('entity')[['Avg_sent_singlish']].mean()"
   ]
  },
  {
   "cell_type": "code",
   "execution_count": 27,
   "id": "cellular-occurrence",
   "metadata": {},
   "outputs": [
    {
     "data": {
      "text/html": [
       "<div>\n",
       "<style scoped>\n",
       "    .dataframe tbody tr th:only-of-type {\n",
       "        vertical-align: middle;\n",
       "    }\n",
       "\n",
       "    .dataframe tbody tr th {\n",
       "        vertical-align: top;\n",
       "    }\n",
       "\n",
       "    .dataframe thead th {\n",
       "        text-align: right;\n",
       "    }\n",
       "</style>\n",
       "<table border=\"1\" class=\"dataframe\">\n",
       "  <thead>\n",
       "    <tr style=\"text-align: right;\">\n",
       "      <th></th>\n",
       "      <th>Avg_sent_singlish</th>\n",
       "    </tr>\n",
       "    <tr>\n",
       "      <th>entity</th>\n",
       "      <th></th>\n",
       "    </tr>\n",
       "  </thead>\n",
       "  <tbody>\n",
       "    <tr>\n",
       "      <th>BMT</th>\n",
       "      <td>1.000000</td>\n",
       "    </tr>\n",
       "    <tr>\n",
       "      <th>CAMP</th>\n",
       "      <td>1.000000</td>\n",
       "    </tr>\n",
       "    <tr>\n",
       "      <th>CARDINAL</th>\n",
       "      <td>1.166667</td>\n",
       "    </tr>\n",
       "    <tr>\n",
       "      <th>DATE</th>\n",
       "      <td>0.912821</td>\n",
       "    </tr>\n",
       "    <tr>\n",
       "      <th>FCC</th>\n",
       "      <td>1.000000</td>\n",
       "    </tr>\n",
       "    <tr>\n",
       "      <th>GPE</th>\n",
       "      <td>1.000000</td>\n",
       "    </tr>\n",
       "    <tr>\n",
       "      <th>ICT</th>\n",
       "      <td>1.000000</td>\n",
       "    </tr>\n",
       "    <tr>\n",
       "      <th>IPPT</th>\n",
       "      <td>0.900794</td>\n",
       "    </tr>\n",
       "    <tr>\n",
       "      <th>MEDICAL</th>\n",
       "      <td>0.833333</td>\n",
       "    </tr>\n",
       "    <tr>\n",
       "      <th>NORP</th>\n",
       "      <td>1.083333</td>\n",
       "    </tr>\n",
       "    <tr>\n",
       "      <th>ORDINAL</th>\n",
       "      <td>0.969697</td>\n",
       "    </tr>\n",
       "    <tr>\n",
       "      <th>ORG</th>\n",
       "      <td>0.934066</td>\n",
       "    </tr>\n",
       "    <tr>\n",
       "      <th>PERSON</th>\n",
       "      <td>1.000000</td>\n",
       "    </tr>\n",
       "    <tr>\n",
       "      <th>PORTAL</th>\n",
       "      <td>1.000000</td>\n",
       "    </tr>\n",
       "    <tr>\n",
       "      <th>RT/IPT</th>\n",
       "      <td>1.181818</td>\n",
       "    </tr>\n",
       "    <tr>\n",
       "      <th>SERVICE</th>\n",
       "      <td>1.000000</td>\n",
       "    </tr>\n",
       "    <tr>\n",
       "      <th>TIME</th>\n",
       "      <td>1.000000</td>\n",
       "    </tr>\n",
       "    <tr>\n",
       "      <th>TRAINING</th>\n",
       "      <td>1.000000</td>\n",
       "    </tr>\n",
       "  </tbody>\n",
       "</table>\n",
       "</div>"
      ],
      "text/plain": [
       "          Avg_sent_singlish\n",
       "entity                     \n",
       "BMT                1.000000\n",
       "CAMP               1.000000\n",
       "CARDINAL           1.166667\n",
       "DATE               0.912821\n",
       "FCC                1.000000\n",
       "GPE                1.000000\n",
       "ICT                1.000000\n",
       "IPPT               0.900794\n",
       "MEDICAL            0.833333\n",
       "NORP               1.083333\n",
       "ORDINAL            0.969697\n",
       "ORG                0.934066\n",
       "PERSON             1.000000\n",
       "PORTAL             1.000000\n",
       "RT/IPT             1.181818\n",
       "SERVICE            1.000000\n",
       "TIME               1.000000\n",
       "TRAINING           1.000000"
      ]
     },
     "execution_count": 27,
     "metadata": {},
     "output_type": "execute_result"
    }
   ],
   "source": [
    "groupby_entity"
   ]
  },
  {
   "cell_type": "code",
   "execution_count": null,
   "id": "magnetic-invalid",
   "metadata": {},
   "outputs": [],
   "source": []
  }
 ],
 "metadata": {
  "kernelspec": {
   "display_name": "Python 3",
   "language": "python",
   "name": "python3"
  },
  "language_info": {
   "codemirror_mode": {
    "name": "ipython",
    "version": 3
   },
   "file_extension": ".py",
   "mimetype": "text/x-python",
   "name": "python",
   "nbconvert_exporter": "python",
   "pygments_lexer": "ipython3",
   "version": "3.8.8"
  }
 },
 "nbformat": 4,
 "nbformat_minor": 5
}
