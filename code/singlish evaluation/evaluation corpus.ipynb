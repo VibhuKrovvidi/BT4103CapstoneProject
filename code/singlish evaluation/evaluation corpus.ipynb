{
 "cells": [
  {
   "cell_type": "code",
   "execution_count": null,
   "id": "impressed-color",
   "metadata": {},
   "outputs": [],
   "source": [
    "import pandas as pd\n",
    "import numpy as np\n",
    "import random"
   ]
  },
  {
   "cell_type": "code",
   "execution_count": null,
   "id": "occupational-holder",
   "metadata": {},
   "outputs": [],
   "source": [
    "gr = pd.read_csv('all-camps-google-reviews.csv')\n",
    "gr.dropna(inplace = True)\n",
    "gr.reset_index(drop=True, inplace = True)\n",
    "randomlist_gr = random.sample(range(1, len(gr)), 2)"
   ]
  },
  {
   "cell_type": "code",
   "execution_count": null,
   "id": "continuing-remark",
   "metadata": {},
   "outputs": [],
   "source": [
    "hwz = pd.read_csv('hwz_merged_output.csv')\n",
    "hwz.dropna(inplace = True)\n",
    "hwz.reset_index(drop=True, inplace = True)\n",
    "randomlist_hwz = random.sample(range(1, len(hwz)), 156)"
   ]
  },
  {
   "cell_type": "code",
   "execution_count": null,
   "id": "hearing-reach",
   "metadata": {},
   "outputs": [],
   "source": [
    "reddit = pd.read_csv('nationalservicesg_combineddata.csv')\n",
    "reddit.dropna(inplace = True)\n",
    "reddit.reset_index(drop=True, inplace = True)\n",
    "randomlist_reddit = random.sample(range(1, len(reddit)), 42)"
   ]
  },
  {
   "cell_type": "code",
   "execution_count": null,
   "id": "comparative-alexandria",
   "metadata": {},
   "outputs": [],
   "source": [
    "eval_corpus = []\n",
    "for num in randomlist_gr:\n",
    "    eval_corpus.append(gr['Content'][num])\n",
    "for num in randomlist_hwz:\n",
    "    eval_corpus.append(hwz['post'][num])\n",
    "for num in randomlist_reddit:\n",
    "    eval_corpus.append(reddit['content'][num])\n",
    "print(len(eval_corpus))"
   ]
  },
  {
   "cell_type": "code",
   "execution_count": null,
   "id": "familiar-questionnaire",
   "metadata": {},
   "outputs": [],
   "source": [
    "from pandas import DataFrame\n",
    "e_corpus = DataFrame(eval_corpus,columns=['content'])\n",
    "e_corpus.to_csv('evaluation corpus.csv')"
   ]
  }
 ],
 "metadata": {
  "kernelspec": {
   "display_name": "Python 3",
   "language": "python",
   "name": "python3"
  },
  "language_info": {
   "codemirror_mode": {
    "name": "ipython",
    "version": 3
   },
   "file_extension": ".py",
   "mimetype": "text/x-python",
   "name": "python",
   "nbconvert_exporter": "python",
   "pygments_lexer": "ipython3",
   "version": "3.8.8"
  }
 },
 "nbformat": 4,
 "nbformat_minor": 5
}
