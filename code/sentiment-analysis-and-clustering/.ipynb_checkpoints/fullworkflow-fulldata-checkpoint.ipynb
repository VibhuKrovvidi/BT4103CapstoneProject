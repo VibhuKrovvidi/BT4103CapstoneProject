{
 "cells": [
  {
   "cell_type": "markdown",
   "metadata": {},
   "source": [
    "# Full Workflow\n",
    "\n",
    "Feature Extraction + Word embedding + Clustering + Evaluation"
   ]
  },
  {
   "cell_type": "markdown",
   "metadata": {},
   "source": [
    "# 1. Feature Extraction"
   ]
  },
  {
   "cell_type": "code",
   "execution_count": 1,
   "metadata": {},
   "outputs": [
    {
     "name": "stderr",
     "output_type": "stream",
     "text": [
      "Downloading https://raw.githubusercontent.com/stanfordnlp/stanza-resources/master/resources_1.2.0.json: 128kB [00:00, 1.14MB/s]\n",
      "2021-03-26 00:30:45 INFO: Downloading default packages for language: en (English)...\n",
      "2021-03-26 00:30:47 INFO: File exists: C:\\Users\\TzeMin\\stanza_resources\\en\\default.zip.\n",
      "2021-03-26 00:30:56 INFO: Finished downloading models and saved to C:\\Users\\TzeMin\\stanza_resources.\n",
      "[nltk_data] Downloading package stopwords to\n",
      "[nltk_data]     C:\\Users\\TzeMin\\AppData\\Roaming\\nltk_data...\n",
      "[nltk_data]   Package stopwords is already up-to-date!\n",
      "[nltk_data] Downloading package punkt to\n",
      "[nltk_data]     C:\\Users\\TzeMin\\AppData\\Roaming\\nltk_data...\n",
      "[nltk_data]   Package punkt is already up-to-date!\n",
      "[nltk_data] Downloading package averaged_perceptron_tagger to\n",
      "[nltk_data]     C:\\Users\\TzeMin\\AppData\\Roaming\\nltk_data...\n",
      "[nltk_data]   Package averaged_perceptron_tagger is already up-to-\n",
      "[nltk_data]       date!\n"
     ]
    },
    {
     "data": {
      "text/plain": [
       "True"
      ]
     },
     "execution_count": 1,
     "metadata": {},
     "output_type": "execute_result"
    }
   ],
   "source": [
    "import pandas as pd\n",
    "import numpy as np\n",
    "import nltk\n",
    "import regex\n",
    "import re\n",
    "from tqdm import tqdm\n",
    "from nltk.corpus import stopwords\n",
    "from nltk.corpus import wordnet\n",
    "from nltk.tokenize import word_tokenize, sent_tokenize\n",
    "from nltk.stem.wordnet import WordNetLemmatizer \n",
    "from sklearn.feature_extraction.text import TfidfVectorizer\n",
    "import stanza\n",
    "stanza.download('en') # download English model\n",
    "nltk.download('stopwords')\n",
    "nltk.download('punkt')\n",
    "nltk.download('averaged_perceptron_tagger')"
   ]
  },
  {
   "cell_type": "code",
   "execution_count": 2,
   "metadata": {},
   "outputs": [],
   "source": [
    "def feature_extraction(txt, nlp):\n",
    "    \n",
    "    sentList = nltk.sent_tokenize(txt)\n",
    "    retlist = [];\n",
    "    \n",
    "    for line in sentList:\n",
    "        txt_list = nltk.word_tokenize(line)\n",
    "        taggedList = nltk.pos_tag(txt_list)\n",
    "        newwordList = []\n",
    "        flag = 0\n",
    "        \n",
    "        for i in range(0,len(taggedList)-1):\n",
    "            if(taggedList[i][1]==\"NN\" and taggedList[i+1][1]==\"NN\"):\n",
    "                newwordList.append(taggedList[i][0]+taggedList[i+1][0])\n",
    "                flag=1\n",
    "            else:\n",
    "                if(flag==1):\n",
    "                    flag=0\n",
    "                    continue\n",
    "                newwordList.append(taggedList[i][0])\n",
    "                if(i==len(taggedList)-2):\n",
    "                    newwordList.append(taggedList[i+1][0])\n",
    "        finaltxt = ' '.join(word for word in newwordList)\n",
    "    \n",
    "        stop_words = set(stopwords.words('english'))\n",
    "        new_txt_list = nltk.word_tokenize(finaltxt)\n",
    "        wordsList = [w for w in new_txt_list if not w in stop_words]\n",
    "        taggedList = nltk.pos_tag(wordsList)\n",
    "        \n",
    "        doc = nlp(finaltxt)\n",
    "        dep_node = []\n",
    "        try:\n",
    "            for dep_edge in doc.sentences[0].dependencies:\n",
    "                dep_node.append([dep_edge[2].text, dep_edge[0].id, dep_edge[1]])\n",
    "            for i in range(0, len(dep_node)):\n",
    "                if (int(dep_node[i][1]) != 0):\n",
    "                    dep_node[i][1] = newwordList[(int(dep_node[i][1]) - 1)]\n",
    "        except:\n",
    "            pass;\n",
    "                \n",
    "        featureList = []\n",
    "        categories = []\n",
    "        for i in taggedList:\n",
    "            if(i[1]=='JJ' or i[1]=='NN' or i[1]=='JJR' or i[1]=='NNS' or i[1]=='RB'):\n",
    "                featureList.append(list(i))\n",
    "                categories.append(i[0])        \n",
    "        \n",
    "        fcluster = []\n",
    "        for i in featureList:\n",
    "            filist = []\n",
    "            for j in dep_node:\n",
    "                if((j[0]==i[0] or j[1]==i[0]) and (j[2] in [\n",
    "                    # Different types of words that are identified as potential features\n",
    "                    \"nsubj\",\n",
    "                    #\"acl:relcl\",\n",
    "                    \"obj\",\n",
    "                    \"dobj\",\n",
    "                    #\"agent\",\n",
    "                    #\"advmod\",\n",
    "                    #\"amod\",\n",
    "                    #\"neg\",\n",
    "                    #\"prep_of\",\n",
    "                    #\"acomp\",\n",
    "                    #\"xcomp\",\n",
    "                    #\"compound\"\n",
    "                ])):\n",
    "                    if(j[0]==i[0]):\n",
    "                        filist.append(j[1])\n",
    "                    else:\n",
    "                        filist.append(j[0])\n",
    "            fcluster.append([i[0], filist])\n",
    "        print(fcluster) \n",
    "        \n",
    "        # Remove all features with no sentiment word:\n",
    "        retlist.append(fcluster)\n",
    "    return retlist;\n",
    "\n",
    "def do_extraction(df, nlp, feat_count, feat_sent, content_str = \"Content\"):\n",
    "    idx = 0;\n",
    "    # Replace \"\" with nan's for removal\n",
    "    df[content_str].replace('', np.nan, inplace=True)\n",
    "    df.dropna(subset=[content_str], inplace=True)\n",
    "    review_list = df[content_str].to_list()     \n",
    "    print(\" Processing : \" , df.shape[0], \"rows of data\")\n",
    "    \n",
    "    for review in tqdm(review_list):\n",
    "        print(\"Review Number : \", idx);\n",
    "        \n",
    "        # Some data pre-processing\n",
    "        review = review.lower()\n",
    "        \n",
    "        # Merge hyphenated words\n",
    "        separate = review.split('-')\n",
    "        review = ''.join(separate)\n",
    "        \n",
    "        # Remove non-alphabets\n",
    "        review = re.sub(r'[^a-z\\s\\t]', '', review)\n",
    "        \n",
    "        idx += 1;\n",
    "        if idx >= df.shape[0]:\n",
    "            break;\n",
    "        try:\n",
    "            output = feature_extraction(review, nlp);\n",
    "        except:\n",
    "            pass;\n",
    "        for sent in output:\n",
    "            for pair in sent:\n",
    "                print(pair)\n",
    "                if pair[0] in feat_sent:\n",
    "                    if pair[1] is not None:\n",
    "                        flist = feat_sent[pair[0]]\n",
    "                        if isinstance(pair[1], list):\n",
    "                            for i in pair[1]:\n",
    "                                flist.append(i)\n",
    "                        else:\n",
    "                            flist.append(pair[1])\n",
    "                        feat_sent[pair[0]] = flist;\n",
    "                else:\n",
    "                    if pair[1] is not None:\n",
    "                        flist = pair[1]\n",
    "                    else:\n",
    "                        flist = list()\n",
    "                    feat_sent[pair[0]] = flist;\n",
    "                \n",
    "                if pair[0] in feat_count:\n",
    "                    feat_count[pair[0]] = feat_count[pair[0]] + 1;\n",
    "                else:\n",
    "                    feat_count[pair[0]] = 1\n",
    "    \n",
    "    return feat_count, feat_sent;\n",
    "\n",
    "def get_sentiment(feat_count, feat_sent, nlp):\n",
    "\n",
    "    sentiment_score = dict()\n",
    "\n",
    "    # Delete features with no descriptors\n",
    "    cob = feat_sent.copy()\n",
    "    for feat in cob.keys():\n",
    "        if cob[feat] == []:\n",
    "            del feat_sent[feat]\n",
    "        else:\n",
    "            feat_sent[feat] = ' ,'.join(feat_sent[feat])\n",
    "\n",
    "    # Run pre-built sentiment score and take avg of all descriptors\n",
    "    for f in tqdm(feat_sent.keys()):\n",
    "        print(\"Calculating Sentiment for: \", f);\n",
    "        ssum = 0;\n",
    "        for g in feat_sent[f]:\n",
    "            try:\n",
    "                doc = nlp(g);\n",
    "                for i in doc.sentences:\n",
    "                        ssum += i.sentiment;\n",
    "            except:\n",
    "                pass;\n",
    "        sentiment_score[f] = ssum / len(b[f])\n",
    "\n",
    "    adf = pd.DataFrame.from_dict(feat_count, orient='index', columns=['Freq'])\n",
    "    adf.sort_values(by=\"Freq\", ascending=False, inplace = True)\n",
    "\n",
    "    avg_sent = pd.DataFrame.from_dict(sentiment_score, orient='index', columns=[\"Avg_sent\"])\n",
    "    desc_words = pd.DataFrame.from_dict(feat_sent, orient=\"index\", columns=[\"Descriptors\"])\n",
    "    \n",
    "    avg_sent = avg_sent.merge(desc_words, left_index=True, right_index=True)\n",
    "    final_sent = avg_sent.merge(adf, left_index=True, right_index=True)\n",
    "    final_sent.sort_values(by=\"Freq\", ascending=False, inplace=True)\n",
    "    return final_sent;"
   ]
  },
  {
   "cell_type": "code",
   "execution_count": null,
   "metadata": {
    "scrolled": true
   },
   "outputs": [
    {
     "name": "stderr",
     "output_type": "stream",
     "text": [
      "2021-03-26 00:31:33 INFO: Loading these models for language: en (English):\n",
      "=========================\n",
      "| Processor | Package   |\n",
      "-------------------------\n",
      "| tokenize  | combined  |\n",
      "| pos       | combined  |\n",
      "| lemma     | combined  |\n",
      "| depparse  | combined  |\n",
      "| sentiment | sstplus   |\n",
      "| ner       | ontonotes |\n",
      "=========================\n",
      "\n",
      "2021-03-26 00:31:33 INFO: Use device: cpu\n",
      "2021-03-26 00:31:33 INFO: Loading: tokenize\n",
      "2021-03-26 00:31:33 INFO: Loading: pos\n",
      "2021-03-26 00:31:33 INFO: Loading: lemma\n",
      "2021-03-26 00:31:33 INFO: Loading: depparse\n",
      "2021-03-26 00:31:34 INFO: Loading: sentiment\n",
      "2021-03-26 00:31:35 INFO: Loading: ner\n",
      "2021-03-26 00:31:36 INFO: Done loading processors!\n",
      "  0%|                                                                                         | 0/3390 [00:00<?, ?it/s]"
     ]
    },
    {
     "name": "stdout",
     "output_type": "stream",
     "text": [
      " Processing :  3390 rows of data\n",
      "Review Number :  0\n"
     ]
    },
    {
     "name": "stderr",
     "output_type": "stream",
     "text": [
      "\r",
      "  0%|                                                                                 | 1/3390 [00:00<51:16,  1.10it/s]"
     ]
    },
    {
     "name": "stdout",
     "output_type": "stream",
     "text": [
      "[['professional', []], ['people', ['recommended']], ['patient', []], ['kind', ['recommended']], ['respectful', []], ['smooth', []], ['medical', []], ['checkup', []]]\n",
      "['professional', []]\n",
      "['people', ['recommended']]\n",
      "['patient', []]\n",
      "['kind', ['recommended']]\n",
      "['respectful', []]\n",
      "['smooth', []]\n",
      "['medical', []]\n",
      "['checkup', []]\n",
      "Review Number :  1\n"
     ]
    },
    {
     "name": "stderr",
     "output_type": "stream",
     "text": [
      "\r",
      "  0%|                                                                                 | 2/3390 [00:01<47:08,  1.20it/s]"
     ]
    },
    {
     "name": "stdout",
     "output_type": "stream",
     "text": [
      "[['reviews', ['suggest']], ['people', ['suggest']], ['adequately', []], ['anywhere', []], ['else', []], ['sg', []], ['place', ['clean']], ['really', []], ['clean', ['place']], ['efficient', []]]\n",
      "['reviews', ['suggest']]\n",
      "['people', ['suggest']]\n",
      "['adequately', []]\n",
      "['anywhere', []]\n",
      "['else', []]\n",
      "['sg', []]\n",
      "['place', ['clean']]\n",
      "['really', []]\n",
      "['clean', ['place']]\n",
      "['efficient', []]\n",
      "Review Number :  2\n"
     ]
    },
    {
     "name": "stderr",
     "output_type": "stream",
     "text": [
      "\r",
      "  0%|                                                                                 | 3/3390 [00:02<45:33,  1.24it/s]"
     ]
    },
    {
     "name": "stdout",
     "output_type": "stream",
     "text": [
      "[['place', ['experience']], ['overall', []], ['fine', []], ['good', []], ['experience', ['place']], ['tip', []], ['u', ['have']], ['medical', []], ['checkupdont', []], ['late', []], ['else', []], ['u', ['have']], ['back', []], ['day', []], ['complete', ['rest']], ['rest', ['complete']]]\n",
      "['place', ['experience']]\n",
      "['overall', []]\n",
      "['fine', []]\n",
      "['good', []]\n",
      "['experience', ['place']]\n",
      "['tip', []]\n",
      "['u', ['have']]\n",
      "['medical', []]\n",
      "['checkupdont', []]\n",
      "['late', []]\n",
      "['else', []]\n",
      "['u', ['have']]\n",
      "['back', []]\n",
      "['day', []]\n",
      "['complete', ['rest']]\n",
      "['rest', ['complete']]\n",
      "Review Number :  3\n"
     ]
    },
    {
     "name": "stderr",
     "output_type": "stream",
     "text": [
      "\r",
      "  0%|                                                                                 | 4/3390 [00:03<51:42,  1.09it/s]"
     ]
    },
    {
     "name": "stdout",
     "output_type": "stream",
     "text": [
      "[['nscheckup', []], ['checkuptoday', []], ['gateentrance', []], ['entrancesecurity', []], ['checkcounter', []], ['stickerpass', ['take']], ['walk', []], ['gatedont', []], ['mei', ['stood']], ['thinking', []], ['scan', ['i', 'the']]]\n",
      "['nscheckup', []]\n",
      "['checkuptoday', []]\n",
      "['gateentrance', []]\n",
      "['entrancesecurity', []]\n",
      "['checkcounter', []]\n",
      "['stickerpass', ['take']]\n",
      "['walk', []]\n",
      "['gatedont', []]\n",
      "['mei', ['stood']]\n",
      "['thinking', []]\n",
      "['scan', ['i', 'the']]\n",
      "Review Number :  4\n"
     ]
    },
    {
     "name": "stderr",
     "output_type": "stream",
     "text": [
      "\r",
      "  0%|                                                                                 | 5/3390 [00:04<59:16,  1.05s/it]"
     ]
    },
    {
     "name": "stdout",
     "output_type": "stream",
     "text": [
      "[['dontbother', ['end']], ['youll', []], ['end', ['dontbother']], ['hours', []], ['realise', ['that', 'youre']], ['youre', ['realise']], ['last', []], ['person', ['care']], ['line', []], ['doctors', []], ['really', []], ['fair', ['which']], ['dont', []], ['really', []], ['choice', ['have']], ['place', ['waste']], ['complete', []], ['waste', ['place']], ['space', []], ['time', []]]\n",
      "['dontbother', ['end']]\n",
      "['youll', []]\n",
      "['end', ['dontbother']]\n",
      "['hours', []]\n",
      "['realise', ['that', 'youre']]\n",
      "['youre', ['realise']]\n",
      "['last', []]\n",
      "['person', ['care']]\n",
      "['line', []]\n",
      "['doctors', []]\n",
      "['really', []]\n",
      "['fair', ['which']]\n",
      "['dont', []]\n",
      "['really', []]\n",
      "['choice', ['have']]\n",
      "['place', ['waste']]\n",
      "['complete', []]\n",
      "['waste', ['place']]\n",
      "['space', []]\n",
      "['time', []]\n",
      "Review Number :  5\n"
     ]
    },
    {
     "name": "stderr",
     "output_type": "stream",
     "text": [
      "\r",
      "  0%|▏                                                                                | 6/3390 [00:05<45:00,  1.25it/s]"
     ]
    },
    {
     "name": "stdout",
     "output_type": "stream",
     "text": [
      "[['nsf', []], ['reviews', []], ['lol', []]]\n",
      "['nsf', []]\n",
      "['reviews', []]\n",
      "['lol', []]\n",
      "Review Number :  6\n"
     ]
    },
    {
     "name": "stderr",
     "output_type": "stream",
     "text": [
      "\r",
      "  0%|▏                                                                                | 7/3390 [00:05<37:38,  1.50it/s]"
     ]
    },
    {
     "name": "stdout",
     "output_type": "stream",
     "text": [
      "[['extremely', []], ['long', []], ['time', ['takes']], ['due', []], ['overall', []], ['complete', []], ['waste', ['waiting']], ['time', ['takes']]]\n",
      "['extremely', []]\n",
      "['long', []]\n",
      "['time', ['takes']]\n",
      "['due', []]\n",
      "['overall', []]\n",
      "['complete', []]\n",
      "['waste', ['waiting']]\n",
      "['time', ['takes']]\n",
      "Review Number :  7\n"
     ]
    },
    {
     "name": "stderr",
     "output_type": "stream",
     "text": [
      "\r",
      "  0%|▏                                                                                | 8/3390 [00:06<41:23,  1.36it/s]"
     ]
    },
    {
     "name": "stdout",
     "output_type": "stream",
     "text": [
      "[['staff', ['professional']], ['professional', ['staff']], ['idk', []], ['bad', []], ['reviews', ['what']], ['personal', []], ['experienceeveryone', []], ['helpful', ['is']], ['initiative', ['take']], ['help', ['me']]]\n",
      "['staff', ['professional']]\n",
      "['professional', ['staff']]\n",
      "['idk', []]\n",
      "['bad', []]\n",
      "['reviews', ['what']]\n",
      "['personal', []]\n",
      "['experienceeveryone', []]\n",
      "['helpful', ['is']]\n",
      "['initiative', ['take']]\n",
      "['help', ['me']]\n",
      "Review Number :  8\n"
     ]
    },
    {
     "name": "stderr",
     "output_type": "stream",
     "text": [
      "\r",
      "  0%|▏                                                                                | 9/3390 [00:07<54:28,  1.03it/s]"
     ]
    },
    {
     "name": "stdout",
     "output_type": "stream",
     "text": [
      "[['unfriendly', []], ['staff', ['keep']], ['guards', ['doing']], ['job', ['doing']], ['staff', ['keep']], ['stuff', ['do']], ['suppose', ['which', 'they']], ['absolutely', []], ['atrocious', []], ['woman', ['is']], ['keeps', ['who']], ['tone', ['changing']], ['talks', ['she']], ['people', ['threatens']], ['people', ['threatens']], ['always', []], ['mask', ['removes']], ['talk', []], ['people', ['threatens']], ['expressions', ['show']]]\n",
      "['unfriendly', []]\n",
      "['staff', ['keep']]\n",
      "['guards', ['doing']]\n",
      "['job', ['doing']]\n",
      "['staff', ['keep']]\n",
      "['stuff', ['do']]\n",
      "['suppose', ['which', 'they']]\n",
      "['absolutely', []]\n",
      "['atrocious', []]\n",
      "['woman', ['is']]\n",
      "['keeps', ['who']]\n",
      "['tone', ['changing']]\n",
      "['talks', ['she']]\n",
      "['people', ['threatens']]\n",
      "['people', ['threatens']]\n",
      "['always', []]\n",
      "['mask', ['removes']]\n",
      "['talk', []]\n",
      "['people', ['threatens']]\n",
      "['expressions', ['show']]\n",
      "Review Number :  9\n"
     ]
    },
    {
     "name": "stderr",
     "output_type": "stream",
     "text": [
      "\r",
      "  0%|▏                                                                               | 10/3390 [00:08<45:45,  1.23it/s]"
     ]
    },
    {
     "name": "stdout",
     "output_type": "stream",
     "text": [
      "[['staff', ['rude']], ['medical', []], ['screening', []], ['station', []], ['weight', []], ['extremely', []], ['rude', ['staff']], ['unfriendly', []]]\n",
      "['staff', ['rude']]\n",
      "['medical', []]\n",
      "['screening', []]\n",
      "['station', []]\n",
      "['weight', []]\n",
      "['extremely', []]\n",
      "['rude', ['staff']]\n",
      "['unfriendly', []]\n",
      "Review Number :  10\n"
     ]
    },
    {
     "name": "stderr",
     "output_type": "stream",
     "text": [
      "\r",
      "  0%|▎                                                                               | 11/3390 [00:08<40:26,  1.39it/s]"
     ]
    },
    {
     "name": "stdout",
     "output_type": "stream",
     "text": [
      "[['staff', ['impatient']], ['serious', []], ['impatient', ['staff']], ['undesirably', []], ['long', []], ['times', ['recommend']], ['cmpb', ['recommend']], ['friend', []]]\n",
      "['staff', ['impatient']]\n",
      "['serious', []]\n",
      "['impatient', ['staff']]\n",
      "['undesirably', []]\n",
      "['long', []]\n",
      "['times', ['recommend']]\n",
      "['cmpb', ['recommend']]\n",
      "['friend', []]\n",
      "Review Number :  11\n"
     ]
    },
    {
     "name": "stderr",
     "output_type": "stream",
     "text": [
      "\r",
      "  0%|▎                                                                               | 12/3390 [00:09<46:13,  1.22it/s]"
     ]
    },
    {
     "name": "stdout",
     "output_type": "stream",
     "text": [
      "[['sent', ['son']], ['son', ['sent', 'got']], ['preenlistment', []], ['enlistmentcheckup', []], ['morning', []], ['guard', ['give']], ['entrancecouldnt', []], ['clear', []], ['instructions', ['give']], ['son', ['sent', 'got']], ['alight', []], ['couldnt', []], ['drive', ['we']], ['hello', []], ['please', []], ['train', ['army']], ['army', ['train']]]\n",
      "['sent', ['son']]\n",
      "['son', ['sent', 'got']]\n",
      "['preenlistment', []]\n",
      "['enlistmentcheckup', []]\n",
      "['morning', []]\n",
      "['guard', ['give']]\n",
      "['entrancecouldnt', []]\n",
      "['clear', []]\n",
      "['instructions', ['give']]\n",
      "['son', ['sent', 'got']]\n",
      "['alight', []]\n",
      "['couldnt', []]\n",
      "['drive', ['we']]\n",
      "['hello', []]\n",
      "['please', []]\n",
      "['train', ['army']]\n",
      "['army', ['train']]\n",
      "Review Number :  12\n"
     ]
    },
    {
     "name": "stderr",
     "output_type": "stream",
     "text": [
      "\r",
      "  0%|▎                                                                               | 13/3390 [00:10<43:42,  1.29it/s]"
     ]
    },
    {
     "name": "stdout",
     "output_type": "stream",
     "text": [
      "[['inconvenient', []], ['locations', []], ['ever', []], ['terrible', []], ['directions', ['seen']], ['staff', ['expect']], ['whole', []], ['process', ['expect']], ['take', ['hours']], ['hours', ['take']]]\n",
      "['inconvenient', []]\n",
      "['locations', []]\n",
      "['ever', []]\n",
      "['terrible', []]\n",
      "['directions', ['seen']]\n",
      "['staff', ['expect']]\n",
      "['whole', []]\n",
      "['process', ['expect']]\n",
      "['take', ['hours']]\n",
      "['hours', ['take']]\n",
      "Review Number :  13\n"
     ]
    },
    {
     "name": "stderr",
     "output_type": "stream",
     "text": [
      "\r",
      "  0%|▎                                                                               | 14/3390 [00:11<48:13,  1.17it/s]"
     ]
    },
    {
     "name": "stdout",
     "output_type": "stream",
     "text": [
      "[['ok', ['staff']], ['lah', []], ['review', []], ['visitjanuary', []], ['maybe', []], ['sikit', []], ['date', []], ['nsf', []], ['staff', ['ok']], ['ok', ['staff']], ['typical', []], ['bochap', []], ['happy', []], ['bird', []], ['tio', ['vocationmo']], ['switch', []], ['vocationmo', ['tio']], ['hand', []], ['si', []], ['pehbuay', []], ['buaysong', []], ['probably', ['this']]]\n",
      "['ok', ['staff']]\n",
      "['lah', []]\n",
      "['review', []]\n",
      "['visitjanuary', []]\n",
      "['maybe', []]\n",
      "['sikit', []]\n",
      "['date', []]\n",
      "['nsf', []]\n",
      "['staff', ['ok']]\n",
      "['ok', ['staff']]\n",
      "['typical', []]\n",
      "['bochap', []]\n",
      "['happy', []]\n",
      "['bird', []]\n",
      "['tio', ['vocationmo']]\n",
      "['switch', []]\n",
      "['vocationmo', ['tio']]\n",
      "['hand', []]\n",
      "['si', []]\n",
      "['pehbuay', []]\n",
      "['buaysong', []]\n",
      "['probably', ['this']]\n",
      "Review Number :  14\n"
     ]
    },
    {
     "name": "stderr",
     "output_type": "stream",
     "text": [
      "\r",
      "  0%|▎                                                                               | 15/3390 [00:12<41:36,  1.35it/s]"
     ]
    },
    {
     "name": "stdout",
     "output_type": "stream",
     "text": [
      "[['tbh', []], ['bad', ['its']], ['place', []], ['visit', []], ['contrary', []], ['others', ['saying']]]\n",
      "['tbh', []]\n",
      "['bad', ['its']]\n",
      "['place', []]\n",
      "['visit', []]\n",
      "['contrary', []]\n",
      "['others', ['saying']]\n",
      "Review Number :  15\n"
     ]
    },
    {
     "name": "stderr",
     "output_type": "stream",
     "text": [
      "\r",
      "  0%|▍                                                                               | 16/3390 [00:13<49:07,  1.14it/s]"
     ]
    },
    {
     "name": "stdout",
     "output_type": "stream",
     "text": [
      "[['please', []], ['sure', []], ['medical', []], ['conditions', ['declare']], ['severe', []], ['minor', []], ['medical', []], ['officer', []], ['checkup', []], ['fare', ['you']], ['well', []], ['medical', []], ['specialistletter', ['get']]]\n",
      "['please', []]\n",
      "['sure', []]\n",
      "['medical', []]\n",
      "['conditions', ['declare']]\n",
      "['severe', []]\n",
      "['minor', []]\n",
      "['medical', []]\n",
      "['officer', []]\n",
      "['checkup', []]\n",
      "['fare', ['you']]\n",
      "['well', []]\n",
      "['medical', []]\n",
      "['specialistletter', ['get']]\n",
      "Review Number :  16\n"
     ]
    },
    {
     "name": "stderr",
     "output_type": "stream",
     "text": [
      "\r",
      "  1%|▍                                                                               | 17/3390 [00:13<43:00,  1.31it/s]"
     ]
    },
    {
     "name": "stdout",
     "output_type": "stream",
     "text": [
      "[['guards', ['ask']], ['rude', []], ['ask', ['guards', 'question']], ['question', ['ask']], ['ignore', ['they']], ['rest', ['nice']], ['staff', []], ['nice', ['rest']], ['friendly', []]]\n",
      "['guards', ['ask']]\n",
      "['rude', []]\n",
      "['ask', ['guards', 'question']]\n",
      "['question', ['ask']]\n",
      "['ignore', ['they']]\n",
      "['rest', ['nice']]\n",
      "['staff', []]\n",
      "['nice', ['rest']]\n",
      "['friendly', []]\n",
      "Review Number :  17\n"
     ]
    },
    {
     "name": "stderr",
     "output_type": "stream",
     "text": [
      "\r",
      "  1%|▍                                                                               | 18/3390 [00:14<36:01,  1.56it/s]"
     ]
    },
    {
     "name": "stdout",
     "output_type": "stream",
     "text": [
      "[['overall', []], ['great', []], ['experience', []], ['medic', ['professional']], ['professional', ['medic']], ['blooddraw', []]]\n",
      "['overall', []]\n",
      "['great', []]\n",
      "['experience', []]\n",
      "['medic', ['professional']]\n",
      "['professional', ['medic']]\n",
      "['blooddraw', []]\n",
      "Review Number :  18\n"
     ]
    },
    {
     "name": "stderr",
     "output_type": "stream",
     "text": [
      "  1%|▍                                                                               | 20/3390 [00:14<25:47,  2.18it/s]"
     ]
    },
    {
     "name": "stdout",
     "output_type": "stream",
     "text": [
      "[['kind', []], ['people', []], ['cmpd', []], ['medical', []], ['check', []], ['constantly', []], ['smile', []], ['patience', []]]\n",
      "['kind', []]\n",
      "['people', []]\n",
      "['cmpd', []]\n",
      "['medical', []]\n",
      "['check', []]\n",
      "['constantly', []]\n",
      "['smile', []]\n",
      "['patience', []]\n",
      "Review Number :  19\n",
      "[['dont', []], ['bully', ['me']]]\n",
      "['dont', []]\n",
      "['bully', ['me']]\n",
      "Review Number :  20\n"
     ]
    },
    {
     "name": "stderr",
     "output_type": "stream",
     "text": [
      "\r",
      "  1%|▍                                                                               | 21/3390 [00:14<21:19,  2.63it/s]"
     ]
    },
    {
     "name": "stdout",
     "output_type": "stream",
     "text": [
      "[['meh', []], ['staff', ['nice']], ['pretty', []], ['nice', ['staff']]]\n",
      "['meh', []]\n",
      "['staff', ['nice']]\n",
      "['pretty', []]\n",
      "['nice', ['staff']]\n",
      "Review Number :  21\n"
     ]
    },
    {
     "name": "stderr",
     "output_type": "stream",
     "text": [
      "\r",
      "  1%|▌                                                                               | 22/3390 [00:15<21:59,  2.55it/s]"
     ]
    },
    {
     "name": "stdout",
     "output_type": "stream",
     "text": [
      "[['lousy', []], ['service', []], ['dk', []], ['help', ['ask']], ['people', ['ask']], ['question', ['ask']], ['also', []], ['dont', []], ['ask', ['help', 'people', 'question', 'taiji']], ['taiji', ['ask']]]\n",
      "['lousy', []]\n",
      "['service', []]\n",
      "['dk', []]\n",
      "['help', ['ask']]\n",
      "['people', ['ask']]\n",
      "['question', ['ask']]\n",
      "['also', []]\n",
      "['dont', []]\n",
      "['ask', ['help', 'people', 'question', 'taiji']]\n",
      "['taiji', ['ask']]\n",
      "Review Number :  22\n"
     ]
    },
    {
     "name": "stderr",
     "output_type": "stream",
     "text": [
      "\r",
      "  1%|▌                                                                               | 23/3390 [00:16<31:39,  1.77it/s]"
     ]
    },
    {
     "name": "stdout",
     "output_type": "stream",
     "text": [
      "[['tuesday', []], ['negative', []], ['reviews', []], ['share', ['i', 'opinion']], ['quick', []], ['personal', []], ['opinion', ['share']], ['perhaps', []], ['varies', ['it']], ['person', []], ['person', []], ['trip', ['great']], ['cmpb', []], ['ultimately', []], ['great', ['trip']], ['definitely', []], ['memorable', []], ['experience', []], ['medical', []]]\n",
      "['tuesday', []]\n",
      "['negative', []]\n",
      "['reviews', []]\n",
      "['share', ['i', 'opinion']]\n",
      "['quick', []]\n",
      "['personal', []]\n",
      "['opinion', ['share']]\n",
      "['perhaps', []]\n",
      "['varies', ['it']]\n",
      "['person', []]\n",
      "['person', []]\n",
      "['trip', ['great']]\n",
      "['cmpb', []]\n",
      "['ultimately', []]\n",
      "['great', ['trip']]\n",
      "['definitely', []]\n",
      "['memorable', []]\n",
      "['experience', []]\n",
      "['medical', []]\n",
      "Review Number :  23\n"
     ]
    },
    {
     "name": "stderr",
     "output_type": "stream",
     "text": [
      "\r",
      "  1%|▌                                                                               | 24/3390 [00:16<25:54,  2.17it/s]"
     ]
    },
    {
     "name": "stdout",
     "output_type": "stream",
     "text": [
      "[['medical', []], ['check', ['place']], ['place', ['check']], ['saf', []]]\n",
      "['medical', []]\n",
      "['check', ['place']]\n",
      "['place', ['check']]\n",
      "['saf', []]\n",
      "Review Number :  24\n"
     ]
    },
    {
     "name": "stderr",
     "output_type": "stream",
     "text": [
      "\r",
      "  1%|▌                                                                               | 25/3390 [00:16<22:29,  2.49it/s]"
     ]
    },
    {
     "name": "stdout",
     "output_type": "stream",
     "text": [
      "[['others', []], ['dirt', []]]\n",
      "['others', []]\n",
      "['dirt', []]\n",
      "Review Number :  25\n"
     ]
    },
    {
     "name": "stderr",
     "output_type": "stream",
     "text": [
      "\r",
      "  1%|▌                                                                               | 26/3390 [00:17<25:05,  2.23it/s]"
     ]
    },
    {
     "name": "stdout",
     "output_type": "stream",
     "text": [
      "[['preenlistment', []], ['sessions', ['screening']], ['chargeinconvenient', []], ['inconvenientlocation', ['answer']]]\n",
      "['preenlistment', []]\n",
      "['sessions', ['screening']]\n",
      "['chargeinconvenient', []]\n",
      "['inconvenientlocation', ['answer']]\n",
      "Review Number :  26\n"
     ]
    },
    {
     "name": "stderr",
     "output_type": "stream",
     "text": [
      "\r",
      "  1%|▋                                                                               | 27/3390 [00:17<23:22,  2.40it/s]"
     ]
    },
    {
     "name": "stdout",
     "output_type": "stream",
     "text": [
      "[['cookhouse', []], ['nsf', ['need']], ['meagre', []], ['pay', []]]\n",
      "['cookhouse', []]\n",
      "['nsf', ['need']]\n",
      "['meagre', []]\n",
      "['pay', []]\n",
      "Review Number :  27\n"
     ]
    },
    {
     "name": "stderr",
     "output_type": "stream",
     "text": [
      "\r",
      "  1%|▋                                                                               | 28/3390 [00:18<28:54,  1.94it/s]"
     ]
    },
    {
     "name": "stdout",
     "output_type": "stream",
     "text": [
      "[['officerattitude', ['good']], ['good', ['officerattitude']], ['patience', ['understand']], ['servicei', []], ['dont', []], ['use', ['he', 'tone']], ['unfriendly', []], ['tone', ['use']], ['repeat', []], ['language', []]]\n",
      "['officerattitude', ['good']]\n",
      "['good', ['officerattitude']]\n",
      "['patience', ['understand']]\n",
      "['servicei', []]\n",
      "['dont', []]\n",
      "['use', ['he', 'tone']]\n",
      "['unfriendly', []]\n",
      "['tone', ['use']]\n",
      "['repeat', []]\n",
      "['language', []]\n",
      "Review Number :  28\n"
     ]
    },
    {
     "name": "stderr",
     "output_type": "stream",
     "text": [
      "\r",
      "  1%|▋                                                                               | 29/3390 [00:19<34:23,  1.63it/s]"
     ]
    },
    {
     "name": "stdout",
     "output_type": "stream",
     "text": [
      "[['idk', []], ['many', []], ['people', ['give']], ['negative', []], ['reviews', ['give']], ['medical', []], ['check', []], ['staff', ['friendly']], ['friendly', ['staff']], ['nsf', ['cool']], ['cool', ['nsf']], ['overall', []], ['good', []], ['experience', ['had']]]\n",
      "['idk', []]\n",
      "['many', []]\n",
      "['people', ['give']]\n",
      "['negative', []]\n",
      "['reviews', ['give']]\n",
      "['medical', []]\n",
      "['check', []]\n",
      "['staff', ['friendly']]\n",
      "['friendly', ['staff']]\n",
      "['nsf', ['cool']]\n",
      "['cool', ['nsf']]\n",
      "['overall', []]\n",
      "['good', []]\n",
      "['experience', ['had']]\n",
      "Review Number :  29\n"
     ]
    },
    {
     "name": "stderr",
     "output_type": "stream",
     "text": [
      "\r",
      "  1%|▋                                                                               | 30/3390 [00:19<28:25,  1.97it/s]"
     ]
    },
    {
     "name": "stdout",
     "output_type": "stream",
     "text": [
      "[['gold', []], ['star', []], ['public', []], ['service', []]]\n",
      "['gold', []]\n",
      "['star', []]\n",
      "['public', []]\n",
      "['service', []]\n",
      "Review Number :  30\n"
     ]
    },
    {
     "name": "stderr",
     "output_type": "stream",
     "text": [
      "  1%|▊                                                                               | 32/3390 [00:20<26:28,  2.11it/s]"
     ]
    },
    {
     "name": "stdout",
     "output_type": "stream",
     "text": [
      "[['hrs', []], ['form', []], ['meeting', []], ['even', []], ['really', []], ['bored', []], ['cold', []], ['air', []], ['wifi', []]]\n",
      "['hrs', []]\n",
      "['form', []]\n",
      "['meeting', []]\n",
      "['even', []]\n",
      "['really', []]\n",
      "['bored', []]\n",
      "['cold', []]\n",
      "['air', []]\n",
      "['wifi', []]\n",
      "Review Number :  31\n",
      "[['accessible', []]]\n",
      "['accessible', []]\n",
      "Review Number :  32\n"
     ]
    },
    {
     "name": "stderr",
     "output_type": "stream",
     "text": [
      "  1%|▊                                                                               | 34/3390 [00:21<19:13,  2.91it/s]"
     ]
    },
    {
     "name": "stdout",
     "output_type": "stream",
     "text": [
      "[['extremely', []], ['poor', []], ['rude', []], ['customerservice', []]]\n",
      "['extremely', []]\n",
      "['poor', []]\n",
      "['rude', []]\n",
      "['customerservice', []]\n",
      "Review Number :  33\n",
      "[['worst', []], ['day', []], ['life', []]]\n",
      "['worst', []]\n",
      "['day', []]\n",
      "['life', []]\n",
      "Review Number :  34\n"
     ]
    },
    {
     "name": "stderr",
     "output_type": "stream",
     "text": [
      "\r",
      "  1%|▊                                                                               | 35/3390 [00:21<19:14,  2.91it/s]"
     ]
    },
    {
     "name": "stdout",
     "output_type": "stream",
     "text": [
      "[['wooo', []], ['real', []], ['edgy', []], ['ziyuan', ['writer']], ['novel', []], ['writer', ['ziyuan', 'you']]]\n",
      "['wooo', []]\n",
      "['real', []]\n",
      "['edgy', []]\n",
      "['ziyuan', ['writer']]\n",
      "['novel', []]\n",
      "['writer', ['ziyuan', 'you']]\n",
      "Review Number :  35\n"
     ]
    },
    {
     "name": "stderr",
     "output_type": "stream",
     "text": [
      "\r",
      "  1%|▊                                                                               | 36/3390 [00:21<20:23,  2.74it/s]"
     ]
    },
    {
     "name": "stdout",
     "output_type": "stream",
     "text": [
      "[['highly', []], ['inaccessible', []], ['hard', []], ['get', []], ['mrt', []], ['stations', []]]\n",
      "['highly', []]\n",
      "['inaccessible', []]\n",
      "['hard', []]\n",
      "['get', []]\n",
      "['mrt', []]\n",
      "['stations', []]\n",
      "Review Number :  36\n",
      "[['bane', []], ['existence', []]]"
     ]
    },
    {
     "name": "stderr",
     "output_type": "stream",
     "text": [
      "\r",
      "  1%|▊                                                                               | 37/3390 [00:21<17:21,  3.22it/s]"
     ]
    },
    {
     "name": "stdout",
     "output_type": "stream",
     "text": [
      "\n",
      "['bane', []]\n",
      "['existence', []]\n",
      "Review Number :  37\n"
     ]
    },
    {
     "name": "stderr",
     "output_type": "stream",
     "text": [
      "\r",
      "  1%|▉                                                                               | 38/3390 [00:22<24:59,  2.24it/s]"
     ]
    },
    {
     "name": "stdout",
     "output_type": "stream",
     "text": [
      "[['cookhouse', []], ['book', []], ['everyday', []], ['troublesome', []], ['thing', ['discussing']], ['whats', ['discussing']], ['sidenotecanteen', []], ['canteenb', ['bad']], ['bad', ['canteenb']], ['real', []], ['bad', ['canteenb']]]\n",
      "['cookhouse', []]\n",
      "['book', []]\n",
      "['everyday', []]\n",
      "['troublesome', []]\n",
      "['thing', ['discussing']]\n",
      "['whats', ['discussing']]\n",
      "['sidenotecanteen', []]\n",
      "['canteenb', ['bad']]\n",
      "['bad', ['canteenb']]\n",
      "['real', []]\n",
      "['bad', ['canteenb']]\n",
      "Review Number :  38\n"
     ]
    },
    {
     "name": "stderr",
     "output_type": "stream",
     "text": [
      "\r",
      "  1%|▉                                                                               | 39/3390 [00:23<23:43,  2.35it/s]"
     ]
    },
    {
     "name": "stdout",
     "output_type": "stream",
     "text": [
      "[['people', ['go']], ['even', []], ['placemiddle', []], ['nowhere', []]]\n",
      "['people', ['go']]\n",
      "['even', []]\n",
      "['placemiddle', []]\n",
      "['nowhere', []]\n",
      "Review Number :  39\n"
     ]
    },
    {
     "name": "stderr",
     "output_type": "stream",
     "text": [
      "  1%|▉                                                                               | 41/3390 [00:23<20:22,  2.74it/s]"
     ]
    },
    {
     "name": "stdout",
     "output_type": "stream",
     "text": [
      "[['officertalk', []], ['money', ['own']], ['hard', []], ['middle', []], ['village', []], ['something', []]]\n",
      "['officertalk', []]\n",
      "['money', ['own']]\n",
      "['hard', []]\n",
      "['middle', []]\n",
      "['village', []]\n",
      "['something', []]\n",
      "Review Number :  40\n",
      "[['rude', []], ['staff', []]]\n",
      "['rude', []]\n",
      "['staff', []]\n",
      "Review Number :  41\n"
     ]
    },
    {
     "name": "stderr",
     "output_type": "stream",
     "text": [
      "\r",
      "  1%|▉                                                                               | 42/3390 [00:24<20:15,  2.75it/s]"
     ]
    },
    {
     "name": "stdout",
     "output_type": "stream",
     "text": [
      "[['inaccessible', []], ['need', []], ['h', []], ['time', ['travel']], ['waste', ['more']], ['time', ['travel']]]\n",
      "['inaccessible', []]\n",
      "['need', []]\n",
      "['h', []]\n",
      "['time', ['travel']]\n",
      "['waste', ['more']]\n",
      "['time', ['travel']]\n",
      "Review Number :  42\n"
     ]
    },
    {
     "name": "stderr",
     "output_type": "stream",
     "text": [
      "\r",
      "  1%|█                                                                               | 43/3390 [00:24<18:05,  3.08it/s]"
     ]
    },
    {
     "name": "stdout",
     "output_type": "stream",
     "text": [
      "[['far', []], ['away', []], ['middle', []], ['nowhere', []]]\n",
      "['far', []]\n",
      "['away', []]\n",
      "['middle', []]\n",
      "['nowhere', []]\n",
      "Review Number :  43\n"
     ]
    },
    {
     "name": "stderr",
     "output_type": "stream",
     "text": [
      "\r",
      "  1%|█                                                                               | 44/3390 [00:24<19:04,  2.92it/s]"
     ]
    },
    {
     "name": "stdout",
     "output_type": "stream",
     "text": [
      "[['bad', []], ['security', []], ['troopers', []], ['bad', []], ['attitude', ['have']], ['towards', []], ['public', []]]\n",
      "['bad', []]\n",
      "['security', []]\n",
      "['troopers', []]\n",
      "['bad', []]\n",
      "['attitude', ['have']]\n",
      "['towards', []]\n",
      "['public', []]\n",
      "Review Number :  44\n",
      "[['middle', []], ['nowhere', []]]"
     ]
    },
    {
     "name": "stderr",
     "output_type": "stream",
     "text": [
      "\r",
      "  1%|█                                                                               | 45/3390 [00:24<16:44,  3.33it/s]"
     ]
    },
    {
     "name": "stdout",
     "output_type": "stream",
     "text": [
      "\n",
      "['middle', []]\n",
      "['nowhere', []]\n",
      "Review Number :  45\n"
     ]
    },
    {
     "name": "stderr",
     "output_type": "stream",
     "text": [
      "  1%|█                                                                               | 47/3390 [00:25<15:06,  3.69it/s]"
     ]
    },
    {
     "name": "stdout",
     "output_type": "stream",
     "text": [
      "[['place', []], ['well', []], ['people', ['kept']], ['unbelievably', []]]\n",
      "['place', []]\n",
      "['well', []]\n",
      "['people', ['kept']]\n",
      "['unbelievably', []]\n",
      "Review Number :  46\n",
      "[['bad', []], ['service', []]]\n",
      "['bad', []]\n",
      "['service', []]\n",
      "Review Number :  47\n"
     ]
    },
    {
     "name": "stderr",
     "output_type": "stream",
     "text": [
      "  1%|█▏                                                                              | 49/3390 [00:26<13:36,  4.09it/s]"
     ]
    },
    {
     "name": "stdout",
     "output_type": "stream",
     "text": [
      "[['interestingly', []], ['enough', []], ['negative', []], ['reviews', []]]\n",
      "['interestingly', []]\n",
      "['enough', []]\n",
      "['negative', []]\n",
      "['reviews', []]\n",
      "Review Number :  48\n",
      "[['bad', []], ['service', []]]\n",
      "['bad', []]\n",
      "['service', []]\n",
      "Review Number :  49\n"
     ]
    },
    {
     "name": "stderr",
     "output_type": "stream",
     "text": [
      "  2%|█▏                                                                              | 51/3390 [00:26<13:08,  4.24it/s]"
     ]
    },
    {
     "name": "stdout",
     "output_type": "stream",
     "text": [
      "[['sheat', []], ['dirty', []], ['pigs', []], ['step', []], ['minefields', []]]\n",
      "['sheat', []]\n",
      "['dirty', []]\n",
      "['pigs', []]\n",
      "['step', []]\n",
      "['minefields', []]\n",
      "Review Number :  50\n",
      "[['gncpresent', []]]\n",
      "['gncpresent', []]\n",
      "Review Number :  51\n"
     ]
    },
    {
     "name": "stderr",
     "output_type": "stream",
     "text": [
      "\r",
      "  2%|█▏                                                                              | 52/3390 [00:26<14:42,  3.78it/s]"
     ]
    },
    {
     "name": "stdout",
     "output_type": "stream",
     "text": [
      "[['google', []], ['regards', []], ['original', []], ['hormatsaf', []]]\n",
      "['google', []]\n",
      "['regards', []]\n",
      "['original', []]\n",
      "['hormatsaf', []]\n",
      "Review Number :  52\n"
     ]
    },
    {
     "name": "stderr",
     "output_type": "stream",
     "text": [
      "\r",
      "  2%|█▎                                                                              | 53/3390 [00:27<14:15,  3.90it/s]"
     ]
    },
    {
     "name": "stdout",
     "output_type": "stream",
     "text": [
      "[['cplong', ['medic']], ['medic', ['cplong']]]\n",
      "['cplong', ['medic']]\n",
      "['medic', ['cplong']]\n",
      "Review Number :  53\n"
     ]
    },
    {
     "name": "stderr",
     "output_type": "stream",
     "text": [
      "\r",
      "  2%|█▎                                                                              | 54/3390 [00:27<16:38,  3.34it/s]"
     ]
    },
    {
     "name": "stdout",
     "output_type": "stream",
     "text": [
      "[['outstanding', []], ['medics', []], ['mos', []], ['figure', ['it', 'yourself']]]\n",
      "['outstanding', []]\n",
      "['medics', []]\n",
      "['mos', []]\n",
      "['figure', ['it', 'yourself']]\n",
      "Review Number :  54\n",
      "[['great', []], ['dispensary', []]]"
     ]
    },
    {
     "name": "stderr",
     "output_type": "stream",
     "text": [
      "\r",
      "  2%|█▎                                                                              | 55/3390 [00:27<14:46,  3.76it/s]"
     ]
    },
    {
     "name": "stdout",
     "output_type": "stream",
     "text": [
      "\n",
      "['great', []]\n",
      "['dispensary', []]\n",
      "Review Number :  55\n"
     ]
    },
    {
     "name": "stderr",
     "output_type": "stream",
     "text": [
      "\r",
      "  2%|█▎                                                                              | 56/3390 [00:28<28:42,  1.94it/s]"
     ]
    },
    {
     "name": "stdout",
     "output_type": "stream",
     "text": [
      "[['great', []], ['food', []], ['friendly', []], ['staff', []], ['seem', ['they']], ['military', []], ['theme', ['have']], ['make', []], ['sure', []], ['tell', ['you']], ['youre', ['coming']], ['beforehand', []], ['security', ['take']], ['seriously', []], ['barbedwire', []], ['signage', []], ['proclaiming', ['it']], ['area', []]]\n",
      "['great', []]\n",
      "['food', []]\n",
      "['friendly', []]\n",
      "['staff', []]\n",
      "['seem', ['they']]\n",
      "['military', []]\n",
      "['theme', ['have']]\n",
      "['make', []]\n",
      "['sure', []]\n",
      "['tell', ['you']]\n",
      "['youre', ['coming']]\n",
      "['beforehand', []]\n",
      "['security', ['take']]\n",
      "['seriously', []]\n",
      "['barbedwire', []]\n",
      "['signage', []]\n",
      "['proclaiming', ['it']]\n",
      "['area', []]\n",
      "Review Number :  56\n"
     ]
    },
    {
     "name": "stderr",
     "output_type": "stream",
     "text": [
      "\r",
      "  2%|█▎                                                                              | 57/3390 [00:29<26:13,  2.12it/s]"
     ]
    },
    {
     "name": "stdout",
     "output_type": "stream",
     "text": [
      "[['great', []], ['place', []], ['ippt', []], ['training', []], ['instructors', ['professional']], ['professional', ['instructors']]]\n",
      "['great', []]\n",
      "['place', []]\n",
      "['ippt', []]\n",
      "['training', []]\n",
      "['instructors', ['professional']]\n",
      "['professional', ['instructors']]\n",
      "Review Number :  57\n"
     ]
    },
    {
     "name": "stderr",
     "output_type": "stream",
     "text": [
      "\r",
      "  2%|█▎                                                                              | 58/3390 [00:29<22:53,  2.43it/s]"
     ]
    },
    {
     "name": "stdout",
     "output_type": "stream",
     "text": [
      "[['dont', []], ['proof', ['what']], ['ippt', []]]\n",
      "['dont', []]\n",
      "['proof', ['what']]\n",
      "['ippt', []]\n",
      "Review Number :  58\n"
     ]
    },
    {
     "name": "stderr",
     "output_type": "stream",
     "text": [
      "\r",
      "  2%|█▍                                                                              | 59/3390 [00:29<19:52,  2.79it/s]"
     ]
    },
    {
     "name": "stdout",
     "output_type": "stream",
     "text": [
      "[['ippt', ['here']], ['good', []], ['facilities', ['here']]]\n",
      "['ippt', ['here']]\n",
      "['good', []]\n",
      "['facilities', ['here']]\n",
      "Review Number :  59\n"
     ]
    },
    {
     "name": "stderr",
     "output_type": "stream",
     "text": [
      "\r",
      "  2%|█▍                                                                              | 60/3390 [00:29<18:01,  3.08it/s]"
     ]
    },
    {
     "name": "stdout",
     "output_type": "stream",
     "text": [
      "[['note', []], ['entrance', ['kciii']], ['kciii', ['entrance']]]\n",
      "['note', []]\n",
      "['entrance', ['kciii']]\n",
      "['kciii', ['entrance']]\n",
      "Review Number :  60\n",
      "[]\n",
      "Review Number :  61\n",
      "[['silver', ['got']]]"
     ]
    },
    {
     "name": "stderr",
     "output_type": "stream",
     "text": [
      "\r",
      "  2%|█▍                                                                              | 62/3390 [00:30<12:04,  4.59it/s]"
     ]
    },
    {
     "name": "stdout",
     "output_type": "stream",
     "text": [
      "\n",
      "['silver', ['got']]\n",
      "Review Number :  62\n"
     ]
    },
    {
     "name": "stderr",
     "output_type": "stream",
     "text": [
      "\r",
      "  2%|█▍                                                                              | 63/3390 [00:30<13:47,  4.02it/s]"
     ]
    },
    {
     "name": "stdout",
     "output_type": "stream",
     "text": [
      "[['tmrippt', []], ['ipptpls', ['give']], ['silver', ['give']]]\n",
      "['tmrippt', []]\n",
      "['ipptpls', ['give']]\n",
      "['silver', ['give']]\n",
      "Review Number :  63\n"
     ]
    },
    {
     "name": "stderr",
     "output_type": "stream",
     "text": [
      "  2%|█▌                                                                              | 65/3390 [00:30<14:08,  3.92it/s]"
     ]
    },
    {
     "name": "stdout",
     "output_type": "stream",
     "text": [
      "[['km', ['indoor']], ['indoor', ['km']], ['matter', []], ['please', []], ['train', ['what']], ['ippt', []]]\n",
      "['km', ['indoor']]\n",
      "['indoor', ['km']]\n",
      "['matter', []]\n",
      "['please', []]\n",
      "['train', ['what']]\n",
      "['ippt', []]\n",
      "Review Number :  64\n",
      "[['train', []], ['fits', []]]\n",
      "['train', []]\n",
      "['fits', []]\n",
      "Review Number :  65\n"
     ]
    },
    {
     "name": "stderr",
     "output_type": "stream",
     "text": [
      "\r",
      "  2%|█▌                                                                              | 66/3390 [00:31<12:22,  4.48it/s]"
     ]
    },
    {
     "name": "stdout",
     "output_type": "stream",
     "text": [
      "[['good', []]]\n",
      "['good', []]\n",
      "Review Number :  66\n"
     ]
    },
    {
     "name": "stderr",
     "output_type": "stream",
     "text": [
      "  2%|█▌                                                                              | 68/3390 [00:31<11:45,  4.71it/s]"
     ]
    },
    {
     "name": "stdout",
     "output_type": "stream",
     "text": [
      "[['googlertrt', []], ['original', []], ['rtrt', []]]\n",
      "['googlertrt', []]\n",
      "['original', []]\n",
      "['rtrt', []]\n",
      "Review Number :  67\n",
      "[['fast', []], ['furious', []]]\n",
      "['fast', []]\n",
      "['furious', []]\n",
      "Review Number :  68\n"
     ]
    },
    {
     "name": "stderr",
     "output_type": "stream",
     "text": [
      "\r",
      "  2%|█▋                                                                              | 69/3390 [00:32<18:07,  3.05it/s]"
     ]
    },
    {
     "name": "stdout",
     "output_type": "stream",
     "text": [
      "[['fun', []], ['place', []], ['stress', []], ['iget', ['called']], ['kappa', ['called']]]\n",
      "['fun', []]\n",
      "['place', []]\n",
      "['stress', []]\n",
      "['iget', ['called']]\n",
      "['kappa', ['called']]\n",
      "Review Number :  69\n"
     ]
    },
    {
     "name": "stderr",
     "output_type": "stream",
     "text": [
      "\r",
      "  2%|█▋                                                                              | 70/3390 [00:32<20:04,  2.76it/s]"
     ]
    },
    {
     "name": "stdout",
     "output_type": "stream",
     "text": [
      "[['ippt', ['took']], ['see', ['you', 'sign']], ['sign', ['see']], ['road', ['follow']], ['reach', ['entrance']], ['main', []], ['entrance', ['reach']]]\n",
      "['ippt', ['took']]\n",
      "['see', ['you', 'sign']]\n",
      "['sign', ['see']]\n",
      "['road', ['follow']]\n",
      "['reach', ['entrance']]\n",
      "['main', []]\n",
      "['entrance', ['reach']]\n",
      "Review Number :  70\n"
     ]
    },
    {
     "name": "stderr",
     "output_type": "stream",
     "text": [
      "\r",
      "  2%|█▋                                                                              | 71/3390 [00:33<21:27,  2.58it/s]"
     ]
    },
    {
     "name": "stdout",
     "output_type": "stream",
     "text": [
      "[['wgtord', []], ['serious', []], ['notei', []], ['tough', []], ['place', ['friends']], ['friends', ['place']]]\n",
      "['wgtord', []]\n",
      "['serious', []]\n",
      "['notei', []]\n",
      "['tough', []]\n",
      "['place', ['friends']]\n",
      "['friends', ['place']]\n",
      "Review Number :  71\n"
     ]
    },
    {
     "name": "stderr",
     "output_type": "stream",
     "text": [
      "\r",
      "  2%|█▋                                                                              | 72/3390 [00:33<22:53,  2.42it/s]"
     ]
    },
    {
     "name": "stdout",
     "output_type": "stream",
     "text": [
      "[['ive', []], ['rt', []], ['ippt', []], ['years', []], ['still', []], ['years', []]]\n",
      "['ive', []]\n",
      "['rt', []]\n",
      "['ippt', []]\n",
      "['years', []]\n",
      "['still', []]\n",
      "['years', []]\n",
      "Review Number :  72\n",
      "[['oneofthefcc', []], ['ippt', []]]"
     ]
    },
    {
     "name": "stderr",
     "output_type": "stream",
     "text": [
      "\r",
      "  2%|█▋                                                                              | 73/3390 [00:33<19:13,  2.88it/s]"
     ]
    },
    {
     "name": "stdout",
     "output_type": "stream",
     "text": [
      "\n",
      "['oneofthefcc', []]\n",
      "['ippt', []]\n",
      "Review Number :  73\n"
     ]
    },
    {
     "name": "stderr",
     "output_type": "stream",
     "text": [
      "\r",
      "  2%|█▋                                                                              | 74/3390 [00:33<17:16,  3.20it/s]"
     ]
    },
    {
     "name": "stdout",
     "output_type": "stream",
     "text": [
      "[['clear', []], ['rt', []], ['ippt', []], ['ippt', []]]\n",
      "['clear', []]\n",
      "['rt', []]\n",
      "['ippt', []]\n",
      "['ippt', []]\n",
      "Review Number :  74\n"
     ]
    },
    {
     "name": "stderr",
     "output_type": "stream",
     "text": [
      "  2%|█▊                                                                              | 76/3390 [00:34<15:38,  3.53it/s]"
     ]
    },
    {
     "name": "stdout",
     "output_type": "stream",
     "text": [
      "[['location', ['ulu']], ['ulu', ['location']], ['years', []], ['part', ['this']], ['sea', []]]\n",
      "['location', ['ulu']]\n",
      "['ulu', ['location']]\n",
      "['years', []]\n",
      "['part', ['this']]\n",
      "['sea', []]\n",
      "Review Number :  75\n",
      "[['ippt', []], ['year', []]]\n",
      "['ippt', []]\n",
      "['year', []]\n",
      "Review Number :  76\n"
     ]
    },
    {
     "name": "stderr",
     "output_type": "stream",
     "text": [
      "  2%|█▊                                                                              | 78/3390 [00:34<13:13,  4.17it/s]"
     ]
    },
    {
     "name": "stdout",
     "output_type": "stream",
     "text": [
      "[['whete', []], ['get', []]]\n",
      "['whete', []]\n",
      "['get', []]\n",
      "Review Number :  77\n",
      "[['life', []], ['nsman', []]]\n",
      "['life', []]\n",
      "['nsman', []]\n",
      "Review Number :  78\n"
     ]
    },
    {
     "name": "stderr",
     "output_type": "stream",
     "text": [
      "\r",
      "  2%|█▊                                                                              | 79/3390 [00:35<23:28,  2.35it/s]"
     ]
    },
    {
     "name": "stdout",
     "output_type": "stream",
     "text": [
      "[['anyone', ['confirm']], ['confirm', ['anyone', 'this']], ['clear', ['i', 'ffi']], ['ffi', ['clear', 'go', 'call']], ['last', []], ['yr', []], ['saf', ['received']], ['ffi', ['clear', 'go', 'call']], ['marchi', []], ['ffi', ['clear', 'go', 'call']], ['year', []], ['anyhow', []], ['call', ['ffi', 'they', 'me']], ['back', []]]\n",
      "['anyone', ['confirm']]\n",
      "['confirm', ['anyone', 'this']]\n",
      "['clear', ['i', 'ffi']]\n",
      "['ffi', ['clear', 'go', 'call']]\n",
      "['last', []]\n",
      "['yr', []]\n",
      "['saf', ['received']]\n",
      "['ffi', ['clear', 'go', 'call']]\n",
      "['marchi', []]\n",
      "['ffi', ['clear', 'go', 'call']]\n",
      "['year', []]\n",
      "['anyhow', []]\n",
      "['call', ['ffi', 'they', 'me']]\n",
      "['back', []]\n",
      "Review Number :  79\n"
     ]
    },
    {
     "name": "stderr",
     "output_type": "stream",
     "text": [
      "\r",
      "  2%|█▉                                                                              | 80/3390 [00:36<21:04,  2.62it/s]"
     ]
    },
    {
     "name": "stdout",
     "output_type": "stream",
     "text": [
      "[['system', ['changed']], ['longer', []], ['phase', ['have']]]\n",
      "['system', ['changed']]\n",
      "['longer', []]\n",
      "['phase', ['have']]\n",
      "Review Number :  80\n"
     ]
    },
    {
     "name": "stderr",
     "output_type": "stream",
     "text": [
      "\r",
      "  2%|█▉                                                                              | 81/3390 [00:36<30:13,  1.82it/s]"
     ]
    },
    {
     "name": "stdout",
     "output_type": "stream",
     "text": [
      "[['ok', []], ['nsf', []], ['first', []], ['bloodtest', []], ['testi', []], ['poked', []], ['times', []], ['still', []], ['blood', ['extract']], ['full', []], ['time', []], ['senior', []], ['medic', ['came']], ['shot', []], ['killswee', ['came']]]\n",
      "['ok', []]\n",
      "['nsf', []]\n",
      "['first', []]\n",
      "['bloodtest', []]\n",
      "['testi', []]\n",
      "['poked', []]\n",
      "['times', []]\n",
      "['still', []]\n",
      "['blood', ['extract']]\n",
      "['full', []]\n",
      "['time', []]\n",
      "['senior', []]\n",
      "['medic', ['came']]\n",
      "['shot', []]\n",
      "['killswee', ['came']]\n",
      "Review Number :  81\n"
     ]
    },
    {
     "name": "stderr",
     "output_type": "stream",
     "text": [
      "\r",
      "  2%|█▉                                                                              | 82/3390 [00:37<26:50,  2.05it/s]"
     ]
    },
    {
     "name": "stdout",
     "output_type": "stream",
     "text": [
      "[['lucky', []], ['u', []], ['lolzi', []], ['hv', []], ['nvr', ['got']], ['ffi', ['got']]]\n",
      "['lucky', []]\n",
      "['u', []]\n",
      "['lolzi', []]\n",
      "['hv', []]\n",
      "['nvr', ['got']]\n",
      "['ffi', ['got']]\n",
      "Review Number :  82\n"
     ]
    },
    {
     "name": "stderr",
     "output_type": "stream",
     "text": [
      "\r",
      "  2%|█▉                                                                              | 83/3390 [00:37<22:30,  2.45it/s]"
     ]
    },
    {
     "name": "stdout",
     "output_type": "stream",
     "text": [
      "[['arrange', ['who', 'unit']], ['ffi', []], ['unit', ['arrange']]]\n",
      "['arrange', ['who', 'unit']]\n",
      "['ffi', []]\n",
      "['unit', ['arrange']]\n",
      "Review Number :  83\n"
     ]
    },
    {
     "name": "stderr",
     "output_type": "stream",
     "text": [
      "\r",
      "  2%|█▉                                                                            | 84/3390 [00:43<1:58:51,  2.16s/it]"
     ]
    },
    {
     "name": "stdout",
     "output_type": "stream",
     "text": [
      "[['wah', []], ['really', []], ['yearliao', []], ['quote', ['go']], ['mindef', []], ['services', []], ['ipptrt', []], ['faq', []], ['medical', []], ['excuse', []], ['examinationq', []], ['qi', ['reached']], ['years', []], ['old', ['you', 'you']], ['need', ['i', 'is']], ['ipptffi', ['do', 'what', 'do', 'do']], ['ipptffi', ['do', 'what', 'do', 'do']], ['term', []], ['compulsory', []], ['medical', []], ['examination', []], ['ippteligible', []], ['nsmen', ['aged']], ['ipptffi', ['do', 'what', 'do', 'do']], ['safhealth', []], ['programme', ['completed', 'complete']], ['effect', []], ['separate', []], ['ipptffi', ['do', 'what', 'do', 'do']], ['already', []], ['safhealth', []], ['programme', ['completed', 'complete']], ['year', []], ['ippteligible', []], ['nsmen', ['aged']], ['years', []], ['complete', ['programme']], ['safhealth', []], ['programme', ['completed', 'complete']], ['year', []], ['ippt', ['take']], ['aim', []], ['medical', []], ['screening', []], ['detect', ['conditions']], ['medical', []], ['conditions', ['detect']], ['unsuitable', []], ['ippt', ['take']], ['take', ['ippt']], ['ippt', ['take']], ['years', []], ['old', ['you', 'you']], ['saf', []], ['health', []], ['programme', ['completed', 'complete']], ['requirements', ['completed']], ['year', []], ['safhealth', []], ['programmereview', []], ['ns', []], ['unitadministrator', []], ['ipptwindow', []], ['windowbirthday', []], ['open', ['birthdaywindow']], ['certificate', ['valid', 'valid']], ['completion', []], ['health', []], ['programme', ['completed', 'complete']], ['requirements', ['completed']], ['valid', ['certificate', 'certificate']], ['day', []], ['birthday', []], ['example', []], ['years', []], ['old', ['you', 'you']], ['certificate', ['valid', 'valid']], ['valid', ['certificate', 'certificate']], ['thday', ['including']], ['thbirthday', []]]\n",
      "['wah', []]\n",
      "['really', []]\n",
      "['yearliao', []]\n",
      "['quote', ['go']]\n",
      "['mindef', []]\n",
      "['services', []]\n",
      "['ipptrt', []]\n",
      "['faq', []]\n",
      "['medical', []]\n",
      "['excuse', []]\n",
      "['examinationq', []]\n",
      "['qi', ['reached']]\n",
      "['years', []]\n",
      "['old', ['you', 'you']]\n",
      "['need', ['i', 'is']]\n",
      "['ipptffi', ['do', 'what', 'do', 'do']]\n",
      "['ipptffi', ['do', 'what', 'do', 'do']]\n",
      "['term', []]\n",
      "['compulsory', []]\n",
      "['medical', []]\n",
      "['examination', []]\n",
      "['ippteligible', []]\n",
      "['nsmen', ['aged']]\n",
      "['ipptffi', ['do', 'what', 'do', 'do']]\n",
      "['safhealth', []]\n",
      "['programme', ['completed', 'complete']]\n",
      "['effect', []]\n",
      "['separate', []]\n",
      "['ipptffi', ['do', 'what', 'do', 'do']]\n",
      "['already', []]\n",
      "['safhealth', []]\n",
      "['programme', ['completed', 'complete']]\n",
      "['year', []]\n",
      "['ippteligible', []]\n",
      "['nsmen', ['aged']]\n",
      "['years', []]\n",
      "['complete', ['programme']]\n",
      "['safhealth', []]\n",
      "['programme', ['completed', 'complete']]\n",
      "['year', []]\n",
      "['ippt', ['take']]\n",
      "['aim', []]\n",
      "['medical', []]\n",
      "['screening', []]\n",
      "['detect', ['conditions']]\n",
      "['medical', []]\n",
      "['conditions', ['detect']]\n",
      "['unsuitable', []]\n",
      "['ippt', ['take']]\n",
      "['take', ['ippt']]\n",
      "['ippt', ['take']]\n",
      "['years', []]\n",
      "['old', ['you', 'you']]\n",
      "['saf', []]\n",
      "['health', []]\n",
      "['programme', ['completed', 'complete']]\n",
      "['requirements', ['completed']]\n",
      "['year', []]\n",
      "['safhealth', []]\n",
      "['programmereview', []]\n",
      "['ns', []]\n",
      "['unitadministrator', []]\n",
      "['ipptwindow', []]\n",
      "['windowbirthday', []]\n",
      "['open', ['birthdaywindow']]\n",
      "['certificate', ['valid', 'valid']]\n",
      "['completion', []]\n",
      "['health', []]\n",
      "['programme', ['completed', 'complete']]\n",
      "['requirements', ['completed']]\n",
      "['valid', ['certificate', 'certificate']]\n",
      "['day', []]\n",
      "['birthday', []]\n",
      "['example', []]\n",
      "['years', []]\n",
      "['old', ['you', 'you']]\n",
      "['certificate', ['valid', 'valid']]\n",
      "['valid', ['certificate', 'certificate']]\n",
      "['thday', ['including']]\n",
      "['thbirthday', []]\n",
      "Review Number :  84\n"
     ]
    },
    {
     "name": "stderr",
     "output_type": "stream",
     "text": [
      "\r",
      "  3%|█▉                                                                            | 85/3390 [00:44<1:30:57,  1.65s/it]"
     ]
    },
    {
     "name": "stdout",
     "output_type": "stream",
     "text": [
      "[['dun', []], ['mr', ['i']], ['age', []]]\n",
      "['dun', []]\n",
      "['mr', ['i']]\n",
      "['age', []]\n",
      "Review Number :  85\n"
     ]
    },
    {
     "name": "stderr",
     "output_type": "stream",
     "text": [
      "\r",
      "  3%|█▉                                                                            | 86/3390 [00:44<1:14:32,  1.35s/it]"
     ]
    },
    {
     "name": "stdout",
     "output_type": "stream",
     "text": [
      "[['know', ['you']], ['finish', ['you', 'cycle']], ['years', []], ['cycle', ['finish', 'did']], ['early', []], ['yrs', []], ['yrs', []], ['cycle', ['finish', 'did']], ['years', []], ['cycle', ['finish', 'did']], ['complete', []]]\n",
      "['know', ['you']]\n",
      "['finish', ['you', 'cycle']]\n",
      "['years', []]\n",
      "['cycle', ['finish', 'did']]\n",
      "['early', []]\n",
      "['yrs', []]\n",
      "['yrs', []]\n",
      "['cycle', ['finish', 'did']]\n",
      "['years', []]\n",
      "['cycle', ['finish', 'did']]\n",
      "['complete', []]\n",
      "Review Number :  86\n"
     ]
    },
    {
     "name": "stderr",
     "output_type": "stream",
     "text": [
      "\r",
      "  3%|██                                                                            | 87/3390 [00:45<1:01:17,  1.11s/it]"
     ]
    },
    {
     "name": "stdout",
     "output_type": "stream",
     "text": [
      "[['nahonceu', []], ['mrwont', []], ['liao', []], ['singapore', ['got']], ['waru', []], ['probably', []], ['years', []], ['cycle', ['got']]]\n",
      "['nahonceu', []]\n",
      "['mrwont', []]\n",
      "['liao', []]\n",
      "['singapore', ['got']]\n",
      "['waru', []]\n",
      "['probably', []]\n",
      "['years', []]\n",
      "['cycle', ['got']]\n",
      "Review Number :  87\n"
     ]
    },
    {
     "name": "stderr",
     "output_type": "stream",
     "text": [
      "\r",
      "  3%|██                                                                              | 88/3390 [00:46<52:08,  1.06it/s]"
     ]
    },
    {
     "name": "stdout",
     "output_type": "stream",
     "text": [
      "[['years', ['did']], ['old', []], ['havent', []], ['mr', ['he', 'he']], ['yet', []], ['whole', []], ['platoonmate', ['did']], ['years', ['did']], ['common', ['this']]]\n",
      "['years', ['did']]\n",
      "['old', []]\n",
      "['havent', []]\n",
      "['mr', ['he', 'he']]\n",
      "['yet', []]\n",
      "['whole', []]\n",
      "['platoonmate', ['did']]\n",
      "['years', ['did']]\n",
      "['common', ['this']]\n",
      "Review Number :  88\n"
     ]
    },
    {
     "name": "stderr",
     "output_type": "stream",
     "text": [
      "\r",
      "  3%|██                                                                              | 89/3390 [00:47<57:39,  1.05s/it]"
     ]
    },
    {
     "name": "stdout",
     "output_type": "stream",
     "text": [
      "[['active', []], ['units', ['call', 'are']], ['people', ['call', 'call']], ['back', []], ['year', []], ['complete', ['they']], ['years', []], ['units', ['call', 'are']], ['people', ['call', 'call']], ['years', []], ['next', []], ['year', []], ['ffi', ['do', 'mr']]]\n",
      "['active', []]\n",
      "['units', ['call', 'are']]\n",
      "['people', ['call', 'call']]\n",
      "['back', []]\n",
      "['year', []]\n",
      "['complete', ['they']]\n",
      "['years', []]\n",
      "['units', ['call', 'are']]\n",
      "['people', ['call', 'call']]\n",
      "['years', []]\n",
      "['next', []]\n",
      "['year', []]\n",
      "['ffi', ['do', 'mr']]\n",
      "Review Number :  89\n"
     ]
    },
    {
     "name": "stderr",
     "output_type": "stream",
     "text": [
      "\r",
      "  3%|██                                                                              | 90/3390 [00:47<48:03,  1.14it/s]"
     ]
    },
    {
     "name": "stdout",
     "output_type": "stream",
     "text": [
      "[['units', ['call']], ['servicemen', ['call']], ['years', []], ['years', []]]\n",
      "['units', ['call']]\n",
      "['servicemen', ['call']]\n",
      "['years', []]\n",
      "['years', []]\n",
      "Review Number :  90\n"
     ]
    },
    {
     "name": "stderr",
     "output_type": "stream",
     "text": [
      "\r",
      "  3%|██▏                                                                             | 91/3390 [00:48<45:39,  1.20it/s]"
     ]
    },
    {
     "name": "stdout",
     "output_type": "stream",
     "text": [
      "[['quick', []], ['question', []], ['ive', ['mred']], ['already', []], ['ipptrt', []], ['liabilities', ['have']], ['safely', []], ['hspappointment', ['ignore']], ['automatically', []]]\n",
      "['quick', []]\n",
      "['question', []]\n",
      "['ive', ['mred']]\n",
      "['already', []]\n",
      "['ipptrt', []]\n",
      "['liabilities', ['have']]\n",
      "['safely', []]\n",
      "['hspappointment', ['ignore']]\n",
      "['automatically', []]\n",
      "Review Number :  91\n"
     ]
    },
    {
     "name": "stderr",
     "output_type": "stream",
     "text": [
      "\r",
      "  3%|██▏                                                                             | 92/3390 [00:48<36:55,  1.49it/s]"
     ]
    },
    {
     "name": "stdout",
     "output_type": "stream",
     "text": [
      "[['call', ['them']], ['ask', ['them']], ['cancel', ['it']]]\n",
      "['call', ['them']]\n",
      "['ask', ['them']]\n",
      "['cancel', ['it']]\n",
      "Review Number :  92\n"
     ]
    },
    {
     "name": "stderr",
     "output_type": "stream",
     "text": [
      "\r",
      "  3%|██▏                                                                             | 93/3390 [00:49<33:15,  1.65it/s]"
     ]
    },
    {
     "name": "stdout",
     "output_type": "stream",
     "text": [
      "[['hmmm', []], ['call', []], ['confirm', []], ['cos', []], ['saf', ['play']], ['play', ['saf']], ['play', ['saf']]]\n",
      "['hmmm', []]\n",
      "['call', []]\n",
      "['confirm', []]\n",
      "['cos', []]\n",
      "['saf', ['play']]\n",
      "['play', ['saf']]\n",
      "['play', ['saf']]\n",
      "Review Number :  93\n"
     ]
    },
    {
     "name": "stderr",
     "output_type": "stream",
     "text": [
      "\r",
      "  3%|██▏                                                                             | 94/3390 [00:50<46:12,  1.19it/s]"
     ]
    },
    {
     "name": "stdout",
     "output_type": "stream",
     "text": [
      "[['saf', ['get']], ['simple', []], ['email', ['get']], ['medical', []], ['appointment', ['have', 'missed']], ['thats', []], ['call', ['i', 'number']], ['number', ['call']], ['forget', ['i']], ['appointment', ['have', 'missed']], ['fella', ['said']], ['line', []], ['nothing', ['happen']], ['fine', ['me', 'x']], ['x', ['fine']]]\n",
      "['saf', ['get']]\n",
      "['simple', []]\n",
      "['email', ['get']]\n",
      "['medical', []]\n",
      "['appointment', ['have', 'missed']]\n",
      "['thats', []]\n",
      "['call', ['i', 'number']]\n",
      "['number', ['call']]\n",
      "['forget', ['i']]\n",
      "['appointment', ['have', 'missed']]\n",
      "['fella', ['said']]\n",
      "['line', []]\n",
      "['nothing', ['happen']]\n",
      "['fine', ['me', 'x']]\n",
      "['x', ['fine']]\n",
      "Review Number :  94\n"
     ]
    },
    {
     "name": "stderr",
     "output_type": "stream",
     "text": [
      "\r",
      "  3%|██▏                                                                             | 95/3390 [00:51<46:57,  1.17it/s]"
     ]
    },
    {
     "name": "stdout",
     "output_type": "stream",
     "text": [
      "[['thats', []], ['case', []], ['saf', ['theres']], ['lor', ['skip']], ['probably', []], ['saf', ['theres']], ['appointment', []], ['halfday', []], ['makeuppay', []], ['u', ['play']], ['play', ['u']], ['play', ['u']]]\n",
      "['thats', []]\n",
      "['case', []]\n",
      "['saf', ['theres']]\n",
      "['lor', ['skip']]\n",
      "['probably', []]\n",
      "['saf', ['theres']]\n",
      "['appointment', []]\n",
      "['halfday', []]\n",
      "['makeuppay', []]\n",
      "['u', ['play']]\n",
      "['play', ['u']]\n",
      "['play', ['u']]\n",
      "Review Number :  95\n"
     ]
    },
    {
     "name": "stderr",
     "output_type": "stream",
     "text": [
      "\r",
      "  3%|██▎                                                                             | 96/3390 [00:52<41:20,  1.33it/s]"
     ]
    },
    {
     "name": "stdout",
     "output_type": "stream",
     "text": [
      "[['even', []], ['mr', []], ['still', []], ['liability', ['we']], ['call', []], ['age', []], ['officeryear', []]]\n",
      "['even', []]\n",
      "['mr', []]\n",
      "['still', []]\n",
      "['liability', ['we']]\n",
      "['call', []]\n",
      "['age', []]\n",
      "['officeryear', []]\n",
      "Review Number :  96\n"
     ]
    },
    {
     "name": "stderr",
     "output_type": "stream",
     "text": [
      "\r",
      "  3%|██▎                                                                             | 97/3390 [00:52<33:07,  1.66it/s]"
     ]
    },
    {
     "name": "stdout",
     "output_type": "stream",
     "text": [
      "[['mr', ['call']], ['call', ['mr']], ['back', []], ['war', []]]\n",
      "['mr', ['call']]\n",
      "['call', ['mr']]\n",
      "['back', []]\n",
      "['war', []]\n",
      "Review Number :  97\n"
     ]
    },
    {
     "name": "stderr",
     "output_type": "stream",
     "text": [
      "\r",
      "  3%|██▎                                                                             | 98/3390 [00:53<44:20,  1.24it/s]"
     ]
    },
    {
     "name": "stdout",
     "output_type": "stream",
     "text": [
      "[['different', ['is']], ['long', []], ['unit', ['we']], ['mr', []], ['list', []], ['apart', []], ['ippt', ['needs']], ['needs', ['we', 'ippt', 'someone', 'you']], ['standby', []], ['activation', []], ['someone', ['needs']], ['dig', ['you']], ['mr', []], ['list', []], ['deploy', ['you']], ['safe', ['you']], ['ns', []], ['duties', []]]\n",
      "['different', ['is']]\n",
      "['long', []]\n",
      "['unit', ['we']]\n",
      "['mr', []]\n",
      "['list', []]\n",
      "['apart', []]\n",
      "['ippt', ['needs']]\n",
      "['needs', ['we', 'ippt', 'someone', 'you']]\n",
      "['standby', []]\n",
      "['activation', []]\n",
      "['someone', ['needs']]\n",
      "['dig', ['you']]\n",
      "['mr', []]\n",
      "['list', []]\n",
      "['deploy', ['you']]\n",
      "['safe', ['you']]\n",
      "['ns', []]\n",
      "['duties', []]\n",
      "Review Number :  98\n"
     ]
    },
    {
     "name": "stderr",
     "output_type": "stream",
     "text": [
      "\r",
      "  3%|██▎                                                                           | 99/3390 [00:56<1:26:00,  1.57s/it]"
     ]
    },
    {
     "name": "stdout",
     "output_type": "stream",
     "text": [
      "[['generally', []], ['wouldnt', []], ['touch', ['they', 'u']], ['u', ['touch', 'call', 'throw']], ['war', ['got']], ['touchwood', ['said']], ['day', []], ['earthquake', ['got']], ['tsunami', []], ['extra', []], ['manpower', []], ['rescue', []], ['efforts', []], ['still', []], ['vocation', []], ['also', []], ['jamban', []], ['mat', ['escaped']], ['active', []], ['units', ['escaped', 'got']], ['reservist', []], ['units', ['escaped', 'got']], ['standby', []], ['last', []], ['minute', []], ['also', []], ['u', ['touch', 'call', 'throw']], ['rcombat', []], ['combatvocation', []], ['chances', ['higher']], ['also', []], ['dont', []], ['call', ['u']], ['u', ['touch', 'call', 'throw']], ['back', []], ['choice', []], ['adminnightmare', []], ['unit', ['stand']], ['liao', []], ['throw', ['they', 'u']], ['u', ['touch', 'call', 'throw']], ['gear', []], ['even', []], ['stuffeg', []], ['egi', []], ['doubt', []], ['camo', []], ['cover', ['fit']], ['fit', ['cover', 'metalhelmet']], ['old', []], ['schoolmetal', []], ['metalhelmet', ['fit']]]\n",
      "['generally', []]\n",
      "['wouldnt', []]\n",
      "['touch', ['they', 'u']]\n",
      "['u', ['touch', 'call', 'throw']]\n",
      "['war', ['got']]\n",
      "['touchwood', ['said']]\n",
      "['day', []]\n",
      "['earthquake', ['got']]\n",
      "['tsunami', []]\n",
      "['extra', []]\n",
      "['manpower', []]\n",
      "['rescue', []]\n",
      "['efforts', []]\n",
      "['still', []]\n",
      "['vocation', []]\n",
      "['also', []]\n",
      "['jamban', []]\n",
      "['mat', ['escaped']]\n",
      "['active', []]\n",
      "['units', ['escaped', 'got']]\n",
      "['reservist', []]\n",
      "['units', ['escaped', 'got']]\n",
      "['standby', []]\n",
      "['last', []]\n",
      "['minute', []]\n",
      "['also', []]\n",
      "['u', ['touch', 'call', 'throw']]\n",
      "['rcombat', []]\n",
      "['combatvocation', []]\n",
      "['chances', ['higher']]\n",
      "['also', []]\n",
      "['dont', []]\n",
      "['call', ['u']]\n",
      "['u', ['touch', 'call', 'throw']]\n",
      "['back', []]\n",
      "['choice', []]\n",
      "['adminnightmare', []]\n",
      "['unit', ['stand']]\n",
      "['liao', []]\n",
      "['throw', ['they', 'u']]\n",
      "['u', ['touch', 'call', 'throw']]\n",
      "['gear', []]\n",
      "['even', []]\n",
      "['stuffeg', []]\n",
      "['egi', []]\n",
      "['doubt', []]\n",
      "['camo', []]\n",
      "['cover', ['fit']]\n",
      "['fit', ['cover', 'metalhelmet']]\n",
      "['old', []]\n",
      "['schoolmetal', []]\n",
      "['metalhelmet', ['fit']]\n",
      "Review Number :  99\n"
     ]
    },
    {
     "name": "stderr",
     "output_type": "stream",
     "text": [
      "  3%|██▎                                                                            | 101/3390 [00:57<50:33,  1.08it/s]"
     ]
    },
    {
     "name": "stdout",
     "output_type": "stream",
     "text": [
      "[['ffi', ['ippt']], ['ippt', ['ffi']], ['deployment', []], ['u', ['booked', 'able']], ['holidayb', []], ['bspf', ['booked']], ['u', ['booked', 'able']], ['shld', []], ['able', ['u']], ['defer', []]]\n",
      "['ffi', ['ippt']]\n",
      "['ippt', ['ffi']]\n",
      "['deployment', []]\n",
      "['u', ['booked', 'able']]\n",
      "['holidayb', []]\n",
      "['bspf', ['booked']]\n",
      "['u', ['booked', 'able']]\n",
      "['shld', []]\n",
      "['able', ['u']]\n",
      "['defer', []]\n",
      "Review Number :  100\n",
      "[['old', []], ['thread', []]]\n",
      "['old', []]\n",
      "['thread', []]\n",
      "Review Number :  101\n"
     ]
    },
    {
     "name": "stderr",
     "output_type": "stream",
     "text": [
      "\r",
      "  3%|██▍                                                                            | 102/3390 [00:57<39:07,  1.40it/s]"
     ]
    },
    {
     "name": "stdout",
     "output_type": "stream",
     "text": [
      "[['ffi', []], ['status', ['see']], ['cert', []]]\n",
      "['ffi', []]\n",
      "['status', ['see']]\n",
      "['cert', []]\n",
      "Review Number :  102\n"
     ]
    },
    {
     "name": "stderr",
     "output_type": "stream",
     "text": [
      "\r",
      "  3%|██▍                                                                            | 103/3390 [00:58<43:59,  1.25it/s]"
     ]
    },
    {
     "name": "stdout",
     "output_type": "stream",
     "text": [
      "[['ageffi', []], ['yearhaf', ['is']], ['moment', ['do']], ['u', ['talesign', 'book', 'r']], ['r', ['u']], ['telltale', []], ['talesign', ['u', 'try']], ['try', ['talesign']], ['ippt', []], ['thrgh', []], ['ns', []], ['portal', ['booking']], ['u', ['talesign', 'book', 'r']], ['book', ['u']], ['u', ['talesign', 'book', 'r']], ['r', ['u']], ['thats', ['mean']], ['mean', ['thats']], ['ffi', []], ['good', []], ['go', []]]\n",
      "['ageffi', []]\n",
      "['yearhaf', ['is']]\n",
      "['moment', ['do']]\n",
      "['u', ['talesign', 'book', 'r']]\n",
      "['r', ['u']]\n",
      "['telltale', []]\n",
      "['talesign', ['u', 'try']]\n",
      "['try', ['talesign']]\n",
      "['ippt', []]\n",
      "['thrgh', []]\n",
      "['ns', []]\n",
      "['portal', ['booking']]\n",
      "['u', ['talesign', 'book', 'r']]\n",
      "['book', ['u']]\n",
      "['u', ['talesign', 'book', 'r']]\n",
      "['r', ['u']]\n",
      "['thats', ['mean']]\n",
      "['mean', ['thats']]\n",
      "['ffi', []]\n",
      "['good', []]\n",
      "['go', []]\n",
      "Review Number :  103\n"
     ]
    },
    {
     "name": "stderr",
     "output_type": "stream",
     "text": [
      "\r",
      "  3%|██▍                                                                            | 104/3390 [00:59<42:05,  1.30it/s]"
     ]
    },
    {
     "name": "stdout",
     "output_type": "stream",
     "text": [
      "[['btw', []], ['hspappointment', ['am']], ['saf', ['stated']], ['report', []], ['medical', []]]\n",
      "['btw', []]\n",
      "['hspappointment', ['am']]\n",
      "['saf', ['stated']]\n",
      "['report', []]\n",
      "['medical', []]\n",
      "Review Number :  104\n",
      "[]\n",
      "Review Number :  105\n"
     ]
    },
    {
     "name": "stderr",
     "output_type": "stream",
     "text": [
      "\r",
      "  3%|██▍                                                                            | 106/3390 [00:59<28:26,  1.92it/s]"
     ]
    },
    {
     "name": "stdout",
     "output_type": "stream",
     "text": [
      "[['early', []], ['finish', []], ['early', []], ['back', []], ['sometimes', []], ['queue', []], ['st', ['come']], ['stserve', []]]\n",
      "['early', []]\n",
      "['finish', []]\n",
      "['early', []]\n",
      "['back', []]\n",
      "['sometimes', []]\n",
      "['queue', []]\n",
      "['st', ['come']]\n",
      "['stserve', []]\n",
      "Review Number :  106\n"
     ]
    },
    {
     "name": "stderr",
     "output_type": "stream",
     "text": [
      "\r",
      "  3%|██▍                                                                            | 107/3390 [01:00<26:41,  2.05it/s]"
     ]
    },
    {
     "name": "stdout",
     "output_type": "stream",
     "text": [
      "[['calander', ['wrote']], ['ok', []], ['noted', ['thanks', 'lot']], ['thanks', ['noted']], ['lot', ['noted']], ['information', []]]\n",
      "['calander', ['wrote']]\n",
      "['ok', []]\n",
      "['noted', ['thanks', 'lot']]\n",
      "['thanks', ['noted']]\n",
      "['lot', ['noted']]\n",
      "['information', []]\n",
      "Review Number :  107\n"
     ]
    },
    {
     "name": "stderr",
     "output_type": "stream",
     "text": [
      "\r",
      "  3%|██▌                                                                            | 108/3390 [01:00<25:56,  2.11it/s]"
     ]
    },
    {
     "name": "stdout",
     "output_type": "stream",
     "text": [
      "[['yr', []], ['time', ['check']], ['wan', []], ['u', ['rfit']], ['rfit', ['u']], ['ipptby', []], ['way', []], ['havent', []], ['mrmeh', []]]\n",
      "['yr', []]\n",
      "['time', ['check']]\n",
      "['wan', []]\n",
      "['u', ['rfit']]\n",
      "['rfit', ['u']]\n",
      "['ipptby', []]\n",
      "['way', []]\n",
      "['havent', []]\n",
      "['mrmeh', []]\n",
      "Review Number :  108\n"
     ]
    },
    {
     "name": "stderr",
     "output_type": "stream",
     "text": [
      "\r",
      "  3%|██▌                                                                            | 109/3390 [01:01<22:48,  2.40it/s]"
     ]
    },
    {
     "name": "stdout",
     "output_type": "stream",
     "text": [
      "[['year', []], ['la', []], ['u', ['turn']], ['turn', ['u']], ['onwards', []]]\n",
      "['year', []]\n",
      "['la', []]\n",
      "['u', ['turn']]\n",
      "['turn', ['u']]\n",
      "['onwards', []]\n",
      "Review Number :  109\n"
     ]
    },
    {
     "name": "stderr",
     "output_type": "stream",
     "text": [
      "\r",
      "  3%|██▌                                                                            | 110/3390 [01:01<26:39,  2.05it/s]"
     ]
    },
    {
     "name": "stdout",
     "output_type": "stream",
     "text": [
      "[['crazy', []], ['general', []], ['nspolitician', []], ['situation', ['dig']], ['malaysia', []], ['maybe', []], ['dig', ['situation', 'they', 'liaoffffffffffffffffk']], ['mr', []], ['listliao', []], ['liaoffffffffffffffffk', ['dig']]]\n",
      "['crazy', []]\n",
      "['general', []]\n",
      "['nspolitician', []]\n",
      "['situation', ['dig']]\n",
      "['malaysia', []]\n",
      "['maybe', []]\n",
      "['dig', ['situation', 'they', 'liaoffffffffffffffffk']]\n",
      "['mr', []]\n",
      "['listliao', []]\n",
      "['liaoffffffffffffffffk', ['dig']]\n",
      "Review Number :  110\n"
     ]
    },
    {
     "name": "stderr",
     "output_type": "stream",
     "text": [
      "\r",
      "  3%|██▌                                                                            | 111/3390 [01:01<22:35,  2.42it/s]"
     ]
    },
    {
     "name": "stdout",
     "output_type": "stream",
     "text": [
      "[['concern', ['have']]]\n",
      "['concern', ['have']]\n",
      "Review Number :  111\n"
     ]
    },
    {
     "name": "stderr",
     "output_type": "stream",
     "text": [
      "\r",
      "  3%|██▌                                                                            | 112/3390 [01:02<20:09,  2.71it/s]"
     ]
    },
    {
     "name": "stdout",
     "output_type": "stream",
     "text": [
      "[['curious', []], ['definitely', []], ['safe', ['i']]]\n",
      "['curious', []]\n",
      "['definitely', []]\n",
      "['safe', ['i']]\n",
      "Review Number :  112\n"
     ]
    },
    {
     "name": "stderr",
     "output_type": "stream",
     "text": [
      "\r",
      "  3%|██▋                                                                            | 113/3390 [01:02<18:36,  2.94it/s]"
     ]
    },
    {
     "name": "stdout",
     "output_type": "stream",
     "text": [
      "[['ffi', []], ['book', ['appointment']], ['appointment', ['book']]]\n",
      "['ffi', []]\n",
      "['book', ['appointment']]\n",
      "['appointment', ['book']]\n",
      "Review Number :  113\n"
     ]
    },
    {
     "name": "stderr",
     "output_type": "stream",
     "text": [
      "\r",
      "  3%|██▋                                                                            | 114/3390 [01:02<20:03,  2.72it/s]"
     ]
    },
    {
     "name": "stdout",
     "output_type": "stream",
     "text": [
      "[['call', ['unit']], ['unit', ['call']], ['appointmentlo', ['make']], ['ganyu', []], ['mobile', ['using']]]\n",
      "['call', ['unit']]\n",
      "['unit', ['call']]\n",
      "['appointmentlo', ['make']]\n",
      "['ganyu', []]\n",
      "['mobile', ['using']]\n",
      "Review Number :  114\n"
     ]
    },
    {
     "name": "stderr",
     "output_type": "stream",
     "text": [
      "\r",
      "  3%|██▋                                                                            | 115/3390 [01:03<27:32,  1.98it/s]"
     ]
    },
    {
     "name": "stdout",
     "output_type": "stream",
     "text": [
      "[['change', ['lah']], ['still', []], ['u', ['hit', 'think']], ['hit', ['u', 'yr']], ['yr', ['hit']], ['u', ['hit', 'think']], ['even', []], ['ipptrtipt', ['booking']], ['nsfit', []]]\n",
      "['change', ['lah']]\n",
      "['still', []]\n",
      "['u', ['hit', 'think']]\n",
      "['hit', ['u', 'yr']]\n",
      "['yr', ['hit']]\n",
      "['u', ['hit', 'think']]\n",
      "['even', []]\n",
      "['ipptrtipt', ['booking']]\n",
      "['nsfit', []]\n",
      "Review Number :  115\n"
     ]
    },
    {
     "name": "stderr",
     "output_type": "stream",
     "text": [
      "  3%|██▋                                                                            | 117/3390 [01:04<23:45,  2.30it/s]"
     ]
    },
    {
     "name": "stdout",
     "output_type": "stream",
     "text": [
      "[['true', []], ['singaporean', []], ['male', ['reaches']], ['years', []], ['old', []], ['reservisttraining', ['what']], ['still', []], ['full', []], ['reservistcycle', ['completed']]]\n",
      "['true', []]\n",
      "['singaporean', []]\n",
      "['male', ['reaches']]\n",
      "['years', []]\n",
      "['old', []]\n",
      "['reservisttraining', ['what']]\n",
      "['still', []]\n",
      "['full', []]\n",
      "['reservistcycle', ['completed']]\n",
      "Review Number :  116\n",
      "[['depends', []], ['unit', []]]\n",
      "['depends', []]\n",
      "['unit', []]\n",
      "Review Number :  117\n"
     ]
    },
    {
     "name": "stderr",
     "output_type": "stream",
     "text": [
      "\r",
      "  3%|██▋                                                                            | 118/3390 [01:04<23:10,  2.35it/s]"
     ]
    },
    {
     "name": "stdout",
     "output_type": "stream",
     "text": [
      "[['general', []], ['rule', ['is']], ['law', []], ['need', ['reach']], ['back', []], ['right', []]]\n",
      "['general', []]\n",
      "['rule', ['is']]\n",
      "['law', []]\n",
      "['need', ['reach']]\n",
      "['back', []]\n",
      "['right', []]\n",
      "Review Number :  118\n"
     ]
    },
    {
     "name": "stderr",
     "output_type": "stream",
     "text": [
      "\r",
      "  4%|██▊                                                                            | 119/3390 [01:05<25:08,  2.17it/s]"
     ]
    },
    {
     "name": "stdout",
     "output_type": "stream",
     "text": [
      "[['occifer', ['need']], ['still', []], ['back', []], ['reach', []], ['still', []], ['yet', []], ['complete', []], ['cycle', []], ['occifer', ['need']], ['agelimit', ['is']]]\n",
      "['occifer', ['need']]\n",
      "['still', []]\n",
      "['back', []]\n",
      "['reach', []]\n",
      "['still', []]\n",
      "['yet', []]\n",
      "['complete', []]\n",
      "['cycle', []]\n",
      "['occifer', ['need']]\n",
      "['agelimit', ['is']]\n",
      "Review Number :  119\n"
     ]
    },
    {
     "name": "stderr",
     "output_type": "stream",
     "text": [
      "\r",
      "  4%|██▊                                                                            | 120/3390 [01:05<22:58,  2.37it/s]"
     ]
    },
    {
     "name": "stdout",
     "output_type": "stream",
     "text": [
      "[['shld', []], ['clear', ['liaoleh']], ['ict', []], ['liaoleh', ['clear']], ['u', ['keepsiam']], ['keepsiam', ['u']]]\n",
      "['shld', []]\n",
      "['clear', ['liaoleh']]\n",
      "['ict', []]\n",
      "['liaoleh', ['clear']]\n",
      "['u', ['keepsiam']]\n",
      "['keepsiam', ['u']]\n",
      "Review Number :  120\n"
     ]
    },
    {
     "name": "stderr",
     "output_type": "stream",
     "text": [
      "\r",
      "  4%|██▊                                                                            | 121/3390 [01:06<28:11,  1.93it/s]"
     ]
    },
    {
     "name": "stdout",
     "output_type": "stream",
     "text": [
      "[['u', ['ord', 'turn']], ['ord', ['u']], ['age', []], ['right', []], ['example', []], ['u', ['ord', 'turn']], ['turn', ['u']], ['th', []], ['jan', []], ['u', ['ord', 'turn']], ['wont', []], ['baxk', []], ['incampegen', []], ['restofyour', []], ['ofyourunit', ['have']], ['still', []]]\n",
      "['u', ['ord', 'turn']]\n",
      "['ord', ['u']]\n",
      "['age', []]\n",
      "['right', []]\n",
      "['example', []]\n",
      "['u', ['ord', 'turn']]\n",
      "['turn', ['u']]\n",
      "['th', []]\n",
      "['jan', []]\n",
      "['u', ['ord', 'turn']]\n",
      "['wont', []]\n",
      "['baxk', []]\n",
      "['incampegen', []]\n",
      "['restofyour', []]\n",
      "['ofyourunit', ['have']]\n",
      "['still', []]\n",
      "Review Number :  121\n"
     ]
    },
    {
     "name": "stderr",
     "output_type": "stream",
     "text": [
      "\r",
      "  4%|██▊                                                                            | 122/3390 [01:07<34:10,  1.59it/s]"
     ]
    },
    {
     "name": "stdout",
     "output_type": "stream",
     "text": [
      "[['letter', ['tell']], ['need', ['tell', 'means']], ['back', []], ['means', ['need']], ['back', []], ['already', []], ['gravely', []], ['concerned', ['you', 'mindef']], ['mindef', ['concerned']], ['wun', []]]\n",
      "['letter', ['tell']]\n",
      "['need', ['tell', 'means']]\n",
      "['back', []]\n",
      "['means', ['need']]\n",
      "['back', []]\n",
      "['already', []]\n",
      "['gravely', []]\n",
      "['concerned', ['you', 'mindef']]\n",
      "['mindef', ['concerned']]\n",
      "['wun', []]\n",
      "Review Number :  122\n"
     ]
    },
    {
     "name": "stderr",
     "output_type": "stream",
     "text": [
      "\r",
      "  4%|██▊                                                                            | 123/3390 [01:07<30:44,  1.77it/s]"
     ]
    },
    {
     "name": "stdout",
     "output_type": "stream",
     "text": [
      "[['receive', ['you', 'letter']], ['formal', []], ['letter', ['receive']], ['mindefif', []], ['good', []], ['luck', []]]\n",
      "['receive', ['you', 'letter']]\n",
      "['formal', []]\n",
      "['letter', ['receive']]\n",
      "['mindefif', []]\n",
      "['good', []]\n",
      "['luck', []]\n",
      "Review Number :  123\n"
     ]
    },
    {
     "name": "stderr",
     "output_type": "stream",
     "text": [
      "  4%|██▉                                                                            | 125/3390 [01:09<28:49,  1.89it/s]"
     ]
    },
    {
     "name": "stdout",
     "output_type": "stream",
     "text": [
      "[['reach', ['calling']], ['still', []], ['yet', []], ['complete', ['cycle']], ['ict', []], ['cycle', ['complete']], ['unit', ['calling']], ['back', []], ['instead', []], ['letter', ['send']], ['collect', ['certificate']], ['certificate', ['collect']], ['appreciation', []], ['watch', []], ['medals', []]]\n",
      "['reach', ['calling']]\n",
      "['still', []]\n",
      "['yet', []]\n",
      "['complete', ['cycle']]\n",
      "['ict', []]\n",
      "['cycle', ['complete']]\n",
      "['unit', ['calling']]\n",
      "['back', []]\n",
      "['instead', []]\n",
      "['letter', ['send']]\n",
      "['collect', ['certificate']]\n",
      "['certificate', ['collect']]\n",
      "['appreciation', []]\n",
      "['watch', []]\n",
      "['medals', []]\n",
      "Review Number :  124\n",
      "[['depends', []], ['ur', []], ['rank', []]]\n",
      "['depends', []]\n",
      "['ur', []]\n",
      "['rank', []]\n",
      "Review Number :  125\n"
     ]
    },
    {
     "name": "stderr",
     "output_type": "stream",
     "text": [
      "\r",
      "  4%|██▉                                                                            | 126/3390 [01:09<28:21,  1.92it/s]"
     ]
    },
    {
     "name": "stdout",
     "output_type": "stream",
     "text": [
      "[['even', []], ['u', ['complete', 'get']], ['never', []], ['complete', ['u', 'cycles']], ['cycles', ['complete']], ['still', []], ['k', []], ['right', ['get']], ['assumeinhu', []]]\n",
      "['even', []]\n",
      "['u', ['complete', 'get']]\n",
      "['never', []]\n",
      "['complete', ['u', 'cycles']]\n",
      "['cycles', ['complete']]\n",
      "['still', []]\n",
      "['k', []]\n",
      "['right', ['get']]\n",
      "['assumeinhu', []]\n",
      "Review Number :  126\n"
     ]
    },
    {
     "name": "stderr",
     "output_type": "stream",
     "text": [
      "\r",
      "  4%|██▉                                                                            | 127/3390 [01:10<39:55,  1.36it/s]"
     ]
    },
    {
     "name": "stdout",
     "output_type": "stream",
     "text": [
      "[['watch', ['make']], ['coa', []], ['letter', []], ['bosses', []], ['bo', []], ['chup', []], ['medals', []], ['cash', []], ['converters', []], ['giftskeep', ['ish']], ['sua', []], ['rah', []], ['nowadays', []], ['reservists', []], ['ish', ['giftskeep', 'liability']], ['liability', ['ish']], ['sinkie', []], ['male', []], ['ft', []], ['males', ['working']], ['happily', []]]\n",
      "['watch', ['make']]\n",
      "['coa', []]\n",
      "['letter', []]\n",
      "['bosses', []]\n",
      "['bo', []]\n",
      "['chup', []]\n",
      "['medals', []]\n",
      "['cash', []]\n",
      "['converters', []]\n",
      "['giftskeep', ['ish']]\n",
      "['sua', []]\n",
      "['rah', []]\n",
      "['nowadays', []]\n",
      "['reservists', []]\n",
      "['ish', ['giftskeep', 'liability']]\n",
      "['liability', ['ish']]\n",
      "['sinkie', []]\n",
      "['male', []]\n",
      "['ft', []]\n",
      "['males', ['working']]\n",
      "['happily', []]\n",
      "Review Number :  127\n"
     ]
    },
    {
     "name": "stderr",
     "output_type": "stream",
     "text": [
      "\r",
      "  4%|██▉                                                                            | 128/3390 [01:12<54:26,  1.00s/it]"
     ]
    },
    {
     "name": "stdout",
     "output_type": "stream",
     "text": [
      "[['already', []], ['moi', ['want']], ['useless', []], ['watchco', ['give']], ['ask', []], ['moi', ['want']], ['extend', []], ['year', []], ['rank', []], ['staffsgt', []], ['sgti', ['told']], ['staff', []], ['sgt', ['give']], ['moijob', []], ['diam', ['he', 'give']], ['diam', ['he', 'give']], ['mind', []], ['payincrease', []], ['increaserank', []], ['rankpay', []], ['payincrease', []], ['seeand', ['i']], ['chancelet', []], ['ft', ['take']], ['jobsiao', ['take']], ['u', []], ['ft', ['take']], ['job', ['take']], ['doesnt', []]]\n",
      "['already', []]\n",
      "['moi', ['want']]\n",
      "['useless', []]\n",
      "['watchco', ['give']]\n",
      "['ask', []]\n",
      "['moi', ['want']]\n",
      "['extend', []]\n",
      "['year', []]\n",
      "['rank', []]\n",
      "['staffsgt', []]\n",
      "['sgti', ['told']]\n",
      "['staff', []]\n",
      "['sgt', ['give']]\n",
      "['moijob', []]\n",
      "['diam', ['he', 'give']]\n",
      "['diam', ['he', 'give']]\n",
      "['mind', []]\n",
      "['payincrease', []]\n",
      "['increaserank', []]\n",
      "['rankpay', []]\n",
      "['payincrease', []]\n",
      "['seeand', ['i']]\n",
      "['chancelet', []]\n",
      "['ft', ['take']]\n",
      "['jobsiao', ['take']]\n",
      "['u', []]\n",
      "['ft', ['take']]\n",
      "['job', ['take']]\n",
      "['doesnt', []]\n",
      "Review Number :  128\n"
     ]
    },
    {
     "name": "stderr",
     "output_type": "stream",
     "text": [
      "\r",
      "  4%|███                                                                            | 129/3390 [01:13<53:07,  1.02it/s]"
     ]
    },
    {
     "name": "stdout",
     "output_type": "stream",
     "text": [
      "[['didnt', []], ['k', ['is']], ['collect', []], ['singaporean', []], ['male', ['complete']], ['complete', ['male', 'cycles', 'who']], ['cycles', ['complete']], ['anything', ['deserve']], ['otherwise', []], ['singaporean', []], ['males', []]]\n",
      "['didnt', []]\n",
      "['k', ['is']]\n",
      "['collect', []]\n",
      "['singaporean', []]\n",
      "['male', ['complete']]\n",
      "['complete', ['male', 'cycles', 'who']]\n",
      "['cycles', ['complete']]\n",
      "['anything', ['deserve']]\n",
      "['otherwise', []]\n",
      "['singaporean', []]\n",
      "['males', []]\n",
      "Review Number :  129\n"
     ]
    },
    {
     "name": "stderr",
     "output_type": "stream",
     "text": [
      "\r",
      "  4%|███                                                                            | 130/3390 [01:14<53:06,  1.02it/s]"
     ]
    },
    {
     "name": "stdout",
     "output_type": "stream",
     "text": [
      "[['max', []], ['nsfnsmen', []], ['regardless', []], ['u', ['completed']], ['many', []], ['cycle', ['need']], ['rare', []], ['cases', ['are']], ['unit', []], ['person', ['need']], ['cycle', ['need']], ['complete', []], ['k', []], ['request', ['he']], ['however', []], ['still', []], ['ippt', []]]\n",
      "['max', []]\n",
      "['nsfnsmen', []]\n",
      "['regardless', []]\n",
      "['u', ['completed']]\n",
      "['many', []]\n",
      "['cycle', ['need']]\n",
      "['rare', []]\n",
      "['cases', ['are']]\n",
      "['unit', []]\n",
      "['person', ['need']]\n",
      "['cycle', ['need']]\n",
      "['complete', []]\n",
      "['k', []]\n",
      "['request', ['he']]\n",
      "['however', []]\n",
      "['still', []]\n",
      "['ippt', []]\n",
      "Review Number :  130\n"
     ]
    },
    {
     "name": "stderr",
     "output_type": "stream",
     "text": [
      "\r",
      "  4%|███                                                                            | 131/3390 [01:14<43:50,  1.24it/s]"
     ]
    },
    {
     "name": "stdout",
     "output_type": "stream",
     "text": [
      "[['kinda', ['chao']], ['chao', ['kinda']], ['early', []], ['years', []], ['goodie', ['got']], ['extend', []]]\n",
      "['kinda', ['chao']]\n",
      "['chao', ['kinda']]\n",
      "['early', []]\n",
      "['years', []]\n",
      "['goodie', ['got']]\n",
      "['extend', []]\n",
      "Review Number :  131\n"
     ]
    },
    {
     "name": "stderr",
     "output_type": "stream",
     "text": [
      "\r",
      "  4%|███                                                                            | 132/3390 [01:15<36:56,  1.47it/s]"
     ]
    },
    {
     "name": "stdout",
     "output_type": "stream",
     "text": [
      "[['nobody', ['force']], ['force', ['nobody', 'person']], ['person', ['force']], ['extend', []], ['right', []]]\n",
      "['nobody', ['force']]\n",
      "['force', ['nobody', 'person']]\n",
      "['person', ['force']]\n",
      "['extend', []]\n",
      "['right', []]\n",
      "Review Number :  132\n"
     ]
    },
    {
     "name": "stderr",
     "output_type": "stream",
     "text": [
      "\r",
      "  4%|███                                                                            | 133/3390 [01:15<31:35,  1.72it/s]"
     ]
    },
    {
     "name": "stdout",
     "output_type": "stream",
     "text": [
      "[['kumgongz', []], ['gongzlor', []], ['lork', ['kwaste']], ['kwaste', ['lork', 'timeandeffort']], ['much', []], ['timeandeffort', ['kwaste']]]\n",
      "['kumgongz', []]\n",
      "['gongzlor', []]\n",
      "['lork', ['kwaste']]\n",
      "['kwaste', ['lork', 'timeandeffort']]\n",
      "['much', []]\n",
      "['timeandeffort', ['kwaste']]\n",
      "Review Number :  133\n"
     ]
    },
    {
     "name": "stderr",
     "output_type": "stream",
     "text": [
      "\r",
      "  4%|███                                                                            | 134/3390 [01:16<31:13,  1.74it/s]"
     ]
    },
    {
     "name": "stdout",
     "output_type": "stream",
     "text": [
      "[['expthearmy', []], ['totalwaste', ['where']], ['time', []], ['realvalue', ['has']], ['realworld', []]]\n",
      "['expthearmy', []]\n",
      "['totalwaste', ['where']]\n",
      "['time', []]\n",
      "['realvalue', ['has']]\n",
      "['realworld', []]\n",
      "Review Number :  134\n"
     ]
    },
    {
     "name": "stderr",
     "output_type": "stream",
     "text": [
      "\r",
      "  4%|███▏                                                                           | 135/3390 [01:16<35:09,  1.54it/s]"
     ]
    },
    {
     "name": "stdout",
     "output_type": "stream",
     "text": [
      "[['ts', []], ['u', ['concern', 'concern']], ['concern', ['u', 'u']], ['u', ['concern', 'concern']], ['old', []], ['btw', ['good']], ['always', []], ['good', ['btw']], ['try', []], ['clear', ['cycles']], ['complete', []], ['entire', []], ['cycles', ['clear']], ['early', []], ['possible', []], ['mr', ['relax']], ['liao', ['relax']], ['relax', ['mr', 'liao']]]\n",
      "['ts', []]\n",
      "['u', ['concern', 'concern']]\n",
      "['concern', ['u', 'u']]\n",
      "['u', ['concern', 'concern']]\n",
      "['old', []]\n",
      "['btw', ['good']]\n",
      "['always', []]\n",
      "['good', ['btw']]\n",
      "['try', []]\n",
      "['clear', ['cycles']]\n",
      "['complete', []]\n",
      "['entire', []]\n",
      "['cycles', ['clear']]\n",
      "['early', []]\n",
      "['possible', []]\n",
      "['mr', ['relax']]\n",
      "['liao', ['relax']]\n",
      "['relax', ['mr', 'liao']]\n",
      "Review Number :  135\n"
     ]
    },
    {
     "name": "stderr",
     "output_type": "stream",
     "text": [
      "\r",
      "  4%|███▏                                                                           | 136/3390 [01:17<36:41,  1.48it/s]"
     ]
    },
    {
     "name": "stdout",
     "output_type": "stream",
     "text": [
      "[['person', ['request']], ['extendnot', ['force']], ['kena', []], ['force', ['extendnot']], ['parliament', ['new']], ['implement', []], ['new', ['parliament', 'bill']], ['bill', ['new']], ['reservist', ['age']], ['age', ['reservist']], ['counter', []], ['low', []], ['birth', []], ['rates', []]]\n",
      "['person', ['request']]\n",
      "['extendnot', ['force']]\n",
      "['kena', []]\n",
      "['force', ['extendnot']]\n",
      "['parliament', ['new']]\n",
      "['implement', []]\n",
      "['new', ['parliament', 'bill']]\n",
      "['bill', ['new']]\n",
      "['reservist', ['age']]\n",
      "['age', ['reservist']]\n",
      "['counter', []]\n",
      "['low', []]\n",
      "['birth', []]\n",
      "['rates', []]\n",
      "Review Number :  136\n"
     ]
    },
    {
     "name": "stderr",
     "output_type": "stream",
     "text": [
      "\r",
      "  4%|███▏                                                                           | 137/3390 [01:17<29:11,  1.86it/s]"
     ]
    },
    {
     "name": "stdout",
     "output_type": "stream",
     "text": [
      "[['u', ['officerlor']], ['officerlor', ['u']]]\n",
      "['u', ['officerlor']]\n",
      "['officerlor', ['u']]\n",
      "Review Number :  137\n"
     ]
    },
    {
     "name": "stderr",
     "output_type": "stream",
     "text": [
      "\r",
      "  4%|███▏                                                                           | 138/3390 [01:18<30:33,  1.77it/s]"
     ]
    },
    {
     "name": "stdout",
     "output_type": "stream",
     "text": [
      "[['wooo', []], ['years', []], ['overseas', []], ['sht', []], ['x', []]]\n",
      "['wooo', []]\n",
      "['years', []]\n",
      "['overseas', []]\n",
      "['sht', []]\n",
      "['x', []]\n",
      "Review Number :  138\n"
     ]
    },
    {
     "name": "stderr",
     "output_type": "stream",
     "text": [
      "\r",
      "  4%|███▏                                                                           | 139/3390 [01:19<35:08,  1.54it/s]"
     ]
    },
    {
     "name": "stdout",
     "output_type": "stream",
     "text": [
      "[['u', ['rofficer', 'go']], ['rofficer', ['u']], ['else', []], ['complete', ['reached']], ['complete', ['reached']], ['cycles', ['reached']], ['u', ['rofficer', 'go']], ['call', ['one', 'you']], ['back', []], ['ict', []], ['anymore', []], ['extend', ['service']], ['service', ['extend']]]\n",
      "['u', ['rofficer', 'go']]\n",
      "['rofficer', ['u']]\n",
      "['else', []]\n",
      "['complete', ['reached']]\n",
      "['complete', ['reached']]\n",
      "['cycles', ['reached']]\n",
      "['u', ['rofficer', 'go']]\n",
      "['call', ['one', 'you']]\n",
      "['back', []]\n",
      "['ict', []]\n",
      "['anymore', []]\n",
      "['extend', ['service']]\n",
      "['service', ['extend']]\n",
      "Review Number :  139\n",
      "[['heardofficer', ['i']]]"
     ]
    },
    {
     "name": "stderr",
     "output_type": "stream",
     "text": [
      "\r",
      "  4%|███▎                                                                           | 140/3390 [01:19<27:59,  1.93it/s]"
     ]
    },
    {
     "name": "stdout",
     "output_type": "stream",
     "text": [
      "\n",
      "['heardofficer', ['i']]\n",
      "Review Number :  140\n"
     ]
    },
    {
     "name": "stderr",
     "output_type": "stream",
     "text": [
      "\r",
      "  4%|███▎                                                                           | 141/3390 [01:20<42:24,  1.28it/s]"
     ]
    },
    {
     "name": "stdout",
     "output_type": "stream",
     "text": [
      "[['eh', []], ['serve', ['you', 'reservist', 'one']], ['reservist', ['serve']], ['u', ['ish']], ['ish', ['u']], ['xdd', []], ['ft', []], ['unfair', []], ['reservist', ['serve']], ['complete', ['who', 'those']], ['usually', []], ['complete', ['who', 'those']], ['cycles', ['one', 'clear']], ['actually', []], ['unit', ['nightmare']], ['call', ['nightmare']], ['back', []], ['ippttill', ['nightmare']], ['tillyear', []], ['nightmare', ['unit', 'call', 'ippttill']], ['maneveryone', ['wan']], ['na', []], ['clear', ['cycles']], ['cycles', ['one', 'clear']], ['tiocall', ['bo']], ['really', []], ['sad', []]]\n",
      "['eh', []]\n",
      "['serve', ['you', 'reservist', 'one']]\n",
      "['reservist', ['serve']]\n",
      "['u', ['ish']]\n",
      "['ish', ['u']]\n",
      "['xdd', []]\n",
      "['ft', []]\n",
      "['unfair', []]\n",
      "['reservist', ['serve']]\n",
      "['complete', ['who', 'those']]\n",
      "['usually', []]\n",
      "['complete', ['who', 'those']]\n",
      "['cycles', ['one', 'clear']]\n",
      "['actually', []]\n",
      "['unit', ['nightmare']]\n",
      "['call', ['nightmare']]\n",
      "['back', []]\n",
      "['ippttill', ['nightmare']]\n",
      "['tillyear', []]\n",
      "['nightmare', ['unit', 'call', 'ippttill']]\n",
      "['maneveryone', ['wan']]\n",
      "['na', []]\n",
      "['clear', ['cycles']]\n",
      "['cycles', ['one', 'clear']]\n",
      "['tiocall', ['bo']]\n",
      "['really', []]\n",
      "['sad', []]\n",
      "Review Number :  141\n"
     ]
    },
    {
     "name": "stderr",
     "output_type": "stream",
     "text": [
      "\r",
      "  4%|███▎                                                                           | 142/3390 [01:21<43:36,  1.24it/s]"
     ]
    },
    {
     "name": "stdout",
     "output_type": "stream",
     "text": [
      "[['yeahk', []], ['bigger', []], ['bull', []], ['cart', []], ['wheels', ['scrap']], ['years', []], ['ns', ['scrap']], ['punyk', []], ['ranjiao', []], ['allowances', ['keep']], ['pcb', []], ['anyways', []], ['havent', []], ['back', []], ['im', []], ['back', []]]\n",
      "['yeahk', []]\n",
      "['bigger', []]\n",
      "['bull', []]\n",
      "['cart', []]\n",
      "['wheels', ['scrap']]\n",
      "['years', []]\n",
      "['ns', ['scrap']]\n",
      "['punyk', []]\n",
      "['ranjiao', []]\n",
      "['allowances', ['keep']]\n",
      "['pcb', []]\n",
      "['anyways', []]\n",
      "['havent', []]\n",
      "['back', []]\n",
      "['im', []]\n",
      "['back', []]\n",
      "Review Number :  142\n"
     ]
    },
    {
     "name": "stderr",
     "output_type": "stream",
     "text": [
      "\r",
      "  4%|███▎                                                                           | 143/3390 [01:21<34:15,  1.58it/s]"
     ]
    },
    {
     "name": "stdout",
     "output_type": "stream",
     "text": [
      "[['need', []], ['chiu', ['are']], ['occifer', []]]\n",
      "['need', []]\n",
      "['chiu', ['are']]\n",
      "['occifer', []]\n",
      "Review Number :  143\n"
     ]
    },
    {
     "name": "stderr",
     "output_type": "stream",
     "text": [
      "\r",
      "  4%|███▎                                                                           | 144/3390 [01:24<58:05,  1.07s/it]"
     ]
    },
    {
     "name": "stdout",
     "output_type": "stream",
     "text": [
      "[['officer', ['is']], ['applicability', []], ['annual', []], ['ippt', ['applicable']], ['applicable', ['ippt']], ['pes', []], ['nsmen', []], ['ns', []], ['liabilitytill', []], ['tillage', []], ['years', []], ['old', []], ['officers', []], ['respectively', []], ['nsmans', ['commences']], ['ippt', ['applicable']], ['annual', []], ['requirement', []], ['commences', ['nsmans']], ['immediately', []], ['nsf', []], ['operational', []], ['ready', []], ['dateord', []], ['mindef', []], ['reserves', []], ['medically', []], ['pes', []], ['ok', []], ['kah', []]]\n",
      "['officer', ['is']]\n",
      "['applicability', []]\n",
      "['annual', []]\n",
      "['ippt', ['applicable']]\n",
      "['applicable', ['ippt']]\n",
      "['pes', []]\n",
      "['nsmen', []]\n",
      "['ns', []]\n",
      "['liabilitytill', []]\n",
      "['tillage', []]\n",
      "['years', []]\n",
      "['old', []]\n",
      "['officers', []]\n",
      "['respectively', []]\n",
      "['nsmans', ['commences']]\n",
      "['ippt', ['applicable']]\n",
      "['annual', []]\n",
      "['requirement', []]\n",
      "['commences', ['nsmans']]\n",
      "['immediately', []]\n",
      "['nsf', []]\n",
      "['operational', []]\n",
      "['ready', []]\n",
      "['dateord', []]\n",
      "['mindef', []]\n",
      "['reserves', []]\n",
      "['medically', []]\n",
      "['pes', []]\n",
      "['ok', []]\n",
      "['kah', []]\n",
      "Review Number :  144\n"
     ]
    },
    {
     "name": "stderr",
     "output_type": "stream",
     "text": [
      "\r",
      "  4%|███▎                                                                         | 145/3390 [01:26<1:17:28,  1.43s/it]"
     ]
    },
    {
     "name": "stdout",
     "output_type": "stream",
     "text": [
      "[['hello', []], ['call', ['you', 'nssc']], ['nssc', ['call', 'getting']], ['let', ['me']], ['share', []], ['officer', ['you']], ['unit', ['send']], ['send', ['unit', 'letter', 'email']], ['letter', ['send']], ['longer', []], ['u', ['finish', 'getwatch', 'ask']], ['dont', []], ['finish', ['u', 'key']], ['high', []], ['key', ['finish']], ['yearcycle', []], ['u', ['finish', 'getwatch', 'ask']], ['wont', []], ['getwatch', ['u']], ['year', []], ['long', []], ['servicemedal', []], ['reach', ['you']], ['years', []], ['old', []], ['short', ['you']], ['high', []], ['key', ['finish']], ['u', ['finish', 'getwatch', 'ask']], ['want', ['you']], ['volunteer', ['service']], ['service', ['volunteer', 'getting']], ['volunteeru', ['choose']], ['choose', ['volunteeru']], ['nowadays', []], ['nssc', ['call', 'getting']], ['unit', ['send']], ['service', ['volunteer', 'getting']], ['unsure', ['you']], ['feel', []], ['free', []], ['send', ['unit', 'letter', 'email']], ['email', ['send']]]\n",
      "['hello', []]\n",
      "['call', ['you', 'nssc']]\n",
      "['nssc', ['call', 'getting']]\n",
      "['let', ['me']]\n",
      "['share', []]\n",
      "['officer', ['you']]\n",
      "['unit', ['send']]\n",
      "['send', ['unit', 'letter', 'email']]\n",
      "['letter', ['send']]\n",
      "['longer', []]\n",
      "['u', ['finish', 'getwatch', 'ask']]\n",
      "['dont', []]\n",
      "['finish', ['u', 'key']]\n",
      "['high', []]\n",
      "['key', ['finish']]\n",
      "['yearcycle', []]\n",
      "['u', ['finish', 'getwatch', 'ask']]\n",
      "['wont', []]\n",
      "['getwatch', ['u']]\n",
      "['year', []]\n",
      "['long', []]\n",
      "['servicemedal', []]\n",
      "['reach', ['you']]\n",
      "['years', []]\n",
      "['old', []]\n",
      "['short', ['you']]\n",
      "['high', []]\n",
      "['key', ['finish']]\n",
      "['u', ['finish', 'getwatch', 'ask']]\n",
      "['want', ['you']]\n",
      "['volunteer', ['service']]\n",
      "['service', ['volunteer', 'getting']]\n",
      "['volunteeru', ['choose']]\n",
      "['choose', ['volunteeru']]\n",
      "['nowadays', []]\n",
      "['nssc', ['call', 'getting']]\n",
      "['unit', ['send']]\n",
      "['service', ['volunteer', 'getting']]\n",
      "['unsure', ['you']]\n",
      "['feel', []]\n",
      "['free', []]\n",
      "['send', ['unit', 'letter', 'email']]\n",
      "['email', ['send']]\n",
      "Review Number :  145\n"
     ]
    },
    {
     "name": "stderr",
     "output_type": "stream",
     "text": [
      "\r",
      "  4%|███▍                                                                           | 146/3390 [01:26<58:08,  1.08s/it]"
     ]
    },
    {
     "name": "stdout",
     "output_type": "stream",
     "text": [
      "[['haha', []], ['u', ['siam']], ['siam', ['u']], ['wayrite', []]]\n",
      "['haha', []]\n",
      "['u', ['siam']]\n",
      "['siam', ['u']]\n",
      "['wayrite', []]\n",
      "Review Number :  146\n"
     ]
    },
    {
     "name": "stderr",
     "output_type": "stream",
     "text": [
      "\r",
      "  4%|███▍                                                                           | 147/3390 [01:26<46:57,  1.15it/s]"
     ]
    },
    {
     "name": "stdout",
     "output_type": "stream",
     "text": [
      "[['reservist', []], ['relac', []], ['vacationpay', []], ['u', []], ['salary', ['paid']], ['sleep', []], ['camp', []]]\n",
      "['reservist', []]\n",
      "['relac', []]\n",
      "['vacationpay', []]\n",
      "['u', []]\n",
      "['salary', ['paid']]\n",
      "['sleep', []]\n",
      "['camp', []]\n",
      "Review Number :  147\n"
     ]
    },
    {
     "name": "stderr",
     "output_type": "stream",
     "text": [
      "\r",
      "  4%|███▍                                                                           | 148/3390 [01:27<37:24,  1.44it/s]"
     ]
    },
    {
     "name": "stdout",
     "output_type": "stream",
     "text": [
      "[['complete', []], ['fastthe', []], ['older', []], ['u', []]]\n",
      "['complete', []]\n",
      "['fastthe', []]\n",
      "['older', []]\n",
      "['u', []]\n",
      "Review Number :  148\n"
     ]
    },
    {
     "name": "stderr",
     "output_type": "stream",
     "text": [
      "  4%|███▍                                                                           | 150/3390 [01:28<29:06,  1.86it/s]"
     ]
    },
    {
     "name": "stdout",
     "output_type": "stream",
     "text": [
      "[['years', ['finished']], ['back', []], ['watch', []], ['medals', ['got']], ['truth', []], ['miss', ['i', 'gng']], ['gng', ['miss']], ['back', []], ['reservist', []], ['tcss', ['i']], ['buddies', []], ['work', []]]\n",
      "['years', ['finished']]\n",
      "['back', []]\n",
      "['watch', []]\n",
      "['medals', ['got']]\n",
      "['truth', []]\n",
      "['miss', ['i', 'gng']]\n",
      "['gng', ['miss']]\n",
      "['back', []]\n",
      "['reservist', []]\n",
      "['tcss', ['i']]\n",
      "['buddies', []]\n",
      "['work', []]\n",
      "Review Number :  149\n",
      "[['mr', []], ['ippt', ['best']], ['yearly', []]]\n",
      "['mr', []]\n",
      "['ippt', ['best']]\n",
      "['yearly', []]\n"
     ]
    },
    {
     "name": "stderr",
     "output_type": "stream",
     "text": [
      "\r",
      "  4%|███▌                                                                           | 151/3390 [01:28<22:32,  2.39it/s]"
     ]
    },
    {
     "name": "stdout",
     "output_type": "stream",
     "text": [
      "Review Number :  150\n",
      "[]\n",
      "Review Number :  151\n"
     ]
    },
    {
     "name": "stderr",
     "output_type": "stream",
     "text": [
      "\r",
      "  4%|███▌                                                                           | 152/3390 [01:28<22:33,  2.39it/s]"
     ]
    },
    {
     "name": "stdout",
     "output_type": "stream",
     "text": [
      "[['hope', ['i']], ['call', ['they', 'me']], ['ict', []], ['cycle', []], ['aussie', ['go']], ['brunei', []]]\n",
      "['hope', ['i']]\n",
      "['call', ['they', 'me']]\n",
      "['ict', []]\n",
      "['cycle', []]\n",
      "['aussie', ['go']]\n",
      "['brunei', []]\n",
      "Review Number :  152\n"
     ]
    },
    {
     "name": "stderr",
     "output_type": "stream",
     "text": [
      "\r",
      "  5%|███▌                                                                           | 153/3390 [01:29<28:34,  1.89it/s]"
     ]
    },
    {
     "name": "stdout",
     "output_type": "stream",
     "text": [
      "[['agree', []], ['imagineu', ['need']], ['still', []], ['back', []], ['ict', ['go']], ['physically', []], ['u', ['find', 'have']], ['u', ['find', 'have']], ['probably', []], ['tons', ['have']], ['commitments', []], ['family', []], ['commitments', []], ['clear', ['them']], ['asap', []]]\n",
      "['agree', []]\n",
      "['imagineu', ['need']]\n",
      "['still', []]\n",
      "['back', []]\n",
      "['ict', ['go']]\n",
      "['physically', []]\n",
      "['u', ['find', 'have']]\n",
      "['u', ['find', 'have']]\n",
      "['probably', []]\n",
      "['tons', ['have']]\n",
      "['commitments', []]\n",
      "['family', []]\n",
      "['commitments', []]\n",
      "['clear', ['them']]\n",
      "['asap', []]\n",
      "Review Number :  153\n",
      "[['didnt', []], ['receive', ['you', 'this']], ['meh', []]]"
     ]
    },
    {
     "name": "stderr",
     "output_type": "stream",
     "text": [
      "\r",
      "  5%|███▌                                                                           | 154/3390 [01:29<23:25,  2.30it/s]"
     ]
    },
    {
     "name": "stdout",
     "output_type": "stream",
     "text": [
      "\n",
      "['didnt', []]\n",
      "['receive', ['you', 'this']]\n",
      "['meh', []]\n",
      "Review Number :  154\n"
     ]
    },
    {
     "name": "stderr",
     "output_type": "stream",
     "text": [
      "\r",
      "  5%|███▌                                                                           | 155/3390 [01:30<27:00,  2.00it/s]"
     ]
    },
    {
     "name": "stdout",
     "output_type": "stream",
     "text": [
      "[['sianz', []], ['ippt', []], ['rangesoc', []], ['socroute', []], ['routemarch', []], ['marchfibua', []], ['fibuafofo', []], ['fofobctc', []], ['bctcict', []], ['open', []], ['mob', ['getting']], ['really', []], ['use', ['getting']]]\n",
      "['sianz', []]\n",
      "['ippt', []]\n",
      "['rangesoc', []]\n",
      "['socroute', []]\n",
      "['routemarch', []]\n",
      "['marchfibua', []]\n",
      "['fibuafofo', []]\n",
      "['fofobctc', []]\n",
      "['bctcict', []]\n",
      "['open', []]\n",
      "['mob', ['getting']]\n",
      "['really', []]\n",
      "['use', ['getting']]\n",
      "Review Number :  155\n"
     ]
    },
    {
     "name": "stderr",
     "output_type": "stream",
     "text": [
      "\r",
      "  5%|███▋                                                                           | 156/3390 [01:30<25:44,  2.09it/s]"
     ]
    },
    {
     "name": "stdout",
     "output_type": "stream",
     "text": [
      "[['nsf', []], ['regular', []], ['reservist', ['see']], ['new', []], ['lumber', ['wearing']], ['jin', []], ['satki', []], ['envious', []]]\n",
      "['nsf', []]\n",
      "['regular', []]\n",
      "['reservist', ['see']]\n",
      "['new', []]\n",
      "['lumber', ['wearing']]\n",
      "['jin', []]\n",
      "['satki', []]\n",
      "['envious', []]\n",
      "Review Number :  156\n"
     ]
    },
    {
     "name": "stderr",
     "output_type": "stream",
     "text": [
      "\r",
      "  5%|███▋                                                                           | 157/3390 [01:31<23:12,  2.32it/s]"
     ]
    },
    {
     "name": "stdout",
     "output_type": "stream",
     "text": [
      "[['calllsaf', ['tell']], ['confrim', []], ['ur', []], ['name', []], ['n', ['tell']], ['icnumber', []]]\n",
      "['calllsaf', ['tell']]\n",
      "['confrim', []]\n",
      "['ur', []]\n",
      "['name', []]\n",
      "['n', ['tell']]\n",
      "['icnumber', []]\n",
      "Review Number :  157\n"
     ]
    },
    {
     "name": "stderr",
     "output_type": "stream",
     "text": [
      "\r",
      "  5%|███▋                                                                           | 158/3390 [01:32<39:14,  1.37it/s]"
     ]
    },
    {
     "name": "stdout",
     "output_type": "stream",
     "text": [
      "[['really', []], ['day', ['missed']], ['nsf', []], ['early', []], ['bx', []], ['arbo', []], ['jog', ['do']], ['exercise', []], ['wooden', []], ['log', []], ['else', []], ['selarang', []], ['pools', []], ['day', ['missed']], ['script', ['digging']], ['trenches', []], ['assaultboat', []], ['captize', []], ['drill', ['finish']], ['seafollow', []], ['formation', []], ['finish', ['drill']], ['next', []], ['carry', ['boat']], ['boat', ['carry']], ['back', []], ['boatman', []]]\n",
      "['really', []]\n",
      "['day', ['missed']]\n",
      "['nsf', []]\n",
      "['early', []]\n",
      "['bx', []]\n",
      "['arbo', []]\n",
      "['jog', ['do']]\n",
      "['exercise', []]\n",
      "['wooden', []]\n",
      "['log', []]\n",
      "['else', []]\n",
      "['selarang', []]\n",
      "['pools', []]\n",
      "['day', ['missed']]\n",
      "['script', ['digging']]\n",
      "['trenches', []]\n",
      "['assaultboat', []]\n",
      "['captize', []]\n",
      "['drill', ['finish']]\n",
      "['seafollow', []]\n",
      "['formation', []]\n",
      "['finish', ['drill']]\n",
      "['next', []]\n",
      "['carry', ['boat']]\n",
      "['boat', ['carry']]\n",
      "['back', []]\n",
      "['boatman', []]\n",
      "Review Number :  158\n"
     ]
    },
    {
     "name": "stderr",
     "output_type": "stream",
     "text": [
      "  5%|███▋                                                                           | 160/3390 [01:33<26:04,  2.06it/s]"
     ]
    },
    {
     "name": "stdout",
     "output_type": "stream",
     "text": [
      "[['u', ['seen']], ['recuit', ['seen']], ['back', []], ['idun', ['go']], ['dunwan', []], ['back', []]]\n",
      "['u', ['seen']]\n",
      "['recuit', ['seen']]\n",
      "['back', []]\n",
      "['idun', ['go']]\n",
      "['dunwan', []]\n",
      "['back', []]\n",
      "Review Number :  159\n",
      "[['officers', []]]\n",
      "['officers', []]\n",
      "Review Number :  160\n"
     ]
    },
    {
     "name": "stderr",
     "output_type": "stream",
     "text": [
      "\r",
      "  5%|███▊                                                                           | 161/3390 [01:33<32:11,  1.67it/s]"
     ]
    },
    {
     "name": "stdout",
     "output_type": "stream",
     "text": [
      "[['sometimes', []], ['didnt', []], ['complete', ['call']], ['unit', ['call', 'call']], ['never', []], ['fault', []], ['leh', []], ['still', []], ['till', []], ['even', []], ['unit', ['call', 'call']], ['didnt', []], ['call', ['complete', 'unit', 'them', 'unit', 'them']], ['leh', []], ['suffer', ['they', 'more']], ['even', []], ['complete', ['call']]]\n",
      "['sometimes', []]\n",
      "['didnt', []]\n",
      "['complete', ['call']]\n",
      "['unit', ['call', 'call']]\n",
      "['never', []]\n",
      "['fault', []]\n",
      "['leh', []]\n",
      "['still', []]\n",
      "['till', []]\n",
      "['even', []]\n",
      "['unit', ['call', 'call']]\n",
      "['didnt', []]\n",
      "['call', ['complete', 'unit', 'them', 'unit', 'them']]\n",
      "['leh', []]\n",
      "['suffer', ['they', 'more']]\n",
      "['even', []]\n",
      "['complete', ['call']]\n",
      "Review Number :  161\n"
     ]
    },
    {
     "name": "stderr",
     "output_type": "stream",
     "text": [
      "\r",
      "  5%|███▊                                                                           | 162/3390 [01:34<32:53,  1.64it/s]"
     ]
    },
    {
     "name": "stdout",
     "output_type": "stream",
     "text": [
      "[['im', ['did']], ['yeartill', []], ['tilltoday', ['did']], ['high', []], ['key', ['did']], ['dunno', []], ['start', ['they']], ['frequency', ['increasing']], ['back', []], ['soon', []]]\n",
      "['im', ['did']]\n",
      "['yeartill', []]\n",
      "['tilltoday', ['did']]\n",
      "['high', []]\n",
      "['key', ['did']]\n",
      "['dunno', []]\n",
      "['start', ['they']]\n",
      "['frequency', ['increasing']]\n",
      "['back', []]\n",
      "['soon', []]\n",
      "Review Number :  162\n"
     ]
    },
    {
     "name": "stderr",
     "output_type": "stream",
     "text": [
      "\r",
      "  5%|███▊                                                                           | 163/3390 [01:35<34:12,  1.57it/s]"
     ]
    },
    {
     "name": "stdout",
     "output_type": "stream",
     "text": [
      "[['sian', ['confirm']], ['confirm', ['sian']], ['yrs', []], ['old', []], ['liao', ['completed']], ['low', []], ['keys', ['completed']], ['ji', []], ['dao', []], ['st', []], ['low', []], ['high', []], ['preare', []], ['etag', []], ['imdidnt', []], ['didntcall', []], ['back', []], ['till', []], ['ordgg', []], ['ggliao', []], ['liaoxd', []]]\n",
      "['sian', ['confirm']]\n",
      "['confirm', ['sian']]\n",
      "['yrs', []]\n",
      "['old', []]\n",
      "['liao', ['completed']]\n",
      "['low', []]\n",
      "['keys', ['completed']]\n",
      "['ji', []]\n",
      "['dao', []]\n",
      "['st', []]\n",
      "['low', []]\n",
      "['high', []]\n",
      "['preare', []]\n",
      "['etag', []]\n",
      "['imdidnt', []]\n",
      "['didntcall', []]\n",
      "['back', []]\n",
      "['till', []]\n",
      "['ordgg', []]\n",
      "['ggliao', []]\n",
      "['liaoxd', []]\n",
      "Review Number :  163\n"
     ]
    },
    {
     "name": "stderr",
     "output_type": "stream",
     "text": [
      "\r",
      "  5%|███▊                                                                           | 164/3390 [01:35<35:51,  1.50it/s]"
     ]
    },
    {
     "name": "stdout",
     "output_type": "stream",
     "text": [
      "[['depends', []], ['mateippt', ['is']], ['extra', []], ['gold', ['he', 'way']], ['way', ['gold', 'sleeping']], ['siong', ['workoutside']], ['ict', ['sleeping']], ['almost', []], ['sleeping', ['ict', 'way']], ['way', ['gold', 'sleeping']]]\n",
      "['depends', []]\n",
      "['mateippt', ['is']]\n",
      "['extra', []]\n",
      "['gold', ['he', 'way']]\n",
      "['way', ['gold', 'sleeping']]\n",
      "['siong', ['workoutside']]\n",
      "['ict', ['sleeping']]\n",
      "['almost', []]\n",
      "['sleeping', ['ict', 'way']]\n",
      "['way', ['gold', 'sleeping']]\n",
      "Review Number :  164\n"
     ]
    },
    {
     "name": "stderr",
     "output_type": "stream",
     "text": [
      "\r",
      "  5%|███▊                                                                           | 165/3390 [01:36<31:32,  1.70it/s]"
     ]
    },
    {
     "name": "stdout",
     "output_type": "stream",
     "text": [
      "[['good', []], ['serve', ['reservist']], ['reservist', ['serve']], ['later', []], ['yr', []], ['old', []], ['start', ['ict']], ['first', []], ['ict', ['start']]]\n",
      "['good', []]\n",
      "['serve', ['reservist']]\n",
      "['reservist', ['serve']]\n",
      "['later', []]\n",
      "['yr', []]\n",
      "['old', []]\n",
      "['start', ['ict']]\n",
      "['first', []]\n",
      "['ict', ['start']]\n",
      "Review Number :  165\n"
     ]
    },
    {
     "name": "stderr",
     "output_type": "stream",
     "text": [
      "\r",
      "  5%|███▊                                                                           | 166/3390 [01:36<25:55,  2.07it/s]"
     ]
    },
    {
     "name": "stdout",
     "output_type": "stream",
     "text": [
      "[['kind', ['you']], ['pass', ['who']], ['ippt', []]]\n",
      "['kind', ['you']]\n",
      "['pass', ['who']]\n",
      "['ippt', []]\n",
      "Review Number :  166\n"
     ]
    },
    {
     "name": "stderr",
     "output_type": "stream",
     "text": [
      "\r",
      "  5%|███▉                                                                           | 167/3390 [01:36<22:44,  2.36it/s]"
     ]
    },
    {
     "name": "stdout",
     "output_type": "stream",
     "text": [
      "[['long', []], ['service', []], ['medals', ['received']]]\n",
      "['long', []]\n",
      "['service', []]\n",
      "['medals', ['received']]\n",
      "Review Number :  167\n"
     ]
    },
    {
     "name": "stderr",
     "output_type": "stream",
     "text": [
      "\r",
      "  5%|███▉                                                                           | 168/3390 [01:37<21:39,  2.48it/s]"
     ]
    },
    {
     "name": "stdout",
     "output_type": "stream",
     "text": [
      "[['spy', ['i', 'wifmoi']], ['wifmoi', ['spy']], ['moieye', ['birdy']], ['birdy', ['moieye']], ['year', []], ['old', []], ['thread', ['necroed']]]\n",
      "['spy', ['i', 'wifmoi']]\n",
      "['wifmoi', ['spy']]\n",
      "['moieye', ['birdy']]\n",
      "['birdy', ['moieye']]\n",
      "['year', []]\n",
      "['old', []]\n",
      "['thread', ['necroed']]\n",
      "Review Number :  168\n"
     ]
    },
    {
     "name": "stderr",
     "output_type": "stream",
     "text": [
      "\r",
      "  5%|███▉                                                                           | 169/3390 [01:37<25:12,  2.13it/s]"
     ]
    },
    {
     "name": "stdout",
     "output_type": "stream",
     "text": [
      "[['talk', ['you']], ['unfair', []], ['foreigners', []], ['nothing', ['did']], ['peace', ['enjoying']], ['prosperity', []], ['jobsecurity', []], ['jobs', []], ['expenses', []]]\n",
      "['talk', ['you']]\n",
      "['unfair', []]\n",
      "['foreigners', []]\n",
      "['nothing', ['did']]\n",
      "['peace', ['enjoying']]\n",
      "['prosperity', []]\n",
      "['jobsecurity', []]\n",
      "['jobs', []]\n",
      "['expenses', []]\n",
      "Review Number :  169\n"
     ]
    },
    {
     "name": "stderr",
     "output_type": "stream",
     "text": [
      "\r",
      "  5%|███▉                                                                           | 170/3390 [01:38<22:20,  2.40it/s]"
     ]
    },
    {
     "name": "stdout",
     "output_type": "stream",
     "text": [
      "[['anyonereach', []], ['never', []], ['letter', ['received']], ['mindef', []]]\n",
      "['anyonereach', []]\n",
      "['never', []]\n",
      "['letter', ['received']]\n",
      "['mindef', []]\n",
      "Review Number :  170\n"
     ]
    },
    {
     "name": "stderr",
     "output_type": "stream",
     "text": [
      "\r",
      "  5%|███▉                                                                           | 171/3390 [01:38<23:12,  2.31it/s]"
     ]
    },
    {
     "name": "stdout",
     "output_type": "stream",
     "text": [
      "[['years', ['old']], ['old', ['years']], ['appt', ['they', 'holders']], ['holders', ['appt']], ['early', []], ['late', []], ['back', []], ['briefings', []], ['meeting', ['meant']], ['stuffs', []]]\n",
      "['years', ['old']]\n",
      "['old', ['years']]\n",
      "['appt', ['they', 'holders']]\n",
      "['holders', ['appt']]\n",
      "['early', []]\n",
      "['late', []]\n",
      "['back', []]\n",
      "['briefings', []]\n",
      "['meeting', ['meant']]\n",
      "['stuffs', []]\n",
      "Review Number :  171\n"
     ]
    },
    {
     "name": "stderr",
     "output_type": "stream",
     "text": [
      "\r",
      "  5%|████                                                                           | 172/3390 [01:39<23:24,  2.29it/s]"
     ]
    },
    {
     "name": "stdout",
     "output_type": "stream",
     "text": [
      "[['basketsaf', ['sent']], ['letter', ['sent']], ['collect', ['medal']], ['good', []], ['service', []], ['many', []], ['medals', ['want']], ['give', ['me']]]\n",
      "['basketsaf', ['sent']]\n",
      "['letter', ['sent']]\n",
      "['collect', ['medal']]\n",
      "['good', []]\n",
      "['service', []]\n",
      "['many', []]\n",
      "['medals', ['want']]\n",
      "['give', ['me']]\n",
      "Review Number :  172\n"
     ]
    },
    {
     "name": "stderr",
     "output_type": "stream",
     "text": [
      "\r",
      "  5%|████                                                                           | 173/3390 [01:40<35:00,  1.53it/s]"
     ]
    },
    {
     "name": "stdout",
     "output_type": "stream",
     "text": [
      "[['award', ['they', 'they', 'forces']], ['singapore', []], ['forces', ['award']], ['national', []], ['service', []], ['years', []], ['resources', ['wasting']], ['time', []], ['award', ['they', 'they', 'forces']], ['singapore', []], ['armed', []], ['forces', ['award']], ['national', []], ['servicemedal', []], ['yearclasp', []], ['benefits', ['happy']], ['happy', ['benefits']], ['cause', []], ['right', []], ['earn', ['you', 'it']]]\n",
      "['award', ['they', 'they', 'forces']]\n",
      "['singapore', []]\n",
      "['forces', ['award']]\n",
      "['national', []]\n",
      "['service', []]\n",
      "['years', []]\n",
      "['resources', ['wasting']]\n",
      "['time', []]\n",
      "['award', ['they', 'they', 'forces']]\n",
      "['singapore', []]\n",
      "['armed', []]\n",
      "['forces', ['award']]\n",
      "['national', []]\n",
      "['servicemedal', []]\n",
      "['yearclasp', []]\n",
      "['benefits', ['happy']]\n",
      "['happy', ['benefits']]\n",
      "['cause', []]\n",
      "['right', []]\n",
      "['earn', ['you', 'it']]\n",
      "Review Number :  173\n"
     ]
    },
    {
     "name": "stderr",
     "output_type": "stream",
     "text": [
      "\r",
      "  5%|████                                                                           | 174/3390 [01:40<30:34,  1.75it/s]"
     ]
    },
    {
     "name": "stdout",
     "output_type": "stream",
     "text": [
      "[['cork', []], ['ups', ['happen']], ['ict', []], ['mates', []], ['yearmedal', []], ['medaltwice', ['gotten']]]\n",
      "['cork', []]\n",
      "['ups', ['happen']]\n",
      "['ict', []]\n",
      "['mates', []]\n",
      "['yearmedal', []]\n",
      "['medaltwice', ['gotten']]\n",
      "Review Number :  174\n"
     ]
    },
    {
     "name": "stderr",
     "output_type": "stream",
     "text": [
      "\r",
      "  5%|████                                                                           | 175/3390 [01:40<25:42,  2.08it/s]"
     ]
    },
    {
     "name": "stdout",
     "output_type": "stream",
     "text": [
      "[['skip', ['they', 'yearmedal']]]\n",
      "['skip', ['they', 'yearmedal']]\n",
      "Review Number :  175\n"
     ]
    },
    {
     "name": "stderr",
     "output_type": "stream",
     "text": [
      "\r",
      "  5%|████                                                                           | 176/3390 [01:41<24:05,  2.22it/s]"
     ]
    },
    {
     "name": "stdout",
     "output_type": "stream",
     "text": [
      "[['nice', ['try']], ['try', ['nice']], ['year', []], ['th', []], ['ict', []], ['second', []], ['year', []], ['thict', []]]\n",
      "['nice', ['try']]\n",
      "['try', ['nice']]\n",
      "['year', []]\n",
      "['th', []]\n",
      "['ict', []]\n",
      "['second', []]\n",
      "['year', []]\n",
      "['thict', []]\n",
      "Review Number :  176\n"
     ]
    },
    {
     "name": "stderr",
     "output_type": "stream",
     "text": [
      "\r",
      "  5%|████                                                                           | 177/3390 [01:43<51:42,  1.04it/s]"
     ]
    },
    {
     "name": "stdout",
     "output_type": "stream",
     "text": [
      "[['wose', ['liable']], ['liable', ['wose', 'officers']], ['ns', []], ['call', []], ['ups', []], ['ippt', []], ['statutory', []], ['age', ['occurs']], ['nsmen', ['managed']], ['clock', []], ['hk', []], ['years', []], ['mindef', []], ['reserves', []], ['rather', []], ['means', ['exns']], ['rdhome', []], ['awards', []], ['officers', ['liable']], ['liable', ['wose', 'officers']], ['ns', []], ['call', []], ['ups', []], ['ippt', []], ['statutory', []], ['age', ['occurs']], ['clock', []], ['hk', []], ['years', []], ['officers', ['liable']], ['however', []], ['statutory', []], ['agecease', ['turning']], ['meaning', []], ['turn', ['they']], ['yet', []], ['mr', []], ['still', []], ['eligible', ['they']], ['ippt', []]]\n",
      "['wose', ['liable']]\n",
      "['liable', ['wose', 'officers']]\n",
      "['ns', []]\n",
      "['call', []]\n",
      "['ups', []]\n",
      "['ippt', []]\n",
      "['statutory', []]\n",
      "['age', ['occurs']]\n",
      "['nsmen', ['managed']]\n",
      "['clock', []]\n",
      "['hk', []]\n",
      "['years', []]\n",
      "['mindef', []]\n",
      "['reserves', []]\n",
      "['rather', []]\n",
      "['means', ['exns']]\n",
      "['rdhome', []]\n",
      "['awards', []]\n",
      "['officers', ['liable']]\n",
      "['liable', ['wose', 'officers']]\n",
      "['ns', []]\n",
      "['call', []]\n",
      "['ups', []]\n",
      "['ippt', []]\n",
      "['statutory', []]\n",
      "['age', ['occurs']]\n",
      "['clock', []]\n",
      "['hk', []]\n",
      "['years', []]\n",
      "['officers', ['liable']]\n",
      "['however', []]\n",
      "['statutory', []]\n",
      "['agecease', ['turning']]\n",
      "['meaning', []]\n",
      "['turn', ['they']]\n",
      "['yet', []]\n",
      "['mr', []]\n",
      "['still', []]\n",
      "['eligible', ['they']]\n",
      "['ippt', []]\n",
      "Review Number :  177\n"
     ]
    },
    {
     "name": "stderr",
     "output_type": "stream",
     "text": [
      "\r",
      "  5%|████▏                                                                          | 178/3390 [01:43<42:34,  1.26it/s]"
     ]
    },
    {
     "name": "stdout",
     "output_type": "stream",
     "text": [
      "[['base', ['they', 'age']], ['age', ['base']], ['financial', []], ['year', []], ['date', []], ['birth', []], ['individual', []]]\n",
      "['base', ['they', 'age']]\n",
      "['age', ['base']]\n",
      "['financial', []]\n",
      "['year', []]\n",
      "['date', []]\n",
      "['birth', []]\n",
      "['individual', []]\n",
      "Review Number :  178\n"
     ]
    },
    {
     "name": "stderr",
     "output_type": "stream",
     "text": [
      "  5%|████▏                                                                          | 180/3390 [01:44<28:46,  1.86it/s]"
     ]
    },
    {
     "name": "stdout",
     "output_type": "stream",
     "text": [
      "[['dob', []], ['callup', ['got']], ['date', []], ['thbirthday', []], ['call', []], ['clarify', []]]\n",
      "['dob', []]\n",
      "['callup', ['got']]\n",
      "['date', []]\n",
      "['thbirthday', []]\n",
      "['call', []]\n",
      "['clarify', []]\n",
      "Review Number :  179\n",
      "[['base', []], ['dob', []]]\n",
      "['base', []]\n",
      "['dob', []]\n",
      "Review Number :  180\n"
     ]
    },
    {
     "name": "stderr",
     "output_type": "stream",
     "text": [
      "\r",
      "  5%|████▏                                                                          | 181/3390 [01:44<26:14,  2.04it/s]"
     ]
    },
    {
     "name": "stdout",
     "output_type": "stream",
     "text": [
      "[['thank', ['you']], ['cause', []], ['regular', []], ['still', []], ['reservists', ['serving']]]\n",
      "['thank', ['you']]\n",
      "['cause', []]\n",
      "['regular', []]\n",
      "['still', []]\n",
      "['reservists', ['serving']]\n",
      "Review Number :  181\n"
     ]
    },
    {
     "name": "stderr",
     "output_type": "stream",
     "text": [
      "\r",
      "  5%|████▏                                                                          | 182/3390 [01:45<24:14,  2.21it/s]"
     ]
    },
    {
     "name": "stdout",
     "output_type": "stream",
     "text": [
      "[['normally', []], ['fully', []], ['age', []], ['u', ['officerranking']], ['officerranking', ['u']]]\n",
      "['normally', []]\n",
      "['fully', []]\n",
      "['age', []]\n",
      "['u', ['officerranking']]\n",
      "['officerranking', ['u']]\n",
      "Review Number :  182\n"
     ]
    },
    {
     "name": "stderr",
     "output_type": "stream",
     "text": [
      "\r",
      "  5%|████▎                                                                          | 183/3390 [01:45<27:30,  1.94it/s]"
     ]
    },
    {
     "name": "stdout",
     "output_type": "stream",
     "text": [
      "[['anyone', ['activate']], ['whoms', ['done']], ['ord', ['done']], ['never', []], ['icti', ['done']], ['activate', ['anyone']], ['ict', ['doing']], ['peer', ['doing']], ['ict', ['doing']], ['even', []], ['ord', ['done']], ['also', []], ['stict', ['done']]]\n",
      "['anyone', ['activate']]\n",
      "['whoms', ['done']]\n",
      "['ord', ['done']]\n",
      "['never', []]\n",
      "['icti', ['done']]\n",
      "['activate', ['anyone']]\n",
      "['ict', ['doing']]\n",
      "['peer', ['doing']]\n",
      "['ict', ['doing']]\n",
      "['even', []]\n",
      "['ord', ['done']]\n",
      "['also', []]\n",
      "['stict', ['done']]\n",
      "Review Number :  183\n"
     ]
    },
    {
     "name": "stderr",
     "output_type": "stream",
     "text": [
      "\r",
      "  5%|████▎                                                                          | 184/3390 [01:46<30:09,  1.77it/s]"
     ]
    },
    {
     "name": "stdout",
     "output_type": "stream",
     "text": [
      "[['think', ['i']], ['unit', ['see']], ['pretty', []], ['active', []], ['atec', []], ['get', []], ['quite', []], ['often', []], ['ns', []], ['vocation', ['whats']]]\n",
      "['think', ['i']]\n",
      "['unit', ['see']]\n",
      "['pretty', []]\n",
      "['active', []]\n",
      "['atec', []]\n",
      "['get', []]\n",
      "['quite', []]\n",
      "['often', []]\n",
      "['ns', []]\n",
      "['vocation', ['whats']]\n",
      "Review Number :  184\n"
     ]
    },
    {
     "name": "stderr",
     "output_type": "stream",
     "text": [
      "\r",
      "  5%|████▎                                                                          | 185/3390 [01:48<51:37,  1.03it/s]"
     ]
    },
    {
     "name": "stdout",
     "output_type": "stream",
     "text": [
      "[['depends', []], ['unit', ['have']], ['vocationi', []], ['list', []], ['years', []], ['ippt', ['ord']], ['mob', ['manning']], ['ict', ['manning']], ['active', []], ['unit', ['have']], ['vacancy', ['have']], ['saf', ['i']], ['th', []], ['year', []], ['year', []], ['also', []], ['liao', ['received']], ['mrcert', ['received']], ['last', []], ['year', []], ['yet', []], ['yo', ['curious']], ['curious', ['yo']], ['chances', ['call']], ['ict', ['manning']], ['fbo', ['taking']], ['uniforms', []], ['spacelor', ['taking']], ['bring', []], ['emart', []], ['drop', []], ['redminote', []], ['gagt', []]]\n",
      "['depends', []]\n",
      "['unit', ['have']]\n",
      "['vocationi', []]\n",
      "['list', []]\n",
      "['years', []]\n",
      "['ippt', ['ord']]\n",
      "['mob', ['manning']]\n",
      "['ict', ['manning']]\n",
      "['active', []]\n",
      "['unit', ['have']]\n",
      "['vacancy', ['have']]\n",
      "['saf', ['i']]\n",
      "['th', []]\n",
      "['year', []]\n",
      "['year', []]\n",
      "['also', []]\n",
      "['liao', ['received']]\n",
      "['mrcert', ['received']]\n",
      "['last', []]\n",
      "['year', []]\n",
      "['yet', []]\n",
      "['yo', ['curious']]\n",
      "['curious', ['yo']]\n",
      "['chances', ['call']]\n",
      "['ict', ['manning']]\n",
      "['fbo', ['taking']]\n",
      "['uniforms', []]\n",
      "['spacelor', ['taking']]\n",
      "['bring', []]\n",
      "['emart', []]\n",
      "['drop', []]\n",
      "['redminote', []]\n",
      "['gagt', []]\n",
      "Review Number :  185\n"
     ]
    },
    {
     "name": "stderr",
     "output_type": "stream",
     "text": [
      "\r",
      "  5%|████▎                                                                          | 186/3390 [01:48<44:39,  1.20it/s]"
     ]
    },
    {
     "name": "stdout",
     "output_type": "stream",
     "text": [
      "[['pass', []], ['call', ['they', 'u']], ['u', ['call', 'finished']], ['anything', []], ['u', ['call', 'finished']], ['cycles', ['finished']], ['statutory', []], ['legislationu', []]]\n",
      "['pass', []]\n",
      "['call', ['they', 'u']]\n",
      "['u', ['call', 'finished']]\n",
      "['anything', []]\n",
      "['u', ['call', 'finished']]\n",
      "['cycles', ['finished']]\n",
      "['statutory', []]\n",
      "['legislationu', []]\n",
      "Review Number :  186\n"
     ]
    },
    {
     "name": "stderr",
     "output_type": "stream",
     "text": [
      "\r",
      "  6%|████▎                                                                          | 187/3390 [01:49<34:58,  1.53it/s]"
     ]
    },
    {
     "name": "stdout",
     "output_type": "stream",
     "text": [
      "[['return', ['that']]]\n",
      "['return', ['that']]\n",
      "Review Number :  187\n"
     ]
    },
    {
     "name": "stderr",
     "output_type": "stream",
     "text": [
      "\r",
      "  6%|████▍                                                                          | 188/3390 [01:50<49:57,  1.07it/s]"
     ]
    },
    {
     "name": "stdout",
     "output_type": "stream",
     "text": [
      "[['active', []], ['battalions', []], ['days', []], ['likely', []], ['start', ['you', 'reservist']], ['reservist', ['start']], ['soon', []], ['year', []], ['ord', []], ['sure', []], ['active', []], ['brigades', []], ['last', []], ['time', []], ['nsf', []], ['days', []], ['active', []], ['personnel', ['i']], ['reservistbrigade', []], ['list', []], ['years', []], ['icts', ['done']], ['year', []], ['timei', []]]\n",
      "['active', []]\n",
      "['battalions', []]\n",
      "['days', []]\n",
      "['likely', []]\n",
      "['start', ['you', 'reservist']]\n",
      "['reservist', ['start']]\n",
      "['soon', []]\n",
      "['year', []]\n",
      "['ord', []]\n",
      "['sure', []]\n",
      "['active', []]\n",
      "['brigades', []]\n",
      "['last', []]\n",
      "['time', []]\n",
      "['nsf', []]\n",
      "['days', []]\n",
      "['active', []]\n",
      "['personnel', ['i']]\n",
      "['reservistbrigade', []]\n",
      "['list', []]\n",
      "['years', []]\n",
      "['icts', ['done']]\n",
      "['year', []]\n",
      "['timei', []]\n",
      "Review Number :  188\n"
     ]
    },
    {
     "name": "stderr",
     "output_type": "stream",
     "text": [
      "\r",
      "  6%|████▎                                                                        | 189/3390 [01:54<1:28:04,  1.65s/it]"
     ]
    },
    {
     "name": "stdout",
     "output_type": "stream",
     "text": [
      "[['possible', []], ['unit', ['able']], ['arrange', ['icts', 'icts']], ['icts', ['arrange', 'have', 'arrange']], ['clock', ['cycles']], ['cycles', ['clock', 'attending']], ['officers', []], ['carefully', []], ['safwork', []], ['april', ['workyear']], ['end', ['march']], ['march', ['end']], ['briefings', []], ['etc', []], ['fall', []], ['appropriate', []], ['months', []], ['nsmen', ['attending']], ['cycles', ['clock', 'attending']], ['turn', ['you', 'they']], ['last', []], ['cycle', []], ['sometimes', []], ['nsmens', ['it']], ['ict', ['defering', 'schedule']], ['sometimes', []], ['unitcouldnt', []], ['schedule', ['able', 'ict']], ['ict', ['defering', 'schedule']], ['year', []], ['personally', []], ['unit', ['able']], ['able', ['schedule', 'unit']], ['arrange', ['icts', 'icts']], ['icts', ['arrange', 'have', 'arrange']], ['nsmen', ['attending']], ['last', []], ['th', []], ['cycle', []], ['agelimit', ['reach']], ['next', []], ['battalionict', []], ['ictisnt', []], ['next', []], ['saf', []], ['year', []]]\n",
      "['possible', []]\n",
      "['unit', ['able']]\n",
      "['arrange', ['icts', 'icts']]\n",
      "['icts', ['arrange', 'have', 'arrange']]\n",
      "['clock', ['cycles']]\n",
      "['cycles', ['clock', 'attending']]\n",
      "['officers', []]\n",
      "['carefully', []]\n",
      "['safwork', []]\n",
      "['april', ['workyear']]\n",
      "['end', ['march']]\n",
      "['march', ['end']]\n",
      "['briefings', []]\n",
      "['etc', []]\n",
      "['fall', []]\n",
      "['appropriate', []]\n",
      "['months', []]\n",
      "['nsmen', ['attending']]\n",
      "['cycles', ['clock', 'attending']]\n",
      "['turn', ['you', 'they']]\n",
      "['last', []]\n",
      "['cycle', []]\n",
      "['sometimes', []]\n",
      "['nsmens', ['it']]\n",
      "['ict', ['defering', 'schedule']]\n",
      "['sometimes', []]\n",
      "['unitcouldnt', []]\n",
      "['schedule', ['able', 'ict']]\n",
      "['ict', ['defering', 'schedule']]\n",
      "['year', []]\n",
      "['personally', []]\n",
      "['unit', ['able']]\n",
      "['able', ['schedule', 'unit']]\n",
      "['arrange', ['icts', 'icts']]\n",
      "['icts', ['arrange', 'have', 'arrange']]\n",
      "['nsmen', ['attending']]\n",
      "['last', []]\n",
      "['th', []]\n",
      "['cycle', []]\n",
      "['agelimit', ['reach']]\n",
      "['next', []]\n",
      "['battalionict', []]\n",
      "['ictisnt', []]\n",
      "['next', []]\n",
      "['saf', []]\n",
      "['year', []]\n",
      "Review Number :  189\n"
     ]
    },
    {
     "name": "stderr",
     "output_type": "stream",
     "text": [
      "\r",
      "  6%|████▎                                                                        | 190/3390 [01:55<1:15:48,  1.42s/it]"
     ]
    },
    {
     "name": "stdout",
     "output_type": "stream",
     "text": [
      "[['birthday', ['falls', 'falls']], ['april', []], ['still', []], ['possible', []], ['clock', ['i', 'cycles']], ['cycles', ['clock']], ['bad', []], ['birthday', ['falls', 'falls']], ['february', []], ['icts', ['keys']], ['high', []], ['keys', ['icts']]]\n",
      "['birthday', ['falls', 'falls']]\n",
      "['april', []]\n",
      "['still', []]\n",
      "['possible', []]\n",
      "['clock', ['i', 'cycles']]\n",
      "['cycles', ['clock']]\n",
      "['bad', []]\n",
      "['birthday', ['falls', 'falls']]\n",
      "['february', []]\n",
      "['icts', ['keys']]\n",
      "['high', []]\n",
      "['keys', ['icts']]\n",
      "Review Number :  190\n"
     ]
    },
    {
     "name": "stderr",
     "output_type": "stream",
     "text": [
      "\r",
      "  6%|████▎                                                                        | 191/3390 [01:55<1:03:45,  1.20s/it]"
     ]
    },
    {
     "name": "stdout",
     "output_type": "stream",
     "text": [
      "[['yes', []], ['birthday', ['falls']], ['april', []], ['wont', []], ['able', ['you']], ['add', ['icts']], ['many', []], ['hk', []], ['icts', ['add']], ['complete', []], ['reach', ['cycles']], ['cycles', ['reach']]]\n",
      "['yes', []]\n",
      "['birthday', ['falls']]\n",
      "['april', []]\n",
      "['wont', []]\n",
      "['able', ['you']]\n",
      "['add', ['icts']]\n",
      "['many', []]\n",
      "['hk', []]\n",
      "['icts', ['add']]\n",
      "['complete', []]\n",
      "['reach', ['cycles']]\n",
      "['cycles', ['reach']]\n",
      "Review Number :  191\n"
     ]
    },
    {
     "name": "stderr",
     "output_type": "stream",
     "text": [
      "\r",
      "  6%|████▍                                                                          | 192/3390 [01:55<49:23,  1.08it/s]"
     ]
    },
    {
     "name": "stdout",
     "output_type": "stream",
     "text": [
      "[['already', []], ['lk', ['served']], ['hk', []], ['icts', []], ['hk', []], ['icts', []]]\n",
      "['already', []]\n",
      "['lk', ['served']]\n",
      "['hk', []]\n",
      "['icts', []]\n",
      "['hk', []]\n",
      "['icts', []]\n",
      "Review Number :  192\n"
     ]
    },
    {
     "name": "stderr",
     "output_type": "stream",
     "text": [
      "\r",
      "  6%|████▍                                                                          | 193/3390 [01:56<38:19,  1.39it/s]"
     ]
    },
    {
     "name": "stdout",
     "output_type": "stream",
     "text": [
      "[['hks', ['left']], ['already', []], ['close', ['you']]]\n",
      "['hks', ['left']]\n",
      "['already', []]\n",
      "['close', ['you']]\n",
      "Review Number :  193\n"
     ]
    },
    {
     "name": "stderr",
     "output_type": "stream",
     "text": [
      "\r",
      "  6%|████▌                                                                          | 194/3390 [01:56<34:58,  1.52it/s]"
     ]
    },
    {
     "name": "stdout",
     "output_type": "stream",
     "text": [
      "[['matey', []], ['u', ['wrote']], ['soon', []], ['year', []], ['complete', ['i', 'hks']], ['hks', ['complete']], ['irod', []]]\n",
      "['matey', []]\n",
      "['u', ['wrote']]\n",
      "['soon', []]\n",
      "['year', []]\n",
      "['complete', ['i', 'hks']]\n",
      "['hks', ['complete']]\n",
      "['irod', []]\n",
      "Review Number :  194\n"
     ]
    },
    {
     "name": "stderr",
     "output_type": "stream",
     "text": [
      "\r",
      "  6%|████▌                                                                          | 195/3390 [01:57<40:49,  1.30it/s]"
     ]
    },
    {
     "name": "stdout",
     "output_type": "stream",
     "text": [
      "[['yes', []], ['miss', ['you', 'cycle', 'you']], ['last', []], ['th', []], ['cycle', ['miss']], ['unit', ['scheduling', 'contacting']], ['isnt', []], ['scheduling', ['unit', 'icts']], ['icts', ['scheduling']], ['year', []], ['even', []], ['thcycle', []], ['unit', ['scheduling', 'contacting']], ['ask', ['them']], ['options', ['what']], ['feb', []], ['birth', []], ['month', []], ['hard', []], ['squeeze', []]]\n",
      "['yes', []]\n",
      "['miss', ['you', 'cycle', 'you']]\n",
      "['last', []]\n",
      "['th', []]\n",
      "['cycle', ['miss']]\n",
      "['unit', ['scheduling', 'contacting']]\n",
      "['isnt', []]\n",
      "['scheduling', ['unit', 'icts']]\n",
      "['icts', ['scheduling']]\n",
      "['year', []]\n",
      "['even', []]\n",
      "['thcycle', []]\n",
      "['unit', ['scheduling', 'contacting']]\n",
      "['ask', ['them']]\n",
      "['options', ['what']]\n",
      "['feb', []]\n",
      "['birth', []]\n",
      "['month', []]\n",
      "['hard', []]\n",
      "['squeeze', []]\n",
      "Review Number :  195\n"
     ]
    },
    {
     "name": "stderr",
     "output_type": "stream",
     "text": [
      "\r",
      "  6%|████▌                                                                          | 196/3390 [01:58<35:52,  1.48it/s]"
     ]
    },
    {
     "name": "stdout",
     "output_type": "stream",
     "text": [
      "[['year', []], ['especially', []], ['thict', []], ['ictatec', []]]\n",
      "['year', []]\n",
      "['especially', []]\n",
      "['thict', []]\n",
      "['ictatec', []]\n",
      "Review Number :  196\n"
     ]
    },
    {
     "name": "stderr",
     "output_type": "stream",
     "text": [
      "\r",
      "  6%|████▌                                                                          | 197/3390 [01:58<29:38,  1.79it/s]"
     ]
    },
    {
     "name": "stdout",
     "output_type": "stream",
     "text": [
      "[['count', ['it']], ['activity', []], ['workyear', []]]\n",
      "['count', ['it']]\n",
      "['activity', []]\n",
      "['workyear', []]\n",
      "Review Number :  197\n"
     ]
    },
    {
     "name": "stderr",
     "output_type": "stream",
     "text": [
      "\r",
      "  6%|████▌                                                                          | 198/3390 [01:59<35:31,  1.50it/s]"
     ]
    },
    {
     "name": "stdout",
     "output_type": "stream",
     "text": [
      "[['tsi', ['completed']], ['never', []], ['yr', []], ['cycle', ['completed']], ['lk', []], ['years', []], ['full', []], ['time', []], ['ns', ['exitpermit']], ['cosi', ['exitpermit']], ['exitpermit', ['ns', 'cosi']], ['dont', []], ['call', ['they']], ['u', ['send', 'send', 'say']], ['already', []], ['u', ['send', 'send', 'say']], ['rodcertificate', ['send']], ['u', ['send', 'send', 'say']], ['goodbye', ['say']]]\n",
      "['tsi', ['completed']]\n",
      "['never', []]\n",
      "['yr', []]\n",
      "['cycle', ['completed']]\n",
      "['lk', []]\n",
      "['years', []]\n",
      "['full', []]\n",
      "['time', []]\n",
      "['ns', ['exitpermit']]\n",
      "['cosi', ['exitpermit']]\n",
      "['exitpermit', ['ns', 'cosi']]\n",
      "['dont', []]\n",
      "['call', ['they']]\n",
      "['u', ['send', 'send', 'say']]\n",
      "['already', []]\n",
      "['u', ['send', 'send', 'say']]\n",
      "['rodcertificate', ['send']]\n",
      "['u', ['send', 'send', 'say']]\n",
      "['goodbye', ['say']]\n",
      "Review Number :  198\n"
     ]
    },
    {
     "name": "stderr",
     "output_type": "stream",
     "text": [
      "\r",
      "  6%|████▋                                                                          | 199/3390 [01:59<33:55,  1.57it/s]"
     ]
    },
    {
     "name": "stdout",
     "output_type": "stream",
     "text": [
      "[['uniform', ['keep']], ['always', []], ['chance', ['is']], ['call', ['they', 'u']], ['u', ['call', 'return']], ['long', []], ['u', ['call', 'return']], ['return', ['u']], ['uniform', ['keep']], ['pes', []]]\n",
      "['uniform', ['keep']]\n",
      "['always', []]\n",
      "['chance', ['is']]\n",
      "['call', ['they', 'u']]\n",
      "['u', ['call', 'return']]\n",
      "['long', []]\n",
      "['u', ['call', 'return']]\n",
      "['return', ['u']]\n",
      "['uniform', ['keep']]\n",
      "['pes', []]\n",
      "Review Number :  199\n"
     ]
    },
    {
     "name": "stderr",
     "output_type": "stream",
     "text": [
      "\r",
      "  6%|████▋                                                                          | 200/3390 [02:00<30:36,  1.74it/s]"
     ]
    },
    {
     "name": "stdout",
     "output_type": "stream",
     "text": [
      "[['need', []], ['officer', ['you']], ['self', []], ['extend', ['service']], ['service', ['extend']]]\n",
      "['need', []]\n",
      "['officer', ['you']]\n",
      "['self', []]\n",
      "['extend', ['service']]\n",
      "['service', ['extend']]\n",
      "Review Number :  200\n"
     ]
    },
    {
     "name": "stderr",
     "output_type": "stream",
     "text": [
      "\r",
      "  6%|████▋                                                                          | 201/3390 [02:00<25:12,  2.11it/s]"
     ]
    },
    {
     "name": "stdout",
     "output_type": "stream",
     "text": [
      "[['anyone', ['knows']], ['age', ['knows']], ['ageage', []]]\n",
      "['anyone', ['knows']]\n",
      "['age', ['knows']]\n",
      "['ageage', []]\n",
      "Review Number :  201\n",
      "[['years', []], ['age', []]]"
     ]
    },
    {
     "name": "stderr",
     "output_type": "stream",
     "text": [
      "\r",
      "  6%|████▋                                                                          | 202/3390 [02:00<20:48,  2.55it/s]"
     ]
    },
    {
     "name": "stdout",
     "output_type": "stream",
     "text": [
      "\n",
      "['years', []]\n",
      "['age', []]\n",
      "Review Number :  202\n"
     ]
    },
    {
     "name": "stderr",
     "output_type": "stream",
     "text": [
      "\r",
      "  6%|████▋                                                                          | 203/3390 [02:01<20:47,  2.55it/s]"
     ]
    },
    {
     "name": "stdout",
     "output_type": "stream",
     "text": [
      "[['mai', []], ['lah', ['finish']], ['finish', ['volunteer', 'lah', 'yearcycle', 'siewgang']], ['yearcycle', ['finish']], ['cyclesiew', []], ['siewgang', ['finish']]]\n",
      "['mai', []]\n",
      "['lah', ['finish']]\n",
      "['finish', ['volunteer', 'lah', 'yearcycle', 'siewgang']]\n",
      "['yearcycle', ['finish']]\n",
      "['cyclesiew', []]\n",
      "['siewgang', ['finish']]\n",
      "Review Number :  203\n"
     ]
    },
    {
     "name": "stderr",
     "output_type": "stream",
     "text": [
      "\r",
      "  6%|████▊                                                                          | 204/3390 [02:01<22:42,  2.34it/s]"
     ]
    },
    {
     "name": "stdout",
     "output_type": "stream",
     "text": [
      "[['kind', ['count']], ['activities', []], ['orns', []], ['havent', []], ['single', []], ['ict', ['done']], ['orns', []], ['year', []]]\n",
      "['kind', ['count']]\n",
      "['activities', []]\n",
      "['orns', []]\n",
      "['havent', []]\n",
      "['single', []]\n",
      "['ict', ['done']]\n",
      "['orns', []]\n",
      "['year', []]\n",
      "Review Number :  204\n"
     ]
    },
    {
     "name": "stderr",
     "output_type": "stream",
     "text": [
      "\r",
      "  6%|████▊                                                                          | 205/3390 [02:02<20:33,  2.58it/s]"
     ]
    },
    {
     "name": "stdout",
     "output_type": "stream",
     "text": [
      "[['activity', []], ['ict', []], ['mobilisation', []], ['call', []], ['briefing', []]]\n",
      "['activity', []]\n",
      "['ict', []]\n",
      "['mobilisation', []]\n",
      "['call', []]\n",
      "['briefing', []]\n",
      "Review Number :  205\n"
     ]
    },
    {
     "name": "stderr",
     "output_type": "stream",
     "text": [
      "\r",
      "  6%|████▊                                                                          | 206/3390 [02:02<19:58,  2.66it/s]"
     ]
    },
    {
     "name": "stdout",
     "output_type": "stream",
     "text": [
      "[['didnt', []], ['lol', []], ['somehow', []], ['orns', []], ['year', ['increasing']]]\n",
      "['didnt', []]\n",
      "['lol', []]\n",
      "['somehow', []]\n",
      "['orns', []]\n",
      "['year', ['increasing']]\n",
      "Review Number :  206\n"
     ]
    },
    {
     "name": "stderr",
     "output_type": "stream",
     "text": [
      "\r",
      "  6%|████▊                                                                          | 207/3390 [02:02<18:06,  2.93it/s]"
     ]
    },
    {
     "name": "stdout",
     "output_type": "stream",
     "text": [
      "[['check', ['cycle']], ['orns', []], ['cycle', ['check']]]\n",
      "['check', ['cycle']]\n",
      "['orns', []]\n",
      "['cycle', ['check']]\n",
      "Review Number :  207\n"
     ]
    },
    {
     "name": "stderr",
     "output_type": "stream",
     "text": [
      "\r",
      "  6%|████▊                                                                          | 208/3390 [02:03<20:17,  2.61it/s]"
     ]
    },
    {
     "name": "stdout",
     "output_type": "stream",
     "text": [
      "[['u', ['receive']], ['receive', ['u', 'saf']], ['saf', ['receive']], ['theres', ['documents']], ['documents', ['theres']], ['everyones', []], ['information', []], ['orns', []]]\n",
      "['u', ['receive']]\n",
      "['receive', ['u', 'saf']]\n",
      "['saf', ['receive']]\n",
      "['theres', ['documents']]\n",
      "['documents', ['theres']]\n",
      "['everyones', []]\n",
      "['information', []]\n",
      "['orns', []]\n",
      "Review Number :  208\n"
     ]
    },
    {
     "name": "stderr",
     "output_type": "stream",
     "text": [
      "\r",
      "  6%|████▊                                                                          | 209/3390 [02:03<22:38,  2.34it/s]"
     ]
    },
    {
     "name": "stdout",
     "output_type": "stream",
     "text": [
      "[['anyone', ['lost']], ['ict', []], ['cycle', ['lost']], ['due', []], ['pandemic', []], ['wondering', []], ['mindef', ['count']], ['count', ['mindef', 'year']], ['year', ['count']], ['year', ['count']], ['cycle', ['lost']]]\n",
      "['anyone', ['lost']]\n",
      "['ict', []]\n",
      "['cycle', ['lost']]\n",
      "['due', []]\n",
      "['pandemic', []]\n",
      "['wondering', []]\n",
      "['mindef', ['count']]\n",
      "['count', ['mindef', 'year']]\n",
      "['year', ['count']]\n",
      "['year', ['count']]\n",
      "['cycle', ['lost']]\n",
      "Review Number :  209\n"
     ]
    },
    {
     "name": "stderr",
     "output_type": "stream",
     "text": [
      "\r",
      "  6%|████▉                                                                          | 210/3390 [02:03<19:43,  2.69it/s]"
     ]
    },
    {
     "name": "stdout",
     "output_type": "stream",
     "text": [
      "[['others', ['are']], ['year', []], ['also', []]]\n",
      "['others', ['are']]\n",
      "['year', []]\n",
      "['also', []]\n",
      "Review Number :  210\n"
     ]
    },
    {
     "name": "stderr",
     "output_type": "stream",
     "text": [
      "\r",
      "  6%|████▉                                                                          | 211/3390 [02:04<27:12,  1.95it/s]"
     ]
    },
    {
     "name": "stdout",
     "output_type": "stream",
     "text": [
      "[['still', []], ['lose', ['years']], ['years', ['lose', 'reaching']], ['able', ['i']], ['clear', ['cycles']], ['cycles', ['clear']], ['years', ['lose', 'reaching']], ['year', []], ['cant', []], ['orns', ['do']], ['due', []], ['pandemic', []]]\n",
      "['still', []]\n",
      "['lose', ['years']]\n",
      "['years', ['lose', 'reaching']]\n",
      "['able', ['i']]\n",
      "['clear', ['cycles']]\n",
      "['cycles', ['clear']]\n",
      "['years', ['lose', 'reaching']]\n",
      "['year', []]\n",
      "['cant', []]\n",
      "['orns', ['do']]\n",
      "['due', []]\n",
      "['pandemic', []]\n",
      "Review Number :  211\n"
     ]
    },
    {
     "name": "stderr",
     "output_type": "stream",
     "text": [
      "\r",
      "  6%|████▉                                                                          | 212/3390 [02:05<24:15,  2.18it/s]"
     ]
    },
    {
     "name": "stdout",
     "output_type": "stream",
     "text": [
      "[['ns', []], ['obligation', ['create']], ['create', ['obligation']], ['wouldnt', []]]\n",
      "['ns', []]\n",
      "['obligation', ['create']]\n",
      "['create', ['obligation']]\n",
      "['wouldnt', []]\n",
      "Review Number :  212\n"
     ]
    },
    {
     "name": "stderr",
     "output_type": "stream",
     "text": [
      "\r",
      "  6%|████▉                                                                          | 213/3390 [02:05<24:27,  2.17it/s]"
     ]
    },
    {
     "name": "stdout",
     "output_type": "stream",
     "text": [
      "[['thatbut', ['lose']], ['lose', ['thatbut', 'cpfbonus']], ['cpfbonus', ['lose']], ['orns', ['completing']], ['concern', ['that']]]\n",
      "['thatbut', ['lose']]\n",
      "['lose', ['thatbut', 'cpfbonus']]\n",
      "['cpfbonus', ['lose']]\n",
      "['orns', ['completing']]\n",
      "['concern', ['that']]\n",
      "Review Number :  213\n"
     ]
    },
    {
     "name": "stderr",
     "output_type": "stream",
     "text": [
      "\r",
      "  6%|████▉                                                                          | 214/3390 [02:05<23:50,  2.22it/s]"
     ]
    },
    {
     "name": "stdout",
     "output_type": "stream",
     "text": [
      "[['think', ['i', 'i']], ['need', []], ['mp', []], ['liao', ['go']], ['thats', []], ['concern', []]]\n",
      "['think', ['i', 'i']]\n",
      "['need', []]\n",
      "['mp', []]\n",
      "['liao', ['go']]\n",
      "['thats', []]\n",
      "['concern', []]\n",
      "Review Number :  214\n"
     ]
    },
    {
     "name": "stderr",
     "output_type": "stream",
     "text": [
      "\r",
      "  6%|█████                                                                          | 215/3390 [02:06<25:17,  2.09it/s]"
     ]
    },
    {
     "name": "stdout",
     "output_type": "stream",
     "text": [
      "[['orn', []], ['cycle', ['doing']], ['clock', ['quota']], ['quota', ['clock']], ['clear', []], ['pandemic', []], ['latter', ['choose']]]\n",
      "['orn', []]\n",
      "['cycle', ['doing']]\n",
      "['clock', ['quota']]\n",
      "['quota', ['clock']]\n",
      "['clear', []]\n",
      "['pandemic', []]\n",
      "['latter', ['choose']]\n",
      "Review Number :  215\n"
     ]
    },
    {
     "name": "stderr",
     "output_type": "stream",
     "text": [
      "\r",
      "  6%|█████                                                                          | 216/3390 [02:06<23:15,  2.27it/s]"
     ]
    },
    {
     "name": "stdout",
     "output_type": "stream",
     "text": [
      "[['really', []], ['meh', []], ['ippt', []], ['also', []], ['ippt', []], ['last', []], ['years', []]]\n",
      "['really', []]\n",
      "['meh', []]\n",
      "['ippt', []]\n",
      "['also', []]\n",
      "['ippt', []]\n",
      "['last', []]\n",
      "['years', []]\n",
      "Review Number :  216\n"
     ]
    },
    {
     "name": "stderr",
     "output_type": "stream",
     "text": [
      "\r",
      "  6%|█████                                                                          | 217/3390 [02:07<25:15,  2.09it/s]"
     ]
    },
    {
     "name": "stdout",
     "output_type": "stream",
     "text": [
      "[['think', []], ['activities', []], ['towards', []], ['orns', []], ['activity', []], ['ippt', []], ['dayattendance', []]]\n",
      "['think', []]\n",
      "['activities', []]\n",
      "['towards', []]\n",
      "['orns', []]\n",
      "['activity', []]\n",
      "['ippt', []]\n",
      "['dayattendance', []]\n",
      "Review Number :  217\n"
     ]
    },
    {
     "name": "stderr",
     "output_type": "stream",
     "text": [
      "  6%|█████                                                                          | 219/3390 [02:08<19:35,  2.70it/s]"
     ]
    },
    {
     "name": "stdout",
     "output_type": "stream",
     "text": [
      "[['nsdotsg', ['manage']], ['eservices', []], ['callup', ['log']], ['log', ['callup']], ['check', []]]\n",
      "['nsdotsg', ['manage']]\n",
      "['eservices', []]\n",
      "['callup', ['log']]\n",
      "['log', ['callup']]\n",
      "['check', []]\n",
      "Review Number :  218\n",
      "[['u', ['go']], ['rt', []], ['sibo', []]]\n",
      "['u', ['go']]\n",
      "['rt', []]\n",
      "['sibo', []]\n",
      "Review Number :  219\n"
     ]
    },
    {
     "name": "stderr",
     "output_type": "stream",
     "text": [
      "\r",
      "  6%|█████▏                                                                         | 220/3390 [02:08<18:01,  2.93it/s]"
     ]
    },
    {
     "name": "stdout",
     "output_type": "stream",
     "text": [
      "[['oic', ['better']], ['much', []], ['last', []], ['timeliao', []]]\n",
      "['oic', ['better']]\n",
      "['much', []]\n",
      "['last', []]\n",
      "['timeliao', []]\n",
      "Review Number :  220\n"
     ]
    },
    {
     "name": "stderr",
     "output_type": "stream",
     "text": [
      "\r",
      "  7%|█████▏                                                                         | 221/3390 [02:09<32:38,  1.62it/s]"
     ]
    },
    {
     "name": "stdout",
     "output_type": "stream",
     "text": [
      "[['hmmi', ['think']], ['think', ['hmmi']], ['also', []], ['years', []], ['old', []], ['unit', ['operates']], ['need', ['i', 'i']], ['causei', ['passshooting']], ['ibobo', []], ['deployment', ['failed']], ['last', []], ['year', []], ['deployment', ['failed']], ['count', ['they', 'cyclefml', 'fmli']], ['cyclefml', ['count']], ['fmli', ['count']], ['ns', []], ['helpdesk', ['asking']], ['wait', ['i']], ['till', []], ['end', []], ['fy', []], ['years', []]]\n",
      "['hmmi', ['think']]\n",
      "['think', ['hmmi']]\n",
      "['also', []]\n",
      "['years', []]\n",
      "['old', []]\n",
      "['unit', ['operates']]\n",
      "['need', ['i', 'i']]\n",
      "['causei', ['passshooting']]\n",
      "['ibobo', []]\n",
      "['deployment', ['failed']]\n",
      "['last', []]\n",
      "['year', []]\n",
      "['deployment', ['failed']]\n",
      "['count', ['they', 'cyclefml', 'fmli']]\n",
      "['cyclefml', ['count']]\n",
      "['fmli', ['count']]\n",
      "['ns', []]\n",
      "['helpdesk', ['asking']]\n",
      "['wait', ['i']]\n",
      "['till', []]\n",
      "['end', []]\n",
      "['fy', []]\n",
      "['years', []]\n",
      "Review Number :  221\n"
     ]
    },
    {
     "name": "stderr",
     "output_type": "stream",
     "text": [
      "  7%|█████▏                                                                         | 223/3390 [02:09<20:43,  2.55it/s]"
     ]
    },
    {
     "name": "stdout",
     "output_type": "stream",
     "text": [
      "[['liddat', ['bo']], ['bo', ['liddat']], ['leh', []]]\n",
      "['liddat', ['bo']]\n",
      "['bo', ['liddat']]\n",
      "['leh', []]\n",
      "Review Number :  222\n",
      "[['needmr', []]]\n",
      "['needmr', []]\n",
      "Review Number :  223\n"
     ]
    },
    {
     "name": "stderr",
     "output_type": "stream",
     "text": [
      "\r",
      "  7%|█████▏                                                                         | 224/3390 [02:10<27:58,  1.89it/s]"
     ]
    },
    {
     "name": "stdout",
     "output_type": "stream",
     "text": [
      "[['ya', []], ['lo', []], ['ah', []], ['good', ['escape']], ['escape', ['good']], ['work', []], ['maintenanceperiod', []], ['years', ['become']], ['old', []], ['bad', ['need']], ['need', ['bad']], ['ipptrt', ['take']], ['sian', []], ['platoonmate', ['rod']], ['eventually', []], ['also', []], ['years', ['become']], ['floater', []]]\n",
      "['ya', []]\n",
      "['lo', []]\n",
      "['ah', []]\n",
      "['good', ['escape']]\n",
      "['escape', ['good']]\n",
      "['work', []]\n",
      "['maintenanceperiod', []]\n",
      "['years', ['become']]\n",
      "['old', []]\n",
      "['bad', ['need']]\n",
      "['need', ['bad']]\n",
      "['ipptrt', ['take']]\n",
      "['sian', []]\n",
      "['platoonmate', ['rod']]\n",
      "['eventually', []]\n",
      "['also', []]\n",
      "['years', ['become']]\n",
      "['floater', []]\n",
      "Review Number :  224\n",
      "[['u', ['done']], ['alrdy', []], ['hw', []], ['many', []], ['cycles', ['done']]]\n"
     ]
    },
    {
     "name": "stderr",
     "output_type": "stream",
     "text": [
      "\r",
      "  7%|█████▏                                                                         | 225/3390 [02:10<22:49,  2.31it/s]"
     ]
    },
    {
     "name": "stdout",
     "output_type": "stream",
     "text": [
      "['u', ['done']]\n",
      "['alrdy', []]\n",
      "['hw', []]\n",
      "['many', []]\n",
      "['cycles', ['done']]\n",
      "Review Number :  225\n"
     ]
    },
    {
     "name": "stderr",
     "output_type": "stream",
     "text": [
      "\r",
      "  7%|█████▎                                                                         | 226/3390 [02:11<19:23,  2.72it/s]"
     ]
    },
    {
     "name": "stdout",
     "output_type": "stream",
     "text": [
      "[['actual', []]]\n",
      "['actual', []]\n",
      "Review Number :  226\n"
     ]
    },
    {
     "name": "stderr",
     "output_type": "stream",
     "text": [
      "  7%|█████▎                                                                         | 228/3390 [02:11<15:27,  3.41it/s]"
     ]
    },
    {
     "name": "stdout",
     "output_type": "stream",
     "text": [
      "[['cycles', []], ['u', ['left']], ['u', ['left']], ['hw', []], ['many', []], ['yrs', []], ['magic', ['hit']]]\n",
      "['cycles', []]\n",
      "['u', ['left']]\n",
      "['u', ['left']]\n",
      "['hw', []]\n",
      "['many', []]\n",
      "['yrs', []]\n",
      "['magic', ['hit']]\n",
      "Review Number :  227\n",
      "[['wholesome', []], ['years', []]]\n",
      "['wholesome', []]\n",
      "['years', []]\n",
      "Review Number :  228\n"
     ]
    },
    {
     "name": "stderr",
     "output_type": "stream",
     "text": [
      "\r",
      "  7%|█████▎                                                                         | 229/3390 [02:12<16:25,  3.21it/s]"
     ]
    },
    {
     "name": "stdout",
     "output_type": "stream",
     "text": [
      "[['ok', []], ['lahagar', []], ['agaragar', []], ['u', ['dontdefer']], ['dontdefer', ['u']], ['knots', ['mr']], ['bah', []]]\n",
      "['ok', []]\n",
      "['lahagar', []]\n",
      "['agaragar', []]\n",
      "['u', ['dontdefer']]\n",
      "['dontdefer', ['u']]\n",
      "['knots', ['mr']]\n",
      "['bah', []]\n",
      "Review Number :  229\n"
     ]
    },
    {
     "name": "stderr",
     "output_type": "stream",
     "text": [
      "\r",
      "  7%|█████▎                                                                         | 230/3390 [02:12<18:02,  2.92it/s]"
     ]
    },
    {
     "name": "stdout",
     "output_type": "stream",
     "text": [
      "[['wah', []], ['tough', []], ['eh', []], ['guess', ['i']], ['back', []], ['bad', []], ['sometimes', []]]\n",
      "['wah', []]\n",
      "['tough', []]\n",
      "['eh', []]\n",
      "['guess', ['i']]\n",
      "['back', []]\n",
      "['bad', []]\n",
      "['sometimes', []]\n",
      "Review Number :  230\n"
     ]
    },
    {
     "name": "stderr",
     "output_type": "stream",
     "text": [
      "\r",
      "  7%|█████▍                                                                         | 231/3390 [02:12<17:58,  2.93it/s]"
     ]
    },
    {
     "name": "stdout",
     "output_type": "stream",
     "text": [
      "[['fair', []], ['back', []], ['reservists', []], ['pros', ['got']], ['cons', []]]\n",
      "['fair', []]\n",
      "['back', []]\n",
      "['reservists', []]\n",
      "['pros', ['got']]\n",
      "['cons', []]\n",
      "Review Number :  231\n"
     ]
    },
    {
     "name": "stderr",
     "output_type": "stream",
     "text": [
      "  7%|█████▍                                                                         | 233/3390 [02:13<14:56,  3.52it/s]"
     ]
    },
    {
     "name": "stdout",
     "output_type": "stream",
     "text": [
      "[['know', ['i']], ['r', []], ['pov', []]]\n",
      "['know', ['i']]\n",
      "['r', []]\n",
      "['pov', []]\n",
      "Review Number :  232\n",
      "[['time', []], ['reservist', []]]\n",
      "['time', []]\n",
      "['reservist', []]\n"
     ]
    },
    {
     "name": "stderr",
     "output_type": "stream",
     "text": [
      "\r",
      "  7%|█████▍                                                                         | 234/3390 [02:13<12:55,  4.07it/s]"
     ]
    },
    {
     "name": "stdout",
     "output_type": "stream",
     "text": [
      "Review Number :  233\n",
      "[['u', []], ['white', []], ['horseah', []]]\n",
      "['u', []]\n",
      "['white', []]\n",
      "['horseah', []]\n",
      "Review Number :  234\n"
     ]
    },
    {
     "name": "stderr",
     "output_type": "stream",
     "text": [
      "  7%|█████▍                                                                         | 236/3390 [02:14<16:32,  3.18it/s]"
     ]
    },
    {
     "name": "stdout",
     "output_type": "stream",
     "text": [
      "[['true', []], ['singaporean', []], ['male', ['reaches']], ['years', []], ['old', []], ['reservisttraining', ['what']], ['still', []], ['full', []], ['reservistcycle', ['completed']]]\n",
      "['true', []]\n",
      "['singaporean', []]\n",
      "['male', ['reaches']]\n",
      "['years', []]\n",
      "['old', []]\n",
      "['reservisttraining', ['what']]\n",
      "['still', []]\n",
      "['full', []]\n",
      "['reservistcycle', ['completed']]\n",
      "Review Number :  235\n",
      "[['depends', []], ['unit', []]]\n",
      "['depends', []]\n",
      "['unit', []]\n",
      "Review Number :  236\n"
     ]
    },
    {
     "name": "stderr",
     "output_type": "stream",
     "text": [
      "\r",
      "  7%|█████▌                                                                         | 237/3390 [02:14<18:10,  2.89it/s]"
     ]
    },
    {
     "name": "stdout",
     "output_type": "stream",
     "text": [
      "[['general', []], ['rule', ['is']], ['law', []], ['need', ['reach']], ['back', []], ['right', []]]\n",
      "['general', []]\n",
      "['rule', ['is']]\n",
      "['law', []]\n",
      "['need', ['reach']]\n",
      "['back', []]\n",
      "['right', []]\n",
      "Review Number :  237\n"
     ]
    },
    {
     "name": "stderr",
     "output_type": "stream",
     "text": [
      "\r",
      "  7%|█████▌                                                                         | 238/3390 [02:15<20:22,  2.58it/s]"
     ]
    },
    {
     "name": "stdout",
     "output_type": "stream",
     "text": [
      "[['occifer', ['need']], ['still', []], ['back', []], ['reach', []], ['still', []], ['yet', []], ['complete', []], ['cycle', []], ['occifer', ['need']], ['agelimit', ['is']]]\n",
      "['occifer', ['need']]\n",
      "['still', []]\n",
      "['back', []]\n",
      "['reach', []]\n",
      "['still', []]\n",
      "['yet', []]\n",
      "['complete', []]\n",
      "['cycle', []]\n",
      "['occifer', ['need']]\n",
      "['agelimit', ['is']]\n",
      "Review Number :  238\n"
     ]
    },
    {
     "name": "stderr",
     "output_type": "stream",
     "text": [
      "\r",
      "  7%|█████▌                                                                         | 239/3390 [02:15<18:24,  2.85it/s]"
     ]
    },
    {
     "name": "stdout",
     "output_type": "stream",
     "text": [
      "[['shld', []], ['clear', ['liaoleh']], ['ict', []], ['liaoleh', ['clear']], ['u', ['keepsiam']], ['keepsiam', ['u']]]\n",
      "['shld', []]\n",
      "['clear', ['liaoleh']]\n",
      "['ict', []]\n",
      "['liaoleh', ['clear']]\n",
      "['u', ['keepsiam']]\n",
      "['keepsiam', ['u']]\n",
      "Review Number :  239\n"
     ]
    },
    {
     "name": "stderr",
     "output_type": "stream",
     "text": [
      "\r",
      "  7%|█████▌                                                                         | 240/3390 [02:16<22:55,  2.29it/s]"
     ]
    },
    {
     "name": "stdout",
     "output_type": "stream",
     "text": [
      "[['u', ['ord', 'turn']], ['ord', ['u']], ['age', []], ['right', []], ['example', []], ['u', ['ord', 'turn']], ['turn', ['u']], ['th', []], ['jan', []], ['u', ['ord', 'turn']], ['wont', []], ['baxk', []], ['incampegen', []], ['restofyour', []], ['ofyourunit', ['have']], ['still', []]]\n",
      "['u', ['ord', 'turn']]\n",
      "['ord', ['u']]\n",
      "['age', []]\n",
      "['right', []]\n",
      "['example', []]\n",
      "['u', ['ord', 'turn']]\n",
      "['turn', ['u']]\n",
      "['th', []]\n",
      "['jan', []]\n",
      "['u', ['ord', 'turn']]\n",
      "['wont', []]\n",
      "['baxk', []]\n",
      "['incampegen', []]\n",
      "['restofyour', []]\n",
      "['ofyourunit', ['have']]\n",
      "['still', []]\n",
      "Review Number :  240\n"
     ]
    },
    {
     "name": "stderr",
     "output_type": "stream",
     "text": [
      "\r",
      "  7%|█████▌                                                                         | 241/3390 [02:16<27:10,  1.93it/s]"
     ]
    },
    {
     "name": "stdout",
     "output_type": "stream",
     "text": [
      "[['letter', ['tell']], ['need', ['tell', 'means']], ['back', []], ['means', ['need']], ['back', []], ['already', []], ['gravely', []], ['concerned', ['you', 'mindef']], ['mindef', ['concerned']], ['wun', []]]\n",
      "['letter', ['tell']]\n",
      "['need', ['tell', 'means']]\n",
      "['back', []]\n",
      "['means', ['need']]\n",
      "['back', []]\n",
      "['already', []]\n",
      "['gravely', []]\n",
      "['concerned', ['you', 'mindef']]\n",
      "['mindef', ['concerned']]\n",
      "['wun', []]\n",
      "Review Number :  241\n"
     ]
    },
    {
     "name": "stderr",
     "output_type": "stream",
     "text": [
      "\r",
      "  7%|█████▋                                                                         | 242/3390 [02:17<24:22,  2.15it/s]"
     ]
    },
    {
     "name": "stdout",
     "output_type": "stream",
     "text": [
      "[['receive', ['you', 'letter']], ['formal', []], ['letter', ['receive']], ['mindefif', []], ['good', []], ['luck', []]]\n",
      "['receive', ['you', 'letter']]\n",
      "['formal', []]\n",
      "['letter', ['receive']]\n",
      "['mindefif', []]\n",
      "['good', []]\n",
      "['luck', []]\n",
      "Review Number :  242\n"
     ]
    },
    {
     "name": "stderr",
     "output_type": "stream",
     "text": [
      "  7%|█████▋                                                                         | 244/3390 [02:18<23:30,  2.23it/s]"
     ]
    },
    {
     "name": "stdout",
     "output_type": "stream",
     "text": [
      "[['reach', ['calling']], ['still', []], ['yet', []], ['complete', ['cycle']], ['ict', []], ['cycle', ['complete']], ['unit', ['calling']], ['back', []], ['instead', []], ['letter', ['send']], ['collect', ['certificate']], ['certificate', ['collect']], ['appreciation', []], ['watch', []], ['medals', []]]\n",
      "['reach', ['calling']]\n",
      "['still', []]\n",
      "['yet', []]\n",
      "['complete', ['cycle']]\n",
      "['ict', []]\n",
      "['cycle', ['complete']]\n",
      "['unit', ['calling']]\n",
      "['back', []]\n",
      "['instead', []]\n",
      "['letter', ['send']]\n",
      "['collect', ['certificate']]\n",
      "['certificate', ['collect']]\n",
      "['appreciation', []]\n",
      "['watch', []]\n",
      "['medals', []]\n",
      "Review Number :  243\n",
      "[['depends', []], ['ur', []], ['rank', []]]\n",
      "['depends', []]\n",
      "['ur', []]\n",
      "['rank', []]\n",
      "Review Number :  244\n"
     ]
    },
    {
     "name": "stderr",
     "output_type": "stream",
     "text": [
      "\r",
      "  7%|█████▋                                                                         | 245/3390 [02:18<22:37,  2.32it/s]"
     ]
    },
    {
     "name": "stdout",
     "output_type": "stream",
     "text": [
      "[['even', []], ['u', ['complete', 'get']], ['never', []], ['complete', ['u', 'cycles']], ['cycles', ['complete']], ['still', []], ['k', []], ['right', ['get']], ['assumeinhu', []]]\n",
      "['even', []]\n",
      "['u', ['complete', 'get']]\n",
      "['never', []]\n",
      "['complete', ['u', 'cycles']]\n",
      "['cycles', ['complete']]\n",
      "['still', []]\n",
      "['k', []]\n",
      "['right', ['get']]\n",
      "['assumeinhu', []]\n",
      "Review Number :  245\n"
     ]
    },
    {
     "name": "stderr",
     "output_type": "stream",
     "text": [
      "\r",
      "  7%|█████▋                                                                         | 246/3390 [02:19<34:44,  1.51it/s]"
     ]
    },
    {
     "name": "stdout",
     "output_type": "stream",
     "text": [
      "[['watch', ['make']], ['coa', []], ['letter', []], ['bosses', []], ['bo', []], ['chup', []], ['medals', []], ['cash', []], ['converters', []], ['giftskeep', ['ish']], ['sua', []], ['rah', []], ['nowadays', []], ['reservists', []], ['ish', ['giftskeep', 'liability']], ['liability', ['ish']], ['sinkie', []], ['male', []], ['ft', []], ['males', ['working']], ['happily', []]]\n",
      "['watch', ['make']]\n",
      "['coa', []]\n",
      "['letter', []]\n",
      "['bosses', []]\n",
      "['bo', []]\n",
      "['chup', []]\n",
      "['medals', []]\n",
      "['cash', []]\n",
      "['converters', []]\n",
      "['giftskeep', ['ish']]\n",
      "['sua', []]\n",
      "['rah', []]\n",
      "['nowadays', []]\n",
      "['reservists', []]\n",
      "['ish', ['giftskeep', 'liability']]\n",
      "['liability', ['ish']]\n",
      "['sinkie', []]\n",
      "['male', []]\n",
      "['ft', []]\n",
      "['males', ['working']]\n",
      "['happily', []]\n",
      "Review Number :  246\n"
     ]
    },
    {
     "name": "stderr",
     "output_type": "stream",
     "text": [
      "\r",
      "  7%|█████▊                                                                         | 247/3390 [02:21<50:03,  1.05it/s]"
     ]
    },
    {
     "name": "stdout",
     "output_type": "stream",
     "text": [
      "[['already', []], ['moi', ['want']], ['useless', []], ['watchco', ['give']], ['ask', []], ['moi', ['want']], ['extend', []], ['year', []], ['rank', []], ['staffsgt', []], ['sgti', ['told']], ['staff', []], ['sgt', ['give']], ['moijob', []], ['diam', ['he', 'give']], ['diam', ['he', 'give']], ['mind', []], ['payincrease', []], ['increaserank', []], ['rankpay', []], ['payincrease', []], ['seeand', ['i']], ['chancelet', []], ['ft', ['take']], ['jobsiao', ['take']], ['u', []], ['ft', ['take']], ['job', ['take']], ['doesnt', []]]\n",
      "['already', []]\n",
      "['moi', ['want']]\n",
      "['useless', []]\n",
      "['watchco', ['give']]\n",
      "['ask', []]\n",
      "['moi', ['want']]\n",
      "['extend', []]\n",
      "['year', []]\n",
      "['rank', []]\n",
      "['staffsgt', []]\n",
      "['sgti', ['told']]\n",
      "['staff', []]\n",
      "['sgt', ['give']]\n",
      "['moijob', []]\n",
      "['diam', ['he', 'give']]\n",
      "['diam', ['he', 'give']]\n",
      "['mind', []]\n",
      "['payincrease', []]\n",
      "['increaserank', []]\n",
      "['rankpay', []]\n",
      "['payincrease', []]\n",
      "['seeand', ['i']]\n",
      "['chancelet', []]\n",
      "['ft', ['take']]\n",
      "['jobsiao', ['take']]\n",
      "['u', []]\n",
      "['ft', ['take']]\n",
      "['job', ['take']]\n",
      "['doesnt', []]\n",
      "Review Number :  247\n"
     ]
    },
    {
     "name": "stderr",
     "output_type": "stream",
     "text": [
      "\r",
      "  7%|█████▊                                                                         | 248/3390 [02:22<47:47,  1.10it/s]"
     ]
    },
    {
     "name": "stdout",
     "output_type": "stream",
     "text": [
      "[['didnt', []], ['k', ['is']], ['collect', []], ['singaporean', []], ['male', ['complete']], ['complete', ['male', 'cycles', 'who']], ['cycles', ['complete']], ['anything', ['deserve']], ['otherwise', []], ['singaporean', []], ['males', []]]\n",
      "['didnt', []]\n",
      "['k', ['is']]\n",
      "['collect', []]\n",
      "['singaporean', []]\n",
      "['male', ['complete']]\n",
      "['complete', ['male', 'cycles', 'who']]\n",
      "['cycles', ['complete']]\n",
      "['anything', ['deserve']]\n",
      "['otherwise', []]\n",
      "['singaporean', []]\n",
      "['males', []]\n",
      "Review Number :  248\n"
     ]
    },
    {
     "name": "stderr",
     "output_type": "stream",
     "text": [
      "\r",
      "  7%|█████▊                                                                         | 249/3390 [02:23<49:44,  1.05it/s]"
     ]
    },
    {
     "name": "stdout",
     "output_type": "stream",
     "text": [
      "[['max', []], ['nsfnsmen', []], ['regardless', []], ['u', ['completed']], ['many', []], ['cycle', ['need']], ['rare', []], ['cases', ['are']], ['unit', []], ['person', ['need']], ['cycle', ['need']], ['complete', []], ['k', []], ['request', ['he']], ['however', []], ['still', []], ['ippt', []]]\n",
      "['max', []]\n",
      "['nsfnsmen', []]\n",
      "['regardless', []]\n",
      "['u', ['completed']]\n",
      "['many', []]\n",
      "['cycle', ['need']]\n",
      "['rare', []]\n",
      "['cases', ['are']]\n",
      "['unit', []]\n",
      "['person', ['need']]\n",
      "['cycle', ['need']]\n",
      "['complete', []]\n",
      "['k', []]\n",
      "['request', ['he']]\n",
      "['however', []]\n",
      "['still', []]\n",
      "['ippt', []]\n",
      "Review Number :  249\n"
     ]
    },
    {
     "name": "stderr",
     "output_type": "stream",
     "text": [
      "\r",
      "  7%|█████▊                                                                         | 250/3390 [02:23<41:04,  1.27it/s]"
     ]
    },
    {
     "name": "stdout",
     "output_type": "stream",
     "text": [
      "[['kinda', ['chao']], ['chao', ['kinda']], ['early', []], ['years', []], ['goodie', ['got']], ['extend', []]]\n",
      "['kinda', ['chao']]\n",
      "['chao', ['kinda']]\n",
      "['early', []]\n",
      "['years', []]\n",
      "['goodie', ['got']]\n",
      "['extend', []]\n",
      "Review Number :  250\n"
     ]
    },
    {
     "name": "stderr",
     "output_type": "stream",
     "text": [
      "\r",
      "  7%|█████▊                                                                         | 251/3390 [02:23<34:07,  1.53it/s]"
     ]
    },
    {
     "name": "stdout",
     "output_type": "stream",
     "text": [
      "[['nobody', ['force']], ['force', ['nobody', 'person']], ['person', ['force']], ['extend', []], ['right', []]]\n",
      "['nobody', ['force']]\n",
      "['force', ['nobody', 'person']]\n",
      "['person', ['force']]\n",
      "['extend', []]\n",
      "['right', []]\n",
      "Review Number :  251\n"
     ]
    },
    {
     "name": "stderr",
     "output_type": "stream",
     "text": [
      "\r",
      "  7%|█████▊                                                                         | 252/3390 [02:24<29:08,  1.79it/s]"
     ]
    },
    {
     "name": "stdout",
     "output_type": "stream",
     "text": [
      "[['kumgongz', []], ['gongzlor', []], ['lork', ['kwaste']], ['kwaste', ['lork', 'timeandeffort']], ['much', []], ['timeandeffort', ['kwaste']]]\n",
      "['kumgongz', []]\n",
      "['gongzlor', []]\n",
      "['lork', ['kwaste']]\n",
      "['kwaste', ['lork', 'timeandeffort']]\n",
      "['much', []]\n",
      "['timeandeffort', ['kwaste']]\n",
      "Review Number :  252\n"
     ]
    },
    {
     "name": "stderr",
     "output_type": "stream",
     "text": [
      "\r",
      "  7%|█████▉                                                                         | 253/3390 [02:24<27:02,  1.93it/s]"
     ]
    },
    {
     "name": "stdout",
     "output_type": "stream",
     "text": [
      "[['expthearmy', []], ['totalwaste', ['where']], ['time', []], ['realvalue', ['has']], ['realworld', []]]\n",
      "['expthearmy', []]\n",
      "['totalwaste', ['where']]\n",
      "['time', []]\n",
      "['realvalue', ['has']]\n",
      "['realworld', []]\n",
      "Review Number :  253\n"
     ]
    },
    {
     "name": "stderr",
     "output_type": "stream",
     "text": [
      "\r",
      "  7%|█████▉                                                                         | 254/3390 [02:25<29:41,  1.76it/s]"
     ]
    },
    {
     "name": "stdout",
     "output_type": "stream",
     "text": [
      "[['ts', []], ['u', ['concern', 'concern']], ['concern', ['u', 'u']], ['u', ['concern', 'concern']], ['old', []], ['btw', ['good']], ['always', []], ['good', ['btw']], ['try', []], ['clear', ['cycles']], ['complete', []], ['entire', []], ['cycles', ['clear']], ['early', []], ['possible', []], ['mr', ['relax']], ['liao', ['relax']], ['relax', ['mr', 'liao']]]\n",
      "['ts', []]\n",
      "['u', ['concern', 'concern']]\n",
      "['concern', ['u', 'u']]\n",
      "['u', ['concern', 'concern']]\n",
      "['old', []]\n",
      "['btw', ['good']]\n",
      "['always', []]\n",
      "['good', ['btw']]\n",
      "['try', []]\n",
      "['clear', ['cycles']]\n",
      "['complete', []]\n",
      "['entire', []]\n",
      "['cycles', ['clear']]\n",
      "['early', []]\n",
      "['possible', []]\n",
      "['mr', ['relax']]\n",
      "['liao', ['relax']]\n",
      "['relax', ['mr', 'liao']]\n",
      "Review Number :  254\n"
     ]
    },
    {
     "name": "stderr",
     "output_type": "stream",
     "text": [
      "\r",
      "  8%|█████▉                                                                         | 255/3390 [02:26<30:58,  1.69it/s]"
     ]
    },
    {
     "name": "stdout",
     "output_type": "stream",
     "text": [
      "[['person', ['request']], ['extendnot', ['force']], ['kena', []], ['force', ['extendnot']], ['parliament', ['new']], ['implement', []], ['new', ['parliament', 'bill']], ['bill', ['new']], ['reservist', ['age']], ['age', ['reservist']], ['counter', []], ['low', []], ['birth', []], ['rates', []]]\n",
      "['person', ['request']]\n",
      "['extendnot', ['force']]\n",
      "['kena', []]\n",
      "['force', ['extendnot']]\n",
      "['parliament', ['new']]\n",
      "['implement', []]\n",
      "['new', ['parliament', 'bill']]\n",
      "['bill', ['new']]\n",
      "['reservist', ['age']]\n",
      "['age', ['reservist']]\n",
      "['counter', []]\n",
      "['low', []]\n",
      "['birth', []]\n",
      "['rates', []]\n",
      "Review Number :  255\n",
      "[['u', ['officerlor']], ['officerlor', ['u']]]"
     ]
    },
    {
     "name": "stderr",
     "output_type": "stream",
     "text": [
      "\r",
      "  8%|█████▉                                                                         | 256/3390 [02:26<24:33,  2.13it/s]"
     ]
    },
    {
     "name": "stdout",
     "output_type": "stream",
     "text": [
      "\n",
      "['u', ['officerlor']]\n",
      "['officerlor', ['u']]\n",
      "Review Number :  256\n"
     ]
    },
    {
     "name": "stderr",
     "output_type": "stream",
     "text": [
      "\r",
      "  8%|█████▉                                                                         | 257/3390 [02:26<24:37,  2.12it/s]"
     ]
    },
    {
     "name": "stdout",
     "output_type": "stream",
     "text": [
      "[['wooo', []], ['years', []], ['overseas', []], ['sht', []], ['x', []]]\n",
      "['wooo', []]\n",
      "['years', []]\n",
      "['overseas', []]\n",
      "['sht', []]\n",
      "['x', []]\n",
      "Review Number :  257\n"
     ]
    },
    {
     "name": "stderr",
     "output_type": "stream",
     "text": [
      "  8%|██████                                                                         | 259/3390 [02:27<22:40,  2.30it/s]"
     ]
    },
    {
     "name": "stdout",
     "output_type": "stream",
     "text": [
      "[['u', ['rofficer', 'go']], ['rofficer', ['u']], ['else', []], ['complete', ['reached']], ['complete', ['reached']], ['cycles', ['reached']], ['u', ['rofficer', 'go']], ['call', ['one', 'you']], ['back', []], ['ict', []], ['anymore', []], ['extend', ['service']], ['service', ['extend']]]\n",
      "['u', ['rofficer', 'go']]\n",
      "['rofficer', ['u']]\n",
      "['else', []]\n",
      "['complete', ['reached']]\n",
      "['complete', ['reached']]\n",
      "['cycles', ['reached']]\n",
      "['u', ['rofficer', 'go']]\n",
      "['call', ['one', 'you']]\n",
      "['back', []]\n",
      "['ict', []]\n",
      "['anymore', []]\n",
      "['extend', ['service']]\n",
      "['service', ['extend']]\n",
      "Review Number :  258\n",
      "[['heardofficer', ['i']]]\n",
      "['heardofficer', ['i']]\n",
      "Review Number :  259\n"
     ]
    },
    {
     "name": "stderr",
     "output_type": "stream",
     "text": [
      "\r",
      "  8%|██████                                                                         | 260/3390 [02:28<35:33,  1.47it/s]"
     ]
    },
    {
     "name": "stdout",
     "output_type": "stream",
     "text": [
      "[['eh', []], ['serve', ['you', 'reservist', 'one']], ['reservist', ['serve']], ['u', ['ish']], ['ish', ['u']], ['xdd', []], ['ft', []], ['unfair', []], ['reservist', ['serve']], ['complete', ['who', 'those']], ['usually', []], ['complete', ['who', 'those']], ['cycles', ['one', 'clear']], ['actually', []], ['unit', ['nightmare']], ['call', ['nightmare']], ['back', []], ['ippttill', ['nightmare']], ['tillyear', []], ['nightmare', ['unit', 'call', 'ippttill']], ['maneveryone', ['wan']], ['na', []], ['clear', ['cycles']], ['cycles', ['one', 'clear']], ['tiocall', ['bo']], ['really', []], ['sad', []]]\n",
      "['eh', []]\n",
      "['serve', ['you', 'reservist', 'one']]\n",
      "['reservist', ['serve']]\n",
      "['u', ['ish']]\n",
      "['ish', ['u']]\n",
      "['xdd', []]\n",
      "['ft', []]\n",
      "['unfair', []]\n",
      "['reservist', ['serve']]\n",
      "['complete', ['who', 'those']]\n",
      "['usually', []]\n",
      "['complete', ['who', 'those']]\n",
      "['cycles', ['one', 'clear']]\n",
      "['actually', []]\n",
      "['unit', ['nightmare']]\n",
      "['call', ['nightmare']]\n",
      "['back', []]\n",
      "['ippttill', ['nightmare']]\n",
      "['tillyear', []]\n",
      "['nightmare', ['unit', 'call', 'ippttill']]\n",
      "['maneveryone', ['wan']]\n",
      "['na', []]\n",
      "['clear', ['cycles']]\n",
      "['cycles', ['one', 'clear']]\n",
      "['tiocall', ['bo']]\n",
      "['really', []]\n",
      "['sad', []]\n",
      "Review Number :  260\n"
     ]
    },
    {
     "name": "stderr",
     "output_type": "stream",
     "text": [
      "\r",
      "  8%|██████                                                                         | 261/3390 [02:29<39:18,  1.33it/s]"
     ]
    },
    {
     "name": "stdout",
     "output_type": "stream",
     "text": [
      "[['yeahk', []], ['bigger', []], ['bull', []], ['cart', []], ['wheels', ['scrap']], ['years', []], ['ns', ['scrap']], ['punyk', []], ['ranjiao', []], ['allowances', ['keep']], ['pcb', []], ['anyways', []], ['havent', []], ['back', []], ['im', []], ['back', []]]\n",
      "['yeahk', []]\n",
      "['bigger', []]\n",
      "['bull', []]\n",
      "['cart', []]\n",
      "['wheels', ['scrap']]\n",
      "['years', []]\n",
      "['ns', ['scrap']]\n",
      "['punyk', []]\n",
      "['ranjiao', []]\n",
      "['allowances', ['keep']]\n",
      "['pcb', []]\n",
      "['anyways', []]\n",
      "['havent', []]\n",
      "['back', []]\n",
      "['im', []]\n",
      "['back', []]\n",
      "Review Number :  261\n"
     ]
    },
    {
     "name": "stderr",
     "output_type": "stream",
     "text": [
      "\r",
      "  8%|██████                                                                         | 262/3390 [02:29<31:14,  1.67it/s]"
     ]
    },
    {
     "name": "stdout",
     "output_type": "stream",
     "text": [
      "[['need', []], ['chiu', ['are']], ['occifer', []]]\n",
      "['need', []]\n",
      "['chiu', ['are']]\n",
      "['occifer', []]\n",
      "Review Number :  262\n"
     ]
    },
    {
     "name": "stderr",
     "output_type": "stream",
     "text": [
      "\r",
      "  8%|██████▏                                                                        | 263/3390 [02:31<52:12,  1.00s/it]"
     ]
    },
    {
     "name": "stdout",
     "output_type": "stream",
     "text": [
      "[['officer', ['is']], ['applicability', []], ['annual', []], ['ippt', ['applicable']], ['applicable', ['ippt']], ['pes', []], ['nsmen', []], ['ns', []], ['liabilitytill', []], ['tillage', []], ['years', []], ['old', []], ['officers', []], ['respectively', []], ['nsmans', ['commences']], ['ippt', ['applicable']], ['annual', []], ['requirement', []], ['commences', ['nsmans']], ['immediately', []], ['nsf', []], ['operational', []], ['ready', []], ['dateord', []], ['mindef', []], ['reserves', []], ['medically', []], ['pes', []], ['ok', []], ['kah', []]]\n",
      "['officer', ['is']]\n",
      "['applicability', []]\n",
      "['annual', []]\n",
      "['ippt', ['applicable']]\n",
      "['applicable', ['ippt']]\n",
      "['pes', []]\n",
      "['nsmen', []]\n",
      "['ns', []]\n",
      "['liabilitytill', []]\n",
      "['tillage', []]\n",
      "['years', []]\n",
      "['old', []]\n",
      "['officers', []]\n",
      "['respectively', []]\n",
      "['nsmans', ['commences']]\n",
      "['ippt', ['applicable']]\n",
      "['annual', []]\n",
      "['requirement', []]\n",
      "['commences', ['nsmans']]\n",
      "['immediately', []]\n",
      "['nsf', []]\n",
      "['operational', []]\n",
      "['ready', []]\n",
      "['dateord', []]\n",
      "['mindef', []]\n",
      "['reserves', []]\n",
      "['medically', []]\n",
      "['pes', []]\n",
      "['ok', []]\n",
      "['kah', []]\n",
      "Review Number :  263\n"
     ]
    },
    {
     "name": "stderr",
     "output_type": "stream",
     "text": [
      "\r",
      "  8%|█████▉                                                                       | 264/3390 [02:34<1:09:31,  1.33s/it]"
     ]
    },
    {
     "name": "stdout",
     "output_type": "stream",
     "text": [
      "[['hello', []], ['call', ['you', 'nssc']], ['nssc', ['call', 'getting']], ['let', ['me']], ['share', []], ['officer', ['you']], ['unit', ['send']], ['send', ['unit', 'letter', 'email']], ['letter', ['send']], ['longer', []], ['u', ['finish', 'getwatch', 'ask']], ['dont', []], ['finish', ['u', 'key']], ['high', []], ['key', ['finish']], ['yearcycle', []], ['u', ['finish', 'getwatch', 'ask']], ['wont', []], ['getwatch', ['u']], ['year', []], ['long', []], ['servicemedal', []], ['reach', ['you']], ['years', []], ['old', []], ['short', ['you']], ['high', []], ['key', ['finish']], ['u', ['finish', 'getwatch', 'ask']], ['want', ['you']], ['volunteer', ['service']], ['service', ['volunteer', 'getting']], ['volunteeru', ['choose']], ['choose', ['volunteeru']], ['nowadays', []], ['nssc', ['call', 'getting']], ['unit', ['send']], ['service', ['volunteer', 'getting']], ['unsure', ['you']], ['feel', []], ['free', []], ['send', ['unit', 'letter', 'email']], ['email', ['send']]]\n",
      "['hello', []]\n",
      "['call', ['you', 'nssc']]\n",
      "['nssc', ['call', 'getting']]\n",
      "['let', ['me']]\n",
      "['share', []]\n",
      "['officer', ['you']]\n",
      "['unit', ['send']]\n",
      "['send', ['unit', 'letter', 'email']]\n",
      "['letter', ['send']]\n",
      "['longer', []]\n",
      "['u', ['finish', 'getwatch', 'ask']]\n",
      "['dont', []]\n",
      "['finish', ['u', 'key']]\n",
      "['high', []]\n",
      "['key', ['finish']]\n",
      "['yearcycle', []]\n",
      "['u', ['finish', 'getwatch', 'ask']]\n",
      "['wont', []]\n",
      "['getwatch', ['u']]\n",
      "['year', []]\n",
      "['long', []]\n",
      "['servicemedal', []]\n",
      "['reach', ['you']]\n",
      "['years', []]\n",
      "['old', []]\n",
      "['short', ['you']]\n",
      "['high', []]\n",
      "['key', ['finish']]\n",
      "['u', ['finish', 'getwatch', 'ask']]\n",
      "['want', ['you']]\n",
      "['volunteer', ['service']]\n",
      "['service', ['volunteer', 'getting']]\n",
      "['volunteeru', ['choose']]\n",
      "['choose', ['volunteeru']]\n",
      "['nowadays', []]\n",
      "['nssc', ['call', 'getting']]\n",
      "['unit', ['send']]\n",
      "['service', ['volunteer', 'getting']]\n",
      "['unsure', ['you']]\n",
      "['feel', []]\n",
      "['free', []]\n",
      "['send', ['unit', 'letter', 'email']]\n",
      "['email', ['send']]\n",
      "Review Number :  264\n"
     ]
    },
    {
     "name": "stderr",
     "output_type": "stream",
     "text": [
      "\r",
      "  8%|██████▏                                                                        | 265/3390 [02:34<52:27,  1.01s/it]"
     ]
    },
    {
     "name": "stdout",
     "output_type": "stream",
     "text": [
      "[['haha', []], ['u', ['siam']], ['siam', ['u']], ['wayrite', []]]\n",
      "['haha', []]\n",
      "['u', ['siam']]\n",
      "['siam', ['u']]\n",
      "['wayrite', []]\n",
      "Review Number :  265\n"
     ]
    },
    {
     "name": "stderr",
     "output_type": "stream",
     "text": [
      "\r",
      "  8%|██████▏                                                                        | 266/3390 [02:34<42:35,  1.22it/s]"
     ]
    },
    {
     "name": "stdout",
     "output_type": "stream",
     "text": [
      "[['reservist', []], ['relac', []], ['vacationpay', []], ['u', []], ['salary', ['paid']], ['sleep', []], ['camp', []]]\n",
      "['reservist', []]\n",
      "['relac', []]\n",
      "['vacationpay', []]\n",
      "['u', []]\n",
      "['salary', ['paid']]\n",
      "['sleep', []]\n",
      "['camp', []]\n",
      "Review Number :  266\n"
     ]
    },
    {
     "name": "stderr",
     "output_type": "stream",
     "text": [
      "\r",
      "  8%|██████▏                                                                        | 267/3390 [02:34<33:41,  1.55it/s]"
     ]
    },
    {
     "name": "stdout",
     "output_type": "stream",
     "text": [
      "[['complete', []], ['fastthe', []], ['older', []], ['u', []]]\n",
      "['complete', []]\n",
      "['fastthe', []]\n",
      "['older', []]\n",
      "['u', []]\n",
      "Review Number :  267\n"
     ]
    },
    {
     "name": "stderr",
     "output_type": "stream",
     "text": [
      "\r",
      "  8%|██████▏                                                                        | 268/3390 [02:35<35:11,  1.48it/s]"
     ]
    },
    {
     "name": "stdout",
     "output_type": "stream",
     "text": [
      "[['years', ['finished']], ['back', []], ['watch', []], ['medals', ['got']], ['truth', []], ['miss', ['i', 'gng']], ['gng', ['miss']], ['back', []], ['reservist', []], ['tcss', ['i']], ['buddies', []], ['work', []]]\n",
      "['years', ['finished']]\n",
      "['back', []]\n",
      "['watch', []]\n",
      "['medals', ['got']]\n",
      "['truth', []]\n",
      "['miss', ['i', 'gng']]\n",
      "['gng', ['miss']]\n",
      "['back', []]\n",
      "['reservist', []]\n",
      "['tcss', ['i']]\n",
      "['buddies', []]\n",
      "['work', []]\n",
      "Review Number :  268\n"
     ]
    },
    {
     "name": "stderr",
     "output_type": "stream",
     "text": [
      "  8%|██████▎                                                                        | 270/3390 [02:36<21:59,  2.36it/s]"
     ]
    },
    {
     "name": "stdout",
     "output_type": "stream",
     "text": [
      "[['mr', []], ['ippt', ['best']], ['yearly', []]]\n",
      "['mr', []]\n",
      "['ippt', ['best']]\n",
      "['yearly', []]\n",
      "Review Number :  269\n",
      "[]\n",
      "Review Number :  270\n"
     ]
    },
    {
     "name": "stderr",
     "output_type": "stream",
     "text": [
      "\r",
      "  8%|██████▎                                                                        | 271/3390 [02:36<22:24,  2.32it/s]"
     ]
    },
    {
     "name": "stdout",
     "output_type": "stream",
     "text": [
      "[['hope', ['i']], ['call', ['they', 'me']], ['ict', []], ['cycle', []], ['aussie', ['go']], ['brunei', []]]\n",
      "['hope', ['i']]\n",
      "['call', ['they', 'me']]\n",
      "['ict', []]\n",
      "['cycle', []]\n",
      "['aussie', ['go']]\n",
      "['brunei', []]\n",
      "Review Number :  271\n"
     ]
    },
    {
     "name": "stderr",
     "output_type": "stream",
     "text": [
      "  8%|██████▎                                                                        | 273/3390 [02:37<23:16,  2.23it/s]"
     ]
    },
    {
     "name": "stdout",
     "output_type": "stream",
     "text": [
      "[['agree', []], ['imagineu', ['need']], ['still', []], ['back', []], ['ict', ['go']], ['physically', []], ['u', ['find', 'have']], ['u', ['find', 'have']], ['probably', []], ['tons', ['have']], ['commitments', []], ['family', []], ['commitments', []], ['clear', ['them']], ['asap', []]]\n",
      "['agree', []]\n",
      "['imagineu', ['need']]\n",
      "['still', []]\n",
      "['back', []]\n",
      "['ict', ['go']]\n",
      "['physically', []]\n",
      "['u', ['find', 'have']]\n",
      "['u', ['find', 'have']]\n",
      "['probably', []]\n",
      "['tons', ['have']]\n",
      "['commitments', []]\n",
      "['family', []]\n",
      "['commitments', []]\n",
      "['clear', ['them']]\n",
      "['asap', []]\n",
      "Review Number :  272\n",
      "[['didnt', []], ['receive', ['you', 'this']], ['meh', []]]\n",
      "['didnt', []]\n",
      "['receive', ['you', 'this']]\n",
      "['meh', []]\n",
      "Review Number :  273\n"
     ]
    },
    {
     "name": "stderr",
     "output_type": "stream",
     "text": [
      "\r",
      "  8%|██████▍                                                                        | 274/3390 [02:38<25:09,  2.06it/s]"
     ]
    },
    {
     "name": "stdout",
     "output_type": "stream",
     "text": [
      "[['sianz', []], ['ippt', []], ['rangesoc', []], ['socroute', []], ['routemarch', []], ['marchfibua', []], ['fibuafofo', []], ['fofobctc', []], ['bctcict', []], ['open', []], ['mob', ['getting']], ['really', []], ['use', ['getting']]]\n",
      "['sianz', []]\n",
      "['ippt', []]\n",
      "['rangesoc', []]\n",
      "['socroute', []]\n",
      "['routemarch', []]\n",
      "['marchfibua', []]\n",
      "['fibuafofo', []]\n",
      "['fofobctc', []]\n",
      "['bctcict', []]\n",
      "['open', []]\n",
      "['mob', ['getting']]\n",
      "['really', []]\n",
      "['use', ['getting']]\n",
      "Review Number :  274\n"
     ]
    },
    {
     "name": "stderr",
     "output_type": "stream",
     "text": [
      "\r",
      "  8%|██████▍                                                                        | 275/3390 [02:38<24:04,  2.16it/s]"
     ]
    },
    {
     "name": "stdout",
     "output_type": "stream",
     "text": [
      "[['nsf', []], ['regular', []], ['reservist', ['see']], ['new', []], ['lumber', ['wearing']], ['jin', []], ['satki', []], ['envious', []]]\n",
      "['nsf', []]\n",
      "['regular', []]\n",
      "['reservist', ['see']]\n",
      "['new', []]\n",
      "['lumber', ['wearing']]\n",
      "['jin', []]\n",
      "['satki', []]\n",
      "['envious', []]\n",
      "Review Number :  275\n"
     ]
    },
    {
     "name": "stderr",
     "output_type": "stream",
     "text": [
      "\r",
      "  8%|██████▍                                                                        | 276/3390 [02:38<21:19,  2.43it/s]"
     ]
    },
    {
     "name": "stdout",
     "output_type": "stream",
     "text": [
      "[['calllsaf', ['tell']], ['confrim', []], ['ur', []], ['name', []], ['n', ['tell']], ['icnumber', []]]\n",
      "['calllsaf', ['tell']]\n",
      "['confrim', []]\n",
      "['ur', []]\n",
      "['name', []]\n",
      "['n', ['tell']]\n",
      "['icnumber', []]\n",
      "Review Number :  276\n"
     ]
    },
    {
     "name": "stderr",
     "output_type": "stream",
     "text": [
      "\r",
      "  8%|██████▍                                                                        | 277/3390 [02:40<36:58,  1.40it/s]"
     ]
    },
    {
     "name": "stdout",
     "output_type": "stream",
     "text": [
      "[['really', []], ['day', ['missed']], ['nsf', []], ['early', []], ['bx', []], ['arbo', []], ['jog', ['do']], ['exercise', []], ['wooden', []], ['log', []], ['else', []], ['selarang', []], ['pools', []], ['day', ['missed']], ['script', ['digging']], ['trenches', []], ['assaultboat', []], ['captize', []], ['drill', ['finish']], ['seafollow', []], ['formation', []], ['finish', ['drill']], ['next', []], ['carry', ['boat']], ['boat', ['carry']], ['back', []], ['boatman', []]]\n",
      "['really', []]\n",
      "['day', ['missed']]\n",
      "['nsf', []]\n",
      "['early', []]\n",
      "['bx', []]\n",
      "['arbo', []]\n",
      "['jog', ['do']]\n",
      "['exercise', []]\n",
      "['wooden', []]\n",
      "['log', []]\n",
      "['else', []]\n",
      "['selarang', []]\n",
      "['pools', []]\n",
      "['day', ['missed']]\n",
      "['script', ['digging']]\n",
      "['trenches', []]\n",
      "['assaultboat', []]\n",
      "['captize', []]\n",
      "['drill', ['finish']]\n",
      "['seafollow', []]\n",
      "['formation', []]\n",
      "['finish', ['drill']]\n",
      "['next', []]\n",
      "['carry', ['boat']]\n",
      "['boat', ['carry']]\n",
      "['back', []]\n",
      "['boatman', []]\n",
      "Review Number :  277\n"
     ]
    },
    {
     "name": "stderr",
     "output_type": "stream",
     "text": [
      "  8%|██████▌                                                                        | 279/3390 [02:40<25:03,  2.07it/s]"
     ]
    },
    {
     "name": "stdout",
     "output_type": "stream",
     "text": [
      "[['u', ['seen']], ['recuit', ['seen']], ['back', []], ['idun', ['go']], ['dunwan', []], ['back', []]]\n",
      "['u', ['seen']]\n",
      "['recuit', ['seen']]\n",
      "['back', []]\n",
      "['idun', ['go']]\n",
      "['dunwan', []]\n",
      "['back', []]\n",
      "Review Number :  278\n",
      "[['officers', []]]\n",
      "['officers', []]\n"
     ]
    },
    {
     "name": "stderr",
     "output_type": "stream",
     "text": [
      "\r",
      "  8%|██████▌                                                                        | 280/3390 [02:41<30:06,  1.72it/s]"
     ]
    },
    {
     "name": "stdout",
     "output_type": "stream",
     "text": [
      "Review Number :  279\n",
      "[['sometimes', []], ['didnt', []], ['complete', ['call']], ['unit', ['call', 'call']], ['never', []], ['fault', []], ['leh', []], ['still', []], ['till', []], ['even', []], ['unit', ['call', 'call']], ['didnt', []], ['call', ['complete', 'unit', 'them', 'unit', 'them']], ['leh', []], ['suffer', ['they', 'more']], ['even', []], ['complete', ['call']]]\n",
      "['sometimes', []]\n",
      "['didnt', []]\n",
      "['complete', ['call']]\n",
      "['unit', ['call', 'call']]\n",
      "['never', []]\n",
      "['fault', []]\n",
      "['leh', []]\n",
      "['still', []]\n",
      "['till', []]\n",
      "['even', []]\n",
      "['unit', ['call', 'call']]\n",
      "['didnt', []]\n",
      "['call', ['complete', 'unit', 'them', 'unit', 'them']]\n",
      "['leh', []]\n",
      "['suffer', ['they', 'more']]\n",
      "['even', []]\n",
      "['complete', ['call']]\n",
      "Review Number :  280\n"
     ]
    },
    {
     "name": "stderr",
     "output_type": "stream",
     "text": [
      "\r",
      "  8%|██████▌                                                                        | 281/3390 [02:42<32:43,  1.58it/s]"
     ]
    },
    {
     "name": "stdout",
     "output_type": "stream",
     "text": [
      "[['im', ['did']], ['yeartill', []], ['tilltoday', ['did']], ['high', []], ['key', ['did']], ['dunno', []], ['start', ['they']], ['frequency', ['increasing']], ['back', []], ['soon', []]]\n",
      "['im', ['did']]\n",
      "['yeartill', []]\n",
      "['tilltoday', ['did']]\n",
      "['high', []]\n",
      "['key', ['did']]\n",
      "['dunno', []]\n",
      "['start', ['they']]\n",
      "['frequency', ['increasing']]\n",
      "['back', []]\n",
      "['soon', []]\n",
      "Review Number :  281\n"
     ]
    },
    {
     "name": "stderr",
     "output_type": "stream",
     "text": [
      "\r",
      "  8%|██████▌                                                                        | 282/3390 [02:43<34:24,  1.51it/s]"
     ]
    },
    {
     "name": "stdout",
     "output_type": "stream",
     "text": [
      "[['sian', ['confirm']], ['confirm', ['sian']], ['yrs', []], ['old', []], ['liao', ['completed']], ['low', []], ['keys', ['completed']], ['ji', []], ['dao', []], ['st', []], ['low', []], ['high', []], ['preare', []], ['etag', []], ['imdidnt', []], ['didntcall', []], ['back', []], ['till', []], ['ordgg', []], ['ggliao', []], ['liaoxd', []]]\n",
      "['sian', ['confirm']]\n",
      "['confirm', ['sian']]\n",
      "['yrs', []]\n",
      "['old', []]\n",
      "['liao', ['completed']]\n",
      "['low', []]\n",
      "['keys', ['completed']]\n",
      "['ji', []]\n",
      "['dao', []]\n",
      "['st', []]\n",
      "['low', []]\n",
      "['high', []]\n",
      "['preare', []]\n",
      "['etag', []]\n",
      "['imdidnt', []]\n",
      "['didntcall', []]\n",
      "['back', []]\n",
      "['till', []]\n",
      "['ordgg', []]\n",
      "['ggliao', []]\n",
      "['liaoxd', []]\n",
      "Review Number :  282\n"
     ]
    },
    {
     "name": "stderr",
     "output_type": "stream",
     "text": [
      "\r",
      "  8%|██████▌                                                                        | 283/3390 [02:43<35:14,  1.47it/s]"
     ]
    },
    {
     "name": "stdout",
     "output_type": "stream",
     "text": [
      "[['depends', []], ['mateippt', ['is']], ['extra', []], ['gold', ['he', 'way']], ['way', ['gold', 'sleeping']], ['siong', ['workoutside']], ['ict', ['sleeping']], ['almost', []], ['sleeping', ['ict', 'way']], ['way', ['gold', 'sleeping']]]\n",
      "['depends', []]\n",
      "['mateippt', ['is']]\n",
      "['extra', []]\n",
      "['gold', ['he', 'way']]\n",
      "['way', ['gold', 'sleeping']]\n",
      "['siong', ['workoutside']]\n",
      "['ict', ['sleeping']]\n",
      "['almost', []]\n",
      "['sleeping', ['ict', 'way']]\n",
      "['way', ['gold', 'sleeping']]\n",
      "Review Number :  283\n"
     ]
    },
    {
     "name": "stderr",
     "output_type": "stream",
     "text": [
      "\r",
      "  8%|██████▌                                                                        | 284/3390 [02:44<30:48,  1.68it/s]"
     ]
    },
    {
     "name": "stdout",
     "output_type": "stream",
     "text": [
      "[['good', []], ['serve', ['reservist']], ['reservist', ['serve']], ['later', []], ['yr', []], ['old', []], ['start', ['ict']], ['first', []], ['ict', ['start']]]\n",
      "['good', []]\n",
      "['serve', ['reservist']]\n",
      "['reservist', ['serve']]\n",
      "['later', []]\n",
      "['yr', []]\n",
      "['old', []]\n",
      "['start', ['ict']]\n",
      "['first', []]\n",
      "['ict', ['start']]\n",
      "Review Number :  284\n"
     ]
    },
    {
     "name": "stderr",
     "output_type": "stream",
     "text": [
      "\r",
      "  8%|██████▋                                                                        | 285/3390 [02:44<25:05,  2.06it/s]"
     ]
    },
    {
     "name": "stdout",
     "output_type": "stream",
     "text": [
      "[['kind', ['you']], ['pass', ['who']], ['ippt', []]]\n",
      "['kind', ['you']]\n",
      "['pass', ['who']]\n",
      "['ippt', []]\n",
      "Review Number :  285\n"
     ]
    },
    {
     "name": "stderr",
     "output_type": "stream",
     "text": [
      "\r",
      "  8%|██████▋                                                                        | 286/3390 [02:44<21:57,  2.36it/s]"
     ]
    },
    {
     "name": "stdout",
     "output_type": "stream",
     "text": [
      "[['long', []], ['service', []], ['medals', ['received']]]\n",
      "['long', []]\n",
      "['service', []]\n",
      "['medals', ['received']]\n",
      "Review Number :  286\n"
     ]
    },
    {
     "name": "stderr",
     "output_type": "stream",
     "text": [
      "\r",
      "  8%|██████▋                                                                        | 287/3390 [02:44<20:16,  2.55it/s]"
     ]
    },
    {
     "name": "stdout",
     "output_type": "stream",
     "text": [
      "[['spy', ['i', 'wifmoi']], ['wifmoi', ['spy']], ['moieye', ['birdy']], ['birdy', ['moieye']], ['year', []], ['old', []], ['thread', ['necroed']]]\n",
      "['spy', ['i', 'wifmoi']]\n",
      "['wifmoi', ['spy']]\n",
      "['moieye', ['birdy']]\n",
      "['birdy', ['moieye']]\n",
      "['year', []]\n",
      "['old', []]\n",
      "['thread', ['necroed']]\n",
      "Review Number :  287\n"
     ]
    },
    {
     "name": "stderr",
     "output_type": "stream",
     "text": [
      "\r",
      "  8%|██████▋                                                                        | 288/3390 [02:45<27:14,  1.90it/s]"
     ]
    },
    {
     "name": "stdout",
     "output_type": "stream",
     "text": [
      "[['talk', ['you']], ['unfair', []], ['foreigners', []], ['nothing', ['did']], ['peace', ['enjoying']], ['prosperity', []], ['jobsecurity', []], ['jobs', []], ['expenses', []]]\n",
      "['talk', ['you']]\n",
      "['unfair', []]\n",
      "['foreigners', []]\n",
      "['nothing', ['did']]\n",
      "['peace', ['enjoying']]\n",
      "['prosperity', []]\n",
      "['jobsecurity', []]\n",
      "['jobs', []]\n",
      "['expenses', []]\n",
      "Review Number :  288\n"
     ]
    },
    {
     "name": "stderr",
     "output_type": "stream",
     "text": [
      "\r",
      "  9%|██████▋                                                                        | 289/3390 [02:46<25:04,  2.06it/s]"
     ]
    },
    {
     "name": "stdout",
     "output_type": "stream",
     "text": [
      "[['anyonereach', []], ['never', []], ['letter', ['received']], ['mindef', []]]\n",
      "['anyonereach', []]\n",
      "['never', []]\n",
      "['letter', ['received']]\n",
      "['mindef', []]\n",
      "Review Number :  289\n"
     ]
    },
    {
     "name": "stderr",
     "output_type": "stream",
     "text": [
      "\r",
      "  9%|██████▊                                                                        | 290/3390 [02:46<25:51,  2.00it/s]"
     ]
    },
    {
     "name": "stdout",
     "output_type": "stream",
     "text": [
      "[['years', ['old']], ['old', ['years']], ['appt', ['they', 'holders']], ['holders', ['appt']], ['early', []], ['late', []], ['back', []], ['briefings', []], ['meeting', ['meant']], ['stuffs', []]]\n",
      "['years', ['old']]\n",
      "['old', ['years']]\n",
      "['appt', ['they', 'holders']]\n",
      "['holders', ['appt']]\n",
      "['early', []]\n",
      "['late', []]\n",
      "['back', []]\n",
      "['briefings', []]\n",
      "['meeting', ['meant']]\n",
      "['stuffs', []]\n",
      "Review Number :  290\n"
     ]
    },
    {
     "name": "stderr",
     "output_type": "stream",
     "text": [
      "\r",
      "  9%|██████▊                                                                        | 291/3390 [02:47<27:29,  1.88it/s]"
     ]
    },
    {
     "name": "stdout",
     "output_type": "stream",
     "text": [
      "[['basketsaf', ['sent']], ['letter', ['sent']], ['collect', ['medal']], ['good', []], ['service', []], ['many', []], ['medals', ['want']], ['give', ['me']]]\n",
      "['basketsaf', ['sent']]\n",
      "['letter', ['sent']]\n",
      "['collect', ['medal']]\n",
      "['good', []]\n",
      "['service', []]\n",
      "['many', []]\n",
      "['medals', ['want']]\n",
      "['give', ['me']]\n",
      "Review Number :  291\n"
     ]
    },
    {
     "name": "stderr",
     "output_type": "stream",
     "text": [
      "\r",
      "  9%|██████▊                                                                        | 292/3390 [02:48<37:47,  1.37it/s]"
     ]
    },
    {
     "name": "stdout",
     "output_type": "stream",
     "text": [
      "[['award', ['they', 'they', 'forces']], ['singapore', []], ['forces', ['award']], ['national', []], ['service', []], ['years', []], ['resources', ['wasting']], ['time', []], ['award', ['they', 'they', 'forces']], ['singapore', []], ['armed', []], ['forces', ['award']], ['national', []], ['servicemedal', []], ['yearclasp', []], ['benefits', ['happy']], ['happy', ['benefits']], ['cause', []], ['right', []], ['earn', ['you', 'it']]]\n",
      "['award', ['they', 'they', 'forces']]\n",
      "['singapore', []]\n",
      "['forces', ['award']]\n",
      "['national', []]\n",
      "['service', []]\n",
      "['years', []]\n",
      "['resources', ['wasting']]\n",
      "['time', []]\n",
      "['award', ['they', 'they', 'forces']]\n",
      "['singapore', []]\n",
      "['armed', []]\n",
      "['forces', ['award']]\n",
      "['national', []]\n",
      "['servicemedal', []]\n",
      "['yearclasp', []]\n",
      "['benefits', ['happy']]\n",
      "['happy', ['benefits']]\n",
      "['cause', []]\n",
      "['right', []]\n",
      "['earn', ['you', 'it']]\n",
      "Review Number :  292\n"
     ]
    },
    {
     "name": "stderr",
     "output_type": "stream",
     "text": [
      "\r",
      "  9%|██████▊                                                                        | 293/3390 [02:48<32:44,  1.58it/s]"
     ]
    },
    {
     "name": "stdout",
     "output_type": "stream",
     "text": [
      "[['cork', []], ['ups', ['happen']], ['ict', []], ['mates', []], ['yearmedal', []], ['medaltwice', ['gotten']]]\n",
      "['cork', []]\n",
      "['ups', ['happen']]\n",
      "['ict', []]\n",
      "['mates', []]\n",
      "['yearmedal', []]\n",
      "['medaltwice', ['gotten']]\n",
      "Review Number :  293\n"
     ]
    },
    {
     "name": "stderr",
     "output_type": "stream",
     "text": [
      "\r",
      "  9%|██████▊                                                                        | 294/3390 [02:49<27:02,  1.91it/s]"
     ]
    },
    {
     "name": "stdout",
     "output_type": "stream",
     "text": [
      "[['skip', ['they', 'yearmedal']]]\n",
      "['skip', ['they', 'yearmedal']]\n",
      "Review Number :  294\n"
     ]
    },
    {
     "name": "stderr",
     "output_type": "stream",
     "text": [
      "\r",
      "  9%|██████▊                                                                        | 295/3390 [02:49<24:14,  2.13it/s]"
     ]
    },
    {
     "name": "stdout",
     "output_type": "stream",
     "text": [
      "[['nice', ['try']], ['try', ['nice']], ['year', []], ['th', []], ['ict', []], ['second', []], ['year', []], ['thict', []]]\n",
      "['nice', ['try']]\n",
      "['try', ['nice']]\n",
      "['year', []]\n",
      "['th', []]\n",
      "['ict', []]\n",
      "['second', []]\n",
      "['year', []]\n",
      "['thict', []]\n",
      "Review Number :  295\n"
     ]
    },
    {
     "name": "stderr",
     "output_type": "stream",
     "text": [
      "\r",
      "  9%|██████▉                                                                        | 296/3390 [02:51<53:47,  1.04s/it]"
     ]
    },
    {
     "name": "stdout",
     "output_type": "stream",
     "text": [
      "[['wose', ['liable']], ['liable', ['wose', 'officers']], ['ns', []], ['call', []], ['ups', []], ['ippt', []], ['statutory', []], ['age', ['occurs']], ['nsmen', ['managed']], ['clock', []], ['hk', []], ['years', []], ['mindef', []], ['reserves', []], ['rather', []], ['means', ['exns']], ['rdhome', []], ['awards', []], ['officers', ['liable']], ['liable', ['wose', 'officers']], ['ns', []], ['call', []], ['ups', []], ['ippt', []], ['statutory', []], ['age', ['occurs']], ['clock', []], ['hk', []], ['years', []], ['officers', ['liable']], ['however', []], ['statutory', []], ['agecease', ['turning']], ['meaning', []], ['turn', ['they']], ['yet', []], ['mr', []], ['still', []], ['eligible', ['they']], ['ippt', []]]\n",
      "['wose', ['liable']]\n",
      "['liable', ['wose', 'officers']]\n",
      "['ns', []]\n",
      "['call', []]\n",
      "['ups', []]\n",
      "['ippt', []]\n",
      "['statutory', []]\n",
      "['age', ['occurs']]\n",
      "['nsmen', ['managed']]\n",
      "['clock', []]\n",
      "['hk', []]\n",
      "['years', []]\n",
      "['mindef', []]\n",
      "['reserves', []]\n",
      "['rather', []]\n",
      "['means', ['exns']]\n",
      "['rdhome', []]\n",
      "['awards', []]\n",
      "['officers', ['liable']]\n",
      "['liable', ['wose', 'officers']]\n",
      "['ns', []]\n",
      "['call', []]\n",
      "['ups', []]\n",
      "['ippt', []]\n",
      "['statutory', []]\n",
      "['age', ['occurs']]\n",
      "['clock', []]\n",
      "['hk', []]\n",
      "['years', []]\n",
      "['officers', ['liable']]\n",
      "['however', []]\n",
      "['statutory', []]\n",
      "['agecease', ['turning']]\n",
      "['meaning', []]\n",
      "['turn', ['they']]\n",
      "['yet', []]\n",
      "['mr', []]\n",
      "['still', []]\n",
      "['eligible', ['they']]\n",
      "['ippt', []]\n",
      "Review Number :  296\n"
     ]
    },
    {
     "name": "stderr",
     "output_type": "stream",
     "text": [
      "\r",
      "  9%|██████▉                                                                        | 297/3390 [02:52<46:03,  1.12it/s]"
     ]
    },
    {
     "name": "stdout",
     "output_type": "stream",
     "text": [
      "[['base', ['they', 'age']], ['age', ['base']], ['financial', []], ['year', []], ['date', []], ['birth', []], ['individual', []]]\n",
      "['base', ['they', 'age']]\n",
      "['age', ['base']]\n",
      "['financial', []]\n",
      "['year', []]\n",
      "['date', []]\n",
      "['birth', []]\n",
      "['individual', []]\n",
      "Review Number :  297\n"
     ]
    },
    {
     "name": "stderr",
     "output_type": "stream",
     "text": [
      "\r",
      "  9%|██████▉                                                                        | 298/3390 [02:53<42:57,  1.20it/s]"
     ]
    },
    {
     "name": "stdout",
     "output_type": "stream",
     "text": [
      "[['dob', []], ['callup', ['got']], ['date', []], ['thbirthday', []], ['call', []], ['clarify', []]]\n",
      "['dob', []]\n",
      "['callup', ['got']]\n",
      "['date', []]\n",
      "['thbirthday', []]\n",
      "['call', []]\n",
      "['clarify', []]\n",
      "Review Number :  298\n"
     ]
    },
    {
     "name": "stderr",
     "output_type": "stream",
     "text": [
      "\r",
      "  9%|██████▉                                                                        | 299/3390 [02:53<33:49,  1.52it/s]"
     ]
    },
    {
     "name": "stdout",
     "output_type": "stream",
     "text": [
      "[['base', []], ['dob', []]]\n",
      "['base', []]\n",
      "['dob', []]\n",
      "Review Number :  299\n"
     ]
    },
    {
     "name": "stderr",
     "output_type": "stream",
     "text": [
      "\r",
      "  9%|██████▉                                                                        | 300/3390 [02:54<32:57,  1.56it/s]"
     ]
    },
    {
     "name": "stdout",
     "output_type": "stream",
     "text": [
      "[['thank', ['you']], ['cause', []], ['regular', []], ['still', []], ['reservists', ['serving']]]\n",
      "['thank', ['you']]\n",
      "['cause', []]\n",
      "['regular', []]\n",
      "['still', []]\n",
      "['reservists', ['serving']]\n",
      "Review Number :  300\n"
     ]
    },
    {
     "name": "stderr",
     "output_type": "stream",
     "text": [
      "\r",
      "  9%|███████                                                                        | 301/3390 [02:54<28:30,  1.81it/s]"
     ]
    },
    {
     "name": "stdout",
     "output_type": "stream",
     "text": [
      "[['normally', []], ['fully', []], ['age', []], ['u', ['officerranking']], ['officerranking', ['u']]]\n",
      "['normally', []]\n",
      "['fully', []]\n",
      "['age', []]\n",
      "['u', ['officerranking']]\n",
      "['officerranking', ['u']]\n",
      "Review Number :  301\n"
     ]
    },
    {
     "name": "stderr",
     "output_type": "stream",
     "text": [
      "\r",
      "  9%|███████                                                                        | 302/3390 [02:55<30:50,  1.67it/s]"
     ]
    },
    {
     "name": "stdout",
     "output_type": "stream",
     "text": [
      "[['anyone', ['activate']], ['whoms', ['done']], ['ord', ['done']], ['never', []], ['icti', ['done']], ['activate', ['anyone']], ['ict', ['doing']], ['peer', ['doing']], ['ict', ['doing']], ['even', []], ['ord', ['done']], ['also', []], ['stict', ['done']]]\n",
      "['anyone', ['activate']]\n",
      "['whoms', ['done']]\n",
      "['ord', ['done']]\n",
      "['never', []]\n",
      "['icti', ['done']]\n",
      "['activate', ['anyone']]\n",
      "['ict', ['doing']]\n",
      "['peer', ['doing']]\n",
      "['ict', ['doing']]\n",
      "['even', []]\n",
      "['ord', ['done']]\n",
      "['also', []]\n",
      "['stict', ['done']]\n",
      "Review Number :  302\n"
     ]
    },
    {
     "name": "stderr",
     "output_type": "stream",
     "text": [
      "\r",
      "  9%|███████                                                                        | 303/3390 [02:55<30:47,  1.67it/s]"
     ]
    },
    {
     "name": "stdout",
     "output_type": "stream",
     "text": [
      "[['think', ['i']], ['unit', ['see']], ['pretty', []], ['active', []], ['atec', []], ['get', []], ['quite', []], ['often', []], ['ns', []], ['vocation', ['whats']]]\n",
      "['think', ['i']]\n",
      "['unit', ['see']]\n",
      "['pretty', []]\n",
      "['active', []]\n",
      "['atec', []]\n",
      "['get', []]\n",
      "['quite', []]\n",
      "['often', []]\n",
      "['ns', []]\n",
      "['vocation', ['whats']]\n",
      "Review Number :  303\n"
     ]
    },
    {
     "name": "stderr",
     "output_type": "stream",
     "text": [
      "\r",
      "  9%|███████                                                                        | 304/3390 [02:57<53:18,  1.04s/it]"
     ]
    },
    {
     "name": "stdout",
     "output_type": "stream",
     "text": [
      "[['depends', []], ['unit', ['have']], ['vocationi', []], ['list', []], ['years', []], ['ippt', ['ord']], ['mob', ['manning']], ['ict', ['manning']], ['active', []], ['unit', ['have']], ['vacancy', ['have']], ['saf', ['i']], ['th', []], ['year', []], ['year', []], ['also', []], ['liao', ['received']], ['mrcert', ['received']], ['last', []], ['year', []], ['yet', []], ['yo', ['curious']], ['curious', ['yo']], ['chances', ['call']], ['ict', ['manning']], ['fbo', ['taking']], ['uniforms', []], ['spacelor', ['taking']], ['bring', []], ['emart', []], ['drop', []], ['redminote', []], ['gagt', []]]\n",
      "['depends', []]\n",
      "['unit', ['have']]\n",
      "['vocationi', []]\n",
      "['list', []]\n",
      "['years', []]\n",
      "['ippt', ['ord']]\n",
      "['mob', ['manning']]\n",
      "['ict', ['manning']]\n",
      "['active', []]\n",
      "['unit', ['have']]\n",
      "['vacancy', ['have']]\n",
      "['saf', ['i']]\n",
      "['th', []]\n",
      "['year', []]\n",
      "['year', []]\n",
      "['also', []]\n",
      "['liao', ['received']]\n",
      "['mrcert', ['received']]\n",
      "['last', []]\n",
      "['year', []]\n",
      "['yet', []]\n",
      "['yo', ['curious']]\n",
      "['curious', ['yo']]\n",
      "['chances', ['call']]\n",
      "['ict', ['manning']]\n",
      "['fbo', ['taking']]\n",
      "['uniforms', []]\n",
      "['spacelor', ['taking']]\n",
      "['bring', []]\n",
      "['emart', []]\n",
      "['drop', []]\n",
      "['redminote', []]\n",
      "['gagt', []]\n",
      "Review Number :  304\n"
     ]
    },
    {
     "name": "stderr",
     "output_type": "stream",
     "text": [
      "\r",
      "  9%|███████                                                                        | 305/3390 [02:58<46:11,  1.11it/s]"
     ]
    },
    {
     "name": "stdout",
     "output_type": "stream",
     "text": [
      "[['pass', []], ['call', ['they', 'u']], ['u', ['call', 'finished']], ['anything', []], ['u', ['call', 'finished']], ['cycles', ['finished']], ['statutory', []], ['legislationu', []]]\n",
      "['pass', []]\n",
      "['call', ['they', 'u']]\n",
      "['u', ['call', 'finished']]\n",
      "['anything', []]\n",
      "['u', ['call', 'finished']]\n",
      "['cycles', ['finished']]\n",
      "['statutory', []]\n",
      "['legislationu', []]\n",
      "Review Number :  305\n"
     ]
    },
    {
     "name": "stderr",
     "output_type": "stream",
     "text": [
      "\r",
      "  9%|███████▏                                                                       | 306/3390 [02:58<35:46,  1.44it/s]"
     ]
    },
    {
     "name": "stdout",
     "output_type": "stream",
     "text": [
      "[['return', ['that']]]\n",
      "['return', ['that']]\n",
      "Review Number :  306\n"
     ]
    },
    {
     "name": "stderr",
     "output_type": "stream",
     "text": [
      "\r",
      "  9%|███████▏                                                                       | 307/3390 [03:00<51:54,  1.01s/it]"
     ]
    },
    {
     "name": "stdout",
     "output_type": "stream",
     "text": [
      "[['active', []], ['battalions', []], ['days', []], ['likely', []], ['start', ['you', 'reservist']], ['reservist', ['start']], ['soon', []], ['year', []], ['ord', []], ['sure', []], ['active', []], ['brigades', []], ['last', []], ['time', []], ['nsf', []], ['days', []], ['active', []], ['personnel', ['i']], ['reservistbrigade', []], ['list', []], ['years', []], ['icts', ['done']], ['year', []], ['timei', []]]\n",
      "['active', []]\n",
      "['battalions', []]\n",
      "['days', []]\n",
      "['likely', []]\n",
      "['start', ['you', 'reservist']]\n",
      "['reservist', ['start']]\n",
      "['soon', []]\n",
      "['year', []]\n",
      "['ord', []]\n",
      "['sure', []]\n",
      "['active', []]\n",
      "['brigades', []]\n",
      "['last', []]\n",
      "['time', []]\n",
      "['nsf', []]\n",
      "['days', []]\n",
      "['active', []]\n",
      "['personnel', ['i']]\n",
      "['reservistbrigade', []]\n",
      "['list', []]\n",
      "['years', []]\n",
      "['icts', ['done']]\n",
      "['year', []]\n",
      "['timei', []]\n",
      "Review Number :  307\n"
     ]
    },
    {
     "name": "stderr",
     "output_type": "stream",
     "text": [
      "\r",
      "  9%|██████▉                                                                      | 308/3390 [03:03<1:24:04,  1.64s/it]"
     ]
    },
    {
     "name": "stdout",
     "output_type": "stream",
     "text": [
      "[['possible', []], ['unit', ['able']], ['arrange', ['icts', 'icts']], ['icts', ['arrange', 'have', 'arrange']], ['clock', ['cycles']], ['cycles', ['clock', 'attending']], ['officers', []], ['carefully', []], ['safwork', []], ['april', ['workyear']], ['end', ['march']], ['march', ['end']], ['briefings', []], ['etc', []], ['fall', []], ['appropriate', []], ['months', []], ['nsmen', ['attending']], ['cycles', ['clock', 'attending']], ['turn', ['you', 'they']], ['last', []], ['cycle', []], ['sometimes', []], ['nsmens', ['it']], ['ict', ['defering', 'schedule']], ['sometimes', []], ['unitcouldnt', []], ['schedule', ['able', 'ict']], ['ict', ['defering', 'schedule']], ['year', []], ['personally', []], ['unit', ['able']], ['able', ['schedule', 'unit']], ['arrange', ['icts', 'icts']], ['icts', ['arrange', 'have', 'arrange']], ['nsmen', ['attending']], ['last', []], ['th', []], ['cycle', []], ['agelimit', ['reach']], ['next', []], ['battalionict', []], ['ictisnt', []], ['next', []], ['saf', []], ['year', []]]\n",
      "['possible', []]\n",
      "['unit', ['able']]\n",
      "['arrange', ['icts', 'icts']]\n",
      "['icts', ['arrange', 'have', 'arrange']]\n",
      "['clock', ['cycles']]\n",
      "['cycles', ['clock', 'attending']]\n",
      "['officers', []]\n",
      "['carefully', []]\n",
      "['safwork', []]\n",
      "['april', ['workyear']]\n",
      "['end', ['march']]\n",
      "['march', ['end']]\n",
      "['briefings', []]\n",
      "['etc', []]\n",
      "['fall', []]\n",
      "['appropriate', []]\n",
      "['months', []]\n",
      "['nsmen', ['attending']]\n",
      "['cycles', ['clock', 'attending']]\n",
      "['turn', ['you', 'they']]\n",
      "['last', []]\n",
      "['cycle', []]\n",
      "['sometimes', []]\n",
      "['nsmens', ['it']]\n",
      "['ict', ['defering', 'schedule']]\n",
      "['sometimes', []]\n",
      "['unitcouldnt', []]\n",
      "['schedule', ['able', 'ict']]\n",
      "['ict', ['defering', 'schedule']]\n",
      "['year', []]\n",
      "['personally', []]\n",
      "['unit', ['able']]\n",
      "['able', ['schedule', 'unit']]\n",
      "['arrange', ['icts', 'icts']]\n",
      "['icts', ['arrange', 'have', 'arrange']]\n",
      "['nsmen', ['attending']]\n",
      "['last', []]\n",
      "['th', []]\n",
      "['cycle', []]\n",
      "['agelimit', ['reach']]\n",
      "['next', []]\n",
      "['battalionict', []]\n",
      "['ictisnt', []]\n",
      "['next', []]\n",
      "['saf', []]\n",
      "['year', []]\n",
      "Review Number :  308\n"
     ]
    },
    {
     "name": "stderr",
     "output_type": "stream",
     "text": [
      "\r",
      "  9%|███████                                                                      | 309/3390 [03:04<1:10:51,  1.38s/it]"
     ]
    },
    {
     "name": "stdout",
     "output_type": "stream",
     "text": [
      "[['birthday', ['falls', 'falls']], ['april', []], ['still', []], ['possible', []], ['clock', ['i', 'cycles']], ['cycles', ['clock']], ['bad', []], ['birthday', ['falls', 'falls']], ['february', []], ['icts', ['keys']], ['high', []], ['keys', ['icts']]]\n",
      "['birthday', ['falls', 'falls']]\n",
      "['april', []]\n",
      "['still', []]\n",
      "['possible', []]\n",
      "['clock', ['i', 'cycles']]\n",
      "['cycles', ['clock']]\n",
      "['bad', []]\n",
      "['birthday', ['falls', 'falls']]\n",
      "['february', []]\n",
      "['icts', ['keys']]\n",
      "['high', []]\n",
      "['keys', ['icts']]\n",
      "Review Number :  309\n"
     ]
    },
    {
     "name": "stderr",
     "output_type": "stream",
     "text": [
      "\r",
      "  9%|███████                                                                      | 310/3390 [03:04<1:00:19,  1.18s/it]"
     ]
    },
    {
     "name": "stdout",
     "output_type": "stream",
     "text": [
      "[['yes', []], ['birthday', ['falls']], ['april', []], ['wont', []], ['able', ['you']], ['add', ['icts']], ['many', []], ['hk', []], ['icts', ['add']], ['complete', []], ['reach', ['cycles']], ['cycles', ['reach']]]\n",
      "['yes', []]\n",
      "['birthday', ['falls']]\n",
      "['april', []]\n",
      "['wont', []]\n",
      "['able', ['you']]\n",
      "['add', ['icts']]\n",
      "['many', []]\n",
      "['hk', []]\n",
      "['icts', ['add']]\n",
      "['complete', []]\n",
      "['reach', ['cycles']]\n",
      "['cycles', ['reach']]\n",
      "Review Number :  310\n"
     ]
    },
    {
     "name": "stderr",
     "output_type": "stream",
     "text": [
      "\r",
      "  9%|███████▏                                                                       | 311/3390 [03:05<47:58,  1.07it/s]"
     ]
    },
    {
     "name": "stdout",
     "output_type": "stream",
     "text": [
      "[['already', []], ['lk', ['served']], ['hk', []], ['icts', []], ['hk', []], ['icts', []]]\n",
      "['already', []]\n",
      "['lk', ['served']]\n",
      "['hk', []]\n",
      "['icts', []]\n",
      "['hk', []]\n",
      "['icts', []]\n",
      "Review Number :  311\n"
     ]
    },
    {
     "name": "stderr",
     "output_type": "stream",
     "text": [
      "\r",
      "  9%|███████▎                                                                       | 312/3390 [03:05<37:06,  1.38it/s]"
     ]
    },
    {
     "name": "stdout",
     "output_type": "stream",
     "text": [
      "[['hks', ['left']], ['already', []], ['close', ['you']]]\n",
      "['hks', ['left']]\n",
      "['already', []]\n",
      "['close', ['you']]\n",
      "Review Number :  312\n"
     ]
    },
    {
     "name": "stderr",
     "output_type": "stream",
     "text": [
      "\r",
      "  9%|███████▎                                                                       | 313/3390 [03:06<35:06,  1.46it/s]"
     ]
    },
    {
     "name": "stdout",
     "output_type": "stream",
     "text": [
      "[['matey', []], ['u', ['wrote']], ['soon', []], ['year', []], ['complete', ['i', 'hks']], ['hks', ['complete']], ['irod', []]]\n",
      "['matey', []]\n",
      "['u', ['wrote']]\n",
      "['soon', []]\n",
      "['year', []]\n",
      "['complete', ['i', 'hks']]\n",
      "['hks', ['complete']]\n",
      "['irod', []]\n",
      "Review Number :  313\n"
     ]
    },
    {
     "name": "stderr",
     "output_type": "stream",
     "text": [
      "\r",
      "  9%|███████▎                                                                       | 314/3390 [03:07<41:56,  1.22it/s]"
     ]
    },
    {
     "name": "stdout",
     "output_type": "stream",
     "text": [
      "[['yes', []], ['miss', ['you', 'cycle', 'you']], ['last', []], ['th', []], ['cycle', ['miss']], ['unit', ['scheduling', 'contacting']], ['isnt', []], ['scheduling', ['unit', 'icts']], ['icts', ['scheduling']], ['year', []], ['even', []], ['thcycle', []], ['unit', ['scheduling', 'contacting']], ['ask', ['them']], ['options', ['what']], ['feb', []], ['birth', []], ['month', []], ['hard', []], ['squeeze', []]]\n",
      "['yes', []]\n",
      "['miss', ['you', 'cycle', 'you']]\n",
      "['last', []]\n",
      "['th', []]\n",
      "['cycle', ['miss']]\n",
      "['unit', ['scheduling', 'contacting']]\n",
      "['isnt', []]\n",
      "['scheduling', ['unit', 'icts']]\n",
      "['icts', ['scheduling']]\n",
      "['year', []]\n",
      "['even', []]\n",
      "['thcycle', []]\n",
      "['unit', ['scheduling', 'contacting']]\n",
      "['ask', ['them']]\n",
      "['options', ['what']]\n",
      "['feb', []]\n",
      "['birth', []]\n",
      "['month', []]\n",
      "['hard', []]\n",
      "['squeeze', []]\n",
      "Review Number :  314\n"
     ]
    },
    {
     "name": "stderr",
     "output_type": "stream",
     "text": [
      "\r",
      "  9%|███████▎                                                                       | 315/3390 [03:07<37:09,  1.38it/s]"
     ]
    },
    {
     "name": "stdout",
     "output_type": "stream",
     "text": [
      "[['year', []], ['especially', []], ['thict', []], ['ictatec', []]]\n",
      "['year', []]\n",
      "['especially', []]\n",
      "['thict', []]\n",
      "['ictatec', []]\n",
      "Review Number :  315\n"
     ]
    },
    {
     "name": "stderr",
     "output_type": "stream",
     "text": [
      "\r",
      "  9%|███████▎                                                                       | 316/3390 [03:08<30:37,  1.67it/s]"
     ]
    },
    {
     "name": "stdout",
     "output_type": "stream",
     "text": [
      "[['count', ['it']], ['activity', []], ['workyear', []]]\n",
      "['count', ['it']]\n",
      "['activity', []]\n",
      "['workyear', []]\n",
      "Review Number :  316\n"
     ]
    },
    {
     "name": "stderr",
     "output_type": "stream",
     "text": [
      "\r",
      "  9%|███████▍                                                                       | 317/3390 [03:08<33:44,  1.52it/s]"
     ]
    },
    {
     "name": "stdout",
     "output_type": "stream",
     "text": [
      "[['tsi', ['completed']], ['never', []], ['yr', []], ['cycle', ['completed']], ['lk', []], ['years', []], ['full', []], ['time', []], ['ns', ['exitpermit']], ['cosi', ['exitpermit']], ['exitpermit', ['ns', 'cosi']], ['dont', []], ['call', ['they']], ['u', ['send', 'send', 'say']], ['already', []], ['u', ['send', 'send', 'say']], ['rodcertificate', ['send']], ['u', ['send', 'send', 'say']], ['goodbye', ['say']]]\n",
      "['tsi', ['completed']]\n",
      "['never', []]\n",
      "['yr', []]\n",
      "['cycle', ['completed']]\n",
      "['lk', []]\n",
      "['years', []]\n",
      "['full', []]\n",
      "['time', []]\n",
      "['ns', ['exitpermit']]\n",
      "['cosi', ['exitpermit']]\n",
      "['exitpermit', ['ns', 'cosi']]\n",
      "['dont', []]\n",
      "['call', ['they']]\n",
      "['u', ['send', 'send', 'say']]\n",
      "['already', []]\n",
      "['u', ['send', 'send', 'say']]\n",
      "['rodcertificate', ['send']]\n",
      "['u', ['send', 'send', 'say']]\n",
      "['goodbye', ['say']]\n",
      "Review Number :  317\n"
     ]
    },
    {
     "name": "stderr",
     "output_type": "stream",
     "text": [
      "\r",
      "  9%|███████▍                                                                       | 318/3390 [03:09<32:09,  1.59it/s]"
     ]
    },
    {
     "name": "stdout",
     "output_type": "stream",
     "text": [
      "[['uniform', ['keep']], ['always', []], ['chance', ['is']], ['call', ['they', 'u']], ['u', ['call', 'return']], ['long', []], ['u', ['call', 'return']], ['return', ['u']], ['uniform', ['keep']], ['pes', []]]\n",
      "['uniform', ['keep']]\n",
      "['always', []]\n",
      "['chance', ['is']]\n",
      "['call', ['they', 'u']]\n",
      "['u', ['call', 'return']]\n",
      "['long', []]\n",
      "['u', ['call', 'return']]\n",
      "['return', ['u']]\n",
      "['uniform', ['keep']]\n",
      "['pes', []]\n",
      "Review Number :  318\n"
     ]
    },
    {
     "name": "stderr",
     "output_type": "stream",
     "text": [
      "\r",
      "  9%|███████▍                                                                       | 319/3390 [03:09<28:41,  1.78it/s]"
     ]
    },
    {
     "name": "stdout",
     "output_type": "stream",
     "text": [
      "[['need', []], ['officer', ['you']], ['self', []], ['extend', ['service']], ['service', ['extend']]]\n",
      "['need', []]\n",
      "['officer', ['you']]\n",
      "['self', []]\n",
      "['extend', ['service']]\n",
      "['service', ['extend']]\n",
      "Review Number :  319\n"
     ]
    },
    {
     "name": "stderr",
     "output_type": "stream",
     "text": [
      "  9%|███████▍                                                                       | 321/3390 [03:10<20:09,  2.54it/s]"
     ]
    },
    {
     "name": "stdout",
     "output_type": "stream",
     "text": [
      "[['anyone', ['knows']], ['age', ['knows']], ['ageage', []]]\n",
      "['anyone', ['knows']]\n",
      "['age', ['knows']]\n",
      "['ageage', []]\n",
      "Review Number :  320\n",
      "[['years', []], ['age', []]]\n",
      "['years', []]\n",
      "['age', []]\n",
      "Review Number :  321\n"
     ]
    },
    {
     "name": "stderr",
     "output_type": "stream",
     "text": [
      "\r",
      "  9%|███████▌                                                                       | 322/3390 [03:10<19:26,  2.63it/s]"
     ]
    },
    {
     "name": "stdout",
     "output_type": "stream",
     "text": [
      "[['mai', []], ['lah', ['finish']], ['finish', ['volunteer', 'lah', 'yearcycle', 'siewgang']], ['yearcycle', ['finish']], ['cyclesiew', []], ['siewgang', ['finish']]]\n",
      "['mai', []]\n",
      "['lah', ['finish']]\n",
      "['finish', ['volunteer', 'lah', 'yearcycle', 'siewgang']]\n",
      "['yearcycle', ['finish']]\n",
      "['cyclesiew', []]\n",
      "['siewgang', ['finish']]\n",
      "Review Number :  322\n"
     ]
    },
    {
     "name": "stderr",
     "output_type": "stream",
     "text": [
      "\r",
      " 10%|███████▌                                                                       | 323/3390 [03:11<21:36,  2.37it/s]"
     ]
    },
    {
     "name": "stdout",
     "output_type": "stream",
     "text": [
      "[['kind', ['count']], ['activities', []], ['orns', []], ['havent', []], ['single', []], ['ict', ['done']], ['orns', []], ['year', []]]\n",
      "['kind', ['count']]\n",
      "['activities', []]\n",
      "['orns', []]\n",
      "['havent', []]\n",
      "['single', []]\n",
      "['ict', ['done']]\n",
      "['orns', []]\n",
      "['year', []]\n",
      "Review Number :  323\n"
     ]
    },
    {
     "name": "stderr",
     "output_type": "stream",
     "text": [
      "\r",
      " 10%|███████▌                                                                       | 324/3390 [03:11<20:49,  2.45it/s]"
     ]
    },
    {
     "name": "stdout",
     "output_type": "stream",
     "text": [
      "[['activity', []], ['ict', []], ['mobilisation', []], ['call', []], ['briefing', []]]\n",
      "['activity', []]\n",
      "['ict', []]\n",
      "['mobilisation', []]\n",
      "['call', []]\n",
      "['briefing', []]\n",
      "Review Number :  324\n"
     ]
    },
    {
     "name": "stderr",
     "output_type": "stream",
     "text": [
      "\r",
      " 10%|███████▌                                                                       | 325/3390 [03:11<20:07,  2.54it/s]"
     ]
    },
    {
     "name": "stdout",
     "output_type": "stream",
     "text": [
      "[['didnt', []], ['lol', []], ['somehow', []], ['orns', []], ['year', ['increasing']]]\n",
      "['didnt', []]\n",
      "['lol', []]\n",
      "['somehow', []]\n",
      "['orns', []]\n",
      "['year', ['increasing']]\n",
      "Review Number :  325\n",
      "[['check', ['cycle']], ['orns', []], ['cycle', ['check']]]"
     ]
    },
    {
     "name": "stderr",
     "output_type": "stream",
     "text": [
      "\r",
      " 10%|███████▌                                                                       | 326/3390 [03:12<17:20,  2.94it/s]"
     ]
    },
    {
     "name": "stdout",
     "output_type": "stream",
     "text": [
      "\n",
      "['check', ['cycle']]\n",
      "['orns', []]\n",
      "['cycle', ['check']]\n",
      "Review Number :  326\n"
     ]
    },
    {
     "name": "stderr",
     "output_type": "stream",
     "text": [
      "\r",
      " 10%|███████▌                                                                       | 327/3390 [03:12<18:51,  2.71it/s]"
     ]
    },
    {
     "name": "stdout",
     "output_type": "stream",
     "text": [
      "[['u', ['receive']], ['receive', ['u', 'saf']], ['saf', ['receive']], ['theres', ['documents']], ['documents', ['theres']], ['everyones', []], ['information', []], ['orns', []]]\n",
      "['u', ['receive']]\n",
      "['receive', ['u', 'saf']]\n",
      "['saf', ['receive']]\n",
      "['theres', ['documents']]\n",
      "['documents', ['theres']]\n",
      "['everyones', []]\n",
      "['information', []]\n",
      "['orns', []]\n",
      "Review Number :  327\n"
     ]
    },
    {
     "name": "stderr",
     "output_type": "stream",
     "text": [
      "\r",
      " 10%|███████▋                                                                       | 328/3390 [03:13<21:55,  2.33it/s]"
     ]
    },
    {
     "name": "stdout",
     "output_type": "stream",
     "text": [
      "[['anyone', ['lost']], ['ict', []], ['cycle', ['lost']], ['due', []], ['pandemic', []], ['wondering', []], ['mindef', ['count']], ['count', ['mindef', 'year']], ['year', ['count']], ['year', ['count']], ['cycle', ['lost']]]\n",
      "['anyone', ['lost']]\n",
      "['ict', []]\n",
      "['cycle', ['lost']]\n",
      "['due', []]\n",
      "['pandemic', []]\n",
      "['wondering', []]\n",
      "['mindef', ['count']]\n",
      "['count', ['mindef', 'year']]\n",
      "['year', ['count']]\n",
      "['year', ['count']]\n",
      "['cycle', ['lost']]\n",
      "Review Number :  328\n"
     ]
    },
    {
     "name": "stderr",
     "output_type": "stream",
     "text": [
      "\r",
      " 10%|███████▋                                                                       | 329/3390 [03:13<19:11,  2.66it/s]"
     ]
    },
    {
     "name": "stdout",
     "output_type": "stream",
     "text": [
      "[['others', ['are']], ['year', []], ['also', []]]\n",
      "['others', ['are']]\n",
      "['year', []]\n",
      "['also', []]\n",
      "Review Number :  329\n"
     ]
    },
    {
     "name": "stderr",
     "output_type": "stream",
     "text": [
      "\r",
      " 10%|███████▋                                                                       | 330/3390 [03:14<26:30,  1.92it/s]"
     ]
    },
    {
     "name": "stdout",
     "output_type": "stream",
     "text": [
      "[['still', []], ['lose', ['years']], ['years', ['lose', 'reaching']], ['able', ['i']], ['clear', ['cycles']], ['cycles', ['clear']], ['years', ['lose', 'reaching']], ['year', []], ['cant', []], ['orns', ['do']], ['due', []], ['pandemic', []]]\n",
      "['still', []]\n",
      "['lose', ['years']]\n",
      "['years', ['lose', 'reaching']]\n",
      "['able', ['i']]\n",
      "['clear', ['cycles']]\n",
      "['cycles', ['clear']]\n",
      "['years', ['lose', 'reaching']]\n",
      "['year', []]\n",
      "['cant', []]\n",
      "['orns', ['do']]\n",
      "['due', []]\n",
      "['pandemic', []]\n",
      "Review Number :  330\n"
     ]
    },
    {
     "name": "stderr",
     "output_type": "stream",
     "text": [
      "\r",
      " 10%|███████▋                                                                       | 331/3390 [03:14<23:57,  2.13it/s]"
     ]
    },
    {
     "name": "stdout",
     "output_type": "stream",
     "text": [
      "[['ns', []], ['obligation', ['create']], ['create', ['obligation']], ['wouldnt', []]]\n",
      "['ns', []]\n",
      "['obligation', ['create']]\n",
      "['create', ['obligation']]\n",
      "['wouldnt', []]\n",
      "Review Number :  331\n"
     ]
    },
    {
     "name": "stderr",
     "output_type": "stream",
     "text": [
      "\r",
      " 10%|███████▋                                                                       | 332/3390 [03:14<23:13,  2.19it/s]"
     ]
    },
    {
     "name": "stdout",
     "output_type": "stream",
     "text": [
      "[['thatbut', ['lose']], ['lose', ['thatbut', 'cpfbonus']], ['cpfbonus', ['lose']], ['orns', ['completing']], ['concern', ['that']]]\n",
      "['thatbut', ['lose']]\n",
      "['lose', ['thatbut', 'cpfbonus']]\n",
      "['cpfbonus', ['lose']]\n",
      "['orns', ['completing']]\n",
      "['concern', ['that']]\n",
      "Review Number :  332\n"
     ]
    },
    {
     "name": "stderr",
     "output_type": "stream",
     "text": [
      "\r",
      " 10%|███████▊                                                                       | 333/3390 [03:15<25:11,  2.02it/s]"
     ]
    },
    {
     "name": "stdout",
     "output_type": "stream",
     "text": [
      "[['think', ['i', 'i']], ['need', []], ['mp', []], ['liao', ['go']], ['thats', []], ['concern', []]]\n",
      "['think', ['i', 'i']]\n",
      "['need', []]\n",
      "['mp', []]\n",
      "['liao', ['go']]\n",
      "['thats', []]\n",
      "['concern', []]\n",
      "Review Number :  333\n"
     ]
    },
    {
     "name": "stderr",
     "output_type": "stream",
     "text": [
      "\r",
      " 10%|███████▊                                                                       | 334/3390 [03:16<26:20,  1.93it/s]"
     ]
    },
    {
     "name": "stdout",
     "output_type": "stream",
     "text": [
      "[['orn', []], ['cycle', ['doing']], ['clock', ['quota']], ['quota', ['clock']], ['clear', []], ['pandemic', []], ['latter', ['choose']]]\n",
      "['orn', []]\n",
      "['cycle', ['doing']]\n",
      "['clock', ['quota']]\n",
      "['quota', ['clock']]\n",
      "['clear', []]\n",
      "['pandemic', []]\n",
      "['latter', ['choose']]\n",
      "Review Number :  334\n"
     ]
    },
    {
     "name": "stderr",
     "output_type": "stream",
     "text": [
      "\r",
      " 10%|███████▊                                                                       | 335/3390 [03:16<24:00,  2.12it/s]"
     ]
    },
    {
     "name": "stdout",
     "output_type": "stream",
     "text": [
      "[['really', []], ['meh', []], ['ippt', []], ['also', []], ['ippt', []], ['last', []], ['years', []]]\n",
      "['really', []]\n",
      "['meh', []]\n",
      "['ippt', []]\n",
      "['also', []]\n",
      "['ippt', []]\n",
      "['last', []]\n",
      "['years', []]\n",
      "Review Number :  335\n"
     ]
    },
    {
     "name": "stderr",
     "output_type": "stream",
     "text": [
      "\r",
      " 10%|███████▊                                                                       | 336/3390 [03:17<24:37,  2.07it/s]"
     ]
    },
    {
     "name": "stdout",
     "output_type": "stream",
     "text": [
      "[['think', []], ['activities', []], ['towards', []], ['orns', []], ['activity', []], ['ippt', []], ['dayattendance', []]]\n",
      "['think', []]\n",
      "['activities', []]\n",
      "['towards', []]\n",
      "['orns', []]\n",
      "['activity', []]\n",
      "['ippt', []]\n",
      "['dayattendance', []]\n",
      "Review Number :  336\n"
     ]
    },
    {
     "name": "stderr",
     "output_type": "stream",
     "text": [
      " 10%|███████▉                                                                       | 338/3390 [03:17<18:55,  2.69it/s]"
     ]
    },
    {
     "name": "stdout",
     "output_type": "stream",
     "text": [
      "[['nsdotsg', ['manage']], ['eservices', []], ['callup', ['log']], ['log', ['callup']], ['check', []]]\n",
      "['nsdotsg', ['manage']]\n",
      "['eservices', []]\n",
      "['callup', ['log']]\n",
      "['log', ['callup']]\n",
      "['check', []]\n",
      "Review Number :  337\n",
      "[['u', ['go']], ['rt', []], ['sibo', []]]\n",
      "['u', ['go']]\n",
      "['rt', []]\n",
      "['sibo', []]\n",
      "Review Number :  338\n"
     ]
    },
    {
     "name": "stderr",
     "output_type": "stream",
     "text": [
      "\r",
      " 10%|███████▉                                                                       | 339/3390 [03:17<18:03,  2.82it/s]"
     ]
    },
    {
     "name": "stdout",
     "output_type": "stream",
     "text": [
      "[['oic', ['better']], ['much', []], ['last', []], ['timeliao', []]]\n",
      "['oic', ['better']]\n",
      "['much', []]\n",
      "['last', []]\n",
      "['timeliao', []]\n",
      "Review Number :  339\n"
     ]
    },
    {
     "name": "stderr",
     "output_type": "stream",
     "text": [
      "\r",
      " 10%|███████▉                                                                       | 340/3390 [03:19<41:54,  1.21it/s]"
     ]
    },
    {
     "name": "stdout",
     "output_type": "stream",
     "text": [
      "[['hmmi', ['think']], ['think', ['hmmi']], ['also', []], ['years', []], ['old', []], ['unit', ['operates']], ['need', ['i', 'i']], ['causei', ['passshooting']], ['ibobo', []], ['deployment', ['failed']], ['last', []], ['year', []], ['deployment', ['failed']], ['count', ['they', 'cyclefml', 'fmli']], ['cyclefml', ['count']], ['fmli', ['count']], ['ns', []], ['helpdesk', ['asking']], ['wait', ['i']], ['till', []], ['end', []], ['fy', []], ['years', []]]\n",
      "['hmmi', ['think']]\n",
      "['think', ['hmmi']]\n",
      "['also', []]\n",
      "['years', []]\n",
      "['old', []]\n",
      "['unit', ['operates']]\n",
      "['need', ['i', 'i']]\n",
      "['causei', ['passshooting']]\n",
      "['ibobo', []]\n",
      "['deployment', ['failed']]\n",
      "['last', []]\n",
      "['year', []]\n",
      "['deployment', ['failed']]\n",
      "['count', ['they', 'cyclefml', 'fmli']]\n",
      "['cyclefml', ['count']]\n",
      "['fmli', ['count']]\n",
      "['ns', []]\n",
      "['helpdesk', ['asking']]\n",
      "['wait', ['i']]\n",
      "['till', []]\n",
      "['end', []]\n",
      "['fy', []]\n",
      "['years', []]\n",
      "Review Number :  340\n"
     ]
    },
    {
     "name": "stderr",
     "output_type": "stream",
     "text": [
      "\r",
      " 10%|███████▉                                                                       | 341/3390 [03:20<33:23,  1.52it/s]"
     ]
    },
    {
     "name": "stdout",
     "output_type": "stream",
     "text": [
      "[['liddat', ['bo']], ['bo', ['liddat']], ['leh', []]]\n",
      "['liddat', ['bo']]\n",
      "['bo', ['liddat']]\n",
      "['leh', []]\n",
      "Review Number :  341\n",
      "[['needmr', []]]"
     ]
    },
    {
     "name": "stderr",
     "output_type": "stream",
     "text": [
      "\r",
      " 10%|███████▉                                                                       | 342/3390 [03:20<26:23,  1.92it/s]"
     ]
    },
    {
     "name": "stdout",
     "output_type": "stream",
     "text": [
      "\n",
      "['needmr', []]\n",
      "Review Number :  342\n"
     ]
    },
    {
     "name": "stderr",
     "output_type": "stream",
     "text": [
      "\r",
      " 10%|███████▉                                                                       | 343/3390 [03:21<36:49,  1.38it/s]"
     ]
    },
    {
     "name": "stdout",
     "output_type": "stream",
     "text": [
      "[['ya', []], ['lo', []], ['ah', []], ['good', ['escape']], ['escape', ['good']], ['work', []], ['maintenanceperiod', []], ['years', ['become']], ['old', []], ['bad', ['need']], ['need', ['bad']], ['ipptrt', ['take']], ['sian', []], ['platoonmate', ['rod']], ['eventually', []], ['also', []], ['years', ['become']], ['floater', []]]\n",
      "['ya', []]\n",
      "['lo', []]\n",
      "['ah', []]\n",
      "['good', ['escape']]\n",
      "['escape', ['good']]\n",
      "['work', []]\n",
      "['maintenanceperiod', []]\n",
      "['years', ['become']]\n",
      "['old', []]\n",
      "['bad', ['need']]\n",
      "['need', ['bad']]\n",
      "['ipptrt', ['take']]\n",
      "['sian', []]\n",
      "['platoonmate', ['rod']]\n",
      "['eventually', []]\n",
      "['also', []]\n",
      "['years', ['become']]\n",
      "['floater', []]\n",
      "Review Number :  343\n"
     ]
    },
    {
     "name": "stderr",
     "output_type": "stream",
     "text": [
      "\r",
      " 10%|████████                                                                       | 344/3390 [03:21<31:37,  1.60it/s]"
     ]
    },
    {
     "name": "stdout",
     "output_type": "stream",
     "text": [
      "[['u', ['done']], ['alrdy', []], ['hw', []], ['many', []], ['cycles', ['done']]]\n",
      "['u', ['done']]\n",
      "['alrdy', []]\n",
      "['hw', []]\n",
      "['many', []]\n",
      "['cycles', ['done']]\n",
      "Review Number :  344\n"
     ]
    },
    {
     "name": "stderr",
     "output_type": "stream",
     "text": [
      "\r",
      " 10%|████████                                                                       | 345/3390 [03:22<26:53,  1.89it/s]"
     ]
    },
    {
     "name": "stdout",
     "output_type": "stream",
     "text": [
      "[['actual', []]]\n",
      "['actual', []]\n",
      "Review Number :  345\n"
     ]
    },
    {
     "name": "stderr",
     "output_type": "stream",
     "text": [
      "\r",
      " 10%|████████                                                                       | 346/3390 [03:22<26:45,  1.90it/s]"
     ]
    },
    {
     "name": "stdout",
     "output_type": "stream",
     "text": [
      "[['cycles', []], ['u', ['left']], ['u', ['left']], ['hw', []], ['many', []], ['yrs', []], ['magic', ['hit']]]\n",
      "['cycles', []]\n",
      "['u', ['left']]\n",
      "['u', ['left']]\n",
      "['hw', []]\n",
      "['many', []]\n",
      "['yrs', []]\n",
      "['magic', ['hit']]\n",
      "Review Number :  346\n"
     ]
    },
    {
     "name": "stderr",
     "output_type": "stream",
     "text": [
      "\r",
      " 10%|████████                                                                       | 347/3390 [03:22<22:05,  2.30it/s]"
     ]
    },
    {
     "name": "stdout",
     "output_type": "stream",
     "text": [
      "[['wholesome', []], ['years', []]]\n",
      "['wholesome', []]\n",
      "['years', []]\n",
      "Review Number :  347\n"
     ]
    },
    {
     "name": "stderr",
     "output_type": "stream",
     "text": [
      "\r",
      " 10%|████████                                                                       | 348/3390 [03:23<23:22,  2.17it/s]"
     ]
    },
    {
     "name": "stdout",
     "output_type": "stream",
     "text": [
      "[['ok', []], ['lahagar', []], ['agaragar', []], ['u', ['dontdefer']], ['dontdefer', ['u']], ['knots', ['mr']], ['bah', []]]\n",
      "['ok', []]\n",
      "['lahagar', []]\n",
      "['agaragar', []]\n",
      "['u', ['dontdefer']]\n",
      "['dontdefer', ['u']]\n",
      "['knots', ['mr']]\n",
      "['bah', []]\n",
      "Review Number :  348\n"
     ]
    },
    {
     "name": "stderr",
     "output_type": "stream",
     "text": [
      "\r",
      " 10%|████████▏                                                                      | 349/3390 [03:23<23:52,  2.12it/s]"
     ]
    },
    {
     "name": "stdout",
     "output_type": "stream",
     "text": [
      "[['wah', []], ['tough', []], ['eh', []], ['guess', ['i']], ['back', []], ['bad', []], ['sometimes', []]]\n",
      "['wah', []]\n",
      "['tough', []]\n",
      "['eh', []]\n",
      "['guess', ['i']]\n",
      "['back', []]\n",
      "['bad', []]\n",
      "['sometimes', []]\n",
      "Review Number :  349\n"
     ]
    },
    {
     "name": "stderr",
     "output_type": "stream",
     "text": [
      "\r",
      " 10%|████████▏                                                                      | 350/3390 [03:24<22:54,  2.21it/s]"
     ]
    },
    {
     "name": "stdout",
     "output_type": "stream",
     "text": [
      "[['fair', []], ['back', []], ['reservists', []], ['pros', ['got']], ['cons', []]]\n",
      "['fair', []]\n",
      "['back', []]\n",
      "['reservists', []]\n",
      "['pros', ['got']]\n",
      "['cons', []]\n",
      "Review Number :  350\n"
     ]
    },
    {
     "name": "stderr",
     "output_type": "stream",
     "text": [
      "\r",
      " 10%|████████▏                                                                      | 351/3390 [03:24<22:29,  2.25it/s]"
     ]
    },
    {
     "name": "stdout",
     "output_type": "stream",
     "text": [
      "[['know', ['i']], ['r', []], ['pov', []]]\n",
      "['know', ['i']]\n",
      "['r', []]\n",
      "['pov', []]\n",
      "Review Number :  351\n"
     ]
    },
    {
     "name": "stderr",
     "output_type": "stream",
     "text": [
      "\r",
      " 10%|████████▏                                                                      | 352/3390 [03:25<19:32,  2.59it/s]"
     ]
    },
    {
     "name": "stdout",
     "output_type": "stream",
     "text": [
      "[['time', []], ['reservist', []]]\n",
      "['time', []]\n",
      "['reservist', []]\n",
      "Review Number :  352\n"
     ]
    },
    {
     "name": "stderr",
     "output_type": "stream",
     "text": [
      "\r",
      " 10%|████████▏                                                                      | 353/3390 [03:25<16:51,  3.00it/s]"
     ]
    },
    {
     "name": "stdout",
     "output_type": "stream",
     "text": [
      "[['u', []], ['white', []], ['horseah', []]]\n",
      "['u', []]\n",
      "['white', []]\n",
      "['horseah', []]\n",
      "Review Number :  353\n"
     ]
    },
    {
     "name": "stderr",
     "output_type": "stream",
     "text": [
      "\r",
      " 10%|████████▏                                                                      | 354/3390 [03:26<33:59,  1.49it/s]"
     ]
    },
    {
     "name": "stdout",
     "output_type": "stream",
     "text": [
      "[['hi', []], ['guys', ['questionim']], ['ippt', ['having']], ['thurs', []], ['last', []], ['booking', []], ['window', ['closes']], ['however', []], ['today', []], ['fever', ['have']], ['flu', []], ['recover', []], ['time', []], ['thurs', []], ['pti', ['tell']], ['fail', ['me']]]\n",
      "['hi', []]\n",
      "['guys', ['questionim']]\n",
      "['ippt', ['having']]\n",
      "['thurs', []]\n",
      "['last', []]\n",
      "['booking', []]\n",
      "['window', ['closes']]\n",
      "['however', []]\n",
      "['today', []]\n",
      "['fever', ['have']]\n",
      "['flu', []]\n",
      "['recover', []]\n",
      "['time', []]\n",
      "['thurs', []]\n",
      "['pti', ['tell']]\n",
      "['fail', ['me']]\n",
      "Review Number :  354\n"
     ]
    },
    {
     "name": "stderr",
     "output_type": "stream",
     "text": [
      " 11%|████████▎                                                                      | 356/3390 [03:27<21:43,  2.33it/s]"
     ]
    },
    {
     "name": "stdout",
     "output_type": "stream",
     "text": [
      "[['entercamp', []], ['pt', []], ['attire', []], ['cv', []]]\n",
      "['entercamp', []]\n",
      "['pt', []]\n",
      "['attire', []]\n",
      "['cv', []]\n",
      "Review Number :  355\n",
      "[['yes', []]]\n",
      "['yes', []]\n",
      "Review Number :  356\n"
     ]
    },
    {
     "name": "stderr",
     "output_type": "stream",
     "text": [
      "\r",
      " 11%|████████▎                                                                      | 357/3390 [03:27<22:36,  2.24it/s]"
     ]
    },
    {
     "name": "stdout",
     "output_type": "stream",
     "text": [
      "[['station', ['do']], ['walk', ['you']], ['way', []], ['dont', []], ['complete', []], ['attendance', []]]\n",
      "['station', ['do']]\n",
      "['walk', ['you']]\n",
      "['way', []]\n",
      "['dont', []]\n",
      "['complete', []]\n",
      "['attendance', []]\n",
      "Review Number :  357\n"
     ]
    },
    {
     "name": "stderr",
     "output_type": "stream",
     "text": [
      "\r",
      " 11%|████████▎                                                                      | 358/3390 [03:28<27:08,  1.86it/s]"
     ]
    },
    {
     "name": "stdout",
     "output_type": "stream",
     "text": [
      "[['finish', ['stations']], ['stations', ['finish']], ['otherwise', []], ['attendance', []], ['fail', ['ippt']], ['ippt', ['fail']], ['ur', []], ['attendance', []], ['still', []], ['medical', []], ['grounds', []], ['eg', []], ['cramps', []], ['faintetc', []]]\n",
      "['finish', ['stations']]\n",
      "['stations', ['finish']]\n",
      "['otherwise', []]\n",
      "['attendance', []]\n",
      "['fail', ['ippt']]\n",
      "['ippt', ['fail']]\n",
      "['ur', []]\n",
      "['attendance', []]\n",
      "['still', []]\n",
      "['medical', []]\n",
      "['grounds', []]\n",
      "['eg', []]\n",
      "['cramps', []]\n",
      "['faintetc', []]\n",
      "Review Number :  358\n"
     ]
    },
    {
     "name": "stderr",
     "output_type": "stream",
     "text": [
      "\r",
      " 11%|████████▎                                                                      | 359/3390 [03:29<34:40,  1.46it/s]"
     ]
    },
    {
     "name": "stdout",
     "output_type": "stream",
     "text": [
      "[['attempt', ['you']], ['ippt', []], ['charge', ['they', 'pti']], ['pti', ['charge']], ['u', ['fail', 'got', 'want']], ['stations', ['attempting']], ['rule', ['it']], ['suggestion', ['is']], ['u', ['fail', 'got', 'want']], ['mc', ['got']], ['u', ['fail', 'got', 'want']], ['want', ['u']], ['fail', ['u']], ['sit', ['pushup']], ['pushup', ['sit']], ['attendance', ['get']]]\n",
      "['attempt', ['you']]\n",
      "['ippt', []]\n",
      "['charge', ['they', 'pti']]\n",
      "['pti', ['charge']]\n",
      "['u', ['fail', 'got', 'want']]\n",
      "['stations', ['attempting']]\n",
      "['rule', ['it']]\n",
      "['suggestion', ['is']]\n",
      "['u', ['fail', 'got', 'want']]\n",
      "['mc', ['got']]\n",
      "['u', ['fail', 'got', 'want']]\n",
      "['want', ['u']]\n",
      "['fail', ['u']]\n",
      "['sit', ['pushup']]\n",
      "['pushup', ['sit']]\n",
      "['attendance', ['get']]\n",
      "Review Number :  359\n"
     ]
    },
    {
     "name": "stderr",
     "output_type": "stream",
     "text": [
      "\r",
      " 11%|████████▍                                                                      | 360/3390 [03:30<37:54,  1.33it/s]"
     ]
    },
    {
     "name": "stdout",
     "output_type": "stream",
     "text": [
      "[['producemc', []], ['u', ['supposed', 'have', 'charge']], ['ippt', ['take']], ['u', ['supposed', 'have', 'charge']], ['mc', ['have']], ['past', []], ['days', []], ['unit', ['charge']], ['still', []], ['u', ['supposed', 'have', 'charge']], ['satisfy', ['window']], ['window', ['satisfy']], ['warning', []], ['instead', []]]\n",
      "['producemc', []]\n",
      "['u', ['supposed', 'have', 'charge']]\n",
      "['ippt', ['take']]\n",
      "['u', ['supposed', 'have', 'charge']]\n",
      "['mc', ['have']]\n",
      "['past', []]\n",
      "['days', []]\n",
      "['unit', ['charge']]\n",
      "['still', []]\n",
      "['u', ['supposed', 'have', 'charge']]\n",
      "['satisfy', ['window']]\n",
      "['window', ['satisfy']]\n",
      "['warning', []]\n",
      "['instead', []]\n",
      "Review Number :  360\n"
     ]
    },
    {
     "name": "stderr",
     "output_type": "stream",
     "text": [
      "\r",
      " 11%|████████▍                                                                      | 361/3390 [03:30<30:59,  1.63it/s]"
     ]
    },
    {
     "name": "stdout",
     "output_type": "stream",
     "text": [
      "[['definition', []], ['cv', []], ['long', []], ['pantsjeans', []]]\n",
      "['definition', []]\n",
      "['cv', []]\n",
      "['long', []]\n",
      "['pantsjeans', []]\n",
      "Review Number :  361\n"
     ]
    },
    {
     "name": "stderr",
     "output_type": "stream",
     "text": [
      "\r",
      " 11%|████████▍                                                                      | 362/3390 [03:31<30:45,  1.64it/s]"
     ]
    },
    {
     "name": "stdout",
     "output_type": "stream",
     "text": [
      "[['yes', []], ['n', []], ['slippers', []], ['sandals', []], ['kind', []], ['attire', []], ['u', ['allowed']], ['bookin', []], ['camps', []], ['active', []], ['times', []]]\n",
      "['yes', []]\n",
      "['n', []]\n",
      "['slippers', []]\n",
      "['sandals', []]\n",
      "['kind', []]\n",
      "['attire', []]\n",
      "['u', ['allowed']]\n",
      "['bookin', []]\n",
      "['camps', []]\n",
      "['active', []]\n",
      "['times', []]\n",
      "Review Number :  362\n"
     ]
    },
    {
     "name": "stderr",
     "output_type": "stream",
     "text": [
      "\r",
      " 11%|████████▍                                                                      | 363/3390 [03:31<27:06,  1.86it/s]"
     ]
    },
    {
     "name": "stdout",
     "output_type": "stream",
     "text": [
      "[['pass', ['points', 'need']], ['points', ['pass']], ['incentive', ['got']], ['need', ['pass']], ['pass', ['points', 'need']], ['points', ['pass']], ['nsman', []]]\n",
      "['pass', ['points', 'need']]\n",
      "['points', ['pass']]\n",
      "['incentive', ['got']]\n",
      "['need', ['pass']]\n",
      "['pass', ['points', 'need']]\n",
      "['points', ['pass']]\n",
      "['nsman', []]\n",
      "Review Number :  363\n"
     ]
    },
    {
     "name": "stderr",
     "output_type": "stream",
     "text": [
      "\r",
      " 11%|████████▍                                                                      | 364/3390 [03:32<26:28,  1.90it/s]"
     ]
    },
    {
     "name": "stdout",
     "output_type": "stream",
     "text": [
      "[['money', []], ['pass', []], ['silverannd', []], ['gold', []], ['abovefor', []], ['commando', []], ['guards', []], ['diver', []]]\n",
      "['money', []]\n",
      "['pass', []]\n",
      "['silverannd', []]\n",
      "['gold', []]\n",
      "['abovefor', []]\n",
      "['commando', []]\n",
      "['guards', []]\n",
      "['diver', []]\n",
      "Review Number :  364\n"
     ]
    },
    {
     "name": "stderr",
     "output_type": "stream",
     "text": [
      "\r",
      " 11%|████████▌                                                                      | 365/3390 [03:32<26:39,  1.89it/s]"
     ]
    },
    {
     "name": "stdout",
     "output_type": "stream",
     "text": [
      "[['anyhow', []], ['u', ['go']], ['didnt', []], ['single', []], ['session', []], ['rt', []], ['first', []], ['time', []], ['offense', ['get']], ['next', []], ['window', ['get']], ['charge', []]]\n",
      "['anyhow', []]\n",
      "['u', ['go']]\n",
      "['didnt', []]\n",
      "['single', []]\n",
      "['session', []]\n",
      "['rt', []]\n",
      "['first', []]\n",
      "['time', []]\n",
      "['offense', ['get']]\n",
      "['next', []]\n",
      "['window', ['get']]\n",
      "['charge', []]\n",
      "Review Number :  365\n"
     ]
    },
    {
     "name": "stderr",
     "output_type": "stream",
     "text": [
      "\r",
      " 11%|████████▌                                                                      | 366/3390 [03:33<26:20,  1.91it/s]"
     ]
    },
    {
     "name": "stdout",
     "output_type": "stream",
     "text": [
      "[['dont', []], ['start', ['i', 'cycle']], ['ict', []], ['cycle', ['start']], ['th', []], ['birthday', []], ['mean', ['it']], ['confirm', ['i']], ['ippt', ['do']], ['years', []], ['old', []]]\n",
      "['dont', []]\n",
      "['start', ['i', 'cycle']]\n",
      "['ict', []]\n",
      "['cycle', ['start']]\n",
      "['th', []]\n",
      "['birthday', []]\n",
      "['mean', ['it']]\n",
      "['confirm', ['i']]\n",
      "['ippt', ['do']]\n",
      "['years', []]\n",
      "['old', []]\n",
      "Review Number :  366\n"
     ]
    },
    {
     "name": "stderr",
     "output_type": "stream",
     "text": [
      "\r",
      " 11%|████████▌                                                                      | 367/3390 [03:33<25:48,  1.95it/s]"
     ]
    },
    {
     "name": "stdout",
     "output_type": "stream",
     "text": [
      "[['u', []], ['ipptdefaulter', []], ['accordingly', []], ['eg', []], ['fine', []], ['etc', []]]\n",
      "['u', []]\n",
      "['ipptdefaulter', []]\n",
      "['accordingly', []]\n",
      "['eg', []]\n",
      "['fine', []]\n",
      "['etc', []]\n",
      "Review Number :  367\n"
     ]
    },
    {
     "name": "stderr",
     "output_type": "stream",
     "text": [
      "\r",
      " 11%|████████▌                                                                      | 368/3390 [03:34<24:36,  2.05it/s]"
     ]
    },
    {
     "name": "stdout",
     "output_type": "stream",
     "text": [
      "[['likely', []], ['yes', []], ['high', []], ['chances', []], ['able', ['u']], ['meet', []], ['hklk', []]]\n",
      "['likely', []]\n",
      "['yes', []]\n",
      "['high', []]\n",
      "['chances', []]\n",
      "['able', ['u']]\n",
      "['meet', []]\n",
      "['hklk', []]\n",
      "Review Number :  368\n"
     ]
    },
    {
     "name": "stderr",
     "output_type": "stream",
     "text": [
      "\r",
      " 11%|████████▌                                                                      | 369/3390 [03:34<26:54,  1.87it/s]"
     ]
    },
    {
     "name": "stdout",
     "output_type": "stream",
     "text": [
      "[['yo', []], ['guys', ['hows']], ['hows', ['guys', 'rt']], ['nowadays', []], ['super', []], ['shiong', []], ['mentally', []], ['physically', []]]\n",
      "['yo', []]\n",
      "['guys', ['hows']]\n",
      "['hows', ['guys', 'rt']]\n",
      "['nowadays', []]\n",
      "['super', []]\n",
      "['shiong', []]\n",
      "['mentally', []]\n",
      "['physically', []]\n",
      "Review Number :  369\n"
     ]
    },
    {
     "name": "stderr",
     "output_type": "stream",
     "text": [
      "\r",
      " 11%|████████▌                                                                      | 370/3390 [03:35<26:37,  1.89it/s]"
     ]
    },
    {
     "name": "stdout",
     "output_type": "stream",
     "text": [
      "[['nowadays', []], ['short', []], ['hourexercise', ['h']], ['last', []], ['time', ['h']], ['h', ['hourexercise', 'time']], ['exercise', []]]\n",
      "['nowadays', []]\n",
      "['short', []]\n",
      "['hourexercise', ['h']]\n",
      "['last', []]\n",
      "['time', ['h']]\n",
      "['h', ['hourexercise', 'time']]\n",
      "['exercise', []]\n",
      "Review Number :  370\n"
     ]
    },
    {
     "name": "stderr",
     "output_type": "stream",
     "text": [
      "\r",
      " 11%|████████▋                                                                      | 371/3390 [03:35<24:40,  2.04it/s]"
     ]
    },
    {
     "name": "stdout",
     "output_type": "stream",
     "text": [
      "[['definitely', []], ['shiong', []], ['bmt', []], ['saf', []], ['training', []]]\n",
      "['definitely', []]\n",
      "['shiong', []]\n",
      "['bmt', []]\n",
      "['saf', []]\n",
      "['training', []]\n",
      "Review Number :  371\n"
     ]
    },
    {
     "name": "stderr",
     "output_type": "stream",
     "text": [
      "\r",
      " 11%|████████▋                                                                      | 372/3390 [03:36<30:53,  1.63it/s]"
     ]
    },
    {
     "name": "stdout",
     "output_type": "stream",
     "text": [
      "[['hi', []], ['guys', ['attending']], ['last', []], ['high', []], ['key', ['attending']], ['feb', []], ['rod', []], ['still', []], ['rt', ['attend']], ['year', []], ['birthday', ['falls']], ['alot', []]]\n",
      "['hi', []]\n",
      "['guys', ['attending']]\n",
      "['last', []]\n",
      "['high', []]\n",
      "['key', ['attending']]\n",
      "['feb', []]\n",
      "['rod', []]\n",
      "['still', []]\n",
      "['rt', ['attend']]\n",
      "['year', []]\n",
      "['birthday', ['falls']]\n",
      "['alot', []]\n",
      "Review Number :  372\n"
     ]
    },
    {
     "name": "stderr",
     "output_type": "stream",
     "text": [
      "\r",
      " 11%|████████▋                                                                      | 373/3390 [03:38<57:56,  1.15s/it]"
     ]
    },
    {
     "name": "stdout",
     "output_type": "stream",
     "text": [
      "[['hey', []], ['guys', []], ['recently', []], ['first', []], ['iptippt', []], ['session', ['attended']], ['ipt', []], ['parkprogramme', []], ['programmei', []], ['ask', ['instructors']], ['cisco', []], ['instructors', ['ask']], ['program', []], ['dont', []], ['know', ['they']], ['company', []], ['nsportal', ['seem']], ['also', []], ['maintenance', []], ['anyone', ['has']], ['experience', ['has']], ['programme', ['attending']], ['example', []], ['meet', []], ['bay', []], ['also', []], ['issue', ['they', 'bands']], ['bands', ['issue']], ['generate', ['they', 'slip']], ['slip', ['generate']], ['attendance', []], ['many', []], ['thanks', []]]\n",
      "['hey', []]\n",
      "['guys', []]\n",
      "['recently', []]\n",
      "['first', []]\n",
      "['iptippt', []]\n",
      "['session', ['attended']]\n",
      "['ipt', []]\n",
      "['parkprogramme', []]\n",
      "['programmei', []]\n",
      "['ask', ['instructors']]\n",
      "['cisco', []]\n",
      "['instructors', ['ask']]\n",
      "['program', []]\n",
      "['dont', []]\n",
      "['know', ['they']]\n",
      "['company', []]\n",
      "['nsportal', ['seem']]\n",
      "['also', []]\n",
      "['maintenance', []]\n",
      "['anyone', ['has']]\n",
      "['experience', ['has']]\n",
      "['programme', ['attending']]\n",
      "['example', []]\n",
      "['meet', []]\n",
      "['bay', []]\n",
      "['also', []]\n",
      "['issue', ['they', 'bands']]\n",
      "['bands', ['issue']]\n",
      "['generate', ['they', 'slip']]\n",
      "['slip', ['generate']]\n",
      "['attendance', []]\n",
      "['many', []]\n",
      "['thanks', []]\n",
      "Review Number :  373\n"
     ]
    },
    {
     "name": "stderr",
     "output_type": "stream",
     "text": [
      "\r",
      " 11%|████████▍                                                                    | 374/3390 [03:41<1:25:30,  1.70s/it]"
     ]
    },
    {
     "name": "stdout",
     "output_type": "stream",
     "text": [
      "[['last', []], ['time', ['took']], ['iptinthepark', ['took']], ['regularly', []], ['jurong', []], ['park', []], ['mindef', ['removed']], ['location', ['removed']], ['due', []], ['low', []], ['attendance', ['update']], ['yes', []], ['fitnesscompany', []], ['usually', []], ['meetingpoint', []], ['temperature', ['take']], ['sign', ['attendencelist', 'attendancelist']], ['attendencelist', ['sign']], ['inpro', []], ['colour', []], ['band', ['is']], ['type', ['have']], ['trainingprogramme', []], ['session', []], ['examplecircuit', ['circuittraining']], ['trainingyoga', ['circuittraining']], ['endurance', []], ['etc', []], ['training', []], ['sign', ['attendencelist', 'attendancelist']], ['attendancelist', ['sign']], ['days', []], ['later', []], ['update', ['they', 'attendance']], ['attendance', ['update']], ['nssg', []]]\n",
      "['last', []]\n",
      "['time', ['took']]\n",
      "['iptinthepark', ['took']]\n",
      "['regularly', []]\n",
      "['jurong', []]\n",
      "['park', []]\n",
      "['mindef', ['removed']]\n",
      "['location', ['removed']]\n",
      "['due', []]\n",
      "['low', []]\n",
      "['attendance', ['update']]\n",
      "['yes', []]\n",
      "['fitnesscompany', []]\n",
      "['usually', []]\n",
      "['meetingpoint', []]\n",
      "['temperature', ['take']]\n",
      "['sign', ['attendencelist', 'attendancelist']]\n",
      "['attendencelist', ['sign']]\n",
      "['inpro', []]\n",
      "['colour', []]\n",
      "['band', ['is']]\n",
      "['type', ['have']]\n",
      "['trainingprogramme', []]\n",
      "['session', []]\n",
      "['examplecircuit', ['circuittraining']]\n",
      "['trainingyoga', ['circuittraining']]\n",
      "['endurance', []]\n",
      "['etc', []]\n",
      "['training', []]\n",
      "['sign', ['attendencelist', 'attendancelist']]\n",
      "['attendancelist', ['sign']]\n",
      "['days', []]\n",
      "['later', []]\n",
      "['update', ['they', 'attendance']]\n",
      "['attendance', ['update']]\n",
      "['nssg', []]\n",
      "Review Number :  374\n"
     ]
    },
    {
     "name": "stderr",
     "output_type": "stream",
     "text": [
      "\r",
      " 11%|████████▌                                                                    | 375/3390 [03:42<1:09:14,  1.38s/it]"
     ]
    },
    {
     "name": "stdout",
     "output_type": "stream",
     "text": [
      "[['find', ['i']], ['easier', []], ['earn', ['money']], ['money', ['earn']], ['older', []], ['age', []], ['maybe', []], ['due', []], ['requirements', []], ['sonyz', []], ['gagt', []]]\n",
      "['find', ['i']]\n",
      "['easier', []]\n",
      "['earn', ['money']]\n",
      "['money', ['earn']]\n",
      "['older', []]\n",
      "['age', []]\n",
      "['maybe', []]\n",
      "['due', []]\n",
      "['requirements', []]\n",
      "['sonyz', []]\n",
      "['gagt', []]\n",
      "Review Number :  375\n"
     ]
    },
    {
     "name": "stderr",
     "output_type": "stream",
     "text": [
      "\r",
      " 11%|████████▊                                                                      | 376/3390 [03:43<56:55,  1.13s/it]"
     ]
    },
    {
     "name": "stdout",
     "output_type": "stream",
     "text": [
      "[['hii', ['like']], ['ask', []], ['ippt', ['retake']], ['birthday', []]]\n",
      "['hii', ['like']]\n",
      "['ask', []]\n",
      "['ippt', ['retake']]\n",
      "['birthday', []]\n",
      "Review Number :  376\n"
     ]
    },
    {
     "name": "stderr",
     "output_type": "stream",
     "text": [
      "\r",
      " 11%|████████▊                                                                      | 377/3390 [03:43<48:10,  1.04it/s]"
     ]
    },
    {
     "name": "stdout",
     "output_type": "stream",
     "text": [
      "[['wow', []], ['still', []], ['thats', []], ['quite', []], ['thanks', []], ['alot', []], ['experience', ['sharing']]]\n",
      "['wow', []]\n",
      "['still', []]\n",
      "['thats', []]\n",
      "['quite', []]\n",
      "['thanks', []]\n",
      "['alot', []]\n",
      "['experience', ['sharing']]\n",
      "Review Number :  377\n"
     ]
    },
    {
     "name": "stderr",
     "output_type": "stream",
     "text": [
      "\r",
      " 11%|████████▊                                                                      | 378/3390 [03:43<39:30,  1.27it/s]"
     ]
    },
    {
     "name": "stdout",
     "output_type": "stream",
     "text": [
      "[['still', []], ['complete', ['rt']], ['next', []], ['cycle', []], ['thanks', []]]\n",
      "['still', []]\n",
      "['complete', ['rt']]\n",
      "['next', []]\n",
      "['cycle', []]\n",
      "['thanks', []]\n",
      "Review Number :  378\n",
      "[['definitely', []], ['yes', []]]"
     ]
    },
    {
     "name": "stderr",
     "output_type": "stream",
     "text": [
      "\r",
      " 11%|████████▊                                                                      | 379/3390 [03:44<30:20,  1.65it/s]"
     ]
    },
    {
     "name": "stdout",
     "output_type": "stream",
     "text": [
      "\n",
      "['definitely', []]\n",
      "['yes', []]\n",
      "Review Number :  379\n"
     ]
    },
    {
     "name": "stderr",
     "output_type": "stream",
     "text": [
      "\r",
      " 11%|████████▊                                                                      | 380/3390 [03:45<35:27,  1.41it/s]"
     ]
    },
    {
     "name": "stdout",
     "output_type": "stream",
     "text": [
      "[['u', ['take', 'are']], ['take', ['u', 'attempts']], ['unlimited', []], ['attempts', ['take']], ['u', ['take', 'are']], ['qualify', []], ['higher', []], ['awardpass', []], ['passw', []], ['incentives', []], ['gold', []], ['u', ['take', 'are']], ['additional', []], ['difference', []]]\n",
      "['u', ['take', 'are']]\n",
      "['take', ['u', 'attempts']]\n",
      "['unlimited', []]\n",
      "['attempts', ['take']]\n",
      "['u', ['take', 'are']]\n",
      "['qualify', []]\n",
      "['higher', []]\n",
      "['awardpass', []]\n",
      "['passw', []]\n",
      "['incentives', []]\n",
      "['gold', []]\n",
      "['u', ['take', 'are']]\n",
      "['additional', []]\n",
      "['difference', []]\n",
      "Review Number :  380\n"
     ]
    },
    {
     "name": "stderr",
     "output_type": "stream",
     "text": [
      "\r",
      " 11%|████████▉                                                                      | 381/3390 [03:47<53:40,  1.07s/it]"
     ]
    },
    {
     "name": "stdout",
     "output_type": "stream",
     "text": [
      "[['right', []], ['mrcycle', []], ['officially', []], ['april', []], ['year', []], ['due', []], ['saf', []], ['therefore', []], ['u', ['attended']], ['actually', []], ['required', []], ['attend', ['rts']], ['rts', ['attend']], ['quite', []], ['lenient', []], ['towards', []], ['cases', []], ['cyclei', []], ['curious', []], ['u', ['attended']], ['many', []], ['ns', []], ['cycles', ['attended']], ['info', []], ['u', ['attended']], ['peers', []], ['commanders', []]]\n",
      "['right', []]\n",
      "['mrcycle', []]\n",
      "['officially', []]\n",
      "['april', []]\n",
      "['year', []]\n",
      "['due', []]\n",
      "['saf', []]\n",
      "['therefore', []]\n",
      "['u', ['attended']]\n",
      "['actually', []]\n",
      "['required', []]\n",
      "['attend', ['rts']]\n",
      "['rts', ['attend']]\n",
      "['quite', []]\n",
      "['lenient', []]\n",
      "['towards', []]\n",
      "['cases', []]\n",
      "['cyclei', []]\n",
      "['curious', []]\n",
      "['u', ['attended']]\n",
      "['many', []]\n",
      "['ns', []]\n",
      "['cycles', ['attended']]\n",
      "['info', []]\n",
      "['u', ['attended']]\n",
      "['peers', []]\n",
      "['commanders', []]\n",
      "Review Number :  381\n"
     ]
    },
    {
     "name": "stderr",
     "output_type": "stream",
     "text": [
      "\r",
      " 11%|████████▉                                                                      | 382/3390 [03:47<45:06,  1.11it/s]"
     ]
    },
    {
     "name": "stdout",
     "output_type": "stream",
     "text": [
      "[['hi', []], ['suppose', []], ['im', ['required']], ['rt', ['take']], ['next', []], ['window', []], ['ippt', ['do']], ['next', []], ['window', []], ['well', []]]\n",
      "['hi', []]\n",
      "['suppose', []]\n",
      "['im', ['required']]\n",
      "['rt', ['take']]\n",
      "['next', []]\n",
      "['window', []]\n",
      "['ippt', ['do']]\n",
      "['next', []]\n",
      "['window', []]\n",
      "['well', []]\n",
      "Review Number :  382\n"
     ]
    },
    {
     "name": "stderr",
     "output_type": "stream",
     "text": [
      "\r",
      " 11%|████████▉                                                                      | 383/3390 [03:48<46:29,  1.08it/s]"
     ]
    },
    {
     "name": "stdout",
     "output_type": "stream",
     "text": [
      "[['rtippt', ['be']], ['rt', []], ['sessions', []], ['note', ['take']], ['book', ['you', 'nonictippt']], ['separate', []], ['nonictippt', ['book']], ['u', ['program', 'take']], ['rt', []], ['program', ['u']], ['u', ['program', 'take']], ['ictippt', ['take']], ['ict', []], ['window', []], ['u', ['program', 'take']], ['pass', ['provided']]]\n",
      "['rtippt', ['be']]\n",
      "['rt', []]\n",
      "['sessions', []]\n",
      "['note', ['take']]\n",
      "['book', ['you', 'nonictippt']]\n",
      "['separate', []]\n",
      "['nonictippt', ['book']]\n",
      "['u', ['program', 'take']]\n",
      "['rt', []]\n",
      "['program', ['u']]\n",
      "['u', ['program', 'take']]\n",
      "['ictippt', ['take']]\n",
      "['ict', []]\n",
      "['window', []]\n",
      "['u', ['program', 'take']]\n",
      "['pass', ['provided']]\n",
      "Review Number :  383\n"
     ]
    },
    {
     "name": "stderr",
     "output_type": "stream",
     "text": [
      "\r",
      " 11%|████████▉                                                                      | 384/3390 [03:49<43:37,  1.15it/s]"
     ]
    },
    {
     "name": "stdout",
     "output_type": "stream",
     "text": [
      "[['hi', []], ['thanks', []], ['fail', ['i', 'rtippt']], ['rtippt', ['fail']], ['clear', ['i', 'session']], ['session', ['clear']], ['rt', ['do']], ['rt', ['do']], ['next', []], ['window', []]]\n",
      "['hi', []]\n",
      "['thanks', []]\n",
      "['fail', ['i', 'rtippt']]\n",
      "['rtippt', ['fail']]\n",
      "['clear', ['i', 'session']]\n",
      "['session', ['clear']]\n",
      "['rt', ['do']]\n",
      "['rt', ['do']]\n",
      "['next', []]\n",
      "['window', []]\n",
      "Review Number :  384\n"
     ]
    },
    {
     "name": "stderr",
     "output_type": "stream",
     "text": [
      "\r",
      " 11%|████████▉                                                                      | 385/3390 [03:50<46:55,  1.07it/s]"
     ]
    },
    {
     "name": "stdout",
     "output_type": "stream",
     "text": [
      "[['similar', []], ['ipt', []], ['long', []], ['u', ['attended', 'choose']], ['requirenumber', ['attended']], ['sessions', ['do']], ['window', ['new', 'clear']], ['next', []], ['window', ['new', 'clear']], ['new', ['window']], ['u', ['attended', 'choose']], ['choose', ['u']], ['ipt', []], ['sessions', ['do']], ['passippt', []]]\n",
      "['similar', []]\n",
      "['ipt', []]\n",
      "['long', []]\n",
      "['u', ['attended', 'choose']]\n",
      "['requirenumber', ['attended']]\n",
      "['sessions', ['do']]\n",
      "['window', ['new', 'clear']]\n",
      "['next', []]\n",
      "['window', ['new', 'clear']]\n",
      "['new', ['window']]\n",
      "['u', ['attended', 'choose']]\n",
      "['choose', ['u']]\n",
      "['ipt', []]\n",
      "['sessions', ['do']]\n",
      "['passippt', []]\n",
      "Review Number :  385\n"
     ]
    },
    {
     "name": "stderr",
     "output_type": "stream",
     "text": [
      "\r",
      " 11%|████████▉                                                                      | 386/3390 [03:51<53:59,  1.08s/it]"
     ]
    },
    {
     "name": "stdout",
     "output_type": "stream",
     "text": [
      "[['guys', ['mind']], ['mind', ['guys', 'me']], ['drive', ['i']], ['khatib', []], ['camp', []], ['ippt', ['take']], ['yes', []], ['carpark', ['where']], ['hows', ['process']], ['process', ['hows']], ['go', []], ['car', []], ['report', []], ['guard', ['house']], ['house', ['guard']], ['change', ['pass']], ['pass', ['change']], ['anyone', []], ['drive', ['i']], ['experiencethank', []]]\n",
      "['guys', ['mind']]\n",
      "['mind', ['guys', 'me']]\n",
      "['drive', ['i']]\n",
      "['khatib', []]\n",
      "['camp', []]\n",
      "['ippt', ['take']]\n",
      "['yes', []]\n",
      "['carpark', ['where']]\n",
      "['hows', ['process']]\n",
      "['process', ['hows']]\n",
      "['go', []]\n",
      "['car', []]\n",
      "['report', []]\n",
      "['guard', ['house']]\n",
      "['house', ['guard']]\n",
      "['change', ['pass']]\n",
      "['pass', ['change']]\n",
      "['anyone', []]\n",
      "['drive', ['i']]\n",
      "['experiencethank', []]\n",
      "Review Number :  386\n"
     ]
    },
    {
     "name": "stderr",
     "output_type": "stream",
     "text": [
      "\r",
      " 11%|█████████                                                                      | 387/3390 [03:52<47:28,  1.05it/s]"
     ]
    },
    {
     "name": "stdout",
     "output_type": "stream",
     "text": [
      "[['idea', ['block']], ['failed', ['i']], ['turn', []], ['ippt', []], ['booking', []], ['hearsaymiss', []], ['times', []], ['system', ['block']], ['block', ['idea', 'system', 'you']], ['unblock', []]]\n",
      "['idea', ['block']]\n",
      "['failed', ['i']]\n",
      "['turn', []]\n",
      "['ippt', []]\n",
      "['booking', []]\n",
      "['hearsaymiss', []]\n",
      "['times', []]\n",
      "['system', ['block']]\n",
      "['block', ['idea', 'system', 'you']]\n",
      "['unblock', []]\n",
      "Review Number :  387\n"
     ]
    },
    {
     "name": "stderr",
     "output_type": "stream",
     "text": [
      "\r",
      " 11%|█████████                                                                      | 388/3390 [03:52<40:50,  1.23it/s]"
     ]
    },
    {
     "name": "stdout",
     "output_type": "stream",
     "text": [
      "[['rtipt', ['have']], ['still', []], ['brown', []], ['tag', []], ['mmaspinaerobic', []], ['classdamn', []], ['damnfun', ['which']], ['funleh', []]]\n",
      "['rtipt', ['have']]\n",
      "['still', []]\n",
      "['brown', []]\n",
      "['tag', []]\n",
      "['mmaspinaerobic', []]\n",
      "['classdamn', []]\n",
      "['damnfun', ['which']]\n",
      "['funleh', []]\n",
      "Review Number :  388\n"
     ]
    },
    {
     "name": "stderr",
     "output_type": "stream",
     "text": [
      "\r",
      " 11%|█████████                                                                      | 389/3390 [03:54<50:33,  1.01s/it]"
     ]
    },
    {
     "name": "stdout",
     "output_type": "stream",
     "text": [
      "[['drive', []], ['checkpoint', []], ['guardroom', []], ['pass', ['ic']], ['ur', []], ['ic', ['pass']], ['check', ['them', 'roll']], ['nominal', []], ['roll', ['check']], ['ur', []], ['name', ['is']], ['carpark', ['area']], ['open', []], ['area', ['carpark']], ['fccu', []], ['ask', ['checkpointic']], ['checkpointic', ['ask']], ['doubt', []], ['lastly', []], ['inpro', []], ['fcccounter', []], ['ur', []]]\n",
      "['drive', []]\n",
      "['checkpoint', []]\n",
      "['guardroom', []]\n",
      "['pass', ['ic']]\n",
      "['ur', []]\n",
      "['ic', ['pass']]\n",
      "['check', ['them', 'roll']]\n",
      "['nominal', []]\n",
      "['roll', ['check']]\n",
      "['ur', []]\n",
      "['name', ['is']]\n",
      "['carpark', ['area']]\n",
      "['open', []]\n",
      "['area', ['carpark']]\n",
      "['fccu', []]\n",
      "['ask', ['checkpointic']]\n",
      "['checkpointic', ['ask']]\n",
      "['doubt', []]\n",
      "['lastly', []]\n",
      "['inpro', []]\n",
      "['fcccounter', []]\n",
      "['ur', []]\n",
      "Review Number :  389\n"
     ]
    },
    {
     "name": "stderr",
     "output_type": "stream",
     "text": [
      "\r",
      " 12%|█████████                                                                      | 390/3390 [03:54<42:24,  1.18it/s]"
     ]
    },
    {
     "name": "stdout",
     "output_type": "stream",
     "text": [
      "[['u', ['have', 'rt']], ['ipt', []], ['sessions', ['have']], ['info', ['find']], ['session', []], ['u', ['have', 'rt']], ['rt', ['u']]]\n",
      "['u', ['have', 'rt']]\n",
      "['ipt', []]\n",
      "['sessions', ['have']]\n",
      "['info', ['find']]\n",
      "['session', []]\n",
      "['u', ['have', 'rt']]\n",
      "['rt', ['u']]\n",
      "Review Number :  390\n"
     ]
    },
    {
     "name": "stderr",
     "output_type": "stream",
     "text": [
      "\r",
      " 12%|█████████                                                                      | 391/3390 [03:55<37:31,  1.33it/s]"
     ]
    },
    {
     "name": "stdout",
     "output_type": "stream",
     "text": [
      "[['mr', ['i']], ['june', []], ['window', ['closes']], ['closes', ['window']], ['still', []], ['complete', ['rt']], ['rt', ['complete']]]\n",
      "['mr', ['i']]\n",
      "['june', []]\n",
      "['window', ['closes']]\n",
      "['closes', ['window']]\n",
      "['still', []]\n",
      "['complete', ['rt']]\n",
      "['rt', ['complete']]\n",
      "Review Number :  391\n"
     ]
    },
    {
     "name": "stderr",
     "output_type": "stream",
     "text": [
      "\r",
      " 12%|█████████▏                                                                     | 392/3390 [03:56<36:49,  1.36it/s]"
     ]
    },
    {
     "name": "stdout",
     "output_type": "stream",
     "text": [
      "[['book', []], ['whats', ['myself', 'point']], ['point', ['whats']], ['windowisnt', []], ['yet', []], ['dont', []], ['anything', ['have']], ['useful', []], ['post', []]]\n",
      "['book', []]\n",
      "['whats', ['myself', 'point']]\n",
      "['point', ['whats']]\n",
      "['windowisnt', []]\n",
      "['yet', []]\n",
      "['dont', []]\n",
      "['anything', ['have']]\n",
      "['useful', []]\n",
      "['post', []]\n",
      "Review Number :  392\n"
     ]
    },
    {
     "name": "stderr",
     "output_type": "stream",
     "text": [
      "\r",
      " 12%|█████████▏                                                                     | 393/3390 [03:57<41:56,  1.19it/s]"
     ]
    },
    {
     "name": "stdout",
     "output_type": "stream",
     "text": [
      "[['guys', ['kena']], ['summary', []], ['trial', ['kena']], ['ipptiptrt', ['attending']], ['however', []], ['im', []], ['permexcuse', []], ['excusermj', []], ['impossible', ['which']], ['ippt', ['do']], ['due', []], ['medical', []], ['issue', []], ['anyone', []], ['similar', []], ['situation', []], ['deal', ['you']]]\n",
      "['guys', ['kena']]\n",
      "['summary', []]\n",
      "['trial', ['kena']]\n",
      "['ipptiptrt', ['attending']]\n",
      "['however', []]\n",
      "['im', []]\n",
      "['permexcuse', []]\n",
      "['excusermj', []]\n",
      "['impossible', ['which']]\n",
      "['ippt', ['do']]\n",
      "['due', []]\n",
      "['medical', []]\n",
      "['issue', []]\n",
      "['anyone', []]\n",
      "['similar', []]\n",
      "['situation', []]\n",
      "['deal', ['you']]\n",
      "Review Number :  393\n"
     ]
    },
    {
     "name": "stderr",
     "output_type": "stream",
     "text": [
      "\r",
      " 12%|████████▉                                                                    | 394/3390 [03:59<1:03:01,  1.26s/it]"
     ]
    },
    {
     "name": "stdout",
     "output_type": "stream",
     "text": [
      "[['point', ['is']], ['exempt', ['you']], ['ipptiptrt', []], ['still', []], ['attend', ['activities']], ['activities', ['attend']], ['determine', []], ['spot', []], ['attendance', ['mark']], ['home', []], ['even', []], ['time', []], ['case', ['consider']], ['awoli', ['recommend']], ['recommend', ['awoli', 'you']], ['sound', []], ['judgementstatement', []], ['documents', ['supporting']], ['summary', []], ['trial', []], ['offencei', ['been']], ['never', []], ['situation', []], ['cant', []], ['advice', ['you']], ['much', []]]\n",
      "['point', ['is']]\n",
      "['exempt', ['you']]\n",
      "['ipptiptrt', []]\n",
      "['still', []]\n",
      "['attend', ['activities']]\n",
      "['activities', ['attend']]\n",
      "['determine', []]\n",
      "['spot', []]\n",
      "['attendance', ['mark']]\n",
      "['home', []]\n",
      "['even', []]\n",
      "['time', []]\n",
      "['case', ['consider']]\n",
      "['awoli', ['recommend']]\n",
      "['recommend', ['awoli', 'you']]\n",
      "['sound', []]\n",
      "['judgementstatement', []]\n",
      "['documents', ['supporting']]\n",
      "['summary', []]\n",
      "['trial', []]\n",
      "['offencei', ['been']]\n",
      "['never', []]\n",
      "['situation', []]\n",
      "['cant', []]\n",
      "['advice', ['you']]\n",
      "['much', []]\n",
      "Review Number :  394\n"
     ]
    },
    {
     "name": "stderr",
     "output_type": "stream",
     "text": [
      "\r",
      " 12%|████████▉                                                                    | 395/3390 [04:00<1:05:49,  1.32s/it]"
     ]
    },
    {
     "name": "stdout",
     "output_type": "stream",
     "text": [
      "[['reach', ['you', 'age']], ['age', ['reach']], ['cant', []], ['mr', ['you']], ['june', ['ict']], ['last', []], ['ict', ['june']], ['june', ['ict']], ['mr', ['you']], ['st', []], ['april', []], ['year', []], ['need', ['you']], ['complete', ['rt']], ['rt', ['complete']], ['chance', ['take']], ['chargeletter', ['comes']], ['st', []], ['april', []], ['free', ['you']], ['face', ['charge']], ['charge', ['face']], ['mr', ['you']]]\n",
      "['reach', ['you', 'age']]\n",
      "['age', ['reach']]\n",
      "['cant', []]\n",
      "['mr', ['you']]\n",
      "['june', ['ict']]\n",
      "['last', []]\n",
      "['ict', ['june']]\n",
      "['june', ['ict']]\n",
      "['mr', ['you']]\n",
      "['st', []]\n",
      "['april', []]\n",
      "['year', []]\n",
      "['need', ['you']]\n",
      "['complete', ['rt']]\n",
      "['rt', ['complete']]\n",
      "['chance', ['take']]\n",
      "['chargeletter', ['comes']]\n",
      "['st', []]\n",
      "['april', []]\n",
      "['free', ['you']]\n",
      "['face', ['charge']]\n",
      "['charge', ['face']]\n",
      "['mr', ['you']]\n",
      "Review Number :  395\n"
     ]
    },
    {
     "name": "stderr",
     "output_type": "stream",
     "text": [
      "\r",
      " 12%|█████████▏                                                                     | 396/3390 [04:01<50:31,  1.01s/it]"
     ]
    },
    {
     "name": "stdout",
     "output_type": "stream",
     "text": [
      "[['point', ['is']], ['rush', ['is']], ['answer', ['getting']]]\n",
      "['point', ['is']]\n",
      "['rush', ['is']]\n",
      "['answer', ['getting']]\n",
      "Review Number :  396\n"
     ]
    },
    {
     "name": "stderr",
     "output_type": "stream",
     "text": [
      "\r",
      " 12%|█████████▎                                                                     | 397/3390 [04:01<41:14,  1.21it/s]"
     ]
    },
    {
     "name": "stdout",
     "output_type": "stream",
     "text": [
      "[['many', []], ['times', ['retake']], ['first', []], ['ippt', []]]\n",
      "['many', []]\n",
      "['times', ['retake']]\n",
      "['first', []]\n",
      "['ippt', []]\n",
      "Review Number :  397\n"
     ]
    },
    {
     "name": "stderr",
     "output_type": "stream",
     "text": [
      "\r",
      " 12%|█████████▎                                                                     | 398/3390 [04:02<39:26,  1.26it/s]"
     ]
    },
    {
     "name": "stdout",
     "output_type": "stream",
     "text": [
      "[['huh', []], ['year', []], ['mrceremony', ['thought']], ['yeari', ['thought']], ['mr', ['get']], ['ceremony', []], ['get', ['mr', 'cert']], ['cert', ['get']], ['liao', ['wait']], ['still', []], ['till', []], ['sia', []]]\n",
      "['huh', []]\n",
      "['year', []]\n",
      "['mrceremony', ['thought']]\n",
      "['yeari', ['thought']]\n",
      "['mr', ['get']]\n",
      "['ceremony', []]\n",
      "['get', ['mr', 'cert']]\n",
      "['cert', ['get']]\n",
      "['liao', ['wait']]\n",
      "['still', []]\n",
      "['till', []]\n",
      "['sia', []]\n",
      "Review Number :  398\n"
     ]
    },
    {
     "name": "stderr",
     "output_type": "stream",
     "text": [
      "\r",
      " 12%|█████████▎                                                                     | 399/3390 [04:02<32:32,  1.53it/s]"
     ]
    },
    {
     "name": "stdout",
     "output_type": "stream",
     "text": [
      "[['safwork', []], ['workyear', ['starts']], ['stapr', []], ['ends', []]]\n",
      "['safwork', []]\n",
      "['workyear', ['starts']]\n",
      "['stapr', []]\n",
      "['ends', []]\n",
      "Review Number :  399\n"
     ]
    },
    {
     "name": "stderr",
     "output_type": "stream",
     "text": [
      "\r",
      " 12%|█████████▎                                                                     | 400/3390 [04:03<41:05,  1.21it/s]"
     ]
    },
    {
     "name": "stdout",
     "output_type": "stream",
     "text": [
      "[['qn', ['have']], ['ipptsession', ['booked']], ['sessiontoday', []], ['well', []], ['ns', []], ['portal', ['down']], ['maintenance', []], ['also', []], ['cant', []], ['book', ['i', 'session', 'session']], ['session', ['book', 'book']], ['yet', []], ['penalised', []], ['prob', []], ['book', ['i', 'session', 'session']], ['session', ['book', 'book']], ['window', ['closes']], ['closes', ['window']], ['also', []], ['latenov', ['ord']], ['currently', []], ['st', []], ['year', []]]\n",
      "['qn', ['have']]\n",
      "['ipptsession', ['booked']]\n",
      "['sessiontoday', []]\n",
      "['well', []]\n",
      "['ns', []]\n",
      "['portal', ['down']]\n",
      "['maintenance', []]\n",
      "['also', []]\n",
      "['cant', []]\n",
      "['book', ['i', 'session', 'session']]\n",
      "['session', ['book', 'book']]\n",
      "['yet', []]\n",
      "['penalised', []]\n",
      "['prob', []]\n",
      "['book', ['i', 'session', 'session']]\n",
      "['session', ['book', 'book']]\n",
      "['window', ['closes']]\n",
      "['closes', ['window']]\n",
      "['also', []]\n",
      "['latenov', ['ord']]\n",
      "['currently', []]\n",
      "['st', []]\n",
      "['year', []]\n",
      "Review Number :  400\n",
      "[['november', []], ['first', []], ['birthday', []]]"
     ]
    },
    {
     "name": "stderr",
     "output_type": "stream",
     "text": [
      "\r",
      " 12%|█████████▎                                                                     | 401/3390 [04:04<31:53,  1.56it/s]"
     ]
    },
    {
     "name": "stdout",
     "output_type": "stream",
     "text": [
      "\n",
      "['november', []]\n",
      "['first', []]\n",
      "['birthday', []]\n",
      "Review Number :  401\n"
     ]
    },
    {
     "name": "stderr",
     "output_type": "stream",
     "text": [
      "\r",
      " 12%|█████████▎                                                                     | 402/3390 [04:05<38:06,  1.31it/s]"
     ]
    }
   ],
   "source": [
    "rdr = pd.read_csv('../../output/corpus.csv')\n",
    "\n",
    "nlp = stanza.Pipeline('en')\n",
    "a = dict()\n",
    "b = dict()\n",
    "a, b = do_extraction(rdr, nlp, a, b)"
   ]
  },
  {
   "cell_type": "code",
   "execution_count": null,
   "metadata": {
    "scrolled": true
   },
   "outputs": [],
   "source": [
    "fin = get_sentiment(a, b, nlp)"
   ]
  },
  {
   "cell_type": "code",
   "execution_count": null,
   "metadata": {},
   "outputs": [],
   "source": [
    "fin"
   ]
  },
  {
   "cell_type": "code",
   "execution_count": null,
   "metadata": {},
   "outputs": [],
   "source": [
    "def get_tfidf_features(df, content_str = \"Content\", min_ = 2, max_ = 0.5, ngramrange = (1,2)):\n",
    "    review_list = df[content_str].to_list()\n",
    "    tfidf = TfidfVectorizer(min_df = min_, max_df = max_, ngram_range = ngramrange);\n",
    "    features = tfidf.fit_transform(review_list);\n",
    "    q = pd.DataFrame(features.todense(), columns=tfidf.get_feature_names())\n",
    "    return list(q.columns)\n",
    "\n",
    "def refine_features(originaldf, sentimentdf):\n",
    "    tfidf_output = get_tfidf_features(originaldf)\n",
    "    sentimentdf = sentimentdf.reset_index()\n",
    "    ft_extract = set(sentimentdf['index']);\n",
    "    tfidf_extract = set(tfidf_output)\n",
    "    \n",
    "    intersecting_features = ft_extract.intersection(tfidf_extract)\n",
    "    \n",
    "    return_df = sentimentdf\n",
    "    return_df = return_df.loc[return_df['index'].isin(list(intersecting_features))]\n",
    "    print(\"Number of extracted features:\")\n",
    "    print(\"Initial = \", len(ft_extract), \" TFIDF = \", len(intersecting_features), \" Final after intersection = \", return_df.shape[0])\n",
    "    return return_df"
   ]
  },
  {
   "cell_type": "code",
   "execution_count": null,
   "metadata": {},
   "outputs": [],
   "source": [
    "refined = refine_features(rdr, fin)\n",
    "refined"
   ]
  },
  {
   "cell_type": "markdown",
   "metadata": {},
   "source": [
    "# 2. Word Embedding + Clustering\n",
    "\n",
    "Do some cleaning first. From the set of refined features, we removed stop words, then stemmed them."
   ]
  },
  {
   "cell_type": "code",
   "execution_count": null,
   "metadata": {},
   "outputs": [],
   "source": [
    "import collections\n",
    "from sklearn.cluster import KMeans\n",
    "from tqdm import tqdm\n",
    "from gensim.models import Word2Vec \n",
    "from sklearn.feature_extraction.text import CountVectorizer\n",
    "import seaborn as sns\n",
    "import matplotlib\n",
    "from matplotlib import pyplot as plt\n",
    "%matplotlib inline\n",
    "from sklearn.cluster import AffinityPropagation\n",
    "from sklearn.manifold import TSNE\n",
    "from sklearn.preprocessing import normalize\n",
    "import spacy\n",
    "from nltk.stem import PorterStemmer"
   ]
  },
  {
   "cell_type": "code",
   "execution_count": null,
   "metadata": {},
   "outputs": [],
   "source": [
    "uncleaned_words = refined['index']\n",
    "uncleaned_words.head()"
   ]
  },
  {
   "cell_type": "code",
   "execution_count": null,
   "metadata": {},
   "outputs": [],
   "source": [
    "nlp = spacy.load(\"en_core_web_sm\") # to run on command prompt: python -m spacy download en_core_web_sm\n",
    "words = [item for item in uncleaned_words if item not in nlp.Defaults.stop_words]\n",
    "print(\"Words removed were: \", set(uncleaned_words).difference(set(words)))\n",
    "print(\"From\", len(uncleaned_words), \"to\", len(words))\n",
    "words_df = pd.DataFrame(words)\n",
    "words_df.columns = ['word']\n",
    "words_df"
   ]
  },
  {
   "cell_type": "code",
   "execution_count": 32,
   "metadata": {},
   "outputs": [
    {
     "name": "stdout",
     "output_type": "stream",
     "text": [
      "Number of words left after stemming was 29\n"
     ]
    }
   ],
   "source": [
    "stemmed_words = []\n",
    "ps = PorterStemmer()\n",
    "\n",
    "for w in words:\n",
    "    rootWord = ps.stem(w)\n",
    "    if rootWord not in stemmed_words:\n",
    "        stemmed_words.append(rootWord)\n",
    "        \n",
    "print(\"Number of words left after stemming was\", len(stemmed_words))"
   ]
  },
  {
   "cell_type": "markdown",
   "metadata": {},
   "source": [
    "## 2.1 spaCy's Pretained Vectors + Affinity Propagation"
   ]
  },
  {
   "cell_type": "code",
   "execution_count": null,
   "metadata": {},
   "outputs": [],
   "source": [
    "def vectorize(text):\n",
    "    \"\"\"Get the SpaCy vector corresponding to a text\"\"\"\n",
    "    return nlp(text).vector\n",
    "\n",
    "X = np.stack(vectorize(word) for word in words)\n",
    "X_normalised = normalize(np.stack(vectorize(word) for word in words))\n",
    "\n",
    "affprop = AffinityPropagation()\n",
    "affprop.fit(X)\n",
    "\n",
    "word_array = np.array(words)"
   ]
  },
  {
   "cell_type": "code",
   "execution_count": null,
   "metadata": {},
   "outputs": [],
   "source": [
    "for cluster_id in np.unique(affprop.labels_):\n",
    "    exemplar = word_array[affprop.cluster_centers_indices_[cluster_id]]\n",
    "    cluster = np.unique(word_array[np.nonzero(affprop.labels_==cluster_id)])\n",
    "    cluster_str = \", \".join(cluster)\n",
    "    print(\" - *%s:* %s\" % (exemplar, cluster_str))"
   ]
  },
  {
   "cell_type": "markdown",
   "metadata": {},
   "source": [
    "# 3. Evaluation"
   ]
  },
  {
   "cell_type": "markdown",
   "metadata": {},
   "source": [
    "## Silhouette score"
   ]
  },
  {
   "cell_type": "code",
   "execution_count": null,
   "metadata": {},
   "outputs": [],
   "source": [
    "from sklearn import metrics\n",
    "\n",
    "metrics.silhouette_score(X, affprop.labels_, metric='euclidean')"
   ]
  },
  {
   "cell_type": "markdown",
   "metadata": {},
   "source": [
    "## Calinski-Harabasz Index"
   ]
  },
  {
   "cell_type": "code",
   "execution_count": null,
   "metadata": {},
   "outputs": [],
   "source": [
    "metrics.calinski_harabasz_score(X, affprop.labels_)"
   ]
  },
  {
   "cell_type": "markdown",
   "metadata": {},
   "source": [
    "## Davies Bouldin Index"
   ]
  },
  {
   "cell_type": "code",
   "execution_count": null,
   "metadata": {},
   "outputs": [],
   "source": [
    "metrics.davies_bouldin_score(X, affprop.labels_)"
   ]
  }
 ],
 "metadata": {
  "kernelspec": {
   "display_name": "Python 3",
   "language": "python",
   "name": "python3"
  },
  "language_info": {
   "codemirror_mode": {
    "name": "ipython",
    "version": 3
   },
   "file_extension": ".py",
   "mimetype": "text/x-python",
   "name": "python",
   "nbconvert_exporter": "python",
   "pygments_lexer": "ipython3",
   "version": "3.7.9"
  }
 },
 "nbformat": 4,
 "nbformat_minor": 4
}
