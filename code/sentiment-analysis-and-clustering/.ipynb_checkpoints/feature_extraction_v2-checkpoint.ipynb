{
 "cells": [
  {
   "cell_type": "code",
   "execution_count": 7,
   "metadata": {},
   "outputs": [
    {
     "name": "stderr",
     "output_type": "stream",
     "text": [
      "Downloading https://raw.githubusercontent.com/stanfordnlp/stanza-resources/master/resources_1.2.0.json: 128kB [00:00, 10.7MB/s]\n",
      "2021-03-23 12:31:18 INFO: Downloading default packages for language: en (English)...\n",
      "2021-03-23 12:31:21 INFO: File exists: C:\\Users\\TzeMin\\stanza_resources\\en\\default.zip.\n",
      "2021-03-23 12:31:31 INFO: Finished downloading models and saved to C:\\Users\\TzeMin\\stanza_resources.\n",
      "[nltk_data] Downloading package stopwords to\n",
      "[nltk_data]     C:\\Users\\TzeMin\\AppData\\Roaming\\nltk_data...\n",
      "[nltk_data]   Package stopwords is already up-to-date!\n",
      "[nltk_data] Downloading package punkt to\n",
      "[nltk_data]     C:\\Users\\TzeMin\\AppData\\Roaming\\nltk_data...\n",
      "[nltk_data]   Package punkt is already up-to-date!\n",
      "[nltk_data] Downloading package averaged_perceptron_tagger to\n",
      "[nltk_data]     C:\\Users\\TzeMin\\AppData\\Roaming\\nltk_data...\n",
      "[nltk_data]   Package averaged_perceptron_tagger is already up-to-\n",
      "[nltk_data]       date!\n"
     ]
    },
    {
     "data": {
      "text/plain": [
       "True"
      ]
     },
     "execution_count": 7,
     "metadata": {},
     "output_type": "execute_result"
    }
   ],
   "source": [
    "import pandas as pd\n",
    "import numpy as np\n",
    "import nltk\n",
    "import regex\n",
    "import re\n",
    "from tqdm import tqdm\n",
    "from nltk.corpus import stopwords\n",
    "from nltk.corpus import wordnet\n",
    "from nltk.tokenize import word_tokenize, sent_tokenize\n",
    "from nltk.stem.wordnet import WordNetLemmatizer \n",
    "from sklearn.feature_extraction.text import TfidfVectorizer\n",
    "import stanza\n",
    "stanza.download('en') # download English model\n",
    "nltk.download('stopwords')\n",
    "nltk.download('punkt')\n",
    "nltk.download('averaged_perceptron_tagger')"
   ]
  },
  {
   "cell_type": "code",
   "execution_count": 8,
   "metadata": {},
   "outputs": [],
   "source": [
    "def feature_extraction(txt, nlp):\n",
    "\n",
    "    sentList = nltk.sent_tokenize(txt)\n",
    "\n",
    "    retlist = [];\n",
    "    \n",
    "    for line in sentList:\n",
    "        \n",
    "        txt_list = nltk.word_tokenize(line)\n",
    "        taggedList = nltk.pos_tag(txt_list)\n",
    "        \n",
    "        newwordList = []\n",
    "        flag = 0\n",
    "        for i in range(0,len(taggedList)-1):\n",
    "            if(taggedList[i][1]==\"NN\" and taggedList[i+1][1]==\"NN\"):\n",
    "                newwordList.append(taggedList[i][0]+taggedList[i+1][0])\n",
    "                flag=1\n",
    "            else:\n",
    "                if(flag==1):\n",
    "                    flag=0\n",
    "                    continue\n",
    "                newwordList.append(taggedList[i][0])\n",
    "                if(i==len(taggedList)-2):\n",
    "                    newwordList.append(taggedList[i+1][0])\n",
    "        finaltxt = ' '.join(word for word in newwordList)\n",
    "    \n",
    "    \n",
    "        stop_words = set(stopwords.words('english'))\n",
    "        new_txt_list = nltk.word_tokenize(finaltxt)\n",
    "        wordsList = [w for w in new_txt_list if not w in stop_words]\n",
    "        taggedList = nltk.pos_tag(wordsList)\n",
    "        \n",
    "        doc = nlp(finaltxt)\n",
    "        dep_node = []\n",
    "        try:\n",
    "            for dep_edge in doc.sentences[0].dependencies:\n",
    "                dep_node.append([dep_edge[2].text, dep_edge[0].id, dep_edge[1]])\n",
    "            for i in range(0, len(dep_node)):\n",
    "                if (int(dep_node[i][1]) != 0):\n",
    "                    dep_node[i][1] = newwordList[(int(dep_node[i][1]) - 1)]\n",
    "        except:\n",
    "            pass;\n",
    "        \n",
    "        #print(dep_node)\n",
    "        \n",
    "        featureList = []\n",
    "        categories = []\n",
    "        for i in taggedList:\n",
    "            if(i[1]=='JJ' or i[1]=='NN' or i[1]=='JJR' or i[1]=='NNS' or i[1]=='RB'):\n",
    "                featureList.append(list(i))\n",
    "                categories.append(i[0])\n",
    "        #print(featureList)\n",
    "        #print(categories)\n",
    "        \n",
    "        \n",
    "        fcluster = []\n",
    "        for i in featureList:\n",
    "            filist = []\n",
    "            for j in dep_node:\n",
    "                if((j[0]==i[0] or j[1]==i[0]) and (j[2] in [\n",
    "                    # Different types of words that are identified as potential features\n",
    "                    \"nsubj\",\n",
    "                    #\"acl:relcl\",\n",
    "                    \"obj\",\n",
    "                    \"dobj\",\n",
    "                    #\"agent\",\n",
    "                    #\"advmod\",\n",
    "                    #\"amod\",\n",
    "                    #\"neg\",\n",
    "                    #\"prep_of\",\n",
    "                    #\"acomp\",\n",
    "                    #\"xcomp\",\n",
    "                    #\"compound\"\n",
    "                ])):\n",
    "                    if(j[0]==i[0]):\n",
    "                        filist.append(j[1])\n",
    "                    else:\n",
    "                        filist.append(j[0])\n",
    "            fcluster.append([i[0], filist])\n",
    "        print(fcluster) \n",
    "        \n",
    "        # Remove all features with no sentiment word:\n",
    "        \n",
    "        retlist.append(fcluster)\n",
    "    return retlist;\n",
    "    "
   ]
  },
  {
   "cell_type": "code",
   "execution_count": 9,
   "metadata": {},
   "outputs": [],
   "source": [
    "def do_extraction(df, nlp, feat_count, feat_sent, content_str = \"content\"):\n",
    "    idx = 0;\n",
    "    # Replace \"\" with nan's for removal\n",
    "    df[content_str].replace('', np.nan, inplace=True)\n",
    "    df.dropna(subset=[content_str], inplace=True)\n",
    "    \n",
    "    review_list = df[content_str].to_list()\n",
    "    #feat_count = dict()\n",
    "    #feat_sent = dict()\n",
    "    #nlp = stanza.Pipeline('en')\n",
    "     \n",
    "    print(\" Processing : \" , df.shape[0], \"rows of data\")\n",
    "    for review in tqdm(review_list):\n",
    "        print(\"Review Number : \", idx);\n",
    "        \n",
    "        # Some data pre-processing\n",
    "        \n",
    "        review = review.lower()\n",
    "        \n",
    "        # Merge hyphenated words\n",
    "        separate = review.split('-')\n",
    "        review = ''.join(separate)\n",
    "        \n",
    "        # Remove non-alphabets\n",
    "        review = re.sub(r'[^a-z\\s\\t]', '', review)\n",
    "        \n",
    "        idx += 1;\n",
    "        if idx >= df.shape[0]:\n",
    "            break;\n",
    "        try:\n",
    "            output = feature_extraction(review, nlp);\n",
    "        except:\n",
    "            pass;\n",
    "        for sent in output:\n",
    "            for pair in sent:\n",
    "                print(pair)\n",
    "                if pair[0] in feat_sent:\n",
    "                    if pair[1] is not None:\n",
    "                        flist = feat_sent[pair[0]]\n",
    "                        if isinstance(pair[1], list):\n",
    "                            for i in pair[1]:\n",
    "                                flist.append(i)\n",
    "                        else:\n",
    "                            flist.append(pair[1])\n",
    "                        feat_sent[pair[0]] = flist;\n",
    "                else:\n",
    "                    if pair[1] is not None:\n",
    "                        flist = pair[1]\n",
    "                    else:\n",
    "                        flist = list()\n",
    "                    feat_sent[pair[0]] = flist;\n",
    "                \n",
    "                if pair[0] in feat_count:\n",
    "                    feat_count[pair[0]] = feat_count[pair[0]] + 1;\n",
    "                else:\n",
    "                    feat_count[pair[0]] = 1\n",
    "    \n",
    "    return feat_count, feat_sent;"
   ]
  },
  {
   "cell_type": "code",
   "execution_count": 10,
   "metadata": {},
   "outputs": [],
   "source": [
    "def get_sentiment(feat_count, feat_sent, nlp):\n",
    "\n",
    "    sentiment_score = dict()\n",
    "\n",
    "    # Delete features with no descriptors\n",
    "    cob = feat_sent.copy()\n",
    "    for feat in cob.keys():\n",
    "        #print(cob[feat])\n",
    "        \n",
    "        if cob[feat] == []:\n",
    "            del feat_sent[feat]\n",
    "        else:\n",
    "            feat_sent[feat] = ' ,'.join(feat_sent[feat])\n",
    "\n",
    "    # Run pre-built sentiment score and take avg of all descriptors\n",
    "    for f in tqdm(feat_sent.keys()):\n",
    "        print(\"Calculating Sentiment for: \", f);\n",
    "        ssum = 0;\n",
    "        for g in feat_sent[f]:\n",
    "            try:\n",
    "                doc = nlp(g);\n",
    "\n",
    "                for i in doc.sentences:\n",
    "\n",
    "                        #print(i.sentiment)\n",
    "                        ssum += i.sentiment;\n",
    "            except:\n",
    "                pass;\n",
    "\n",
    "        sentiment_score[f] = ssum / len(b[f])\n",
    "\n",
    "    adf = pd.DataFrame.from_dict(feat_count, orient='index', columns=['Freq'])\n",
    "    adf.sort_values(by=\"Freq\", ascending=False, inplace = True)\n",
    "\n",
    "    \n",
    "\n",
    "    avg_sent = pd.DataFrame.from_dict(sentiment_score, orient='index', columns=[\"Avg_sent\"])\n",
    "    desc_words = pd.DataFrame.from_dict(feat_sent, orient=\"index\", columns=[\"Descriptors\"])\n",
    "    \n",
    "    avg_sent = avg_sent.merge(desc_words, left_index=True, right_index=True)\n",
    "    \n",
    "    \n",
    "    final_sent = avg_sent.merge(adf, left_index=True, right_index=True)\n",
    "    final_sent.sort_values(by=\"Freq\", ascending=False, inplace=True)\n",
    "    return final_sent;"
   ]
  },
  {
   "cell_type": "code",
   "execution_count": null,
   "metadata": {
    "scrolled": true
   },
   "outputs": [
    {
     "name": "stderr",
     "output_type": "stream",
     "text": [
      "2021-03-23 12:31:45 INFO: Loading these models for language: en (English):\n",
      "=========================\n",
      "| Processor | Package   |\n",
      "-------------------------\n",
      "| tokenize  | combined  |\n",
      "| pos       | combined  |\n",
      "| lemma     | combined  |\n",
      "| depparse  | combined  |\n",
      "| sentiment | sstplus   |\n",
      "| ner       | ontonotes |\n",
      "=========================\n",
      "\n",
      "2021-03-23 12:31:45 INFO: Use device: cpu\n",
      "2021-03-23 12:31:45 INFO: Loading: tokenize\n",
      "2021-03-23 12:31:45 INFO: Loading: pos\n",
      "2021-03-23 12:31:45 INFO: Loading: lemma\n",
      "2021-03-23 12:31:45 INFO: Loading: depparse\n",
      "2021-03-23 12:31:46 INFO: Loading: sentiment\n",
      "2021-03-23 12:31:47 INFO: Loading: ner\n",
      "2021-03-23 12:31:48 INFO: Done loading processors!\n",
      "  0%|                                                                                         | 0/3390 [00:00<?, ?it/s]"
     ]
    },
    {
     "name": "stdout",
     "output_type": "stream",
     "text": [
      " Processing :  3390 rows of data\n",
      "Review Number :  0\n"
     ]
    },
    {
     "name": "stderr",
     "output_type": "stream",
     "text": [
      "\r",
      "  0%|                                                                                 | 1/3390 [00:01<59:25,  1.05s/it]"
     ]
    },
    {
     "name": "stdout",
     "output_type": "stream",
     "text": [
      "[['professional', []], ['people', ['recommended']], ['patient', []], ['kind', ['recommended']], ['respectful', []], ['smooth', []], ['medical', []], ['checkup', []]]\n",
      "['professional', []]\n",
      "['people', ['recommended']]\n",
      "['patient', []]\n",
      "['kind', ['recommended']]\n",
      "['respectful', []]\n",
      "['smooth', []]\n",
      "['medical', []]\n",
      "['checkup', []]\n",
      "Review Number :  1\n"
     ]
    },
    {
     "name": "stderr",
     "output_type": "stream",
     "text": [
      "\r",
      "  0%|                                                                                 | 2/3390 [00:01<48:12,  1.17it/s]"
     ]
    },
    {
     "name": "stdout",
     "output_type": "stream",
     "text": [
      "[['reviews', ['suggest']], ['people', ['suggest']], ['adequately', []], ['anywhere', []], ['else', []], ['sg', []], ['place', ['clean']], ['really', []], ['clean', ['place']], ['efficient', []]]\n",
      "['reviews', ['suggest']]\n",
      "['people', ['suggest']]\n",
      "['adequately', []]\n",
      "['anywhere', []]\n",
      "['else', []]\n",
      "['sg', []]\n",
      "['place', ['clean']]\n",
      "['really', []]\n",
      "['clean', ['place']]\n",
      "['efficient', []]\n",
      "Review Number :  2\n"
     ]
    },
    {
     "name": "stderr",
     "output_type": "stream",
     "text": [
      "\r",
      "  0%|                                                                                 | 3/3390 [00:02<51:59,  1.09it/s]"
     ]
    },
    {
     "name": "stdout",
     "output_type": "stream",
     "text": [
      "[['place', ['experience']], ['overall', []], ['fine', []], ['good', []], ['experience', ['place']], ['tip', []], ['u', ['have']], ['medical', []], ['checkupdont', []], ['late', []], ['else', []], ['u', ['have']], ['back', []], ['day', []], ['complete', ['rest']], ['rest', ['complete']]]\n",
      "['place', ['experience']]\n",
      "['overall', []]\n",
      "['fine', []]\n",
      "['good', []]\n",
      "['experience', ['place']]\n",
      "['tip', []]\n",
      "['u', ['have']]\n",
      "['medical', []]\n",
      "['checkupdont', []]\n",
      "['late', []]\n",
      "['else', []]\n",
      "['u', ['have']]\n",
      "['back', []]\n",
      "['day', []]\n",
      "['complete', ['rest']]\n",
      "['rest', ['complete']]\n",
      "Review Number :  3\n"
     ]
    },
    {
     "name": "stderr",
     "output_type": "stream",
     "text": [
      "\r",
      "  0%|                                                                               | 4/3390 [00:04<1:03:56,  1.13s/it]"
     ]
    },
    {
     "name": "stdout",
     "output_type": "stream",
     "text": [
      "[['nscheckup', []], ['checkuptoday', []], ['gateentrance', []], ['entrancesecurity', []], ['checkcounter', []], ['stickerpass', ['take']], ['walk', []], ['gatedont', []], ['mei', ['stood']], ['thinking', []], ['scan', ['i', 'the']]]\n",
      "['nscheckup', []]\n",
      "['checkuptoday', []]\n",
      "['gateentrance', []]\n",
      "['entrancesecurity', []]\n",
      "['checkcounter', []]\n",
      "['stickerpass', ['take']]\n",
      "['walk', []]\n",
      "['gatedont', []]\n",
      "['mei', ['stood']]\n",
      "['thinking', []]\n",
      "['scan', ['i', 'the']]\n",
      "Review Number :  4\n"
     ]
    },
    {
     "name": "stderr",
     "output_type": "stream",
     "text": [
      "\r",
      "  0%|                                                                               | 5/3390 [00:05<1:09:34,  1.23s/it]"
     ]
    },
    {
     "name": "stdout",
     "output_type": "stream",
     "text": [
      "[['dontbother', ['end']], ['youll', []], ['end', ['dontbother']], ['hours', []], ['realise', ['that', 'youre']], ['youre', ['realise']], ['last', []], ['person', ['care']], ['line', []], ['doctors', []], ['really', []], ['fair', ['which']], ['dont', []], ['really', []], ['choice', ['have']], ['place', ['waste']], ['complete', []], ['waste', ['place']], ['space', []], ['time', []]]\n",
      "['dontbother', ['end']]\n",
      "['youll', []]\n",
      "['end', ['dontbother']]\n",
      "['hours', []]\n",
      "['realise', ['that', 'youre']]\n",
      "['youre', ['realise']]\n",
      "['last', []]\n",
      "['person', ['care']]\n",
      "['line', []]\n",
      "['doctors', []]\n",
      "['really', []]\n",
      "['fair', ['which']]\n",
      "['dont', []]\n",
      "['really', []]\n",
      "['choice', ['have']]\n",
      "['place', ['waste']]\n",
      "['complete', []]\n",
      "['waste', ['place']]\n",
      "['space', []]\n",
      "['time', []]\n",
      "Review Number :  5\n"
     ]
    },
    {
     "name": "stderr",
     "output_type": "stream",
     "text": [
      "\r",
      "  0%|▏                                                                                | 6/3390 [00:05<52:40,  1.07it/s]"
     ]
    },
    {
     "name": "stdout",
     "output_type": "stream",
     "text": [
      "[['nsf', []], ['reviews', []], ['lol', []]]\n",
      "['nsf', []]\n",
      "['reviews', []]\n",
      "['lol', []]\n",
      "Review Number :  6\n"
     ]
    },
    {
     "name": "stderr",
     "output_type": "stream",
     "text": [
      "\r",
      "  0%|▏                                                                                | 7/3390 [00:06<43:14,  1.30it/s]"
     ]
    },
    {
     "name": "stdout",
     "output_type": "stream",
     "text": [
      "[['extremely', []], ['long', []], ['time', ['takes']], ['due', []], ['overall', []], ['complete', []], ['waste', ['waiting']], ['time', ['takes']]]\n",
      "['extremely', []]\n",
      "['long', []]\n",
      "['time', ['takes']]\n",
      "['due', []]\n",
      "['overall', []]\n",
      "['complete', []]\n",
      "['waste', ['waiting']]\n",
      "['time', ['takes']]\n",
      "Review Number :  7\n"
     ]
    },
    {
     "name": "stderr",
     "output_type": "stream",
     "text": [
      "\r",
      "  0%|▏                                                                                | 8/3390 [00:07<46:54,  1.20it/s]"
     ]
    },
    {
     "name": "stdout",
     "output_type": "stream",
     "text": [
      "[['staff', ['professional']], ['professional', ['staff']], ['idk', []], ['bad', []], ['reviews', ['what']], ['personal', []], ['experienceeveryone', []], ['helpful', ['is']], ['initiative', ['take']], ['help', ['me']]]\n",
      "['staff', ['professional']]\n",
      "['professional', ['staff']]\n",
      "['idk', []]\n",
      "['bad', []]\n",
      "['reviews', ['what']]\n",
      "['personal', []]\n",
      "['experienceeveryone', []]\n",
      "['helpful', ['is']]\n",
      "['initiative', ['take']]\n",
      "['help', ['me']]\n",
      "Review Number :  8\n"
     ]
    },
    {
     "name": "stderr",
     "output_type": "stream",
     "text": [
      "\r",
      "  0%|▏                                                                              | 9/3390 [00:09<1:04:00,  1.14s/it]"
     ]
    },
    {
     "name": "stdout",
     "output_type": "stream",
     "text": [
      "[['unfriendly', []], ['staff', ['keep']], ['guards', ['doing']], ['job', ['doing']], ['staff', ['keep']], ['stuff', ['do']], ['suppose', ['which', 'they']], ['absolutely', []], ['atrocious', []], ['woman', ['is']], ['keeps', ['who']], ['tone', ['changing']], ['talks', ['she']], ['people', ['threatens']], ['people', ['threatens']], ['always', []], ['mask', ['removes']], ['talk', []], ['people', ['threatens']], ['expressions', ['show']]]\n",
      "['unfriendly', []]\n",
      "['staff', ['keep']]\n",
      "['guards', ['doing']]\n",
      "['job', ['doing']]\n",
      "['staff', ['keep']]\n",
      "['stuff', ['do']]\n",
      "['suppose', ['which', 'they']]\n",
      "['absolutely', []]\n",
      "['atrocious', []]\n",
      "['woman', ['is']]\n",
      "['keeps', ['who']]\n",
      "['tone', ['changing']]\n",
      "['talks', ['she']]\n",
      "['people', ['threatens']]\n",
      "['people', ['threatens']]\n",
      "['always', []]\n",
      "['mask', ['removes']]\n",
      "['talk', []]\n",
      "['people', ['threatens']]\n",
      "['expressions', ['show']]\n",
      "Review Number :  9\n"
     ]
    },
    {
     "name": "stderr",
     "output_type": "stream",
     "text": [
      "\r",
      "  0%|▏                                                                               | 10/3390 [00:09<53:10,  1.06it/s]"
     ]
    },
    {
     "name": "stdout",
     "output_type": "stream",
     "text": [
      "[['staff', ['rude']], ['medical', []], ['screening', []], ['station', []], ['weight', []], ['extremely', []], ['rude', ['staff']], ['unfriendly', []]]\n",
      "['staff', ['rude']]\n",
      "['medical', []]\n",
      "['screening', []]\n",
      "['station', []]\n",
      "['weight', []]\n",
      "['extremely', []]\n",
      "['rude', ['staff']]\n",
      "['unfriendly', []]\n",
      "Review Number :  10\n"
     ]
    },
    {
     "name": "stderr",
     "output_type": "stream",
     "text": [
      "\r",
      "  0%|▎                                                                               | 11/3390 [00:10<46:37,  1.21it/s]"
     ]
    },
    {
     "name": "stdout",
     "output_type": "stream",
     "text": [
      "[['staff', ['impatient']], ['serious', []], ['impatient', ['staff']], ['undesirably', []], ['long', []], ['times', ['recommend']], ['cmpb', ['recommend']], ['friend', []]]\n",
      "['staff', ['impatient']]\n",
      "['serious', []]\n",
      "['impatient', ['staff']]\n",
      "['undesirably', []]\n",
      "['long', []]\n",
      "['times', ['recommend']]\n",
      "['cmpb', ['recommend']]\n",
      "['friend', []]\n",
      "Review Number :  11\n"
     ]
    },
    {
     "name": "stderr",
     "output_type": "stream",
     "text": [
      "\r",
      "  0%|▎                                                                               | 12/3390 [00:11<54:05,  1.04it/s]"
     ]
    },
    {
     "name": "stdout",
     "output_type": "stream",
     "text": [
      "[['sent', ['son']], ['son', ['sent', 'got']], ['preenlistment', []], ['enlistmentcheckup', []], ['morning', []], ['guard', ['give']], ['entrancecouldnt', []], ['clear', []], ['instructions', ['give']], ['son', ['sent', 'got']], ['alight', []], ['couldnt', []], ['drive', ['we']], ['hello', []], ['please', []], ['train', ['army']], ['army', ['train']]]\n",
      "['sent', ['son']]\n",
      "['son', ['sent', 'got']]\n",
      "['preenlistment', []]\n",
      "['enlistmentcheckup', []]\n",
      "['morning', []]\n",
      "['guard', ['give']]\n",
      "['entrancecouldnt', []]\n",
      "['clear', []]\n",
      "['instructions', ['give']]\n",
      "['son', ['sent', 'got']]\n",
      "['alight', []]\n",
      "['couldnt', []]\n",
      "['drive', ['we']]\n",
      "['hello', []]\n",
      "['please', []]\n",
      "['train', ['army']]\n",
      "['army', ['train']]\n",
      "Review Number :  12\n"
     ]
    },
    {
     "name": "stderr",
     "output_type": "stream",
     "text": [
      "\r",
      "  0%|▎                                                                               | 13/3390 [00:12<50:31,  1.11it/s]"
     ]
    },
    {
     "name": "stdout",
     "output_type": "stream",
     "text": [
      "[['inconvenient', []], ['locations', []], ['ever', []], ['terrible', []], ['directions', ['seen']], ['staff', ['expect']], ['whole', []], ['process', ['expect']], ['take', ['hours']], ['hours', ['take']]]\n",
      "['inconvenient', []]\n",
      "['locations', []]\n",
      "['ever', []]\n",
      "['terrible', []]\n",
      "['directions', ['seen']]\n",
      "['staff', ['expect']]\n",
      "['whole', []]\n",
      "['process', ['expect']]\n",
      "['take', ['hours']]\n",
      "['hours', ['take']]\n",
      "Review Number :  13\n"
     ]
    },
    {
     "name": "stderr",
     "output_type": "stream",
     "text": [
      "\r",
      "  0%|▎                                                                               | 14/3390 [00:13<58:02,  1.03s/it]"
     ]
    },
    {
     "name": "stdout",
     "output_type": "stream",
     "text": [
      "[['ok', ['staff']], ['lah', []], ['review', []], ['visitjanuary', []], ['maybe', []], ['sikit', []], ['date', []], ['nsf', []], ['staff', ['ok']], ['ok', ['staff']], ['typical', []], ['bochap', []], ['happy', []], ['bird', []], ['tio', ['vocationmo']], ['switch', []], ['vocationmo', ['tio']], ['hand', []], ['si', []], ['pehbuay', []], ['buaysong', []], ['probably', ['this']]]\n",
      "['ok', ['staff']]\n",
      "['lah', []]\n",
      "['review', []]\n",
      "['visitjanuary', []]\n",
      "['maybe', []]\n",
      "['sikit', []]\n",
      "['date', []]\n",
      "['nsf', []]\n",
      "['staff', ['ok']]\n",
      "['ok', ['staff']]\n",
      "['typical', []]\n",
      "['bochap', []]\n",
      "['happy', []]\n",
      "['bird', []]\n",
      "['tio', ['vocationmo']]\n",
      "['switch', []]\n",
      "['vocationmo', ['tio']]\n",
      "['hand', []]\n",
      "['si', []]\n",
      "['pehbuay', []]\n",
      "['buaysong', []]\n",
      "['probably', ['this']]\n",
      "Review Number :  14\n"
     ]
    },
    {
     "name": "stderr",
     "output_type": "stream",
     "text": [
      "\r",
      "  0%|▎                                                                               | 15/3390 [00:14<50:02,  1.12it/s]"
     ]
    },
    {
     "name": "stdout",
     "output_type": "stream",
     "text": [
      "[['tbh', []], ['bad', ['its']], ['place', []], ['visit', []], ['contrary', []], ['others', ['saying']]]\n",
      "['tbh', []]\n",
      "['bad', ['its']]\n",
      "['place', []]\n",
      "['visit', []]\n",
      "['contrary', []]\n",
      "['others', ['saying']]\n",
      "Review Number :  15\n"
     ]
    },
    {
     "name": "stderr",
     "output_type": "stream",
     "text": [
      "\r",
      "  0%|▍                                                                               | 16/3390 [00:15<55:24,  1.01it/s]"
     ]
    },
    {
     "name": "stdout",
     "output_type": "stream",
     "text": [
      "[['please', []], ['sure', []], ['medical', []], ['conditions', ['declare']], ['severe', []], ['minor', []], ['medical', []], ['officer', []], ['checkup', []], ['fare', ['you']], ['well', []], ['medical', []], ['specialistletter', ['get']]]\n",
      "['please', []]\n",
      "['sure', []]\n",
      "['medical', []]\n",
      "['conditions', ['declare']]\n",
      "['severe', []]\n",
      "['minor', []]\n",
      "['medical', []]\n",
      "['officer', []]\n",
      "['checkup', []]\n",
      "['fare', ['you']]\n",
      "['well', []]\n",
      "['medical', []]\n",
      "['specialistletter', ['get']]\n",
      "Review Number :  16\n"
     ]
    },
    {
     "name": "stderr",
     "output_type": "stream",
     "text": [
      "\r",
      "  1%|▍                                                                               | 17/3390 [00:15<48:02,  1.17it/s]"
     ]
    },
    {
     "name": "stdout",
     "output_type": "stream",
     "text": [
      "[['guards', ['ask']], ['rude', []], ['ask', ['guards', 'question']], ['question', ['ask']], ['ignore', ['they']], ['rest', ['nice']], ['staff', []], ['nice', ['rest']], ['friendly', []]]\n",
      "['guards', ['ask']]\n",
      "['rude', []]\n",
      "['ask', ['guards', 'question']]\n",
      "['question', ['ask']]\n",
      "['ignore', ['they']]\n",
      "['rest', ['nice']]\n",
      "['staff', []]\n",
      "['nice', ['rest']]\n",
      "['friendly', []]\n",
      "Review Number :  17\n"
     ]
    },
    {
     "name": "stderr",
     "output_type": "stream",
     "text": [
      "\r",
      "  1%|▍                                                                               | 18/3390 [00:16<40:16,  1.40it/s]"
     ]
    },
    {
     "name": "stdout",
     "output_type": "stream",
     "text": [
      "[['overall', []], ['great', []], ['experience', []], ['medic', ['professional']], ['professional', ['medic']], ['blooddraw', []]]\n",
      "['overall', []]\n",
      "['great', []]\n",
      "['experience', []]\n",
      "['medic', ['professional']]\n",
      "['professional', ['medic']]\n",
      "['blooddraw', []]\n",
      "Review Number :  18\n"
     ]
    },
    {
     "name": "stderr",
     "output_type": "stream",
     "text": [
      "  1%|▍                                                                               | 20/3390 [00:17<29:23,  1.91it/s]"
     ]
    },
    {
     "name": "stdout",
     "output_type": "stream",
     "text": [
      "[['kind', []], ['people', []], ['cmpd', []], ['medical', []], ['check', []], ['constantly', []], ['smile', []], ['patience', []]]\n",
      "['kind', []]\n",
      "['people', []]\n",
      "['cmpd', []]\n",
      "['medical', []]\n",
      "['check', []]\n",
      "['constantly', []]\n",
      "['smile', []]\n",
      "['patience', []]\n",
      "Review Number :  19\n",
      "[['dont', []], ['bully', ['me']]]\n",
      "['dont', []]\n",
      "['bully', ['me']]\n",
      "Review Number :  20\n"
     ]
    },
    {
     "name": "stderr",
     "output_type": "stream",
     "text": [
      "\r",
      "  1%|▍                                                                               | 21/3390 [00:17<24:15,  2.31it/s]"
     ]
    },
    {
     "name": "stdout",
     "output_type": "stream",
     "text": [
      "[['meh', []], ['staff', ['nice']], ['pretty', []], ['nice', ['staff']]]\n",
      "['meh', []]\n",
      "['staff', ['nice']]\n",
      "['pretty', []]\n",
      "['nice', ['staff']]\n",
      "Review Number :  21\n"
     ]
    },
    {
     "name": "stderr",
     "output_type": "stream",
     "text": [
      "\r",
      "  1%|▌                                                                               | 22/3390 [00:17<25:13,  2.22it/s]"
     ]
    },
    {
     "name": "stdout",
     "output_type": "stream",
     "text": [
      "[['lousy', []], ['service', []], ['dk', []], ['help', ['ask']], ['people', ['ask']], ['question', ['ask']], ['also', []], ['dont', []], ['ask', ['help', 'people', 'question', 'taiji']], ['taiji', ['ask']]]\n",
      "['lousy', []]\n",
      "['service', []]\n",
      "['dk', []]\n",
      "['help', ['ask']]\n",
      "['people', ['ask']]\n",
      "['question', ['ask']]\n",
      "['also', []]\n",
      "['dont', []]\n",
      "['ask', ['help', 'people', 'question', 'taiji']]\n",
      "['taiji', ['ask']]\n",
      "Review Number :  22\n"
     ]
    },
    {
     "name": "stderr",
     "output_type": "stream",
     "text": [
      "\r",
      "  1%|▌                                                                               | 23/3390 [00:18<35:00,  1.60it/s]"
     ]
    },
    {
     "name": "stdout",
     "output_type": "stream",
     "text": [
      "[['tuesday', []], ['negative', []], ['reviews', []], ['share', ['i', 'opinion']], ['quick', []], ['personal', []], ['opinion', ['share']], ['perhaps', []], ['varies', ['it']], ['person', []], ['person', []], ['trip', ['great']], ['cmpb', []], ['ultimately', []], ['great', ['trip']], ['definitely', []], ['memorable', []], ['experience', []], ['medical', []]]\n",
      "['tuesday', []]\n",
      "['negative', []]\n",
      "['reviews', []]\n",
      "['share', ['i', 'opinion']]\n",
      "['quick', []]\n",
      "['personal', []]\n",
      "['opinion', ['share']]\n",
      "['perhaps', []]\n",
      "['varies', ['it']]\n",
      "['person', []]\n",
      "['person', []]\n",
      "['trip', ['great']]\n",
      "['cmpb', []]\n",
      "['ultimately', []]\n",
      "['great', ['trip']]\n",
      "['definitely', []]\n",
      "['memorable', []]\n",
      "['experience', []]\n",
      "['medical', []]\n",
      "Review Number :  23\n"
     ]
    },
    {
     "name": "stderr",
     "output_type": "stream",
     "text": [
      "\r",
      "  1%|▌                                                                               | 24/3390 [00:19<28:47,  1.95it/s]"
     ]
    },
    {
     "name": "stdout",
     "output_type": "stream",
     "text": [
      "[['medical', []], ['check', ['place']], ['place', ['check']], ['saf', []]]\n",
      "['medical', []]\n",
      "['check', ['place']]\n",
      "['place', ['check']]\n",
      "['saf', []]\n",
      "Review Number :  24\n"
     ]
    },
    {
     "name": "stderr",
     "output_type": "stream",
     "text": [
      "\r",
      "  1%|▌                                                                               | 25/3390 [00:19<24:41,  2.27it/s]"
     ]
    },
    {
     "name": "stdout",
     "output_type": "stream",
     "text": [
      "[['others', []], ['dirt', []]]\n",
      "['others', []]\n",
      "['dirt', []]\n",
      "Review Number :  25\n"
     ]
    },
    {
     "name": "stderr",
     "output_type": "stream",
     "text": [
      "\r",
      "  1%|▌                                                                               | 26/3390 [00:19<27:25,  2.04it/s]"
     ]
    },
    {
     "name": "stdout",
     "output_type": "stream",
     "text": [
      "[['preenlistment', []], ['sessions', ['screening']], ['chargeinconvenient', []], ['inconvenientlocation', ['answer']]]\n",
      "['preenlistment', []]\n",
      "['sessions', ['screening']]\n",
      "['chargeinconvenient', []]\n",
      "['inconvenientlocation', ['answer']]\n",
      "Review Number :  26\n"
     ]
    },
    {
     "name": "stderr",
     "output_type": "stream",
     "text": [
      "\r",
      "  1%|▋                                                                               | 27/3390 [00:20<26:31,  2.11it/s]"
     ]
    },
    {
     "name": "stdout",
     "output_type": "stream",
     "text": [
      "[['cookhouse', []], ['nsf', ['need']], ['meagre', []], ['pay', []]]\n",
      "['cookhouse', []]\n",
      "['nsf', ['need']]\n",
      "['meagre', []]\n",
      "['pay', []]\n",
      "Review Number :  27\n"
     ]
    },
    {
     "name": "stderr",
     "output_type": "stream",
     "text": [
      "\r",
      "  1%|▋                                                                               | 28/3390 [00:21<33:22,  1.68it/s]"
     ]
    },
    {
     "name": "stdout",
     "output_type": "stream",
     "text": [
      "[['officerattitude', ['good']], ['good', ['officerattitude']], ['patience', ['understand']], ['servicei', []], ['dont', []], ['use', ['he', 'tone']], ['unfriendly', []], ['tone', ['use']], ['repeat', []], ['language', []]]\n",
      "['officerattitude', ['good']]\n",
      "['good', ['officerattitude']]\n",
      "['patience', ['understand']]\n",
      "['servicei', []]\n",
      "['dont', []]\n",
      "['use', ['he', 'tone']]\n",
      "['unfriendly', []]\n",
      "['tone', ['use']]\n",
      "['repeat', []]\n",
      "['language', []]\n",
      "Review Number :  28\n"
     ]
    },
    {
     "name": "stderr",
     "output_type": "stream",
     "text": [
      "\r",
      "  1%|▋                                                                               | 29/3390 [00:22<38:51,  1.44it/s]"
     ]
    },
    {
     "name": "stdout",
     "output_type": "stream",
     "text": [
      "[['idk', []], ['many', []], ['people', ['give']], ['negative', []], ['reviews', ['give']], ['medical', []], ['check', []], ['staff', ['friendly']], ['friendly', ['staff']], ['nsf', ['cool']], ['cool', ['nsf']], ['overall', []], ['good', []], ['experience', ['had']]]\n",
      "['idk', []]\n",
      "['many', []]\n",
      "['people', ['give']]\n",
      "['negative', []]\n",
      "['reviews', ['give']]\n",
      "['medical', []]\n",
      "['check', []]\n",
      "['staff', ['friendly']]\n",
      "['friendly', ['staff']]\n",
      "['nsf', ['cool']]\n",
      "['cool', ['nsf']]\n",
      "['overall', []]\n",
      "['good', []]\n",
      "['experience', ['had']]\n",
      "Review Number :  29\n"
     ]
    },
    {
     "name": "stderr",
     "output_type": "stream",
     "text": [
      "\r",
      "  1%|▋                                                                               | 30/3390 [00:22<31:12,  1.79it/s]"
     ]
    },
    {
     "name": "stdout",
     "output_type": "stream",
     "text": [
      "[['gold', []], ['star', []], ['public', []], ['service', []]]\n",
      "['gold', []]\n",
      "['star', []]\n",
      "['public', []]\n",
      "['service', []]\n",
      "Review Number :  30\n"
     ]
    },
    {
     "name": "stderr",
     "output_type": "stream",
     "text": [
      "\r",
      "  1%|▋                                                                               | 31/3390 [00:23<33:55,  1.65it/s]"
     ]
    },
    {
     "name": "stdout",
     "output_type": "stream",
     "text": [
      "[['hrs', []], ['form', []], ['meeting', []], ['even', []], ['really', []], ['bored', []], ['cold', []], ['air', []], ['wifi', []]]\n",
      "['hrs', []]\n",
      "['form', []]\n",
      "['meeting', []]\n",
      "['even', []]\n",
      "['really', []]\n",
      "['bored', []]\n",
      "['cold', []]\n",
      "['air', []]\n",
      "['wifi', []]\n",
      "Review Number :  31\n",
      "[['accessible', []]]"
     ]
    },
    {
     "name": "stderr",
     "output_type": "stream",
     "text": [
      "\r",
      "  1%|▊                                                                               | 32/3390 [00:23<27:08,  2.06it/s]"
     ]
    },
    {
     "name": "stdout",
     "output_type": "stream",
     "text": [
      "\n",
      "['accessible', []]\n",
      "Review Number :  32\n"
     ]
    },
    {
     "name": "stderr",
     "output_type": "stream",
     "text": [
      "\r",
      "  1%|▊                                                                               | 33/3390 [00:23<24:07,  2.32it/s]"
     ]
    },
    {
     "name": "stdout",
     "output_type": "stream",
     "text": [
      "[['extremely', []], ['poor', []], ['rude', []], ['customerservice', []]]\n",
      "['extremely', []]\n",
      "['poor', []]\n",
      "['rude', []]\n",
      "['customerservice', []]\n",
      "Review Number :  33\n"
     ]
    },
    {
     "name": "stderr",
     "output_type": "stream",
     "text": [
      "\r",
      "  1%|▊                                                                               | 34/3390 [00:23<20:18,  2.75it/s]"
     ]
    },
    {
     "name": "stdout",
     "output_type": "stream",
     "text": [
      "[['worst', []], ['day', []], ['life', []]]\n",
      "['worst', []]\n",
      "['day', []]\n",
      "['life', []]\n",
      "Review Number :  34\n"
     ]
    },
    {
     "name": "stderr",
     "output_type": "stream",
     "text": [
      "\r",
      "  1%|▊                                                                               | 35/3390 [00:24<20:09,  2.77it/s]"
     ]
    },
    {
     "name": "stdout",
     "output_type": "stream",
     "text": [
      "[['wooo', []], ['real', []], ['edgy', []], ['ziyuan', ['writer']], ['novel', []], ['writer', ['ziyuan', 'you']]]\n",
      "['wooo', []]\n",
      "['real', []]\n",
      "['edgy', []]\n",
      "['ziyuan', ['writer']]\n",
      "['novel', []]\n",
      "['writer', ['ziyuan', 'you']]\n",
      "Review Number :  35\n"
     ]
    },
    {
     "name": "stderr",
     "output_type": "stream",
     "text": [
      "\r",
      "  1%|▊                                                                               | 36/3390 [00:24<22:15,  2.51it/s]"
     ]
    },
    {
     "name": "stdout",
     "output_type": "stream",
     "text": [
      "[['highly', []], ['inaccessible', []], ['hard', []], ['get', []], ['mrt', []], ['stations', []]]\n",
      "['highly', []]\n",
      "['inaccessible', []]\n",
      "['hard', []]\n",
      "['get', []]\n",
      "['mrt', []]\n",
      "['stations', []]\n",
      "Review Number :  36\n"
     ]
    },
    {
     "name": "stderr",
     "output_type": "stream",
     "text": [
      "\r",
      "  1%|▊                                                                               | 37/3390 [00:24<19:48,  2.82it/s]"
     ]
    },
    {
     "name": "stdout",
     "output_type": "stream",
     "text": [
      "[['bane', []], ['existence', []]]\n",
      "['bane', []]\n",
      "['existence', []]\n",
      "Review Number :  37\n"
     ]
    },
    {
     "name": "stderr",
     "output_type": "stream",
     "text": [
      "\r",
      "  1%|▉                                                                               | 38/3390 [00:25<27:40,  2.02it/s]"
     ]
    },
    {
     "name": "stdout",
     "output_type": "stream",
     "text": [
      "[['cookhouse', []], ['book', []], ['everyday', []], ['troublesome', []], ['thing', ['discussing']], ['whats', ['discussing']], ['sidenotecanteen', []], ['canteenb', ['bad']], ['bad', ['canteenb']], ['real', []], ['bad', ['canteenb']]]\n",
      "['cookhouse', []]\n",
      "['book', []]\n",
      "['everyday', []]\n",
      "['troublesome', []]\n",
      "['thing', ['discussing']]\n",
      "['whats', ['discussing']]\n",
      "['sidenotecanteen', []]\n",
      "['canteenb', ['bad']]\n",
      "['bad', ['canteenb']]\n",
      "['real', []]\n",
      "['bad', ['canteenb']]\n",
      "Review Number :  38\n"
     ]
    },
    {
     "name": "stderr",
     "output_type": "stream",
     "text": [
      "\r",
      "  1%|▉                                                                               | 39/3390 [00:26<25:45,  2.17it/s]"
     ]
    },
    {
     "name": "stdout",
     "output_type": "stream",
     "text": [
      "[['people', ['go']], ['even', []], ['placemiddle', []], ['nowhere', []]]\n",
      "['people', ['go']]\n",
      "['even', []]\n",
      "['placemiddle', []]\n",
      "['nowhere', []]\n",
      "Review Number :  39\n"
     ]
    },
    {
     "name": "stderr",
     "output_type": "stream",
     "text": [
      "  1%|▉                                                                               | 41/3390 [00:26<23:14,  2.40it/s]"
     ]
    },
    {
     "name": "stdout",
     "output_type": "stream",
     "text": [
      "[['officertalk', []], ['money', ['own']], ['hard', []], ['middle', []], ['village', []], ['something', []]]\n",
      "['officertalk', []]\n",
      "['money', ['own']]\n",
      "['hard', []]\n",
      "['middle', []]\n",
      "['village', []]\n",
      "['something', []]\n",
      "Review Number :  40\n",
      "[['rude', []], ['staff', []]]\n",
      "['rude', []]\n",
      "['staff', []]\n",
      "Review Number :  41\n"
     ]
    },
    {
     "name": "stderr",
     "output_type": "stream",
     "text": [
      "\r",
      "  1%|▉                                                                               | 42/3390 [00:27<22:54,  2.44it/s]"
     ]
    },
    {
     "name": "stdout",
     "output_type": "stream",
     "text": [
      "[['inaccessible', []], ['need', []], ['h', []], ['time', ['travel']], ['waste', ['more']], ['time', ['travel']]]\n",
      "['inaccessible', []]\n",
      "['need', []]\n",
      "['h', []]\n",
      "['time', ['travel']]\n",
      "['waste', ['more']]\n",
      "['time', ['travel']]\n",
      "Review Number :  42\n"
     ]
    },
    {
     "name": "stderr",
     "output_type": "stream",
     "text": [
      "\r",
      "  1%|█                                                                               | 43/3390 [00:27<21:01,  2.65it/s]"
     ]
    },
    {
     "name": "stdout",
     "output_type": "stream",
     "text": [
      "[['far', []], ['away', []], ['middle', []], ['nowhere', []]]\n",
      "['far', []]\n",
      "['away', []]\n",
      "['middle', []]\n",
      "['nowhere', []]\n",
      "Review Number :  43\n"
     ]
    },
    {
     "name": "stderr",
     "output_type": "stream",
     "text": [
      "\r",
      "  1%|█                                                                               | 44/3390 [00:28<21:23,  2.61it/s]"
     ]
    },
    {
     "name": "stdout",
     "output_type": "stream",
     "text": [
      "[['bad', []], ['security', []], ['troopers', []], ['bad', []], ['attitude', ['have']], ['towards', []], ['public', []]]\n",
      "['bad', []]\n",
      "['security', []]\n",
      "['troopers', []]\n",
      "['bad', []]\n",
      "['attitude', ['have']]\n",
      "['towards', []]\n",
      "['public', []]\n",
      "Review Number :  44\n"
     ]
    },
    {
     "name": "stderr",
     "output_type": "stream",
     "text": [
      "\r",
      "  1%|█                                                                               | 45/3390 [00:28<18:47,  2.97it/s]"
     ]
    },
    {
     "name": "stdout",
     "output_type": "stream",
     "text": [
      "[['middle', []], ['nowhere', []]]\n",
      "['middle', []]\n",
      "['nowhere', []]\n",
      "Review Number :  45\n"
     ]
    },
    {
     "name": "stderr",
     "output_type": "stream",
     "text": [
      "\r",
      "  1%|█                                                                               | 46/3390 [00:28<20:06,  2.77it/s]"
     ]
    },
    {
     "name": "stdout",
     "output_type": "stream",
     "text": [
      "[['place', []], ['well', []], ['people', ['kept']], ['unbelievably', []]]\n",
      "['place', []]\n",
      "['well', []]\n",
      "['people', ['kept']]\n",
      "['unbelievably', []]\n",
      "Review Number :  46\n",
      "[['bad', []], ['service', []]]"
     ]
    },
    {
     "name": "stderr",
     "output_type": "stream",
     "text": [
      "\r",
      "  1%|█                                                                               | 47/3390 [00:28<17:16,  3.23it/s]"
     ]
    },
    {
     "name": "stdout",
     "output_type": "stream",
     "text": [
      "\n",
      "['bad', []]\n",
      "['service', []]\n",
      "Review Number :  47\n"
     ]
    },
    {
     "name": "stderr",
     "output_type": "stream",
     "text": [
      "\r",
      "  1%|█▏                                                                              | 48/3390 [00:29<19:13,  2.90it/s]"
     ]
    },
    {
     "name": "stdout",
     "output_type": "stream",
     "text": [
      "[['interestingly', []], ['enough', []], ['negative', []], ['reviews', []]]\n",
      "['interestingly', []]\n",
      "['enough', []]\n",
      "['negative', []]\n",
      "['reviews', []]\n",
      "Review Number :  48\n",
      "[['bad', []], ['service', []]]"
     ]
    },
    {
     "name": "stderr",
     "output_type": "stream",
     "text": [
      "\r",
      "  1%|█▏                                                                              | 49/3390 [00:29<16:39,  3.34it/s]"
     ]
    },
    {
     "name": "stdout",
     "output_type": "stream",
     "text": [
      "\n",
      "['bad', []]\n",
      "['service', []]\n",
      "Review Number :  49\n"
     ]
    },
    {
     "name": "stderr",
     "output_type": "stream",
     "text": [
      "  2%|█▏                                                                              | 51/3390 [00:30<17:03,  3.26it/s]"
     ]
    },
    {
     "name": "stdout",
     "output_type": "stream",
     "text": [
      "[['sheat', []], ['dirty', []], ['pigs', []], ['step', []], ['minefields', []]]\n",
      "['sheat', []]\n",
      "['dirty', []]\n",
      "['pigs', []]\n",
      "['step', []]\n",
      "['minefields', []]\n",
      "Review Number :  50\n",
      "[['gncpresent', []]]\n",
      "['gncpresent', []]\n",
      "Review Number :  51\n"
     ]
    },
    {
     "name": "stderr",
     "output_type": "stream",
     "text": [
      "\r",
      "  2%|█▏                                                                              | 52/3390 [00:30<18:26,  3.02it/s]"
     ]
    },
    {
     "name": "stdout",
     "output_type": "stream",
     "text": [
      "[['google', []], ['regards', []], ['original', []], ['hormatsaf', []]]\n",
      "['google', []]\n",
      "['regards', []]\n",
      "['original', []]\n",
      "['hormatsaf', []]\n",
      "Review Number :  52\n"
     ]
    },
    {
     "name": "stderr",
     "output_type": "stream",
     "text": [
      "\r",
      "  2%|█▎                                                                              | 53/3390 [00:30<17:11,  3.24it/s]"
     ]
    },
    {
     "name": "stdout",
     "output_type": "stream",
     "text": [
      "[['cplong', ['medic']], ['medic', ['cplong']]]\n",
      "['cplong', ['medic']]\n",
      "['medic', ['cplong']]\n",
      "Review Number :  53\n"
     ]
    },
    {
     "name": "stderr",
     "output_type": "stream",
     "text": [
      "\r",
      "  2%|█▎                                                                              | 54/3390 [00:31<19:29,  2.85it/s]"
     ]
    },
    {
     "name": "stdout",
     "output_type": "stream",
     "text": [
      "[['outstanding', []], ['medics', []], ['mos', []], ['figure', ['it', 'yourself']]]\n",
      "['outstanding', []]\n",
      "['medics', []]\n",
      "['mos', []]\n",
      "['figure', ['it', 'yourself']]\n",
      "Review Number :  54\n"
     ]
    },
    {
     "name": "stderr",
     "output_type": "stream",
     "text": [
      "\r",
      "  2%|█▎                                                                              | 55/3390 [00:31<17:27,  3.18it/s]"
     ]
    },
    {
     "name": "stdout",
     "output_type": "stream",
     "text": [
      "[['great', []], ['dispensary', []]]\n",
      "['great', []]\n",
      "['dispensary', []]\n",
      "Review Number :  55\n"
     ]
    },
    {
     "name": "stderr",
     "output_type": "stream",
     "text": [
      "\r",
      "  2%|█▎                                                                              | 56/3390 [00:32<33:57,  1.64it/s]"
     ]
    },
    {
     "name": "stdout",
     "output_type": "stream",
     "text": [
      "[['great', []], ['food', []], ['friendly', []], ['staff', []], ['seem', ['they']], ['military', []], ['theme', ['have']], ['make', []], ['sure', []], ['tell', ['you']], ['youre', ['coming']], ['beforehand', []], ['security', ['take']], ['seriously', []], ['barbedwire', []], ['signage', []], ['proclaiming', ['it']], ['area', []]]\n",
      "['great', []]\n",
      "['food', []]\n",
      "['friendly', []]\n",
      "['staff', []]\n",
      "['seem', ['they']]\n",
      "['military', []]\n",
      "['theme', ['have']]\n",
      "['make', []]\n",
      "['sure', []]\n",
      "['tell', ['you']]\n",
      "['youre', ['coming']]\n",
      "['beforehand', []]\n",
      "['security', ['take']]\n",
      "['seriously', []]\n",
      "['barbedwire', []]\n",
      "['signage', []]\n",
      "['proclaiming', ['it']]\n",
      "['area', []]\n",
      "Review Number :  56\n"
     ]
    },
    {
     "name": "stderr",
     "output_type": "stream",
     "text": [
      "\r",
      "  2%|█▎                                                                              | 57/3390 [00:33<30:23,  1.83it/s]"
     ]
    },
    {
     "name": "stdout",
     "output_type": "stream",
     "text": [
      "[['great', []], ['place', []], ['ippt', []], ['training', []], ['instructors', ['professional']], ['professional', ['instructors']]]\n",
      "['great', []]\n",
      "['place', []]\n",
      "['ippt', []]\n",
      "['training', []]\n",
      "['instructors', ['professional']]\n",
      "['professional', ['instructors']]\n",
      "Review Number :  57\n"
     ]
    },
    {
     "name": "stderr",
     "output_type": "stream",
     "text": [
      "\r",
      "  2%|█▎                                                                              | 58/3390 [00:33<26:04,  2.13it/s]"
     ]
    },
    {
     "name": "stdout",
     "output_type": "stream",
     "text": [
      "[['dont', []], ['proof', ['what']], ['ippt', []]]\n",
      "['dont', []]\n",
      "['proof', ['what']]\n",
      "['ippt', []]\n",
      "Review Number :  58\n"
     ]
    },
    {
     "name": "stderr",
     "output_type": "stream",
     "text": [
      "\r",
      "  2%|█▍                                                                              | 59/3390 [00:33<22:20,  2.49it/s]"
     ]
    },
    {
     "name": "stdout",
     "output_type": "stream",
     "text": [
      "[['ippt', ['here']], ['good', []], ['facilities', ['here']]]\n",
      "['ippt', ['here']]\n",
      "['good', []]\n",
      "['facilities', ['here']]\n",
      "Review Number :  59\n"
     ]
    },
    {
     "name": "stderr",
     "output_type": "stream",
     "text": [
      "\r",
      "  2%|█▍                                                                              | 60/3390 [00:34<21:25,  2.59it/s]"
     ]
    },
    {
     "name": "stdout",
     "output_type": "stream",
     "text": [
      "[['note', []], ['entrance', ['kciii']], ['kciii', ['entrance']]]\n",
      "['note', []]\n",
      "['entrance', ['kciii']]\n",
      "['kciii', ['entrance']]\n",
      "Review Number :  60\n",
      "[]\n",
      "Review Number :  61\n"
     ]
    },
    {
     "name": "stderr",
     "output_type": "stream",
     "text": [
      "\r",
      "  2%|█▍                                                                              | 62/3390 [00:34<14:16,  3.88it/s]"
     ]
    },
    {
     "name": "stdout",
     "output_type": "stream",
     "text": [
      "[['silver', ['got']]]\n",
      "['silver', ['got']]\n",
      "Review Number :  62\n"
     ]
    },
    {
     "name": "stderr",
     "output_type": "stream",
     "text": [
      "\r",
      "  2%|█▍                                                                              | 63/3390 [00:34<15:02,  3.69it/s]"
     ]
    },
    {
     "name": "stdout",
     "output_type": "stream",
     "text": [
      "[['tmrippt', []], ['ipptpls', ['give']], ['silver', ['give']]]\n",
      "['tmrippt', []]\n",
      "['ipptpls', ['give']]\n",
      "['silver', ['give']]\n",
      "Review Number :  63\n"
     ]
    },
    {
     "name": "stderr",
     "output_type": "stream",
     "text": [
      "\r",
      "  2%|█▌                                                                              | 64/3390 [00:35<16:48,  3.30it/s]"
     ]
    },
    {
     "name": "stdout",
     "output_type": "stream",
     "text": [
      "[['km', ['indoor']], ['indoor', ['km']], ['matter', []], ['please', []], ['train', ['what']], ['ippt', []]]\n",
      "['km', ['indoor']]\n",
      "['indoor', ['km']]\n",
      "['matter', []]\n",
      "['please', []]\n",
      "['train', ['what']]\n",
      "['ippt', []]\n",
      "Review Number :  64\n",
      "[['train', []], ['fits', []]]"
     ]
    },
    {
     "name": "stderr",
     "output_type": "stream",
     "text": [
      "  2%|█▌                                                                              | 66/3390 [00:35<13:12,  4.19it/s]"
     ]
    },
    {
     "name": "stdout",
     "output_type": "stream",
     "text": [
      "\n",
      "['train', []]\n",
      "['fits', []]\n",
      "Review Number :  65\n",
      "[['good', []]]\n",
      "['good', []]\n",
      "Review Number :  66\n"
     ]
    },
    {
     "name": "stderr",
     "output_type": "stream",
     "text": [
      "\r",
      "  2%|█▌                                                                              | 67/3390 [00:35<15:05,  3.67it/s]"
     ]
    },
    {
     "name": "stdout",
     "output_type": "stream",
     "text": [
      "[['googlertrt', []], ['original', []], ['rtrt', []]]\n",
      "['googlertrt', []]\n",
      "['original', []]\n",
      "['rtrt', []]\n",
      "Review Number :  67\n"
     ]
    },
    {
     "name": "stderr",
     "output_type": "stream",
     "text": [
      "\r",
      "  2%|█▌                                                                              | 68/3390 [00:35<14:18,  3.87it/s]"
     ]
    },
    {
     "name": "stdout",
     "output_type": "stream",
     "text": [
      "[['fast', []], ['furious', []]]\n",
      "['fast', []]\n",
      "['furious', []]\n",
      "Review Number :  68\n"
     ]
    },
    {
     "name": "stderr",
     "output_type": "stream",
     "text": [
      "\r",
      "  2%|█▋                                                                              | 69/3390 [00:36<21:37,  2.56it/s]"
     ]
    },
    {
     "name": "stdout",
     "output_type": "stream",
     "text": [
      "[['fun', []], ['place', []], ['stress', []], ['iget', ['called']], ['kappa', ['called']]]\n",
      "['fun', []]\n",
      "['place', []]\n",
      "['stress', []]\n",
      "['iget', ['called']]\n",
      "['kappa', ['called']]\n",
      "Review Number :  69\n"
     ]
    },
    {
     "name": "stderr",
     "output_type": "stream",
     "text": [
      "\r",
      "  2%|█▋                                                                              | 70/3390 [00:37<23:07,  2.39it/s]"
     ]
    },
    {
     "name": "stdout",
     "output_type": "stream",
     "text": [
      "[['ippt', ['took']], ['see', ['you', 'sign']], ['sign', ['see']], ['road', ['follow']], ['reach', ['entrance']], ['main', []], ['entrance', ['reach']]]\n",
      "['ippt', ['took']]\n",
      "['see', ['you', 'sign']]\n",
      "['sign', ['see']]\n",
      "['road', ['follow']]\n",
      "['reach', ['entrance']]\n",
      "['main', []]\n",
      "['entrance', ['reach']]\n",
      "Review Number :  70\n"
     ]
    },
    {
     "name": "stderr",
     "output_type": "stream",
     "text": [
      "\r",
      "  2%|█▋                                                                              | 71/3390 [00:37<24:21,  2.27it/s]"
     ]
    },
    {
     "name": "stdout",
     "output_type": "stream",
     "text": [
      "[['wgtord', []], ['serious', []], ['notei', []], ['tough', []], ['place', ['friends']], ['friends', ['place']]]\n",
      "['wgtord', []]\n",
      "['serious', []]\n",
      "['notei', []]\n",
      "['tough', []]\n",
      "['place', ['friends']]\n",
      "['friends', ['place']]\n",
      "Review Number :  71\n"
     ]
    },
    {
     "name": "stderr",
     "output_type": "stream",
     "text": [
      "\r",
      "  2%|█▋                                                                              | 72/3390 [00:38<26:28,  2.09it/s]"
     ]
    },
    {
     "name": "stdout",
     "output_type": "stream",
     "text": [
      "[['ive', []], ['rt', []], ['ippt', []], ['years', []], ['still', []], ['years', []]]\n",
      "['ive', []]\n",
      "['rt', []]\n",
      "['ippt', []]\n",
      "['years', []]\n",
      "['still', []]\n",
      "['years', []]\n",
      "Review Number :  72\n"
     ]
    },
    {
     "name": "stderr",
     "output_type": "stream",
     "text": [
      "\r",
      "  2%|█▋                                                                              | 73/3390 [00:38<22:40,  2.44it/s]"
     ]
    },
    {
     "name": "stdout",
     "output_type": "stream",
     "text": [
      "[['oneofthefcc', []], ['ippt', []]]\n",
      "['oneofthefcc', []]\n",
      "['ippt', []]\n",
      "Review Number :  73\n"
     ]
    },
    {
     "name": "stderr",
     "output_type": "stream",
     "text": [
      "\r",
      "  2%|█▋                                                                              | 74/3390 [00:38<21:07,  2.62it/s]"
     ]
    },
    {
     "name": "stdout",
     "output_type": "stream",
     "text": [
      "[['clear', []], ['rt', []], ['ippt', []], ['ippt', []]]\n",
      "['clear', []]\n",
      "['rt', []]\n",
      "['ippt', []]\n",
      "['ippt', []]\n",
      "Review Number :  74\n"
     ]
    },
    {
     "name": "stderr",
     "output_type": "stream",
     "text": [
      "  2%|█▊                                                                              | 76/3390 [00:39<18:39,  2.96it/s]"
     ]
    },
    {
     "name": "stdout",
     "output_type": "stream",
     "text": [
      "[['location', ['ulu']], ['ulu', ['location']], ['years', []], ['part', ['this']], ['sea', []]]\n",
      "['location', ['ulu']]\n",
      "['ulu', ['location']]\n",
      "['years', []]\n",
      "['part', ['this']]\n",
      "['sea', []]\n",
      "Review Number :  75\n",
      "[['ippt', []], ['year', []]]\n",
      "['ippt', []]\n",
      "['year', []]\n",
      "Review Number :  76\n"
     ]
    },
    {
     "name": "stderr",
     "output_type": "stream",
     "text": [
      "\r",
      "  2%|█▊                                                                              | 77/3390 [00:39<17:38,  3.13it/s]"
     ]
    },
    {
     "name": "stdout",
     "output_type": "stream",
     "text": [
      "[['whete', []], ['get', []]]\n",
      "['whete', []]\n",
      "['get', []]\n",
      "Review Number :  77\n"
     ]
    },
    {
     "name": "stderr",
     "output_type": "stream",
     "text": [
      "\r",
      "  2%|█▊                                                                              | 78/3390 [00:39<15:49,  3.49it/s]"
     ]
    },
    {
     "name": "stdout",
     "output_type": "stream",
     "text": [
      "[['life', []], ['nsman', []]]\n",
      "['life', []]\n",
      "['nsman', []]\n",
      "Review Number :  78\n"
     ]
    },
    {
     "name": "stderr",
     "output_type": "stream",
     "text": [
      "\r",
      "  2%|█▊                                                                              | 79/3390 [00:40<26:42,  2.07it/s]"
     ]
    },
    {
     "name": "stdout",
     "output_type": "stream",
     "text": [
      "[['anyone', ['confirm']], ['confirm', ['anyone', 'this']], ['clear', ['i', 'ffi']], ['ffi', ['clear', 'go', 'call']], ['last', []], ['yr', []], ['saf', ['received']], ['ffi', ['clear', 'go', 'call']], ['marchi', []], ['ffi', ['clear', 'go', 'call']], ['year', []], ['anyhow', []], ['call', ['ffi', 'they', 'me']], ['back', []]]\n",
      "['anyone', ['confirm']]\n",
      "['confirm', ['anyone', 'this']]\n",
      "['clear', ['i', 'ffi']]\n",
      "['ffi', ['clear', 'go', 'call']]\n",
      "['last', []]\n",
      "['yr', []]\n",
      "['saf', ['received']]\n",
      "['ffi', ['clear', 'go', 'call']]\n",
      "['marchi', []]\n",
      "['ffi', ['clear', 'go', 'call']]\n",
      "['year', []]\n",
      "['anyhow', []]\n",
      "['call', ['ffi', 'they', 'me']]\n",
      "['back', []]\n",
      "Review Number :  79\n"
     ]
    },
    {
     "name": "stderr",
     "output_type": "stream",
     "text": [
      "\r",
      "  2%|█▉                                                                              | 80/3390 [00:41<24:12,  2.28it/s]"
     ]
    },
    {
     "name": "stdout",
     "output_type": "stream",
     "text": [
      "[['system', ['changed']], ['longer', []], ['phase', ['have']]]\n",
      "['system', ['changed']]\n",
      "['longer', []]\n",
      "['phase', ['have']]\n",
      "Review Number :  80\n"
     ]
    },
    {
     "name": "stderr",
     "output_type": "stream",
     "text": [
      "\r",
      "  2%|█▉                                                                              | 81/3390 [00:42<33:07,  1.66it/s]"
     ]
    },
    {
     "name": "stdout",
     "output_type": "stream",
     "text": [
      "[['ok', []], ['nsf', []], ['first', []], ['bloodtest', []], ['testi', []], ['poked', []], ['times', []], ['still', []], ['blood', ['extract']], ['full', []], ['time', []], ['senior', []], ['medic', ['came']], ['shot', []], ['killswee', ['came']]]\n",
      "['ok', []]\n",
      "['nsf', []]\n",
      "['first', []]\n",
      "['bloodtest', []]\n",
      "['testi', []]\n",
      "['poked', []]\n",
      "['times', []]\n",
      "['still', []]\n",
      "['blood', ['extract']]\n",
      "['full', []]\n",
      "['time', []]\n",
      "['senior', []]\n",
      "['medic', ['came']]\n",
      "['shot', []]\n",
      "['killswee', ['came']]\n",
      "Review Number :  81\n"
     ]
    },
    {
     "name": "stderr",
     "output_type": "stream",
     "text": [
      "\r",
      "  2%|█▉                                                                              | 82/3390 [00:42<28:26,  1.94it/s]"
     ]
    },
    {
     "name": "stdout",
     "output_type": "stream",
     "text": [
      "[['lucky', []], ['u', []], ['lolzi', []], ['hv', []], ['nvr', ['got']], ['ffi', ['got']]]\n",
      "['lucky', []]\n",
      "['u', []]\n",
      "['lolzi', []]\n",
      "['hv', []]\n",
      "['nvr', ['got']]\n",
      "['ffi', ['got']]\n",
      "Review Number :  82\n"
     ]
    },
    {
     "name": "stderr",
     "output_type": "stream",
     "text": [
      "\r",
      "  2%|█▉                                                                              | 83/3390 [00:42<23:28,  2.35it/s]"
     ]
    },
    {
     "name": "stdout",
     "output_type": "stream",
     "text": [
      "[['arrange', ['who', 'unit']], ['ffi', []], ['unit', ['arrange']]]\n",
      "['arrange', ['who', 'unit']]\n",
      "['ffi', []]\n",
      "['unit', ['arrange']]\n",
      "Review Number :  83\n"
     ]
    },
    {
     "name": "stderr",
     "output_type": "stream",
     "text": [
      "\r",
      "  2%|█▉                                                                            | 84/3390 [00:48<1:57:10,  2.13s/it]"
     ]
    },
    {
     "name": "stdout",
     "output_type": "stream",
     "text": [
      "[['wah', []], ['really', []], ['yearliao', []], ['quote', ['go']], ['mindef', []], ['services', []], ['ipptrt', []], ['faq', []], ['medical', []], ['excuse', []], ['examinationq', []], ['qi', ['reached']], ['years', []], ['old', ['you', 'you']], ['need', ['i', 'is']], ['ipptffi', ['do', 'what', 'do', 'do']], ['ipptffi', ['do', 'what', 'do', 'do']], ['term', []], ['compulsory', []], ['medical', []], ['examination', []], ['ippteligible', []], ['nsmen', ['aged']], ['ipptffi', ['do', 'what', 'do', 'do']], ['safhealth', []], ['programme', ['completed', 'complete']], ['effect', []], ['separate', []], ['ipptffi', ['do', 'what', 'do', 'do']], ['already', []], ['safhealth', []], ['programme', ['completed', 'complete']], ['year', []], ['ippteligible', []], ['nsmen', ['aged']], ['years', []], ['complete', ['programme']], ['safhealth', []], ['programme', ['completed', 'complete']], ['year', []], ['ippt', ['take']], ['aim', []], ['medical', []], ['screening', []], ['detect', ['conditions']], ['medical', []], ['conditions', ['detect']], ['unsuitable', []], ['ippt', ['take']], ['take', ['ippt']], ['ippt', ['take']], ['years', []], ['old', ['you', 'you']], ['saf', []], ['health', []], ['programme', ['completed', 'complete']], ['requirements', ['completed']], ['year', []], ['safhealth', []], ['programmereview', []], ['ns', []], ['unitadministrator', []], ['ipptwindow', []], ['windowbirthday', []], ['open', ['birthdaywindow']], ['certificate', ['valid', 'valid']], ['completion', []], ['health', []], ['programme', ['completed', 'complete']], ['requirements', ['completed']], ['valid', ['certificate', 'certificate']], ['day', []], ['birthday', []], ['example', []], ['years', []], ['old', ['you', 'you']], ['certificate', ['valid', 'valid']], ['valid', ['certificate', 'certificate']], ['thday', ['including']], ['thbirthday', []]]\n",
      "['wah', []]\n",
      "['really', []]\n",
      "['yearliao', []]\n",
      "['quote', ['go']]\n",
      "['mindef', []]\n",
      "['services', []]\n",
      "['ipptrt', []]\n",
      "['faq', []]\n",
      "['medical', []]\n",
      "['excuse', []]\n",
      "['examinationq', []]\n",
      "['qi', ['reached']]\n",
      "['years', []]\n",
      "['old', ['you', 'you']]\n",
      "['need', ['i', 'is']]\n",
      "['ipptffi', ['do', 'what', 'do', 'do']]\n",
      "['ipptffi', ['do', 'what', 'do', 'do']]\n",
      "['term', []]\n",
      "['compulsory', []]\n",
      "['medical', []]\n",
      "['examination', []]\n",
      "['ippteligible', []]\n",
      "['nsmen', ['aged']]\n",
      "['ipptffi', ['do', 'what', 'do', 'do']]\n",
      "['safhealth', []]\n",
      "['programme', ['completed', 'complete']]\n",
      "['effect', []]\n",
      "['separate', []]\n",
      "['ipptffi', ['do', 'what', 'do', 'do']]\n",
      "['already', []]\n",
      "['safhealth', []]\n",
      "['programme', ['completed', 'complete']]\n",
      "['year', []]\n",
      "['ippteligible', []]\n",
      "['nsmen', ['aged']]\n",
      "['years', []]\n",
      "['complete', ['programme']]\n",
      "['safhealth', []]\n",
      "['programme', ['completed', 'complete']]\n",
      "['year', []]\n",
      "['ippt', ['take']]\n",
      "['aim', []]\n",
      "['medical', []]\n",
      "['screening', []]\n",
      "['detect', ['conditions']]\n",
      "['medical', []]\n",
      "['conditions', ['detect']]\n",
      "['unsuitable', []]\n",
      "['ippt', ['take']]\n",
      "['take', ['ippt']]\n",
      "['ippt', ['take']]\n",
      "['years', []]\n",
      "['old', ['you', 'you']]\n",
      "['saf', []]\n",
      "['health', []]\n",
      "['programme', ['completed', 'complete']]\n",
      "['requirements', ['completed']]\n",
      "['year', []]\n",
      "['safhealth', []]\n",
      "['programmereview', []]\n",
      "['ns', []]\n",
      "['unitadministrator', []]\n",
      "['ipptwindow', []]\n",
      "['windowbirthday', []]\n",
      "['open', ['birthdaywindow']]\n",
      "['certificate', ['valid', 'valid']]\n",
      "['completion', []]\n",
      "['health', []]\n",
      "['programme', ['completed', 'complete']]\n",
      "['requirements', ['completed']]\n",
      "['valid', ['certificate', 'certificate']]\n",
      "['day', []]\n",
      "['birthday', []]\n",
      "['example', []]\n",
      "['years', []]\n",
      "['old', ['you', 'you']]\n",
      "['certificate', ['valid', 'valid']]\n",
      "['valid', ['certificate', 'certificate']]\n",
      "['thday', ['including']]\n",
      "['thbirthday', []]\n",
      "Review Number :  84\n"
     ]
    },
    {
     "name": "stderr",
     "output_type": "stream",
     "text": [
      "\r",
      "  3%|█▉                                                                            | 85/3390 [00:49<1:28:45,  1.61s/it]"
     ]
    },
    {
     "name": "stdout",
     "output_type": "stream",
     "text": [
      "[['dun', []], ['mr', ['i']], ['age', []]]\n",
      "['dun', []]\n",
      "['mr', ['i']]\n",
      "['age', []]\n",
      "Review Number :  85\n"
     ]
    },
    {
     "name": "stderr",
     "output_type": "stream",
     "text": [
      "\r",
      "  3%|█▉                                                                            | 86/3390 [00:49<1:12:40,  1.32s/it]"
     ]
    },
    {
     "name": "stdout",
     "output_type": "stream",
     "text": [
      "[['know', ['you']], ['finish', ['you', 'cycle']], ['years', []], ['cycle', ['finish', 'did']], ['early', []], ['yrs', []], ['yrs', []], ['cycle', ['finish', 'did']], ['years', []], ['cycle', ['finish', 'did']], ['complete', []]]\n",
      "['know', ['you']]\n",
      "['finish', ['you', 'cycle']]\n",
      "['years', []]\n",
      "['cycle', ['finish', 'did']]\n",
      "['early', []]\n",
      "['yrs', []]\n",
      "['yrs', []]\n",
      "['cycle', ['finish', 'did']]\n",
      "['years', []]\n",
      "['cycle', ['finish', 'did']]\n",
      "['complete', []]\n",
      "Review Number :  86\n"
     ]
    },
    {
     "name": "stderr",
     "output_type": "stream",
     "text": [
      "\r",
      "  3%|██                                                                            | 87/3390 [00:50<1:00:53,  1.11s/it]"
     ]
    },
    {
     "name": "stdout",
     "output_type": "stream",
     "text": [
      "[['nahonceu', []], ['mrwont', []], ['liao', []], ['singapore', ['got']], ['waru', []], ['probably', []], ['years', []], ['cycle', ['got']]]\n",
      "['nahonceu', []]\n",
      "['mrwont', []]\n",
      "['liao', []]\n",
      "['singapore', ['got']]\n",
      "['waru', []]\n",
      "['probably', []]\n",
      "['years', []]\n",
      "['cycle', ['got']]\n",
      "Review Number :  87\n"
     ]
    },
    {
     "name": "stderr",
     "output_type": "stream",
     "text": [
      "\r",
      "  3%|██                                                                              | 88/3390 [00:51<52:13,  1.05it/s]"
     ]
    },
    {
     "name": "stdout",
     "output_type": "stream",
     "text": [
      "[['years', ['did']], ['old', []], ['havent', []], ['mr', ['he', 'he']], ['yet', []], ['whole', []], ['platoonmate', ['did']], ['years', ['did']], ['common', ['this']]]\n",
      "['years', ['did']]\n",
      "['old', []]\n",
      "['havent', []]\n",
      "['mr', ['he', 'he']]\n",
      "['yet', []]\n",
      "['whole', []]\n",
      "['platoonmate', ['did']]\n",
      "['years', ['did']]\n",
      "['common', ['this']]\n",
      "Review Number :  88\n"
     ]
    },
    {
     "name": "stderr",
     "output_type": "stream",
     "text": [
      "\r",
      "  3%|██                                                                              | 89/3390 [00:52<59:07,  1.07s/it]"
     ]
    },
    {
     "name": "stdout",
     "output_type": "stream",
     "text": [
      "[['active', []], ['units', ['call', 'are']], ['people', ['call', 'call']], ['back', []], ['year', []], ['complete', ['they']], ['years', []], ['units', ['call', 'are']], ['people', ['call', 'call']], ['years', []], ['next', []], ['year', []], ['ffi', ['do', 'mr']]]\n",
      "['active', []]\n",
      "['units', ['call', 'are']]\n",
      "['people', ['call', 'call']]\n",
      "['back', []]\n",
      "['year', []]\n",
      "['complete', ['they']]\n",
      "['years', []]\n",
      "['units', ['call', 'are']]\n",
      "['people', ['call', 'call']]\n",
      "['years', []]\n",
      "['next', []]\n",
      "['year', []]\n",
      "['ffi', ['do', 'mr']]\n",
      "Review Number :  89\n"
     ]
    },
    {
     "name": "stderr",
     "output_type": "stream",
     "text": [
      "\r",
      "  3%|██                                                                              | 90/3390 [00:52<50:18,  1.09it/s]"
     ]
    },
    {
     "name": "stdout",
     "output_type": "stream",
     "text": [
      "[['units', ['call']], ['servicemen', ['call']], ['years', []], ['years', []]]\n",
      "['units', ['call']]\n",
      "['servicemen', ['call']]\n",
      "['years', []]\n",
      "['years', []]\n",
      "Review Number :  90\n"
     ]
    },
    {
     "name": "stderr",
     "output_type": "stream",
     "text": [
      "\r",
      "  3%|██▏                                                                             | 91/3390 [00:53<47:46,  1.15it/s]"
     ]
    },
    {
     "name": "stdout",
     "output_type": "stream",
     "text": [
      "[['quick', []], ['question', []], ['ive', ['mred']], ['already', []], ['ipptrt', []], ['liabilities', ['have']], ['safely', []], ['hspappointment', ['ignore']], ['automatically', []]]\n",
      "['quick', []]\n",
      "['question', []]\n",
      "['ive', ['mred']]\n",
      "['already', []]\n",
      "['ipptrt', []]\n",
      "['liabilities', ['have']]\n",
      "['safely', []]\n",
      "['hspappointment', ['ignore']]\n",
      "['automatically', []]\n",
      "Review Number :  91\n"
     ]
    },
    {
     "name": "stderr",
     "output_type": "stream",
     "text": [
      "\r",
      "  3%|██▏                                                                             | 92/3390 [00:54<39:08,  1.40it/s]"
     ]
    },
    {
     "name": "stdout",
     "output_type": "stream",
     "text": [
      "[['call', ['them']], ['ask', ['them']], ['cancel', ['it']]]\n",
      "['call', ['them']]\n",
      "['ask', ['them']]\n",
      "['cancel', ['it']]\n",
      "Review Number :  92\n"
     ]
    },
    {
     "name": "stderr",
     "output_type": "stream",
     "text": [
      "\r",
      "  3%|██▏                                                                             | 93/3390 [00:54<34:25,  1.60it/s]"
     ]
    },
    {
     "name": "stdout",
     "output_type": "stream",
     "text": [
      "[['hmmm', []], ['call', []], ['confirm', []], ['cos', []], ['saf', ['play']], ['play', ['saf']], ['play', ['saf']]]\n",
      "['hmmm', []]\n",
      "['call', []]\n",
      "['confirm', []]\n",
      "['cos', []]\n",
      "['saf', ['play']]\n",
      "['play', ['saf']]\n",
      "['play', ['saf']]\n",
      "Review Number :  93\n"
     ]
    },
    {
     "name": "stderr",
     "output_type": "stream",
     "text": [
      "\r",
      "  3%|██▏                                                                             | 94/3390 [00:56<50:31,  1.09it/s]"
     ]
    },
    {
     "name": "stdout",
     "output_type": "stream",
     "text": [
      "[['saf', ['get']], ['simple', []], ['email', ['get']], ['medical', []], ['appointment', ['have', 'missed']], ['thats', []], ['call', ['i', 'number']], ['number', ['call']], ['forget', ['i']], ['appointment', ['have', 'missed']], ['fella', ['said']], ['line', []], ['nothing', ['happen']], ['fine', ['me', 'x']], ['x', ['fine']]]\n",
      "['saf', ['get']]\n",
      "['simple', []]\n",
      "['email', ['get']]\n",
      "['medical', []]\n",
      "['appointment', ['have', 'missed']]\n",
      "['thats', []]\n",
      "['call', ['i', 'number']]\n",
      "['number', ['call']]\n",
      "['forget', ['i']]\n",
      "['appointment', ['have', 'missed']]\n",
      "['fella', ['said']]\n",
      "['line', []]\n",
      "['nothing', ['happen']]\n",
      "['fine', ['me', 'x']]\n",
      "['x', ['fine']]\n",
      "Review Number :  94\n"
     ]
    },
    {
     "name": "stderr",
     "output_type": "stream",
     "text": [
      "\r",
      "  3%|██▏                                                                             | 95/3390 [00:56<50:08,  1.10it/s]"
     ]
    },
    {
     "name": "stdout",
     "output_type": "stream",
     "text": [
      "[['thats', []], ['case', []], ['saf', ['theres']], ['lor', ['skip']], ['probably', []], ['saf', ['theres']], ['appointment', []], ['halfday', []], ['makeuppay', []], ['u', ['play']], ['play', ['u']], ['play', ['u']]]\n",
      "['thats', []]\n",
      "['case', []]\n",
      "['saf', ['theres']]\n",
      "['lor', ['skip']]\n",
      "['probably', []]\n",
      "['saf', ['theres']]\n",
      "['appointment', []]\n",
      "['halfday', []]\n",
      "['makeuppay', []]\n",
      "['u', ['play']]\n",
      "['play', ['u']]\n",
      "['play', ['u']]\n",
      "Review Number :  95\n"
     ]
    },
    {
     "name": "stderr",
     "output_type": "stream",
     "text": [
      "\r",
      "  3%|██▎                                                                             | 96/3390 [00:57<44:43,  1.23it/s]"
     ]
    },
    {
     "name": "stdout",
     "output_type": "stream",
     "text": [
      "[['even', []], ['mr', []], ['still', []], ['liability', ['we']], ['call', []], ['age', []], ['officeryear', []]]\n",
      "['even', []]\n",
      "['mr', []]\n",
      "['still', []]\n",
      "['liability', ['we']]\n",
      "['call', []]\n",
      "['age', []]\n",
      "['officeryear', []]\n",
      "Review Number :  96\n"
     ]
    },
    {
     "name": "stderr",
     "output_type": "stream",
     "text": [
      "\r",
      "  3%|██▎                                                                             | 97/3390 [00:57<35:52,  1.53it/s]"
     ]
    },
    {
     "name": "stdout",
     "output_type": "stream",
     "text": [
      "[['mr', ['call']], ['call', ['mr']], ['back', []], ['war', []]]\n",
      "['mr', ['call']]\n",
      "['call', ['mr']]\n",
      "['back', []]\n",
      "['war', []]\n",
      "Review Number :  97\n"
     ]
    },
    {
     "name": "stderr",
     "output_type": "stream",
     "text": [
      "\r",
      "  3%|██▎                                                                             | 98/3390 [00:59<46:03,  1.19it/s]"
     ]
    },
    {
     "name": "stdout",
     "output_type": "stream",
     "text": [
      "[['different', ['is']], ['long', []], ['unit', ['we']], ['mr', []], ['list', []], ['apart', []], ['ippt', ['needs']], ['needs', ['we', 'ippt', 'someone', 'you']], ['standby', []], ['activation', []], ['someone', ['needs']], ['dig', ['you']], ['mr', []], ['list', []], ['deploy', ['you']], ['safe', ['you']], ['ns', []], ['duties', []]]\n",
      "['different', ['is']]\n",
      "['long', []]\n",
      "['unit', ['we']]\n",
      "['mr', []]\n",
      "['list', []]\n",
      "['apart', []]\n",
      "['ippt', ['needs']]\n",
      "['needs', ['we', 'ippt', 'someone', 'you']]\n",
      "['standby', []]\n",
      "['activation', []]\n",
      "['someone', ['needs']]\n",
      "['dig', ['you']]\n",
      "['mr', []]\n",
      "['list', []]\n",
      "['deploy', ['you']]\n",
      "['safe', ['you']]\n",
      "['ns', []]\n",
      "['duties', []]\n",
      "Review Number :  98\n"
     ]
    },
    {
     "name": "stderr",
     "output_type": "stream",
     "text": [
      "\r",
      "  3%|██▎                                                                           | 99/3390 [01:02<1:27:45,  1.60s/it]"
     ]
    },
    {
     "name": "stdout",
     "output_type": "stream",
     "text": [
      "[['generally', []], ['wouldnt', []], ['touch', ['they', 'u']], ['u', ['touch', 'call', 'throw']], ['war', ['got']], ['touchwood', ['said']], ['day', []], ['earthquake', ['got']], ['tsunami', []], ['extra', []], ['manpower', []], ['rescue', []], ['efforts', []], ['still', []], ['vocation', []], ['also', []], ['jamban', []], ['mat', ['escaped']], ['active', []], ['units', ['escaped', 'got']], ['reservist', []], ['units', ['escaped', 'got']], ['standby', []], ['last', []], ['minute', []], ['also', []], ['u', ['touch', 'call', 'throw']], ['rcombat', []], ['combatvocation', []], ['chances', ['higher']], ['also', []], ['dont', []], ['call', ['u']], ['u', ['touch', 'call', 'throw']], ['back', []], ['choice', []], ['adminnightmare', []], ['unit', ['stand']], ['liao', []], ['throw', ['they', 'u']], ['u', ['touch', 'call', 'throw']], ['gear', []], ['even', []], ['stuffeg', []], ['egi', []], ['doubt', []], ['camo', []], ['cover', ['fit']], ['fit', ['cover', 'metalhelmet']], ['old', []], ['schoolmetal', []], ['metalhelmet', ['fit']]]\n",
      "['generally', []]\n",
      "['wouldnt', []]\n",
      "['touch', ['they', 'u']]\n",
      "['u', ['touch', 'call', 'throw']]\n",
      "['war', ['got']]\n",
      "['touchwood', ['said']]\n",
      "['day', []]\n",
      "['earthquake', ['got']]\n",
      "['tsunami', []]\n",
      "['extra', []]\n",
      "['manpower', []]\n",
      "['rescue', []]\n",
      "['efforts', []]\n",
      "['still', []]\n",
      "['vocation', []]\n",
      "['also', []]\n",
      "['jamban', []]\n",
      "['mat', ['escaped']]\n",
      "['active', []]\n",
      "['units', ['escaped', 'got']]\n",
      "['reservist', []]\n",
      "['units', ['escaped', 'got']]\n",
      "['standby', []]\n",
      "['last', []]\n",
      "['minute', []]\n",
      "['also', []]\n",
      "['u', ['touch', 'call', 'throw']]\n",
      "['rcombat', []]\n",
      "['combatvocation', []]\n",
      "['chances', ['higher']]\n",
      "['also', []]\n",
      "['dont', []]\n",
      "['call', ['u']]\n",
      "['u', ['touch', 'call', 'throw']]\n",
      "['back', []]\n",
      "['choice', []]\n",
      "['adminnightmare', []]\n",
      "['unit', ['stand']]\n",
      "['liao', []]\n",
      "['throw', ['they', 'u']]\n",
      "['u', ['touch', 'call', 'throw']]\n",
      "['gear', []]\n",
      "['even', []]\n",
      "['stuffeg', []]\n",
      "['egi', []]\n",
      "['doubt', []]\n",
      "['camo', []]\n",
      "['cover', ['fit']]\n",
      "['fit', ['cover', 'metalhelmet']]\n",
      "['old', []]\n",
      "['schoolmetal', []]\n",
      "['metalhelmet', ['fit']]\n",
      "Review Number :  99\n"
     ]
    },
    {
     "name": "stderr",
     "output_type": "stream",
     "text": [
      "  3%|██▎                                                                            | 101/3390 [01:03<52:39,  1.04it/s]"
     ]
    },
    {
     "name": "stdout",
     "output_type": "stream",
     "text": [
      "[['ffi', ['ippt']], ['ippt', ['ffi']], ['deployment', []], ['u', ['booked', 'able']], ['holidayb', []], ['bspf', ['booked']], ['u', ['booked', 'able']], ['shld', []], ['able', ['u']], ['defer', []]]\n",
      "['ffi', ['ippt']]\n",
      "['ippt', ['ffi']]\n",
      "['deployment', []]\n",
      "['u', ['booked', 'able']]\n",
      "['holidayb', []]\n",
      "['bspf', ['booked']]\n",
      "['u', ['booked', 'able']]\n",
      "['shld', []]\n",
      "['able', ['u']]\n",
      "['defer', []]\n",
      "Review Number :  100\n",
      "[['old', []], ['thread', []]]\n",
      "['old', []]\n",
      "['thread', []]\n",
      "Review Number :  101\n"
     ]
    },
    {
     "name": "stderr",
     "output_type": "stream",
     "text": [
      "\r",
      "  3%|██▍                                                                            | 102/3390 [01:03<41:18,  1.33it/s]"
     ]
    },
    {
     "name": "stdout",
     "output_type": "stream",
     "text": [
      "[['ffi', []], ['status', ['see']], ['cert', []]]\n",
      "['ffi', []]\n",
      "['status', ['see']]\n",
      "['cert', []]\n",
      "Review Number :  102\n"
     ]
    },
    {
     "name": "stderr",
     "output_type": "stream",
     "text": [
      "\r",
      "  3%|██▍                                                                            | 103/3390 [01:04<46:33,  1.18it/s]"
     ]
    },
    {
     "name": "stdout",
     "output_type": "stream",
     "text": [
      "[['ageffi', []], ['yearhaf', ['is']], ['moment', ['do']], ['u', ['talesign', 'book', 'r']], ['r', ['u']], ['telltale', []], ['talesign', ['u', 'try']], ['try', ['talesign']], ['ippt', []], ['thrgh', []], ['ns', []], ['portal', ['booking']], ['u', ['talesign', 'book', 'r']], ['book', ['u']], ['u', ['talesign', 'book', 'r']], ['r', ['u']], ['thats', ['mean']], ['mean', ['thats']], ['ffi', []], ['good', []], ['go', []]]\n",
      "['ageffi', []]\n",
      "['yearhaf', ['is']]\n",
      "['moment', ['do']]\n",
      "['u', ['talesign', 'book', 'r']]\n",
      "['r', ['u']]\n",
      "['telltale', []]\n",
      "['talesign', ['u', 'try']]\n",
      "['try', ['talesign']]\n",
      "['ippt', []]\n",
      "['thrgh', []]\n",
      "['ns', []]\n",
      "['portal', ['booking']]\n",
      "['u', ['talesign', 'book', 'r']]\n",
      "['book', ['u']]\n",
      "['u', ['talesign', 'book', 'r']]\n",
      "['r', ['u']]\n",
      "['thats', ['mean']]\n",
      "['mean', ['thats']]\n",
      "['ffi', []]\n",
      "['good', []]\n",
      "['go', []]\n",
      "Review Number :  103\n"
     ]
    },
    {
     "name": "stderr",
     "output_type": "stream",
     "text": [
      "\r",
      "  3%|██▍                                                                            | 104/3390 [01:05<47:07,  1.16it/s]"
     ]
    },
    {
     "name": "stdout",
     "output_type": "stream",
     "text": [
      "[['btw', []], ['hspappointment', ['am']], ['saf', ['stated']], ['report', []], ['medical', []]]\n",
      "['btw', []]\n",
      "['hspappointment', ['am']]\n",
      "['saf', ['stated']]\n",
      "['report', []]\n",
      "['medical', []]\n",
      "Review Number :  104\n",
      "[]\n",
      "Review Number :  105\n"
     ]
    },
    {
     "name": "stderr",
     "output_type": "stream",
     "text": [
      "\r",
      "  3%|██▍                                                                            | 106/3390 [01:06<32:11,  1.70it/s]"
     ]
    },
    {
     "name": "stdout",
     "output_type": "stream",
     "text": [
      "[['early', []], ['finish', []], ['early', []], ['back', []], ['sometimes', []], ['queue', []], ['st', ['come']], ['stserve', []]]\n",
      "['early', []]\n",
      "['finish', []]\n",
      "['early', []]\n",
      "['back', []]\n",
      "['sometimes', []]\n",
      "['queue', []]\n",
      "['st', ['come']]\n",
      "['stserve', []]\n",
      "Review Number :  106\n"
     ]
    },
    {
     "name": "stderr",
     "output_type": "stream",
     "text": [
      "\r",
      "  3%|██▍                                                                            | 107/3390 [01:06<30:44,  1.78it/s]"
     ]
    },
    {
     "name": "stdout",
     "output_type": "stream",
     "text": [
      "[['calander', ['wrote']], ['ok', []], ['noted', ['thanks', 'lot']], ['thanks', ['noted']], ['lot', ['noted']], ['information', []]]\n",
      "['calander', ['wrote']]\n",
      "['ok', []]\n",
      "['noted', ['thanks', 'lot']]\n",
      "['thanks', ['noted']]\n",
      "['lot', ['noted']]\n",
      "['information', []]\n",
      "Review Number :  107\n"
     ]
    },
    {
     "name": "stderr",
     "output_type": "stream",
     "text": [
      "\r",
      "  3%|██▌                                                                            | 108/3390 [01:07<29:44,  1.84it/s]"
     ]
    },
    {
     "name": "stdout",
     "output_type": "stream",
     "text": [
      "[['yr', []], ['time', ['check']], ['wan', []], ['u', ['rfit']], ['rfit', ['u']], ['ipptby', []], ['way', []], ['havent', []], ['mrmeh', []]]\n",
      "['yr', []]\n",
      "['time', ['check']]\n",
      "['wan', []]\n",
      "['u', ['rfit']]\n",
      "['rfit', ['u']]\n",
      "['ipptby', []]\n",
      "['way', []]\n",
      "['havent', []]\n",
      "['mrmeh', []]\n",
      "Review Number :  108\n"
     ]
    },
    {
     "name": "stderr",
     "output_type": "stream",
     "text": [
      "\r",
      "  3%|██▌                                                                            | 109/3390 [01:07<27:11,  2.01it/s]"
     ]
    },
    {
     "name": "stdout",
     "output_type": "stream",
     "text": [
      "[['year', []], ['la', []], ['u', ['turn']], ['turn', ['u']], ['onwards', []]]\n",
      "['year', []]\n",
      "['la', []]\n",
      "['u', ['turn']]\n",
      "['turn', ['u']]\n",
      "['onwards', []]\n",
      "Review Number :  109\n"
     ]
    },
    {
     "name": "stderr",
     "output_type": "stream",
     "text": [
      "\r",
      "  3%|██▌                                                                            | 110/3390 [01:08<32:25,  1.69it/s]"
     ]
    },
    {
     "name": "stdout",
     "output_type": "stream",
     "text": [
      "[['crazy', []], ['general', []], ['nspolitician', []], ['situation', ['dig']], ['malaysia', []], ['maybe', []], ['dig', ['situation', 'they', 'liaoffffffffffffffffk']], ['mr', []], ['listliao', []], ['liaoffffffffffffffffk', ['dig']]]\n",
      "['crazy', []]\n",
      "['general', []]\n",
      "['nspolitician', []]\n",
      "['situation', ['dig']]\n",
      "['malaysia', []]\n",
      "['maybe', []]\n",
      "['dig', ['situation', 'they', 'liaoffffffffffffffffk']]\n",
      "['mr', []]\n",
      "['listliao', []]\n",
      "['liaoffffffffffffffffk', ['dig']]\n",
      "Review Number :  110\n"
     ]
    },
    {
     "name": "stderr",
     "output_type": "stream",
     "text": [
      "\r",
      "  3%|██▌                                                                            | 111/3390 [01:08<27:12,  2.01it/s]"
     ]
    },
    {
     "name": "stdout",
     "output_type": "stream",
     "text": [
      "[['concern', ['have']]]\n",
      "['concern', ['have']]\n",
      "Review Number :  111\n"
     ]
    },
    {
     "name": "stderr",
     "output_type": "stream",
     "text": [
      "\r",
      "  3%|██▌                                                                            | 112/3390 [01:08<24:29,  2.23it/s]"
     ]
    },
    {
     "name": "stdout",
     "output_type": "stream",
     "text": [
      "[['curious', []], ['definitely', []], ['safe', ['i']]]\n",
      "['curious', []]\n",
      "['definitely', []]\n",
      "['safe', ['i']]\n",
      "Review Number :  112\n"
     ]
    },
    {
     "name": "stderr",
     "output_type": "stream",
     "text": [
      "\r",
      "  3%|██▋                                                                            | 113/3390 [01:09<23:18,  2.34it/s]"
     ]
    },
    {
     "name": "stdout",
     "output_type": "stream",
     "text": [
      "[['ffi', []], ['book', ['appointment']], ['appointment', ['book']]]\n",
      "['ffi', []]\n",
      "['book', ['appointment']]\n",
      "['appointment', ['book']]\n",
      "Review Number :  113\n"
     ]
    },
    {
     "name": "stderr",
     "output_type": "stream",
     "text": [
      "\r",
      "  3%|██▋                                                                            | 114/3390 [01:09<23:52,  2.29it/s]"
     ]
    },
    {
     "name": "stdout",
     "output_type": "stream",
     "text": [
      "[['call', ['unit']], ['unit', ['call']], ['appointmentlo', ['make']], ['ganyu', []], ['mobile', ['using']]]\n",
      "['call', ['unit']]\n",
      "['unit', ['call']]\n",
      "['appointmentlo', ['make']]\n",
      "['ganyu', []]\n",
      "['mobile', ['using']]\n",
      "Review Number :  114\n"
     ]
    },
    {
     "name": "stderr",
     "output_type": "stream",
     "text": [
      "\r",
      "  3%|██▋                                                                            | 115/3390 [01:10<30:28,  1.79it/s]"
     ]
    },
    {
     "name": "stdout",
     "output_type": "stream",
     "text": [
      "[['change', ['lah']], ['still', []], ['u', ['hit', 'think']], ['hit', ['u', 'yr']], ['yr', ['hit']], ['u', ['hit', 'think']], ['even', []], ['ipptrtipt', ['booking']], ['nsfit', []]]\n",
      "['change', ['lah']]\n",
      "['still', []]\n",
      "['u', ['hit', 'think']]\n",
      "['hit', ['u', 'yr']]\n",
      "['yr', ['hit']]\n",
      "['u', ['hit', 'think']]\n",
      "['even', []]\n",
      "['ipptrtipt', ['booking']]\n",
      "['nsfit', []]\n",
      "Review Number :  115\n"
     ]
    },
    {
     "name": "stderr",
     "output_type": "stream",
     "text": [
      "  3%|██▋                                                                            | 117/3390 [01:11<28:36,  1.91it/s]"
     ]
    },
    {
     "name": "stdout",
     "output_type": "stream",
     "text": [
      "[['true', []], ['singaporean', []], ['male', ['reaches']], ['years', []], ['old', []], ['reservisttraining', ['what']], ['still', []], ['full', []], ['reservistcycle', ['completed']]]\n",
      "['true', []]\n",
      "['singaporean', []]\n",
      "['male', ['reaches']]\n",
      "['years', []]\n",
      "['old', []]\n",
      "['reservisttraining', ['what']]\n",
      "['still', []]\n",
      "['full', []]\n",
      "['reservistcycle', ['completed']]\n",
      "Review Number :  116\n",
      "[['depends', []], ['unit', []]]\n",
      "['depends', []]\n",
      "['unit', []]\n",
      "Review Number :  117\n"
     ]
    },
    {
     "name": "stderr",
     "output_type": "stream",
     "text": [
      "\r",
      "  3%|██▋                                                                            | 118/3390 [01:12<28:29,  1.91it/s]"
     ]
    },
    {
     "name": "stdout",
     "output_type": "stream",
     "text": [
      "[['general', []], ['rule', ['is']], ['law', []], ['need', ['reach']], ['back', []], ['right', []]]\n",
      "['general', []]\n",
      "['rule', ['is']]\n",
      "['law', []]\n",
      "['need', ['reach']]\n",
      "['back', []]\n",
      "['right', []]\n",
      "Review Number :  118\n"
     ]
    },
    {
     "name": "stderr",
     "output_type": "stream",
     "text": [
      "\r",
      "  4%|██▊                                                                            | 119/3390 [01:12<30:14,  1.80it/s]"
     ]
    },
    {
     "name": "stdout",
     "output_type": "stream",
     "text": [
      "[['occifer', ['need']], ['still', []], ['back', []], ['reach', []], ['still', []], ['yet', []], ['complete', []], ['cycle', []], ['occifer', ['need']], ['agelimit', ['is']]]\n",
      "['occifer', ['need']]\n",
      "['still', []]\n",
      "['back', []]\n",
      "['reach', []]\n",
      "['still', []]\n",
      "['yet', []]\n",
      "['complete', []]\n",
      "['cycle', []]\n",
      "['occifer', ['need']]\n",
      "['agelimit', ['is']]\n",
      "Review Number :  119\n"
     ]
    },
    {
     "name": "stderr",
     "output_type": "stream",
     "text": [
      "\r",
      "  4%|██▊                                                                            | 120/3390 [01:13<27:10,  2.01it/s]"
     ]
    },
    {
     "name": "stdout",
     "output_type": "stream",
     "text": [
      "[['shld', []], ['clear', ['liaoleh']], ['ict', []], ['liaoleh', ['clear']], ['u', ['keepsiam']], ['keepsiam', ['u']]]\n",
      "['shld', []]\n",
      "['clear', ['liaoleh']]\n",
      "['ict', []]\n",
      "['liaoleh', ['clear']]\n",
      "['u', ['keepsiam']]\n",
      "['keepsiam', ['u']]\n",
      "Review Number :  120\n"
     ]
    },
    {
     "name": "stderr",
     "output_type": "stream",
     "text": [
      "\r",
      "  4%|██▊                                                                            | 121/3390 [01:13<31:04,  1.75it/s]"
     ]
    },
    {
     "name": "stdout",
     "output_type": "stream",
     "text": [
      "[['u', ['ord', 'turn']], ['ord', ['u']], ['age', []], ['right', []], ['example', []], ['u', ['ord', 'turn']], ['turn', ['u']], ['th', []], ['jan', []], ['u', ['ord', 'turn']], ['wont', []], ['baxk', []], ['incampegen', []], ['restofyour', []], ['ofyourunit', ['have']], ['still', []]]\n",
      "['u', ['ord', 'turn']]\n",
      "['ord', ['u']]\n",
      "['age', []]\n",
      "['right', []]\n",
      "['example', []]\n",
      "['u', ['ord', 'turn']]\n",
      "['turn', ['u']]\n",
      "['th', []]\n",
      "['jan', []]\n",
      "['u', ['ord', 'turn']]\n",
      "['wont', []]\n",
      "['baxk', []]\n",
      "['incampegen', []]\n",
      "['restofyour', []]\n",
      "['ofyourunit', ['have']]\n",
      "['still', []]\n",
      "Review Number :  121\n"
     ]
    },
    {
     "name": "stderr",
     "output_type": "stream",
     "text": [
      "\r",
      "  4%|██▊                                                                            | 122/3390 [01:14<36:06,  1.51it/s]"
     ]
    },
    {
     "name": "stdout",
     "output_type": "stream",
     "text": [
      "[['letter', ['tell']], ['need', ['tell', 'means']], ['back', []], ['means', ['need']], ['back', []], ['already', []], ['gravely', []], ['concerned', ['you', 'mindef']], ['mindef', ['concerned']], ['wun', []]]\n",
      "['letter', ['tell']]\n",
      "['need', ['tell', 'means']]\n",
      "['back', []]\n",
      "['means', ['need']]\n",
      "['back', []]\n",
      "['already', []]\n",
      "['gravely', []]\n",
      "['concerned', ['you', 'mindef']]\n",
      "['mindef', ['concerned']]\n",
      "['wun', []]\n",
      "Review Number :  122\n"
     ]
    },
    {
     "name": "stderr",
     "output_type": "stream",
     "text": [
      "\r",
      "  4%|██▊                                                                            | 123/3390 [01:15<31:57,  1.70it/s]"
     ]
    },
    {
     "name": "stdout",
     "output_type": "stream",
     "text": [
      "[['receive', ['you', 'letter']], ['formal', []], ['letter', ['receive']], ['mindefif', []], ['good', []], ['luck', []]]\n",
      "['receive', ['you', 'letter']]\n",
      "['formal', []]\n",
      "['letter', ['receive']]\n",
      "['mindefif', []]\n",
      "['good', []]\n",
      "['luck', []]\n",
      "Review Number :  123\n"
     ]
    },
    {
     "name": "stderr",
     "output_type": "stream",
     "text": [
      "\r",
      "  4%|██▉                                                                            | 124/3390 [01:16<39:08,  1.39it/s]"
     ]
    },
    {
     "name": "stdout",
     "output_type": "stream",
     "text": [
      "[['reach', ['calling']], ['still', []], ['yet', []], ['complete', ['cycle']], ['ict', []], ['cycle', ['complete']], ['unit', ['calling']], ['back', []], ['instead', []], ['letter', ['send']], ['collect', ['certificate']], ['certificate', ['collect']], ['appreciation', []], ['watch', []], ['medals', []]]\n",
      "['reach', ['calling']]\n",
      "['still', []]\n",
      "['yet', []]\n",
      "['complete', ['cycle']]\n",
      "['ict', []]\n",
      "['cycle', ['complete']]\n",
      "['unit', ['calling']]\n",
      "['back', []]\n",
      "['instead', []]\n",
      "['letter', ['send']]\n",
      "['collect', ['certificate']]\n",
      "['certificate', ['collect']]\n",
      "['appreciation', []]\n",
      "['watch', []]\n",
      "['medals', []]\n",
      "Review Number :  124\n",
      "[['depends', []], ['ur', []], ['rank', []]]"
     ]
    },
    {
     "name": "stderr",
     "output_type": "stream",
     "text": [
      "\r",
      "  4%|██▉                                                                            | 125/3390 [01:16<30:45,  1.77it/s]"
     ]
    },
    {
     "name": "stdout",
     "output_type": "stream",
     "text": [
      "\n",
      "['depends', []]\n",
      "['ur', []]\n",
      "['rank', []]\n",
      "Review Number :  125\n"
     ]
    },
    {
     "name": "stderr",
     "output_type": "stream",
     "text": [
      "\r",
      "  4%|██▉                                                                            | 126/3390 [01:16<29:55,  1.82it/s]"
     ]
    },
    {
     "name": "stdout",
     "output_type": "stream",
     "text": [
      "[['even', []], ['u', ['complete', 'get']], ['never', []], ['complete', ['u', 'cycles']], ['cycles', ['complete']], ['still', []], ['k', []], ['right', ['get']], ['assumeinhu', []]]\n",
      "['even', []]\n",
      "['u', ['complete', 'get']]\n",
      "['never', []]\n",
      "['complete', ['u', 'cycles']]\n",
      "['cycles', ['complete']]\n",
      "['still', []]\n",
      "['k', []]\n",
      "['right', ['get']]\n",
      "['assumeinhu', []]\n",
      "Review Number :  126\n"
     ]
    },
    {
     "name": "stderr",
     "output_type": "stream",
     "text": [
      "\r",
      "  4%|██▉                                                                            | 127/3390 [01:18<40:09,  1.35it/s]"
     ]
    },
    {
     "name": "stdout",
     "output_type": "stream",
     "text": [
      "[['watch', ['make']], ['coa', []], ['letter', []], ['bosses', []], ['bo', []], ['chup', []], ['medals', []], ['cash', []], ['converters', []], ['giftskeep', ['ish']], ['sua', []], ['rah', []], ['nowadays', []], ['reservists', []], ['ish', ['giftskeep', 'liability']], ['liability', ['ish']], ['sinkie', []], ['male', []], ['ft', []], ['males', ['working']], ['happily', []]]\n",
      "['watch', ['make']]\n",
      "['coa', []]\n",
      "['letter', []]\n",
      "['bosses', []]\n",
      "['bo', []]\n",
      "['chup', []]\n",
      "['medals', []]\n",
      "['cash', []]\n",
      "['converters', []]\n",
      "['giftskeep', ['ish']]\n",
      "['sua', []]\n",
      "['rah', []]\n",
      "['nowadays', []]\n",
      "['reservists', []]\n",
      "['ish', ['giftskeep', 'liability']]\n",
      "['liability', ['ish']]\n",
      "['sinkie', []]\n",
      "['male', []]\n",
      "['ft', []]\n",
      "['males', ['working']]\n",
      "['happily', []]\n",
      "Review Number :  127\n"
     ]
    },
    {
     "name": "stderr",
     "output_type": "stream",
     "text": [
      "\r",
      "  4%|██▉                                                                            | 128/3390 [01:19<51:55,  1.05it/s]"
     ]
    },
    {
     "name": "stdout",
     "output_type": "stream",
     "text": [
      "[['already', []], ['moi', ['want']], ['useless', []], ['watchco', ['give']], ['ask', []], ['moi', ['want']], ['extend', []], ['year', []], ['rank', []], ['staffsgt', []], ['sgti', ['told']], ['staff', []], ['sgt', ['give']], ['moijob', []], ['diam', ['he', 'give']], ['diam', ['he', 'give']], ['mind', []], ['payincrease', []], ['increaserank', []], ['rankpay', []], ['payincrease', []], ['seeand', ['i']], ['chancelet', []], ['ft', ['take']], ['jobsiao', ['take']], ['u', []], ['ft', ['take']], ['job', ['take']], ['doesnt', []]]\n",
      "['already', []]\n",
      "['moi', ['want']]\n",
      "['useless', []]\n",
      "['watchco', ['give']]\n",
      "['ask', []]\n",
      "['moi', ['want']]\n",
      "['extend', []]\n",
      "['year', []]\n",
      "['rank', []]\n",
      "['staffsgt', []]\n",
      "['sgti', ['told']]\n",
      "['staff', []]\n",
      "['sgt', ['give']]\n",
      "['moijob', []]\n",
      "['diam', ['he', 'give']]\n",
      "['diam', ['he', 'give']]\n",
      "['mind', []]\n",
      "['payincrease', []]\n",
      "['increaserank', []]\n",
      "['rankpay', []]\n",
      "['payincrease', []]\n",
      "['seeand', ['i']]\n",
      "['chancelet', []]\n",
      "['ft', ['take']]\n",
      "['jobsiao', ['take']]\n",
      "['u', []]\n",
      "['ft', ['take']]\n",
      "['job', ['take']]\n",
      "['doesnt', []]\n",
      "Review Number :  128\n"
     ]
    },
    {
     "name": "stderr",
     "output_type": "stream",
     "text": [
      "\r",
      "  4%|███                                                                            | 129/3390 [01:20<53:06,  1.02it/s]"
     ]
    },
    {
     "name": "stdout",
     "output_type": "stream",
     "text": [
      "[['didnt', []], ['k', ['is']], ['collect', []], ['singaporean', []], ['male', ['complete']], ['complete', ['male', 'cycles', 'who']], ['cycles', ['complete']], ['anything', ['deserve']], ['otherwise', []], ['singaporean', []], ['males', []]]\n",
      "['didnt', []]\n",
      "['k', ['is']]\n",
      "['collect', []]\n",
      "['singaporean', []]\n",
      "['male', ['complete']]\n",
      "['complete', ['male', 'cycles', 'who']]\n",
      "['cycles', ['complete']]\n",
      "['anything', ['deserve']]\n",
      "['otherwise', []]\n",
      "['singaporean', []]\n",
      "['males', []]\n",
      "Review Number :  129\n"
     ]
    },
    {
     "name": "stderr",
     "output_type": "stream",
     "text": [
      "\r",
      "  4%|███                                                                            | 130/3390 [01:21<58:57,  1.09s/it]"
     ]
    },
    {
     "name": "stdout",
     "output_type": "stream",
     "text": [
      "[['max', []], ['nsfnsmen', []], ['regardless', []], ['u', ['completed']], ['many', []], ['cycle', ['need']], ['rare', []], ['cases', ['are']], ['unit', []], ['person', ['need']], ['cycle', ['need']], ['complete', []], ['k', []], ['request', ['he']], ['however', []], ['still', []], ['ippt', []]]\n",
      "['max', []]\n",
      "['nsfnsmen', []]\n",
      "['regardless', []]\n",
      "['u', ['completed']]\n",
      "['many', []]\n",
      "['cycle', ['need']]\n",
      "['rare', []]\n",
      "['cases', ['are']]\n",
      "['unit', []]\n",
      "['person', ['need']]\n",
      "['cycle', ['need']]\n",
      "['complete', []]\n",
      "['k', []]\n",
      "['request', ['he']]\n",
      "['however', []]\n",
      "['still', []]\n",
      "['ippt', []]\n",
      "Review Number :  130\n"
     ]
    },
    {
     "name": "stderr",
     "output_type": "stream",
     "text": [
      "\r",
      "  4%|███                                                                            | 131/3390 [01:22<48:45,  1.11it/s]"
     ]
    },
    {
     "name": "stdout",
     "output_type": "stream",
     "text": [
      "[['kinda', ['chao']], ['chao', ['kinda']], ['early', []], ['years', []], ['goodie', ['got']], ['extend', []]]\n",
      "['kinda', ['chao']]\n",
      "['chao', ['kinda']]\n",
      "['early', []]\n",
      "['years', []]\n",
      "['goodie', ['got']]\n",
      "['extend', []]\n",
      "Review Number :  131\n"
     ]
    },
    {
     "name": "stderr",
     "output_type": "stream",
     "text": [
      "\r",
      "  4%|███                                                                            | 132/3390 [01:22<40:40,  1.34it/s]"
     ]
    },
    {
     "name": "stdout",
     "output_type": "stream",
     "text": [
      "[['nobody', ['force']], ['force', ['nobody', 'person']], ['person', ['force']], ['extend', []], ['right', []]]\n",
      "['nobody', ['force']]\n",
      "['force', ['nobody', 'person']]\n",
      "['person', ['force']]\n",
      "['extend', []]\n",
      "['right', []]\n",
      "Review Number :  132\n"
     ]
    },
    {
     "name": "stderr",
     "output_type": "stream",
     "text": [
      "\r",
      "  4%|███                                                                            | 133/3390 [01:23<34:37,  1.57it/s]"
     ]
    },
    {
     "name": "stdout",
     "output_type": "stream",
     "text": [
      "[['kumgongz', []], ['gongzlor', []], ['lork', ['kwaste']], ['kwaste', ['lork', 'timeandeffort']], ['much', []], ['timeandeffort', ['kwaste']]]\n",
      "['kumgongz', []]\n",
      "['gongzlor', []]\n",
      "['lork', ['kwaste']]\n",
      "['kwaste', ['lork', 'timeandeffort']]\n",
      "['much', []]\n",
      "['timeandeffort', ['kwaste']]\n",
      "Review Number :  133\n"
     ]
    },
    {
     "name": "stderr",
     "output_type": "stream",
     "text": [
      "\r",
      "  4%|███                                                                            | 134/3390 [01:23<33:29,  1.62it/s]"
     ]
    },
    {
     "name": "stdout",
     "output_type": "stream",
     "text": [
      "[['expthearmy', []], ['totalwaste', ['where']], ['time', []], ['realvalue', ['has']], ['realworld', []]]\n",
      "['expthearmy', []]\n",
      "['totalwaste', ['where']]\n",
      "['time', []]\n",
      "['realvalue', ['has']]\n",
      "['realworld', []]\n",
      "Review Number :  134\n"
     ]
    },
    {
     "name": "stderr",
     "output_type": "stream",
     "text": [
      "\r",
      "  4%|███▏                                                                           | 135/3390 [01:24<35:49,  1.51it/s]"
     ]
    },
    {
     "name": "stdout",
     "output_type": "stream",
     "text": [
      "[['ts', []], ['u', ['concern', 'concern']], ['concern', ['u', 'u']], ['u', ['concern', 'concern']], ['old', []], ['btw', ['good']], ['always', []], ['good', ['btw']], ['try', []], ['clear', ['cycles']], ['complete', []], ['entire', []], ['cycles', ['clear']], ['early', []], ['possible', []], ['mr', ['relax']], ['liao', ['relax']], ['relax', ['mr', 'liao']]]\n",
      "['ts', []]\n",
      "['u', ['concern', 'concern']]\n",
      "['concern', ['u', 'u']]\n",
      "['u', ['concern', 'concern']]\n",
      "['old', []]\n",
      "['btw', ['good']]\n",
      "['always', []]\n",
      "['good', ['btw']]\n",
      "['try', []]\n",
      "['clear', ['cycles']]\n",
      "['complete', []]\n",
      "['entire', []]\n",
      "['cycles', ['clear']]\n",
      "['early', []]\n",
      "['possible', []]\n",
      "['mr', ['relax']]\n",
      "['liao', ['relax']]\n",
      "['relax', ['mr', 'liao']]\n",
      "Review Number :  135\n"
     ]
    },
    {
     "name": "stderr",
     "output_type": "stream",
     "text": [
      "\r",
      "  4%|███▏                                                                           | 136/3390 [01:25<36:29,  1.49it/s]"
     ]
    },
    {
     "name": "stdout",
     "output_type": "stream",
     "text": [
      "[['person', ['request']], ['extendnot', ['force']], ['kena', []], ['force', ['extendnot']], ['parliament', ['new']], ['implement', []], ['new', ['parliament', 'bill']], ['bill', ['new']], ['reservist', ['age']], ['age', ['reservist']], ['counter', []], ['low', []], ['birth', []], ['rates', []]]\n",
      "['person', ['request']]\n",
      "['extendnot', ['force']]\n",
      "['kena', []]\n",
      "['force', ['extendnot']]\n",
      "['parliament', ['new']]\n",
      "['implement', []]\n",
      "['new', ['parliament', 'bill']]\n",
      "['bill', ['new']]\n",
      "['reservist', ['age']]\n",
      "['age', ['reservist']]\n",
      "['counter', []]\n",
      "['low', []]\n",
      "['birth', []]\n",
      "['rates', []]\n",
      "Review Number :  136\n"
     ]
    },
    {
     "name": "stderr",
     "output_type": "stream",
     "text": [
      "\r",
      "  4%|███▏                                                                           | 137/3390 [01:25<29:14,  1.85it/s]"
     ]
    },
    {
     "name": "stdout",
     "output_type": "stream",
     "text": [
      "[['u', ['officerlor']], ['officerlor', ['u']]]\n",
      "['u', ['officerlor']]\n",
      "['officerlor', ['u']]\n",
      "Review Number :  137\n"
     ]
    },
    {
     "name": "stderr",
     "output_type": "stream",
     "text": [
      "\r",
      "  4%|███▏                                                                           | 138/3390 [01:25<29:57,  1.81it/s]"
     ]
    },
    {
     "name": "stdout",
     "output_type": "stream",
     "text": [
      "[['wooo', []], ['years', []], ['overseas', []], ['sht', []], ['x', []]]\n",
      "['wooo', []]\n",
      "['years', []]\n",
      "['overseas', []]\n",
      "['sht', []]\n",
      "['x', []]\n",
      "Review Number :  138\n"
     ]
    },
    {
     "name": "stderr",
     "output_type": "stream",
     "text": [
      "\r",
      "  4%|███▏                                                                           | 139/3390 [01:26<36:20,  1.49it/s]"
     ]
    },
    {
     "name": "stdout",
     "output_type": "stream",
     "text": [
      "[['u', ['rofficer', 'go']], ['rofficer', ['u']], ['else', []], ['complete', ['reached']], ['complete', ['reached']], ['cycles', ['reached']], ['u', ['rofficer', 'go']], ['call', ['one', 'you']], ['back', []], ['ict', []], ['anymore', []], ['extend', ['service']], ['service', ['extend']]]\n",
      "['u', ['rofficer', 'go']]\n",
      "['rofficer', ['u']]\n",
      "['else', []]\n",
      "['complete', ['reached']]\n",
      "['complete', ['reached']]\n",
      "['cycles', ['reached']]\n",
      "['u', ['rofficer', 'go']]\n",
      "['call', ['one', 'you']]\n",
      "['back', []]\n",
      "['ict', []]\n",
      "['anymore', []]\n",
      "['extend', ['service']]\n",
      "['service', ['extend']]\n",
      "Review Number :  139\n"
     ]
    },
    {
     "name": "stderr",
     "output_type": "stream",
     "text": [
      "\r",
      "  4%|███▎                                                                           | 140/3390 [01:27<29:37,  1.83it/s]"
     ]
    },
    {
     "name": "stdout",
     "output_type": "stream",
     "text": [
      "[['heardofficer', ['i']]]\n",
      "['heardofficer', ['i']]\n",
      "Review Number :  140\n"
     ]
    },
    {
     "name": "stderr",
     "output_type": "stream",
     "text": [
      "\r",
      "  4%|███▎                                                                           | 141/3390 [01:28<46:03,  1.18it/s]"
     ]
    },
    {
     "name": "stdout",
     "output_type": "stream",
     "text": [
      "[['eh', []], ['serve', ['you', 'reservist', 'one']], ['reservist', ['serve']], ['u', ['ish']], ['ish', ['u']], ['xdd', []], ['ft', []], ['unfair', []], ['reservist', ['serve']], ['complete', ['who', 'those']], ['usually', []], ['complete', ['who', 'those']], ['cycles', ['one', 'clear']], ['actually', []], ['unit', ['nightmare']], ['call', ['nightmare']], ['back', []], ['ippttill', ['nightmare']], ['tillyear', []], ['nightmare', ['unit', 'call', 'ippttill']], ['maneveryone', ['wan']], ['na', []], ['clear', ['cycles']], ['cycles', ['one', 'clear']], ['tiocall', ['bo']], ['really', []], ['sad', []]]\n",
      "['eh', []]\n",
      "['serve', ['you', 'reservist', 'one']]\n",
      "['reservist', ['serve']]\n",
      "['u', ['ish']]\n",
      "['ish', ['u']]\n",
      "['xdd', []]\n",
      "['ft', []]\n",
      "['unfair', []]\n",
      "['reservist', ['serve']]\n",
      "['complete', ['who', 'those']]\n",
      "['usually', []]\n",
      "['complete', ['who', 'those']]\n",
      "['cycles', ['one', 'clear']]\n",
      "['actually', []]\n",
      "['unit', ['nightmare']]\n",
      "['call', ['nightmare']]\n",
      "['back', []]\n",
      "['ippttill', ['nightmare']]\n",
      "['tillyear', []]\n",
      "['nightmare', ['unit', 'call', 'ippttill']]\n",
      "['maneveryone', ['wan']]\n",
      "['na', []]\n",
      "['clear', ['cycles']]\n",
      "['cycles', ['one', 'clear']]\n",
      "['tiocall', ['bo']]\n",
      "['really', []]\n",
      "['sad', []]\n",
      "Review Number :  141\n"
     ]
    },
    {
     "name": "stderr",
     "output_type": "stream",
     "text": [
      "\r",
      "  4%|███▎                                                                           | 142/3390 [01:29<50:48,  1.07it/s]"
     ]
    },
    {
     "name": "stdout",
     "output_type": "stream",
     "text": [
      "[['yeahk', []], ['bigger', []], ['bull', []], ['cart', []], ['wheels', ['scrap']], ['years', []], ['ns', ['scrap']], ['punyk', []], ['ranjiao', []], ['allowances', ['keep']], ['pcb', []], ['anyways', []], ['havent', []], ['back', []], ['im', []], ['back', []]]\n",
      "['yeahk', []]\n",
      "['bigger', []]\n",
      "['bull', []]\n",
      "['cart', []]\n",
      "['wheels', ['scrap']]\n",
      "['years', []]\n",
      "['ns', ['scrap']]\n",
      "['punyk', []]\n",
      "['ranjiao', []]\n",
      "['allowances', ['keep']]\n",
      "['pcb', []]\n",
      "['anyways', []]\n",
      "['havent', []]\n",
      "['back', []]\n",
      "['im', []]\n",
      "['back', []]\n",
      "Review Number :  142\n"
     ]
    },
    {
     "name": "stderr",
     "output_type": "stream",
     "text": [
      "\r",
      "  4%|███▎                                                                           | 143/3390 [01:30<40:01,  1.35it/s]"
     ]
    },
    {
     "name": "stdout",
     "output_type": "stream",
     "text": [
      "[['need', []], ['chiu', ['are']], ['occifer', []]]\n",
      "['need', []]\n",
      "['chiu', ['are']]\n",
      "['occifer', []]\n",
      "Review Number :  143\n"
     ]
    },
    {
     "name": "stderr",
     "output_type": "stream",
     "text": [
      "\r",
      "  4%|███▎                                                                         | 144/3390 [01:32<1:04:23,  1.19s/it]"
     ]
    },
    {
     "name": "stdout",
     "output_type": "stream",
     "text": [
      "[['officer', ['is']], ['applicability', []], ['annual', []], ['ippt', ['applicable']], ['applicable', ['ippt']], ['pes', []], ['nsmen', []], ['ns', []], ['liabilitytill', []], ['tillage', []], ['years', []], ['old', []], ['officers', []], ['respectively', []], ['nsmans', ['commences']], ['ippt', ['applicable']], ['annual', []], ['requirement', []], ['commences', ['nsmans']], ['immediately', []], ['nsf', []], ['operational', []], ['ready', []], ['dateord', []], ['mindef', []], ['reserves', []], ['medically', []], ['pes', []], ['ok', []], ['kah', []]]\n",
      "['officer', ['is']]\n",
      "['applicability', []]\n",
      "['annual', []]\n",
      "['ippt', ['applicable']]\n",
      "['applicable', ['ippt']]\n",
      "['pes', []]\n",
      "['nsmen', []]\n",
      "['ns', []]\n",
      "['liabilitytill', []]\n",
      "['tillage', []]\n",
      "['years', []]\n",
      "['old', []]\n",
      "['officers', []]\n",
      "['respectively', []]\n",
      "['nsmans', ['commences']]\n",
      "['ippt', ['applicable']]\n",
      "['annual', []]\n",
      "['requirement', []]\n",
      "['commences', ['nsmans']]\n",
      "['immediately', []]\n",
      "['nsf', []]\n",
      "['operational', []]\n",
      "['ready', []]\n",
      "['dateord', []]\n",
      "['mindef', []]\n",
      "['reserves', []]\n",
      "['medically', []]\n",
      "['pes', []]\n",
      "['ok', []]\n",
      "['kah', []]\n",
      "Review Number :  144\n"
     ]
    },
    {
     "name": "stderr",
     "output_type": "stream",
     "text": [
      "\r",
      "  4%|███▎                                                                         | 145/3390 [01:35<1:27:18,  1.61s/it]"
     ]
    },
    {
     "name": "stdout",
     "output_type": "stream",
     "text": [
      "[['hello', []], ['call', ['you', 'nssc']], ['nssc', ['call', 'getting']], ['let', ['me']], ['share', []], ['officer', ['you']], ['unit', ['send']], ['send', ['unit', 'letter', 'email']], ['letter', ['send']], ['longer', []], ['u', ['finish', 'getwatch', 'ask']], ['dont', []], ['finish', ['u', 'key']], ['high', []], ['key', ['finish']], ['yearcycle', []], ['u', ['finish', 'getwatch', 'ask']], ['wont', []], ['getwatch', ['u']], ['year', []], ['long', []], ['servicemedal', []], ['reach', ['you']], ['years', []], ['old', []], ['short', ['you']], ['high', []], ['key', ['finish']], ['u', ['finish', 'getwatch', 'ask']], ['want', ['you']], ['volunteer', ['service']], ['service', ['volunteer', 'getting']], ['volunteeru', ['choose']], ['choose', ['volunteeru']], ['nowadays', []], ['nssc', ['call', 'getting']], ['unit', ['send']], ['service', ['volunteer', 'getting']], ['unsure', ['you']], ['feel', []], ['free', []], ['send', ['unit', 'letter', 'email']], ['email', ['send']]]\n",
      "['hello', []]\n",
      "['call', ['you', 'nssc']]\n",
      "['nssc', ['call', 'getting']]\n",
      "['let', ['me']]\n",
      "['share', []]\n",
      "['officer', ['you']]\n",
      "['unit', ['send']]\n",
      "['send', ['unit', 'letter', 'email']]\n",
      "['letter', ['send']]\n",
      "['longer', []]\n",
      "['u', ['finish', 'getwatch', 'ask']]\n",
      "['dont', []]\n",
      "['finish', ['u', 'key']]\n",
      "['high', []]\n",
      "['key', ['finish']]\n",
      "['yearcycle', []]\n",
      "['u', ['finish', 'getwatch', 'ask']]\n",
      "['wont', []]\n",
      "['getwatch', ['u']]\n",
      "['year', []]\n",
      "['long', []]\n",
      "['servicemedal', []]\n",
      "['reach', ['you']]\n",
      "['years', []]\n",
      "['old', []]\n",
      "['short', ['you']]\n",
      "['high', []]\n",
      "['key', ['finish']]\n",
      "['u', ['finish', 'getwatch', 'ask']]\n",
      "['want', ['you']]\n",
      "['volunteer', ['service']]\n",
      "['service', ['volunteer', 'getting']]\n",
      "['volunteeru', ['choose']]\n",
      "['choose', ['volunteeru']]\n",
      "['nowadays', []]\n",
      "['nssc', ['call', 'getting']]\n",
      "['unit', ['send']]\n",
      "['service', ['volunteer', 'getting']]\n",
      "['unsure', ['you']]\n",
      "['feel', []]\n",
      "['free', []]\n",
      "['send', ['unit', 'letter', 'email']]\n",
      "['email', ['send']]\n",
      "Review Number :  145\n"
     ]
    },
    {
     "name": "stderr",
     "output_type": "stream",
     "text": [
      "\r",
      "  4%|███▎                                                                         | 146/3390 [01:35<1:05:43,  1.22s/it]"
     ]
    },
    {
     "name": "stdout",
     "output_type": "stream",
     "text": [
      "[['haha', []], ['u', ['siam']], ['siam', ['u']], ['wayrite', []]]\n",
      "['haha', []]\n",
      "['u', ['siam']]\n",
      "['siam', ['u']]\n",
      "['wayrite', []]\n",
      "Review Number :  146\n"
     ]
    },
    {
     "name": "stderr",
     "output_type": "stream",
     "text": [
      "\r",
      "  4%|███▍                                                                           | 147/3390 [01:35<53:23,  1.01it/s]"
     ]
    },
    {
     "name": "stdout",
     "output_type": "stream",
     "text": [
      "[['reservist', []], ['relac', []], ['vacationpay', []], ['u', []], ['salary', ['paid']], ['sleep', []], ['camp', []]]\n",
      "['reservist', []]\n",
      "['relac', []]\n",
      "['vacationpay', []]\n",
      "['u', []]\n",
      "['salary', ['paid']]\n",
      "['sleep', []]\n",
      "['camp', []]\n",
      "Review Number :  147\n"
     ]
    },
    {
     "name": "stderr",
     "output_type": "stream",
     "text": [
      "\r",
      "  4%|███▍                                                                           | 148/3390 [01:36<42:37,  1.27it/s]"
     ]
    },
    {
     "name": "stdout",
     "output_type": "stream",
     "text": [
      "[['complete', []], ['fastthe', []], ['older', []], ['u', []]]\n",
      "['complete', []]\n",
      "['fastthe', []]\n",
      "['older', []]\n",
      "['u', []]\n",
      "Review Number :  148\n"
     ]
    },
    {
     "name": "stderr",
     "output_type": "stream",
     "text": [
      "\r",
      "  4%|███▍                                                                           | 149/3390 [01:37<45:25,  1.19it/s]"
     ]
    },
    {
     "name": "stdout",
     "output_type": "stream",
     "text": [
      "[['years', ['finished']], ['back', []], ['watch', []], ['medals', ['got']], ['truth', []], ['miss', ['i', 'gng']], ['gng', ['miss']], ['back', []], ['reservist', []], ['tcss', ['i']], ['buddies', []], ['work', []]]\n",
      "['years', ['finished']]\n",
      "['back', []]\n",
      "['watch', []]\n",
      "['medals', ['got']]\n",
      "['truth', []]\n",
      "['miss', ['i', 'gng']]\n",
      "['gng', ['miss']]\n",
      "['back', []]\n",
      "['reservist', []]\n",
      "['tcss', ['i']]\n",
      "['buddies', []]\n",
      "['work', []]\n",
      "Review Number :  149\n"
     ]
    },
    {
     "name": "stderr",
     "output_type": "stream",
     "text": [
      "  4%|███▌                                                                           | 151/3390 [01:37<27:21,  1.97it/s]"
     ]
    },
    {
     "name": "stdout",
     "output_type": "stream",
     "text": [
      "[['mr', []], ['ippt', ['best']], ['yearly', []]]\n",
      "['mr', []]\n",
      "['ippt', ['best']]\n",
      "['yearly', []]\n",
      "Review Number :  150\n",
      "[]\n",
      "Review Number :  151\n"
     ]
    },
    {
     "name": "stderr",
     "output_type": "stream",
     "text": [
      "\r",
      "  4%|███▌                                                                           | 152/3390 [01:38<30:06,  1.79it/s]"
     ]
    },
    {
     "name": "stdout",
     "output_type": "stream",
     "text": [
      "[['hope', ['i']], ['call', ['they', 'me']], ['ict', []], ['cycle', []], ['aussie', ['go']], ['brunei', []]]\n",
      "['hope', ['i']]\n",
      "['call', ['they', 'me']]\n",
      "['ict', []]\n",
      "['cycle', []]\n",
      "['aussie', ['go']]\n",
      "['brunei', []]\n",
      "Review Number :  152\n"
     ]
    },
    {
     "name": "stderr",
     "output_type": "stream",
     "text": [
      "\r",
      "  5%|███▌                                                                           | 153/3390 [01:38<34:36,  1.56it/s]"
     ]
    },
    {
     "name": "stdout",
     "output_type": "stream",
     "text": [
      "[['agree', []], ['imagineu', ['need']], ['still', []], ['back', []], ['ict', ['go']], ['physically', []], ['u', ['find', 'have']], ['u', ['find', 'have']], ['probably', []], ['tons', ['have']], ['commitments', []], ['family', []], ['commitments', []], ['clear', ['them']], ['asap', []]]\n",
      "['agree', []]\n",
      "['imagineu', ['need']]\n",
      "['still', []]\n",
      "['back', []]\n",
      "['ict', ['go']]\n",
      "['physically', []]\n",
      "['u', ['find', 'have']]\n",
      "['u', ['find', 'have']]\n",
      "['probably', []]\n",
      "['tons', ['have']]\n",
      "['commitments', []]\n",
      "['family', []]\n",
      "['commitments', []]\n",
      "['clear', ['them']]\n",
      "['asap', []]\n",
      "Review Number :  153\n"
     ]
    },
    {
     "name": "stderr",
     "output_type": "stream",
     "text": [
      "\r",
      "  5%|███▌                                                                           | 154/3390 [01:39<28:14,  1.91it/s]"
     ]
    },
    {
     "name": "stdout",
     "output_type": "stream",
     "text": [
      "[['didnt', []], ['receive', ['you', 'this']], ['meh', []]]\n",
      "['didnt', []]\n",
      "['receive', ['you', 'this']]\n",
      "['meh', []]\n",
      "Review Number :  154\n"
     ]
    },
    {
     "name": "stderr",
     "output_type": "stream",
     "text": [
      "\r",
      "  5%|███▌                                                                           | 155/3390 [01:39<30:47,  1.75it/s]"
     ]
    },
    {
     "name": "stdout",
     "output_type": "stream",
     "text": [
      "[['sianz', []], ['ippt', []], ['rangesoc', []], ['socroute', []], ['routemarch', []], ['marchfibua', []], ['fibuafofo', []], ['fofobctc', []], ['bctcict', []], ['open', []], ['mob', ['getting']], ['really', []], ['use', ['getting']]]\n",
      "['sianz', []]\n",
      "['ippt', []]\n",
      "['rangesoc', []]\n",
      "['socroute', []]\n",
      "['routemarch', []]\n",
      "['marchfibua', []]\n",
      "['fibuafofo', []]\n",
      "['fofobctc', []]\n",
      "['bctcict', []]\n",
      "['open', []]\n",
      "['mob', ['getting']]\n",
      "['really', []]\n",
      "['use', ['getting']]\n",
      "Review Number :  155\n"
     ]
    },
    {
     "name": "stderr",
     "output_type": "stream",
     "text": [
      "\r",
      "  5%|███▋                                                                           | 156/3390 [01:40<29:11,  1.85it/s]"
     ]
    },
    {
     "name": "stdout",
     "output_type": "stream",
     "text": [
      "[['nsf', []], ['regular', []], ['reservist', ['see']], ['new', []], ['lumber', ['wearing']], ['jin', []], ['satki', []], ['envious', []]]\n",
      "['nsf', []]\n",
      "['regular', []]\n",
      "['reservist', ['see']]\n",
      "['new', []]\n",
      "['lumber', ['wearing']]\n",
      "['jin', []]\n",
      "['satki', []]\n",
      "['envious', []]\n",
      "Review Number :  156\n"
     ]
    },
    {
     "name": "stderr",
     "output_type": "stream",
     "text": [
      "\r",
      "  5%|███▋                                                                           | 157/3390 [01:40<27:35,  1.95it/s]"
     ]
    },
    {
     "name": "stdout",
     "output_type": "stream",
     "text": [
      "[['calllsaf', ['tell']], ['confrim', []], ['ur', []], ['name', []], ['n', ['tell']], ['icnumber', []]]\n",
      "['calllsaf', ['tell']]\n",
      "['confrim', []]\n",
      "['ur', []]\n",
      "['name', []]\n",
      "['n', ['tell']]\n",
      "['icnumber', []]\n",
      "Review Number :  157\n"
     ]
    },
    {
     "name": "stderr",
     "output_type": "stream",
     "text": [
      "\r",
      "  5%|███▋                                                                           | 158/3390 [01:42<48:27,  1.11it/s]"
     ]
    },
    {
     "name": "stdout",
     "output_type": "stream",
     "text": [
      "[['really', []], ['day', ['missed']], ['nsf', []], ['early', []], ['bx', []], ['arbo', []], ['jog', ['do']], ['exercise', []], ['wooden', []], ['log', []], ['else', []], ['selarang', []], ['pools', []], ['day', ['missed']], ['script', ['digging']], ['trenches', []], ['assaultboat', []], ['captize', []], ['drill', ['finish']], ['seafollow', []], ['formation', []], ['finish', ['drill']], ['next', []], ['carry', ['boat']], ['boat', ['carry']], ['back', []], ['boatman', []]]\n",
      "['really', []]\n",
      "['day', ['missed']]\n",
      "['nsf', []]\n",
      "['early', []]\n",
      "['bx', []]\n",
      "['arbo', []]\n",
      "['jog', ['do']]\n",
      "['exercise', []]\n",
      "['wooden', []]\n",
      "['log', []]\n",
      "['else', []]\n",
      "['selarang', []]\n",
      "['pools', []]\n",
      "['day', ['missed']]\n",
      "['script', ['digging']]\n",
      "['trenches', []]\n",
      "['assaultboat', []]\n",
      "['captize', []]\n",
      "['drill', ['finish']]\n",
      "['seafollow', []]\n",
      "['formation', []]\n",
      "['finish', ['drill']]\n",
      "['next', []]\n",
      "['carry', ['boat']]\n",
      "['boat', ['carry']]\n",
      "['back', []]\n",
      "['boatman', []]\n",
      "Review Number :  158\n"
     ]
    },
    {
     "name": "stderr",
     "output_type": "stream",
     "text": [
      "\r",
      "  5%|███▋                                                                           | 159/3390 [01:43<40:37,  1.33it/s]"
     ]
    },
    {
     "name": "stdout",
     "output_type": "stream",
     "text": [
      "[['u', ['seen']], ['recuit', ['seen']], ['back', []], ['idun', ['go']], ['dunwan', []], ['back', []]]\n",
      "['u', ['seen']]\n",
      "['recuit', ['seen']]\n",
      "['back', []]\n",
      "['idun', ['go']]\n",
      "['dunwan', []]\n",
      "['back', []]\n",
      "Review Number :  159\n"
     ]
    },
    {
     "name": "stderr",
     "output_type": "stream",
     "text": [
      "\r",
      "  5%|███▋                                                                           | 160/3390 [01:43<33:01,  1.63it/s]"
     ]
    },
    {
     "name": "stdout",
     "output_type": "stream",
     "text": [
      "[['officers', []]]\n",
      "['officers', []]\n",
      "Review Number :  160\n"
     ]
    },
    {
     "name": "stderr",
     "output_type": "stream",
     "text": [
      "\r",
      "  5%|███▊                                                                           | 161/3390 [01:44<41:26,  1.30it/s]"
     ]
    },
    {
     "name": "stdout",
     "output_type": "stream",
     "text": [
      "[['sometimes', []], ['didnt', []], ['complete', ['call']], ['unit', ['call', 'call']], ['never', []], ['fault', []], ['leh', []], ['still', []], ['till', []], ['even', []], ['unit', ['call', 'call']], ['didnt', []], ['call', ['complete', 'unit', 'them', 'unit', 'them']], ['leh', []], ['suffer', ['they', 'more']], ['even', []], ['complete', ['call']]]\n",
      "['sometimes', []]\n",
      "['didnt', []]\n",
      "['complete', ['call']]\n",
      "['unit', ['call', 'call']]\n",
      "['never', []]\n",
      "['fault', []]\n",
      "['leh', []]\n",
      "['still', []]\n",
      "['till', []]\n",
      "['even', []]\n",
      "['unit', ['call', 'call']]\n",
      "['didnt', []]\n",
      "['call', ['complete', 'unit', 'them', 'unit', 'them']]\n",
      "['leh', []]\n",
      "['suffer', ['they', 'more']]\n",
      "['even', []]\n",
      "['complete', ['call']]\n",
      "Review Number :  161\n"
     ]
    },
    {
     "name": "stderr",
     "output_type": "stream",
     "text": [
      "\r",
      "  5%|███▊                                                                           | 162/3390 [01:45<40:39,  1.32it/s]"
     ]
    },
    {
     "name": "stdout",
     "output_type": "stream",
     "text": [
      "[['im', ['did']], ['yeartill', []], ['tilltoday', ['did']], ['high', []], ['key', ['did']], ['dunno', []], ['start', ['they']], ['frequency', ['increasing']], ['back', []], ['soon', []]]\n",
      "['im', ['did']]\n",
      "['yeartill', []]\n",
      "['tilltoday', ['did']]\n",
      "['high', []]\n",
      "['key', ['did']]\n",
      "['dunno', []]\n",
      "['start', ['they']]\n",
      "['frequency', ['increasing']]\n",
      "['back', []]\n",
      "['soon', []]\n",
      "Review Number :  162\n"
     ]
    },
    {
     "name": "stderr",
     "output_type": "stream",
     "text": [
      "\r",
      "  5%|███▊                                                                           | 163/3390 [01:45<41:25,  1.30it/s]"
     ]
    },
    {
     "name": "stdout",
     "output_type": "stream",
     "text": [
      "[['sian', ['confirm']], ['confirm', ['sian']], ['yrs', []], ['old', []], ['liao', ['completed']], ['low', []], ['keys', ['completed']], ['ji', []], ['dao', []], ['st', []], ['low', []], ['high', []], ['preare', []], ['etag', []], ['imdidnt', []], ['didntcall', []], ['back', []], ['till', []], ['ordgg', []], ['ggliao', []], ['liaoxd', []]]\n",
      "['sian', ['confirm']]\n",
      "['confirm', ['sian']]\n",
      "['yrs', []]\n",
      "['old', []]\n",
      "['liao', ['completed']]\n",
      "['low', []]\n",
      "['keys', ['completed']]\n",
      "['ji', []]\n",
      "['dao', []]\n",
      "['st', []]\n",
      "['low', []]\n",
      "['high', []]\n",
      "['preare', []]\n",
      "['etag', []]\n",
      "['imdidnt', []]\n",
      "['didntcall', []]\n",
      "['back', []]\n",
      "['till', []]\n",
      "['ordgg', []]\n",
      "['ggliao', []]\n",
      "['liaoxd', []]\n",
      "Review Number :  163\n"
     ]
    },
    {
     "name": "stderr",
     "output_type": "stream",
     "text": [
      "\r",
      "  5%|███▊                                                                           | 164/3390 [01:46<45:33,  1.18it/s]"
     ]
    },
    {
     "name": "stdout",
     "output_type": "stream",
     "text": [
      "[['depends', []], ['mateippt', ['is']], ['extra', []], ['gold', ['he', 'way']], ['way', ['gold', 'sleeping']], ['siong', ['workoutside']], ['ict', ['sleeping']], ['almost', []], ['sleeping', ['ict', 'way']], ['way', ['gold', 'sleeping']]]\n",
      "['depends', []]\n",
      "['mateippt', ['is']]\n",
      "['extra', []]\n",
      "['gold', ['he', 'way']]\n",
      "['way', ['gold', 'sleeping']]\n",
      "['siong', ['workoutside']]\n",
      "['ict', ['sleeping']]\n",
      "['almost', []]\n",
      "['sleeping', ['ict', 'way']]\n",
      "['way', ['gold', 'sleeping']]\n",
      "Review Number :  164\n"
     ]
    },
    {
     "name": "stderr",
     "output_type": "stream",
     "text": [
      "\r",
      "  5%|███▊                                                                           | 165/3390 [01:47<39:12,  1.37it/s]"
     ]
    },
    {
     "name": "stdout",
     "output_type": "stream",
     "text": [
      "[['good', []], ['serve', ['reservist']], ['reservist', ['serve']], ['later', []], ['yr', []], ['old', []], ['start', ['ict']], ['first', []], ['ict', ['start']]]\n",
      "['good', []]\n",
      "['serve', ['reservist']]\n",
      "['reservist', ['serve']]\n",
      "['later', []]\n",
      "['yr', []]\n",
      "['old', []]\n",
      "['start', ['ict']]\n",
      "['first', []]\n",
      "['ict', ['start']]\n",
      "Review Number :  165\n"
     ]
    },
    {
     "name": "stderr",
     "output_type": "stream",
     "text": [
      "\r",
      "  5%|███▊                                                                           | 166/3390 [01:47<32:16,  1.66it/s]"
     ]
    },
    {
     "name": "stdout",
     "output_type": "stream",
     "text": [
      "[['kind', ['you']], ['pass', ['who']], ['ippt', []]]\n",
      "['kind', ['you']]\n",
      "['pass', ['who']]\n",
      "['ippt', []]\n",
      "Review Number :  166\n"
     ]
    },
    {
     "name": "stderr",
     "output_type": "stream",
     "text": [
      "\r",
      "  5%|███▉                                                                           | 167/3390 [01:48<26:57,  1.99it/s]"
     ]
    },
    {
     "name": "stdout",
     "output_type": "stream",
     "text": [
      "[['long', []], ['service', []], ['medals', ['received']]]\n",
      "['long', []]\n",
      "['service', []]\n",
      "['medals', ['received']]\n",
      "Review Number :  167\n"
     ]
    },
    {
     "name": "stderr",
     "output_type": "stream",
     "text": [
      "\r",
      "  5%|███▉                                                                           | 168/3390 [01:48<25:07,  2.14it/s]"
     ]
    },
    {
     "name": "stdout",
     "output_type": "stream",
     "text": [
      "[['spy', ['i', 'wifmoi']], ['wifmoi', ['spy']], ['moieye', ['birdy']], ['birdy', ['moieye']], ['year', []], ['old', []], ['thread', ['necroed']]]\n",
      "['spy', ['i', 'wifmoi']]\n",
      "['wifmoi', ['spy']]\n",
      "['moieye', ['birdy']]\n",
      "['birdy', ['moieye']]\n",
      "['year', []]\n",
      "['old', []]\n",
      "['thread', ['necroed']]\n",
      "Review Number :  168\n"
     ]
    },
    {
     "name": "stderr",
     "output_type": "stream",
     "text": [
      "\r",
      "  5%|███▉                                                                           | 169/3390 [01:49<30:15,  1.77it/s]"
     ]
    },
    {
     "name": "stdout",
     "output_type": "stream",
     "text": [
      "[['talk', ['you']], ['unfair', []], ['foreigners', []], ['nothing', ['did']], ['peace', ['enjoying']], ['prosperity', []], ['jobsecurity', []], ['jobs', []], ['expenses', []]]\n",
      "['talk', ['you']]\n",
      "['unfair', []]\n",
      "['foreigners', []]\n",
      "['nothing', ['did']]\n",
      "['peace', ['enjoying']]\n",
      "['prosperity', []]\n",
      "['jobsecurity', []]\n",
      "['jobs', []]\n",
      "['expenses', []]\n",
      "Review Number :  169\n"
     ]
    },
    {
     "name": "stderr",
     "output_type": "stream",
     "text": [
      "\r",
      "  5%|███▉                                                                           | 170/3390 [01:49<26:47,  2.00it/s]"
     ]
    },
    {
     "name": "stdout",
     "output_type": "stream",
     "text": [
      "[['anyonereach', []], ['never', []], ['letter', ['received']], ['mindef', []]]\n",
      "['anyonereach', []]\n",
      "['never', []]\n",
      "['letter', ['received']]\n",
      "['mindef', []]\n",
      "Review Number :  170\n"
     ]
    },
    {
     "name": "stderr",
     "output_type": "stream",
     "text": [
      "\r",
      "  5%|███▉                                                                           | 171/3390 [01:50<27:28,  1.95it/s]"
     ]
    },
    {
     "name": "stdout",
     "output_type": "stream",
     "text": [
      "[['years', ['old']], ['old', ['years']], ['appt', ['they', 'holders']], ['holders', ['appt']], ['early', []], ['late', []], ['back', []], ['briefings', []], ['meeting', ['meant']], ['stuffs', []]]\n",
      "['years', ['old']]\n",
      "['old', ['years']]\n",
      "['appt', ['they', 'holders']]\n",
      "['holders', ['appt']]\n",
      "['early', []]\n",
      "['late', []]\n",
      "['back', []]\n",
      "['briefings', []]\n",
      "['meeting', ['meant']]\n",
      "['stuffs', []]\n",
      "Review Number :  171\n"
     ]
    },
    {
     "name": "stderr",
     "output_type": "stream",
     "text": [
      "\r",
      "  5%|████                                                                           | 172/3390 [01:50<28:27,  1.88it/s]"
     ]
    },
    {
     "name": "stdout",
     "output_type": "stream",
     "text": [
      "[['basketsaf', ['sent']], ['letter', ['sent']], ['collect', ['medal']], ['good', []], ['service', []], ['many', []], ['medals', ['want']], ['give', ['me']]]\n",
      "['basketsaf', ['sent']]\n",
      "['letter', ['sent']]\n",
      "['collect', ['medal']]\n",
      "['good', []]\n",
      "['service', []]\n",
      "['many', []]\n",
      "['medals', ['want']]\n",
      "['give', ['me']]\n",
      "Review Number :  172\n"
     ]
    },
    {
     "name": "stderr",
     "output_type": "stream",
     "text": [
      "\r",
      "  5%|████                                                                           | 173/3390 [01:51<40:44,  1.32it/s]"
     ]
    },
    {
     "name": "stdout",
     "output_type": "stream",
     "text": [
      "[['award', ['they', 'they', 'forces']], ['singapore', []], ['forces', ['award']], ['national', []], ['service', []], ['years', []], ['resources', ['wasting']], ['time', []], ['award', ['they', 'they', 'forces']], ['singapore', []], ['armed', []], ['forces', ['award']], ['national', []], ['servicemedal', []], ['yearclasp', []], ['benefits', ['happy']], ['happy', ['benefits']], ['cause', []], ['right', []], ['earn', ['you', 'it']]]\n",
      "['award', ['they', 'they', 'forces']]\n",
      "['singapore', []]\n",
      "['forces', ['award']]\n",
      "['national', []]\n",
      "['service', []]\n",
      "['years', []]\n",
      "['resources', ['wasting']]\n",
      "['time', []]\n",
      "['award', ['they', 'they', 'forces']]\n",
      "['singapore', []]\n",
      "['armed', []]\n",
      "['forces', ['award']]\n",
      "['national', []]\n",
      "['servicemedal', []]\n",
      "['yearclasp', []]\n",
      "['benefits', ['happy']]\n",
      "['happy', ['benefits']]\n",
      "['cause', []]\n",
      "['right', []]\n",
      "['earn', ['you', 'it']]\n",
      "Review Number :  173\n"
     ]
    },
    {
     "name": "stderr",
     "output_type": "stream",
     "text": [
      "\r",
      "  5%|████                                                                           | 174/3390 [01:52<36:29,  1.47it/s]"
     ]
    },
    {
     "name": "stdout",
     "output_type": "stream",
     "text": [
      "[['cork', []], ['ups', ['happen']], ['ict', []], ['mates', []], ['yearmedal', []], ['medaltwice', ['gotten']]]\n",
      "['cork', []]\n",
      "['ups', ['happen']]\n",
      "['ict', []]\n",
      "['mates', []]\n",
      "['yearmedal', []]\n",
      "['medaltwice', ['gotten']]\n",
      "Review Number :  174\n"
     ]
    },
    {
     "name": "stderr",
     "output_type": "stream",
     "text": [
      "\r",
      "  5%|████                                                                           | 175/3390 [01:52<29:47,  1.80it/s]"
     ]
    },
    {
     "name": "stdout",
     "output_type": "stream",
     "text": [
      "[['skip', ['they', 'yearmedal']]]\n",
      "['skip', ['they', 'yearmedal']]\n",
      "Review Number :  175\n"
     ]
    },
    {
     "name": "stderr",
     "output_type": "stream",
     "text": [
      "\r",
      "  5%|████                                                                           | 176/3390 [01:53<28:00,  1.91it/s]"
     ]
    },
    {
     "name": "stdout",
     "output_type": "stream",
     "text": [
      "[['nice', ['try']], ['try', ['nice']], ['year', []], ['th', []], ['ict', []], ['second', []], ['year', []], ['thict', []]]\n",
      "['nice', ['try']]\n",
      "['try', ['nice']]\n",
      "['year', []]\n",
      "['th', []]\n",
      "['ict', []]\n",
      "['second', []]\n",
      "['year', []]\n",
      "['thict', []]\n",
      "Review Number :  176\n"
     ]
    },
    {
     "name": "stderr",
     "output_type": "stream",
     "text": [
      "\r",
      "  5%|████                                                                         | 177/3390 [01:55<1:00:18,  1.13s/it]"
     ]
    },
    {
     "name": "stdout",
     "output_type": "stream",
     "text": [
      "[['wose', ['liable']], ['liable', ['wose', 'officers']], ['ns', []], ['call', []], ['ups', []], ['ippt', []], ['statutory', []], ['age', ['occurs']], ['nsmen', ['managed']], ['clock', []], ['hk', []], ['years', []], ['mindef', []], ['reserves', []], ['rather', []], ['means', ['exns']], ['rdhome', []], ['awards', []], ['officers', ['liable']], ['liable', ['wose', 'officers']], ['ns', []], ['call', []], ['ups', []], ['ippt', []], ['statutory', []], ['age', ['occurs']], ['clock', []], ['hk', []], ['years', []], ['officers', ['liable']], ['however', []], ['statutory', []], ['agecease', ['turning']], ['meaning', []], ['turn', ['they']], ['yet', []], ['mr', []], ['still', []], ['eligible', ['they']], ['ippt', []]]\n",
      "['wose', ['liable']]\n",
      "['liable', ['wose', 'officers']]\n",
      "['ns', []]\n",
      "['call', []]\n",
      "['ups', []]\n",
      "['ippt', []]\n",
      "['statutory', []]\n",
      "['age', ['occurs']]\n",
      "['nsmen', ['managed']]\n",
      "['clock', []]\n",
      "['hk', []]\n",
      "['years', []]\n",
      "['mindef', []]\n",
      "['reserves', []]\n",
      "['rather', []]\n",
      "['means', ['exns']]\n",
      "['rdhome', []]\n",
      "['awards', []]\n",
      "['officers', ['liable']]\n",
      "['liable', ['wose', 'officers']]\n",
      "['ns', []]\n",
      "['call', []]\n",
      "['ups', []]\n",
      "['ippt', []]\n",
      "['statutory', []]\n",
      "['age', ['occurs']]\n",
      "['clock', []]\n",
      "['hk', []]\n",
      "['years', []]\n",
      "['officers', ['liable']]\n",
      "['however', []]\n",
      "['statutory', []]\n",
      "['agecease', ['turning']]\n",
      "['meaning', []]\n",
      "['turn', ['they']]\n",
      "['yet', []]\n",
      "['mr', []]\n",
      "['still', []]\n",
      "['eligible', ['they']]\n",
      "['ippt', []]\n",
      "Review Number :  177\n"
     ]
    },
    {
     "name": "stderr",
     "output_type": "stream",
     "text": [
      "\r",
      "  5%|████▏                                                                          | 178/3390 [01:56<48:48,  1.10it/s]"
     ]
    },
    {
     "name": "stdout",
     "output_type": "stream",
     "text": [
      "[['base', ['they', 'age']], ['age', ['base']], ['financial', []], ['year', []], ['date', []], ['birth', []], ['individual', []]]\n",
      "['base', ['they', 'age']]\n",
      "['age', ['base']]\n",
      "['financial', []]\n",
      "['year', []]\n",
      "['date', []]\n",
      "['birth', []]\n",
      "['individual', []]\n",
      "Review Number :  178\n"
     ]
    },
    {
     "name": "stderr",
     "output_type": "stream",
     "text": [
      "\r",
      "  5%|████▏                                                                          | 179/3390 [01:56<43:26,  1.23it/s]"
     ]
    },
    {
     "name": "stdout",
     "output_type": "stream",
     "text": [
      "[['dob', []], ['callup', ['got']], ['date', []], ['thbirthday', []], ['call', []], ['clarify', []]]\n",
      "['dob', []]\n",
      "['callup', ['got']]\n",
      "['date', []]\n",
      "['thbirthday', []]\n",
      "['call', []]\n",
      "['clarify', []]\n",
      "Review Number :  179\n"
     ]
    },
    {
     "name": "stderr",
     "output_type": "stream",
     "text": [
      "\r",
      "  5%|████▏                                                                          | 180/3390 [01:56<33:45,  1.59it/s]"
     ]
    },
    {
     "name": "stdout",
     "output_type": "stream",
     "text": [
      "[['base', []], ['dob', []]]\n",
      "['base', []]\n",
      "['dob', []]\n",
      "Review Number :  180\n"
     ]
    },
    {
     "name": "stderr",
     "output_type": "stream",
     "text": [
      "\r",
      "  5%|████▏                                                                          | 181/3390 [01:57<31:10,  1.72it/s]"
     ]
    },
    {
     "name": "stdout",
     "output_type": "stream",
     "text": [
      "[['thank', ['you']], ['cause', []], ['regular', []], ['still', []], ['reservists', ['serving']]]\n",
      "['thank', ['you']]\n",
      "['cause', []]\n",
      "['regular', []]\n",
      "['still', []]\n",
      "['reservists', ['serving']]\n",
      "Review Number :  181\n"
     ]
    },
    {
     "name": "stderr",
     "output_type": "stream",
     "text": [
      "\r",
      "  5%|████▏                                                                          | 182/3390 [01:57<27:51,  1.92it/s]"
     ]
    },
    {
     "name": "stdout",
     "output_type": "stream",
     "text": [
      "[['normally', []], ['fully', []], ['age', []], ['u', ['officerranking']], ['officerranking', ['u']]]\n",
      "['normally', []]\n",
      "['fully', []]\n",
      "['age', []]\n",
      "['u', ['officerranking']]\n",
      "['officerranking', ['u']]\n",
      "Review Number :  182\n"
     ]
    },
    {
     "name": "stderr",
     "output_type": "stream",
     "text": [
      "\r",
      "  5%|████▎                                                                          | 183/3390 [01:58<31:50,  1.68it/s]"
     ]
    },
    {
     "name": "stdout",
     "output_type": "stream",
     "text": [
      "[['anyone', ['activate']], ['whoms', ['done']], ['ord', ['done']], ['never', []], ['icti', ['done']], ['activate', ['anyone']], ['ict', ['doing']], ['peer', ['doing']], ['ict', ['doing']], ['even', []], ['ord', ['done']], ['also', []], ['stict', ['done']]]\n",
      "['anyone', ['activate']]\n",
      "['whoms', ['done']]\n",
      "['ord', ['done']]\n",
      "['never', []]\n",
      "['icti', ['done']]\n",
      "['activate', ['anyone']]\n",
      "['ict', ['doing']]\n",
      "['peer', ['doing']]\n",
      "['ict', ['doing']]\n",
      "['even', []]\n",
      "['ord', ['done']]\n",
      "['also', []]\n",
      "['stict', ['done']]\n",
      "Review Number :  183\n"
     ]
    },
    {
     "name": "stderr",
     "output_type": "stream",
     "text": [
      "\r",
      "  5%|████▎                                                                          | 184/3390 [01:59<33:31,  1.59it/s]"
     ]
    },
    {
     "name": "stdout",
     "output_type": "stream",
     "text": [
      "[['think', ['i']], ['unit', ['see']], ['pretty', []], ['active', []], ['atec', []], ['get', []], ['quite', []], ['often', []], ['ns', []], ['vocation', ['whats']]]\n",
      "['think', ['i']]\n",
      "['unit', ['see']]\n",
      "['pretty', []]\n",
      "['active', []]\n",
      "['atec', []]\n",
      "['get', []]\n",
      "['quite', []]\n",
      "['often', []]\n",
      "['ns', []]\n",
      "['vocation', ['whats']]\n",
      "Review Number :  184\n"
     ]
    },
    {
     "name": "stderr",
     "output_type": "stream",
     "text": [
      "\r",
      "  5%|████▏                                                                        | 185/3390 [02:01<1:03:54,  1.20s/it]"
     ]
    },
    {
     "name": "stdout",
     "output_type": "stream",
     "text": [
      "[['depends', []], ['unit', ['have']], ['vocationi', []], ['list', []], ['years', []], ['ippt', ['ord']], ['mob', ['manning']], ['ict', ['manning']], ['active', []], ['unit', ['have']], ['vacancy', ['have']], ['saf', ['i']], ['th', []], ['year', []], ['year', []], ['also', []], ['liao', ['received']], ['mrcert', ['received']], ['last', []], ['year', []], ['yet', []], ['yo', ['curious']], ['curious', ['yo']], ['chances', ['call']], ['ict', ['manning']], ['fbo', ['taking']], ['uniforms', []], ['spacelor', ['taking']], ['bring', []], ['emart', []], ['drop', []], ['redminote', []], ['gagt', []]]\n",
      "['depends', []]\n",
      "['unit', ['have']]\n",
      "['vocationi', []]\n",
      "['list', []]\n",
      "['years', []]\n",
      "['ippt', ['ord']]\n",
      "['mob', ['manning']]\n",
      "['ict', ['manning']]\n",
      "['active', []]\n",
      "['unit', ['have']]\n",
      "['vacancy', ['have']]\n",
      "['saf', ['i']]\n",
      "['th', []]\n",
      "['year', []]\n",
      "['year', []]\n",
      "['also', []]\n",
      "['liao', ['received']]\n",
      "['mrcert', ['received']]\n",
      "['last', []]\n",
      "['year', []]\n",
      "['yet', []]\n",
      "['yo', ['curious']]\n",
      "['curious', ['yo']]\n",
      "['chances', ['call']]\n",
      "['ict', ['manning']]\n",
      "['fbo', ['taking']]\n",
      "['uniforms', []]\n",
      "['spacelor', ['taking']]\n",
      "['bring', []]\n",
      "['emart', []]\n",
      "['drop', []]\n",
      "['redminote', []]\n",
      "['gagt', []]\n",
      "Review Number :  185\n"
     ]
    },
    {
     "name": "stderr",
     "output_type": "stream",
     "text": [
      "\r",
      "  5%|████▎                                                                          | 186/3390 [02:02<54:48,  1.03s/it]"
     ]
    },
    {
     "name": "stdout",
     "output_type": "stream",
     "text": [
      "[['pass', []], ['call', ['they', 'u']], ['u', ['call', 'finished']], ['anything', []], ['u', ['call', 'finished']], ['cycles', ['finished']], ['statutory', []], ['legislationu', []]]\n",
      "['pass', []]\n",
      "['call', ['they', 'u']]\n",
      "['u', ['call', 'finished']]\n",
      "['anything', []]\n",
      "['u', ['call', 'finished']]\n",
      "['cycles', ['finished']]\n",
      "['statutory', []]\n",
      "['legislationu', []]\n",
      "Review Number :  186\n"
     ]
    },
    {
     "name": "stderr",
     "output_type": "stream",
     "text": [
      "\r",
      "  6%|████▎                                                                          | 187/3390 [02:02<42:51,  1.25it/s]"
     ]
    },
    {
     "name": "stdout",
     "output_type": "stream",
     "text": [
      "[['return', ['that']]]\n",
      "['return', ['that']]\n",
      "Review Number :  187\n"
     ]
    },
    {
     "name": "stderr",
     "output_type": "stream",
     "text": [
      "\r",
      "  6%|████▎                                                                        | 188/3390 [02:04<1:02:39,  1.17s/it]"
     ]
    },
    {
     "name": "stdout",
     "output_type": "stream",
     "text": [
      "[['active', []], ['battalions', []], ['days', []], ['likely', []], ['start', ['you', 'reservist']], ['reservist', ['start']], ['soon', []], ['year', []], ['ord', []], ['sure', []], ['active', []], ['brigades', []], ['last', []], ['time', []], ['nsf', []], ['days', []], ['active', []], ['personnel', ['i']], ['reservistbrigade', []], ['list', []], ['years', []], ['icts', ['done']], ['year', []], ['timei', []]]\n",
      "['active', []]\n",
      "['battalions', []]\n",
      "['days', []]\n",
      "['likely', []]\n",
      "['start', ['you', 'reservist']]\n",
      "['reservist', ['start']]\n",
      "['soon', []]\n",
      "['year', []]\n",
      "['ord', []]\n",
      "['sure', []]\n",
      "['active', []]\n",
      "['brigades', []]\n",
      "['last', []]\n",
      "['time', []]\n",
      "['nsf', []]\n",
      "['days', []]\n",
      "['active', []]\n",
      "['personnel', ['i']]\n",
      "['reservistbrigade', []]\n",
      "['list', []]\n",
      "['years', []]\n",
      "['icts', ['done']]\n",
      "['year', []]\n",
      "['timei', []]\n",
      "Review Number :  188\n"
     ]
    },
    {
     "name": "stderr",
     "output_type": "stream",
     "text": [
      "\r",
      "  6%|████▎                                                                        | 189/3390 [02:08<1:39:47,  1.87s/it]"
     ]
    },
    {
     "name": "stdout",
     "output_type": "stream",
     "text": [
      "[['possible', []], ['unit', ['able']], ['arrange', ['icts', 'icts']], ['icts', ['arrange', 'have', 'arrange']], ['clock', ['cycles']], ['cycles', ['clock', 'attending']], ['officers', []], ['carefully', []], ['safwork', []], ['april', ['workyear']], ['end', ['march']], ['march', ['end']], ['briefings', []], ['etc', []], ['fall', []], ['appropriate', []], ['months', []], ['nsmen', ['attending']], ['cycles', ['clock', 'attending']], ['turn', ['you', 'they']], ['last', []], ['cycle', []], ['sometimes', []], ['nsmens', ['it']], ['ict', ['defering', 'schedule']], ['sometimes', []], ['unitcouldnt', []], ['schedule', ['able', 'ict']], ['ict', ['defering', 'schedule']], ['year', []], ['personally', []], ['unit', ['able']], ['able', ['schedule', 'unit']], ['arrange', ['icts', 'icts']], ['icts', ['arrange', 'have', 'arrange']], ['nsmen', ['attending']], ['last', []], ['th', []], ['cycle', []], ['agelimit', ['reach']], ['next', []], ['battalionict', []], ['ictisnt', []], ['next', []], ['saf', []], ['year', []]]\n",
      "['possible', []]\n",
      "['unit', ['able']]\n",
      "['arrange', ['icts', 'icts']]\n",
      "['icts', ['arrange', 'have', 'arrange']]\n",
      "['clock', ['cycles']]\n",
      "['cycles', ['clock', 'attending']]\n",
      "['officers', []]\n",
      "['carefully', []]\n",
      "['safwork', []]\n",
      "['april', ['workyear']]\n",
      "['end', ['march']]\n",
      "['march', ['end']]\n",
      "['briefings', []]\n",
      "['etc', []]\n",
      "['fall', []]\n",
      "['appropriate', []]\n",
      "['months', []]\n",
      "['nsmen', ['attending']]\n",
      "['cycles', ['clock', 'attending']]\n",
      "['turn', ['you', 'they']]\n",
      "['last', []]\n",
      "['cycle', []]\n",
      "['sometimes', []]\n",
      "['nsmens', ['it']]\n",
      "['ict', ['defering', 'schedule']]\n",
      "['sometimes', []]\n",
      "['unitcouldnt', []]\n",
      "['schedule', ['able', 'ict']]\n",
      "['ict', ['defering', 'schedule']]\n",
      "['year', []]\n",
      "['personally', []]\n",
      "['unit', ['able']]\n",
      "['able', ['schedule', 'unit']]\n",
      "['arrange', ['icts', 'icts']]\n",
      "['icts', ['arrange', 'have', 'arrange']]\n",
      "['nsmen', ['attending']]\n",
      "['last', []]\n",
      "['th', []]\n",
      "['cycle', []]\n",
      "['agelimit', ['reach']]\n",
      "['next', []]\n",
      "['battalionict', []]\n",
      "['ictisnt', []]\n",
      "['next', []]\n",
      "['saf', []]\n",
      "['year', []]\n",
      "Review Number :  189\n"
     ]
    },
    {
     "name": "stderr",
     "output_type": "stream",
     "text": [
      "\r",
      "  6%|████▎                                                                        | 190/3390 [02:09<1:23:15,  1.56s/it]"
     ]
    },
    {
     "name": "stdout",
     "output_type": "stream",
     "text": [
      "[['birthday', ['falls', 'falls']], ['april', []], ['still', []], ['possible', []], ['clock', ['i', 'cycles']], ['cycles', ['clock']], ['bad', []], ['birthday', ['falls', 'falls']], ['february', []], ['icts', ['keys']], ['high', []], ['keys', ['icts']]]\n",
      "['birthday', ['falls', 'falls']]\n",
      "['april', []]\n",
      "['still', []]\n",
      "['possible', []]\n",
      "['clock', ['i', 'cycles']]\n",
      "['cycles', ['clock']]\n",
      "['bad', []]\n",
      "['birthday', ['falls', 'falls']]\n",
      "['february', []]\n",
      "['icts', ['keys']]\n",
      "['high', []]\n",
      "['keys', ['icts']]\n",
      "Review Number :  190\n"
     ]
    },
    {
     "name": "stderr",
     "output_type": "stream",
     "text": [
      "\r",
      "  6%|████▎                                                                        | 191/3390 [02:09<1:11:59,  1.35s/it]"
     ]
    },
    {
     "name": "stdout",
     "output_type": "stream",
     "text": [
      "[['yes', []], ['birthday', ['falls']], ['april', []], ['wont', []], ['able', ['you']], ['add', ['icts']], ['many', []], ['hk', []], ['icts', ['add']], ['complete', []], ['reach', ['cycles']], ['cycles', ['reach']]]\n",
      "['yes', []]\n",
      "['birthday', ['falls']]\n",
      "['april', []]\n",
      "['wont', []]\n",
      "['able', ['you']]\n",
      "['add', ['icts']]\n",
      "['many', []]\n",
      "['hk', []]\n",
      "['icts', ['add']]\n",
      "['complete', []]\n",
      "['reach', ['cycles']]\n",
      "['cycles', ['reach']]\n",
      "Review Number :  191\n"
     ]
    },
    {
     "name": "stderr",
     "output_type": "stream",
     "text": [
      "\r",
      "  6%|████▍                                                                          | 192/3390 [02:10<56:04,  1.05s/it]"
     ]
    },
    {
     "name": "stdout",
     "output_type": "stream",
     "text": [
      "[['already', []], ['lk', ['served']], ['hk', []], ['icts', []], ['hk', []], ['icts', []]]\n",
      "['already', []]\n",
      "['lk', ['served']]\n",
      "['hk', []]\n",
      "['icts', []]\n",
      "['hk', []]\n",
      "['icts', []]\n",
      "Review Number :  192\n"
     ]
    },
    {
     "name": "stderr",
     "output_type": "stream",
     "text": [
      "\r",
      "  6%|████▍                                                                          | 193/3390 [02:10<43:58,  1.21it/s]"
     ]
    },
    {
     "name": "stdout",
     "output_type": "stream",
     "text": [
      "[['hks', ['left']], ['already', []], ['close', ['you']]]\n",
      "['hks', ['left']]\n",
      "['already', []]\n",
      "['close', ['you']]\n",
      "Review Number :  193\n"
     ]
    },
    {
     "name": "stderr",
     "output_type": "stream",
     "text": [
      "\r",
      "  6%|████▌                                                                          | 194/3390 [02:11<41:26,  1.29it/s]"
     ]
    },
    {
     "name": "stdout",
     "output_type": "stream",
     "text": [
      "[['matey', []], ['u', ['wrote']], ['soon', []], ['year', []], ['complete', ['i', 'hks']], ['hks', ['complete']], ['irod', []]]\n",
      "['matey', []]\n",
      "['u', ['wrote']]\n",
      "['soon', []]\n",
      "['year', []]\n",
      "['complete', ['i', 'hks']]\n",
      "['hks', ['complete']]\n",
      "['irod', []]\n",
      "Review Number :  194\n"
     ]
    },
    {
     "name": "stderr",
     "output_type": "stream",
     "text": [
      "\r",
      "  6%|████▌                                                                          | 195/3390 [02:12<48:34,  1.10it/s]"
     ]
    },
    {
     "name": "stdout",
     "output_type": "stream",
     "text": [
      "[['yes', []], ['miss', ['you', 'cycle', 'you']], ['last', []], ['th', []], ['cycle', ['miss']], ['unit', ['scheduling', 'contacting']], ['isnt', []], ['scheduling', ['unit', 'icts']], ['icts', ['scheduling']], ['year', []], ['even', []], ['thcycle', []], ['unit', ['scheduling', 'contacting']], ['ask', ['them']], ['options', ['what']], ['feb', []], ['birth', []], ['month', []], ['hard', []], ['squeeze', []]]\n",
      "['yes', []]\n",
      "['miss', ['you', 'cycle', 'you']]\n",
      "['last', []]\n",
      "['th', []]\n",
      "['cycle', ['miss']]\n",
      "['unit', ['scheduling', 'contacting']]\n",
      "['isnt', []]\n",
      "['scheduling', ['unit', 'icts']]\n",
      "['icts', ['scheduling']]\n",
      "['year', []]\n",
      "['even', []]\n",
      "['thcycle', []]\n",
      "['unit', ['scheduling', 'contacting']]\n",
      "['ask', ['them']]\n",
      "['options', ['what']]\n",
      "['feb', []]\n",
      "['birth', []]\n",
      "['month', []]\n",
      "['hard', []]\n",
      "['squeeze', []]\n",
      "Review Number :  195\n"
     ]
    },
    {
     "name": "stderr",
     "output_type": "stream",
     "text": [
      "\r",
      "  6%|████▌                                                                          | 196/3390 [02:12<42:50,  1.24it/s]"
     ]
    },
    {
     "name": "stdout",
     "output_type": "stream",
     "text": [
      "[['year', []], ['especially', []], ['thict', []], ['ictatec', []]]\n",
      "['year', []]\n",
      "['especially', []]\n",
      "['thict', []]\n",
      "['ictatec', []]\n",
      "Review Number :  196\n"
     ]
    },
    {
     "name": "stderr",
     "output_type": "stream",
     "text": [
      "\r",
      "  6%|████▌                                                                          | 197/3390 [02:13<35:57,  1.48it/s]"
     ]
    },
    {
     "name": "stdout",
     "output_type": "stream",
     "text": [
      "[['count', ['it']], ['activity', []], ['workyear', []]]\n",
      "['count', ['it']]\n",
      "['activity', []]\n",
      "['workyear', []]\n",
      "Review Number :  197\n"
     ]
    },
    {
     "name": "stderr",
     "output_type": "stream",
     "text": [
      "\r",
      "  6%|████▌                                                                          | 198/3390 [02:14<43:30,  1.22it/s]"
     ]
    },
    {
     "name": "stdout",
     "output_type": "stream",
     "text": [
      "[['tsi', ['completed']], ['never', []], ['yr', []], ['cycle', ['completed']], ['lk', []], ['years', []], ['full', []], ['time', []], ['ns', ['exitpermit']], ['cosi', ['exitpermit']], ['exitpermit', ['ns', 'cosi']], ['dont', []], ['call', ['they']], ['u', ['send', 'send', 'say']], ['already', []], ['u', ['send', 'send', 'say']], ['rodcertificate', ['send']], ['u', ['send', 'send', 'say']], ['goodbye', ['say']]]\n",
      "['tsi', ['completed']]\n",
      "['never', []]\n",
      "['yr', []]\n",
      "['cycle', ['completed']]\n",
      "['lk', []]\n",
      "['years', []]\n",
      "['full', []]\n",
      "['time', []]\n",
      "['ns', ['exitpermit']]\n",
      "['cosi', ['exitpermit']]\n",
      "['exitpermit', ['ns', 'cosi']]\n",
      "['dont', []]\n",
      "['call', ['they']]\n",
      "['u', ['send', 'send', 'say']]\n",
      "['already', []]\n",
      "['u', ['send', 'send', 'say']]\n",
      "['rodcertificate', ['send']]\n",
      "['u', ['send', 'send', 'say']]\n",
      "['goodbye', ['say']]\n",
      "Review Number :  198\n"
     ]
    },
    {
     "name": "stderr",
     "output_type": "stream",
     "text": [
      "\r",
      "  6%|████▋                                                                          | 199/3390 [02:15<43:07,  1.23it/s]"
     ]
    },
    {
     "name": "stdout",
     "output_type": "stream",
     "text": [
      "[['uniform', ['keep']], ['always', []], ['chance', ['is']], ['call', ['they', 'u']], ['u', ['call', 'return']], ['long', []], ['u', ['call', 'return']], ['return', ['u']], ['uniform', ['keep']], ['pes', []]]\n",
      "['uniform', ['keep']]\n",
      "['always', []]\n",
      "['chance', ['is']]\n",
      "['call', ['they', 'u']]\n",
      "['u', ['call', 'return']]\n",
      "['long', []]\n",
      "['u', ['call', 'return']]\n",
      "['return', ['u']]\n",
      "['uniform', ['keep']]\n",
      "['pes', []]\n",
      "Review Number :  199\n"
     ]
    },
    {
     "name": "stderr",
     "output_type": "stream",
     "text": [
      "\r",
      "  6%|████▋                                                                          | 200/3390 [02:15<38:11,  1.39it/s]"
     ]
    },
    {
     "name": "stdout",
     "output_type": "stream",
     "text": [
      "[['need', []], ['officer', ['you']], ['self', []], ['extend', ['service']], ['service', ['extend']]]\n",
      "['need', []]\n",
      "['officer', ['you']]\n",
      "['self', []]\n",
      "['extend', ['service']]\n",
      "['service', ['extend']]\n",
      "Review Number :  200\n"
     ]
    },
    {
     "name": "stderr",
     "output_type": "stream",
     "text": [
      "\r",
      "  6%|████▋                                                                          | 201/3390 [02:16<31:54,  1.67it/s]"
     ]
    },
    {
     "name": "stdout",
     "output_type": "stream",
     "text": [
      "[['anyone', ['knows']], ['age', ['knows']], ['ageage', []]]\n",
      "['anyone', ['knows']]\n",
      "['age', ['knows']]\n",
      "['ageage', []]\n",
      "Review Number :  201\n"
     ]
    },
    {
     "name": "stderr",
     "output_type": "stream",
     "text": [
      "\r",
      "  6%|████▋                                                                          | 202/3390 [02:16<25:37,  2.07it/s]"
     ]
    },
    {
     "name": "stdout",
     "output_type": "stream",
     "text": [
      "[['years', []], ['age', []]]\n",
      "['years', []]\n",
      "['age', []]\n",
      "Review Number :  202\n"
     ]
    },
    {
     "name": "stderr",
     "output_type": "stream",
     "text": [
      "\r",
      "  6%|████▋                                                                          | 203/3390 [02:16<23:08,  2.29it/s]"
     ]
    },
    {
     "name": "stdout",
     "output_type": "stream",
     "text": [
      "[['mai', []], ['lah', ['finish']], ['finish', ['volunteer', 'lah', 'yearcycle', 'siewgang']], ['yearcycle', ['finish']], ['cyclesiew', []], ['siewgang', ['finish']]]\n",
      "['mai', []]\n",
      "['lah', ['finish']]\n",
      "['finish', ['volunteer', 'lah', 'yearcycle', 'siewgang']]\n",
      "['yearcycle', ['finish']]\n",
      "['cyclesiew', []]\n",
      "['siewgang', ['finish']]\n",
      "Review Number :  203\n"
     ]
    },
    {
     "name": "stderr",
     "output_type": "stream",
     "text": [
      "\r",
      "  6%|████▊                                                                          | 204/3390 [02:17<25:51,  2.05it/s]"
     ]
    },
    {
     "name": "stdout",
     "output_type": "stream",
     "text": [
      "[['kind', ['count']], ['activities', []], ['orns', []], ['havent', []], ['single', []], ['ict', ['done']], ['orns', []], ['year', []]]\n",
      "['kind', ['count']]\n",
      "['activities', []]\n",
      "['orns', []]\n",
      "['havent', []]\n",
      "['single', []]\n",
      "['ict', ['done']]\n",
      "['orns', []]\n",
      "['year', []]\n",
      "Review Number :  204\n"
     ]
    },
    {
     "name": "stderr",
     "output_type": "stream",
     "text": [
      "\r",
      "  6%|████▊                                                                          | 205/3390 [02:17<23:55,  2.22it/s]"
     ]
    },
    {
     "name": "stdout",
     "output_type": "stream",
     "text": [
      "[['activity', []], ['ict', []], ['mobilisation', []], ['call', []], ['briefing', []]]\n",
      "['activity', []]\n",
      "['ict', []]\n",
      "['mobilisation', []]\n",
      "['call', []]\n",
      "['briefing', []]\n",
      "Review Number :  205\n"
     ]
    },
    {
     "name": "stderr",
     "output_type": "stream",
     "text": [
      "\r",
      "  6%|████▊                                                                          | 206/3390 [02:18<23:54,  2.22it/s]"
     ]
    },
    {
     "name": "stdout",
     "output_type": "stream",
     "text": [
      "[['didnt', []], ['lol', []], ['somehow', []], ['orns', []], ['year', ['increasing']]]\n",
      "['didnt', []]\n",
      "['lol', []]\n",
      "['somehow', []]\n",
      "['orns', []]\n",
      "['year', ['increasing']]\n",
      "Review Number :  206\n"
     ]
    },
    {
     "name": "stderr",
     "output_type": "stream",
     "text": [
      "\r",
      "  6%|████▊                                                                          | 207/3390 [02:18<21:04,  2.52it/s]"
     ]
    },
    {
     "name": "stdout",
     "output_type": "stream",
     "text": [
      "[['check', ['cycle']], ['orns', []], ['cycle', ['check']]]\n",
      "['check', ['cycle']]\n",
      "['orns', []]\n",
      "['cycle', ['check']]\n",
      "Review Number :  207\n"
     ]
    },
    {
     "name": "stderr",
     "output_type": "stream",
     "text": [
      "\r",
      "  6%|████▊                                                                          | 208/3390 [02:18<24:10,  2.19it/s]"
     ]
    },
    {
     "name": "stdout",
     "output_type": "stream",
     "text": [
      "[['u', ['receive']], ['receive', ['u', 'saf']], ['saf', ['receive']], ['theres', ['documents']], ['documents', ['theres']], ['everyones', []], ['information', []], ['orns', []]]\n",
      "['u', ['receive']]\n",
      "['receive', ['u', 'saf']]\n",
      "['saf', ['receive']]\n",
      "['theres', ['documents']]\n",
      "['documents', ['theres']]\n",
      "['everyones', []]\n",
      "['information', []]\n",
      "['orns', []]\n",
      "Review Number :  208\n"
     ]
    },
    {
     "name": "stderr",
     "output_type": "stream",
     "text": [
      "\r",
      "  6%|████▊                                                                          | 209/3390 [02:19<27:32,  1.92it/s]"
     ]
    },
    {
     "name": "stdout",
     "output_type": "stream",
     "text": [
      "[['anyone', ['lost']], ['ict', []], ['cycle', ['lost']], ['due', []], ['pandemic', []], ['wondering', []], ['mindef', ['count']], ['count', ['mindef', 'year']], ['year', ['count']], ['year', ['count']], ['cycle', ['lost']]]\n",
      "['anyone', ['lost']]\n",
      "['ict', []]\n",
      "['cycle', ['lost']]\n",
      "['due', []]\n",
      "['pandemic', []]\n",
      "['wondering', []]\n",
      "['mindef', ['count']]\n",
      "['count', ['mindef', 'year']]\n",
      "['year', ['count']]\n",
      "['year', ['count']]\n",
      "['cycle', ['lost']]\n",
      "Review Number :  209\n"
     ]
    },
    {
     "name": "stderr",
     "output_type": "stream",
     "text": [
      "\r",
      "  6%|████▉                                                                          | 210/3390 [02:19<23:20,  2.27it/s]"
     ]
    },
    {
     "name": "stdout",
     "output_type": "stream",
     "text": [
      "[['others', ['are']], ['year', []], ['also', []]]\n",
      "['others', ['are']]\n",
      "['year', []]\n",
      "['also', []]\n",
      "Review Number :  210\n"
     ]
    },
    {
     "name": "stderr",
     "output_type": "stream",
     "text": [
      "\r",
      "  6%|████▉                                                                          | 211/3390 [02:20<33:21,  1.59it/s]"
     ]
    },
    {
     "name": "stdout",
     "output_type": "stream",
     "text": [
      "[['still', []], ['lose', ['years']], ['years', ['lose', 'reaching']], ['able', ['i']], ['clear', ['cycles']], ['cycles', ['clear']], ['years', ['lose', 'reaching']], ['year', []], ['cant', []], ['orns', ['do']], ['due', []], ['pandemic', []]]\n",
      "['still', []]\n",
      "['lose', ['years']]\n",
      "['years', ['lose', 'reaching']]\n",
      "['able', ['i']]\n",
      "['clear', ['cycles']]\n",
      "['cycles', ['clear']]\n",
      "['years', ['lose', 'reaching']]\n",
      "['year', []]\n",
      "['cant', []]\n",
      "['orns', ['do']]\n",
      "['due', []]\n",
      "['pandemic', []]\n",
      "Review Number :  211\n"
     ]
    },
    {
     "name": "stderr",
     "output_type": "stream",
     "text": [
      "\r",
      "  6%|████▉                                                                          | 212/3390 [02:21<30:04,  1.76it/s]"
     ]
    },
    {
     "name": "stdout",
     "output_type": "stream",
     "text": [
      "[['ns', []], ['obligation', ['create']], ['create', ['obligation']], ['wouldnt', []]]\n",
      "['ns', []]\n",
      "['obligation', ['create']]\n",
      "['create', ['obligation']]\n",
      "['wouldnt', []]\n",
      "Review Number :  212\n"
     ]
    },
    {
     "name": "stderr",
     "output_type": "stream",
     "text": [
      "\r",
      "  6%|████▉                                                                          | 213/3390 [02:21<28:12,  1.88it/s]"
     ]
    },
    {
     "name": "stdout",
     "output_type": "stream",
     "text": [
      "[['thatbut', ['lose']], ['lose', ['thatbut', 'cpfbonus']], ['cpfbonus', ['lose']], ['orns', ['completing']], ['concern', ['that']]]\n",
      "['thatbut', ['lose']]\n",
      "['lose', ['thatbut', 'cpfbonus']]\n",
      "['cpfbonus', ['lose']]\n",
      "['orns', ['completing']]\n",
      "['concern', ['that']]\n",
      "Review Number :  213\n"
     ]
    },
    {
     "name": "stderr",
     "output_type": "stream",
     "text": [
      "\r",
      "  6%|████▉                                                                          | 214/3390 [02:22<28:55,  1.83it/s]"
     ]
    },
    {
     "name": "stdout",
     "output_type": "stream",
     "text": [
      "[['think', ['i', 'i']], ['need', []], ['mp', []], ['liao', ['go']], ['thats', []], ['concern', []]]\n",
      "['think', ['i', 'i']]\n",
      "['need', []]\n",
      "['mp', []]\n",
      "['liao', ['go']]\n",
      "['thats', []]\n",
      "['concern', []]\n",
      "Review Number :  214\n"
     ]
    },
    {
     "name": "stderr",
     "output_type": "stream",
     "text": [
      "\r",
      "  6%|█████                                                                          | 215/3390 [02:23<30:49,  1.72it/s]"
     ]
    },
    {
     "name": "stdout",
     "output_type": "stream",
     "text": [
      "[['orn', []], ['cycle', ['doing']], ['clock', ['quota']], ['quota', ['clock']], ['clear', []], ['pandemic', []], ['latter', ['choose']]]\n",
      "['orn', []]\n",
      "['cycle', ['doing']]\n",
      "['clock', ['quota']]\n",
      "['quota', ['clock']]\n",
      "['clear', []]\n",
      "['pandemic', []]\n",
      "['latter', ['choose']]\n",
      "Review Number :  215\n"
     ]
    },
    {
     "name": "stderr",
     "output_type": "stream",
     "text": [
      "\r",
      "  6%|█████                                                                          | 216/3390 [02:23<28:38,  1.85it/s]"
     ]
    },
    {
     "name": "stdout",
     "output_type": "stream",
     "text": [
      "[['really', []], ['meh', []], ['ippt', []], ['also', []], ['ippt', []], ['last', []], ['years', []]]\n",
      "['really', []]\n",
      "['meh', []]\n",
      "['ippt', []]\n",
      "['also', []]\n",
      "['ippt', []]\n",
      "['last', []]\n",
      "['years', []]\n",
      "Review Number :  216\n"
     ]
    },
    {
     "name": "stderr",
     "output_type": "stream",
     "text": [
      "\r",
      "  6%|█████                                                                          | 217/3390 [02:24<30:24,  1.74it/s]"
     ]
    },
    {
     "name": "stdout",
     "output_type": "stream",
     "text": [
      "[['think', []], ['activities', []], ['towards', []], ['orns', []], ['activity', []], ['ippt', []], ['dayattendance', []]]\n",
      "['think', []]\n",
      "['activities', []]\n",
      "['towards', []]\n",
      "['orns', []]\n",
      "['activity', []]\n",
      "['ippt', []]\n",
      "['dayattendance', []]\n",
      "Review Number :  217\n"
     ]
    },
    {
     "name": "stderr",
     "output_type": "stream",
     "text": [
      "  6%|█████                                                                          | 219/3390 [02:24<23:01,  2.30it/s]"
     ]
    },
    {
     "name": "stdout",
     "output_type": "stream",
     "text": [
      "[['nsdotsg', ['manage']], ['eservices', []], ['callup', ['log']], ['log', ['callup']], ['check', []]]\n",
      "['nsdotsg', ['manage']]\n",
      "['eservices', []]\n",
      "['callup', ['log']]\n",
      "['log', ['callup']]\n",
      "['check', []]\n",
      "Review Number :  218\n",
      "[['u', ['go']], ['rt', []], ['sibo', []]]\n",
      "['u', ['go']]\n",
      "['rt', []]\n",
      "['sibo', []]\n",
      "Review Number :  219\n"
     ]
    },
    {
     "name": "stderr",
     "output_type": "stream",
     "text": [
      "\r",
      "  6%|█████▏                                                                         | 220/3390 [02:25<22:01,  2.40it/s]"
     ]
    },
    {
     "name": "stdout",
     "output_type": "stream",
     "text": [
      "[['oic', ['better']], ['much', []], ['last', []], ['timeliao', []]]\n",
      "['oic', ['better']]\n",
      "['much', []]\n",
      "['last', []]\n",
      "['timeliao', []]\n",
      "Review Number :  220\n"
     ]
    },
    {
     "name": "stderr",
     "output_type": "stream",
     "text": [
      "\r",
      "  7%|█████▏                                                                         | 221/3390 [02:26<38:54,  1.36it/s]"
     ]
    },
    {
     "name": "stdout",
     "output_type": "stream",
     "text": [
      "[['hmmi', ['think']], ['think', ['hmmi']], ['also', []], ['years', []], ['old', []], ['unit', ['operates']], ['need', ['i', 'i']], ['causei', ['passshooting']], ['ibobo', []], ['deployment', ['failed']], ['last', []], ['year', []], ['deployment', ['failed']], ['count', ['they', 'cyclefml', 'fmli']], ['cyclefml', ['count']], ['fmli', ['count']], ['ns', []], ['helpdesk', ['asking']], ['wait', ['i']], ['till', []], ['end', []], ['fy', []], ['years', []]]\n",
      "['hmmi', ['think']]\n",
      "['think', ['hmmi']]\n",
      "['also', []]\n",
      "['years', []]\n",
      "['old', []]\n",
      "['unit', ['operates']]\n",
      "['need', ['i', 'i']]\n",
      "['causei', ['passshooting']]\n",
      "['ibobo', []]\n",
      "['deployment', ['failed']]\n",
      "['last', []]\n",
      "['year', []]\n",
      "['deployment', ['failed']]\n",
      "['count', ['they', 'cyclefml', 'fmli']]\n",
      "['cyclefml', ['count']]\n",
      "['fmli', ['count']]\n",
      "['ns', []]\n",
      "['helpdesk', ['asking']]\n",
      "['wait', ['i']]\n",
      "['till', []]\n",
      "['end', []]\n",
      "['fy', []]\n",
      "['years', []]\n",
      "Review Number :  221\n"
     ]
    },
    {
     "name": "stderr",
     "output_type": "stream",
     "text": [
      "  7%|█████▏                                                                         | 223/3390 [02:27<24:29,  2.15it/s]"
     ]
    },
    {
     "name": "stdout",
     "output_type": "stream",
     "text": [
      "[['liddat', ['bo']], ['bo', ['liddat']], ['leh', []]]\n",
      "['liddat', ['bo']]\n",
      "['bo', ['liddat']]\n",
      "['leh', []]\n",
      "Review Number :  222\n",
      "[['needmr', []]]\n",
      "['needmr', []]\n",
      "Review Number :  223\n"
     ]
    },
    {
     "name": "stderr",
     "output_type": "stream",
     "text": [
      "\r",
      "  7%|█████▏                                                                         | 224/3390 [02:28<32:56,  1.60it/s]"
     ]
    },
    {
     "name": "stdout",
     "output_type": "stream",
     "text": [
      "[['ya', []], ['lo', []], ['ah', []], ['good', ['escape']], ['escape', ['good']], ['work', []], ['maintenanceperiod', []], ['years', ['become']], ['old', []], ['bad', ['need']], ['need', ['bad']], ['ipptrt', ['take']], ['sian', []], ['platoonmate', ['rod']], ['eventually', []], ['also', []], ['years', ['become']], ['floater', []]]\n",
      "['ya', []]\n",
      "['lo', []]\n",
      "['ah', []]\n",
      "['good', ['escape']]\n",
      "['escape', ['good']]\n",
      "['work', []]\n",
      "['maintenanceperiod', []]\n",
      "['years', ['become']]\n",
      "['old', []]\n",
      "['bad', ['need']]\n",
      "['need', ['bad']]\n",
      "['ipptrt', ['take']]\n",
      "['sian', []]\n",
      "['platoonmate', ['rod']]\n",
      "['eventually', []]\n",
      "['also', []]\n",
      "['years', ['become']]\n",
      "['floater', []]\n",
      "Review Number :  224\n"
     ]
    },
    {
     "name": "stderr",
     "output_type": "stream",
     "text": [
      "\r",
      "  7%|█████▏                                                                         | 225/3390 [02:28<27:00,  1.95it/s]"
     ]
    },
    {
     "name": "stdout",
     "output_type": "stream",
     "text": [
      "[['u', ['done']], ['alrdy', []], ['hw', []], ['many', []], ['cycles', ['done']]]\n",
      "['u', ['done']]\n",
      "['alrdy', []]\n",
      "['hw', []]\n",
      "['many', []]\n",
      "['cycles', ['done']]\n",
      "Review Number :  225\n"
     ]
    },
    {
     "name": "stderr",
     "output_type": "stream",
     "text": [
      "\r",
      "  7%|█████▎                                                                         | 226/3390 [02:28<22:33,  2.34it/s]"
     ]
    },
    {
     "name": "stdout",
     "output_type": "stream",
     "text": [
      "[['actual', []]]\n",
      "['actual', []]\n",
      "Review Number :  226\n"
     ]
    },
    {
     "name": "stderr",
     "output_type": "stream",
     "text": [
      "\r",
      "  7%|█████▎                                                                         | 227/3390 [02:28<21:57,  2.40it/s]"
     ]
    },
    {
     "name": "stdout",
     "output_type": "stream",
     "text": [
      "[['cycles', []], ['u', ['left']], ['u', ['left']], ['hw', []], ['many', []], ['yrs', []], ['magic', ['hit']]]\n",
      "['cycles', []]\n",
      "['u', ['left']]\n",
      "['u', ['left']]\n",
      "['hw', []]\n",
      "['many', []]\n",
      "['yrs', []]\n",
      "['magic', ['hit']]\n",
      "Review Number :  227\n",
      "[['wholesome', []], ['years', []]]"
     ]
    },
    {
     "name": "stderr",
     "output_type": "stream",
     "text": [
      "\r",
      "  7%|█████▎                                                                         | 228/3390 [02:29<18:14,  2.89it/s]"
     ]
    },
    {
     "name": "stdout",
     "output_type": "stream",
     "text": [
      "\n",
      "['wholesome', []]\n",
      "['years', []]\n",
      "Review Number :  228\n"
     ]
    },
    {
     "name": "stderr",
     "output_type": "stream",
     "text": [
      "\r",
      "  7%|█████▎                                                                         | 229/3390 [02:29<19:34,  2.69it/s]"
     ]
    },
    {
     "name": "stdout",
     "output_type": "stream",
     "text": [
      "[['ok', []], ['lahagar', []], ['agaragar', []], ['u', ['dontdefer']], ['dontdefer', ['u']], ['knots', ['mr']], ['bah', []]]\n",
      "['ok', []]\n",
      "['lahagar', []]\n",
      "['agaragar', []]\n",
      "['u', ['dontdefer']]\n",
      "['dontdefer', ['u']]\n",
      "['knots', ['mr']]\n",
      "['bah', []]\n",
      "Review Number :  229\n"
     ]
    },
    {
     "name": "stderr",
     "output_type": "stream",
     "text": [
      "\r",
      "  7%|█████▎                                                                         | 230/3390 [02:30<21:09,  2.49it/s]"
     ]
    },
    {
     "name": "stdout",
     "output_type": "stream",
     "text": [
      "[['wah', []], ['tough', []], ['eh', []], ['guess', ['i']], ['back', []], ['bad', []], ['sometimes', []]]\n",
      "['wah', []]\n",
      "['tough', []]\n",
      "['eh', []]\n",
      "['guess', ['i']]\n",
      "['back', []]\n",
      "['bad', []]\n",
      "['sometimes', []]\n",
      "Review Number :  230\n"
     ]
    },
    {
     "name": "stderr",
     "output_type": "stream",
     "text": [
      "\r",
      "  7%|█████▍                                                                         | 231/3390 [02:30<20:19,  2.59it/s]"
     ]
    },
    {
     "name": "stdout",
     "output_type": "stream",
     "text": [
      "[['fair', []], ['back', []], ['reservists', []], ['pros', ['got']], ['cons', []]]\n",
      "['fair', []]\n",
      "['back', []]\n",
      "['reservists', []]\n",
      "['pros', ['got']]\n",
      "['cons', []]\n",
      "Review Number :  231\n"
     ]
    },
    {
     "name": "stderr",
     "output_type": "stream",
     "text": [
      "\r",
      "  7%|█████▍                                                                         | 232/3390 [02:30<19:21,  2.72it/s]"
     ]
    },
    {
     "name": "stdout",
     "output_type": "stream",
     "text": [
      "[['know', ['i']], ['r', []], ['pov', []]]\n",
      "['know', ['i']]\n",
      "['r', []]\n",
      "['pov', []]\n",
      "Review Number :  232\n"
     ]
    },
    {
     "name": "stderr",
     "output_type": "stream",
     "text": [
      "\r",
      "  7%|█████▍                                                                         | 233/3390 [02:30<17:01,  3.09it/s]"
     ]
    },
    {
     "name": "stdout",
     "output_type": "stream",
     "text": [
      "[['time', []], ['reservist', []]]\n",
      "['time', []]\n",
      "['reservist', []]\n",
      "Review Number :  233\n"
     ]
    },
    {
     "name": "stderr",
     "output_type": "stream",
     "text": [
      "\r",
      "  7%|█████▍                                                                         | 234/3390 [02:31<15:06,  3.48it/s]"
     ]
    },
    {
     "name": "stdout",
     "output_type": "stream",
     "text": [
      "[['u', []], ['white', []], ['horseah', []]]\n",
      "['u', []]\n",
      "['white', []]\n",
      "['horseah', []]\n",
      "Review Number :  234\n"
     ]
    },
    {
     "name": "stderr",
     "output_type": "stream",
     "text": [
      "\r",
      "  7%|█████▍                                                                         | 235/3390 [02:32<24:32,  2.14it/s]"
     ]
    },
    {
     "name": "stdout",
     "output_type": "stream",
     "text": [
      "[['true', []], ['singaporean', []], ['male', ['reaches']], ['years', []], ['old', []], ['reservisttraining', ['what']], ['still', []], ['full', []], ['reservistcycle', ['completed']]]\n",
      "['true', []]\n",
      "['singaporean', []]\n",
      "['male', ['reaches']]\n",
      "['years', []]\n",
      "['old', []]\n",
      "['reservisttraining', ['what']]\n",
      "['still', []]\n",
      "['full', []]\n",
      "['reservistcycle', ['completed']]\n",
      "Review Number :  235\n"
     ]
    },
    {
     "name": "stderr",
     "output_type": "stream",
     "text": [
      "\r",
      "  7%|█████▍                                                                         | 236/3390 [02:32<20:34,  2.56it/s]"
     ]
    },
    {
     "name": "stdout",
     "output_type": "stream",
     "text": [
      "[['depends', []], ['unit', []]]\n",
      "['depends', []]\n",
      "['unit', []]\n",
      "Review Number :  236\n"
     ]
    },
    {
     "name": "stderr",
     "output_type": "stream",
     "text": [
      "\r",
      "  7%|█████▌                                                                         | 237/3390 [02:32<22:51,  2.30it/s]"
     ]
    },
    {
     "name": "stdout",
     "output_type": "stream",
     "text": [
      "[['general', []], ['rule', ['is']], ['law', []], ['need', ['reach']], ['back', []], ['right', []]]\n",
      "['general', []]\n",
      "['rule', ['is']]\n",
      "['law', []]\n",
      "['need', ['reach']]\n",
      "['back', []]\n",
      "['right', []]\n",
      "Review Number :  237\n"
     ]
    },
    {
     "name": "stderr",
     "output_type": "stream",
     "text": [
      "\r",
      "  7%|█████▌                                                                         | 238/3390 [02:33<24:10,  2.17it/s]"
     ]
    },
    {
     "name": "stdout",
     "output_type": "stream",
     "text": [
      "[['occifer', ['need']], ['still', []], ['back', []], ['reach', []], ['still', []], ['yet', []], ['complete', []], ['cycle', []], ['occifer', ['need']], ['agelimit', ['is']]]\n",
      "['occifer', ['need']]\n",
      "['still', []]\n",
      "['back', []]\n",
      "['reach', []]\n",
      "['still', []]\n",
      "['yet', []]\n",
      "['complete', []]\n",
      "['cycle', []]\n",
      "['occifer', ['need']]\n",
      "['agelimit', ['is']]\n",
      "Review Number :  238\n"
     ]
    },
    {
     "name": "stderr",
     "output_type": "stream",
     "text": [
      "\r",
      "  7%|█████▌                                                                         | 239/3390 [02:33<22:28,  2.34it/s]"
     ]
    },
    {
     "name": "stdout",
     "output_type": "stream",
     "text": [
      "[['shld', []], ['clear', ['liaoleh']], ['ict', []], ['liaoleh', ['clear']], ['u', ['keepsiam']], ['keepsiam', ['u']]]\n",
      "['shld', []]\n",
      "['clear', ['liaoleh']]\n",
      "['ict', []]\n",
      "['liaoleh', ['clear']]\n",
      "['u', ['keepsiam']]\n",
      "['keepsiam', ['u']]\n",
      "Review Number :  239\n"
     ]
    },
    {
     "name": "stderr",
     "output_type": "stream",
     "text": [
      "\r",
      "  7%|█████▌                                                                         | 240/3390 [02:34<27:04,  1.94it/s]"
     ]
    },
    {
     "name": "stdout",
     "output_type": "stream",
     "text": [
      "[['u', ['ord', 'turn']], ['ord', ['u']], ['age', []], ['right', []], ['example', []], ['u', ['ord', 'turn']], ['turn', ['u']], ['th', []], ['jan', []], ['u', ['ord', 'turn']], ['wont', []], ['baxk', []], ['incampegen', []], ['restofyour', []], ['ofyourunit', ['have']], ['still', []]]\n",
      "['u', ['ord', 'turn']]\n",
      "['ord', ['u']]\n",
      "['age', []]\n",
      "['right', []]\n",
      "['example', []]\n",
      "['u', ['ord', 'turn']]\n",
      "['turn', ['u']]\n",
      "['th', []]\n",
      "['jan', []]\n",
      "['u', ['ord', 'turn']]\n",
      "['wont', []]\n",
      "['baxk', []]\n",
      "['incampegen', []]\n",
      "['restofyour', []]\n",
      "['ofyourunit', ['have']]\n",
      "['still', []]\n",
      "Review Number :  240\n"
     ]
    },
    {
     "name": "stderr",
     "output_type": "stream",
     "text": [
      "\r",
      "  7%|█████▌                                                                         | 241/3390 [02:35<31:57,  1.64it/s]"
     ]
    },
    {
     "name": "stdout",
     "output_type": "stream",
     "text": [
      "[['letter', ['tell']], ['need', ['tell', 'means']], ['back', []], ['means', ['need']], ['back', []], ['already', []], ['gravely', []], ['concerned', ['you', 'mindef']], ['mindef', ['concerned']], ['wun', []]]\n",
      "['letter', ['tell']]\n",
      "['need', ['tell', 'means']]\n",
      "['back', []]\n",
      "['means', ['need']]\n",
      "['back', []]\n",
      "['already', []]\n",
      "['gravely', []]\n",
      "['concerned', ['you', 'mindef']]\n",
      "['mindef', ['concerned']]\n",
      "['wun', []]\n",
      "Review Number :  241\n"
     ]
    },
    {
     "name": "stderr",
     "output_type": "stream",
     "text": [
      "\r",
      "  7%|█████▋                                                                         | 242/3390 [02:35<28:33,  1.84it/s]"
     ]
    },
    {
     "name": "stdout",
     "output_type": "stream",
     "text": [
      "[['receive', ['you', 'letter']], ['formal', []], ['letter', ['receive']], ['mindefif', []], ['good', []], ['luck', []]]\n",
      "['receive', ['you', 'letter']]\n",
      "['formal', []]\n",
      "['letter', ['receive']]\n",
      "['mindefif', []]\n",
      "['good', []]\n",
      "['luck', []]\n",
      "Review Number :  242\n"
     ]
    },
    {
     "name": "stderr",
     "output_type": "stream",
     "text": [
      "\r",
      "  7%|█████▋                                                                         | 243/3390 [02:36<35:19,  1.48it/s]"
     ]
    },
    {
     "name": "stdout",
     "output_type": "stream",
     "text": [
      "[['reach', ['calling']], ['still', []], ['yet', []], ['complete', ['cycle']], ['ict', []], ['cycle', ['complete']], ['unit', ['calling']], ['back', []], ['instead', []], ['letter', ['send']], ['collect', ['certificate']], ['certificate', ['collect']], ['appreciation', []], ['watch', []], ['medals', []]]\n",
      "['reach', ['calling']]\n",
      "['still', []]\n",
      "['yet', []]\n",
      "['complete', ['cycle']]\n",
      "['ict', []]\n",
      "['cycle', ['complete']]\n",
      "['unit', ['calling']]\n",
      "['back', []]\n",
      "['instead', []]\n",
      "['letter', ['send']]\n",
      "['collect', ['certificate']]\n",
      "['certificate', ['collect']]\n",
      "['appreciation', []]\n",
      "['watch', []]\n",
      "['medals', []]\n",
      "Review Number :  243\n",
      "[['depends', []], ['ur', []], ['rank', []]]"
     ]
    },
    {
     "name": "stderr",
     "output_type": "stream",
     "text": [
      "\r",
      "  7%|█████▋                                                                         | 244/3390 [02:36<27:41,  1.89it/s]"
     ]
    },
    {
     "name": "stdout",
     "output_type": "stream",
     "text": [
      "\n",
      "['depends', []]\n",
      "['ur', []]\n",
      "['rank', []]\n",
      "Review Number :  244\n"
     ]
    },
    {
     "name": "stderr",
     "output_type": "stream",
     "text": [
      "\r",
      "  7%|█████▋                                                                         | 245/3390 [02:37<26:43,  1.96it/s]"
     ]
    },
    {
     "name": "stdout",
     "output_type": "stream",
     "text": [
      "[['even', []], ['u', ['complete', 'get']], ['never', []], ['complete', ['u', 'cycles']], ['cycles', ['complete']], ['still', []], ['k', []], ['right', ['get']], ['assumeinhu', []]]\n",
      "['even', []]\n",
      "['u', ['complete', 'get']]\n",
      "['never', []]\n",
      "['complete', ['u', 'cycles']]\n",
      "['cycles', ['complete']]\n",
      "['still', []]\n",
      "['k', []]\n",
      "['right', ['get']]\n",
      "['assumeinhu', []]\n",
      "Review Number :  245\n"
     ]
    },
    {
     "name": "stderr",
     "output_type": "stream",
     "text": [
      "\r",
      "  7%|█████▋                                                                         | 246/3390 [02:38<37:02,  1.41it/s]"
     ]
    },
    {
     "name": "stdout",
     "output_type": "stream",
     "text": [
      "[['watch', ['make']], ['coa', []], ['letter', []], ['bosses', []], ['bo', []], ['chup', []], ['medals', []], ['cash', []], ['converters', []], ['giftskeep', ['ish']], ['sua', []], ['rah', []], ['nowadays', []], ['reservists', []], ['ish', ['giftskeep', 'liability']], ['liability', ['ish']], ['sinkie', []], ['male', []], ['ft', []], ['males', ['working']], ['happily', []]]\n",
      "['watch', ['make']]\n",
      "['coa', []]\n",
      "['letter', []]\n",
      "['bosses', []]\n",
      "['bo', []]\n",
      "['chup', []]\n",
      "['medals', []]\n",
      "['cash', []]\n",
      "['converters', []]\n",
      "['giftskeep', ['ish']]\n",
      "['sua', []]\n",
      "['rah', []]\n",
      "['nowadays', []]\n",
      "['reservists', []]\n",
      "['ish', ['giftskeep', 'liability']]\n",
      "['liability', ['ish']]\n",
      "['sinkie', []]\n",
      "['male', []]\n",
      "['ft', []]\n",
      "['males', ['working']]\n",
      "['happily', []]\n",
      "Review Number :  246\n"
     ]
    },
    {
     "name": "stderr",
     "output_type": "stream",
     "text": [
      "\r",
      "  7%|█████▊                                                                         | 247/3390 [02:39<49:32,  1.06it/s]"
     ]
    },
    {
     "name": "stdout",
     "output_type": "stream",
     "text": [
      "[['already', []], ['moi', ['want']], ['useless', []], ['watchco', ['give']], ['ask', []], ['moi', ['want']], ['extend', []], ['year', []], ['rank', []], ['staffsgt', []], ['sgti', ['told']], ['staff', []], ['sgt', ['give']], ['moijob', []], ['diam', ['he', 'give']], ['diam', ['he', 'give']], ['mind', []], ['payincrease', []], ['increaserank', []], ['rankpay', []], ['payincrease', []], ['seeand', ['i']], ['chancelet', []], ['ft', ['take']], ['jobsiao', ['take']], ['u', []], ['ft', ['take']], ['job', ['take']], ['doesnt', []]]\n",
      "['already', []]\n",
      "['moi', ['want']]\n",
      "['useless', []]\n",
      "['watchco', ['give']]\n",
      "['ask', []]\n",
      "['moi', ['want']]\n",
      "['extend', []]\n",
      "['year', []]\n",
      "['rank', []]\n",
      "['staffsgt', []]\n",
      "['sgti', ['told']]\n",
      "['staff', []]\n",
      "['sgt', ['give']]\n",
      "['moijob', []]\n",
      "['diam', ['he', 'give']]\n",
      "['diam', ['he', 'give']]\n",
      "['mind', []]\n",
      "['payincrease', []]\n",
      "['increaserank', []]\n",
      "['rankpay', []]\n",
      "['payincrease', []]\n",
      "['seeand', ['i']]\n",
      "['chancelet', []]\n",
      "['ft', ['take']]\n",
      "['jobsiao', ['take']]\n",
      "['u', []]\n",
      "['ft', ['take']]\n",
      "['job', ['take']]\n",
      "['doesnt', []]\n",
      "Review Number :  247\n"
     ]
    },
    {
     "name": "stderr",
     "output_type": "stream",
     "text": [
      "\r",
      "  7%|█████▊                                                                         | 248/3390 [02:40<47:50,  1.09it/s]"
     ]
    },
    {
     "name": "stdout",
     "output_type": "stream",
     "text": [
      "[['didnt', []], ['k', ['is']], ['collect', []], ['singaporean', []], ['male', ['complete']], ['complete', ['male', 'cycles', 'who']], ['cycles', ['complete']], ['anything', ['deserve']], ['otherwise', []], ['singaporean', []], ['males', []]]\n",
      "['didnt', []]\n",
      "['k', ['is']]\n",
      "['collect', []]\n",
      "['singaporean', []]\n",
      "['male', ['complete']]\n",
      "['complete', ['male', 'cycles', 'who']]\n",
      "['cycles', ['complete']]\n",
      "['anything', ['deserve']]\n",
      "['otherwise', []]\n",
      "['singaporean', []]\n",
      "['males', []]\n",
      "Review Number :  248\n"
     ]
    },
    {
     "name": "stderr",
     "output_type": "stream",
     "text": [
      "\r",
      "  7%|█████▊                                                                         | 249/3390 [02:42<53:52,  1.03s/it]"
     ]
    },
    {
     "name": "stdout",
     "output_type": "stream",
     "text": [
      "[['max', []], ['nsfnsmen', []], ['regardless', []], ['u', ['completed']], ['many', []], ['cycle', ['need']], ['rare', []], ['cases', ['are']], ['unit', []], ['person', ['need']], ['cycle', ['need']], ['complete', []], ['k', []], ['request', ['he']], ['however', []], ['still', []], ['ippt', []]]\n",
      "['max', []]\n",
      "['nsfnsmen', []]\n",
      "['regardless', []]\n",
      "['u', ['completed']]\n",
      "['many', []]\n",
      "['cycle', ['need']]\n",
      "['rare', []]\n",
      "['cases', ['are']]\n",
      "['unit', []]\n",
      "['person', ['need']]\n",
      "['cycle', ['need']]\n",
      "['complete', []]\n",
      "['k', []]\n",
      "['request', ['he']]\n",
      "['however', []]\n",
      "['still', []]\n",
      "['ippt', []]\n",
      "Review Number :  249\n"
     ]
    },
    {
     "name": "stderr",
     "output_type": "stream",
     "text": [
      "\r",
      "  7%|█████▊                                                                         | 250/3390 [02:42<45:52,  1.14it/s]"
     ]
    },
    {
     "name": "stdout",
     "output_type": "stream",
     "text": [
      "[['kinda', ['chao']], ['chao', ['kinda']], ['early', []], ['years', []], ['goodie', ['got']], ['extend', []]]\n",
      "['kinda', ['chao']]\n",
      "['chao', ['kinda']]\n",
      "['early', []]\n",
      "['years', []]\n",
      "['goodie', ['got']]\n",
      "['extend', []]\n",
      "Review Number :  250\n"
     ]
    },
    {
     "name": "stderr",
     "output_type": "stream",
     "text": [
      "\r",
      "  7%|█████▊                                                                         | 251/3390 [02:42<38:57,  1.34it/s]"
     ]
    },
    {
     "name": "stdout",
     "output_type": "stream",
     "text": [
      "[['nobody', ['force']], ['force', ['nobody', 'person']], ['person', ['force']], ['extend', []], ['right', []]]\n",
      "['nobody', ['force']]\n",
      "['force', ['nobody', 'person']]\n",
      "['person', ['force']]\n",
      "['extend', []]\n",
      "['right', []]\n",
      "Review Number :  251\n"
     ]
    },
    {
     "name": "stderr",
     "output_type": "stream",
     "text": [
      "\r",
      "  7%|█████▊                                                                         | 252/3390 [02:43<32:48,  1.59it/s]"
     ]
    },
    {
     "name": "stdout",
     "output_type": "stream",
     "text": [
      "[['kumgongz', []], ['gongzlor', []], ['lork', ['kwaste']], ['kwaste', ['lork', 'timeandeffort']], ['much', []], ['timeandeffort', ['kwaste']]]\n",
      "['kumgongz', []]\n",
      "['gongzlor', []]\n",
      "['lork', ['kwaste']]\n",
      "['kwaste', ['lork', 'timeandeffort']]\n",
      "['much', []]\n",
      "['timeandeffort', ['kwaste']]\n",
      "Review Number :  252\n"
     ]
    },
    {
     "name": "stderr",
     "output_type": "stream",
     "text": [
      "\r",
      "  7%|█████▉                                                                         | 253/3390 [02:43<30:46,  1.70it/s]"
     ]
    },
    {
     "name": "stdout",
     "output_type": "stream",
     "text": [
      "[['expthearmy', []], ['totalwaste', ['where']], ['time', []], ['realvalue', ['has']], ['realworld', []]]\n",
      "['expthearmy', []]\n",
      "['totalwaste', ['where']]\n",
      "['time', []]\n",
      "['realvalue', ['has']]\n",
      "['realworld', []]\n",
      "Review Number :  253\n"
     ]
    },
    {
     "name": "stderr",
     "output_type": "stream",
     "text": [
      "\r",
      "  7%|█████▉                                                                         | 254/3390 [02:44<33:56,  1.54it/s]"
     ]
    },
    {
     "name": "stdout",
     "output_type": "stream",
     "text": [
      "[['ts', []], ['u', ['concern', 'concern']], ['concern', ['u', 'u']], ['u', ['concern', 'concern']], ['old', []], ['btw', ['good']], ['always', []], ['good', ['btw']], ['try', []], ['clear', ['cycles']], ['complete', []], ['entire', []], ['cycles', ['clear']], ['early', []], ['possible', []], ['mr', ['relax']], ['liao', ['relax']], ['relax', ['mr', 'liao']]]\n",
      "['ts', []]\n",
      "['u', ['concern', 'concern']]\n",
      "['concern', ['u', 'u']]\n",
      "['u', ['concern', 'concern']]\n",
      "['old', []]\n",
      "['btw', ['good']]\n",
      "['always', []]\n",
      "['good', ['btw']]\n",
      "['try', []]\n",
      "['clear', ['cycles']]\n",
      "['complete', []]\n",
      "['entire', []]\n",
      "['cycles', ['clear']]\n",
      "['early', []]\n",
      "['possible', []]\n",
      "['mr', ['relax']]\n",
      "['liao', ['relax']]\n",
      "['relax', ['mr', 'liao']]\n",
      "Review Number :  254\n"
     ]
    },
    {
     "name": "stderr",
     "output_type": "stream",
     "text": [
      "\r",
      "  8%|█████▉                                                                         | 255/3390 [02:45<35:54,  1.45it/s]"
     ]
    },
    {
     "name": "stdout",
     "output_type": "stream",
     "text": [
      "[['person', ['request']], ['extendnot', ['force']], ['kena', []], ['force', ['extendnot']], ['parliament', ['new']], ['implement', []], ['new', ['parliament', 'bill']], ['bill', ['new']], ['reservist', ['age']], ['age', ['reservist']], ['counter', []], ['low', []], ['birth', []], ['rates', []]]\n",
      "['person', ['request']]\n",
      "['extendnot', ['force']]\n",
      "['kena', []]\n",
      "['force', ['extendnot']]\n",
      "['parliament', ['new']]\n",
      "['implement', []]\n",
      "['new', ['parliament', 'bill']]\n",
      "['bill', ['new']]\n",
      "['reservist', ['age']]\n",
      "['age', ['reservist']]\n",
      "['counter', []]\n",
      "['low', []]\n",
      "['birth', []]\n",
      "['rates', []]\n",
      "Review Number :  255\n"
     ]
    },
    {
     "name": "stderr",
     "output_type": "stream",
     "text": [
      "\r",
      "  8%|█████▉                                                                         | 256/3390 [02:45<28:33,  1.83it/s]"
     ]
    },
    {
     "name": "stdout",
     "output_type": "stream",
     "text": [
      "[['u', ['officerlor']], ['officerlor', ['u']]]\n",
      "['u', ['officerlor']]\n",
      "['officerlor', ['u']]\n",
      "Review Number :  256\n"
     ]
    },
    {
     "name": "stderr",
     "output_type": "stream",
     "text": [
      "\r",
      "  8%|█████▉                                                                         | 257/3390 [02:46<28:49,  1.81it/s]"
     ]
    },
    {
     "name": "stdout",
     "output_type": "stream",
     "text": [
      "[['wooo', []], ['years', []], ['overseas', []], ['sht', []], ['x', []]]\n",
      "['wooo', []]\n",
      "['years', []]\n",
      "['overseas', []]\n",
      "['sht', []]\n",
      "['x', []]\n",
      "Review Number :  257\n"
     ]
    },
    {
     "name": "stderr",
     "output_type": "stream",
     "text": [
      "\r",
      "  8%|██████                                                                         | 258/3390 [02:47<33:56,  1.54it/s]"
     ]
    },
    {
     "name": "stdout",
     "output_type": "stream",
     "text": [
      "[['u', ['rofficer', 'go']], ['rofficer', ['u']], ['else', []], ['complete', ['reached']], ['complete', ['reached']], ['cycles', ['reached']], ['u', ['rofficer', 'go']], ['call', ['one', 'you']], ['back', []], ['ict', []], ['anymore', []], ['extend', ['service']], ['service', ['extend']]]\n",
      "['u', ['rofficer', 'go']]\n",
      "['rofficer', ['u']]\n",
      "['else', []]\n",
      "['complete', ['reached']]\n",
      "['complete', ['reached']]\n",
      "['cycles', ['reached']]\n",
      "['u', ['rofficer', 'go']]\n",
      "['call', ['one', 'you']]\n",
      "['back', []]\n",
      "['ict', []]\n",
      "['anymore', []]\n",
      "['extend', ['service']]\n",
      "['service', ['extend']]\n",
      "Review Number :  258\n",
      "[['heardofficer', ['i']]]"
     ]
    },
    {
     "name": "stderr",
     "output_type": "stream",
     "text": [
      "\r",
      "  8%|██████                                                                         | 259/3390 [02:47<26:50,  1.94it/s]"
     ]
    },
    {
     "name": "stdout",
     "output_type": "stream",
     "text": [
      "\n",
      "['heardofficer', ['i']]\n",
      "Review Number :  259\n"
     ]
    },
    {
     "name": "stderr",
     "output_type": "stream",
     "text": [
      "\r",
      "  8%|██████                                                                         | 260/3390 [02:48<42:01,  1.24it/s]"
     ]
    },
    {
     "name": "stdout",
     "output_type": "stream",
     "text": [
      "[['eh', []], ['serve', ['you', 'reservist', 'one']], ['reservist', ['serve']], ['u', ['ish']], ['ish', ['u']], ['xdd', []], ['ft', []], ['unfair', []], ['reservist', ['serve']], ['complete', ['who', 'those']], ['usually', []], ['complete', ['who', 'those']], ['cycles', ['one', 'clear']], ['actually', []], ['unit', ['nightmare']], ['call', ['nightmare']], ['back', []], ['ippttill', ['nightmare']], ['tillyear', []], ['nightmare', ['unit', 'call', 'ippttill']], ['maneveryone', ['wan']], ['na', []], ['clear', ['cycles']], ['cycles', ['one', 'clear']], ['tiocall', ['bo']], ['really', []], ['sad', []]]\n",
      "['eh', []]\n",
      "['serve', ['you', 'reservist', 'one']]\n",
      "['reservist', ['serve']]\n",
      "['u', ['ish']]\n",
      "['ish', ['u']]\n",
      "['xdd', []]\n",
      "['ft', []]\n",
      "['unfair', []]\n",
      "['reservist', ['serve']]\n",
      "['complete', ['who', 'those']]\n",
      "['usually', []]\n",
      "['complete', ['who', 'those']]\n",
      "['cycles', ['one', 'clear']]\n",
      "['actually', []]\n",
      "['unit', ['nightmare']]\n",
      "['call', ['nightmare']]\n",
      "['back', []]\n",
      "['ippttill', ['nightmare']]\n",
      "['tillyear', []]\n",
      "['nightmare', ['unit', 'call', 'ippttill']]\n",
      "['maneveryone', ['wan']]\n",
      "['na', []]\n",
      "['clear', ['cycles']]\n",
      "['cycles', ['one', 'clear']]\n",
      "['tiocall', ['bo']]\n",
      "['really', []]\n",
      "['sad', []]\n",
      "Review Number :  260\n"
     ]
    },
    {
     "name": "stderr",
     "output_type": "stream",
     "text": [
      "\r",
      "  8%|██████                                                                         | 261/3390 [02:49<44:28,  1.17it/s]"
     ]
    },
    {
     "name": "stdout",
     "output_type": "stream",
     "text": [
      "[['yeahk', []], ['bigger', []], ['bull', []], ['cart', []], ['wheels', ['scrap']], ['years', []], ['ns', ['scrap']], ['punyk', []], ['ranjiao', []], ['allowances', ['keep']], ['pcb', []], ['anyways', []], ['havent', []], ['back', []], ['im', []], ['back', []]]\n",
      "['yeahk', []]\n",
      "['bigger', []]\n",
      "['bull', []]\n",
      "['cart', []]\n",
      "['wheels', ['scrap']]\n",
      "['years', []]\n",
      "['ns', ['scrap']]\n",
      "['punyk', []]\n",
      "['ranjiao', []]\n",
      "['allowances', ['keep']]\n",
      "['pcb', []]\n",
      "['anyways', []]\n",
      "['havent', []]\n",
      "['back', []]\n",
      "['im', []]\n",
      "['back', []]\n",
      "Review Number :  261\n"
     ]
    },
    {
     "name": "stderr",
     "output_type": "stream",
     "text": [
      "\r",
      "  8%|██████                                                                         | 262/3390 [02:49<35:06,  1.48it/s]"
     ]
    },
    {
     "name": "stdout",
     "output_type": "stream",
     "text": [
      "[['need', []], ['chiu', ['are']], ['occifer', []]]\n",
      "['need', []]\n",
      "['chiu', ['are']]\n",
      "['occifer', []]\n",
      "Review Number :  262\n"
     ]
    },
    {
     "name": "stderr",
     "output_type": "stream",
     "text": [
      "\r",
      "  8%|██████▏                                                                        | 263/3390 [02:51<55:47,  1.07s/it]"
     ]
    },
    {
     "name": "stdout",
     "output_type": "stream",
     "text": [
      "[['officer', ['is']], ['applicability', []], ['annual', []], ['ippt', ['applicable']], ['applicable', ['ippt']], ['pes', []], ['nsmen', []], ['ns', []], ['liabilitytill', []], ['tillage', []], ['years', []], ['old', []], ['officers', []], ['respectively', []], ['nsmans', ['commences']], ['ippt', ['applicable']], ['annual', []], ['requirement', []], ['commences', ['nsmans']], ['immediately', []], ['nsf', []], ['operational', []], ['ready', []], ['dateord', []], ['mindef', []], ['reserves', []], ['medically', []], ['pes', []], ['ok', []], ['kah', []]]\n",
      "['officer', ['is']]\n",
      "['applicability', []]\n",
      "['annual', []]\n",
      "['ippt', ['applicable']]\n",
      "['applicable', ['ippt']]\n",
      "['pes', []]\n",
      "['nsmen', []]\n",
      "['ns', []]\n",
      "['liabilitytill', []]\n",
      "['tillage', []]\n",
      "['years', []]\n",
      "['old', []]\n",
      "['officers', []]\n",
      "['respectively', []]\n",
      "['nsmans', ['commences']]\n",
      "['ippt', ['applicable']]\n",
      "['annual', []]\n",
      "['requirement', []]\n",
      "['commences', ['nsmans']]\n",
      "['immediately', []]\n",
      "['nsf', []]\n",
      "['operational', []]\n",
      "['ready', []]\n",
      "['dateord', []]\n",
      "['mindef', []]\n",
      "['reserves', []]\n",
      "['medically', []]\n",
      "['pes', []]\n",
      "['ok', []]\n",
      "['kah', []]\n",
      "Review Number :  263\n"
     ]
    },
    {
     "name": "stderr",
     "output_type": "stream",
     "text": [
      "\r",
      "  8%|█████▉                                                                       | 264/3390 [02:54<1:15:06,  1.44s/it]"
     ]
    },
    {
     "name": "stdout",
     "output_type": "stream",
     "text": [
      "[['hello', []], ['call', ['you', 'nssc']], ['nssc', ['call', 'getting']], ['let', ['me']], ['share', []], ['officer', ['you']], ['unit', ['send']], ['send', ['unit', 'letter', 'email']], ['letter', ['send']], ['longer', []], ['u', ['finish', 'getwatch', 'ask']], ['dont', []], ['finish', ['u', 'key']], ['high', []], ['key', ['finish']], ['yearcycle', []], ['u', ['finish', 'getwatch', 'ask']], ['wont', []], ['getwatch', ['u']], ['year', []], ['long', []], ['servicemedal', []], ['reach', ['you']], ['years', []], ['old', []], ['short', ['you']], ['high', []], ['key', ['finish']], ['u', ['finish', 'getwatch', 'ask']], ['want', ['you']], ['volunteer', ['service']], ['service', ['volunteer', 'getting']], ['volunteeru', ['choose']], ['choose', ['volunteeru']], ['nowadays', []], ['nssc', ['call', 'getting']], ['unit', ['send']], ['service', ['volunteer', 'getting']], ['unsure', ['you']], ['feel', []], ['free', []], ['send', ['unit', 'letter', 'email']], ['email', ['send']]]\n",
      "['hello', []]\n",
      "['call', ['you', 'nssc']]\n",
      "['nssc', ['call', 'getting']]\n",
      "['let', ['me']]\n",
      "['share', []]\n",
      "['officer', ['you']]\n",
      "['unit', ['send']]\n",
      "['send', ['unit', 'letter', 'email']]\n",
      "['letter', ['send']]\n",
      "['longer', []]\n",
      "['u', ['finish', 'getwatch', 'ask']]\n",
      "['dont', []]\n",
      "['finish', ['u', 'key']]\n",
      "['high', []]\n",
      "['key', ['finish']]\n",
      "['yearcycle', []]\n",
      "['u', ['finish', 'getwatch', 'ask']]\n",
      "['wont', []]\n",
      "['getwatch', ['u']]\n",
      "['year', []]\n",
      "['long', []]\n",
      "['servicemedal', []]\n",
      "['reach', ['you']]\n",
      "['years', []]\n",
      "['old', []]\n",
      "['short', ['you']]\n",
      "['high', []]\n",
      "['key', ['finish']]\n",
      "['u', ['finish', 'getwatch', 'ask']]\n",
      "['want', ['you']]\n",
      "['volunteer', ['service']]\n",
      "['service', ['volunteer', 'getting']]\n",
      "['volunteeru', ['choose']]\n",
      "['choose', ['volunteeru']]\n",
      "['nowadays', []]\n",
      "['nssc', ['call', 'getting']]\n",
      "['unit', ['send']]\n",
      "['service', ['volunteer', 'getting']]\n",
      "['unsure', ['you']]\n",
      "['feel', []]\n",
      "['free', []]\n",
      "['send', ['unit', 'letter', 'email']]\n",
      "['email', ['send']]\n",
      "Review Number :  264\n"
     ]
    },
    {
     "name": "stderr",
     "output_type": "stream",
     "text": [
      "\r",
      "  8%|██████▏                                                                        | 265/3390 [02:54<56:34,  1.09s/it]"
     ]
    },
    {
     "name": "stdout",
     "output_type": "stream",
     "text": [
      "[['haha', []], ['u', ['siam']], ['siam', ['u']], ['wayrite', []]]\n",
      "['haha', []]\n",
      "['u', ['siam']]\n",
      "['siam', ['u']]\n",
      "['wayrite', []]\n",
      "Review Number :  265\n"
     ]
    },
    {
     "name": "stderr",
     "output_type": "stream",
     "text": [
      "\r",
      "  8%|██████▏                                                                        | 266/3390 [02:54<46:18,  1.12it/s]"
     ]
    },
    {
     "name": "stdout",
     "output_type": "stream",
     "text": [
      "[['reservist', []], ['relac', []], ['vacationpay', []], ['u', []], ['salary', ['paid']], ['sleep', []], ['camp', []]]\n",
      "['reservist', []]\n",
      "['relac', []]\n",
      "['vacationpay', []]\n",
      "['u', []]\n",
      "['salary', ['paid']]\n",
      "['sleep', []]\n",
      "['camp', []]\n",
      "Review Number :  266\n"
     ]
    },
    {
     "name": "stderr",
     "output_type": "stream",
     "text": [
      "\r",
      "  8%|██████▏                                                                        | 267/3390 [02:55<36:49,  1.41it/s]"
     ]
    },
    {
     "name": "stdout",
     "output_type": "stream",
     "text": [
      "[['complete', []], ['fastthe', []], ['older', []], ['u', []]]\n",
      "['complete', []]\n",
      "['fastthe', []]\n",
      "['older', []]\n",
      "['u', []]\n",
      "Review Number :  267\n"
     ]
    },
    {
     "name": "stderr",
     "output_type": "stream",
     "text": [
      "\r",
      "  8%|██████▏                                                                        | 268/3390 [02:56<38:26,  1.35it/s]"
     ]
    },
    {
     "name": "stdout",
     "output_type": "stream",
     "text": [
      "[['years', ['finished']], ['back', []], ['watch', []], ['medals', ['got']], ['truth', []], ['miss', ['i', 'gng']], ['gng', ['miss']], ['back', []], ['reservist', []], ['tcss', ['i']], ['buddies', []], ['work', []]]\n",
      "['years', ['finished']]\n",
      "['back', []]\n",
      "['watch', []]\n",
      "['medals', ['got']]\n",
      "['truth', []]\n",
      "['miss', ['i', 'gng']]\n",
      "['gng', ['miss']]\n",
      "['back', []]\n",
      "['reservist', []]\n",
      "['tcss', ['i']]\n",
      "['buddies', []]\n",
      "['work', []]\n",
      "Review Number :  268\n"
     ]
    },
    {
     "name": "stderr",
     "output_type": "stream",
     "text": [
      "  8%|██████▎                                                                        | 270/3390 [02:56<24:21,  2.13it/s]"
     ]
    },
    {
     "name": "stdout",
     "output_type": "stream",
     "text": [
      "[['mr', []], ['ippt', ['best']], ['yearly', []]]\n",
      "['mr', []]\n",
      "['ippt', ['best']]\n",
      "['yearly', []]\n",
      "Review Number :  269\n",
      "[]\n",
      "Review Number :  270\n"
     ]
    },
    {
     "name": "stderr",
     "output_type": "stream",
     "text": [
      "\r",
      "  8%|██████▎                                                                        | 271/3390 [02:56<25:00,  2.08it/s]"
     ]
    },
    {
     "name": "stdout",
     "output_type": "stream",
     "text": [
      "[['hope', ['i']], ['call', ['they', 'me']], ['ict', []], ['cycle', []], ['aussie', ['go']], ['brunei', []]]\n",
      "['hope', ['i']]\n",
      "['call', ['they', 'me']]\n",
      "['ict', []]\n",
      "['cycle', []]\n",
      "['aussie', ['go']]\n",
      "['brunei', []]\n",
      "Review Number :  271\n"
     ]
    },
    {
     "name": "stderr",
     "output_type": "stream",
     "text": [
      "\r",
      "  8%|██████▎                                                                        | 272/3390 [02:57<32:38,  1.59it/s]"
     ]
    },
    {
     "name": "stdout",
     "output_type": "stream",
     "text": [
      "[['agree', []], ['imagineu', ['need']], ['still', []], ['back', []], ['ict', ['go']], ['physically', []], ['u', ['find', 'have']], ['u', ['find', 'have']], ['probably', []], ['tons', ['have']], ['commitments', []], ['family', []], ['commitments', []], ['clear', ['them']], ['asap', []]]\n",
      "['agree', []]\n",
      "['imagineu', ['need']]\n",
      "['still', []]\n",
      "['back', []]\n",
      "['ict', ['go']]\n",
      "['physically', []]\n",
      "['u', ['find', 'have']]\n",
      "['u', ['find', 'have']]\n",
      "['probably', []]\n",
      "['tons', ['have']]\n",
      "['commitments', []]\n",
      "['family', []]\n",
      "['commitments', []]\n",
      "['clear', ['them']]\n",
      "['asap', []]\n",
      "Review Number :  272\n"
     ]
    },
    {
     "name": "stderr",
     "output_type": "stream",
     "text": [
      "\r",
      "  8%|██████▎                                                                        | 273/3390 [02:58<26:30,  1.96it/s]"
     ]
    },
    {
     "name": "stdout",
     "output_type": "stream",
     "text": [
      "[['didnt', []], ['receive', ['you', 'this']], ['meh', []]]\n",
      "['didnt', []]\n",
      "['receive', ['you', 'this']]\n",
      "['meh', []]\n",
      "Review Number :  273\n"
     ]
    },
    {
     "name": "stderr",
     "output_type": "stream",
     "text": [
      "\r",
      "  8%|██████▍                                                                        | 274/3390 [02:58<28:35,  1.82it/s]"
     ]
    },
    {
     "name": "stdout",
     "output_type": "stream",
     "text": [
      "[['sianz', []], ['ippt', []], ['rangesoc', []], ['socroute', []], ['routemarch', []], ['marchfibua', []], ['fibuafofo', []], ['fofobctc', []], ['bctcict', []], ['open', []], ['mob', ['getting']], ['really', []], ['use', ['getting']]]\n",
      "['sianz', []]\n",
      "['ippt', []]\n",
      "['rangesoc', []]\n",
      "['socroute', []]\n",
      "['routemarch', []]\n",
      "['marchfibua', []]\n",
      "['fibuafofo', []]\n",
      "['fofobctc', []]\n",
      "['bctcict', []]\n",
      "['open', []]\n",
      "['mob', ['getting']]\n",
      "['really', []]\n",
      "['use', ['getting']]\n",
      "Review Number :  274\n"
     ]
    },
    {
     "name": "stderr",
     "output_type": "stream",
     "text": [
      "\r",
      "  8%|██████▍                                                                        | 275/3390 [02:59<27:23,  1.90it/s]"
     ]
    },
    {
     "name": "stdout",
     "output_type": "stream",
     "text": [
      "[['nsf', []], ['regular', []], ['reservist', ['see']], ['new', []], ['lumber', ['wearing']], ['jin', []], ['satki', []], ['envious', []]]\n",
      "['nsf', []]\n",
      "['regular', []]\n",
      "['reservist', ['see']]\n",
      "['new', []]\n",
      "['lumber', ['wearing']]\n",
      "['jin', []]\n",
      "['satki', []]\n",
      "['envious', []]\n",
      "Review Number :  275\n"
     ]
    },
    {
     "name": "stderr",
     "output_type": "stream",
     "text": [
      "\r",
      "  8%|██████▍                                                                        | 276/3390 [02:59<24:15,  2.14it/s]"
     ]
    },
    {
     "name": "stdout",
     "output_type": "stream",
     "text": [
      "[['calllsaf', ['tell']], ['confrim', []], ['ur', []], ['name', []], ['n', ['tell']], ['icnumber', []]]\n",
      "['calllsaf', ['tell']]\n",
      "['confrim', []]\n",
      "['ur', []]\n",
      "['name', []]\n",
      "['n', ['tell']]\n",
      "['icnumber', []]\n",
      "Review Number :  276\n"
     ]
    },
    {
     "name": "stderr",
     "output_type": "stream",
     "text": [
      "\r",
      "  8%|██████▍                                                                        | 277/3390 [03:01<45:52,  1.13it/s]"
     ]
    },
    {
     "name": "stdout",
     "output_type": "stream",
     "text": [
      "[['really', []], ['day', ['missed']], ['nsf', []], ['early', []], ['bx', []], ['arbo', []], ['jog', ['do']], ['exercise', []], ['wooden', []], ['log', []], ['else', []], ['selarang', []], ['pools', []], ['day', ['missed']], ['script', ['digging']], ['trenches', []], ['assaultboat', []], ['captize', []], ['drill', ['finish']], ['seafollow', []], ['formation', []], ['finish', ['drill']], ['next', []], ['carry', ['boat']], ['boat', ['carry']], ['back', []], ['boatman', []]]\n",
      "['really', []]\n",
      "['day', ['missed']]\n",
      "['nsf', []]\n",
      "['early', []]\n",
      "['bx', []]\n",
      "['arbo', []]\n",
      "['jog', ['do']]\n",
      "['exercise', []]\n",
      "['wooden', []]\n",
      "['log', []]\n",
      "['else', []]\n",
      "['selarang', []]\n",
      "['pools', []]\n",
      "['day', ['missed']]\n",
      "['script', ['digging']]\n",
      "['trenches', []]\n",
      "['assaultboat', []]\n",
      "['captize', []]\n",
      "['drill', ['finish']]\n",
      "['seafollow', []]\n",
      "['formation', []]\n",
      "['finish', ['drill']]\n",
      "['next', []]\n",
      "['carry', ['boat']]\n",
      "['boat', ['carry']]\n",
      "['back', []]\n",
      "['boatman', []]\n",
      "Review Number :  277\n"
     ]
    },
    {
     "name": "stderr",
     "output_type": "stream",
     "text": [
      "  8%|██████▌                                                                        | 279/3390 [03:02<30:58,  1.67it/s]"
     ]
    },
    {
     "name": "stdout",
     "output_type": "stream",
     "text": [
      "[['u', ['seen']], ['recuit', ['seen']], ['back', []], ['idun', ['go']], ['dunwan', []], ['back', []]]\n",
      "['u', ['seen']]\n",
      "['recuit', ['seen']]\n",
      "['back', []]\n",
      "['idun', ['go']]\n",
      "['dunwan', []]\n",
      "['back', []]\n",
      "Review Number :  278\n",
      "[['officers', []]]\n",
      "['officers', []]\n",
      "Review Number :  279\n"
     ]
    },
    {
     "name": "stderr",
     "output_type": "stream",
     "text": [
      "\r",
      "  8%|██████▌                                                                        | 280/3390 [03:03<39:17,  1.32it/s]"
     ]
    },
    {
     "name": "stdout",
     "output_type": "stream",
     "text": [
      "[['sometimes', []], ['didnt', []], ['complete', ['call']], ['unit', ['call', 'call']], ['never', []], ['fault', []], ['leh', []], ['still', []], ['till', []], ['even', []], ['unit', ['call', 'call']], ['didnt', []], ['call', ['complete', 'unit', 'them', 'unit', 'them']], ['leh', []], ['suffer', ['they', 'more']], ['even', []], ['complete', ['call']]]\n",
      "['sometimes', []]\n",
      "['didnt', []]\n",
      "['complete', ['call']]\n",
      "['unit', ['call', 'call']]\n",
      "['never', []]\n",
      "['fault', []]\n",
      "['leh', []]\n",
      "['still', []]\n",
      "['till', []]\n",
      "['even', []]\n",
      "['unit', ['call', 'call']]\n",
      "['didnt', []]\n",
      "['call', ['complete', 'unit', 'them', 'unit', 'them']]\n",
      "['leh', []]\n",
      "['suffer', ['they', 'more']]\n",
      "['even', []]\n",
      "['complete', ['call']]\n",
      "Review Number :  280\n"
     ]
    },
    {
     "name": "stderr",
     "output_type": "stream",
     "text": [
      "\r",
      "  8%|██████▌                                                                        | 281/3390 [03:04<39:01,  1.33it/s]"
     ]
    },
    {
     "name": "stdout",
     "output_type": "stream",
     "text": [
      "[['im', ['did']], ['yeartill', []], ['tilltoday', ['did']], ['high', []], ['key', ['did']], ['dunno', []], ['start', ['they']], ['frequency', ['increasing']], ['back', []], ['soon', []]]\n",
      "['im', ['did']]\n",
      "['yeartill', []]\n",
      "['tilltoday', ['did']]\n",
      "['high', []]\n",
      "['key', ['did']]\n",
      "['dunno', []]\n",
      "['start', ['they']]\n",
      "['frequency', ['increasing']]\n",
      "['back', []]\n",
      "['soon', []]\n",
      "Review Number :  281\n"
     ]
    },
    {
     "name": "stderr",
     "output_type": "stream",
     "text": [
      "\r",
      "  8%|██████▌                                                                        | 282/3390 [03:05<43:06,  1.20it/s]"
     ]
    },
    {
     "name": "stdout",
     "output_type": "stream",
     "text": [
      "[['sian', ['confirm']], ['confirm', ['sian']], ['yrs', []], ['old', []], ['liao', ['completed']], ['low', []], ['keys', ['completed']], ['ji', []], ['dao', []], ['st', []], ['low', []], ['high', []], ['preare', []], ['etag', []], ['imdidnt', []], ['didntcall', []], ['back', []], ['till', []], ['ordgg', []], ['ggliao', []], ['liaoxd', []]]\n",
      "['sian', ['confirm']]\n",
      "['confirm', ['sian']]\n",
      "['yrs', []]\n",
      "['old', []]\n",
      "['liao', ['completed']]\n",
      "['low', []]\n",
      "['keys', ['completed']]\n",
      "['ji', []]\n",
      "['dao', []]\n",
      "['st', []]\n",
      "['low', []]\n",
      "['high', []]\n",
      "['preare', []]\n",
      "['etag', []]\n",
      "['imdidnt', []]\n",
      "['didntcall', []]\n",
      "['back', []]\n",
      "['till', []]\n",
      "['ordgg', []]\n",
      "['ggliao', []]\n",
      "['liaoxd', []]\n",
      "Review Number :  282\n"
     ]
    },
    {
     "name": "stderr",
     "output_type": "stream",
     "text": [
      "\r",
      "  8%|██████▌                                                                        | 283/3390 [03:05<44:14,  1.17it/s]"
     ]
    },
    {
     "name": "stdout",
     "output_type": "stream",
     "text": [
      "[['depends', []], ['mateippt', ['is']], ['extra', []], ['gold', ['he', 'way']], ['way', ['gold', 'sleeping']], ['siong', ['workoutside']], ['ict', ['sleeping']], ['almost', []], ['sleeping', ['ict', 'way']], ['way', ['gold', 'sleeping']]]\n",
      "['depends', []]\n",
      "['mateippt', ['is']]\n",
      "['extra', []]\n",
      "['gold', ['he', 'way']]\n",
      "['way', ['gold', 'sleeping']]\n",
      "['siong', ['workoutside']]\n",
      "['ict', ['sleeping']]\n",
      "['almost', []]\n",
      "['sleeping', ['ict', 'way']]\n",
      "['way', ['gold', 'sleeping']]\n",
      "Review Number :  283\n"
     ]
    },
    {
     "name": "stderr",
     "output_type": "stream",
     "text": [
      "\r",
      "  8%|██████▌                                                                        | 284/3390 [03:06<38:57,  1.33it/s]"
     ]
    },
    {
     "name": "stdout",
     "output_type": "stream",
     "text": [
      "[['good', []], ['serve', ['reservist']], ['reservist', ['serve']], ['later', []], ['yr', []], ['old', []], ['start', ['ict']], ['first', []], ['ict', ['start']]]\n",
      "['good', []]\n",
      "['serve', ['reservist']]\n",
      "['reservist', ['serve']]\n",
      "['later', []]\n",
      "['yr', []]\n",
      "['old', []]\n",
      "['start', ['ict']]\n",
      "['first', []]\n",
      "['ict', ['start']]\n",
      "Review Number :  284\n"
     ]
    },
    {
     "name": "stderr",
     "output_type": "stream",
     "text": [
      "\r",
      "  8%|██████▋                                                                        | 285/3390 [03:06<31:59,  1.62it/s]"
     ]
    },
    {
     "name": "stdout",
     "output_type": "stream",
     "text": [
      "[['kind', ['you']], ['pass', ['who']], ['ippt', []]]\n",
      "['kind', ['you']]\n",
      "['pass', ['who']]\n",
      "['ippt', []]\n",
      "Review Number :  285\n"
     ]
    },
    {
     "name": "stderr",
     "output_type": "stream",
     "text": [
      "\r",
      "  8%|██████▋                                                                        | 286/3390 [03:07<28:05,  1.84it/s]"
     ]
    },
    {
     "name": "stdout",
     "output_type": "stream",
     "text": [
      "[['long', []], ['service', []], ['medals', ['received']]]\n",
      "['long', []]\n",
      "['service', []]\n",
      "['medals', ['received']]\n",
      "Review Number :  286\n"
     ]
    },
    {
     "name": "stderr",
     "output_type": "stream",
     "text": [
      "\r",
      "  8%|██████▋                                                                        | 287/3390 [03:07<27:12,  1.90it/s]"
     ]
    },
    {
     "name": "stdout",
     "output_type": "stream",
     "text": [
      "[['spy', ['i', 'wifmoi']], ['wifmoi', ['spy']], ['moieye', ['birdy']], ['birdy', ['moieye']], ['year', []], ['old', []], ['thread', ['necroed']]]\n",
      "['spy', ['i', 'wifmoi']]\n",
      "['wifmoi', ['spy']]\n",
      "['moieye', ['birdy']]\n",
      "['birdy', ['moieye']]\n",
      "['year', []]\n",
      "['old', []]\n",
      "['thread', ['necroed']]\n",
      "Review Number :  287\n"
     ]
    },
    {
     "name": "stderr",
     "output_type": "stream",
     "text": [
      "\r",
      "  8%|██████▋                                                                        | 288/3390 [03:08<32:07,  1.61it/s]"
     ]
    },
    {
     "name": "stdout",
     "output_type": "stream",
     "text": [
      "[['talk', ['you']], ['unfair', []], ['foreigners', []], ['nothing', ['did']], ['peace', ['enjoying']], ['prosperity', []], ['jobsecurity', []], ['jobs', []], ['expenses', []]]\n",
      "['talk', ['you']]\n",
      "['unfair', []]\n",
      "['foreigners', []]\n",
      "['nothing', ['did']]\n",
      "['peace', ['enjoying']]\n",
      "['prosperity', []]\n",
      "['jobsecurity', []]\n",
      "['jobs', []]\n",
      "['expenses', []]\n",
      "Review Number :  288\n"
     ]
    },
    {
     "name": "stderr",
     "output_type": "stream",
     "text": [
      "\r",
      "  9%|██████▋                                                                        | 289/3390 [03:08<28:23,  1.82it/s]"
     ]
    },
    {
     "name": "stdout",
     "output_type": "stream",
     "text": [
      "[['anyonereach', []], ['never', []], ['letter', ['received']], ['mindef', []]]\n",
      "['anyonereach', []]\n",
      "['never', []]\n",
      "['letter', ['received']]\n",
      "['mindef', []]\n",
      "Review Number :  289\n"
     ]
    },
    {
     "name": "stderr",
     "output_type": "stream",
     "text": [
      "\r",
      "  9%|██████▊                                                                        | 290/3390 [03:09<29:58,  1.72it/s]"
     ]
    },
    {
     "name": "stdout",
     "output_type": "stream",
     "text": [
      "[['years', ['old']], ['old', ['years']], ['appt', ['they', 'holders']], ['holders', ['appt']], ['early', []], ['late', []], ['back', []], ['briefings', []], ['meeting', ['meant']], ['stuffs', []]]\n",
      "['years', ['old']]\n",
      "['old', ['years']]\n",
      "['appt', ['they', 'holders']]\n",
      "['holders', ['appt']]\n",
      "['early', []]\n",
      "['late', []]\n",
      "['back', []]\n",
      "['briefings', []]\n",
      "['meeting', ['meant']]\n",
      "['stuffs', []]\n",
      "Review Number :  290\n"
     ]
    },
    {
     "name": "stderr",
     "output_type": "stream",
     "text": [
      "\r",
      "  9%|██████▊                                                                        | 291/3390 [03:10<29:47,  1.73it/s]"
     ]
    },
    {
     "name": "stdout",
     "output_type": "stream",
     "text": [
      "[['basketsaf', ['sent']], ['letter', ['sent']], ['collect', ['medal']], ['good', []], ['service', []], ['many', []], ['medals', ['want']], ['give', ['me']]]\n",
      "['basketsaf', ['sent']]\n",
      "['letter', ['sent']]\n",
      "['collect', ['medal']]\n",
      "['good', []]\n",
      "['service', []]\n",
      "['many', []]\n",
      "['medals', ['want']]\n",
      "['give', ['me']]\n",
      "Review Number :  291\n"
     ]
    },
    {
     "name": "stderr",
     "output_type": "stream",
     "text": [
      "\r",
      "  9%|██████▊                                                                        | 292/3390 [03:11<45:48,  1.13it/s]"
     ]
    },
    {
     "name": "stdout",
     "output_type": "stream",
     "text": [
      "[['award', ['they', 'they', 'forces']], ['singapore', []], ['forces', ['award']], ['national', []], ['service', []], ['years', []], ['resources', ['wasting']], ['time', []], ['award', ['they', 'they', 'forces']], ['singapore', []], ['armed', []], ['forces', ['award']], ['national', []], ['servicemedal', []], ['yearclasp', []], ['benefits', ['happy']], ['happy', ['benefits']], ['cause', []], ['right', []], ['earn', ['you', 'it']]]\n",
      "['award', ['they', 'they', 'forces']]\n",
      "['singapore', []]\n",
      "['forces', ['award']]\n",
      "['national', []]\n",
      "['service', []]\n",
      "['years', []]\n",
      "['resources', ['wasting']]\n",
      "['time', []]\n",
      "['award', ['they', 'they', 'forces']]\n",
      "['singapore', []]\n",
      "['armed', []]\n",
      "['forces', ['award']]\n",
      "['national', []]\n",
      "['servicemedal', []]\n",
      "['yearclasp', []]\n",
      "['benefits', ['happy']]\n",
      "['happy', ['benefits']]\n",
      "['cause', []]\n",
      "['right', []]\n",
      "['earn', ['you', 'it']]\n",
      "Review Number :  292\n"
     ]
    },
    {
     "name": "stderr",
     "output_type": "stream",
     "text": [
      "\r",
      "  9%|██████▊                                                                        | 293/3390 [03:12<39:40,  1.30it/s]"
     ]
    },
    {
     "name": "stdout",
     "output_type": "stream",
     "text": [
      "[['cork', []], ['ups', ['happen']], ['ict', []], ['mates', []], ['yearmedal', []], ['medaltwice', ['gotten']]]\n",
      "['cork', []]\n",
      "['ups', ['happen']]\n",
      "['ict', []]\n",
      "['mates', []]\n",
      "['yearmedal', []]\n",
      "['medaltwice', ['gotten']]\n",
      "Review Number :  293\n"
     ]
    },
    {
     "name": "stderr",
     "output_type": "stream",
     "text": [
      "\r",
      "  9%|██████▊                                                                        | 294/3390 [03:12<33:36,  1.54it/s]"
     ]
    },
    {
     "name": "stdout",
     "output_type": "stream",
     "text": [
      "[['skip', ['they', 'yearmedal']]]\n",
      "['skip', ['they', 'yearmedal']]\n",
      "Review Number :  294\n"
     ]
    },
    {
     "name": "stderr",
     "output_type": "stream",
     "text": [
      "\r",
      "  9%|██████▊                                                                        | 295/3390 [03:13<31:26,  1.64it/s]"
     ]
    },
    {
     "name": "stdout",
     "output_type": "stream",
     "text": [
      "[['nice', ['try']], ['try', ['nice']], ['year', []], ['th', []], ['ict', []], ['second', []], ['year', []], ['thict', []]]\n",
      "['nice', ['try']]\n",
      "['try', ['nice']]\n",
      "['year', []]\n",
      "['th', []]\n",
      "['ict', []]\n",
      "['second', []]\n",
      "['year', []]\n",
      "['thict', []]\n",
      "Review Number :  295\n"
     ]
    },
    {
     "name": "stderr",
     "output_type": "stream",
     "text": [
      "\r",
      "  9%|██████▋                                                                      | 296/3390 [03:15<1:04:11,  1.24s/it]"
     ]
    },
    {
     "name": "stdout",
     "output_type": "stream",
     "text": [
      "[['wose', ['liable']], ['liable', ['wose', 'officers']], ['ns', []], ['call', []], ['ups', []], ['ippt', []], ['statutory', []], ['age', ['occurs']], ['nsmen', ['managed']], ['clock', []], ['hk', []], ['years', []], ['mindef', []], ['reserves', []], ['rather', []], ['means', ['exns']], ['rdhome', []], ['awards', []], ['officers', ['liable']], ['liable', ['wose', 'officers']], ['ns', []], ['call', []], ['ups', []], ['ippt', []], ['statutory', []], ['age', ['occurs']], ['clock', []], ['hk', []], ['years', []], ['officers', ['liable']], ['however', []], ['statutory', []], ['agecease', ['turning']], ['meaning', []], ['turn', ['they']], ['yet', []], ['mr', []], ['still', []], ['eligible', ['they']], ['ippt', []]]\n",
      "['wose', ['liable']]\n",
      "['liable', ['wose', 'officers']]\n",
      "['ns', []]\n",
      "['call', []]\n",
      "['ups', []]\n",
      "['ippt', []]\n",
      "['statutory', []]\n",
      "['age', ['occurs']]\n",
      "['nsmen', ['managed']]\n",
      "['clock', []]\n",
      "['hk', []]\n",
      "['years', []]\n",
      "['mindef', []]\n",
      "['reserves', []]\n",
      "['rather', []]\n",
      "['means', ['exns']]\n",
      "['rdhome', []]\n",
      "['awards', []]\n",
      "['officers', ['liable']]\n",
      "['liable', ['wose', 'officers']]\n",
      "['ns', []]\n",
      "['call', []]\n",
      "['ups', []]\n",
      "['ippt', []]\n",
      "['statutory', []]\n",
      "['age', ['occurs']]\n",
      "['clock', []]\n",
      "['hk', []]\n",
      "['years', []]\n",
      "['officers', ['liable']]\n",
      "['however', []]\n",
      "['statutory', []]\n",
      "['agecease', ['turning']]\n",
      "['meaning', []]\n",
      "['turn', ['they']]\n",
      "['yet', []]\n",
      "['mr', []]\n",
      "['still', []]\n",
      "['eligible', ['they']]\n",
      "['ippt', []]\n",
      "Review Number :  296\n"
     ]
    },
    {
     "name": "stderr",
     "output_type": "stream",
     "text": [
      "\r",
      "  9%|██████▉                                                                        | 297/3390 [03:16<52:22,  1.02s/it]"
     ]
    },
    {
     "name": "stdout",
     "output_type": "stream",
     "text": [
      "[['base', ['they', 'age']], ['age', ['base']], ['financial', []], ['year', []], ['date', []], ['birth', []], ['individual', []]]\n",
      "['base', ['they', 'age']]\n",
      "['age', ['base']]\n",
      "['financial', []]\n",
      "['year', []]\n",
      "['date', []]\n",
      "['birth', []]\n",
      "['individual', []]\n",
      "Review Number :  297\n"
     ]
    },
    {
     "name": "stderr",
     "output_type": "stream",
     "text": [
      "\r",
      "  9%|██████▉                                                                        | 298/3390 [03:16<46:52,  1.10it/s]"
     ]
    },
    {
     "name": "stdout",
     "output_type": "stream",
     "text": [
      "[['dob', []], ['callup', ['got']], ['date', []], ['thbirthday', []], ['call', []], ['clarify', []]]\n",
      "['dob', []]\n",
      "['callup', ['got']]\n",
      "['date', []]\n",
      "['thbirthday', []]\n",
      "['call', []]\n",
      "['clarify', []]\n",
      "Review Number :  298\n"
     ]
    },
    {
     "name": "stderr",
     "output_type": "stream",
     "text": [
      "\r",
      "  9%|██████▉                                                                        | 299/3390 [03:17<36:11,  1.42it/s]"
     ]
    },
    {
     "name": "stdout",
     "output_type": "stream",
     "text": [
      "[['base', []], ['dob', []]]\n",
      "['base', []]\n",
      "['dob', []]\n",
      "Review Number :  299\n"
     ]
    },
    {
     "name": "stderr",
     "output_type": "stream",
     "text": [
      "\r",
      "  9%|██████▉                                                                        | 300/3390 [03:17<32:26,  1.59it/s]"
     ]
    },
    {
     "name": "stdout",
     "output_type": "stream",
     "text": [
      "[['thank', ['you']], ['cause', []], ['regular', []], ['still', []], ['reservists', ['serving']]]\n",
      "['thank', ['you']]\n",
      "['cause', []]\n",
      "['regular', []]\n",
      "['still', []]\n",
      "['reservists', ['serving']]\n",
      "Review Number :  300\n"
     ]
    },
    {
     "name": "stderr",
     "output_type": "stream",
     "text": [
      "\r",
      "  9%|███████                                                                        | 301/3390 [03:18<30:44,  1.68it/s]"
     ]
    },
    {
     "name": "stdout",
     "output_type": "stream",
     "text": [
      "[['normally', []], ['fully', []], ['age', []], ['u', ['officerranking']], ['officerranking', ['u']]]\n",
      "['normally', []]\n",
      "['fully', []]\n",
      "['age', []]\n",
      "['u', ['officerranking']]\n",
      "['officerranking', ['u']]\n",
      "Review Number :  301\n"
     ]
    },
    {
     "name": "stderr",
     "output_type": "stream",
     "text": [
      "\r",
      "  9%|███████                                                                        | 302/3390 [03:19<35:11,  1.46it/s]"
     ]
    },
    {
     "name": "stdout",
     "output_type": "stream",
     "text": [
      "[['anyone', ['activate']], ['whoms', ['done']], ['ord', ['done']], ['never', []], ['icti', ['done']], ['activate', ['anyone']], ['ict', ['doing']], ['peer', ['doing']], ['ict', ['doing']], ['even', []], ['ord', ['done']], ['also', []], ['stict', ['done']]]\n",
      "['anyone', ['activate']]\n",
      "['whoms', ['done']]\n",
      "['ord', ['done']]\n",
      "['never', []]\n",
      "['icti', ['done']]\n",
      "['activate', ['anyone']]\n",
      "['ict', ['doing']]\n",
      "['peer', ['doing']]\n",
      "['ict', ['doing']]\n",
      "['even', []]\n",
      "['ord', ['done']]\n",
      "['also', []]\n",
      "['stict', ['done']]\n",
      "Review Number :  302\n"
     ]
    },
    {
     "name": "stderr",
     "output_type": "stream",
     "text": [
      "\r",
      "  9%|███████                                                                        | 303/3390 [03:19<37:01,  1.39it/s]"
     ]
    },
    {
     "name": "stdout",
     "output_type": "stream",
     "text": [
      "[['think', ['i']], ['unit', ['see']], ['pretty', []], ['active', []], ['atec', []], ['get', []], ['quite', []], ['often', []], ['ns', []], ['vocation', ['whats']]]\n",
      "['think', ['i']]\n",
      "['unit', ['see']]\n",
      "['pretty', []]\n",
      "['active', []]\n",
      "['atec', []]\n",
      "['get', []]\n",
      "['quite', []]\n",
      "['often', []]\n",
      "['ns', []]\n",
      "['vocation', ['whats']]\n",
      "Review Number :  303\n"
     ]
    },
    {
     "name": "stderr",
     "output_type": "stream",
     "text": [
      "\r",
      "  9%|██████▉                                                                      | 304/3390 [03:22<1:00:30,  1.18s/it]"
     ]
    },
    {
     "name": "stdout",
     "output_type": "stream",
     "text": [
      "[['depends', []], ['unit', ['have']], ['vocationi', []], ['list', []], ['years', []], ['ippt', ['ord']], ['mob', ['manning']], ['ict', ['manning']], ['active', []], ['unit', ['have']], ['vacancy', ['have']], ['saf', ['i']], ['th', []], ['year', []], ['year', []], ['also', []], ['liao', ['received']], ['mrcert', ['received']], ['last', []], ['year', []], ['yet', []], ['yo', ['curious']], ['curious', ['yo']], ['chances', ['call']], ['ict', ['manning']], ['fbo', ['taking']], ['uniforms', []], ['spacelor', ['taking']], ['bring', []], ['emart', []], ['drop', []], ['redminote', []], ['gagt', []]]\n",
      "['depends', []]\n",
      "['unit', ['have']]\n",
      "['vocationi', []]\n",
      "['list', []]\n",
      "['years', []]\n",
      "['ippt', ['ord']]\n",
      "['mob', ['manning']]\n",
      "['ict', ['manning']]\n",
      "['active', []]\n",
      "['unit', ['have']]\n",
      "['vacancy', ['have']]\n",
      "['saf', ['i']]\n",
      "['th', []]\n",
      "['year', []]\n",
      "['year', []]\n",
      "['also', []]\n",
      "['liao', ['received']]\n",
      "['mrcert', ['received']]\n",
      "['last', []]\n",
      "['year', []]\n",
      "['yet', []]\n",
      "['yo', ['curious']]\n",
      "['curious', ['yo']]\n",
      "['chances', ['call']]\n",
      "['ict', ['manning']]\n",
      "['fbo', ['taking']]\n",
      "['uniforms', []]\n",
      "['spacelor', ['taking']]\n",
      "['bring', []]\n",
      "['emart', []]\n",
      "['drop', []]\n",
      "['redminote', []]\n",
      "['gagt', []]\n",
      "Review Number :  304\n"
     ]
    },
    {
     "name": "stderr",
     "output_type": "stream",
     "text": [
      "\r",
      "  9%|███████                                                                        | 305/3390 [03:22<52:09,  1.01s/it]"
     ]
    },
    {
     "name": "stdout",
     "output_type": "stream",
     "text": [
      "[['pass', []], ['call', ['they', 'u']], ['u', ['call', 'finished']], ['anything', []], ['u', ['call', 'finished']], ['cycles', ['finished']], ['statutory', []], ['legislationu', []]]\n",
      "['pass', []]\n",
      "['call', ['they', 'u']]\n",
      "['u', ['call', 'finished']]\n",
      "['anything', []]\n",
      "['u', ['call', 'finished']]\n",
      "['cycles', ['finished']]\n",
      "['statutory', []]\n",
      "['legislationu', []]\n",
      "Review Number :  305\n"
     ]
    },
    {
     "name": "stderr",
     "output_type": "stream",
     "text": [
      "\r",
      "  9%|███████▏                                                                       | 306/3390 [03:23<40:59,  1.25it/s]"
     ]
    },
    {
     "name": "stdout",
     "output_type": "stream",
     "text": [
      "[['return', ['that']]]\n",
      "['return', ['that']]\n",
      "Review Number :  306\n"
     ]
    },
    {
     "name": "stderr",
     "output_type": "stream",
     "text": [
      "\r",
      "  9%|███████▏                                                                       | 307/3390 [03:24<56:41,  1.10s/it]"
     ]
    },
    {
     "name": "stdout",
     "output_type": "stream",
     "text": [
      "[['active', []], ['battalions', []], ['days', []], ['likely', []], ['start', ['you', 'reservist']], ['reservist', ['start']], ['soon', []], ['year', []], ['ord', []], ['sure', []], ['active', []], ['brigades', []], ['last', []], ['time', []], ['nsf', []], ['days', []], ['active', []], ['personnel', ['i']], ['reservistbrigade', []], ['list', []], ['years', []], ['icts', ['done']], ['year', []], ['timei', []]]\n",
      "['active', []]\n",
      "['battalions', []]\n",
      "['days', []]\n",
      "['likely', []]\n",
      "['start', ['you', 'reservist']]\n",
      "['reservist', ['start']]\n",
      "['soon', []]\n",
      "['year', []]\n",
      "['ord', []]\n",
      "['sure', []]\n",
      "['active', []]\n",
      "['brigades', []]\n",
      "['last', []]\n",
      "['time', []]\n",
      "['nsf', []]\n",
      "['days', []]\n",
      "['active', []]\n",
      "['personnel', ['i']]\n",
      "['reservistbrigade', []]\n",
      "['list', []]\n",
      "['years', []]\n",
      "['icts', ['done']]\n",
      "['year', []]\n",
      "['timei', []]\n",
      "Review Number :  307\n"
     ]
    },
    {
     "name": "stderr",
     "output_type": "stream",
     "text": [
      "\r",
      "  9%|██████▉                                                                      | 308/3390 [03:28<1:30:58,  1.77s/it]"
     ]
    },
    {
     "name": "stdout",
     "output_type": "stream",
     "text": [
      "[['possible', []], ['unit', ['able']], ['arrange', ['icts', 'icts']], ['icts', ['arrange', 'have', 'arrange']], ['clock', ['cycles']], ['cycles', ['clock', 'attending']], ['officers', []], ['carefully', []], ['safwork', []], ['april', ['workyear']], ['end', ['march']], ['march', ['end']], ['briefings', []], ['etc', []], ['fall', []], ['appropriate', []], ['months', []], ['nsmen', ['attending']], ['cycles', ['clock', 'attending']], ['turn', ['you', 'they']], ['last', []], ['cycle', []], ['sometimes', []], ['nsmens', ['it']], ['ict', ['defering', 'schedule']], ['sometimes', []], ['unitcouldnt', []], ['schedule', ['able', 'ict']], ['ict', ['defering', 'schedule']], ['year', []], ['personally', []], ['unit', ['able']], ['able', ['schedule', 'unit']], ['arrange', ['icts', 'icts']], ['icts', ['arrange', 'have', 'arrange']], ['nsmen', ['attending']], ['last', []], ['th', []], ['cycle', []], ['agelimit', ['reach']], ['next', []], ['battalionict', []], ['ictisnt', []], ['next', []], ['saf', []], ['year', []]]\n",
      "['possible', []]\n",
      "['unit', ['able']]\n",
      "['arrange', ['icts', 'icts']]\n",
      "['icts', ['arrange', 'have', 'arrange']]\n",
      "['clock', ['cycles']]\n",
      "['cycles', ['clock', 'attending']]\n",
      "['officers', []]\n",
      "['carefully', []]\n",
      "['safwork', []]\n",
      "['april', ['workyear']]\n",
      "['end', ['march']]\n",
      "['march', ['end']]\n",
      "['briefings', []]\n",
      "['etc', []]\n",
      "['fall', []]\n",
      "['appropriate', []]\n",
      "['months', []]\n",
      "['nsmen', ['attending']]\n",
      "['cycles', ['clock', 'attending']]\n",
      "['turn', ['you', 'they']]\n",
      "['last', []]\n",
      "['cycle', []]\n",
      "['sometimes', []]\n",
      "['nsmens', ['it']]\n",
      "['ict', ['defering', 'schedule']]\n",
      "['sometimes', []]\n",
      "['unitcouldnt', []]\n",
      "['schedule', ['able', 'ict']]\n",
      "['ict', ['defering', 'schedule']]\n",
      "['year', []]\n",
      "['personally', []]\n",
      "['unit', ['able']]\n",
      "['able', ['schedule', 'unit']]\n",
      "['arrange', ['icts', 'icts']]\n",
      "['icts', ['arrange', 'have', 'arrange']]\n",
      "['nsmen', ['attending']]\n",
      "['last', []]\n",
      "['th', []]\n",
      "['cycle', []]\n",
      "['agelimit', ['reach']]\n",
      "['next', []]\n",
      "['battalionict', []]\n",
      "['ictisnt', []]\n",
      "['next', []]\n",
      "['saf', []]\n",
      "['year', []]\n",
      "Review Number :  308\n"
     ]
    },
    {
     "name": "stderr",
     "output_type": "stream",
     "text": [
      "\r",
      "  9%|███████                                                                      | 309/3390 [03:29<1:17:03,  1.50s/it]"
     ]
    },
    {
     "name": "stdout",
     "output_type": "stream",
     "text": [
      "[['birthday', ['falls', 'falls']], ['april', []], ['still', []], ['possible', []], ['clock', ['i', 'cycles']], ['cycles', ['clock']], ['bad', []], ['birthday', ['falls', 'falls']], ['february', []], ['icts', ['keys']], ['high', []], ['keys', ['icts']]]\n",
      "['birthday', ['falls', 'falls']]\n",
      "['april', []]\n",
      "['still', []]\n",
      "['possible', []]\n",
      "['clock', ['i', 'cycles']]\n",
      "['cycles', ['clock']]\n",
      "['bad', []]\n",
      "['birthday', ['falls', 'falls']]\n",
      "['february', []]\n",
      "['icts', ['keys']]\n",
      "['high', []]\n",
      "['keys', ['icts']]\n",
      "Review Number :  309\n"
     ]
    },
    {
     "name": "stderr",
     "output_type": "stream",
     "text": [
      "\r",
      "  9%|███████                                                                      | 310/3390 [03:29<1:06:17,  1.29s/it]"
     ]
    },
    {
     "name": "stdout",
     "output_type": "stream",
     "text": [
      "[['yes', []], ['birthday', ['falls']], ['april', []], ['wont', []], ['able', ['you']], ['add', ['icts']], ['many', []], ['hk', []], ['icts', ['add']], ['complete', []], ['reach', ['cycles']], ['cycles', ['reach']]]\n",
      "['yes', []]\n",
      "['birthday', ['falls']]\n",
      "['april', []]\n",
      "['wont', []]\n",
      "['able', ['you']]\n",
      "['add', ['icts']]\n",
      "['many', []]\n",
      "['hk', []]\n",
      "['icts', ['add']]\n",
      "['complete', []]\n",
      "['reach', ['cycles']]\n",
      "['cycles', ['reach']]\n",
      "Review Number :  310\n"
     ]
    },
    {
     "name": "stderr",
     "output_type": "stream",
     "text": [
      "\r",
      "  9%|███████▏                                                                       | 311/3390 [03:30<51:49,  1.01s/it]"
     ]
    },
    {
     "name": "stdout",
     "output_type": "stream",
     "text": [
      "[['already', []], ['lk', ['served']], ['hk', []], ['icts', []], ['hk', []], ['icts', []]]\n",
      "['already', []]\n",
      "['lk', ['served']]\n",
      "['hk', []]\n",
      "['icts', []]\n",
      "['hk', []]\n",
      "['icts', []]\n",
      "Review Number :  311\n"
     ]
    },
    {
     "name": "stderr",
     "output_type": "stream",
     "text": [
      "\r",
      "  9%|███████▎                                                                       | 312/3390 [03:30<40:54,  1.25it/s]"
     ]
    },
    {
     "name": "stdout",
     "output_type": "stream",
     "text": [
      "[['hks', ['left']], ['already', []], ['close', ['you']]]\n",
      "['hks', ['left']]\n",
      "['already', []]\n",
      "['close', ['you']]\n",
      "Review Number :  312\n"
     ]
    },
    {
     "name": "stderr",
     "output_type": "stream",
     "text": [
      "\r",
      "  9%|███████▎                                                                       | 313/3390 [03:31<38:20,  1.34it/s]"
     ]
    },
    {
     "name": "stdout",
     "output_type": "stream",
     "text": [
      "[['matey', []], ['u', ['wrote']], ['soon', []], ['year', []], ['complete', ['i', 'hks']], ['hks', ['complete']], ['irod', []]]\n",
      "['matey', []]\n",
      "['u', ['wrote']]\n",
      "['soon', []]\n",
      "['year', []]\n",
      "['complete', ['i', 'hks']]\n",
      "['hks', ['complete']]\n",
      "['irod', []]\n",
      "Review Number :  313\n"
     ]
    },
    {
     "name": "stderr",
     "output_type": "stream",
     "text": [
      "\r",
      "  9%|███████▎                                                                       | 314/3390 [03:32<44:52,  1.14it/s]"
     ]
    },
    {
     "name": "stdout",
     "output_type": "stream",
     "text": [
      "[['yes', []], ['miss', ['you', 'cycle', 'you']], ['last', []], ['th', []], ['cycle', ['miss']], ['unit', ['scheduling', 'contacting']], ['isnt', []], ['scheduling', ['unit', 'icts']], ['icts', ['scheduling']], ['year', []], ['even', []], ['thcycle', []], ['unit', ['scheduling', 'contacting']], ['ask', ['them']], ['options', ['what']], ['feb', []], ['birth', []], ['month', []], ['hard', []], ['squeeze', []]]\n",
      "['yes', []]\n",
      "['miss', ['you', 'cycle', 'you']]\n",
      "['last', []]\n",
      "['th', []]\n",
      "['cycle', ['miss']]\n",
      "['unit', ['scheduling', 'contacting']]\n",
      "['isnt', []]\n",
      "['scheduling', ['unit', 'icts']]\n",
      "['icts', ['scheduling']]\n",
      "['year', []]\n",
      "['even', []]\n",
      "['thcycle', []]\n",
      "['unit', ['scheduling', 'contacting']]\n",
      "['ask', ['them']]\n",
      "['options', ['what']]\n",
      "['feb', []]\n",
      "['birth', []]\n",
      "['month', []]\n",
      "['hard', []]\n",
      "['squeeze', []]\n",
      "Review Number :  314\n"
     ]
    },
    {
     "name": "stderr",
     "output_type": "stream",
     "text": [
      "\r",
      "  9%|███████▎                                                                       | 315/3390 [03:32<39:29,  1.30it/s]"
     ]
    },
    {
     "name": "stdout",
     "output_type": "stream",
     "text": [
      "[['year', []], ['especially', []], ['thict', []], ['ictatec', []]]\n",
      "['year', []]\n",
      "['especially', []]\n",
      "['thict', []]\n",
      "['ictatec', []]\n",
      "Review Number :  315\n"
     ]
    },
    {
     "name": "stderr",
     "output_type": "stream",
     "text": [
      "\r",
      "  9%|███████▎                                                                       | 316/3390 [03:33<33:28,  1.53it/s]"
     ]
    },
    {
     "name": "stdout",
     "output_type": "stream",
     "text": [
      "[['count', ['it']], ['activity', []], ['workyear', []]]\n",
      "['count', ['it']]\n",
      "['activity', []]\n",
      "['workyear', []]\n",
      "Review Number :  316\n"
     ]
    },
    {
     "name": "stderr",
     "output_type": "stream",
     "text": [
      "\r",
      "  9%|███████▍                                                                       | 317/3390 [03:34<38:34,  1.33it/s]"
     ]
    },
    {
     "name": "stdout",
     "output_type": "stream",
     "text": [
      "[['tsi', ['completed']], ['never', []], ['yr', []], ['cycle', ['completed']], ['lk', []], ['years', []], ['full', []], ['time', []], ['ns', ['exitpermit']], ['cosi', ['exitpermit']], ['exitpermit', ['ns', 'cosi']], ['dont', []], ['call', ['they']], ['u', ['send', 'send', 'say']], ['already', []], ['u', ['send', 'send', 'say']], ['rodcertificate', ['send']], ['u', ['send', 'send', 'say']], ['goodbye', ['say']]]\n",
      "['tsi', ['completed']]\n",
      "['never', []]\n",
      "['yr', []]\n",
      "['cycle', ['completed']]\n",
      "['lk', []]\n",
      "['years', []]\n",
      "['full', []]\n",
      "['time', []]\n",
      "['ns', ['exitpermit']]\n",
      "['cosi', ['exitpermit']]\n",
      "['exitpermit', ['ns', 'cosi']]\n",
      "['dont', []]\n",
      "['call', ['they']]\n",
      "['u', ['send', 'send', 'say']]\n",
      "['already', []]\n",
      "['u', ['send', 'send', 'say']]\n",
      "['rodcertificate', ['send']]\n",
      "['u', ['send', 'send', 'say']]\n",
      "['goodbye', ['say']]\n",
      "Review Number :  317\n"
     ]
    },
    {
     "name": "stderr",
     "output_type": "stream",
     "text": [
      "\r",
      "  9%|███████▍                                                                       | 318/3390 [03:34<37:11,  1.38it/s]"
     ]
    },
    {
     "name": "stdout",
     "output_type": "stream",
     "text": [
      "[['uniform', ['keep']], ['always', []], ['chance', ['is']], ['call', ['they', 'u']], ['u', ['call', 'return']], ['long', []], ['u', ['call', 'return']], ['return', ['u']], ['uniform', ['keep']], ['pes', []]]\n",
      "['uniform', ['keep']]\n",
      "['always', []]\n",
      "['chance', ['is']]\n",
      "['call', ['they', 'u']]\n",
      "['u', ['call', 'return']]\n",
      "['long', []]\n",
      "['u', ['call', 'return']]\n",
      "['return', ['u']]\n",
      "['uniform', ['keep']]\n",
      "['pes', []]\n",
      "Review Number :  318\n"
     ]
    },
    {
     "name": "stderr",
     "output_type": "stream",
     "text": [
      "\r",
      "  9%|███████▍                                                                       | 319/3390 [03:35<32:38,  1.57it/s]"
     ]
    },
    {
     "name": "stdout",
     "output_type": "stream",
     "text": [
      "[['need', []], ['officer', ['you']], ['self', []], ['extend', ['service']], ['service', ['extend']]]\n",
      "['need', []]\n",
      "['officer', ['you']]\n",
      "['self', []]\n",
      "['extend', ['service']]\n",
      "['service', ['extend']]\n",
      "Review Number :  319\n"
     ]
    },
    {
     "name": "stderr",
     "output_type": "stream",
     "text": [
      "\r",
      "  9%|███████▍                                                                       | 320/3390 [03:35<27:31,  1.86it/s]"
     ]
    },
    {
     "name": "stdout",
     "output_type": "stream",
     "text": [
      "[['anyone', ['knows']], ['age', ['knows']], ['ageage', []]]\n",
      "['anyone', ['knows']]\n",
      "['age', ['knows']]\n",
      "['ageage', []]\n",
      "Review Number :  320\n"
     ]
    },
    {
     "name": "stderr",
     "output_type": "stream",
     "text": [
      "\r",
      "  9%|███████▍                                                                       | 321/3390 [03:35<22:43,  2.25it/s]"
     ]
    },
    {
     "name": "stdout",
     "output_type": "stream",
     "text": [
      "[['years', []], ['age', []]]\n",
      "['years', []]\n",
      "['age', []]\n",
      "Review Number :  321\n"
     ]
    },
    {
     "name": "stderr",
     "output_type": "stream",
     "text": [
      "\r",
      "  9%|███████▌                                                                       | 322/3390 [03:36<21:09,  2.42it/s]"
     ]
    },
    {
     "name": "stdout",
     "output_type": "stream",
     "text": [
      "[['mai', []], ['lah', ['finish']], ['finish', ['volunteer', 'lah', 'yearcycle', 'siewgang']], ['yearcycle', ['finish']], ['cyclesiew', []], ['siewgang', ['finish']]]\n",
      "['mai', []]\n",
      "['lah', ['finish']]\n",
      "['finish', ['volunteer', 'lah', 'yearcycle', 'siewgang']]\n",
      "['yearcycle', ['finish']]\n",
      "['cyclesiew', []]\n",
      "['siewgang', ['finish']]\n",
      "Review Number :  322\n"
     ]
    },
    {
     "name": "stderr",
     "output_type": "stream",
     "text": [
      "\r",
      " 10%|███████▌                                                                       | 323/3390 [03:36<23:17,  2.19it/s]"
     ]
    },
    {
     "name": "stdout",
     "output_type": "stream",
     "text": [
      "[['kind', ['count']], ['activities', []], ['orns', []], ['havent', []], ['single', []], ['ict', ['done']], ['orns', []], ['year', []]]\n",
      "['kind', ['count']]\n",
      "['activities', []]\n",
      "['orns', []]\n",
      "['havent', []]\n",
      "['single', []]\n",
      "['ict', ['done']]\n",
      "['orns', []]\n",
      "['year', []]\n",
      "Review Number :  323\n"
     ]
    },
    {
     "name": "stderr",
     "output_type": "stream",
     "text": [
      "\r",
      " 10%|███████▌                                                                       | 324/3390 [03:37<22:09,  2.31it/s]"
     ]
    },
    {
     "name": "stdout",
     "output_type": "stream",
     "text": [
      "[['activity', []], ['ict', []], ['mobilisation', []], ['call', []], ['briefing', []]]\n",
      "['activity', []]\n",
      "['ict', []]\n",
      "['mobilisation', []]\n",
      "['call', []]\n",
      "['briefing', []]\n",
      "Review Number :  324\n"
     ]
    },
    {
     "name": "stderr",
     "output_type": "stream",
     "text": [
      "\r",
      " 10%|███████▌                                                                       | 325/3390 [03:37<22:00,  2.32it/s]"
     ]
    },
    {
     "name": "stdout",
     "output_type": "stream",
     "text": [
      "[['didnt', []], ['lol', []], ['somehow', []], ['orns', []], ['year', ['increasing']]]\n",
      "['didnt', []]\n",
      "['lol', []]\n",
      "['somehow', []]\n",
      "['orns', []]\n",
      "['year', ['increasing']]\n",
      "Review Number :  325\n"
     ]
    },
    {
     "name": "stderr",
     "output_type": "stream",
     "text": [
      "\r",
      " 10%|███████▌                                                                       | 326/3390 [03:37<19:38,  2.60it/s]"
     ]
    },
    {
     "name": "stdout",
     "output_type": "stream",
     "text": [
      "[['check', ['cycle']], ['orns', []], ['cycle', ['check']]]\n",
      "['check', ['cycle']]\n",
      "['orns', []]\n",
      "['cycle', ['check']]\n",
      "Review Number :  326\n"
     ]
    },
    {
     "name": "stderr",
     "output_type": "stream",
     "text": [
      "\r",
      " 10%|███████▌                                                                       | 327/3390 [03:38<21:58,  2.32it/s]"
     ]
    },
    {
     "name": "stdout",
     "output_type": "stream",
     "text": [
      "[['u', ['receive']], ['receive', ['u', 'saf']], ['saf', ['receive']], ['theres', ['documents']], ['documents', ['theres']], ['everyones', []], ['information', []], ['orns', []]]\n",
      "['u', ['receive']]\n",
      "['receive', ['u', 'saf']]\n",
      "['saf', ['receive']]\n",
      "['theres', ['documents']]\n",
      "['documents', ['theres']]\n",
      "['everyones', []]\n",
      "['information', []]\n",
      "['orns', []]\n",
      "Review Number :  327\n"
     ]
    },
    {
     "name": "stderr",
     "output_type": "stream",
     "text": [
      "\r",
      " 10%|███████▋                                                                       | 328/3390 [03:39<26:21,  1.94it/s]"
     ]
    },
    {
     "name": "stdout",
     "output_type": "stream",
     "text": [
      "[['anyone', ['lost']], ['ict', []], ['cycle', ['lost']], ['due', []], ['pandemic', []], ['wondering', []], ['mindef', ['count']], ['count', ['mindef', 'year']], ['year', ['count']], ['year', ['count']], ['cycle', ['lost']]]\n",
      "['anyone', ['lost']]\n",
      "['ict', []]\n",
      "['cycle', ['lost']]\n",
      "['due', []]\n",
      "['pandemic', []]\n",
      "['wondering', []]\n",
      "['mindef', ['count']]\n",
      "['count', ['mindef', 'year']]\n",
      "['year', ['count']]\n",
      "['year', ['count']]\n",
      "['cycle', ['lost']]\n",
      "Review Number :  328\n"
     ]
    },
    {
     "name": "stderr",
     "output_type": "stream",
     "text": [
      "\r",
      " 10%|███████▋                                                                       | 329/3390 [03:39<23:00,  2.22it/s]"
     ]
    },
    {
     "name": "stdout",
     "output_type": "stream",
     "text": [
      "[['others', ['are']], ['year', []], ['also', []]]\n",
      "['others', ['are']]\n",
      "['year', []]\n",
      "['also', []]\n",
      "Review Number :  329\n"
     ]
    },
    {
     "name": "stderr",
     "output_type": "stream",
     "text": [
      "\r",
      " 10%|███████▋                                                                       | 330/3390 [03:40<30:41,  1.66it/s]"
     ]
    },
    {
     "name": "stdout",
     "output_type": "stream",
     "text": [
      "[['still', []], ['lose', ['years']], ['years', ['lose', 'reaching']], ['able', ['i']], ['clear', ['cycles']], ['cycles', ['clear']], ['years', ['lose', 'reaching']], ['year', []], ['cant', []], ['orns', ['do']], ['due', []], ['pandemic', []]]\n",
      "['still', []]\n",
      "['lose', ['years']]\n",
      "['years', ['lose', 'reaching']]\n",
      "['able', ['i']]\n",
      "['clear', ['cycles']]\n",
      "['cycles', ['clear']]\n",
      "['years', ['lose', 'reaching']]\n",
      "['year', []]\n",
      "['cant', []]\n",
      "['orns', ['do']]\n",
      "['due', []]\n",
      "['pandemic', []]\n",
      "Review Number :  330\n"
     ]
    },
    {
     "name": "stderr",
     "output_type": "stream",
     "text": [
      "\r",
      " 10%|███████▋                                                                       | 331/3390 [03:40<27:32,  1.85it/s]"
     ]
    },
    {
     "name": "stdout",
     "output_type": "stream",
     "text": [
      "[['ns', []], ['obligation', ['create']], ['create', ['obligation']], ['wouldnt', []]]\n",
      "['ns', []]\n",
      "['obligation', ['create']]\n",
      "['create', ['obligation']]\n",
      "['wouldnt', []]\n",
      "Review Number :  331\n"
     ]
    },
    {
     "name": "stderr",
     "output_type": "stream",
     "text": [
      "\r",
      " 10%|███████▋                                                                       | 332/3390 [03:41<26:25,  1.93it/s]"
     ]
    },
    {
     "name": "stdout",
     "output_type": "stream",
     "text": [
      "[['thatbut', ['lose']], ['lose', ['thatbut', 'cpfbonus']], ['cpfbonus', ['lose']], ['orns', ['completing']], ['concern', ['that']]]\n",
      "['thatbut', ['lose']]\n",
      "['lose', ['thatbut', 'cpfbonus']]\n",
      "['cpfbonus', ['lose']]\n",
      "['orns', ['completing']]\n",
      "['concern', ['that']]\n",
      "Review Number :  332\n"
     ]
    },
    {
     "name": "stderr",
     "output_type": "stream",
     "text": [
      "\r",
      " 10%|███████▊                                                                       | 333/3390 [03:41<26:36,  1.91it/s]"
     ]
    },
    {
     "name": "stdout",
     "output_type": "stream",
     "text": [
      "[['think', ['i', 'i']], ['need', []], ['mp', []], ['liao', ['go']], ['thats', []], ['concern', []]]\n",
      "['think', ['i', 'i']]\n",
      "['need', []]\n",
      "['mp', []]\n",
      "['liao', ['go']]\n",
      "['thats', []]\n",
      "['concern', []]\n",
      "Review Number :  333\n"
     ]
    },
    {
     "name": "stderr",
     "output_type": "stream",
     "text": [
      "\r",
      " 10%|███████▊                                                                       | 334/3390 [03:42<28:18,  1.80it/s]"
     ]
    },
    {
     "name": "stdout",
     "output_type": "stream",
     "text": [
      "[['orn', []], ['cycle', ['doing']], ['clock', ['quota']], ['quota', ['clock']], ['clear', []], ['pandemic', []], ['latter', ['choose']]]\n",
      "['orn', []]\n",
      "['cycle', ['doing']]\n",
      "['clock', ['quota']]\n",
      "['quota', ['clock']]\n",
      "['clear', []]\n",
      "['pandemic', []]\n",
      "['latter', ['choose']]\n",
      "Review Number :  334\n"
     ]
    },
    {
     "name": "stderr",
     "output_type": "stream",
     "text": [
      "\r",
      " 10%|███████▊                                                                       | 335/3390 [03:42<26:14,  1.94it/s]"
     ]
    },
    {
     "name": "stdout",
     "output_type": "stream",
     "text": [
      "[['really', []], ['meh', []], ['ippt', []], ['also', []], ['ippt', []], ['last', []], ['years', []]]\n",
      "['really', []]\n",
      "['meh', []]\n",
      "['ippt', []]\n",
      "['also', []]\n",
      "['ippt', []]\n",
      "['last', []]\n",
      "['years', []]\n",
      "Review Number :  335\n"
     ]
    },
    {
     "name": "stderr",
     "output_type": "stream",
     "text": [
      "\r",
      " 10%|███████▊                                                                       | 336/3390 [03:43<27:27,  1.85it/s]"
     ]
    },
    {
     "name": "stdout",
     "output_type": "stream",
     "text": [
      "[['think', []], ['activities', []], ['towards', []], ['orns', []], ['activity', []], ['ippt', []], ['dayattendance', []]]\n",
      "['think', []]\n",
      "['activities', []]\n",
      "['towards', []]\n",
      "['orns', []]\n",
      "['activity', []]\n",
      "['ippt', []]\n",
      "['dayattendance', []]\n",
      "Review Number :  336\n"
     ]
    },
    {
     "name": "stderr",
     "output_type": "stream",
     "text": [
      " 10%|███████▉                                                                       | 338/3390 [03:44<21:10,  2.40it/s]"
     ]
    },
    {
     "name": "stdout",
     "output_type": "stream",
     "text": [
      "[['nsdotsg', ['manage']], ['eservices', []], ['callup', ['log']], ['log', ['callup']], ['check', []]]\n",
      "['nsdotsg', ['manage']]\n",
      "['eservices', []]\n",
      "['callup', ['log']]\n",
      "['log', ['callup']]\n",
      "['check', []]\n",
      "Review Number :  337\n",
      "[['u', ['go']], ['rt', []], ['sibo', []]]\n",
      "['u', ['go']]\n",
      "['rt', []]\n",
      "['sibo', []]\n",
      "Review Number :  338\n"
     ]
    },
    {
     "name": "stderr",
     "output_type": "stream",
     "text": [
      "\r",
      " 10%|███████▉                                                                       | 339/3390 [03:44<19:42,  2.58it/s]"
     ]
    },
    {
     "name": "stdout",
     "output_type": "stream",
     "text": [
      "[['oic', ['better']], ['much', []], ['last', []], ['timeliao', []]]\n",
      "['oic', ['better']]\n",
      "['much', []]\n",
      "['last', []]\n",
      "['timeliao', []]\n",
      "Review Number :  339\n"
     ]
    },
    {
     "name": "stderr",
     "output_type": "stream",
     "text": [
      "\r",
      " 10%|███████▉                                                                       | 340/3390 [03:45<34:52,  1.46it/s]"
     ]
    },
    {
     "name": "stdout",
     "output_type": "stream",
     "text": [
      "[['hmmi', ['think']], ['think', ['hmmi']], ['also', []], ['years', []], ['old', []], ['unit', ['operates']], ['need', ['i', 'i']], ['causei', ['passshooting']], ['ibobo', []], ['deployment', ['failed']], ['last', []], ['year', []], ['deployment', ['failed']], ['count', ['they', 'cyclefml', 'fmli']], ['cyclefml', ['count']], ['fmli', ['count']], ['ns', []], ['helpdesk', ['asking']], ['wait', ['i']], ['till', []], ['end', []], ['fy', []], ['years', []]]\n",
      "['hmmi', ['think']]\n",
      "['think', ['hmmi']]\n",
      "['also', []]\n",
      "['years', []]\n",
      "['old', []]\n",
      "['unit', ['operates']]\n",
      "['need', ['i', 'i']]\n",
      "['causei', ['passshooting']]\n",
      "['ibobo', []]\n",
      "['deployment', ['failed']]\n",
      "['last', []]\n",
      "['year', []]\n",
      "['deployment', ['failed']]\n",
      "['count', ['they', 'cyclefml', 'fmli']]\n",
      "['cyclefml', ['count']]\n",
      "['fmli', ['count']]\n",
      "['ns', []]\n",
      "['helpdesk', ['asking']]\n",
      "['wait', ['i']]\n",
      "['till', []]\n",
      "['end', []]\n",
      "['fy', []]\n",
      "['years', []]\n",
      "Review Number :  340\n"
     ]
    },
    {
     "name": "stderr",
     "output_type": "stream",
     "text": [
      " 10%|███████▉                                                                       | 342/3390 [03:46<22:19,  2.28it/s]"
     ]
    },
    {
     "name": "stdout",
     "output_type": "stream",
     "text": [
      "[['liddat', ['bo']], ['bo', ['liddat']], ['leh', []]]\n",
      "['liddat', ['bo']]\n",
      "['bo', ['liddat']]\n",
      "['leh', []]\n",
      "Review Number :  341\n",
      "[['needmr', []]]\n",
      "['needmr', []]\n",
      "Review Number :  342\n"
     ]
    },
    {
     "name": "stderr",
     "output_type": "stream",
     "text": [
      "\r",
      " 10%|███████▉                                                                       | 343/3390 [03:47<31:53,  1.59it/s]"
     ]
    },
    {
     "name": "stdout",
     "output_type": "stream",
     "text": [
      "[['ya', []], ['lo', []], ['ah', []], ['good', ['escape']], ['escape', ['good']], ['work', []], ['maintenanceperiod', []], ['years', ['become']], ['old', []], ['bad', ['need']], ['need', ['bad']], ['ipptrt', ['take']], ['sian', []], ['platoonmate', ['rod']], ['eventually', []], ['also', []], ['years', ['become']], ['floater', []]]\n",
      "['ya', []]\n",
      "['lo', []]\n",
      "['ah', []]\n",
      "['good', ['escape']]\n",
      "['escape', ['good']]\n",
      "['work', []]\n",
      "['maintenanceperiod', []]\n",
      "['years', ['become']]\n",
      "['old', []]\n",
      "['bad', ['need']]\n",
      "['need', ['bad']]\n",
      "['ipptrt', ['take']]\n",
      "['sian', []]\n",
      "['platoonmate', ['rod']]\n",
      "['eventually', []]\n",
      "['also', []]\n",
      "['years', ['become']]\n",
      "['floater', []]\n",
      "Review Number :  343\n"
     ]
    },
    {
     "name": "stderr",
     "output_type": "stream",
     "text": [
      "\r",
      " 10%|████████                                                                       | 344/3390 [03:47<26:14,  1.93it/s]"
     ]
    },
    {
     "name": "stdout",
     "output_type": "stream",
     "text": [
      "[['u', ['done']], ['alrdy', []], ['hw', []], ['many', []], ['cycles', ['done']]]\n",
      "['u', ['done']]\n",
      "['alrdy', []]\n",
      "['hw', []]\n",
      "['many', []]\n",
      "['cycles', ['done']]\n",
      "Review Number :  344\n"
     ]
    },
    {
     "name": "stderr",
     "output_type": "stream",
     "text": [
      "\r",
      " 10%|████████                                                                       | 345/3390 [03:47<22:03,  2.30it/s]"
     ]
    },
    {
     "name": "stdout",
     "output_type": "stream",
     "text": [
      "[['actual', []]]\n",
      "['actual', []]\n",
      "Review Number :  345\n"
     ]
    },
    {
     "name": "stderr",
     "output_type": "stream",
     "text": [
      "\r",
      " 10%|████████                                                                       | 346/3390 [03:48<21:55,  2.31it/s]"
     ]
    },
    {
     "name": "stdout",
     "output_type": "stream",
     "text": [
      "[['cycles', []], ['u', ['left']], ['u', ['left']], ['hw', []], ['many', []], ['yrs', []], ['magic', ['hit']]]\n",
      "['cycles', []]\n",
      "['u', ['left']]\n",
      "['u', ['left']]\n",
      "['hw', []]\n",
      "['many', []]\n",
      "['yrs', []]\n",
      "['magic', ['hit']]\n",
      "Review Number :  346\n",
      "[['wholesome', []], ['years', []]]"
     ]
    },
    {
     "name": "stderr",
     "output_type": "stream",
     "text": [
      "\r",
      " 10%|████████                                                                       | 347/3390 [03:48<18:14,  2.78it/s]"
     ]
    },
    {
     "name": "stdout",
     "output_type": "stream",
     "text": [
      "\n",
      "['wholesome', []]\n",
      "['years', []]\n",
      "Review Number :  347\n"
     ]
    },
    {
     "name": "stderr",
     "output_type": "stream",
     "text": [
      "\r",
      " 10%|████████                                                                       | 348/3390 [03:48<19:20,  2.62it/s]"
     ]
    },
    {
     "name": "stdout",
     "output_type": "stream",
     "text": [
      "[['ok', []], ['lahagar', []], ['agaragar', []], ['u', ['dontdefer']], ['dontdefer', ['u']], ['knots', ['mr']], ['bah', []]]\n",
      "['ok', []]\n",
      "['lahagar', []]\n",
      "['agaragar', []]\n",
      "['u', ['dontdefer']]\n",
      "['dontdefer', ['u']]\n",
      "['knots', ['mr']]\n",
      "['bah', []]\n",
      "Review Number :  348\n"
     ]
    },
    {
     "name": "stderr",
     "output_type": "stream",
     "text": [
      "\r",
      " 10%|████████▏                                                                      | 349/3390 [03:49<22:07,  2.29it/s]"
     ]
    },
    {
     "name": "stdout",
     "output_type": "stream",
     "text": [
      "[['wah', []], ['tough', []], ['eh', []], ['guess', ['i']], ['back', []], ['bad', []], ['sometimes', []]]\n",
      "['wah', []]\n",
      "['tough', []]\n",
      "['eh', []]\n",
      "['guess', ['i']]\n",
      "['back', []]\n",
      "['bad', []]\n",
      "['sometimes', []]\n",
      "Review Number :  349\n"
     ]
    },
    {
     "name": "stderr",
     "output_type": "stream",
     "text": [
      "\r",
      " 10%|████████▏                                                                      | 350/3390 [03:49<21:45,  2.33it/s]"
     ]
    },
    {
     "name": "stdout",
     "output_type": "stream",
     "text": [
      "[['fair', []], ['back', []], ['reservists', []], ['pros', ['got']], ['cons', []]]\n",
      "['fair', []]\n",
      "['back', []]\n",
      "['reservists', []]\n",
      "['pros', ['got']]\n",
      "['cons', []]\n",
      "Review Number :  350\n"
     ]
    },
    {
     "name": "stderr",
     "output_type": "stream",
     "text": [
      "\r",
      " 10%|████████▏                                                                      | 351/3390 [03:50<20:15,  2.50it/s]"
     ]
    },
    {
     "name": "stdout",
     "output_type": "stream",
     "text": [
      "[['know', ['i']], ['r', []], ['pov', []]]\n",
      "['know', ['i']]\n",
      "['r', []]\n",
      "['pov', []]\n",
      "Review Number :  351\n"
     ]
    },
    {
     "name": "stderr",
     "output_type": "stream",
     "text": [
      "\r",
      " 10%|████████▏                                                                      | 352/3390 [03:50<17:34,  2.88it/s]"
     ]
    },
    {
     "name": "stdout",
     "output_type": "stream",
     "text": [
      "[['time', []], ['reservist', []]]\n",
      "['time', []]\n",
      "['reservist', []]\n",
      "Review Number :  352\n",
      "[['u', []], ['white', []], ['horseah', []]]"
     ]
    },
    {
     "name": "stderr",
     "output_type": "stream",
     "text": [
      "\r",
      " 10%|████████▏                                                                      | 353/3390 [03:50<15:11,  3.33it/s]"
     ]
    },
    {
     "name": "stdout",
     "output_type": "stream",
     "text": [
      "\n",
      "['u', []]\n",
      "['white', []]\n",
      "['horseah', []]\n",
      "Review Number :  353\n"
     ]
    },
    {
     "name": "stderr",
     "output_type": "stream",
     "text": [
      "\r",
      " 10%|████████▏                                                                      | 354/3390 [03:51<30:09,  1.68it/s]"
     ]
    },
    {
     "name": "stdout",
     "output_type": "stream",
     "text": [
      "[['hi', []], ['guys', ['questionim']], ['ippt', ['having']], ['thurs', []], ['last', []], ['booking', []], ['window', ['closes']], ['however', []], ['today', []], ['fever', ['have']], ['flu', []], ['recover', []], ['time', []], ['thurs', []], ['pti', ['tell']], ['fail', ['me']]]\n",
      "['hi', []]\n",
      "['guys', ['questionim']]\n",
      "['ippt', ['having']]\n",
      "['thurs', []]\n",
      "['last', []]\n",
      "['booking', []]\n",
      "['window', ['closes']]\n",
      "['however', []]\n",
      "['today', []]\n",
      "['fever', ['have']]\n",
      "['flu', []]\n",
      "['recover', []]\n",
      "['time', []]\n",
      "['thurs', []]\n",
      "['pti', ['tell']]\n",
      "['fail', ['me']]\n",
      "Review Number :  354\n"
     ]
    },
    {
     "name": "stderr",
     "output_type": "stream",
     "text": [
      " 11%|████████▎                                                                      | 356/3390 [03:52<20:25,  2.48it/s]"
     ]
    },
    {
     "name": "stdout",
     "output_type": "stream",
     "text": [
      "[['entercamp', []], ['pt', []], ['attire', []], ['cv', []]]\n",
      "['entercamp', []]\n",
      "['pt', []]\n",
      "['attire', []]\n",
      "['cv', []]\n",
      "Review Number :  355\n",
      "[['yes', []]]\n",
      "['yes', []]\n",
      "Review Number :  356\n"
     ]
    },
    {
     "name": "stderr",
     "output_type": "stream",
     "text": [
      "\r",
      " 11%|████████▎                                                                      | 357/3390 [03:52<25:04,  2.02it/s]"
     ]
    },
    {
     "name": "stdout",
     "output_type": "stream",
     "text": [
      "[['station', ['do']], ['walk', ['you']], ['way', []], ['dont', []], ['complete', []], ['attendance', []]]\n",
      "['station', ['do']]\n",
      "['walk', ['you']]\n",
      "['way', []]\n",
      "['dont', []]\n",
      "['complete', []]\n",
      "['attendance', []]\n",
      "Review Number :  357\n"
     ]
    },
    {
     "name": "stderr",
     "output_type": "stream",
     "text": [
      "\r",
      " 11%|████████▎                                                                      | 358/3390 [03:53<30:12,  1.67it/s]"
     ]
    },
    {
     "name": "stdout",
     "output_type": "stream",
     "text": [
      "[['finish', ['stations']], ['stations', ['finish']], ['otherwise', []], ['attendance', []], ['fail', ['ippt']], ['ippt', ['fail']], ['ur', []], ['attendance', []], ['still', []], ['medical', []], ['grounds', []], ['eg', []], ['cramps', []], ['faintetc', []]]\n",
      "['finish', ['stations']]\n",
      "['stations', ['finish']]\n",
      "['otherwise', []]\n",
      "['attendance', []]\n",
      "['fail', ['ippt']]\n",
      "['ippt', ['fail']]\n",
      "['ur', []]\n",
      "['attendance', []]\n",
      "['still', []]\n",
      "['medical', []]\n",
      "['grounds', []]\n",
      "['eg', []]\n",
      "['cramps', []]\n",
      "['faintetc', []]\n",
      "Review Number :  358\n"
     ]
    },
    {
     "name": "stderr",
     "output_type": "stream",
     "text": [
      "\r",
      " 11%|████████▎                                                                      | 359/3390 [03:54<39:29,  1.28it/s]"
     ]
    },
    {
     "name": "stdout",
     "output_type": "stream",
     "text": [
      "[['attempt', ['you']], ['ippt', []], ['charge', ['they', 'pti']], ['pti', ['charge']], ['u', ['fail', 'got', 'want']], ['stations', ['attempting']], ['rule', ['it']], ['suggestion', ['is']], ['u', ['fail', 'got', 'want']], ['mc', ['got']], ['u', ['fail', 'got', 'want']], ['want', ['u']], ['fail', ['u']], ['sit', ['pushup']], ['pushup', ['sit']], ['attendance', ['get']]]\n",
      "['attempt', ['you']]\n",
      "['ippt', []]\n",
      "['charge', ['they', 'pti']]\n",
      "['pti', ['charge']]\n",
      "['u', ['fail', 'got', 'want']]\n",
      "['stations', ['attempting']]\n",
      "['rule', ['it']]\n",
      "['suggestion', ['is']]\n",
      "['u', ['fail', 'got', 'want']]\n",
      "['mc', ['got']]\n",
      "['u', ['fail', 'got', 'want']]\n",
      "['want', ['u']]\n",
      "['fail', ['u']]\n",
      "['sit', ['pushup']]\n",
      "['pushup', ['sit']]\n",
      "['attendance', ['get']]\n",
      "Review Number :  359\n"
     ]
    },
    {
     "name": "stderr",
     "output_type": "stream",
     "text": [
      "\r",
      " 11%|████████▍                                                                      | 360/3390 [03:55<41:19,  1.22it/s]"
     ]
    },
    {
     "name": "stdout",
     "output_type": "stream",
     "text": [
      "[['producemc', []], ['u', ['supposed', 'have', 'charge']], ['ippt', ['take']], ['u', ['supposed', 'have', 'charge']], ['mc', ['have']], ['past', []], ['days', []], ['unit', ['charge']], ['still', []], ['u', ['supposed', 'have', 'charge']], ['satisfy', ['window']], ['window', ['satisfy']], ['warning', []], ['instead', []]]\n",
      "['producemc', []]\n",
      "['u', ['supposed', 'have', 'charge']]\n",
      "['ippt', ['take']]\n",
      "['u', ['supposed', 'have', 'charge']]\n",
      "['mc', ['have']]\n",
      "['past', []]\n",
      "['days', []]\n",
      "['unit', ['charge']]\n",
      "['still', []]\n",
      "['u', ['supposed', 'have', 'charge']]\n",
      "['satisfy', ['window']]\n",
      "['window', ['satisfy']]\n",
      "['warning', []]\n",
      "['instead', []]\n",
      "Review Number :  360\n"
     ]
    },
    {
     "name": "stderr",
     "output_type": "stream",
     "text": [
      "\r",
      " 11%|████████▍                                                                      | 361/3390 [03:56<33:11,  1.52it/s]"
     ]
    },
    {
     "name": "stdout",
     "output_type": "stream",
     "text": [
      "[['definition', []], ['cv', []], ['long', []], ['pantsjeans', []]]\n",
      "['definition', []]\n",
      "['cv', []]\n",
      "['long', []]\n",
      "['pantsjeans', []]\n",
      "Review Number :  361\n"
     ]
    },
    {
     "name": "stderr",
     "output_type": "stream",
     "text": [
      "\r",
      " 11%|████████▍                                                                      | 362/3390 [03:56<32:39,  1.54it/s]"
     ]
    },
    {
     "name": "stdout",
     "output_type": "stream",
     "text": [
      "[['yes', []], ['n', []], ['slippers', []], ['sandals', []], ['kind', []], ['attire', []], ['u', ['allowed']], ['bookin', []], ['camps', []], ['active', []], ['times', []]]\n",
      "['yes', []]\n",
      "['n', []]\n",
      "['slippers', []]\n",
      "['sandals', []]\n",
      "['kind', []]\n",
      "['attire', []]\n",
      "['u', ['allowed']]\n",
      "['bookin', []]\n",
      "['camps', []]\n",
      "['active', []]\n",
      "['times', []]\n",
      "Review Number :  362\n"
     ]
    },
    {
     "name": "stderr",
     "output_type": "stream",
     "text": [
      "\r",
      " 11%|████████▍                                                                      | 363/3390 [03:57<28:56,  1.74it/s]"
     ]
    },
    {
     "name": "stdout",
     "output_type": "stream",
     "text": [
      "[['pass', ['points', 'need']], ['points', ['pass']], ['incentive', ['got']], ['need', ['pass']], ['pass', ['points', 'need']], ['points', ['pass']], ['nsman', []]]\n",
      "['pass', ['points', 'need']]\n",
      "['points', ['pass']]\n",
      "['incentive', ['got']]\n",
      "['need', ['pass']]\n",
      "['pass', ['points', 'need']]\n",
      "['points', ['pass']]\n",
      "['nsman', []]\n",
      "Review Number :  363\n"
     ]
    },
    {
     "name": "stderr",
     "output_type": "stream",
     "text": [
      "\r",
      " 11%|████████▍                                                                      | 364/3390 [03:57<28:47,  1.75it/s]"
     ]
    },
    {
     "name": "stdout",
     "output_type": "stream",
     "text": [
      "[['money', []], ['pass', []], ['silverannd', []], ['gold', []], ['abovefor', []], ['commando', []], ['guards', []], ['diver', []]]\n",
      "['money', []]\n",
      "['pass', []]\n",
      "['silverannd', []]\n",
      "['gold', []]\n",
      "['abovefor', []]\n",
      "['commando', []]\n",
      "['guards', []]\n",
      "['diver', []]\n",
      "Review Number :  364\n"
     ]
    },
    {
     "name": "stderr",
     "output_type": "stream",
     "text": [
      "\r",
      " 11%|████████▌                                                                      | 365/3390 [03:58<30:36,  1.65it/s]"
     ]
    },
    {
     "name": "stdout",
     "output_type": "stream",
     "text": [
      "[['anyhow', []], ['u', ['go']], ['didnt', []], ['single', []], ['session', []], ['rt', []], ['first', []], ['time', []], ['offense', ['get']], ['next', []], ['window', ['get']], ['charge', []]]\n",
      "['anyhow', []]\n",
      "['u', ['go']]\n",
      "['didnt', []]\n",
      "['single', []]\n",
      "['session', []]\n",
      "['rt', []]\n",
      "['first', []]\n",
      "['time', []]\n",
      "['offense', ['get']]\n",
      "['next', []]\n",
      "['window', ['get']]\n",
      "['charge', []]\n",
      "Review Number :  365\n"
     ]
    },
    {
     "name": "stderr",
     "output_type": "stream",
     "text": [
      "\r",
      " 11%|████████▌                                                                      | 366/3390 [03:59<30:03,  1.68it/s]"
     ]
    },
    {
     "name": "stdout",
     "output_type": "stream",
     "text": [
      "[['dont', []], ['start', ['i', 'cycle']], ['ict', []], ['cycle', ['start']], ['th', []], ['birthday', []], ['mean', ['it']], ['confirm', ['i']], ['ippt', ['do']], ['years', []], ['old', []]]\n",
      "['dont', []]\n",
      "['start', ['i', 'cycle']]\n",
      "['ict', []]\n",
      "['cycle', ['start']]\n",
      "['th', []]\n",
      "['birthday', []]\n",
      "['mean', ['it']]\n",
      "['confirm', ['i']]\n",
      "['ippt', ['do']]\n",
      "['years', []]\n",
      "['old', []]\n",
      "Review Number :  366\n"
     ]
    },
    {
     "name": "stderr",
     "output_type": "stream",
     "text": [
      "\r",
      " 11%|████████▌                                                                      | 367/3390 [03:59<30:46,  1.64it/s]"
     ]
    },
    {
     "name": "stdout",
     "output_type": "stream",
     "text": [
      "[['u', []], ['ipptdefaulter', []], ['accordingly', []], ['eg', []], ['fine', []], ['etc', []]]\n",
      "['u', []]\n",
      "['ipptdefaulter', []]\n",
      "['accordingly', []]\n",
      "['eg', []]\n",
      "['fine', []]\n",
      "['etc', []]\n",
      "Review Number :  367\n"
     ]
    },
    {
     "name": "stderr",
     "output_type": "stream",
     "text": [
      "\r",
      " 11%|████████▌                                                                      | 368/3390 [04:00<30:04,  1.67it/s]"
     ]
    },
    {
     "name": "stdout",
     "output_type": "stream",
     "text": [
      "[['likely', []], ['yes', []], ['high', []], ['chances', []], ['able', ['u']], ['meet', []], ['hklk', []]]\n",
      "['likely', []]\n",
      "['yes', []]\n",
      "['high', []]\n",
      "['chances', []]\n",
      "['able', ['u']]\n",
      "['meet', []]\n",
      "['hklk', []]\n",
      "Review Number :  368\n"
     ]
    },
    {
     "name": "stderr",
     "output_type": "stream",
     "text": [
      "\r",
      " 11%|████████▌                                                                      | 369/3390 [04:00<29:25,  1.71it/s]"
     ]
    },
    {
     "name": "stdout",
     "output_type": "stream",
     "text": [
      "[['yo', []], ['guys', ['hows']], ['hows', ['guys', 'rt']], ['nowadays', []], ['super', []], ['shiong', []], ['mentally', []], ['physically', []]]\n",
      "['yo', []]\n",
      "['guys', ['hows']]\n",
      "['hows', ['guys', 'rt']]\n",
      "['nowadays', []]\n",
      "['super', []]\n",
      "['shiong', []]\n",
      "['mentally', []]\n",
      "['physically', []]\n",
      "Review Number :  369\n"
     ]
    },
    {
     "name": "stderr",
     "output_type": "stream",
     "text": [
      "\r",
      " 11%|████████▌                                                                      | 370/3390 [04:01<27:12,  1.85it/s]"
     ]
    },
    {
     "name": "stdout",
     "output_type": "stream",
     "text": [
      "[['nowadays', []], ['short', []], ['hourexercise', ['h']], ['last', []], ['time', ['h']], ['h', ['hourexercise', 'time']], ['exercise', []]]\n",
      "['nowadays', []]\n",
      "['short', []]\n",
      "['hourexercise', ['h']]\n",
      "['last', []]\n",
      "['time', ['h']]\n",
      "['h', ['hourexercise', 'time']]\n",
      "['exercise', []]\n",
      "Review Number :  370\n"
     ]
    },
    {
     "name": "stderr",
     "output_type": "stream",
     "text": [
      "\r",
      " 11%|████████▋                                                                      | 371/3390 [04:01<24:21,  2.07it/s]"
     ]
    },
    {
     "name": "stdout",
     "output_type": "stream",
     "text": [
      "[['definitely', []], ['shiong', []], ['bmt', []], ['saf', []], ['training', []]]\n",
      "['definitely', []]\n",
      "['shiong', []]\n",
      "['bmt', []]\n",
      "['saf', []]\n",
      "['training', []]\n",
      "Review Number :  371\n"
     ]
    },
    {
     "name": "stderr",
     "output_type": "stream",
     "text": [
      "\r",
      " 11%|████████▋                                                                      | 372/3390 [04:02<29:32,  1.70it/s]"
     ]
    },
    {
     "name": "stdout",
     "output_type": "stream",
     "text": [
      "[['hi', []], ['guys', ['attending']], ['last', []], ['high', []], ['key', ['attending']], ['feb', []], ['rod', []], ['still', []], ['rt', ['attend']], ['year', []], ['birthday', ['falls']], ['alot', []]]\n",
      "['hi', []]\n",
      "['guys', ['attending']]\n",
      "['last', []]\n",
      "['high', []]\n",
      "['key', ['attending']]\n",
      "['feb', []]\n",
      "['rod', []]\n",
      "['still', []]\n",
      "['rt', ['attend']]\n",
      "['year', []]\n",
      "['birthday', ['falls']]\n",
      "['alot', []]\n",
      "Review Number :  372\n"
     ]
    },
    {
     "name": "stderr",
     "output_type": "stream",
     "text": [
      "\r",
      " 11%|████████▋                                                                      | 373/3390 [04:04<55:16,  1.10s/it]"
     ]
    },
    {
     "name": "stdout",
     "output_type": "stream",
     "text": [
      "[['hey', []], ['guys', []], ['recently', []], ['first', []], ['iptippt', []], ['session', ['attended']], ['ipt', []], ['parkprogramme', []], ['programmei', []], ['ask', ['instructors']], ['cisco', []], ['instructors', ['ask']], ['program', []], ['dont', []], ['know', ['they']], ['company', []], ['nsportal', ['seem']], ['also', []], ['maintenance', []], ['anyone', ['has']], ['experience', ['has']], ['programme', ['attending']], ['example', []], ['meet', []], ['bay', []], ['also', []], ['issue', ['they', 'bands']], ['bands', ['issue']], ['generate', ['they', 'slip']], ['slip', ['generate']], ['attendance', []], ['many', []], ['thanks', []]]\n",
      "['hey', []]\n",
      "['guys', []]\n",
      "['recently', []]\n",
      "['first', []]\n",
      "['iptippt', []]\n",
      "['session', ['attended']]\n",
      "['ipt', []]\n",
      "['parkprogramme', []]\n",
      "['programmei', []]\n",
      "['ask', ['instructors']]\n",
      "['cisco', []]\n",
      "['instructors', ['ask']]\n",
      "['program', []]\n",
      "['dont', []]\n",
      "['know', ['they']]\n",
      "['company', []]\n",
      "['nsportal', ['seem']]\n",
      "['also', []]\n",
      "['maintenance', []]\n",
      "['anyone', ['has']]\n",
      "['experience', ['has']]\n",
      "['programme', ['attending']]\n",
      "['example', []]\n",
      "['meet', []]\n",
      "['bay', []]\n",
      "['also', []]\n",
      "['issue', ['they', 'bands']]\n",
      "['bands', ['issue']]\n",
      "['generate', ['they', 'slip']]\n",
      "['slip', ['generate']]\n",
      "['attendance', []]\n",
      "['many', []]\n",
      "['thanks', []]\n",
      "Review Number :  373\n"
     ]
    },
    {
     "name": "stderr",
     "output_type": "stream",
     "text": [
      "\r",
      " 11%|████████▍                                                                    | 374/3390 [04:07<1:20:39,  1.60s/it]"
     ]
    },
    {
     "name": "stdout",
     "output_type": "stream",
     "text": [
      "[['last', []], ['time', ['took']], ['iptinthepark', ['took']], ['regularly', []], ['jurong', []], ['park', []], ['mindef', ['removed']], ['location', ['removed']], ['due', []], ['low', []], ['attendance', ['update']], ['yes', []], ['fitnesscompany', []], ['usually', []], ['meetingpoint', []], ['temperature', ['take']], ['sign', ['attendencelist', 'attendancelist']], ['attendencelist', ['sign']], ['inpro', []], ['colour', []], ['band', ['is']], ['type', ['have']], ['trainingprogramme', []], ['session', []], ['examplecircuit', ['circuittraining']], ['trainingyoga', ['circuittraining']], ['endurance', []], ['etc', []], ['training', []], ['sign', ['attendencelist', 'attendancelist']], ['attendancelist', ['sign']], ['days', []], ['later', []], ['update', ['they', 'attendance']], ['attendance', ['update']], ['nssg', []]]\n",
      "['last', []]\n",
      "['time', ['took']]\n",
      "['iptinthepark', ['took']]\n",
      "['regularly', []]\n",
      "['jurong', []]\n",
      "['park', []]\n",
      "['mindef', ['removed']]\n",
      "['location', ['removed']]\n",
      "['due', []]\n",
      "['low', []]\n",
      "['attendance', ['update']]\n",
      "['yes', []]\n",
      "['fitnesscompany', []]\n",
      "['usually', []]\n",
      "['meetingpoint', []]\n",
      "['temperature', ['take']]\n",
      "['sign', ['attendencelist', 'attendancelist']]\n",
      "['attendencelist', ['sign']]\n",
      "['inpro', []]\n",
      "['colour', []]\n",
      "['band', ['is']]\n",
      "['type', ['have']]\n",
      "['trainingprogramme', []]\n",
      "['session', []]\n",
      "['examplecircuit', ['circuittraining']]\n",
      "['trainingyoga', ['circuittraining']]\n",
      "['endurance', []]\n",
      "['etc', []]\n",
      "['training', []]\n",
      "['sign', ['attendencelist', 'attendancelist']]\n",
      "['attendancelist', ['sign']]\n",
      "['days', []]\n",
      "['later', []]\n",
      "['update', ['they', 'attendance']]\n",
      "['attendance', ['update']]\n",
      "['nssg', []]\n",
      "Review Number :  374\n"
     ]
    },
    {
     "name": "stderr",
     "output_type": "stream",
     "text": [
      "\r",
      " 11%|████████▌                                                                    | 375/3390 [04:08<1:05:01,  1.29s/it]"
     ]
    },
    {
     "name": "stdout",
     "output_type": "stream",
     "text": [
      "[['find', ['i']], ['easier', []], ['earn', ['money']], ['money', ['earn']], ['older', []], ['age', []], ['maybe', []], ['due', []], ['requirements', []], ['sonyz', []], ['gagt', []]]\n",
      "['find', ['i']]\n",
      "['easier', []]\n",
      "['earn', ['money']]\n",
      "['money', ['earn']]\n",
      "['older', []]\n",
      "['age', []]\n",
      "['maybe', []]\n",
      "['due', []]\n",
      "['requirements', []]\n",
      "['sonyz', []]\n",
      "['gagt', []]\n",
      "Review Number :  375\n"
     ]
    },
    {
     "name": "stderr",
     "output_type": "stream",
     "text": [
      "\r",
      " 11%|████████▊                                                                      | 376/3390 [04:08<53:50,  1.07s/it]"
     ]
    },
    {
     "name": "stdout",
     "output_type": "stream",
     "text": [
      "[['hii', ['like']], ['ask', []], ['ippt', ['retake']], ['birthday', []]]\n",
      "['hii', ['like']]\n",
      "['ask', []]\n",
      "['ippt', ['retake']]\n",
      "['birthday', []]\n",
      "Review Number :  376\n"
     ]
    },
    {
     "name": "stderr",
     "output_type": "stream",
     "text": [
      "\r",
      " 11%|████████▊                                                                      | 377/3390 [04:09<45:40,  1.10it/s]"
     ]
    },
    {
     "name": "stdout",
     "output_type": "stream",
     "text": [
      "[['wow', []], ['still', []], ['thats', []], ['quite', []], ['thanks', []], ['alot', []], ['experience', ['sharing']]]\n",
      "['wow', []]\n",
      "['still', []]\n",
      "['thats', []]\n",
      "['quite', []]\n",
      "['thanks', []]\n",
      "['alot', []]\n",
      "['experience', ['sharing']]\n",
      "Review Number :  377\n"
     ]
    },
    {
     "name": "stderr",
     "output_type": "stream",
     "text": [
      " 11%|████████▊                                                                      | 379/3390 [04:09<28:52,  1.74it/s]"
     ]
    },
    {
     "name": "stdout",
     "output_type": "stream",
     "text": [
      "[['still', []], ['complete', ['rt']], ['next', []], ['cycle', []], ['thanks', []]]\n",
      "['still', []]\n",
      "['complete', ['rt']]\n",
      "['next', []]\n",
      "['cycle', []]\n",
      "['thanks', []]\n",
      "Review Number :  378\n",
      "[['definitely', []], ['yes', []]]\n",
      "['definitely', []]\n",
      "['yes', []]\n",
      "Review Number :  379\n"
     ]
    },
    {
     "name": "stderr",
     "output_type": "stream",
     "text": [
      "\r",
      " 11%|████████▊                                                                      | 380/3390 [04:10<32:43,  1.53it/s]"
     ]
    },
    {
     "name": "stdout",
     "output_type": "stream",
     "text": [
      "[['u', ['take', 'are']], ['take', ['u', 'attempts']], ['unlimited', []], ['attempts', ['take']], ['u', ['take', 'are']], ['qualify', []], ['higher', []], ['awardpass', []], ['passw', []], ['incentives', []], ['gold', []], ['u', ['take', 'are']], ['additional', []], ['difference', []]]\n",
      "['u', ['take', 'are']]\n",
      "['take', ['u', 'attempts']]\n",
      "['unlimited', []]\n",
      "['attempts', ['take']]\n",
      "['u', ['take', 'are']]\n",
      "['qualify', []]\n",
      "['higher', []]\n",
      "['awardpass', []]\n",
      "['passw', []]\n",
      "['incentives', []]\n",
      "['gold', []]\n",
      "['u', ['take', 'are']]\n",
      "['additional', []]\n",
      "['difference', []]\n",
      "Review Number :  380\n"
     ]
    },
    {
     "name": "stderr",
     "output_type": "stream",
     "text": [
      "\r",
      " 11%|████████▉                                                                      | 381/3390 [04:12<47:11,  1.06it/s]"
     ]
    },
    {
     "name": "stdout",
     "output_type": "stream",
     "text": [
      "[['right', []], ['mrcycle', []], ['officially', []], ['april', []], ['year', []], ['due', []], ['saf', []], ['therefore', []], ['u', ['attended']], ['actually', []], ['required', []], ['attend', ['rts']], ['rts', ['attend']], ['quite', []], ['lenient', []], ['towards', []], ['cases', []], ['cyclei', []], ['curious', []], ['u', ['attended']], ['many', []], ['ns', []], ['cycles', ['attended']], ['info', []], ['u', ['attended']], ['peers', []], ['commanders', []]]\n",
      "['right', []]\n",
      "['mrcycle', []]\n",
      "['officially', []]\n",
      "['april', []]\n",
      "['year', []]\n",
      "['due', []]\n",
      "['saf', []]\n",
      "['therefore', []]\n",
      "['u', ['attended']]\n",
      "['actually', []]\n",
      "['required', []]\n",
      "['attend', ['rts']]\n",
      "['rts', ['attend']]\n",
      "['quite', []]\n",
      "['lenient', []]\n",
      "['towards', []]\n",
      "['cases', []]\n",
      "['cyclei', []]\n",
      "['curious', []]\n",
      "['u', ['attended']]\n",
      "['many', []]\n",
      "['ns', []]\n",
      "['cycles', ['attended']]\n",
      "['info', []]\n",
      "['u', ['attended']]\n",
      "['peers', []]\n",
      "['commanders', []]\n",
      "Review Number :  381\n"
     ]
    },
    {
     "name": "stderr",
     "output_type": "stream",
     "text": [
      "\r",
      " 11%|████████▉                                                                      | 382/3390 [04:12<41:50,  1.20it/s]"
     ]
    },
    {
     "name": "stdout",
     "output_type": "stream",
     "text": [
      "[['hi', []], ['suppose', []], ['im', ['required']], ['rt', ['take']], ['next', []], ['window', []], ['ippt', ['do']], ['next', []], ['window', []], ['well', []]]\n",
      "['hi', []]\n",
      "['suppose', []]\n",
      "['im', ['required']]\n",
      "['rt', ['take']]\n",
      "['next', []]\n",
      "['window', []]\n",
      "['ippt', ['do']]\n",
      "['next', []]\n",
      "['window', []]\n",
      "['well', []]\n",
      "Review Number :  382\n"
     ]
    },
    {
     "name": "stderr",
     "output_type": "stream",
     "text": [
      "\r",
      " 11%|████████▉                                                                      | 383/3390 [04:13<46:31,  1.08it/s]"
     ]
    },
    {
     "name": "stdout",
     "output_type": "stream",
     "text": [
      "[['rtippt', ['be']], ['rt', []], ['sessions', []], ['note', ['take']], ['book', ['you', 'nonictippt']], ['separate', []], ['nonictippt', ['book']], ['u', ['program', 'take']], ['rt', []], ['program', ['u']], ['u', ['program', 'take']], ['ictippt', ['take']], ['ict', []], ['window', []], ['u', ['program', 'take']], ['pass', ['provided']]]\n",
      "['rtippt', ['be']]\n",
      "['rt', []]\n",
      "['sessions', []]\n",
      "['note', ['take']]\n",
      "['book', ['you', 'nonictippt']]\n",
      "['separate', []]\n",
      "['nonictippt', ['book']]\n",
      "['u', ['program', 'take']]\n",
      "['rt', []]\n",
      "['program', ['u']]\n",
      "['u', ['program', 'take']]\n",
      "['ictippt', ['take']]\n",
      "['ict', []]\n",
      "['window', []]\n",
      "['u', ['program', 'take']]\n",
      "['pass', ['provided']]\n",
      "Review Number :  383\n"
     ]
    },
    {
     "name": "stderr",
     "output_type": "stream",
     "text": [
      "\r",
      " 11%|████████▉                                                                      | 384/3390 [04:14<43:54,  1.14it/s]"
     ]
    },
    {
     "name": "stdout",
     "output_type": "stream",
     "text": [
      "[['hi', []], ['thanks', []], ['fail', ['i', 'rtippt']], ['rtippt', ['fail']], ['clear', ['i', 'session']], ['session', ['clear']], ['rt', ['do']], ['rt', ['do']], ['next', []], ['window', []]]\n",
      "['hi', []]\n",
      "['thanks', []]\n",
      "['fail', ['i', 'rtippt']]\n",
      "['rtippt', ['fail']]\n",
      "['clear', ['i', 'session']]\n",
      "['session', ['clear']]\n",
      "['rt', ['do']]\n",
      "['rt', ['do']]\n",
      "['next', []]\n",
      "['window', []]\n",
      "Review Number :  384\n"
     ]
    },
    {
     "name": "stderr",
     "output_type": "stream",
     "text": [
      "\r",
      " 11%|████████▉                                                                      | 385/3390 [04:15<47:46,  1.05it/s]"
     ]
    },
    {
     "name": "stdout",
     "output_type": "stream",
     "text": [
      "[['similar', []], ['ipt', []], ['long', []], ['u', ['attended', 'choose']], ['requirenumber', ['attended']], ['sessions', ['do']], ['window', ['new', 'clear']], ['next', []], ['window', ['new', 'clear']], ['new', ['window']], ['u', ['attended', 'choose']], ['choose', ['u']], ['ipt', []], ['sessions', ['do']], ['passippt', []]]\n",
      "['similar', []]\n",
      "['ipt', []]\n",
      "['long', []]\n",
      "['u', ['attended', 'choose']]\n",
      "['requirenumber', ['attended']]\n",
      "['sessions', ['do']]\n",
      "['window', ['new', 'clear']]\n",
      "['next', []]\n",
      "['window', ['new', 'clear']]\n",
      "['new', ['window']]\n",
      "['u', ['attended', 'choose']]\n",
      "['choose', ['u']]\n",
      "['ipt', []]\n",
      "['sessions', ['do']]\n",
      "['passippt', []]\n",
      "Review Number :  385\n"
     ]
    },
    {
     "name": "stderr",
     "output_type": "stream",
     "text": [
      "\r",
      " 11%|████████▉                                                                      | 386/3390 [04:17<56:47,  1.13s/it]"
     ]
    },
    {
     "name": "stdout",
     "output_type": "stream",
     "text": [
      "[['guys', ['mind']], ['mind', ['guys', 'me']], ['drive', ['i']], ['khatib', []], ['camp', []], ['ippt', ['take']], ['yes', []], ['carpark', ['where']], ['hows', ['process']], ['process', ['hows']], ['go', []], ['car', []], ['report', []], ['guard', ['house']], ['house', ['guard']], ['change', ['pass']], ['pass', ['change']], ['anyone', []], ['drive', ['i']], ['experiencethank', []]]\n",
      "['guys', ['mind']]\n",
      "['mind', ['guys', 'me']]\n",
      "['drive', ['i']]\n",
      "['khatib', []]\n",
      "['camp', []]\n",
      "['ippt', ['take']]\n",
      "['yes', []]\n",
      "['carpark', ['where']]\n",
      "['hows', ['process']]\n",
      "['process', ['hows']]\n",
      "['go', []]\n",
      "['car', []]\n",
      "['report', []]\n",
      "['guard', ['house']]\n",
      "['house', ['guard']]\n",
      "['change', ['pass']]\n",
      "['pass', ['change']]\n",
      "['anyone', []]\n",
      "['drive', ['i']]\n",
      "['experiencethank', []]\n",
      "Review Number :  386\n"
     ]
    },
    {
     "name": "stderr",
     "output_type": "stream",
     "text": [
      "\r",
      " 11%|█████████                                                                      | 387/3390 [04:18<50:25,  1.01s/it]"
     ]
    },
    {
     "name": "stdout",
     "output_type": "stream",
     "text": [
      "[['idea', ['block']], ['failed', ['i']], ['turn', []], ['ippt', []], ['booking', []], ['hearsaymiss', []], ['times', []], ['system', ['block']], ['block', ['idea', 'system', 'you']], ['unblock', []]]\n",
      "['idea', ['block']]\n",
      "['failed', ['i']]\n",
      "['turn', []]\n",
      "['ippt', []]\n",
      "['booking', []]\n",
      "['hearsaymiss', []]\n",
      "['times', []]\n",
      "['system', ['block']]\n",
      "['block', ['idea', 'system', 'you']]\n",
      "['unblock', []]\n",
      "Review Number :  387\n"
     ]
    },
    {
     "name": "stderr",
     "output_type": "stream",
     "text": [
      "\r",
      " 11%|█████████                                                                      | 388/3390 [04:18<44:10,  1.13it/s]"
     ]
    },
    {
     "name": "stdout",
     "output_type": "stream",
     "text": [
      "[['rtipt', ['have']], ['still', []], ['brown', []], ['tag', []], ['mmaspinaerobic', []], ['classdamn', []], ['damnfun', ['which']], ['funleh', []]]\n",
      "['rtipt', ['have']]\n",
      "['still', []]\n",
      "['brown', []]\n",
      "['tag', []]\n",
      "['mmaspinaerobic', []]\n",
      "['classdamn', []]\n",
      "['damnfun', ['which']]\n",
      "['funleh', []]\n",
      "Review Number :  388\n"
     ]
    },
    {
     "name": "stderr",
     "output_type": "stream",
     "text": [
      "\r",
      " 11%|█████████                                                                      | 389/3390 [04:19<51:09,  1.02s/it]"
     ]
    },
    {
     "name": "stdout",
     "output_type": "stream",
     "text": [
      "[['drive', []], ['checkpoint', []], ['guardroom', []], ['pass', ['ic']], ['ur', []], ['ic', ['pass']], ['check', ['them', 'roll']], ['nominal', []], ['roll', ['check']], ['ur', []], ['name', ['is']], ['carpark', ['area']], ['open', []], ['area', ['carpark']], ['fccu', []], ['ask', ['checkpointic']], ['checkpointic', ['ask']], ['doubt', []], ['lastly', []], ['inpro', []], ['fcccounter', []], ['ur', []]]\n",
      "['drive', []]\n",
      "['checkpoint', []]\n",
      "['guardroom', []]\n",
      "['pass', ['ic']]\n",
      "['ur', []]\n",
      "['ic', ['pass']]\n",
      "['check', ['them', 'roll']]\n",
      "['nominal', []]\n",
      "['roll', ['check']]\n",
      "['ur', []]\n",
      "['name', ['is']]\n",
      "['carpark', ['area']]\n",
      "['open', []]\n",
      "['area', ['carpark']]\n",
      "['fccu', []]\n",
      "['ask', ['checkpointic']]\n",
      "['checkpointic', ['ask']]\n",
      "['doubt', []]\n",
      "['lastly', []]\n",
      "['inpro', []]\n",
      "['fcccounter', []]\n",
      "['ur', []]\n",
      "Review Number :  389\n"
     ]
    },
    {
     "name": "stderr",
     "output_type": "stream",
     "text": [
      "\r",
      " 12%|█████████                                                                      | 390/3390 [04:20<42:49,  1.17it/s]"
     ]
    },
    {
     "name": "stdout",
     "output_type": "stream",
     "text": [
      "[['u', ['have', 'rt']], ['ipt', []], ['sessions', ['have']], ['info', ['find']], ['session', []], ['u', ['have', 'rt']], ['rt', ['u']]]\n",
      "['u', ['have', 'rt']]\n",
      "['ipt', []]\n",
      "['sessions', ['have']]\n",
      "['info', ['find']]\n",
      "['session', []]\n",
      "['u', ['have', 'rt']]\n",
      "['rt', ['u']]\n",
      "Review Number :  390\n"
     ]
    },
    {
     "name": "stderr",
     "output_type": "stream",
     "text": [
      "\r",
      " 12%|█████████                                                                      | 391/3390 [04:20<38:06,  1.31it/s]"
     ]
    },
    {
     "name": "stdout",
     "output_type": "stream",
     "text": [
      "[['mr', ['i']], ['june', []], ['window', ['closes']], ['closes', ['window']], ['still', []], ['complete', ['rt']], ['rt', ['complete']]]\n",
      "['mr', ['i']]\n",
      "['june', []]\n",
      "['window', ['closes']]\n",
      "['closes', ['window']]\n",
      "['still', []]\n",
      "['complete', ['rt']]\n",
      "['rt', ['complete']]\n",
      "Review Number :  391\n"
     ]
    },
    {
     "name": "stderr",
     "output_type": "stream",
     "text": [
      "\r",
      " 12%|█████████▏                                                                     | 392/3390 [04:21<38:09,  1.31it/s]"
     ]
    },
    {
     "name": "stdout",
     "output_type": "stream",
     "text": [
      "[['book', []], ['whats', ['myself', 'point']], ['point', ['whats']], ['windowisnt', []], ['yet', []], ['dont', []], ['anything', ['have']], ['useful', []], ['post', []]]\n",
      "['book', []]\n",
      "['whats', ['myself', 'point']]\n",
      "['point', ['whats']]\n",
      "['windowisnt', []]\n",
      "['yet', []]\n",
      "['dont', []]\n",
      "['anything', ['have']]\n",
      "['useful', []]\n",
      "['post', []]\n",
      "Review Number :  392\n"
     ]
    },
    {
     "name": "stderr",
     "output_type": "stream",
     "text": [
      "\r",
      " 12%|█████████▏                                                                     | 393/3390 [04:22<43:26,  1.15it/s]"
     ]
    },
    {
     "name": "stdout",
     "output_type": "stream",
     "text": [
      "[['guys', ['kena']], ['summary', []], ['trial', ['kena']], ['ipptiptrt', ['attending']], ['however', []], ['im', []], ['permexcuse', []], ['excusermj', []], ['impossible', ['which']], ['ippt', ['do']], ['due', []], ['medical', []], ['issue', []], ['anyone', []], ['similar', []], ['situation', []], ['deal', ['you']]]\n",
      "['guys', ['kena']]\n",
      "['summary', []]\n",
      "['trial', ['kena']]\n",
      "['ipptiptrt', ['attending']]\n",
      "['however', []]\n",
      "['im', []]\n",
      "['permexcuse', []]\n",
      "['excusermj', []]\n",
      "['impossible', ['which']]\n",
      "['ippt', ['do']]\n",
      "['due', []]\n",
      "['medical', []]\n",
      "['issue', []]\n",
      "['anyone', []]\n",
      "['similar', []]\n",
      "['situation', []]\n",
      "['deal', ['you']]\n",
      "Review Number :  393\n"
     ]
    },
    {
     "name": "stderr",
     "output_type": "stream",
     "text": [
      "\r",
      " 12%|████████▉                                                                    | 394/3390 [04:25<1:03:04,  1.26s/it]"
     ]
    },
    {
     "name": "stdout",
     "output_type": "stream",
     "text": [
      "[['point', ['is']], ['exempt', ['you']], ['ipptiptrt', []], ['still', []], ['attend', ['activities']], ['activities', ['attend']], ['determine', []], ['spot', []], ['attendance', ['mark']], ['home', []], ['even', []], ['time', []], ['case', ['consider']], ['awoli', ['recommend']], ['recommend', ['awoli', 'you']], ['sound', []], ['judgementstatement', []], ['documents', ['supporting']], ['summary', []], ['trial', []], ['offencei', ['been']], ['never', []], ['situation', []], ['cant', []], ['advice', ['you']], ['much', []]]\n",
      "['point', ['is']]\n",
      "['exempt', ['you']]\n",
      "['ipptiptrt', []]\n",
      "['still', []]\n",
      "['attend', ['activities']]\n",
      "['activities', ['attend']]\n",
      "['determine', []]\n",
      "['spot', []]\n",
      "['attendance', ['mark']]\n",
      "['home', []]\n",
      "['even', []]\n",
      "['time', []]\n",
      "['case', ['consider']]\n",
      "['awoli', ['recommend']]\n",
      "['recommend', ['awoli', 'you']]\n",
      "['sound', []]\n",
      "['judgementstatement', []]\n",
      "['documents', ['supporting']]\n",
      "['summary', []]\n",
      "['trial', []]\n",
      "['offencei', ['been']]\n",
      "['never', []]\n",
      "['situation', []]\n",
      "['cant', []]\n",
      "['advice', ['you']]\n",
      "['much', []]\n",
      "Review Number :  394\n"
     ]
    },
    {
     "name": "stderr",
     "output_type": "stream",
     "text": [
      "\r",
      " 12%|████████▉                                                                    | 395/3390 [04:26<1:07:49,  1.36s/it]"
     ]
    },
    {
     "name": "stdout",
     "output_type": "stream",
     "text": [
      "[['reach', ['you', 'age']], ['age', ['reach']], ['cant', []], ['mr', ['you']], ['june', ['ict']], ['last', []], ['ict', ['june']], ['june', ['ict']], ['mr', ['you']], ['st', []], ['april', []], ['year', []], ['need', ['you']], ['complete', ['rt']], ['rt', ['complete']], ['chance', ['take']], ['chargeletter', ['comes']], ['st', []], ['april', []], ['free', ['you']], ['face', ['charge']], ['charge', ['face']], ['mr', ['you']]]\n",
      "['reach', ['you', 'age']]\n",
      "['age', ['reach']]\n",
      "['cant', []]\n",
      "['mr', ['you']]\n",
      "['june', ['ict']]\n",
      "['last', []]\n",
      "['ict', ['june']]\n",
      "['june', ['ict']]\n",
      "['mr', ['you']]\n",
      "['st', []]\n",
      "['april', []]\n",
      "['year', []]\n",
      "['need', ['you']]\n",
      "['complete', ['rt']]\n",
      "['rt', ['complete']]\n",
      "['chance', ['take']]\n",
      "['chargeletter', ['comes']]\n",
      "['st', []]\n",
      "['april', []]\n",
      "['free', ['you']]\n",
      "['face', ['charge']]\n",
      "['charge', ['face']]\n",
      "['mr', ['you']]\n",
      "Review Number :  395\n"
     ]
    },
    {
     "name": "stderr",
     "output_type": "stream",
     "text": [
      "\r",
      " 12%|█████████▏                                                                     | 396/3390 [04:26<52:23,  1.05s/it]"
     ]
    },
    {
     "name": "stdout",
     "output_type": "stream",
     "text": [
      "[['point', ['is']], ['rush', ['is']], ['answer', ['getting']]]\n",
      "['point', ['is']]\n",
      "['rush', ['is']]\n",
      "['answer', ['getting']]\n",
      "Review Number :  396\n"
     ]
    },
    {
     "name": "stderr",
     "output_type": "stream",
     "text": [
      "\r",
      " 12%|█████████▎                                                                     | 397/3390 [04:27<43:46,  1.14it/s]"
     ]
    },
    {
     "name": "stdout",
     "output_type": "stream",
     "text": [
      "[['many', []], ['times', ['retake']], ['first', []], ['ippt', []]]\n",
      "['many', []]\n",
      "['times', ['retake']]\n",
      "['first', []]\n",
      "['ippt', []]\n",
      "Review Number :  397\n"
     ]
    },
    {
     "name": "stderr",
     "output_type": "stream",
     "text": [
      "\r",
      " 12%|█████████▎                                                                     | 398/3390 [04:28<43:14,  1.15it/s]"
     ]
    },
    {
     "name": "stdout",
     "output_type": "stream",
     "text": [
      "[['huh', []], ['year', []], ['mrceremony', ['thought']], ['yeari', ['thought']], ['mr', ['get']], ['ceremony', []], ['get', ['mr', 'cert']], ['cert', ['get']], ['liao', ['wait']], ['still', []], ['till', []], ['sia', []]]\n",
      "['huh', []]\n",
      "['year', []]\n",
      "['mrceremony', ['thought']]\n",
      "['yeari', ['thought']]\n",
      "['mr', ['get']]\n",
      "['ceremony', []]\n",
      "['get', ['mr', 'cert']]\n",
      "['cert', ['get']]\n",
      "['liao', ['wait']]\n",
      "['still', []]\n",
      "['till', []]\n",
      "['sia', []]\n",
      "Review Number :  398\n"
     ]
    },
    {
     "name": "stderr",
     "output_type": "stream",
     "text": [
      "\r",
      " 12%|█████████▎                                                                     | 399/3390 [04:28<36:12,  1.38it/s]"
     ]
    },
    {
     "name": "stdout",
     "output_type": "stream",
     "text": [
      "[['safwork', []], ['workyear', ['starts']], ['stapr', []], ['ends', []]]\n",
      "['safwork', []]\n",
      "['workyear', ['starts']]\n",
      "['stapr', []]\n",
      "['ends', []]\n",
      "Review Number :  399\n"
     ]
    },
    {
     "name": "stderr",
     "output_type": "stream",
     "text": [
      "\r",
      " 12%|█████████▎                                                                     | 400/3390 [04:30<48:17,  1.03it/s]"
     ]
    },
    {
     "name": "stdout",
     "output_type": "stream",
     "text": [
      "[['qn', ['have']], ['ipptsession', ['booked']], ['sessiontoday', []], ['well', []], ['ns', []], ['portal', ['down']], ['maintenance', []], ['also', []], ['cant', []], ['book', ['i', 'session', 'session']], ['session', ['book', 'book']], ['yet', []], ['penalised', []], ['prob', []], ['book', ['i', 'session', 'session']], ['session', ['book', 'book']], ['window', ['closes']], ['closes', ['window']], ['also', []], ['latenov', ['ord']], ['currently', []], ['st', []], ['year', []]]\n",
      "['qn', ['have']]\n",
      "['ipptsession', ['booked']]\n",
      "['sessiontoday', []]\n",
      "['well', []]\n",
      "['ns', []]\n",
      "['portal', ['down']]\n",
      "['maintenance', []]\n",
      "['also', []]\n",
      "['cant', []]\n",
      "['book', ['i', 'session', 'session']]\n",
      "['session', ['book', 'book']]\n",
      "['yet', []]\n",
      "['penalised', []]\n",
      "['prob', []]\n",
      "['book', ['i', 'session', 'session']]\n",
      "['session', ['book', 'book']]\n",
      "['window', ['closes']]\n",
      "['closes', ['window']]\n",
      "['also', []]\n",
      "['latenov', ['ord']]\n",
      "['currently', []]\n",
      "['st', []]\n",
      "['year', []]\n",
      "Review Number :  400\n"
     ]
    },
    {
     "name": "stderr",
     "output_type": "stream",
     "text": [
      "\r",
      " 12%|█████████▎                                                                     | 401/3390 [04:30<37:36,  1.32it/s]"
     ]
    },
    {
     "name": "stdout",
     "output_type": "stream",
     "text": [
      "[['november', []], ['first', []], ['birthday', []]]\n",
      "['november', []]\n",
      "['first', []]\n",
      "['birthday', []]\n",
      "Review Number :  401\n"
     ]
    },
    {
     "name": "stderr",
     "output_type": "stream",
     "text": [
      "\r",
      " 12%|█████████▎                                                                     | 402/3390 [04:31<45:07,  1.10it/s]"
     ]
    },
    {
     "name": "stdout",
     "output_type": "stream",
     "text": [
      "[['kindsoul', []], ['soulpls', []], ['plshelp', []], ['answer', ['this']], ['iptippt', ['booked']], ['next', []], ['week', []], ['book', ['i', 'sessioncos']], ['sessioncos', ['book']], ['cosi', []], ['booking', ['session']], ['whole', []], ['session', ['booking']], ['short', []], ['system', ['allow', 'changed']], ['long', []], ['never', []], ['ipt', ['take']], ['system', ['allow', 'changed']]]\n",
      "['kindsoul', []]\n",
      "['soulpls', []]\n",
      "['plshelp', []]\n",
      "['answer', ['this']]\n",
      "['iptippt', ['booked']]\n",
      "['next', []]\n",
      "['week', []]\n",
      "['book', ['i', 'sessioncos']]\n",
      "['sessioncos', ['book']]\n",
      "['cosi', []]\n",
      "['booking', ['session']]\n",
      "['whole', []]\n",
      "['session', ['booking']]\n",
      "['short', []]\n",
      "['system', ['allow', 'changed']]\n",
      "['long', []]\n",
      "['never', []]\n",
      "['ipt', ['take']]\n",
      "['system', ['allow', 'changed']]\n",
      "Review Number :  402\n"
     ]
    },
    {
     "name": "stderr",
     "output_type": "stream",
     "text": [
      "\r",
      " 12%|█████████▍                                                                     | 403/3390 [04:32<40:51,  1.22it/s]"
     ]
    },
    {
     "name": "stdout",
     "output_type": "stream",
     "text": [
      "[['hi', []], ['brothers', ['knw']], ['area', ['report']], ['report', ['area']], ['ipt', []], ['bishanamk', []], ['first', []], ['time', []], ['ippt', ['doing']], ['park', []], ['thanks', []]]\n",
      "['hi', []]\n",
      "['brothers', ['knw']]\n",
      "['area', ['report']]\n",
      "['report', ['area']]\n",
      "['ipt', []]\n",
      "['bishanamk', []]\n",
      "['first', []]\n",
      "['time', []]\n",
      "['ippt', ['doing']]\n",
      "['park', []]\n",
      "['thanks', []]\n",
      "Review Number :  403\n"
     ]
    },
    {
     "name": "stderr",
     "output_type": "stream",
     "text": [
      "\r",
      " 12%|█████████▏                                                                   | 404/3390 [04:35<1:17:07,  1.55s/it]"
     ]
    },
    {
     "name": "stdout",
     "output_type": "stream",
     "text": [
      "[['sorry', []], ['brou', ['got']], ['still', []], ['ippt', ['do']], ['u', ['got']], ['also', []], ['temp', []], ['excuse', ['i', 'i']], ['rmj', []], ['due', []], ['back', []], ['problem', []], ['ns', []], ['hotline', ['called']], ['refer', ['case']], ['case', ['refer']], ['cso', []], ['back', []], ['im', []], ['still', []], ['liable', []], ['ippt', ['do']], ['wasnt', []], ['excuse', ['i', 'i']], ['ipptiptrt', []], ['mo', ['see', 'see']], ['n', []], ['discuss', ['statusi']], ['statusi', ['discuss']], ['wtf', []], ['gv', ['me']], ['rmj', []], ['n', []], ['bt', ['do', 'reprimand']], ['sadly', []], ['kena', []], ['also', []], ['dont', []], ['wan', []], ['narisk', ['i', 'it']], ['cos', []], ['still', []], ['ipt', ['perform']], ['way', []], ['rt', []], ['advice', []], ['u', ['got']], ['see', ['mo', 'specialist', 'mo']], ['ur', []], ['specialist', ['see']], ['lettern', []], ['trialexplain', []], ['ur', []], ['condition', ['talk']], ['talk', ['condition']], ['nicely', []], ['n', []], ['maybe', []], ['u', ['got']], ['bt', ['do', 'reprimand']], ['u', ['got']], ['really', []], ['legit', []], ['medical', []], ['problembook', ['got']], ['medical', []], ['appointment', ['got']], ['see', ['mo', 'specialist', 'mo']], ['mo', ['see', 'see']], ['medical', []], ['review', []]]\n",
      "['sorry', []]\n",
      "['brou', ['got']]\n",
      "['still', []]\n",
      "['ippt', ['do']]\n",
      "['u', ['got']]\n",
      "['also', []]\n",
      "['temp', []]\n",
      "['excuse', ['i', 'i']]\n",
      "['rmj', []]\n",
      "['due', []]\n",
      "['back', []]\n",
      "['problem', []]\n",
      "['ns', []]\n",
      "['hotline', ['called']]\n",
      "['refer', ['case']]\n",
      "['case', ['refer']]\n",
      "['cso', []]\n",
      "['back', []]\n",
      "['im', []]\n",
      "['still', []]\n",
      "['liable', []]\n",
      "['ippt', ['do']]\n",
      "['wasnt', []]\n",
      "['excuse', ['i', 'i']]\n",
      "['ipptiptrt', []]\n",
      "['mo', ['see', 'see']]\n",
      "['n', []]\n",
      "['discuss', ['statusi']]\n",
      "['statusi', ['discuss']]\n",
      "['wtf', []]\n",
      "['gv', ['me']]\n",
      "['rmj', []]\n",
      "['n', []]\n",
      "['bt', ['do', 'reprimand']]\n",
      "['sadly', []]\n",
      "['kena', []]\n",
      "['also', []]\n",
      "['dont', []]\n",
      "['wan', []]\n",
      "['narisk', ['i', 'it']]\n",
      "['cos', []]\n",
      "['still', []]\n",
      "['ipt', ['perform']]\n",
      "['way', []]\n",
      "['rt', []]\n",
      "['advice', []]\n",
      "['u', ['got']]\n",
      "['see', ['mo', 'specialist', 'mo']]\n",
      "['ur', []]\n",
      "['specialist', ['see']]\n",
      "['lettern', []]\n",
      "['trialexplain', []]\n",
      "['ur', []]\n",
      "['condition', ['talk']]\n",
      "['talk', ['condition']]\n",
      "['nicely', []]\n",
      "['n', []]\n",
      "['maybe', []]\n",
      "['u', ['got']]\n",
      "['bt', ['do', 'reprimand']]\n",
      "['u', ['got']]\n",
      "['really', []]\n",
      "['legit', []]\n",
      "['medical', []]\n",
      "['problembook', ['got']]\n",
      "['medical', []]\n",
      "['appointment', ['got']]\n",
      "['see', ['mo', 'specialist', 'mo']]\n",
      "['mo', ['see', 'see']]\n",
      "['medical', []]\n",
      "['review', []]\n",
      "Review Number :  404\n"
     ]
    },
    {
     "name": "stderr",
     "output_type": "stream",
     "text": [
      " 12%|█████████▍                                                                     | 406/3390 [04:36<50:40,  1.02s/it]"
     ]
    },
    {
     "name": "stdout",
     "output_type": "stream",
     "text": [
      "[['hii', ['going']], ['rt', ['where']], ['causei', ['get']], ['previous', []], ['ippt', []], ['first', []], ['timert', ['fail']], ['rt', ['where']], ['hougang', []], ['time', []], ['usually', []], ['bringdo', []], ['sorry', []], ['noob', []], ['question', []]]\n",
      "['hii', ['going']]\n",
      "['rt', ['where']]\n",
      "['causei', ['get']]\n",
      "['previous', []]\n",
      "['ippt', []]\n",
      "['first', []]\n",
      "['timert', ['fail']]\n",
      "['rt', ['where']]\n",
      "['hougang', []]\n",
      "['time', []]\n",
      "['usually', []]\n",
      "['bringdo', []]\n",
      "['sorry', []]\n",
      "['noob', []]\n",
      "['question', []]\n",
      "Review Number :  405\n",
      "[['thanks', []]]\n",
      "['thanks', []]\n",
      "Review Number :  406\n"
     ]
    },
    {
     "name": "stderr",
     "output_type": "stream",
     "text": [
      "\r",
      " 12%|█████████▍                                                                     | 407/3390 [04:37<44:56,  1.11it/s]"
     ]
    },
    {
     "name": "stdout",
     "output_type": "stream",
     "text": [
      "[['forgotten', []], ['sure', []], ['u', ['have']], ['sms', []], ['notification', ['have']], ['phone', []], ['case', []], ['name', ['roll']], ['nominal', []], ['roll', ['name']]]\n",
      "['forgotten', []]\n",
      "['sure', []]\n",
      "['u', ['have']]\n",
      "['sms', []]\n",
      "['notification', ['have']]\n",
      "['phone', []]\n",
      "['case', []]\n",
      "['name', ['roll']]\n",
      "['nominal', []]\n",
      "['roll', ['name']]\n",
      "Review Number :  407\n"
     ]
    },
    {
     "name": "stderr",
     "output_type": "stream",
     "text": [
      "\r",
      " 12%|█████████▎                                                                   | 408/3390 [04:39<1:02:38,  1.26s/it]"
     ]
    },
    {
     "name": "stdout",
     "output_type": "stream",
     "text": [
      "[['fcc', ['list']], ['rt', []], ['khartib', []], ['list', ['fcc']], ['rt', []], ['venues', []], ['bookingpage', []], ['bookingpage', []], ['show', []], ['u', ['choose', 'considers']], ['session', []], ['timings', ['ptattire']], ['fcc', ['list']], ['slipperssandals', []], ['campactivity', []], ['activitywise', []], ['normal', []], ['physical', []], ['training', []], ['u', ['choose', 'considers']], ['various', []], ['kinds', []], ['red', []], ['tag', ['green']], ['games', ['running']], ['tag', ['green']], ['cardiostatics', []], ['blue', []], ['bmi', ['considers']], ['considers', ['bmi', 'u']], ['u', ['choose', 'considers']], ['overweight', []], ['tag', ['green']], ['standard', []], ['green', ['tag']]]\n",
      "['fcc', ['list']]\n",
      "['rt', []]\n",
      "['khartib', []]\n",
      "['list', ['fcc']]\n",
      "['rt', []]\n",
      "['venues', []]\n",
      "['bookingpage', []]\n",
      "['bookingpage', []]\n",
      "['show', []]\n",
      "['u', ['choose', 'considers']]\n",
      "['session', []]\n",
      "['timings', ['ptattire']]\n",
      "['fcc', ['list']]\n",
      "['slipperssandals', []]\n",
      "['campactivity', []]\n",
      "['activitywise', []]\n",
      "['normal', []]\n",
      "['physical', []]\n",
      "['training', []]\n",
      "['u', ['choose', 'considers']]\n",
      "['various', []]\n",
      "['kinds', []]\n",
      "['red', []]\n",
      "['tag', ['green']]\n",
      "['games', ['running']]\n",
      "['tag', ['green']]\n",
      "['cardiostatics', []]\n",
      "['blue', []]\n",
      "['bmi', ['considers']]\n",
      "['considers', ['bmi', 'u']]\n",
      "['u', ['choose', 'considers']]\n",
      "['overweight', []]\n",
      "['tag', ['green']]\n",
      "['standard', []]\n",
      "['green', ['tag']]\n",
      "Review Number :  408\n"
     ]
    },
    {
     "name": "stderr",
     "output_type": "stream",
     "text": [
      "\r",
      " 12%|█████████▌                                                                     | 409/3390 [04:40<56:03,  1.13s/it]"
     ]
    },
    {
     "name": "stdout",
     "output_type": "stream",
     "text": [
      "[['thank', ['you']], ['call', ['i', 'hotline']], ['ns', []], ['hotline', ['call']], ['check', []], ['timeslot', []], ['wonder', ['i']], ['end', ['i', 'work']], ['work', ['end']], ['tanjong', []], ['pagar', ['reach']], ['reach', ['pagar']], ['time', []], ['public', []], ['transport', []]]\n",
      "['thank', ['you']]\n",
      "['call', ['i', 'hotline']]\n",
      "['ns', []]\n",
      "['hotline', ['call']]\n",
      "['check', []]\n",
      "['timeslot', []]\n",
      "['wonder', ['i']]\n",
      "['end', ['i', 'work']]\n",
      "['work', ['end']]\n",
      "['tanjong', []]\n",
      "['pagar', ['reach']]\n",
      "['reach', ['pagar']]\n",
      "['time', []]\n",
      "['public', []]\n",
      "['transport', []]\n",
      "Review Number :  409\n"
     ]
    },
    {
     "name": "stderr",
     "output_type": "stream",
     "text": [
      "\r",
      " 12%|█████████▌                                                                     | 410/3390 [04:40<44:20,  1.12it/s]"
     ]
    },
    {
     "name": "stdout",
     "output_type": "stream",
     "text": [
      "[['case', []], ['u', ['go']], ['maju', []], ['instead', []]]\n",
      "['case', []]\n",
      "['u', ['go']]\n",
      "['maju', []]\n",
      "['instead', []]\n",
      "Review Number :  410\n"
     ]
    },
    {
     "name": "stderr",
     "output_type": "stream",
     "text": [
      "\r",
      " 12%|█████████▌                                                                     | 411/3390 [04:41<45:15,  1.10it/s]"
     ]
    },
    {
     "name": "stdout",
     "output_type": "stream",
     "text": [
      "[['hi', []], ['advice', []], ['last', []], ['ict', ['june']], ['june', ['ict']], ['mr', ['apr']], ['clear', ['ippt']], ['ippt', ['clear']], ['window', ['closes']], ['closes', ['window']], ['fail', ['i']], ['rt', []]]\n",
      "['hi', []]\n",
      "['advice', []]\n",
      "['last', []]\n",
      "['ict', ['june']]\n",
      "['june', ['ict']]\n",
      "['mr', ['apr']]\n",
      "['clear', ['ippt']]\n",
      "['ippt', ['clear']]\n",
      "['window', ['closes']]\n",
      "['closes', ['window']]\n",
      "['fail', ['i']]\n",
      "['rt', []]\n",
      "Review Number :  411\n"
     ]
    },
    {
     "name": "stderr",
     "output_type": "stream",
     "text": [
      " 12%|█████████▌                                                                     | 413/3390 [04:42<34:55,  1.42it/s]"
     ]
    },
    {
     "name": "stdout",
     "output_type": "stream",
     "text": [
      "[['official', []], ['cutoff', ['apr']], ['ipptwindow', []], ['apr', ['cutoff', 'mr']], ['case', []], ['mr', ['apr']], ['already', []], ['therefore', []], ['u', []], ['mindef', []], ['activities', []], ['u', []], ['mrlist', []]]\n",
      "['official', []]\n",
      "['cutoff', ['apr']]\n",
      "['ipptwindow', []]\n",
      "['apr', ['cutoff', 'mr']]\n",
      "['case', []]\n",
      "['mr', ['apr']]\n",
      "['already', []]\n",
      "['therefore', []]\n",
      "['u', []]\n",
      "['mindef', []]\n",
      "['activities', []]\n",
      "['u', []]\n",
      "['mrlist', []]\n",
      "Review Number :  412\n",
      "[['hianybody', []]]\n",
      "['hianybody', []]\n",
      "Review Number :  413\n"
     ]
    },
    {
     "name": "stderr",
     "output_type": "stream",
     "text": [
      "\r",
      " 12%|█████████▋                                                                     | 414/3390 [04:43<35:45,  1.39it/s]"
     ]
    },
    {
     "name": "stdout",
     "output_type": "stream",
     "text": [
      "[['opposite', []], ['macdonals', ['oclockdirection']], ['river', []], ['u', ['see', 'standing']], ['open', []], ['shelter', ['see']], ['u', ['see', 'standing']], ['mac', []], ['somewhere', []], ['oclockdirection', ['macdonals', 'it']]]\n",
      "['opposite', []]\n",
      "['macdonals', ['oclockdirection']]\n",
      "['river', []]\n",
      "['u', ['see', 'standing']]\n",
      "['open', []]\n",
      "['shelter', ['see']]\n",
      "['u', ['see', 'standing']]\n",
      "['mac', []]\n",
      "['somewhere', []]\n",
      "['oclockdirection', ['macdonals', 'it']]\n",
      "Review Number :  414\n"
     ]
    },
    {
     "name": "stderr",
     "output_type": "stream",
     "text": [
      "\r",
      " 12%|█████████▋                                                                     | 415/3390 [04:44<38:14,  1.30it/s]"
     ]
    },
    {
     "name": "stdout",
     "output_type": "stream",
     "text": [
      "[['hi', []], ['guys', []], ['sessions', ['attend']], ['inclusive', []], ['st', []], ['session', []], ['last', []], ['session', []], ['fulfil', ['am']], ['ppt', []], ['standard', []], ['still', []], ['clear', ['obligations']], ['ippt', []], ['obligations', ['clear']]]\n",
      "['hi', []]\n",
      "['guys', []]\n",
      "['sessions', ['attend']]\n",
      "['inclusive', []]\n",
      "['st', []]\n",
      "['session', []]\n",
      "['last', []]\n",
      "['session', []]\n",
      "['fulfil', ['am']]\n",
      "['ppt', []]\n",
      "['standard', []]\n",
      "['still', []]\n",
      "['clear', ['obligations']]\n",
      "['ippt', []]\n",
      "['obligations', ['clear']]\n",
      "Review Number :  415\n"
     ]
    },
    {
     "name": "stderr",
     "output_type": "stream",
     "text": [
      "\r",
      " 12%|█████████▋                                                                     | 416/3390 [04:44<30:18,  1.64it/s]"
     ]
    },
    {
     "name": "stdout",
     "output_type": "stream",
     "text": [
      "[['yes', []], ['regardless', []], ['pass', []], ['fail', []]]\n",
      "['yes', []]\n",
      "['regardless', []]\n",
      "['pass', []]\n",
      "['fail', []]\n",
      "Review Number :  416\n"
     ]
    },
    {
     "name": "stderr",
     "output_type": "stream",
     "text": [
      "\r",
      " 12%|█████████▋                                                                     | 417/3390 [04:45<29:35,  1.67it/s]"
     ]
    },
    {
     "name": "stdout",
     "output_type": "stream",
     "text": [
      "[['hi', []], ['guys', ['check']], ['nowadays', []], ['still', []], ['games', ['have']], ['maju', []], ['times', []], ['always', []], ['red', []]]\n",
      "['hi', []]\n",
      "['guys', ['check']]\n",
      "['nowadays', []]\n",
      "['still', []]\n",
      "['games', ['have']]\n",
      "['maju', []]\n",
      "['times', []]\n",
      "['always', []]\n",
      "['red', []]\n",
      "Review Number :  417\n"
     ]
    },
    {
     "name": "stderr",
     "output_type": "stream",
     "text": [
      "\r",
      " 12%|█████████▋                                                                     | 418/3390 [04:45<23:58,  2.07it/s]"
     ]
    },
    {
     "name": "stdout",
     "output_type": "stream",
     "text": [
      "[['idea', []], ['fcc', ['have']]]\n",
      "['idea', []]\n",
      "['fcc', ['have']]\n",
      "Review Number :  418\n"
     ]
    },
    {
     "name": "stderr",
     "output_type": "stream",
     "text": [
      "\r",
      " 12%|█████████▊                                                                     | 419/3390 [04:46<31:49,  1.56it/s]"
     ]
    },
    {
     "name": "stdout",
     "output_type": "stream",
     "text": [
      "[['looks', []], ['start', []], ['new', []], ['yeartill', []], ['hence', []], ['attempts', []], ['notice', []], ['guys', ['think']], ['good', []], ['time', []], ['attempt', []], ['ippt', []]]\n",
      "['looks', []]\n",
      "['start', []]\n",
      "['new', []]\n",
      "['yeartill', []]\n",
      "['hence', []]\n",
      "['attempts', []]\n",
      "['notice', []]\n",
      "['guys', ['think']]\n",
      "['good', []]\n",
      "['time', []]\n",
      "['attempt', []]\n",
      "['ippt', []]\n",
      "Review Number :  419\n"
     ]
    },
    {
     "name": "stderr",
     "output_type": "stream",
     "text": [
      "\r",
      " 12%|█████████▌                                                                   | 420/3390 [04:49<1:04:54,  1.31s/it]"
     ]
    },
    {
     "name": "stdout",
     "output_type": "stream",
     "text": [
      "[['hi', []], ['information', ['incorrect']], ['previously', []], ['incorrect', ['information']], ['pleaserefer', []], ['httpswwwnssgwebportalnsmenhidelinesrtrtquote', []], ['event', []], ['rt', ['take']], ['ippt', ['attempt']], ['ie', []], ['nonict', []], ['ippt', ['attempt']], ['ictippt', []], ['ipptwindow', []], ['windowippt', []], ['also', []], ['thth', []], ['thrt', []], ['sessions', ['attend']], ['also', []], ['rtippt', []], ['rt', ['take']], ['sessions', ['attend']], ['ippt', ['attempt']], ['last', []], ['session', []], ['hence', []], ['correct', []], ['answer', ['have']], ['windowi', ['have']], ['attend', ['sessions']], ['rt', ['take']], ['sessions', ['attend']], ['thsession', ['defaulter']], ['defaulter', ['thsession', 'rtippti']], ['window', []]]\n",
      "['hi', []]\n",
      "['information', ['incorrect']]\n",
      "['previously', []]\n",
      "['incorrect', ['information']]\n",
      "['pleaserefer', []]\n",
      "['httpswwwnssgwebportalnsmenhidelinesrtrtquote', []]\n",
      "['event', []]\n",
      "['rt', ['take']]\n",
      "['ippt', ['attempt']]\n",
      "['ie', []]\n",
      "['nonict', []]\n",
      "['ippt', ['attempt']]\n",
      "['ictippt', []]\n",
      "['ipptwindow', []]\n",
      "['windowippt', []]\n",
      "['also', []]\n",
      "['thth', []]\n",
      "['thrt', []]\n",
      "['sessions', ['attend']]\n",
      "['also', []]\n",
      "['rtippt', []]\n",
      "['rt', ['take']]\n",
      "['sessions', ['attend']]\n",
      "['ippt', ['attempt']]\n",
      "['last', []]\n",
      "['session', []]\n",
      "['hence', []]\n",
      "['correct', []]\n",
      "['answer', ['have']]\n",
      "['windowi', ['have']]\n",
      "['attend', ['sessions']]\n",
      "['rt', ['take']]\n",
      "['sessions', ['attend']]\n",
      "['thsession', ['defaulter']]\n",
      "['defaulter', ['thsession', 'rtippti']]\n",
      "['window', []]\n",
      "Review Number :  420\n"
     ]
    },
    {
     "name": "stderr",
     "output_type": "stream",
     "text": [
      "\r",
      " 12%|█████████▊                                                                     | 421/3390 [04:49<52:01,  1.05s/it]"
     ]
    },
    {
     "name": "stdout",
     "output_type": "stream",
     "text": [
      "[['hi', []], ['please', []], ['previous', []], ['post', ['see']], ['correct', ['misunderstanding']], ['matter', []]]\n",
      "['hi', []]\n",
      "['please', []]\n",
      "['previous', []]\n",
      "['post', ['see']]\n",
      "['correct', ['misunderstanding']]\n",
      "['matter', []]\n",
      "Review Number :  421\n"
     ]
    },
    {
     "name": "stderr",
     "output_type": "stream",
     "text": [
      "\r",
      " 12%|█████████▊                                                                     | 422/3390 [04:50<52:00,  1.05s/it]"
     ]
    },
    {
     "name": "stdout",
     "output_type": "stream",
     "text": [
      "[['posts', ['was']], ['long', []], ['time', []], ['btw', []], ['thanks', []], ['understood', ['you', 'system']], ['system', ['understood']], ['still', []], ['u', ['understand']], ['post', ['understand']], ['query', []]]\n",
      "['posts', ['was']]\n",
      "['long', []]\n",
      "['time', []]\n",
      "['btw', []]\n",
      "['thanks', []]\n",
      "['understood', ['you', 'system']]\n",
      "['system', ['understood']]\n",
      "['still', []]\n",
      "['u', ['understand']]\n",
      "['post', ['understand']]\n",
      "['query', []]\n",
      "Review Number :  422\n"
     ]
    },
    {
     "name": "stderr",
     "output_type": "stream",
     "text": [
      "\r",
      " 12%|█████████▌                                                                   | 423/3390 [04:52<1:06:26,  1.34s/it]"
     ]
    },
    {
     "name": "stdout",
     "output_type": "stream",
     "text": [
      "[['calander', ['wrote']], ['u', ['try', 'done']], ['test', []], ['system', ['try']], ['max', []], ['ippt', ['attempt']], ['sessions', ['attempt']], ['ipts', ['payable']], ['rts', []], ['payable', ['ipts']], ['u', ['try', 'done']], ['ippts', []], ['u', ['try', 'done']], ['hi', []], ['yes', []], ['rt', ['do']], ['however', []], ['still', []], ['ippt', ['attempt']], ['next', []], ['windowps', []], ['pssorry', ['took']], ['late', []], ['reply', []], ['many', []], ['months', ['took']], ['ippts', []], ['sessions', ['attempt']]]\n",
      "['calander', ['wrote']]\n",
      "['u', ['try', 'done']]\n",
      "['test', []]\n",
      "['system', ['try']]\n",
      "['max', []]\n",
      "['ippt', ['attempt']]\n",
      "['sessions', ['attempt']]\n",
      "['ipts', ['payable']]\n",
      "['rts', []]\n",
      "['payable', ['ipts']]\n",
      "['u', ['try', 'done']]\n",
      "['ippts', []]\n",
      "['u', ['try', 'done']]\n",
      "['hi', []]\n",
      "['yes', []]\n",
      "['rt', ['do']]\n",
      "['however', []]\n",
      "['still', []]\n",
      "['ippt', ['attempt']]\n",
      "['next', []]\n",
      "['windowps', []]\n",
      "['pssorry', ['took']]\n",
      "['late', []]\n",
      "['reply', []]\n",
      "['many', []]\n",
      "['months', ['took']]\n",
      "['ippts', []]\n",
      "['sessions', ['attempt']]\n",
      "Review Number :  423\n"
     ]
    },
    {
     "name": "stderr",
     "output_type": "stream",
     "text": [
      "\r",
      " 13%|█████████▋                                                                   | 424/3390 [04:56<1:36:01,  1.94s/it]"
     ]
    },
    {
     "name": "stdout",
     "output_type": "stream",
     "text": [
      "[['hisorry', []], ['late', []], ['reply', []], ['window', ['passed']], ['able', ['i']], ['confirm', ['this']], ['recently', []], ['query', ['relation']], ['relation', ['query']], ['drule', []], ['specifically', []], ['ippt', ['attempt']], ['lot', ['take']], ['times', []], ['even', []], ['perhaps', []], ['entire', []], ['post', ['quoting']], ['note', ['quoting']], ['underlined', []], ['part', []], ['note', ['quoting']], ['conditions', ['take']], ['rt', ['enter', 'do', 'do']], ['defaulted', ['testippt']], ['individual', []], ['physical', []], ['proficiencytest', []], ['testippt', ['defaulted']], ['previous', []], ['window', ['passed']], ['complete', ['trainingipt']], ['ippt', ['attempt']], ['preparatory', []], ['trainingipt', ['complete']], ['previous', []], ['windowu', []], ['still', []], ['rt', ['enter', 'do', 'do']], ['even', []], ['u', ['had']], ['ippts', ['had']], ['due', []], ['clause', []], ['correct', []], ['answer', []], ['need', ['you', 'you']], ['rt', ['enter', 'do', 'do']], ['ippt', ['attempt']], ['times', []], ['still', []], ['attempt', ['ippt']], ['ippt', ['attempt']], ['next', []], ['window', ['passed']]]\n",
      "['hisorry', []]\n",
      "['late', []]\n",
      "['reply', []]\n",
      "['window', ['passed']]\n",
      "['able', ['i']]\n",
      "['confirm', ['this']]\n",
      "['recently', []]\n",
      "['query', ['relation']]\n",
      "['relation', ['query']]\n",
      "['drule', []]\n",
      "['specifically', []]\n",
      "['ippt', ['attempt']]\n",
      "['lot', ['take']]\n",
      "['times', []]\n",
      "['even', []]\n",
      "['perhaps', []]\n",
      "['entire', []]\n",
      "['post', ['quoting']]\n",
      "['note', ['quoting']]\n",
      "['underlined', []]\n",
      "['part', []]\n",
      "['note', ['quoting']]\n",
      "['conditions', ['take']]\n",
      "['rt', ['enter', 'do', 'do']]\n",
      "['defaulted', ['testippt']]\n",
      "['individual', []]\n",
      "['physical', []]\n",
      "['proficiencytest', []]\n",
      "['testippt', ['defaulted']]\n",
      "['previous', []]\n",
      "['window', ['passed']]\n",
      "['complete', ['trainingipt']]\n",
      "['ippt', ['attempt']]\n",
      "['preparatory', []]\n",
      "['trainingipt', ['complete']]\n",
      "['previous', []]\n",
      "['windowu', []]\n",
      "['still', []]\n",
      "['rt', ['enter', 'do', 'do']]\n",
      "['even', []]\n",
      "['u', ['had']]\n",
      "['ippts', ['had']]\n",
      "['due', []]\n",
      "['clause', []]\n",
      "['correct', []]\n",
      "['answer', []]\n",
      "['need', ['you', 'you']]\n",
      "['rt', ['enter', 'do', 'do']]\n",
      "['ippt', ['attempt']]\n",
      "['times', []]\n",
      "['still', []]\n",
      "['attempt', ['ippt']]\n",
      "['ippt', ['attempt']]\n",
      "['next', []]\n",
      "['window', ['passed']]\n",
      "Review Number :  424\n"
     ]
    },
    {
     "name": "stderr",
     "output_type": "stream",
     "text": [
      "\r",
      " 13%|█████████▋                                                                   | 425/3390 [04:57<1:33:14,  1.89s/it]"
     ]
    },
    {
     "name": "stdout",
     "output_type": "stream",
     "text": [
      "[['thanks', []], ['point', ['highlighting']], ['clarity', []], ['anyway', []], ['case', []], ['first', []], ['ippt', ['do']], ['service', []], ['pay', []], ['whereas', []], ['ipt', []], ['rt', []], ['sessions', []], ['therefore', []], ['x', ['do']], ['ippt', ['do']], ['substitute', []], ['simple', []], ['question', ['rts']], ['bottomline', []], ['nobody', ['do']], ['ever', []], ['ippts', []]]\n",
      "['thanks', []]\n",
      "['point', ['highlighting']]\n",
      "['clarity', []]\n",
      "['anyway', []]\n",
      "['case', []]\n",
      "['first', []]\n",
      "['ippt', ['do']]\n",
      "['service', []]\n",
      "['pay', []]\n",
      "['whereas', []]\n",
      "['ipt', []]\n",
      "['rt', []]\n",
      "['sessions', []]\n",
      "['therefore', []]\n",
      "['x', ['do']]\n",
      "['ippt', ['do']]\n",
      "['substitute', []]\n",
      "['simple', []]\n",
      "['question', ['rts']]\n",
      "['bottomline', []]\n",
      "['nobody', ['do']]\n",
      "['ever', []]\n",
      "['ippts', []]\n",
      "Review Number :  425\n"
     ]
    },
    {
     "name": "stderr",
     "output_type": "stream",
     "text": [
      "\r",
      " 13%|█████████▋                                                                   | 426/3390 [05:01<2:01:21,  2.46s/it]"
     ]
    },
    {
     "name": "stdout",
     "output_type": "stream",
     "text": [
      "[['nobody', ['thats']], ['maybe', []], ['thats', ['nobody']], ['scenario', ['it', 'encounter']], ['yes', []], ['first', []], ['ippt', []], ['amount', ['insignificant']], ['really', []], ['insignificant', ['amount']], ['thats', ['nobody']], ['factor', ['this']], ['people', ['chill']], ['due', []], ['real', []], ['life', []], ['commitments', []], ['really', []], ['free', ['i']], ['last', []], ['year', []], ['really', []], ['busy', ['i']], ['year', []], ['thats', ['nobody']], ['sessions', ['do']], ['last', []], ['year', []], ['obligation', ['reduce']], ['year', []], ['furthermore', []], ['ippt', []], ['much', []], ['chill', ['find', 'people', 'way']], ['dont', []], ['follow', ['pace']], ['pace', ['follow']], ['instructors', []], ['case', []], ['even', []], ['sit', []], ['push', ['km']], ['min', []], ['km', ['push']], ['rt', ['siong']], ['siong', ['rt']], ['iguess', []], ['subjective', ['this']], ['people', ['chill']], ['way', ['chill']], ['rt', ['siong']], ['also', []], ['happy', []], ['things', ['worked']], ['share', ['info']], ['info', ['share']], ['people', ['chill']], ['scenario', ['it', 'encounter']]]\n",
      "['nobody', ['thats']]\n",
      "['maybe', []]\n",
      "['thats', ['nobody']]\n",
      "['scenario', ['it', 'encounter']]\n",
      "['yes', []]\n",
      "['first', []]\n",
      "['ippt', []]\n",
      "['amount', ['insignificant']]\n",
      "['really', []]\n",
      "['insignificant', ['amount']]\n",
      "['thats', ['nobody']]\n",
      "['factor', ['this']]\n",
      "['people', ['chill']]\n",
      "['due', []]\n",
      "['real', []]\n",
      "['life', []]\n",
      "['commitments', []]\n",
      "['really', []]\n",
      "['free', ['i']]\n",
      "['last', []]\n",
      "['year', []]\n",
      "['really', []]\n",
      "['busy', ['i']]\n",
      "['year', []]\n",
      "['thats', ['nobody']]\n",
      "['sessions', ['do']]\n",
      "['last', []]\n",
      "['year', []]\n",
      "['obligation', ['reduce']]\n",
      "['year', []]\n",
      "['furthermore', []]\n",
      "['ippt', []]\n",
      "['much', []]\n",
      "['chill', ['find', 'people', 'way']]\n",
      "['dont', []]\n",
      "['follow', ['pace']]\n",
      "['pace', ['follow']]\n",
      "['instructors', []]\n",
      "['case', []]\n",
      "['even', []]\n",
      "['sit', []]\n",
      "['push', ['km']]\n",
      "['min', []]\n",
      "['km', ['push']]\n",
      "['rt', ['siong']]\n",
      "['siong', ['rt']]\n",
      "['iguess', []]\n",
      "['subjective', ['this']]\n",
      "['people', ['chill']]\n",
      "['way', ['chill']]\n",
      "['rt', ['siong']]\n",
      "['also', []]\n",
      "['happy', []]\n",
      "['things', ['worked']]\n",
      "['share', ['info']]\n",
      "['info', ['share']]\n",
      "['people', ['chill']]\n",
      "['scenario', ['it', 'encounter']]\n",
      "Review Number :  426\n"
     ]
    },
    {
     "name": "stderr",
     "output_type": "stream",
     "text": [
      "\r",
      " 13%|█████████▋                                                                   | 427/3390 [05:02<1:34:44,  1.92s/it]"
     ]
    },
    {
     "name": "stdout",
     "output_type": "stream",
     "text": [
      "[['fair', []], ['enough', []], ['still', []], ['x', []], ['ipts', ['do']], ['rather', []], ['ippt', []], ['rts', []], ['x', []], ['ippts', []], ['still', []], ['worthy', []], ['opinion', []]]\n",
      "['fair', []]\n",
      "['enough', []]\n",
      "['still', []]\n",
      "['x', []]\n",
      "['ipts', ['do']]\n",
      "['rather', []]\n",
      "['ippt', []]\n",
      "['rts', []]\n",
      "['x', []]\n",
      "['ippts', []]\n",
      "['still', []]\n",
      "['worthy', []]\n",
      "['opinion', []]\n",
      "Review Number :  427\n"
     ]
    },
    {
     "name": "stderr",
     "output_type": "stream",
     "text": [
      "\r",
      " 13%|█████████▋                                                                   | 428/3390 [05:03<1:27:14,  1.77s/it]"
     ]
    },
    {
     "name": "stdout",
     "output_type": "stream",
     "text": [
      "[['ippt', ['did']], ['last', []], ['week', []], ['prevwindow', []], ['current', []], ['windowtill', ['failed']], ['next', []], ['year', []], ['rt', []], ['sessions', ['thrt']], ['states', ['it', 'th']], ['th', ['states']], ['thsession', ['rtippt']], ['session', []], ['mean', ['that', 'st']], ['st', ['mean']], ['thrt', ['sessions']], ['ippt', ['did']], ['sessions', ['thrt']], ['thats', ['it']], ['sessionippt', ['shifted']], ['earlier', []], ['session', []]]\n",
      "['ippt', ['did']]\n",
      "['last', []]\n",
      "['week', []]\n",
      "['prevwindow', []]\n",
      "['current', []]\n",
      "['windowtill', ['failed']]\n",
      "['next', []]\n",
      "['year', []]\n",
      "['rt', []]\n",
      "['sessions', ['thrt']]\n",
      "['states', ['it', 'th']]\n",
      "['th', ['states']]\n",
      "['thsession', ['rtippt']]\n",
      "['session', []]\n",
      "['mean', ['that', 'st']]\n",
      "['st', ['mean']]\n",
      "['thrt', ['sessions']]\n",
      "['ippt', ['did']]\n",
      "['sessions', ['thrt']]\n",
      "['thats', ['it']]\n",
      "['sessionippt', ['shifted']]\n",
      "['earlier', []]\n",
      "['session', []]\n",
      "Review Number :  428\n"
     ]
    },
    {
     "name": "stderr",
     "output_type": "stream",
     "text": [
      "\r",
      " 13%|█████████▋                                                                   | 429/3390 [05:05<1:26:43,  1.76s/it]"
     ]
    },
    {
     "name": "stdout",
     "output_type": "stream",
     "text": [
      "[['total', []], ['number', ['years']], ['sessions', ['do', 'spread']], ['still', []], ['years', ['number']], ['ipt', []], ['ippt', ['you']], ['rt', []], ['way', ['fail']], ['difference', ['entitlement']], ['entitlement', ['difference']], ['servicepay', []], ['sessioni', []], ['merely', []], ['chose', ['timing']], ['sessions', ['do', 'spread']], ['last', []], ['year', []], ['burden', ['lessen']], ['yeari', ['agree']], ['agree', ['yeari']], ['people', ['prefer']], ['spread', ['sessions']], ['sessions', ['do', 'spread']], ['year', []], ['get', []]]\n",
      "['total', []]\n",
      "['number', ['years']]\n",
      "['sessions', ['do', 'spread']]\n",
      "['still', []]\n",
      "['years', ['number']]\n",
      "['ipt', []]\n",
      "['ippt', ['you']]\n",
      "['rt', []]\n",
      "['way', ['fail']]\n",
      "['difference', ['entitlement']]\n",
      "['entitlement', ['difference']]\n",
      "['servicepay', []]\n",
      "['sessioni', []]\n",
      "['merely', []]\n",
      "['chose', ['timing']]\n",
      "['sessions', ['do', 'spread']]\n",
      "['last', []]\n",
      "['year', []]\n",
      "['burden', ['lessen']]\n",
      "['yeari', ['agree']]\n",
      "['agree', ['yeari']]\n",
      "['people', ['prefer']]\n",
      "['spread', ['sessions']]\n",
      "['sessions', ['do', 'spread']]\n",
      "['year', []]\n",
      "['get', []]\n",
      "Review Number :  429\n"
     ]
    },
    {
     "name": "stderr",
     "output_type": "stream",
     "text": [
      "\r",
      " 13%|█████████▊                                                                   | 430/3390 [05:05<1:05:51,  1.33s/it]"
     ]
    },
    {
     "name": "stdout",
     "output_type": "stream",
     "text": [
      "[['ippt', []], ['rank', ['receive']], ['payi', []], ['ippt', []], ['award', ['receive']]]\n",
      "['ippt', []]\n",
      "['rank', ['receive']]\n",
      "['payi', []]\n",
      "['ippt', []]\n",
      "['award', ['receive']]\n",
      "Review Number :  430\n"
     ]
    },
    {
     "name": "stderr",
     "output_type": "stream",
     "text": [
      "\r",
      " 13%|██████████                                                                     | 431/3390 [05:06<55:15,  1.12s/it]"
     ]
    },
    {
     "name": "stdout",
     "output_type": "stream",
     "text": [
      "[['guys', []], ['help', ['need']], ['majufcc', []], ['tell', ['they']], ['ippt', ['got']], ['pm', ['got']], ['slot', ['got']], ['pmslot', ['is']], ['rtkind', ['true']], ['true', ['rtkind', 'it']]]\n",
      "['guys', []]\n",
      "['help', ['need']]\n",
      "['majufcc', []]\n",
      "['tell', ['they']]\n",
      "['ippt', ['got']]\n",
      "['pm', ['got']]\n",
      "['slot', ['got']]\n",
      "['pmslot', ['is']]\n",
      "['rtkind', ['true']]\n",
      "['true', ['rtkind', 'it']]\n",
      "Review Number :  431\n"
     ]
    },
    {
     "name": "stderr",
     "output_type": "stream",
     "text": [
      " 13%|██████████                                                                     | 433/3390 [05:07<36:09,  1.36it/s]"
     ]
    },
    {
     "name": "stdout",
     "output_type": "stream",
     "text": [
      "[['httpswwwmindefgovsgomsimindeasnsmenhtmlhttpswwwmindefgovsgomsimindesafcfcchtml', []], ['links', []], ['u', []]]\n",
      "['httpswwwmindefgovsgomsimindeasnsmenhtmlhttpswwwmindefgovsgomsimindesafcfcchtml', []]\n",
      "['links', []]\n",
      "['u', []]\n",
      "Review Number :  432\n",
      "[['counts', []]]\n",
      "['counts', []]\n",
      "Review Number :  433\n"
     ]
    },
    {
     "name": "stderr",
     "output_type": "stream",
     "text": [
      "\r",
      " 13%|██████████                                                                     | 434/3390 [05:07<33:10,  1.48it/s]"
     ]
    },
    {
     "name": "stdout",
     "output_type": "stream",
     "text": [
      "[['means', ['st', 'ippt']], ['ses', ['rt']], ['rttill', []], ['tillth', []], ['ses', ['rt']], ['resttill', []], ['ses', ['rt']]]\n",
      "['means', ['st', 'ippt']]\n",
      "['ses', ['rt']]\n",
      "['rttill', []]\n",
      "['tillth', []]\n",
      "['ses', ['rt']]\n",
      "['resttill', []]\n",
      "['ses', ['rt']]\n",
      "Review Number :  434\n"
     ]
    },
    {
     "name": "stderr",
     "output_type": "stream",
     "text": [
      "\r",
      " 13%|██████████▏                                                                    | 435/3390 [05:08<33:11,  1.48it/s]"
     ]
    },
    {
     "name": "stdout",
     "output_type": "stream",
     "text": [
      "[['means', ['d']], ['unsure', []], ['di', []], ['strongly', []], ['u', ['suggest']], ['simple', []], ['gogglesearch', ['do']], ['ippt', []], ['iptrt', []]]\n",
      "['means', ['d']]\n",
      "['unsure', []]\n",
      "['di', []]\n",
      "['strongly', []]\n",
      "['u', ['suggest']]\n",
      "['simple', []]\n",
      "['gogglesearch', ['do']]\n",
      "['ippt', []]\n",
      "['iptrt', []]\n",
      "Review Number :  435\n"
     ]
    },
    {
     "name": "stderr",
     "output_type": "stream",
     "text": [
      "\r",
      " 13%|██████████▏                                                                    | 436/3390 [05:09<44:08,  1.12it/s]"
     ]
    },
    {
     "name": "stdout",
     "output_type": "stream",
     "text": [
      "[['hi', []], ['guys', []], ['help', []], ['bday', []], ['janden', []], ['denth', []], ['thjan', []], ['jani', []], ['ippti', []], ['ibook', ['take']], ['first', []], ['sessionipt', ['take']], ['iptslot', ['slotcos']], ['slotcos', ['iptslot']], ['st', []], ['ipt', ['put']], ['ippt', []], ['silver', []], ['far', []], ['receive', ['i', 'no', 'sms']], ['sms', ['receive']], ['clear', ['i', 'liao']], ['liao', ['clear']], ['usually', []], ['long', []], ['ah', []], ['nssg', ['update']], ['also', []], ['update', ['nssg', 'attendance']], ['attendance', ['update']]]\n",
      "['hi', []]\n",
      "['guys', []]\n",
      "['help', []]\n",
      "['bday', []]\n",
      "['janden', []]\n",
      "['denth', []]\n",
      "['thjan', []]\n",
      "['jani', []]\n",
      "['ippti', []]\n",
      "['ibook', ['take']]\n",
      "['first', []]\n",
      "['sessionipt', ['take']]\n",
      "['iptslot', ['slotcos']]\n",
      "['slotcos', ['iptslot']]\n",
      "['st', []]\n",
      "['ipt', ['put']]\n",
      "['ippt', []]\n",
      "['silver', []]\n",
      "['far', []]\n",
      "['receive', ['i', 'no', 'sms']]\n",
      "['sms', ['receive']]\n",
      "['clear', ['i', 'liao']]\n",
      "['liao', ['clear']]\n",
      "['usually', []]\n",
      "['long', []]\n",
      "['ah', []]\n",
      "['nssg', ['update']]\n",
      "['also', []]\n",
      "['update', ['nssg', 'attendance']]\n",
      "['attendance', ['update']]\n",
      "Review Number :  436\n"
     ]
    },
    {
     "name": "stderr",
     "output_type": "stream",
     "text": [
      "\r",
      " 13%|██████████▏                                                                    | 437/3390 [05:10<41:50,  1.18it/s]"
     ]
    },
    {
     "name": "stdout",
     "output_type": "stream",
     "text": [
      "[['days', []], ['u', ['receive', 'fulfilled']], ['receive', ['u', 'sms']], ['sms', ['receive']], ['u', ['receive', 'fulfilled']], ['ippt', []], ['requirements', ['fulfilled']]]\n",
      "['days', []]\n",
      "['u', ['receive', 'fulfilled']]\n",
      "['receive', ['u', 'sms']]\n",
      "['sms', ['receive']]\n",
      "['u', ['receive', 'fulfilled']]\n",
      "['ippt', []]\n",
      "['requirements', ['fulfilled']]\n",
      "Review Number :  437\n"
     ]
    },
    {
     "name": "stderr",
     "output_type": "stream",
     "text": [
      "\r",
      " 13%|██████████▏                                                                    | 438/3390 [05:11<37:38,  1.31it/s]"
     ]
    },
    {
     "name": "stdout",
     "output_type": "stream",
     "text": [
      "[['hey', []], ['guys', []], ['iptippt', ['pass']], ['first', []], ['session', ['which']], ['also', []], ['ive', []], ['clear', ['window']], ['window', ['clear']]]\n",
      "['hey', []]\n",
      "['guys', []]\n",
      "['iptippt', ['pass']]\n",
      "['first', []]\n",
      "['session', ['which']]\n",
      "['also', []]\n",
      "['ive', []]\n",
      "['clear', ['window']]\n",
      "['window', ['clear']]\n",
      "Review Number :  438\n"
     ]
    },
    {
     "name": "stderr",
     "output_type": "stream",
     "text": [
      "\r",
      " 13%|██████████▏                                                                    | 439/3390 [05:11<32:35,  1.51it/s]"
     ]
    },
    {
     "name": "stdout",
     "output_type": "stream",
     "text": [
      "[['hi', []], ['guys', ['know']], ['receive', ['we', 'rankpay']], ['rankpay', ['receive']], ['weekendiptrt', []]]\n",
      "['hi', []]\n",
      "['guys', ['know']]\n",
      "['receive', ['we', 'rankpay']]\n",
      "['rankpay', ['receive']]\n",
      "['weekendiptrt', []]\n",
      "Review Number :  439\n",
      "[['yes', []], ['questions', []]]"
     ]
    },
    {
     "name": "stderr",
     "output_type": "stream",
     "text": [
      "\r",
      " 13%|██████████▎                                                                    | 440/3390 [05:11<25:43,  1.91it/s]"
     ]
    },
    {
     "name": "stdout",
     "output_type": "stream",
     "text": [
      "\n",
      "['yes', []]\n",
      "['questions', []]\n",
      "Review Number :  440\n"
     ]
    },
    {
     "name": "stderr",
     "output_type": "stream",
     "text": [
      "\r",
      " 13%|██████████▎                                                                    | 441/3390 [05:12<27:15,  1.80it/s]"
     ]
    },
    {
     "name": "stdout",
     "output_type": "stream",
     "text": [
      "[['hi', []], ['guys', []], ['newbie', ['closes']], ['current', []], ['window', ['closes']], ['closes', ['newbie', 'window']], ['ipt', ['go']], ['im', []], ['sure', []], ['im', []], ['able', []], ['pass', []], ['ippt', []]]\n",
      "['hi', []]\n",
      "['guys', []]\n",
      "['newbie', ['closes']]\n",
      "['current', []]\n",
      "['window', ['closes']]\n",
      "['closes', ['newbie', 'window']]\n",
      "['ipt', ['go']]\n",
      "['im', []]\n",
      "['sure', []]\n",
      "['im', []]\n",
      "['able', []]\n",
      "['pass', []]\n",
      "['ippt', []]\n",
      "Review Number :  441\n"
     ]
    },
    {
     "name": "stderr",
     "output_type": "stream",
     "text": [
      "\r",
      " 13%|██████████▎                                                                    | 442/3390 [05:12<26:39,  1.84it/s]"
     ]
    },
    {
     "name": "stdout",
     "output_type": "stream",
     "text": [
      "[['ipt', []], ['first', []], ['lesson', ['ippt']], ['ippt', ['lesson']], ['book', ['that']], ['pass', ['it']], ['fail', ['go']], ['lessons', []]]\n",
      "['ipt', []]\n",
      "['first', []]\n",
      "['lesson', ['ippt']]\n",
      "['ippt', ['lesson']]\n",
      "['book', ['that']]\n",
      "['pass', ['it']]\n",
      "['fail', ['go']]\n",
      "['lessons', []]\n",
      "Review Number :  442\n"
     ]
    },
    {
     "name": "stderr",
     "output_type": "stream",
     "text": [
      "\r",
      " 13%|██████████▎                                                                    | 443/3390 [05:13<24:32,  2.00it/s]"
     ]
    },
    {
     "name": "stdout",
     "output_type": "stream",
     "text": [
      "[['fail', []], ['need', ['i', 'rts', 'window']], ['clear', []], ['rts', ['need']], ['window', ['need']], ['still', []], ['ippt', []]]\n",
      "['fail', []]\n",
      "['need', ['i', 'rts', 'window']]\n",
      "['clear', []]\n",
      "['rts', ['need']]\n",
      "['window', ['need']]\n",
      "['still', []]\n",
      "['ippt', []]\n",
      "Review Number :  443\n"
     ]
    },
    {
     "name": "stderr",
     "output_type": "stream",
     "text": [
      "\r",
      " 13%|██████████▎                                                                    | 444/3390 [05:14<27:34,  1.78it/s]"
     ]
    },
    {
     "name": "stdout",
     "output_type": "stream",
     "text": [
      "[['ipt', []], ['program', ['mistake']], ['rt', []], ['rtu', []], ['rtippt', ['take']], ['th', []], ['thth', []], ['thsession', []], ['iptst', []], ['thsession', []], ['iptippt', []]]\n",
      "['ipt', []]\n",
      "['program', ['mistake']]\n",
      "['rt', []]\n",
      "['rtu', []]\n",
      "['rtippt', ['take']]\n",
      "['th', []]\n",
      "['thth', []]\n",
      "['thsession', []]\n",
      "['iptst', []]\n",
      "['thsession', []]\n",
      "['iptippt', []]\n",
      "Review Number :  444\n"
     ]
    },
    {
     "name": "stderr",
     "output_type": "stream",
     "text": [
      "\r",
      " 13%|██████████▎                                                                    | 445/3390 [05:15<33:19,  1.47it/s]"
     ]
    },
    {
     "name": "stdout",
     "output_type": "stream",
     "text": [
      "[['already', []], ['rt', ['cleared']], ['year', []], ['next', []], ['cycle', ['opens']], ['ippt', ['is']], ['march', []], ['ict', []], ['week', []], ['ippt', ['is']], ['dont', []], ['want', ['i']], ['ipt', []], ['program', []]]\n",
      "['already', []]\n",
      "['rt', ['cleared']]\n",
      "['year', []]\n",
      "['next', []]\n",
      "['cycle', ['opens']]\n",
      "['ippt', ['is']]\n",
      "['march', []]\n",
      "['ict', []]\n",
      "['week', []]\n",
      "['ippt', ['is']]\n",
      "['dont', []]\n",
      "['want', ['i']]\n",
      "['ipt', []]\n",
      "['program', []]\n",
      "Review Number :  445\n"
     ]
    },
    {
     "name": "stderr",
     "output_type": "stream",
     "text": [
      "\r",
      " 13%|██████████▍                                                                    | 446/3390 [05:15<36:53,  1.33it/s]"
     ]
    },
    {
     "name": "stdout",
     "output_type": "stream",
     "text": [
      "[['dont', []], ['pass', []], ['purposely', []], ['fail', ['la']], ['la', ['fail']], ['fall', []], ['ippt', ['take']], ['youre', ['fit']], ['kpi', []], ['ict', []], ['ippt', ['take']], ['participationrate', ['one']]]\n",
      "['dont', []]\n",
      "['pass', []]\n",
      "['purposely', []]\n",
      "['fail', ['la']]\n",
      "['la', ['fail']]\n",
      "['fall', []]\n",
      "['ippt', ['take']]\n",
      "['youre', ['fit']]\n",
      "['kpi', []]\n",
      "['ict', []]\n",
      "['ippt', ['take']]\n",
      "['participationrate', ['one']]\n",
      "Review Number :  446\n"
     ]
    },
    {
     "name": "stderr",
     "output_type": "stream",
     "text": [
      "\r",
      " 13%|██████████▍                                                                    | 447/3390 [05:16<30:42,  1.60it/s]"
     ]
    },
    {
     "name": "stdout",
     "output_type": "stream",
     "text": [
      "[['need', ['i']]]\n",
      "['need', ['i']]\n",
      "Review Number :  447\n"
     ]
    },
    {
     "name": "stderr",
     "output_type": "stream",
     "text": [
      "\r",
      " 13%|██████████▍                                                                    | 448/3390 [05:16<26:19,  1.86it/s]"
     ]
    },
    {
     "name": "stdout",
     "output_type": "stream",
     "text": [
      "[['safra', []], ['speedah', []]]\n",
      "['safra', []]\n",
      "['speedah', []]\n",
      "Review Number :  448\n"
     ]
    },
    {
     "name": "stderr",
     "output_type": "stream",
     "text": [
      "\r",
      " 13%|██████████▍                                                                    | 449/3390 [05:18<42:37,  1.15it/s]"
     ]
    },
    {
     "name": "stdout",
     "output_type": "stream",
     "text": [
      "[['u', ['need', 'free', 'pass', 'go', 'fulfilled']], ['fail', ['ictippt']], ['ictippt', ['fail', 'pass']], ['u', ['need', 'free', 'pass', 'go', 'fulfilled']], ['still', []], ['free', ['u']], ['ipt', ['take']], ['nevertheless', []], ['even', []], ['u', ['need', 'free', 'pass', 'go', 'fulfilled']], ['pass', ['u', 'ictippt']], ['ictippt', ['fail', 'pass']], ['awards', []], ['u', ['need', 'free', 'pass', 'go', 'fulfilled']], ['still', []], ['ipt', ['take']], ['good', []], ['target', ['have']], ['higher', []], ['award', []], ['applicable', []], ['good', []], ['thing', ['is']], ['satisfy', ['sessions']], ['ipt', ['take']], ['sessions', ['satisfy']], ['already', []], ['requirement', ['fulfilled']]]\n",
      "['u', ['need', 'free', 'pass', 'go', 'fulfilled']]\n",
      "['fail', ['ictippt']]\n",
      "['ictippt', ['fail', 'pass']]\n",
      "['u', ['need', 'free', 'pass', 'go', 'fulfilled']]\n",
      "['still', []]\n",
      "['free', ['u']]\n",
      "['ipt', ['take']]\n",
      "['nevertheless', []]\n",
      "['even', []]\n",
      "['u', ['need', 'free', 'pass', 'go', 'fulfilled']]\n",
      "['pass', ['u', 'ictippt']]\n",
      "['ictippt', ['fail', 'pass']]\n",
      "['awards', []]\n",
      "['u', ['need', 'free', 'pass', 'go', 'fulfilled']]\n",
      "['still', []]\n",
      "['ipt', ['take']]\n",
      "['good', []]\n",
      "['target', ['have']]\n",
      "['higher', []]\n",
      "['award', []]\n",
      "['applicable', []]\n",
      "['good', []]\n",
      "['thing', ['is']]\n",
      "['satisfy', ['sessions']]\n",
      "['ipt', ['take']]\n",
      "['sessions', ['satisfy']]\n",
      "['already', []]\n",
      "['requirement', ['fulfilled']]\n",
      "Review Number :  449\n"
     ]
    },
    {
     "name": "stderr",
     "output_type": "stream",
     "text": [
      "\r",
      " 13%|██████████▍                                                                    | 450/3390 [05:19<42:30,  1.15it/s]"
     ]
    },
    {
     "name": "stdout",
     "output_type": "stream",
     "text": [
      "[['new', []], ['ipptwindow', ['opened']], ['book', ['im']], ['attend', []], ['im', ['book']], ['ict', ['having']], ['march', []], ['participate', ['i', 'means']], ['ictippt', []], ['year', []]]\n",
      "['new', []]\n",
      "['ipptwindow', ['opened']]\n",
      "['book', ['im']]\n",
      "['attend', []]\n",
      "['im', ['book']]\n",
      "['ict', ['having']]\n",
      "['march', []]\n",
      "['participate', ['i', 'means']]\n",
      "['ictippt', []]\n",
      "['year', []]\n",
      "Review Number :  450\n"
     ]
    },
    {
     "name": "stderr",
     "output_type": "stream",
     "text": [
      "\r",
      " 13%|██████████▌                                                                    | 451/3390 [05:19<40:51,  1.20it/s]"
     ]
    },
    {
     "name": "stdout",
     "output_type": "stream",
     "text": [
      "[['hi', []], ['guys', ['knows']], ['anyone', ['knows']], ['minimum', []], ['pointrequirement', []], ['station', []], ['clear', ['ppt']], ['ppt', ['clear']], ['points', []]]\n",
      "['hi', []]\n",
      "['guys', ['knows']]\n",
      "['anyone', ['knows']]\n",
      "['minimum', []]\n",
      "['pointrequirement', []]\n",
      "['station', []]\n",
      "['clear', ['ppt']]\n",
      "['ppt', ['clear']]\n",
      "['points', []]\n",
      "Review Number :  451\n"
     ]
    },
    {
     "name": "stderr",
     "output_type": "stream",
     "text": [
      "\r",
      " 13%|██████████▌                                                                    | 452/3390 [05:20<36:28,  1.34it/s]"
     ]
    },
    {
     "name": "stdout",
     "output_type": "stream",
     "text": [
      "[['u', ['need']], ['ictippt', ['pass']], ['order', []]]\n",
      "['u', ['need']]\n",
      "['ictippt', ['pass']]\n",
      "['order', []]\n",
      "Review Number :  452\n"
     ]
    },
    {
     "name": "stderr",
     "output_type": "stream",
     "text": [
      "\r",
      " 13%|██████████▌                                                                    | 453/3390 [05:21<43:41,  1.12it/s]"
     ]
    },
    {
     "name": "stdout",
     "output_type": "stream",
     "text": [
      "[['guys', ['ask']], ['mrceremony', []], ['airforce', []], ['forceschool', []], ['march', []], ['year', []], ['ippt', ['checked', 'meani', 'siam', 'mr']], ['attempted', []], ['current', []], ['windowpls', ['meet']], ['meet', ['windowpls', 'requirement']], ['ur', []], ['ippt', ['checked', 'meani', 'siam', 'mr']], ['requirement', ['meet']], ['aug', []], ['meani', ['ippt']], ['siam', ['ippt']], ['ippt', ['checked', 'meani', 'siam', 'mr']], ['mr', ['ippt']], ['straight', []], ['thanks', []], ['advance', []]]\n",
      "['guys', ['ask']]\n",
      "['mrceremony', []]\n",
      "['airforce', []]\n",
      "['forceschool', []]\n",
      "['march', []]\n",
      "['year', []]\n",
      "['ippt', ['checked', 'meani', 'siam', 'mr']]\n",
      "['attempted', []]\n",
      "['current', []]\n",
      "['windowpls', ['meet']]\n",
      "['meet', ['windowpls', 'requirement']]\n",
      "['ur', []]\n",
      "['ippt', ['checked', 'meani', 'siam', 'mr']]\n",
      "['requirement', ['meet']]\n",
      "['aug', []]\n",
      "['meani', ['ippt']]\n",
      "['siam', ['ippt']]\n",
      "['ippt', ['checked', 'meani', 'siam', 'mr']]\n",
      "['mr', ['ippt']]\n",
      "['straight', []]\n",
      "['thanks', []]\n",
      "['advance', []]\n",
      "Review Number :  453\n"
     ]
    },
    {
     "name": "stderr",
     "output_type": "stream",
     "text": [
      "\r",
      " 13%|██████████▌                                                                    | 454/3390 [05:22<35:52,  1.36it/s]"
     ]
    },
    {
     "name": "stdout",
     "output_type": "stream",
     "text": [
      "[['yes', []], ['safworkyear', []]]\n",
      "['yes', []]\n",
      "['safworkyear', []]\n",
      "Review Number :  454\n"
     ]
    },
    {
     "name": "stderr",
     "output_type": "stream",
     "text": [
      "\r",
      " 13%|██████████▌                                                                    | 455/3390 [05:22<34:29,  1.42it/s]"
     ]
    },
    {
     "name": "stdout",
     "output_type": "stream",
     "text": [
      "[['kumsiabro', ['happens']], ['also', []], ['gg', []], ['mr', ['hope']], ['ict', []], ['hope', ['mr']], ['waive', ['they', 'ippt']], ['ippt', ['waive']], ['year', []]]\n",
      "['kumsiabro', ['happens']]\n",
      "['also', []]\n",
      "['gg', []]\n",
      "['mr', ['hope']]\n",
      "['ict', []]\n",
      "['hope', ['mr']]\n",
      "['waive', ['they', 'ippt']]\n",
      "['ippt', ['waive']]\n",
      "['year', []]\n",
      "Review Number :  455\n"
     ]
    },
    {
     "name": "stderr",
     "output_type": "stream",
     "text": [
      "\r",
      " 13%|██████████▋                                                                    | 456/3390 [05:23<34:00,  1.44it/s]"
     ]
    },
    {
     "name": "stdout",
     "output_type": "stream",
     "text": [
      "[['need', []], ['anymore', []], ['ippt', []], ['mr', []], ['workyear', []], ['closureapr', []], ['congrats', ['it']]]\n",
      "['need', []]\n",
      "['anymore', []]\n",
      "['ippt', []]\n",
      "['mr', []]\n",
      "['workyear', []]\n",
      "['closureapr', []]\n",
      "['congrats', ['it']]\n",
      "Review Number :  456\n"
     ]
    },
    {
     "name": "stderr",
     "output_type": "stream",
     "text": [
      "\r",
      " 13%|██████████▋                                                                    | 457/3390 [05:24<38:18,  1.28it/s]"
     ]
    },
    {
     "name": "stdout",
     "output_type": "stream",
     "text": [
      "[['ippt', ['mred']], ['doesnt', []], ['matter', []], ['clear', ['you']], ['clear', ['you']], ['wait', ['you']], ['days', []], ['inside', []], ['ns', []], ['portal', []], ['ippt', ['mred']], ['applicable', []]]\n",
      "['ippt', ['mred']]\n",
      "['doesnt', []]\n",
      "['matter', []]\n",
      "['clear', ['you']]\n",
      "['clear', ['you']]\n",
      "['wait', ['you']]\n",
      "['days', []]\n",
      "['inside', []]\n",
      "['ns', []]\n",
      "['portal', []]\n",
      "['ippt', ['mred']]\n",
      "['applicable', []]\n",
      "Review Number :  457\n"
     ]
    },
    {
     "name": "stderr",
     "output_type": "stream",
     "text": [
      "\r",
      " 14%|██████████▍                                                                  | 458/3390 [05:32<2:29:56,  3.07s/it]"
     ]
    },
    {
     "name": "stdout",
     "output_type": "stream",
     "text": [
      "[['help', ['me', 'ord']], ['currently', []], ['years', []], ['already', []], ['ict', ['completed']], ['enlisti', []], ['medical', []], ['indicatingi', ['had']], ['thalassemia', ['had']], ['cmpb', ['got']], ['pes', ['down']], ['phasei', ['reported']], ['reason', []], ['imention', ['this']], ['pc', []], ['bmt', []], ['dont', []], ['record', ['have']], ['call', []], ['ask', ['i', 'doctor']], ['check', ['they']], ['subsequently', []], ['vocation', []], ['ffi', []], ['icouldnt', []], ['recordi', ['find']], ['kinda', []], ['couldnt', []], ['see', ['i', 'it', 'they', 'anything', 'cardiologist']], ['mo', ['know', 'told']], ['previously', []], ['enlistment', ['had']], ['chalked', ['i', 'it']], ['normal', ['thinking']], ['gotten', ['it']], ['lot', []], ['worse', []], ['ord', ['help', 'i']], ['see', ['i', 'it', 'they', 'anything', 'cardiologist']], ['neurologist', ['did']], ['scan', ['did', 'reveal']], ['didnt', []], ['anything', ['see', 'heard']], ['strange', []], ['diagnosis', ['was']], ['essential', []], ['tremor', ['it']], ['rare', ['which']], ['age', []], ['time', []], ['ive', []], ['strange', []], ['pain', ['experiencing']], ['ahead', []], ['see', ['i', 'it', 'they', 'anything', 'cardiologist']], ['cardiologist', ['see']], ['also', []], ['scan', ['did', 'reveal']], ['didnt', []], ['reveal', ['scan', 'other']], ['much', []], ['abnormal', []], ['heart', []], ['heart', []], ['lung', []], ['issue', []], ['something', ['told']], ['else', []], ['doctor', ['told', 'ask']], ['back', []], ['months', ['heard']], ['later', []], ['thingi', ['failed']], ['previous', []], ['yearippt', ['failed']], ['rt', ['do']], ['timei', ['received']], ['days', []], ['july', []], ['days', []], ['november', []], ['february', []], ['window', ['close']], ['close', ['window']], ['marchth', []], ['idea', ['have']], ['cant', []], ['appointment', ['marchrd']], ['marchrd', ['appointment']], ['ask', ['i', 'doctor']], ['doctor', ['told', 'ask']], ['mc', ['provide']], ['letter', []], ['mo', ['know', 'told']], ['mo', ['know', 'told']], ['receive', ['i', 'ndexcuse']], ['ndexcuse', ['receive']], ['medical', []], ['reviewgotten', []], ['essential', []], ['tremor', ['it']], ['months', ['heard']], ['havent', []], ['heard', ['months', 'anything']], ['anything', ['see', 'heard']], ['ask', ['i', 'doctor']], ['extension', []], ['chance', ['is']], ['pes', ['down']], ['medical', []], ['conditions', []]]\n",
      "['help', ['me', 'ord']]\n",
      "['currently', []]\n",
      "['years', []]\n",
      "['already', []]\n",
      "['ict', ['completed']]\n",
      "['enlisti', []]\n",
      "['medical', []]\n",
      "['indicatingi', ['had']]\n",
      "['thalassemia', ['had']]\n",
      "['cmpb', ['got']]\n",
      "['pes', ['down']]\n",
      "['phasei', ['reported']]\n",
      "['reason', []]\n",
      "['imention', ['this']]\n",
      "['pc', []]\n",
      "['bmt', []]\n",
      "['dont', []]\n",
      "['record', ['have']]\n",
      "['call', []]\n",
      "['ask', ['i', 'doctor']]\n",
      "['check', ['they']]\n",
      "['subsequently', []]\n",
      "['vocation', []]\n",
      "['ffi', []]\n",
      "['icouldnt', []]\n",
      "['recordi', ['find']]\n",
      "['kinda', []]\n",
      "['couldnt', []]\n",
      "['see', ['i', 'it', 'they', 'anything', 'cardiologist']]\n",
      "['mo', ['know', 'told']]\n",
      "['previously', []]\n",
      "['enlistment', ['had']]\n",
      "['chalked', ['i', 'it']]\n",
      "['normal', ['thinking']]\n",
      "['gotten', ['it']]\n",
      "['lot', []]\n",
      "['worse', []]\n",
      "['ord', ['help', 'i']]\n",
      "['see', ['i', 'it', 'they', 'anything', 'cardiologist']]\n",
      "['neurologist', ['did']]\n",
      "['scan', ['did', 'reveal']]\n",
      "['didnt', []]\n",
      "['anything', ['see', 'heard']]\n",
      "['strange', []]\n",
      "['diagnosis', ['was']]\n",
      "['essential', []]\n",
      "['tremor', ['it']]\n",
      "['rare', ['which']]\n",
      "['age', []]\n",
      "['time', []]\n",
      "['ive', []]\n",
      "['strange', []]\n",
      "['pain', ['experiencing']]\n",
      "['ahead', []]\n",
      "['see', ['i', 'it', 'they', 'anything', 'cardiologist']]\n",
      "['cardiologist', ['see']]\n",
      "['also', []]\n",
      "['scan', ['did', 'reveal']]\n",
      "['didnt', []]\n",
      "['reveal', ['scan', 'other']]\n",
      "['much', []]\n",
      "['abnormal', []]\n",
      "['heart', []]\n",
      "['heart', []]\n",
      "['lung', []]\n",
      "['issue', []]\n",
      "['something', ['told']]\n",
      "['else', []]\n",
      "['doctor', ['told', 'ask']]\n",
      "['back', []]\n",
      "['months', ['heard']]\n",
      "['later', []]\n",
      "['thingi', ['failed']]\n",
      "['previous', []]\n",
      "['yearippt', ['failed']]\n",
      "['rt', ['do']]\n",
      "['timei', ['received']]\n",
      "['days', []]\n",
      "['july', []]\n",
      "['days', []]\n",
      "['november', []]\n",
      "['february', []]\n",
      "['window', ['close']]\n",
      "['close', ['window']]\n",
      "['marchth', []]\n",
      "['idea', ['have']]\n",
      "['cant', []]\n",
      "['appointment', ['marchrd']]\n",
      "['marchrd', ['appointment']]\n",
      "['ask', ['i', 'doctor']]\n",
      "['doctor', ['told', 'ask']]\n",
      "['mc', ['provide']]\n",
      "['letter', []]\n",
      "['mo', ['know', 'told']]\n",
      "['mo', ['know', 'told']]\n",
      "['receive', ['i', 'ndexcuse']]\n",
      "['ndexcuse', ['receive']]\n",
      "['medical', []]\n",
      "['reviewgotten', []]\n",
      "['essential', []]\n",
      "['tremor', ['it']]\n",
      "['months', ['heard']]\n",
      "['havent', []]\n",
      "['heard', ['months', 'anything']]\n",
      "['anything', ['see', 'heard']]\n",
      "['ask', ['i', 'doctor']]\n",
      "['extension', []]\n",
      "['chance', ['is']]\n",
      "['pes', ['down']]\n",
      "['medical', []]\n",
      "['conditions', []]\n",
      "Review Number :  458\n"
     ]
    },
    {
     "name": "stderr",
     "output_type": "stream",
     "text": [
      "\r",
      " 14%|██████████▍                                                                  | 459/3390 [05:34<2:06:19,  2.59s/it]"
     ]
    },
    {
     "name": "stdout",
     "output_type": "stream",
     "text": [
      "[['alternately', []], ['report', []], ['sick', []], ['rtiptsession', []], ['fcc', []], ['mo', ['see', 'fccmo']], ['fccmo', ['mo']], ['mo', ['see', 'fccmo']], ['camp', []], ['months', []], ['status', []], ['ipptiptrt', []], ['help', ['it']], ['clear', ['ipptiptrtcycle']], ['yearipptiptrt', []], ['ipptiptrtcycle', ['clear']]]\n",
      "['alternately', []]\n",
      "['report', []]\n",
      "['sick', []]\n",
      "['rtiptsession', []]\n",
      "['fcc', []]\n",
      "['mo', ['see', 'fccmo']]\n",
      "['fccmo', ['mo']]\n",
      "['mo', ['see', 'fccmo']]\n",
      "['camp', []]\n",
      "['months', []]\n",
      "['status', []]\n",
      "['ipptiptrt', []]\n",
      "['help', ['it']]\n",
      "['clear', ['ipptiptrtcycle']]\n",
      "['yearipptiptrt', []]\n",
      "['ipptiptrtcycle', ['clear']]\n",
      "Review Number :  459\n"
     ]
    },
    {
     "name": "stderr",
     "output_type": "stream",
     "text": [
      "\r",
      " 14%|██████████▍                                                                  | 460/3390 [05:36<1:55:37,  2.37s/it]"
     ]
    },
    {
     "name": "stdout",
     "output_type": "stream",
     "text": [
      "[['hii', ['supposed']], ['correct', []], ['thread', []], ['already', []], ['rts', ['this', 'book']], ['book', ['rts']], ['rts', ['this', 'book']], ['available', ['dates']], ['maybe', []], ['cos', []], ['window', []], ['close', []], ['ictippt', []], ['failed', []], ['run', ['km']], ['bad', []], ['weather', []], ['anyone', ['knows']], ['im', ['considered']], ['rt', ['heard']], ['ive', []], ['heard', ['rt']], ['attendance', []], ['dont', []], ['true', []]]\n",
      "['hii', ['supposed']]\n",
      "['correct', []]\n",
      "['thread', []]\n",
      "['already', []]\n",
      "['rts', ['this', 'book']]\n",
      "['book', ['rts']]\n",
      "['rts', ['this', 'book']]\n",
      "['available', ['dates']]\n",
      "['maybe', []]\n",
      "['cos', []]\n",
      "['window', []]\n",
      "['close', []]\n",
      "['ictippt', []]\n",
      "['failed', []]\n",
      "['run', ['km']]\n",
      "['bad', []]\n",
      "['weather', []]\n",
      "['anyone', ['knows']]\n",
      "['im', ['considered']]\n",
      "['rt', ['heard']]\n",
      "['ive', []]\n",
      "['heard', ['rt']]\n",
      "['attendance', []]\n",
      "['dont', []]\n",
      "['true', []]\n",
      "Review Number :  460\n"
     ]
    },
    {
     "name": "stderr",
     "output_type": "stream",
     "text": [
      "\r",
      " 14%|██████████▍                                                                  | 461/3390 [05:36<1:28:48,  1.82s/it]"
     ]
    },
    {
     "name": "stdout",
     "output_type": "stream",
     "text": [
      "[['rt', []], ['sessions', ['finish']], ['finish', ['sessions']], ['training', []], ['sessions', ['finish']], ['sessions', ['finish']], ['total', []], ['right', []]]\n",
      "['rt', []]\n",
      "['sessions', ['finish']]\n",
      "['finish', ['sessions']]\n",
      "['training', []]\n",
      "['sessions', ['finish']]\n",
      "['sessions', ['finish']]\n",
      "['total', []]\n",
      "['right', []]\n",
      "Review Number :  461\n"
     ]
    },
    {
     "name": "stderr",
     "output_type": "stream",
     "text": [
      "\r",
      " 14%|██████████▍                                                                  | 462/3390 [05:37<1:09:02,  1.41s/it]"
     ]
    },
    {
     "name": "stdout",
     "output_type": "stream",
     "text": [
      "[['basically', []], ['note', ['take']], ['session', ['ippt']], ['ippt', ['session']], ['book', []], ['accordingly', []]]\n",
      "['basically', []]\n",
      "['note', ['take']]\n",
      "['session', ['ippt']]\n",
      "['ippt', ['session']]\n",
      "['book', []]\n",
      "['accordingly', []]\n",
      "Review Number :  462\n"
     ]
    },
    {
     "name": "stderr",
     "output_type": "stream",
     "text": [
      "\r",
      " 14%|██████████▊                                                                    | 463/3390 [05:37<54:21,  1.11s/it]"
     ]
    },
    {
     "name": "stdout",
     "output_type": "stream",
     "text": [
      "[['clear', []], ['money', ['get']], ['gagt', []]]\n",
      "['clear', []]\n",
      "['money', ['get']]\n",
      "['gagt', []]\n",
      "Review Number :  463\n"
     ]
    },
    {
     "name": "stderr",
     "output_type": "stream",
     "text": [
      "\r",
      " 14%|██████████▊                                                                    | 464/3390 [05:38<55:13,  1.13s/it]"
     ]
    },
    {
     "name": "stdout",
     "output_type": "stream",
     "text": [
      "[['later', []], ['eveningi', ['finished']], ['th', []], ['rt', []], ['trainingsession', ['finished']], ['book', ['ipptsession', 'i', 'rtsession']], ['last', []], ['rt', []], ['ipptsession', ['book']], ['ive', []], ['im', ['finished']], ['later', []], ['couldnt', []], ['book', ['ipptsession', 'i', 'rtsession']], ['thrt', []], ['rtsession', ['book']], ['ippt', []], ['saturday', []], ['case', ['that']]]\n",
      "['later', []]\n",
      "['eveningi', ['finished']]\n",
      "['th', []]\n",
      "['rt', []]\n",
      "['trainingsession', ['finished']]\n",
      "['book', ['ipptsession', 'i', 'rtsession']]\n",
      "['last', []]\n",
      "['rt', []]\n",
      "['ipptsession', ['book']]\n",
      "['ive', []]\n",
      "['im', ['finished']]\n",
      "['later', []]\n",
      "['couldnt', []]\n",
      "['book', ['ipptsession', 'i', 'rtsession']]\n",
      "['thrt', []]\n",
      "['rtsession', ['book']]\n",
      "['ippt', []]\n",
      "['saturday', []]\n",
      "['case', ['that']]\n",
      "Review Number :  464\n"
     ]
    },
    {
     "name": "stderr",
     "output_type": "stream",
     "text": [
      "\r",
      " 14%|██████████▊                                                                    | 465/3390 [05:38<43:22,  1.12it/s]"
     ]
    },
    {
     "name": "stdout",
     "output_type": "stream",
     "text": [
      "[['yes', []], ['still', []], ['award', ['get']]]\n",
      "['yes', []]\n",
      "['still', []]\n",
      "['award', ['get']]\n",
      "Review Number :  465\n"
     ]
    },
    {
     "name": "stderr",
     "output_type": "stream",
     "text": [
      "\r",
      " 14%|██████████▊                                                                    | 466/3390 [05:39<45:25,  1.07it/s]"
     ]
    },
    {
     "name": "stdout",
     "output_type": "stream",
     "text": [
      "[['nssg', []], ['many', ['left']], ['rts', ['done']], ['many', ['left']], ['left', ['many']], ['completion', ['ictippt']], ['ictippt', ['completion']], ['total', []], ['rts', ['done']], ['current', []], ['window', ['do']]]\n",
      "['nssg', []]\n",
      "['many', ['left']]\n",
      "['rts', ['done']]\n",
      "['many', ['left']]\n",
      "['left', ['many']]\n",
      "['completion', ['ictippt']]\n",
      "['ictippt', ['completion']]\n",
      "['total', []]\n",
      "['rts', ['done']]\n",
      "['current', []]\n",
      "['window', ['do']]\n",
      "Review Number :  466\n"
     ]
    },
    {
     "name": "stderr",
     "output_type": "stream",
     "text": [
      "\r",
      " 14%|██████████▉                                                                    | 467/3390 [05:40<38:19,  1.27it/s]"
     ]
    },
    {
     "name": "stdout",
     "output_type": "stream",
     "text": [
      "[['means', ['period']], ['period', ['means']], ['sessions', ['attend']], ['instead', []], ['congratulations', []]]\n",
      "['means', ['period']]\n",
      "['period', ['means']]\n",
      "['sessions', ['attend']]\n",
      "['instead', []]\n",
      "['congratulations', []]\n",
      "Review Number :  467\n"
     ]
    },
    {
     "name": "stderr",
     "output_type": "stream",
     "text": [
      "\r",
      " 14%|██████████▉                                                                    | 468/3390 [05:40<33:26,  1.46it/s]"
     ]
    },
    {
     "name": "stdout",
     "output_type": "stream",
     "text": [
      "[['im', []], ['counting', []], ['days', []], ['ipptportalone', []], ['workyear', []]]\n",
      "['im', []]\n",
      "['counting', []]\n",
      "['days', []]\n",
      "['ipptportalone', []]\n",
      "['workyear', []]\n",
      "Review Number :  468\n"
     ]
    },
    {
     "name": "stderr",
     "output_type": "stream",
     "text": [
      "\r",
      " 14%|██████████▉                                                                    | 469/3390 [05:41<29:20,  1.66it/s]"
     ]
    },
    {
     "name": "stdout",
     "output_type": "stream",
     "text": [
      "[['mobilisation', []], ['many', []], ['hours', ['return']], ['camp', []], ['main', []], ['bodyah', []]]\n",
      "['mobilisation', []]\n",
      "['many', []]\n",
      "['hours', ['return']]\n",
      "['camp', []]\n",
      "['main', []]\n",
      "['bodyah', []]\n",
      "Review Number :  469\n"
     ]
    },
    {
     "name": "stderr",
     "output_type": "stream",
     "text": [
      "\r",
      " 14%|██████████▉                                                                    | 470/3390 [05:42<34:38,  1.40it/s]"
     ]
    },
    {
     "name": "stdout",
     "output_type": "stream",
     "text": [
      "[['first', []], ['wrong', []], ['thread', []], ['secondly', []], ['u', ['know', 'advise']], ['ntm', ['know']], ['unsure', []], ['contact', ['unit']], ['ns', []], ['unit', ['contact']], ['main', []], ['body', []], ['also', []], ['ntm', ['know']], ['therefore', []], ['nobody', ['able']], ['able', ['nobody']], ['advise', ['u']], ['u', ['know', 'advise']]]\n",
      "['first', []]\n",
      "['wrong', []]\n",
      "['thread', []]\n",
      "['secondly', []]\n",
      "['u', ['know', 'advise']]\n",
      "['ntm', ['know']]\n",
      "['unsure', []]\n",
      "['contact', ['unit']]\n",
      "['ns', []]\n",
      "['unit', ['contact']]\n",
      "['main', []]\n",
      "['body', []]\n",
      "['also', []]\n",
      "['ntm', ['know']]\n",
      "['therefore', []]\n",
      "['nobody', ['able']]\n",
      "['able', ['nobody']]\n",
      "['advise', ['u']]\n",
      "['u', ['know', 'advise']]\n",
      "Review Number :  470\n"
     ]
    },
    {
     "name": "stderr",
     "output_type": "stream",
     "text": [
      "\r",
      " 14%|██████████▉                                                                    | 471/3390 [05:42<29:57,  1.62it/s]"
     ]
    },
    {
     "name": "stdout",
     "output_type": "stream",
     "text": [
      "[['bmt', []], ['first', []], ['window', ['starts']], ['starts', ['window', 'period', 'count']], ['bmt', []], ['period', ['starts']], ['count', ['starts']]]\n",
      "['bmt', []]\n",
      "['first', []]\n",
      "['window', ['starts']]\n",
      "['starts', ['window', 'period', 'count']]\n",
      "['bmt', []]\n",
      "['period', ['starts']]\n",
      "['count', ['starts']]\n",
      "Review Number :  471\n"
     ]
    },
    {
     "name": "stderr",
     "output_type": "stream",
     "text": [
      "\r",
      " 14%|██████████▉                                                                    | 472/3390 [05:43<27:21,  1.78it/s]"
     ]
    },
    {
     "name": "stdout",
     "output_type": "stream",
     "text": [
      "[['ipt', ['try']], ['jurong', []], ['park', []], ['already', []], ['book', []], ['never', []]]\n",
      "['ipt', ['try']]\n",
      "['jurong', []]\n",
      "['park', []]\n",
      "['already', []]\n",
      "['book', []]\n",
      "['never', []]\n",
      "Review Number :  472\n"
     ]
    },
    {
     "name": "stderr",
     "output_type": "stream",
     "text": [
      "\r",
      " 14%|███████████                                                                    | 473/3390 [05:43<27:58,  1.74it/s]"
     ]
    },
    {
     "name": "stdout",
     "output_type": "stream",
     "text": [
      "[['u', ['mean', 'find']], ['even', []], ['never', []], ['cant', []], ['find', ['it', 'sessions', 'u', 'place']], ['available', []], ['sessions', ['find']], ['u', ['mean', 'find']], ['cant', []], ['find', ['it', 'sessions', 'u', 'place']], ['place', ['find']], ['park', []]]\n",
      "['u', ['mean', 'find']]\n",
      "['even', []]\n",
      "['never', []]\n",
      "['cant', []]\n",
      "['find', ['it', 'sessions', 'u', 'place']]\n",
      "['available', []]\n",
      "['sessions', ['find']]\n",
      "['u', ['mean', 'find']]\n",
      "['cant', []]\n",
      "['find', ['it', 'sessions', 'u', 'place']]\n",
      "['place', ['find']]\n",
      "['park', []]\n",
      "Review Number :  473\n"
     ]
    },
    {
     "name": "stderr",
     "output_type": "stream",
     "text": [
      "\r",
      " 14%|███████████                                                                    | 474/3390 [05:44<27:16,  1.78it/s]"
     ]
    },
    {
     "name": "stdout",
     "output_type": "stream",
     "text": [
      "[['mean', ['i']], ['try', ['i']], ['bookipt', ['park']], ['park', ['bookipt']], ['jurong', []], ['park', ['bookipt']], ['last', []], ['yearsep', ['listed']], ['still', []]]\n",
      "['mean', ['i']]\n",
      "['try', ['i']]\n",
      "['bookipt', ['park']]\n",
      "['park', ['bookipt']]\n",
      "['jurong', []]\n",
      "['park', ['bookipt']]\n",
      "['last', []]\n",
      "['yearsep', ['listed']]\n",
      "['still', []]\n",
      "Review Number :  474\n"
     ]
    },
    {
     "name": "stderr",
     "output_type": "stream",
     "text": [
      "\r",
      " 14%|███████████                                                                    | 475/3390 [05:44<26:40,  1.82it/s]"
     ]
    },
    {
     "name": "stdout",
     "output_type": "stream",
     "text": [
      "[['locations', []], ['already', []], ['saw', ['i', 'newsarticle']], ['newsarticle', ['saw']], ['u', ['try']], ['try', ['that', 'u']], ['google', []]]\n",
      "['locations', []]\n",
      "['already', []]\n",
      "['saw', ['i', 'newsarticle']]\n",
      "['newsarticle', ['saw']]\n",
      "['u', ['try']]\n",
      "['try', ['that', 'u']]\n",
      "['google', []]\n",
      "Review Number :  475\n"
     ]
    },
    {
     "name": "stderr",
     "output_type": "stream",
     "text": [
      "\r",
      " 14%|███████████                                                                    | 476/3390 [05:47<58:32,  1.21s/it]"
     ]
    },
    {
     "name": "stdout",
     "output_type": "stream",
     "text": [
      "[['first', []], ['iptippt', []], ['sessiondont', ['done']], ['ppt', ['it']], ['level', ['know', 'clear']], ['yet', []], ['assume', []], ['ppt', ['it']], ['leveli', ['intend']], ['intend', ['leveli']], ['target', []], ['early', []], ['completion', []], ['website', ['states']], ['states', ['website']], ['order', []], ['early', []], ['complete', []], ['need', ['i', 'i']], ['window', []], ['means', []], ['points', ['reach', 'attain', 'gain']], ['level', ['know', 'clear']], ['questions', ['reach']], ['iptippt', []], ['confident', ['i']], ['enough', []], ['clear', ['level']], ['ppt', ['it']], ['level', ['know', 'clear']], ['sessions', []], ['book', ['i']], ['book', ['i']], ['iptsession', []], ['attain', ['ppttarget', 'points']], ['required', []], ['points', ['reach', 'attain', 'gain']], ['ppt', ['it']], ['level', ['know', 'clear']], ['stationeg', []], ['egpush', []], ['gain', ['points']], ['points', ['reach', 'attain', 'gain']], ['sit', []], ['still', []], ['early', []], ['completion', []], ['thanks', []]]\n",
      "['first', []]\n",
      "['iptippt', []]\n",
      "['sessiondont', ['done']]\n",
      "['ppt', ['it']]\n",
      "['level', ['know', 'clear']]\n",
      "['yet', []]\n",
      "['assume', []]\n",
      "['ppt', ['it']]\n",
      "['leveli', ['intend']]\n",
      "['intend', ['leveli']]\n",
      "['target', []]\n",
      "['early', []]\n",
      "['completion', []]\n",
      "['website', ['states']]\n",
      "['states', ['website']]\n",
      "['order', []]\n",
      "['early', []]\n",
      "['complete', []]\n",
      "['need', ['i', 'i']]\n",
      "['window', []]\n",
      "['means', []]\n",
      "['points', ['reach', 'attain', 'gain']]\n",
      "['level', ['know', 'clear']]\n",
      "['questions', ['reach']]\n",
      "['iptippt', []]\n",
      "['confident', ['i']]\n",
      "['enough', []]\n",
      "['clear', ['level']]\n",
      "['ppt', ['it']]\n",
      "['level', ['know', 'clear']]\n",
      "['sessions', []]\n",
      "['book', ['i']]\n",
      "['book', ['i']]\n",
      "['iptsession', []]\n",
      "['attain', ['ppttarget', 'points']]\n",
      "['required', []]\n",
      "['points', ['reach', 'attain', 'gain']]\n",
      "['ppt', ['it']]\n",
      "['level', ['know', 'clear']]\n",
      "['stationeg', []]\n",
      "['egpush', []]\n",
      "['gain', ['points']]\n",
      "['points', ['reach', 'attain', 'gain']]\n",
      "['sit', []]\n",
      "['still', []]\n",
      "['early', []]\n",
      "['completion', []]\n",
      "['thanks', []]\n",
      "Review Number :  476\n"
     ]
    },
    {
     "name": "stderr",
     "output_type": "stream",
     "text": [
      "\r",
      " 14%|███████████                                                                    | 477/3390 [05:48<54:30,  1.12s/it]"
     ]
    },
    {
     "name": "stdout",
     "output_type": "stream",
     "text": [
      "[['u', ['book', 'need']], ['always', []], ['book', ['u', 'ippt']], ['seperate', []], ['ippt', ['book']], ['bookippt', []], ['u', ['book', 'need']], ['need', ['u']], ['point', ['have']], ['station', []], ['meet', ['ppt']], ['early', []], ['completion', ['it']]]\n",
      "['u', ['book', 'need']]\n",
      "['always', []]\n",
      "['book', ['u', 'ippt']]\n",
      "['seperate', []]\n",
      "['ippt', ['book']]\n",
      "['bookippt', []]\n",
      "['u', ['book', 'need']]\n",
      "['need', ['u']]\n",
      "['point', ['have']]\n",
      "['station', []]\n",
      "['meet', ['ppt']]\n",
      "['early', []]\n",
      "['completion', ['it']]\n",
      "Review Number :  477\n"
     ]
    },
    {
     "name": "stderr",
     "output_type": "stream",
     "text": [
      "\r",
      " 14%|███████████▏                                                                   | 478/3390 [05:49<52:39,  1.09s/it]"
     ]
    },
    {
     "name": "stdout",
     "output_type": "stream",
     "text": [
      "[['never', []], ['clear', ['i', 'ippt']], ['rt', ['bookippt', 'book']], ['bookippt', ['rt', 'portal']], ['ipt', []], ['ns', []], ['portal', ['bookippt']], ['dont', []], ['bookingpage', ['book']], ['book', ['bookingpage', 'rt']], ['rt', ['bookippt', 'book']], ['also', []], ['clear', ['i', 'ippt']], ['ippt', ['clear']], ['window', []], ['rt', ['bookippt', 'book']], ['last', []], ['windowippt', ['failing']]]\n",
      "['never', []]\n",
      "['clear', ['i', 'ippt']]\n",
      "['rt', ['bookippt', 'book']]\n",
      "['bookippt', ['rt', 'portal']]\n",
      "['ipt', []]\n",
      "['ns', []]\n",
      "['portal', ['bookippt']]\n",
      "['dont', []]\n",
      "['bookingpage', ['book']]\n",
      "['book', ['bookingpage', 'rt']]\n",
      "['rt', ['bookippt', 'book']]\n",
      "['also', []]\n",
      "['clear', ['i', 'ippt']]\n",
      "['ippt', ['clear']]\n",
      "['window', []]\n",
      "['rt', ['bookippt', 'book']]\n",
      "['last', []]\n",
      "['windowippt', ['failing']]\n",
      "Review Number :  478\n"
     ]
    },
    {
     "name": "stderr",
     "output_type": "stream",
     "text": [
      "\r",
      " 14%|███████████▏                                                                   | 479/3390 [05:49<42:21,  1.15it/s]"
     ]
    },
    {
     "name": "stdout",
     "output_type": "stream",
     "text": [
      "[['bohliao', []], ['liao', ['dunno']], ['dunno', ['liaokana', 'liao']], ['sian', ['removed']], ['max', []]]\n",
      "['bohliao', []]\n",
      "['liao', ['dunno']]\n",
      "['dunno', ['liaokana', 'liao']]\n",
      "['sian', ['removed']]\n",
      "['max', []]\n",
      "Review Number :  479\n"
     ]
    },
    {
     "name": "stderr",
     "output_type": "stream",
     "text": [
      "\r",
      " 14%|███████████▏                                                                   | 480/3390 [05:50<35:47,  1.35it/s]"
     ]
    },
    {
     "name": "stdout",
     "output_type": "stream",
     "text": [
      "[['jurong', []], ['enough', []], ['people', ['thats']], ['thats', ['people', 'ba']], ['ba', ['thats']]]\n",
      "['jurong', []]\n",
      "['enough', []]\n",
      "['people', ['thats']]\n",
      "['thats', ['people', 'ba']]\n",
      "['ba', ['thats']]\n",
      "Review Number :  480\n"
     ]
    },
    {
     "name": "stderr",
     "output_type": "stream",
     "text": [
      "\r",
      " 14%|███████████▏                                                                   | 481/3390 [05:51<44:06,  1.10it/s]"
     ]
    },
    {
     "name": "stdout",
     "output_type": "stream",
     "text": [
      "[['u', ['rt', 'have']], ['rt', ['u']], ['way', ['rtippt']], ['ippt', ['do']], ['rtippt', ['way']], ['ictippt', []], ['u', ['rt', 'have']], ['ict', ['have']], ['conditions', ['coming']], ['window', ['clear', 'cleared']], ['pass', ['ppt']], ['meet', []], ['ppt', ['pass']], ['window', ['clear', 'cleared']], ['next', []], ['window', ['clear', 'cleared']], ['rt', ['u']]]\n",
      "['u', ['rt', 'have']]\n",
      "['rt', ['u']]\n",
      "['way', ['rtippt']]\n",
      "['ippt', ['do']]\n",
      "['rtippt', ['way']]\n",
      "['ictippt', []]\n",
      "['u', ['rt', 'have']]\n",
      "['ict', ['have']]\n",
      "['conditions', ['coming']]\n",
      "['window', ['clear', 'cleared']]\n",
      "['pass', ['ppt']]\n",
      "['meet', []]\n",
      "['ppt', ['pass']]\n",
      "['window', ['clear', 'cleared']]\n",
      "['next', []]\n",
      "['window', ['clear', 'cleared']]\n",
      "['rt', ['u']]\n",
      "Review Number :  481\n"
     ]
    },
    {
     "name": "stderr",
     "output_type": "stream",
     "text": [
      "\r",
      " 14%|███████████▏                                                                   | 482/3390 [05:51<36:00,  1.35it/s]"
     ]
    },
    {
     "name": "stdout",
     "output_type": "stream",
     "text": [
      "[['need', ['i']], ['complete', ['iptsession']], ['iptsession', ['complete']], ['get', []]]\n",
      "['need', ['i']]\n",
      "['complete', ['iptsession']]\n",
      "['iptsession', ['complete']]\n",
      "['get', []]\n",
      "Review Number :  482\n"
     ]
    },
    {
     "name": "stderr",
     "output_type": "stream",
     "text": [
      "\r",
      " 14%|███████████▎                                                                   | 483/3390 [05:52<37:46,  1.28it/s]"
     ]
    },
    {
     "name": "stdout",
     "output_type": "stream",
     "text": [
      "[['long', []], ['u', ['taken']], ['part', ['taken']], ['payment', []], ['next', []], ['working', []], ['days', []], ['attendance', []], ['ns', []], ['portal', []], ['next', []], ['working', []], ['day', []]]\n",
      "['long', []]\n",
      "['u', ['taken']]\n",
      "['part', ['taken']]\n",
      "['payment', []]\n",
      "['next', []]\n",
      "['working', []]\n",
      "['days', []]\n",
      "['attendance', []]\n",
      "['ns', []]\n",
      "['portal', []]\n",
      "['next', []]\n",
      "['working', []]\n",
      "['day', []]\n",
      "Review Number :  483\n"
     ]
    },
    {
     "name": "stderr",
     "output_type": "stream",
     "text": [
      "\r",
      " 14%|███████████▎                                                                   | 484/3390 [05:53<32:28,  1.49it/s]"
     ]
    },
    {
     "name": "stdout",
     "output_type": "stream",
     "text": [
      "[['outwards', []], ['armpushups', ['allowed']], ['ippt', []], ['test', ['taking']], ['bedok', []]]\n",
      "['outwards', []]\n",
      "['armpushups', ['allowed']]\n",
      "['ippt', []]\n",
      "['test', ['taking']]\n",
      "['bedok', []]\n",
      "Review Number :  484\n"
     ]
    },
    {
     "name": "stderr",
     "output_type": "stream",
     "text": [
      "\r",
      " 14%|███████████▎                                                                   | 485/3390 [05:54<40:28,  1.20it/s]"
     ]
    },
    {
     "name": "stdout",
     "output_type": "stream",
     "text": [
      "[['somewhere', []], ['last', []], ['year', []], ['due', []], ['low', []], ['attendancelikewise', []], ['pasir', []], ['rispark', []], ['parkeverytime', []], ['ipt', []], ['park', []], ['jurong', []], ['participants', []], ['quite', []], ['pity', ['were']]]\n",
      "['somewhere', []]\n",
      "['last', []]\n",
      "['year', []]\n",
      "['due', []]\n",
      "['low', []]\n",
      "['attendancelikewise', []]\n",
      "['pasir', []]\n",
      "['rispark', []]\n",
      "['parkeverytime', []]\n",
      "['ipt', []]\n",
      "['park', []]\n",
      "['jurong', []]\n",
      "['participants', []]\n",
      "['quite', []]\n",
      "['pity', ['were']]\n",
      "Review Number :  485\n"
     ]
    },
    {
     "name": "stderr",
     "output_type": "stream",
     "text": [
      "\r",
      " 14%|███████████▎                                                                   | 486/3390 [05:54<31:47,  1.52it/s]"
     ]
    },
    {
     "name": "stdout",
     "output_type": "stream",
     "text": [
      "[['outwards', []], ['armpushup', ['what']]]\n",
      "['outwards', []]\n",
      "['armpushup', ['what']]\n",
      "Review Number :  486\n"
     ]
    },
    {
     "name": "stderr",
     "output_type": "stream",
     "text": [
      "\r",
      " 14%|███████████▎                                                                   | 487/3390 [05:55<31:24,  1.54it/s]"
     ]
    },
    {
     "name": "stdout",
     "output_type": "stream",
     "text": [
      "[['think', ['i']], ['elbows', ['meant']], ['away', []], ['body', []], ['probably', []], ['count', []], ['strict', ['they']], ['push', []], ['posture', []]]\n",
      "['think', ['i']]\n",
      "['elbows', ['meant']]\n",
      "['away', []]\n",
      "['body', []]\n",
      "['probably', []]\n",
      "['count', []]\n",
      "['strict', ['they']]\n",
      "['push', []]\n",
      "['posture', []]\n",
      "Review Number :  487\n"
     ]
    },
    {
     "name": "stderr",
     "output_type": "stream",
     "text": [
      "\r",
      " 14%|███████████▎                                                                   | 488/3390 [05:55<29:43,  1.63it/s]"
     ]
    },
    {
     "name": "stdout",
     "output_type": "stream",
     "text": [
      "[['youreright', []], ['righti', ['think']], ['anything', []], ['degrees', []], ['body', []]]\n",
      "['youreright', []]\n",
      "['righti', ['think']]\n",
      "['anything', []]\n",
      "['degrees', []]\n",
      "['body', []]\n",
      "Review Number :  488\n"
     ]
    },
    {
     "name": "stderr",
     "output_type": "stream",
     "text": [
      "\r",
      " 14%|███████████▍                                                                   | 489/3390 [05:56<30:21,  1.59it/s]"
     ]
    },
    {
     "name": "stdout",
     "output_type": "stream",
     "text": [
      "[['sure', []], ['maybe', []], ['ns', []], ['homepage', []], ['ask', []], ['next', []], ['iptsession', []]]\n",
      "['sure', []]\n",
      "['maybe', []]\n",
      "['ns', []]\n",
      "['homepage', []]\n",
      "['ask', []]\n",
      "['next', []]\n",
      "['iptsession', []]\n",
      "Review Number :  489\n"
     ]
    },
    {
     "name": "stderr",
     "output_type": "stream",
     "text": [
      "\r",
      " 14%|███████████▍                                                                   | 490/3390 [05:57<30:12,  1.60it/s]"
     ]
    },
    {
     "name": "stdout",
     "output_type": "stream",
     "text": [
      "[['hi', []], ['attire', ['what']], ['enter', ['fcc']], ['fcc', ['enter']], ['ippt', []], ['ippt', []], ['bedokfcc', []]]\n",
      "['hi', []]\n",
      "['attire', ['what']]\n",
      "['enter', ['fcc']]\n",
      "['fcc', ['enter']]\n",
      "['ippt', []]\n",
      "['ippt', []]\n",
      "['bedokfcc', []]\n",
      "Review Number :  490\n"
     ]
    },
    {
     "name": "stderr",
     "output_type": "stream",
     "text": [
      " 15%|███████████▍                                                                   | 492/3390 [05:57<20:36,  2.34it/s]"
     ]
    },
    {
     "name": "stdout",
     "output_type": "stream",
     "text": [
      "[['pt', []], ['attire', []], ['slippersscandals', []]]\n",
      "['pt', []]\n",
      "['attire', []]\n",
      "['slippersscandals', []]\n",
      "Review Number :  491\n",
      "[['cheers', []]]\n",
      "['cheers', []]\n",
      "Review Number :  492\n"
     ]
    },
    {
     "name": "stderr",
     "output_type": "stream",
     "text": [
      "\r",
      " 15%|███████████▍                                                                   | 493/3390 [05:57<20:28,  2.36it/s]"
     ]
    },
    {
     "name": "stdout",
     "output_type": "stream",
     "text": [
      "[['anyone', ['knows']], ['still', []], ['monetary', []], ['rewards', ['is']], ['yearippt', []]]\n",
      "['anyone', ['knows']]\n",
      "['still', []]\n",
      "['monetary', []]\n",
      "['rewards', ['is']]\n",
      "['yearippt', []]\n",
      "Review Number :  493\n",
      "[]\n",
      "Review Number :  494\n"
     ]
    },
    {
     "name": "stderr",
     "output_type": "stream",
     "text": [
      " 15%|███████████▌                                                                   | 496/3390 [05:58<15:28,  3.12it/s]"
     ]
    },
    {
     "name": "stdout",
     "output_type": "stream",
     "text": [
      "[['thanks', []], ['money', ['take']], ['yearippt', []], ['money', ['take']], ['anyone', ['confirm']], ['confirm', ['anyone']]]\n",
      "['thanks', []]\n",
      "['money', ['take']]\n",
      "['yearippt', []]\n",
      "['money', ['take']]\n",
      "['anyone', ['confirm']]\n",
      "['confirm', ['anyone']]\n",
      "Review Number :  495\n",
      "[['year', ['have']]]\n",
      "['year', ['have']]\n",
      "Review Number :  496\n"
     ]
    },
    {
     "name": "stderr",
     "output_type": "stream",
     "text": [
      " 15%|███████████▌                                                                   | 498/3390 [05:59<11:52,  4.06it/s]"
     ]
    },
    {
     "name": "stdout",
     "output_type": "stream",
     "text": [
      "[['ok', []], ['thanks', []]]\n",
      "['ok', []]\n",
      "['thanks', []]\n",
      "Review Number :  497\n",
      "[['haha', []], ['scandals', []]]\n",
      "['haha', []]\n",
      "['scandals', []]\n",
      "Review Number :  498\n"
     ]
    },
    {
     "name": "stderr",
     "output_type": "stream",
     "text": [
      "\r",
      " 15%|███████████▋                                                                   | 499/3390 [05:59<12:15,  3.93it/s]"
     ]
    },
    {
     "name": "stdout",
     "output_type": "stream",
     "text": [
      "[['yup', []], ['obviously', []], ['typo', ['it']]]\n",
      "['yup', []]\n",
      "['obviously', []]\n",
      "['typo', ['it']]\n",
      "Review Number :  499\n"
     ]
    },
    {
     "name": "stderr",
     "output_type": "stream",
     "text": [
      "\r",
      " 15%|███████████▋                                                                   | 500/3390 [05:59<14:53,  3.24it/s]"
     ]
    },
    {
     "name": "stdout",
     "output_type": "stream",
     "text": [
      "[['u', []], ['infopls', ['go']], ['n', []], ['correct', []], ['friend', []]]\n",
      "['u', []]\n",
      "['infopls', ['go']]\n",
      "['n', []]\n",
      "['correct', []]\n",
      "['friend', []]\n",
      "Review Number :  500\n"
     ]
    },
    {
     "name": "stderr",
     "output_type": "stream",
     "text": [
      "\r",
      " 15%|███████████▋                                                                   | 501/3390 [06:00<16:37,  2.90it/s]"
     ]
    },
    {
     "name": "stdout",
     "output_type": "stream",
     "text": [
      "[['question', []], ['post', []], ['book', ['we']], ['unit', []], ['arrange', []], ['thanks', []]]\n",
      "['question', []]\n",
      "['post', []]\n",
      "['book', ['we']]\n",
      "['unit', []]\n",
      "['arrange', []]\n",
      "['thanks', []]\n",
      "Review Number :  501\n"
     ]
    },
    {
     "name": "stderr",
     "output_type": "stream",
     "text": [
      "\r",
      " 15%|███████████▋                                                                   | 502/3390 [06:00<17:36,  2.73it/s]"
     ]
    },
    {
     "name": "stdout",
     "output_type": "stream",
     "text": [
      "[['unit', ['contacting']], ['actually', []], ['arrangements', []]]\n",
      "['unit', ['contacting']]\n",
      "['actually', []]\n",
      "['arrangements', []]\n",
      "Review Number :  502\n"
     ]
    },
    {
     "name": "stderr",
     "output_type": "stream",
     "text": [
      "\r",
      " 15%|███████████▋                                                                   | 503/3390 [06:01<17:38,  2.73it/s]"
     ]
    },
    {
     "name": "stdout",
     "output_type": "stream",
     "text": [
      "[['yupi', ['meant']], ['meant', ['yupi', 'degrees']], ['arms', []], ['away', []], ['body', []]]\n",
      "['yupi', ['meant']]\n",
      "['meant', ['yupi', 'degrees']]\n",
      "['arms', []]\n",
      "['away', []]\n",
      "['body', []]\n",
      "Review Number :  503\n"
     ]
    },
    {
     "name": "stderr",
     "output_type": "stream",
     "text": [
      "\r",
      " 15%|███████████▋                                                                   | 504/3390 [06:01<25:28,  1.89it/s]"
     ]
    },
    {
     "name": "stdout",
     "output_type": "stream",
     "text": [
      "[['cant', []], ['complete', ['i', 'ipt']], ['ipt', ['complete']], ['dont', []], ['push', ['i']], ['rt', []], ['mean', ['it', 'it']], ['clear', []], ['years', []], ['year', []], ['year', []]]\n",
      "['cant', []]\n",
      "['complete', ['i', 'ipt']]\n",
      "['ipt', ['complete']]\n",
      "['dont', []]\n",
      "['push', ['i']]\n",
      "['rt', []]\n",
      "['mean', ['it', 'it']]\n",
      "['clear', []]\n",
      "['years', []]\n",
      "['year', []]\n",
      "['year', []]\n",
      "Review Number :  504\n"
     ]
    },
    {
     "name": "stderr",
     "output_type": "stream",
     "text": [
      "\r",
      " 15%|███████████▊                                                                   | 505/3390 [06:02<24:48,  1.94it/s]"
     ]
    },
    {
     "name": "stdout",
     "output_type": "stream",
     "text": [
      "[['even', []], ['ippt', ['pass']], ['icti', []], ['still', []], ['clear', ['rt']], ['rt', ['clear']]]\n",
      "['even', []]\n",
      "['ippt', ['pass']]\n",
      "['icti', []]\n",
      "['still', []]\n",
      "['clear', ['rt']]\n",
      "['rt', ['clear']]\n",
      "Review Number :  505\n"
     ]
    },
    {
     "name": "stderr",
     "output_type": "stream",
     "text": [
      "\r",
      " 15%|███████████▊                                                                   | 506/3390 [06:03<29:25,  1.63it/s]"
     ]
    },
    {
     "name": "stdout",
     "output_type": "stream",
     "text": [
      "[['ictippt', []], ['u', ['have', 'attended']], ['ict', ['have']], ['means', ['this']], ['u', ['have', 'attended']], ['ippt', ['attended']], ['ict', ['have']], ['u', ['have', 'attended']], ['window', []], ['rt', []]]\n",
      "['ictippt', []]\n",
      "['u', ['have', 'attended']]\n",
      "['ict', ['have']]\n",
      "['means', ['this']]\n",
      "['u', ['have', 'attended']]\n",
      "['ippt', ['attended']]\n",
      "['ict', ['have']]\n",
      "['u', ['have', 'attended']]\n",
      "['window', []]\n",
      "['rt', []]\n",
      "Review Number :  506\n"
     ]
    },
    {
     "name": "stderr",
     "output_type": "stream",
     "text": [
      "\r",
      " 15%|███████████▊                                                                   | 507/3390 [06:04<36:06,  1.33it/s]"
     ]
    },
    {
     "name": "stdout",
     "output_type": "stream",
     "text": [
      "[['idea', ['have']], ['till', []], ['folks', ['has']], ['still', []], ['rt', ['requirement']], ['years', []], ['rt', ['requirement']], ['requirement', ['rt']], ['complete', ['dsession']], ['dsession', ['complete']], ['windowsee', []], ['seehttpswwwnssgwebportalnsmenhidelinesrtrt', []]]\n",
      "['idea', ['have']]\n",
      "['till', []]\n",
      "['folks', ['has']]\n",
      "['still', []]\n",
      "['rt', ['requirement']]\n",
      "['years', []]\n",
      "['rt', ['requirement']]\n",
      "['requirement', ['rt']]\n",
      "['complete', ['dsession']]\n",
      "['dsession', ['complete']]\n",
      "['windowsee', []]\n",
      "['seehttpswwwnssgwebportalnsmenhidelinesrtrt', []]\n",
      "Review Number :  507\n"
     ]
    },
    {
     "name": "stderr",
     "output_type": "stream",
     "text": [
      "\r",
      " 15%|███████████▊                                                                   | 508/3390 [06:05<45:19,  1.06it/s]"
     ]
    },
    {
     "name": "stdout",
     "output_type": "stream",
     "text": [
      "[['nonoi', []], ['understandipt', ['was']], ['yearwindow', []], ['windowrt', []], ['yearcycle', []], ['rti', ['completing']], ['windows', ['doing']], ['requirements', []], ['rti', ['completing']], ['also', []], ['window', []], ['cycle', ['clearing', 'clearing']], ['iconfuse', ['clearing']], ['rt', ['clearing']], ['previous', []], ['cycle', ['clearing', 'clearing']], ['years', []], ['cycle', ['clearing', 'clearing']]]\n",
      "['nonoi', []]\n",
      "['understandipt', ['was']]\n",
      "['yearwindow', []]\n",
      "['windowrt', []]\n",
      "['yearcycle', []]\n",
      "['rti', ['completing']]\n",
      "['windows', ['doing']]\n",
      "['requirements', []]\n",
      "['rti', ['completing']]\n",
      "['also', []]\n",
      "['window', []]\n",
      "['cycle', ['clearing', 'clearing']]\n",
      "['iconfuse', ['clearing']]\n",
      "['rt', ['clearing']]\n",
      "['previous', []]\n",
      "['cycle', ['clearing', 'clearing']]\n",
      "['years', []]\n",
      "['cycle', ['clearing', 'clearing']]\n",
      "Review Number :  508\n"
     ]
    },
    {
     "name": "stderr",
     "output_type": "stream",
     "text": [
      "\r",
      " 15%|███████████▊                                                                   | 509/3390 [06:06<42:50,  1.12it/s]"
     ]
    },
    {
     "name": "stdout",
     "output_type": "stream",
     "text": [
      "[['anybody', ['tried', 'tried']], ['extension', ['given']], ['usually', []], ['extension', ['given']], ['long', []], ['anybody', ['tried', 'tried']], ['rt', ['booking']], ['suddenly', []], ['unable', []], ['commit', []], ['guys', ['thank']], ['information', []]]\n",
      "['anybody', ['tried', 'tried']]\n",
      "['extension', ['given']]\n",
      "['usually', []]\n",
      "['extension', ['given']]\n",
      "['long', []]\n",
      "['anybody', ['tried', 'tried']]\n",
      "['rt', ['booking']]\n",
      "['suddenly', []]\n",
      "['unable', []]\n",
      "['commit', []]\n",
      "['guys', ['thank']]\n",
      "['information', []]\n",
      "Review Number :  509\n"
     ]
    },
    {
     "name": "stderr",
     "output_type": "stream",
     "text": [
      "\r",
      " 15%|███████████▉                                                                   | 510/3390 [06:07<43:46,  1.10it/s]"
     ]
    },
    {
     "name": "stdout",
     "output_type": "stream",
     "text": [
      "[['rt', ['thing']], ['ipt', []], ['sessions', ['thing']], ['essentially', []], ['thing', ['rt', 'sessions']], ['friend', ['signs']], ['signs', ['friend']], ['sign', ['i']], ['ipt', []], ['session', []], ['day', []], ['time', []], ['train', []], ['together', []]]\n",
      "['rt', ['thing']]\n",
      "['ipt', []]\n",
      "['sessions', ['thing']]\n",
      "['essentially', []]\n",
      "['thing', ['rt', 'sessions']]\n",
      "['friend', ['signs']]\n",
      "['signs', ['friend']]\n",
      "['sign', ['i']]\n",
      "['ipt', []]\n",
      "['session', []]\n",
      "['day', []]\n",
      "['time', []]\n",
      "['train', []]\n",
      "['together', []]\n",
      "Review Number :  510\n"
     ]
    },
    {
     "name": "stderr",
     "output_type": "stream",
     "text": [
      "\r",
      " 15%|███████████▉                                                                   | 511/3390 [06:09<58:59,  1.23s/it]"
     ]
    },
    {
     "name": "stdout",
     "output_type": "stream",
     "text": [
      "[['year', ['cycle']], ['never', []], ['ever', []], ['years', []], ['cycle', ['year']], ['yearu', ['need']], ['still', []], ['complete', ['sessions']], ['drt', []], ['sessions', ['complete']], ['number', ['d']], ['sessions', ['complete']], ['yearillustration', []], ['illustrationyear', []], ['ipt', []], ['year', ['cycle']], ['rts', ['do', 'do']], ['rts', ['do', 'do']], ['year', ['cycle']], ['rts', ['do', 'do']], ['severe', []], ['disciplinary', []], ['actions', []]]\n",
      "['year', ['cycle']]\n",
      "['never', []]\n",
      "['ever', []]\n",
      "['years', []]\n",
      "['cycle', ['year']]\n",
      "['yearu', ['need']]\n",
      "['still', []]\n",
      "['complete', ['sessions']]\n",
      "['drt', []]\n",
      "['sessions', ['complete']]\n",
      "['number', ['d']]\n",
      "['sessions', ['complete']]\n",
      "['yearillustration', []]\n",
      "['illustrationyear', []]\n",
      "['ipt', []]\n",
      "['year', ['cycle']]\n",
      "['rts', ['do', 'do']]\n",
      "['rts', ['do', 'do']]\n",
      "['year', ['cycle']]\n",
      "['rts', ['do', 'do']]\n",
      "['severe', []]\n",
      "['disciplinary', []]\n",
      "['actions', []]\n",
      "Review Number :  511\n"
     ]
    },
    {
     "name": "stderr",
     "output_type": "stream",
     "text": [
      "\r",
      " 15%|███████████▋                                                                 | 512/3390 [06:11<1:06:53,  1.39s/it]"
     ]
    },
    {
     "name": "stdout",
     "output_type": "stream",
     "text": [
      "[['thanks', []], ['information', []], ['help', ['it']], ['complete', ['loti', 'rt']], ['rt', ['complete']], ['yearrequirement', []], ['requirementtill', ['drag']], ['joffany', []], ['rt', ['complete']], ['ipt', []], ['sessions', []], ['essentially', []], ['thing', []], ['friend', ['signs']], ['signs', ['friend']], ['sign', ['i']], ['ipt', []], ['session', []], ['day', []], ['time', []], ['train', []], ['together', []], ['yes', []], ['colorgroup', []], ['groupavailability', []]]\n",
      "['thanks', []]\n",
      "['information', []]\n",
      "['help', ['it']]\n",
      "['complete', ['loti', 'rt']]\n",
      "['rt', ['complete']]\n",
      "['yearrequirement', []]\n",
      "['requirementtill', ['drag']]\n",
      "['joffany', []]\n",
      "['rt', ['complete']]\n",
      "['ipt', []]\n",
      "['sessions', []]\n",
      "['essentially', []]\n",
      "['thing', []]\n",
      "['friend', ['signs']]\n",
      "['signs', ['friend']]\n",
      "['sign', ['i']]\n",
      "['ipt', []]\n",
      "['session', []]\n",
      "['day', []]\n",
      "['time', []]\n",
      "['train', []]\n",
      "['together', []]\n",
      "['yes', []]\n",
      "['colorgroup', []]\n",
      "['groupavailability', []]\n",
      "Review Number :  512\n"
     ]
    },
    {
     "name": "stderr",
     "output_type": "stream",
     "text": [
      "\r",
      " 15%|███████████▋                                                                 | 513/3390 [06:16<2:06:57,  2.65s/it]"
     ]
    },
    {
     "name": "stdout",
     "output_type": "stream",
     "text": [
      "[['maybe', []], ['people', ['heard']], ['flaw', []], ['rtsystem', []], ['st', []], ['year', []], ['fail', ['you', 'ippt']], ['ippt', ['fail', 'pass', 'attend', 'clear']], ['last', []], ['day', []], ['current', []], ['st', []], ['yearwindow', []], ['rt', ['do', 'do']], ['second', []], ['yearwindow', []], ['second', []], ['yearippt', []], ['ipptwindow', ['opens']], ['however', []], ['rtsession', ['completed']], ['year', []], ['nd', []], ['ipptwindow', ['opens']], ['automatically', []], ['effectively', []], ['rt', ['do', 'do']], ['years', ['do']], ['laojiao', ['know']], ['early', []], ['days', []], ['ippt', ['fail', 'pass', 'attend', 'clear']], ['easily', []], ['probably', []], ['even', []], ['ways', ['are']], ['minimum', []], ['amount', ['calculate', 'get']], ['times', []], ['fcc', []], ['amount', ['calculate', 'get']], ['time', []], ['disciplinary', []], ['warning', ['get']], ['ns', []], ['penaltycost', []], ['discuss', ['i', 'this']], ['however', []], ['nssg', []], ['update', []], ['system', []], ['years', ['do']], ['ago', []], ['soldiers', ['required']], ['ippt', ['fail', 'pass', 'attend', 'clear']], ['asap', []], ['else', []], ['face', ['action']], ['disciplinary', []], ['action', ['face']], ['year', []], ['term', []], ['clear', ['ippt']], ['ippt', ['fail', 'pass', 'attend', 'clear']], ['passstatus', []], ['completion', []], ['iptrt', []], ['window', []], ['patch', ['believe']], ['actually', []], ['rtipt', []], ['good', []], ['days', []], ['healthy', []], ['choiceisnt', []]]\n",
      "['maybe', []]\n",
      "['people', ['heard']]\n",
      "['flaw', []]\n",
      "['rtsystem', []]\n",
      "['st', []]\n",
      "['year', []]\n",
      "['fail', ['you', 'ippt']]\n",
      "['ippt', ['fail', 'pass', 'attend', 'clear']]\n",
      "['last', []]\n",
      "['day', []]\n",
      "['current', []]\n",
      "['st', []]\n",
      "['yearwindow', []]\n",
      "['rt', ['do', 'do']]\n",
      "['second', []]\n",
      "['yearwindow', []]\n",
      "['second', []]\n",
      "['yearippt', []]\n",
      "['ipptwindow', ['opens']]\n",
      "['however', []]\n",
      "['rtsession', ['completed']]\n",
      "['year', []]\n",
      "['nd', []]\n",
      "['ipptwindow', ['opens']]\n",
      "['automatically', []]\n",
      "['effectively', []]\n",
      "['rt', ['do', 'do']]\n",
      "['years', ['do']]\n",
      "['laojiao', ['know']]\n",
      "['early', []]\n",
      "['days', []]\n",
      "['ippt', ['fail', 'pass', 'attend', 'clear']]\n",
      "['easily', []]\n",
      "['probably', []]\n",
      "['even', []]\n",
      "['ways', ['are']]\n",
      "['minimum', []]\n",
      "['amount', ['calculate', 'get']]\n",
      "['times', []]\n",
      "['fcc', []]\n",
      "['amount', ['calculate', 'get']]\n",
      "['time', []]\n",
      "['disciplinary', []]\n",
      "['warning', ['get']]\n",
      "['ns', []]\n",
      "['penaltycost', []]\n",
      "['discuss', ['i', 'this']]\n",
      "['however', []]\n",
      "['nssg', []]\n",
      "['update', []]\n",
      "['system', []]\n",
      "['years', ['do']]\n",
      "['ago', []]\n",
      "['soldiers', ['required']]\n",
      "['ippt', ['fail', 'pass', 'attend', 'clear']]\n",
      "['asap', []]\n",
      "['else', []]\n",
      "['face', ['action']]\n",
      "['disciplinary', []]\n",
      "['action', ['face']]\n",
      "['year', []]\n",
      "['term', []]\n",
      "['clear', ['ippt']]\n",
      "['ippt', ['fail', 'pass', 'attend', 'clear']]\n",
      "['passstatus', []]\n",
      "['completion', []]\n",
      "['iptrt', []]\n",
      "['window', []]\n",
      "['patch', ['believe']]\n",
      "['actually', []]\n",
      "['rtipt', []]\n",
      "['good', []]\n",
      "['days', []]\n",
      "['healthy', []]\n",
      "['choiceisnt', []]\n",
      "Review Number :  513\n"
     ]
    },
    {
     "name": "stderr",
     "output_type": "stream",
     "text": [
      "\r",
      " 15%|███████████▋                                                                 | 514/3390 [06:17<1:35:37,  1.99s/it]"
     ]
    },
    {
     "name": "stdout",
     "output_type": "stream",
     "text": [
      "[['hi', []], ['anyone', ['know']], ['bedok', []], ['fcc', ['have']], ['kpopmma', ['have']], ['rt', []], ['sessions', ['have']]]\n",
      "['hi', []]\n",
      "['anyone', ['know']]\n",
      "['bedok', []]\n",
      "['fcc', ['have']]\n",
      "['kpopmma', ['have']]\n",
      "['rt', []]\n",
      "['sessions', ['have']]\n",
      "Review Number :  514\n"
     ]
    },
    {
     "name": "stderr",
     "output_type": "stream",
     "text": [
      "\r",
      " 15%|███████████▋                                                                 | 515/3390 [06:17<1:13:00,  1.52s/it]"
     ]
    },
    {
     "name": "stdout",
     "output_type": "stream",
     "text": [
      "[['anyone', ['know']], ['dresscode', ['know']], ['ipptsafra', []], ['first', []], ['time', []]]\n",
      "['anyone', ['know']]\n",
      "['dresscode', ['know']]\n",
      "['ipptsafra', []]\n",
      "['first', []]\n",
      "['time', []]\n",
      "Review Number :  515\n"
     ]
    },
    {
     "name": "stderr",
     "output_type": "stream",
     "text": [
      "\r",
      " 15%|████████████                                                                   | 516/3390 [06:18<57:28,  1.20s/it]"
     ]
    },
    {
     "name": "stdout",
     "output_type": "stream",
     "text": [
      "[['pt', []], ['standard', []], ['regardless', []], ['ictippt', []], ['fccs', []], ['safra', []]]\n",
      "['pt', []]\n",
      "['standard', []]\n",
      "['regardless', []]\n",
      "['ictippt', []]\n",
      "['fccs', []]\n",
      "['safra', []]\n",
      "Review Number :  516\n"
     ]
    },
    {
     "name": "stderr",
     "output_type": "stream",
     "text": [
      "\r",
      " 15%|████████████                                                                   | 517/3390 [06:18<48:46,  1.02s/it]"
     ]
    },
    {
     "name": "stdout",
     "output_type": "stream",
     "text": [
      "[['always', []], ['spoon', []], ['feed', ['get']], ['u', ['follow']], ['letter', ['send']], ['advance', []], ['u', ['follow']], ['instructions', ['follow']]]\n",
      "['always', []]\n",
      "['spoon', []]\n",
      "['feed', ['get']]\n",
      "['u', ['follow']]\n",
      "['letter', ['send']]\n",
      "['advance', []]\n",
      "['u', ['follow']]\n",
      "['instructions', ['follow']]\n",
      "Review Number :  517\n"
     ]
    },
    {
     "name": "stderr",
     "output_type": "stream",
     "text": [
      "\r",
      " 15%|████████████                                                                   | 518/3390 [06:19<48:20,  1.01s/it]"
     ]
    },
    {
     "name": "stdout",
     "output_type": "stream",
     "text": [
      "[['nowadays', []], ['life', ['plenty']], ['good', []], ['plenty', ['life']], ['time', ['have']], ['window', []], ['clear', ['rt']], ['rt', ['clear']], ['last', []], ['time', ['have']], ['time', ['have']], ['squeeze', ['sessions']], ['sessions', ['squeeze']], ['mths', []], ['u', ['absent']], ['absent', ['u', 'session']], ['session', ['absent']], ['diff', ['make']]]\n",
      "['nowadays', []]\n",
      "['life', ['plenty']]\n",
      "['good', []]\n",
      "['plenty', ['life']]\n",
      "['time', ['have']]\n",
      "['window', []]\n",
      "['clear', ['rt']]\n",
      "['rt', ['clear']]\n",
      "['last', []]\n",
      "['time', ['have']]\n",
      "['time', ['have']]\n",
      "['squeeze', ['sessions']]\n",
      "['sessions', ['squeeze']]\n",
      "['mths', []]\n",
      "['u', ['absent']]\n",
      "['absent', ['u', 'session']]\n",
      "['session', ['absent']]\n",
      "['diff', ['make']]\n",
      "Review Number :  518\n"
     ]
    },
    {
     "name": "stderr",
     "output_type": "stream",
     "text": [
      "\r",
      " 15%|████████████                                                                   | 519/3390 [06:20<42:48,  1.12it/s]"
     ]
    },
    {
     "name": "stdout",
     "output_type": "stream",
     "text": [
      "[['dunnoabt', []], ['abtbedok', []], ['kpop', []], ['available', []], ['khatib', []], ['thursday', []], ['u', ['have']], ['try', []], ['ur', []], ['luckcuz', ['change']], ['cuzfcc', []], ['always', []], ['program', ['change']]]\n",
      "['dunnoabt', []]\n",
      "['abtbedok', []]\n",
      "['kpop', []]\n",
      "['available', []]\n",
      "['khatib', []]\n",
      "['thursday', []]\n",
      "['u', ['have']]\n",
      "['try', []]\n",
      "['ur', []]\n",
      "['luckcuz', ['change']]\n",
      "['cuzfcc', []]\n",
      "['always', []]\n",
      "['program', ['change']]\n",
      "Review Number :  519\n"
     ]
    },
    {
     "name": "stderr",
     "output_type": "stream",
     "text": [
      "\r",
      " 15%|████████████                                                                   | 520/3390 [06:21<51:39,  1.08s/it]"
     ]
    },
    {
     "name": "stdout",
     "output_type": "stream",
     "text": [
      "[['ragnarok', ['wrote']], ['mred', ['you', 'ippt']], ['ippt', ['mred']], ['doesnt', []], ['matter', []], ['clear', ['you']], ['clear', ['you']], ['wait', ['you']], ['days', []], ['inside', []], ['ns', []], ['portal', ['requires']], ['ippt', ['mred']], ['applicable', []], ['thks', []], ['guys', ['put']], ['ns', []], ['portal', ['requires']], ['still', []], ['ippti', ['take']], ['april', []], ['see', []]]\n",
      "['ragnarok', ['wrote']]\n",
      "['mred', ['you', 'ippt']]\n",
      "['ippt', ['mred']]\n",
      "['doesnt', []]\n",
      "['matter', []]\n",
      "['clear', ['you']]\n",
      "['clear', ['you']]\n",
      "['wait', ['you']]\n",
      "['days', []]\n",
      "['inside', []]\n",
      "['ns', []]\n",
      "['portal', ['requires']]\n",
      "['ippt', ['mred']]\n",
      "['applicable', []]\n",
      "['thks', []]\n",
      "['guys', ['put']]\n",
      "['ns', []]\n",
      "['portal', ['requires']]\n",
      "['still', []]\n",
      "['ippti', ['take']]\n",
      "['april', []]\n",
      "['see', []]\n",
      "Review Number :  520\n"
     ]
    },
    {
     "name": "stderr",
     "output_type": "stream",
     "text": [
      "\r",
      " 15%|████████████▏                                                                  | 521/3390 [06:22<51:29,  1.08s/it]"
     ]
    },
    {
     "name": "stdout",
     "output_type": "stream",
     "text": [
      "[['hi', []], ['guys', ['going']], ['first', []], ['rtsession', []], ['week', []], ['pm', []], ['majuill', ['rushing']], ['work', []], ['eta', ['imafraid']], ['exactly', []], ['pm', []], ['imafraid', ['eta', 'late']], ['afraidill', []], ['slightly', []], ['late', ['imafraid']], ['theres', ['jam', 'idea']], ['idea', ['theres']], ['cutofftime', ['what']], ['inpro', []]]\n",
      "['hi', []]\n",
      "['guys', ['going']]\n",
      "['first', []]\n",
      "['rtsession', []]\n",
      "['week', []]\n",
      "['pm', []]\n",
      "['majuill', ['rushing']]\n",
      "['work', []]\n",
      "['eta', ['imafraid']]\n",
      "['exactly', []]\n",
      "['pm', []]\n",
      "['imafraid', ['eta', 'late']]\n",
      "['afraidill', []]\n",
      "['slightly', []]\n",
      "['late', ['imafraid']]\n",
      "['theres', ['jam', 'idea']]\n",
      "['idea', ['theres']]\n",
      "['cutofftime', ['what']]\n",
      "['inpro', []]\n",
      "Review Number :  521\n"
     ]
    },
    {
     "name": "stderr",
     "output_type": "stream",
     "text": [
      "\r",
      " 15%|████████████▏                                                                  | 522/3390 [06:23<42:00,  1.14it/s]"
     ]
    },
    {
     "name": "stdout",
     "output_type": "stream",
     "text": [
      "[['epep', []], ['pepb', ['any', 'wats']], ['wats', ['pepb']], ['sent', ['it']], ['samsungsmaf', []], ['gagt', []]]\n",
      "['epep', []]\n",
      "['pepb', ['any', 'wats']]\n",
      "['wats', ['pepb']]\n",
      "['sent', ['it']]\n",
      "['samsungsmaf', []]\n",
      "['gagt', []]\n",
      "Review Number :  522\n"
     ]
    },
    {
     "name": "stderr",
     "output_type": "stream",
     "text": [
      "\r",
      " 15%|████████████▏                                                                  | 523/3390 [06:23<35:01,  1.36it/s]"
     ]
    },
    {
     "name": "stdout",
     "output_type": "stream",
     "text": [
      "[['mins', []], ['n', []], ['u', ['are']], ['already', []], ['properly', []]]\n",
      "['mins', []]\n",
      "['n', []]\n",
      "['u', ['are']]\n",
      "['already', []]\n",
      "['properly', []]\n",
      "Review Number :  523\n"
     ]
    },
    {
     "name": "stderr",
     "output_type": "stream",
     "text": [
      "\r",
      " 15%|████████████▏                                                                  | 524/3390 [06:24<34:38,  1.38it/s]"
     ]
    },
    {
     "name": "stdout",
     "output_type": "stream",
     "text": [
      "[['u', ['seen']], ['httpswwwnssgwebportalnsmenhtsafraepep', ['seen']], ['basically', []], ['nd', []], ['th', []], ['sessionu', ['exercising']], ['gym', []]]\n",
      "['u', ['seen']]\n",
      "['httpswwwnssgwebportalnsmenhtsafraepep', ['seen']]\n",
      "['basically', []]\n",
      "['nd', []]\n",
      "['th', []]\n",
      "['sessionu', ['exercising']]\n",
      "['gym', []]\n",
      "Review Number :  524\n"
     ]
    },
    {
     "name": "stderr",
     "output_type": "stream",
     "text": [
      "\r",
      " 15%|████████████▏                                                                  | 525/3390 [06:25<41:30,  1.15it/s]"
     ]
    },
    {
     "name": "stdout",
     "output_type": "stream",
     "text": [
      "[['hi', []], ['anyone', ['has']], ['tues', []], ['ipt', ['done']], ['bedokcamp', []], ['really', []], ['pm', []], ['sharp', []], ['im', []], ['try', ['this']], ['officelunch', []], ['back', []], ['office', []], ['bit', []], ['squeeze', []], ['sharp', []]]\n",
      "['hi', []]\n",
      "['anyone', ['has']]\n",
      "['tues', []]\n",
      "['ipt', ['done']]\n",
      "['bedokcamp', []]\n",
      "['really', []]\n",
      "['pm', []]\n",
      "['sharp', []]\n",
      "['im', []]\n",
      "['try', ['this']]\n",
      "['officelunch', []]\n",
      "['back', []]\n",
      "['office', []]\n",
      "['bit', []]\n",
      "['squeeze', []]\n",
      "['sharp', []]\n",
      "Review Number :  525\n"
     ]
    },
    {
     "name": "stderr",
     "output_type": "stream",
     "text": [
      "\r",
      " 16%|████████████▎                                                                  | 526/3390 [06:26<39:56,  1.20it/s]"
     ]
    },
    {
     "name": "stdout",
     "output_type": "stream",
     "text": [
      "[['havent', []], ['rt', ['completed', 'complete']], ['mr', ['i']], ['complete', ['rt']], ['sessions', []], ['imr', []]]\n",
      "['havent', []]\n",
      "['rt', ['completed', 'complete']]\n",
      "['mr', ['i']]\n",
      "['complete', ['rt']]\n",
      "['sessions', []]\n",
      "['imr', []]\n",
      "Review Number :  526\n"
     ]
    },
    {
     "name": "stderr",
     "output_type": "stream",
     "text": [
      "\r",
      " 16%|████████████▎                                                                  | 527/3390 [06:26<35:04,  1.36it/s]"
     ]
    },
    {
     "name": "stdout",
     "output_type": "stream",
     "text": [
      "[['basically', []], ['mr', []], ['u', ['need']], ['need', ['u']], ['complete', ['rt']], ['rt', ['complete']], ['anymore', []], ['ippt', []]]\n",
      "['basically', []]\n",
      "['mr', []]\n",
      "['u', ['need']]\n",
      "['need', ['u']]\n",
      "['complete', ['rt']]\n",
      "['rt', ['complete']]\n",
      "['anymore', []]\n",
      "['ippt', []]\n",
      "Review Number :  527\n"
     ]
    },
    {
     "name": "stderr",
     "output_type": "stream",
     "text": [
      "\r",
      " 16%|████████████▎                                                                  | 528/3390 [06:27<32:01,  1.49it/s]"
     ]
    },
    {
     "name": "stdout",
     "output_type": "stream",
     "text": [
      "[['maju', []], ['camp', ['using']], ['sit', ['using']], ['push', ['machines']], ['machines', ['push']], ['still', []], ['manual', []]]\n",
      "['maju', []]\n",
      "['camp', ['using']]\n",
      "['sit', ['using']]\n",
      "['push', ['machines']]\n",
      "['machines', ['push']]\n",
      "['still', []]\n",
      "['manual', []]\n",
      "Review Number :  528\n"
     ]
    },
    {
     "name": "stderr",
     "output_type": "stream",
     "text": [
      "\r",
      " 16%|████████████▎                                                                  | 529/3390 [06:27<25:49,  1.85it/s]"
     ]
    },
    {
     "name": "stdout",
     "output_type": "stream",
     "text": [
      "[['thanks', []], ['chars', []]]\n",
      "['thanks', []]\n",
      "['chars', []]\n",
      "Review Number :  529\n"
     ]
    },
    {
     "name": "stderr",
     "output_type": "stream",
     "text": [
      "\r",
      " 16%|████████████▎                                                                  | 530/3390 [06:28<32:06,  1.48it/s]"
     ]
    },
    {
     "name": "stdout",
     "output_type": "stream",
     "text": [
      "[['ippt', ['took']], ['mar', []], ['last', []], ['sat', ['manual']], ['still', []], ['manual', ['sat']], ['physical', []], ['trainer', []], ['start', ['they']], ['machine', ['using']], ['start', ['they']], ['onward', []]]\n",
      "['ippt', ['took']]\n",
      "['mar', []]\n",
      "['last', []]\n",
      "['sat', ['manual']]\n",
      "['still', []]\n",
      "['manual', ['sat']]\n",
      "['physical', []]\n",
      "['trainer', []]\n",
      "['start', ['they']]\n",
      "['machine', ['using']]\n",
      "['start', ['they']]\n",
      "['onward', []]\n",
      "Review Number :  530\n"
     ]
    },
    {
     "name": "stderr",
     "output_type": "stream",
     "text": [
      "\r",
      " 16%|████████████▎                                                                  | 531/3390 [06:29<33:14,  1.43it/s]"
     ]
    },
    {
     "name": "stdout",
     "output_type": "stream",
     "text": [
      "[['thanks', []], ['push', []], ['machines', ['interesting']], ['quite', []], ['dont', []], ['capture', ['it', 'count']], ['count', ['capture']], ['sit', []], ['ups', []], ['still', []], ['machine', ['prefer']], ['manual', []]]\n",
      "['thanks', []]\n",
      "['push', []]\n",
      "['machines', ['interesting']]\n",
      "['quite', []]\n",
      "['dont', []]\n",
      "['capture', ['it', 'count']]\n",
      "['count', ['capture']]\n",
      "['sit', []]\n",
      "['ups', []]\n",
      "['still', []]\n",
      "['machine', ['prefer']]\n",
      "['manual', []]\n",
      "Review Number :  531\n"
     ]
    },
    {
     "name": "stderr",
     "output_type": "stream",
     "text": [
      "\r",
      " 16%|████████████▍                                                                  | 532/3390 [06:29<29:52,  1.59it/s]"
     ]
    },
    {
     "name": "stdout",
     "output_type": "stream",
     "text": [
      "[['wa', []], ['u', ['know', 'know', 'wasting']], ['u', ['know', 'know', 'wasting']], ['ggmr', []], ['u', ['know', 'know', 'wasting']], ['shdnt', []], ['even', []], ['time', ['wasting']], ['rt', ['attending']]]\n",
      "['wa', []]\n",
      "['u', ['know', 'know', 'wasting']]\n",
      "['u', ['know', 'know', 'wasting']]\n",
      "['ggmr', []]\n",
      "['u', ['know', 'know', 'wasting']]\n",
      "['shdnt', []]\n",
      "['even', []]\n",
      "['time', ['wasting']]\n",
      "['rt', ['attending']]\n",
      "Review Number :  532\n"
     ]
    },
    {
     "name": "stderr",
     "output_type": "stream",
     "text": [
      "\r",
      " 16%|████████████▍                                                                  | 533/3390 [06:30<35:02,  1.36it/s]"
     ]
    },
    {
     "name": "stdout",
     "output_type": "stream",
     "text": [
      "[['still', []], ['ns', []], ['portal', []], ['able', []], ['book', ['leh']], ['rt', []], ['leh', ['book']], ['system', []], ['yet', []], ['update', []], ['letterwatch', []], ['watchmedal', ['got']], ['cpf', []], ['last', []], ['year', []], ['mr', []], ['date', ['st']], ['st', ['date']], ['march', []], ['stapr', []]]\n",
      "['still', []]\n",
      "['ns', []]\n",
      "['portal', []]\n",
      "['able', []]\n",
      "['book', ['leh']]\n",
      "['rt', []]\n",
      "['leh', ['book']]\n",
      "['system', []]\n",
      "['yet', []]\n",
      "['update', []]\n",
      "['letterwatch', []]\n",
      "['watchmedal', ['got']]\n",
      "['cpf', []]\n",
      "['last', []]\n",
      "['year', []]\n",
      "['mr', []]\n",
      "['date', ['st']]\n",
      "['st', ['date']]\n",
      "['march', []]\n",
      "['stapr', []]\n",
      "Review Number :  533\n"
     ]
    },
    {
     "name": "stderr",
     "output_type": "stream",
     "text": [
      "\r",
      " 16%|████████████▍                                                                  | 534/3390 [06:31<38:15,  1.24it/s]"
     ]
    },
    {
     "name": "stdout",
     "output_type": "stream",
     "text": [
      "[['oooi', ['mr']], ['also', []], ['stapr', ['got']], ['letterwatch', []], ['watchmedal', []], ['medalcpf', ['got']], ['last', []], ['year', []], ['system', ['updated']], ['also', []], ['mine', ['updated']], ['yet', []], ['anyway', []], ['ippt', ['took', 'squeeze']], ['mar', []], ['squeeze', ['ippt']], ['last', []], ['ippt', ['took', 'squeeze']], ['moneyp', []]]\n",
      "['oooi', ['mr']]\n",
      "['also', []]\n",
      "['stapr', ['got']]\n",
      "['letterwatch', []]\n",
      "['watchmedal', []]\n",
      "['medalcpf', ['got']]\n",
      "['last', []]\n",
      "['year', []]\n",
      "['system', ['updated']]\n",
      "['also', []]\n",
      "['mine', ['updated']]\n",
      "['yet', []]\n",
      "['anyway', []]\n",
      "['ippt', ['took', 'squeeze']]\n",
      "['mar', []]\n",
      "['squeeze', ['ippt']]\n",
      "['last', []]\n",
      "['ippt', ['took', 'squeeze']]\n",
      "['moneyp', []]\n",
      "Review Number :  534\n"
     ]
    },
    {
     "name": "stderr",
     "output_type": "stream",
     "text": [
      "\r",
      " 16%|████████████▍                                                                  | 535/3390 [06:33<44:58,  1.06it/s]"
     ]
    },
    {
     "name": "stdout",
     "output_type": "stream",
     "text": [
      "[['ippt', ['took']], ['push', []], ['machinedamn', []], ['strict', []], ['sia', []], ['backside', ['using']], ['abit', []], ['count', []], ['backside', ['using']], ['abit', []], ['count', []], ['body', ['streamline']], ['streamline', ['body', 'fitnessinstructor']], ['fitnessinstructor', ['streamline']], ['alot', ['use']], ['people', []], ['omg', []]]\n",
      "['ippt', ['took']]\n",
      "['push', []]\n",
      "['machinedamn', []]\n",
      "['strict', []]\n",
      "['sia', []]\n",
      "['backside', ['using']]\n",
      "['abit', []]\n",
      "['count', []]\n",
      "['backside', ['using']]\n",
      "['abit', []]\n",
      "['count', []]\n",
      "['body', ['streamline']]\n",
      "['streamline', ['body', 'fitnessinstructor']]\n",
      "['fitnessinstructor', ['streamline']]\n",
      "['alot', ['use']]\n",
      "['people', []]\n",
      "['omg', []]\n",
      "Review Number :  535\n"
     ]
    },
    {
     "name": "stderr",
     "output_type": "stream",
     "text": [
      "\r",
      " 16%|████████████▍                                                                  | 536/3390 [06:33<40:43,  1.17it/s]"
     ]
    },
    {
     "name": "stdout",
     "output_type": "stream",
     "text": [
      "[['last', []], ['time', []], ['fren', ['bookrt']], ['bookrt', ['fren']], ['advthen', []], ['mrhe', ['he']], ['pro', []], ['rt', []], ['kenna', []], ['systemliao', []]]\n",
      "['last', []]\n",
      "['time', []]\n",
      "['fren', ['bookrt']]\n",
      "['bookrt', ['fren']]\n",
      "['advthen', []]\n",
      "['mrhe', ['he']]\n",
      "['pro', []]\n",
      "['rt', []]\n",
      "['kenna', []]\n",
      "['systemliao', []]\n",
      "Review Number :  536\n"
     ]
    },
    {
     "name": "stderr",
     "output_type": "stream",
     "text": [
      "\r",
      " 16%|████████████▌                                                                  | 537/3390 [06:34<33:58,  1.40it/s]"
     ]
    },
    {
     "name": "stdout",
     "output_type": "stream",
     "text": [
      "[['saf', ['lose']], ['lot', ['lose']], ['money', []], ['manual', []], ['system', []]]\n",
      "['saf', ['lose']]\n",
      "['lot', ['lose']]\n",
      "['money', []]\n",
      "['manual', []]\n",
      "['system', []]\n",
      "Review Number :  537\n"
     ]
    },
    {
     "name": "stderr",
     "output_type": "stream",
     "text": [
      "\r",
      " 16%|████████████▌                                                                  | 538/3390 [06:34<28:10,  1.69it/s]"
     ]
    },
    {
     "name": "stdout",
     "output_type": "stream",
     "text": [
      "[['machine', []], ['maju', []], ['camp', []]]\n",
      "['machine', []]\n",
      "['maju', []]\n",
      "['camp', []]\n",
      "Review Number :  538\n"
     ]
    },
    {
     "name": "stderr",
     "output_type": "stream",
     "text": [
      "\r",
      " 16%|████████████▌                                                                  | 539/3390 [06:34<24:52,  1.91it/s]"
     ]
    },
    {
     "name": "stdout",
     "output_type": "stream",
     "text": [
      "[['majucamp', []], ['camp', []], ['machine', ['using']]]\n",
      "['majucamp', []]\n",
      "['camp', []]\n",
      "['machine', ['using']]\n",
      "Review Number :  539\n"
     ]
    },
    {
     "name": "stderr",
     "output_type": "stream",
     "text": [
      "\r",
      " 16%|████████████▌                                                                  | 540/3390 [06:35<25:44,  1.85it/s]"
     ]
    },
    {
     "name": "stdout",
     "output_type": "stream",
     "text": [
      "[['ipt', []], ['sessions', ['completed']], ['month', []], ['still', []], ['ipt', []], ['get', []]]\n",
      "['ipt', []]\n",
      "['sessions', ['completed']]\n",
      "['month', []]\n",
      "['still', []]\n",
      "['ipt', []]\n",
      "['get', []]\n",
      "Review Number :  540\n"
     ]
    },
    {
     "name": "stderr",
     "output_type": "stream",
     "text": [
      "\r",
      " 16%|████████████▌                                                                  | 541/3390 [06:35<25:56,  1.83it/s]"
     ]
    },
    {
     "name": "stdout",
     "output_type": "stream",
     "text": [
      "[['hi', []], ['pass', ['we', 'iptippt']], ['first', []], ['iptippt', ['pass']], ['result', ['appeared']], ['ns', []], ['portal', []]]\n",
      "['hi', []]\n",
      "['pass', ['we', 'iptippt']]\n",
      "['first', []]\n",
      "['iptippt', ['pass']]\n",
      "['result', ['appeared']]\n",
      "['ns', []]\n",
      "['portal', []]\n",
      "Review Number :  541\n"
     ]
    },
    {
     "name": "stderr",
     "output_type": "stream",
     "text": [
      "\r",
      " 16%|████████████▋                                                                  | 542/3390 [06:36<29:56,  1.59it/s]"
     ]
    },
    {
     "name": "stdout",
     "output_type": "stream",
     "text": [
      "[['yes', []], ['system', ['update']], ['update', ['system', 'results']], ['results', ['update']], ['days', []], ['u', ['meet']], ['meet', ['u', 'incentivesawardu']], ['incentivesawardu', ['meet']], ['also', []], ['also', []], ['ipt', []], ['allowance', ['be']]]\n",
      "['yes', []]\n",
      "['system', ['update']]\n",
      "['update', ['system', 'results']]\n",
      "['results', ['update']]\n",
      "['days', []]\n",
      "['u', ['meet']]\n",
      "['meet', ['u', 'incentivesawardu']]\n",
      "['incentivesawardu', ['meet']]\n",
      "['also', []]\n",
      "['also', []]\n",
      "['ipt', []]\n",
      "['allowance', ['be']]\n",
      "Review Number :  542\n"
     ]
    },
    {
     "name": "stderr",
     "output_type": "stream",
     "text": [
      "\r",
      " 16%|████████████▋                                                                  | 543/3390 [06:37<36:22,  1.30it/s]"
     ]
    },
    {
     "name": "stdout",
     "output_type": "stream",
     "text": [
      "[['ipt', []], ['allowances', []], ['however', []], ['u', ['go']], ['still', []], ['ippt', []], ['first', []], ['ippt', []], ['sessions', []], ['ippts', ['you']], ['st', []], ['th', []], ['session', []], ['ipt', []]]\n",
      "['ipt', []]\n",
      "['allowances', []]\n",
      "['however', []]\n",
      "['u', ['go']]\n",
      "['still', []]\n",
      "['ippt', []]\n",
      "['first', []]\n",
      "['ippt', []]\n",
      "['sessions', []]\n",
      "['ippts', ['you']]\n",
      "['st', []]\n",
      "['th', []]\n",
      "['session', []]\n",
      "['ipt', []]\n",
      "Review Number :  543\n"
     ]
    },
    {
     "name": "stderr",
     "output_type": "stream",
     "text": [
      "\r",
      " 16%|████████████▋                                                                  | 544/3390 [06:38<31:44,  1.49it/s]"
     ]
    },
    {
     "name": "stdout",
     "output_type": "stream",
     "text": [
      "[['know', ['one']], ['bedok', []], ['camp', ['got']], ['free', []], ['parking', ['got']], ['ah', []]]\n",
      "['know', ['one']]\n",
      "['bedok', []]\n",
      "['camp', ['got']]\n",
      "['free', []]\n",
      "['parking', ['got']]\n",
      "['ah', []]\n",
      "Review Number :  544\n"
     ]
    },
    {
     "name": "stderr",
     "output_type": "stream",
     "text": [
      "\r",
      " 16%|████████████▋                                                                  | 545/3390 [06:38<30:59,  1.53it/s]"
     ]
    },
    {
     "name": "stdout",
     "output_type": "stream",
     "text": [
      "[['normally', []], ['ippt', ['take']], ['long', []], ['ah', []], ['mine', ['pm']], ['pm', ['mine']], ['time', ['finish']], ['finish', ['time', 'estimate']], ['estimate', ['finish']]]\n",
      "['normally', []]\n",
      "['ippt', ['take']]\n",
      "['long', []]\n",
      "['ah', []]\n",
      "['mine', ['pm']]\n",
      "['pm', ['mine']]\n",
      "['time', ['finish']]\n",
      "['finish', ['time', 'estimate']]\n",
      "['estimate', ['finish']]\n",
      "Review Number :  545\n"
     ]
    },
    {
     "name": "stderr",
     "output_type": "stream",
     "text": [
      "\r",
      " 16%|████████████▋                                                                  | 546/3390 [06:39<29:51,  1.59it/s]"
     ]
    },
    {
     "name": "stdout",
     "output_type": "stream",
     "text": [
      "[['pass', ['liaowan']], ['liaowan', ['pass']], ['pass', ['liaowan']], ['incentive', ['get']], ['get', ['i', 'incentive', 'allowance']], ['incentive', ['get']], ['allowance', ['get']], ['gagt', []]]\n",
      "['pass', ['liaowan']]\n",
      "['liaowan', ['pass']]\n",
      "['pass', ['liaowan']]\n",
      "['incentive', ['get']]\n",
      "['get', ['i', 'incentive', 'allowance']]\n",
      "['incentive', ['get']]\n",
      "['allowance', ['get']]\n",
      "['gagt', []]\n",
      "Review Number :  546\n"
     ]
    },
    {
     "name": "stderr",
     "output_type": "stream",
     "text": [
      "\r",
      " 16%|████████████▋                                                                  | 547/3390 [06:40<31:55,  1.48it/s]"
     ]
    },
    {
     "name": "stdout",
     "output_type": "stream",
     "text": [
      "[['test', ['hour']], ['half', []], ['hour', ['test']], ['factor', ['lo']], ['book', []], ['book', []], ['hr', []], ['lo', ['factor']], ['gagt', []]]\n",
      "['test', ['hour']]\n",
      "['half', []]\n",
      "['hour', ['test']]\n",
      "['factor', ['lo']]\n",
      "['book', []]\n",
      "['book', []]\n",
      "['hr', []]\n",
      "['lo', ['factor']]\n",
      "['gagt', []]\n",
      "Review Number :  547\n"
     ]
    },
    {
     "name": "stderr",
     "output_type": "stream",
     "text": [
      "\r",
      " 16%|████████████▊                                                                  | 548/3390 [06:41<33:10,  1.43it/s]"
     ]
    },
    {
     "name": "stdout",
     "output_type": "stream",
     "text": [
      "[['allowance', []], ['first', []], ['ippt', []], ['windowinclusive', []], ['nonict', []], ['ipptictippt', []], ['ictipptiptippt', []], ['iptipptrtippt', []]]\n",
      "['allowance', []]\n",
      "['first', []]\n",
      "['ippt', []]\n",
      "['windowinclusive', []]\n",
      "['nonict', []]\n",
      "['ipptictippt', []]\n",
      "['ictipptiptippt', []]\n",
      "['iptipptrtippt', []]\n",
      "Review Number :  548\n"
     ]
    },
    {
     "name": "stderr",
     "output_type": "stream",
     "text": [
      "\r",
      " 16%|████████████▊                                                                  | 549/3390 [06:41<28:16,  1.67it/s]"
     ]
    },
    {
     "name": "stdout",
     "output_type": "stream",
     "text": [
      "[['camps', ['parking']], ['free', []], ['nsmen', []]]\n",
      "['camps', ['parking']]\n",
      "['free', []]\n",
      "['nsmen', []]\n",
      "Review Number :  549\n"
     ]
    },
    {
     "name": "stderr",
     "output_type": "stream",
     "text": [
      "\r",
      " 16%|████████████▊                                                                  | 550/3390 [06:42<39:09,  1.21it/s]"
     ]
    },
    {
     "name": "stdout",
     "output_type": "stream",
     "text": [
      "[['ns', []], ['hotline', ['called']], ['cso', ['say']], ['dont', []], ['clear', ['rt']], ['rt', ['clear', 'ignore']], ['mri', []], ['mr', []], ['st', []], ['april', []], ['still', []], ['bookrt', []], ['system', ['read']], ['havent', []], ['update', ['read']], ['yet', []], ['ppl', ['read']], ['able', ['who']], ['bookrt', []], ['ignore', ['i', 'rt']], ['rt', ['clear', 'ignore']], ['rtwindow', ['went']], ['close', []], ['junei', []], ['already', []], ['sessions', []]]\n",
      "['ns', []]\n",
      "['hotline', ['called']]\n",
      "['cso', ['say']]\n",
      "['dont', []]\n",
      "['clear', ['rt']]\n",
      "['rt', ['clear', 'ignore']]\n",
      "['mri', []]\n",
      "['mr', []]\n",
      "['st', []]\n",
      "['april', []]\n",
      "['still', []]\n",
      "['bookrt', []]\n",
      "['system', ['read']]\n",
      "['havent', []]\n",
      "['update', ['read']]\n",
      "['yet', []]\n",
      "['ppl', ['read']]\n",
      "['able', ['who']]\n",
      "['bookrt', []]\n",
      "['ignore', ['i', 'rt']]\n",
      "['rt', ['clear', 'ignore']]\n",
      "['rtwindow', ['went']]\n",
      "['close', []]\n",
      "['junei', []]\n",
      "['already', []]\n",
      "['sessions', []]\n",
      "Review Number :  550\n"
     ]
    },
    {
     "name": "stderr",
     "output_type": "stream",
     "text": [
      "\r",
      " 16%|████████████▊                                                                  | 551/3390 [06:43<35:22,  1.34it/s]"
     ]
    },
    {
     "name": "stdout",
     "output_type": "stream",
     "text": [
      "[['ippt', ['took']], ['khatibfcc', []], ['fccpush', []], ['sit', ['machine']], ['usemachine', []], ['machinealr', []], ['alrpush', []], ['machine', ['sit']], ['quite', []], ['strict', []]]\n",
      "['ippt', ['took']]\n",
      "['khatibfcc', []]\n",
      "['fccpush', []]\n",
      "['sit', ['machine']]\n",
      "['usemachine', []]\n",
      "['machinealr', []]\n",
      "['alrpush', []]\n",
      "['machine', ['sit']]\n",
      "['quite', []]\n",
      "['strict', []]\n",
      "Review Number :  551\n"
     ]
    },
    {
     "name": "stderr",
     "output_type": "stream",
     "text": [
      "\r",
      " 16%|████████████▊                                                                  | 552/3390 [06:43<28:10,  1.68it/s]"
     ]
    },
    {
     "name": "stdout",
     "output_type": "stream",
     "text": [
      "[['need', []], ['rt', []]]\n",
      "['need', []]\n",
      "['rt', []]\n",
      "Review Number :  552\n"
     ]
    },
    {
     "name": "stderr",
     "output_type": "stream",
     "text": [
      "\r",
      " 16%|████████████▉                                                                  | 553/3390 [06:45<49:53,  1.06s/it]"
     ]
    },
    {
     "name": "stdout",
     "output_type": "stream",
     "text": [
      "[['ippt', []], ['days', ['took']], ['ago', []], ['automated', []], ['push', []], ['machine', ['af', 'pass', 'expecting']], ['strict', []], ['af', ['machine']], ['apparently', []], ['xboxsensor', ['uses']], ['something', []], ['logo', ['see']], ['walking', []], ['towards', []], ['machine', ['af', 'pass', 'expecting']], ['guess', ['i']], ['sideposture', []], ['also', []], ['slight', []], ['deviation', ['constitutes']], ['constitutes', ['deviation', 'counti']], ['endlol', []], ['doubt', ['i']], ['many', ['pass']], ['pts', []], ['machine', ['af', 'pass', 'expecting']], ['also', []], ['dont', []], ['understand', ['i']], ['machine', ['af', 'pass', 'expecting']]]\n",
      "['ippt', []]\n",
      "['days', ['took']]\n",
      "['ago', []]\n",
      "['automated', []]\n",
      "['push', []]\n",
      "['machine', ['af', 'pass', 'expecting']]\n",
      "['strict', []]\n",
      "['af', ['machine']]\n",
      "['apparently', []]\n",
      "['xboxsensor', ['uses']]\n",
      "['something', []]\n",
      "['logo', ['see']]\n",
      "['walking', []]\n",
      "['towards', []]\n",
      "['machine', ['af', 'pass', 'expecting']]\n",
      "['guess', ['i']]\n",
      "['sideposture', []]\n",
      "['also', []]\n",
      "['slight', []]\n",
      "['deviation', ['constitutes']]\n",
      "['constitutes', ['deviation', 'counti']]\n",
      "['endlol', []]\n",
      "['doubt', ['i']]\n",
      "['many', ['pass']]\n",
      "['pts', []]\n",
      "['machine', ['af', 'pass', 'expecting']]\n",
      "['also', []]\n",
      "['dont', []]\n",
      "['understand', ['i']]\n",
      "['machine', ['af', 'pass', 'expecting']]\n",
      "Review Number :  553\n"
     ]
    },
    {
     "name": "stderr",
     "output_type": "stream",
     "text": [
      "\r",
      " 16%|████████████▉                                                                  | 554/3390 [06:46<40:27,  1.17it/s]"
     ]
    },
    {
     "name": "stdout",
     "output_type": "stream",
     "text": [
      "[['mine', ['updated']], ['today', []], ['im', []], ['eligible', []], ['take', ['ipptp']], ['ipptp', ['take']]]\n",
      "['mine', ['updated']]\n",
      "['today', []]\n",
      "['im', []]\n",
      "['eligible', []]\n",
      "['take', ['ipptp']]\n",
      "['ipptp', ['take']]\n",
      "Review Number :  554\n"
     ]
    },
    {
     "name": "stderr",
     "output_type": "stream",
     "text": [
      "\r",
      " 16%|████████████▉                                                                  | 555/3390 [06:46<37:43,  1.25it/s]"
     ]
    },
    {
     "name": "stdout",
     "output_type": "stream",
     "text": [
      "[['still', []], ['msg', ['send']], ['ippt', ['attend']], ['next', []], ['birthday', []], ['nvm', []], ['wait', ['i']], ['mth', []], ['later', []]]\n",
      "['still', []]\n",
      "['msg', ['send']]\n",
      "['ippt', ['attend']]\n",
      "['next', []]\n",
      "['birthday', []]\n",
      "['nvm', []]\n",
      "['wait', ['i']]\n",
      "['mth', []]\n",
      "['later', []]\n",
      "Review Number :  555\n"
     ]
    },
    {
     "name": "stderr",
     "output_type": "stream",
     "text": [
      "\r",
      " 16%|████████████▉                                                                  | 556/3390 [06:47<31:57,  1.48it/s]"
     ]
    },
    {
     "name": "stdout",
     "output_type": "stream",
     "text": [
      "[['damnnnnnnjialat', []], ['many', []], ['count', ['you']], ['kena', []]]\n",
      "['damnnnnnnjialat', []]\n",
      "['many', []]\n",
      "['count', ['you']]\n",
      "['kena', []]\n",
      "Review Number :  556\n"
     ]
    },
    {
     "name": "stderr",
     "output_type": "stream",
     "text": [
      "\r",
      " 16%|████████████▉                                                                  | 557/3390 [06:48<39:15,  1.20it/s]"
     ]
    },
    {
     "name": "stdout",
     "output_type": "stream",
     "text": [
      "[['sorry', []], ['bookipt', ['i']], ['iptippt', []], ['website', []], ['ahcause', []], ['first', []], ['ipt', []], ['session', ['ippt']], ['ippt', ['session']], ['try', ['i']], ['book', []], ['obviously', []], ['ippt', ['session']], ['day', []], ['let', ['i', 'them']], ['iptprogramme', []]]\n",
      "['sorry', []]\n",
      "['bookipt', ['i']]\n",
      "['iptippt', []]\n",
      "['website', []]\n",
      "['ahcause', []]\n",
      "['first', []]\n",
      "['ipt', []]\n",
      "['session', ['ippt']]\n",
      "['ippt', ['session']]\n",
      "['try', ['i']]\n",
      "['book', []]\n",
      "['obviously', []]\n",
      "['ippt', ['session']]\n",
      "['day', []]\n",
      "['let', ['i', 'them']]\n",
      "['iptprogramme', []]\n",
      "Review Number :  557\n"
     ]
    },
    {
     "name": "stderr",
     "output_type": "stream",
     "text": [
      "\r",
      " 16%|█████████████                                                                  | 558/3390 [06:49<39:57,  1.18it/s]"
     ]
    },
    {
     "name": "stdout",
     "output_type": "stream",
     "text": [
      "[['u', ['have']], ['session', ['have']], ['test', ['have']], ['first', []], ['reflect', ['booking']], ['ipt', []], ['next', []], ['day', []], ['automatically', []], ['iptippt', []], ['try', ['it']]]\n",
      "['u', ['have']]\n",
      "['session', ['have']]\n",
      "['test', ['have']]\n",
      "['first', []]\n",
      "['reflect', ['booking']]\n",
      "['ipt', []]\n",
      "['next', []]\n",
      "['day', []]\n",
      "['automatically', []]\n",
      "['iptippt', []]\n",
      "['try', ['it']]\n",
      "Review Number :  558\n"
     ]
    },
    {
     "name": "stderr",
     "output_type": "stream",
     "text": [
      "\r",
      " 16%|█████████████                                                                  | 559/3390 [06:50<39:27,  1.20it/s]"
     ]
    },
    {
     "name": "stdout",
     "output_type": "stream",
     "text": [
      "[['anyone', ['knows']], ['iptlesson', ['attend', 'attend']], ['even', []], ['window', ['cleared']], ['get', []], ['extra', []], ['iptlesson', ['attend', 'attend']]]\n",
      "['anyone', ['knows']]\n",
      "['iptlesson', ['attend', 'attend']]\n",
      "['even', []]\n",
      "['window', ['cleared']]\n",
      "['get', []]\n",
      "['extra', []]\n",
      "['iptlesson', ['attend', 'attend']]\n",
      "Review Number :  559\n"
     ]
    },
    {
     "name": "stderr",
     "output_type": "stream",
     "text": [
      "\r",
      " 17%|█████████████                                                                  | 560/3390 [06:50<41:33,  1.14it/s]"
     ]
    },
    {
     "name": "stdout",
     "output_type": "stream",
     "text": [
      "[['u', ['cleared', 'passed', 'take', 'cleared', 'attended', 'take']], ['u', ['cleared', 'passed', 'take', 'cleared', 'attended', 'take']], ['ippt', []], ['u', ['cleared', 'passed', 'take', 'cleared', 'attended', 'take']], ['still', []], ['ipt', ['take', 'attended', 'take']], ['allowance', ['get']], ['u', ['cleared', 'passed', 'take', 'cleared', 'attended', 'take']], ['u', ['cleared', 'passed', 'take', 'cleared', 'attended', 'take']], ['ipt', ['take', 'attended', 'take']], ['u', ['cleared', 'passed', 'take', 'cleared', 'attended', 'take']], ['still', []], ['ipt', ['take', 'attended', 'take']], ['allowance', ['get']]]\n",
      "['u', ['cleared', 'passed', 'take', 'cleared', 'attended', 'take']]\n",
      "['u', ['cleared', 'passed', 'take', 'cleared', 'attended', 'take']]\n",
      "['ippt', []]\n",
      "['u', ['cleared', 'passed', 'take', 'cleared', 'attended', 'take']]\n",
      "['still', []]\n",
      "['ipt', ['take', 'attended', 'take']]\n",
      "['allowance', ['get']]\n",
      "['u', ['cleared', 'passed', 'take', 'cleared', 'attended', 'take']]\n",
      "['u', ['cleared', 'passed', 'take', 'cleared', 'attended', 'take']]\n",
      "['ipt', ['take', 'attended', 'take']]\n",
      "['u', ['cleared', 'passed', 'take', 'cleared', 'attended', 'take']]\n",
      "['still', []]\n",
      "['ipt', ['take', 'attended', 'take']]\n",
      "['allowance', ['get']]\n",
      "Review Number :  560\n"
     ]
    },
    {
     "name": "stderr",
     "output_type": "stream",
     "text": [
      "\r",
      " 17%|█████████████                                                                  | 561/3390 [06:52<49:09,  1.04s/it]"
     ]
    },
    {
     "name": "stdout",
     "output_type": "stream",
     "text": [
      "[['khatib', []], ['fcc', ['better']], ['fcc', ['better']], ['bedokfcc', []], ['fcctoday', []], ['system', ['electronic']], ['fully', []], ['electronic', ['system']], ['already', []], ['hot', []], ['daymaju', ['it', 'better']], ['anyway', []], ['sat', []], ['last', []], ['day', ['are']], ['tracks', ['are']], ['kranji', []]]\n",
      "['khatib', []]\n",
      "['fcc', ['better']]\n",
      "['fcc', ['better']]\n",
      "['bedokfcc', []]\n",
      "['fcctoday', []]\n",
      "['system', ['electronic']]\n",
      "['fully', []]\n",
      "['electronic', ['system']]\n",
      "['already', []]\n",
      "['hot', []]\n",
      "['daymaju', ['it', 'better']]\n",
      "['anyway', []]\n",
      "['sat', []]\n",
      "['last', []]\n",
      "['day', ['are']]\n",
      "['tracks', ['are']]\n",
      "['kranji', []]\n",
      "Review Number :  561\n"
     ]
    },
    {
     "name": "stderr",
     "output_type": "stream",
     "text": [
      "\r",
      " 17%|█████████████                                                                  | 562/3390 [06:52<39:06,  1.21it/s]"
     ]
    },
    {
     "name": "stdout",
     "output_type": "stream",
     "text": [
      "[['thanks', []], ['man', []], ['need', []]]\n",
      "['thanks', []]\n",
      "['man', []]\n",
      "['need', []]\n",
      "Review Number :  562\n"
     ]
    },
    {
     "name": "stderr",
     "output_type": "stream",
     "text": [
      "\r",
      " 17%|█████████████                                                                  | 563/3390 [06:53<35:06,  1.34it/s]"
     ]
    },
    {
     "name": "stdout",
     "output_type": "stream",
     "text": [
      "[['ipt', []], ['sessions', ['did']], ['last', []], ['windowi', []], ['till', []], ['th', []], ['ipt', []], ['sessioni', []], ['th', []]]\n",
      "['ipt', []]\n",
      "['sessions', ['did']]\n",
      "['last', []]\n",
      "['windowi', []]\n",
      "['till', []]\n",
      "['th', []]\n",
      "['ipt', []]\n",
      "['sessioni', []]\n",
      "['th', []]\n",
      "Review Number :  563\n"
     ]
    },
    {
     "name": "stderr",
     "output_type": "stream",
     "text": [
      "\r",
      " 17%|█████████████▏                                                                 | 564/3390 [06:54<37:31,  1.26it/s]"
     ]
    },
    {
     "name": "stdout",
     "output_type": "stream",
     "text": [
      "[['sometimes', []], ['practice', ['random']], ['manual', ['using']], ['electronic', []], ['random', ['practice']], ['manpoweravailability', []], ['number', []], ['participants', []], ['electronic', []], ['facilities', ['has']]]\n",
      "['sometimes', []]\n",
      "['practice', ['random']]\n",
      "['manual', ['using']]\n",
      "['electronic', []]\n",
      "['random', ['practice']]\n",
      "['manpoweravailability', []]\n",
      "['number', []]\n",
      "['participants', []]\n",
      "['electronic', []]\n",
      "['facilities', ['has']]\n",
      "Review Number :  564\n"
     ]
    },
    {
     "name": "stderr",
     "output_type": "stream",
     "text": [
      "\r",
      " 17%|█████████████▏                                                                 | 565/3390 [06:54<34:40,  1.36it/s]"
     ]
    },
    {
     "name": "stdout",
     "output_type": "stream",
     "text": [
      "[['u', ['ipt']], ['right', []], ['ipt', ['u', 'payable']], ['payable', ['ipt']], ['sessions', []], ['httpswwwnssgwebportalnsmenhutionspayment', []]]\n",
      "['u', ['ipt']]\n",
      "['right', []]\n",
      "['ipt', ['u', 'payable']]\n",
      "['payable', ['ipt']]\n",
      "['sessions', []]\n",
      "['httpswwwnssgwebportalnsmenhutionspayment', []]\n",
      "Review Number :  565\n"
     ]
    },
    {
     "name": "stderr",
     "output_type": "stream",
     "text": [
      "\r",
      " 17%|█████████████▏                                                                 | 566/3390 [06:55<32:13,  1.46it/s]"
     ]
    },
    {
     "name": "stdout",
     "output_type": "stream",
     "text": [
      "[['khatib', ['run']], ['stadium', []], ['lane', []], ['tracks', []], ['bad', []], ['conditiontrack', []], ['humps', []]]\n",
      "['khatib', ['run']]\n",
      "['stadium', []]\n",
      "['lane', []]\n",
      "['tracks', []]\n",
      "['bad', []]\n",
      "['conditiontrack', []]\n",
      "['humps', []]\n",
      "Review Number :  566\n"
     ]
    },
    {
     "name": "stderr",
     "output_type": "stream",
     "text": [
      "\r",
      " 17%|█████████████▏                                                                 | 567/3390 [06:55<27:18,  1.72it/s]"
     ]
    },
    {
     "name": "stdout",
     "output_type": "stream",
     "text": [
      "[['still', []], ['rtwindow', []], ['windowanot', ['extend']]]\n",
      "['still', []]\n",
      "['rtwindow', []]\n",
      "['windowanot', ['extend']]\n",
      "Review Number :  567\n"
     ]
    },
    {
     "name": "stderr",
     "output_type": "stream",
     "text": [
      "\r",
      " 17%|█████████████▏                                                                 | 568/3390 [06:56<26:38,  1.77it/s]"
     ]
    },
    {
     "name": "stdout",
     "output_type": "stream",
     "text": [
      "[['something', []], ['points', ['got']], ['alamak', []], ['counts', []], ['samsungsmnf', []], ['gagt', []]]\n",
      "['something', []]\n",
      "['points', ['got']]\n",
      "['alamak', []]\n",
      "['counts', []]\n",
      "['samsungsmnf', []]\n",
      "['gagt', []]\n",
      "Review Number :  568\n"
     ]
    },
    {
     "name": "stderr",
     "output_type": "stream",
     "text": [
      "\r",
      " 17%|█████████████▎                                                                 | 569/3390 [06:56<22:16,  2.11it/s]"
     ]
    },
    {
     "name": "stdout",
     "output_type": "stream",
     "text": [
      "[['wtf', []], ['many', []], ['people', ['kena']]]\n",
      "['wtf', []]\n",
      "['many', []]\n",
      "['people', ['kena']]\n",
      "Review Number :  569\n"
     ]
    },
    {
     "name": "stderr",
     "output_type": "stream",
     "text": [
      "\r",
      " 17%|█████████████▎                                                                 | 570/3390 [06:58<43:22,  1.08it/s]"
     ]
    },
    {
     "name": "stdout",
     "output_type": "stream",
     "text": [
      "[['kenna', ['i', 'counts']], ['counts', ['kenna', 'get']], ['first', []], ['pushups', ['spend']], ['form', ['correcting', 'what']], ['way', []], ['thing', ['beeps']], ['beeps', ['thing']], ['count', []], ['rdtime', []], ['proper', []], ['form', ['correcting', 'what']], ['shouldnt', []], ['get', ['you', 'counts']], ['youredamn', []], ['training', ['means']], ['lor', []], ['really', []], ['forward', []], ['lot', ['leaning']], ['people', []], ['palms', ['put']], ['shoulders', []], ['easier', ['next']], ['next', ['easier']], ['neh', []], ['neh', []]]\n",
      "['kenna', ['i', 'counts']]\n",
      "['counts', ['kenna', 'get']]\n",
      "['first', []]\n",
      "['pushups', ['spend']]\n",
      "['form', ['correcting', 'what']]\n",
      "['way', []]\n",
      "['thing', ['beeps']]\n",
      "['beeps', ['thing']]\n",
      "['count', []]\n",
      "['rdtime', []]\n",
      "['proper', []]\n",
      "['form', ['correcting', 'what']]\n",
      "['shouldnt', []]\n",
      "['get', ['you', 'counts']]\n",
      "['youredamn', []]\n",
      "['training', ['means']]\n",
      "['lor', []]\n",
      "['really', []]\n",
      "['forward', []]\n",
      "['lot', ['leaning']]\n",
      "['people', []]\n",
      "['palms', ['put']]\n",
      "['shoulders', []]\n",
      "['easier', ['next']]\n",
      "['next', ['easier']]\n",
      "['neh', []]\n",
      "['neh', []]\n",
      "Review Number :  570\n"
     ]
    },
    {
     "name": "stderr",
     "output_type": "stream",
     "text": [
      "\r",
      " 17%|█████████████▎                                                                 | 571/3390 [06:58<37:24,  1.26it/s]"
     ]
    },
    {
     "name": "stdout",
     "output_type": "stream",
     "text": [
      "[['anyone', []], ['hometeam', []], ['window', ['show']], ['show', ['window']], ['bookipt', []], ['iptcouldnt', ['find']], ['find', ['iptcouldnt']], ['bookippt', []]]\n",
      "['anyone', []]\n",
      "['hometeam', []]\n",
      "['window', ['show']]\n",
      "['show', ['window']]\n",
      "['bookipt', []]\n",
      "['iptcouldnt', ['find']]\n",
      "['find', ['iptcouldnt']]\n",
      "['bookippt', []]\n",
      "Review Number :  571\n"
     ]
    },
    {
     "name": "stderr",
     "output_type": "stream",
     "text": [
      "\r",
      " 17%|█████████████▎                                                                 | 572/3390 [06:59<38:11,  1.23it/s]"
     ]
    },
    {
     "name": "stdout",
     "output_type": "stream",
     "text": [
      "[['sit', []], ['also', []], ['damn', []], ['tough', []], ['situp', ['is']], ['count', []], ['end', ['had']], ['lie', ['armsbefore']], ['flatspread', []], ['start', ['they']], ['counting', ['zzz']], ['zzz', ['counting']]]\n",
      "['sit', []]\n",
      "['also', []]\n",
      "['damn', []]\n",
      "['tough', []]\n",
      "['situp', ['is']]\n",
      "['count', []]\n",
      "['end', ['had']]\n",
      "['lie', ['armsbefore']]\n",
      "['flatspread', []]\n",
      "['start', ['they']]\n",
      "['counting', ['zzz']]\n",
      "['zzz', ['counting']]\n",
      "Review Number :  572\n"
     ]
    },
    {
     "name": "stderr",
     "output_type": "stream",
     "text": [
      "\r",
      " 17%|█████████████▎                                                                 | 573/3390 [07:00<42:21,  1.11it/s]"
     ]
    },
    {
     "name": "stdout",
     "output_type": "stream",
     "text": [
      "[['hi', []], ['guys', ['qn']], ['ippt', ['clear']], ['deadline', []], ['long', []], ['clear', ['i', 'ippt', 'it']], ['ippt', ['clear']], ['birthday', []], ['safe', ['i']], ['right', []], ['clear', ['i', 'ippt', 'it']], ['still', []], ['weeks', []], ['birthday', []], ['portal', ['down']], ['typically', []], ['cant', []], ['book', ['slot']], ['slot', ['book']]]\n",
      "['hi', []]\n",
      "['guys', ['qn']]\n",
      "['ippt', ['clear']]\n",
      "['deadline', []]\n",
      "['long', []]\n",
      "['clear', ['i', 'ippt', 'it']]\n",
      "['ippt', ['clear']]\n",
      "['birthday', []]\n",
      "['safe', ['i']]\n",
      "['right', []]\n",
      "['clear', ['i', 'ippt', 'it']]\n",
      "['still', []]\n",
      "['weeks', []]\n",
      "['birthday', []]\n",
      "['portal', ['down']]\n",
      "['typically', []]\n",
      "['cant', []]\n",
      "['book', ['slot']]\n",
      "['slot', ['book']]\n",
      "Review Number :  573\n"
     ]
    },
    {
     "name": "stderr",
     "output_type": "stream",
     "text": [
      "\r",
      " 17%|█████████████▍                                                                 | 574/3390 [07:01<35:25,  1.32it/s]"
     ]
    },
    {
     "name": "stdout",
     "output_type": "stream",
     "text": [
      "[['ippt', []], ['maju', []], ['rains', ['it']]]\n",
      "['ippt', []]\n",
      "['maju', []]\n",
      "['rains', ['it']]\n",
      "Review Number :  574\n",
      "[]\n",
      "Review Number :  575\n"
     ]
    },
    {
     "name": "stderr",
     "output_type": "stream",
     "text": [
      "\r",
      " 17%|█████████████▍                                                                 | 576/3390 [07:01<23:36,  1.99it/s]"
     ]
    },
    {
     "name": "stdout",
     "output_type": "stream",
     "text": [
      "[['much', []], ['saf', ['pays']], ['corporal', []], ['rank', []], ['nsmen', ['pays']]]\n",
      "['much', []]\n",
      "['saf', ['pays']]\n",
      "['corporal', []]\n",
      "['rank', []]\n",
      "['nsmen', ['pays']]\n",
      "Review Number :  576\n"
     ]
    },
    {
     "name": "stderr",
     "output_type": "stream",
     "text": [
      "\r",
      " 17%|█████████████▍                                                                 | 577/3390 [07:02<27:11,  1.72it/s]"
     ]
    },
    {
     "name": "stdout",
     "output_type": "stream",
     "text": [
      "[['last', []], ['yeari', ['passed']], ['ippt', ['passed']], ['still', []], ['ipt', ['take', 'cmi']], ['year', []], ['cmi', ['i', 'ipt']], ['ipt', ['take', 'cmi']], ['year', []], ['still', []], ['clear', ['i', 'obligations']], ['obligations', ['clear']], ['year', []]]\n",
      "['last', []]\n",
      "['yeari', ['passed']]\n",
      "['ippt', ['passed']]\n",
      "['still', []]\n",
      "['ipt', ['take', 'cmi']]\n",
      "['year', []]\n",
      "['cmi', ['i', 'ipt']]\n",
      "['ipt', ['take', 'cmi']]\n",
      "['year', []]\n",
      "['still', []]\n",
      "['clear', ['i', 'obligations']]\n",
      "['obligations', ['clear']]\n",
      "['year', []]\n",
      "Review Number :  577\n"
     ]
    },
    {
     "name": "stderr",
     "output_type": "stream",
     "text": [
      "\r",
      " 17%|█████████████▍                                                                 | 578/3390 [07:02<22:27,  2.09it/s]"
     ]
    },
    {
     "name": "stdout",
     "output_type": "stream",
     "text": [
      "[['day', ['pay']]]\n",
      "['day', ['pay']]\n",
      "Review Number :  578\n"
     ]
    },
    {
     "name": "stderr",
     "output_type": "stream",
     "text": [
      "\r",
      " 17%|█████████████▍                                                                 | 579/3390 [07:04<33:26,  1.40it/s]"
     ]
    },
    {
     "name": "stdout",
     "output_type": "stream",
     "text": [
      "[['rem', ['got']], ['time', ['got']], ['finish', ['i', 'push']], ['push', ['finish']], ['sit', []], ['instructor', ['say']], ['catlan', []], ['lanlan', []], ['wait', []], ['till', []], ['cat', ['cleared']], ['waited', ['we']], ['cookhse', []], ['kmresume', ['say']], ['lane', ['say']], ['uneven', []], ['clear', []], ['possible', []], ['really', []], ['waste', []], ['time', ['got']], ['day', []]]\n",
      "['rem', ['got']]\n",
      "['time', ['got']]\n",
      "['finish', ['i', 'push']]\n",
      "['push', ['finish']]\n",
      "['sit', []]\n",
      "['instructor', ['say']]\n",
      "['catlan', []]\n",
      "['lanlan', []]\n",
      "['wait', []]\n",
      "['till', []]\n",
      "['cat', ['cleared']]\n",
      "['waited', ['we']]\n",
      "['cookhse', []]\n",
      "['kmresume', ['say']]\n",
      "['lane', ['say']]\n",
      "['uneven', []]\n",
      "['clear', []]\n",
      "['possible', []]\n",
      "['really', []]\n",
      "['waste', []]\n",
      "['time', ['got']]\n",
      "['day', []]\n",
      "Review Number :  579\n"
     ]
    },
    {
     "name": "stderr",
     "output_type": "stream",
     "text": [
      "\r",
      " 17%|█████████████▌                                                                 | 580/3390 [07:04<34:45,  1.35it/s]"
     ]
    },
    {
     "name": "stdout",
     "output_type": "stream",
     "text": [
      "[['basically', []], ['last', []], ['day', ['is']], ['day', ['is']], ['public', []], ['holidays', []], ['fcc', []], ['days', []], ['therefore', []], ['u', ['need']], ['avoid', ['dates']], ['dates', ['avoid']]]\n",
      "['basically', []]\n",
      "['last', []]\n",
      "['day', ['is']]\n",
      "['day', ['is']]\n",
      "['public', []]\n",
      "['holidays', []]\n",
      "['fcc', []]\n",
      "['days', []]\n",
      "['therefore', []]\n",
      "['u', ['need']]\n",
      "['avoid', ['dates']]\n",
      "['dates', ['avoid']]\n",
      "Review Number :  580\n"
     ]
    },
    {
     "name": "stderr",
     "output_type": "stream",
     "text": [
      "\r",
      " 17%|█████████████▌                                                                 | 581/3390 [07:05<37:43,  1.24it/s]"
     ]
    },
    {
     "name": "stdout",
     "output_type": "stream",
     "text": [
      "[['iptippt', []], ['timing', ['timing']], ['eg', []], ['hrs', []], ['sense', []], ['many', []], ['different', []], ['ippt', []], ['time', []], ['slots', ['are', 'are']], ['quite', []], ['iptippt', []], ['slots', ['are', 'are']], ['right', []]]\n",
      "['iptippt', []]\n",
      "['timing', ['timing']]\n",
      "['eg', []]\n",
      "['hrs', []]\n",
      "['sense', []]\n",
      "['many', []]\n",
      "['different', []]\n",
      "['ippt', []]\n",
      "['time', []]\n",
      "['slots', ['are', 'are']]\n",
      "['quite', []]\n",
      "['iptippt', []]\n",
      "['slots', ['are', 'are']]\n",
      "['right', []]\n",
      "Review Number :  581\n"
     ]
    },
    {
     "name": "stderr",
     "output_type": "stream",
     "text": [
      "\r",
      " 17%|█████████████▌                                                                 | 582/3390 [07:07<45:00,  1.04it/s]"
     ]
    },
    {
     "name": "stdout",
     "output_type": "stream",
     "text": [
      "[['iptippt', ['same']], ['ipttimingswhich', []], ['ipt', []], ['need', ['you']], ['session', ['have']], ['words', ['have']], ['usually', []], ['weekdays', []], ['pm', []], ['sat', []], ['morning', []], ['check', []], ['bookingpage', []], ['understand', ['availschedule']], ['availschedule', ['understand']]]\n",
      "['iptippt', ['same']]\n",
      "['ipttimingswhich', []]\n",
      "['ipt', []]\n",
      "['need', ['you']]\n",
      "['session', ['have']]\n",
      "['words', ['have']]\n",
      "['usually', []]\n",
      "['weekdays', []]\n",
      "['pm', []]\n",
      "['sat', []]\n",
      "['morning', []]\n",
      "['check', []]\n",
      "['bookingpage', []]\n",
      "['understand', ['availschedule']]\n",
      "['availschedule', ['understand']]\n",
      "Review Number :  582\n"
     ]
    },
    {
     "name": "stderr",
     "output_type": "stream",
     "text": [
      "\r",
      " 17%|█████████████▌                                                                 | 583/3390 [07:08<42:40,  1.10it/s]"
     ]
    },
    {
     "name": "stdout",
     "output_type": "stream",
     "text": [
      "[['thrt', ['having']], ['rttoday', []], ['ippt', ['which']], ['fail', ['i', 'push']], ['push', ['fail']], ['able', []], ['fall', []], ['km', ['taking']], ['actually', []], ['rt', ['do']], ['ippt', ['which']]]\n",
      "['thrt', ['having']]\n",
      "['rttoday', []]\n",
      "['ippt', ['which']]\n",
      "['fail', ['i', 'push']]\n",
      "['push', ['fail']]\n",
      "['able', []]\n",
      "['fall', []]\n",
      "['km', ['taking']]\n",
      "['actually', []]\n",
      "['rt', ['do']]\n",
      "['ippt', ['which']]\n",
      "Review Number :  583\n"
     ]
    },
    {
     "name": "stderr",
     "output_type": "stream",
     "text": [
      "\r",
      " 17%|█████████████▌                                                                 | 584/3390 [07:08<35:56,  1.30it/s]"
     ]
    },
    {
     "name": "stdout",
     "output_type": "stream",
     "text": [
      "[['depends', ['this']], ['fcc', []], ['attendance', ['consider']], ['invalid', []]]\n",
      "['depends', ['this']]\n",
      "['fcc', []]\n",
      "['attendance', ['consider']]\n",
      "['invalid', []]\n",
      "Review Number :  584\n"
     ]
    },
    {
     "name": "stderr",
     "output_type": "stream",
     "text": [
      "\r",
      " 17%|█████████████▋                                                                 | 585/3390 [07:09<42:43,  1.09it/s]"
     ]
    },
    {
     "name": "stdout",
     "output_type": "stream",
     "text": [
      "[['hii', ['ord']], ['ord', ['hii']], ['february', []], ['currently', []], ['still', []], ['year', []], ['ippt', ['do']], ['able', ['i', 'i']], ['get', ['incentives', 'incentives']], ['monetary', []], ['incentives', ['get', 'get']], ['still', []], ['able', ['i', 'i']], ['incentives', ['get', 'get']], ['successful', []], ['completion', []], ['ippt', ['do']], ['subsequent', []], ['yearyear', []], ['onwards', []]]\n",
      "['hii', ['ord']]\n",
      "['ord', ['hii']]\n",
      "['february', []]\n",
      "['currently', []]\n",
      "['still', []]\n",
      "['year', []]\n",
      "['ippt', ['do']]\n",
      "['able', ['i', 'i']]\n",
      "['get', ['incentives', 'incentives']]\n",
      "['monetary', []]\n",
      "['incentives', ['get', 'get']]\n",
      "['still', []]\n",
      "['able', ['i', 'i']]\n",
      "['incentives', ['get', 'get']]\n",
      "['successful', []]\n",
      "['completion', []]\n",
      "['ippt', ['do']]\n",
      "['subsequent', []]\n",
      "['yearyear', []]\n",
      "['onwards', []]\n",
      "Review Number :  585\n"
     ]
    },
    {
     "name": "stderr",
     "output_type": "stream",
     "text": [
      "\r",
      " 17%|█████████████▋                                                                 | 586/3390 [07:10<36:13,  1.29it/s]"
     ]
    },
    {
     "name": "stdout",
     "output_type": "stream",
     "text": [
      "[['u', ['get']], ['still', []], ['incentives', ['get']], ['accordingly', []], ['regardless', []], ['year', []]]\n",
      "['u', ['get']]\n",
      "['still', []]\n",
      "['incentives', ['get']]\n",
      "['accordingly', []]\n",
      "['regardless', []]\n",
      "['year', []]\n",
      "Review Number :  586\n"
     ]
    },
    {
     "name": "stderr",
     "output_type": "stream",
     "text": [
      "\r",
      " 17%|█████████████▋                                                                 | 587/3390 [07:10<30:42,  1.52it/s]"
     ]
    },
    {
     "name": "stdout",
     "output_type": "stream",
     "text": [
      "[['bedokcamp', ['got']], ['still', []], ['orange', []], ['tag', ['got']], ['sportsgames', []]]\n",
      "['bedokcamp', ['got']]\n",
      "['still', []]\n",
      "['orange', []]\n",
      "['tag', ['got']]\n",
      "['sportsgames', []]\n",
      "Review Number :  587\n"
     ]
    },
    {
     "name": "stderr",
     "output_type": "stream",
     "text": [
      "\r",
      " 17%|█████████████▋                                                                 | 588/3390 [07:11<28:40,  1.63it/s]"
     ]
    },
    {
     "name": "stdout",
     "output_type": "stream",
     "text": [
      "[['yes', []], ['availability', []], ['manpower', []], ['arrangements', []], ['attendance', []]]\n",
      "['yes', []]\n",
      "['availability', []]\n",
      "['manpower', []]\n",
      "['arrangements', []]\n",
      "['attendance', []]\n",
      "Review Number :  588\n"
     ]
    },
    {
     "name": "stderr",
     "output_type": "stream",
     "text": [
      "\r",
      " 17%|█████████████▋                                                                 | 589/3390 [07:11<31:02,  1.50it/s]"
     ]
    },
    {
     "name": "stdout",
     "output_type": "stream",
     "text": [
      "[['still', []], ['finish', ['ippt']], ['whole', []], ['ippt', ['finish']], ['rounds', []], ['km', []], ['everything', ['take']], ['trainingprogramme', []], ['day', []]]\n",
      "['still', []]\n",
      "['finish', ['ippt']]\n",
      "['whole', []]\n",
      "['ippt', ['finish']]\n",
      "['rounds', []]\n",
      "['km', []]\n",
      "['everything', ['take']]\n",
      "['trainingprogramme', []]\n",
      "['day', []]\n",
      "Review Number :  589\n"
     ]
    },
    {
     "name": "stderr",
     "output_type": "stream",
     "text": [
      "\r",
      " 17%|█████████████▋                                                                 | 590/3390 [07:12<30:04,  1.55it/s]"
     ]
    },
    {
     "name": "stdout",
     "output_type": "stream",
     "text": [
      "[['anyone', ['sat']], ['ippt', []], ['khatib', []], ['first', []], ['ippt', []], ['ord', []], ['sure', []], ['die', []], ['facing', ['machine']], ['machine', ['facing']]]\n",
      "['anyone', ['sat']]\n",
      "['ippt', []]\n",
      "['khatib', []]\n",
      "['first', []]\n",
      "['ippt', []]\n",
      "['ord', []]\n",
      "['sure', []]\n",
      "['die', []]\n",
      "['facing', ['machine']]\n",
      "['machine', ['facing']]\n",
      "Review Number :  590\n"
     ]
    },
    {
     "name": "stderr",
     "output_type": "stream",
     "text": [
      "\r",
      " 17%|█████████████▊                                                                 | 591/3390 [07:12<27:56,  1.67it/s]"
     ]
    },
    {
     "name": "stdout",
     "output_type": "stream",
     "text": [
      "[['complete', ['i', 'rts']], ['rts', ['complete']], ['bdae', ['extend']], ['extend', ['bdae']], ['maah', []]]\n",
      "['complete', ['i', 'rts']]\n",
      "['rts', ['complete']]\n",
      "['bdae', ['extend']]\n",
      "['extend', ['bdae']]\n",
      "['maah', []]\n",
      "Review Number :  591\n"
     ]
    },
    {
     "name": "stderr",
     "output_type": "stream",
     "text": [
      "\r",
      " 17%|█████████████▊                                                                 | 592/3390 [07:13<34:24,  1.36it/s]"
     ]
    },
    {
     "name": "stdout",
     "output_type": "stream",
     "text": [
      "[['longer', []], ['duration', []], ['complete', []], ['already', []], ['months', []], ['wrong', ['i']], ['anyway', []], ['window', ['were']], ['lets', ['say']], ['months', []], ['window', ['were']], ['definitely', []], ['still', []], ['people', ['be']], ['extension', []]]\n",
      "['longer', []]\n",
      "['duration', []]\n",
      "['complete', []]\n",
      "['already', []]\n",
      "['months', []]\n",
      "['wrong', ['i']]\n",
      "['anyway', []]\n",
      "['window', ['were']]\n",
      "['lets', ['say']]\n",
      "['months', []]\n",
      "['window', ['were']]\n",
      "['definitely', []]\n",
      "['still', []]\n",
      "['people', ['be']]\n",
      "['extension', []]\n",
      "Review Number :  592\n"
     ]
    },
    {
     "name": "stderr",
     "output_type": "stream",
     "text": [
      "\r",
      " 17%|█████████████▊                                                                 | 593/3390 [07:14<37:30,  1.24it/s]"
     ]
    },
    {
     "name": "stdout",
     "output_type": "stream",
     "text": [
      "[['hi', []], ['ipt', ['take']], ['first', []], ['time', []], ['always', []], ['testrightit', []], ['st', ['stated']], ['thipt', ['come']], ['test', ['pass']], ['pass', ['i', 'test']], ['test', ['pass']], ['incentive', ['have']], ['normal', []], ['ippt', []]]\n",
      "['hi', []]\n",
      "['ipt', ['take']]\n",
      "['first', []]\n",
      "['time', []]\n",
      "['always', []]\n",
      "['testrightit', []]\n",
      "['st', ['stated']]\n",
      "['thipt', ['come']]\n",
      "['test', ['pass']]\n",
      "['pass', ['i', 'test']]\n",
      "['test', ['pass']]\n",
      "['incentive', ['have']]\n",
      "['normal', []]\n",
      "['ippt', []]\n",
      "Review Number :  593\n"
     ]
    },
    {
     "name": "stderr",
     "output_type": "stream",
     "text": [
      "\r",
      " 18%|█████████████▊                                                                 | 594/3390 [07:15<38:00,  1.23it/s]"
     ]
    },
    {
     "name": "stdout",
     "output_type": "stream",
     "text": [
      "[['yes', []], ['still', []], ['award', ['get']], ['incentives', []], ['accordingly', []], ['note', ['take']], ['u', ['get', 'select']], ['select', ['u', 'session']], ['session', ['select']], ['booking', []], ['words', ['have']], ['test', ['have']]]\n",
      "['yes', []]\n",
      "['still', []]\n",
      "['award', ['get']]\n",
      "['incentives', []]\n",
      "['accordingly', []]\n",
      "['note', ['take']]\n",
      "['u', ['get', 'select']]\n",
      "['select', ['u', 'session']]\n",
      "['session', ['select']]\n",
      "['booking', []]\n",
      "['words', ['have']]\n",
      "['test', ['have']]\n",
      "Review Number :  594\n",
      "[['anyone', ['know']]]"
     ]
    },
    {
     "name": "stderr",
     "output_type": "stream",
     "text": [
      "\r",
      " 18%|█████████████▊                                                                 | 595/3390 [07:15<29:16,  1.59it/s]"
     ]
    },
    {
     "name": "stdout",
     "output_type": "stream",
     "text": [
      "\n",
      "['anyone', ['know']]\n",
      "Review Number :  595\n"
     ]
    },
    {
     "name": "stderr",
     "output_type": "stream",
     "text": [
      "\r",
      " 18%|█████████████▉                                                                 | 596/3390 [07:18<51:55,  1.12s/it]"
     ]
    },
    {
     "name": "stdout",
     "output_type": "stream",
     "text": [
      "[['year', []], ['new', []], ['window', ['meant']], ['yes', []], ['ipt', ['choose']], ['confidence', ['have']], ['ippt', ['think', 'passing', 'pass']], ['ipt', ['choose']], ['alternative', []], ['passing', ['ippt']], ['ippt', ['think', 'passing', 'pass']], ['sessions', ['completing', 'complete', 'complete']], ['akin', []], ['ippt', ['think', 'passing', 'pass']], ['requirement', ['fulfilling']], ['window', ['meant']], ['pass', ['ippt']], ['ippt', ['think', 'passing', 'pass']], ['thsession', []], ['complete', ['sessions', 'you', 'sessions']], ['sessions', ['completing', 'complete', 'complete']], ['complete', ['sessions', 'you', 'sessions']], ['sessions', ['completing', 'complete', 'complete']], ['close', []], ['rt', []], ['next', []], ['windowd', []], ['drule', ['applies']], ['applies', ['drule']], ['option', []], ['ipt', ['choose']]]\n",
      "['year', []]\n",
      "['new', []]\n",
      "['window', ['meant']]\n",
      "['yes', []]\n",
      "['ipt', ['choose']]\n",
      "['confidence', ['have']]\n",
      "['ippt', ['think', 'passing', 'pass']]\n",
      "['ipt', ['choose']]\n",
      "['alternative', []]\n",
      "['passing', ['ippt']]\n",
      "['ippt', ['think', 'passing', 'pass']]\n",
      "['sessions', ['completing', 'complete', 'complete']]\n",
      "['akin', []]\n",
      "['ippt', ['think', 'passing', 'pass']]\n",
      "['requirement', ['fulfilling']]\n",
      "['window', ['meant']]\n",
      "['pass', ['ippt']]\n",
      "['ippt', ['think', 'passing', 'pass']]\n",
      "['thsession', []]\n",
      "['complete', ['sessions', 'you', 'sessions']]\n",
      "['sessions', ['completing', 'complete', 'complete']]\n",
      "['complete', ['sessions', 'you', 'sessions']]\n",
      "['sessions', ['completing', 'complete', 'complete']]\n",
      "['close', []]\n",
      "['rt', []]\n",
      "['next', []]\n",
      "['windowd', []]\n",
      "['drule', ['applies']]\n",
      "['applies', ['drule']]\n",
      "['option', []]\n",
      "['ipt', ['choose']]\n",
      "Review Number :  596\n"
     ]
    },
    {
     "name": "stderr",
     "output_type": "stream",
     "text": [
      "\r",
      " 18%|█████████████▉                                                                 | 597/3390 [07:19<49:07,  1.06s/it]"
     ]
    },
    {
     "name": "stdout",
     "output_type": "stream",
     "text": [
      "[['quick', []], ['questionim', []], ['spf', []], ['friend', ['told']], ['safippt', []], ['ipptwindow', ['according']], ['individuals', []], ['financial', []], ['year', []], ['really', []], ['different', ['it']], ['saf', []]]\n",
      "['quick', []]\n",
      "['questionim', []]\n",
      "['spf', []]\n",
      "['friend', ['told']]\n",
      "['safippt', []]\n",
      "['ipptwindow', ['according']]\n",
      "['individuals', []]\n",
      "['financial', []]\n",
      "['year', []]\n",
      "['really', []]\n",
      "['different', ['it']]\n",
      "['saf', []]\n",
      "Review Number :  597\n"
     ]
    },
    {
     "name": "stderr",
     "output_type": "stream",
     "text": [
      "\r",
      " 18%|█████████████▉                                                                 | 598/3390 [07:19<38:24,  1.21it/s]"
     ]
    },
    {
     "name": "stdout",
     "output_type": "stream",
     "text": [
      "[['yes', []], ['window', []], ['openclose', []], ['birthday', []]]\n",
      "['yes', []]\n",
      "['window', []]\n",
      "['openclose', []]\n",
      "['birthday', []]\n",
      "Review Number :  598\n"
     ]
    },
    {
     "name": "stderr",
     "output_type": "stream",
     "text": [
      "\r",
      " 18%|█████████████▉                                                                 | 599/3390 [07:19<32:04,  1.45it/s]"
     ]
    },
    {
     "name": "stdout",
     "output_type": "stream",
     "text": [
      "[['apparently', []], ['nsf', []], ['workyear', []], ['nsmen', []], ['birthday', []]]\n",
      "['apparently', []]\n",
      "['nsf', []]\n",
      "['workyear', []]\n",
      "['nsmen', []]\n",
      "['birthday', []]\n",
      "Review Number :  599\n"
     ]
    },
    {
     "name": "stderr",
     "output_type": "stream",
     "text": [
      "\r",
      " 18%|█████████████▉                                                                 | 600/3390 [07:20<28:55,  1.61it/s]"
     ]
    },
    {
     "name": "stdout",
     "output_type": "stream",
     "text": [
      "[['mr', ['means']], ['already', []], ['ippt', ['means']], ['right', []], ['also', []], ['years', []], ['old', []], ['still', []], ['ffi', []]]\n",
      "['mr', ['means']]\n",
      "['already', []]\n",
      "['ippt', ['means']]\n",
      "['right', []]\n",
      "['also', []]\n",
      "['years', []]\n",
      "['old', []]\n",
      "['still', []]\n",
      "['ffi', []]\n",
      "Review Number :  600\n"
     ]
    },
    {
     "name": "stderr",
     "output_type": "stream",
     "text": [
      "\r",
      " 18%|██████████████                                                                 | 601/3390 [07:20<25:50,  1.80it/s]"
     ]
    },
    {
     "name": "stdout",
     "output_type": "stream",
     "text": [
      "[['machinesensor', ['all', 'pictures']], ['pictures', ['machinesensor']], ['scary', []]]\n",
      "['machinesensor', ['all', 'pictures']]\n",
      "['pictures', ['machinesensor']]\n",
      "['scary', []]\n",
      "Review Number :  601\n"
     ]
    },
    {
     "name": "stderr",
     "output_type": "stream",
     "text": [
      "\r",
      " 18%|██████████████                                                                 | 602/3390 [07:21<24:47,  1.87it/s]"
     ]
    },
    {
     "name": "stdout",
     "output_type": "stream",
     "text": [
      "[['u', ['mr', 'need']], ['mr', ['u']], ['mandatory', []], ['ffi', ['need']], ['age', []], ['u', ['mr', 'need']], ['ffi', ['need']]]\n",
      "['u', ['mr', 'need']]\n",
      "['mr', ['u']]\n",
      "['mandatory', []]\n",
      "['ffi', ['need']]\n",
      "['age', []]\n",
      "['u', ['mr', 'need']]\n",
      "['ffi', ['need']]\n",
      "Review Number :  602\n"
     ]
    },
    {
     "name": "stderr",
     "output_type": "stream",
     "text": [
      "\r",
      " 18%|██████████████                                                                 | 603/3390 [07:21<24:11,  1.92it/s]"
     ]
    },
    {
     "name": "stdout",
     "output_type": "stream",
     "text": [
      "[['ippt', ['take']], ['answer', ['that', 'questions']], ['questions', ['answer']]]\n",
      "['ippt', ['take']]\n",
      "['answer', ['that', 'questions']]\n",
      "['questions', ['answer']]\n",
      "Review Number :  603\n"
     ]
    },
    {
     "name": "stderr",
     "output_type": "stream",
     "text": [
      "\r",
      " 18%|██████████████                                                                 | 604/3390 [07:23<43:45,  1.06it/s]"
     ]
    },
    {
     "name": "stdout",
     "output_type": "stream",
     "text": [
      "[['tink', []], ['video', ['got']], ['machines', ['got']], ['side', []], ['damn', []], ['troublesome', []], ['fail', ['sit']], ['sit', ['fail']], ['push', []], ['full', []], ['min', []], ['last', []], ['time', []], ['fk', []], ['le', ['tip']], ['tip', ['le']], ['last', []], ['batch', []], ['day', []], ['u', ['walk', 'ask', 'save']], ['slowly', []], ['rounds', []], ['abt', []], ['min', []], ['walk', ['u']], ['pti', ['need']], ['also', []], ['pack', []], ['home', []], ['ask', ['they', 'u']], ['u', ['walk', 'ask', 'save']], ['stop', []], ['u', ['walk', 'ask', 'save']], ['rd', ['save']]]\n",
      "['tink', []]\n",
      "['video', ['got']]\n",
      "['machines', ['got']]\n",
      "['side', []]\n",
      "['damn', []]\n",
      "['troublesome', []]\n",
      "['fail', ['sit']]\n",
      "['sit', ['fail']]\n",
      "['push', []]\n",
      "['full', []]\n",
      "['min', []]\n",
      "['last', []]\n",
      "['time', []]\n",
      "['fk', []]\n",
      "['le', ['tip']]\n",
      "['tip', ['le']]\n",
      "['last', []]\n",
      "['batch', []]\n",
      "['day', []]\n",
      "['u', ['walk', 'ask', 'save']]\n",
      "['slowly', []]\n",
      "['rounds', []]\n",
      "['abt', []]\n",
      "['min', []]\n",
      "['walk', ['u']]\n",
      "['pti', ['need']]\n",
      "['also', []]\n",
      "['pack', []]\n",
      "['home', []]\n",
      "['ask', ['they', 'u']]\n",
      "['u', ['walk', 'ask', 'save']]\n",
      "['stop', []]\n",
      "['u', ['walk', 'ask', 'save']]\n",
      "['rd', ['save']]\n",
      "Review Number :  604\n"
     ]
    },
    {
     "name": "stderr",
     "output_type": "stream",
     "text": [
      "\r",
      " 18%|██████████████                                                                 | 605/3390 [07:23<34:05,  1.36it/s]"
     ]
    },
    {
     "name": "stdout",
     "output_type": "stream",
     "text": [
      "[['hahasibei', []], ['sibeikeng', []], ['kengmaster', []]]\n",
      "['hahasibei', []]\n",
      "['sibeikeng', []]\n",
      "['kengmaster', []]\n",
      "Review Number :  605\n"
     ]
    },
    {
     "name": "stderr",
     "output_type": "stream",
     "text": [
      "\r",
      " 18%|██████████████                                                                 | 606/3390 [07:25<53:55,  1.16s/it]"
     ]
    },
    {
     "name": "stdout",
     "output_type": "stream",
     "text": [
      "[['pushup', []], ['also', []], ['ippt', ['did', 'doing', 'do']], ['last', []], ['weekend', []], ['fcc', []], ['start', ['you']], ['ippt', ['did', 'doing', 'do']], ['calender', ['do']], ['ippt', ['did', 'doing', 'do']], ['forum', []], ['members', []], ['good', []], ['tips', ['gave']], ['pushupstation', []], ['proper', []], ['forms', ['do']], ['repetition', ['get']], ['platform', ['vibrate']], ['vibrate', ['platform']], ['correctly', []], ['trialbib', []], ['test', ['form', 'doing']], ['pushup', []], ['form', ['test']], ['actual', []], ['test', ['form', 'doing']]]\n",
      "['pushup', []]\n",
      "['also', []]\n",
      "['ippt', ['did', 'doing', 'do']]\n",
      "['last', []]\n",
      "['weekend', []]\n",
      "['fcc', []]\n",
      "['start', ['you']]\n",
      "['ippt', ['did', 'doing', 'do']]\n",
      "['calender', ['do']]\n",
      "['ippt', ['did', 'doing', 'do']]\n",
      "['forum', []]\n",
      "['members', []]\n",
      "['good', []]\n",
      "['tips', ['gave']]\n",
      "['pushupstation', []]\n",
      "['proper', []]\n",
      "['forms', ['do']]\n",
      "['repetition', ['get']]\n",
      "['platform', ['vibrate']]\n",
      "['vibrate', ['platform']]\n",
      "['correctly', []]\n",
      "['trialbib', []]\n",
      "['test', ['form', 'doing']]\n",
      "['pushup', []]\n",
      "['form', ['test']]\n",
      "['actual', []]\n",
      "['test', ['form', 'doing']]\n",
      "Review Number :  606\n"
     ]
    },
    {
     "name": "stderr",
     "output_type": "stream",
     "text": [
      "\r",
      " 18%|██████████████▏                                                                | 607/3390 [07:26<50:13,  1.08s/it]"
     ]
    },
    {
     "name": "stdout",
     "output_type": "stream",
     "text": [
      "[['first', []], ['time', []], ['ippt', ['doing', 'having']], ['ordill', []], ['ippt', ['doing', 'having']], ['week', []], ['khatibfcc', []], ['almost', []], ['everyday', ['raining']], ['still', []]]\n",
      "['first', []]\n",
      "['time', []]\n",
      "['ippt', ['doing', 'having']]\n",
      "['ordill', []]\n",
      "['ippt', ['doing', 'having']]\n",
      "['week', []]\n",
      "['khatibfcc', []]\n",
      "['almost', []]\n",
      "['everyday', ['raining']]\n",
      "['still', []]\n",
      "Review Number :  607\n"
     ]
    },
    {
     "name": "stderr",
     "output_type": "stream",
     "text": [
      "\r",
      " 18%|██████████████▏                                                                | 608/3390 [07:28<53:35,  1.16s/it]"
     ]
    },
    {
     "name": "stdout",
     "output_type": "stream",
     "text": [
      "[['ipt', ['have']], ['park', []], ['baypromontory', []], ['secure', []], ['place', ['have']], ['personal', []], ['belongings', ['keep']], ['personal', []], ['belongings', ['keep']], ['cos', []], ['camp', []], ['locker', ['got']], ['park', []], ['work', []], ['office', []], ['wallet', ['have']], ['laptopbag', []]]\n",
      "['ipt', ['have']]\n",
      "['park', []]\n",
      "['baypromontory', []]\n",
      "['secure', []]\n",
      "['place', ['have']]\n",
      "['personal', []]\n",
      "['belongings', ['keep']]\n",
      "['personal', []]\n",
      "['belongings', ['keep']]\n",
      "['cos', []]\n",
      "['camp', []]\n",
      "['locker', ['got']]\n",
      "['park', []]\n",
      "['work', []]\n",
      "['office', []]\n",
      "['wallet', ['have']]\n",
      "['laptopbag', []]\n",
      "Review Number :  608\n"
     ]
    },
    {
     "name": "stderr",
     "output_type": "stream",
     "text": [
      "\r",
      " 18%|██████████████▏                                                                | 609/3390 [07:28<42:52,  1.08it/s]"
     ]
    },
    {
     "name": "stdout",
     "output_type": "stream",
     "text": [
      "[['abt', ['i', 'this', 'ask']], ['ask', ['u', 'abt', 'ffithks']], ['u', ['ask']], ['abt', ['i', 'this', 'ask']], ['ffithks', ['ask']], ['answer', []]]\n",
      "['abt', ['i', 'this', 'ask']]\n",
      "['ask', ['u', 'abt', 'ffithks']]\n",
      "['u', ['ask']]\n",
      "['abt', ['i', 'this', 'ask']]\n",
      "['ffithks', ['ask']]\n",
      "['answer', []]\n",
      "Review Number :  609\n"
     ]
    },
    {
     "name": "stderr",
     "output_type": "stream",
     "text": [
      "\r",
      " 18%|██████████████▏                                                                | 610/3390 [07:29<47:07,  1.02s/it]"
     ]
    },
    {
     "name": "stdout",
     "output_type": "stream",
     "text": [
      "[['needhelp', []], ['question', []], ['rt', ['complete']], ['ippt', ['fail', 'retake']], ['payreward', ['lets']], ['lets', ['payreward']], ['fail', ['i', 'ippt']], ['ippt', ['fail', 'retake']], ['current', []], ['window', []], ['manage', ['i']], ['complete', ['rt']], ['rt', ['complete']], ['ippt', ['fail', 'retake']], ['current', []], ['windowpurpose', []], ['want', ['i']], ['get', ['reward']], ['ippt', ['fail', 'retake']], ['reward', ['get']]]\n",
      "['needhelp', []]\n",
      "['question', []]\n",
      "['rt', ['complete']]\n",
      "['ippt', ['fail', 'retake']]\n",
      "['payreward', ['lets']]\n",
      "['lets', ['payreward']]\n",
      "['fail', ['i', 'ippt']]\n",
      "['ippt', ['fail', 'retake']]\n",
      "['current', []]\n",
      "['window', []]\n",
      "['manage', ['i']]\n",
      "['complete', ['rt']]\n",
      "['rt', ['complete']]\n",
      "['ippt', ['fail', 'retake']]\n",
      "['current', []]\n",
      "['windowpurpose', []]\n",
      "['want', ['i']]\n",
      "['get', ['reward']]\n",
      "['ippt', ['fail', 'retake']]\n",
      "['reward', ['get']]\n",
      "Review Number :  610\n"
     ]
    },
    {
     "name": "stderr",
     "output_type": "stream",
     "text": [
      "\r",
      " 18%|██████████████▏                                                                | 611/3390 [07:30<45:21,  1.02it/s]"
     ]
    },
    {
     "name": "stdout",
     "output_type": "stream",
     "text": [
      "[['think', ['you']], ['rain', []], ['dont', []], ['checkweather', []], ['weatherforecast', ['cancelled']], ['look', []], ['skies', []], ['hour', ['commit']], ['camp', []]]\n",
      "['think', ['you']]\n",
      "['rain', []]\n",
      "['dont', []]\n",
      "['checkweather', []]\n",
      "['weatherforecast', ['cancelled']]\n",
      "['look', []]\n",
      "['skies', []]\n",
      "['hour', ['commit']]\n",
      "['camp', []]\n",
      "Review Number :  611\n"
     ]
    },
    {
     "name": "stderr",
     "output_type": "stream",
     "text": [
      "\r",
      " 18%|██████████████▎                                                                | 612/3390 [07:32<54:12,  1.17s/it]"
     ]
    },
    {
     "name": "stdout",
     "output_type": "stream",
     "text": [
      "[['yes', []], ['still', []], ['scenarios', ['report']], ['mindef', ['send']], ['send', ['mindef', 'sms']], ['u', ['have', 'taking']], ['sms', ['send']], ['cancellation', []], ['weather', ['is']], ['foreseen', []], ['confirm', []], ['u', ['have', 'taking']], ['book', ['ippt']], ['separate', []], ['ippt', ['book']], ['km', []], ['applies', ['above']], ['bad', []], ['weather', ['is']], ['however', []], ['u', ['have', 'taking']], ['iptipptkm', []], ['attendance', ['taken']], ['still', []]]\n",
      "['yes', []]\n",
      "['still', []]\n",
      "['scenarios', ['report']]\n",
      "['mindef', ['send']]\n",
      "['send', ['mindef', 'sms']]\n",
      "['u', ['have', 'taking']]\n",
      "['sms', ['send']]\n",
      "['cancellation', []]\n",
      "['weather', ['is']]\n",
      "['foreseen', []]\n",
      "['confirm', []]\n",
      "['u', ['have', 'taking']]\n",
      "['book', ['ippt']]\n",
      "['separate', []]\n",
      "['ippt', ['book']]\n",
      "['km', []]\n",
      "['applies', ['above']]\n",
      "['bad', []]\n",
      "['weather', ['is']]\n",
      "['however', []]\n",
      "['u', ['have', 'taking']]\n",
      "['iptipptkm', []]\n",
      "['attendance', ['taken']]\n",
      "['still', []]\n",
      "Review Number :  612\n"
     ]
    },
    {
     "name": "stderr",
     "output_type": "stream",
     "text": [
      "\r",
      " 18%|██████████████▎                                                                | 613/3390 [07:33<50:19,  1.09s/it]"
     ]
    },
    {
     "name": "stdout",
     "output_type": "stream",
     "text": [
      "[['nope', []], ['rt', []], ['ippt', ['whack']], ['pass', []], ['obligations', ['done']], ['satisfied', []], ['scenario', []], ['fitness', []], ['level', ['maintain']], ['whack', ['ippt']], ['ippt', ['whack']], ['window', []], ['reopens', []]]\n",
      "['nope', []]\n",
      "['rt', []]\n",
      "['ippt', ['whack']]\n",
      "['pass', []]\n",
      "['obligations', ['done']]\n",
      "['satisfied', []]\n",
      "['scenario', []]\n",
      "['fitness', []]\n",
      "['level', ['maintain']]\n",
      "['whack', ['ippt']]\n",
      "['ippt', ['whack']]\n",
      "['window', []]\n",
      "['reopens', []]\n",
      "Review Number :  613\n"
     ]
    },
    {
     "name": "stderr",
     "output_type": "stream",
     "text": [
      "\r",
      " 18%|█████████████▉                                                               | 614/3390 [07:35<1:05:57,  1.43s/it]"
     ]
    },
    {
     "name": "stdout",
     "output_type": "stream",
     "text": [
      "[['rts', ['completing']], ['u', ['take', 'subjected', 'book', 'pass']], ['nonict', []], ['ippt', ['take', 'book', 'pass']], ['window', []], ['u', ['take', 'subjected', 'book', 'pass']], ['longer', []], ['rt', []], ['program', []], ['inbetween', []], ['u', ['take', 'subjected', 'book', 'pass']], ['book', ['u', 'ippt']], ['nonict', []], ['ippt', ['take', 'book', 'pass']], ['ictippt', ['it']], ['ict', []], ['forms', ['had']], ['allowanceday', []], ['dayservice', []], ['servicepay', []], ['attendance', []], ['sessions', ['had']], ['caseu', []], ['already', []], ['rtippt', []], ['qualifies', ['what', 'you']], ['money', []], ['u', ['take', 'subjected', 'book', 'pass']], ['pass', ['u', 'ippt']], ['ippt', ['take', 'book', 'pass']], ['higher', []], ['rtippt', []]]\n",
      "['rts', ['completing']]\n",
      "['u', ['take', 'subjected', 'book', 'pass']]\n",
      "['nonict', []]\n",
      "['ippt', ['take', 'book', 'pass']]\n",
      "['window', []]\n",
      "['u', ['take', 'subjected', 'book', 'pass']]\n",
      "['longer', []]\n",
      "['rt', []]\n",
      "['program', []]\n",
      "['inbetween', []]\n",
      "['u', ['take', 'subjected', 'book', 'pass']]\n",
      "['book', ['u', 'ippt']]\n",
      "['nonict', []]\n",
      "['ippt', ['take', 'book', 'pass']]\n",
      "['ictippt', ['it']]\n",
      "['ict', []]\n",
      "['forms', ['had']]\n",
      "['allowanceday', []]\n",
      "['dayservice', []]\n",
      "['servicepay', []]\n",
      "['attendance', []]\n",
      "['sessions', ['had']]\n",
      "['caseu', []]\n",
      "['already', []]\n",
      "['rtippt', []]\n",
      "['qualifies', ['what', 'you']]\n",
      "['money', []]\n",
      "['u', ['take', 'subjected', 'book', 'pass']]\n",
      "['pass', ['u', 'ippt']]\n",
      "['ippt', ['take', 'book', 'pass']]\n",
      "['higher', []]\n",
      "['rtippt', []]\n",
      "Review Number :  614\n"
     ]
    },
    {
     "name": "stderr",
     "output_type": "stream",
     "text": [
      "\r",
      " 18%|█████████████▉                                                               | 615/3390 [07:36<1:06:45,  1.44s/it]"
     ]
    },
    {
     "name": "stdout",
     "output_type": "stream",
     "text": [
      "[['ipt', ['have']], ['park', []], ['baypromontory', []], ['secure', []], ['place', ['have']], ['personal', []], ['belongings', ['keep']], ['personal', []], ['belongings', ['keep']], ['cos', []], ['camp', []], ['locker', ['got']], ['park', []], ['work', []], ['office', []], ['wallet', ['have']], ['laptopbag', []]]\n",
      "['ipt', ['have']]\n",
      "['park', []]\n",
      "['baypromontory', []]\n",
      "['secure', []]\n",
      "['place', ['have']]\n",
      "['personal', []]\n",
      "['belongings', ['keep']]\n",
      "['personal', []]\n",
      "['belongings', ['keep']]\n",
      "['cos', []]\n",
      "['camp', []]\n",
      "['locker', ['got']]\n",
      "['park', []]\n",
      "['work', []]\n",
      "['office', []]\n",
      "['wallet', ['have']]\n",
      "['laptopbag', []]\n",
      "Review Number :  615\n"
     ]
    },
    {
     "name": "stderr",
     "output_type": "stream",
     "text": [
      "\r",
      " 18%|██████████████▎                                                                | 616/3390 [07:37<52:26,  1.13s/it]"
     ]
    },
    {
     "name": "stdout",
     "output_type": "stream",
     "text": [
      "[['open', []], ['area', []], ['instructorlookingafter', ['their']]]\n",
      "['open', []]\n",
      "['area', []]\n",
      "['instructorlookingafter', ['their']]\n",
      "Review Number :  616\n"
     ]
    },
    {
     "name": "stderr",
     "output_type": "stream",
     "text": [
      "\r",
      " 18%|██████████████                                                               | 617/3390 [07:39<1:05:19,  1.41s/it]"
     ]
    },
    {
     "name": "stdout",
     "output_type": "stream",
     "text": [
      "[['question', ['answered']], ['even', []], ['thank', ['you']], ['respond', []], ['idjekyll', []], ['nope', []], ['rt', []], ['ippt', ['whack']], ['pass', []], ['obligations', ['done']], ['satisfied', []], ['scenario', []], ['fitness', []], ['level', ['maintain']], ['whack', ['ippt']], ['ippt', ['whack']], ['window', ['reopens']], ['reopens', ['window']], ['ippt', ['whack']], ['money', ['get']], ['rt', []], ['moneycall', ['me']], ['cheap', []], ['doesnt', []], ['wan', ['who']], ['fit', ['keep']]]\n",
      "['question', ['answered']]\n",
      "['even', []]\n",
      "['thank', ['you']]\n",
      "['respond', []]\n",
      "['idjekyll', []]\n",
      "['nope', []]\n",
      "['rt', []]\n",
      "['ippt', ['whack']]\n",
      "['pass', []]\n",
      "['obligations', ['done']]\n",
      "['satisfied', []]\n",
      "['scenario', []]\n",
      "['fitness', []]\n",
      "['level', ['maintain']]\n",
      "['whack', ['ippt']]\n",
      "['ippt', ['whack']]\n",
      "['window', ['reopens']]\n",
      "['reopens', ['window']]\n",
      "['ippt', ['whack']]\n",
      "['money', ['get']]\n",
      "['rt', []]\n",
      "['moneycall', ['me']]\n",
      "['cheap', []]\n",
      "['doesnt', []]\n",
      "['wan', ['who']]\n",
      "['fit', ['keep']]\n",
      "Review Number :  617\n"
     ]
    },
    {
     "name": "stderr",
     "output_type": "stream",
     "text": [
      "\r",
      " 18%|██████████████▍                                                                | 618/3390 [07:40<58:07,  1.26s/it]"
     ]
    },
    {
     "name": "stdout",
     "output_type": "stream",
     "text": [
      "[['number', ['is']], ['call', []], ['check', ['phonenumber']], ['catstatus', []], ['statusgoogle', []], ['googlesaf', []], ['safweather', []], ['weathercat', []], ['catstatus', []], ['statusphone', []], ['phonenumber', ['check']], ['dunno', ['i']], ['sectornumber', ['fall']], ['khatib', []], ['camp', ['fall']], ['fall', ['what', 'sectornumber', 'camp']]]\n",
      "['number', ['is']]\n",
      "['call', []]\n",
      "['check', ['phonenumber']]\n",
      "['catstatus', []]\n",
      "['statusgoogle', []]\n",
      "['googlesaf', []]\n",
      "['safweather', []]\n",
      "['weathercat', []]\n",
      "['catstatus', []]\n",
      "['statusphone', []]\n",
      "['phonenumber', ['check']]\n",
      "['dunno', ['i']]\n",
      "['sectornumber', ['fall']]\n",
      "['khatib', []]\n",
      "['camp', ['fall']]\n",
      "['fall', ['what', 'sectornumber', 'camp']]\n",
      "Review Number :  618\n"
     ]
    },
    {
     "name": "stderr",
     "output_type": "stream",
     "text": [
      "\r",
      " 18%|██████████████▍                                                                | 619/3390 [07:41<54:53,  1.19s/it]"
     ]
    },
    {
     "name": "stdout",
     "output_type": "stream",
     "text": [
      "[['u', ['want', 'want']], ['attendance', ['want']], ['u', ['want', 'want']], ['chiong', []], ['pass', []], ['check', ['weather']], ['weather', ['check']], ['first', []], ['camp', ['go']], ['maju', []], ['area', ['sheltered']], ['problem', ['do']], ['storm', []], ['also', []]]\n",
      "['u', ['want', 'want']]\n",
      "['attendance', ['want']]\n",
      "['u', ['want', 'want']]\n",
      "['chiong', []]\n",
      "['pass', []]\n",
      "['check', ['weather']]\n",
      "['weather', ['check']]\n",
      "['first', []]\n",
      "['camp', ['go']]\n",
      "['maju', []]\n",
      "['area', ['sheltered']]\n",
      "['problem', ['do']]\n",
      "['storm', []]\n",
      "['also', []]\n",
      "Review Number :  619\n"
     ]
    },
    {
     "name": "stderr",
     "output_type": "stream",
     "text": [
      "\r",
      " 18%|██████████████                                                               | 620/3390 [07:43<1:05:29,  1.42s/it]"
     ]
    },
    {
     "name": "stdout",
     "output_type": "stream",
     "text": [
      "[['call', ['received']], ['mindef', []], ['ipt', ['complete']], ['complete', ['ipt']], ['yet', []], ['program', ['take']], ['healthpromotion', []], ['area', []], ['armycamp', []], ['consider', []], ['ipt', ['complete']], ['didnt', []], ['clearly', []], ['healthpromotion', []], ['promotionboard', []], ['boardwebsite', []], ['apply', []], ['informationanybody', ['find']], ['know', []], ['cant', []], ['find', ['informationanybody', 'i', 'info']], ['info', ['find']], ['website', []]]\n",
      "['call', ['received']]\n",
      "['mindef', []]\n",
      "['ipt', ['complete']]\n",
      "['complete', ['ipt']]\n",
      "['yet', []]\n",
      "['program', ['take']]\n",
      "['healthpromotion', []]\n",
      "['area', []]\n",
      "['armycamp', []]\n",
      "['consider', []]\n",
      "['ipt', ['complete']]\n",
      "['didnt', []]\n",
      "['clearly', []]\n",
      "['healthpromotion', []]\n",
      "['promotionboard', []]\n",
      "['boardwebsite', []]\n",
      "['apply', []]\n",
      "['informationanybody', ['find']]\n",
      "['know', []]\n",
      "['cant', []]\n",
      "['find', ['informationanybody', 'i', 'info']]\n",
      "['info', ['find']]\n",
      "['website', []]\n",
      "Review Number :  620\n",
      "[]\n",
      "Review Number :  621\n"
     ]
    },
    {
     "name": "stderr",
     "output_type": "stream",
     "text": [
      "\r",
      " 18%|██████████████▍                                                                | 622/3390 [07:43<41:54,  1.10it/s]"
     ]
    },
    {
     "name": "stdout",
     "output_type": "stream",
     "text": [
      "[['november', []], ['last', []], ['year', []], ['birthday', ['june']], ['june', ['birthday']], ['ippt', ['take']]]\n",
      "['november', []]\n",
      "['last', []]\n",
      "['year', []]\n",
      "['birthday', ['june']]\n",
      "['june', ['birthday']]\n",
      "['ippt', ['take']]\n",
      "Review Number :  622\n"
     ]
    },
    {
     "name": "stderr",
     "output_type": "stream",
     "text": [
      "\r",
      " 18%|██████████████▌                                                                | 623/3390 [07:44<36:23,  1.27it/s]"
     ]
    },
    {
     "name": "stdout",
     "output_type": "stream",
     "text": [
      "[['incentive', []], ['yes', []], ['different', []], ['windows', []], ['payi', ['believe']], ['get', ['rank']], ['also', []]]\n",
      "['incentive', []]\n",
      "['yes', []]\n",
      "['different', []]\n",
      "['windows', []]\n",
      "['payi', ['believe']]\n",
      "['get', ['rank']]\n",
      "['also', []]\n",
      "Review Number :  623\n",
      "[]\n",
      "Review Number :  624\n"
     ]
    },
    {
     "name": "stderr",
     "output_type": "stream",
     "text": [
      "\r",
      " 18%|██████████████▌                                                                | 625/3390 [07:45<33:51,  1.36it/s]"
     ]
    },
    {
     "name": "stdout",
     "output_type": "stream",
     "text": [
      "[['anyone', ['happen']], ['default', ['i', 'cycles']], ['last', []], ['cycles', ['default']], ['im', ['expected']], ['mr', ['next']], ['yeari', ['defaulted']], ['never', []], ['itd', ['consideration']], ['safe', []], ['consideration', ['itd']], ['use', ['they', 'it']], ['reason', []], ['mr', ['next']], ['personnel', []], ['haha', []]]\n",
      "['anyone', ['happen']]\n",
      "['default', ['i', 'cycles']]\n",
      "['last', []]\n",
      "['cycles', ['default']]\n",
      "['im', ['expected']]\n",
      "['mr', ['next']]\n",
      "['yeari', ['defaulted']]\n",
      "['never', []]\n",
      "['itd', ['consideration']]\n",
      "['safe', []]\n",
      "['consideration', ['itd']]\n",
      "['use', ['they', 'it']]\n",
      "['reason', []]\n",
      "['mr', ['next']]\n",
      "['personnel', []]\n",
      "['haha', []]\n",
      "Review Number :  625\n"
     ]
    },
    {
     "name": "stderr",
     "output_type": "stream",
     "text": [
      "\r",
      " 18%|██████████████▌                                                                | 626/3390 [07:46<36:26,  1.26it/s]"
     ]
    },
    {
     "name": "stdout",
     "output_type": "stream",
     "text": [
      "[['hi', []], ['guys', []], ['last', []], ['cycle', []], ['ict', ['completed']], ['end', ['doing']], ['month', []], ['mid', []], ['june', []], ['new', []], ['ippt', ['do']], ['windowperiod', []], ['still', []], ['ippt', ['do']], ['already', []], ['ict', ['completed']]]\n",
      "['hi', []]\n",
      "['guys', []]\n",
      "['last', []]\n",
      "['cycle', []]\n",
      "['ict', ['completed']]\n",
      "['end', ['doing']]\n",
      "['month', []]\n",
      "['mid', []]\n",
      "['june', []]\n",
      "['new', []]\n",
      "['ippt', ['do']]\n",
      "['windowperiod', []]\n",
      "['still', []]\n",
      "['ippt', ['do']]\n",
      "['already', []]\n",
      "['ict', ['completed']]\n",
      "Review Number :  626\n"
     ]
    },
    {
     "name": "stderr",
     "output_type": "stream",
     "text": [
      "\r",
      " 18%|██████████████▌                                                                | 627/3390 [07:47<31:43,  1.45it/s]"
     ]
    },
    {
     "name": "stdout",
     "output_type": "stream",
     "text": [
      "[['wahshiok', ['got']], ['rod', []], ['cert', ['got']], ['watchliao', []], ['liaoah', []]]\n",
      "['wahshiok', ['got']]\n",
      "['rod', []]\n",
      "['cert', ['got']]\n",
      "['watchliao', []]\n",
      "['liaoah', []]\n",
      "Review Number :  627\n"
     ]
    },
    {
     "name": "stderr",
     "output_type": "stream",
     "text": [
      "\r",
      " 19%|██████████████▋                                                                | 628/3390 [07:48<35:23,  1.30it/s]"
     ]
    },
    {
     "name": "stdout",
     "output_type": "stream",
     "text": [
      "[['nope', []], ['yet', []], ['check', ['advanceskali']], ['advanceskali', ['check']], ['fault', ['they', 'me']], ['ippt', []], ['mindef', ['that', 'lot']], ['lot', ['mindef']], ['dont', []], ['dont', []]]\n",
      "['nope', []]\n",
      "['yet', []]\n",
      "['check', ['advanceskali']]\n",
      "['advanceskali', ['check']]\n",
      "['fault', ['they', 'me']]\n",
      "['ippt', []]\n",
      "['mindef', ['that', 'lot']]\n",
      "['lot', ['mindef']]\n",
      "['dont', []]\n",
      "['dont', []]\n",
      "Review Number :  628\n"
     ]
    },
    {
     "name": "stderr",
     "output_type": "stream",
     "text": [
      "\r",
      " 19%|██████████████▋                                                                | 629/3390 [07:48<37:32,  1.23it/s]"
     ]
    },
    {
     "name": "stdout",
     "output_type": "stream",
     "text": [
      "[['right', []], ['final', []], ['incamp', ['is']], ['endmay', []], ['ipptwindow', ['valid']], ['valid', ['ipptwindow']], ['endmar', []], ['fiscal', []], ['year', []], ['mrceremony', ['apr']], ['apr', ['mrceremony']]]\n",
      "['right', []]\n",
      "['final', []]\n",
      "['incamp', ['is']]\n",
      "['endmay', []]\n",
      "['ipptwindow', ['valid']]\n",
      "['valid', ['ipptwindow']]\n",
      "['endmar', []]\n",
      "['fiscal', []]\n",
      "['year', []]\n",
      "['mrceremony', ['apr']]\n",
      "['apr', ['mrceremony']]\n",
      "Review Number :  629\n"
     ]
    },
    {
     "name": "stderr",
     "output_type": "stream",
     "text": [
      "\r",
      " 19%|██████████████▋                                                                | 630/3390 [07:49<36:32,  1.26it/s]"
     ]
    },
    {
     "name": "stdout",
     "output_type": "stream",
     "text": [
      "[['epep', []], ['ipt', []], ['fees', []], ['anyone', ['know']], ['schemeah', []]]\n",
      "['epep', []]\n",
      "['ipt', []]\n",
      "['fees', []]\n",
      "['anyone', ['know']]\n",
      "['schemeah', []]\n",
      "Review Number :  630\n"
     ]
    },
    {
     "name": "stderr",
     "output_type": "stream",
     "text": [
      "\r",
      " 19%|██████████████▋                                                                | 631/3390 [07:50<34:08,  1.35it/s]"
     ]
    },
    {
     "name": "stdout",
     "output_type": "stream",
     "text": [
      "[['anyone', ['knows']], ['fcc', ['used']], ['also', []], ['automated', []], ['machine', ['used']], ['pushup', []], ['station', []], ['khatib', []], ['majufcc', []]]\n",
      "['anyone', ['knows']]\n",
      "['fcc', ['used']]\n",
      "['also', []]\n",
      "['automated', []]\n",
      "['machine', ['used']]\n",
      "['pushup', []]\n",
      "['station', []]\n",
      "['khatib', []]\n",
      "['majufcc', []]\n",
      "Review Number :  631\n"
     ]
    },
    {
     "name": "stderr",
     "output_type": "stream",
     "text": [
      "\r",
      " 19%|██████████████▋                                                                | 632/3390 [07:51<37:45,  1.22it/s]"
     ]
    },
    {
     "name": "stdout",
     "output_type": "stream",
     "text": [
      "[['anyone', ['went', 'issued']], ['khatib', []], ['fcc', []], ['recently', []], ['still', []], ['orangetag', ['is']], ['games', []], ['im', []], ['also', []], ['due', []], ['hsp', []], ['ill', []], ['soon', []], ['still', []], ['saf', ['get']], ['anyone', ['went', 'issued']], ['know', []], ['get', ['saf']], ['saf', ['get']]]\n",
      "['anyone', ['went', 'issued']]\n",
      "['khatib', []]\n",
      "['fcc', []]\n",
      "['recently', []]\n",
      "['still', []]\n",
      "['orangetag', ['is']]\n",
      "['games', []]\n",
      "['im', []]\n",
      "['also', []]\n",
      "['due', []]\n",
      "['hsp', []]\n",
      "['ill', []]\n",
      "['soon', []]\n",
      "['still', []]\n",
      "['saf', ['get']]\n",
      "['anyone', ['went', 'issued']]\n",
      "['know', []]\n",
      "['get', ['saf']]\n",
      "['saf', ['get']]\n",
      "Review Number :  632\n"
     ]
    },
    {
     "name": "stderr",
     "output_type": "stream",
     "text": [
      "\r",
      " 19%|██████████████▊                                                                | 633/3390 [07:51<34:02,  1.35it/s]"
     ]
    },
    {
     "name": "stdout",
     "output_type": "stream",
     "text": [
      "[['orangetag', []], ['yes', []], ['maybe', []], ['u', ['have']], ['yet', []], ['saf', ['receive']], ['otherwise', []], ['contact', ['unit']], ['unit', ['contact']], ['ns', []], ['hotline', []], ['enquire', []]]\n",
      "['orangetag', []]\n",
      "['yes', []]\n",
      "['maybe', []]\n",
      "['u', ['have']]\n",
      "['yet', []]\n",
      "['saf', ['receive']]\n",
      "['otherwise', []]\n",
      "['contact', ['unit']]\n",
      "['unit', ['contact']]\n",
      "['ns', []]\n",
      "['hotline', []]\n",
      "['enquire', []]\n",
      "Review Number :  633\n"
     ]
    },
    {
     "name": "stderr",
     "output_type": "stream",
     "text": [
      "\r",
      " 19%|██████████████▊                                                                | 634/3390 [07:52<29:31,  1.56it/s]"
     ]
    },
    {
     "name": "stdout",
     "output_type": "stream",
     "text": [
      "[['yes', []], ['weeks', []], ['ago', []], ['ippt', ['sit']], ['sit', ['ippt']], ['push', ['usemachine']], ['usemachine', ['push']]]\n",
      "['yes', []]\n",
      "['weeks', []]\n",
      "['ago', []]\n",
      "['ippt', ['sit']]\n",
      "['sit', ['ippt']]\n",
      "['push', ['usemachine']]\n",
      "['usemachine', ['push']]\n",
      "Review Number :  634\n"
     ]
    },
    {
     "name": "stderr",
     "output_type": "stream",
     "text": [
      "\r",
      " 19%|██████████████▊                                                                | 635/3390 [07:52<28:16,  1.62it/s]"
     ]
    },
    {
     "name": "stdout",
     "output_type": "stream",
     "text": [
      "[['route', ['run']], ['kranjicamp', []], ['stadium', ['run']], ['track', ['running']], ['khatibcamp', []]]\n",
      "['route', ['run']]\n",
      "['kranjicamp', []]\n",
      "['stadium', ['run']]\n",
      "['track', ['running']]\n",
      "['khatibcamp', []]\n",
      "Review Number :  635\n"
     ]
    },
    {
     "name": "stderr",
     "output_type": "stream",
     "text": [
      "\r",
      " 19%|██████████████▊                                                                | 636/3390 [07:53<27:07,  1.69it/s]"
     ]
    },
    {
     "name": "stdout",
     "output_type": "stream",
     "text": [
      "[['indoor', ['vehiclecarpark']], ['large', []], ['vehiclecarpark', ['indoor', 'rectangle']], ['basically', []], ['corner', []], ['sticks', ['that']]]\n",
      "['indoor', ['vehiclecarpark']]\n",
      "['large', []]\n",
      "['vehiclecarpark', ['indoor', 'rectangle']]\n",
      "['basically', []]\n",
      "['corner', []]\n",
      "['sticks', ['that']]\n",
      "Review Number :  636\n"
     ]
    },
    {
     "name": "stderr",
     "output_type": "stream",
     "text": [
      "\r",
      " 19%|██████████████▊                                                                | 637/3390 [07:53<23:21,  1.96it/s]"
     ]
    },
    {
     "name": "stdout",
     "output_type": "stream",
     "text": [
      "[['many', []], ['rounds', ['run']], ['around', []], ['carpark', []]]\n",
      "['many', []]\n",
      "['rounds', ['run']]\n",
      "['around', []]\n",
      "['carpark', []]\n",
      "Review Number :  637\n"
     ]
    },
    {
     "name": "stderr",
     "output_type": "stream",
     "text": [
      "\r",
      " 19%|██████████████▊                                                                | 638/3390 [07:54<30:44,  1.49it/s]"
     ]
    },
    {
     "name": "stdout",
     "output_type": "stream",
     "text": [
      "[['anyone', ['know']], ['ipt', []], ['area', []], ['marina', []], ['baypromontory', []], ['first', []], ['time', []], ['sure', []], ['meet', []], ['later', []], ['ipt', []], ['promontory', []], ['quite', []], ['big', []]]\n",
      "['anyone', ['know']]\n",
      "['ipt', []]\n",
      "['area', []]\n",
      "['marina', []]\n",
      "['baypromontory', []]\n",
      "['first', []]\n",
      "['time', []]\n",
      "['sure', []]\n",
      "['meet', []]\n",
      "['later', []]\n",
      "['ipt', []]\n",
      "['promontory', []]\n",
      "['quite', []]\n",
      "['big', []]\n",
      "Review Number :  638\n"
     ]
    },
    {
     "name": "stderr",
     "output_type": "stream",
     "text": [
      "\r",
      " 19%|██████████████▉                                                                | 639/3390 [07:55<25:33,  1.79it/s]"
     ]
    },
    {
     "name": "stdout",
     "output_type": "stream",
     "text": [
      "[['rounds', []], ['straights', ['longer']], ['supposedly', []]]\n",
      "['rounds', []]\n",
      "['straights', ['longer']]\n",
      "['supposedly', []]\n",
      "Review Number :  639\n"
     ]
    },
    {
     "name": "stderr",
     "output_type": "stream",
     "text": [
      "\r",
      " 19%|██████████████▉                                                                | 640/3390 [07:55<31:22,  1.46it/s]"
     ]
    },
    {
     "name": "stdout",
     "output_type": "stream",
     "text": [
      "[['marina', []], ['citygallery', []], ['gallerymarina', []], ['marinabay', []], ['bayhttpswwwnssgwebwcmconnectnsycitygallery', []], ['honestly', []], ['isnt', []], ['easily', []], ['info', []], ['location', []], ['iptintheparkfeedback', []], ['ns', []], ['portal', []], ['necessary', []]]\n",
      "['marina', []]\n",
      "['citygallery', []]\n",
      "['gallerymarina', []]\n",
      "['marinabay', []]\n",
      "['bayhttpswwwnssgwebwcmconnectnsycitygallery', []]\n",
      "['honestly', []]\n",
      "['isnt', []]\n",
      "['easily', []]\n",
      "['info', []]\n",
      "['location', []]\n",
      "['iptintheparkfeedback', []]\n",
      "['ns', []]\n",
      "['portal', []]\n",
      "['necessary', []]\n",
      "Review Number :  640\n"
     ]
    },
    {
     "name": "stderr",
     "output_type": "stream",
     "text": [
      "\r",
      " 19%|██████████████▉                                                                | 641/3390 [07:56<35:50,  1.28it/s]"
     ]
    },
    {
     "name": "stdout",
     "output_type": "stream",
     "text": [
      "[['thanks', []], ['info', []], ['sms', []], ['feedback', []], ['ns', []], ['portal', []], ['booking', ['it']], ['states', []], ['promontory', []], ['citygallery', ['places']], ['promontory', []], ['different', []], ['places', ['citygallery']], ['lor', []]]\n",
      "['thanks', []]\n",
      "['info', []]\n",
      "['sms', []]\n",
      "['feedback', []]\n",
      "['ns', []]\n",
      "['portal', []]\n",
      "['booking', ['it']]\n",
      "['states', []]\n",
      "['promontory', []]\n",
      "['citygallery', ['places']]\n",
      "['promontory', []]\n",
      "['different', []]\n",
      "['places', ['citygallery']]\n",
      "['lor', []]\n",
      "Review Number :  641\n"
     ]
    },
    {
     "name": "stderr",
     "output_type": "stream",
     "text": [
      "\r",
      " 19%|██████████████▉                                                                | 642/3390 [07:57<32:30,  1.41it/s]"
     ]
    },
    {
     "name": "stdout",
     "output_type": "stream",
     "text": [
      "[['still', []], ['distance', []], ['need', ['someone']], ['someone', ['need']], ['exact', []], ['location', []]]\n",
      "['still', []]\n",
      "['distance', []]\n",
      "['need', ['someone']]\n",
      "['someone', ['need']]\n",
      "['exact', []]\n",
      "['location', []]\n",
      "Review Number :  642\n"
     ]
    },
    {
     "name": "stderr",
     "output_type": "stream",
     "text": [
      "\r",
      " 19%|██████████████▉                                                                | 643/3390 [07:58<32:21,  1.41it/s]"
     ]
    },
    {
     "name": "stdout",
     "output_type": "stream",
     "text": [
      "[['hi', []], ['guys', []], ['book', ['training']], ['ipt', []], ['training', ['book']], ['day', []], ['unable', []], ['make', ['itis']], ['itis', ['make']], ['maximum', []], ['sessioni', ['miss']], ['miss', ['sessioni']]]\n",
      "['hi', []]\n",
      "['guys', []]\n",
      "['book', ['training']]\n",
      "['ipt', []]\n",
      "['training', ['book']]\n",
      "['day', []]\n",
      "['unable', []]\n",
      "['make', ['itis']]\n",
      "['itis', ['make']]\n",
      "['maximum', []]\n",
      "['sessioni', ['miss']]\n",
      "['miss', ['sessioni']]\n",
      "Review Number :  643\n"
     ]
    },
    {
     "name": "stderr",
     "output_type": "stream",
     "text": [
      "\r",
      " 19%|███████████████                                                                | 644/3390 [07:58<27:57,  1.64it/s]"
     ]
    },
    {
     "name": "stdout",
     "output_type": "stream",
     "text": [
      "[['issues', []], ['many', []], ['miss', ['you']]]\n",
      "['issues', []]\n",
      "['many', []]\n",
      "['miss', ['you']]\n",
      "Review Number :  644\n"
     ]
    },
    {
     "name": "stderr",
     "output_type": "stream",
     "text": [
      "\r",
      " 19%|███████████████                                                                | 645/3390 [07:59<28:48,  1.59it/s]"
     ]
    },
    {
     "name": "stdout",
     "output_type": "stream",
     "text": [
      "[['anyone', ['know']], ['typically', []], ['time', ['does']], ['ipt', []], ['end', ['does']], ['tuesthurs', []], ['pm', []], ['sessions', []], ['khatib', []]]\n",
      "['anyone', ['know']]\n",
      "['typically', []]\n",
      "['time', ['does']]\n",
      "['ipt', []]\n",
      "['end', ['does']]\n",
      "['tuesthurs', []]\n",
      "['pm', []]\n",
      "['sessions', []]\n",
      "['khatib', []]\n",
      "Review Number :  645\n"
     ]
    },
    {
     "name": "stderr",
     "output_type": "stream",
     "text": [
      "\r",
      " 19%|███████████████                                                                | 646/3390 [07:59<29:01,  1.58it/s]"
     ]
    },
    {
     "name": "stdout",
     "output_type": "stream",
     "text": [
      "[['fccs', ['same']], ['roughly', []], ['total', []], ['mins', []], ['inpro', []], ['pm', []]]\n",
      "['fccs', ['same']]\n",
      "['roughly', []]\n",
      "['total', []]\n",
      "['mins', []]\n",
      "['inpro', []]\n",
      "['pm', []]\n",
      "Review Number :  646\n"
     ]
    },
    {
     "name": "stderr",
     "output_type": "stream",
     "text": [
      "\r",
      " 19%|███████████████                                                                | 647/3390 [08:00<23:11,  1.97it/s]"
     ]
    },
    {
     "name": "stdout",
     "output_type": "stream",
     "text": [
      "[['yes', []]]\n",
      "['yes', []]\n",
      "Review Number :  647\n"
     ]
    },
    {
     "name": "stderr",
     "output_type": "stream",
     "text": [
      "\r",
      " 19%|███████████████                                                                | 648/3390 [08:00<25:49,  1.77it/s]"
     ]
    },
    {
     "name": "stdout",
     "output_type": "stream",
     "text": [
      "[['ippt', ['passed', 'take']], ['birthday', []], ['immediately', []], ['ippt', ['passed', 'take']], ['new', []], ['window', []], ['open', []], ['cooldown', []], ['period', ['is']]]\n",
      "['ippt', ['passed', 'take']]\n",
      "['birthday', []]\n",
      "['immediately', []]\n",
      "['ippt', ['passed', 'take']]\n",
      "['new', []]\n",
      "['window', []]\n",
      "['open', []]\n",
      "['cooldown', []]\n",
      "['period', ['is']]\n",
      "Review Number :  648\n"
     ]
    },
    {
     "name": "stderr",
     "output_type": "stream",
     "text": [
      "\r",
      " 19%|███████████████                                                                | 649/3390 [08:01<21:13,  2.15it/s]"
     ]
    },
    {
     "name": "stdout",
     "output_type": "stream",
     "text": [
      "[['u', ['go']], ['ahead', []]]\n",
      "['u', ['go']]\n",
      "['ahead', []]\n",
      "Review Number :  649\n"
     ]
    },
    {
     "name": "stderr",
     "output_type": "stream",
     "text": [
      "\r",
      " 19%|███████████████▏                                                               | 650/3390 [08:01<23:06,  1.98it/s]"
     ]
    },
    {
     "name": "stdout",
     "output_type": "stream",
     "text": [
      "[['able', ['i']], ['amend', ['testdate']], ['ippt', []], ['testdate', ['amend']], ['upcoming', []], ['day', []], ['attendance', []]]\n",
      "['able', ['i']]\n",
      "['amend', ['testdate']]\n",
      "['ippt', []]\n",
      "['testdate', ['amend']]\n",
      "['upcoming', []]\n",
      "['day', []]\n",
      "['attendance', []]\n",
      "Review Number :  650\n"
     ]
    },
    {
     "name": "stderr",
     "output_type": "stream",
     "text": [
      "\r",
      " 19%|███████████████▏                                                               | 651/3390 [08:02<20:50,  2.19it/s]"
     ]
    },
    {
     "name": "stdout",
     "output_type": "stream",
     "text": [
      "[['afternoonsession', ['has']], ['ippt', []], ['test', ['has']]]\n",
      "['afternoonsession', ['has']]\n",
      "['ippt', []]\n",
      "['test', ['has']]\n",
      "Review Number :  651\n"
     ]
    },
    {
     "name": "stderr",
     "output_type": "stream",
     "text": [
      "\r",
      " 19%|███████████████▏                                                               | 652/3390 [08:02<20:27,  2.23it/s]"
     ]
    },
    {
     "name": "stdout",
     "output_type": "stream",
     "text": [
      "[['pm', []], ['last', []], ['night', []], ['attendancelist', []]]\n",
      "['pm', []]\n",
      "['last', []]\n",
      "['night', []]\n",
      "['attendancelist', []]\n",
      "Review Number :  652\n"
     ]
    },
    {
     "name": "stderr",
     "output_type": "stream",
     "text": [
      "\r",
      " 19%|███████████████▏                                                               | 653/3390 [08:02<18:35,  2.45it/s]"
     ]
    },
    {
     "name": "stdout",
     "output_type": "stream",
     "text": [
      "[['ya', []], ['nsportal', ['say']], ['say', ['nsportal']], ['mean', ['updated']], ['updated', ['mean']]]\n",
      "['ya', []]\n",
      "['nsportal', ['say']]\n",
      "['say', ['nsportal']]\n",
      "['mean', ['updated']]\n",
      "['updated', ['mean']]\n",
      "Review Number :  653\n"
     ]
    },
    {
     "name": "stderr",
     "output_type": "stream",
     "text": [
      "\r",
      " 19%|███████████████▏                                                               | 654/3390 [08:03<16:13,  2.81it/s]"
     ]
    },
    {
     "name": "stdout",
     "output_type": "stream",
     "text": [
      "[['come', []], ['saturday', []]]\n",
      "['come', []]\n",
      "['saturday', []]\n",
      "Review Number :  654\n"
     ]
    },
    {
     "name": "stderr",
     "output_type": "stream",
     "text": [
      "\r",
      " 19%|███████████████▎                                                               | 655/3390 [08:03<24:51,  1.83it/s]"
     ]
    },
    {
     "name": "stdout",
     "output_type": "stream",
     "text": [
      "[['days', []], ['use', ['incentive']], ['incentive', ['use', 'eat']], ['lottery', []], ['even', []], ['worry', []], ['mindef', ['eat']], ['eat', ['mindef', 'incentive']], ['incentive', ['use', 'eat']], ['allowance', []], ['u', ['rushing', 'receiving', 'inform']], ['sms', ['receiving']], ['inform', ['u']], ['u', ['rushing', 'receiving', 'inform']], ['payment', []]]\n",
      "['days', []]\n",
      "['use', ['incentive']]\n",
      "['incentive', ['use', 'eat']]\n",
      "['lottery', []]\n",
      "['even', []]\n",
      "['worry', []]\n",
      "['mindef', ['eat']]\n",
      "['eat', ['mindef', 'incentive']]\n",
      "['incentive', ['use', 'eat']]\n",
      "['allowance', []]\n",
      "['u', ['rushing', 'receiving', 'inform']]\n",
      "['sms', ['receiving']]\n",
      "['inform', ['u']]\n",
      "['u', ['rushing', 'receiving', 'inform']]\n",
      "['payment', []]\n",
      "Review Number :  655\n"
     ]
    },
    {
     "name": "stderr",
     "output_type": "stream",
     "text": [
      "\r",
      " 19%|███████████████▎                                                               | 656/3390 [08:05<37:27,  1.22it/s]"
     ]
    },
    {
     "name": "stdout",
     "output_type": "stream",
     "text": [
      "[['ippt', ['took']], ['kranji', []], ['new', []], ['machine', []], ['systems', ['pain']], ['implement', ['they']], ['really', []], ['pain', ['systems', 'movements']], ['ass', []], ['movements', ['pain']], ['right', []], ['posture', ['following']], ['immediately', []], ['lol', []], ['anyone', ['closing']], ['maju', []], ['camp', ['using']], ['manual', ['using']], ['machine', []]]\n",
      "['ippt', ['took']]\n",
      "['kranji', []]\n",
      "['new', []]\n",
      "['machine', []]\n",
      "['systems', ['pain']]\n",
      "['implement', ['they']]\n",
      "['really', []]\n",
      "['pain', ['systems', 'movements']]\n",
      "['ass', []]\n",
      "['movements', ['pain']]\n",
      "['right', []]\n",
      "['posture', ['following']]\n",
      "['immediately', []]\n",
      "['lol', []]\n",
      "['anyone', ['closing']]\n",
      "['maju', []]\n",
      "['camp', ['using']]\n",
      "['manual', ['using']]\n",
      "['machine', []]\n",
      "Review Number :  656\n"
     ]
    },
    {
     "name": "stderr",
     "output_type": "stream",
     "text": [
      "\r",
      " 19%|███████████████▎                                                               | 657/3390 [08:06<45:21,  1.00it/s]"
     ]
    },
    {
     "name": "stdout",
     "output_type": "stream",
     "text": [
      "[['guys', ['received']], ['ns', []], ['notification', ['received']], ['chances', []], ['fail', ['i']], ['complete', ['rts']], ['rts', ['complete']], ['june', []], ['week', []], ['thinking', ['i']], ['still', []], ['liable', []], ['day', []], ['anyone', ['passed']]]\n",
      "['guys', ['received']]\n",
      "['ns', []]\n",
      "['notification', ['received']]\n",
      "['chances', []]\n",
      "['fail', ['i']]\n",
      "['complete', ['rts']]\n",
      "['rts', ['complete']]\n",
      "['june', []]\n",
      "['week', []]\n",
      "['thinking', ['i']]\n",
      "['still', []]\n",
      "['liable', []]\n",
      "['day', []]\n",
      "['anyone', ['passed']]\n",
      "Review Number :  657\n"
     ]
    },
    {
     "name": "stderr",
     "output_type": "stream",
     "text": [
      "\r",
      " 19%|███████████████▎                                                               | 658/3390 [08:07<43:04,  1.06it/s]"
     ]
    },
    {
     "name": "stdout",
     "output_type": "stream",
     "text": [
      "[['majucamp', []], ['fked', []], ['machine', []], ['half', []], ['push', []], ['im', ['certain']], ['certain', ['im']], ['posture', ['counted']]]\n",
      "['majucamp', []]\n",
      "['fked', []]\n",
      "['machine', []]\n",
      "['half', []]\n",
      "['push', []]\n",
      "['im', ['certain']]\n",
      "['certain', ['im']]\n",
      "['posture', ['counted']]\n",
      "Review Number :  658\n"
     ]
    },
    {
     "name": "stderr",
     "output_type": "stream",
     "text": [
      "\r",
      " 19%|███████████████▎                                                               | 659/3390 [08:09<48:41,  1.07s/it]"
     ]
    },
    {
     "name": "stdout",
     "output_type": "stream",
     "text": [
      "[['ippt', ['different']], ['ord', []], ['stations', ['do', 'do']], ['pass', ['i', 'it']], ['static', []], ['station', []], ['results', []], ['rt', []], ['last', []], ['year', []], ['stations', ['do', 'do']], ['run', ['do']], ['first', []], ['attempt', []], ['maybe', []], ['nonrt', []], ['ippt', ['different']], ['different', ['ippt']]]\n",
      "['ippt', ['different']]\n",
      "['ord', []]\n",
      "['stations', ['do', 'do']]\n",
      "['pass', ['i', 'it']]\n",
      "['static', []]\n",
      "['station', []]\n",
      "['results', []]\n",
      "['rt', []]\n",
      "['last', []]\n",
      "['year', []]\n",
      "['stations', ['do', 'do']]\n",
      "['run', ['do']]\n",
      "['first', []]\n",
      "['attempt', []]\n",
      "['maybe', []]\n",
      "['nonrt', []]\n",
      "['ippt', ['different']]\n",
      "['different', ['ippt']]\n",
      "Review Number :  659\n"
     ]
    },
    {
     "name": "stderr",
     "output_type": "stream",
     "text": [
      "\r",
      " 19%|███████████████▍                                                               | 660/3390 [08:09<44:57,  1.01it/s]"
     ]
    },
    {
     "name": "stdout",
     "output_type": "stream",
     "text": [
      "[['maju', ['had']], ['machine', ['had']], ['use', ['attempts']], ['attempts', ['use']], ['push', []], ['station', []], ['straighten', ['straighten']], ['back', []], ['lower', []], ['body', []], ['body', []]]\n",
      "['maju', ['had']]\n",
      "['machine', ['had']]\n",
      "['use', ['attempts']]\n",
      "['attempts', ['use']]\n",
      "['push', []]\n",
      "['station', []]\n",
      "['straighten', ['straighten']]\n",
      "['back', []]\n",
      "['lower', []]\n",
      "['body', []]\n",
      "['body', []]\n",
      "Review Number :  660\n"
     ]
    },
    {
     "name": "stderr",
     "output_type": "stream",
     "text": [
      "\r",
      " 19%|███████████████▍                                                               | 661/3390 [08:10<36:11,  1.26it/s]"
     ]
    },
    {
     "name": "stdout",
     "output_type": "stream",
     "text": [
      "[['safra', []], ['jurong', []], ['idea', ['how']], ['also', []], ['sian', ['implemented']]]\n",
      "['safra', []]\n",
      "['jurong', []]\n",
      "['idea', ['how']]\n",
      "['also', []]\n",
      "['sian', ['implemented']]\n",
      "Review Number :  661\n"
     ]
    },
    {
     "name": "stderr",
     "output_type": "stream",
     "text": [
      "\r",
      " 20%|███████████████▍                                                               | 662/3390 [08:10<35:08,  1.29it/s]"
     ]
    },
    {
     "name": "stdout",
     "output_type": "stream",
     "text": [
      "[['u', ['have', 'know', 'sure', 'walk']], ['stations', ['do']], ['attendance', ['get']], ['even', []], ['u', ['have', 'know', 'sure', 'walk']], ['u', ['have', 'know', 'sure', 'walk']], ['sure', ['u']], ['fail', []], ['u', ['have', 'know', 'sure', 'walk']], ['also', []], ['walk', ['u', 'most', 'who']]]\n",
      "['u', ['have', 'know', 'sure', 'walk']]\n",
      "['stations', ['do']]\n",
      "['attendance', ['get']]\n",
      "['even', []]\n",
      "['u', ['have', 'know', 'sure', 'walk']]\n",
      "['u', ['have', 'know', 'sure', 'walk']]\n",
      "['sure', ['u']]\n",
      "['fail', []]\n",
      "['u', ['have', 'know', 'sure', 'walk']]\n",
      "['also', []]\n",
      "['walk', ['u', 'most', 'who']]\n",
      "Review Number :  662\n"
     ]
    },
    {
     "name": "stderr",
     "output_type": "stream",
     "text": [
      "\r",
      " 20%|███████████████▍                                                               | 663/3390 [08:11<30:16,  1.50it/s]"
     ]
    },
    {
     "name": "stdout",
     "output_type": "stream",
     "text": [
      "[['mind', ['sharing']], ['kind', ['sharing']], ['activity', []], ['exercise', []], ['iptsession', []]]\n",
      "['mind', ['sharing']]\n",
      "['kind', ['sharing']]\n",
      "['activity', []]\n",
      "['exercise', []]\n",
      "['iptsession', []]\n",
      "Review Number :  663\n"
     ]
    },
    {
     "name": "stderr",
     "output_type": "stream",
     "text": [
      "\r",
      " 20%|███████████████▍                                                               | 664/3390 [08:13<52:10,  1.15s/it]"
     ]
    },
    {
     "name": "stdout",
     "output_type": "stream",
     "text": [
      "[['ipts', []], ['fccs', []], ['army', []], ['camps', ['same']], ['colour', []], ['tag', ['want']], ['exercises', ['do']], ['tells', ['pti', 'you']], ['red', []], ['cardio', []], ['bit', ['running']], ['static', []], ['bodycorelowerbody', []], ['bodystrength', []], ['yellow', []], ['static', []], ['exercises', ['do']], ['overall', []], ['strength', []], ['blue', []], ['fitnesschallenge', []], ['challengecircuit', ['conditioning']], ['imo', []], ['xiong', []], ['yellow', []], ['orange', []], ['games', []], ['green', []], ['obese', []], ['personnel', []], ['thing', []], ['understand', ['i', 'it']], ['correctly', []]]\n",
      "['ipts', []]\n",
      "['fccs', []]\n",
      "['army', []]\n",
      "['camps', ['same']]\n",
      "['colour', []]\n",
      "['tag', ['want']]\n",
      "['exercises', ['do']]\n",
      "['tells', ['pti', 'you']]\n",
      "['red', []]\n",
      "['cardio', []]\n",
      "['bit', ['running']]\n",
      "['static', []]\n",
      "['bodycorelowerbody', []]\n",
      "['bodystrength', []]\n",
      "['yellow', []]\n",
      "['static', []]\n",
      "['exercises', ['do']]\n",
      "['overall', []]\n",
      "['strength', []]\n",
      "['blue', []]\n",
      "['fitnesschallenge', []]\n",
      "['challengecircuit', ['conditioning']]\n",
      "['imo', []]\n",
      "['xiong', []]\n",
      "['yellow', []]\n",
      "['orange', []]\n",
      "['games', []]\n",
      "['green', []]\n",
      "['obese', []]\n",
      "['personnel', []]\n",
      "['thing', []]\n",
      "['understand', ['i', 'it']]\n",
      "['correctly', []]\n",
      "Review Number :  664\n"
     ]
    },
    {
     "name": "stderr",
     "output_type": "stream",
     "text": [
      "\r",
      " 20%|███████████████▍                                                               | 665/3390 [08:14<48:00,  1.06s/it]"
     ]
    },
    {
     "name": "stdout",
     "output_type": "stream",
     "text": [
      "[['long', []], ['u', ['managed']], ['pass', ['rtippt']], ['rtippt', ['pass']], ['rt', ['you']], ['ictippt', []], ['window', ['cleared']], ['charges', []]]\n",
      "['long', []]\n",
      "['u', ['managed']]\n",
      "['pass', ['rtippt']]\n",
      "['rtippt', ['pass']]\n",
      "['rt', ['you']]\n",
      "['ictippt', []]\n",
      "['window', ['cleared']]\n",
      "['charges', []]\n",
      "Review Number :  665\n"
     ]
    },
    {
     "name": "stderr",
     "output_type": "stream",
     "text": [
      "\r",
      " 20%|███████████████▌                                                               | 666/3390 [08:15<41:04,  1.11it/s]"
     ]
    },
    {
     "name": "stdout",
     "output_type": "stream",
     "text": [
      "[['ipt', []], ['cycle', ['completed']], ['window', []], ['already', []], ['still', []], ['bookipt', []], ['get', []], ['xd', []]]\n",
      "['ipt', []]\n",
      "['cycle', ['completed']]\n",
      "['window', []]\n",
      "['already', []]\n",
      "['still', []]\n",
      "['bookipt', []]\n",
      "['get', []]\n",
      "['xd', []]\n",
      "Review Number :  666\n"
     ]
    },
    {
     "name": "stderr",
     "output_type": "stream",
     "text": [
      "\r",
      " 20%|███████████████▌                                                               | 667/3390 [08:16<46:09,  1.02s/it]"
     ]
    },
    {
     "name": "stdout",
     "output_type": "stream",
     "text": [
      "[['last', []], ['day', []], ['ippttoday', []], ['window', ['taking']], ['close', []], ['tmr', ['taking']], ['usually', []], ['ict', ['got']], ['past', []], ['yr', []], ['ict', ['got']], ['go', []], ['maju', []], ['push', []], ['use', []], ['machine', []], ['really', []], ['strict', []], ['alot', ['failpush']], ['ppl', []], ['failpush', ['alot']], ['weaknesssia', []]]\n",
      "['last', []]\n",
      "['day', []]\n",
      "['ippttoday', []]\n",
      "['window', ['taking']]\n",
      "['close', []]\n",
      "['tmr', ['taking']]\n",
      "['usually', []]\n",
      "['ict', ['got']]\n",
      "['past', []]\n",
      "['yr', []]\n",
      "['ict', ['got']]\n",
      "['go', []]\n",
      "['maju', []]\n",
      "['push', []]\n",
      "['use', []]\n",
      "['machine', []]\n",
      "['really', []]\n",
      "['strict', []]\n",
      "['alot', ['failpush']]\n",
      "['ppl', []]\n",
      "['failpush', ['alot']]\n",
      "['weaknesssia', []]\n",
      "Review Number :  667\n"
     ]
    },
    {
     "name": "stderr",
     "output_type": "stream",
     "text": [
      "\r",
      " 20%|███████████████▌                                                               | 668/3390 [08:16<41:33,  1.09it/s]"
     ]
    },
    {
     "name": "stdout",
     "output_type": "stream",
     "text": [
      "[['finish', ['ict']], ['ict', ['finish']], ['push', []], ['machine', ['strict', 'using']], ['really', []], ['strict', ['machine']], ['anyone', ['know']], ['ictippt', ['using']], ['push', []], ['machine', ['strict', 'using']]]\n",
      "['finish', ['ict']]\n",
      "['ict', ['finish']]\n",
      "['push', []]\n",
      "['machine', ['strict', 'using']]\n",
      "['really', []]\n",
      "['strict', ['machine']]\n",
      "['anyone', ['know']]\n",
      "['ictippt', ['using']]\n",
      "['push', []]\n",
      "['machine', ['strict', 'using']]\n",
      "Review Number :  668\n"
     ]
    },
    {
     "name": "stderr",
     "output_type": "stream",
     "text": [
      "\r",
      " 20%|███████████████▌                                                               | 669/3390 [08:17<42:29,  1.07it/s]"
     ]
    },
    {
     "name": "stdout",
     "output_type": "stream",
     "text": [
      "[['ictippt', []], ['depends', ['it']], ['unit', ['uses']], ['unit', ['uses']], ['manual', ['uses']], ['counting', []], ['previously', []], ['also', []], ['screwed', []], ['push', []], ['machineanyone', ['knows']], ['machines', ['use']], ['safra', []]]\n",
      "['ictippt', []]\n",
      "['depends', ['it']]\n",
      "['unit', ['uses']]\n",
      "['unit', ['uses']]\n",
      "['manual', ['uses']]\n",
      "['counting', []]\n",
      "['previously', []]\n",
      "['also', []]\n",
      "['screwed', []]\n",
      "['push', []]\n",
      "['machineanyone', ['knows']]\n",
      "['machines', ['use']]\n",
      "['safra', []]\n",
      "Review Number :  669\n"
     ]
    },
    {
     "name": "stderr",
     "output_type": "stream",
     "text": [
      "\r",
      " 20%|███████████████▌                                                               | 670/3390 [08:18<35:48,  1.27it/s]"
     ]
    },
    {
     "name": "stdout",
     "output_type": "stream",
     "text": [
      "[['jurong', []], ['safraippt', []], ['manual', []], ['situp', ['feb']], ['push', []], ['last', []], ['feb', ['situp']]]\n",
      "['jurong', []]\n",
      "['safraippt', []]\n",
      "['manual', []]\n",
      "['situp', ['feb']]\n",
      "['push', []]\n",
      "['last', []]\n",
      "['feb', ['situp']]\n",
      "Review Number :  670\n"
     ]
    },
    {
     "name": "stderr",
     "output_type": "stream",
     "text": [
      "\r",
      " 20%|███████████████▋                                                               | 671/3390 [08:19<36:11,  1.25it/s]"
     ]
    },
    {
     "name": "stdout",
     "output_type": "stream",
     "text": [
      "[['report', []], ['im', []], ['well', []], ['ippt', []], ['consider', ['it']], ['fail', []], ['chargeable', []], ['offence', []], ['dont', []], ['attend', ['i']]]\n",
      "['report', []]\n",
      "['im', []]\n",
      "['well', []]\n",
      "['ippt', []]\n",
      "['consider', ['it']]\n",
      "['fail', []]\n",
      "['chargeable', []]\n",
      "['offence', []]\n",
      "['dont', []]\n",
      "['attend', ['i']]\n",
      "Review Number :  671\n"
     ]
    },
    {
     "name": "stderr",
     "output_type": "stream",
     "text": [
      "\r",
      " 20%|███████████████▋                                                               | 672/3390 [08:20<43:02,  1.05it/s]"
     ]
    },
    {
     "name": "stdout",
     "output_type": "stream",
     "text": [
      "[['currently', []], ['last', []], ['week', []], ['company', ['finished']], ['km', ['done', 'doing', 'doing']], ['route', ['finished']], ['march', []], ['ive', []], ['km', ['done', 'doing', 'doing']], ['yet', []], ['due', []], ['sick', []], ['week', []], ['probably', []], ['rt', ['be']], ['route', ['finished']], ['march', []], ['block', []], ['unitlife', []], ['mono', []]]\n",
      "['currently', []]\n",
      "['last', []]\n",
      "['week', []]\n",
      "['company', ['finished']]\n",
      "['km', ['done', 'doing', 'doing']]\n",
      "['route', ['finished']]\n",
      "['march', []]\n",
      "['ive', []]\n",
      "['km', ['done', 'doing', 'doing']]\n",
      "['yet', []]\n",
      "['due', []]\n",
      "['sick', []]\n",
      "['week', []]\n",
      "['probably', []]\n",
      "['rt', ['be']]\n",
      "['route', ['finished']]\n",
      "['march', []]\n",
      "['block', []]\n",
      "['unitlife', []]\n",
      "['mono', []]\n",
      "Review Number :  672\n"
     ]
    },
    {
     "name": "stderr",
     "output_type": "stream",
     "text": [
      "\r",
      " 20%|███████████████▋                                                               | 673/3390 [08:21<42:43,  1.06it/s]"
     ]
    },
    {
     "name": "stdout",
     "output_type": "stream",
     "text": [
      "[['deployment', ['be']], ['u', []], ['km', ['doing']], ['companies', []], ['available', []], ['approval', []], ['rt', ['rare']], ['routemarch', []], ['quite', []], ['rare', ['rt']], ['due', []], ['amount', []], ['resources', []]]\n",
      "['deployment', ['be']]\n",
      "['u', []]\n",
      "['km', ['doing']]\n",
      "['companies', []]\n",
      "['available', []]\n",
      "['approval', []]\n",
      "['rt', ['rare']]\n",
      "['routemarch', []]\n",
      "['quite', []]\n",
      "['rare', ['rt']]\n",
      "['due', []]\n",
      "['amount', []]\n",
      "['resources', []]\n",
      "Review Number :  673\n"
     ]
    },
    {
     "name": "stderr",
     "output_type": "stream",
     "text": [
      "\r",
      " 20%|███████████████▋                                                               | 674/3390 [08:22<42:09,  1.07it/s]"
     ]
    },
    {
     "name": "stdout",
     "output_type": "stream",
     "text": [
      "[['question', ['session']], ['payment', []], ['session', ['question']], ['year', []], ['reach', ['wayi', 'ipt']], ['ipt', ['reach']], ['pm', []], ['work', ['man']], ['man', ['work']], ['also', []], ['ipt', ['reach']], ['times', ['do']], ['liao', []], ['right', []], ['dont', []], ['pass', []]]\n",
      "['question', ['session']]\n",
      "['payment', []]\n",
      "['session', ['question']]\n",
      "['year', []]\n",
      "['reach', ['wayi', 'ipt']]\n",
      "['ipt', ['reach']]\n",
      "['pm', []]\n",
      "['work', ['man']]\n",
      "['man', ['work']]\n",
      "['also', []]\n",
      "['ipt', ['reach']]\n",
      "['times', ['do']]\n",
      "['liao', []]\n",
      "['right', []]\n",
      "['dont', []]\n",
      "['pass', []]\n",
      "Review Number :  674\n"
     ]
    },
    {
     "name": "stderr",
     "output_type": "stream",
     "text": [
      "\r",
      " 20%|███████████████▋                                                               | 675/3390 [08:22<34:19,  1.32it/s]"
     ]
    },
    {
     "name": "stdout",
     "output_type": "stream",
     "text": [
      "[['thread', ['orded']], ['people', []], ['already', []], ['wake', ['orded']], ['idealeh', []]]\n",
      "['thread', ['orded']]\n",
      "['people', []]\n",
      "['already', []]\n",
      "['wake', ['orded']]\n",
      "['idealeh', []]\n",
      "Review Number :  675\n"
     ]
    },
    {
     "name": "stderr",
     "output_type": "stream",
     "text": [
      "\r",
      " 20%|███████████████▊                                                               | 676/3390 [08:23<31:31,  1.44it/s]"
     ]
    },
    {
     "name": "stdout",
     "output_type": "stream",
     "text": [
      "[['ipt', []], ['epepi', []], ['ord', ['asking']], ['long', []], ['ago', []], ['zzzi', ['said']], ['wake', ['you', 'idealei']], ['idealei', ['wake']]]\n",
      "['ipt', []]\n",
      "['epepi', []]\n",
      "['ord', ['asking']]\n",
      "['long', []]\n",
      "['ago', []]\n",
      "['zzzi', ['said']]\n",
      "['wake', ['you', 'idealei']]\n",
      "['idealei', ['wake']]\n",
      "Review Number :  676\n"
     ]
    },
    {
     "name": "stderr",
     "output_type": "stream",
     "text": [
      "\r",
      " 20%|███████████████▊                                                               | 677/3390 [08:24<38:19,  1.18it/s]"
     ]
    },
    {
     "name": "stdout",
     "output_type": "stream",
     "text": [
      "[['sorry', ['quote']], ['quote', ['sorry']], ['wrong', []], ['guy', ['marchguy']], ['routemarch', ['requirement']], ['marchguy', ['guy']], ['btw', []], ['time', []], ['routemarch', ['requirement']], ['requirement', ['routemarch']], ['pass', ['bmt']], ['bmt', ['pass']], ['rangegrenade', []], ['fieldcamp', []], ['dunno', []], ['safchange', []], ['pattern', []], ['badminton', []], ['time', []]]\n",
      "['sorry', ['quote']]\n",
      "['quote', ['sorry']]\n",
      "['wrong', []]\n",
      "['guy', ['marchguy']]\n",
      "['routemarch', ['requirement']]\n",
      "['marchguy', ['guy']]\n",
      "['btw', []]\n",
      "['time', []]\n",
      "['routemarch', ['requirement']]\n",
      "['requirement', ['routemarch']]\n",
      "['pass', ['bmt']]\n",
      "['bmt', ['pass']]\n",
      "['rangegrenade', []]\n",
      "['fieldcamp', []]\n",
      "['dunno', []]\n",
      "['safchange', []]\n",
      "['pattern', []]\n",
      "['badminton', []]\n",
      "['time', []]\n",
      "Review Number :  677\n"
     ]
    },
    {
     "name": "stderr",
     "output_type": "stream",
     "text": [
      "\r",
      " 20%|███████████████▊                                                               | 678/3390 [08:25<37:43,  1.20it/s]"
     ]
    },
    {
     "name": "stdout",
     "output_type": "stream",
     "text": [
      "[['anyone', ['has']], ['idea', ['has']], ['non', []], ['ictippt', ['passed']], ['subsequently', []], ['ict', []], ['ippt', ['failed']], ['window', []], ['sill', []], ['pass', ['considered']], ['window', []]]\n",
      "['anyone', ['has']]\n",
      "['idea', ['has']]\n",
      "['non', []]\n",
      "['ictippt', ['passed']]\n",
      "['subsequently', []]\n",
      "['ict', []]\n",
      "['ippt', ['failed']]\n",
      "['window', []]\n",
      "['sill', []]\n",
      "['pass', ['considered']]\n",
      "['window', []]\n",
      "Review Number :  678\n"
     ]
    },
    {
     "name": "stderr",
     "output_type": "stream",
     "text": [
      "\r",
      " 20%|███████████████▊                                                               | 679/3390 [08:25<34:22,  1.31it/s]"
     ]
    },
    {
     "name": "stdout",
     "output_type": "stream",
     "text": [
      "[['ippttoday', ['took']], ['bedok', []], ['majorly', []], ['machine', []], ['lol', []], ['push', ['ups']], ['ups', ['push']], ['years', []]]\n",
      "['ippttoday', ['took']]\n",
      "['bedok', []]\n",
      "['majorly', []]\n",
      "['machine', []]\n",
      "['lol', []]\n",
      "['push', ['ups']]\n",
      "['ups', ['push']]\n",
      "['years', []]\n",
      "Review Number :  679\n"
     ]
    },
    {
     "name": "stderr",
     "output_type": "stream",
     "text": [
      "\r",
      " 20%|███████████████▊                                                               | 680/3390 [08:26<27:35,  1.64it/s]"
     ]
    },
    {
     "name": "stdout",
     "output_type": "stream",
     "text": [
      "[['push', []]]\n",
      "['push', []]\n",
      "Review Number :  680\n"
     ]
    },
    {
     "name": "stderr",
     "output_type": "stream",
     "text": [
      "\r",
      " 20%|███████████████▊                                                               | 681/3390 [08:27<40:36,  1.11it/s]"
     ]
    },
    {
     "name": "stdout",
     "output_type": "stream",
     "text": [
      "[['true', []], ['please', []], ['halfrephalf', []], ['fck', []], ['rep', ['do', 'do']], ['reap', ['benefit']], ['benefit', ['reap']], ['wardplease', ['do']], ['full', []], ['rep', ['do', 'do']], ['else', []], ['way', ['suffer']], ['new', []], ['machine', ['sucks']], ['people', ['make']], ['slackdo', ['who', 'half']], ['half', ['slackdo']], ['easily', []], ['reps', []], ['tips', ['make']], ['tester', []], ['previous', []], ['setup', ['make']], ['persons', []], ['standard', ['better']], ['much', []], ['better', ['standard']]]\n",
      "['true', []]\n",
      "['please', []]\n",
      "['halfrephalf', []]\n",
      "['fck', []]\n",
      "['rep', ['do', 'do']]\n",
      "['reap', ['benefit']]\n",
      "['benefit', ['reap']]\n",
      "['wardplease', ['do']]\n",
      "['full', []]\n",
      "['rep', ['do', 'do']]\n",
      "['else', []]\n",
      "['way', ['suffer']]\n",
      "['new', []]\n",
      "['machine', ['sucks']]\n",
      "['people', ['make']]\n",
      "['slackdo', ['who', 'half']]\n",
      "['half', ['slackdo']]\n",
      "['easily', []]\n",
      "['reps', []]\n",
      "['tips', ['make']]\n",
      "['tester', []]\n",
      "['previous', []]\n",
      "['setup', ['make']]\n",
      "['persons', []]\n",
      "['standard', ['better']]\n",
      "['much', []]\n",
      "['better', ['standard']]\n",
      "Review Number :  681\n"
     ]
    },
    {
     "name": "stderr",
     "output_type": "stream",
     "text": [
      "\r",
      " 20%|███████████████▉                                                               | 682/3390 [08:29<46:30,  1.03s/it]"
     ]
    },
    {
     "name": "stdout",
     "output_type": "stream",
     "text": [
      "[['never', []], ['type', ['hear']], ['case', []], ['anyway', []], ['ns', []], ['portal', []], ['check', []], ['right', []], ['moment', []], ['nonict', []], ['ippt', ['passed']], ['system', ['logged']], ['already', []], ['pass', []], ['fail', ['you']], ['ippt', ['passed']], ['ict', []], ['even', []], ['also', []], ['passliao', []]]\n",
      "['never', []]\n",
      "['type', ['hear']]\n",
      "['case', []]\n",
      "['anyway', []]\n",
      "['ns', []]\n",
      "['portal', []]\n",
      "['check', []]\n",
      "['right', []]\n",
      "['moment', []]\n",
      "['nonict', []]\n",
      "['ippt', ['passed']]\n",
      "['system', ['logged']]\n",
      "['already', []]\n",
      "['pass', []]\n",
      "['fail', ['you']]\n",
      "['ippt', ['passed']]\n",
      "['ict', []]\n",
      "['even', []]\n",
      "['also', []]\n",
      "['passliao', []]\n",
      "Review Number :  682\n"
     ]
    },
    {
     "name": "stderr",
     "output_type": "stream",
     "text": [
      "\r",
      " 20%|███████████████▌                                                             | 683/3390 [08:31<1:02:35,  1.39s/it]"
     ]
    },
    {
     "name": "stdout",
     "output_type": "stream",
     "text": [
      "[['frostiee', ['wrote']], ['true', []], ['please', []], ['halfrephalf', []], ['fck', []], ['rep', ['do', 'do']], ['reap', ['benefit']], ['benefit', ['reap']], ['wardplease', ['do']], ['full', []], ['rep', ['do', 'do']], ['else', []], ['way', ['suffer']], ['new', []], ['machine', ['sucks', 'weird']], ['people', ['make', 'see']], ['slackdo', ['who', 'half']], ['half', ['slackdo']], ['easily', []], ['reps', []], ['tips', ['make']], ['tester', []], ['previous', []], ['setup', []], ['persons', []], ['standard', ['better']], ['much', []], ['better', ['standard']], ['agree', []], ['machine', ['sucks', 'weird']], ['bit', []], ['weird', ['machine']], ['weird', ['machine']], ['see', ['i', 'people', 'butt']], ['people', ['make', 'see']], ['never', []], ['upper', []], ['body', ['move']], ['also', []], ['halffck', []], ['still', []]]\n",
      "['frostiee', ['wrote']]\n",
      "['true', []]\n",
      "['please', []]\n",
      "['halfrephalf', []]\n",
      "['fck', []]\n",
      "['rep', ['do', 'do']]\n",
      "['reap', ['benefit']]\n",
      "['benefit', ['reap']]\n",
      "['wardplease', ['do']]\n",
      "['full', []]\n",
      "['rep', ['do', 'do']]\n",
      "['else', []]\n",
      "['way', ['suffer']]\n",
      "['new', []]\n",
      "['machine', ['sucks', 'weird']]\n",
      "['people', ['make', 'see']]\n",
      "['slackdo', ['who', 'half']]\n",
      "['half', ['slackdo']]\n",
      "['easily', []]\n",
      "['reps', []]\n",
      "['tips', ['make']]\n",
      "['tester', []]\n",
      "['previous', []]\n",
      "['setup', []]\n",
      "['persons', []]\n",
      "['standard', ['better']]\n",
      "['much', []]\n",
      "['better', ['standard']]\n",
      "['agree', []]\n",
      "['machine', ['sucks', 'weird']]\n",
      "['bit', []]\n",
      "['weird', ['machine']]\n",
      "['weird', ['machine']]\n",
      "['see', ['i', 'people', 'butt']]\n",
      "['people', ['make', 'see']]\n",
      "['never', []]\n",
      "['upper', []]\n",
      "['body', ['move']]\n",
      "['also', []]\n",
      "['halffck', []]\n",
      "['still', []]\n",
      "Review Number :  683\n"
     ]
    },
    {
     "name": "stderr",
     "output_type": "stream",
     "text": [
      "\r",
      " 20%|███████████████▌                                                             | 684/3390 [08:34<1:32:46,  2.06s/it]"
     ]
    },
    {
     "name": "stdout",
     "output_type": "stream",
     "text": [
      "[['wan', []], ['borderline', []], ['people', ['ask', 'got', 'got']], ['pass', ['that']], ['rt', ['got']], ['ipt', ['book', 'got']], ['current', []], ['window', ['opens', 'opens', 'do']], ['actually', []], ['book', ['you', 'ipt']], ['ipt', ['book', 'got']], ['voluntarily', []], ['pass', ['that']], ['next', []], ['window', ['opens', 'opens', 'do']], ['pass', ['that']], ['window', ['opens', 'opens', 'do']], ['cos', []], ['clear', ['time']], ['recent', []], ['rtippt', []], ['first', []], ['time', ['clear']], ['many', []], ['many', []], ['years', []], ['know', ['liao', 'i']], ['outside', []], ['sure', []], ['slack', ['do']], ['eventually', []], ['never', []], ['next', []], ['window', ['opens', 'opens', 'do']], ['last', []], ['ict', ['say']], ['finally', []], ['mr', ['coming']], ['loh', []], ['soon', []], ['months', []], ['bookipt', ['i', 'sessions']], ['sessions', ['bookipt']], ['people', ['ask', 'got', 'got']], ['got', ['people', 'people', 'sian', 'ipt', 'rt']], ['people', ['ask', 'got', 'got']], ['together', []], ['sian', ['got']], ['ipt', ['book', 'got']], ['ns', []], ['pay', []], ['also', []], ['right', []], ['rti', []], ['rt', ['got']], ['still', []], ['ns', []], ['pay', []], ['cover', ['fees']], ['public', []], ['transport', []], ['fees', ['cover']], ['subsidize', ['carfuel']], ['carfuel', ['subsidize']], ['bit', []], ['niah', []]]\n",
      "['wan', []]\n",
      "['borderline', []]\n",
      "['people', ['ask', 'got', 'got']]\n",
      "['pass', ['that']]\n",
      "['rt', ['got']]\n",
      "['ipt', ['book', 'got']]\n",
      "['current', []]\n",
      "['window', ['opens', 'opens', 'do']]\n",
      "['actually', []]\n",
      "['book', ['you', 'ipt']]\n",
      "['ipt', ['book', 'got']]\n",
      "['voluntarily', []]\n",
      "['pass', ['that']]\n",
      "['next', []]\n",
      "['window', ['opens', 'opens', 'do']]\n",
      "['pass', ['that']]\n",
      "['window', ['opens', 'opens', 'do']]\n",
      "['cos', []]\n",
      "['clear', ['time']]\n",
      "['recent', []]\n",
      "['rtippt', []]\n",
      "['first', []]\n",
      "['time', ['clear']]\n",
      "['many', []]\n",
      "['many', []]\n",
      "['years', []]\n",
      "['know', ['liao', 'i']]\n",
      "['outside', []]\n",
      "['sure', []]\n",
      "['slack', ['do']]\n",
      "['eventually', []]\n",
      "['never', []]\n",
      "['next', []]\n",
      "['window', ['opens', 'opens', 'do']]\n",
      "['last', []]\n",
      "['ict', ['say']]\n",
      "['finally', []]\n",
      "['mr', ['coming']]\n",
      "['loh', []]\n",
      "['soon', []]\n",
      "['months', []]\n",
      "['bookipt', ['i', 'sessions']]\n",
      "['sessions', ['bookipt']]\n",
      "['people', ['ask', 'got', 'got']]\n",
      "['got', ['people', 'people', 'sian', 'ipt', 'rt']]\n",
      "['people', ['ask', 'got', 'got']]\n",
      "['together', []]\n",
      "['sian', ['got']]\n",
      "['ipt', ['book', 'got']]\n",
      "['ns', []]\n",
      "['pay', []]\n",
      "['also', []]\n",
      "['right', []]\n",
      "['rti', []]\n",
      "['rt', ['got']]\n",
      "['still', []]\n",
      "['ns', []]\n",
      "['pay', []]\n",
      "['cover', ['fees']]\n",
      "['public', []]\n",
      "['transport', []]\n",
      "['fees', ['cover']]\n",
      "['subsidize', ['carfuel']]\n",
      "['carfuel', ['subsidize']]\n",
      "['bit', []]\n",
      "['niah', []]\n",
      "Review Number :  684\n"
     ]
    },
    {
     "name": "stderr",
     "output_type": "stream",
     "text": [
      "\r",
      " 20%|███████████████▌                                                             | 685/3390 [08:37<1:34:29,  2.10s/it]"
     ]
    },
    {
     "name": "stdout",
     "output_type": "stream",
     "text": [
      "[['yes', []], ['ipt', ['use']], ['force', ['myself']], ['work', []], ['also', []], ['clear', ['liability']], ['liability', ['clear']], ['time', []], ['im', []], ['lazy', []], ['person', []], ['many', []], ['times', []], ['already', []], ['smart', []], ['ipt', ['use']], ['rt', []], ['default', ['i']], ['scheduleipt', ['i']], ['towards', []], ['window', ['opens']], ['effort', ['put']], ['sessions', []], ['ippt', ['pass']], ['last', []], ['sessioni', ['know']], ['repeat', ['i', 'it']], ['new', []], ['window', ['opens']], ['shortly', []], ['also', []], ['stationippt', ['easier']], ['much', []], ['easier', ['stationippt']], ['train', []]]\n",
      "['yes', []]\n",
      "['ipt', ['use']]\n",
      "['force', ['myself']]\n",
      "['work', []]\n",
      "['also', []]\n",
      "['clear', ['liability']]\n",
      "['liability', ['clear']]\n",
      "['time', []]\n",
      "['im', []]\n",
      "['lazy', []]\n",
      "['person', []]\n",
      "['many', []]\n",
      "['times', []]\n",
      "['already', []]\n",
      "['smart', []]\n",
      "['ipt', ['use']]\n",
      "['rt', []]\n",
      "['default', ['i']]\n",
      "['scheduleipt', ['i']]\n",
      "['towards', []]\n",
      "['window', ['opens']]\n",
      "['effort', ['put']]\n",
      "['sessions', []]\n",
      "['ippt', ['pass']]\n",
      "['last', []]\n",
      "['sessioni', ['know']]\n",
      "['repeat', ['i', 'it']]\n",
      "['new', []]\n",
      "['window', ['opens']]\n",
      "['shortly', []]\n",
      "['also', []]\n",
      "['stationippt', ['easier']]\n",
      "['much', []]\n",
      "['easier', ['stationippt']]\n",
      "['train', []]\n",
      "Review Number :  685\n"
     ]
    },
    {
     "name": "stderr",
     "output_type": "stream",
     "text": [
      "\r",
      " 20%|███████████████▌                                                             | 686/3390 [08:38<1:25:56,  1.91s/it]"
     ]
    },
    {
     "name": "stdout",
     "output_type": "stream",
     "text": [
      "[['okoki', ['go']], ['scheduleipt', []], ['also', []], ['moi', ['know', 'feel']], ['physical', []], ['good', []], ['rt', []], ['see', ['people']], ['people', ['see']], ['even', []], ['worse', []], ['moi', ['know', 'feel']], ['feel', ['some', 'moi']], ['happy', []], ['want', []], ['try', ['aim']], ['aim', ['try']], ['pass', []], ['incentivei', []], ['pushups', ['think']], ['situps', []], ['chiong', ['secs']], ['secs', ['chiong']], ['km', []], ['incentive', ['get']], ['extra', []], ['kopi', []]]\n",
      "['okoki', ['go']]\n",
      "['scheduleipt', []]\n",
      "['also', []]\n",
      "['moi', ['know', 'feel']]\n",
      "['physical', []]\n",
      "['good', []]\n",
      "['rt', []]\n",
      "['see', ['people']]\n",
      "['people', ['see']]\n",
      "['even', []]\n",
      "['worse', []]\n",
      "['moi', ['know', 'feel']]\n",
      "['feel', ['some', 'moi']]\n",
      "['happy', []]\n",
      "['want', []]\n",
      "['try', ['aim']]\n",
      "['aim', ['try']]\n",
      "['pass', []]\n",
      "['incentivei', []]\n",
      "['pushups', ['think']]\n",
      "['situps', []]\n",
      "['chiong', ['secs']]\n",
      "['secs', ['chiong']]\n",
      "['km', []]\n",
      "['incentive', ['get']]\n",
      "['extra', []]\n",
      "['kopi', []]\n",
      "Review Number :  686\n"
     ]
    },
    {
     "name": "stderr",
     "output_type": "stream",
     "text": [
      "\r",
      " 20%|███████████████▌                                                             | 687/3390 [08:41<1:47:01,  2.38s/it]"
     ]
    },
    {
     "name": "stdout",
     "output_type": "stream",
     "text": [
      "[['hi', []], ['recently', []], ['ns', []], ['portal', ['opened']], ['day', []], ['ipptwindow', ['open']], ['open', ['ipptwindow', 'window']], ['status', []], ['window', ['open']], ['open', ['ipptwindow', 'window']], ['first', []], ['birthday', ['feb']], ['ord', ['i']], ['birthday', ['feb']], ['attempt', ['i', 'i', 'ippt', 'i', 'ippt']], ['birthday', ['feb']], ['next', []], ['yeari', ['cleared']], ['ippt', ['cleared', 'attempt', 'attempt']], ['last', []], ['july', []], ['nd', []], ['yearwindow', ['opened']], ['thus', []], ['attempt', ['i', 'i', 'ippt', 'i', 'ippt']], ['ippt', ['cleared', 'attempt', 'attempt']], ['opinions', ['seeking']], ['attempt', ['i', 'i', 'ippt', 'i', 'ippt']], ['ippt', ['cleared', 'attempt', 'attempt']], ['monetary', []], ['incentive', ['be', 'thanks']], ['wait', []], ['yearfeb', []], ['attempt', ['i', 'i', 'ippt', 'i', 'ippt']], ['monetary', []], ['incentive', ['be', 'thanks']], ['clarify', []], ['attempt', ['i', 'i', 'ippt', 'i', 'ippt']], ['still', []], ['fit', []], ['incentive', ['be', 'thanks']], ['bao', []], ['jiakhahaha', []], ['thanks', ['incentive']]]\n",
      "['hi', []]\n",
      "['recently', []]\n",
      "['ns', []]\n",
      "['portal', ['opened']]\n",
      "['day', []]\n",
      "['ipptwindow', ['open']]\n",
      "['open', ['ipptwindow', 'window']]\n",
      "['status', []]\n",
      "['window', ['open']]\n",
      "['open', ['ipptwindow', 'window']]\n",
      "['first', []]\n",
      "['birthday', ['feb']]\n",
      "['ord', ['i']]\n",
      "['birthday', ['feb']]\n",
      "['attempt', ['i', 'i', 'ippt', 'i', 'ippt']]\n",
      "['birthday', ['feb']]\n",
      "['next', []]\n",
      "['yeari', ['cleared']]\n",
      "['ippt', ['cleared', 'attempt', 'attempt']]\n",
      "['last', []]\n",
      "['july', []]\n",
      "['nd', []]\n",
      "['yearwindow', ['opened']]\n",
      "['thus', []]\n",
      "['attempt', ['i', 'i', 'ippt', 'i', 'ippt']]\n",
      "['ippt', ['cleared', 'attempt', 'attempt']]\n",
      "['opinions', ['seeking']]\n",
      "['attempt', ['i', 'i', 'ippt', 'i', 'ippt']]\n",
      "['ippt', ['cleared', 'attempt', 'attempt']]\n",
      "['monetary', []]\n",
      "['incentive', ['be', 'thanks']]\n",
      "['wait', []]\n",
      "['yearfeb', []]\n",
      "['attempt', ['i', 'i', 'ippt', 'i', 'ippt']]\n",
      "['monetary', []]\n",
      "['incentive', ['be', 'thanks']]\n",
      "['clarify', []]\n",
      "['attempt', ['i', 'i', 'ippt', 'i', 'ippt']]\n",
      "['still', []]\n",
      "['fit', []]\n",
      "['incentive', ['be', 'thanks']]\n",
      "['bao', []]\n",
      "['jiakhahaha', []]\n",
      "['thanks', ['incentive']]\n",
      "Review Number :  687\n"
     ]
    },
    {
     "name": "stderr",
     "output_type": "stream",
     "text": [
      "\r",
      " 20%|███████████████▋                                                             | 688/3390 [08:42<1:18:40,  1.75s/it]"
     ]
    },
    {
     "name": "stdout",
     "output_type": "stream",
     "text": [
      "[['cycle', ['optional']], ['optional', ['cycle']], ['money', ['got']]]\n",
      "['cycle', ['optional']]\n",
      "['optional', ['cycle']]\n",
      "['money', ['got']]\n",
      "Review Number :  688\n"
     ]
    },
    {
     "name": "stderr",
     "output_type": "stream",
     "text": [
      "\r",
      " 20%|███████████████▋                                                             | 689/3390 [08:42<1:04:09,  1.43s/it]"
     ]
    },
    {
     "name": "stdout",
     "output_type": "stream",
     "text": [
      "[['hibro', []], ['thanks', []], ['clear', ['i', 'time']], ['time', ['clear']], ['round', []], ['feb', ['come']], ['next', []], ['year', []], ['birthday', []], ['clear', ['i', 'time']]]\n",
      "['hibro', []]\n",
      "['thanks', []]\n",
      "['clear', ['i', 'time']]\n",
      "['time', ['clear']]\n",
      "['round', []]\n",
      "['feb', ['come']]\n",
      "['next', []]\n",
      "['year', []]\n",
      "['birthday', []]\n",
      "['clear', ['i', 'time']]\n",
      "Review Number :  689\n"
     ]
    },
    {
     "name": "stderr",
     "output_type": "stream",
     "text": [
      "\r",
      " 20%|████████████████                                                               | 690/3390 [08:44<59:37,  1.33s/it]"
     ]
    },
    {
     "name": "stdout",
     "output_type": "stream",
     "text": [
      "[['hi', []], ['guys', []], ['quick', []], ['questiondidnt', ['go']], ['ippt', []], ['last', []], ['year', []], ['let', []], ['rt', []], ['sessions', []], ['next', []], ['month', []], ['fine', ['it']], ['much', []]]\n",
      "['hi', []]\n",
      "['guys', []]\n",
      "['quick', []]\n",
      "['questiondidnt', ['go']]\n",
      "['ippt', []]\n",
      "['last', []]\n",
      "['year', []]\n",
      "['let', []]\n",
      "['rt', []]\n",
      "['sessions', []]\n",
      "['next', []]\n",
      "['month', []]\n",
      "['fine', ['it']]\n",
      "['much', []]\n",
      "Review Number :  690\n"
     ]
    },
    {
     "name": "stderr",
     "output_type": "stream",
     "text": [
      "\r",
      " 20%|████████████████                                                               | 691/3390 [08:44<51:00,  1.13s/it]"
     ]
    },
    {
     "name": "stdout",
     "output_type": "stream",
     "text": [
      "[['good', []], ['bro', []], ['add', []], ['also', []], ['ns', []], ['rankpay', ['is']], ['ipt', []], ['sessions', []], ['money', ['get']], ['pretty', []], ['good', []], ['dealimo', []]]\n",
      "['good', []]\n",
      "['bro', []]\n",
      "['add', []]\n",
      "['also', []]\n",
      "['ns', []]\n",
      "['rankpay', ['is']]\n",
      "['ipt', []]\n",
      "['sessions', []]\n",
      "['money', ['get']]\n",
      "['pretty', []]\n",
      "['good', []]\n",
      "['dealimo', []]\n",
      "Review Number :  691\n",
      "[]\n",
      "Review Number :  692\n"
     ]
    },
    {
     "name": "stderr",
     "output_type": "stream",
     "text": [
      "\r",
      " 20%|████████████████▏                                                              | 693/3390 [08:45<32:39,  1.38it/s]"
     ]
    },
    {
     "name": "stdout",
     "output_type": "stream",
     "text": [
      "[['ipt', []], ['aquatic', []], ['sessionanyone', []], ['beforesiong', []], ['mah', []], ['har', []]]\n",
      "['ipt', []]\n",
      "['aquatic', []]\n",
      "['sessionanyone', []]\n",
      "['beforesiong', []]\n",
      "['mah', []]\n",
      "['har', []]\n",
      "Review Number :  693\n"
     ]
    },
    {
     "name": "stderr",
     "output_type": "stream",
     "text": [
      "\r",
      " 20%|████████████████▏                                                              | 694/3390 [08:46<34:13,  1.31it/s]"
     ]
    },
    {
     "name": "stdout",
     "output_type": "stream",
     "text": [
      "[['iptippt', []], ['first', []], ['session', ['results']], ['ipt', []], ['results', ['session']], ['ippt', []], ['result', ['seems']], ['sense', ['make']], ['results', ['session']], ['passedget', []], ['awards', []]]\n",
      "['iptippt', []]\n",
      "['first', []]\n",
      "['session', ['results']]\n",
      "['ipt', []]\n",
      "['results', ['session']]\n",
      "['ippt', []]\n",
      "['result', ['seems']]\n",
      "['sense', ['make']]\n",
      "['results', ['session']]\n",
      "['passedget', []]\n",
      "['awards', []]\n",
      "Review Number :  694\n"
     ]
    },
    {
     "name": "stderr",
     "output_type": "stream",
     "text": [
      "\r",
      " 21%|████████████████▏                                                              | 695/3390 [08:48<48:45,  1.09s/it]"
     ]
    },
    {
     "name": "stdout",
     "output_type": "stream",
     "text": [
      "[['pass', ['you', 'you', 'it']], ['ippt', []], ['dont', []], ['ipt', ['take']], ['understand', ['i', 'it']], ['start', ['you']], ['ipt', ['take']], ['finish', ['sessions']], ['sessions', ['finish']], ['results', ['count']], ['ippt', []], ['results', ['count']], ['wrong', ['i']], ['pass', ['you', 'you', 'it']], ['first', []], ['loops', ['it']], ['back', []], ['first', []], ['point', []], ['im', []], ['really', []], ['sure', []], ['youre', ['there']], ['help', []], ['edit', ['refer']], ['refer', ['edit']], ['calanders', []], ['else', []], ['always', []], ['ptis', []], ['youre', ['there']]]\n",
      "['pass', ['you', 'you', 'it']]\n",
      "['ippt', []]\n",
      "['dont', []]\n",
      "['ipt', ['take']]\n",
      "['understand', ['i', 'it']]\n",
      "['start', ['you']]\n",
      "['ipt', ['take']]\n",
      "['finish', ['sessions']]\n",
      "['sessions', ['finish']]\n",
      "['results', ['count']]\n",
      "['ippt', []]\n",
      "['results', ['count']]\n",
      "['wrong', ['i']]\n",
      "['pass', ['you', 'you', 'it']]\n",
      "['first', []]\n",
      "['loops', ['it']]\n",
      "['back', []]\n",
      "['first', []]\n",
      "['point', []]\n",
      "['im', []]\n",
      "['really', []]\n",
      "['sure', []]\n",
      "['youre', ['there']]\n",
      "['help', []]\n",
      "['edit', ['refer']]\n",
      "['refer', ['edit']]\n",
      "['calanders', []]\n",
      "['else', []]\n",
      "['always', []]\n",
      "['ptis', []]\n",
      "['youre', ['there']]\n",
      "Review Number :  695\n"
     ]
    },
    {
     "name": "stderr",
     "output_type": "stream",
     "text": [
      "\r",
      " 21%|████████████████▏                                                              | 696/3390 [08:48<41:19,  1.09it/s]"
     ]
    },
    {
     "name": "stdout",
     "output_type": "stream",
     "text": [
      "[['u', ['were']], ['ippt', []], ['st', []], ['iptipptu', []], ['window', []]]\n",
      "['u', ['were']]\n",
      "['ippt', []]\n",
      "['st', []]\n",
      "['iptipptu', []]\n",
      "['window', []]\n",
      "Review Number :  696\n"
     ]
    },
    {
     "name": "stderr",
     "output_type": "stream",
     "text": [
      "\r",
      " 21%|████████████████▏                                                              | 697/3390 [08:48<34:18,  1.31it/s]"
     ]
    },
    {
     "name": "stdout",
     "output_type": "stream",
     "text": [
      "[['rmj', []], ['months', ['means']], ['means', ['months', 'need']], ['ippt', []]]\n",
      "['rmj', []]\n",
      "['months', ['means']]\n",
      "['means', ['months', 'need']]\n",
      "['ippt', []]\n",
      "Review Number :  697\n"
     ]
    },
    {
     "name": "stderr",
     "output_type": "stream",
     "text": [
      "\r",
      " 21%|████████████████▎                                                              | 698/3390 [08:49<28:51,  1.55it/s]"
     ]
    },
    {
     "name": "stdout",
     "output_type": "stream",
     "text": [
      "[['btw', []], ['fcc', ['machine']], ['use', []], ['machine', ['fcc']], ['pushupsitup', []]]\n",
      "['btw', []]\n",
      "['fcc', ['machine']]\n",
      "['use', []]\n",
      "['machine', ['fcc']]\n",
      "['pushupsitup', []]\n",
      "Review Number :  698\n"
     ]
    },
    {
     "name": "stderr",
     "output_type": "stream",
     "text": [
      "\r",
      " 21%|████████████████▎                                                              | 699/3390 [08:51<45:30,  1.01s/it]"
     ]
    },
    {
     "name": "stdout",
     "output_type": "stream",
     "text": [
      "[['many', []], ['rt', []], ['sessions', ['need', 'total', 'complete', 'it', 'were']], ['always', []], ['total', ['sessions']], ['sessions', ['need', 'total', 'complete', 'it', 'were']], ['system', ['checked']], ['ns', []], ['portal', []], ['complete', ['sessions']], ['sessions', ['need', 'total', 'complete', 'it', 'were']], ['sessions', ['need', 'total', 'complete', 'it', 'were']], ['first', []], ['rtippt', []], ['sessions', ['need', 'total', 'complete', 'it', 'were']], ['sessions', ['need', 'total', 'complete', 'it', 'were']], ['current', []], ['windowattendance', []], ['attendancerecord', ['counted']], ['rtippt', []], ['sessions', ['need', 'total', 'complete', 'it', 'were']], ['indeed', []], ['sessions', ['need', 'total', 'complete', 'it', 'were']], ['already', []]]\n",
      "['many', []]\n",
      "['rt', []]\n",
      "['sessions', ['need', 'total', 'complete', 'it', 'were']]\n",
      "['always', []]\n",
      "['total', ['sessions']]\n",
      "['sessions', ['need', 'total', 'complete', 'it', 'were']]\n",
      "['system', ['checked']]\n",
      "['ns', []]\n",
      "['portal', []]\n",
      "['complete', ['sessions']]\n",
      "['sessions', ['need', 'total', 'complete', 'it', 'were']]\n",
      "['sessions', ['need', 'total', 'complete', 'it', 'were']]\n",
      "['first', []]\n",
      "['rtippt', []]\n",
      "['sessions', ['need', 'total', 'complete', 'it', 'were']]\n",
      "['sessions', ['need', 'total', 'complete', 'it', 'were']]\n",
      "['current', []]\n",
      "['windowattendance', []]\n",
      "['attendancerecord', ['counted']]\n",
      "['rtippt', []]\n",
      "['sessions', ['need', 'total', 'complete', 'it', 'were']]\n",
      "['indeed', []]\n",
      "['sessions', ['need', 'total', 'complete', 'it', 'were']]\n",
      "['already', []]\n",
      "Review Number :  699\n"
     ]
    },
    {
     "name": "stderr",
     "output_type": "stream",
     "text": [
      "\r",
      " 21%|███████████████▉                                                             | 700/3390 [08:54<1:17:43,  1.73s/it]"
     ]
    },
    {
     "name": "stdout",
     "output_type": "stream",
     "text": [
      "[['bedokfcc', ['wrote']], ['also', []], ['firsttimebuyer', ['wrote']], ['many', []], ['rt', []], ['sessions', ['need', 'total', 'complete', 'it', 'it', 'absolutemax']], ['always', []], ['total', ['sessions']], ['sessions', ['need', 'total', 'complete', 'it', 'it', 'absolutemax']], ['system', ['checked']], ['ns', []], ['portal', []], ['complete', ['sessions']], ['sessions', ['need', 'total', 'complete', 'it', 'it', 'absolutemax']], ['sessions', ['need', 'total', 'complete', 'it', 'it', 'absolutemax']], ['first', []], ['rtippt', []], ['sessions', ['need', 'total', 'complete', 'it', 'it', 'absolutemax']], ['sessions', ['need', 'total', 'complete', 'it', 'it', 'absolutemax']], ['current', []], ['windowattendance', []], ['attendancerecord', ['counted']], ['rtippt', []], ['sessions', ['need', 'total', 'complete', 'it', 'it', 'absolutemax']], ['indeed', []], ['sessions', ['need', 'total', 'complete', 'it', 'it', 'absolutemax']], ['already', []], ['defaulted', ['you']], ['ippt', []], ['previous', []], ['window', []], ['sessions', ['need', 'total', 'complete', 'it', 'it', 'absolutemax']], ['otherwise', []], ['ippt', []], ['failedno', []], ['ipt', []], ['sessions', ['need', 'total', 'complete', 'it', 'it', 'absolutemax']], ['previous', []], ['window', []], ['max', ['year']], ['year', ['max']], ['ipptipt', ['took']], ['twice', []], ['previous', []], ['windowrtippt', []], ['iptippt', []], ['sessions', ['need', 'total', 'complete', 'it', 'it', 'absolutemax']], ['number', []]]\n",
      "['bedokfcc', ['wrote']]\n",
      "['also', []]\n",
      "['firsttimebuyer', ['wrote']]\n",
      "['many', []]\n",
      "['rt', []]\n",
      "['sessions', ['need', 'total', 'complete', 'it', 'it', 'absolutemax']]\n",
      "['always', []]\n",
      "['total', ['sessions']]\n",
      "['sessions', ['need', 'total', 'complete', 'it', 'it', 'absolutemax']]\n",
      "['system', ['checked']]\n",
      "['ns', []]\n",
      "['portal', []]\n",
      "['complete', ['sessions']]\n",
      "['sessions', ['need', 'total', 'complete', 'it', 'it', 'absolutemax']]\n",
      "['sessions', ['need', 'total', 'complete', 'it', 'it', 'absolutemax']]\n",
      "['first', []]\n",
      "['rtippt', []]\n",
      "['sessions', ['need', 'total', 'complete', 'it', 'it', 'absolutemax']]\n",
      "['sessions', ['need', 'total', 'complete', 'it', 'it', 'absolutemax']]\n",
      "['current', []]\n",
      "['windowattendance', []]\n",
      "['attendancerecord', ['counted']]\n",
      "['rtippt', []]\n",
      "['sessions', ['need', 'total', 'complete', 'it', 'it', 'absolutemax']]\n",
      "['indeed', []]\n",
      "['sessions', ['need', 'total', 'complete', 'it', 'it', 'absolutemax']]\n",
      "['already', []]\n",
      "['defaulted', ['you']]\n",
      "['ippt', []]\n",
      "['previous', []]\n",
      "['window', []]\n",
      "['sessions', ['need', 'total', 'complete', 'it', 'it', 'absolutemax']]\n",
      "['otherwise', []]\n",
      "['ippt', []]\n",
      "['failedno', []]\n",
      "['ipt', []]\n",
      "['sessions', ['need', 'total', 'complete', 'it', 'it', 'absolutemax']]\n",
      "['previous', []]\n",
      "['window', []]\n",
      "['max', ['year']]\n",
      "['year', ['max']]\n",
      "['ipptipt', ['took']]\n",
      "['twice', []]\n",
      "['previous', []]\n",
      "['windowrtippt', []]\n",
      "['iptippt', []]\n",
      "['sessions', ['need', 'total', 'complete', 'it', 'it', 'absolutemax']]\n",
      "['number', []]\n",
      "Review Number :  700\n"
     ]
    },
    {
     "name": "stderr",
     "output_type": "stream",
     "text": [
      "\r",
      " 21%|████████████████▎                                                              | 701/3390 [08:54<58:23,  1.30s/it]"
     ]
    },
    {
     "name": "stdout",
     "output_type": "stream",
     "text": [
      "[['fcc', ['machine']], ['machine', ['which', 'fcc']]]\n",
      "['fcc', ['machine']]\n",
      "['machine', ['which', 'fcc']]\n",
      "Review Number :  701\n"
     ]
    },
    {
     "name": "stderr",
     "output_type": "stream",
     "text": [
      "\r",
      " 21%|████████████████▎                                                              | 702/3390 [08:55<50:29,  1.13s/it]"
     ]
    },
    {
     "name": "stdout",
     "output_type": "stream",
     "text": [
      "[['actually', []], ['hahahaim', []], ['theydroll', ['machines']], ['machines', ['theydroll']], ['first', []], ['camps', []], ['maybe', []], ['always', []], ['info', []]]\n",
      "['actually', []]\n",
      "['hahahaim', []]\n",
      "['theydroll', ['machines']]\n",
      "['machines', ['theydroll']]\n",
      "['first', []]\n",
      "['camps', []]\n",
      "['maybe', []]\n",
      "['always', []]\n",
      "['info', []]\n",
      "Review Number :  702\n"
     ]
    },
    {
     "name": "stderr",
     "output_type": "stream",
     "text": [
      "\r",
      " 21%|████████████████▍                                                              | 703/3390 [08:56<40:58,  1.09it/s]"
     ]
    },
    {
     "name": "stdout",
     "output_type": "stream",
     "text": [
      "[['anyway', []], ['triale', ['us', 'machines']], ['machines', ['triale']], ['slot', ['booking']]]\n",
      "['anyway', []]\n",
      "['triale', ['us', 'machines']]\n",
      "['machines', ['triale']]\n",
      "['slot', ['booking']]\n",
      "Review Number :  703\n",
      "[]\n",
      "Review Number :  704\n"
     ]
    },
    {
     "name": "stderr",
     "output_type": "stream",
     "text": [
      "\r",
      " 21%|████████████████▍                                                              | 705/3390 [08:56<28:51,  1.55it/s]"
     ]
    },
    {
     "name": "stdout",
     "output_type": "stream",
     "text": [
      "[['questioni', []], ['rtsession', []], ['window', ['close']], ['close', ['window']], ['aug', []], ['yearmr', []], ['mrliao', ['i', 'this']], ['ar', ['happen']]]\n",
      "['questioni', []]\n",
      "['rtsession', []]\n",
      "['window', ['close']]\n",
      "['close', ['window']]\n",
      "['aug', []]\n",
      "['yearmr', []]\n",
      "['mrliao', ['i', 'this']]\n",
      "['ar', ['happen']]\n",
      "Review Number :  705\n"
     ]
    },
    {
     "name": "stderr",
     "output_type": "stream",
     "text": [
      "\r",
      " 21%|████████████████▍                                                              | 706/3390 [08:57<27:10,  1.65it/s]"
     ]
    },
    {
     "name": "stdout",
     "output_type": "stream",
     "text": [
      "[['khatib', []], ['fcc', []], ['determine', ['they']], ['day', []], ['tag', ['have']]]\n",
      "['khatib', []]\n",
      "['fcc', []]\n",
      "['determine', ['they']]\n",
      "['day', []]\n",
      "['tag', ['have']]\n",
      "Review Number :  706\n"
     ]
    },
    {
     "name": "stderr",
     "output_type": "stream",
     "text": [
      "\r",
      " 21%|████████████████▍                                                              | 707/3390 [08:57<25:13,  1.77it/s]"
     ]
    },
    {
     "name": "stdout",
     "output_type": "stream",
     "text": [
      "[['guys', ['check']], ['able', ['i']], ['extend', ['rtwindow']], ['rtwindow', ['extend']], ['month', []]]\n",
      "['guys', ['check']]\n",
      "['able', ['i']]\n",
      "['extend', ['rtwindow']]\n",
      "['rtwindow', ['extend']]\n",
      "['month', []]\n",
      "Review Number :  707\n"
     ]
    }
   ],
   "source": [
    "rdr = pd.read_csv('../../output/scraped-ns/corpus.csv')\n",
    "\n",
    "nlp = stanza.Pipeline('en')\n",
    "a = dict()\n",
    "b = dict()\n",
    "a, b = do_extraction(rdr, nlp, a, b)"
   ]
  },
  {
   "cell_type": "code",
   "execution_count": null,
   "metadata": {
    "scrolled": true
   },
   "outputs": [],
   "source": [
    "fin = get_sentiment(a, b, nlp)"
   ]
  },
  {
   "cell_type": "code",
   "execution_count": null,
   "metadata": {
    "scrolled": true
   },
   "outputs": [],
   "source": [
    "fin"
   ]
  },
  {
   "cell_type": "code",
   "execution_count": null,
   "metadata": {},
   "outputs": [],
   "source": [
    "def get_tfidf_features(df, content_str = \"content\", min_ = 2, max_ = 0.5, ngramrange = (1,2)):\n",
    "     \n",
    "    # Replace \"\" with nan's for removal\n",
    "    #df[content_str].replace('', np.nan, inplace=True)\n",
    "    #df.dropna(subset=[content_str], inplace=True)\n",
    "    #stop_words = set(stopwords.words('english'))\n",
    "    #df[content_str] = df[content_str].apply(lambda x: ''.join([word for word in x.split() if word not in (stop_words)]))\n",
    "    \n",
    "    review_list = df[content_str].to_list()\n",
    "    #feat_count = dict()\n",
    "    #feat_sent = dict()\n",
    "    #nlp = stanza.Pipeline('en')\n",
    "\n",
    "        \n",
    "    #print(review_list)\n",
    "    tfidf = TfidfVectorizer(min_df = min_, max_df = max_, ngram_range = ngramrange);\n",
    "    features = tfidf.fit_transform(review_list);\n",
    "    q = pd.DataFrame(features.todense(), columns=tfidf.get_feature_names())\n",
    "    \n",
    "    return list(q.columns)"
   ]
  },
  {
   "cell_type": "code",
   "execution_count": null,
   "metadata": {},
   "outputs": [],
   "source": [
    "def refine_features(originaldf, sentimentdf):\n",
    "    tfidf_output = get_tfidf_features(originaldf)\n",
    "    sentimentdf = sentimentdf.reset_index()\n",
    "    ft_extract = set(sentimentdf['index']);\n",
    "    tfidf_extract = set(tfidf_output)\n",
    "    \n",
    "    intersecting_features = ft_extract.intersection(tfidf_extract)\n",
    "    \n",
    "    return_df = sentimentdf\n",
    "    return_df = return_df.loc[return_df['index'].isin(list(intersecting_features))]\n",
    "    print(\"Number of extracted features:\")\n",
    "    print(\"Initial = \", len(ft_extract), \" TFIDF = \", len(intersecting_features), \" Final after intersection = \", return_df.shape[0])\n",
    "    return return_df"
   ]
  },
  {
   "cell_type": "code",
   "execution_count": null,
   "metadata": {
    "scrolled": true
   },
   "outputs": [],
   "source": [
    "refine_features(rdr, fin)"
   ]
  },
  {
   "cell_type": "code",
   "execution_count": null,
   "metadata": {},
   "outputs": [],
   "source": [
    "fin.to_csv(\"../../output/corpus-features.csv\")\n",
    "refined.to_csv(\"../../output/corpus-refined-features.csv\")"
   ]
  }
 ],
 "metadata": {
  "kernelspec": {
   "display_name": "Python 3",
   "language": "python",
   "name": "python3"
  },
  "language_info": {
   "codemirror_mode": {
    "name": "ipython",
    "version": 3
   },
   "file_extension": ".py",
   "mimetype": "text/x-python",
   "name": "python",
   "nbconvert_exporter": "python",
   "pygments_lexer": "ipython3",
   "version": "3.7.9"
  }
 },
 "nbformat": 4,
 "nbformat_minor": 5
}
