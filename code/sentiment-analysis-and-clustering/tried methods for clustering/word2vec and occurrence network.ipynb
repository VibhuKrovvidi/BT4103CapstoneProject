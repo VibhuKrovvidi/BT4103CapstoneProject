{
 "cells": [
  {
   "cell_type": "markdown",
   "metadata": {},
   "source": [
    " by article: every row\n",
    " by sentence: combine everything then split into sentence"
   ]
  },
  {
   "cell_type": "code",
   "execution_count": null,
   "metadata": {},
   "outputs": [],
   "source": [
    "#train on nus sms\n",
    "#use other camps data"
   ]
  },
  {
   "cell_type": "code",
   "execution_count": 2,
   "metadata": {},
   "outputs": [],
   "source": [
    "import pandas as pd\n",
    "import numpy as np\n",
    "import nltk\n",
    "import regex\n",
    "import re\n",
    "from nltk.corpus import stopwords\n",
    "from nltk.corpus import wordnet\n",
    "from nltk.tokenize import word_tokenize, sent_tokenize\n",
    "from nltk.stem.wordnet import WordNetLemmatizer \n",
    "import itertools\n",
    "from sklearn.cluster import KMeans\n",
    "from tqdm import tqdm\n",
    "from gensim.models import Word2Vec \n",
    "import matplotlib.pyplot as plt\n",
    "import umap.umap_ as umap\n",
    "%matplotlib inline"
   ]
  },
  {
   "cell_type": "code",
   "execution_count": 3,
   "metadata": {},
   "outputs": [],
   "source": [
    "#original review\n",
    "cmpb = pd.read_csv('cmpb.csv')\n",
    "cmpb = cmpb['Content']\n",
    "#pre processing\n",
    "cmpb.replace('', np.nan, inplace = True)\n",
    "cmpb = cmpb.dropna()"
   ]
  },
  {
   "cell_type": "code",
   "execution_count": 4,
   "metadata": {},
   "outputs": [
    {
     "data": {
      "text/plain": [
       "0     Very Professional People down there. Recommend...\n",
       "1     Unlike what the other reviews may suggest, peo...\n",
       "2     The place overall is fine. Good experience. Ju...\n",
       "3     I went there for my NS Checkup today 29 August...\n",
       "4     Don't bother showing up at the timing assigned...\n",
       "5         just here to read through the NSF reviews LOL\n",
       "6     Takes a extremely long time due to waiting. Ov...\n",
       "7     All staff are professional and knows what they...\n",
       "8     Unfriendly staff. The guards are doing their j...\n",
       "9     staff at medical screening station 5 for heigh...\n",
       "10    Staff were not serious; impatient. Undesirably...\n",
       "11    Just sent my son for the pre enlistment checku...\n",
       "12    One of the most inconvenient locations I have ...\n",
       "13    Ok lah, this review is based on my visit Janua...\n",
       "14    Tbh, its not that bad of a place to visit, con...\n",
       "15    Those enlisting here, PLEASE make sure you dec...\n",
       "16    Guards at gate very rude. Ask question they ig...\n",
       "17    Overall great experience and medic was profess...\n",
       "18    Very kind people inside CMPD medical check up....\n",
       "19                                       don't bully me\n",
       "20                           Meh. Staff is pretty nice.\n",
       "21    Lousy service dk how help people. Ask question...\n",
       "22    [28/08/18] Tuesday\\r\\nWith all the negative re...\n",
       "23                       Medical check up place for SAF\n",
       "24                Me and others were treated like dirt.\n",
       "25    Was here for pre-enlistment screening, a few C...\n",
       "26    No cookhouse. NSF need to spend $$$ out of the...\n",
       "27    the officer attitude is not good and no patien...\n",
       "28    Idk why so many people give negative reviews o...\n",
       "29                      The gold star of public service\n",
       "30    Expect yourself to be waiting for at least 3hr...\n",
       "31                               Not accessible at all.\n",
       "32             extremely poor and rude customer service\n",
       "33                                Worst Day of My Life.\n",
       "34    Wooo, real edgy, ziyuan, you should be a novel...\n",
       "35    Highly inaccessible. So hard to get there not ...\n",
       "36                              bane of my existence :(\n",
       "37    No cookhouse but get to book out everyday. Mos...\n",
       "38    How do people even go to this place... Middle ...\n",
       "39    officer talk to you like you own them money be...\n",
       "40                                           Rude staff\n",
       "41    Inaccessible need 1h travel time to waste more...\n",
       "42                So far away in the middle of nowhere.\n",
       "43    Very bad Security troopers who have very bad a...\n",
       "44                         in the middle out of nowhere\n",
       "45    Place is not well kept, people working there a...\n",
       "46                                          Bad service\n",
       "47    Interestingly enough, all the negative reviews...\n",
       "48                                          Bad service\n",
       "49    So sheat! Treated like dirty pigs training to ...\n",
       "50                                     GNC Present here\n",
       "51    (Translated by Google) Best regards to SAF\\r\\n...\n",
       "Name: Content, dtype: object"
      ]
     },
     "execution_count": 4,
     "metadata": {},
     "output_type": "execute_result"
    }
   ],
   "source": [
    "cmpb"
   ]
  },
  {
   "cell_type": "code",
   "execution_count": 5,
   "metadata": {
    "scrolled": true
   },
   "outputs": [],
   "source": [
    "#by article: every word in one cell\n",
    "test = []\n",
    "by_review_cmpb = []\n",
    "for r in cmpb:\n",
    "    #print('original')\n",
    "    #print(r)\n",
    "    #pre processing\n",
    "    r = r.replace('\\r\\n', ' ')\n",
    "    r = r.lower()\n",
    "    separate = r.split('-')\n",
    "    r = ''.join(separate)\n",
    "    r = re.sub(r'[^a-z\\s\\t]', '', r)\n",
    "    test.append(r)\n",
    "    a = nltk.sent_tokenize(r)\n",
    "    b = a[0].split(' ')\n",
    "    by_review_cmpb.append(b)\n",
    "    #print(a)\n",
    "    #print(b)"
   ]
  },
  {
   "cell_type": "code",
   "execution_count": 6,
   "metadata": {},
   "outputs": [],
   "source": [
    "by_sentence_cmpb = []\n",
    "combined = '.'.join(cmpb)\n",
    "sentences = combined.split('.')\n",
    "for r in sentences:\n",
    "    if r == '':\n",
    "        continue\n",
    "    else:\n",
    "        r = r.replace('\\r\\n', ' ')\n",
    "        r = r.lower()\n",
    "        separate = r.split('-')\n",
    "        r = ''.join(separate)\n",
    "        r = re.sub(r'[^a-z\\s\\t]', '', r)\n",
    "        a = nltk.sent_tokenize(r)\n",
    "        b = a[0].split(' ')\n",
    "        by_sentence_cmpb.append(b)\n",
    "        #print(a)\n",
    "        #print(b)"
   ]
  },
  {
   "cell_type": "code",
   "execution_count": 8,
   "metadata": {},
   "outputs": [
    {
     "data": {
      "text/plain": [
       "(1038, 9700)"
      ]
     },
     "execution_count": 8,
     "metadata": {},
     "output_type": "execute_result"
    }
   ],
   "source": [
    "#word2vec for by sentence\n",
    "model_sentence = Word2Vec(window = 10, sg = 1, hs = 0, negative = 10, # for negative sampling\n",
    "                          alpha=0.03, min_alpha=0.0007,seed = 14)\n",
    "model_sentence.build_vocab(by_sentence_cmpb, progress_per=200)\n",
    "model_sentence.train(by_sentence_cmpb, total_examples = model_sentence.corpus_count, \n",
    "            epochs=10, report_delay=1)"
   ]
  },
  {
   "cell_type": "code",
   "execution_count": 9,
   "metadata": {},
   "outputs": [],
   "source": [
    "model_sentence.init_sims(replace=True)"
   ]
  },
  {
   "cell_type": "code",
   "execution_count": 10,
   "metadata": {},
   "outputs": [
    {
     "name": "stdout",
     "output_type": "stream",
     "text": [
      "Word2Vec(vocab=41, size=100, alpha=0.03)\n"
     ]
    }
   ],
   "source": [
    "print(model_sentence)"
   ]
  },
  {
   "cell_type": "code",
   "execution_count": 13,
   "metadata": {
    "scrolled": true
   },
   "outputs": [
    {
     "name": "stderr",
     "output_type": "stream",
     "text": [
      "<ipython-input-13-03ac285c62a2>:1: DeprecationWarning: Call to deprecated `most_similar` (Method will be removed in 4.0.0, use self.wv.most_similar() instead).\n",
      "  model_sentence.most_similar(positive=[\"medical\"])\n"
     ]
    },
    {
     "data": {
      "text/plain": [
       "[('to', 0.8719109892845154),\n",
       " ('experience', 0.863020658493042),\n",
       " ('the', 0.8626408576965332),\n",
       " ('there', 0.8546510934829712),\n",
       " ('is', 0.8537328243255615),\n",
       " ('place', 0.8517358303070068),\n",
       " ('this', 0.8426485061645508),\n",
       " ('here', 0.8426223993301392),\n",
       " ('a', 0.8406622409820557),\n",
       " ('my', 0.8403588533401489)]"
      ]
     },
     "execution_count": 13,
     "metadata": {},
     "output_type": "execute_result"
    }
   ],
   "source": [
    "model_sentence.most_similar(positive=[\"medical\"])"
   ]
  },
  {
   "cell_type": "code",
   "execution_count": 75,
   "metadata": {},
   "outputs": [
    {
     "data": {
      "image/png": "[encoded data removed]",
      "text/plain": [
       "<Figure size 864x432 with 1 Axes>"
      ]
     },
     "metadata": {
      "needs_background": "light"
     },
     "output_type": "display_data"
    }
   ],
   "source": [
    "words = model_sentence.wv.index2word\n",
    "wvs = model_sentence.wv[words]\n",
    "\n",
    "tsne = TSNE(n_components=2, random_state=0, n_iter=5000, perplexity=2)\n",
    "np.set_printoptions(suppress=True)\n",
    "T = tsne.fit_transform(wvs)\n",
    "labels = words\n",
    "\n",
    "plt.figure(figsize=(12, 6))\n",
    "plt.scatter(T[:, 0], T[:, 1], c='orange', edgecolors='r')\n",
    "for label, x, y in zip(labels, T[:, 0], T[:, 1]):\n",
    "    plt.annotate(label, xy=(x+1, y+1), xytext=(0, 0), textcoords='offset points')"
   ]
  },
  {
   "cell_type": "code",
   "execution_count": 40,
   "metadata": {},
   "outputs": [
    {
     "data": {
      "text/plain": [
       "(969, 9240)"
      ]
     },
     "execution_count": 40,
     "metadata": {},
     "output_type": "execute_result"
    }
   ],
   "source": [
    "#word2vec for by review\n",
    "model_review = Word2Vec(window = 2, sg = 1, hs = 0, negative = 10, # for negative sampling\n",
    "                          alpha=0.03, min_alpha=0.0007,seed = 14)\n",
    "model_review.build_vocab(by_review_cmpb, progress_per=200,sample = 1e-3 )\n",
    "model_review.train(by_review_cmpb, total_examples = model_review.corpus_count, \n",
    "            epochs=10, report_delay=1)"
   ]
  },
  {
   "cell_type": "code",
   "execution_count": 41,
   "metadata": {},
   "outputs": [],
   "source": [
    "model_review.init_sims(replace=True)"
   ]
  },
  {
   "cell_type": "code",
   "execution_count": 42,
   "metadata": {},
   "outputs": [
    {
     "name": "stdout",
     "output_type": "stream",
     "text": [
      "Word2Vec(vocab=41, size=100, alpha=0.03)\n"
     ]
    }
   ],
   "source": [
    "print(model_review)"
   ]
  },
  {
   "cell_type": "code",
   "execution_count": 43,
   "metadata": {
    "scrolled": true
   },
   "outputs": [
    {
     "name": "stderr",
     "output_type": "stream",
     "text": [
      "<ipython-input-43-8028d2d70302>:1: DeprecationWarning: Call to deprecated `most_similar` (Method will be removed in 4.0.0, use self.wv.most_similar() instead).\n",
      "  model_review.most_similar(positive=[\"medical\"])\n"
     ]
    },
    {
     "data": {
      "text/plain": [
       "[('the', 0.8138085007667542),\n",
       " ('to', 0.8002111315727234),\n",
       " ('and', 0.7747681736946106),\n",
       " ('are', 0.7621898055076599),\n",
       " ('out', 0.761546790599823),\n",
       " ('', 0.7584236264228821),\n",
       " ('here', 0.7539170384407043),\n",
       " ('staff', 0.752115786075592),\n",
       " ('this', 0.7489237189292908),\n",
       " ('is', 0.746063768863678)]"
      ]
     },
     "execution_count": 43,
     "metadata": {},
     "output_type": "execute_result"
    }
   ],
   "source": [
    "model_review.most_similar(positive=[\"medical\"])"
   ]
  },
  {
   "cell_type": "code",
   "execution_count": 49,
   "metadata": {
    "scrolled": true
   },
   "outputs": [
    {
     "data": {
      "text/plain": [
       "{'medical': ['the', 'to', 'and', 'are', 'out'],\n",
       " 'staff': ['', 'the', 'there', 'and', 'to'],\n",
       " 'checkup': ['the', 'to', 'is', '', 'you'],\n",
       " 'people': ['the', '', 'to', 'of', 'are'],\n",
       " 'time': ['staff', 'are', 'and', 'my', 'there']}"
      ]
     },
     "execution_count": 49,
     "metadata": {},
     "output_type": "execute_result"
    }
   ],
   "source": [
    "similar_words = {search_term: [item[0] for item in model_review.wv.most_similar([search_term], topn=5)]\n",
    "                  for search_term in ['medical', 'staff', 'checkup', 'people', 'time']}\n",
    "similar_words"
   ]
  },
  {
   "cell_type": "code",
   "execution_count": 74,
   "metadata": {},
   "outputs": [
    {
     "data": {
      "image/png": "[encoded data removed]",
      "text/plain": [
       "<Figure size 864x432 with 1 Axes>"
      ]
     },
     "metadata": {
      "needs_background": "light"
     },
     "output_type": "display_data"
    }
   ],
   "source": [
    "words = model_review.wv.index2word\n",
    "wvs = model_review.wv[words]\n",
    "\n",
    "tsne = TSNE(n_components=2, random_state=0, n_iter=5000, perplexity=2)\n",
    "np.set_printoptions(suppress=True)\n",
    "T = tsne.fit_transform(wvs)\n",
    "labels = words\n",
    "\n",
    "plt.figure(figsize=(12, 6))\n",
    "plt.scatter(T[:, 0], T[:, 1], c='orange', edgecolors='r')\n",
    "for label, x, y in zip(labels, T[:, 0], T[:, 1]):\n",
    "    plt.annotate(label, xy=(x+1, y+1), xytext=(0, 0), textcoords='offset points')"
   ]
  },
  {
   "cell_type": "code",
   "execution_count": 64,
   "metadata": {},
   "outputs": [],
   "source": [
    "df_new = pd.read_csv('bout.csv')"
   ]
  },
  {
   "cell_type": "code",
   "execution_count": 65,
   "metadata": {},
   "outputs": [],
   "source": [
    "df_new = df_new.fillna('')\n",
    "df_new = pd.Series([' '.join(row.astype(str)) for row in df_new.values], index=df_new.index)"
   ]
  },
  {
   "cell_type": "code",
   "execution_count": 66,
   "metadata": {},
   "outputs": [],
   "source": [
    "new_list = []\n",
    "for row in df_new:\n",
    "    a = nltk.sent_tokenize(row)\n",
    "    b = a[0].split(' ')\n",
    "    new_list.append(b)\n",
    "    #print(new_list)"
   ]
  },
  {
   "cell_type": "code",
   "execution_count": 67,
   "metadata": {},
   "outputs": [
    {
     "data": {
      "text/plain": [
       "(203, 7000)"
      ]
     },
     "execution_count": 67,
     "metadata": {},
     "output_type": "execute_result"
    }
   ],
   "source": [
    "model_bout = Word2Vec(window = 2, sg = 1, hs = 0, negative = 10, # for negative sampling\n",
    "                          alpha=0.03, min_alpha=0.0007,seed = 14)\n",
    "model_bout.build_vocab(new_list, progress_per=200,sample = 1e-3 )\n",
    "model_bout.train(new_list, total_examples = model_bout.corpus_count, \n",
    "            epochs=10, report_delay=1)"
   ]
  },
  {
   "cell_type": "code",
   "execution_count": 68,
   "metadata": {},
   "outputs": [],
   "source": [
    "model_bout.init_sims(replace=True)"
   ]
  },
  {
   "cell_type": "code",
   "execution_count": 69,
   "metadata": {},
   "outputs": [
    {
     "name": "stdout",
     "output_type": "stream",
     "text": [
      "Word2Vec(vocab=19, size=100, alpha=0.03)\n"
     ]
    }
   ],
   "source": [
    "print(model_bout)"
   ]
  },
  {
   "cell_type": "code",
   "execution_count": 70,
   "metadata": {
    "scrolled": true
   },
   "outputs": [
    {
     "name": "stderr",
     "output_type": "stream",
     "text": [
      "<ipython-input-70-5505e8cb01f7>:1: DeprecationWarning: Call to deprecated `most_similar` (Method will be removed in 4.0.0, use self.wv.most_similar() instead).\n",
      "  model_bout.most_similar(positive=[\"medical\"])\n"
     ]
    },
    {
     "data": {
      "text/plain": [
       "[('staff', 0.17480576038360596),\n",
       " ('not', 0.13471922278404236),\n",
       " ('conditions', 0.09387607127428055),\n",
       " ('so', 0.09087174385786057),\n",
       " ('experience', 0.08840455114841461),\n",
       " ('rude', 0.05067929998040199),\n",
       " ('waste', 0.032695867121219635),\n",
       " ('bad', 0.03118954785168171),\n",
       " ('place', 0.020712140947580338),\n",
       " ('nsf', 0.012757696211338043)]"
      ]
     },
     "execution_count": 70,
     "metadata": {},
     "output_type": "execute_result"
    }
   ],
   "source": [
    "model_bout.most_similar(positive=[\"medical\"])"
   ]
  },
  {
   "cell_type": "code",
   "execution_count": 73,
   "metadata": {},
   "outputs": [
    {
     "data": {
      "image/png": "[encoded data removed]",
      "text/plain": [
       "<Figure size 864x432 with 1 Axes>"
      ]
     },
     "metadata": {
      "needs_background": "light"
     },
     "output_type": "display_data"
    }
   ],
   "source": [
    "words = model_bout.wv.index2word\n",
    "wvs = model_bout.wv[words]\n",
    "\n",
    "tsne = TSNE(n_components=2, random_state=0, n_iter=5000, perplexity=2)\n",
    "np.set_printoptions(suppress=True)\n",
    "T = tsne.fit_transform(wvs)\n",
    "labels = words\n",
    "\n",
    "plt.figure(figsize=(12, 6))\n",
    "plt.scatter(T[:, 0], T[:, 1], c='orange', edgecolors='r')\n",
    "for label, x, y in zip(labels, T[:, 0], T[:, 1]):\n",
    "    plt.annotate(label, xy=(x+1, y+1), xytext=(0, 0), textcoords='offset points')"
   ]
  },
  {
   "cell_type": "code",
   "execution_count": null,
   "metadata": {},
   "outputs": [],
   "source": [
    "from sklearn.cluster import AffinityPropagation\n",
    "\n",
    "ap = AffinityPropagation()\n",
    "ap.fit(w2v_feature_array)\n",
    "cluster_labels = ap.labels_\n",
    "cluster_labels = pd.DataFrame(cluster_labels, columns=['ClusterLabel'])\n",
    "pd.concat([corpus_df, cluster_labels], axis=1)"
   ]
  },
  {
   "cell_type": "code",
   "execution_count": 71,
   "metadata": {},
   "outputs": [
    {
     "data": {
      "text/plain": [
       "{'medical': ['staff', 'not', 'conditions', 'so', 'experience'],\n",
       " 'staff': ['medical', 'not', 'experience', 'reviews', 'place'],\n",
       " 'rude': ['service', 'bad', 'nsf', 'reviews', 'so'],\n",
       " 'people': ['nsf', 'very', 'so', 'have', 'ask'],\n",
       " 'nsf': ['people', 'long', 'rude', 'bad', 'so']}"
      ]
     },
     "execution_count": 71,
     "metadata": {},
     "output_type": "execute_result"
    }
   ],
   "source": [
    "similar_words = {search_term: [item[0] for item in model_bout.wv.most_similar([search_term], topn=5)]\n",
    "                  for search_term in ['medical', 'staff', 'rude', 'people', 'nsf']}\n",
    "similar_words"
   ]
  },
  {
   "cell_type": "code",
   "execution_count": 72,
   "metadata": {},
   "outputs": [
    {
     "data": {
      "image/png": "[encoded data removed]",
      "text/plain": [
       "<Figure size 1008x576 with 1 Axes>"
      ]
     },
     "metadata": {
      "needs_background": "light"
     },
     "output_type": "display_data"
    }
   ],
   "source": [
    "from sklearn.manifold import TSNE\n",
    "\n",
    "words = sum([[k] + v for k, v in similar_words.items()], [])\n",
    "wvs = model_bout.wv[words]\n",
    "\n",
    "tsne = TSNE(n_components=2, random_state=0, n_iter=10000, perplexity=2)\n",
    "np.set_printoptions(suppress=True)\n",
    "T = tsne.fit_transform(wvs)\n",
    "labels = words\n",
    "\n",
    "plt.figure(figsize=(14, 8))\n",
    "plt.scatter(T[:, 0], T[:, 1], c='orange', edgecolors='r')\n",
    "for label, x, y in zip(labels, T[:, 0], T[:, 1]):\n",
    "    plt.annotate(label, xy=(x+1, y+1), xytext=(0, 0), textcoords='offset points')"
   ]
  },
  {
   "cell_type": "code",
   "execution_count": 30,
   "metadata": {},
   "outputs": [],
   "source": [
    "finalfeatures = pd.read_csv('finalFeatures.csv')\n",
    "finalfeatures = finalfeatures[['index','Descriptors']]\n",
    "#finalfeatures"
   ]
  },
  {
   "cell_type": "code",
   "execution_count": 35,
   "metadata": {
    "collapsed": true
   },
   "outputs": [
    {
     "name": "stdout",
     "output_type": "stream",
     "text": [
      "staff professional ,unfriendly ,keep ,rude ,impatient ,rude ,nsf ,ok ,nice ,friendly ,rude\n",
      "staff professional unfriendly keep rude impatient rude nsf ok nice friendly rude\n",
      "people professional ,there ,suggest ,here ,threatens ,threatens ,kind ,help ,many ,give ,go ,kept\n",
      "people professional there suggest here threatens threatens kind help many give go kept\n",
      "medical checkup ,checkup ,screening ,conditions ,officer ,specialistletter ,check ,check ,check\n",
      "medical checkup checkup screening conditions officer specialistletter check check check\n",
      "bad reviews ,not ,that ,canteenb ,real ,canteenb ,real ,very ,troopers ,very ,attitude ,very ,troopers ,very ,attitude ,service ,service\n",
      "bad reviews not that canteenb real canteenb real very troopers very attitude very troopers very attitude service service\n",
      "place clean ,fine ,waste ,check\n",
      "place clean fine waste check\n",
      "rude staff ,extremely ,staff ,guards ,very ,staff ,unbelievably\n",
      "rude staff extremely staff guards very staff unbelievably\n",
      "time long ,takes ,travel ,travel\n",
      "time long takes travel travel\n",
      "reviews other ,suggest ,nsf ,negative ,negative ,give ,negative\n",
      "reviews other suggest nsf negative negative give negative\n",
      "service dk ,public ,bad ,bad\n",
      "service dk public bad bad\n",
      "nsf reviews ,staff ,need ,cool\n",
      "nsf reviews staff need cool\n",
      "overall fine ,waste ,experience ,had\n",
      "overall fine waste experience had\n",
      "experience good ,overall ,great ,definitely ,memorable ,good ,had ,there\n",
      "experience good overall great definitely memorable good had there\n",
      "really clean ,care ,have ,care ,have ,bored\n",
      "really clean care have care have bored\n",
      "complete rest ,waste ,waste\n",
      "complete rest waste waste\n",
      "professional very ,people ,staff ,medic\n",
      "professional very people staff medic\n",
      "person last ,realise\n",
      "person last realise\n",
      "extremely long ,rude ,poor\n",
      "extremely long rude poor\n",
      "unfriendly staff ,tone\n",
      "unfriendly staff tone\n",
      "ask question ,question ,taiji ,question ,taiji\n",
      "ask question question taiji question taiji\n",
      "negative reviews ,reviews ,reviews\n",
      "negative reviews reviews reviews\n",
      "check medical ,up ,medical ,place ,medical ,up\n",
      "check medical up medical place medical up\n",
      "checkup medical ,medical\n",
      "checkup medical medical\n",
      "waste place ,complete ,overall ,complete ,more\n",
      "waste place complete overall complete more\n",
      "good experience ,officerattitude ,not ,experience\n",
      "good experience officerattitude not experience\n",
      "well fare ,kept\n",
      "well fare kept\n",
      "public service\n",
      "public service\n",
      "hard so ,very\n",
      "hard so very\n",
      "inaccessible highly ,need\n",
      "inaccessible highly need\n",
      "long extremely ,time ,undesirably ,times\n",
      "long extremely time undesirably times\n",
      "real edgy ,bad\n",
      "real edgy bad\n",
      "even bored ,go\n",
      "even bored go\n",
      "question ask ,ignore ,ask\n",
      "question ask ignore ask\n",
      "personal experienceeveryone ,opinion\n",
      "personal experienceeveryone opinion\n",
      "help me ,dk ,people\n",
      "help me dk people\n",
      "guards doing ,rude\n",
      "guards doing rude\n",
      "great experience ,trip ,ultimately\n",
      "great experience trip ultimately\n",
      "tone changing ,unfriendly ,use\n",
      "tone changing unfriendly use\n",
      "nice rest ,though ,staff ,pretty\n",
      "nice rest though staff pretty\n",
      "cmpb recommend\n",
      "cmpb recommend\n",
      "inconvenient most ,locations ,location\n",
      "inconvenient most locations location\n",
      "others saying\n",
      "others saying\n",
      "friendly staff\n",
      "friendly staff\n",
      "day other ,worst\n",
      "day other worst\n",
      "kind respectful ,very ,people\n",
      "kind respectful very people\n",
      "rest complete ,nice\n",
      "rest complete nice\n",
      "hours more ,take\n",
      "hours more take\n",
      "else anywhere\n",
      "else anywhere\n",
      "need inaccessible\n",
      "need inaccessible\n",
      "security troopers\n",
      "security troopers\n",
      "attitude bad ,have\n",
      "attitude bad have\n",
      "get there\n",
      "get there\n",
      "give guard ,instructions\n",
      "give guard instructions\n",
      "screening medical ,station\n",
      "screening medical station\n",
      "visit contrary\n",
      "visit contrary\n",
      "officer medical\n",
      "officer medical\n",
      "expect process\n",
      "expect process\n",
      "take hours\n",
      "take hours\n"
     ]
    },
    {
     "data": {
      "text/plain": [
       "0     staff professional ,unfriendly ,keep ,rude ,im...\n",
       "1     people professional ,there ,suggest ,here ,thr...\n",
       "2     medical checkup ,checkup ,screening ,condition...\n",
       "3     bad reviews ,not ,that ,canteenb ,real ,cantee...\n",
       "4                       place clean ,fine ,waste ,check\n",
       "5     rude staff ,extremely ,staff ,guards ,very ,st...\n",
       "6                      time long ,takes ,travel ,travel\n",
       "7     reviews other ,suggest ,nsf ,negative ,negativ...\n",
       "8                          service dk ,public ,bad ,bad\n",
       "9                        nsf reviews ,staff ,need ,cool\n",
       "10                 overall fine ,waste ,experience ,had\n",
       "11    experience good ,overall ,great ,definitely ,m...\n",
       "12          really clean ,care ,have ,care ,have ,bored\n",
       "13                          complete rest ,waste ,waste\n",
       "14              professional very ,people ,staff ,medic\n",
       "15                                 person last ,realise\n",
       "16                           extremely long ,rude ,poor\n",
       "17                               unfriendly staff ,tone\n",
       "18       ask question ,question ,taiji ,question ,taiji\n",
       "19                   negative reviews ,reviews ,reviews\n",
       "20       check medical ,up ,medical ,place ,medical ,up\n",
       "21                             checkup medical ,medical\n",
       "22       waste place ,complete ,overall ,complete ,more\n",
       "23    good experience ,officerattitude ,not ,experience\n",
       "24                                      well fare ,kept\n",
       "25                                       public service\n",
       "26                                        hard so ,very\n",
       "27                            inaccessible highly ,need\n",
       "28             long extremely ,time ,undesirably ,times\n",
       "29                                       real edgy ,bad\n",
       "30                                       even bored ,go\n",
       "31                            question ask ,ignore ,ask\n",
       "32                 personal experienceeveryone ,opinion\n",
       "33                                  help me ,dk ,people\n",
       "34                                   guards doing ,rude\n",
       "35                   great experience ,trip ,ultimately\n",
       "36                       tone changing ,unfriendly ,use\n",
       "37                     nice rest ,though ,staff ,pretty\n",
       "38                                       cmpb recommend\n",
       "39               inconvenient most ,locations ,location\n",
       "40                                        others saying\n",
       "41                                       friendly staff\n",
       "42                                     day other ,worst\n",
       "43                        kind respectful ,very ,people\n",
       "44                                  rest complete ,nice\n",
       "45                                     hours more ,take\n",
       "46                                        else anywhere\n",
       "47                                    need inaccessible\n",
       "48                                    security troopers\n",
       "49                                   attitude bad ,have\n",
       "50                                            get there\n",
       "51                             give guard ,instructions\n",
       "52                           screening medical ,station\n",
       "53                                       visit contrary\n",
       "54                                      officer medical\n",
       "55                                       expect process\n",
       "56                                           take hours\n",
       "dtype: object"
      ]
     },
     "execution_count": 35,
     "metadata": {},
     "output_type": "execute_result"
    }
   ],
   "source": [
    "ff = pd.Series([' '.join(row.astype(str)) for row in finalfeatures.values], index=finalfeatures.index)\n",
    "for f in ff:\n",
    "    print(f)\n",
    "    f = f.replace(',','')\n",
    "    print(f)\n",
    "ff\n",
    "\n",
    "#wpt = nltk.WordPunctTokenizer()\n",
    "#tokenized_corpus = [wpt.tokenize(document) for document in ff]\n",
    "#tokenized_corpus"
   ]
  },
  {
   "cell_type": "code",
   "execution_count": null,
   "metadata": {},
   "outputs": [],
   "source": [
    "from gensim.models import word2vec\n",
    "\n",
    "# tokenize sentences in corpus\n",
    "wpt = nltk.WordPunctTokenizer()\n",
    "tokenized_corpus = [wpt.tokenize(document) for document in norm_bible]\n",
    "\n",
    "# Set values for various parameters\n",
    "feature_size = 100    # Word vector dimensionality  \n",
    "window_context = 30          # Context window size                                                                                    \n",
    "min_word_count = 1   # Minimum word count                        \n",
    "sample = 1e-3   # Downsample setting for frequent words\n",
    "\n",
    "w2v_model = word2vec.Word2Vec(tokenized_corpus, size=feature_size, \n",
    "                          window=window_context, min_count=min_word_count,\n",
    "                          sample=sample, iter=50)"
   ]
  },
  {
   "cell_type": "code",
   "execution_count": null,
   "metadata": {},
   "outputs": [],
   "source": [
    "tokenizer = dict()     "
   ]
  },
  {
   "cell_type": "code",
   "execution_count": 10,
   "metadata": {},
   "outputs": [
    {
     "data": {
      "text/html": [
       "<div>\n",
       "<style scoped>\n",
       "    .dataframe tbody tr th:only-of-type {\n",
       "        vertical-align: middle;\n",
       "    }\n",
       "\n",
       "    .dataframe tbody tr th {\n",
       "        vertical-align: top;\n",
       "    }\n",
       "\n",
       "    .dataframe thead th {\n",
       "        text-align: right;\n",
       "    }\n",
       "</style>\n",
       "<table border=\"1\" class=\"dataframe\">\n",
       "  <thead>\n",
       "    <tr style=\"text-align: right;\">\n",
       "      <th></th>\n",
       "      <th>0</th>\n",
       "      <th>1</th>\n",
       "      <th>2</th>\n",
       "      <th>3</th>\n",
       "      <th>4</th>\n",
       "      <th>5</th>\n",
       "      <th>6</th>\n",
       "      <th>7</th>\n",
       "      <th>8</th>\n",
       "      <th>9</th>\n",
       "      <th>...</th>\n",
       "      <th>22</th>\n",
       "      <th>23</th>\n",
       "      <th>24</th>\n",
       "      <th>25</th>\n",
       "      <th>26</th>\n",
       "      <th>27</th>\n",
       "      <th>28</th>\n",
       "      <th>29</th>\n",
       "      <th>30</th>\n",
       "      <th>31</th>\n",
       "    </tr>\n",
       "  </thead>\n",
       "  <tbody>\n",
       "    <tr>\n",
       "      <th>0</th>\n",
       "      <td>very</td>\n",
       "      <td>professional</td>\n",
       "      <td>people</td>\n",
       "      <td>down</td>\n",
       "      <td>there</td>\n",
       "      <td>None</td>\n",
       "      <td>None</td>\n",
       "      <td>None</td>\n",
       "      <td>None</td>\n",
       "      <td>None</td>\n",
       "      <td>...</td>\n",
       "      <td>None</td>\n",
       "      <td>None</td>\n",
       "      <td>None</td>\n",
       "      <td>None</td>\n",
       "      <td>None</td>\n",
       "      <td>None</td>\n",
       "      <td>None</td>\n",
       "      <td>None</td>\n",
       "      <td>None</td>\n",
       "      <td>None</td>\n",
       "    </tr>\n",
       "    <tr>\n",
       "      <th>1</th>\n",
       "      <td></td>\n",
       "      <td>recommended</td>\n",
       "      <td>very</td>\n",
       "      <td>patient</td>\n",
       "      <td>kind</td>\n",
       "      <td>respectful</td>\n",
       "      <td>None</td>\n",
       "      <td>None</td>\n",
       "      <td>None</td>\n",
       "      <td>None</td>\n",
       "      <td>...</td>\n",
       "      <td>None</td>\n",
       "      <td>None</td>\n",
       "      <td>None</td>\n",
       "      <td>None</td>\n",
       "      <td>None</td>\n",
       "      <td>None</td>\n",
       "      <td>None</td>\n",
       "      <td>None</td>\n",
       "      <td>None</td>\n",
       "      <td>None</td>\n",
       "    </tr>\n",
       "    <tr>\n",
       "      <th>2</th>\n",
       "      <td></td>\n",
       "      <td>very</td>\n",
       "      <td>smooth</td>\n",
       "      <td>throughout</td>\n",
       "      <td>the</td>\n",
       "      <td>medical</td>\n",
       "      <td>checkup</td>\n",
       "      <td>None</td>\n",
       "      <td>None</td>\n",
       "      <td>None</td>\n",
       "      <td>...</td>\n",
       "      <td>None</td>\n",
       "      <td>None</td>\n",
       "      <td>None</td>\n",
       "      <td>None</td>\n",
       "      <td>None</td>\n",
       "      <td>None</td>\n",
       "      <td>None</td>\n",
       "      <td>None</td>\n",
       "      <td>None</td>\n",
       "      <td>None</td>\n",
       "    </tr>\n",
       "    <tr>\n",
       "      <th>3</th>\n",
       "      <td>unlike</td>\n",
       "      <td>what</td>\n",
       "      <td>the</td>\n",
       "      <td>other</td>\n",
       "      <td>reviews</td>\n",
       "      <td>may</td>\n",
       "      <td>suggest</td>\n",
       "      <td>people</td>\n",
       "      <td>here</td>\n",
       "      <td>were</td>\n",
       "      <td>...</td>\n",
       "      <td>None</td>\n",
       "      <td>None</td>\n",
       "      <td>None</td>\n",
       "      <td>None</td>\n",
       "      <td>None</td>\n",
       "      <td>None</td>\n",
       "      <td>None</td>\n",
       "      <td>None</td>\n",
       "      <td>None</td>\n",
       "      <td>None</td>\n",
       "    </tr>\n",
       "    <tr>\n",
       "      <th>4</th>\n",
       "      <td></td>\n",
       "      <td>the</td>\n",
       "      <td>place</td>\n",
       "      <td>is</td>\n",
       "      <td>really</td>\n",
       "      <td>clean</td>\n",
       "      <td>and</td>\n",
       "      <td>efficient</td>\n",
       "      <td>None</td>\n",
       "      <td>None</td>\n",
       "      <td>...</td>\n",
       "      <td>None</td>\n",
       "      <td>None</td>\n",
       "      <td>None</td>\n",
       "      <td>None</td>\n",
       "      <td>None</td>\n",
       "      <td>None</td>\n",
       "      <td>None</td>\n",
       "      <td>None</td>\n",
       "      <td>None</td>\n",
       "      <td>None</td>\n",
       "    </tr>\n",
       "    <tr>\n",
       "      <th>...</th>\n",
       "      <td>...</td>\n",
       "      <td>...</td>\n",
       "      <td>...</td>\n",
       "      <td>...</td>\n",
       "      <td>...</td>\n",
       "      <td>...</td>\n",
       "      <td>...</td>\n",
       "      <td>...</td>\n",
       "      <td>...</td>\n",
       "      <td>...</td>\n",
       "      <td>...</td>\n",
       "      <td>...</td>\n",
       "      <td>...</td>\n",
       "      <td>...</td>\n",
       "      <td>...</td>\n",
       "      <td>...</td>\n",
       "      <td>...</td>\n",
       "      <td>...</td>\n",
       "      <td>...</td>\n",
       "      <td>...</td>\n",
       "      <td>...</td>\n",
       "    </tr>\n",
       "    <tr>\n",
       "      <th>93</th>\n",
       "      <td>interestingly</td>\n",
       "      <td>enough</td>\n",
       "      <td>all</td>\n",
       "      <td>the</td>\n",
       "      <td>negative</td>\n",
       "      <td>reviews</td>\n",
       "      <td>were</td>\n",
       "      <td>removed</td>\n",
       "      <td>None</td>\n",
       "      <td>None</td>\n",
       "      <td>...</td>\n",
       "      <td>None</td>\n",
       "      <td>None</td>\n",
       "      <td>None</td>\n",
       "      <td>None</td>\n",
       "      <td>None</td>\n",
       "      <td>None</td>\n",
       "      <td>None</td>\n",
       "      <td>None</td>\n",
       "      <td>None</td>\n",
       "      <td>None</td>\n",
       "    </tr>\n",
       "    <tr>\n",
       "      <th>94</th>\n",
       "      <td>bad</td>\n",
       "      <td>service</td>\n",
       "      <td>None</td>\n",
       "      <td>None</td>\n",
       "      <td>None</td>\n",
       "      <td>None</td>\n",
       "      <td>None</td>\n",
       "      <td>None</td>\n",
       "      <td>None</td>\n",
       "      <td>None</td>\n",
       "      <td>...</td>\n",
       "      <td>None</td>\n",
       "      <td>None</td>\n",
       "      <td>None</td>\n",
       "      <td>None</td>\n",
       "      <td>None</td>\n",
       "      <td>None</td>\n",
       "      <td>None</td>\n",
       "      <td>None</td>\n",
       "      <td>None</td>\n",
       "      <td>None</td>\n",
       "    </tr>\n",
       "    <tr>\n",
       "      <th>95</th>\n",
       "      <td>so</td>\n",
       "      <td>sheat</td>\n",
       "      <td>treated</td>\n",
       "      <td>like</td>\n",
       "      <td>dirty</td>\n",
       "      <td>pigs</td>\n",
       "      <td>training</td>\n",
       "      <td>to</td>\n",
       "      <td>step</td>\n",
       "      <td>on</td>\n",
       "      <td>...</td>\n",
       "      <td>None</td>\n",
       "      <td>None</td>\n",
       "      <td>None</td>\n",
       "      <td>None</td>\n",
       "      <td>None</td>\n",
       "      <td>None</td>\n",
       "      <td>None</td>\n",
       "      <td>None</td>\n",
       "      <td>None</td>\n",
       "      <td>None</td>\n",
       "    </tr>\n",
       "    <tr>\n",
       "      <th>96</th>\n",
       "      <td>gnc</td>\n",
       "      <td>present</td>\n",
       "      <td>here</td>\n",
       "      <td>None</td>\n",
       "      <td>None</td>\n",
       "      <td>None</td>\n",
       "      <td>None</td>\n",
       "      <td>None</td>\n",
       "      <td>None</td>\n",
       "      <td>None</td>\n",
       "      <td>...</td>\n",
       "      <td>None</td>\n",
       "      <td>None</td>\n",
       "      <td>None</td>\n",
       "      <td>None</td>\n",
       "      <td>None</td>\n",
       "      <td>None</td>\n",
       "      <td>None</td>\n",
       "      <td>None</td>\n",
       "      <td>None</td>\n",
       "      <td>None</td>\n",
       "    </tr>\n",
       "    <tr>\n",
       "      <th>97</th>\n",
       "      <td>translated</td>\n",
       "      <td>by</td>\n",
       "      <td>google</td>\n",
       "      <td>best</td>\n",
       "      <td>regards</td>\n",
       "      <td>to</td>\n",
       "      <td>saf</td>\n",
       "      <td></td>\n",
       "      <td>original</td>\n",
       "      <td>hormat</td>\n",
       "      <td>...</td>\n",
       "      <td>None</td>\n",
       "      <td>None</td>\n",
       "      <td>None</td>\n",
       "      <td>None</td>\n",
       "      <td>None</td>\n",
       "      <td>None</td>\n",
       "      <td>None</td>\n",
       "      <td>None</td>\n",
       "      <td>None</td>\n",
       "      <td>None</td>\n",
       "    </tr>\n",
       "  </tbody>\n",
       "</table>\n",
       "<p>98 rows × 32 columns</p>\n",
       "</div>"
      ],
      "text/plain": [
       "               0             1        2           3         4           5   \\\n",
       "0            very  professional   people        down     there        None   \n",
       "1                   recommended     very     patient      kind  respectful   \n",
       "2                          very   smooth  throughout       the     medical   \n",
       "3          unlike          what      the       other   reviews         may   \n",
       "4                           the    place          is    really       clean   \n",
       "..            ...           ...      ...         ...       ...         ...   \n",
       "93  interestingly        enough      all         the  negative     reviews   \n",
       "94            bad       service     None        None      None        None   \n",
       "95             so         sheat  treated        like     dirty        pigs   \n",
       "96            gnc       present     here        None      None        None   \n",
       "97     translated            by   google        best   regards          to   \n",
       "\n",
       "          6          7         8       9   ...    22    23    24    25    26  \\\n",
       "0       None       None      None    None  ...  None  None  None  None  None   \n",
       "1       None       None      None    None  ...  None  None  None  None  None   \n",
       "2    checkup       None      None    None  ...  None  None  None  None  None   \n",
       "3    suggest     people      here    were  ...  None  None  None  None  None   \n",
       "4        and  efficient      None    None  ...  None  None  None  None  None   \n",
       "..       ...        ...       ...     ...  ...   ...   ...   ...   ...   ...   \n",
       "93      were    removed      None    None  ...  None  None  None  None  None   \n",
       "94      None       None      None    None  ...  None  None  None  None  None   \n",
       "95  training         to      step      on  ...  None  None  None  None  None   \n",
       "96      None       None      None    None  ...  None  None  None  None  None   \n",
       "97       saf             original  hormat  ...  None  None  None  None  None   \n",
       "\n",
       "      27    28    29    30    31  \n",
       "0   None  None  None  None  None  \n",
       "1   None  None  None  None  None  \n",
       "2   None  None  None  None  None  \n",
       "3   None  None  None  None  None  \n",
       "4   None  None  None  None  None  \n",
       "..   ...   ...   ...   ...   ...  \n",
       "93  None  None  None  None  None  \n",
       "94  None  None  None  None  None  \n",
       "95  None  None  None  None  None  \n",
       "96  None  None  None  None  None  \n",
       "97  None  None  None  None  None  \n",
       "\n",
       "[98 rows x 32 columns]"
      ]
     },
     "execution_count": 10,
     "metadata": {},
     "output_type": "execute_result"
    }
   ],
   "source": [
    "df_by_sentence_cmpb = pd.DataFrame(by_sentence_cmpb)\n",
    "df_by_sentence_cmpb"
   ]
  },
  {
   "cell_type": "code",
   "execution_count": 2,
   "metadata": {
    "scrolled": true
   },
   "outputs": [
    {
     "ename": "NameError",
     "evalue": "name 'pd' is not defined",
     "output_type": "error",
     "traceback": [
      "\u001b[1;31m---------------------------------------------------------------------------\u001b[0m",
      "\u001b[1;31mNameError\u001b[0m                                 Traceback (most recent call last)",
      "\u001b[1;32m<ipython-input-2-10bf70ab5233>\u001b[0m in \u001b[0;36m<module>\u001b[1;34m\u001b[0m\n\u001b[1;32m----> 1\u001b[1;33m \u001b[0mtestdf\u001b[0m \u001b[1;33m=\u001b[0m \u001b[0mpd\u001b[0m\u001b[1;33m.\u001b[0m\u001b[0mDataFrame\u001b[0m\u001b[1;33m(\u001b[0m\u001b[0mtest\u001b[0m\u001b[1;33m,\u001b[0m \u001b[0mcolumns\u001b[0m \u001b[1;33m=\u001b[0m \u001b[1;33m[\u001b[0m\u001b[1;34m'content'\u001b[0m\u001b[1;33m]\u001b[0m\u001b[1;33m)\u001b[0m\u001b[1;33m\u001b[0m\u001b[1;33m\u001b[0m\u001b[0m\n\u001b[0m\u001b[0;32m      2\u001b[0m \u001b[0mtestdf\u001b[0m\u001b[1;33m\u001b[0m\u001b[1;33m\u001b[0m\u001b[0m\n",
      "\u001b[1;31mNameError\u001b[0m: name 'pd' is not defined"
     ]
    }
   ],
   "source": [
    "testdf = pd.DataFrame(test, columns = ['content'])\n",
    "testdf"
   ]
  },
  {
   "cell_type": "code",
   "execution_count": 1,
   "metadata": {},
   "outputs": [
    {
     "ename": "NameError",
     "evalue": "name 'testdf' is not defined",
     "output_type": "error",
     "traceback": [
      "\u001b[1;31m---------------------------------------------------------------------------\u001b[0m",
      "\u001b[1;31mNameError\u001b[0m                                 Traceback (most recent call last)",
      "\u001b[1;32m<ipython-input-1-56621ea71155>\u001b[0m in \u001b[0;36m<module>\u001b[1;34m\u001b[0m\n\u001b[0;32m      1\u001b[0m \u001b[0mtokenizer\u001b[0m \u001b[1;33m=\u001b[0m \u001b[0mdict\u001b[0m\u001b[1;33m(\u001b[0m\u001b[1;33m)\u001b[0m\u001b[1;33m\u001b[0m\u001b[1;33m\u001b[0m\u001b[0m\n\u001b[1;32m----> 2\u001b[1;33m testdf['content'] = testdf['content'].apply(\n\u001b[0m\u001b[0;32m      3\u001b[0m     lambda content: [tokenizer.setdefault(named_entitie, len(tokenizer))\n\u001b[0;32m      4\u001b[0m                             for named_entitie in content.split(' ')])\n\u001b[0;32m      5\u001b[0m \u001b[0mtestdf\u001b[0m\u001b[1;33m.\u001b[0m\u001b[0mhead\u001b[0m\u001b[1;33m(\u001b[0m\u001b[1;33m)\u001b[0m\u001b[1;33m\u001b[0m\u001b[1;33m\u001b[0m\u001b[0m\n",
      "\u001b[1;31mNameError\u001b[0m: name 'testdf' is not defined"
     ]
    }
   ],
   "source": [
    "tokenizer = dict()\n",
    "testdf['content'] = testdf['content'].apply(\n",
    "    lambda content: [tokenizer.setdefault(named_entitie, len(tokenizer))\n",
    "                            for named_entitie in content.split(' ')])\n",
    "testdf.head()"
   ]
  },
  {
   "cell_type": "code",
   "execution_count": null,
   "metadata": {
    "scrolled": true
   },
   "outputs": [],
   "source": [
    "pairs_df = testdf['content'].apply(lambda named_entities: list(itertools.combinations(named_entities, 2)))\n",
    "pairs_df = pairs_df[pairs_df.apply(len) > 0]\n",
    "pairs_df = pd.DataFrame(np.concatenate(pairs_df.values), columns=['named_entity_1', 'named_entity_2'])\n",
    "pairs_df.head()"
   ]
  },
  {
   "cell_type": "code",
   "execution_count": null,
   "metadata": {},
   "outputs": [],
   "source": [
    "NAMED_ENTITIES_CO_OCCURENCE_THRESHOLD = 5\n",
    "\n",
    "edges_df = pairs_df.groupby(['named_entity_1', 'named_entity_2']).size().reset_index(name='weight')\n",
    "edges_df = edges_df[edges_df['weight'] > NAMED_ENTITIES_CO_OCCURENCE_THRESHOLD]\n",
    "edges_df[['named_entity_1', 'named_entity_2', 'weight']].to_csv('edges.csv', header=False, index=False, sep=' ')\n",
    "edges_df.head()"
   ]
  },
  {
   "cell_type": "code",
   "execution_count": null,
   "metadata": {},
   "outputs": [],
   "source": [
    "nodes = pd.DataFrame(list(tokenizer.items()), columns = ['word','number'])\n",
    "nodes"
   ]
  },
  {
   "cell_type": "code",
   "execution_count": null,
   "metadata": {},
   "outputs": [],
   "source": [
    "edges_df.to_csv('edges.csv')\n",
    "nodes.to_csv('nodes.csv')"
   ]
  },
  {
   "cell_type": "code",
   "execution_count": null,
   "metadata": {},
   "outputs": [],
   "source": [
    "model = Word2Vec(min_count = 5, window = 5, hs = 0,\n",
    "                 negative = 20, # for negative sampling\n",
    "                 alpha=0.03, min_alpha=0.0007,\n",
    "                 seed = 14)"
   ]
  },
  {
   "cell_type": "code",
   "execution_count": null,
   "metadata": {},
   "outputs": [],
   "source": [
    "model.build_vocab(new_list, progress_per=500)"
   ]
  },
  {
   "cell_type": "code",
   "execution_count": null,
   "metadata": {},
   "outputs": [],
   "source": [
    "model.train(new_list, total_examples = model.corpus_count, \n",
    "            epochs=10, report_delay=1)"
   ]
  },
  {
   "cell_type": "code",
   "execution_count": null,
   "metadata": {},
   "outputs": [],
   "source": [
    "model.init_sims(replace=True)"
   ]
  },
  {
   "cell_type": "code",
   "execution_count": null,
   "metadata": {},
   "outputs": [],
   "source": [
    "print(model)"
   ]
  },
  {
   "cell_type": "code",
   "execution_count": null,
   "metadata": {},
   "outputs": [],
   "source": [
    "X = model[model.wv.vocab]\n",
    "\n",
    "X.shape"
   ]
  },
  {
   "cell_type": "code",
   "execution_count": null,
   "metadata": {},
   "outputs": [],
   "source": [
    "cluster_embedding = umap.UMAP(n_neighbors=30, min_dist=0.0,\n",
    "                              n_components=2, random_state=42).fit_transform(X)\n",
    "\n",
    "plt.figure(figsize=(10,9))\n",
    "plt.scatter(cluster_embedding[:, 0], cluster_embedding[:, 1], s=3, cmap='Spectral')"
   ]
  },
  {
   "cell_type": "code",
   "execution_count": null,
   "metadata": {
    "scrolled": true
   },
   "outputs": [],
   "source": [
    "model.most_similar(positive=[\"medical\"])"
   ]
  },
  {
   "cell_type": "code",
   "execution_count": null,
   "metadata": {},
   "outputs": [],
   "source": [
    "model.most_similar(positive=[\"staff\"])"
   ]
  },
  {
   "cell_type": "code",
   "execution_count": null,
   "metadata": {},
   "outputs": [],
   "source": [
    "model2 = Word2Vec(min_count = 5, window = 5, hs = 0,\n",
    "                 negative = 20, # for negative sampling\n",
    "                 alpha=0.03, min_alpha=0.0007,\n",
    "                 seed = 14)"
   ]
  },
  {
   "cell_type": "code",
   "execution_count": null,
   "metadata": {},
   "outputs": [],
   "source": [
    "df_new"
   ]
  },
  {
   "cell_type": "code",
   "execution_count": null,
   "metadata": {},
   "outputs": [],
   "source": [
    "test_df = pd.DataFrame(df_new, columns = ['content'])\n",
    "test_df"
   ]
  },
  {
   "cell_type": "code",
   "execution_count": null,
   "metadata": {},
   "outputs": [],
   "source": [
    "test_df['content'][0]"
   ]
  },
  {
   "cell_type": "code",
   "execution_count": null,
   "metadata": {},
   "outputs": [],
   "source": []
  }
 ],
 "metadata": {
  "kernelspec": {
   "display_name": "Python 3",
   "language": "python",
   "name": "python3"
  },
  "language_info": {
   "codemirror_mode": {
    "name": "ipython",
    "version": 3
   },
   "file_extension": ".py",
   "mimetype": "text/x-python",
   "name": "python",
   "nbconvert_exporter": "python",
   "pygments_lexer": "ipython3",
   "version": "3.8.8"
  }
 },
 "nbformat": 4,
 "nbformat_minor": 4
}
