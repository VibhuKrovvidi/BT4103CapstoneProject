{
 "cells": [
  {
   "cell_type": "code",
   "execution_count": 1,
   "metadata": {},
   "outputs": [],
   "source": [
    "import pandas as pd"
   ]
  },
  {
   "cell_type": "code",
   "execution_count": 9,
   "metadata": {},
   "outputs": [
    {
     "data": {
      "text/html": [
       "<div>\n",
       "<style scoped>\n",
       "    .dataframe tbody tr th:only-of-type {\n",
       "        vertical-align: middle;\n",
       "    }\n",
       "\n",
       "    .dataframe tbody tr th {\n",
       "        vertical-align: top;\n",
       "    }\n",
       "\n",
       "    .dataframe thead th {\n",
       "        text-align: right;\n",
       "    }\n",
       "</style>\n",
       "<table border=\"1\" class=\"dataframe\">\n",
       "  <thead>\n",
       "    <tr style=\"text-align: right;\">\n",
       "      <th></th>\n",
       "      <th>content</th>\n",
       "    </tr>\n",
       "  </thead>\n",
       "  <tbody>\n",
       "    <tr>\n",
       "      <th>0</th>\n",
       "      <td>Very Professional People down there. Recommend...</td>\n",
       "    </tr>\n",
       "    <tr>\n",
       "      <th>1</th>\n",
       "      <td>Unlike what the other reviews may suggest, peo...</td>\n",
       "    </tr>\n",
       "    <tr>\n",
       "      <th>2</th>\n",
       "      <td>The place overall is fine. Good experience. Ju...</td>\n",
       "    </tr>\n",
       "    <tr>\n",
       "      <th>3</th>\n",
       "      <td>I went there for my NS Checkup today 29 August...</td>\n",
       "    </tr>\n",
       "    <tr>\n",
       "      <th>4</th>\n",
       "      <td>Don't bother showing up at the timing assigned...</td>\n",
       "    </tr>\n",
       "    <tr>\n",
       "      <th>...</th>\n",
       "      <td>...</td>\n",
       "    </tr>\n",
       "    <tr>\n",
       "      <th>3581</th>\n",
       "      <td>Got memo from the hospital doc mostly just sta...</td>\n",
       "    </tr>\n",
       "    <tr>\n",
       "      <th>3582</th>\n",
       "      <td>what the MO did there is understandable if tha...</td>\n",
       "    </tr>\n",
       "    <tr>\n",
       "      <th>3583</th>\n",
       "      <td>I hope spf  mo is same as saf mo regarding saf...</td>\n",
       "    </tr>\n",
       "    <tr>\n",
       "      <th>3584</th>\n",
       "      <td>Elaborate pls. I don't even know what the vide...</td>\n",
       "    </tr>\n",
       "    <tr>\n",
       "      <th>3585</th>\n",
       "      <td>“We have a East Coast Singapore, we have a tog...</td>\n",
       "    </tr>\n",
       "  </tbody>\n",
       "</table>\n",
       "<p>3586 rows × 1 columns</p>\n",
       "</div>"
      ],
      "text/plain": [
       "                                                content\n",
       "0     Very Professional People down there. Recommend...\n",
       "1     Unlike what the other reviews may suggest, peo...\n",
       "2     The place overall is fine. Good experience. Ju...\n",
       "3     I went there for my NS Checkup today 29 August...\n",
       "4     Don't bother showing up at the timing assigned...\n",
       "...                                                 ...\n",
       "3581  Got memo from the hospital doc mostly just sta...\n",
       "3582  what the MO did there is understandable if tha...\n",
       "3583  I hope spf  mo is same as saf mo regarding saf...\n",
       "3584  Elaborate pls. I don't even know what the vide...\n",
       "3585  “We have a East Coast Singapore, we have a tog...\n",
       "\n",
       "[3586 rows x 1 columns]"
      ]
     },
     "execution_count": 9,
     "metadata": {},
     "output_type": "execute_result"
    }
   ],
   "source": [
    "# read scraped data\n",
    "greviews = pd.read_csv('../ScrapedOutput/all-camps-google-reviews.csv')['Content'].reset_index().rename(columns = {'Content': 'content'})\n",
    "hwz = pd.read_csv('../ScrapedOutput/hwz_merged_output.csv')['post'].reset_index().rename(columns = {'post': 'content'})\n",
    "reddit = pd.read_csv('../ScrapedOutput/nationalservicesg_combineddata.csv')['content'].reset_index()\n",
    "\n",
    "# combine\n",
    "corpus = greviews.append([hwz, reddit], ignore_index = True).filter(items = ['content'])\n",
    "corpus"
   ]
  },
  {
   "cell_type": "code",
   "execution_count": 10,
   "metadata": {},
   "outputs": [],
   "source": [
    "corpus.to_csv('../ScrapedOutput/corpus.csv', index=False)"
   ]
  }
 ],
 "metadata": {
  "kernelspec": {
   "display_name": "Python 3",
   "language": "python",
   "name": "python3"
  },
  "language_info": {
   "codemirror_mode": {
    "name": "ipython",
    "version": 3
   },
   "file_extension": ".py",
   "mimetype": "text/x-python",
   "name": "python",
   "nbconvert_exporter": "python",
   "pygments_lexer": "ipython3",
   "version": "3.7.9"
  }
 },
 "nbformat": 4,
 "nbformat_minor": 4
}
